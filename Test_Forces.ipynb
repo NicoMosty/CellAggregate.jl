{
 "cells": [
  {
   "cell_type": "code",
   "execution_count": 7,
   "metadata": {},
   "outputs": [],
   "source": [
    "using NearestNeighbors: KDTree, knn\n",
    "using LinearAlgebra: norm\n"
   ]
  },
  {
   "cell_type": "code",
   "execution_count": 17,
   "metadata": {},
   "outputs": [
    {
     "data": {
      "text/plain": [
       "(0, 10)"
      ]
     },
     "metadata": {},
     "output_type": "display_data"
    }
   ],
   "source": [
    "R_Agg = 3\n",
    "\n",
    "X = [-3.59 -0.58 -2.45 2.567 1\n",
    "-1.59 -0.58 -2.45 2.931 1\n",
    "-2.59 1.15 -2.45 2.752 1\n",
    "-4.59 -1.15 -0.82 2.06 1\n",
    "-2.59 -1.15 -0.82 1.498 1\n",
    "-0.59 -1.15 -0.82 2.871 1\n",
    "-5.59 0.58 -0.82 2.694 1\n",
    "-3.59 0.58 -0.82 1.122 1\n",
    "-1.59 0.58 -0.82 1.805 1\n",
    "-4.59 2.31 -0.82 2.874 1\n",
    "-2.59 2.31 -0.82 2.502 1\n",
    "-4.59 -2.31 0.82 2.874 1\n",
    "-2.59 -2.31 0.82 2.502 1\n",
    "-5.59 -0.58 0.82 2.694 1\n",
    "-3.59 -0.58 0.82 1.122 1\n",
    "-1.59 -0.58 0.82 1.805 1\n",
    "-4.59 1.15 0.82 2.06 1\n",
    "-2.59 1.15 0.82 1.498 1\n",
    "-0.59 1.15 0.82 2.871 1\n",
    "-2.59 -1.15 2.45 2.752 1\n",
    "-3.59 0.58 2.45 2.567 1\n",
    "-1.59 0.58 2.45 2.931 1\n",
    "2.59 -0.58 -2.45 2.567 1\n",
    "4.59 -0.58 -2.45 2.931 1\n",
    "3.59 1.15 -2.45 2.752 1\n",
    "1.59 -1.15 -0.82 2.06 1\n",
    "3.59 -1.15 -0.82 1.498 1\n",
    "5.59 -1.15 -0.82 2.871 1\n",
    "0.59 0.58 -0.82 2.694 1\n",
    "2.59 0.58 -0.82 1.122 1\n",
    "4.59 0.58 -0.82 1.805 1\n",
    "1.59 2.31 -0.82 2.874 1\n",
    "3.59 2.31 -0.82 2.502 1\n",
    "1.59 -2.31 0.82 2.874 1\n",
    "3.59 -2.31 0.82 2.502 1\n",
    "0.59 -0.58 0.82 2.694 1\n",
    "2.59 -0.58 0.82 1.122 1\n",
    "4.59 -0.58 0.82 1.805 1\n",
    "1.59 1.15 0.82 2.06 1\n",
    "3.59 1.15 0.82 1.498 1\n",
    "5.59 1.15 0.82 2.871 1\n",
    "3.59 -1.15 2.45 2.752 1\n",
    "2.59 0.58 2.45 2.567 1\n",
    "4.59 0.58 2.45 2.931 1]\n",
    "\n",
    "r_max, s = 2, 1\n",
    "K = 10\n",
    "t, t_knn = 0, 10"
   ]
  },
  {
   "cell_type": "code",
   "execution_count": 20,
   "metadata": {},
   "outputs": [
    {
     "data": {
      "text/plain": [
       "force (generic function with 1 method)"
      ]
     },
     "metadata": {},
     "output_type": "display_data"
    }
   ],
   "source": [
    "function NearNeighbor(X, t, t_knn)\n",
    "    # Using kNN for Nearest Neighbors\n",
    "    if t%t_knn | t == 0\n",
    "        global kdtree = KDTree(X[:,1:3]')\n",
    "    end \n",
    "    return kdtree\n",
    "end\n",
    "\n",
    "function force(X, r_max, s, K, kdtree)\n",
    "    # Initialise displacement array\n",
    "    global dX = zeros(Float64, size(X)[1], 3)\n",
    "\n",
    "    # Loop over all cells to compute displacements\n",
    "    for i in 1:size(X)[1]\n",
    "        # Scan neighbours\n",
    "        global idxs, _ = knn(kdtree, X[i,1:3], 14, true)\n",
    "\n",
    "        # Initialise variables\n",
    "        global Xi = X[i,1:3]\n",
    "        for j in idxs\n",
    "            if i != j\n",
    "                global r = Xi - X[j,1:3]\n",
    "                global dist = norm(r)\n",
    "                # Calculate attraction/repulsion force differential here\n",
    "                if dist < r_max\n",
    "                    global F = - K*(dist-r_max)*(dist-r_max)*(dist - s)\n",
    "                    dX[i,:] +=  r/dist * F\n",
    "                end\n",
    "            end\n",
    "        end\n",
    "    end\n",
    "    return dX\n",
    "end"
   ]
  },
  {
   "cell_type": "code",
   "execution_count": 33,
   "metadata": {},
   "outputs": [
    {
     "name": "stdout",
     "output_type": "stream",
     "text": [
      "  0.000376 seconds (27 allocations: 5.812 KiB)\n"
     ]
    },
    {
     "data": {
      "text/plain": [
       "KDTree{StaticArrays.SArray{Tuple{3},Float64,1,3},Distances.Euclidean,Float64}\n",
       "  Number of points: 44\n",
       "  Dimensions: 3\n",
       "  Metric: Distances.Euclidean(0.0)\n",
       "  Reordered: true"
      ]
     },
     "metadata": {},
     "output_type": "display_data"
    }
   ],
   "source": [
    "@time kd = NearNeighbor(X, t, t_knn)"
   ]
  },
  {
   "cell_type": "code",
   "execution_count": 38,
   "metadata": {},
   "outputs": [
    {
     "name": "stdout",
     "output_type": "stream",
     "text": [
      "  0.000928 seconds (7.19 k allocations: 346.516 KiB)\n"
     ]
    },
    {
     "data": {
      "text/plain": [
       "44×3 Array{Float64,2}:\n",
       "  1.57531e-5   -9.07506e-5    0.000337449\n",
       " -1.57531e-5   -9.07506e-5    0.000337449\n",
       " -1.69407e-20  -0.000172509   0.000337449\n",
       "  0.000103512   0.000113507  -0.000168724\n",
       " -1.69407e-20   0.000172509  -0.000337449\n",
       " -0.000119265   8.62546e-5   -0.000168724\n",
       "  3.15062e-5    0.0           0.0\n",
       "  0.000103512   5.90017e-5   -0.000168724\n",
       " -0.000119265   3.17489e-5   -0.000168724\n",
       "  0.0          -5.45058e-5    0.0\n",
       "  ⋮                          \n",
       "  3.15062e-5    0.0           0.0\n",
       "  0.000103512  -5.90017e-5    0.000168724\n",
       " -0.000119265  -3.17489e-5    0.000168724\n",
       "  0.000103512  -0.000113507   0.000168724\n",
       " -4.93038e-31  -0.000172509   0.000337449\n",
       " -0.000119265  -8.62546e-5    0.000168724\n",
       "  0.0           0.000172509  -0.000337449\n",
       "  1.57531e-5    9.07506e-5   -0.000337449\n",
       " -1.57531e-5    9.07506e-5   -0.000337449"
      ]
     },
     "metadata": {},
     "output_type": "display_data"
    }
   ],
   "source": [
    "@time F = force(X, r_max, s, K, kd)"
   ]
  }
 ],
 "metadata": {
  "kernelspec": {
   "display_name": "Julia 1.4.1",
   "language": "julia",
   "name": "julia-1.4"
  },
  "language_info": {
   "file_extension": ".jl",
   "mimetype": "application/julia",
   "name": "julia",
   "version": "1.4.1"
  },
  "orig_nbformat": 4,
  "vscode": {
   "interpreter": {
    "hash": "916dbcbb3f70747c44a77c7bcd40155683ae19c65e1c03b4aa3499c5328201f1"
   }
  }
 },
 "nbformat": 4,
 "nbformat_minor": 2
}
