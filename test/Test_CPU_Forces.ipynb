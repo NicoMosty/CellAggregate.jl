{
 "cells": [
  {
   "cell_type": "markdown",
   "metadata": {},
   "source": [
    "# Installing Dependencies"
   ]
  },
  {
   "cell_type": "code",
   "execution_count": 1,
   "metadata": {},
   "outputs": [],
   "source": [
    "using DelimitedFiles\n",
    "using NearestNeighbors: KDTree, knn\n",
    "using LinearAlgebra: norm"
   ]
  },
  {
   "cell_type": "markdown",
   "metadata": {},
   "source": [
    "## Using General Arrays"
   ]
  },
  {
   "cell_type": "code",
   "execution_count": 2,
   "metadata": {},
   "outputs": [
    {
     "data": {
      "text/plain": [
       "force (generic function with 1 method)"
      ]
     },
     "metadata": {},
     "output_type": "display_data"
    }
   ],
   "source": [
    "function NearNeighbor(X, t, t_knn)\n",
    "    # Using kNN for Nearest Neighbors\n",
    "    if t%t_knn | t == 0\n",
    "        global kdtree = KDTree(X[:,1:3]')\n",
    "    end \n",
    "    return kdtree\n",
    "end\n",
    "\n",
    "function force(X, r_max, s, K, kdtree)\n",
    "    # Initialise displacement array\n",
    "    global dX = zeros(Float64, size(X)[1], 3)\n",
    "\n",
    "    # Loop over all cells to compute displacements\n",
    "    for i in 1:size(X)[1]\n",
    "        # Scan neighbours\n",
    "        global idxs, _ = knn(kdtree, X[i,1:3], 14, true)\n",
    "\n",
    "        # Initialise variables\n",
    "        global Xi = X[i,1:3]\n",
    "        for j in 1:size(X)[1]\n",
    "            if i != j\n",
    "                global r = Xi - X[j,1:3]\n",
    "                global dist = norm(r)\n",
    "                # Calculate attraction/repulsion force differential here\n",
    "                if dist < r_max\n",
    "                    global F = - K*(dist-r_max)*(dist-r_max)*(dist - s)\n",
    "                    dX[i,:] +=  r/dist * F\n",
    "                end\n",
    "            end\n",
    "        end\n",
    "    end\n",
    "    return dX\n",
    "end"
   ]
  },
  {
   "cell_type": "code",
   "execution_count": 3,
   "metadata": {},
   "outputs": [],
   "source": [
    "R_Agg = 16\n",
    "\n",
    "X = readdlm(\"../data/Init/Two_Sphere/$R_Agg.csv\", ',', Float64, header=true)[1][:, 1:3]\n",
    "r_max, s = 2, 1\n",
    "K = 10\n",
    "t, t_knn = 0, 10\n",
    "dt = 0.5;"
   ]
  },
  {
   "cell_type": "code",
   "execution_count": 5,
   "metadata": {},
   "outputs": [
    {
     "name": "stdout",
     "output_type": "stream",
     "text": [
      "  0.000929 seconds (33 allocations: 541.422 KiB)\n"
     ]
    },
    {
     "data": {
      "text/plain": [
       "KDTree{StaticArraysCore.SVector{3, Float64}, Distances.Euclidean, Float64}\n",
       "  Number of points: 6064\n",
       "  Dimensions: 3\n",
       "  Metric: Distances.Euclidean(0.0)\n",
       "  Reordered: true"
      ]
     },
     "metadata": {},
     "output_type": "display_data"
    }
   ],
   "source": [
    "@time kdtree = KDTree(X[:,1:3]')"
   ]
  },
  {
   "cell_type": "code",
   "execution_count": 7,
   "metadata": {},
   "outputs": [
    {
     "name": "stdout",
     "output_type": "stream",
     "text": [
      "  0.000982 seconds (30 allocations: 541.344 KiB)\n"
     ]
    },
    {
     "data": {
      "text/plain": [
       "KDTree{StaticArraysCore.SVector{3, Float64}, Distances.Euclidean, Float64}\n",
       "  Number of points: 6064\n",
       "  Dimensions: 3\n",
       "  Metric: Distances.Euclidean(0.0)\n",
       "  Reordered: true"
      ]
     },
     "metadata": {},
     "output_type": "display_data"
    }
   ],
   "source": [
    "@time kd = NearNeighbor(X, t, t_knn)"
   ]
  },
  {
   "cell_type": "code",
   "execution_count": null,
   "metadata": {},
   "outputs": [],
   "source": [
    "@time F = force(X, r_max, s, K, kd)"
   ]
  },
  {
   "cell_type": "markdown",
   "metadata": {},
   "source": [
    "## Using kNN"
   ]
  },
  {
   "cell_type": "code",
   "execution_count": 8,
   "metadata": {},
   "outputs": [
    {
     "data": {
      "text/plain": [
       "0.5"
      ]
     },
     "metadata": {},
     "output_type": "display_data"
    }
   ],
   "source": [
    "function NearNeighbor(X, t, t_knn)\n",
    "    # Using kNN for Nearest Neighbors\n",
    "    if t%t_knn | t == 0\n",
    "        global kdtree = KDTree(X[:,1:3]')\n",
    "    end \n",
    "    return kdtree\n",
    "end\n",
    "\n",
    "function force(X, r_max, s, K, kdtree)\n",
    "    # Initialise displacement array\n",
    "    global dX = zeros(Float64, size(X)[1], 3)\n",
    "\n",
    "    # Loop over all cells to compute displacements\n",
    "    for i in 1:size(X)[1]\n",
    "        # Scan neighbours\n",
    "        global idxs, _ = knn(kdtree, X[i,1:3], 14, true)\n",
    "\n",
    "        # Initialise variables\n",
    "        global Xi = X[i,1:3]\n",
    "        for j in idxs\n",
    "            if i != j\n",
    "                global r = Xi - X[j,1:3]\n",
    "                global dist = norm(r)\n",
    "                # Calculate attraction/repulsion force differential here\n",
    "                if dist < r_max\n",
    "                    global F = - K*(dist-r_max)*(dist-r_max)*(dist - s)\n",
    "                    dX[i,:] +=  r/dist * F\n",
    "                end\n",
    "            end\n",
    "        end\n",
    "    end\n",
    "    return dX\n",
    "end\n",
    "\n",
    "R_Agg = 16\n",
    "\n",
    "X = readdlm(\"../data/Init/Two_Sphere/$R_Agg.csv\", ',', Float64, header=true)[1][:, 1:3]\n",
    "r_max, s = 2, 1\n",
    "K = 10\n",
    "t, t_knn = 0, 10\n",
    "dt = 0.5"
   ]
  },
  {
   "cell_type": "code",
   "execution_count": 24,
   "metadata": {},
   "outputs": [
    {
     "name": "stdout",
     "output_type": "stream",
     "text": [
      "  0.007504 seconds (14.25 k allocations: 1.328 MiB, 87.79% compilation time)\n"
     ]
    },
    {
     "data": {
      "text/plain": [
       "KDTree{StaticArraysCore.SVector{3, Float64}, Distances.Euclidean, Float64}\n",
       "  Number of points: 6064\n",
       "  Dimensions: 3\n",
       "  Metric: Distances.Euclidean(0.0)\n",
       "  Reordered: true"
      ]
     },
     "metadata": {},
     "output_type": "display_data"
    }
   ],
   "source": [
    "@time kd = NearNeighbor(X, t, t_knn)"
   ]
  },
  {
   "cell_type": "code",
   "execution_count": null,
   "metadata": {},
   "outputs": [],
   "source": []
  },
  {
   "cell_type": "code",
   "execution_count": 28,
   "metadata": {},
   "outputs": [
    {
     "name": "stdout",
     "output_type": "stream",
     "text": [
      "  0.056425 seconds (1.53 M allocations: 50.659 MiB, 5.72% gc time)\n"
     ]
    },
    {
     "data": {
      "text/plain": [
       "6064×3 Matrix{Float64}:\n",
       "  0.0         -0.00013623    0.000261888\n",
       "  0.0         -0.00013623    0.000261888\n",
       "  0.0         -0.00013623    0.000261888\n",
       "  0.0          0.000172509   0.000337449\n",
       "  0.0          0.000172509   0.000337449\n",
       "  0.0          0.000172509   0.000337449\n",
       " -1.57531e-5   0.000145256   0.000337449\n",
       "  3.15062e-5   0.000118003   0.000337449\n",
       "  0.0          0.000118003   0.000337449\n",
       "  0.0          0.000118003   0.000337449\n",
       "  ⋮                         \n",
       "  0.0         -0.000118003  -0.000337449\n",
       " -1.57531e-5  -9.07506e-5   -0.000337449\n",
       "  0.0         -0.000172509  -0.000337449\n",
       "  0.0         -0.000172509  -0.000337449\n",
       "  0.0         -0.000172509  -0.000337449\n",
       " -1.57531e-5  -0.000145256  -0.000337449\n",
       "  0.0          0.00013623   -0.000261888\n",
       "  0.0          0.00013623   -0.000261888\n",
       "  0.0          0.00013623   -0.000261888"
      ]
     },
     "metadata": {},
     "output_type": "display_data"
    }
   ],
   "source": [
    "@time F = force(X, r_max, s, K, kd)"
   ]
  }
 ],
 "metadata": {
  "kernelspec": {
   "display_name": "Julia 1.7.3",
   "language": "julia",
   "name": "julia-1.7"
  },
  "language_info": {
   "file_extension": ".jl",
   "mimetype": "application/julia",
   "name": "julia",
   "version": "1.7.3"
  },
  "orig_nbformat": 4,
  "vscode": {
   "interpreter": {
    "hash": "916dbcbb3f70747c44a77c7bcd40155683ae19c65e1c03b4aa3499c5328201f1"
   }
  }
 },
 "nbformat": 4,
 "nbformat_minor": 2
}
