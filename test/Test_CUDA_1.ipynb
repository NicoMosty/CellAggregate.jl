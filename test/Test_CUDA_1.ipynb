{
 "cells": [
  {
   "cell_type": "markdown",
   "metadata": {},
   "source": [
    "# Installing Dependencies"
   ]
  },
  {
   "cell_type": "code",
   "execution_count": 21,
   "metadata": {},
   "outputs": [],
   "source": [
    "using DelimitedFiles\n",
    "using CUDA"
   ]
  },
  {
   "cell_type": "markdown",
   "metadata": {},
   "source": [
    "# Initial Conditions"
   ]
  },
  {
   "cell_type": "markdown",
   "metadata": {},
   "source": [
    "## Initial Variables"
   ]
  },
  {
   "cell_type": "code",
   "execution_count": 22,
   "metadata": {},
   "outputs": [
    {
     "data": {
      "text/plain": [
       "init (generic function with 1 method)"
      ]
     },
     "metadata": {},
     "output_type": "display_data"
    }
   ],
   "source": [
    "# Physical Conditions\n",
    "const R_Agg = 13\n",
    "const t_f = 100\n",
    "\n",
    "# Time model Conditions\n",
    "const dt = 0.5\n",
    "const n_knn = 10\n",
    "\n",
    "# Constants for Force Model\n",
    "const r_max, s = 3, 1\n",
    "const K = 1\n",
    "\n",
    "function init()\n",
    "    # Initial Coordinates of Aggregates\n",
    "    CUDA.@time global X = readdlm(\"../data/Init/Two_Sphere/$R_Agg.csv\", ',', Float32, header=true)[1][:, 1:3] |> cu\n",
    "\n",
    "\n",
    "    # Inizializate Variables for kNN\n",
    "    println(\"Inizializate Variables for kNN\")\n",
    "    CUDA.@time global i_Cell = CuArray{Float32}(undef, (size(X, 1), size(X, 1), 3))\n",
    "    CUDA.@time global Dist = CuArray{Float32}(undef, (size(X, 1), size(X, 1)))\n",
    "    CUDA.@time global idx = hcat([[CartesianIndex(i,1) for i=1:14] for j=1:size(X,1)]...) |> cu\n",
    "\n",
    "    # Inizializate Variables for Forces\n",
    "    println(\"Inizializate Variables for Forces\")\n",
    "    CUDA.@time global r = zeros(14,size(X)[1],3) |> cu\n",
    "    CUDA.@time global dist = zeros(14, size(X)[1]) |> cu\n",
    "    CUDA.@time global F = zeros(14, size(X)[1],3) |> cu\n",
    "    CUDA.@time global dX = zeros(size(X)[1],3) |> cu;\n",
    "end"
   ]
  },
  {
   "cell_type": "markdown",
   "metadata": {},
   "source": [
    "## Function for knn in CUDA"
   ]
  },
  {
   "cell_type": "code",
   "execution_count": 23,
   "metadata": {},
   "outputs": [
    {
     "data": {
      "text/plain": [
       "knn_cu (generic function with 1 method)"
      ]
     },
     "metadata": {},
     "output_type": "display_data"
    }
   ],
   "source": [
    "function knn_cu()\n",
    "    # Definig Variables for calculing knn\n",
    "    global i_Cell; global Dist; global idx\n",
    "    \n",
    "    # Defining Coordinates of each cell on the aggregates\n",
    "    println(\"Defining Coordinates of each cell on the aggregates\")\n",
    "    CUDA.@time i_Cell = reshape(repeat(X, size(X ,1)), size(X ,1), size(X ,1), 3) - reshape(repeat(X, inner=(size(X ,1),1)), size(X ,1), size(X ,1), 3)\n",
    "\n",
    "    # Calculating Norm on every cell on the aggregate\n",
    "    println(\"Calculating distances on every cell on the aggregate\")\n",
    "    CUDA.@time Dist = sqrt.(i_Cell[:,:,1] .^ 2 + i_Cell[:,:,2] .^ 2 + i_Cell[:,:,3] .^ 2)\n",
    "    i_Cell = nothing; GC.gc(true)\n",
    "\n",
    "    # Calculating index of knof each cell in the aggregate\n",
    "    println(\"Calculating index of knn on each cell in the aggregate\")\n",
    "    CUDA.@time for i = 1:14\n",
    "        idx[i,:] = findmin(Dist; dims=1)[2]\n",
    "        Dist[idx[i,:]] .= Inf\n",
    "    end\n",
    "    Dist = nothing; GC.gc(true)\n",
    "\n",
    "    synchronize()\n",
    "end"
   ]
  },
  {
   "cell_type": "markdown",
   "metadata": {},
   "source": [
    "## Function for forces in CUDA"
   ]
  },
  {
   "cell_type": "code",
   "execution_count": 24,
   "metadata": {},
   "outputs": [
    {
     "data": {
      "text/plain": [
       "forces (generic function with 1 method)"
      ]
     },
     "metadata": {},
     "output_type": "display_data"
    }
   ],
   "source": [
    "function forces()\n",
    "\n",
    "    # Definig Variables for calculing dX\n",
    "    global X; global dX; global idx\n",
    "\n",
    "    # Finding Distances\n",
    "    println(\"Finding Distances\")\n",
    "    CUDA.@time r = reshape(repeat(X, inner=(14,1)), 14, size(X)[1], 3) - X[getindex.(idx,1),:]\n",
    "\n",
    "    # Finding Distances/Norm\n",
    "    println(\"Finding Distances/Norm\")\n",
    "    CUDA.@time dist = (r[:,:,1] .^ 2 + r[:,:,2] .^ 2 + r[:,:,3] .^ 2) .^ (0.5)\n",
    "    CUDA.@time dist = reshape(repeat((dist), outer=(1,3)) ,14 ,size(X)[1], 3)\n",
    "    \n",
    "    # Normalizationg Distances\n",
    "    println(\"Normalizationg Distances\")\n",
    "    CUDA.@time r = r ./ dist\n",
    "\n",
    "    # dX[i,:] +=  r/dist * F\n",
    "    println(\"Calculationg Forces\")\n",
    "    CUDA.@time F = -K.*((dist .- r_max).^2) .* (dist .- s) .* r\n",
    "\n",
    "    # Deleting Forces greater than R_Max\n",
    "    println(\"Deleting Forces greater than R_Max\")\n",
    "    CUDA.@time F[dist .>  r_max] .= 0\n",
    "\n",
    "    # Calculating de dX\n",
    "    println(\"Calculating dX\")\n",
    "    CUDA.@time dX[:,1] = sum(F[:,:,1][2:end,:]; dims=1)\n",
    "    CUDA.@time dX[:,2] = sum(F[:,:,2][2:end,:]; dims=1)\n",
    "    CUDA.@time dX[:,3] = sum(F[:,:,3][2:end,:]; dims=1)\n",
    "\n",
    "    synchronize()\n",
    "end"
   ]
  },
  {
   "cell_type": "markdown",
   "metadata": {},
   "source": [
    "# Starting Functions"
   ]
  },
  {
   "cell_type": "code",
   "execution_count": 25,
   "metadata": {},
   "outputs": [
    {
     "name": "stdout",
     "output_type": "stream",
     "text": [
      "  0.007534 seconds (295.47 k CPU allocations: 7.882 MiB) (1 GPU allocation: 37.969 KiB, 0.17% memmgmt time)\n",
      "Inizializate Variables for kNN\n",
      "  0.000009 seconds (8 CPU allocations: 256 bytes) (1 GPU allocation: 120.135 MiB, 53.67% memmgmt time)\n",
      "  0.000004 seconds (8 CPU allocations: 240 bytes) (1 GPU allocation: 40.045 MiB, 54.55% memmgmt time)\n",
      "  0.030330 seconds (115.17 k CPU allocations: 7.998 MiB) (1 GPU allocation: 708.750 KiB, 0.04% memmgmt time)\n",
      "Inizializate Variables for Forces\n",
      "  0.000223 seconds (13 CPU allocations: 1.558 MiB) (1 GPU allocation: 531.562 KiB, 1.86% memmgmt time)\n",
      "  0.000078 seconds (13 CPU allocations: 531.953 KiB) (1 GPU allocation: 177.188 KiB, 4.07% memmgmt time)\n",
      "  0.000265 seconds (13 CPU allocations: 1.558 MiB) (1 GPU allocation: 531.562 KiB, 0.78% memmgmt time)\n",
      "  0.000027 seconds (13 CPU allocations: 114.328 KiB) (1 GPU allocation: 37.969 KiB, 6.99% memmgmt time)\n"
     ]
    },
    {
     "data": {
      "text/plain": [
       "3240×3 CuArray{Float32, 2, CUDA.Mem.DeviceBuffer}:\n",
       " 0.0  0.0  0.0\n",
       " 0.0  0.0  0.0\n",
       " 0.0  0.0  0.0\n",
       " 0.0  0.0  0.0\n",
       " 0.0  0.0  0.0\n",
       " 0.0  0.0  0.0\n",
       " 0.0  0.0  0.0\n",
       " 0.0  0.0  0.0\n",
       " 0.0  0.0  0.0\n",
       " 0.0  0.0  0.0\n",
       " ⋮         \n",
       " 0.0  0.0  0.0\n",
       " 0.0  0.0  0.0\n",
       " 0.0  0.0  0.0\n",
       " 0.0  0.0  0.0\n",
       " 0.0  0.0  0.0\n",
       " 0.0  0.0  0.0\n",
       " 0.0  0.0  0.0\n",
       " 0.0  0.0  0.0\n",
       " 0.0  0.0  0.0"
      ]
     },
     "metadata": {},
     "output_type": "display_data"
    }
   ],
   "source": [
    "init()"
   ]
  },
  {
   "cell_type": "code",
   "execution_count": 26,
   "metadata": {},
   "outputs": [
    {
     "name": "stdout",
     "output_type": "stream",
     "text": [
      "Defining Coordinates of each cell on the aggregates\n",
      "  0.003547 seconds (109 CPU allocations: 5.531 KiB) (3 GPU allocations: 360.406 MiB, 0.85% memmgmt time)\n",
      "Calculating distances on every cell on the aggregate\n",
      "  0.003161 seconds (226 CPU allocations: 10.422 KiB) (9 GPU allocations: 360.406 MiB, 14.72% memmgmt time)\n",
      "Calculating index of knn on each cell in the aggregate"
     ]
    },
    {
     "name": "stdout",
     "output_type": "stream",
     "text": [
      "\n",
      "  0.009516 seconds (2.35 k CPU allocations: 821.562 KiB) (56 GPU allocations: 2.596 MiB, 1.19% memmgmt time)\n"
     ]
    }
   ],
   "source": [
    "knn_cu()"
   ]
  },
  {
   "cell_type": "code",
   "execution_count": 27,
   "metadata": {},
   "outputs": [
    {
     "name": "stdout",
     "output_type": "stream",
     "text": [
      "Finding Distances\n",
      "  0.000170 seconds (72 CPU allocations: 3.234 KiB) (4 GPU allocations: 1.903 MiB, 13.18% memmgmt time)\n",
      "Finding Distances/Norm\n",
      "  0.000181 seconds (177 CPU allocations: 7.484 KiB) (9 GPU allocations: 1.730 MiB, 5.20% memmgmt time)\n",
      "  0.000022 seconds (20 CPU allocations: 896 bytes) (1 GPU allocation: 1.038 MiB, 7.07% memmgmt time)\n",
      "Normalizationg Distances\n",
      "  0.000065 seconds (18 CPU allocations: 832 bytes) (1 GPU allocation: 1.038 MiB, 3.19% memmgmt time)\n",
      "Calculationg Forces\n",
      "  0.000091 seconds (92 CPU allocations: 9.453 KiB) (1 GPU allocation: 1.038 MiB, 2.84% memmgmt time)\n",
      "Deleting Forces greater than R_Max\n",
      "  0.000579 seconds (269 CPU allocations: 151.734 KiB) (4 GPU allocations: 1.305 MiB, 2.07% memmgmt time)\n",
      "Calculating dX\n",
      "  0.000074 seconds (73 CPU allocations: 3.188 KiB) (3 GPU allocations: 708.750 KiB, 5.68% memmgmt time)\n",
      "  0.000046 seconds (73 CPU allocations: 3.188 KiB) (3 GPU allocations: 708.750 KiB, 6.25% memmgmt time)\n",
      "  0.000044 seconds (73 CPU allocations: 3.188 KiB) (3 GPU allocations: 708.750 KiB, 6.57% memmgmt time)\n"
     ]
    }
   ],
   "source": [
    "forces()"
   ]
  },
  {
   "cell_type": "code",
   "execution_count": 31,
   "metadata": {},
   "outputs": [
    {
     "name": "stdout",
     "output_type": "stream",
     "text": [
      "kNN\n",
      "0.0\n",
      "0.5\n",
      "1.0\n",
      "1.5\n",
      "2.0\n",
      "2.5\n",
      "3.0\n",
      "3.5\n",
      "4.0\n",
      "4.5\n",
      "kNN\n",
      "5.0\n",
      "5.5\n",
      "6.0\n",
      "6.5\n",
      "7.0\n",
      "7.5\n",
      "8.0\n",
      "8.5\n",
      "9.0\n",
      "9.5\n",
      "kNN\n",
      "10.0\n",
      "10.5\n",
      "11.0\n",
      "11.5\n",
      "12.0\n",
      "12.5\n",
      "13.0\n",
      "13.5\n",
      "14.0\n",
      "14.5\n",
      "kNN\n",
      "15.0\n",
      "15.5\n",
      "16.0\n",
      "16.5\n",
      "17.0\n",
      "17.5\n",
      "18.0\n",
      "18.5\n",
      "19.0\n",
      "19.5\n",
      "kNN\n",
      "20.0\n",
      "20.5\n",
      "21.0\n",
      "21.5\n",
      "22.0\n",
      "22.5\n",
      "23.0\n",
      "23.5\n",
      "24.0\n",
      "24.5\n",
      "kNN\n",
      "25.0\n",
      "25.5\n",
      "26.0\n",
      "26.5\n",
      "27.0\n",
      "27.5\n",
      "28.0\n",
      "28.5\n",
      "29.0\n",
      "29.5\n",
      "kNN\n",
      "30.0\n",
      "30.5\n",
      "31.0\n",
      "31.5\n",
      "32.0\n",
      "32.5\n",
      "33.0\n",
      "33.5\n",
      "34.0\n",
      "34.5\n",
      "kNN\n",
      "35.0\n",
      "35.5\n",
      "36.0\n",
      "36.5\n",
      "37.0\n",
      "37.5\n",
      "38.0\n",
      "38.5\n",
      "39.0\n",
      "39.5\n",
      "kNN\n",
      "40.0\n",
      "40.5\n",
      "41.0\n",
      "41.5\n",
      "42.0\n",
      "42.5\n",
      "43.0\n",
      "43.5\n",
      "44.0\n",
      "44.5\n",
      "kNN\n",
      "45.0\n",
      "45.5\n",
      "46.0\n",
      "46.5\n",
      "47.0\n",
      "47.5\n",
      "48.0\n",
      "48.5\n",
      "49.0\n",
      "49.5\n",
      "kNN\n",
      "50.0\n",
      "50.5\n",
      "51.0\n",
      "51.5\n",
      "52.0\n",
      "52.5\n",
      "53.0\n",
      "53.5\n",
      "54.0\n",
      "54.5\n",
      "kNN\n",
      "55.0\n",
      "55.5\n",
      "56.0\n",
      "56.5\n",
      "57.0\n",
      "57.5\n",
      "58.0\n",
      "58.5\n",
      "59.0\n",
      "59.5\n",
      "kNN\n",
      "60.0\n",
      "60.5\n",
      "61.0\n",
      "61.5\n",
      "62.0\n",
      "62.5\n",
      "63.0\n",
      "63.5\n",
      "64.0\n",
      "64.5\n",
      "kNN\n",
      "65.0\n",
      "65.5\n",
      "66.0\n",
      "66.5\n",
      "67.0\n",
      "67.5\n",
      "68.0\n",
      "68.5\n",
      "69.0\n",
      "69.5\n",
      "kNN\n",
      "70.0\n",
      "70.5\n",
      "71.0\n",
      "71.5\n",
      "72.0\n",
      "72.5\n",
      "73.0\n",
      "73.5\n",
      "74.0\n",
      "74.5\n",
      "kNN\n",
      "75.0\n",
      "75.5\n",
      "76.0\n",
      "76.5\n",
      "77.0\n",
      "77.5\n",
      "78.0\n",
      "78.5\n",
      "79.0\n",
      "79.5\n",
      "kNN\n",
      "80.0\n",
      "80.5\n",
      "81.0\n",
      "81.5\n",
      "82.0\n",
      "82.5\n",
      "83.0\n",
      "83.5\n",
      "84.0\n",
      "84.5\n",
      "kNN\n",
      "85.0\n",
      "85.5\n",
      "86.0\n",
      "86.5\n",
      "87.0\n",
      "87.5\n",
      "88.0\n",
      "88.5\n",
      "89.0\n",
      "89.5\n",
      "kNN\n",
      "90.0\n",
      "90.5\n",
      "91.0\n",
      "91.5\n",
      "92.0\n",
      "92.5\n",
      "93.0\n",
      "93.5\n",
      "94.0\n",
      "94.5\n",
      "kNN\n",
      "95.0\n",
      "95.5\n",
      "96.0\n",
      "96.5\n",
      "97.0\n",
      "97.5\n",
      "98.0\n",
      "98.5\n",
      "99.0\n",
      "99.5\n",
      "kNN\n",
      "100.0\n"
     ]
    }
   ],
   "source": [
    "\n",
    "for i in 0:Int(t_f/dt)\n",
    "    if mod(i, n_knn) == 0\n",
    "        println(\"kNN\")\n",
    "    end\n",
    "    println(i*dt)\n",
    "end"
   ]
  },
  {
   "cell_type": "code",
   "execution_count": 29,
   "metadata": {},
   "outputs": [
    {
     "name": "stdout",
     "output_type": "stream",
     "text": [
      "Effective GPU memory usage: 12.92% (1.520 GiB/11.767 GiB)\n",
      "Memory pool usage: 171.248 MiB (1.031 GiB reserved)"
     ]
    }
   ],
   "source": [
    "CUDA.memory_status()"
   ]
  },
  {
   "cell_type": "code",
   "execution_count": 30,
   "metadata": {},
   "outputs": [
    {
     "data": {
      "text/plain": [
       "14×3240 CuArray{CartesianIndex{2}, 2, CUDA.Mem.DeviceBuffer}:\n",
       " CartesianIndex(1, 1)   CartesianIndex(2, 2)   …  CartesianIndex(3240, 3240)\n",
       " CartesianIndex(4, 1)   CartesianIndex(5, 2)      CartesianIndex(3237, 3240)\n",
       " CartesianIndex(5, 1)   CartesianIndex(6, 2)      CartesianIndex(3238, 3240)\n",
       " CartesianIndex(2, 1)   CartesianIndex(1, 2)      CartesianIndex(3239, 3240)\n",
       " CartesianIndex(31, 1)  CartesianIndex(32, 2)     CartesianIndex(3211, 3240)\n",
       " CartesianIndex(24, 1)  CartesianIndex(25, 2)  …  CartesianIndex(3217, 3240)\n",
       " CartesianIndex(25, 1)  CartesianIndex(26, 2)     CartesianIndex(3218, 3240)\n",
       " CartesianIndex(30, 1)  CartesianIndex(31, 2)     CartesianIndex(3212, 3240)\n",
       " CartesianIndex(32, 1)  CartesianIndex(33, 2)     CartesianIndex(3210, 3240)\n",
       " CartesianIndex(19, 1)  CartesianIndex(20, 2)     CartesianIndex(3222, 3240)\n",
       " CartesianIndex(85, 1)  CartesianIndex(86, 2)  …  CartesianIndex(3156, 3240)\n",
       " CartesianIndex(8, 1)   CartesianIndex(9, 2)      CartesianIndex(3233, 3240)\n",
       " CartesianIndex(3, 1)   CartesianIndex(4, 2)      CartesianIndex(3236, 3240)\n",
       " CartesianIndex(6, 1)   CartesianIndex(19, 2)     CartesianIndex(3223, 3240)"
      ]
     },
     "metadata": {},
     "output_type": "display_data"
    }
   ],
   "source": [
    "idx"
   ]
  }
 ],
 "metadata": {
  "kernelspec": {
   "display_name": "Julia 1.7.3",
   "language": "julia",
   "name": "julia-1.7"
  },
  "language_info": {
   "file_extension": ".jl",
   "mimetype": "application/julia",
   "name": "julia",
   "version": "1.7.3"
  },
  "orig_nbformat": 4
 },
 "nbformat": 4,
 "nbformat_minor": 2
}
