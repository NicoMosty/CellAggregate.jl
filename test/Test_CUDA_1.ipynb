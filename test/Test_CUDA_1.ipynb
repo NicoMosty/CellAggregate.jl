{
 "cells": [
  {
   "cell_type": "markdown",
   "metadata": {},
   "source": [
    "# Installing Dependencies"
   ]
  },
  {
   "cell_type": "code",
   "execution_count": 5,
   "metadata": {},
   "outputs": [],
   "source": [
    "using DelimitedFiles\n",
    "using CUDA"
   ]
  },
  {
   "cell_type": "markdown",
   "metadata": {},
   "source": [
    "# Initial Conditions"
   ]
  },
  {
   "cell_type": "markdown",
   "metadata": {},
   "source": [
    "## Initial Variables"
   ]
  },
  {
   "cell_type": "code",
   "execution_count": 6,
   "metadata": {},
   "outputs": [
    {
     "data": {
      "text/plain": [
       "init (generic function with 1 method)"
      ]
     },
     "metadata": {},
     "output_type": "display_data"
    }
   ],
   "source": [
    "# Physical Conditions\n",
    "const R_Agg = 13\n",
    "const t_f = 100\n",
    "\n",
    "# Time model Conditions\n",
    "const dt = 0.5\n",
    "const n_knn = 10\n",
    "\n",
    "# Constants for Force Model\n",
    "const r_max, s = 3, 1\n",
    "const K = 1\n",
    "\n",
    "function init()\n",
    "    # Initial Coordinates of Aggregates\n",
    "    CUDA.@time global X = readdlm(\"../data/Init/Two_Sphere/$R_Agg.csv\", ',', Float32, header=true)[1][:, 1:3] |> cu\n",
    "\n",
    "\n",
    "    # Inizializate Variables for kNN\n",
    "    println(\"Inizializate Variables for kNN\")\n",
    "    CUDA.@time global i_Cell = CuArray{Float32}(undef, (size(X, 1), size(X, 1), 3))\n",
    "    CUDA.@time global Dist = CuArray{Float32}(undef, (size(X, 1), size(X, 1)))\n",
    "    CUDA.@time global idx = hcat([[CartesianIndex(i,1) for i=1:14] for j=1:size(X,1)]...) |> cu\n",
    "\n",
    "    # Inizializate Variables for Forces\n",
    "    println(\"Inizializate Variables for Forces\")\n",
    "    CUDA.@time global r = zeros(14,size(X)[1],3) |> cu\n",
    "    CUDA.@time global dist = zeros(14, size(X)[1]) |> cu\n",
    "    CUDA.@time global F = zeros(14, size(X)[1],3) |> cu\n",
    "    CUDA.@time global dX = zeros(size(X)[1],3) |> cu;\n",
    "end"
   ]
  },
  {
   "cell_type": "markdown",
   "metadata": {},
   "source": [
    "## Function for knn in CUDA"
   ]
  },
  {
   "cell_type": "code",
   "execution_count": 7,
   "metadata": {},
   "outputs": [
    {
     "data": {
      "text/plain": [
       "knn_cu (generic function with 1 method)"
      ]
     },
     "metadata": {},
     "output_type": "display_data"
    }
   ],
   "source": [
    "function knn_cu()\n",
    "    # Definig Variables for calculing knn\n",
    "    global i_Cell; global Dist; global idx\n",
    "    \n",
    "    # Defining Coordinates of each cell on the aggregates\n",
    "    println(\"Defining Coordinates of each cell on the aggregates\")\n",
    "    CUDA.@time i_Cell = reshape(repeat(X, size(X ,1)), size(X ,1), size(X ,1), 3) - reshape(repeat(X, inner=(size(X ,1),1)), size(X ,1), size(X ,1), 3)\n",
    "\n",
    "    # Calculating Norm on every cell on the aggregate\n",
    "    println(\"Calculating distances on every cell on the aggregate\")\n",
    "    CUDA.@time Dist = sqrt.(i_Cell[:,:,1] .^ 2 + i_Cell[:,:,2] .^ 2 + i_Cell[:,:,3] .^ 2)\n",
    "\n",
    "    # Calculating index of knof each cell in the aggregate\n",
    "    println(\"Calculating index of knn on each cell in the aggregate\")\n",
    "    CUDA.@time for i = 1:14\n",
    "        idx[i,:] = findmin(Dist; dims=1)[2]\n",
    "        Dist[idx[i,:]] .= Inf\n",
    "    end\n",
    "end"
   ]
  },
  {
   "cell_type": "markdown",
   "metadata": {},
   "source": [
    "## Function for forces in CUDA"
   ]
  },
  {
   "cell_type": "code",
   "execution_count": 8,
   "metadata": {},
   "outputs": [
    {
     "data": {
      "text/plain": [
       "forces (generic function with 1 method)"
      ]
     },
     "metadata": {},
     "output_type": "display_data"
    }
   ],
   "source": [
    "function forces()\n",
    "\n",
    "    # Definig Variables for calculing dX\n",
    "    global X; global dX; global idx\n",
    "\n",
    "    # Finding Distances\n",
    "    println(\"Finding Distances\")\n",
    "    CUDA.@time r = reshape(repeat(X, inner=(14,1)), 14, size(X)[1], 3) - X[getindex.(idx,1),:]\n",
    "\n",
    "    # Finding Distances/Norm\n",
    "    println(\"Finding Distances/Norm\")\n",
    "    CUDA.@time dist = (r[:,:,1] .^ 2 + r[:,:,2] .^ 2 + r[:,:,3] .^ 2) .^ (0.5)\n",
    "    CUDA.@time dist = reshape(repeat((dist), outer=(1,3)) ,14 ,size(X)[1], 3)\n",
    "    \n",
    "    # Normalizationg Distances\n",
    "    println(\"Normalizationg Distances\")\n",
    "    CUDA.@time r = r ./ dist\n",
    "\n",
    "    # dX[i,:] +=  r/dist * F\n",
    "    println(\"Calculationg Forces\")\n",
    "    CUDA.@time F = -K.*((dist .- r_max).^2) .* (dist .- s) .* r\n",
    "\n",
    "    # Deleting Forces greater than R_Max\n",
    "    println(\"Deleting Forces greater than R_Max\")\n",
    "    CUDA.@time F[dist .>  r_max] .= 0\n",
    "\n",
    "    # Calculating de dX\n",
    "    println(\"Calculating dX\")\n",
    "    CUDA.@time dX[:,1] = sum(F[:,:,1][2:end,:]; dims=1)\n",
    "    CUDA.@time dX[:,2] = sum(F[:,:,2][2:end,:]; dims=1)\n",
    "    CUDA.@time dX[:,3] = sum(F[:,:,3][2:end,:]; dims=1)\n",
    "\n",
    "    # Euler Step for all Cells\n",
    "    dX\n",
    "end"
   ]
  },
  {
   "cell_type": "markdown",
   "metadata": {},
   "source": [
    "# Starting Functions"
   ]
  },
  {
   "cell_type": "code",
   "execution_count": 9,
   "metadata": {},
   "outputs": [
    {
     "name": "stdout",
     "output_type": "stream",
     "text": [
      "  0.355455 seconds (682.59 k CPU allocations: "
     ]
    },
    {
     "name": "stdout",
     "output_type": "stream",
     "text": [
      "28.392 MiB) (1 GPU allocation: 37.969 KiB, 15.33% memmgmt time)\n",
      "Inizializate Variables for kNN\n",
      "  0.002984 seconds (1.41 k CPU allocations: 80.974 KiB) (1 GPU allocation: 120.135 MiB, 7.73% memmgmt time)\n",
      "  0.000116 seconds (8 CPU allocations: "
     ]
    },
    {
     "name": "stdout",
     "output_type": "stream",
     "text": [
      "240 bytes) (1 GPU allocation: 40.045 MiB, 98.28% memmgmt time)\n"
     ]
    },
    {
     "name": "stdout",
     "output_type": "stream",
     "text": [
      "  5.071895 seconds (795.80 k CPU allocations: 44.407 MiB, 0.17% gc time) (1 GPU allocation: 708.750 KiB, 0.00% memmgmt time)\n",
      "Inizializate Variables for Forces\n",
      "  0.007872 seconds (11.62 k CPU allocations: 2.175 MiB) (1 GPU allocation: 531.562 KiB, 0.12% memmgmt time)\n",
      "  0.005940 seconds (11.34 k CPU allocations: 1.125 MiB) (1 GPU allocation: 177.188 KiB, 0.17% memmgmt time)\n",
      "  0.000204 seconds (13 CPU allocations: 1.558 MiB) (1 GPU allocation: 531.562 KiB, 1.82% memmgmt time)\n",
      "  0.000030 seconds (13 CPU allocations: 114.328 KiB) (1 GPU allocation: 37.969 KiB, 7.54% memmgmt time)\n"
     ]
    },
    {
     "data": {
      "text/plain": [
       "3240×3 CuArray{Float32, 2, CUDA.Mem.DeviceBuffer}:\n",
       " 0.0  0.0  0.0\n",
       " 0.0  0.0  0.0\n",
       " 0.0  0.0  0.0\n",
       " 0.0  0.0  0.0\n",
       " 0.0  0.0  0.0\n",
       " 0.0  0.0  0.0\n",
       " 0.0  0.0  0.0\n",
       " 0.0  0.0  0.0\n",
       " 0.0  0.0  0.0\n",
       " 0.0  0.0  0.0\n",
       " ⋮         \n",
       " 0.0  0.0  0.0\n",
       " 0.0  0.0  0.0\n",
       " 0.0  0.0  0.0\n",
       " 0.0  0.0  0.0\n",
       " 0.0  0.0  0.0\n",
       " 0.0  0.0  0.0\n",
       " 0.0  0.0  0.0\n",
       " 0.0  0.0  0.0\n",
       " 0.0  0.0  0.0"
      ]
     },
     "metadata": {},
     "output_type": "display_data"
    }
   ],
   "source": [
    "init()"
   ]
  },
  {
   "cell_type": "code",
   "execution_count": 10,
   "metadata": {},
   "outputs": [
    {
     "ename": "ErrorException",
     "evalue": "syntax: missing condition in \"if\" at /home/nicomosty/Documentos/Maestria-GitHub/Centre-Julia/test/Test_CUDA_1.ipynb:1",
     "output_type": "error",
     "traceback": [
      "syntax: missing condition in \"if\" at /home/nicomosty/Documentos/Maestria-GitHub/Centre-Julia/test/Test_CUDA_1.ipynb:1\n",
      "\n",
      "Stacktrace:\n",
      " [1] top-level scope\n",
      "   @ ~/Documentos/Maestria-GitHub/Centre-Julia/test/Test_CUDA_1.ipynb:2"
     ]
    }
   ],
   "source": [
    "knn_cu()"
   ]
  },
  {
   "cell_type": "code",
   "execution_count": 11,
   "metadata": {},
   "outputs": [
    {
     "name": "stdout",
     "output_type": "stream",
     "text": [
      "Finding Distances\n"
     ]
    },
    {
     "name": "stdout",
     "output_type": "stream",
     "text": [
      " 12.906229 seconds (38.28 M CPU allocations: 2.016 GiB, 6.10% gc time) (4 GPU allocations: 1.903 MiB, 0.00% memmgmt time)\n",
      "Finding Distances/Norm\n"
     ]
    },
    {
     "name": "stdout",
     "output_type": "stream",
     "text": [
      "  3.469444 seconds (13.34 M CPU allocations: 718.275 MiB, 5.04% gc time) (9 GPU allocations: 1.730 MiB, 0.00% memmgmt time)\n"
     ]
    },
    {
     "name": "stdout",
     "output_type": "stream",
     "text": [
      "  0.770504 seconds (2.99 M CPU allocations: 160.464 MiB, 5.38% gc time) (1 GPU allocation: 1.038 MiB, 0.00% memmgmt time)\n",
      "Normalizationg Distances\n"
     ]
    },
    {
     "name": "stdout",
     "output_type": "stream",
     "text": [
      "  0.737051 seconds (2.91 M CPU allocations: 155.154 MiB, 6.60% gc time) (1 GPU allocation: 1.038 MiB, 0.00% memmgmt time)\n",
      "Calculationg Forces\n"
     ]
    },
    {
     "name": "stdout",
     "output_type": "stream",
     "text": [
      "  0.810148 seconds (3.10 M CPU allocations: 166.779 MiB, 5.71% gc time) (1 GPU allocation: 1.038 MiB, 0.00% memmgmt time)\n",
      "Deleting Forces greater than R_Max\n"
     ]
    },
    {
     "name": "stdout",
     "output_type": "stream",
     "text": [
      "  6.470305 seconds (25.88 M CPU allocations: 1.342 GiB, 5.79% gc time) (4 GPU allocations: 4.274 MiB, 0.00% memmgmt time)\n",
      "Calculating dX\n"
     ]
    },
    {
     "name": "stdout",
     "output_type": "stream",
     "text": [
      "  3.958211 seconds (16.71 M CPU allocations: 891.010 MiB, 9.09% gc time) (3 GPU allocations: 708.750 KiB, 0.00% memmgmt time)\n",
      "  0.000135 seconds (72 CPU allocations: 3.125 KiB) (3 GPU allocations: 708.750 KiB, 16.17% memmgmt time)\n",
      "  0.000095 seconds (72 CPU allocations: 3.125 KiB) (3 GPU allocations: 708.750 KiB, 10.83% memmgmt time)\n"
     ]
    },
    {
     "data": {
      "text/plain": [
       "3240×3 CuArray{Float32, 2, CUDA.Mem.DeviceBuffer}:\n",
       "   1.0    1.73461    0.0\n",
       " NaN    NaN        NaN\n",
       " NaN    NaN        NaN\n",
       " NaN    NaN        NaN\n",
       " NaN    NaN        NaN\n",
       " NaN    NaN        NaN\n",
       " NaN    NaN        NaN\n",
       " NaN    NaN        NaN\n",
       " NaN    NaN        NaN\n",
       " NaN    NaN        NaN\n",
       "   ⋮               \n",
       "   0.0    0.0        0.0\n",
       "   0.0    0.0        0.0\n",
       "   0.0    0.0        0.0\n",
       "   0.0    0.0        0.0\n",
       "   0.0    0.0        0.0\n",
       "   0.0    0.0        0.0\n",
       "   0.0    0.0        0.0\n",
       "   0.0    0.0        0.0\n",
       "   0.0    0.0        0.0"
      ]
     },
     "metadata": {},
     "output_type": "display_data"
    }
   ],
   "source": [
    "forces()"
   ]
  },
  {
   "cell_type": "code",
   "execution_count": 12,
   "metadata": {},
   "outputs": [
    {
     "name": "stdout",
     "output_type": "stream",
     "text": [
      "Effective GPU memory usage: 5.94% (716.125 MiB/11.767 GiB)\n",
      "Memory pool usage: 163.196 MiB (192.000 MiB reserved)"
     ]
    }
   ],
   "source": [
    "CUDA.memory_status()"
   ]
  },
  {
   "cell_type": "code",
   "execution_count": 13,
   "metadata": {},
   "outputs": [
    {
     "name": "stdout",
     "output_type": "stream",
     "text": [
      "kNN\n",
      "0.5\n",
      "1.0\n",
      "1.5\n",
      "2.0\n",
      "2.5\n",
      "3.0\n",
      "3.5\n",
      "4.0\n",
      "4.5\n",
      "kNN\n",
      "5.5\n",
      "6.0\n",
      "6.5\n",
      "7.0\n",
      "7.5\n",
      "8.0\n",
      "8.5\n",
      "9.0\n",
      "9.5\n",
      "kNN\n",
      "10.5\n",
      "11.0\n",
      "11.5\n",
      "12.0\n",
      "12.5\n",
      "13.0\n",
      "13.5\n",
      "14.0\n",
      "14.5\n",
      "kNN\n",
      "15.5\n",
      "16.0\n",
      "16.5\n",
      "17.0\n",
      "17.5\n",
      "18.0\n",
      "18.5\n",
      "19.0\n",
      "19.5\n",
      "kNN\n",
      "20.5\n",
      "21.0\n",
      "21.5\n",
      "22.0\n",
      "22.5\n",
      "23.0\n",
      "23.5\n",
      "24.0\n",
      "24.5\n",
      "kNN\n",
      "25.5\n",
      "26.0\n",
      "26.5\n",
      "27.0\n",
      "27.5\n",
      "28.0\n",
      "28.5\n",
      "29.0\n",
      "29.5\n",
      "kNN\n",
      "30.5\n",
      "31.0\n",
      "31.5\n",
      "32.0\n",
      "32.5\n",
      "33.0\n",
      "33.5\n",
      "34.0\n",
      "34.5\n",
      "kNN\n",
      "35.5\n",
      "36.0\n",
      "36.5\n",
      "37.0\n",
      "37.5\n",
      "38.0\n",
      "38.5\n",
      "39.0\n",
      "39.5\n",
      "kNN\n",
      "40.5\n",
      "41.0\n",
      "41.5\n",
      "42.0\n",
      "42.5\n",
      "43.0\n",
      "43.5\n",
      "44.0\n",
      "44.5\n",
      "kNN\n",
      "45.5\n",
      "46.0\n",
      "46.5\n",
      "47.0\n",
      "47.5\n",
      "48.0\n",
      "48.5\n",
      "49.0\n",
      "49.5\n",
      "kNN\n",
      "50.5\n",
      "51.0\n",
      "51.5\n",
      "52.0\n",
      "52.5\n",
      "53.0\n",
      "53.5\n",
      "54.0\n",
      "54.5\n",
      "kNN\n",
      "55.5\n",
      "56.0\n",
      "56.5\n",
      "57.0\n",
      "57.5\n",
      "58.0\n",
      "58.5\n",
      "59.0\n",
      "59.5\n",
      "kNN\n",
      "60.5\n",
      "61.0\n",
      "61.5\n",
      "62.0\n",
      "62.5\n",
      "63.0\n",
      "63.5\n",
      "64.0\n",
      "64.5\n",
      "kNN\n",
      "65.5\n",
      "66.0\n",
      "66.5\n",
      "67.0\n",
      "67.5\n",
      "68.0\n",
      "68.5\n",
      "69.0\n",
      "69.5\n",
      "kNN\n",
      "70.5\n",
      "71.0\n",
      "71.5\n",
      "72.0\n",
      "72.5\n",
      "73.0\n",
      "73.5\n",
      "74.0\n",
      "74.5\n",
      "kNN\n",
      "75.5\n",
      "76.0\n",
      "76.5\n",
      "77.0\n",
      "77.5\n",
      "78.0\n",
      "78.5\n",
      "79.0\n",
      "79.5\n",
      "kNN\n",
      "80.5\n",
      "81.0\n",
      "81.5\n",
      "82.0\n",
      "82.5\n",
      "83.0\n",
      "83.5\n",
      "84.0\n",
      "84.5\n",
      "kNN\n",
      "85.5\n",
      "86.0\n",
      "86.5\n",
      "87.0\n",
      "87.5\n",
      "88.0\n",
      "88.5\n",
      "89.0\n",
      "89.5\n",
      "kNN\n",
      "90.5\n",
      "91.0\n",
      "91.5\n",
      "92.0\n",
      "92.5\n",
      "93.0\n",
      "93.5\n",
      "94.0\n",
      "94.5\n",
      "kNN\n",
      "95.5\n",
      "96.0\n",
      "96.5\n",
      "97.0\n",
      "97.5\n",
      "98.0\n",
      "98.5\n",
      "99.0\n",
      "99.5\n",
      "kNN\n"
     ]
    }
   ],
   "source": [
    "for i in 0:Int(t_f/dt)\n",
    "    if mod(i, n_knn) == 0\n",
    "        println(\"kNN\")\n",
    "    else\n",
    "        println(i*dt)\n",
    "    end\n",
    "end"
   ]
  }
 ],
 "metadata": {
  "kernelspec": {
   "display_name": "Julia 1.7.3",
   "language": "julia",
   "name": "julia-1.7"
  },
  "language_info": {
   "file_extension": ".jl",
   "mimetype": "application/julia",
   "name": "julia",
   "version": "1.7.3"
  },
  "orig_nbformat": 4
 },
 "nbformat": 4,
 "nbformat_minor": 2
}
