{
 "cells": [
  {
   "attachments": {},
   "cell_type": "markdown",
   "metadata": {},
   "source": [
    "# Dependences"
   ]
  },
  {
   "cell_type": "code",
   "execution_count": 15,
   "metadata": {},
   "outputs": [
    {
     "name": "stderr",
     "output_type": "stream",
     "text": [
      "WARNING: both ImageMetadata and ImageAxes export \"data\"; uses of it in module Images must be qualified\n"
     ]
    }
   ],
   "source": [
    "include(\"../../src/struct_data.jl\")\n",
    "include(\"../../src/neighbor.jl\")\n",
    "include(\"../../src/forces/forces.jl\")\n",
    "include(\"../../src/extract_info.jl\")\n",
    "\n",
    "using ProgressMeter\n",
    "# include(\"../../src/run_event.jl\")"
   ]
  },
  {
   "attachments": {},
   "cell_type": "markdown",
   "metadata": {},
   "source": [
    "# Model"
   ]
  },
  {
   "cell_type": "code",
   "execution_count": 16,
   "metadata": {},
   "outputs": [
    {
     "name": "stdout",
     "output_type": "stream",
     "text": [
      "  0.000001 seconds (4 allocations: 144 bytes)\n"
     ]
    },
    {
     "data": {
      "text/plain": [
       "ModelSet(TimeModel(150000.0, 0.5, 100, 50), InputModel(0.8, \"../../data/init/Sphere\"), OutputModel(\"Test_1\", \"\", 0.5))"
      ]
     },
     "metadata": {},
     "output_type": "display_data"
    }
   ],
   "source": [
    "@time model = ModelSet(\n",
    "    TimeModel(\n",
    "        tₛᵢₘ  = 150000.0,\n",
    "        dt    = 0.5,\n",
    "        nₖₙₙ  = 100,\n",
    "        nₛₐᵥₑ = 50\n",
    "    ),\n",
    "    InputModel(\n",
    "        outer_ratio = 0.8,\n",
    "        path_input  = \"../../data/init/Sphere\"\n",
    "    ),\n",
    "    OutputModel(\n",
    "        name_output = \"Test_1\",\n",
    "        path_output = \"\",\n",
    "        d_saved = 0.5\n",
    "    ) \n",
    ")"
   ]
  },
  {
   "cell_type": "code",
   "execution_count": 17,
   "metadata": {},
   "outputs": [
    {
     "data": {
      "text/plain": [
       "15"
      ]
     },
     "metadata": {},
     "output_type": "display_data"
    }
   ],
   "source": [
    "# Run Modelusing Cthulhu\n",
    "Par1 ,Par2 = Cubic(0.05,2.0,3.0), ContractilePar(0.267,pi/4,0.08,1.0)\n",
    "# Par1 ,Par2 = Cubic(4.2,2.0,3.0), ContractilePar(0.267,pi/4,0.08,1.0)\n",
    "size_agg = 15"
   ]
  },
  {
   "cell_type": "code",
   "execution_count": 18,
   "metadata": {},
   "outputs": [
    {
     "data": {
      "text/plain": [
       "Aggregate(AggType[AggType(\"HEK_1\", InteractionPar(Cubic{Float64}(0.05, 2.0, 3.0), ContractilePar{Float64}(0.267, 0.7853981633974483, 0.08, 1.0)), 15.27f0, Float32[-1.5 -4.62 -13.88; 0.5 -4.62 -13.88; … ; 0.5 4.62 13.88; 2.5 4.62 13.88], CuArray{Float32, 2, CUDA.Mem.DeviceBuffer})], AggIndex([1, 1, 1, 1, 1, 1, 1, 1, 1, 1  …  1, 1, 1, 1, 1, 1, 1, 1, 1, 1], [1, 1, 1, 1, 1, 1, 1, 1, 1, 1  …  1, 1, 1, 1, 1, 1, 1, 1, 1, 1], [\"HEK_1\", \"HEK_1\", \"HEK_1\", \"HEK_1\", \"HEK_1\", \"HEK_1\", \"HEK_1\", \"HEK_1\", \"HEK_1\", \"HEK_1\"  …  \"HEK_1\", \"HEK_1\", \"HEK_1\", \"HEK_1\", \"HEK_1\", \"HEK_1\", \"HEK_1\", \"HEK_1\", \"HEK_1\", \"HEK_1\"]), Float32[-1.5 -4.62 -13.88; 0.5 -4.62 -13.88; … ; 0.5 4.62 13.88; 2.5 4.62 13.88], AggGeometry(Float32[15.27, 15.27, 15.27, 15.27, 15.27, 15.27, 15.27, 15.27, 15.27, 15.27  …  15.27, 15.27, 15.27, 15.27, 15.27, 15.27, 15.27, 15.27, 15.27, 15.27], [1, 1, 1, 1, 1, 1, 1, 1, 1, 1  …  1, 1, 1, 1, 1, 1, 1, 1, 1, 1], (-14.5f0, 14.5f0)), AggSimulation(AggLimit(29.0f0, Bool[0]), AggParameter(Cubic{CuArray{Float32, 1, CUDA.Mem.DeviceBuffer}}(Float32[0.05, 0.05, 0.05, 0.05, 0.05, 0.05, 0.05, 0.05, 0.05, 0.05  …  0.05, 0.05, 0.05, 0.05, 0.05, 0.05, 0.05, 0.05, 0.05, 0.05], Float32[2.0, 2.0, 2.0, 2.0, 2.0, 2.0, 2.0, 2.0, 2.0, 2.0  …  2.0, 2.0, 2.0, 2.0, 2.0, 2.0, 2.0, 2.0, 2.0, 2.0], Float32[3.0, 3.0, 3.0, 3.0, 3.0, 3.0, 3.0, 3.0, 3.0, 3.0  …  3.0, 3.0, 3.0, 3.0, 3.0, 3.0, 3.0, 3.0, 3.0, 3.0]), ContractilePar{CuArray{Float32, 1, CUDA.Mem.DeviceBuffer}}(Float32[0.267, 0.267, 0.267, 0.267, 0.267, 0.267, 0.267, 0.267, 0.267, 0.267  …  0.267, 0.267, 0.267, 0.267, 0.267, 0.267, 0.267, 0.267, 0.267, 0.267], Float32[0.7853982, 0.7853982, 0.7853982, 0.7853982, 0.7853982, 0.7853982, 0.7853982, 0.7853982, 0.7853982, 0.7853982  …  0.7853982, 0.7853982, 0.7853982, 0.7853982, 0.7853982, 0.7853982, 0.7853982, 0.7853982, 0.7853982, 0.7853982], Float32[0.08, 0.08, 0.08, 0.08, 0.08, 0.08, 0.08, 0.08, 0.08, 0.08  …  0.08, 0.08, 0.08, 0.08, 0.08, 0.08, 0.08, 0.08, 0.08, 0.08], Float32[1.0, 1.0, 1.0, 1.0, 1.0, 1.0, 1.0, 1.0, 1.0, 1.0  …  1.0, 1.0, 1.0, 1.0, 1.0, 1.0, 1.0, 1.0, 1.0, 1.0]), Float32[15.27]), AggNeighbor(Int32[0 0 … 0 0; 0 0 … 0 0; … ; 0 0 … 0 0; 0 0 … 0 0], Float32[0.0 0.0 … 0.0 0.0; 0.0 0.0 … 0.0 0.0; … ; 0.0 0.0 … 0.0 0.0; 0.0 0.0 … 0.0 0.0], Int32[0 0 … 0 0], Int32[0 0 … 0 0; 0 0 … 0 0; … ; 0 0 … 0 0; 0 0 … 0 0]), AggForce(Float32[0.0 0.0 0.0; 0.0 0.0 0.0; … ; 0.0 0.0 0.0; 0.0 0.0 0.0], Float32[0.0 0.0 … 0.0 0.0], Float32[0.0 0.0 0.0; 0.0 0.0 0.0; … ; 0.0 0.0 0.0; 0.0 0.0 0.0], Float32[0.0 0.0 0.0; 0.0 0.0 0.0; … ; 0.0 0.0 0.0; 0.0 0.0 0.0], Float32[0.0 0.0 0.0; 0.0 0.0 0.0; … ; 0.0 0.0 0.0; 0.0 0.0 0.0]), AggOutput(Any[], Any[], Any[], Any[], Any[])), #undef)"
      ]
     },
     "metadata": {},
     "output_type": "display_data"
    }
   ],
   "source": [
    "# Run only one aggregate\n",
    "agg = nothing\n",
    "agg = Aggregate(\n",
    "    [AggType(\n",
    "        \"HEK_1\", \n",
    "        InteractionPar(Par1, Par2),\n",
    "        Float32.(readdlm(\"../../data/init/Sphere/$(size_agg).0.xyz\")[3:end,2:end]) |> cu\n",
    "    )], \n",
    "    [AggLocation(\"HEK_1\",[0 0 0]),],\n",
    "    model\n",
    ")"
   ]
  },
  {
   "cell_type": "code",
   "execution_count": 19,
   "metadata": {},
   "outputs": [
    {
     "data": {
      "text/plain": [
       "run_test (generic function with 1 method)"
      ]
     },
     "metadata": {},
     "output_type": "display_data"
    }
   ],
   "source": [
    "function run_test(agg::Aggregate, model::ModelSet, title::String,save_xyz, save_dat)\n",
    "\n",
    "    open(model.Output.name_output*\".xyz\", \"w\") do f end\n",
    "\n",
    "    open(model.Output.name_output*\".cart.dat\", \"w\") do f\n",
    "        write(f, \"# This file was created $(Dates.format(Dates.now(), \"e, dd u yyyy HH:MM:SS\")) \\n\")\n",
    "        write(f, \"# Created by CellAggregate.jl \\n\")\n",
    "        write(f, \"# Based on Cartesian Coordinates \\n\")\n",
    "        write(f, \"@    xaxis label \\\"x position of each cell\\\"  \\n\")\n",
    "        write(f, \"@    yaxis label \\\"y position of each cell\\\"  \\n\")\n",
    "    end\n",
    "    open(model.Output.name_output*\".sph.dat\", \"w\") do f\n",
    "        write(f, \"# This file was created $(Dates.format(Dates.now(), \"e, dd u yyyy HH:MM:SS\")) \\n\")\n",
    "        write(f, \"# Created by CellAggregate.jl \\n\")\n",
    "        write(f, \"# Based on Spherical Coordinates \\n\")\n",
    "        write(f, \"@    xaxis label \\\"x position of each cell\\\"  \\n\")\n",
    "        write(f, \"@    yaxis label \\\"y position of each cell\\\"  \\n\")\n",
    "    end\n",
    "    open(model.Output.name_output*\".nw.dat\", \"w\") do f\n",
    "        write(f, \"# This file was created $(Dates.format(Dates.now(), \"e, dd u yyyy HH:MM:SS\")) \\n\")\n",
    "        write(f, \"# Created by CellAggregate.jl \\n\")\n",
    "        write(f, \"# Based on Neck Width Dim of the Aggregate \\n\")\n",
    "        write(f, \"! | t | Neck | Width   \\n\")\n",
    "    end\n",
    "\n",
    "    @showprogress \"$(title)...\" for t=0:Int(model.Time.tₛᵢₘ/model.Time.dt)\n",
    "\n",
    "        if agg.Simulation.Limit.break_sim == CuArray([false])\n",
    "            if t%(model.Time.nₖₙₙ) == 0\n",
    "                # println(\"▲ Neighbor\")\n",
    "                threads=(100)\n",
    "                @cuda(\n",
    "                    threads=threads,\n",
    "                    blocks=cld.(size(agg.Position,1),threads),\n",
    "                    dist_kernel!(\n",
    "                        agg.Simulation.Neighbor.idx_red,\n",
    "                        agg.Simulation.Neighbor.idx_cont,\n",
    "                        agg.Simulation.Neighbor.idx_sum,\n",
    "                        agg.Simulation.Neighbor.dist,\n",
    "                        agg.Position,\n",
    "                        agg.Simulation.Parameter.Force.rₘₐₓ\n",
    "                    )\n",
    "                ) \n",
    "            end\n",
    "\n",
    "            t_max_min=1\n",
    "            # println(t)\n",
    "            # CUDA.@time \n",
    "            threads=(64,3)\n",
    "            @cuda(\n",
    "                threads = threads,\n",
    "                blocks = cld.(size(agg.Position,),threads),\n",
    "                sum_force!(\n",
    "                    agg.Position,\n",
    "                    agg.Simulation.Force.F,\n",
    "                    agg.Simulation.Force.Pol,\n",
    "                    agg.Simulation.Force.dPol,\n",
    "                    agg.Simulation.Force.N_i,\n",
    "                    agg.Simulation.Neighbor.idx_sum,\n",
    "                    agg.Simulation.Neighbor.idx_red,\n",
    "                    agg.Simulation.Parameter.Force,\n",
    "                    agg.Simulation.Parameter.Contractile.fₚ,\n",
    "                    agg.Simulation.Parameter.Contractile.ψₜ,\n",
    "                    agg.Simulation.Parameter.Contractile.ψₘ,\n",
    "                    agg.Simulation.Parameter.Contractile.ω,\n",
    "                    model.Time.dt,\n",
    "                    agg.Simulation.Limit.max_grid,\n",
    "                    agg.Simulation.Limit.break_sim\n",
    "                )\n",
    "            )\n",
    "    \n",
    "            if t%Int(model.Time.tₛᵢₘ/model.Time.nₛₐᵥₑ/model.Time.dt) == 0\n",
    "                # println(\"▲ Save\")\n",
    "                push!(agg.Simulation.Output.time,t*model.Time.dt)\n",
    "\n",
    "                max_min = max_min_agg(agg.Position,40,10,2)\n",
    "                push!(agg.Simulation.Output.xy_data,max_min)\n",
    "\n",
    "                sph_data = cart_to_sph(max_min)\n",
    "                push!(agg.Simulation.Output.θr_data,sph_data)\n",
    "\n",
    "                neck_width = neck_width_agg(sph_data)\n",
    "                push!(agg.Simulation.Output.neck_data,[neck_width[2]])\n",
    "                push!(agg.Simulation.Output.width_data,[neck_width[1]])\n",
    "\n",
    "                if save_xyz\n",
    "                    open(model.Output.name_output*\".xyz\", \"a\") do f\n",
    "                        write(f, \"$(size(agg.Position, 1))\\n\")\n",
    "                        write(f, \"t=$(t*model.Time.dt)\\n\")\n",
    "                        writedlm(f,hcat(agg.Geometry.outline,Matrix(agg.Position)), ' ')\n",
    "                    end\n",
    "                end\n",
    "                if save_dat\n",
    "                    open(model.Output.name_output*\".cart.dat\", \"a\") do f\n",
    "                        write(f, \"!    t = $(t*model.Time.dt)  \\n\")\n",
    "                        writedlm(f,max_min')\n",
    "                    end\n",
    "\n",
    "                    open(model.Output.name_output*\".sph.dat\", \"a\") do f\n",
    "                        write(f, \"!    t = $(t*model.Time.dt)  \\n\")\n",
    "                        writedlm(f,sph_data')\n",
    "                    end\n",
    "\n",
    "                end\n",
    "            end\n",
    "        end\n",
    "\n",
    "    end\n",
    "\n",
    "    if agg.Simulation.Limit.break_sim == CuArray([false])\n",
    "        agg.Simulation.Output.neck_data  = hcat(agg.Simulation.Output.neck_data...) ./agg.Simulation.Output.width_data[1] .* 2\n",
    "        agg.Simulation.Output.width_data = hcat(agg.Simulation.Output.width_data...) ./agg.Simulation.Output.width_data[1] .* 2\n",
    "        open(model.Output.name_output*\".nw.dat\", \"a\") do f\n",
    "            writedlm(f,vcat(\n",
    "                    hcat(agg.Simulation.Output.time...),\n",
    "                    hcat(agg.Simulation.Output.neck_data...),\n",
    "                    hcat(agg.Simulation.Output.width_data...)\n",
    "                )' ./agg.Simulation.Output.width_data[1]\n",
    "            )\n",
    "        end\n",
    "    elseif agg.Simulation.Limit.break_sim == CuArray([true])\n",
    "        println(\"Breaking the Simulation (NaN Value or Bigger Values)\")\n",
    "    end\n",
    "\n",
    "end"
   ]
  },
  {
   "cell_type": "code",
   "execution_count": 20,
   "metadata": {},
   "outputs": [
    {
     "name": "stderr",
     "output_type": "stream",
     "text": [
      "\r\u001b[32mRun One Aggregate...   0%|                               |  ETA: 2 days, 10:49:02\u001b[39m\u001b[K"
     ]
    },
    {
     "name": "stderr",
     "output_type": "stream",
     "text": [
      "\r\u001b[32mRun One Aggregate...   0%|▏                              |  ETA: 0:08:19\u001b[39m\u001b[K"
     ]
    },
    {
     "name": "stderr",
     "output_type": "stream",
     "text": [
      "\r\u001b[32mRun One Aggregate...   1%|▏                              |  ETA: 0:04:26\u001b[39m\u001b[K"
     ]
    },
    {
     "name": "stderr",
     "output_type": "stream",
     "text": [
      "\r\u001b[32mRun One Aggregate...   1%|▎                              |  ETA: 0:03:10\u001b[39m\u001b[K"
     ]
    },
    {
     "name": "stderr",
     "output_type": "stream",
     "text": [
      "\r\u001b[32mRun One Aggregate...   1%|▍                              |  ETA: 0:02:29\u001b[39m\u001b[K"
     ]
    },
    {
     "name": "stderr",
     "output_type": "stream",
     "text": [
      "\r\u001b[32mRun One Aggregate...   2%|▌                              |  ETA: 0:02:04\u001b[39m\u001b[K"
     ]
    },
    {
     "name": "stderr",
     "output_type": "stream",
     "text": [
      "\r\u001b[32mRun One Aggregate...   2%|▋                              |  ETA: 0:01:48\u001b[39m\u001b[K"
     ]
    },
    {
     "name": "stderr",
     "output_type": "stream",
     "text": [
      "\r\u001b[32mRun One Aggregate...   2%|▋                              |  ETA: 0:01:39\u001b[39m\u001b[K"
     ]
    },
    {
     "name": "stderr",
     "output_type": "stream",
     "text": [
      "\r\u001b[32mRun One Aggregate...   3%|▊                              |  ETA: 0:01:30\u001b[39m\u001b[K"
     ]
    },
    {
     "name": "stderr",
     "output_type": "stream",
     "text": [
      "\r\u001b[32mRun One Aggregate...   3%|▉                              |  ETA: 0:01:23\u001b[39m\u001b[K"
     ]
    },
    {
     "name": "stderr",
     "output_type": "stream",
     "text": [
      "\r\u001b[32mRun One Aggregate...   3%|█                              |  ETA: 0:01:17\u001b[39m\u001b[K"
     ]
    },
    {
     "name": "stderr",
     "output_type": "stream",
     "text": [
      "\r\u001b[32mRun One Aggregate...   4%|█▏                             |  ETA: 0:01:12\u001b[39m\u001b[K"
     ]
    },
    {
     "name": "stderr",
     "output_type": "stream",
     "text": [
      "\r\u001b[32mRun One Aggregate...   4%|█▏                             |  ETA: 0:01:08\u001b[39m\u001b[K"
     ]
    },
    {
     "name": "stderr",
     "output_type": "stream",
     "text": [
      "\r\u001b[32mRun One Aggregate...   4%|█▎                             |  ETA: 0:01:05\u001b[39m\u001b[K"
     ]
    },
    {
     "name": "stderr",
     "output_type": "stream",
     "text": [
      "\r\u001b[32mRun One Aggregate...   4%|█▍                             |  ETA: 0:01:03\u001b[39m\u001b[K"
     ]
    },
    {
     "name": "stderr",
     "output_type": "stream",
     "text": [
      "\r\u001b[32mRun One Aggregate...   5%|█▌                             |  ETA: 0:01:01\u001b[39m\u001b[K"
     ]
    },
    {
     "name": "stderr",
     "output_type": "stream",
     "text": [
      "\r\u001b[32mRun One Aggregate...   5%|█▋                             |  ETA: 0:00:58\u001b[39m\u001b[K"
     ]
    },
    {
     "name": "stderr",
     "output_type": "stream",
     "text": [
      "\r\u001b[32mRun One Aggregate...   5%|█▊                             |  ETA: 0:00:57\u001b[39m\u001b[K"
     ]
    },
    {
     "name": "stderr",
     "output_type": "stream",
     "text": [
      "\r\u001b[32mRun One Aggregate...   6%|█▊                             |  ETA: 0:00:55\u001b[39m\u001b[K"
     ]
    },
    {
     "name": "stderr",
     "output_type": "stream",
     "text": [
      "\r\u001b[32mRun One Aggregate...   6%|█▉                             |  ETA: 0:00:53\u001b[39m\u001b[K"
     ]
    },
    {
     "name": "stderr",
     "output_type": "stream",
     "text": [
      "\r\u001b[32mRun One Aggregate...   6%|██                             |  ETA: 0:00:52\u001b[39m\u001b[K"
     ]
    },
    {
     "name": "stderr",
     "output_type": "stream",
     "text": [
      "\r\u001b[32mRun One Aggregate...   7%|██▏                            |  ETA: 0:00:51\u001b[39m\u001b[K"
     ]
    },
    {
     "name": "stderr",
     "output_type": "stream",
     "text": [
      "\r\u001b[32mRun One Aggregate...   7%|██▎                            |  ETA: 0:00:50\u001b[39m\u001b[K"
     ]
    },
    {
     "name": "stderr",
     "output_type": "stream",
     "text": [
      "\r\u001b[32mRun One Aggregate...   7%|██▎                            |  ETA: 0:00:49\u001b[39m\u001b[K"
     ]
    },
    {
     "name": "stderr",
     "output_type": "stream",
     "text": [
      "\r\u001b[32mRun One Aggregate...   8%|██▍                            |  ETA: 0:00:48\u001b[39m\u001b[K"
     ]
    },
    {
     "name": "stderr",
     "output_type": "stream",
     "text": [
      "\r\u001b[32mRun One Aggregate...   8%|██▌                            |  ETA: 0:00:47\u001b[39m\u001b[K"
     ]
    },
    {
     "name": "stderr",
     "output_type": "stream",
     "text": [
      "\r\u001b[32mRun One Aggregate...   8%|██▋                            |  ETA: 0:00:46\u001b[39m\u001b[K"
     ]
    },
    {
     "name": "stderr",
     "output_type": "stream",
     "text": [
      "\r\u001b[32mRun One Aggregate...   9%|██▋                            |  ETA: 0:00:46\u001b[39m\u001b[K"
     ]
    },
    {
     "name": "stderr",
     "output_type": "stream",
     "text": [
      "\r\u001b[32mRun One Aggregate...   9%|██▊                            |  ETA: 0:00:45\u001b[39m\u001b[K"
     ]
    },
    {
     "name": "stderr",
     "output_type": "stream",
     "text": [
      "\r\u001b[32mRun One Aggregate...   9%|██▉                            |  ETA: 0:00:44\u001b[39m\u001b[K"
     ]
    },
    {
     "name": "stderr",
     "output_type": "stream",
     "text": [
      "\r\u001b[32mRun One Aggregate...  10%|███                            |  ETA: 0:00:44\u001b[39m\u001b[K"
     ]
    },
    {
     "name": "stderr",
     "output_type": "stream",
     "text": [
      "\r\u001b[32mRun One Aggregate...  10%|███▏                           |  ETA: 0:00:43\u001b[39m\u001b[K"
     ]
    },
    {
     "name": "stderr",
     "output_type": "stream",
     "text": [
      "\r\u001b[32mRun One Aggregate...  10%|███▏                           |  ETA: 0:00:42\u001b[39m\u001b[K"
     ]
    },
    {
     "name": "stderr",
     "output_type": "stream",
     "text": [
      "\r\u001b[32mRun One Aggregate...  11%|███▎                           |  ETA: 0:00:42\u001b[39m\u001b[K"
     ]
    },
    {
     "name": "stderr",
     "output_type": "stream",
     "text": [
      "\r\u001b[32mRun One Aggregate...  11%|███▍                           |  ETA: 0:00:41\u001b[39m\u001b[K"
     ]
    },
    {
     "name": "stderr",
     "output_type": "stream",
     "text": [
      "\r\u001b[32mRun One Aggregate...  11%|███▌                           |  ETA: 0:00:41\u001b[39m\u001b[K"
     ]
    },
    {
     "name": "stderr",
     "output_type": "stream",
     "text": [
      "\r\u001b[32mRun One Aggregate...  12%|███▋                           |  ETA: 0:00:40\u001b[39m\u001b[K"
     ]
    },
    {
     "name": "stderr",
     "output_type": "stream",
     "text": [
      "\r\u001b[32mRun One Aggregate...  12%|███▋                           |  ETA: 0:00:40\u001b[39m\u001b[K"
     ]
    },
    {
     "name": "stderr",
     "output_type": "stream",
     "text": [
      "\r\u001b[32mRun One Aggregate...  12%|███▊                           |  ETA: 0:00:39\u001b[39m\u001b[K"
     ]
    },
    {
     "name": "stderr",
     "output_type": "stream",
     "text": [
      "\r\u001b[32mRun One Aggregate...  13%|███▉                           |  ETA: 0:00:39\u001b[39m\u001b[K"
     ]
    },
    {
     "name": "stderr",
     "output_type": "stream",
     "text": [
      "\r\u001b[32mRun One Aggregate...  13%|████                           |  ETA: 0:00:39\u001b[39m\u001b[K"
     ]
    },
    {
     "name": "stderr",
     "output_type": "stream",
     "text": [
      "\r\u001b[32mRun One Aggregate...  13%|████▏                          |  ETA: 0:00:38\u001b[39m\u001b[K"
     ]
    },
    {
     "name": "stderr",
     "output_type": "stream",
     "text": [
      "\r\u001b[32mRun One Aggregate...  13%|████▏                          |  ETA: 0:00:38\u001b[39m\u001b[K"
     ]
    },
    {
     "name": "stderr",
     "output_type": "stream",
     "text": [
      "\r\u001b[32mRun One Aggregate...  14%|████▎                          |  ETA: 0:00:37\u001b[39m\u001b[K"
     ]
    },
    {
     "name": "stderr",
     "output_type": "stream",
     "text": [
      "\r\u001b[32mRun One Aggregate...  14%|████▍                          |  ETA: 0:00:37\u001b[39m\u001b[K"
     ]
    },
    {
     "name": "stderr",
     "output_type": "stream",
     "text": [
      "\r\u001b[32mRun One Aggregate...  14%|████▌                          |  ETA: 0:00:37\u001b[39m\u001b[K"
     ]
    },
    {
     "name": "stderr",
     "output_type": "stream",
     "text": [
      "\r\u001b[32mRun One Aggregate...  15%|████▋                          |  ETA: 0:00:37\u001b[39m\u001b[K"
     ]
    },
    {
     "name": "stderr",
     "output_type": "stream",
     "text": [
      "\r\u001b[32mRun One Aggregate...  15%|████▋                          |  ETA: 0:00:36\u001b[39m\u001b[K"
     ]
    },
    {
     "name": "stderr",
     "output_type": "stream",
     "text": [
      "\r\u001b[32mRun One Aggregate...  15%|████▊                          |  ETA: 0:00:36\u001b[39m\u001b[K"
     ]
    },
    {
     "name": "stderr",
     "output_type": "stream",
     "text": [
      "\r\u001b[32mRun One Aggregate...  16%|████▉                          |  ETA: 0:00:36\u001b[39m\u001b[K"
     ]
    },
    {
     "name": "stderr",
     "output_type": "stream",
     "text": [
      "\r\u001b[32mRun One Aggregate...  16%|█████                          |  ETA: 0:00:35\u001b[39m\u001b[K"
     ]
    },
    {
     "name": "stderr",
     "output_type": "stream",
     "text": [
      "\r\u001b[32mRun One Aggregate...  16%|█████▏                         |  ETA: 0:00:35\u001b[39m\u001b[K"
     ]
    },
    {
     "name": "stderr",
     "output_type": "stream",
     "text": [
      "\r\u001b[32mRun One Aggregate...  17%|█████▏                         |  ETA: 0:00:35\u001b[39m\u001b[K"
     ]
    },
    {
     "name": "stderr",
     "output_type": "stream",
     "text": [
      "\r\u001b[32mRun One Aggregate...  17%|█████▎                         |  ETA: 0:00:34\u001b[39m\u001b[K"
     ]
    },
    {
     "name": "stderr",
     "output_type": "stream",
     "text": [
      "\r\u001b[32mRun One Aggregate...  17%|█████▍                         |  ETA: 0:00:34\u001b[39m\u001b[K"
     ]
    },
    {
     "name": "stderr",
     "output_type": "stream",
     "text": [
      "\r\u001b[32mRun One Aggregate...  18%|█████▌                         |  ETA: 0:00:34\u001b[39m\u001b[K"
     ]
    },
    {
     "name": "stderr",
     "output_type": "stream",
     "text": [
      "\r\u001b[32mRun One Aggregate...  18%|█████▋                         |  ETA: 0:00:34\u001b[39m\u001b[K"
     ]
    },
    {
     "name": "stderr",
     "output_type": "stream",
     "text": [
      "\r\u001b[32mRun One Aggregate...  18%|█████▋                         |  ETA: 0:00:33\u001b[39m\u001b[K"
     ]
    },
    {
     "name": "stderr",
     "output_type": "stream",
     "text": [
      "\r\u001b[32mRun One Aggregate...  19%|█████▊                         |  ETA: 0:00:33\u001b[39m\u001b[K"
     ]
    },
    {
     "name": "stderr",
     "output_type": "stream",
     "text": [
      "\r\u001b[32mRun One Aggregate...  19%|█████▉                         |  ETA: 0:00:33\u001b[39m\u001b[K"
     ]
    },
    {
     "name": "stderr",
     "output_type": "stream",
     "text": [
      "\r\u001b[32mRun One Aggregate...  19%|██████                         |  ETA: 0:00:33\u001b[39m\u001b[K"
     ]
    },
    {
     "name": "stderr",
     "output_type": "stream",
     "text": [
      "\r\u001b[32mRun One Aggregate...  20%|██████                         |  ETA: 0:00:32\u001b[39m\u001b[K"
     ]
    },
    {
     "name": "stderr",
     "output_type": "stream",
     "text": [
      "\r\u001b[32mRun One Aggregate...  20%|██████▏                        |  ETA: 0:00:32\u001b[39m\u001b[K"
     ]
    },
    {
     "name": "stderr",
     "output_type": "stream",
     "text": [
      "\r\u001b[32mRun One Aggregate...  20%|██████▎                        |  ETA: 0:00:32\u001b[39m\u001b[K"
     ]
    },
    {
     "name": "stderr",
     "output_type": "stream",
     "text": [
      "\r\u001b[32mRun One Aggregate...  20%|██████▍                        |  ETA: 0:00:32\u001b[39m\u001b[K"
     ]
    },
    {
     "name": "stderr",
     "output_type": "stream",
     "text": [
      "\r\u001b[32mRun One Aggregate...  21%|██████▌                        |  ETA: 0:00:32\u001b[39m\u001b[K"
     ]
    },
    {
     "name": "stderr",
     "output_type": "stream",
     "text": [
      "\r\u001b[32mRun One Aggregate...  21%|██████▌                        |  ETA: 0:00:31\u001b[39m\u001b[K"
     ]
    },
    {
     "name": "stderr",
     "output_type": "stream",
     "text": [
      "\r\u001b[32mRun One Aggregate...  21%|██████▋                        |  ETA: 0:00:31\u001b[39m\u001b[K"
     ]
    },
    {
     "name": "stderr",
     "output_type": "stream",
     "text": [
      "\r\u001b[32mRun One Aggregate...  22%|██████▊                        |  ETA: 0:00:31\u001b[39m\u001b[K"
     ]
    },
    {
     "name": "stderr",
     "output_type": "stream",
     "text": [
      "\r\u001b[32mRun One Aggregate...  22%|██████▉                        |  ETA: 0:00:31\u001b[39m\u001b[K"
     ]
    },
    {
     "name": "stderr",
     "output_type": "stream",
     "text": [
      "\r\u001b[32mRun One Aggregate...  22%|███████                        |  ETA: 0:00:31\u001b[39m\u001b[K"
     ]
    },
    {
     "name": "stderr",
     "output_type": "stream",
     "text": [
      "\r\u001b[32mRun One Aggregate...  23%|███████                        |  ETA: 0:00:30\u001b[39m\u001b[K"
     ]
    },
    {
     "name": "stderr",
     "output_type": "stream",
     "text": [
      "\r\u001b[32mRun One Aggregate...  23%|███████▏                       |  ETA: 0:00:30\u001b[39m\u001b[K"
     ]
    },
    {
     "name": "stderr",
     "output_type": "stream",
     "text": [
      "\r\u001b[32mRun One Aggregate...  23%|███████▎                       |  ETA: 0:00:30\u001b[39m\u001b[K"
     ]
    },
    {
     "name": "stderr",
     "output_type": "stream",
     "text": [
      "\r\u001b[32mRun One Aggregate...  24%|███████▍                       |  ETA: 0:00:30\u001b[39m\u001b[K"
     ]
    },
    {
     "name": "stderr",
     "output_type": "stream",
     "text": [
      "\r\u001b[32mRun One Aggregate...  24%|███████▌                       |  ETA: 0:00:30\u001b[39m\u001b[K"
     ]
    },
    {
     "name": "stderr",
     "output_type": "stream",
     "text": [
      "\r\u001b[32mRun One Aggregate...  24%|███████▌                       |  ETA: 0:00:29\u001b[39m\u001b[K"
     ]
    },
    {
     "name": "stderr",
     "output_type": "stream",
     "text": [
      "\r\u001b[32mRun One Aggregate...  25%|███████▋                       |  ETA: 0:00:29\u001b[39m\u001b[K"
     ]
    },
    {
     "name": "stderr",
     "output_type": "stream",
     "text": [
      "\r\u001b[32mRun One Aggregate...  25%|███████▊                       |  ETA: 0:00:29\u001b[39m\u001b[K"
     ]
    },
    {
     "name": "stderr",
     "output_type": "stream",
     "text": [
      "\r\u001b[32mRun One Aggregate...  25%|███████▉                       |  ETA: 0:00:29\u001b[39m\u001b[K"
     ]
    },
    {
     "name": "stderr",
     "output_type": "stream",
     "text": [
      "\r\u001b[32mRun One Aggregate...  26%|████████                       |  ETA: 0:00:29\u001b[39m\u001b[K"
     ]
    },
    {
     "name": "stderr",
     "output_type": "stream",
     "text": [
      "\r\u001b[32mRun One Aggregate...  26%|████████                       |  ETA: 0:00:29\u001b[39m\u001b[K"
     ]
    },
    {
     "name": "stderr",
     "output_type": "stream",
     "text": [
      "\r\u001b[32mRun One Aggregate...  26%|████████▏                      |  ETA: 0:00:28\u001b[39m\u001b[K"
     ]
    },
    {
     "name": "stderr",
     "output_type": "stream",
     "text": [
      "\r\u001b[32mRun One Aggregate...  27%|████████▎                      |  ETA: 0:00:28\u001b[39m\u001b[K"
     ]
    },
    {
     "name": "stderr",
     "output_type": "stream",
     "text": [
      "\r\u001b[32mRun One Aggregate...  27%|████████▍                      |  ETA: 0:00:28\u001b[39m\u001b[K"
     ]
    },
    {
     "name": "stderr",
     "output_type": "stream",
     "text": [
      "\r\u001b[32mRun One Aggregate...  27%|████████▍                      |  ETA: 0:00:28\u001b[39m\u001b[K"
     ]
    },
    {
     "name": "stderr",
     "output_type": "stream",
     "text": [
      "\r\u001b[32mRun One Aggregate...  28%|████████▌                      |  ETA: 0:00:28\u001b[39m\u001b[K"
     ]
    },
    {
     "name": "stderr",
     "output_type": "stream",
     "text": [
      "\r\u001b[32mRun One Aggregate...  28%|████████▋                      |  ETA: 0:00:27\u001b[39m\u001b[K"
     ]
    },
    {
     "name": "stderr",
     "output_type": "stream",
     "text": [
      "\r\u001b[32mRun One Aggregate...  28%|████████▊                      |  ETA: 0:00:27\u001b[39m\u001b[K"
     ]
    },
    {
     "name": "stderr",
     "output_type": "stream",
     "text": [
      "\r\u001b[32mRun One Aggregate...  28%|████████▉                      |  ETA: 0:00:27\u001b[39m\u001b[K"
     ]
    },
    {
     "name": "stderr",
     "output_type": "stream",
     "text": [
      "\r\u001b[32mRun One Aggregate...  29%|████████▉                      |  ETA: 0:00:27\u001b[39m\u001b[K"
     ]
    },
    {
     "name": "stderr",
     "output_type": "stream",
     "text": [
      "\r\u001b[32mRun One Aggregate...  29%|█████████                      |  ETA: 0:00:27\u001b[39m\u001b[K"
     ]
    },
    {
     "name": "stderr",
     "output_type": "stream",
     "text": [
      "\r\u001b[32mRun One Aggregate...  29%|█████████▏                     |  ETA: 0:00:27\u001b[39m\u001b[K"
     ]
    },
    {
     "name": "stderr",
     "output_type": "stream",
     "text": [
      "\r\u001b[32mRun One Aggregate...  30%|█████████▎                     |  ETA: 0:00:27\u001b[39m\u001b[K"
     ]
    },
    {
     "name": "stderr",
     "output_type": "stream",
     "text": [
      "\r\u001b[32mRun One Aggregate...  30%|█████████▍                     |  ETA: 0:00:26\u001b[39m\u001b[K"
     ]
    },
    {
     "name": "stderr",
     "output_type": "stream",
     "text": [
      "\r\u001b[32mRun One Aggregate...  30%|█████████▍                     |  ETA: 0:00:26\u001b[39m\u001b[K"
     ]
    },
    {
     "name": "stderr",
     "output_type": "stream",
     "text": [
      "\r\u001b[32mRun One Aggregate...  31%|█████████▌                     |  ETA: 0:00:26\u001b[39m\u001b[K"
     ]
    },
    {
     "name": "stderr",
     "output_type": "stream",
     "text": [
      "\r\u001b[32mRun One Aggregate...  31%|█████████▋                     |  ETA: 0:00:26\u001b[39m\u001b[K"
     ]
    },
    {
     "name": "stderr",
     "output_type": "stream",
     "text": [
      "\r\u001b[32mRun One Aggregate...  31%|█████████▊                     |  ETA: 0:00:26\u001b[39m\u001b[K"
     ]
    },
    {
     "name": "stderr",
     "output_type": "stream",
     "text": [
      "\r\u001b[32mRun One Aggregate...  32%|█████████▉                     |  ETA: 0:00:26\u001b[39m\u001b[K"
     ]
    },
    {
     "name": "stderr",
     "output_type": "stream",
     "text": [
      "\r\u001b[32mRun One Aggregate...  32%|█████████▉                     |  ETA: 0:00:25\u001b[39m\u001b[K"
     ]
    },
    {
     "name": "stderr",
     "output_type": "stream",
     "text": [
      "\r\u001b[32mRun One Aggregate...  32%|██████████                     |  ETA: 0:00:25\u001b[39m\u001b[K"
     ]
    },
    {
     "name": "stderr",
     "output_type": "stream",
     "text": [
      "\r\u001b[32mRun One Aggregate...  33%|██████████▏                    |  ETA: 0:00:25\u001b[39m\u001b[K"
     ]
    },
    {
     "name": "stderr",
     "output_type": "stream",
     "text": [
      "\r\u001b[32mRun One Aggregate...  33%|██████████▎                    |  ETA: 0:00:25\u001b[39m\u001b[K"
     ]
    },
    {
     "name": "stderr",
     "output_type": "stream",
     "text": [
      "\r\u001b[32mRun One Aggregate...  33%|██████████▎                    |  ETA: 0:00:25\u001b[39m\u001b[K"
     ]
    },
    {
     "name": "stderr",
     "output_type": "stream",
     "text": [
      "\r\u001b[32mRun One Aggregate...  34%|██████████▍                    |  ETA: 0:00:25\u001b[39m\u001b[K"
     ]
    },
    {
     "name": "stderr",
     "output_type": "stream",
     "text": [
      "\r\u001b[32mRun One Aggregate...  34%|██████████▌                    |  ETA: 0:00:25\u001b[39m\u001b[K"
     ]
    },
    {
     "name": "stderr",
     "output_type": "stream",
     "text": [
      "\r\u001b[32mRun One Aggregate...  34%|██████████▋                    |  ETA: 0:00:24\u001b[39m\u001b[K"
     ]
    },
    {
     "name": "stderr",
     "output_type": "stream",
     "text": [
      "\r\u001b[32mRun One Aggregate...  34%|██████████▊                    |  ETA: 0:00:24\u001b[39m\u001b[K"
     ]
    },
    {
     "name": "stderr",
     "output_type": "stream",
     "text": [
      "\r\u001b[32mRun One Aggregate...  35%|██████████▊                    |  ETA: 0:00:24\u001b[39m\u001b[K"
     ]
    },
    {
     "name": "stderr",
     "output_type": "stream",
     "text": [
      "\r\u001b[32mRun One Aggregate...  35%|██████████▉                    |  ETA: 0:00:24\u001b[39m\u001b[K"
     ]
    },
    {
     "name": "stderr",
     "output_type": "stream",
     "text": [
      "\r\u001b[32mRun One Aggregate...  35%|███████████                    |  ETA: 0:00:24\u001b[39m\u001b[K"
     ]
    },
    {
     "name": "stderr",
     "output_type": "stream",
     "text": [
      "\r\u001b[32mRun One Aggregate...  36%|███████████▏                   |  ETA: 0:00:24\u001b[39m\u001b[K"
     ]
    },
    {
     "name": "stderr",
     "output_type": "stream",
     "text": [
      "\r\u001b[32mRun One Aggregate...  36%|███████████▎                   |  ETA: 0:00:24\u001b[39m\u001b[K"
     ]
    },
    {
     "name": "stderr",
     "output_type": "stream",
     "text": [
      "\r\u001b[32mRun One Aggregate...  36%|███████████▎                   |  ETA: 0:00:23\u001b[39m\u001b[K"
     ]
    },
    {
     "name": "stderr",
     "output_type": "stream",
     "text": [
      "\r\u001b[32mRun One Aggregate...  37%|███████████▍                   |  ETA: 0:00:23\u001b[39m\u001b[K"
     ]
    },
    {
     "name": "stderr",
     "output_type": "stream",
     "text": [
      "\r\u001b[32mRun One Aggregate...  37%|███████████▌                   |  ETA: 0:00:23\u001b[39m\u001b[K"
     ]
    },
    {
     "name": "stderr",
     "output_type": "stream",
     "text": [
      "\r\u001b[32mRun One Aggregate...  37%|███████████▋                   |  ETA: 0:00:23\u001b[39m\u001b[K"
     ]
    },
    {
     "name": "stderr",
     "output_type": "stream",
     "text": [
      "\r\u001b[32mRun One Aggregate...  38%|███████████▋                   |  ETA: 0:00:23\u001b[39m\u001b[K"
     ]
    },
    {
     "name": "stderr",
     "output_type": "stream",
     "text": [
      "\r\u001b[32mRun One Aggregate...  38%|███████████▊                   |  ETA: 0:00:23\u001b[39m\u001b[K"
     ]
    },
    {
     "name": "stderr",
     "output_type": "stream",
     "text": [
      "\r\u001b[32mRun One Aggregate...  38%|███████████▉                   |  ETA: 0:00:23\u001b[39m\u001b[K"
     ]
    },
    {
     "name": "stderr",
     "output_type": "stream",
     "text": [
      "\r\u001b[32mRun One Aggregate...  39%|████████████                   |  ETA: 0:00:23\u001b[39m\u001b[K"
     ]
    },
    {
     "name": "stderr",
     "output_type": "stream",
     "text": [
      "\r\u001b[32mRun One Aggregate...  39%|████████████▏                  |  ETA: 0:00:22\u001b[39m\u001b[K"
     ]
    },
    {
     "name": "stderr",
     "output_type": "stream",
     "text": [
      "\r\u001b[32mRun One Aggregate...  39%|████████████▏                  |  ETA: 0:00:22\u001b[39m\u001b[K"
     ]
    },
    {
     "name": "stderr",
     "output_type": "stream",
     "text": [
      "\r\u001b[32mRun One Aggregate...  40%|████████████▎                  |  ETA: 0:00:22\u001b[39m\u001b[K"
     ]
    },
    {
     "name": "stderr",
     "output_type": "stream",
     "text": [
      "\r\u001b[32mRun One Aggregate...  40%|████████████▍                  |  ETA: 0:00:22\u001b[39m\u001b[K"
     ]
    },
    {
     "name": "stderr",
     "output_type": "stream",
     "text": [
      "\r\u001b[32mRun One Aggregate...  40%|████████████▌                  |  ETA: 0:00:22\u001b[39m\u001b[K"
     ]
    },
    {
     "name": "stderr",
     "output_type": "stream",
     "text": [
      "\r\u001b[32mRun One Aggregate...  41%|████████████▌                  |  ETA: 0:00:22\u001b[39m\u001b[K"
     ]
    },
    {
     "name": "stderr",
     "output_type": "stream",
     "text": [
      "\r\u001b[32mRun One Aggregate...  41%|████████████▋                  |  ETA: 0:00:22\u001b[39m\u001b[K"
     ]
    },
    {
     "name": "stderr",
     "output_type": "stream",
     "text": [
      "\r\u001b[32mRun One Aggregate...  41%|████████████▊                  |  ETA: 0:00:21\u001b[39m\u001b[K"
     ]
    },
    {
     "name": "stderr",
     "output_type": "stream",
     "text": [
      "\r\u001b[32mRun One Aggregate...  41%|████████████▉                  |  ETA: 0:00:21\u001b[39m\u001b[K"
     ]
    },
    {
     "name": "stderr",
     "output_type": "stream",
     "text": [
      "\r\u001b[32mRun One Aggregate...  42%|█████████████                  |  ETA: 0:00:21\u001b[39m\u001b[K"
     ]
    },
    {
     "name": "stderr",
     "output_type": "stream",
     "text": [
      "\r\u001b[32mRun One Aggregate...  42%|█████████████                  |  ETA: 0:00:21\u001b[39m\u001b[K"
     ]
    },
    {
     "name": "stderr",
     "output_type": "stream",
     "text": [
      "\r\u001b[32mRun One Aggregate...  42%|█████████████▏                 |  ETA: 0:00:21\u001b[39m\u001b[K"
     ]
    },
    {
     "name": "stderr",
     "output_type": "stream",
     "text": [
      "\r\u001b[32mRun One Aggregate...  43%|█████████████▎                 |  ETA: 0:00:21\u001b[39m\u001b[K"
     ]
    },
    {
     "name": "stderr",
     "output_type": "stream",
     "text": [
      "\r\u001b[32mRun One Aggregate...  43%|█████████████▍                 |  ETA: 0:00:21\u001b[39m\u001b[K"
     ]
    },
    {
     "name": "stderr",
     "output_type": "stream",
     "text": [
      "\r\u001b[32mRun One Aggregate...  43%|█████████████▌                 |  ETA: 0:00:21\u001b[39m\u001b[K"
     ]
    },
    {
     "name": "stderr",
     "output_type": "stream",
     "text": [
      "\r\u001b[32mRun One Aggregate...  44%|█████████████▌                 |  ETA: 0:00:20\u001b[39m\u001b[K"
     ]
    },
    {
     "name": "stderr",
     "output_type": "stream",
     "text": [
      "\r\u001b[32mRun One Aggregate...  44%|█████████████▋                 |  ETA: 0:00:20\u001b[39m\u001b[K"
     ]
    },
    {
     "name": "stderr",
     "output_type": "stream",
     "text": [
      "\r\u001b[32mRun One Aggregate...  44%|█████████████▊                 |  ETA: 0:00:20\u001b[39m\u001b[K"
     ]
    },
    {
     "name": "stderr",
     "output_type": "stream",
     "text": [
      "\r\u001b[32mRun One Aggregate...  45%|█████████████▉                 |  ETA: 0:00:20\u001b[39m\u001b[K"
     ]
    },
    {
     "name": "stderr",
     "output_type": "stream",
     "text": [
      "\r\u001b[32mRun One Aggregate...  45%|█████████████▉                 |  ETA: 0:00:20\u001b[39m\u001b[K"
     ]
    },
    {
     "name": "stderr",
     "output_type": "stream",
     "text": [
      "\r\u001b[32mRun One Aggregate...  45%|██████████████                 |  ETA: 0:00:20\u001b[39m\u001b[K"
     ]
    },
    {
     "name": "stderr",
     "output_type": "stream",
     "text": [
      "\r\u001b[32mRun One Aggregate...  46%|██████████████▏                |  ETA: 0:00:20\u001b[39m\u001b[K"
     ]
    },
    {
     "name": "stderr",
     "output_type": "stream",
     "text": [
      "\r\u001b[32mRun One Aggregate...  46%|██████████████▎                |  ETA: 0:00:20\u001b[39m\u001b[K"
     ]
    },
    {
     "name": "stderr",
     "output_type": "stream",
     "text": [
      "\r\u001b[32mRun One Aggregate...  46%|██████████████▍                |  ETA: 0:00:19\u001b[39m\u001b[K"
     ]
    },
    {
     "name": "stderr",
     "output_type": "stream",
     "text": [
      "\r\u001b[32mRun One Aggregate...  47%|██████████████▍                |  ETA: 0:00:19\u001b[39m\u001b[K"
     ]
    },
    {
     "name": "stderr",
     "output_type": "stream",
     "text": [
      "\r\u001b[32mRun One Aggregate...  47%|██████████████▌                |  ETA: 0:00:19\u001b[39m\u001b[K"
     ]
    },
    {
     "name": "stderr",
     "output_type": "stream",
     "text": [
      "\r\u001b[32mRun One Aggregate...  47%|██████████████▋                |  ETA: 0:00:19\u001b[39m\u001b[K"
     ]
    },
    {
     "name": "stderr",
     "output_type": "stream",
     "text": [
      "\r\u001b[32mRun One Aggregate...  47%|██████████████▊                |  ETA: 0:00:19\u001b[39m\u001b[K"
     ]
    },
    {
     "name": "stderr",
     "output_type": "stream",
     "text": [
      "\r\u001b[32mRun One Aggregate...  48%|██████████████▉                |  ETA: 0:00:19\u001b[39m\u001b[K"
     ]
    },
    {
     "name": "stderr",
     "output_type": "stream",
     "text": [
      "\r\u001b[32mRun One Aggregate...  48%|██████████████▉                |  ETA: 0:00:19\u001b[39m\u001b[K"
     ]
    },
    {
     "name": "stderr",
     "output_type": "stream",
     "text": [
      "\r\u001b[32mRun One Aggregate...  48%|███████████████                |  ETA: 0:00:19\u001b[39m\u001b[K"
     ]
    },
    {
     "name": "stderr",
     "output_type": "stream",
     "text": [
      "\r\u001b[32mRun One Aggregate...  49%|███████████████▏               |  ETA: 0:00:18\u001b[39m\u001b[K"
     ]
    },
    {
     "name": "stderr",
     "output_type": "stream",
     "text": [
      "\r\u001b[32mRun One Aggregate...  49%|███████████████▎               |  ETA: 0:00:18\u001b[39m\u001b[K"
     ]
    },
    {
     "name": "stderr",
     "output_type": "stream",
     "text": [
      "\r\u001b[32mRun One Aggregate...  49%|███████████████▎               |  ETA: 0:00:18\u001b[39m\u001b[K"
     ]
    },
    {
     "name": "stderr",
     "output_type": "stream",
     "text": [
      "\r\u001b[32mRun One Aggregate...  50%|███████████████▍               |  ETA: 0:00:18\u001b[39m\u001b[K"
     ]
    },
    {
     "name": "stderr",
     "output_type": "stream",
     "text": [
      "\r\u001b[32mRun One Aggregate...  50%|███████████████▌               |  ETA: 0:00:18\u001b[39m\u001b[K"
     ]
    },
    {
     "name": "stderr",
     "output_type": "stream",
     "text": [
      "\r\u001b[32mRun One Aggregate...  50%|███████████████▋               |  ETA: 0:00:18\u001b[39m\u001b[K"
     ]
    },
    {
     "name": "stderr",
     "output_type": "stream",
     "text": [
      "\r\u001b[32mRun One Aggregate...  51%|███████████████▊               |  ETA: 0:00:18\u001b[39m\u001b[K"
     ]
    },
    {
     "name": "stderr",
     "output_type": "stream",
     "text": [
      "\r\u001b[32mRun One Aggregate...  51%|███████████████▊               |  ETA: 0:00:18\u001b[39m\u001b[K"
     ]
    },
    {
     "name": "stderr",
     "output_type": "stream",
     "text": [
      "\r\u001b[32mRun One Aggregate...  51%|███████████████▉               |  ETA: 0:00:17\u001b[39m\u001b[K"
     ]
    },
    {
     "name": "stderr",
     "output_type": "stream",
     "text": [
      "\r\u001b[32mRun One Aggregate...  52%|████████████████               |  ETA: 0:00:17\u001b[39m\u001b[K"
     ]
    },
    {
     "name": "stderr",
     "output_type": "stream",
     "text": [
      "\r\u001b[32mRun One Aggregate...  52%|████████████████▏              |  ETA: 0:00:17\u001b[39m\u001b[K"
     ]
    },
    {
     "name": "stderr",
     "output_type": "stream",
     "text": [
      "\r\u001b[32mRun One Aggregate...  52%|████████████████▎              |  ETA: 0:00:17\u001b[39m\u001b[K"
     ]
    },
    {
     "name": "stderr",
     "output_type": "stream",
     "text": [
      "\r\u001b[32mRun One Aggregate...  53%|████████████████▎              |  ETA: 0:00:17\u001b[39m\u001b[K"
     ]
    },
    {
     "name": "stderr",
     "output_type": "stream",
     "text": [
      "\r\u001b[32mRun One Aggregate...  53%|████████████████▍              |  ETA: 0:00:17\u001b[39m\u001b[K"
     ]
    },
    {
     "name": "stderr",
     "output_type": "stream",
     "text": [
      "\r\u001b[32mRun One Aggregate...  53%|████████████████▌              |  ETA: 0:00:17\u001b[39m\u001b[K"
     ]
    },
    {
     "name": "stderr",
     "output_type": "stream",
     "text": [
      "\r\u001b[32mRun One Aggregate...  54%|████████████████▋              |  ETA: 0:00:17\u001b[39m\u001b[K"
     ]
    },
    {
     "name": "stderr",
     "output_type": "stream",
     "text": [
      "\r\u001b[32mRun One Aggregate...  54%|████████████████▊              |  ETA: 0:00:16\u001b[39m\u001b[K"
     ]
    },
    {
     "name": "stderr",
     "output_type": "stream",
     "text": [
      "\r\u001b[32mRun One Aggregate...  54%|████████████████▊              |  ETA: 0:00:16\u001b[39m\u001b[K"
     ]
    },
    {
     "name": "stderr",
     "output_type": "stream",
     "text": [
      "\r\u001b[32mRun One Aggregate...  54%|████████████████▉              |  ETA: 0:00:16\u001b[39m\u001b[K"
     ]
    },
    {
     "name": "stderr",
     "output_type": "stream",
     "text": [
      "\r\u001b[32mRun One Aggregate...  55%|█████████████████              |  ETA: 0:00:16\u001b[39m\u001b[K"
     ]
    },
    {
     "name": "stderr",
     "output_type": "stream",
     "text": [
      "\r\u001b[32mRun One Aggregate...  55%|█████████████████▏             |  ETA: 0:00:16\u001b[39m\u001b[K"
     ]
    },
    {
     "name": "stderr",
     "output_type": "stream",
     "text": [
      "\r\u001b[32mRun One Aggregate...  55%|█████████████████▏             |  ETA: 0:00:16\u001b[39m\u001b[K"
     ]
    },
    {
     "name": "stderr",
     "output_type": "stream",
     "text": [
      "\r\u001b[32mRun One Aggregate...  56%|█████████████████▎             |  ETA: 0:00:16\u001b[39m\u001b[K"
     ]
    },
    {
     "name": "stderr",
     "output_type": "stream",
     "text": [
      "\r\u001b[32mRun One Aggregate...  56%|█████████████████▍             |  ETA: 0:00:16\u001b[39m\u001b[K"
     ]
    },
    {
     "name": "stderr",
     "output_type": "stream",
     "text": [
      "\r\u001b[32mRun One Aggregate...  56%|█████████████████▌             |  ETA: 0:00:16\u001b[39m\u001b[K"
     ]
    },
    {
     "name": "stderr",
     "output_type": "stream",
     "text": [
      "\r\u001b[32mRun One Aggregate...  57%|█████████████████▋             |  ETA: 0:00:15\u001b[39m\u001b[K"
     ]
    },
    {
     "name": "stderr",
     "output_type": "stream",
     "text": [
      "\r\u001b[32mRun One Aggregate...  57%|█████████████████▋             |  ETA: 0:00:15\u001b[39m\u001b[K"
     ]
    },
    {
     "name": "stderr",
     "output_type": "stream",
     "text": [
      "\r\u001b[32mRun One Aggregate...  57%|█████████████████▊             |  ETA: 0:00:15\u001b[39m\u001b[K"
     ]
    },
    {
     "name": "stderr",
     "output_type": "stream",
     "text": [
      "\r\u001b[32mRun One Aggregate...  58%|█████████████████▉             |  ETA: 0:00:15\u001b[39m\u001b[K"
     ]
    },
    {
     "name": "stderr",
     "output_type": "stream",
     "text": [
      "\r\u001b[32mRun One Aggregate...  58%|██████████████████             |  ETA: 0:00:15\u001b[39m\u001b[K"
     ]
    },
    {
     "name": "stderr",
     "output_type": "stream",
     "text": [
      "\r\u001b[32mRun One Aggregate...  58%|██████████████████▏            |  ETA: 0:00:15\u001b[39m\u001b[K"
     ]
    },
    {
     "name": "stderr",
     "output_type": "stream",
     "text": [
      "\r\u001b[32mRun One Aggregate...  59%|██████████████████▏            |  ETA: 0:00:15\u001b[39m\u001b[K"
     ]
    },
    {
     "name": "stderr",
     "output_type": "stream",
     "text": [
      "\r\u001b[32mRun One Aggregate...  59%|██████████████████▎            |  ETA: 0:00:15\u001b[39m\u001b[K"
     ]
    },
    {
     "name": "stderr",
     "output_type": "stream",
     "text": [
      "\r\u001b[32mRun One Aggregate...  59%|██████████████████▍            |  ETA: 0:00:14\u001b[39m\u001b[K"
     ]
    },
    {
     "name": "stderr",
     "output_type": "stream",
     "text": [
      "\r\u001b[32mRun One Aggregate...  60%|██████████████████▌            |  ETA: 0:00:14\u001b[39m\u001b[K"
     ]
    },
    {
     "name": "stderr",
     "output_type": "stream",
     "text": [
      "\r\u001b[32mRun One Aggregate...  60%|██████████████████▋            |  ETA: 0:00:14\u001b[39m\u001b[K"
     ]
    },
    {
     "name": "stderr",
     "output_type": "stream",
     "text": [
      "\r\u001b[32mRun One Aggregate...  60%|██████████████████▋            |  ETA: 0:00:14\u001b[39m\u001b[K"
     ]
    },
    {
     "name": "stderr",
     "output_type": "stream",
     "text": [
      "\r\u001b[32mRun One Aggregate...  61%|██████████████████▊            |  ETA: 0:00:14\u001b[39m\u001b[K"
     ]
    },
    {
     "name": "stderr",
     "output_type": "stream",
     "text": [
      "\r\u001b[32mRun One Aggregate...  61%|██████████████████▉            |  ETA: 0:00:14\u001b[39m\u001b[K"
     ]
    },
    {
     "name": "stderr",
     "output_type": "stream",
     "text": [
      "\r\u001b[32mRun One Aggregate...  61%|███████████████████            |  ETA: 0:00:14\u001b[39m\u001b[K"
     ]
    },
    {
     "name": "stderr",
     "output_type": "stream",
     "text": [
      "\r\u001b[32mRun One Aggregate...  61%|███████████████████            |  ETA: 0:00:14\u001b[39m\u001b[K"
     ]
    },
    {
     "name": "stderr",
     "output_type": "stream",
     "text": [
      "\r\u001b[32mRun One Aggregate...  62%|███████████████████▏           |  ETA: 0:00:14\u001b[39m\u001b[K"
     ]
    },
    {
     "name": "stderr",
     "output_type": "stream",
     "text": [
      "\r\u001b[32mRun One Aggregate...  62%|███████████████████▎           |  ETA: 0:00:13\u001b[39m\u001b[K"
     ]
    },
    {
     "name": "stderr",
     "output_type": "stream",
     "text": [
      "\r\u001b[32mRun One Aggregate...  62%|███████████████████▍           |  ETA: 0:00:13\u001b[39m\u001b[K"
     ]
    },
    {
     "name": "stderr",
     "output_type": "stream",
     "text": [
      "\r\u001b[32mRun One Aggregate...  63%|███████████████████▌           |  ETA: 0:00:13\u001b[39m\u001b[K"
     ]
    },
    {
     "name": "stderr",
     "output_type": "stream",
     "text": [
      "\r\u001b[32mRun One Aggregate...  63%|███████████████████▌           |  ETA: 0:00:13\u001b[39m\u001b[K"
     ]
    },
    {
     "name": "stderr",
     "output_type": "stream",
     "text": [
      "\r\u001b[32mRun One Aggregate...  63%|███████████████████▋           |  ETA: 0:00:13\u001b[39m\u001b[K"
     ]
    },
    {
     "name": "stderr",
     "output_type": "stream",
     "text": [
      "\r\u001b[32mRun One Aggregate...  64%|███████████████████▊           |  ETA: 0:00:13\u001b[39m\u001b[K"
     ]
    },
    {
     "name": "stderr",
     "output_type": "stream",
     "text": [
      "\r\u001b[32mRun One Aggregate...  64%|███████████████████▉           |  ETA: 0:00:13\u001b[39m\u001b[K"
     ]
    },
    {
     "name": "stderr",
     "output_type": "stream",
     "text": [
      "\r\u001b[32mRun One Aggregate...  64%|████████████████████           |  ETA: 0:00:13\u001b[39m\u001b[K"
     ]
    },
    {
     "name": "stderr",
     "output_type": "stream",
     "text": [
      "\r\u001b[32mRun One Aggregate...  65%|████████████████████           |  ETA: 0:00:12\u001b[39m\u001b[K"
     ]
    },
    {
     "name": "stderr",
     "output_type": "stream",
     "text": [
      "\r\u001b[32mRun One Aggregate...  65%|████████████████████▏          |  ETA: 0:00:12\u001b[39m\u001b[K"
     ]
    },
    {
     "name": "stderr",
     "output_type": "stream",
     "text": [
      "\r\u001b[32mRun One Aggregate...  65%|████████████████████▎          |  ETA: 0:00:12\u001b[39m\u001b[K"
     ]
    },
    {
     "name": "stderr",
     "output_type": "stream",
     "text": [
      "\r\u001b[32mRun One Aggregate...  66%|████████████████████▍          |  ETA: 0:00:12\u001b[39m\u001b[K"
     ]
    },
    {
     "name": "stderr",
     "output_type": "stream",
     "text": [
      "\r\u001b[32mRun One Aggregate...  66%|████████████████████▌          |  ETA: 0:00:12\u001b[39m\u001b[K"
     ]
    },
    {
     "name": "stderr",
     "output_type": "stream",
     "text": [
      "\r\u001b[32mRun One Aggregate...  66%|████████████████████▌          |  ETA: 0:00:12\u001b[39m\u001b[K"
     ]
    },
    {
     "name": "stderr",
     "output_type": "stream",
     "text": [
      "\r\u001b[32mRun One Aggregate...  67%|████████████████████▋          |  ETA: 0:00:12\u001b[39m\u001b[K"
     ]
    },
    {
     "name": "stderr",
     "output_type": "stream",
     "text": [
      "\r\u001b[32mRun One Aggregate...  67%|████████████████████▊          |  ETA: 0:00:12\u001b[39m\u001b[K"
     ]
    },
    {
     "name": "stderr",
     "output_type": "stream",
     "text": [
      "\r\u001b[32mRun One Aggregate...  67%|████████████████████▉          |  ETA: 0:00:12\u001b[39m\u001b[K"
     ]
    },
    {
     "name": "stderr",
     "output_type": "stream",
     "text": [
      "\r\u001b[32mRun One Aggregate...  68%|████████████████████▉          |  ETA: 0:00:11\u001b[39m\u001b[K"
     ]
    },
    {
     "name": "stderr",
     "output_type": "stream",
     "text": [
      "\r\u001b[32mRun One Aggregate...  68%|█████████████████████          |  ETA: 0:00:11\u001b[39m\u001b[K"
     ]
    },
    {
     "name": "stderr",
     "output_type": "stream",
     "text": [
      "\r\u001b[32mRun One Aggregate...  68%|█████████████████████▏         |  ETA: 0:00:11\u001b[39m\u001b[K"
     ]
    },
    {
     "name": "stderr",
     "output_type": "stream",
     "text": [
      "\r\u001b[32mRun One Aggregate...  68%|█████████████████████▎         |  ETA: 0:00:11\u001b[39m\u001b[K"
     ]
    },
    {
     "name": "stderr",
     "output_type": "stream",
     "text": [
      "\r\u001b[32mRun One Aggregate...  69%|█████████████████████▍         |  ETA: 0:00:11\u001b[39m\u001b[K"
     ]
    },
    {
     "name": "stderr",
     "output_type": "stream",
     "text": [
      "\r\u001b[32mRun One Aggregate...  69%|█████████████████████▍         |  ETA: 0:00:11\u001b[39m\u001b[K"
     ]
    },
    {
     "name": "stderr",
     "output_type": "stream",
     "text": [
      "\r\u001b[32mRun One Aggregate...  69%|█████████████████████▌         |  ETA: 0:00:11\u001b[39m\u001b[K"
     ]
    },
    {
     "name": "stderr",
     "output_type": "stream",
     "text": [
      "\r\u001b[32mRun One Aggregate...  70%|█████████████████████▋         |  ETA: 0:00:11\u001b[39m\u001b[K"
     ]
    },
    {
     "name": "stderr",
     "output_type": "stream",
     "text": [
      "\r\u001b[32mRun One Aggregate...  70%|█████████████████████▊         |  ETA: 0:00:11\u001b[39m\u001b[K"
     ]
    },
    {
     "name": "stderr",
     "output_type": "stream",
     "text": [
      "\r\u001b[32mRun One Aggregate...  70%|█████████████████████▉         |  ETA: 0:00:10\u001b[39m\u001b[K"
     ]
    },
    {
     "name": "stderr",
     "output_type": "stream",
     "text": [
      "\r\u001b[32mRun One Aggregate...  71%|█████████████████████▉         |  ETA: 0:00:10\u001b[39m\u001b[K"
     ]
    },
    {
     "name": "stderr",
     "output_type": "stream",
     "text": [
      "\r\u001b[32mRun One Aggregate...  71%|██████████████████████         |  ETA: 0:00:10\u001b[39m\u001b[K"
     ]
    },
    {
     "name": "stderr",
     "output_type": "stream",
     "text": [
      "\r\u001b[32mRun One Aggregate...  71%|██████████████████████▏        |  ETA: 0:00:10\u001b[39m\u001b[K"
     ]
    },
    {
     "name": "stderr",
     "output_type": "stream",
     "text": [
      "\r\u001b[32mRun One Aggregate...  72%|██████████████████████▎        |  ETA: 0:00:10\u001b[39m\u001b[K"
     ]
    },
    {
     "name": "stderr",
     "output_type": "stream",
     "text": [
      "\r\u001b[32mRun One Aggregate...  72%|██████████████████████▍        |  ETA: 0:00:10\u001b[39m\u001b[K"
     ]
    },
    {
     "name": "stderr",
     "output_type": "stream",
     "text": [
      "\r\u001b[32mRun One Aggregate...  72%|██████████████████████▍        |  ETA: 0:00:10\u001b[39m\u001b[K"
     ]
    },
    {
     "name": "stderr",
     "output_type": "stream",
     "text": [
      "\r\u001b[32mRun One Aggregate...  73%|██████████████████████▌        |  ETA: 0:00:10\u001b[39m\u001b[K"
     ]
    },
    {
     "name": "stderr",
     "output_type": "stream",
     "text": [
      "\r\u001b[32mRun One Aggregate...  73%|██████████████████████▋        |  ETA: 0:00:09\u001b[39m\u001b[K"
     ]
    },
    {
     "name": "stderr",
     "output_type": "stream",
     "text": [
      "\r\u001b[32mRun One Aggregate...  73%|██████████████████████▊        |  ETA: 0:00:09\u001b[39m\u001b[K"
     ]
    },
    {
     "name": "stderr",
     "output_type": "stream",
     "text": [
      "\r\u001b[32mRun One Aggregate...  74%|██████████████████████▊        |  ETA: 0:00:09\u001b[39m\u001b[K"
     ]
    },
    {
     "name": "stderr",
     "output_type": "stream",
     "text": [
      "\r\u001b[32mRun One Aggregate...  74%|██████████████████████▉        |  ETA: 0:00:09\u001b[39m\u001b[K"
     ]
    },
    {
     "name": "stderr",
     "output_type": "stream",
     "text": [
      "\r\u001b[32mRun One Aggregate...  74%|███████████████████████        |  ETA: 0:00:09\u001b[39m\u001b[K"
     ]
    },
    {
     "name": "stderr",
     "output_type": "stream",
     "text": [
      "\r\u001b[32mRun One Aggregate...  74%|███████████████████████▏       |  ETA: 0:00:09\u001b[39m\u001b[K"
     ]
    },
    {
     "name": "stderr",
     "output_type": "stream",
     "text": [
      "\r\u001b[32mRun One Aggregate...  75%|███████████████████████▎       |  ETA: 0:00:09\u001b[39m\u001b[K"
     ]
    },
    {
     "name": "stderr",
     "output_type": "stream",
     "text": [
      "\r\u001b[32mRun One Aggregate...  75%|███████████████████████▎       |  ETA: 0:00:09\u001b[39m\u001b[K"
     ]
    },
    {
     "name": "stderr",
     "output_type": "stream",
     "text": [
      "\r\u001b[32mRun One Aggregate...  75%|███████████████████████▍       |  ETA: 0:00:09\u001b[39m\u001b[K"
     ]
    },
    {
     "name": "stderr",
     "output_type": "stream",
     "text": [
      "\r\u001b[32mRun One Aggregate...  76%|███████████████████████▌       |  ETA: 0:00:08\u001b[39m\u001b[K"
     ]
    },
    {
     "name": "stderr",
     "output_type": "stream",
     "text": [
      "\r\u001b[32mRun One Aggregate...  76%|███████████████████████▋       |  ETA: 0:00:08\u001b[39m\u001b[K"
     ]
    },
    {
     "name": "stderr",
     "output_type": "stream",
     "text": [
      "\r\u001b[32mRun One Aggregate...  76%|███████████████████████▊       |  ETA: 0:00:08\u001b[39m\u001b[K"
     ]
    },
    {
     "name": "stderr",
     "output_type": "stream",
     "text": [
      "\r\u001b[32mRun One Aggregate...  77%|███████████████████████▊       |  ETA: 0:00:08\u001b[39m\u001b[K"
     ]
    },
    {
     "name": "stderr",
     "output_type": "stream",
     "text": [
      "\r\u001b[32mRun One Aggregate...  77%|███████████████████████▉       |  ETA: 0:00:08\u001b[39m\u001b[K"
     ]
    },
    {
     "name": "stderr",
     "output_type": "stream",
     "text": [
      "\r\u001b[32mRun One Aggregate...  77%|████████████████████████       |  ETA: 0:00:08\u001b[39m\u001b[K"
     ]
    },
    {
     "name": "stderr",
     "output_type": "stream",
     "text": [
      "\r\u001b[32mRun One Aggregate...  78%|████████████████████████▏      |  ETA: 0:00:08\u001b[39m\u001b[K"
     ]
    },
    {
     "name": "stderr",
     "output_type": "stream",
     "text": [
      "\r\u001b[32mRun One Aggregate...  78%|████████████████████████▏      |  ETA: 0:00:08\u001b[39m\u001b[K"
     ]
    },
    {
     "name": "stderr",
     "output_type": "stream",
     "text": [
      "\r\u001b[32mRun One Aggregate...  78%|████████████████████████▎      |  ETA: 0:00:08\u001b[39m\u001b[K"
     ]
    },
    {
     "name": "stderr",
     "output_type": "stream",
     "text": [
      "\r\u001b[32mRun One Aggregate...  79%|████████████████████████▍      |  ETA: 0:00:07\u001b[39m\u001b[K"
     ]
    },
    {
     "name": "stderr",
     "output_type": "stream",
     "text": [
      "\r\u001b[32mRun One Aggregate...  79%|████████████████████████▌      |  ETA: 0:00:07\u001b[39m\u001b[K"
     ]
    },
    {
     "name": "stderr",
     "output_type": "stream",
     "text": [
      "\r\u001b[32mRun One Aggregate...  79%|████████████████████████▋      |  ETA: 0:00:07\u001b[39m\u001b[K"
     ]
    },
    {
     "name": "stderr",
     "output_type": "stream",
     "text": [
      "\r\u001b[32mRun One Aggregate...  80%|████████████████████████▋      |  ETA: 0:00:07\u001b[39m\u001b[K"
     ]
    },
    {
     "name": "stderr",
     "output_type": "stream",
     "text": [
      "\r\u001b[32mRun One Aggregate...  80%|████████████████████████▊      |  ETA: 0:00:07\u001b[39m\u001b[K"
     ]
    },
    {
     "name": "stderr",
     "output_type": "stream",
     "text": [
      "\r\u001b[32mRun One Aggregate...  80%|████████████████████████▉      |  ETA: 0:00:07\u001b[39m\u001b[K"
     ]
    },
    {
     "name": "stderr",
     "output_type": "stream",
     "text": [
      "\r\u001b[32mRun One Aggregate...  81%|█████████████████████████      |  ETA: 0:00:07\u001b[39m\u001b[K"
     ]
    },
    {
     "name": "stderr",
     "output_type": "stream",
     "text": [
      "\r\u001b[32mRun One Aggregate...  81%|█████████████████████████▏     |  ETA: 0:00:07\u001b[39m\u001b[K"
     ]
    },
    {
     "name": "stderr",
     "output_type": "stream",
     "text": [
      "\r\u001b[32mRun One Aggregate...  81%|█████████████████████████▏     |  ETA: 0:00:07\u001b[39m\u001b[K"
     ]
    },
    {
     "name": "stderr",
     "output_type": "stream",
     "text": [
      "\r\u001b[32mRun One Aggregate...  82%|█████████████████████████▎     |  ETA: 0:00:06\u001b[39m\u001b[K"
     ]
    },
    {
     "name": "stderr",
     "output_type": "stream",
     "text": [
      "\r\u001b[32mRun One Aggregate...  82%|█████████████████████████▍     |  ETA: 0:00:06\u001b[39m\u001b[K"
     ]
    },
    {
     "name": "stderr",
     "output_type": "stream",
     "text": [
      "\r\u001b[32mRun One Aggregate...  82%|█████████████████████████▌     |  ETA: 0:00:06\u001b[39m\u001b[K"
     ]
    },
    {
     "name": "stderr",
     "output_type": "stream",
     "text": [
      "\r\u001b[32mRun One Aggregate...  82%|█████████████████████████▌     |  ETA: 0:00:06\u001b[39m\u001b[K"
     ]
    },
    {
     "name": "stderr",
     "output_type": "stream",
     "text": [
      "\r\u001b[32mRun One Aggregate...  83%|█████████████████████████▋     |  ETA: 0:00:06\u001b[39m\u001b[K"
     ]
    },
    {
     "name": "stderr",
     "output_type": "stream",
     "text": [
      "\r\u001b[32mRun One Aggregate...  83%|█████████████████████████▊     |  ETA: 0:00:06\u001b[39m\u001b[K"
     ]
    },
    {
     "name": "stderr",
     "output_type": "stream",
     "text": [
      "\r\u001b[32mRun One Aggregate...  83%|█████████████████████████▉     |  ETA: 0:00:06\u001b[39m\u001b[K"
     ]
    },
    {
     "name": "stderr",
     "output_type": "stream",
     "text": [
      "\r\u001b[32mRun One Aggregate...  84%|██████████████████████████     |  ETA: 0:00:06\u001b[39m\u001b[K"
     ]
    },
    {
     "name": "stderr",
     "output_type": "stream",
     "text": [
      "\r\u001b[32mRun One Aggregate...  84%|██████████████████████████     |  ETA: 0:00:06\u001b[39m\u001b[K"
     ]
    },
    {
     "name": "stderr",
     "output_type": "stream",
     "text": [
      "\r\u001b[32mRun One Aggregate...  84%|██████████████████████████▏    |  ETA: 0:00:05\u001b[39m\u001b[K"
     ]
    },
    {
     "name": "stderr",
     "output_type": "stream",
     "text": [
      "\r\u001b[32mRun One Aggregate...  85%|██████████████████████████▎    |  ETA: 0:00:05\u001b[39m\u001b[K"
     ]
    },
    {
     "name": "stderr",
     "output_type": "stream",
     "text": [
      "\r\u001b[32mRun One Aggregate...  85%|██████████████████████████▍    |  ETA: 0:00:05\u001b[39m\u001b[K"
     ]
    },
    {
     "name": "stderr",
     "output_type": "stream",
     "text": [
      "\r\u001b[32mRun One Aggregate...  85%|██████████████████████████▌    |  ETA: 0:00:05\u001b[39m\u001b[K"
     ]
    },
    {
     "name": "stderr",
     "output_type": "stream",
     "text": [
      "\r\u001b[32mRun One Aggregate...  86%|██████████████████████████▌    |  ETA: 0:00:05\u001b[39m\u001b[K"
     ]
    },
    {
     "name": "stderr",
     "output_type": "stream",
     "text": [
      "\r\u001b[32mRun One Aggregate...  86%|██████████████████████████▋    |  ETA: 0:00:05\u001b[39m\u001b[K"
     ]
    },
    {
     "name": "stderr",
     "output_type": "stream",
     "text": [
      "\r\u001b[32mRun One Aggregate...  86%|██████████████████████████▊    |  ETA: 0:00:05\u001b[39m\u001b[K"
     ]
    },
    {
     "name": "stderr",
     "output_type": "stream",
     "text": [
      "\r\u001b[32mRun One Aggregate...  87%|██████████████████████████▉    |  ETA: 0:00:05\u001b[39m\u001b[K"
     ]
    },
    {
     "name": "stderr",
     "output_type": "stream",
     "text": [
      "\r\u001b[32mRun One Aggregate...  87%|██████████████████████████▉    |  ETA: 0:00:05\u001b[39m\u001b[K"
     ]
    },
    {
     "name": "stderr",
     "output_type": "stream",
     "text": [
      "\r\u001b[32mRun One Aggregate...  87%|███████████████████████████    |  ETA: 0:00:04\u001b[39m\u001b[K"
     ]
    },
    {
     "name": "stderr",
     "output_type": "stream",
     "text": [
      "\r\u001b[32mRun One Aggregate...  88%|███████████████████████████▏   |  ETA: 0:00:04\u001b[39m\u001b[K"
     ]
    },
    {
     "name": "stderr",
     "output_type": "stream",
     "text": [
      "\r\u001b[32mRun One Aggregate...  88%|███████████████████████████▎   |  ETA: 0:00:04\u001b[39m\u001b[K"
     ]
    },
    {
     "name": "stderr",
     "output_type": "stream",
     "text": [
      "\r\u001b[32mRun One Aggregate...  88%|███████████████████████████▍   |  ETA: 0:00:04\u001b[39m\u001b[K"
     ]
    },
    {
     "name": "stderr",
     "output_type": "stream",
     "text": [
      "\r\u001b[32mRun One Aggregate...  88%|███████████████████████████▍   |  ETA: 0:00:04\u001b[39m\u001b[K"
     ]
    },
    {
     "name": "stderr",
     "output_type": "stream",
     "text": [
      "\r\u001b[32mRun One Aggregate...  89%|███████████████████████████▌   |  ETA: 0:00:04\u001b[39m\u001b[K"
     ]
    },
    {
     "name": "stderr",
     "output_type": "stream",
     "text": [
      "\r\u001b[32mRun One Aggregate...  89%|███████████████████████████▋   |  ETA: 0:00:04\u001b[39m\u001b[K"
     ]
    },
    {
     "name": "stderr",
     "output_type": "stream",
     "text": [
      "\r\u001b[32mRun One Aggregate...  89%|███████████████████████████▊   |  ETA: 0:00:04\u001b[39m\u001b[K"
     ]
    },
    {
     "name": "stderr",
     "output_type": "stream",
     "text": [
      "\r\u001b[32mRun One Aggregate...  90%|███████████████████████████▉   |  ETA: 0:00:04\u001b[39m\u001b[K"
     ]
    },
    {
     "name": "stderr",
     "output_type": "stream",
     "text": [
      "\r\u001b[32mRun One Aggregate...  90%|███████████████████████████▉   |  ETA: 0:00:03\u001b[39m\u001b[K"
     ]
    },
    {
     "name": "stderr",
     "output_type": "stream",
     "text": [
      "\r\u001b[32mRun One Aggregate...  90%|████████████████████████████   |  ETA: 0:00:03\u001b[39m\u001b[K"
     ]
    },
    {
     "name": "stderr",
     "output_type": "stream",
     "text": [
      "\r\u001b[32mRun One Aggregate...  91%|████████████████████████████▏  |  ETA: 0:00:03\u001b[39m\u001b[K"
     ]
    },
    {
     "name": "stderr",
     "output_type": "stream",
     "text": [
      "\r\u001b[32mRun One Aggregate...  91%|████████████████████████████▎  |  ETA: 0:00:03\u001b[39m\u001b[K"
     ]
    },
    {
     "name": "stderr",
     "output_type": "stream",
     "text": [
      "\r\u001b[32mRun One Aggregate...  91%|████████████████████████████▍  |  ETA: 0:00:03\u001b[39m\u001b[K"
     ]
    },
    {
     "name": "stderr",
     "output_type": "stream",
     "text": [
      "\r\u001b[32mRun One Aggregate...  92%|████████████████████████████▍  |  ETA: 0:00:03\u001b[39m\u001b[K"
     ]
    },
    {
     "name": "stderr",
     "output_type": "stream",
     "text": [
      "\r\u001b[32mRun One Aggregate...  92%|████████████████████████████▌  |  ETA: 0:00:03\u001b[39m\u001b[K"
     ]
    },
    {
     "name": "stderr",
     "output_type": "stream",
     "text": [
      "\r\u001b[32mRun One Aggregate...  92%|████████████████████████████▋  |  ETA: 0:00:03\u001b[39m\u001b[K"
     ]
    },
    {
     "name": "stderr",
     "output_type": "stream",
     "text": [
      "\r\u001b[32mRun One Aggregate...  93%|████████████████████████████▊  |  ETA: 0:00:03\u001b[39m\u001b[K"
     ]
    },
    {
     "name": "stderr",
     "output_type": "stream",
     "text": [
      "\r\u001b[32mRun One Aggregate...  93%|████████████████████████████▊  |  ETA: 0:00:02\u001b[39m\u001b[K"
     ]
    },
    {
     "name": "stderr",
     "output_type": "stream",
     "text": [
      "\r\u001b[32mRun One Aggregate...  93%|████████████████████████████▉  |  ETA: 0:00:02\u001b[39m\u001b[K"
     ]
    },
    {
     "name": "stderr",
     "output_type": "stream",
     "text": [
      "\r\u001b[32mRun One Aggregate...  94%|█████████████████████████████  |  ETA: 0:00:02\u001b[39m\u001b[K"
     ]
    },
    {
     "name": "stderr",
     "output_type": "stream",
     "text": [
      "\r\u001b[32mRun One Aggregate...  94%|█████████████████████████████▏ |  ETA: 0:00:02\u001b[39m\u001b[K"
     ]
    },
    {
     "name": "stderr",
     "output_type": "stream",
     "text": [
      "\r\u001b[32mRun One Aggregate...  94%|█████████████████████████████▎ |  ETA: 0:00:02\u001b[39m\u001b[K"
     ]
    },
    {
     "name": "stderr",
     "output_type": "stream",
     "text": [
      "\r\u001b[32mRun One Aggregate...  95%|█████████████████████████████▎ |  ETA: 0:00:02\u001b[39m\u001b[K"
     ]
    },
    {
     "name": "stderr",
     "output_type": "stream",
     "text": [
      "\r\u001b[32mRun One Aggregate...  95%|█████████████████████████████▍ |  ETA: 0:00:02\u001b[39m\u001b[K"
     ]
    },
    {
     "name": "stderr",
     "output_type": "stream",
     "text": [
      "\r\u001b[32mRun One Aggregate...  95%|█████████████████████████████▌ |  ETA: 0:00:02\u001b[39m\u001b[K"
     ]
    },
    {
     "name": "stderr",
     "output_type": "stream",
     "text": [
      "\r\u001b[32mRun One Aggregate...  95%|█████████████████████████████▋ |  ETA: 0:00:02\u001b[39m\u001b[K"
     ]
    },
    {
     "name": "stderr",
     "output_type": "stream",
     "text": [
      "\r\u001b[32mRun One Aggregate...  96%|█████████████████████████████▊ |  ETA: 0:00:01\u001b[39m\u001b[K"
     ]
    },
    {
     "name": "stderr",
     "output_type": "stream",
     "text": [
      "\r\u001b[32mRun One Aggregate...  96%|█████████████████████████████▊ |  ETA: 0:00:01\u001b[39m\u001b[K"
     ]
    },
    {
     "name": "stderr",
     "output_type": "stream",
     "text": [
      "\r\u001b[32mRun One Aggregate...  96%|█████████████████████████████▉ |  ETA: 0:00:01\u001b[39m\u001b[K"
     ]
    },
    {
     "name": "stderr",
     "output_type": "stream",
     "text": [
      "\r\u001b[32mRun One Aggregate...  97%|██████████████████████████████ |  ETA: 0:00:01\u001b[39m\u001b[K"
     ]
    },
    {
     "name": "stderr",
     "output_type": "stream",
     "text": [
      "\r\u001b[32mRun One Aggregate...  97%|██████████████████████████████▏|  ETA: 0:00:01\u001b[39m\u001b[K"
     ]
    },
    {
     "name": "stderr",
     "output_type": "stream",
     "text": [
      "\r\u001b[32mRun One Aggregate...  97%|██████████████████████████████▎|  ETA: 0:00:01\u001b[39m\u001b[K"
     ]
    },
    {
     "name": "stderr",
     "output_type": "stream",
     "text": [
      "\r\u001b[32mRun One Aggregate...  98%|██████████████████████████████▎|  ETA: 0:00:01\u001b[39m\u001b[K"
     ]
    },
    {
     "name": "stderr",
     "output_type": "stream",
     "text": [
      "\r\u001b[32mRun One Aggregate...  98%|██████████████████████████████▍|  ETA: 0:00:01\u001b[39m\u001b[K"
     ]
    },
    {
     "name": "stderr",
     "output_type": "stream",
     "text": [
      "\r\u001b[32mRun One Aggregate...  98%|██████████████████████████████▌|  ETA: 0:00:01\u001b[39m\u001b[K"
     ]
    },
    {
     "name": "stderr",
     "output_type": "stream",
     "text": [
      "\r\u001b[32mRun One Aggregate...  99%|██████████████████████████████▋|  ETA: 0:00:00\u001b[39m\u001b[K"
     ]
    },
    {
     "name": "stderr",
     "output_type": "stream",
     "text": [
      "\r\u001b[32mRun One Aggregate...  99%|██████████████████████████████▋|  ETA: 0:00:00\u001b[39m\u001b[K"
     ]
    },
    {
     "name": "stderr",
     "output_type": "stream",
     "text": [
      "\r\u001b[32mRun One Aggregate...  99%|██████████████████████████████▊|  ETA: 0:00:00\u001b[39m\u001b[K"
     ]
    },
    {
     "name": "stderr",
     "output_type": "stream",
     "text": [
      "\r\u001b[32mRun One Aggregate... 100%|██████████████████████████████▉|  ETA: 0:00:00\u001b[39m\u001b[K"
     ]
    },
    {
     "name": "stderr",
     "output_type": "stream",
     "text": [
      "\r\u001b[32mRun One Aggregate... 100%|███████████████████████████████|  ETA: 0:00:00\u001b[39m\u001b[K"
     ]
    },
    {
     "name": "stderr",
     "output_type": "stream",
     "text": [
      "\r\u001b[32mRun One Aggregate... 100%|███████████████████████████████| Time: 0:00:34\u001b[39m\u001b[K\n"
     ]
    }
   ],
   "source": [
    "run_test(agg, model,\"Run One Aggregate\", false, false)"
   ]
  },
  {
   "cell_type": "code",
   "execution_count": 29,
   "metadata": {},
   "outputs": [
    {
     "data": {
      "text/plain": [
       "2504×3 CuArray{Float32, 2, CUDA.Mem.DeviceBuffer}:\n",
       " -5.46062     0.132846   -7.15011\n",
       " -4.47899    -3.34361    -7.9291\n",
       " -3.14022   -15.1522      4.99523\n",
       " 10.0624     -5.75074    -3.43293\n",
       " -9.10029    -1.13558    -7.26083\n",
       " -1.38625    -8.86768   -11.979\n",
       "  0.200453   -9.13916    -4.78233\n",
       "  7.35476     0.452525  -11.0049\n",
       " -1.56913    -7.99983    -8.92491\n",
       "  1.59148    -8.75768    -9.61499\n",
       "  ⋮                     \n",
       "  8.12374    -8.80674     7.21409\n",
       "  1.80557     5.02722     8.39349\n",
       " -6.30332    -9.77037     5.56432\n",
       "  1.12644     2.12805    10.4064\n",
       "  4.71075    -4.70089    14.2278\n",
       " -4.33737   -10.3938      9.63828\n",
       " -8.7573     -1.06177     9.38257\n",
       " -1.6004     -3.39002    12.5481\n",
       "  8.23814     2.54549    11.3305"
      ]
     },
     "metadata": {},
     "output_type": "display_data"
    }
   ],
   "source": [
    "agg.Position"
   ]
  },
  {
   "attachments": {},
   "cell_type": "markdown",
   "metadata": {},
   "source": [
    "# review"
   ]
  },
  {
   "cell_type": "code",
   "execution_count": 21,
   "metadata": {},
   "outputs": [],
   "source": [
    "# if sum(isnan.(agg.Position)) + sum(abs.(agg.Position) .> agg.Simulation.Limit.max_value) > 0\n",
    "#     agg.Simulation.Limit.break_sim = true\n",
    "#     println(\"Breaking Simulation\")\n",
    "# end\n",
    "\n",
    "# if agg.Simulation.Limit.break_sim ==  CuArray([false])\n",
    "#     threads=(100)\n",
    "#     @cuda(\n",
    "#         threads=threads,\n",
    "#         blocks=cld.(size(agg.Position,1),threads),\n",
    "#         dist_kernel!(\n",
    "#             agg.Simulation.Neighbor.idx_red,\n",
    "#             agg.Simulation.Neighbor.idx_cont,\n",
    "#             agg.Simulation.Neighbor.idx_sum,\n",
    "#             agg.Simulation.Neighbor.dist,\n",
    "#             agg.Position,\n",
    "#             agg.Simulation.Parameter.Force.rₘₐₓ\n",
    "#         )\n",
    "#     ) \n",
    "\n",
    "#     for i =1:50\n",
    "#         threads=(64,3)\n",
    "#         @cuda(\n",
    "#             threads = threads,\n",
    "#             blocks = cld.(size(agg.Position,),threads),\n",
    "#             sum_force!(\n",
    "#                 agg.Position,\n",
    "#                 agg.Simulation.Force.F,\n",
    "#                 agg.Simulation.Force.Pol,\n",
    "#                 agg.Simulation.Force.dPol,\n",
    "#                 agg.Simulation.Force.N_i,\n",
    "#                 agg.Simulation.Neighbor.idx_sum,\n",
    "#                 agg.Simulation.Neighbor.idx_red,\n",
    "#                 agg.Simulation.Parameter.Force,\n",
    "#                 agg.Simulation.Parameter.Contractile.fₚ,\n",
    "#                 agg.Simulation.Parameter.Contractile.ψₜ,\n",
    "#                 agg.Simulation.Parameter.Contractile.ψₘ,\n",
    "#                 agg.Simulation.Parameter.Contractile.ω,\n",
    "#                 model.Time.dt,\n",
    "#                 agg.Simulation.Limit.max_grid,\n",
    "#                 agg.Simulation.Limit.break_sim\n",
    "#             )\n",
    "#         )\n",
    "#     end\n",
    "# elseif agg.Simulation.Limit.break_sim ==  CuArray([true])\n",
    "#     println(\"Breaking the simulation\")\n",
    "# end\n"
   ]
  },
  {
   "cell_type": "code",
   "execution_count": 22,
   "metadata": {},
   "outputs": [],
   "source": [
    "# A = zeros(100,3) \n",
    "# A[50,2] = NaN\n",
    "# A = A |> cu\n",
    "\n",
    "# B = [false] |> cu"
   ]
  },
  {
   "cell_type": "code",
   "execution_count": 23,
   "metadata": {},
   "outputs": [],
   "source": [
    "# A = agg.Position\n",
    "# B = agg.Simulation.Limit.break_sim"
   ]
  },
  {
   "cell_type": "code",
   "execution_count": 24,
   "metadata": {},
   "outputs": [],
   "source": [
    "# function kernel!(pos,max_grid,break_sim)\n",
    "\n",
    "#     i = (blockIdx().x - 1) * blockDim().x + threadIdx().x\n",
    "#     k = (blockIdx().y - 1) * blockDim().y + threadIdx().y\n",
    "\n",
    "#     if i <= size(pos, 1) && k <= size(pos, 2)\n",
    "#         if pos[i,k] > max_grid || isnan(pos[i,k])\n",
    "#             break_sim[1,1] = true\n",
    "#         end\n",
    "#     end\n",
    "#     return nothing\n",
    "# end"
   ]
  },
  {
   "cell_type": "code",
   "execution_count": 25,
   "metadata": {},
   "outputs": [],
   "source": [
    "# threads=(64,3)\n",
    "# @cuda(                \n",
    "#     threads = threads,\n",
    "#     blocks = cld.(size(agg.Position),threads),\n",
    "#     kernel!(\n",
    "#         agg.Position,\n",
    "#         agg.Simulation.Limit.max_grid,\n",
    "#         agg.Simulation.Limit.break_sim)\n",
    "# )\n",
    "# B"
   ]
  },
  {
   "cell_type": "code",
   "execution_count": 26,
   "metadata": {},
   "outputs": [],
   "source": [
    "# agg.Simulation.Limit.break_sim"
   ]
  },
  {
   "cell_type": "code",
   "execution_count": 27,
   "metadata": {},
   "outputs": [],
   "source": [
    "# agg.Simulation.Limit.break_sim == CuArray([false])"
   ]
  },
  {
   "cell_type": "code",
   "execution_count": 28,
   "metadata": {},
   "outputs": [],
   "source": [
    "# if agg.Simulation.Limit.break_sim == CuArray([false])\n",
    "#     println(\"its false\")\n",
    "# else\n",
    "#     println(\"its true\")\n",
    "# end"
   ]
  }
 ],
 "metadata": {
  "kernelspec": {
   "display_name": "Julia 1.9.2",
   "language": "julia",
   "name": "julia-1.9"
  },
  "language_info": {
   "file_extension": ".jl",
   "mimetype": "application/julia",
   "name": "julia",
   "version": "1.9.2"
  },
  "orig_nbformat": 4
 },
 "nbformat": 4,
 "nbformat_minor": 2
}
