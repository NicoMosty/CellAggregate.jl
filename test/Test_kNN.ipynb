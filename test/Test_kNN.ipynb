{
 "cells": [
  {
   "cell_type": "code",
   "execution_count": 171,
   "metadata": {},
   "outputs": [],
   "source": [
    "using DelimitedFiles\n",
    "using NearestNeighbors: BallTree, KDTree, BruteTree, knn\n",
    "using LinearAlgebra: norm"
   ]
  },
  {
   "cell_type": "code",
   "execution_count": 175,
   "metadata": {},
   "outputs": [
    {
     "name": "stdout",
     "output_type": "stream",
     "text": [
      "  0.039886 seconds (565.10 k allocations: 15.185 MiB)\n"
     ]
    }
   ],
   "source": [
    "R_Agg = 16\n",
    "\n",
    "@time X = readdlm(\"../data/Init/Two_Sphere/$R_Agg.csv\", ',', Float64, header=true)[1][:, 1:3]\n",
    "r_max, s = 2, 1\n",
    "K = 10\n",
    "t, t_knn = 0, 10\n",
    "dt = 0.5;"
   ]
  },
  {
   "cell_type": "code",
   "execution_count": 177,
   "metadata": {},
   "outputs": [
    {
     "name": "stdout",
     "output_type": "stream",
     "text": [
      "  0.142769 seconds (185.25 k allocations: 13.631 MiB, 5.13% gc time, 99.57% compilation time)\n"
     ]
    },
    {
     "data": {
      "text/plain": [
       "9-element Vector{Int64}:\n",
       " 25\n",
       " 32\n",
       " 33\n",
       "  2\n",
       "  4\n",
       "  5\n",
       " 24\n",
       " 26\n",
       " 41"
      ]
     },
     "metadata": {},
     "output_type": "display_data"
    }
   ],
   "source": [
    "R_Agg = 16\n",
    "X = readdlm(\"../data/Init/Two_Sphere/$R_Agg.csv\", ',', Float64, header=true)[1][:, 1:3]\n",
    "r_max, s = 2, 1\n",
    "K = 10\n",
    "t, t_knn = 0, 10\n",
    "dt = 0.5;\n",
    "\n",
    "function mykNN(k, index, data)\n",
    "    for dim in 1:1:3\n",
    "        d_temp =  (data[index,dim].-  data[:,dim]) .^2\n",
    "        if dim == 1\n",
    "            global dist = (data[index,dim].-  data[:,dim]) .^2\n",
    "        else\n",
    "            global dist = dist .+ (data[index,dim].-  data[:,dim]) .^2\n",
    "        end\n",
    "    end\n",
    "    global dist = hcat(1:1:size(dist)[1],dist)\n",
    "    return Int.(dist[sortperm(dist[:,2]),:][2:k,1])\n",
    "end\n",
    "@time mykNN(10, 1, X)"
   ]
  }
 ],
 "metadata": {
  "kernelspec": {
   "display_name": "Julia 1.7.3",
   "language": "julia",
   "name": "julia-1.7"
  },
  "language_info": {
   "file_extension": ".jl",
   "mimetype": "application/julia",
   "name": "julia",
   "version": "1.7.3"
  },
  "orig_nbformat": 4,
  "vscode": {
   "interpreter": {
    "hash": "916dbcbb3f70747c44a77c7bcd40155683ae19c65e1c03b4aa3499c5328201f1"
   }
  }
 },
 "nbformat": 4,
 "nbformat_minor": 2
}
