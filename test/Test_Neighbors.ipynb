{
 "cells": [
  {
   "cell_type": "markdown",
   "metadata": {},
   "source": [
    "# Importing Dependences\n",
    "\n",
    "Review the paths and add DelimitingFiles"
   ]
  },
  {
   "cell_type": "code",
   "execution_count": null,
   "metadata": {},
   "outputs": [],
   "source": [
    "using DelimitedFiles\n",
    "using DataFrames\n",
    "using Delaunay: delaunay\n",
    "using SparseArrays\n",
    "using NearestNeighbors"
   ]
  },
  {
   "cell_type": "code",
   "execution_count": null,
   "metadata": {},
   "outputs": [],
   "source": [
    "size_o = 15\n",
    "size_f = 16\n",
    "index = 1000"
   ]
  },
  {
   "cell_type": "code",
   "execution_count": null,
   "metadata": {},
   "outputs": [],
   "source": [
    "for R_Agg in size_o:1:size_f\n",
    "    println(\"_____ R_Agg= $R_Agg (Delaunay)_____\")\n",
    "    df = read(\"../data/Init/Two_Sphere/$R_Agg.csv\", DataFrame)\n",
    "    df_temp = Matrix(df[!, [:X, :Y, :Z]])\n",
    "    println(\"Generating Delaunay Graph\")\n",
    "    @time B = delaunay(df_temp).vertex_neighbor_vertices\n",
    "    println(\"Looking Neighbors\")\n",
    "    for i in index:1:index\n",
    "        @time global C = findnz(B[i,:,:])[1]\n",
    "    end\n",
    "    println(C)\n",
    "    println(\"*************************************\")\n",
    "end"
   ]
  },
  {
   "cell_type": "code",
   "execution_count": null,
   "metadata": {},
   "outputs": [],
   "source": [
    "for R_Agg in size_o:1:size_f\n",
    "    println(\"_____ R_Agg= $R_Agg (Per Radius)_____\")\n",
    "    r = 2\n",
    "    df = read(\"../data/Init/Two_Sphere/$R_Agg.csv\", DataFrame)\n",
    "    df_temp = Matrix(df[!, [:X, :Y, :Z]])'\n",
    "\n",
    "    println(\"Generating BallTree\")\n",
    "    @time balltree = BallTree(df_temp)\n",
    "    println(\"Looking Neighbors\")\n",
    "    @time idxs = inrange(balltree, df_temp[:,index], r, true)\n",
    "    println(idxs)\n",
    "    println(\"*************************************\")\n",
    "end"
   ]
  },
  {
   "cell_type": "code",
   "execution_count": null,
   "metadata": {},
   "outputs": [],
   "source": [
    "for R_Agg in size_o:1:size_f\n",
    "    println(\"_____ R_Agg= $R_Agg (kNN)_____\")\n",
    "    r = 3\n",
    "    df = read(\"../data/Init/Two_Sphere/$R_Agg.csv\", DataFrame)\n",
    "    df_temp = Matrix(df[!, [:X, :Y, :Z]])'\n",
    "\n",
    "    println(\"Generating kdtree\")\n",
    "    @time kdtree = KDTree(df_temp)\n",
    "    println(\"Looking Neighbors\")\n",
    "    @time idxs, dists = knn(kdtree, df_temp[:,index], 14, true)\n",
    "    println(idxs)\n",
    "    println(\"*************************************\")\n",
    "end"
   ]
  }
 ],
 "metadata": {
  "kernelspec": {
   "display_name": "Julia 1.4.1",
   "language": "julia",
   "name": "julia-1.4"
  },
  "language_info": {
   "name": "julia",
   "version": "3.8.10"
  },
  "orig_nbformat": 4,
  "vscode": {
   "interpreter": {
    "hash": "916dbcbb3f70747c44a77c7bcd40155683ae19c65e1c03b4aa3499c5328201f1"
   }
  }
 },
 "nbformat": 4,
 "nbformat_minor": 2
}
