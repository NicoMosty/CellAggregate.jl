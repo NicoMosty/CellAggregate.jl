{
 "cells": [
  {
   "cell_type": "code",
   "execution_count": 28,
   "metadata": {},
   "outputs": [
    {
     "data": {
      "text/plain": [
       "force_func (generic function with 1 method)"
      ]
     },
     "execution_count": 28,
     "metadata": {},
     "output_type": "execute_result"
    }
   ],
   "source": [
    "using CUDA\n",
    "using ProgressMeter\n",
    "using DelimitedFiles\n",
    "include(\"../src/forces_func.jl\")\n",
    "include(\"../src/struct_data.jl\")\n",
    "include(\"../src/test.jl\")\n",
    "include(\"../src/forces.jl\")\n",
    "include(\"../src/neighbor.jl\")\n",
    "include(\"../src/run_event.jl\")\n",
    "include(\"../src/sphere.jl\")\n",
    "\n",
    "@make_struct_func Cubic"
   ]
  },
  {
   "cell_type": "code",
   "execution_count": 29,
   "metadata": {},
   "outputs": [
    {
     "name": "stdout",
     "output_type": "stream",
     "text": [
      "\n",
      " Loading Force Function\n",
      "  0.000013 seconds (17 CPU allocations: 1.237 KiB)\n"
     ]
    },
    {
     "data": {
      "text/plain": [
       "force (generic function with 1 method)"
      ]
     },
     "execution_count": 29,
     "metadata": {},
     "output_type": "execute_result"
    }
   ],
   "source": [
    "parameters = Model(\n",
    "    Cubic(\n",
    "        μ₁       = 0.003,\n",
    "        rₘᵢₙ     = 2,\n",
    "        rₘₐₓ     = 3\n",
    "    ),\n",
    "    Contractile(\n",
    "        fₚ       = 0.001\n",
    "    ),\n",
    "    Time(\n",
    "        t_f      = 50000, \n",
    "        dt       = 0.1\n",
    "    ),\n",
    "    Neighbor(\n",
    "        n_knn    = 50,\n",
    "        nn       = 12\n",
    "    ),\n",
    "    Geometry(\n",
    "        R_agg    = 9,\n",
    "        position = [\n",
    "            0.0    0.0    0.0;\n",
    "            0.0    0.0    0.0\n",
    "        ]\n",
    "    ),\n",
    "    Simulation(\n",
    "        n_text   = 200,\n",
    "        path     = \"After-Eq.xyz\"\n",
    "    )\n",
    ")\n",
    "\n",
    "## Var before func\n",
    "println(\"\\n Loading Force Function\")\n",
    "CUDA.@time force(r) =  force_func(parameters.Force::Cubic, r)"
   ]
  },
  {
   "cell_type": "code",
   "execution_count": 30,
   "metadata": {},
   "outputs": [
    {
     "data": {
      "text/plain": [
       "generate_random_packaging (generic function with 1 method)"
      ]
     },
     "execution_count": 30,
     "metadata": {},
     "output_type": "execute_result"
    }
   ],
   "source": [
    "function generate_random_packaging(R_agg, m::Model)\n",
    "    R_sup = R_agg\n",
    "    while true\n",
    "        println(\"--------------------------------------------------\")\n",
    "        println(\"R_Agg = $(R_sup)\")\n",
    "        println(\"Random Packaging\")\n",
    "        X = sphere(R_sup)\n",
    "\n",
    "        # Generating Struct\n",
    "        global Agg = Aggregate(Neighbor(50, 12), PositionCell(X))\n",
    "\n",
    "        # Simulation One Aggregate\n",
    "        one_aggregate(false, m, Cubic(1.0, 2.0, 3.0), Agg)\n",
    "\n",
    "        Size = Float32(\n",
    "                (findmax(Agg.Position.X[:,1])[1] - findmin(Agg.Position.X[:,1])[1])/2 + 1\n",
    "            ) \n",
    "\n",
    "        println(\"---------\")\n",
    "        println(\"R_Agg_Calc = $(Size)\")\n",
    "\n",
    "        if Size < R_agg\n",
    "            R_sup += + 0.5\n",
    "            println(\"---------\")\n",
    "            println(\"Adding R_sup\")\n",
    "            println(\"*********\")\n",
    "        else\n",
    "            break\n",
    "        end\n",
    "    end\n",
    "\n",
    "    open(\"$(R_agg).xyz\", \"w\") do f\n",
    "        write(f, \"$(size(Agg.Position.X, 1))\\n\")\n",
    "        write(f, \"Random Packaging ($(R_agg)).xyz\\n\")\n",
    "        writedlm(f,hcat(repeat([1.0],size(Agg.Position.X, 1)), Matrix(Agg.Position.X)), ' ')\n",
    "    end\n",
    "    \n",
    "end"
   ]
  },
  {
   "cell_type": "code",
   "execution_count": 31,
   "metadata": {},
   "outputs": [
    {
     "name": "stdout",
     "output_type": "stream",
     "text": [
      "--------------------------------------------------\n",
      "R_Agg = 9\n",
      "Random Packaging\n"
     ]
    },
    {
     "name": "stderr",
     "output_type": "stream",
     "text": [
      "\u001b[32mProgress:  83%|████████████████████▉    |  ETA: 0:00:02\u001b[39m"
     ]
    },
    {
     "name": "stdout",
     "output_type": "stream",
     "text": [
      "Not Enought\n",
      "Finding Equilibrium in one Aggregate\n"
     ]
    },
    {
     "name": "stderr",
     "output_type": "stream",
     "text": [
      "\u001b[32mProgress: 100%|█████████████████████████| Time: 0:01:20\u001b[39m\n"
     ]
    },
    {
     "name": "stdout",
     "output_type": "stream",
     "text": [
      "---------\n",
      "R_Agg_Calc = 7.6417694\n",
      "---------\n",
      "Adding R_sup\n",
      "*********\n",
      "--------------------------------------------------\n",
      "R_Agg = 9.5\n",
      "Random Packaging\n"
     ]
    },
    {
     "name": "stderr",
     "output_type": "stream",
     "text": [
      "\u001b[32mProgress:  84%|████████████████████▉    |  ETA: 0:00:03\u001b[39m"
     ]
    },
    {
     "name": "stdout",
     "output_type": "stream",
     "text": [
      "Not Enought\n",
      "Finding Equilibrium in one Aggregate\n"
     ]
    },
    {
     "name": "stderr",
     "output_type": "stream",
     "text": [
      "\u001b[32mProgress: 100%|█████████████████████████| Time: 0:01:23\u001b[39m\n"
     ]
    },
    {
     "name": "stdout",
     "output_type": "stream",
     "text": [
      "---------\n",
      "R_Agg_Calc = 8.181449\n",
      "---------\n",
      "Adding R_sup\n",
      "*********\n",
      "--------------------------------------------------\n",
      "R_Agg = 10.0\n",
      "Random Packaging\n"
     ]
    },
    {
     "name": "stderr",
     "output_type": "stream",
     "text": [
      "\u001b[32mProgress:  81%|████████████████████▎    |  ETA: 0:00:05\u001b[39m"
     ]
    },
    {
     "name": "stdout",
     "output_type": "stream",
     "text": [
      "Not Enought\n",
      "Finding Equilibrium in one Aggregate\n"
     ]
    },
    {
     "name": "stderr",
     "output_type": "stream",
     "text": [
      "\u001b[32mProgress: 100%|█████████████████████████| Time: 0:01:25\u001b[39m\n"
     ]
    },
    {
     "name": "stdout",
     "output_type": "stream",
     "text": [
      "---------\n",
      "R_Agg_Calc = 8.7022085\n",
      "---------\n",
      "Adding R_sup\n",
      "*********\n",
      "--------------------------------------------------\n",
      "R_Agg = 10.5\n",
      "Random Packaging\n"
     ]
    },
    {
     "name": "stderr",
     "output_type": "stream",
     "text": [
      "\u001b[32mProgress:  82%|████████████████████▍    |  ETA: 0:00:07\u001b[39m"
     ]
    },
    {
     "name": "stdout",
     "output_type": "stream",
     "text": [
      "Not Enought\n",
      "Finding Equilibrium in one Aggregate\n"
     ]
    },
    {
     "name": "stderr",
     "output_type": "stream",
     "text": [
      "\u001b[32mProgress: 100%|█████████████████████████| Time: 0:01:28\u001b[39m\n"
     ]
    },
    {
     "name": "stdout",
     "output_type": "stream",
     "text": [
      "---------\n",
      "R_Agg_Calc = 9.099396\n"
     ]
    }
   ],
   "source": [
    "R_agg = 9\n",
    "generate_random_packaging(R_agg, parameters)"
   ]
  },
  {
   "cell_type": "code",
   "execution_count": 32,
   "metadata": {},
   "outputs": [
    {
     "data": {
      "text/plain": [
       "473×3 CuArray{Float32, 2, CUDA.Mem.DeviceBuffer}:\n",
       "  1.37769    0.848875   0.583492\n",
       "  3.3848     2.15684   -0.848144\n",
       " -1.34812    0.630537   4.85958\n",
       " -0.36257   -1.646     -4.35787\n",
       " -4.96672    0.706809  -2.11685\n",
       "  0.657794  -0.222841   7.52348\n",
       " -0.255475  -0.168784  -0.0928241\n",
       "  2.23549   -1.05008    2.9033\n",
       " -2.56616   -0.644906  -0.0335353\n",
       "  0.92864   -0.590991   1.48165\n",
       "  1.30733    0.996464  -1.20406\n",
       " -3.5386    -1.68364    3.39707\n",
       "  2.60164   -0.606794  -7.32309\n",
       "  ⋮                    \n",
       "  6.0948    -4.20577    3.14182\n",
       "  2.32265   -3.82247   -4.96494\n",
       " -1.3934     5.06349   -3.5387\n",
       "  2.12733    4.72717    5.31348\n",
       "  6.88271    2.45228   -0.670402\n",
       " -1.5244    -7.01683    2.76892\n",
       " -4.16377   -5.62851   -0.187829\n",
       " -0.14622   -4.81759   -5.53579\n",
       "  3.96768    1.70834    4.20709\n",
       " -1.79841   -3.31294   -1.62391\n",
       "  5.43151   -1.61526   -6.20102\n",
       " -1.2949    -5.78945    1.57864"
      ]
     },
     "execution_count": 32,
     "metadata": {},
     "output_type": "execute_result"
    }
   ],
   "source": [
    "Y = Float32.(readdlm(\"$(R_agg).xyz\")[3:end,2:end]) |> cu"
   ]
  },
  {
   "cell_type": "code",
   "execution_count": 33,
   "metadata": {},
   "outputs": [
    {
     "data": {
      "text/plain": [
       "Process(`\u001b[4mparaview\u001b[24m \u001b[4m9.xyz\u001b[24m`, ProcessExited(0))"
      ]
     },
     "execution_count": 33,
     "metadata": {},
     "output_type": "execute_result"
    }
   ],
   "source": [
    "run(`paraview 9.xyz`)"
   ]
  }
 ],
 "metadata": {
  "kernelspec": {
   "display_name": "Julia 1.6.7",
   "language": "julia",
   "name": "julia-1.6"
  },
  "language_info": {
   "file_extension": ".jl",
   "mimetype": "application/julia",
   "name": "julia",
   "version": "1.6.7"
  },
  "orig_nbformat": 4,
  "vscode": {
   "interpreter": {
    "hash": "916dbcbb3f70747c44a77c7bcd40155683ae19c65e1c03b4aa3499c5328201f1"
   }
  }
 },
 "nbformat": 4,
 "nbformat_minor": 2
}
