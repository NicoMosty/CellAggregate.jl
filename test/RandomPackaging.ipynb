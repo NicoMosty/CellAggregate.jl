{
 "cells": [
  {
   "cell_type": "code",
   "execution_count": 244,
   "metadata": {},
   "outputs": [
    {
     "data": {
      "text/plain": [
       "force_func (generic function with 1 method)"
      ]
     },
     "execution_count": 244,
     "metadata": {},
     "output_type": "execute_result"
    }
   ],
   "source": [
    "using CUDA\n",
    "using ProgressMeter\n",
    "using DelimitedFiles\n",
    "include(\"../src/forces_func.jl\")\n",
    "include(\"../src/struct_data.jl\")\n",
    "include(\"../src/test.jl\")\n",
    "include(\"../src/forces.jl\")\n",
    "include(\"../src/neighbor.jl\")\n",
    "include(\"../src/run_event.jl\")\n",
    "include(\"../src/sphere.jl\")\n",
    "\n",
    "@make_struct_func Cubic"
   ]
  },
  {
   "cell_type": "code",
   "execution_count": 245,
   "metadata": {},
   "outputs": [
    {
     "name": "stdout",
     "output_type": "stream",
     "text": [
      "\n",
      " Loading Force Function\n",
      "  0.000039 seconds (17 CPU allocations: 1.237 KiB)\n"
     ]
    },
    {
     "data": {
      "text/plain": [
       "force (generic function with 1 method)"
      ]
     },
     "execution_count": 245,
     "metadata": {},
     "output_type": "execute_result"
    }
   ],
   "source": [
    "parameters = Model(\n",
    "    Cubic(\n",
    "        μ₁       = 0.003,\n",
    "        rₘᵢₙ     = 2,\n",
    "        rₘₐₓ     = 3\n",
    "    ),\n",
    "    Contractile(\n",
    "        fₚ       = 0.001\n",
    "    ),\n",
    "    Time(\n",
    "        t_f      = 50000, \n",
    "        dt       = 0.1\n",
    "    ),\n",
    "    Neighbor(\n",
    "        n_knn    = 50,\n",
    "        nn       = 12\n",
    "    ),\n",
    "    Geometry(\n",
    "        R_agg    = 9,\n",
    "        position = [\n",
    "            0.0    0.0    0.0;\n",
    "            0.0    0.0    0.0\n",
    "        ]\n",
    "    ),\n",
    "    Simulation(\n",
    "        n_text   = 200,\n",
    "        path     = \"After-Eq.xyz\"\n",
    "    )\n",
    ")\n",
    "\n",
    "## Var before func\n",
    "println(\"\\n Loading Force Function\")\n",
    "CUDA.@time force(r) =  force_func(parameters.Force::Cubic, r)"
   ]
  },
  {
   "cell_type": "code",
   "execution_count": 246,
   "metadata": {},
   "outputs": [
    {
     "data": {
      "text/plain": [
       "generate_random_packaging (generic function with 1 method)"
      ]
     },
     "execution_count": 246,
     "metadata": {},
     "output_type": "execute_result"
    }
   ],
   "source": [
    "function generate_random_packaging(R_agg, m::Model)\n",
    "    R_sup = R_agg\n",
    "    while true\n",
    "        println(\"R_Agg = $(R_sup)\")\n",
    "        println(\"Random Packaging\")\n",
    "        X = sphere(R_sup)\n",
    "\n",
    "        # Generating Struct\n",
    "        Agg = Aggregate(Neighbor(50, 12), PositionCell(X))\n",
    "\n",
    "        # Simulation One Aggregate\n",
    "        one_aggregate(false, m, Cubic(1.0, 2.0, 3.0), Agg)\n",
    "\n",
    "        Size = Float32(\n",
    "                (findmax(Agg.Position.X[:,1])[1] - findmin(Agg.Position.X[:,1])[1])/2 + 1\n",
    "            ) \n",
    "\n",
    "        println(\"---------\")\n",
    "        println(\"R_Agg = $(Size)\")\n",
    "        println(\"---------\")\n",
    "\n",
    "        if Size < R_agg\n",
    "            R_sup += + 0.5\n",
    "        else\n",
    "            break\n",
    "        end\n",
    "    end\n",
    "\n",
    "    open(\"$(R_agg).xyz\", \"w\") do f\n",
    "        write(f, \"$(size(X, 1))\\n\")\n",
    "        write(f, \"Random Packaging ($(R_agg)).xyz\\n\")\n",
    "        writedlm(f,hcat(repeat([1.0],size(X, 1)), Matrix(X)), ' ')\n",
    "    end\n",
    "    \n",
    "end"
   ]
  },
  {
   "cell_type": "code",
   "execution_count": 247,
   "metadata": {},
   "outputs": [
    {
     "name": "stdout",
     "output_type": "stream",
     "text": [
      "R_Agg = 9\n",
      "Random Packaging\n"
     ]
    },
    {
     "name": "stderr",
     "output_type": "stream",
     "text": [
      "\u001b[32mProgress:  79%|███████████████████▋     |  ETA: 0:00:03\u001b[39m"
     ]
    },
    {
     "name": "stdout",
     "output_type": "stream",
     "text": [
      "Not Enought\n",
      "Finding Equilibrium in one Aggregate\n"
     ]
    },
    {
     "name": "stderr",
     "output_type": "stream",
     "text": [
      "\u001b[32mProgress:  36%|████████▉                |  ETA: 0:04:19\u001b[39merror in running finalizer: InterruptException()\n",
      "maybe_collect at /buildworker/worker/package_linux64/build/src/julia_threads.h:313 [inlined]\n",
      "jl_gc_pool_alloc at /buildworker/worker/package_linux64/build/src/gc.c:1204\n",
      "default_stream at /home/nicomosty/.julia/packages/CUDA/DfvRa/lib/cudadrv/stream.jl:32 [inlined]\n",
      "unsafe_finalize! at /home/nicomosty/.julia/packages/CUDA/DfvRa/src/array.jl:99\n",
      "_jl_invoke at /buildworker/worker/package_linux64/build/src/gf.c:2237 [inlined]\n",
      "jl_apply_generic at /buildworker/worker/package_linux64/build/src/gf.c:2419\n",
      "jl_apply at /buildworker/worker/package_linux64/build/src/julia.h:1703 [inlined]\n",
      "run_finalizer at /buildworker/worker/package_linux64/build/src/gc.c:278\n",
      "jl_gc_run_finalizers_in_list at /buildworker/worker/package_linux64/build/src/gc.c:365\n",
      "run_finalizers at /buildworker/worker/package_linux64/build/src/gc.c:394\n",
      "jl_gc_collect at /buildworker/worker/package_linux64/build/src/gc.c:3260\n",
      "maybe_collect at /buildworker/worker/package_linux64/build/src/gc.c:880 [inlined]\n",
      "jl_gc_pool_alloc at /buildworker/worker/package_linux64/build/src/gc.c:1204\n",
      "#cufunction#219 at /home/nicomosty/.julia/packages/CUDA/DfvRa/src/compiler/execution.jl:299\n",
      "cufunction##kw at /home/nicomosty/.julia/packages/CUDA/DfvRa/src/compiler/execution.jl:293\n",
      "unknown function (ip: 0x7f27761998ec)\n",
      "_jl_invoke at /buildworker/worker/package_linux64/build/src/gf.c:2237 [inlined]\n",
      "jl_apply_generic at /buildworker/worker/package_linux64/build/src/gf.c:2419\n",
      "macro expansion at /home/nicomosty/.julia/packages/CUDA/DfvRa/src/compiler/execution.jl:102 [inlined]\n",
      "#gpu_call#247 at /home/nicomosty/.julia/packages/CUDA/DfvRa/src/gpuarrays.jl:30 [inlined]\n",
      "gpu_call##kw at /home/nicomosty/.julia/packages/CUDA/DfvRa/src/gpuarrays.jl:30\n",
      "#gpu_call#1 at /home/nicomosty/.julia/packages/GPUArrays/fqD8z/src/device/execution.jl:69 [inlined]\n",
      "gpu_call##kw at /home/nicomosty/.julia/packages/GPUArrays/fqD8z/src/device/execution.jl:41 [inlined]\n",
      "_copyto! at /home/nicomosty/.julia/packages/GPUArrays/fqD8z/src/host/broadcast.jl:67 [inlined]\n",
      "copyto! at /home/nicomosty/.julia/packages/GPUArrays/fqD8z/src/host/broadcast.jl:46 [inlined]\n",
      "copy at /home/nicomosty/.julia/packages/GPUArrays/fqD8z/src/host/broadcast.jl:37 [inlined]\n",
      "materialize at ./broadcast.jl:883 [inlined]\n",
      "force_func at /home/nicomosty/Documentos/Maestria-GitHub/CellAggregate.jl/src/forces_func.jl:13\n",
      "force at ./In[245]:33\n",
      "_jl_invoke at /buildworker/worker/package_linux64/build/src/gf.c:2237 [inlined]\n",
      "jl_apply_generic at /buildworker/worker/package_linux64/build/src/gf.c:2419\n",
      "cui_force at /home/nicomosty/Documentos/Maestria-GitHub/CellAggregate.jl/src/forces.jl:83\n",
      "simulate at /home/nicomosty/Documentos/Maestria-GitHub/CellAggregate.jl/src/run_event.jl:55\n",
      "one_aggregate at /home/nicomosty/Documentos/Maestria-GitHub/CellAggregate.jl/src/run_event.jl:76\n",
      "generate_random_packaging at ./In[246]:12\n",
      "unknown function (ip: 0x7f2775971e86)\n",
      "_jl_invoke at /buildworker/worker/package_linux64/build/src/gf.c:2237 [inlined]\n",
      "jl_apply_generic at /buildworker/worker/package_linux64/build/src/gf.c:2419\n",
      "jl_apply at /buildworker/worker/package_linux64/build/src/julia.h:1703 [inlined]\n",
      "do_call at /buildworker/worker/package_linux64/build/src/interpreter.c:115\n",
      "eval_value at /buildworker/worker/package_linux64/build/src/interpreter.c:204\n",
      "eval_stmt_value at /buildworker/worker/package_linux64/build/src/interpreter.c:155 [inlined]\n",
      "eval_body at /buildworker/worker/package_linux64/build/src/interpreter.c:562\n",
      "jl_interpret_toplevel_thunk at /buildworker/worker/package_linux64/build/src/interpreter.c:670\n",
      "top-level scope at In[247]:2\n",
      "jl_toplevel_eval_flex at /buildworker/worker/package_linux64/build/src/toplevel.c:877\n",
      "jl_toplevel_eval_flex at /buildworker/worker/package_linux64/build/src/toplevel.c:825\n",
      "jl_toplevel_eval_in at /buildworker/worker/package_linux64/build/src/toplevel.c:929\n",
      "eval at ./boot.jl:360 [inlined]\n",
      "include_string at ./loading.jl:1116\n",
      "softscope_include_string at /home/nicomosty/.julia/packages/SoftGlobalScope/u4UzH/src/SoftGlobalScope.jl:65\n",
      "_jl_invoke at /buildworker/worker/package_linux64/build/src/gf.c:2237 [inlined]\n",
      "jl_apply_generic at /buildworker/worker/package_linux64/build/src/gf.c:2419\n",
      "execute_request at /home/nicomosty/.julia/packages/IJulia/AQu2H/src/execute_request.jl:67\n",
      "_jl_invoke at /buildworker/worker/package_linux64/build/src/gf.c:2237 [inlined]\n",
      "jl_apply_generic at /buildworker/worker/package_linux64/build/src/gf.c:2419\n",
      "jl_apply at /buildworker/worker/package_linux64/build/src/julia.h:1703 [inlined]\n",
      "jl_f__call_latest at /buildworker/worker/package_linux64/build/src/builtins.c:719\n",
      "#invokelatest#2 at ./essentials.jl:708 [inlined]\n",
      "invokelatest at ./essentials.jl:706 [inlined]\n",
      "eventloop at /home/nicomosty/.julia/packages/IJulia/AQu2H/src/eventloop.jl:8\n",
      "#15 at ./task.jl:417\n",
      "unknown function (ip: 0x7f27ac737c8c)\n",
      "_jl_invoke at /buildworker/worker/package_linux64/build/src/gf.c:2237 [inlined]\n",
      "jl_apply_generic at /buildworker/worker/package_linux64/build/src/gf.c:2419\n",
      "jl_apply at /buildworker/worker/package_linux64/build/src/julia.h:1703 [inlined]\n",
      "start_task at /buildworker/worker/package_linux64/build/src/task.c:834\n",
      "\u001b[32mProgress:  38%|█████████▌               |  ETA: 0:04:11\u001b[39m"
     ]
    }
   ],
   "source": [
    "R_agg = 9\n",
    "generate_random_packaging(R_agg, parameters)"
   ]
  },
  {
   "cell_type": "code",
   "execution_count": null,
   "metadata": {},
   "outputs": [
    {
     "data": {
      "text/plain": [
       "321×3 CuArray{Float32, 2, CUDA.Mem.DeviceBuffer}:\n",
       "  0.0         0.0        0.0\n",
       " -5.87014    -2.19887   -2.14153\n",
       " -1.07578    -3.33097   -3.82132\n",
       " -3.46719     5.92836   -2.34629\n",
       "  4.80081    -4.77961    1.16843\n",
       "  6.59362    -3.45945    3.7898\n",
       " -1.11985     2.44693    6.36483\n",
       " -0.0         0.0        7.48295\n",
       " -0.297133   -0.679201   2.39659\n",
       " -3.21578     5.49849   -0.186075\n",
       " -0.552346   -4.89389   -6.59279\n",
       " -3.26762     0.135987  -2.38055\n",
       " -1.08376     1.85307   -2.8737\n",
       "  ⋮                     \n",
       " -7.15489     1.0199     3.67842\n",
       " -7.64374    -2.86323   -3.73559\n",
       "  1.40942     1.45119   -5.69001\n",
       "  7.65715    -3.08668    1.42395\n",
       "  0.378712    5.34038   -7.16684\n",
       " -5.95124    -0.347992  -6.50798\n",
       "  7.14001     4.88474    2.40166\n",
       "  6.63108    -1.92968   -0.201742\n",
       " -4.54411     1.61557    5.72578\n",
       " -0.0154408  -1.24627    6.14852\n",
       " -3.46549     7.57224    3.23759\n",
       "  5.44594     6.86274    1.51107"
      ]
     },
     "execution_count": 241,
     "metadata": {},
     "output_type": "execute_result"
    }
   ],
   "source": [
    "Y = Float32.(readdlm(\"$(R_agg).xyz\")[3:end,2:end]) |> cu"
   ]
  },
  {
   "cell_type": "code",
   "execution_count": null,
   "metadata": {},
   "outputs": [
    {
     "data": {
      "text/plain": [
       "9.482686f0"
      ]
     },
     "execution_count": 242,
     "metadata": {},
     "output_type": "execute_result"
    }
   ],
   "source": [
    "Size = Float32(\n",
    "    (findmax(Y[:,1])[1] - findmin(Y[:,1])[1])/2 + 1\n",
    ") "
   ]
  },
  {
   "cell_type": "code",
   "execution_count": null,
   "metadata": {},
   "outputs": [
    {
     "data": {
      "text/plain": [
       "Process(`\u001b[4mparaview\u001b[24m \u001b[4m9.xyz\u001b[24m`, ProcessExited(0))"
      ]
     },
     "execution_count": 243,
     "metadata": {},
     "output_type": "execute_result"
    }
   ],
   "source": [
    "run(`paraview 9.xyz`)"
   ]
  }
 ],
 "metadata": {
  "kernelspec": {
   "display_name": "Julia 1.6.7",
   "language": "julia",
   "name": "julia-1.6"
  },
  "language_info": {
   "file_extension": ".jl",
   "mimetype": "application/julia",
   "name": "julia",
   "version": "1.6.7"
  },
  "orig_nbformat": 4,
  "vscode": {
   "interpreter": {
    "hash": "916dbcbb3f70747c44a77c7bcd40155683ae19c65e1c03b4aa3499c5328201f1"
   }
  }
 },
 "nbformat": 4,
 "nbformat_minor": 2
}
