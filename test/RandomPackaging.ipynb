{
 "cells": [
  {
   "cell_type": "code",
   "execution_count": 279,
   "metadata": {},
   "outputs": [],
   "source": [
    "using CUDA\n",
    "using ProgressMeter: Progress"
   ]
  },
  {
   "cell_type": "code",
   "execution_count": 280,
   "metadata": {},
   "outputs": [
    {
     "data": {
      "text/plain": [
       "10"
      ]
     },
     "execution_count": 280,
     "metadata": {},
     "output_type": "execute_result"
    }
   ],
   "source": [
    "# Generating coordenates of a Cell\n",
    "function coord_sph(R_agg)\n",
    "    theta = rand(0:0.1:pi)\n",
    "    phi = rand(0:0.1:2*pi)\n",
    "    radius = rand(0:1e-7:R_agg)\n",
    "\n",
    "    return [\n",
    "        radius*sin(theta)*cos(phi),\n",
    "        radius*sin(theta)*sin(phi),\n",
    "        radius*cos(theta)\n",
    "    ]\n",
    "end\n",
    "\n",
    "R_agg = 10"
   ]
  },
  {
   "cell_type": "code",
   "execution_count": 281,
   "metadata": {},
   "outputs": [
    {
     "data": {
      "text/plain": [
       "4×3 CuArray{Int64, 2, CUDA.Mem.DeviceBuffer}:\n",
       " 0  0  0\n",
       " 1  1  1\n",
       " 2  2  2\n",
       " 3  3  3"
      ]
     },
     "execution_count": 281,
     "metadata": {},
     "output_type": "execute_result"
    }
   ],
   "source": [
    "X = [\n",
    "    0 0 0;\n",
    "    1 1 1;\n",
    "    2 2 2;\n",
    "    3 3 3\n",
    "    ] |> cu"
   ]
  },
  {
   "cell_type": "code",
   "execution_count": 282,
   "metadata": {},
   "outputs": [
    {
     "data": {
      "text/plain": [
       "3-element CuArray{Float32, 1, CUDA.Mem.DeviceBuffer}:\n",
       "  4.997307\n",
       "  1.5458481\n",
       " -5.710543"
      ]
     },
     "execution_count": 282,
     "metadata": {},
     "output_type": "execute_result"
    }
   ],
   "source": [
    "X_i = coord_sph(R_agg) |> cu"
   ]
  },
  {
   "cell_type": "code",
   "execution_count": 283,
   "metadata": {},
   "outputs": [
    {
     "data": {
      "text/plain": [
       "4×1 CuArray{Float32, 2, CUDA.Mem.DeviceBuffer}:\n",
       " 7.744225\n",
       " 7.82993\n",
       " 8.285082\n",
       " 9.054134"
      ]
     },
     "execution_count": 283,
     "metadata": {},
     "output_type": "execute_result"
    }
   ],
   "source": [
    "dist = sqrt.(sum((X .- X_i').^2, dims=2))"
   ]
  },
  {
   "cell_type": "code",
   "execution_count": 284,
   "metadata": {},
   "outputs": [
    {
     "data": {
      "text/plain": [
       "true"
      ]
     },
     "execution_count": 284,
     "metadata": {},
     "output_type": "execute_result"
    }
   ],
   "source": [
    "(&)(ifelse.(dist .< 2,false,true)...)"
   ]
  }
 ],
 "metadata": {
  "kernelspec": {
   "display_name": "Julia 1.6.7",
   "language": "julia",
   "name": "julia-1.6"
  },
  "language_info": {
   "file_extension": ".jl",
   "mimetype": "application/julia",
   "name": "julia",
   "version": "1.6.7"
  },
  "orig_nbformat": 4,
  "vscode": {
   "interpreter": {
    "hash": "916dbcbb3f70747c44a77c7bcd40155683ae19c65e1c03b4aa3499c5328201f1"
   }
  }
 },
 "nbformat": 4,
 "nbformat_minor": 2
}
