{
 "cells": [
  {
   "cell_type": "code",
   "execution_count": 4,
   "metadata": {},
   "outputs": [],
   "source": [
    "using KernelAbstractions, CUDA\n",
    "using Test"
   ]
  },
  {
   "cell_type": "code",
   "execution_count": 10,
   "metadata": {},
   "outputs": [],
   "source": [
    "@kernel function knn_kernel(\n",
    "        @Const(points1),\n",
    "        @Const(points2),\n",
    "        @Const(lengths1),\n",
    "        @Const(lengths2),\n",
    "        @Const(D),\n",
    "        @Const(K),\n",
    "        dists,\n",
    "        idxs)\n",
    "\n",
    "    p1, n = @index(Global, NTuple)\n",
    "\n",
    "    # MinK parameters\n",
    "    size = 0                    # Size of mink (when less than K)\n",
    "    max_key = dists[1, p1, n]   # Placeholder for max_key\n",
    "    max_idx = idxs[1, p1, n]    # Placeholder for max_idx\n",
    "\n",
    "    # Runs in current thread\n",
    "    for p2 = 1:lengths2[n]\n",
    "        dist = eltype(dists)(0)\n",
    "        for d = 1:D\n",
    "            dist += (points1[d, p1, n] - points2[d, p2, n])^2\n",
    "        end\n",
    "        # Add (dist, p2) to MinK data structure\n",
    "        if size < K           # Runtime: O(1)\n",
    "            dists[size + 1, p1, n] = dist\n",
    "            idxs[size + 1, p1, n] = p2\n",
    "            if size == 0 || dist > max_key\n",
    "                max_key = dist\n",
    "                max_idx = size + 1\n",
    "            end\n",
    "            size += 1\n",
    "        elseif dist < max_key       # Runtime: O(K)\n",
    "            # Current key replaces old max\n",
    "            dists[max_idx, p1, n] = dist\n",
    "            idxs[max_idx, p1, n] = p2\n",
    "            # Find new max from all dists\n",
    "            max_key, max_idx = dist, -1\n",
    "            for i = 1:K\n",
    "                if dists[i, p1, n] ≥ max_key\n",
    "                    max_key, max_idx = dists[i, p1, n], i\n",
    "                end\n",
    "            end\n",
    "        end\n",
    "    end\n",
    "end\n"
   ]
  },
  {
   "cell_type": "code",
   "execution_count": 9,
   "metadata": {},
   "outputs": [
    {
     "data": {
      "text/plain": [
       "\u001b[32m\u001b[1mTest Passed\u001b[22m\u001b[39m\n",
       "  Expression: p2[1, 4, 1] == 1.0f0\n",
       "   Evaluated: 1.0f0 == 1.0f0"
      ]
     },
     "metadata": {},
     "output_type": "display_data"
    }
   ],
   "source": [
    "\"\"\"\n",
    "Really simple nearest neighbor test\n",
    "\n",
    "Check that the nearest neighbor to p1=1 in p2 = [-2, -1, 0, 1, 2]\n",
    "is p1=1 at index 4 with distance 0\n",
    "\"\"\"\n",
    "function test_knn_kernel()\n",
    "    D, P1, N = 1, 1, 1\n",
    "    K, P2 = 1, 5\n",
    "\n",
    "    p1 = reshape([1f0], (D, P1, N))\n",
    "    p2 = reshape([-2f0, -1f0, 0f0, 1f0, 2f0], (D, P2, N))\n",
    "    lengths1 = [P1]\n",
    "    lengths2 = [P2]\n",
    "    dists = zeros(Float32, (K, P1, N))\n",
    "    idxs = zeros(Int64, (K, P1, N))\n",
    "\n",
    "    kernel! = knn_kernel(CPU(), 1, (P1, N))\n",
    "    event = kernel!(p1, p2, lengths1, lengths2, D, K, dists, idxs, ndrange=(P1, N))\n",
    "    wait(event)\n",
    "\n",
    "    @test dists[1, 1, 1] == 0f0\n",
    "    @test idxs[1, 1, 1] == 4\n",
    "    @test p2[1, 4, 1] == 1f0\n",
    "end\n",
    "test_knn_kernel()\n",
    "\n",
    "# function main()\n",
    "#     N = 2\n",
    "#     D = 1\n",
    "#     P1 = 2\n",
    "#     P2 = 5\n",
    "#     K = 3\n",
    "\n",
    "#     p1 = CUDA.randn(Float32, (D, P1, N))\n",
    "#     p2 = CUDA.randn(Float32, (D, P2, N))\n",
    "#     lengths1 = CUDA.fill(P1, (N,))\n",
    "#     lengths2 = CUDA.fill(P2, (N,))\n",
    "\n",
    "\n",
    "#     dists = CUDA.zeros(Float32, (K, P1, N))\n",
    "#     idxs = CUDA.zeros(Int64, (K, P1, N))\n",
    "# end\n",
    "# main()"
   ]
  }
 ],
 "metadata": {
  "kernelspec": {
   "display_name": "Julia 1.7.3",
   "language": "julia",
   "name": "julia-1.7"
  },
  "language_info": {
   "file_extension": ".jl",
   "mimetype": "application/julia",
   "name": "julia",
   "version": "1.7.3"
  },
  "orig_nbformat": 4,
  "vscode": {
   "interpreter": {
    "hash": "916dbcbb3f70747c44a77c7bcd40155683ae19c65e1c03b4aa3499c5328201f1"
   }
  }
 },
 "nbformat": 4,
 "nbformat_minor": 2
}
