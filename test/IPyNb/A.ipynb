{
 "cells": [
  {
   "cell_type": "code",
   "execution_count": 40,
   "metadata": {},
   "outputs": [
    {
     "data": {
      "text/plain": [
       "Sphere_HCP (generic function with 2 methods)"
      ]
     },
     "metadata": {},
     "output_type": "display_data"
    }
   ],
   "source": [
    "using DelimitedFiles\n",
    "include(\"init/sphere.jl\")"
   ]
  },
  {
   "cell_type": "code",
   "execution_count": 41,
   "metadata": {},
   "outputs": [
    {
     "data": {
      "text/plain": [
       "Two_Spheres_To_CSV (generic function with 2 methods)"
      ]
     },
     "metadata": {},
     "output_type": "display_data"
    }
   ],
   "source": [
    "\n",
    "function Two_Spheres_To_CSV(radius_agg, sep = 1.03)\n",
    "    println(\"__________Generating 2 Aggregates with RadiusAgg = $radius_agg __________\")\n",
    "    Aggregate_1 = Sphere_HCP(radius_agg, 1, -sep*radius_agg, 0, 0)\n",
    "    Aggregate_2 = Sphere_HCP(radius_agg, 1, sep*radius_agg, 0, 0)\n",
    "    Aggregate = vcat(Aggregate_1,Aggregate_2)\n",
    "    open(\"Test.vtk\"; write=true) do f\n",
    "        write(f, \"# vtk DataFile Version 3.0\\n\")\n",
    "        write(f, \"vtk output\\n\")\n",
    "        write(f, \"ASCII\\n\")\n",
    "        write(f, \"DATASET POLYDATA\\n\")\n",
    "        write(f, \"POINTS $(size(Aggregate)[1]) float\\n\\n\")\n",
    "        writedlm(f, Aggregate[:,1:3])\n",
    "    end\n",
    "end"
   ]
  },
  {
   "cell_type": "code",
   "execution_count": 42,
   "metadata": {},
   "outputs": [
    {
     "name": "stdout",
     "output_type": "stream",
     "text": [
      "__________Generating 2 Aggregates with RadiusAgg = 13 __________\n"
     ]
    }
   ],
   "source": [
    "Two_Spheres_To_CSV(13)"
   ]
  }
 ],
 "metadata": {
  "kernelspec": {
   "display_name": "Julia 1.6.7",
   "language": "julia",
   "name": "julia-1.6"
  },
  "language_info": {
   "file_extension": ".jl",
   "mimetype": "application/julia",
   "name": "julia",
   "version": "1.7.3"
  },
  "orig_nbformat": 4,
  "vscode": {
   "interpreter": {
    "hash": "916dbcbb3f70747c44a77c7bcd40155683ae19c65e1c03b4aa3499c5328201f1"
   }
  }
 },
 "nbformat": 4,
 "nbformat_minor": 2
}
