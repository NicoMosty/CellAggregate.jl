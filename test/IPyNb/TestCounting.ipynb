{
 "cells": [
  {
   "cell_type": "code",
   "execution_count": 76,
   "metadata": {},
   "outputs": [],
   "source": [
    "using StatsBase\n",
    "using DelimitedFiles"
   ]
  },
  {
   "cell_type": "code",
   "execution_count": 104,
   "metadata": {},
   "outputs": [
    {
     "data": {
      "text/plain": [
       "52×2 Matrix{Int64}:\n",
       "  1   6\n",
       "  2  20\n",
       "  3  34\n",
       "  4  42\n",
       "  5  52\n",
       "  6  60\n",
       "  7  72\n",
       "  8  74\n",
       "  9  80\n",
       " 10  88\n",
       "  ⋮  \n",
       " 44  82\n",
       " 45  80\n",
       " 46  70\n",
       " 47  60\n",
       " 48  54\n",
       " 49  44\n",
       " 50  32\n",
       " 51  20\n",
       " 52   8"
      ]
     },
     "metadata": {},
     "output_type": "display_data"
    }
   ],
   "source": [
    "R_Agg = 13\n",
    "Bins =  60\n",
    "\n",
    "X = Float64.(readdlm(\"../../data/Initial/VTK/Init/Two_Sphere/$R_Agg.vtk\")[6:end,1:3])\n",
    "H = fit(Histogram, X[:,1], nbins=Bins).weights\n",
    "hist = hcat(1:1:size(H,1),H)\n",
    "\n",
    "# @time open(\"A.csv\"; write=true) do f\n",
    "#     writedlm(f, hist)\n",
    "# end"
   ]
  }
 ],
 "metadata": {
  "kernelspec": {
   "display_name": "Julia 1.6.7",
   "language": "julia",
   "name": "julia-1.6"
  },
  "language_info": {
   "file_extension": ".jl",
   "mimetype": "application/julia",
   "name": "julia",
   "version": "1.7.3"
  },
  "orig_nbformat": 4
 },
 "nbformat": 4,
 "nbformat_minor": 2
}
