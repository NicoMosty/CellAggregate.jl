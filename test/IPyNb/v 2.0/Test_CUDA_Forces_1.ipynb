{
 "cells": [
  {
   "cell_type": "markdown",
   "metadata": {},
   "source": [
    "# Installing Dependencies"
   ]
  },
  {
   "cell_type": "code",
   "execution_count": 41,
   "metadata": {},
   "outputs": [
    {
     "data": {
      "text/plain": [
       "cu_knn (generic function with 1 method)"
      ]
     },
     "execution_count": 41,
     "metadata": {},
     "output_type": "execute_result"
    }
   ],
   "source": [
    "using DelimitedFiles\n",
    "using ProgressMeter\n",
    "using CUDA\n",
    "using BenchmarkTools: @btime\n",
    "include(\"../../../src/forces.jl\")\n",
    "include(\"../../../src/neighbor.jl\")"
   ]
  },
  {
   "cell_type": "markdown",
   "metadata": {},
   "source": [
    "# Initial Conditions"
   ]
  },
  {
   "cell_type": "code",
   "execution_count": 43,
   "metadata": {},
   "outputs": [
    {
     "name": "stdout",
     "output_type": "stream",
     "text": [
      "  0.002353 seconds (12.02 k allocations: 406.844 KiB)\n"
     ]
    },
    {
     "data": {
      "text/plain": [
       "746×3 CuArray{Float32, 2, CUDA.Mem.DeviceBuffer}:\n",
       " -1.5  -2.89  -8.98\n",
       "  0.5  -2.89  -8.98\n",
       "  2.5  -2.89  -8.98\n",
       " -2.5  -1.15  -8.98\n",
       " -0.5  -1.15  -8.98\n",
       "  1.5  -1.15  -8.98\n",
       "  3.5  -1.15  -8.98\n",
       " -3.5   0.58  -8.98\n",
       " -1.5   0.58  -8.98\n",
       "  0.5   0.58  -8.98\n",
       "  2.5   0.58  -8.98\n",
       " -2.5   2.31  -8.98\n",
       " -0.5   2.31  -8.98\n",
       "  ⋮           \n",
       "  3.5  -2.31   8.98\n",
       " -3.5  -0.58   8.98\n",
       " -1.5  -0.58   8.98\n",
       "  0.5  -0.58   8.98\n",
       "  2.5  -0.58   8.98\n",
       " -2.5   1.15   8.98\n",
       " -0.5   1.15   8.98\n",
       "  1.5   1.15   8.98\n",
       "  3.5   1.15   8.98\n",
       " -1.5   2.89   8.98\n",
       "  0.5   2.89   8.98\n",
       "  2.5   2.89   8.98"
      ]
     },
     "execution_count": 43,
     "metadata": {},
     "output_type": "execute_result"
    }
   ],
   "source": [
    "# Running fusion of the two aggregates\n",
    "# Physical Conditions\n",
    "R_agg = 10\n",
    "\n",
    "# Time model Conditions\n",
    "t_f = 5\n",
    "dt = 0.1\n",
    "\n",
    "# Neighbor Conditions\n",
    "n_knn = 50\n",
    "nn = 12\n",
    "\n",
    "# Forces Conditions\n",
    "r_max = 2.8\n",
    "fp = 0.002\n",
    "K = 0.05\n",
    "s = 2.0\n",
    "\n",
    "# Coding C0nditions\n",
    "n_text = 50\n",
    "num_agg = 2\n",
    "\n",
    "@time X = Float32.(readdlm(\"../../../data/init/Sphere/$R_agg.xyz\")[3:end,2:end]) |> cu"
   ]
  },
  {
   "cell_type": "markdown",
   "metadata": {},
   "source": [
    "# Using kNN"
   ]
  },
  {
   "cell_type": "code",
   "execution_count": 45,
   "metadata": {},
   "outputs": [],
   "source": [
    "# Inizializate Variables for kNN\n",
    "i_Cell = CuArray{Float32}(undef, (size(X, 1), size(X, 1), 3))\n",
    "Dist = CuArray{Float32}(undef, (size(X, 1), size(X, 1)))\n",
    "idx = hcat([[CartesianIndex(i,1) for i=1:nn] for j=1:size(X,1)]...) |> cu;"
   ]
  },
  {
   "cell_type": "code",
   "execution_count": 48,
   "metadata": {},
   "outputs": [],
   "source": [
    "# Inizializate Variables for Forces\n",
    "r_p = zeros(size(X)) |> cu\n",
    "dist_p = zeros(size(X,1)) |> cu\n",
    "r = zeros(nn,size(X)[1],3) |> cu\n",
    "dist = zeros(nn, size(X)[1]) |> cu\n",
    "F = zeros(nn, size(X)[1],3) |> cu\n",
    "dX = zeros(size(X)[1],3) |> cu;"
   ]
  },
  {
   "cell_type": "code",
   "execution_count": 49,
   "metadata": {},
   "outputs": [
    {
     "data": {
      "text/plain": [
       "746×3 CuArray{Float64, 2, CUDA.Mem.DeviceBuffer}:\n",
       " -1.4999   -2.88978   -8.98002\n",
       "  0.4999   -2.88978   -8.98002\n",
       "  2.5001   -2.88978   -8.98002\n",
       " -2.49999  -1.15015   -8.97986\n",
       " -0.4998   -1.15006   -8.98002\n",
       "  1.5002   -1.15006   -8.98002\n",
       "  3.49989  -1.15021   -8.98002\n",
       " -3.50001   0.579874  -8.97986\n",
       " -1.4999    0.580164  -8.98002\n",
       "  0.5001    0.580164  -8.98002\n",
       "  2.5001    0.580164  -8.98002\n",
       " -2.4998    2.31      -8.98001\n",
       " -0.4999    2.31005   -8.97984\n",
       "  ⋮                   \n",
       "  3.5      -2.31016    8.97989\n",
       " -3.50001  -0.579874   8.97986\n",
       " -1.4999   -0.579817   8.98002\n",
       "  0.5001   -0.579817   8.98002\n",
       "  2.5001   -0.579817   8.98002\n",
       " -2.49999   1.15015    8.97986\n",
       " -0.4998    1.15006    8.98002\n",
       "  1.5002    1.15006    8.98002\n",
       "  3.49989   1.15021    8.98002\n",
       " -1.4999    2.88978    8.98002\n",
       "  0.4999    2.88978    8.98002\n",
       "  2.5001    2.88978    8.98002"
      ]
     },
     "execution_count": 49,
     "metadata": {},
     "output_type": "execute_result"
    },
    {
     "ename": "",
     "evalue": "",
     "output_type": "error",
     "traceback": [
      "\u001b[1;31mEl Kernel se bloqueó al ejecutar código en la celda actual o en una celda anterior. Revise el código de las celdas para identificar una posible causa del error. Haga clic <a href='https://aka.ms/vscodeJupyterKernelCrash'>aquí</a> para obtener más información. Vea el [registro] de Jupyter (command:jupyter.viewOutput) para obtener más detalles."
     ]
    }
   ],
   "source": [
    "t = 0\n",
    "cu_knn()\n",
    "cu_forces(t, r_max, fp, K)\n",
    "X = X + dX*dt;"
   ]
  }
 ],
 "metadata": {
  "kernelspec": {
   "display_name": "Julia 1.6.7",
   "language": "julia",
   "name": "julia-1.6"
  },
  "language_info": {
   "file_extension": ".jl",
   "mimetype": "application/julia",
   "name": "julia",
   "version": "1.6.7"
  },
  "orig_nbformat": 4,
  "vscode": {
   "interpreter": {
    "hash": "916dbcbb3f70747c44a77c7bcd40155683ae19c65e1c03b4aa3499c5328201f1"
   }
  }
 },
 "nbformat": 4,
 "nbformat_minor": 2
}
