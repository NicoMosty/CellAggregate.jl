{
 "cells": [
  {
   "cell_type": "markdown",
   "metadata": {},
   "source": [
    "# Installing Dependencies"
   ]
  },
  {
   "cell_type": "code",
   "execution_count": 38,
   "metadata": {},
   "outputs": [
    {
     "data": {
      "text/plain": [
       "cu_knn (generic function with 1 method)"
      ]
     },
     "execution_count": 38,
     "metadata": {},
     "output_type": "execute_result"
    }
   ],
   "source": [
    "using DelimitedFiles\n",
    "using ProgressMeter\n",
    "using CUDA\n",
    "using BenchmarkTools: @btime\n",
    "include(\"../../../src/forces.jl\")\n",
    "include(\"../../../src/neighbor.jl\")"
   ]
  },
  {
   "cell_type": "markdown",
   "metadata": {},
   "source": [
    "# Initial Conditions"
   ]
  },
  {
   "cell_type": "code",
   "execution_count": 39,
   "metadata": {},
   "outputs": [
    {
     "name": "stdout",
     "output_type": "stream",
     "text": [
      "  0.001222 seconds (12.02 k allocations: 406.844 KiB)\n"
     ]
    },
    {
     "data": {
      "text/plain": [
       "746×3 CuArray{Float32, 2, CUDA.Mem.DeviceBuffer}:\n",
       " -1.5  -2.89  -8.98\n",
       "  0.5  -2.89  -8.98\n",
       "  2.5  -2.89  -8.98\n",
       " -2.5  -1.15  -8.98\n",
       " -0.5  -1.15  -8.98\n",
       "  1.5  -1.15  -8.98\n",
       "  3.5  -1.15  -8.98\n",
       " -3.5   0.58  -8.98\n",
       " -1.5   0.58  -8.98\n",
       "  0.5   0.58  -8.98\n",
       "  2.5   0.58  -8.98\n",
       " -2.5   2.31  -8.98\n",
       " -0.5   2.31  -8.98\n",
       "  ⋮           \n",
       "  3.5  -2.31   8.98\n",
       " -3.5  -0.58   8.98\n",
       " -1.5  -0.58   8.98\n",
       "  0.5  -0.58   8.98\n",
       "  2.5  -0.58   8.98\n",
       " -2.5   1.15   8.98\n",
       " -0.5   1.15   8.98\n",
       "  1.5   1.15   8.98\n",
       "  3.5   1.15   8.98\n",
       " -1.5   2.89   8.98\n",
       "  0.5   2.89   8.98\n",
       "  2.5   2.89   8.98"
      ]
     },
     "execution_count": 39,
     "metadata": {},
     "output_type": "execute_result"
    }
   ],
   "source": [
    "# Running fusion of the two aggregates\n",
    "# Physical Conditions\n",
    "R_agg = 10\n",
    "\n",
    "# Time model Conditions\n",
    "t_f = 10000\n",
    "dt = 0.1\n",
    "\n",
    "# Neighbor Conditions\n",
    "n_knn = 50\n",
    "nn = 12\n",
    "\n",
    "# Forces Conditions\n",
    "r_max = 2.8\n",
    "fp = 0.002\n",
    "K = 0.05\n",
    "s = 2.0\n",
    "\n",
    "# Coding C0nditions\n",
    "n_text = 50\n",
    "num_agg = 2\n",
    "\n",
    "@time X = Float32.(readdlm(\"../../../data/init/Sphere/$R_agg.xyz\")[3:end,2:end]) |> cu"
   ]
  },
  {
   "cell_type": "markdown",
   "metadata": {},
   "source": [
    "# Using kNN"
   ]
  },
  {
   "cell_type": "code",
   "execution_count": 40,
   "metadata": {},
   "outputs": [
    {
     "data": {
      "text/plain": [
       "diff_forces (generic function with 3 methods)"
      ]
     },
     "execution_count": 40,
     "metadata": {},
     "output_type": "execute_result"
    }
   ],
   "source": [
    "function diff_forces(n_knn, t_f, r_max, fp, K)\n",
    "    # Definig Variables for calculing initial variables\n",
    "    global X \n",
    "    X = X |> cu\n",
    "\n",
    "    # Inizializate Variables for kNN\n",
    "    global i_Cell = CuArray{Float32}(undef, (size(X, 1), size(X, 1), 3))\n",
    "    global Dist = CuArray{Float32}(undef, (size(X, 1), size(X, 1)))\n",
    "    global idx = hcat([[CartesianIndex(i,1) for i=1:nn] for j=1:size(X,1)]...) |> cu\n",
    "    global rand_idx = CuArray{Int32}(undef, n_knn, size(X,1))\n",
    "\n",
    "    # Inizializate Variables for Forces\n",
    "    global r = zeros(nn,size(X)[1],3) |> cu\n",
    "    global r_p = zeros(size(X)) |> cu\n",
    "    global dist = zeros(nn, size(X)[1]) |> cu\n",
    "    global dist_p = zeros(size(X,1)) |> cu\n",
    "    global F = zeros(nn, size(X)[1],3) |> cu\n",
    "    global dX = zeros(size(X)[1],3) |> cu;\n",
    "\n",
    "    # Calculating position of every cell on the fusion\n",
    "    p = Progress(Int(t_f/dt),barlen=25)\n",
    "    for t in 0:Int(t_f/dt)\n",
    "        ## LEAPFROG ALGORITHM\n",
    "        if mod(t,2) == 0\n",
    "            if mod(t, n_knn) == 0\n",
    "                # Calculating kNN\n",
    "                cu_knn()\n",
    "\n",
    "                # # Calculating kNN\n",
    "                # global idx = cpu_knn(Matrix(X), nn)\n",
    "\n",
    "            end\n",
    "            # Calculating Forces\n",
    "            cu_forces(t, r_max, fp, K)\n",
    "        else\n",
    "            global X = X + dX*dt\n",
    "        end\n",
    "\n",
    "        next!(p)\n",
    "    end\n",
    "end"
   ]
  },
  {
   "cell_type": "code",
   "execution_count": 41,
   "metadata": {},
   "outputs": [
    {
     "name": "stderr",
     "output_type": "stream",
     "text": [
      "\u001b[32mProgress: 100%|█████████████████████████| Time: 0:00:25\u001b[39m\n"
     ]
    }
   ],
   "source": [
    "diff_forces(n_knn, t_f, r_max, fp, K)"
   ]
  },
  {
   "cell_type": "code",
   "execution_count": 42,
   "metadata": {},
   "outputs": [
    {
     "data": {
      "text/plain": [
       "746×3 CuArray{Float64, 2, CUDA.Mem.DeviceBuffer}:\n",
       " -1.46872   -2.8616    -8.93854\n",
       "  0.522198  -2.85615   -8.94166\n",
       "  2.51764   -2.85286   -8.94185\n",
       " -2.46901   -1.13756   -8.93912\n",
       " -0.473787  -1.13034   -8.9436\n",
       "  1.51894   -1.12663   -8.94321\n",
       "  3.51379   -1.12623   -8.93554\n",
       " -3.4725     0.585913  -8.93843\n",
       " -1.47453    0.59369   -8.94169\n",
       "  0.519949   0.598723  -8.94104\n",
       "  2.51054    0.600824  -8.93729\n",
       " -2.47782    2.31484   -8.93554\n",
       " -0.486591   2.32384   -8.93725\n",
       "  ⋮                    \n",
       "  3.49567   -2.33436    8.92543\n",
       " -3.4791    -0.594511   8.93055\n",
       " -1.48096   -0.596763   8.93762\n",
       "  0.515843  -0.598753   8.93807\n",
       "  2.50758   -0.602109   8.93586\n",
       " -2.47673    1.13353    8.93487\n",
       " -0.480372   1.12683    8.94004\n",
       "  1.51386    1.1246     8.94155\n",
       "  3.51035    1.12419    8.93422\n",
       " -1.47581    2.85802    8.93404\n",
       "  0.517145   2.85329    8.93884\n",
       "  2.51268    2.85055    8.94026"
      ]
     },
     "execution_count": 42,
     "metadata": {},
     "output_type": "execute_result"
    }
   ],
   "source": [
    "X"
   ]
  }
 ],
 "metadata": {
  "kernelspec": {
   "display_name": "Julia 1.6.7",
   "language": "julia",
   "name": "julia-1.6"
  },
  "language_info": {
   "file_extension": ".jl",
   "mimetype": "application/julia",
   "name": "julia",
   "version": "1.6.7"
  },
  "orig_nbformat": 4,
  "vscode": {
   "interpreter": {
    "hash": "916dbcbb3f70747c44a77c7bcd40155683ae19c65e1c03b4aa3499c5328201f1"
   }
  }
 },
 "nbformat": 4,
 "nbformat_minor": 2
}
