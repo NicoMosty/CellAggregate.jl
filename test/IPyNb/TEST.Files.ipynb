{
 "cells": [
  {
   "cell_type": "markdown",
   "metadata": {},
   "source": [
    "# Installing Dependencies"
   ]
  },
  {
   "cell_type": "code",
   "execution_count": 1,
   "metadata": {},
   "outputs": [],
   "source": [
    "using DelimitedFiles"
   ]
  },
  {
   "cell_type": "markdown",
   "metadata": {},
   "source": [
    "# Use this for vtk calling"
   ]
  },
  {
   "cell_type": "code",
   "execution_count": 5,
   "metadata": {},
   "outputs": [
    {
     "data": {
      "text/plain": [
       "1620×3 Matrix{Any}:\n",
       " -0.5  -4.04  -12.25\n",
       "  1.5  -4.04  -12.25\n",
       " -3.5  -2.31  -12.25\n",
       " -1.5  -2.31  -12.25\n",
       "  0.5  -2.31  -12.25\n",
       "  2.5  -2.31  -12.25\n",
       " -2.5  -0.58  -12.25\n",
       " -0.5  -0.58  -12.25\n",
       "  1.5  -0.58  -12.25\n",
       "  3.5  -0.58  -12.25\n",
       "  ⋮           \n",
       " -0.5   0.58   12.25\n",
       "  1.5   0.58   12.25\n",
       "  3.5   0.58   12.25\n",
       " -3.5   2.31   12.25\n",
       " -1.5   2.31   12.25\n",
       "  0.5   2.31   12.25\n",
       "  2.5   2.31   12.25\n",
       " -0.5   4.04   12.25\n",
       "  1.5   4.04   12.25"
      ]
     },
     "metadata": {},
     "output_type": "display_data"
    }
   ],
   "source": [
    "X = readdlm(\"13.vtk\")[6:end,1:3]"
   ]
  },
  {
   "cell_type": "code",
   "execution_count": 58,
   "metadata": {},
   "outputs": [
    {
     "name": "stdout",
     "output_type": "stream",
     "text": [
      "  0.042847 seconds (53.08 k allocations: 4.590 MiB, 95.45% compilation time)\n"
     ]
    }
   ],
   "source": [
    "@time open(\"13.xyz\"; write=true) do f\n",
    "    write(f, \"$(size(X, 1))\\n\")\n",
    "    write(f, \"Initial Data (13)\\n\")\n",
    "    writedlm(f, hcat(repeat([\"C1\"], size(X, 1)),X), ' ')\n",
    "end"
   ]
  },
  {
   "cell_type": "markdown",
   "metadata": {},
   "source": [
    "# Move to Two_Sphere"
   ]
  },
  {
   "cell_type": "markdown",
   "metadata": {},
   "source": [
    "### VTK"
   ]
  },
  {
   "cell_type": "code",
   "execution_count": 34,
   "metadata": {},
   "outputs": [
    {
     "ename": "ArgumentError",
     "evalue": "ArgumentError: Cannot open '../data/Init/Two_Sphere/2.csv': not a file",
     "output_type": "error",
     "traceback": [
      "ArgumentError: Cannot open '../data/Init/Two_Sphere/2.csv': not a file\n",
      "\n",
      "Stacktrace:\n",
      " [1] readdlm_auto(input::String, dlm::Char, T::Type, eol::Char, auto::Bool; opts::Base.Pairs{Symbol, Bool, Tuple{Symbol}, NamedTuple{(:header,), Tuple{Bool}}})\n",
      "   @ DelimitedFiles /opt/julia-1.7.3/share/julia/stdlib/v1.7/DelimitedFiles/src/DelimitedFiles.jl:234\n",
      " [2] #readdlm#6\n",
      "   @ /opt/julia-1.7.3/share/julia/stdlib/v1.7/DelimitedFiles/src/DelimitedFiles.jl:226 [inlined]\n",
      " [3] #readdlm#2\n",
      "   @ /opt/julia-1.7.3/share/julia/stdlib/v1.7/DelimitedFiles/src/DelimitedFiles.jl:86 [inlined]\n",
      " [4] top-level scope\n",
      "   @ ~/Documentos/Maestria-GitHub/Centre-Julia/data/TEST.Files.ipynb:2"
     ]
    }
   ],
   "source": [
    "for R_agg=2:17\n",
    "    X = readdlm(\"../data/Init/Two_Sphere/$(R_agg).csv\", ',', Float32, header=true)[1][:, 1:3]\n",
    "\n",
    "    @time open(\"VTK/Init/Two_Sphere/$(R_agg).vtk\"; write=true) do f\n",
    "        write(f, \"# vtk DataFile Version 3.0\\n\")\n",
    "        write(f, \"vtk output\\n\")\n",
    "        write(f, \"ASCII\\n\")\n",
    "        write(f, \"DATASET POLYDATA\\n\")\n",
    "        write(f, \"POINTS $(size(X)[1]) float\\n\\n\")\n",
    "        writedlm(f, X)\n",
    "    end\n",
    "end"
   ]
  },
  {
   "cell_type": "markdown",
   "metadata": {},
   "source": [
    "### XYZ"
   ]
  },
  {
   "cell_type": "code",
   "execution_count": 66,
   "metadata": {},
   "outputs": [
    {
     "name": "stdout",
     "output_type": "stream",
     "text": [
      "  0.048391 seconds (43.98 k allocations: 2.482 MiB, 99.12% compilation time)\n",
      "  0.000355 seconds (253 allocations: 15.422 KiB)\n",
      "  0.001159 seconds (470 allocations: 30.109 KiB)\n",
      "  0.000299 seconds (920 allocations: 56.328 KiB)\n",
      "  0.000456 seconds (1.46 k allocations: 92.094 KiB)\n",
      "  0.000369 seconds (2.36 k allocations: 153.266 KiB)\n"
     ]
    },
    {
     "name": "stdout",
     "output_type": "stream",
     "text": [
      "  0.000482 seconds (3.48 k allocations: 218.453 KiB)\n",
      "  0.000658 seconds (4.90 k allocations: 327.156 KiB)\n",
      "  0.000851 seconds (6.78 k allocations: 436.531 KiB)\n",
      "  0.001093 seconds (8.88 k allocations: 559.734 KiB)\n",
      "  0.001171 seconds (11.55 k allocations: 715.531 KiB)\n",
      "  0.001662 seconds (14.64 k allocations: 896.656 KiB)\n",
      "  0.001749 seconds (18.37 k allocations: 1.089 MiB)\n",
      "  0.002150 seconds (22.60 k allocations: 1.330 MiB)\n",
      "  0.002608 seconds (27.36 k allocations: 1.602 MiB)\n",
      "  0.003113 seconds (32.83 k allocations: 1.915 MiB)\n"
     ]
    }
   ],
   "source": [
    "for R_agg=2:17\n",
    "    X = readdlm(\"../data/CSV/Init/Sphere/$(R_agg).csv\", ',', Float32, header=true)[1][:, 1:3]\n",
    "\n",
    "    @time open(\"XYZ/Init/Sphere/$(R_agg).xyz\"; write=true) do f\n",
    "        write(f, \"$(size(X, 1))\\n\")\n",
    "        write(f, \"Initial Data ($(R_agg))\\n\")\n",
    "        writedlm(f, hcat(repeat([\"C1\"], size(X, 1)),X), ' ')\n",
    "    end\n",
    "end"
   ]
  },
  {
   "cell_type": "code",
   "execution_count": 67,
   "metadata": {},
   "outputs": [
    {
     "name": "stdout",
     "output_type": "stream",
     "text": [
      "  0.041407 seconds (44.03 k allocations: 2.486 MiB, 99.43% compilation time)\n",
      "  0.000357 seconds (452 allocations: 29.016 KiB)\n",
      "  0.000256 seconds (884 allocations: 54.578 KiB)\n",
      "  0.000614 seconds (1.78 k allocations: 111.203 KiB)\n",
      "  0.001109 seconds (2.87 k allocations: 183.047 KiB)\n",
      "  0.000896 seconds (4.67 k allocations: 314.141 KiB)\n",
      "  0.001044 seconds (6.90 k allocations: 444.875 KiB)\n",
      "  0.002318 seconds (9.75 k allocations: 611.750 KiB)\n",
      "  0.001923 seconds (13.49 k allocations: 829.750 KiB)\n",
      "  0.002253 seconds (17.71 k allocations: 1.053 MiB)\n",
      "  0.002747 seconds (23.04 k allocations: 1.358 MiB)\n"
     ]
    },
    {
     "name": "stdout",
     "output_type": "stream",
     "text": [
      "  0.003582 seconds (29.23 k allocations: 1.713 MiB)\n",
      "  0.003329 seconds (36.69 k allocations: 2.140 MiB)\n",
      "  0.004668 seconds (45.15 k allocations: 2.626 MiB)\n"
     ]
    },
    {
     "name": "stdout",
     "output_type": "stream",
     "text": [
      "  0.004667 seconds (54.65 k allocations: 3.171 MiB)\n",
      "  0.005804 seconds (65.60 k allocations: 3.799 MiB)\n"
     ]
    }
   ],
   "source": [
    "for R_agg=2:17\n",
    "    X = readdlm(\"../data/CSV/Init/Two_Sphere/$(R_agg).csv\", ',', Float32, header=true)[1][:, 1:3]\n",
    "\n",
    "    @time open(\"XYZ/Init/Two_Sphere/$(R_agg).xyz\"; write=true) do f\n",
    "        write(f, \"$(size(X, 1))\\n\")\n",
    "        write(f, \"Initial Data ($(R_agg))\\n\")\n",
    "        writedlm(f, hcat(repeat([\"C1\"], size(X, 1)),X), ' ')\n",
    "    end\n",
    "end"
   ]
  },
  {
   "cell_type": "markdown",
   "metadata": {},
   "source": [
    "# Move to Sphere"
   ]
  },
  {
   "cell_type": "code",
   "execution_count": 23,
   "metadata": {},
   "outputs": [
    {
     "name": "stdout",
     "output_type": "stream",
     "text": [
      "  0.012706 seconds (8.38 k allocations: 433.706 KiB, 98.62% compilation time)\n",
      "  0.000070 seconds (179 allocations: 13.000 KiB)\n",
      "  0.000051 seconds (324 allocations: 25.469 KiB)\n",
      "  0.000064 seconds (624 allocations: 47.438 KiB)\n",
      "  0.000079 seconds (985 allocations: 77.656 KiB)\n",
      "  0.000131 seconds (1.58 k allocations: 121.406 KiB)\n",
      "  0.000141 seconds (2.33 k allocations: 184.156 KiB)\n",
      "  0.000181 seconds (3.28 k allocations: 253.203 KiB)\n",
      "  0.000245 seconds (4.53 k allocations: 369.703 KiB)\n",
      "  0.000296 seconds (5.93 k allocations: 471.984 KiB)\n",
      "  0.000376 seconds (7.71 k allocations: 601.672 KiB)\n",
      "  0.000436 seconds (9.77 k allocations: 752.172 KiB)\n",
      "  0.000522 seconds (12.26 k allocations: 933.391 KiB)\n",
      "  0.000759 seconds (15.08 k allocations: 1.113 MiB)\n"
     ]
    },
    {
     "name": "stdout",
     "output_type": "stream",
     "text": [
      "  0.000852 seconds (18.25 k allocations: 1.338 MiB)\n",
      "  0.000962 seconds (21.90 k allocations: 1.599 MiB)\n"
     ]
    }
   ],
   "source": [
    "for R_agg=2:17\n",
    "    X = readdlm(\"../data/XYZ/Init/Sphere/$(R_agg).csv\", ',', Float32, header=true)[1][:, 1:3]\n",
    "\n",
    "    @time open(\"VTK/Init/Sphere/$(R_agg).vtk\"; write=true) do f\n",
    "        write(f, \"# vtk DataFile Version 3.0\\n\")\n",
    "        write(f, \"vtk output\\n\")\n",
    "        write(f, \"ASCII\\n\")\n",
    "        write(f, \"DATASET POLYDATA\\n\")\n",
    "        write(f, \"POINTS $(size(X)[1]) float\\n\\n\")\n",
    "        writedlm(f, X)\n",
    "    end\n",
    "end\n",
    "\n",
    "# open(\"VTK/Init/Sphere/$(R_agg).vtk\", \"a+\") do f"
   ]
  },
  {
   "cell_type": "code",
   "execution_count": 84,
   "metadata": {},
   "outputs": [
    {
     "data": {
      "text/plain": [
       "3240×3 Matrix{Float32}:\n",
       " -13.89  -4.04  -12.25\n",
       " -11.89  -4.04  -12.25\n",
       " -16.89  -2.31  -12.25\n",
       " -14.89  -2.31  -12.25\n",
       " -12.89  -2.31  -12.25\n",
       " -10.89  -2.31  -12.25\n",
       " -15.89  -0.58  -12.25\n",
       " -13.89  -0.58  -12.25\n",
       " -11.89  -0.58  -12.25\n",
       "  -9.89  -0.58  -12.25\n",
       "   ⋮            \n",
       "  12.89   0.58   12.25\n",
       "  14.89   0.58   12.25\n",
       "  16.89   0.58   12.25\n",
       "   9.89   2.31   12.25\n",
       "  11.89   2.31   12.25\n",
       "  13.89   2.31   12.25\n",
       "  15.89   2.31   12.25\n",
       "  12.89   4.04   12.25\n",
       "  14.89   4.04   12.25"
      ]
     },
     "metadata": {},
     "output_type": "display_data"
    }
   ],
   "source": []
  },
  {
   "cell_type": "code",
   "execution_count": 121,
   "metadata": {},
   "outputs": [
    {
     "data": {
      "text/plain": [
       "1.5"
      ]
     },
     "metadata": {},
     "output_type": "display_data"
    }
   ],
   "source": [
    "r=2\n",
    "Y = readdlm(\"../data/XYZ/Init/Sphere/$(r).xyz\")[3:end,2:end]\n",
    "(max(Y[:,1]...)-min(Y[:,1]...) + 1)/2"
   ]
  }
 ],
 "metadata": {
  "kernelspec": {
   "display_name": "Julia 1.7.3",
   "language": "julia",
   "name": "julia-1.7"
  },
  "language_info": {
   "file_extension": ".jl",
   "mimetype": "application/julia",
   "name": "julia",
   "version": "1.7.3"
  },
  "orig_nbformat": 4,
  "vscode": {
   "interpreter": {
    "hash": "916dbcbb3f70747c44a77c7bcd40155683ae19c65e1c03b4aa3499c5328201f1"
   }
  }
 },
 "nbformat": 4,
 "nbformat_minor": 2
}
