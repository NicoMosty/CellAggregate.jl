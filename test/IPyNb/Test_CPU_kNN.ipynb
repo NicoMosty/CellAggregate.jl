{
 "cells": [
  {
   "cell_type": "markdown",
   "metadata": {},
   "source": [
    "# Installing Dependencies"
   ]
  },
  {
   "cell_type": "code",
   "execution_count": 1,
   "metadata": {},
   "outputs": [],
   "source": [
    "using DelimitedFiles\n",
    "using NearestNeighbors: BallTree, KDTree, BruteTree, knn\n",
    "using LinearAlgebra: norm"
   ]
  },
  {
   "cell_type": "markdown",
   "metadata": {},
   "source": [
    "# Initial Conditions"
   ]
  },
  {
   "cell_type": "code",
   "execution_count": 2,
   "metadata": {},
   "outputs": [
    {
     "name": "stdout",
     "output_type": "stream",
     "text": [
      "  0.457952 seconds (2.07 M allocations: 95.630 MiB, 12.51% gc time, 96.48% compilation time)\n"
     ]
    }
   ],
   "source": [
    "R_Agg = 16\n",
    "\n",
    "@time X = readdlm(\"../data/Init/Two_Sphere/$R_Agg.csv\", ',', Float64, header=true)[1][:, 1:3]\n",
    "r_max, s = 2, 1\n",
    "K = 10\n",
    "t, t_knn = 0, 10\n",
    "dt = 0.5;"
   ]
  },
  {
   "cell_type": "markdown",
   "metadata": {},
   "source": [
    "# CPU kNN"
   ]
  },
  {
   "cell_type": "code",
   "execution_count": 1,
   "metadata": {},
   "outputs": [
    {
     "ename": "UndefVarError",
     "evalue": "UndefVarError: X not defined",
     "output_type": "error",
     "traceback": [
      "UndefVarError: X not defined\n",
      "\n",
      "Stacktrace:\n",
      " [1] top-level scope\n",
      "   @ ./timing.jl:220 [inlined]\n",
      " [2] top-level scope\n",
      "   @ ~/Documentos/Maestria-GitHub/Centre-Julia/test/Test_CPU_kNN.ipynb:0"
     ]
    }
   ],
   "source": [
    "function mykNN(k, index, data)\n",
    "    for dim in 1:1:3\n",
    "        d_temp =  (data[index,dim].-  data[:,dim]) .^2\n",
    "        if dim == 1\n",
    "            global dist = (data[index,dim].-  data[:,dim]) .^2\n",
    "        else\n",
    "            global dist = dist .+ (data[index,dim].-  data[:,dim]) .^2\n",
    "        end\n",
    "    end\n",
    "    global dist = hcat(1:1:size(dist)[1],dist)\n",
    "    return Int.(dist[sortperm(dist[:,2]),:][2:k,1])\n",
    "end\n",
    "@time mykNN(10, 1, X)"
   ]
  }
 ],
 "metadata": {
  "kernelspec": {
   "display_name": "Julia 1.7.3",
   "language": "julia",
   "name": "julia-1.7"
  },
  "language_info": {
   "file_extension": ".jl",
   "mimetype": "application/julia",
   "name": "julia",
   "version": "1.7.3"
  },
  "orig_nbformat": 4,
  "vscode": {
   "interpreter": {
    "hash": "916dbcbb3f70747c44a77c7bcd40155683ae19c65e1c03b4aa3499c5328201f1"
   }
  }
 },
 "nbformat": 4,
 "nbformat_minor": 2
}
