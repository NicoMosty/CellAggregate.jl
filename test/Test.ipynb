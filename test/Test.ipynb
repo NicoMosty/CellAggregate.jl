{
 "cells": [
  {
   "cell_type": "code",
   "execution_count": 13,
   "metadata": {},
   "outputs": [
    {
     "data": {
      "text/plain": [
       "coco! (generic function with 1 method)"
      ]
     },
     "metadata": {},
     "output_type": "display_data"
    }
   ],
   "source": [
    "using CUDA\n",
    "\n",
    "function coco!(A)\n",
    "\n",
    "    i = (blockIdx().x - 1) * blockDim().x + threadIdx().x\n",
    "    k = (blockIdx().y - 1) * blockDim().y + threadIdx().y\n",
    "    ti = threadIdx().x\n",
    "    tk = threadIdx().y\n",
    "\n",
    "    random = @cuDynamicSharedMem(Float32,(ti,tk))\n",
    "\n",
    "    if i <= size(A,1) && k <= size(A,2) \n",
    "\n",
    "        random[ti,tk] = rand(1:3)\n",
    "        A[i,k] = random[ti]\n",
    "    end\n",
    "\n",
    "    return nothing\n",
    "end"
   ]
  },
  {
   "cell_type": "code",
   "execution_count": 16,
   "metadata": {},
   "outputs": [
    {
     "data": {
      "text/plain": [
       "100×3 CuArray{Float32, 2, CUDA.Mem.DeviceBuffer}:\n",
       " 1.0  1.0  1.0\n",
       " 1.0  1.0  1.0\n",
       " 1.0  1.0  1.0\n",
       " 1.0  1.0  1.0\n",
       " 2.0  2.0  2.0\n",
       " 1.0  1.0  1.0\n",
       " 2.0  2.0  2.0\n",
       " 3.0  3.0  3.0\n",
       " 1.0  1.0  1.0\n",
       " 1.0  1.0  1.0\n",
       " ⋮         \n",
       " 3.0  3.0  3.0\n",
       " 2.0  2.0  2.0\n",
       " 3.0  3.0  3.0\n",
       " 2.0  2.0  2.0\n",
       " 1.0  1.0  1.0\n",
       " 2.0  2.0  2.0\n",
       " 2.0  2.0  2.0\n",
       " 3.0  3.0  3.0\n",
       " 1.0  1.0  1.0"
      ]
     },
     "metadata": {},
     "output_type": "display_data"
    }
   ],
   "source": [
    "A = zeros(100,3) |> cu\n",
    "\n",
    "threads=(64,3)\n",
    "@cuda(\n",
    "    threads = threads,\n",
    "    blocks = cld.(size(A,),threads),\n",
    "    shmem=prod(threads.+2)*sizeof(Float32),\n",
    "    coco!(A)\n",
    ")\n",
    "\n",
    "A"
   ]
  }
 ],
 "metadata": {
  "kernelspec": {
   "display_name": "Julia 1.6.7",
   "language": "julia",
   "name": "julia-1.6"
  },
  "language_info": {
   "file_extension": ".jl",
   "mimetype": "application/julia",
   "name": "julia",
   "version": "1.6.7"
  },
  "orig_nbformat": 4
 },
 "nbformat": 4,
 "nbformat_minor": 2
}
