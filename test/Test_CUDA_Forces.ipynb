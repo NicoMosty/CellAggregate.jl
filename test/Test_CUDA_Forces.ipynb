{
 "cells": [
  {
   "cell_type": "markdown",
   "metadata": {},
   "source": [
    "# Installing Dependencies"
   ]
  },
  {
   "cell_type": "code",
   "execution_count": 2,
   "metadata": {},
   "outputs": [],
   "source": [
    "using DelimitedFiles\n",
    "using NearestNeighbors: KDTree, knn\n",
    "using LinearAlgebra: norm\n",
    "using CUDA"
   ]
  },
  {
   "cell_type": "markdown",
   "metadata": {},
   "source": [
    "# Using kNN"
   ]
  },
  {
   "cell_type": "code",
   "execution_count": 4,
   "metadata": {},
   "outputs": [
    {
     "name": "stdout",
     "output_type": "stream",
     "text": [
      "  0.000050 seconds (30 allocations: 2.421 KiB)\n"
     ]
    },
    {
     "data": {
      "text/plain": [
       "NearNeighbor (generic function with 1 method)"
      ]
     },
     "metadata": {},
     "output_type": "display_data"
    }
   ],
   "source": [
    "@time function NearNeighbor(X, t, t_knn)\n",
    "    # Using kNN for Nearest Neighbors\n",
    "    if t%t_knn | t == 0\n",
    "        global kdtree = KDTree(X')\n",
    "    end \n",
    "\n",
    "    # Loop over all cells to compute displacements\n",
    "    index, _ = knn(kdtree, X[1,:], 14, true)\n",
    "    for i in 2:size(X)[1]\n",
    "        # Scan neighbours\n",
    "        global idxs, _ = knn(kdtree, X[i,:], 14, true)\n",
    "        index = hcat(index, idxs)\n",
    "\n",
    "    end\n",
    "    return index\n",
    "end"
   ]
  },
  {
   "cell_type": "markdown",
   "metadata": {},
   "source": [
    "# Initial Conditions"
   ]
  },
  {
   "cell_type": "code",
   "execution_count": 7,
   "metadata": {},
   "outputs": [
    {
     "name": "stdout",
     "output_type": "stream",
     "text": [
      "  0.019684 seconds (565.10 k allocations: 15.185 MiB)\n"
     ]
    },
    {
     "name": "stdout",
     "output_type": "stream",
     "text": [
      "  0.221128 seconds (36.27 k allocations: 1.922 GiB, 7.99% gc time)\n"
     ]
    },
    {
     "data": {
      "text/plain": [
       "14×6064 Matrix{Int64}:\n",
       "   1    2    3    4    5    6    7  …  6059  6060  6061  6062  6063  6064\n",
       "  25   26   27   40   42   43   44     6024  6025  6026  6038  6039  6040\n",
       "  33   33   35   41   41   42   43     6023  6024  6025  6030  6031  6033\n",
       "  32   34   34    9    9   10   11     6055  6057  6057  6031  6032  6032\n",
       "   2    3    2    8   10   11    6     6056  6056  6060  6063  6064  6063\n",
       "   4    1    6    5    4    5   35  …  6058  6061  6033  6059  6062  6061\n",
       "   5    6    7   32    6    7    3     6060  6059  6064  6058  6060  6060\n",
       "  24    5   26    1   33   34   51     6031  6032  6017  6037  6059  6039\n",
       "  26   25   28   48    2    3   34     6062  6063  6034  6039  6038  6041\n",
       "  41   27   43   33    1    2   36     6063  6064  6032  6023  6040  6025\n",
       " 102   42  104   31   49   50  114  …  6015  6016  5954  5962  6024  5964\n",
       "  20  103   22  111   34   35   52     6030  6033  6018  6045  5963  6047\n",
       "  19   20   21   47   32   33   50     6032  6031  6016  6044  6045  6046\n",
       "  42   21   44   49  112  113   42     5952  5953  6027  6024  6046  6026"
      ]
     },
     "metadata": {},
     "output_type": "display_data"
    }
   ],
   "source": [
    "R_Agg = 16\n",
    "t, t_knn = 0, 10\n",
    "\n",
    "@time X = readdlm(\"../data/Init/Two_Sphere/$R_Agg.csv\", ',', Float64, header=true)[1][:, 1:3]\n",
    "@time idx = NearNeighbor(X, t, t_knn)"
   ]
  },
  {
   "cell_type": "markdown",
   "metadata": {},
   "source": [
    "# CUDA Forces"
   ]
  },
  {
   "cell_type": "markdown",
   "metadata": {},
   "source": [
    "## Define Variables for CUDA"
   ]
  },
  {
   "cell_type": "code",
   "execution_count": 10,
   "metadata": {},
   "outputs": [
    {
     "name": "stdout",
     "output_type": "stream",
     "text": [
      "  0.000085 seconds (12 allocations: 213.516 KiB)\n",
      "  0.000080 seconds (12 allocations: 213.516 KiB)\n",
      "  0.000141 seconds (12 allocations: 995.203 KiB)\n",
      "  0.000287 seconds (12 allocations: 2.915 MiB)\n",
      "  0.000201 seconds (12 allocations: 995.203 KiB)\n"
     ]
    },
    {
     "name": "stdout",
     "output_type": "stream",
     "text": [
      "  0.000715 seconds (12 allocations: 2.915 MiB)\n"
     ]
    }
   ],
   "source": [
    "@time X_Cu = zeros(size(X)[1],3) |> cu\n",
    "@time dX_Cu = zeros(size(X)[1],3) |> cu\n",
    "@time idx_Cu = zeros(14,size(X)[1]) |> cu\n",
    "@time r = zeros(14,size(X)[1],3) |> cu\n",
    "@time dist = zeros(14, size(X)[1]) |> cu\n",
    "@time F = zeros(14, size(X)[1],3) |> cu;"
   ]
  },
  {
   "cell_type": "markdown",
   "metadata": {},
   "source": [
    "## Adding Variables to CUDA"
   ]
  },
  {
   "cell_type": "code",
   "execution_count": 13,
   "metadata": {},
   "outputs": [
    {
     "name": "stdout",
     "output_type": "stream",
     "text": [
      "  0.000075 seconds (8 allocations: 71.297 KiB)\n",
      "  0.000089 seconds (6 allocations: 192 bytes)\n"
     ]
    }
   ],
   "source": [
    "@time X_Cu = X |> cu\n",
    "@time idx_Cu = idx |> cu;"
   ]
  },
  {
   "cell_type": "markdown",
   "metadata": {},
   "source": [
    "## Generating Forces"
   ]
  },
  {
   "cell_type": "code",
   "execution_count": 49,
   "metadata": {},
   "outputs": [
    {
     "name": "stdout",
     "output_type": "stream",
     "text": [
      "Finding Distances\n",
      "  0.000208 seconds (282 allocations: 13.453 KiB)\n",
      "  0.000230 seconds (282 allocations: 13.453 KiB)\n",
      "  0.000295 seconds (282 allocations: 13.453 KiB)\n"
     ]
    }
   ],
   "source": [
    "# Finding Distances\n",
    "println(\"Finding Distances\")\n",
    "@time r[:,:,1] =repeat(X_Cu[idx_Cu[1,:],1]', 14) - X_Cu[idx_Cu[:,:],1]\n",
    "@time r[:,:,2] =repeat(X_Cu[idx_Cu[1,:],2]', 14) - X_Cu[idx_Cu[:,:],2]\n",
    "@time r[:,:,3] =repeat(X_Cu[idx_Cu[1,:],3]', 14) - X_Cu[idx_Cu[:,:],3];"
   ]
  },
  {
   "cell_type": "code",
   "execution_count": 50,
   "metadata": {},
   "outputs": [
    {
     "name": "stdout",
     "output_type": "stream",
     "text": [
      "Finding Distances/Norm\n",
      "  0.000172 seconds (176 allocations: 7.422 KiB)\n",
      "  0.000101 seconds (54 allocations: 2.375 KiB)\n",
      "  0.000111 seconds (54 allocations: 2.375 KiB)\n",
      "  0.000078 seconds (54 allocations: 2.375 KiB)\n"
     ]
    }
   ],
   "source": [
    "# Finding Distances/Norm\n",
    "println(\"Finding Distances/Norm\")\n",
    "@time dist = (r[:,:,1] .^ 2 + r[:,:,2] .^ 2 + r[:,:,3] .^ 2) .^ (0.5)\n",
    "@time r[:,:,1] =r[:,:,1] ./ dist\n",
    "@time r[:,:,2] =r[:,:,2] ./ dist\n",
    "@time r[:,:,3] =r[:,:,3] ./ dist;"
   ]
  },
  {
   "cell_type": "code",
   "execution_count": 51,
   "metadata": {},
   "outputs": [
    {
     "name": "stdout",
     "output_type": "stream",
     "text": [
      "Calculationg Forces\n",
      "  0.000368 seconds (80 allocations: 7.578 KiB)\n"
     ]
    }
   ],
   "source": [
    "# F = - K*(dist-r_max)*(dist-r_max)*(dist - s)\n",
    "r_max, s = 4, 1\n",
    "K = 0.1\n",
    "\n",
    "# dX[i,:] +=  r/dist * F\n",
    "println(\"Calculationg Forces\")\n",
    "@time F = (-K.*(dist .- r_max).^2) .* (dist .- s) .* r;"
   ]
  },
  {
   "cell_type": "code",
   "execution_count": 52,
   "metadata": {},
   "outputs": [
    {
     "name": "stdout",
     "output_type": "stream",
     "text": [
      "Calculationg dX\n",
      "  0.000123 seconds (72 allocations: 3.125 KiB)\n",
      "  0.000112 seconds (72 allocations: 3.125 KiB)\n",
      "  0.000092 seconds (72 allocations: 3.125 KiB)\n"
     ]
    }
   ],
   "source": [
    "# Calculating de dX\n",
    "println(\"Calculationg dX\")\n",
    "@time dX_Cu[:,1] = sum(F[:,:,1][2:end,:]; dims=1)\n",
    "@time dX_Cu[:,2] = sum(F[:,:,2][2:end,:]; dims=1)\n",
    "@time dX_Cu[:,3] = sum(F[:,:,3][2:end,:]; dims=1);"
   ]
  },
  {
   "cell_type": "code",
   "execution_count": 53,
   "metadata": {},
   "outputs": [
    {
     "data": {
      "text/plain": [
       "6064×3 CuArray{Float32, 2, CUDA.Mem.DeviceBuffer}:\n",
       "  0.441006      0.62202      1.64062\n",
       " -2.77556f-17   0.574658     1.6072\n",
       " -0.358994      0.62202      1.64062\n",
       "  0.599306      0.440277     1.60735\n",
       "  0.0          -0.00311011   1.53889\n",
       "  0.0          -0.00311011   1.53889\n",
       " -0.861352      0.105725     1.64096\n",
       "  0.861867     -0.0157381    1.60433\n",
       "  0.0          -0.00377605   1.5371\n",
       "  0.0          -0.00377605   1.5371\n",
       "  ⋮                         \n",
       "  0.0           0.00377605  -1.5371\n",
       " -0.600177      0.326573    -1.60433\n",
       "  0.599306     -0.440277    -1.60735\n",
       "  0.0           0.00311011  -1.53889\n",
       "  0.0           0.00311011  -1.53889\n",
       " -0.737615     -0.105725    -1.64096\n",
       "  0.441006     -0.62202     -1.64062\n",
       " -2.77556f-17  -0.574658    -1.6072\n",
       " -0.358994     -0.62202     -1.64062"
      ]
     },
     "metadata": {},
     "output_type": "display_data"
    }
   ],
   "source": [
    "dX_Cu"
   ]
  }
 ],
 "metadata": {
  "kernelspec": {
   "display_name": "Julia 1.7.3",
   "language": "julia",
   "name": "julia-1.7"
  },
  "language_info": {
   "file_extension": ".jl",
   "mimetype": "application/julia",
   "name": "julia",
   "version": "1.7.3"
  },
  "orig_nbformat": 4,
  "vscode": {
   "interpreter": {
    "hash": "916dbcbb3f70747c44a77c7bcd40155683ae19c65e1c03b4aa3499c5328201f1"
   }
  }
 },
 "nbformat": 4,
 "nbformat_minor": 2
}
