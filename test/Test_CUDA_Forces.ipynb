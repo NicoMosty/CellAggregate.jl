{
 "cells": [
  {
   "cell_type": "markdown",
   "metadata": {},
   "source": [
    "# Installing Dependencies"
   ]
  },
  {
   "cell_type": "code",
   "execution_count": 1,
   "metadata": {},
   "outputs": [],
   "source": [
    "using DelimitedFiles\n",
    "using NearestNeighbors: KDTree, knn\n",
    "using LinearAlgebra: norm\n",
    "using CUDA\n",
    "using BenchmarkTools: @btime"
   ]
  },
  {
   "cell_type": "markdown",
   "metadata": {},
   "source": [
    "# Using kNN"
   ]
  },
  {
   "cell_type": "code",
   "execution_count": 2,
   "metadata": {},
   "outputs": [
    {
     "name": "stdout",
     "output_type": "stream",
     "text": [
      "  0.002507 seconds (998 allocations: 64.155 KiB, 58.35% compilation time)\n"
     ]
    },
    {
     "data": {
      "text/plain": [
       "NearNeighbor (generic function with 1 method)"
      ]
     },
     "metadata": {},
     "output_type": "display_data"
    }
   ],
   "source": [
    "@time function NearNeighbor(X, t, t_knn)\n",
    "    # Using kNN for Nearest Neighbors\n",
    "    if t%t_knn | t == 0\n",
    "        global kdtree = KDTree(X')\n",
    "    end \n",
    "\n",
    "    # Loop over all cells to compute displacements\n",
    "    index, _ = knn(kdtree, X[1,:], 14, true)\n",
    "    for i in 2:size(X)[1]\n",
    "        # Scan neighbours\n",
    "        global idxs, _ = knn(kdtree, X[i,:], 14, true)\n",
    "        index = hcat(index, idxs)\n",
    "\n",
    "    end\n",
    "    return index\n",
    "end"
   ]
  },
  {
   "cell_type": "markdown",
   "metadata": {},
   "source": [
    "# Initial Conditions"
   ]
  },
  {
   "cell_type": "code",
   "execution_count": 5,
   "metadata": {},
   "outputs": [
    {
     "name": "stdout",
     "output_type": "stream",
     "text": [
      "  0.017914 seconds (565.10 k allocations: 15.185 MiB, 8.49% gc time)\n"
     ]
    },
    {
     "name": "stdout",
     "output_type": "stream",
     "text": [
      "  0.226394 seconds (36.27 k allocations: 1.922 GiB, 8.55% gc time)\n"
     ]
    },
    {
     "data": {
      "text/plain": [
       "14×6064 Matrix{Int64}:\n",
       "   1    2    3    4    5    6    7  …  6059  6060  6061  6062  6063  6064\n",
       "  25   26   27   40   42   43   44     6024  6025  6026  6038  6039  6040\n",
       "  33   33   35   41   41   42   43     6023  6024  6025  6030  6031  6033\n",
       "  32   34   34    9    9   10   11     6055  6057  6057  6031  6032  6032\n",
       "   2    3    2    8   10   11    6     6056  6056  6060  6063  6064  6063\n",
       "   4    1    6    5    4    5   35  …  6058  6061  6033  6059  6062  6061\n",
       "   5    6    7   32    6    7    3     6060  6059  6064  6058  6060  6060\n",
       "  24    5   26    1   33   34   51     6031  6032  6017  6037  6059  6039\n",
       "  26   25   28   48    2    3   34     6062  6063  6034  6039  6038  6041\n",
       "  41   27   43   33    1    2   36     6063  6064  6032  6023  6040  6025\n",
       " 102   42  104   31   49   50  114  …  6015  6016  5954  5962  6024  5964\n",
       "  20  103   22  111   34   35   52     6030  6033  6018  6045  5963  6047\n",
       "  19   20   21   47   32   33   50     6032  6031  6016  6044  6045  6046\n",
       "  42   21   44   49  112  113   42     5952  5953  6027  6024  6046  6026"
      ]
     },
     "metadata": {},
     "output_type": "display_data"
    }
   ],
   "source": [
    "R_Agg = 16\n",
    "t, t_knn = 0, 10\n",
    "r_max, s = 2, 1\n",
    "K = 10\n",
    "\n",
    "@time X = readdlm(\"../data/Init/Two_Sphere/$R_Agg.csv\", ',', Float64, header=true)[1][:, 1:3]\n",
    "@time idx = NearNeighbor(X, t, t_knn)"
   ]
  },
  {
   "cell_type": "markdown",
   "metadata": {},
   "source": [
    "# CUDA Forces"
   ]
  },
  {
   "cell_type": "markdown",
   "metadata": {},
   "source": [
    "## Define Variables for CUDA"
   ]
  },
  {
   "cell_type": "code",
   "execution_count": 7,
   "metadata": {},
   "outputs": [
    {
     "name": "stdout",
     "output_type": "stream",
     "text": [
      "  0.000087 seconds (12 allocations: 213.516 KiB)\n",
      "  0.000092 seconds (12 allocations: 213.516 KiB)\n",
      "  0.000185 seconds (12 allocations: 995.203 KiB)\n",
      "  0.000496 seconds (12 allocations: 2.915 MiB)\n",
      "  0.000155 seconds (12 allocations: 995.203 KiB)\n",
      "  0.000605 seconds (12 allocations: 2.915 MiB)\n"
     ]
    }
   ],
   "source": [
    "@time X_Cu = zeros(size(X)[1],3) |> cu\n",
    "@time dX_Cu = zeros(size(X)[1],3) |> cu\n",
    "@time idx_Cu = zeros(14,size(X)[1]) |> cu\n",
    "@time r = zeros(14,size(X)[1],3) |> cu\n",
    "@time dist = zeros(14, size(X)[1]) |> cu\n",
    "@time F = zeros(14, size(X)[1],3) |> cu;"
   ]
  },
  {
   "cell_type": "markdown",
   "metadata": {},
   "source": [
    "## Adding Variables to CUDA"
   ]
  },
  {
   "cell_type": "code",
   "execution_count": 10,
   "metadata": {},
   "outputs": [
    {
     "name": "stdout",
     "output_type": "stream",
     "text": [
      "  0.000078 seconds (8 allocations: 71.297 KiB)\n",
      "  0.000102 seconds (6 allocations: 192 bytes)\n"
     ]
    }
   ],
   "source": [
    "@time X_Cu = X |> cu\n",
    "@time idx_Cu = idx |> cu;"
   ]
  },
  {
   "cell_type": "markdown",
   "metadata": {},
   "source": [
    "## Generating Forces"
   ]
  },
  {
   "cell_type": "code",
   "execution_count": 27,
   "metadata": {},
   "outputs": [
    {
     "name": "stdout",
     "output_type": "stream",
     "text": [
      "Finding Distances\n",
      "  0.000327 seconds (282 allocations: 13.453 KiB)\n",
      "  0.000248 seconds (282 allocations: 13.453 KiB)\n"
     ]
    },
    {
     "name": "stdout",
     "output_type": "stream",
     "text": [
      "  0.000225 seconds (282 allocations: 13.453 KiB)\n"
     ]
    }
   ],
   "source": [
    "# Finding Distances\n",
    "println(\"Finding Distances\")\n",
    "@time r[:,:,1] =repeat(X_Cu[idx_Cu[1,:],1]', 14) - X_Cu[idx_Cu[:,:],1]\n",
    "@time r[:,:,2] =repeat(X_Cu[idx_Cu[1,:],2]', 14) - X_Cu[idx_Cu[:,:],2]\n",
    "@time r[:,:,3] =repeat(X_Cu[idx_Cu[1,:],3]', 14) - X_Cu[idx_Cu[:,:],3];"
   ]
  },
  {
   "cell_type": "code",
   "execution_count": 16,
   "metadata": {},
   "outputs": [
    {
     "name": "stdout",
     "output_type": "stream",
     "text": [
      "Finding Distances/Norm\n",
      "  0.000183 seconds (176 allocations: 7.422 KiB)\n"
     ]
    },
    {
     "data": {
      "text/plain": [
       "14×6064 CuArray{Float64, 2, CUDA.Mem.DeviceBuffer}:\n",
       " 0.0      0.0      0.0      0.0      …  0.0      0.0      0.0      0.0\n",
       " 1.99484  1.99484  1.99484  1.99544     1.99544  1.99484  1.99484  1.99484\n",
       " 1.99832  1.99832  1.99832  1.99544     1.99544  1.99832  1.99832  1.99832\n",
       " 1.99832  1.99832  1.99832  1.99822     1.99822  1.99832  1.99832  1.99832\n",
       " 2.0      2.0      2.0      1.99822     2.0      2.0      2.0      2.0\n",
       " 2.00689  2.0      2.00689  2.0      …  2.00063  2.00689  2.0      2.00689\n",
       " 2.00689  2.00689  2.00689  2.00063     2.00689  2.00689  2.00689  2.00689\n",
       " 2.82478  2.00689  2.82478  2.00689     2.81902  2.82478  2.00689  2.82478\n",
       " 2.82478  2.82478  2.82478  2.81902     2.82887  2.82478  2.82478  2.82478\n",
       " 2.82719  2.82478  2.82719  2.82887     2.82887  2.82719  2.82478  2.82719\n",
       " 3.26     2.82719  3.26     2.82887  …  3.26     3.26     2.82719  3.26\n",
       " 3.45707  3.26     3.45707  3.26        3.45643  3.45707  3.26     3.45707\n",
       " 3.45707  3.45707  3.45707  3.45643     3.45643  3.45707  3.45707  3.45707\n",
       " 3.46309  3.45707  3.46309  3.45643     3.46147  3.46309  3.45707  3.46309"
      ]
     },
     "metadata": {},
     "output_type": "display_data"
    }
   ],
   "source": [
    "# Finding Distances/Norm\n",
    "println(\"Finding Distances/Norm\")\n",
    "@time dist = (r[:,:,1] .^ 2 + r[:,:,2] .^ 2 + r[:,:,3] .^ 2) .^ (0.5)"
   ]
  },
  {
   "cell_type": "code",
   "execution_count": 18,
   "metadata": {},
   "outputs": [
    {
     "name": "stdout",
     "output_type": "stream",
     "text": [
      "  0.000325 seconds (276 allocations: 12.609 KiB)\n",
      "  0.000304 seconds (276 allocations: 12.609 KiB)\n",
      "  0.000357 seconds (276 allocations: 12.609 KiB)\n"
     ]
    }
   ],
   "source": [
    "@time r[:,:,1][dist .< 2] = r[:,:,1] ./ dist\n",
    "@time r[:,:,2][dist .< 2] = r[:,:,1] ./ dist\n",
    "@time r[:,:,3][dist .< 2] = r[:,:,1] ./ dist;"
   ]
  },
  {
   "cell_type": "code",
   "execution_count": 20,
   "metadata": {},
   "outputs": [
    {
     "name": "stdout",
     "output_type": "stream",
     "text": [
      "Calculationg Forces\n",
      "  0.000175 seconds (79 allocations: 7.562 KiB)\n",
      "  0.000079 seconds (22 allocations: 928 bytes)\n"
     ]
    },
    {
     "name": "stdout",
     "output_type": "stream",
     "text": [
      "  0.000075 seconds (22 allocations: 928 bytes)\n",
      "  0.000121 seconds (22 allocations: 928 bytes)\n"
     ]
    },
    {
     "data": {
      "text/plain": [
       "14×6064×3 CuArray{Float64, 3, CUDA.Mem.DeviceBuffer}:\n",
       "[:, :, 1] =\n",
       "  0.0          0.0          0.0         …   0.0          0.0\n",
       " -0.0         -0.0         -0.0            -0.0         -0.0\n",
       "  2.80291e-5  -2.80291e-5   2.80291e-5     -2.80291e-5   2.80291e-5\n",
       " -2.80291e-5   2.80291e-5  -2.80291e-5      2.80291e-5  -2.80291e-5\n",
       "  0.0          0.0         -0.0             0.0         -0.0\n",
       "  0.0         -0.0          0.0         …  -0.0          0.0\n",
       "  0.0          0.0          0.0             0.0          0.0\n",
       "  0.0          0.0          0.0             0.0          0.0\n",
       "  0.0          0.0          0.0             0.0          0.0\n",
       "  0.0          0.0          0.0             0.0          0.0\n",
       "  0.0          0.0          0.0         …   0.0          0.0\n",
       "  0.0          0.0          0.0             0.0          0.0\n",
       "  0.0          0.0          0.0             0.0          0.0\n",
       "  0.0          0.0          0.0             0.0          0.0\n",
       "\n",
       "[:, :, 2] =\n",
       "  0.0           0.0           0.0          …   0.0           0.0\n",
       " -0.000304215  -0.000304215  -0.000304215      0.000304215   0.000304215\n",
       "  1.62569e-5    1.62569e-5    1.62569e-5      -1.62569e-5   -1.62569e-5\n",
       "  1.62569e-5    1.62569e-5    1.62569e-5      -1.62569e-5   -1.62569e-5\n",
       " -0.0          -0.0          -0.0             -0.0          -0.0\n",
       "  0.0          -0.0           0.0          …  -0.0           0.0\n",
       "  0.0           0.0           0.0              0.0           0.0\n",
       "  0.0           0.0           0.0              0.0           0.0\n",
       "  0.0           0.0           0.0              0.0           0.0\n",
       "  0.0           0.0           0.0              0.0           0.0\n",
       "  0.0           0.0           0.0          …   0.0           0.0\n",
       "  0.0           0.0           0.0              0.0           0.0\n",
       "  0.0           0.0           0.0              0.0           0.0\n",
       "  0.0           0.0           0.0              0.0           0.0\n",
       "\n",
       "[:, :, 3] =\n",
       "  0.0           0.0           0.0          …   0.0           0.0\n",
       "  0.000431192   0.000431192   0.000431192     -0.000431192  -0.000431192\n",
       "  4.56874e-5    4.56874e-5    4.56874e-5      -4.56874e-5   -4.56874e-5\n",
       "  4.56874e-5    4.56874e-5    4.56874e-5      -4.56874e-5   -4.56874e-5\n",
       " -0.0          -0.0          -0.0             -0.0          -0.0\n",
       "  0.0          -0.0           0.0          …  -0.0           0.0\n",
       "  0.0           0.0           0.0              0.0           0.0\n",
       "  0.0           0.0           0.0              0.0           0.0\n",
       "  0.0           0.0           0.0              0.0           0.0\n",
       "  0.0           0.0           0.0              0.0           0.0\n",
       "  0.0           0.0           0.0          …   0.0           0.0\n",
       "  0.0           0.0           0.0              0.0           0.0\n",
       "  0.0           0.0           0.0              0.0           0.0\n",
       "  0.0           0.0           0.0              0.0           0.0"
      ]
     },
     "metadata": {},
     "output_type": "display_data"
    }
   ],
   "source": [
    "# dX[i,:] +=  r/dist * F\n",
    "println(\"Calculationg Forces\")\n",
    "@time F = (-K.*(dist .- r_max).^2) .* (dist .- s) .* r;\n",
    "@time A = F[:,:,1]; A[dist .> r_max] .= 0; F[:,:,1]=A\n",
    "@time A = F[:,:,2]; A[dist .> r_max] .= 0; F[:,:,2]=A\n",
    "@time A = F[:,:,3]; A[dist .> r_max] .= 0; F[:,:,3]=A\n",
    "F"
   ]
  },
  {
   "cell_type": "code",
   "execution_count": 23,
   "metadata": {},
   "outputs": [
    {
     "name": "stdout",
     "output_type": "stream",
     "text": [
      "Calculationg dX\n",
      "  0.000124 seconds (72 allocations: 3.125 KiB)\n",
      "  0.000103 seconds (72 allocations: 3.125 KiB)\n",
      "  0.000120 seconds (72 allocations: 3.125 KiB)\n"
     ]
    }
   ],
   "source": [
    "# Calculating de dX\n",
    "println(\"Calculationg dX\")\n",
    "@time dX_Cu[:,1] = sum(F[:,:,1][2:end,:]; dims=1)\n",
    "@time dX_Cu[:,2] = sum(F[:,:,2][2:end,:]; dims=1)\n",
    "@time dX_Cu[:,3] = sum(F[:,:,3][2:end,:]; dims=1);"
   ]
  },
  {
   "cell_type": "code",
   "execution_count": 24,
   "metadata": {},
   "outputs": [
    {
     "data": {
      "text/plain": [
       "6064×3 CuArray{Float32, 2, CUDA.Mem.DeviceBuffer}:\n",
       "  0.0         -0.000271701   0.000522567\n",
       "  0.0         -0.000271701   0.000522567\n",
       "  0.0         -0.000271701   0.000522567\n",
       "  0.0          0.000344366   0.000673319\n",
       "  0.0          0.000344366   0.000673319\n",
       "  0.0          0.000344366   0.000673319\n",
       " -3.14771f-5   0.00028991    0.000673319\n",
       "  6.29541f-5   0.000235455   0.000673319\n",
       "  0.0          0.000235455   0.000673319\n",
       "  0.0          0.000235455   0.000673319\n",
       "  ⋮                         \n",
       "  0.0         -0.000235455  -0.000673319\n",
       " -3.14771f-5  -0.000181     -0.000673319\n",
       "  0.0         -0.000344366  -0.000673319\n",
       "  0.0         -0.000344366  -0.000673319\n",
       "  0.0         -0.000344366  -0.000673319\n",
       " -3.14771f-5  -0.00028991   -0.000673319\n",
       "  0.0          0.000271701  -0.000522567\n",
       "  0.0          0.000271701  -0.000522567\n",
       "  0.0          0.000271701  -0.000522567"
      ]
     },
     "metadata": {},
     "output_type": "display_data"
    }
   ],
   "source": [
    "dX_Cu"
   ]
  },
  {
   "cell_type": "code",
   "execution_count": 131,
   "metadata": {},
   "outputs": [
    {
     "data": {
      "text/plain": [
       "192×3 CuArray{Float32, 2, CUDA.Mem.DeviceBuffer}:\n",
       " -6.64974  -1.14791   -4.0755\n",
       " -4.64997  -1.14772   -4.07502\n",
       " -2.65041  -1.14818   -4.07549\n",
       " -7.64925   0.581709  -4.07551\n",
       " -5.65001   0.582022  -4.07504\n",
       " -3.65054   0.581354  -4.07559\n",
       " -6.65001   2.30925   -4.07984\n",
       " -4.65002   2.30929   -4.07984\n",
       " -5.64996  -4.03623   -2.44451\n",
       " -3.65032  -4.0362    -2.44524\n",
       "  ⋮                   \n",
       "  6.64968   4.0362     2.44524\n",
       "  3.64999  -2.30925    4.07984\n",
       "  5.64998  -2.30929    4.07984\n",
       "  2.65075  -0.581709   4.07551\n",
       "  4.64999  -0.582022   4.07504\n",
       "  6.64946  -0.581354   4.07559\n",
       "  3.65026   1.14791    4.0755\n",
       "  5.65003   1.14772    4.07502\n",
       "  7.64959   1.14818    4.07549"
      ]
     },
     "metadata": {},
     "output_type": "display_data"
    }
   ],
   "source": [
    "X_Cu = X_Cu + dX_Cu"
   ]
  }
 ],
 "metadata": {
  "kernelspec": {
   "display_name": "Julia 1.7.3",
   "language": "julia",
   "name": "julia-1.7"
  },
  "language_info": {
   "file_extension": ".jl",
   "mimetype": "application/julia",
   "name": "julia",
   "version": "1.7.3"
  },
  "orig_nbformat": 4,
  "vscode": {
   "interpreter": {
    "hash": "916dbcbb3f70747c44a77c7bcd40155683ae19c65e1c03b4aa3499c5328201f1"
   }
  }
 },
 "nbformat": 4,
 "nbformat_minor": 2
}
