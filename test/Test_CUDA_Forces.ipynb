{
 "cells": [
  {
   "cell_type": "markdown",
   "metadata": {},
   "source": [
    "# Installing Dependencies"
   ]
  },
  {
   "cell_type": "code",
   "execution_count": 2,
   "metadata": {},
   "outputs": [],
   "source": [
    "using DelimitedFiles\n",
    "using NearestNeighbors: KDTree, knn\n",
    "using LinearAlgebra: norm\n",
    "using CUDA\n",
    "using BenchmarkTools: @btime"
   ]
  },
  {
   "cell_type": "markdown",
   "metadata": {},
   "source": [
    "# Using kNN"
   ]
  },
  {
   "cell_type": "code",
   "execution_count": 3,
   "metadata": {},
   "outputs": [
    {
     "name": "stdout",
     "output_type": "stream",
     "text": [
      "  0.002791 seconds (998 allocations: 64.155 KiB, 85.92% compilation time)\n"
     ]
    },
    {
     "data": {
      "text/plain": [
       "NearNeighbor (generic function with 1 method)"
      ]
     },
     "metadata": {},
     "output_type": "display_data"
    }
   ],
   "source": [
    "@time function NearNeighbor(X, t, t_knn)\n",
    "    # Using kNN for Nearest Neighbors\n",
    "    if t%t_knn | t == 0\n",
    "        global kdtree = KDTree(X')\n",
    "    end \n",
    "\n",
    "    # Loop over all cells to compute displacements\n",
    "    index, _ = knn(kdtree, X[1,:], 14, true)\n",
    "    for i in 2:size(X)[1]\n",
    "        # Scan neighbours\n",
    "        global idxs, _ = knn(kdtree, X[i,:], 14, true)\n",
    "        index = hcat(index, idxs)\n",
    "\n",
    "    end\n",
    "    return index\n",
    "end"
   ]
  },
  {
   "cell_type": "markdown",
   "metadata": {},
   "source": [
    "# Initial Conditions"
   ]
  },
  {
   "cell_type": "code",
   "execution_count": 9,
   "metadata": {},
   "outputs": [
    {
     "name": "stdout",
     "output_type": "stream",
     "text": [
      "  0.010229 seconds (374.14 k allocations: 10.079 MiB)\n"
     ]
    },
    {
     "name": "stdout",
     "output_type": "stream",
     "text": [
      "  0.102025 seconds (24.29 k allocations: 886.361 MiB, 11.72% gc time)\n"
     ]
    },
    {
     "data": {
      "text/plain": [
       "14×4068 Matrix{Int64}:\n",
       "  1   2   3    4    5    6    7    8  …  4063  4064  4065  4066  4067  4068\n",
       " 20  20  26    8    8   11   12    5     4057  4061  4061  4042  4048  4049\n",
       " 19  21  27    7    9   12    4    4     4058  4060  4062  4041  4049  4050\n",
       "  3   3   2    5    4    7   13   14     4062  4065  4064  4068  4066  4066\n",
       "  2   1   1   54   54   52    6   13     4017  4014  4015  4067  4068  4067\n",
       " 26  27  33   53   55   60    8    9  …  4009  4015  4016  4035  4041  4042\n",
       " 13  14  20   47   48   59   53    7     4010  4020  4021  4049  4055  4056\n",
       " 27  26  34   61   62   51   60   54     4018  4007  4008  4034  4040  4041\n",
       " 25  28  32   48   49   53   61   62     4016  4019  4020  4036  4042  4043\n",
       " 78  79  88   46   47   68   52   61     4001  4021  4022  3981  3989  3990\n",
       " 21  22  21  135  136  143   54   55  …  3925  3932  3933  4050  4050  4048\n",
       " 18  19  19   13   14    4   69   53     4065  4055  4056  4048  4047  4051\n",
       " 14  13  28    9   10   13  144   70     4056  4059  4060  4040  4054  4055\n",
       " 12  15  25    6    7   67   11  145     4002  4062  4063  4043  4056  4057"
      ]
     },
     "metadata": {},
     "output_type": "display_data"
    }
   ],
   "source": [
    "R_Agg = 14\n",
    "t, t_knn = 0, 10\n",
    "r_max, s = 2, 1\n",
    "K = 10\n",
    "\n",
    "@time X = readdlm(\"../data/Init/Two_Sphere/$R_Agg.csv\", ',', Float64, header=true)[1][:, 1:3]\n",
    "@time idx = NearNeighbor(X, t, t_knn)"
   ]
  },
  {
   "cell_type": "markdown",
   "metadata": {},
   "source": [
    "# CUDA Forces"
   ]
  },
  {
   "cell_type": "markdown",
   "metadata": {},
   "source": [
    "## Define Variables for CUDA"
   ]
  },
  {
   "cell_type": "code",
   "execution_count": 11,
   "metadata": {},
   "outputs": [
    {
     "name": "stdout",
     "output_type": "stream",
     "text": [
      "  0.000078 seconds (12 allocations: 143.391 KiB)\n",
      "  0.000083 seconds (12 allocations: 143.391 KiB)\n",
      "  0.000107 seconds (12 allocations: 667.766 KiB)\n",
      "  0.000233 seconds (12 allocations: 1.956 MiB)\n",
      "  0.000130 seconds (12 allocations: 667.766 KiB)\n"
     ]
    },
    {
     "name": "stdout",
     "output_type": "stream",
     "text": [
      "  0.000422 seconds (12 allocations: 1.956 MiB)\n"
     ]
    }
   ],
   "source": [
    "@time X_Cu = zeros(size(X)[1],3) |> cu\n",
    "@time dX_Cu = zeros(size(X)[1],3) |> cu\n",
    "@time idx_Cu = zeros(14,size(X)[1]) |> cu\n",
    "@time r = zeros(14,size(X)[1],3) |> cu\n",
    "@time dist = zeros(14, size(X)[1]) |> cu\n",
    "@time F = zeros(14, size(X)[1],3) |> cu;"
   ]
  },
  {
   "cell_type": "markdown",
   "metadata": {},
   "source": [
    "## Adding Variables to CUDA"
   ]
  },
  {
   "cell_type": "code",
   "execution_count": 13,
   "metadata": {},
   "outputs": [
    {
     "name": "stdout",
     "output_type": "stream",
     "text": [
      "  0.000080 seconds (8 allocations: 47.922 KiB)\n",
      "  0.000074 seconds (6 allocations: 192 bytes)\n"
     ]
    }
   ],
   "source": [
    "@time X_Cu = X |> cu\n",
    "@time idx_Cu = idx |> cu;"
   ]
  },
  {
   "cell_type": "markdown",
   "metadata": {},
   "source": [
    "## Generating Forces"
   ]
  },
  {
   "cell_type": "code",
   "execution_count": 45,
   "metadata": {},
   "outputs": [
    {
     "name": "stdout",
     "output_type": "stream",
     "text": [
      "Finding Distances\n",
      "  0.000238 seconds (282 allocations: 13.453 KiB)\n",
      "  0.000191 seconds (282 allocations: 13.453 KiB)\n",
      "  0.000222 seconds (282 allocations: 13.453 KiB)\n"
     ]
    }
   ],
   "source": [
    "# Finding Distances\n",
    "println(\"Finding Distances\")\n",
    "@time r[:,:,1] =repeat(X_Cu[idx_Cu[1,:],1]', 14) - X_Cu[idx_Cu[:,:],1]\n",
    "@time r[:,:,2] =repeat(X_Cu[idx_Cu[1,:],2]', 14) - X_Cu[idx_Cu[:,:],2]\n",
    "@time r[:,:,3] =repeat(X_Cu[idx_Cu[1,:],3]', 14) - X_Cu[idx_Cu[:,:],3];"
   ]
  },
  {
   "cell_type": "code",
   "execution_count": 46,
   "metadata": {},
   "outputs": [
    {
     "name": "stdout",
     "output_type": "stream",
     "text": [
      "Finding Distances/Norm\n",
      "  0.000176 seconds (176 allocations: 7.422 KiB)\n"
     ]
    },
    {
     "data": {
      "text/plain": [
       "14×4068 CuArray{Float64, 2, CUDA.Mem.DeviceBuffer}:\n",
       " 0.0      0.0      0.0      0.0      …  0.0      0.0      0.0      0.0\n",
       " 1.99215  1.99215  1.99278  1.99803     1.99803  1.99278  1.99285  1.99215\n",
       " 1.99285  1.99285  1.99278  1.9981      1.9981   1.99278  1.99215  1.99285\n",
       " 1.99788  1.99788  1.99788  2.0         2.0      1.99788  1.99788  1.99788\n",
       " 1.99981  1.99981  1.99788  2.00771     2.00771  1.99788  1.99981  1.99981\n",
       " 1.99897  1.99897  1.99971  2.00771  …  2.00771  1.99971  1.99897  1.99897\n",
       " 2.82599  2.82599  2.81563  2.01053     2.01053  2.81563  2.82599  2.82599\n",
       " 2.82725  2.82725  2.82823  2.83406     2.83406  2.82824  2.82814  2.82725\n",
       " 2.82814  2.82814  2.82824  2.83588     2.83588  2.82823  2.82725  2.82814\n",
       " 3.26987  3.26987  3.2699   2.83585     2.83589  3.2699   3.26987  3.26987\n",
       " 3.45957  3.46063  3.45403  3.26994  …  3.26994  3.45403  3.45957  3.45957\n",
       " 3.46063  3.45957  3.45403  3.45954     3.45954  3.45403  3.46063  3.46063\n",
       " 3.46206  3.46206  3.46054  3.46297     3.46297  3.46054  3.46217  3.46206\n",
       " 3.46217  3.46217  3.46054  3.46308     3.46308  3.46054  3.46206  3.46217"
      ]
     },
     "metadata": {},
     "output_type": "display_data"
    }
   ],
   "source": [
    "# Finding Distances/Norm\n",
    "println(\"Finding Distances/Norm\")\n",
    "@time dist = (r[:,:,1] .^ 2 + r[:,:,2] .^ 2 + r[:,:,3] .^ 2) .^ (0.5)"
   ]
  },
  {
   "cell_type": "code",
   "execution_count": 47,
   "metadata": {},
   "outputs": [
    {
     "name": "stdout",
     "output_type": "stream",
     "text": [
      "  0.000348 seconds (276 allocations: 12.609 KiB)\n",
      "  0.000294 seconds (276 allocations: 12.609 KiB)\n",
      "  0.000285 seconds (276 allocations: 12.609 KiB)\n"
     ]
    }
   ],
   "source": [
    "@time r[:,:,1][dist .< 2] = r[:,:,1] ./ dist\n",
    "@time r[:,:,2][dist .< 2] = r[:,:,1] ./ dist\n",
    "@time r[:,:,3][dist .< 2] = r[:,:,1] ./ dist;"
   ]
  },
  {
   "cell_type": "code",
   "execution_count": 48,
   "metadata": {},
   "outputs": [
    {
     "name": "stdout",
     "output_type": "stream",
     "text": [
      "Calculationg Forces\n",
      "  0.000166 seconds (79 allocations: 7.562 KiB)\n",
      "  0.000068 seconds (22 allocations: 928 bytes)\n",
      "  0.000065 seconds (22 allocations: 928 bytes)\n"
     ]
    },
    {
     "name": "stdout",
     "output_type": "stream",
     "text": [
      "  0.000044 seconds (22 allocations: 928 bytes)\n"
     ]
    },
    {
     "data": {
      "text/plain": [
       "14×4068×3 CuArray{Float64, 3, CUDA.Mem.DeviceBuffer}:\n",
       "[:, :, 1] =\n",
       "  0.0           0.0          0.0          …   0.0          0.0\n",
       "  0.00061098   -0.00061098  -0.000517319     -0.00050784  -0.00061098\n",
       " -0.000507773   0.00050784   0.000517319      0.00061098   0.00050784\n",
       "  4.49634e-5   -4.49634e-5   4.49634e-5       4.49634e-5  -4.49634e-5\n",
       "  7.27457e-7   -7.27457e-7  -4.49634e-5       7.27457e-7  -7.27457e-7\n",
       "  4.67396e-9   -4.6745e-9   -0.0          …   4.6745e-9   -4.6745e-9\n",
       "  0.0           0.0          0.0              0.0          0.0\n",
       "  0.0           0.0          0.0              0.0          0.0\n",
       "  0.0           0.0          0.0              0.0          0.0\n",
       "  0.0           0.0          0.0              0.0          0.0\n",
       "  0.0           0.0          0.0          …   0.0          0.0\n",
       "  0.0           0.0          0.0              0.0          0.0\n",
       "  0.0           0.0          0.0              0.0          0.0\n",
       "  0.0           0.0          0.0              0.0          0.0\n",
       "\n",
       "[:, :, 2] =\n",
       "  0.0           0.0           0.0          …   0.0           0.0\n",
       " -0.000347459  -0.000347459  -0.000294454      0.000289079   0.000347459\n",
       " -0.00028904   -0.000289079  -0.000294454      0.000347459   0.000289079\n",
       "  7.77786e-5    7.77786e-5   -7.77786e-5      -7.77786e-5   -7.77786e-5\n",
       " -0.0          -0.0          -7.77786e-5      -0.0          -0.0\n",
       "  1.2208e-5     1.22094e-5    9.68729e-7   …  -1.22094e-5   -1.22094e-5\n",
       "  0.0           0.0           0.0              0.0           0.0\n",
       "  0.0           0.0           0.0              0.0           0.0\n",
       "  0.0           0.0           0.0              0.0           0.0\n",
       "  0.0           0.0           0.0              0.0           0.0\n",
       "  0.0           0.0           0.0          …   0.0           0.0\n",
       "  0.0           0.0           0.0              0.0           0.0\n",
       "  0.0           0.0           0.0              0.0           0.0\n",
       "  0.0           0.0           0.0              0.0           0.0\n",
       "\n",
       "[:, :, 3] =\n",
       "  0.0           0.0          0.0          0.0  …   0.0           0.0\n",
       "  0.000993855   0.000993855  0.00084237  -0.0     -0.000826824  -0.000993855\n",
       "  0.000826714   0.000826824  0.00084237  -0.0     -0.000993855  -0.000826824\n",
       " -1.45807e-9   -1.45807e-9   1.45807e-9  -0.0      1.45807e-9    1.45807e-9\n",
       " -0.0          -0.0          1.45807e-9   0.0     -0.0          -0.0\n",
       "  1.71159e-5    1.71179e-5   1.35887e-6   0.0  …  -1.71179e-5   -1.71179e-5\n",
       "  0.0           0.0          0.0          0.0      0.0           0.0\n",
       "  0.0           0.0          0.0          0.0      0.0           0.0\n",
       "  0.0           0.0          0.0          0.0      0.0           0.0\n",
       "  0.0           0.0          0.0          0.0      0.0           0.0\n",
       "  0.0           0.0          0.0          0.0  …   0.0           0.0\n",
       "  0.0           0.0          0.0          0.0      0.0           0.0\n",
       "  0.0           0.0          0.0          0.0      0.0           0.0\n",
       "  0.0           0.0          0.0          0.0      0.0           0.0"
      ]
     },
     "metadata": {},
     "output_type": "display_data"
    }
   ],
   "source": [
    "# dX[i,:] +=  r/dist * F\n",
    "println(\"Calculationg Forces\")\n",
    "@time F = (-K.*(dist .- r_max).^2) .* (dist .- s) .* r;\n",
    "@time A = F[:,:,1]; A[dist .> r_max] .= 0; F[:,:,1]=A\n",
    "@time A = F[:,:,2]; A[dist .> r_max] .= 0; F[:,:,2]=A\n",
    "@time A = F[:,:,3]; A[dist .> r_max] .= 0; F[:,:,3]=A\n",
    "F"
   ]
  },
  {
   "cell_type": "code",
   "execution_count": 49,
   "metadata": {},
   "outputs": [
    {
     "name": "stdout",
     "output_type": "stream",
     "text": [
      "Calculationg dX\n",
      "  0.000135 seconds (72 allocations: 3.125 KiB)\n",
      "  0.000136 seconds (72 allocations: 3.125 KiB)\n",
      "  0.000111 seconds (72 allocations: 3.125 KiB)\n"
     ]
    }
   ],
   "source": [
    "# Calculating de dX\n",
    "println(\"Calculationg dX\")\n",
    "@time dX_Cu[:,1] = sum(F[:,:,1][2:end,:]; dims=1)\n",
    "@time dX_Cu[:,2] = sum(F[:,:,2][2:end,:]; dims=1)\n",
    "@time dX_Cu[:,3] = sum(F[:,:,3][2:end,:]; dims=1);"
   ]
  },
  {
   "cell_type": "code",
   "execution_count": 50,
   "metadata": {},
   "outputs": [
    {
     "data": {
      "text/plain": [
       "4068×3 CuArray{Float32, 2, CUDA.Mem.DeviceBuffer}:\n",
       "  0.000148902  -0.000546513   0.00183768\n",
       " -0.000148835  -0.00054655    0.0018378\n",
       "  0.0          -0.000743497   0.0016861\n",
       "  2.86117f-6    0.000129488   0.0\n",
       " -2.86117f-6    0.000129488   0.0\n",
       "  3.03467f-6    0.000160532   0.0\n",
       "  3.88127f-5    8.8118f-5     0.0\n",
       "  1.87824f-8    5.60458f-7    0.0\n",
       " -3.8812f-5     8.80493f-5    0.0\n",
       " -3.0548f-6     0.000160497   0.0\n",
       "  ⋮                          \n",
       "  3.8812f-5    -8.80493f-5    0.0\n",
       "  0.0          -5.93011f-7    0.0\n",
       " -3.87925f-5   -8.80832f-5    0.0\n",
       " -3.03467f-6   -0.000160532   0.0\n",
       "  2.86117f-6   -0.000129488   0.0\n",
       " -2.86117f-6   -0.000129488   0.0\n",
       "  0.0           0.000743497  -0.0016861\n",
       "  0.000148835   0.00054655   -0.0018378\n",
       " -0.000148835   0.00054655   -0.0018378"
      ]
     },
     "metadata": {},
     "output_type": "display_data"
    }
   ],
   "source": [
    "dX_Cu"
   ]
  },
  {
   "cell_type": "code",
   "execution_count": 51,
   "metadata": {},
   "outputs": [
    {
     "data": {
      "text/plain": [
       "4068×3 CuArray{Float32, 2, CUDA.Mem.DeviceBuffer}:\n",
       " -15.9198  -0.581031  -13.8764\n",
       " -13.9202  -0.581032  -13.8764\n",
       " -14.92     1.14843   -13.8766\n",
       " -15.92    -6.34964   -12.25\n",
       " -13.92    -6.34964   -12.25\n",
       " -18.92    -4.6196    -12.25\n",
       " -16.9199  -4.61979   -12.25\n",
       " -14.92    -4.62      -12.25\n",
       " -12.9201  -4.61979   -12.25\n",
       " -10.92    -4.6196    -12.25\n",
       "   ⋮                  \n",
       "  11.9201   4.61979    12.25\n",
       "  13.92     4.62       12.25\n",
       "  15.9199   4.61979    12.25\n",
       "  17.92     4.6196     12.25\n",
       "  12.92     6.34964    12.25\n",
       "  14.92     6.34964    12.25\n",
       "  13.92    -1.14843    13.8766\n",
       "  12.9202   0.581032   13.8764\n",
       "  14.9198   0.581032   13.8764"
      ]
     },
     "metadata": {},
     "output_type": "display_data"
    }
   ],
   "source": [
    "X_Cu = X_Cu + dX_Cu"
   ]
  }
 ],
 "metadata": {
  "kernelspec": {
   "display_name": "Julia 1.7.3",
   "language": "julia",
   "name": "julia-1.7"
  },
  "language_info": {
   "file_extension": ".jl",
   "mimetype": "application/julia",
   "name": "julia",
   "version": "1.7.3"
  },
  "orig_nbformat": 4,
  "vscode": {
   "interpreter": {
    "hash": "916dbcbb3f70747c44a77c7bcd40155683ae19c65e1c03b4aa3499c5328201f1"
   }
  }
 },
 "nbformat": 4,
 "nbformat_minor": 2
}
