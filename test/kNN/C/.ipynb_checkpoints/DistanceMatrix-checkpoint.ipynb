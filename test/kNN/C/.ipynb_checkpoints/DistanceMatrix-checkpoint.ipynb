{
 "cells": [
  {
   "cell_type": "markdown",
   "metadata": {},
   "source": [
    "# Starting"
   ]
  },
  {
   "cell_type": "code",
   "execution_count": 1,
   "metadata": {
    "tags": []
   },
   "outputs": [],
   "source": [
    "using DelimitedFiles\n",
    "using CUDA"
   ]
  },
  {
   "cell_type": "code",
   "execution_count": 16,
   "metadata": {
    "tags": []
   },
   "outputs": [
    {
     "data": {
      "text/plain": [
       "3.5"
      ]
     },
     "execution_count": 16,
     "metadata": {},
     "output_type": "execute_result"
    }
   ],
   "source": [
    "R_Agg = 15\n",
    "r_max = 3.5"
   ]
  },
  {
   "cell_type": "markdown",
   "metadata": {},
   "source": [
    "# Inizializating Variables"
   ]
  },
  {
   "cell_type": "code",
   "execution_count": 26,
   "metadata": {
    "tags": []
   },
   "outputs": [],
   "source": [
    "X = Float64.(readdlm(\"../../../data/init/Sphere/$R_Agg.xyz\")[3:end,2:end]) |> cu\n",
    "\n",
    "dists  = CUDA.zeros(size(X, 1), size(X, 1)) |> cu\n",
    "idx    = CUDA.zeros(Int, size(X, 1), size(X, 1)) |> cu\n",
    "\n",
    "force = CUDA.zeros(size(dists));"
   ]
  },
  {
   "cell_type": "markdown",
   "metadata": {},
   "source": [
    "# Functions"
   ]
  },
  {
   "cell_type": "code",
   "execution_count": 4,
   "metadata": {
    "tags": []
   },
   "outputs": [
    {
     "data": {
      "text/plain": [
       "dist_kernel! (generic function with 1 method)"
      ]
     },
     "execution_count": 4,
     "metadata": {},
     "output_type": "execute_result"
    }
   ],
   "source": [
    "function cuda_distance_kernel!(idx, points ,r_max)\n",
    "    i = (blockIdx().x - 1) * blockDim().x + threadIdx().x\n",
    "    j = (blockIdx().y - 1) * blockDim().y + threadIdx().y\n",
    "\n",
    "    if i <= size(points, 1) && j <= size(points, 1) \n",
    "        # d = 0.0f0\n",
    "        d = sqrt(\n",
    "            (points[i, 1] - points[j, 1])^2 + \n",
    "            (points[i, 2] - points[j, 2])^2 + \n",
    "            (points[i, 3] - points[j, 3])^2\n",
    "            )\n",
    "        if d < r_max\n",
    "            idx[i, j] = i\n",
    "            # dists[i, j] = d\n",
    "        else\n",
    "            idx[i, j] = 0\n",
    "            # dists[i, j] = 0\n",
    "        end \n",
    "    end\n",
    "    return nothing\n",
    "end\n",
    "\n",
    "function dist_kernel!(points, idx, dist)\n",
    "    i = (blockIdx().x - 1) * blockDim().x + threadIdx().x\n",
    "    j = (blockIdx().y - 1) * blockDim().y + threadIdx().y\n",
    "\n",
    "    if i <= size(idx, 1) && j <= size(idx, 2) \n",
    "        if idx[i,j] == 0\n",
    "            dist[i,j] = 0.0\n",
    "        else\n",
    "            dist[i,j] = sqrt(\n",
    "                (points[idx[i,j],1] - points[i,1])^2 + \n",
    "                (points[idx[i,j],2] - points[j,2])^2 + \n",
    "                (points[idx[i,j],3] - points[j,3])^2\n",
    "                )\n",
    "        end\n",
    "    end\n",
    "    return nothing\n",
    "end"
   ]
  },
  {
   "cell_type": "markdown",
   "metadata": {},
   "source": [
    "# idx"
   ]
  },
  {
   "cell_type": "code",
   "execution_count": 32,
   "metadata": {
    "tags": []
   },
   "outputs": [
    {
     "name": "stdout",
     "output_type": "stream",
     "text": [
      "  0.000552 seconds (80 CPU allocations: 4.484 KiB)\n"
     ]
    },
    {
     "data": {
      "text/plain": [
       "2504×2504 CuArray{Int64, 2, CUDA.Mem.DeviceBuffer}:\n",
       "  1   1   0   1   1   1   1   0   0  …     0     0     0     0     0     0\n",
       "  2   2   2   0   2   2   2   2   0        0     0     0     0     0     0\n",
       "  0   3   3   0   0   3   3   3   0        0     0     0     0     0     0\n",
       "  4   0   0   4   4   0   0   0   4        0     0     0     0     0     0\n",
       "  5   5   0   5   5   5   0   0   5        0     0     0     0     0     0\n",
       "  6   6   6   0   6   6   6   0   0  …     0     0     0     0     0     0\n",
       "  7   7   7   0   0   7   7   7   0        0     0     0     0     0     0\n",
       "  0   8   8   0   0   0   8   8   0        0     0     0     0     0     0\n",
       "  0   0   0   9   9   0   0   0   9        0     0     0     0     0     0\n",
       "  0   0   0  10  10  10   0   0  10        0     0     0     0     0     0\n",
       " 11   0   0  11  11  11  11   0   0  …     0     0     0     0     0     0\n",
       "  0  12   0   0  12  12  12  12   0        0     0     0     0     0     0\n",
       "  0   0  13   0   0  13  13  13   0        0     0     0     0     0     0\n",
       "  ⋮                   ⋮              ⋱                 ⋮              \n",
       "  0   0   0   0   0   0   0   0   0     2493  2493     0  2493     0     0\n",
       "  0   0   0   0   0   0   0   0   0     2494  2494  2494     0  2494     0\n",
       "  0   0   0   0   0   0   0   0   0     2495  2495  2495     0     0  2495\n",
       "  0   0   0   0   0   0   0   0   0  …     0  2496  2496     0     0     0\n",
       "  0   0   0   0   0   0   0   0   0        0     0     0  2497     0     0\n",
       "  0   0   0   0   0   0   0   0   0     2498     0     0  2498  2498     0\n",
       "  0   0   0   0   0   0   0   0   0     2499  2499     0  2499  2499  2499\n",
       "  0   0   0   0   0   0   0   0   0     2500  2500  2500  2500  2500  2500\n",
       "  0   0   0   0   0   0   0   0   0  …     0  2501  2501     0  2501  2501\n",
       "  0   0   0   0   0   0   0   0   0     2502  2502     0  2502  2502     0\n",
       "  0   0   0   0   0   0   0   0   0     2503  2503  2503  2503  2503  2503\n",
       "  0   0   0   0   0   0   0   0   0     2504  2504  2504     0  2504  2504"
      ]
     },
     "execution_count": 32,
     "metadata": {},
     "output_type": "execute_result"
    }
   ],
   "source": [
    "threads = (32, 32)\n",
    "blocks = (div(size(X,1),threads[1])+1, div(size(X,1),threads[1])+1)\n",
    "\n",
    "CUDA.@time @cuda threads=threads blocks=blocks cuda_distance_kernel!(idx, X, r_max)\n",
    "idx"
   ]
  },
  {
   "cell_type": "markdown",
   "metadata": {},
   "source": [
    "# Force"
   ]
  },
  {
   "cell_type": "code",
   "execution_count": null,
   "metadata": {},
   "outputs": [
    {
     "ename": "LoadError",
     "evalue": "UndefVarError: dist not defined",
     "output_type": "error",
     "traceback": [
      "UndefVarError: dist not defined",
      "",
      "Stacktrace:",
      " [1] macro expansion",
      "   @ ~/.julia/packages/CUDA/DfvRa/src/compiler/execution.jl:36 [inlined]",
      " [2] macro expansion",
      "   @ ~/.julia/packages/CUDA/DfvRa/src/utilities.jl:25 [inlined]",
      " [3] top-level scope",
      "   @ ~/.julia/packages/CUDA/DfvRa/src/pool.jl:490 [inlined]",
      " [4] top-level scope",
      "   @ ./In[28]:0",
      " [5] eval",
      "   @ ./boot.jl:360 [inlined]",
      " [6] include_string(mapexpr::typeof(REPL.softscope), mod::Module, code::String, filename::String)",
      "   @ Base ./loading.jl:1116"
     ]
    }
   ],
   "source": [
    "threads = (32, 32)\n",
    "blocks = (div(size(X,1),threads[1])+1, div(size(X,1),threads[1])+1)\n",
    "\n",
    "CUDA.@time @cuda threads=threads blocks=blocks force_kernel!(X, idx, dist)\n",
    "dist"
   ]
  }
 ],
 "metadata": {
  "kernelspec": {
   "display_name": "Julia 1.6.7",
   "language": "julia",
   "name": "julia-1.6"
  },
  "language_info": {
   "file_extension": ".jl",
   "mimetype": "application/julia",
   "name": "julia",
   "version": "1.6.7"
  }
 },
 "nbformat": 4,
 "nbformat_minor": 4
}
