{
 "cells": [
  {
   "cell_type": "code",
   "execution_count": null,
   "id": "8f9db0f1-6e48-4b16-9dc7-ff66dd10d003",
   "metadata": {},
   "outputs": [],
   "source": [
    "using DelimitedFiles\n",
    "using CUDA"
   ]
  },
  {
   "cell_type": "markdown",
   "id": "33bfe9d4-8c9a-4cb8-8664-cb140800063e",
   "metadata": {},
   "source": [
    "R_Agg = 15\n",
    "r_max = 3.5"
   ]
  },
  {
   "cell_type": "markdown",
   "id": "65556d80-fba2-45fb-b40e-39ff7694ad0a",
   "metadata": {
    "tags": []
   },
   "source": [
    "# Inizializating Variables"
   ]
  },
  {
   "cell_type": "code",
   "execution_count": null,
   "id": "a482bce8-f0cb-4c1b-90fc-35e5540870ca",
   "metadata": {},
   "outputs": [],
   "source": [
    "X = Float64.(readdlm(\"../../../data/init/Sphere/$R_Agg.xyz\")[3:end,2:end]) |> cu\n",
    "\n",
    "forces  = CUDA.zeros(size(X, 1), size(X, 1),3)\n",
    "idx     = CUDA.zeros(Int, size(X, 1), size(X, 1));"
   ]
  },
  {
   "cell_type": "markdown",
   "id": "f5076e59-c535-42a4-89c0-a11450c2a6ac",
   "metadata": {},
   "source": [
    "# Functions"
   ]
  },
  {
   "cell_type": "code",
   "execution_count": null,
   "id": "b535c620-c4e0-4911-b362-ab1862c63ae8",
   "metadata": {},
   "outputs": [],
   "source": [
    "function cuda_distance_kernel!(idx, points ,r_max)\n",
    "    i = (blockIdx().x - 1) * blockDim().x + threadIdx().x\n",
    "    j = (blockIdx().y - 1) * blockDim().y + threadIdx().y\n",
    "\n",
    "    if i <= size(points, 1) && j <= size(points, 1)\n",
    "        d = sqrt(\n",
    "            (points[i,1] - points[j,1])^2 + \n",
    "            (points[i,2] - points[j,2])^2 + \n",
    "            (points[i,3] - points[j,3])^2\n",
    "            )\n",
    "        if d < r_max\n",
    "            idx[i, j] = 1\n",
    "        end \n",
    "    end\n",
    "    return nothing\n",
    "end\n",
    "\n",
    "function col_sum!(x, out)\n",
    "    \"\"\"out = sum(x, dims=1)\"\"\"\n",
    "    i = (blockIdx().x-1) * blockDim().x + threadIdx().x\n",
    "    # k = (blockIdx().y-1) * blockDim().y + threadIdx().y\n",
    "    for k = 1:3\n",
    "        for j = 1:size(x,1)\n",
    "            @inbounds out[i] += x[j,i,k]\n",
    "        end\n",
    "    end\n",
    "    return nothing\n",
    "end\n",
    "\n",
    "FAFA(x) = 0.01 * x\n",
    "\n",
    "function force_kernel!(points, idx, force)\n",
    "    i = (blockIdx().x - 1) * blockDim().x + threadIdx().x\n",
    "    j = (blockIdx().y - 1) * blockDim().y + threadIdx().y\n",
    "\n",
    "    if i <= size(idx, 1) && j <= size(idx, 2) \n",
    "        if idx[i,j] == 0 || i == j\n",
    "            force[i,j,1] = force[i,j,2] = force[i,j,3] = 0\n",
    "        else\n",
    "            d = sqrt(\n",
    "                        (points[i,1] - points[j,1])^2 + \n",
    "                        (points[i,2] - points[j,2])^2 + \n",
    "                        (points[i,3] - points[j,3])^2\n",
    "                )\n",
    "            for k in 1:3\n",
    "                force[i,j,k] = FAFA(d) * points[i,k] / d\n",
    "            end\n",
    "        end\n",
    "    end\n",
    "    return nothing\n",
    "end\n",
    "\n",
    "function force_kernel_2!(points, idx, out)\n",
    "    i = (blockIdx().x - 1) * blockDim().x + threadIdx().x\n",
    "    k = (blockIdx().y - 1) * blockDim().y + threadIdx().y\n",
    "\n",
    "    for j in 1:size(points, 1) \n",
    "        if i <= size(idx, 1) && k <= 3 \n",
    "            if idx[i,j] == 0 || i == j\n",
    "                force[i,j,k] = 0\n",
    "            else\n",
    "                d = sqrt(\n",
    "                            (points[i,1] - points[j,1])^2 + \n",
    "                            (points[i,2] - points[j,2])^2 + \n",
    "                            (points[i,3] - points[j,3])^2\n",
    "                    )\n",
    "                @inbounds out[i] += x[j,i,k]\n",
    "            end\n",
    "        end\n",
    "    end\n",
    "    return nothing\n",
    "end"
   ]
  },
  {
   "cell_type": "markdown",
   "id": "f96354aa-ccad-4fe8-85ba-094938d41c50",
   "metadata": {},
   "source": [
    "# idx"
   ]
  },
  {
   "cell_type": "code",
   "execution_count": null,
   "id": "5e50ec9a-d590-4712-b1c1-b52ea1d92831",
   "metadata": {},
   "outputs": [],
   "source": [
    "threads = (32, 32)\n",
    "blocks = (div(size(X,1),threads[1])+1, div(size(X,1),threads[1])+1)\n",
    "\n",
    "CUDA.@time @cuda threads=threads blocks=blocks cuda_distance_kernel!(idx, X, r_max)\n",
    "idx"
   ]
  },
  {
   "cell_type": "markdown",
   "id": "f5325e64-3f1b-4da2-9b44-8db9727de61b",
   "metadata": {},
   "source": [
    "# Distances"
   ]
  },
  {
   "cell_type": "code",
   "execution_count": null,
   "id": "a9fa34b8-8aaa-4755-96a5-3e8eb89590b6",
   "metadata": {},
   "outputs": [],
   "source": [
    "threads = (32, 32)\n",
    "blocks = (div(size(X,1),threads[1])+1, div(size(X,1),threads[1])+1)\n",
    "\n",
    "CUDA.@time @cuda threads=threads blocks=blocks force_kernel!(X, idx, forces)\n",
    "forces"
   ]
  },
  {
   "cell_type": "markdown",
   "id": "85b7eb1d-b190-49a9-89c5-c297830c8d35",
   "metadata": {},
   "source": [
    "# Distances v2.0 with reduction"
   ]
  },
  {
   "cell_type": "code",
   "execution_count": null,
   "id": "8843353d-3ca3-48f3-821a-482076b1c6d8",
   "metadata": {},
   "outputs": [],
   "source": [
    "W = CUDA.zeros(size(forces,1),3)\n",
    "\n",
    "threads = (341, 3)\n",
    "blocks = (div(size(X,1),threads[1])+1, 1)\n",
    "CUDA.@time @cuda threads=threads blocks=blocks force_kernel_2!(X, idx, W)\n",
    "W"
   ]
  }
 ],
 "metadata": {
  "kernelspec": {
   "display_name": "Julia 1.6.7",
   "language": "julia",
   "name": "julia-1.6"
  },
  "language_info": {
   "file_extension": ".jl",
   "mimetype": "application/julia",
   "name": "julia",
   "version": "1.6.7"
  }
 },
 "nbformat": 4,
 "nbformat_minor": 5
}
