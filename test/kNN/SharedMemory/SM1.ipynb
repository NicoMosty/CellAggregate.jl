{
 "cells": [
  {
   "cell_type": "code",
   "execution_count": 4,
   "metadata": {},
   "outputs": [],
   "source": [
    "using CUDA\n",
    "using DelimitedFiles"
   ]
  },
  {
   "cell_type": "code",
   "execution_count": 17,
   "metadata": {},
   "outputs": [
    {
     "data": {
      "text/plain": [
       "shared_mem! (generic function with 1 method)"
      ]
     },
     "execution_count": 17,
     "metadata": {},
     "output_type": "execute_result"
    }
   ],
   "source": [
    "function shared_mem!(A,B)\n",
    "    i  = (blockIdx().x-1) * blockDim().x + threadIdx().x\n",
    "    # cache = @cuStaticSharedMem(Int32, blockDim().x)\n",
    "\n",
    "    if i <= size(A,1)\n",
    "        for j = 1:size(A,2)\n",
    "            B[j,i] = A[j,i]\n",
    "        end\n",
    "    end\n",
    "    \n",
    "    return nothing\n",
    "end"
   ]
  },
  {
   "cell_type": "code",
   "execution_count": 23,
   "metadata": {},
   "outputs": [
    {
     "name": "stdout",
     "output_type": "stream",
     "text": [
      "  0.000059 seconds (27 CPU allocations: 1.328 KiB)\n"
     ]
    },
    {
     "data": {
      "text/plain": [
       "5×5 CuArray{Float32, 2, CUDA.Mem.DeviceBuffer}:\n",
       " 0.433942  0.34024    0.960234   0.816798  0.0647936\n",
       " 0.3235    0.873742   0.936802   0.730017  0.727082\n",
       " 0.937487  0.0212082  0.0585751  0.730638  0.751482\n",
       " 0.344284  0.486201   0.845701   0.322278  0.176868\n",
       " 0.859668  0.218825   0.0528043  0.754286  0.31772"
      ]
     },
     "metadata": {},
     "output_type": "display_data"
    },
    {
     "data": {
      "text/plain": [
       "5×5 CuArray{Float32, 2, CUDA.Mem.DeviceBuffer}:\n",
       " 0.433942  0.34024    0.960234   0.816798  0.0647936\n",
       " 0.3235    0.873742   0.936802   0.730017  0.727082\n",
       " 0.937487  0.0212082  0.0585751  0.730638  0.751482\n",
       " 0.344284  0.486201   0.845701   0.322278  0.176868\n",
       " 0.859668  0.218825   0.0528043  0.754286  0.31772"
      ]
     },
     "metadata": {},
     "output_type": "display_data"
    }
   ],
   "source": [
    "X = CUDA.rand(5,5)\n",
    "Y = CUDA.zeros(5,5)\n",
    "\n",
    "threads=1024\n",
    "blocks=cld.(size(X,1),threads)\n",
    "CUDA.@time @cuda threads=threads blocks=blocks shared_mem!(X, Y)\n",
    "display(X)\n",
    "display(Y)"
   ]
  }
 ],
 "metadata": {
  "kernelspec": {
   "display_name": "Julia 1.6.7",
   "language": "julia",
   "name": "julia-1.6"
  },
  "language_info": {
   "file_extension": ".jl",
   "mimetype": "application/julia",
   "name": "julia",
   "version": "1.6.7"
  },
  "orig_nbformat": 4,
  "vscode": {
   "interpreter": {
    "hash": "916dbcbb3f70747c44a77c7bcd40155683ae19c65e1c03b4aa3499c5328201f1"
   }
  }
 },
 "nbformat": 4,
 "nbformat_minor": 2
}
