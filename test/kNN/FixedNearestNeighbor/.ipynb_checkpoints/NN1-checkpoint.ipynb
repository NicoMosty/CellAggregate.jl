{
 "cells": [
  {
   "cell_type": "markdown",
   "metadata": {},
   "source": [
    "# Dependences"
   ]
  },
  {
   "cell_type": "code",
   "execution_count": 28,
   "metadata": {},
   "outputs": [
    {
     "data": {
      "text/plain": [
       "3.0"
      ]
     },
     "execution_count": 28,
     "metadata": {},
     "output_type": "execute_result"
    }
   ],
   "source": [
    "using CUDA\n",
    "using DelimitedFiles\n",
    "\n",
    "R_Agg = 6\n",
    "r_max = 3.0"
   ]
  },
  {
   "cell_type": "markdown",
   "metadata": {},
   "source": [
    "# idx"
   ]
  },
  {
   "cell_type": "code",
   "execution_count": 29,
   "metadata": {},
   "outputs": [
    {
     "data": {
      "text/plain": [
       "dist_kernel! (generic function with 1 method)"
      ]
     },
     "execution_count": 29,
     "metadata": {},
     "output_type": "execute_result"
    }
   ],
   "source": [
    "euclidean(points,i,j) = sqrt((points[i,1]-points[j,1])^2+(points[i,2]-points[j,2])^2+(points[i,3]-points[j,3])^2)\n",
    "\n",
    "function dist_kernel!(idx, points ,r_max)\n",
    "    i = (blockIdx().x - 1) * blockDim().x + threadIdx().x\n",
    "    j = (blockIdx().y - 1) * blockDim().y + threadIdx().y\n",
    "    \n",
    "    if i <= size(points, 1) && j <= size(points, 1)\n",
    "        if euclidean(points,i,j) < r_max\n",
    "            idx[i, j] = i\n",
    "        else\n",
    "            idx[i, j] = 0\n",
    "        end \n",
    "    end\n",
    "    return nothing\n",
    "end"
   ]
  },
  {
   "cell_type": "code",
   "execution_count": 30,
   "metadata": {},
   "outputs": [
    {
     "name": "stdout",
     "output_type": "stream",
     "text": [
      "------------------------ SIZE ------------------------\n",
      "r_max         = 3.0\n",
      "Size X        = (156, 3)\n",
      "Size idx      = (156, 156)\n",
      "--------------------- SIZE CUDA ----------------------\n",
      "Threads = (32, 32)\n",
      "Blocks  = (5, 5)\n",
      "--------------------- CUDA SOLVER --------------------\n",
      "  0.119789 seconds (71.71 k CPU allocations: 5.199 MiB)\n",
      "------------------------ IDX -------------------------\n"
     ]
    },
    {
     "data": {
      "text/plain": [
       "156×156 CuArray{Int32, 2, CUDA.Mem.DeviceBuffer}:\n",
       "  1   1   1  0  0   1   1   1   0   0  …    0    0    0    0    0    0    0\n",
       "  2   2   2  0  0   0   0   0   0   2       0    0    0    0    0    0    0\n",
       "  3   3   3  0  0   0   0   0   0   0       0    0    0    0    0    0    0\n",
       "  0   0   0  4  4   4   4   0   0   0       0    0    0    0    0    0    0\n",
       "  0   0   0  5  5   0   5   5   0   0       0    0    0    0    0    0    0\n",
       "  6   0   0  6  0   6   6   0   0   6  …    0    0    0    0    0    0    0\n",
       "  7   0   0  7  7   7   7   7   0   0       0    0    0    0    0    0    0\n",
       "  8   0   0  0  8   0   8   8   8   0       0    0    0    0    0    0    0\n",
       "  0   0   0  0  0   0   0   9   9   0       0    0    0    0    0    0    0\n",
       "  0  10   0  0  0  10   0   0   0  10       0    0    0    0    0    0    0\n",
       " 11  11  11  0  0  11  11   0   0  11  …    0    0    0    0    0    0    0\n",
       " 12  12  12  0  0   0  12  12   0   0       0    0    0    0    0    0    0\n",
       "  0   0  13  0  0   0   0  13  13   0       0    0    0    0    0    0    0\n",
       "  ⋮                 ⋮                  ⋱         ⋮                        ⋮\n",
       "  0   0   0  0  0   0   0   0   0   0       0    0    0    0  145  145  145\n",
       "  0   0   0  0  0   0   0   0   0   0  …  146    0    0    0  146  146  146\n",
       "  0   0   0  0  0   0   0   0   0   0     147  147    0    0    0  147    0\n",
       "  0   0   0  0  0   0   0   0   0   0       0    0  148    0    0    0  148\n",
       "  0   0   0  0  0   0   0   0   0   0     149    0  149  149    0    0  149\n",
       "  0   0   0  0  0   0   0   0   0   0     150  150    0  150    0    0  150\n",
       "  0   0   0  0  0   0   0   0   0   0  …  151  151    0    0    0    0    0\n",
       "  0   0   0  0  0   0   0   0   0   0       0    0  152  152    0    0    0\n",
       "  0   0   0  0  0   0   0   0   0   0     153    0  153  153    0    0    0\n",
       "  0   0   0  0  0   0   0   0   0   0       0    0    0    0  154  154  154\n",
       "  0   0   0  0  0   0   0   0   0   0       0    0    0    0  155  155  155\n",
       "  0   0   0  0  0   0   0   0   0   0  …  156    0    0    0  156  156  156"
      ]
     },
     "metadata": {},
     "output_type": "display_data"
    }
   ],
   "source": [
    "r_max=3.0\n",
    "X = Float64.(readdlm(\"init/$(R_Agg).xyz\")[3:end,2:end]) |> cu\n",
    "idx = Int32.(zeros(size(X, 1), size(X, 1))) |> cu\n",
    "\n",
    "println(\"------------------------ SIZE ------------------------\")\n",
    "println(\"r_max         = $(r_max)\")\n",
    "println(\"Size X        = $(size(X))\")\n",
    "println(\"Size idx      = $(size(idx))\")\n",
    "\n",
    "println(\"--------------------- SIZE CUDA ----------------------\")\n",
    "threads =(32,32)\n",
    "blocks  =cld.(size(X,1),threads)\n",
    "println(\"Threads = $(threads)\")\n",
    "println(\"Blocks  = $(blocks)\")\n",
    "println(\"--------------------- CUDA SOLVER --------------------\")\n",
    "CUDA.@time @cuda threads=threads blocks=blocks dist_kernel!(idx, X ,r_max)\n",
    "println(\"------------------------ IDX -------------------------\")\n",
    "idx_real = idx\n",
    "display(idx)\n"
   ]
  },
  {
   "cell_type": "markdown",
   "metadata": {},
   "source": [
    "# reduce"
   ]
  },
  {
   "cell_type": "code",
   "execution_count": 31,
   "metadata": {},
   "outputs": [
    {
     "data": {
      "text/plain": [
       "reduce_kernel (generic function with 1 method)"
      ]
     },
     "execution_count": 31,
     "metadata": {},
     "output_type": "execute_result"
    }
   ],
   "source": [
    "function reduce_kernel(idx,idx_red,idx_sum)\n",
    "    j  = (blockIdx().y-1) * blockDim().y + threadIdx().y\n",
    "    # cache = @cuStaticSharedMem(Int32, blockDim().y)\n",
    "\n",
    "    if j <= size(idx,1)\n",
    "        for i = 1:size(idx,1)\n",
    "            if idx[i,j] != 0\n",
    "                idx_sum[j] += 1\n",
    "                idx_red[idx_sum[j],j] = i\n",
    "            end\n",
    "        end\n",
    "    end\n",
    "    \n",
    "    return nothing\n",
    "end"
   ]
  },
  {
   "cell_type": "markdown",
   "metadata": {},
   "source": [
    "## test"
   ]
  },
  {
   "cell_type": "code",
   "execution_count": 32,
   "metadata": {
    "tags": []
   },
   "outputs": [
    {
     "name": "stdout",
     "output_type": "stream",
     "text": [
      "------------------------ SIZE ------------------------\n",
      "Size idx_test = (22, 22)\n",
      "Size idx_sum  = (1, 22)\n",
      "Size idx_red  = (22, 22)\n",
      "------------------------ IDX -------------------------\n"
     ]
    },
    {
     "data": {
      "text/plain": [
       "22×22 CuArray{Int64, 2, CUDA.Mem.DeviceBuffer}:\n",
       "  0   0   0   1   1   1   1   0   0  …   0   0   1   1   0   1   0   1   0\n",
       "  2   2   0   0   0   0   0   0   2      0   0   2   2   0   0   2   2   2\n",
       "  3   3   3   0   0   3   0   3   3      0   0   3   3   3   0   3   3   3\n",
       "  0   4   0   4   4   4   4   4   0      4   0   0   0   4   0   4   4   4\n",
       "  0   5   0   0   0   0   0   0   0      5   0   0   5   5   5   5   0   5\n",
       "  6   0   6   0   0   6   0   6   6  …   0   0   6   6   6   6   0   0   0\n",
       "  7   7   7   0   7   7   7   7   7      7   0   0   0   7   0   7   0   7\n",
       "  0   0   8   8   8   8   0   8   8      8   0   8   0   8   8   0   8   8\n",
       "  0   0   0   0   9   0   9   0   9      9   9   9   9   0   0   0   0   9\n",
       "  0  10  10   0   0   0   0  10   0      0   0   0   0   0   0   0  10  10\n",
       "  0  11   0   0   0  11   0   0  11  …  11  11   0   0  11  11   0  11  11\n",
       " 12   0  12  12  12  12  12  12  12      0  12  12  12  12   0  12  12   0\n",
       " 13  13   0  13  13  13  13  13   0     13   0  13   0  13   0   0  13  13\n",
       " 14  14  14   0   0  14   0  14   0     14   0  14  14  14  14   0   0  14\n",
       "  0  15   0  15   0  15   0  15   0     15   0  15   0  15   0  15   0  15\n",
       " 16  16  16  16  16   0   0  16  16  …   0   0   0   0  16  16   0   0  16\n",
       " 17   0  17  17   0  17   0  17   0      0  17   0   0   0   0  17  17  17\n",
       "  0   0  18  18  18  18   0   0  18      0   0  18  18   0   0  18   0   0\n",
       "  0   0  19   0  19   0   0   0  19     19   0   0   0  19   0  19   0  19\n",
       " 20   0  20  20   0   0  20   0   0      0  20   0   0   0   0   0  20  20\n",
       "  0   0   0  21  21   0   0   0  21  …   0   0   0  21   0  21   0   0   0\n",
       "  0  22   0   0  22   0  22  22   0     22   0   0   0  22  22   0   0   0"
      ]
     },
     "metadata": {},
     "output_type": "display_data"
    },
    {
     "name": "stdout",
     "output_type": "stream",
     "text": [
      "--------------------- SIZE CUDA ----------------------\n",
      "Threads = (1, 1024)\n",
      "Blocks  = (22, 1)\n",
      "--------------------- CUDA SOLVER --------------------\n",
      "  0.060529 seconds (52.06 k CPU allocations: 4.174 MiB)\n",
      "------------------ REDUCED IDX -----------------------\n"
     ]
    },
    {
     "data": {
      "text/plain": [
       "22×22 CuArray{Int32, 2, CUDA.Mem.DeviceBuffer}:\n",
       "  2   2   3   1   1   1   1   3   2  …   4   9   1   1   3   1   2   1   2\n",
       "  3   3   6   4   4   3   4   4   3      5  11   2   2   4   5   3   2   3\n",
       "  6   4   7   8   7   4   7   6   6      7  12   3   3   5   6   4   3   4\n",
       "  7   5   8  12   8   6   9   7   7      8  17   6   5   6   8   5   4   5\n",
       " 12   7  10  13   9   7  12   8   8      9  20   8   6   7  11   7   8   7\n",
       " 13  10  12  15  12   8  13  10   9  …  11   0   9   9   8  14  12  10   8\n",
       " 14  11  14  16  13  11  20  12  11     13   0  12  12  11  16  15  11   9\n",
       " 16  13  16  17  16  12  22  13  12     14   0  13  14  12  21  17  12  10\n",
       " 17  14  17  18  18  13   0  14  16     15   0  14  18  13  22  18  13  11\n",
       " 20  15  18  20  19  14   0  15  18     19   0  15  21  14   0  19  17  13\n",
       "  0  16  19  21  21  15   0  16  19  …  22   0  18   0  15   0   0  20  14\n",
       "  0  22  20   0  22  17   0  17  21      0   0   0   0  16   0   0   0  15\n",
       "  0   0   0   0   0  18   0  22   0      0   0   0   0  19   0   0   0  16\n",
       "  0   0   0   0   0   0   0   0   0      0   0   0   0  22   0   0   0  17\n",
       "  0   0   0   0   0   0   0   0   0      0   0   0   0   0   0   0   0  19\n",
       "  0   0   0   0   0   0   0   0   0  …   0   0   0   0   0   0   0   0  20\n",
       "  0   0   0   0   0   0   0   0   0      0   0   0   0   0   0   0   0   0\n",
       "  0   0   0   0   0   0   0   0   0      0   0   0   0   0   0   0   0   0\n",
       "  0   0   0   0   0   0   0   0   0      0   0   0   0   0   0   0   0   0\n",
       "  0   0   0   0   0   0   0   0   0      0   0   0   0   0   0   0   0   0\n",
       "  0   0   0   0   0   0   0   0   0  …   0   0   0   0   0   0   0   0   0\n",
       "  0   0   0   0   0   0   0   0   0      0   0   0   0   0   0   0   0   0"
      ]
     },
     "execution_count": 32,
     "metadata": {},
     "output_type": "execute_result"
    }
   ],
   "source": [
    "N = 22\n",
    "idx_test = repeat(collect(1:N), inner=(1,N)).*rand((0,1),N,N) |> cu\n",
    "idx_sum  = Int32.(fill(0,1,size(idx_test, 1))) |> cu\n",
    "idx_red  = Int32.(fill(0,size(idx_test, 1),size(idx_test, 1))) |> cu\n",
    "\n",
    "\n",
    "println(\"------------------------ SIZE ------------------------\")\n",
    "println(\"Size idx_test = $(size(idx_test))\")\n",
    "println(\"Size idx_sum  = $(size(idx_sum))\")\n",
    "println(\"Size idx_red  = $(size(idx_red))\")\n",
    "println(\"------------------------ IDX -------------------------\")\n",
    "display(idx_test)\n",
    "println(\"--------------------- SIZE CUDA ----------------------\")\n",
    "threads=(1,1024)\n",
    "blocks=cld.(size(idx_test,1),threads)\n",
    "println(\"Threads = $(threads)\")\n",
    "println(\"Blocks  = $(blocks)\")\n",
    "println(\"--------------------- CUDA SOLVER --------------------\")\n",
    "CUDA.@time @cuda threads=threads blocks=blocks reduce_kernel(idx_test,idx_red,idx_sum)\n",
    "println(\"------------------ REDUCED IDX -----------------------\")\n",
    "idx_red"
   ]
  },
  {
   "cell_type": "markdown",
   "metadata": {},
   "source": [
    "## real"
   ]
  },
  {
   "cell_type": "code",
   "execution_count": 33,
   "metadata": {
    "tags": []
   },
   "outputs": [
    {
     "name": "stdout",
     "output_type": "stream",
     "text": [
      "------------------------ SIZE ------------------------\n",
      "Size idx_real  = (156, 156)\n",
      "Size idx_sum   = (1, 156)\n",
      "Size idx_red   = (156, 156)\n",
      "------------------------ IDX -------------------------\n"
     ]
    },
    {
     "data": {
      "text/plain": [
       "156×156 CuArray{Int32, 2, CUDA.Mem.DeviceBuffer}:\n",
       "  1   1   1  0  0   1   1   1   0   0  …    0    0    0    0    0    0    0\n",
       "  2   2   2  0  0   0   0   0   0   2       0    0    0    0    0    0    0\n",
       "  3   3   3  0  0   0   0   0   0   0       0    0    0    0    0    0    0\n",
       "  0   0   0  4  4   4   4   0   0   0       0    0    0    0    0    0    0\n",
       "  0   0   0  5  5   0   5   5   0   0       0    0    0    0    0    0    0\n",
       "  6   0   0  6  0   6   6   0   0   6  …    0    0    0    0    0    0    0\n",
       "  7   0   0  7  7   7   7   7   0   0       0    0    0    0    0    0    0\n",
       "  8   0   0  0  8   0   8   8   8   0       0    0    0    0    0    0    0\n",
       "  0   0   0  0  0   0   0   9   9   0       0    0    0    0    0    0    0\n",
       "  0  10   0  0  0  10   0   0   0  10       0    0    0    0    0    0    0\n",
       " 11  11  11  0  0  11  11   0   0  11  …    0    0    0    0    0    0    0\n",
       " 12  12  12  0  0   0  12  12   0   0       0    0    0    0    0    0    0\n",
       "  0   0  13  0  0   0   0  13  13   0       0    0    0    0    0    0    0\n",
       "  ⋮                 ⋮                  ⋱         ⋮                        ⋮\n",
       "  0   0   0  0  0   0   0   0   0   0       0    0    0    0  145  145  145\n",
       "  0   0   0  0  0   0   0   0   0   0  …  146    0    0    0  146  146  146\n",
       "  0   0   0  0  0   0   0   0   0   0     147  147    0    0    0  147    0\n",
       "  0   0   0  0  0   0   0   0   0   0       0    0  148    0    0    0  148\n",
       "  0   0   0  0  0   0   0   0   0   0     149    0  149  149    0    0  149\n",
       "  0   0   0  0  0   0   0   0   0   0     150  150    0  150    0    0  150\n",
       "  0   0   0  0  0   0   0   0   0   0  …  151  151    0    0    0    0    0\n",
       "  0   0   0  0  0   0   0   0   0   0       0    0  152  152    0    0    0\n",
       "  0   0   0  0  0   0   0   0   0   0     153    0  153  153    0    0    0\n",
       "  0   0   0  0  0   0   0   0   0   0       0    0    0    0  154  154  154\n",
       "  0   0   0  0  0   0   0   0   0   0       0    0    0    0  155  155  155\n",
       "  0   0   0  0  0   0   0   0   0   0  …  156    0    0    0  156  156  156"
      ]
     },
     "metadata": {},
     "output_type": "display_data"
    },
    {
     "name": "stdout",
     "output_type": "stream",
     "text": [
      "--------------------- SIZE CUDA ----------------------\n",
      "Threads = (1, 1024)\n",
      "Blocks  = (156, 1)\n",
      "--------------------- CUDA SOLVER --------------------\n",
      "  0.057760 seconds (50.75 k CPU allocations: 4.112 MiB)\n"
     ]
    },
    {
     "data": {
      "text/plain": [
       "156×156 CuArray{Int32, 2, CUDA.Mem.DeviceBuffer}:\n",
       "  1   1   1   4   4   1   1   1   8   2  …  126  127  129  130  137  138  141\n",
       "  2   2   2   5   5   4   4   5   9   6     127  128  130  131  140  141  145\n",
       "  3   3   3   6   7   6   5   7  13  10     128  132  131  132  141  142  146\n",
       "  6  10  11   7   8   7   6   8  27  11     131  133  134  135  144  145  148\n",
       "  7  11  12  21  22  10   7   9  28  14     132  147  135  136  145  146  149\n",
       "  8  12  13  22  23  11   8  12  32  24  …  136  150  148  149  146  147  150\n",
       " 11  14  15  24  25  21  11  13  33  29     146  151  149  150  154  154  154\n",
       " 12  15  16  25  26  24  12  23   8  30     147  127  152  152  155  155  155\n",
       " 15  18  19  26  27  25  22  26   9  34     149  128  153  153  156  156  156\n",
       "  1   1   1   4   4  29  25  27  13  35     150  132  129  130  137  138  141\n",
       "  2   2   2   5   5  30  26  31  27   2  …  151  133  130  131  140  141  145\n",
       "  3   3   3   6   7  31  30  32  28   6     153  147  131  132  141  142  146\n",
       "  6  10  11   7   8   1  31  33  32  10     156  150  134  135  144  145  148\n",
       "  ⋮                   ⋮                  ⋱         ⋮                        ⋮\n",
       "  0   0   0   0   0   0   0   0   0   0       0    0    0    0    0    0    0\n",
       "  0   0   0   0   0   0   0   0   0   0  …    0    0    0    0    0    0    0\n",
       "  0   0   0   0   0   0   0   0   0   0       0    0    0    0    0    0    0\n",
       "  0   0   0   0   0   0   0   0   0   0       0    0    0    0    0    0    0\n",
       "  0   0   0   0   0   0   0   0   0   0       0    0    0    0    0    0    0\n",
       "  0   0   0   0   0   0   0   0   0   0       0    0    0    0    0    0    0\n",
       "  0   0   0   0   0   0   0   0   0   0  …    0    0    0    0    0    0    0\n",
       "  0   0   0   0   0   0   0   0   0   0       0    0    0    0    0    0    0\n",
       "  0   0   0   0   0   0   0   0   0   0       0    0    0    0    0    0    0\n",
       "  0   0   0   0   0   0   0   0   0   0       0    0    0    0    0    0    0\n",
       "  0   0   0   0   0   0   0   0   0   0       0    0    0    0    0    0    0\n",
       "  0   0   0   0   0   0   0   0   0   0  …    0    0    0    0    0    0    0"
      ]
     },
     "metadata": {},
     "output_type": "display_data"
    }
   ],
   "source": [
    "idx_sum  = Int32.(zeros(1, size(idx_real, 1))) |> cu\n",
    "idx_red  = Int32.(zeros(size(idx_real, 1), size(idx_real, 1))) |> cu\n",
    "\n",
    "println(\"------------------------ SIZE ------------------------\")\n",
    "println(\"Size idx_real  = $(size(idx_real))\")\n",
    "println(\"Size idx_sum   = $(size(idx_sum))\")\n",
    "println(\"Size idx_red   = $(size(idx_red))\")\n",
    "println(\"------------------------ IDX -------------------------\")\n",
    "display(idx)\n",
    "println(\"--------------------- SIZE CUDA ----------------------\")\n",
    "threads=(1,1024)\n",
    "blocks=cld.(size(idx_real,1),threads)\n",
    "println(\"Threads = $(threads)\")\n",
    "println(\"Blocks  = $(blocks)\")\n",
    "println(\"--------------------- CUDA SOLVER --------------------\")\n",
    "CUDA.@time @cuda threads=threads blocks=blocks reduce_kernel(idx_real,idx_red,idx_sum)\n",
    "display(idx_red)\n"
   ]
  },
  {
   "cell_type": "code",
   "execution_count": 37,
   "metadata": {
    "tags": []
   },
   "outputs": [
    {
     "data": {
      "text/plain": [
       "1×156 CuArray{Int64, 2, CUDA.Mem.DeviceBuffer}:\n",
       " 59  59  59  56  55  79  89  85  50  64  …  113  103  55  72  90  72  73  79"
      ]
     },
     "execution_count": 37,
     "metadata": {},
     "output_type": "execute_result"
    }
   ],
   "source": [
    "sum(idx_red .> 0, dims=1)"
   ]
  }
 ],
 "metadata": {
  "kernelspec": {
   "display_name": "Julia 1.6.7",
   "language": "julia",
   "name": "julia-1.6"
  },
  "language_info": {
   "file_extension": ".jl",
   "mimetype": "application/julia",
   "name": "julia",
   "version": "1.6.7"
  }
 },
 "nbformat": 4,
 "nbformat_minor": 4
}
