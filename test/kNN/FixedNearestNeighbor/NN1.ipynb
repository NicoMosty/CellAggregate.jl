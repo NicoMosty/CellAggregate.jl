{
 "cells": [
  {
   "cell_type": "markdown",
   "metadata": {},
   "source": [
    "# Dependences"
   ]
  },
  {
   "cell_type": "code",
   "execution_count": 1,
   "metadata": {},
   "outputs": [
    {
     "data": {
      "text/plain": [
       "60"
      ]
     },
     "execution_count": 1,
     "metadata": {},
     "output_type": "execute_result"
    }
   ],
   "source": [
    "using CUDA\n",
    "using DelimitedFiles\n",
    "\n",
    "R_Agg = 15\n",
    "r_max = 4.0\n",
    "max_row = 60"
   ]
  },
  {
   "cell_type": "markdown",
   "metadata": {},
   "source": [
    "# Functions"
   ]
  },
  {
   "cell_type": "code",
   "execution_count": 2,
   "metadata": {},
   "outputs": [
    {
     "data": {
      "text/plain": [
       "reduce_kernel (generic function with 1 method)"
      ]
     },
     "execution_count": 2,
     "metadata": {},
     "output_type": "execute_result"
    }
   ],
   "source": [
    "euclidean(points,i,j) = sqrt((points[i,1]-points[j,1])^2+(points[i,2]-points[j,2])^2+(points[i,3]-points[j,3])^2)\n",
    "\n",
    "function dist_kernel!(idx, points ,r_max)\n",
    "    i = (blockIdx().x - 1) * blockDim().x + threadIdx().x\n",
    "    j = (blockIdx().y - 1) * blockDim().y + threadIdx().y\n",
    "    \n",
    "    if i <= size(points, 1) && j <= size(points, 1)\n",
    "        if euclidean(points,i,j) < r_max\n",
    "            idx[i, j] = i\n",
    "        else\n",
    "            idx[i, j] = 0\n",
    "        end \n",
    "    end\n",
    "    return nothing\n",
    "end\n",
    "\n",
    "function reduce_kernel(idx,idx_red,idx_sum)\n",
    "    i  = (blockIdx().x-1) * blockDim().x + threadIdx().x\n",
    "    # cache = @cuStaticSharedMem(Int32, blockDim().x)\n",
    "\n",
    "    if i <= size(idx,1)\n",
    "        for j = 1:size(idx,1)\n",
    "            if idx[j,i] != 0\n",
    "                idx_sum[i] += 1\n",
    "                idx_red[idx_sum[i],i] = j\n",
    "            end\n",
    "        end\n",
    "    end\n",
    "    \n",
    "    return nothing\n",
    "end"
   ]
  },
  {
   "cell_type": "markdown",
   "metadata": {},
   "source": [
    "# Idx"
   ]
  },
  {
   "cell_type": "code",
   "execution_count": 3,
   "metadata": {},
   "outputs": [
    {
     "name": "stdout",
     "output_type": "stream",
     "text": [
      "------------------------ SIZE ------------------------\n",
      "r_max         = 4.0\n",
      "Size X        = (2504, 3)\n",
      "Size idx      = (2504, 2504)\n",
      "--------------------- SIZE CUDA ----------------------\n",
      "Threads = (32, 32)\n",
      "Blocks  = (79, 79)\n",
      "--------------------- CUDA SOLVER --------------------\n",
      "  9.144280 seconds (25.10 M CPU allocations: 1.434 GiB, 5.62% gc time)\n",
      "------------------------ IDX -------------------------\n"
     ]
    },
    {
     "data": {
      "text/plain": [
       "2504×2504 CuArray{Int32, 2, CUDA.Mem.DeviceBuffer}:\n",
       "  1   1   0   1   1   1   1   0   0  …     0     0     0     0     0     0\n",
       "  2   2   2   0   2   2   2   2   0        0     0     0     0     0     0\n",
       "  0   3   3   0   0   3   3   3   0        0     0     0     0     0     0\n",
       "  4   0   0   4   4   0   0   0   4        0     0     0     0     0     0\n",
       "  5   5   0   5   5   5   0   0   5        0     0     0     0     0     0\n",
       "  6   6   6   0   6   6   6   0   0  …     0     0     0     0     0     0\n",
       "  7   7   7   0   0   7   7   7   0        0     0     0     0     0     0\n",
       "  0   8   8   0   0   0   8   8   0        0     0     0     0     0     0\n",
       "  0   0   0   9   9   0   0   0   9        0     0     0     0     0     0\n",
       "  0   0   0  10  10  10   0   0  10        0     0     0     0     0     0\n",
       " 11   0   0  11  11  11  11   0   0  …     0     0     0     0     0     0\n",
       "  0  12   0   0  12  12  12  12   0        0     0     0     0     0     0\n",
       "  0   0  13   0   0  13  13  13   0        0     0     0     0     0     0\n",
       "  ⋮                   ⋮              ⋱                 ⋮              \n",
       "  0   0   0   0   0   0   0   0   0     2493  2493     0  2493     0     0\n",
       "  0   0   0   0   0   0   0   0   0     2494  2494  2494     0  2494     0\n",
       "  0   0   0   0   0   0   0   0   0     2495  2495  2495     0     0  2495\n",
       "  0   0   0   0   0   0   0   0   0  …     0  2496  2496     0     0     0\n",
       "  0   0   0   0   0   0   0   0   0        0     0     0  2497     0     0\n",
       "  0   0   0   0   0   0   0   0   0     2498     0     0  2498  2498     0\n",
       "  0   0   0   0   0   0   0   0   0     2499  2499     0  2499  2499  2499\n",
       "  0   0   0   0   0   0   0   0   0     2500  2500  2500  2500  2500  2500\n",
       "  0   0   0   0   0   0   0   0   0  …     0  2501  2501     0  2501  2501\n",
       "  0   0   0   0   0   0   0   0   0     2502  2502     0  2502  2502     0\n",
       "  0   0   0   0   0   0   0   0   0     2503  2503  2503  2503  2503  2503\n",
       "  0   0   0   0   0   0   0   0   0     2504  2504  2504     0  2504  2504"
      ]
     },
     "metadata": {},
     "output_type": "display_data"
    }
   ],
   "source": [
    "X = Float64.(readdlm(\"../init/$(R_Agg).xyz\")[3:end,2:end]) |> cu\n",
    "idx = Int32.(zeros(size(X, 1), size(X, 1))) |> cu\n",
    "\n",
    "println(\"------------------------ SIZE ------------------------\")\n",
    "println(\"r_max         = $(r_max)\")\n",
    "println(\"Size X        = $(size(X))\")\n",
    "println(\"Size idx      = $(size(idx))\")\n",
    "\n",
    "println(\"--------------------- SIZE CUDA ----------------------\")\n",
    "threads =(32,32)\n",
    "blocks  =cld.(size(X,1),threads)\n",
    "println(\"Threads = $(threads)\")\n",
    "println(\"Blocks  = $(blocks)\")\n",
    "println(\"--------------------- CUDA SOLVER --------------------\")\n",
    "CUDA.@time @cuda threads=threads blocks=blocks dist_kernel!(idx, X ,r_max)\n",
    "println(\"------------------------ IDX -------------------------\")\n",
    "idx_real = idx\n",
    "display(idx)\n"
   ]
  },
  {
   "cell_type": "markdown",
   "metadata": {},
   "source": [
    "# reduce-test"
   ]
  },
  {
   "cell_type": "code",
   "execution_count": 4,
   "metadata": {
    "tags": []
   },
   "outputs": [
    {
     "name": "stdout",
     "output_type": "stream",
     "text": [
      "------------------------ SIZE ------------------------\n",
      "Size idx_test = (22, 22)\n",
      "Size idx_sum  = (1, 22)\n",
      "Size idx_red  = (60, 22)\n",
      "------------------------ IDX -------------------------\n"
     ]
    },
    {
     "data": {
      "text/plain": [
       "22×22 CuArray{Int64, 2, CUDA.Mem.DeviceBuffer}:\n",
       "  0   1   0   1   1   0   1   0   1  …   0   1   0   1   1   1   1   0   1\n",
       "  0   2   2   0   0   2   0   2   2      0   2   2   2   0   2   2   0   2\n",
       "  3   0   3   3   3   0   0   0   3      0   3   0   3   0   0   3   3   3\n",
       "  0   0   0   4   0   4   4   4   0      4   4   0   0   4   4   4   0   0\n",
       "  0   5   5   5   0   5   0   5   5      0   0   0   0   0   0   0   5   5\n",
       "  6   6   0   0   6   0   0   6   6  …   6   0   6   0   6   6   0   6   0\n",
       "  7   7   0   0   0   0   7   7   7      7   7   7   7   0   0   0   0   0\n",
       "  8   8   8   8   8   8   0   8   8      0   8   0   0   0   0   8   0   8\n",
       "  0   9   9   0   9   9   9   0   0      0   0   9   0   9   9   9   0   0\n",
       "  0  10  10  10   0  10  10  10   0      0   0   0   0   0  10   0   0   0\n",
       " 11   0   0  11  11   0   0  11  11  …   0   0   0  11  11  11  11  11  11\n",
       " 12   0   0  12   0  12   0  12  12     12   0  12  12   0  12   0  12   0\n",
       "  0   0   0   0  13   0   0   0  13     13   0  13   0  13   0   0   0  13\n",
       "  0  14  14  14   0  14  14   0  14     14  14  14   0  14   0  14   0  14\n",
       " 15  15  15  15   0  15   0   0  15      0  15  15  15   0  15   0   0  15\n",
       " 16  16  16  16   0  16  16   0   0  …  16  16   0   0  16  16   0  16   0\n",
       "  0   0  17   0   0   0  17   0   0     17  17  17   0  17  17  17  17  17\n",
       "  0   0  18  18   0   0   0   0  18     18  18   0  18   0   0   0  18  18\n",
       "  0   0   0  19   0   0  19   0  19     19   0  19   0  19   0  19   0  19\n",
       "  0   0  20  20   0   0  20   0  20     20  20  20   0   0   0   0   0  20\n",
       "  0  21  21   0   0   0   0  21   0  …   0   0   0  21   0   0  21   0   0\n",
       " 22   0   0   0  22   0  22   0   0     22  22   0   0  22  22  22   0  22"
      ]
     },
     "metadata": {},
     "output_type": "display_data"
    },
    {
     "name": "stdout",
     "output_type": "stream",
     "text": [
      "--------------------- SIZE CUDA ----------------------\n",
      "Threads = 1024\n",
      "Blocks  = 1\n",
      "--------------------- CUDA SOLVER --------------------\n",
      "  0.607707 seconds (2.45 M CPU allocations: 141.302 MiB, 6.28% gc time)\n",
      "------------------ REDUCED IDX -----------------------\n"
     ]
    },
    {
     "data": {
      "text/plain": [
       "60×22 CuArray{Int32, 2, CUDA.Mem.DeviceBuffer}:\n",
       "  3   1   2   1   1   2   1   2   1  …   4   1   2   1   1   1   1   3   1\n",
       "  6   2   3   3   3   4   4   4   2      6   2   6   2   4   2   2   5   2\n",
       "  7   5   5   4   6   5   7   5   3      7   3   7   3   6   4   3   6   3\n",
       "  8   6   8   5   8   8   9   6   5     12   4   9   7   9   6   4  11   5\n",
       " 11   7   9   8   9   9  10   7   6     13   7  12  11  11   9   8  12   8\n",
       " 12   8  10  10  11  10  14   8   7  …  14   8  13  12  13  10   9  16  11\n",
       " 15   9  14  11  13  12  16  10   8     16  14  14  15  14  11  11  17  13\n",
       " 16  10  15  12  22  14  17  11  11     17  15  15  18  16  12  14  18  14\n",
       " 22  14  16  14   0  15  19  12  12     18  16  17  21  17  15  17   0  15\n",
       "  0  15  17  15   0  16  20  21  13     19  17  19   0  19  16  19   0  17\n",
       "  0  16  18  16   0   0  22   0  14  …  20  18  20   0  22  17  21   0  18\n",
       "  0  21  20  18   0   0   0   0  15     22  20   0   0   0  22  22   0  19\n",
       "  0   0  21  19   0   0   0   0  18      0  22   0   0   0   0   0   0  20\n",
       "  ⋮                   ⋮              ⋱           ⋮                   ⋮  \n",
       "  0   0   0   0   0   0   0   0   0      0   0   0   0   0   0   0   0   0\n",
       "  0   0   0   0   0   0   0   0   0      0   0   0   0   0   0   0   0   0\n",
       "  0   0   0   0   0   0   0   0   0  …   0   0   0   0   0   0   0   0   0\n",
       "  0   0   0   0   0   0   0   0   0      0   0   0   0   0   0   0   0   0\n",
       "  0   0   0   0   0   0   0   0   0      0   0   0   0   0   0   0   0   0\n",
       "  0   0   0   0   0   0   0   0   0      0   0   0   0   0   0   0   0   0\n",
       "  0   0   0   0   0   0   0   0   0      0   0   0   0   0   0   0   0   0\n",
       "  0   0   0   0   0   0   0   0   0  …   0   0   0   0   0   0   0   0   0\n",
       "  0   0   0   0   0   0   0   0   0      0   0   0   0   0   0   0   0   0\n",
       "  0   0   0   0   0   0   0   0   0      0   0   0   0   0   0   0   0   0\n",
       "  0   0   0   0   0   0   0   0   0      0   0   0   0   0   0   0   0   0\n",
       "  0   0   0   0   0   0   0   0   0      0   0   0   0   0   0   0   0   0"
      ]
     },
     "metadata": {},
     "output_type": "display_data"
    },
    {
     "name": "stdout",
     "output_type": "stream",
     "text": [
      "------------------------- MAX VALUE(idx_red) ------------------------\n"
     ]
    },
    {
     "data": {
      "text/plain": [
       "1×22 CuArray{Int64, 2, CUDA.Mem.DeviceBuffer}:\n",
       " 9  12  13  14  8  10  11  10  15  9  11  …  12  13  11  9  11  12  12  8  14"
      ]
     },
     "metadata": {},
     "output_type": "display_data"
    },
    {
     "name": "stdout",
     "output_type": "stream",
     "text": [
      "Max_Value  = (18, CartesianIndex(1, 12))\n",
      "------------------------ MAX VALUE(idx_test) ------------------------\n"
     ]
    },
    {
     "data": {
      "text/plain": [
       "1×22 CuArray{Int64, 2, CUDA.Mem.DeviceBuffer}:\n",
       " 9  12  13  14  8  10  11  10  15  9  11  …  12  13  11  9  11  12  12  8  14"
      ]
     },
     "metadata": {},
     "output_type": "display_data"
    },
    {
     "name": "stdout",
     "output_type": "stream",
     "text": [
      "Max_Value  = (18, CartesianIndex(1, 12))\n"
     ]
    }
   ],
   "source": [
    "N = 22\n",
    "idx_test = repeat(collect(1:N), inner=(1,N)).*rand((0,1),N,N) |> cu\n",
    "idx_sum  = Int32.(fill(0,1,size(idx_test, 1))) |> cu\n",
    "idx_red  = Int32.(fill(0,max_row,size(idx_test, 1))) |> cu\n",
    "\n",
    "\n",
    "println(\"------------------------ SIZE ------------------------\")\n",
    "println(\"Size idx_test = $(size(idx_test))\")\n",
    "println(\"Size idx_sum  = $(size(idx_sum))\")\n",
    "println(\"Size idx_red  = $(size(idx_red))\")\n",
    "println(\"------------------------ IDX -------------------------\")\n",
    "display(idx_test)\n",
    "println(\"--------------------- SIZE CUDA ----------------------\")\n",
    "threads=1024\n",
    "blocks=cld.(size(idx_test,1),threads)\n",
    "println(\"Threads = $(threads)\")\n",
    "println(\"Blocks  = $(blocks)\")\n",
    "println(\"--------------------- CUDA SOLVER --------------------\")\n",
    "CUDA.@time @cuda threads=threads blocks=blocks reduce_kernel(idx_test,idx_red,idx_sum)\n",
    "println(\"------------------ REDUCED IDX -----------------------\")\n",
    "display(idx_red)\n",
    "println(\"------------------------- MAX VALUE(idx_red) ------------------------\")\n",
    "display(sum(idx_red .> 0, dims=1))\n",
    "println(\"Max_Value  = $(findmax(sum(idx_red .> 0, dims=1)))\")\n",
    "println(\"------------------------ MAX VALUE(idx_test) ------------------------\")\n",
    "display(sum(idx_test .> 0, dims=1))\n",
    "println(\"Max_Value  = $(findmax(sum(idx_test .> 0, dims=1)))\")"
   ]
  },
  {
   "cell_type": "markdown",
   "metadata": {},
   "source": [
    "# reduce-real"
   ]
  },
  {
   "cell_type": "code",
   "execution_count": 5,
   "metadata": {
    "tags": []
   },
   "outputs": [
    {
     "name": "stdout",
     "output_type": "stream",
     "text": [
      "------------------------ SIZE ------------------------\n",
      "Size idx_real  = (2504, 2504)\n",
      "Size idx_sum   = (1, 2504)\n",
      "Size idx_red   = (60, 2504)\n",
      "------------------------ IDX -------------------------\n"
     ]
    },
    {
     "data": {
      "text/plain": [
       "2504×2504 CuArray{Int32, 2, CUDA.Mem.DeviceBuffer}:\n",
       "  1   1   0   1   1   1   1   0   0  …     0     0     0     0     0     0\n",
       "  2   2   2   0   2   2   2   2   0        0     0     0     0     0     0\n",
       "  0   3   3   0   0   3   3   3   0        0     0     0     0     0     0\n",
       "  4   0   0   4   4   0   0   0   4        0     0     0     0     0     0\n",
       "  5   5   0   5   5   5   0   0   5        0     0     0     0     0     0\n",
       "  6   6   6   0   6   6   6   0   0  …     0     0     0     0     0     0\n",
       "  7   7   7   0   0   7   7   7   0        0     0     0     0     0     0\n",
       "  0   8   8   0   0   0   8   8   0        0     0     0     0     0     0\n",
       "  0   0   0   9   9   0   0   0   9        0     0     0     0     0     0\n",
       "  0   0   0  10  10  10   0   0  10        0     0     0     0     0     0\n",
       " 11   0   0  11  11  11  11   0   0  …     0     0     0     0     0     0\n",
       "  0  12   0   0  12  12  12  12   0        0     0     0     0     0     0\n",
       "  0   0  13   0   0  13  13  13   0        0     0     0     0     0     0\n",
       "  ⋮                   ⋮              ⋱                 ⋮              \n",
       "  0   0   0   0   0   0   0   0   0     2493  2493     0  2493     0     0\n",
       "  0   0   0   0   0   0   0   0   0     2494  2494  2494     0  2494     0\n",
       "  0   0   0   0   0   0   0   0   0     2495  2495  2495     0     0  2495\n",
       "  0   0   0   0   0   0   0   0   0  …     0  2496  2496     0     0     0\n",
       "  0   0   0   0   0   0   0   0   0        0     0     0  2497     0     0\n",
       "  0   0   0   0   0   0   0   0   0     2498     0     0  2498  2498     0\n",
       "  0   0   0   0   0   0   0   0   0     2499  2499     0  2499  2499  2499\n",
       "  0   0   0   0   0   0   0   0   0     2500  2500  2500  2500  2500  2500\n",
       "  0   0   0   0   0   0   0   0   0  …     0  2501  2501     0  2501  2501\n",
       "  0   0   0   0   0   0   0   0   0     2502  2502     0  2502  2502     0\n",
       "  0   0   0   0   0   0   0   0   0     2503  2503  2503  2503  2503  2503\n",
       "  0   0   0   0   0   0   0   0   0     2504  2504  2504     0  2504  2504"
      ]
     },
     "metadata": {},
     "output_type": "display_data"
    },
    {
     "name": "stdout",
     "output_type": "stream",
     "text": [
      "--------------------- SIZE CUDA ----------------------\n",
      "Threads = 1024\n",
      "Blocks  = 3\n",
      "--------------------- CUDA SOLVER --------------------\n",
      "  0.490258 seconds (2.05 M CPU allocations: 117.263 MiB, 6.30% gc time)\n"
     ]
    },
    {
     "data": {
      "text/plain": [
       "60×2504 CuArray{Int32, 2, CUDA.Mem.DeviceBuffer}:\n",
       "  1   1   2   1   1   1   1   2   4  …  2362  2363  2364  2372  2373  2374\n",
       "  2   2   3   4   2   2   2   3   5     2363  2364  2365  2373  2374  2375\n",
       "  4   3   6   5   4   3   3   7   9     2372  2373  2374  2382  2383  2384\n",
       "  5   5   7   9   5   5   6   8  10     2373  2374  2375  2383  2384  2385\n",
       "  6   6   8  10   6   6   7  12  15     2374  2375  2376  2384  2385  2386\n",
       "  7   7  13  11   9   7   8  13  16  …  2383  2384  2385  2391  2392  2393\n",
       " 11   8  32  15  10  10  11  14  21     2384  2385  2386  2392  2393  2394\n",
       " 30  12  33  34  11  11  12  19  40     2444  2445  2446  2452  2453  2454\n",
       " 31  31  37  35  12  12  13  38  41     2445  2446  2447  2453  2454  2455\n",
       " 35  32  38  40  16  13  14  39  48     2446  2447  2448  2454  2455  2456\n",
       " 36  36  39  41  35  17  18  44  49  …  2452  2453  2454  2459  2460  2461\n",
       " 37  37  43  42  36  36  37  45  50     2453  2454  2455  2460  2461  2462\n",
       " 41  38  44  48  41  37  38  46  56     2454  2455  2456  2461  2462  2463\n",
       "  ⋮                   ⋮              ⋱                 ⋮              \n",
       "  0   0   0   0   0   0   0   0   0        0     0     0     0     0     0\n",
       "  0   0   0   0   0   0   0   0   0        0     0     0     0     0     0\n",
       "  0   0   0   0   0   0   0   0   0  …     0     0     0     0     0     0\n",
       "  0   0   0   0   0   0   0   0   0        0     0     0     0     0     0\n",
       "  0   0   0   0   0   0   0   0   0        0     0     0     0     0     0\n",
       "  0   0   0   0   0   0   0   0   0        0     0     0     0     0     0\n",
       "  0   0   0   0   0   0   0   0   0        0     0     0     0     0     0\n",
       "  0   0   0   0   0   0   0   0   0  …     0     0     0     0     0     0\n",
       "  0   0   0   0   0   0   0   0   0        0     0     0     0     0     0\n",
       "  0   0   0   0   0   0   0   0   0        0     0     0     0     0     0\n",
       "  0   0   0   0   0   0   0   0   0        0     0     0     0     0     0\n",
       "  0   0   0   0   0   0   0   0   0        0     0     0     0     0     0"
      ]
     },
     "metadata": {},
     "output_type": "display_data"
    }
   ],
   "source": [
    "idx_sum = Int32.(zeros(1, size(idx_real, 1))) |> cu\n",
    "idx_red = Int32.(zeros(max_row, size(idx_real, 1))) |> cu\n",
    "# idx_red  = Int32.(zeros(size(idx_real, 1), size(idx_real, 1))) |> cu\n",
    "\n",
    "println(\"------------------------ SIZE ------------------------\")\n",
    "println(\"Size idx_real  = $(size(idx_real))\")\n",
    "println(\"Size idx_sum   = $(size(idx_sum))\")\n",
    "println(\"Size idx_red   = $(size(idx_red))\")\n",
    "println(\"------------------------ IDX -------------------------\")\n",
    "display(idx)\n",
    "println(\"--------------------- SIZE CUDA ----------------------\")\n",
    "threads=1024\n",
    "blocks=cld.(size(idx_real,1),threads)\n",
    "println(\"Threads = $(threads)\")\n",
    "println(\"Blocks  = $(blocks)\")\n",
    "println(\"--------------------- CUDA SOLVER --------------------\")\n",
    "CUDA.@time @cuda threads=threads blocks=blocks reduce_kernel(idx_real,idx_red,idx_sum)\n",
    "display(idx_red)\n"
   ]
  },
  {
   "cell_type": "markdown",
   "metadata": {},
   "source": [
    "# test"
   ]
  },
  {
   "cell_type": "code",
   "execution_count": 6,
   "metadata": {},
   "outputs": [
    {
     "name": "stdout",
     "output_type": "stream",
     "text": [
      "------------------------- MAX VALUE(idx_red) ------------------------\n"
     ]
    },
    {
     "data": {
      "text/plain": [
       "1×2504 CuArray{Int64, 2, CUDA.Mem.DeviceBuffer}:\n",
       " 26  27  25  26  29  30  30  27  26  …  28  26  29  30  30  27  26  27  25"
      ]
     },
     "metadata": {},
     "output_type": "display_data"
    },
    {
     "name": "stdout",
     "output_type": "stream",
     "text": [
      "Max_Value  = (55, CartesianIndex(1, 163))\n",
      "--------------------------- MAX VALUE(idx) --------------------------\n"
     ]
    },
    {
     "data": {
      "text/plain": [
       "1×2504 CuArray{Int64, 2, CUDA.Mem.DeviceBuffer}:\n",
       " 26  27  25  26  29  30  30  27  26  …  28  26  29  30  30  27  26  27  25"
      ]
     },
     "metadata": {},
     "output_type": "display_data"
    },
    {
     "name": "stdout",
     "output_type": "stream",
     "text": [
      "Max_Value  = (55, CartesianIndex(1, 163))\n"
     ]
    }
   ],
   "source": [
    "println(\"------------------------- MAX VALUE(idx_red) ------------------------\")\n",
    "display(sum(idx_red .> 0, dims=1))\n",
    "println(\"Max_Value  = $(findmax(sum(idx_red .> 0, dims=1)))\")\n",
    "println(\"--------------------------- MAX VALUE(idx) --------------------------\")\n",
    "display(sum(idx .> 0, dims=1))\n",
    "println(\"Max_Value  = $(findmax(sum(idx .> 0, dims=1)))\")"
   ]
  }
 ],
 "metadata": {
  "kernelspec": {
   "display_name": "Julia 1.6.7",
   "language": "julia",
   "name": "julia-1.6"
  },
  "language_info": {
   "file_extension": ".jl",
   "mimetype": "application/julia",
   "name": "julia",
   "version": "1.6.7"
  }
 },
 "nbformat": 4,
 "nbformat_minor": 4
}
