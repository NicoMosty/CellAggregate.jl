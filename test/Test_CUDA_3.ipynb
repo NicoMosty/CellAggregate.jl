{
 "cells": [
  {
   "cell_type": "code",
   "execution_count": 2,
   "metadata": {},
   "outputs": [],
   "source": [
    "using CUDA\n",
    "using DelimitedFiles"
   ]
  },
  {
   "cell_type": "code",
   "execution_count": 3,
   "metadata": {},
   "outputs": [],
   "source": [
    "R_Agg = 16\n",
    "X = readdlm(\"../data/Init/Two_Sphere/$R_Agg.csv\", ',', Float64, header=true)[1][:, 1:3];"
   ]
  },
  {
   "cell_type": "code",
   "execution_count": 5,
   "metadata": {},
   "outputs": [
    {
     "name": "stdout",
     "output_type": "stream",
     "text": [
      "  2.076247 seconds (4.19 M allocations: 224.951 MiB, 4.79% gc time, 76.77% compilation time)\n"
     ]
    },
    {
     "data": {
      "text/plain": [
       "6064×2 CuArray{Float32, 2, CUDA.Mem.DeviceBuffer}:\n",
       "    1.0   0.0\n",
       "    2.0   2.0\n",
       "    3.0   4.0\n",
       "    4.0   2.00689\n",
       "    5.0   2.00689\n",
       "    6.0   3.46808\n",
       "    7.0   5.29411\n",
       "    8.0   4.00511\n",
       "    9.0   3.47\n",
       "   10.0   4.00511\n",
       "    ⋮    \n",
       " 6056.0  46.7951\n",
       " 6057.0  48.3075\n",
       " 6058.0  44.7214\n",
       " 6059.0  46.1719\n",
       " 6060.0  47.6622\n",
       " 6061.0  49.1887\n",
       " 6062.0  45.6291\n",
       " 6063.0  47.0941\n",
       " 6064.0  48.5972"
      ]
     },
     "metadata": {},
     "output_type": "display_data"
    }
   ],
   "source": [
    "\n",
    "# k, i, X = 10, 1, X\n",
    "function CukNN(k, i, X)\n",
    "    THREADS_PER_BLOCK = 256\n",
    "    X_Cu = X |> cu\n",
    "    Xi_Cu = repeat(X_Cu[i,:]', size(X_Cu)[1], 1)\n",
    "    dist = hcat(1:1:size(X_Cu)[1], zeros(Float32, (size(X_Cu)[1]))) |> cu \n",
    "\n",
    "\n",
    "    function add!(dist, X, X_o)\n",
    "        x = (blockIdx().x - 1) * blockDim().x + threadIdx().x \n",
    "        @inbounds dist[x, 2] = ( (X[x] - X_o[x])^2 + (X[x, 2] - X_o[x, 2])^2 + (X[x, 3] - X_o[x, 3])^2 ) ^ (0.5)\n",
    "        return\n",
    "    end\n",
    "\n",
    "    threads = THREADS_PER_BLOCK\n",
    "    blocks = ceil(Int64, length(dist)/threads) \n",
    "    @cuda threads=threads blocks=blocks add!(dist, X_Cu, Xi_Cu)\n",
    "    # global idx = dist[sortperm(dist[:,2]),:][1:14,:1]\n",
    "    return dist\n",
    "end\n",
    "\n",
    "@time CukNN(10, 1, X)"
   ]
  }
 ],
 "metadata": {
  "kernelspec": {
   "display_name": "Julia 1.7.3",
   "language": "julia",
   "name": "julia-1.7"
  },
  "language_info": {
   "file_extension": ".jl",
   "mimetype": "application/julia",
   "name": "julia",
   "version": "1.7.3"
  },
  "orig_nbformat": 4,
  "vscode": {
   "interpreter": {
    "hash": "916dbcbb3f70747c44a77c7bcd40155683ae19c65e1c03b4aa3499c5328201f1"
   }
  }
 },
 "nbformat": 4,
 "nbformat_minor": 2
}
