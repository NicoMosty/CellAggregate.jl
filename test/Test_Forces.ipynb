{
 "cells": [
  {
   "cell_type": "markdown",
   "metadata": {},
   "source": [
    "# Installing Dependencies"
   ]
  },
  {
   "cell_type": "code",
   "execution_count": 1,
   "metadata": {},
   "outputs": [],
   "source": [
    "using DelimitedFiles\n",
    "using NearestNeighbors: KDTree, knn\n",
    "using LinearAlgebra: norm"
   ]
  },
  {
   "cell_type": "markdown",
   "metadata": {},
   "source": [
    "## Using General Arrays"
   ]
  },
  {
   "cell_type": "code",
   "execution_count": 2,
   "metadata": {},
   "outputs": [
    {
     "name": "stdout",
     "output_type": "stream",
     "text": [
      "  0.960368 seconds (1.46 M allocations: 86.952 MiB, 2.16% gc time)\n",
      "  9.801437 seconds (112.73 M allocations: 8.330 GiB, 8.20% gc time)\n"
     ]
    },
    {
     "data": {
      "text/plain": [
       "6064×3 Array{Float64,2}:\n",
       "  0.0         -0.00013623    0.000261888\n",
       "  0.0         -0.00013623    0.000261888\n",
       "  0.0         -0.00013623    0.000261888\n",
       "  0.0          0.000172509   0.000337449\n",
       "  0.0          0.000172509   0.000337449\n",
       "  0.0          0.000172509   0.000337449\n",
       " -1.57531e-5   0.000145256   0.000337449\n",
       "  3.15062e-5   0.000118003   0.000337449\n",
       "  0.0          0.000118003   0.000337449\n",
       "  0.0          0.000118003   0.000337449\n",
       " -1.57531e-5   9.07506e-5    0.000337449\n",
       "  0.0         -3.82331e-5    4.57316e-5\n",
       "  0.0         -3.82331e-5    4.57316e-5\n",
       "  ⋮                         \n",
       "  0.0          3.82331e-5   -4.57316e-5\n",
       "  3.15062e-5  -0.000118003  -0.000337449\n",
       "  0.0         -0.000118003  -0.000337449\n",
       "  0.0         -0.000118003  -0.000337449\n",
       " -1.57531e-5  -9.07506e-5   -0.000337449\n",
       "  0.0         -0.000172509  -0.000337449\n",
       "  0.0         -0.000172509  -0.000337449\n",
       "  0.0         -0.000172509  -0.000337449\n",
       " -1.57531e-5  -0.000145256  -0.000337449\n",
       "  0.0          0.00013623   -0.000261888\n",
       "  0.0          0.00013623   -0.000261888\n",
       "  0.0          0.00013623   -0.000261888"
      ]
     },
     "execution_count": 2,
     "metadata": {},
     "output_type": "execute_result"
    }
   ],
   "source": [
    "function NearNeighbor(X, t, t_knn)\n",
    "    # Using kNN for Nearest Neighbors\n",
    "    if t%t_knn | t == 0\n",
    "        global kdtree = KDTree(X[:,1:3]')\n",
    "    end \n",
    "    return kdtree\n",
    "end\n",
    "\n",
    "function force(X, r_max, s, K, kdtree)\n",
    "    # Initialise displacement array\n",
    "    global dX = zeros(Float64, size(X)[1], 3)\n",
    "\n",
    "    # Loop over all cells to compute displacements\n",
    "    for i in 1:size(X)[1]\n",
    "        # Scan neighbours\n",
    "        global idxs, _ = knn(kdtree, X[i,1:3], 14, true)\n",
    "\n",
    "        # Initialise variables\n",
    "        global Xi = X[i,1:3]\n",
    "        for j in 1:size(X)[1]\n",
    "            if i != j\n",
    "                global r = Xi - X[j,1:3]\n",
    "                global dist = norm(r)\n",
    "                # Calculate attraction/repulsion force differential here\n",
    "                if dist < r_max\n",
    "                    global F = - K*(dist-r_max)*(dist-r_max)*(dist - s)\n",
    "                    dX[i,:] +=  r/dist * F\n",
    "                end\n",
    "            end\n",
    "        end\n",
    "    end\n",
    "    return dX\n",
    "end\n",
    "\n",
    "R_Agg = 16\n",
    "\n",
    "X = readdlm(\"../data/Init/Two_Sphere/$R_Agg.csv\", ',', Float64, header=true)[1][:, 1:3]\n",
    "r_max, s = 2, 1\n",
    "K = 10\n",
    "t, t_knn = 0, 10\n",
    "dt = 0.5\n",
    "\n",
    "@time kd = NearNeighbor(X, t, t_knn)\n",
    "@time F = force(X, r_max, s, K, kd)"
   ]
  },
  {
   "cell_type": "markdown",
   "metadata": {},
   "source": [
    "## Using kNN"
   ]
  },
  {
   "cell_type": "code",
   "execution_count": 4,
   "metadata": {},
   "outputs": [
    {
     "name": "stdout",
     "output_type": "stream",
     "text": [
      "  0.016368 seconds (15.27 k allocations: 1.361 MiB)\n",
      "  0.201351 seconds (1.66 M allocations: 64.323 MiB, 2.80% gc time)\n"
     ]
    },
    {
     "data": {
      "text/plain": [
       "6064×3 Array{Float64,2}:\n",
       "  0.0         -0.00013623    0.000261888\n",
       "  0.0         -0.00013623    0.000261888\n",
       "  0.0         -0.00013623    0.000261888\n",
       "  0.0          0.000172509   0.000337449\n",
       "  0.0          0.000172509   0.000337449\n",
       "  0.0          0.000172509   0.000337449\n",
       " -1.57531e-5   0.000145256   0.000337449\n",
       "  3.15062e-5   0.000118003   0.000337449\n",
       "  0.0          0.000118003   0.000337449\n",
       "  0.0          0.000118003   0.000337449\n",
       " -1.57531e-5   9.07506e-5    0.000337449\n",
       "  0.0         -3.82331e-5    4.57316e-5\n",
       "  0.0         -3.82331e-5    4.57316e-5\n",
       "  ⋮                         \n",
       "  0.0          3.82331e-5   -4.57316e-5\n",
       "  3.15062e-5  -0.000118003  -0.000337449\n",
       "  0.0         -0.000118003  -0.000337449\n",
       "  0.0         -0.000118003  -0.000337449\n",
       " -1.57531e-5  -9.07506e-5   -0.000337449\n",
       "  0.0         -0.000172509  -0.000337449\n",
       "  0.0         -0.000172509  -0.000337449\n",
       "  0.0         -0.000172509  -0.000337449\n",
       " -1.57531e-5  -0.000145256  -0.000337449\n",
       "  0.0          0.00013623   -0.000261888\n",
       "  0.0          0.00013623   -0.000261888\n",
       "  0.0          0.00013623   -0.000261888"
      ]
     },
     "execution_count": 4,
     "metadata": {},
     "output_type": "execute_result"
    }
   ],
   "source": [
    "function NearNeighbor(X, t, t_knn)\n",
    "    # Using kNN for Nearest Neighbors\n",
    "    if t%t_knn | t == 0\n",
    "        global kdtree = KDTree(X[:,1:3]')\n",
    "    end \n",
    "    return kdtree\n",
    "end\n",
    "\n",
    "function force(X, r_max, s, K, kdtree)\n",
    "    # Initialise displacement array\n",
    "    global dX = zeros(Float64, size(X)[1], 3)\n",
    "\n",
    "    # Loop over all cells to compute displacements\n",
    "    for i in 1:size(X)[1]\n",
    "        # Scan neighbours\n",
    "        global idxs, _ = knn(kdtree, X[i,1:3], 14, true)\n",
    "\n",
    "        # Initialise variables\n",
    "        global Xi = X[i,1:3]\n",
    "        for j in idxs\n",
    "            if i != j\n",
    "                global r = Xi - X[j,1:3]\n",
    "                global dist = norm(r)\n",
    "                # Calculate attraction/repulsion force differential here\n",
    "                if dist < r_max\n",
    "                    global F = - K*(dist-r_max)*(dist-r_max)*(dist - s)\n",
    "                    dX[i,:] +=  r/dist * F\n",
    "                end\n",
    "            end\n",
    "        end\n",
    "    end\n",
    "    return dX\n",
    "end\n",
    "\n",
    "R_Agg = 16\n",
    "\n",
    "X = readdlm(\"../data/Init/Two_Sphere/$R_Agg.csv\", ',', Float64, header=true)[1][:, 1:3]\n",
    "r_max, s = 2, 1\n",
    "K = 10\n",
    "t, t_knn = 0, 10\n",
    "dt = 0.5\n",
    "\n",
    "@time kd = NearNeighbor(X, t, t_knn)\n",
    "@time F = force(X, r_max, s, K, kd)"
   ]
  }
 ],
 "metadata": {
  "kernelspec": {
   "display_name": "Julia 1.4.1",
   "language": "julia",
   "name": "julia-1.4"
  },
  "language_info": {
   "file_extension": ".jl",
   "mimetype": "application/julia",
   "name": "julia",
   "version": "1.4.1"
  },
  "orig_nbformat": 4,
  "vscode": {
   "interpreter": {
    "hash": "916dbcbb3f70747c44a77c7bcd40155683ae19c65e1c03b4aa3499c5328201f1"
   }
  }
 },
 "nbformat": 4,
 "nbformat_minor": 2
}
