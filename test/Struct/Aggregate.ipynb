{
 "cells": [
  {
   "cell_type": "code",
   "execution_count": 1,
   "metadata": {},
   "outputs": [
    {
     "data": {
      "text/plain": [
       "force_func (generic function with 1 method)"
      ]
     },
     "execution_count": 1,
     "metadata": {},
     "output_type": "execute_result"
    }
   ],
   "source": [
    "include(\"../../src/forces_func.jl\")\n",
    "include(\"../../src/struct_data.jl\")\n",
    "include(\"../../src/test.jl\")\n",
    "include(\"../../src/forces.jl\")\n",
    "include(\"../../src/neighbor.jl\")\n",
    "include(\"../../src/run_event.jl\")\n",
    "\n",
    "@make_struct_func Cubic"
   ]
  },
  {
   "cell_type": "code",
   "execution_count": 2,
   "metadata": {},
   "outputs": [
    {
     "data": {
      "text/plain": [
       "Model(Cubic(0.1, 2.0, 3.0), Contractile(1.0e-7), Time(100000.0, 0.1), Neighbor(50, 12), Geometry(9.0, [100.0 0.0 0.0; 0.0 100.0 0.0]), Simulation(200, \"BBB.xyz\"))"
      ]
     },
     "execution_count": 2,
     "metadata": {},
     "output_type": "execute_result"
    }
   ],
   "source": [
    "parameters = Model(\n",
    "    Cubic(\n",
    "        μ₁       = 0.1,\n",
    "        rₘᵢₙ     = 2,\n",
    "        rₘₐₓ     = 3\n",
    "    ),\n",
    "    Contractile(\n",
    "        fₚ       = 0.0000001\n",
    "    ),\n",
    "    Time(\n",
    "        t_f      = 100000, \n",
    "        dt       = 0.1\n",
    "    ),\n",
    "    Neighbor(\n",
    "        n_knn    = 50,\n",
    "        nn       = 12\n",
    "    ),\n",
    "    Geometry(\n",
    "        R_agg    = 9,\n",
    "        position = [\n",
    "            100.0    0.0    0.0\n",
    "            0.0    100.0    0.0\n",
    "        ]\n",
    "    ),\n",
    "    Simulation(\n",
    "        n_text   = 200,\n",
    "        path     = \"BBB.xyz\"\n",
    "    )\n",
    ")"
   ]
  },
  {
   "cell_type": "code",
   "execution_count": 3,
   "metadata": {},
   "outputs": [],
   "source": [
    "X = Float32.(readdlm(\"../../data/init/Sphere/$(Int(parameters.Geometry.R_agg)).xyz\")[3:end,2:end]) |> cu\n",
    "Agg = Aggregate(Neighbor(50, 12), PositionCell(X));"
   ]
  },
  {
   "cell_type": "code",
   "execution_count": 4,
   "metadata": {},
   "outputs": [
    {
     "data": {
      "text/plain": [
       "538×3 CuArray{Float32, 2, CUDA.Mem.DeviceBuffer}:\n",
       " -1.5  -4.62  -7.35\n",
       "  0.5  -4.62  -7.35\n",
       " -2.5  -2.89  -7.35\n",
       " -0.5  -2.89  -7.35\n",
       "  1.5  -2.89  -7.35\n",
       "  3.5  -2.89  -7.35\n",
       " -3.5  -1.15  -7.35\n",
       " -1.5  -1.15  -7.35\n",
       "  0.5  -1.15  -7.35\n",
       "  2.5  -1.15  -7.35\n",
       "  4.5  -1.15  -7.35\n",
       " -4.5   0.58  -7.35\n",
       " -2.5   0.58  -7.35\n",
       "  ⋮           \n",
       "  3.5  -0.58   7.35\n",
       " -3.5   1.15   7.35\n",
       " -1.5   1.15   7.35\n",
       "  0.5   1.15   7.35\n",
       "  2.5   1.15   7.35\n",
       "  4.5   1.15   7.35\n",
       " -2.5   2.89   7.35\n",
       " -0.5   2.89   7.35\n",
       "  1.5   2.89   7.35\n",
       "  3.5   2.89   7.35\n",
       " -1.5   4.62   7.35\n",
       "  0.5   4.62   7.35"
      ]
     },
     "execution_count": 4,
     "metadata": {},
     "output_type": "execute_result"
    }
   ],
   "source": [
    "Agg.Position.X"
   ]
  },
  {
   "cell_type": "code",
   "execution_count": 5,
   "metadata": {},
   "outputs": [
    {
     "data": {
      "text/plain": [
       "1076×3 CuArray{Float32, 2, CUDA.Mem.DeviceBuffer}:\n",
       "  98.5   -4.62  -7.35\n",
       " 100.5   -4.62  -7.35\n",
       "  97.5   -2.89  -7.35\n",
       "  99.5   -2.89  -7.35\n",
       " 101.5   -2.89  -7.35\n",
       " 103.5   -2.89  -7.35\n",
       "  96.5   -1.15  -7.35\n",
       "  98.5   -1.15  -7.35\n",
       " 100.5   -1.15  -7.35\n",
       " 102.5   -1.15  -7.35\n",
       " 104.5   -1.15  -7.35\n",
       "  95.5    0.58  -7.35\n",
       "  97.5    0.58  -7.35\n",
       "   ⋮            \n",
       "   3.5   99.42   7.35\n",
       "  -3.5  101.15   7.35\n",
       "  -1.5  101.15   7.35\n",
       "   0.5  101.15   7.35\n",
       "   2.5  101.15   7.35\n",
       "   4.5  101.15   7.35\n",
       "  -2.5  102.89   7.35\n",
       "  -0.5  102.89   7.35\n",
       "   1.5  102.89   7.35\n",
       "   3.5  102.89   7.35\n",
       "  -1.5  104.62   7.35\n",
       "   0.5  104.62   7.35"
      ]
     },
     "execution_count": 5,
     "metadata": {},
     "output_type": "execute_result"
    }
   ],
   "source": [
    "SumAgg(Agg::Aggregate, parameters::Model)\n",
    "Agg.Position.X"
   ]
  },
  {
   "cell_type": "code",
   "execution_count": 6,
   "metadata": {},
   "outputs": [
    {
     "data": {
      "text/plain": [
       "1076×1 CuArray{Float64, 2, CUDA.Mem.DeviceBuffer}:\n",
       " 1.0\n",
       " 1.0\n",
       " 1.0\n",
       " 1.0\n",
       " 1.0\n",
       " 1.0\n",
       " 1.0\n",
       " 1.0\n",
       " 1.0\n",
       " 1.0\n",
       " 1.0\n",
       " 1.0\n",
       " 1.0\n",
       " ⋮\n",
       " 1.0\n",
       " 1.0\n",
       " 1.0\n",
       " 1.0\n",
       " 1.0\n",
       " 1.0\n",
       " 1.0\n",
       " 1.0\n",
       " 1.0\n",
       " 1.0\n",
       " 1.0\n",
       " 1.0"
      ]
     },
     "execution_count": 6,
     "metadata": {},
     "output_type": "execute_result"
    }
   ],
   "source": [
    "Agg.Index.Outline"
   ]
  },
  {
   "cell_type": "code",
   "execution_count": 7,
   "metadata": {},
   "outputs": [
    {
     "data": {
      "text/plain": [
       "1620.0"
      ]
     },
     "execution_count": 7,
     "metadata": {},
     "output_type": "execute_result"
    }
   ],
   "source": [
    "sum(Agg.Index.Outline)"
   ]
  }
 ],
 "metadata": {
  "kernelspec": {
   "display_name": "Julia 1.6.7",
   "language": "julia",
   "name": "julia-1.6"
  },
  "language_info": {
   "file_extension": ".jl",
   "mimetype": "application/julia",
   "name": "julia",
   "version": "1.6.7"
  },
  "orig_nbformat": 4,
  "vscode": {
   "interpreter": {
    "hash": "916dbcbb3f70747c44a77c7bcd40155683ae19c65e1c03b4aa3499c5328201f1"
   }
  }
 },
 "nbformat": 4,
 "nbformat_minor": 2
}
