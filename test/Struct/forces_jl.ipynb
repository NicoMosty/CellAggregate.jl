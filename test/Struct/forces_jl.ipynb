{
 "cells": [
  {
   "cell_type": "markdown",
   "metadata": {},
   "source": [
    "# Add Dependences"
   ]
  },
  {
   "cell_type": "code",
   "execution_count": 38,
   "metadata": {},
   "outputs": [
    {
     "data": {
      "text/plain": [
       "ModelParameters"
      ]
     },
     "execution_count": 38,
     "metadata": {},
     "output_type": "execute_result"
    }
   ],
   "source": [
    "include(\"../../src/test.jl\")\n",
    "include(\"../../src/forces.jl\")\n",
    "include(\"../../src/neighbor.jl\")\n",
    "include(\"../../src/run_event.jl\")\n",
    "include(\"../../src/struct_data.jl\")"
   ]
  },
  {
   "cell_type": "markdown",
   "metadata": {},
   "source": [
    "# Add Data"
   ]
  },
  {
   "cell_type": "code",
   "execution_count": 39,
   "metadata": {},
   "outputs": [],
   "source": [
    "parameters = ModelParameters(\n",
    "    Force = Dict(\n",
    "        \"μ\"      => 0.00003, \n",
    "        \"r_max\"  => 3.1,\n",
    "        \"r_min\"  => 2.0,\n",
    "    ),\n",
    "    Contractile = Dict(\n",
    "        \"f_p\"    => 0.00000001\n",
    "    ),\n",
    "    Time = Dict(\n",
    "        \"T_f\" => 100000,\n",
    "        \"dt\"  => 0.1\n",
    "    ),\n",
    "    Neighbor = Dict(\n",
    "        \"n_knn\" => 50,\n",
    "        \"nn\"    => 12\n",
    "    ),\n",
    "    Geometry = Dict(\n",
    "        \"R_agg\"   => 9,\n",
    "        \"num_agg\" => 2\n",
    "    ),\n",
    "    Simulation  = Dict(\n",
    "        \"n_text\" => 200\n",
    "    )\n",
    ");"
   ]
  },
  {
   "cell_type": "code",
   "execution_count": 40,
   "metadata": {},
   "outputs": [
    {
     "data": {
      "text/plain": [
       "cubic(3.0e-5, 3.1, 2.0, var\"#142#144\"{Float64, Float64, Float64}(3.0e-5, 3.1, 2.0))"
      ]
     },
     "execution_count": 40,
     "metadata": {},
     "output_type": "execute_result"
    }
   ],
   "source": [
    "R_agg = parameters.Geometry[\"R_agg\"]\n",
    "X = Float32.(readdlm(\"../../data/init/Sphere/$R_agg.xyz\")[3:end,2:end]) |> cu\n",
    "\n",
    "## Var before func\n",
    "@select_force cubic\n",
    "force = cubic(μ = parameters.Force[\"μ\"], r_max = parameters.Force[\"r_max\"], r_min = parameters.Force[\"r_min\"])"
   ]
  },
  {
   "cell_type": "markdown",
   "metadata": {},
   "source": [
    "## forces.jl -> cu_forces"
   ]
  },
  {
   "cell_type": "code",
   "execution_count": 41,
   "metadata": {},
   "outputs": [
    {
     "data": {
      "text/plain": [
       "cui_force (generic function with 1 method)"
      ]
     },
     "execution_count": 41,
     "metadata": {},
     "output_type": "execute_result"
    }
   ],
   "source": [
    "function cui_force(t, force, fp, nnn)\n",
    "    # Definig Variables for calculing dX\n",
    "    global X; global dX; global idx\n",
    "\n",
    "    # Calculating distance for random forces (contractile)\n",
    "    r_p = X - X[rand_idx[mod(t, size(X,1))+1, :], :]\n",
    "    # Finding Distances/Norm for random forces\n",
    "    dist_p = (sum(r_p .^ 2, dims=2).^ 0.5)\n",
    "\n",
    "    # Finding distances\n",
    "    r = reshape(repeat(X, inner=(nnn,1)), nnn, size(X)[1], 3) - X[getindex.(idx,1),:]\n",
    "\n",
    "    # Finding Distances(Norm)\n",
    "    dist = ((sum(r .^ 2, dims=3)) .^ 0.5)[:,:,1]\n",
    "\n",
    "    # Finding forces for each cell\n",
    "    F = force.f(dist) .* r ./ dist\n",
    "\n",
    "    # Calculating de dX   -> dX[i,:] +=  r/dist * F\n",
    "    dX = sum(F[2:end,:,:]; dims=1)[1,:,:] - fp .* (r_p ./ dist_p)\n",
    "    synchronize()\n",
    "end\n"
   ]
  },
  {
   "cell_type": "markdown",
   "metadata": {},
   "source": [
    "## run_event.jl -> simulate()"
   ]
  },
  {
   "cell_type": "code",
   "execution_count": 42,
   "metadata": {},
   "outputs": [
    {
     "data": {
      "text/plain": [
       "simulate (generic function with 1 method)"
      ]
     },
     "execution_count": 42,
     "metadata": {},
     "output_type": "execute_result"
    }
   ],
   "source": [
    "function simulate(PATH, SAVING, n_text,t_f, dt, force, fp, n_knn, nnn)\n",
    "    # Definig Variables for calculing initial variables\n",
    "    global X \n",
    "    X = X |> cu\n",
    "\n",
    "    # Inizializate Variables for kNN\n",
    "    global i_Cell = CuArray{Float32}(undef, (size(X, 1), size(X, 1), 3))\n",
    "    global Dist = CuArray{Float32}(undef, (size(X, 1), size(X, 1)))\n",
    "    global idx = hcat([[CartesianIndex(i,1) for i=1:nnn] for j=1:size(X,1)]...) |> cu\n",
    "\n",
    "\n",
    "    #Inizializate Variable for random force\n",
    "    global rand_idx = CuArray{Int32}(undef, n_knn, size(X,1))\n",
    "\n",
    "    # Inizializate Variables for Forces\n",
    "    global r = zeros(nnn,size(X)[1],3) |> cu\n",
    "    global r_p = zeros(size(X)) |> cu\n",
    "    global dist = zeros(nnn, size(X)[1]) |> cu\n",
    "    global dist_p = zeros(size(X,1)) |> cu\n",
    "    global F = zeros(nnn, size(X)[1],3) |> cu\n",
    "    global dX = zeros(size(X)[1],3) |> cu;\n",
    "\n",
    "    # Calculating position of every cell on the fusion\n",
    "    p = Progress(Int(t_f/dt),barlen=25)\n",
    "    for t in 0:Int(t_f/dt)\n",
    "\n",
    "        # Saving data in a given time (n_text)\n",
    "        if mod(t, Int(t_f/n_text/dt)) == 0 && SAVING\n",
    "            X_w = Matrix(X)\n",
    "            open(PATH, \"a\") do f\n",
    "                write(f, \"$(size(X, 1))\\n\")\n",
    "                write(f, \"t=$(t*dt)\\n\")\n",
    "                writedlm(f,X_w)\n",
    "                # writedlm(f,hcat(X_f, X_w), ' ')\n",
    "            end\n",
    "        end\n",
    "\n",
    "        ## LEAPFROG ALGORITHM\n",
    "        if mod(t,2) == 0\n",
    "            if mod(t, n_knn) == 0 \n",
    "                # Calculating kNN\n",
    "                cu_knn(nnn)\n",
    "            end\n",
    "\n",
    "            # Finding index for random forces in a given time (size(X,1))\n",
    "            if mod(t, 2*size(X,1)) == 0 \n",
    "                global rand_idx = getindex.(idx, 1)[getindex.(rand(2:nnn,2*size(X,1)) ,1),:]\n",
    "            end\n",
    "            # Calculating Forces\n",
    "            cui_force(t, force, fp, nnn)\n",
    "        else\n",
    "            global X = X + dX*dt\n",
    "        end\n",
    "\n",
    "        next!(p)\n",
    "    end\n",
    "end"
   ]
  },
  {
   "cell_type": "code",
   "execution_count": 43,
   "metadata": {},
   "outputs": [
    {
     "name": "stderr",
     "output_type": "stream",
     "text": [
      "\u001b[32mProgress:   4%|█                        |  ETA: 0:28:29\u001b[39mm:19\u001b[39merror in running finalizer: InterruptException()\n",
      "maybe_collect at /buildworker/worker/package_linux64/build/src/julia_threads.h:313 [inlined]\n",
      "jl_gc_pool_alloc at /buildworker/worker/package_linux64/build/src/gc.c:1204\n",
      "default_stream at /home/nicomosty/.julia/packages/CUDA/DfvRa/lib/cudadrv/stream.jl:32 [inlined]\n",
      "unsafe_finalize! at /home/nicomosty/.julia/packages/CUDA/DfvRa/src/array.jl:99\n",
      "_jl_invoke at /buildworker/worker/package_linux64/build/src/gf.c:2237 [inlined]\n",
      "jl_apply_generic at /buildworker/worker/package_linux64/build/src/gf.c:2419\n",
      "jl_apply at /buildworker/worker/package_linux64/build/src/julia.h:1703 [inlined]\n",
      "run_finalizer at /buildworker/worker/package_linux64/build/src/gc.c:278\n",
      "jl_gc_run_finalizers_in_list at /buildworker/worker/package_linux64/build/src/gc.c:365\n",
      "run_finalizers at /buildworker/worker/package_linux64/build/src/gc.c:394\n",
      "jl_gc_collect at /buildworker/worker/package_linux64/build/src/gc.c:3260\n",
      "gc at ./gcutils.jl:94 [inlined]\n",
      "macro expansion at /home/nicomosty/.julia/packages/CUDA/DfvRa/src/pool.jl:263 [inlined]\n",
      "macro expansion at ./timing.jl:287 [inlined]\n",
      "#_alloc#168 at /home/nicomosty/.julia/packages/CUDA/DfvRa/src/pool.jl:313 [inlined]\n",
      "_alloc##kw at /home/nicomosty/.julia/packages/CUDA/DfvRa/src/pool.jl:309\n",
      "#alloc#167 at /home/nicomosty/.julia/packages/CUDA/DfvRa/src/pool.jl:299 [inlined]\n",
      "alloc at /home/nicomosty/.julia/packages/CUDA/DfvRa/src/pool.jl:295 [inlined]\n",
      "CuArray at /home/nicomosty/.julia/packages/CUDA/DfvRa/src/array.jl:42\n",
      "similar at /home/nicomosty/.julia/packages/CUDA/DfvRa/src/array.jl:166 [inlined]\n",
      "repeat_outer at /home/nicomosty/.julia/packages/GPUArrays/fqD8z/src/host/base.jl:99\n",
      "repeat_outer at /home/nicomosty/.julia/packages/GPUArrays/fqD8z/src/host/base.jl:121 [inlined]\n",
      "repeat_inner_outer at ./abstractarraymath.jl:327 [inlined]\n",
      "#repeat#1 at ./abstractarraymath.jl:269 [inlined]\n",
      "repeat##kw at ./abstractarraymath.jl:267 [inlined]\n",
      "repeat at ./abstractarraymath.jl:224\n",
      "unknown function (ip: 0x7fa1f0906116)\n",
      "_jl_invoke at /buildworker/worker/package_linux64/build/src/gf.c:2237 [inlined]\n",
      "jl_apply_generic at /buildworker/worker/package_linux64/build/src/gf.c:2419\n",
      "cu_knn at /home/nicomosty/Documentos/Maestria-GitHub/CellAggregate.jl/src/neighbor.jl:20\n",
      "simulate at ./In[42]:42\n",
      "unknown function (ip: 0x7fa1f0d26b2e)\n",
      "_jl_invoke at /buildworker/worker/package_linux64/build/src/gf.c:2237 [inlined]\n",
      "jl_apply_generic at /buildworker/worker/package_linux64/build/src/gf.c:2419\n",
      "jl_apply at /buildworker/worker/package_linux64/build/src/julia.h:1703 [inlined]\n",
      "do_apply at /buildworker/worker/package_linux64/build/src/builtins.c:675\n",
      "_jl_invoke at /buildworker/worker/package_linux64/build/src/gf.c:2237 [inlined]\n",
      "jl_apply_generic at /buildworker/worker/package_linux64/build/src/gf.c:2419\n",
      "jl_apply at /buildworker/worker/package_linux64/build/src/julia.h:1703 [inlined]\n",
      "do_call at /buildworker/worker/package_linux64/build/src/interpreter.c:115\n",
      "eval_value at /buildworker/worker/package_linux64/build/src/interpreter.c:204\n",
      "eval_stmt_value at /buildworker/worker/package_linux64/build/src/interpreter.c:155 [inlined]\n",
      "eval_body at /buildworker/worker/package_linux64/build/src/interpreter.c:562\n",
      "jl_interpret_toplevel_thunk at /buildworker/worker/package_linux64/build/src/interpreter.c:670\n",
      "top-level scope at In[43]:5\n",
      "jl_toplevel_eval_flex at /buildworker/worker/package_linux64/build/src/toplevel.c:877\n",
      "jl_toplevel_eval_flex at /buildworker/worker/package_linux64/build/src/toplevel.c:825\n",
      "jl_toplevel_eval_in at /buildworker/worker/package_linux64/build/src/toplevel.c:929\n",
      "eval at ./boot.jl:360 [inlined]\n",
      "include_string at ./loading.jl:1116\n",
      "softscope_include_string at /home/nicomosty/.julia/packages/SoftGlobalScope/u4UzH/src/SoftGlobalScope.jl:65\n",
      "_jl_invoke at /buildworker/worker/package_linux64/build/src/gf.c:2237 [inlined]\n",
      "jl_apply_generic at /buildworker/worker/package_linux64/build/src/gf.c:2419\n",
      "execute_request at /home/nicomosty/.julia/packages/IJulia/AQu2H/src/execute_request.jl:67\n",
      "_jl_invoke at /buildworker/worker/package_linux64/build/src/gf.c:2237 [inlined]\n",
      "jl_apply_generic at /buildworker/worker/package_linux64/build/src/gf.c:2419\n",
      "jl_apply at /buildworker/worker/package_linux64/build/src/julia.h:1703 [inlined]\n",
      "jl_f__call_latest at /buildworker/worker/package_linux64/build/src/builtins.c:719\n",
      "#invokelatest#2 at ./essentials.jl:708 [inlined]\n",
      "invokelatest at ./essentials.jl:706 [inlined]\n",
      "eventloop at /home/nicomosty/.julia/packages/IJulia/AQu2H/src/eventloop.jl:8\n",
      "#15 at ./task.jl:417\n",
      "unknown function (ip: 0x7fa226b37c9c)\n",
      "_jl_invoke at /buildworker/worker/package_linux64/build/src/gf.c:2237 [inlined]\n",
      "jl_apply_generic at /buildworker/worker/package_linux64/build/src/gf.c:2419\n",
      "jl_apply at /buildworker/worker/package_linux64/build/src/julia.h:1703 [inlined]\n",
      "start_task at /buildworker/worker/package_linux64/build/src/task.c:834\n",
      "\u001b[32mProgress:   5%|█▍                       |  ETA: 0:25:07\u001b[39m"
     ]
    }
   ],
   "source": [
    "time = [parameters.Time[i] for i in [\"T_f\",\"dt\"]]\n",
    "n_text = parameters.Simulation[\"n_text\"]\n",
    "fp = parameters.Contractile[\"f_p\"]\n",
    "neighbor = [parameters.Neighbor[i] for i in [\"n_knn\",\"nn\"]]\n",
    "simulate(\"AAA.xyz\", true, n_text,time..., force, fp, neighbor...)"
   ]
  }
 ],
 "metadata": {
  "kernelspec": {
   "display_name": "Julia 1.6.7",
   "language": "julia",
   "name": "julia-1.6"
  },
  "language_info": {
   "file_extension": ".jl",
   "mimetype": "application/julia",
   "name": "julia",
   "version": "1.6.7"
  },
  "orig_nbformat": 4,
  "vscode": {
   "interpreter": {
    "hash": "916dbcbb3f70747c44a77c7bcd40155683ae19c65e1c03b4aa3499c5328201f1"
   }
  }
 },
 "nbformat": 4,
 "nbformat_minor": 2
}
