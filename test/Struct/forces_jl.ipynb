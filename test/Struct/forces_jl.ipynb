{
 "cells": [
  {
   "cell_type": "markdown",
   "metadata": {},
   "source": [
    "# Add Dependences"
   ]
  },
  {
   "cell_type": "code",
   "execution_count": 10,
   "metadata": {},
   "outputs": [
    {
     "data": {
      "text/plain": [
       "force_func (generic function with 1 method)"
      ]
     },
     "execution_count": 10,
     "metadata": {},
     "output_type": "execute_result"
    }
   ],
   "source": [
    "include(\"../../src/forces_func.jl\")\n",
    "include(\"../../src/struct_data.jl\")\n",
    "include(\"../../src/test.jl\")\n",
    "include(\"../../src/forces.jl\")\n",
    "include(\"../../src/neighbor.jl\")\n",
    "include(\"../../src/run_event.jl\")\n",
    "\n",
    "@make_struct_func Cubic"
   ]
  },
  {
   "cell_type": "markdown",
   "metadata": {},
   "source": [
    "# Add Data"
   ]
  },
  {
   "cell_type": "code",
   "execution_count": 12,
   "metadata": {},
   "outputs": [
    {
     "data": {
      "text/plain": [
       "Model(Cubic(0.1, 2.0, 3.0), Contractile(1.0e-7), Time(100000.0, 0.1), Neighbor(50, 12), Geometry(9.0, [0.0 0.0 0.0]), Simulation(200, \"BBB.xyz\"))"
      ]
     },
     "execution_count": 12,
     "metadata": {},
     "output_type": "execute_result"
    }
   ],
   "source": [
    "parameters = Model(\n",
    "    Cubic(\n",
    "        μ₁       = 0.1,\n",
    "        rₘᵢₙ     = 2,\n",
    "        rₘₐₓ     = 3\n",
    "    ),\n",
    "    Contractile(\n",
    "        fₚ       = 0.0000001\n",
    "    ),\n",
    "    Time(\n",
    "        t_f      = 100000, \n",
    "        dt       = 0.1\n",
    "    ),\n",
    "    Neighbor(\n",
    "        n_knn    = 50,\n",
    "        nn       = 12\n",
    "    ),\n",
    "    Geometry(\n",
    "        R_agg    = 9,\n",
    "        position = [\n",
    "            0.0    0.0    0.0\n",
    "        ]\n",
    "    ),\n",
    "    Simulation(\n",
    "        n_text   = 200,\n",
    "        path     = \"BBB.xyz\"\n",
    "    )\n",
    ")"
   ]
  },
  {
   "cell_type": "code",
   "execution_count": 13,
   "metadata": {},
   "outputs": [
    {
     "name": "stdout",
     "output_type": "stream",
     "text": [
      "Loading Data\n",
      "  0.008681 seconds (8.06 k CPU allocations: 317.703 KiB) (1 GPU allocation: 6.305 KiB, 0.62% memmgmt time)\n",
      "\n",
      " Generating Struct\n",
      "  0.508550 seconds (367.91 k CPU allocations: 21.377 MiB, 7.66% gc time) (12 GPU allocations: 4.813 MiB, 29.33% memmgmt time)\n",
      "\n",
      " Loading Force Function\n",
      "  0.000029 seconds (17 CPU allocations: 1.235 KiB)\n",
      "A\n",
      " dding Aggregates from Position\n",
      "  0.013986 seconds (6.82 k CPU allocations: 1.236 MiB) (20 GPU allocations: 4.850 MiB, 3.47% memmgmt time)\n",
      "\n",
      " Simulation\n"
     ]
    },
    {
     "name": "stderr",
     "output_type": "stream",
     "text": [
      "\u001b[32mProgress:   3%|▊                        |  ETA: 0:17:11\u001b[39m:40\u001b[39merror in running finalizer: InterruptException()\n",
      "maybe_collect at /buildworker/worker/package_linux64/build/src/julia_threads.h:313 [inlined]\n",
      "jl_gc_pool_alloc at /buildworker/worker/package_linux64/build/src/gc.c:1204\n",
      "default_stream at /home/nicomosty/.julia/packages/CUDA/DfvRa/lib/cudadrv/stream.jl:32 [inlined]\n",
      "unsafe_finalize! at /home/nicomosty/.julia/packages/CUDA/DfvRa/src/array.jl:99\n",
      "_jl_invoke at /buildworker/worker/package_linux64/build/src/gf.c:2237 [inlined]\n",
      "jl_apply_generic at /buildworker/worker/package_linux64/build/src/gf.c:2419\n",
      "jl_apply at /buildworker/worker/package_linux64/build/src/julia.h:1703 [inlined]\n",
      "run_finalizer at /buildworker/worker/package_linux64/build/src/gc.c:278\n",
      "jl_gc_run_finalizers_in_list at /buildworker/worker/package_linux64/build/src/gc.c:365\n",
      "run_finalizers at /buildworker/worker/package_linux64/build/src/gc.c:394\n",
      "jl_gc_collect at /buildworker/worker/package_linux64/build/src/gc.c:3260\n",
      "gc at ./gcutils.jl:94 [inlined]\n",
      "macro expansion at /home/nicomosty/.julia/packages/CUDA/DfvRa/src/pool.jl:263 [inlined]\n",
      "macro expansion at ./timing.jl:287 [inlined]\n",
      "#_alloc#168 at /home/nicomosty/.julia/packages/CUDA/DfvRa/src/pool.jl:313 [inlined]\n",
      "_alloc##kw at /home/nicomosty/.julia/packages/CUDA/DfvRa/src/pool.jl:309\n",
      "#alloc#167 at /home/nicomosty/.julia/packages/CUDA/DfvRa/src/pool.jl:299 [inlined]\n",
      "alloc at /home/nicomosty/.julia/packages/CUDA/DfvRa/src/pool.jl:295 [inlined]\n",
      "CuArray at /home/nicomosty/.julia/packages/CUDA/DfvRa/src/array.jl:42\n",
      "CuArray at /home/nicomosty/.julia/packages/CUDA/DfvRa/src/array.jl:125 [inlined]\n",
      "CuArray at /home/nicomosty/.julia/packages/CUDA/DfvRa/src/array.jl:136 [inlined]\n",
      "similar at ./abstractarray.jl:785 [inlined]\n",
      "similar at ./abstractarray.jl:784 [inlined]\n",
      "similar at /home/nicomosty/.julia/packages/CUDA/DfvRa/src/broadcast.jl:11 [inlined]\n",
      "copy at /home/nicomosty/.julia/packages/GPUArrays/fqD8z/src/host/broadcast.jl:37 [inlined]\n",
      "materialize at ./broadcast.jl:883\n",
      "unknown function (ip: 0x7fa5eb9af2b1)\n",
      "_jl_invoke at /buildworker/worker/package_linux64/build/src/gf.c:2237 [inlined]\n",
      "jl_apply_generic at /buildworker/worker/package_linux64/build/src/gf.c:2419\n",
      "cui_force at /home/nicomosty/Documentos/Maestria-GitHub/CellAggregate.jl/src/forces.jl:80\n",
      "simulate at ./In[11]:37\n",
      "unknown function (ip: 0x7fa5d4d60202)\n",
      "_jl_invoke at /buildworker/worker/package_linux64/build/src/gf.c:2237 [inlined]\n",
      "jl_apply_generic at /buildworker/worker/package_linux64/build/src/gf.c:2419\n",
      "jl_apply at /buildworker/worker/package_linux64/build/src/julia.h:1703 [inlined]\n",
      "do_call at /buildworker/worker/package_linux64/build/src/interpreter.c:115\n",
      "eval_value at /buildworker/worker/package_linux64/build/src/interpreter.c:204\n",
      "eval_stmt_value at /buildworker/worker/package_linux64/build/src/interpreter.c:155 [inlined]\n",
      "eval_body at /buildworker/worker/package_linux64/build/src/interpreter.c:562\n",
      "jl_interpret_toplevel_thunk at /buildworker/worker/package_linux64/build/src/interpreter.c:670\n",
      "top-level scope at In[13]:16\n",
      "jl_toplevel_eval_flex at /buildworker/worker/package_linux64/build/src/toplevel.c:877\n",
      "jl_toplevel_eval_flex at /buildworker/worker/package_linux64/build/src/toplevel.c:825\n",
      "jl_toplevel_eval_in at /buildworker/worker/package_linux64/build/src/toplevel.c:929\n",
      "eval at ./boot.jl:360 [inlined]\n",
      "include_string at ./loading.jl:1116\n",
      "softscope_include_string at /home/nicomosty/.julia/packages/SoftGlobalScope/u4UzH/src/SoftGlobalScope.jl:65\n",
      "_jl_invoke at /buildworker/worker/package_linux64/build/src/gf.c:2237 [inlined]\n",
      "jl_apply_generic at /buildworker/worker/package_linux64/build/src/gf.c:2419\n",
      "execute_request at /home/nicomosty/.julia/packages/IJulia/AQu2H/src/execute_request.jl:67\n",
      "_jl_invoke at /buildworker/worker/package_linux64/build/src/gf.c:2237 [inlined]\n",
      "jl_apply_generic at /buildworker/worker/package_linux64/build/src/gf.c:2419\n",
      "jl_apply at /buildworker/worker/package_linux64/build/src/julia.h:1703 [inlined]\n",
      "jl_f__call_latest at /buildworker/worker/package_linux64/build/src/builtins.c:719\n",
      "#invokelatest#2 at ./essentials.jl:708 [inlined]\n",
      "invokelatest at ./essentials.jl:706 [inlined]\n",
      "eventloop at /home/nicomosty/.julia/packages/IJulia/AQu2H/src/eventloop.jl:8\n",
      "#15 at ./task.jl:417\n",
      "unknown function (ip: 0x7fa602f37c8c)\n",
      "_jl_invoke at /buildworker/worker/package_linux64/build/src/gf.c:2237 [inlined]\n",
      "jl_apply_generic at /buildworker/worker/package_linux64/build/src/gf.c:2419\n",
      "jl_apply at /buildworker/worker/package_linux64/build/src/julia.h:1703 [inlined]\n",
      "start_task at /buildworker/worker/package_linux64/build/src/task.c:834\n",
      "\u001b[32mProgress:   4%|█                        |  ETA: 0:17:19\u001b[39m"
     ]
    }
   ],
   "source": [
    "println(\"Loading Data\")\n",
    "CUDA.@time X = Float32.(readdlm(\"../../data/init/Sphere/$(Int(parameters.Geometry.R_agg)).xyz\")[3:end,2:end]) |> cu\n",
    "println(\"\\n Generating Struct\")\n",
    "CUDA.@time Agg = Aggregate(Neighbor(50, 12), PositionCell(X));\n",
    "\n",
    "## Var before func\n",
    "println(\"\\n Loading Force Function\")\n",
    "CUDA.@time force(r) =  force_func(parameters.Force::Cubic, r)\n",
    "\n",
    "## Adding Sum of Aggregates\n",
    "println(\"\\n Adding Aggregates from Position\")\n",
    "CUDA.@time SumAgg(Agg::Aggregate, parameters::Model)\n",
    "\n",
    "# Simulating\n",
    "println(\"\\n Simulation\")\n",
    "simulate(true, parameters, Cubic(1.0, 2.0, 3.0), Agg)"
   ]
  }
 ],
 "metadata": {
  "kernelspec": {
   "display_name": "Julia 1.6.7",
   "language": "julia",
   "name": "julia-1.6"
  },
  "language_info": {
   "file_extension": ".jl",
   "mimetype": "application/julia",
   "name": "julia",
   "version": "1.6.7"
  },
  "orig_nbformat": 4,
  "vscode": {
   "interpreter": {
    "hash": "916dbcbb3f70747c44a77c7bcd40155683ae19c65e1c03b4aa3499c5328201f1"
   }
  }
 },
 "nbformat": 4,
 "nbformat_minor": 2
}
