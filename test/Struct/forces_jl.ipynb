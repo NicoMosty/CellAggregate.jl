{
 "cells": [
  {
   "cell_type": "markdown",
   "metadata": {},
   "source": [
    "# Add Dependences"
   ]
  },
  {
   "cell_type": "code",
   "execution_count": 22,
   "metadata": {},
   "outputs": [
    {
     "data": {
      "text/plain": [
       "force_func (generic function with 1 method)"
      ]
     },
     "execution_count": 22,
     "metadata": {},
     "output_type": "execute_result"
    }
   ],
   "source": [
    "include(\"../../src/forces_func.jl\")\n",
    "include(\"../../src/struct_data.jl\")\n",
    "include(\"../../src/test.jl\")\n",
    "include(\"../../src/forces.jl\")\n",
    "include(\"../../src/neighbor.jl\")\n",
    "include(\"../../src/run_event.jl\")\n",
    "\n",
    "@make_struct_func Cubic"
   ]
  },
  {
   "cell_type": "markdown",
   "metadata": {},
   "source": [
    "# Add Data"
   ]
  },
  {
   "cell_type": "code",
   "execution_count": 23,
   "metadata": {},
   "outputs": [
    {
     "data": {
      "text/plain": [
       "Model(Cubic(0.1, 2.0, 3.0), Contractile(1.0e-7), Time(100000.0, 0.1), Neighbor(50, 12), Geometry(9.0, 2), Simulation(200, \"BBB.xyz\"))"
      ]
     },
     "execution_count": 23,
     "metadata": {},
     "output_type": "execute_result"
    }
   ],
   "source": [
    "parameters = Model(\n",
    "    Cubic(\n",
    "        μ₁      = 0.1,\n",
    "        rₘᵢₙ    = 2,\n",
    "        rₘₐₓ    = 3\n",
    "    ),\n",
    "    Contractile(\n",
    "        fₚ      = 0.0000001\n",
    "    ),\n",
    "    Time(\n",
    "        t_f     = 100000, \n",
    "        dt      = 0.1\n",
    "    ),\n",
    "    Neighbor(\n",
    "        n_knn   = 50,\n",
    "        nn      = 12\n",
    "    ),\n",
    "    Geometry(\n",
    "        R_agg   = 9,\n",
    "        num_agg = 2\n",
    "    ),\n",
    "    Simulation(\n",
    "        n_text  = 200,\n",
    "        path    = \"BBB.xyz\"\n",
    "    )\n",
    ")"
   ]
  },
  {
   "cell_type": "code",
   "execution_count": 24,
   "metadata": {},
   "outputs": [
    {
     "data": {
      "text/plain": [
       "force (generic function with 1 method)"
      ]
     },
     "execution_count": 24,
     "metadata": {},
     "output_type": "execute_result"
    }
   ],
   "source": [
    "X = Float32.(readdlm(\"../../data/init/Sphere/$(Int(parameters.Geometry.R_agg)).xyz\")[3:end,2:end]) |> cu\n",
    "Agg = Aggregate(Neighbor(50, 12), PositionCell(X));\n",
    "\n",
    "## Var before func\n",
    "force(r) =  force_func(parameters.Force::Cubic, r)"
   ]
  },
  {
   "cell_type": "code",
   "execution_count": 25,
   "metadata": {},
   "outputs": [
    {
     "data": {
      "text/plain": [
       "simulate (generic function with 2 methods)"
      ]
     },
     "execution_count": 25,
     "metadata": {},
     "output_type": "execute_result"
    }
   ],
   "source": [
    "function simulate(SAVING::Bool, m::Model, p::F, Agg::Aggregate) where F <: ForceType\n",
    "    # Definig Variables for calculing initial variables\n",
    "    global Agg\n",
    "\n",
    "    # Calculating position of every cell on the fusion\n",
    "    p = Progress(Int(m.Time.t_f/m.Time.dt),barlen=25)\n",
    "    for Agg.t in 0:Int(m.Time.t_f/m.Time.dt)\n",
    "\n",
    "        # Saving data in a given time (n_text)\n",
    "        if mod(Agg.t, Int(m.Time.t_f/m.Time.dt/m.Simulation.n_text)) == 0 && SAVING\n",
    "            X_w = Matrix(Agg.Position.X)\n",
    "            open(m.Simulation.path, \"a\") do f\n",
    "                write(f, \"$(size(Agg.Position.X, 1))\\n\")\n",
    "                write(f, \"t=$(Agg.t)\\n\")\n",
    "    #             writedlm(f,hcat(X_f, X_w), ' ')\n",
    "                writedlm(f,hcat(repeat([1.0],size(Agg.Position.X, 1)), X_w), ' ')\n",
    "            end\n",
    "        end\n",
    "\n",
    "        ## LEAPFROG ALGORITHM\n",
    "        if mod(Agg.t,2) == 0\n",
    "            if mod(Agg.t, m.Neighbor.n_knn) == 0 \n",
    "                # Calculating kNN\n",
    "                cu_knn(Agg)\n",
    "            end\n",
    "\n",
    "            # Finding index for random forces in a given time (size(X,1))\n",
    "            if mod(Agg.t, 2*size(Agg.Position.X,1)) == 0 \n",
    "                Agg.Neighbor.rand_idx = getindex.(\n",
    "                    Agg.Neighbor.idx, 1\n",
    "                    )[getindex.(rand(\n",
    "                            2:Agg.ParNeighbor.nn,\n",
    "                            2*size(Agg.Position.X,1)\n",
    "                        ),1),:]\n",
    "            end\n",
    "            # Calculating Forces\n",
    "            cui_force(m.Time, m.Contractile, Agg)\n",
    "        else\n",
    "            Agg.Position.X = Agg.Position.X + Agg.Position.dX * m.Time.dt\n",
    "        end\n",
    "\n",
    "        next!(p)\n",
    "    end\n",
    "end"
   ]
  },
  {
   "cell_type": "code",
   "execution_count": 26,
   "metadata": {},
   "outputs": [
    {
     "name": "stderr",
     "output_type": "stream",
     "text": [
      "\u001b[32mProgress:   6%|█▌                       |  ETA: 0:20:23\u001b[39mm45\u001b[39mm"
     ]
    },
    {
     "ename": "LoadError",
     "evalue": "InterruptException:",
     "output_type": "error",
     "traceback": [
      "InterruptException:",
      "",
      "Stacktrace:",
      " [1] getindex(::CuArray{Float64, 3, CUDA.Mem.DeviceBuffer}, ::Int64, ::Function, ::Function)",
      "   @ GPUArrays ~/.julia/packages/GPUArrays/fqD8z/src/host/indexing.jl:38",
      " [2] cui_force(t::Time, f::Contractile, Agg::Aggregate)",
      "   @ Main ~/Documentos/Maestria-GitHub/CellAggregate.jl/src/forces.jl:86",
      " [3] simulate(SAVING::Bool, m::Model, p::Cubic, Agg::Aggregate)",
      "   @ Main ./In[25]:37",
      " [4] top-level scope",
      "   @ In[26]:1",
      " [5] eval",
      "   @ ./boot.jl:360 [inlined]",
      " [6] include_string(mapexpr::typeof(REPL.softscope), mod::Module, code::String, filename::String)",
      "   @ Base ./loading.jl:1116"
     ]
    }
   ],
   "source": [
    "simulate(true, parameters, Cubic(1.0, 2.0, 3.0), Agg)"
   ]
  }
 ],
 "metadata": {
  "kernelspec": {
   "display_name": "Julia 1.6.7",
   "language": "julia",
   "name": "julia-1.6"
  },
  "language_info": {
   "file_extension": ".jl",
   "mimetype": "application/julia",
   "name": "julia",
   "version": "1.6.7"
  },
  "orig_nbformat": 4,
  "vscode": {
   "interpreter": {
    "hash": "916dbcbb3f70747c44a77c7bcd40155683ae19c65e1c03b4aa3499c5328201f1"
   }
  }
 },
 "nbformat": 4,
 "nbformat_minor": 2
}
