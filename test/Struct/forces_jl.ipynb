{
 "cells": [
  {
   "cell_type": "markdown",
   "metadata": {},
   "source": [
    "# Add Dependences"
   ]
  },
  {
   "cell_type": "code",
   "execution_count": 6,
   "metadata": {},
   "outputs": [
    {
     "data": {
      "text/plain": [
       "force_func (generic function with 1 method)"
      ]
     },
     "execution_count": 6,
     "metadata": {},
     "output_type": "execute_result"
    }
   ],
   "source": [
    "include(\"../../src/forces_func.jl\")\n",
    "include(\"../../src/struct_data.jl\")\n",
    "include(\"../../src/test.jl\")\n",
    "include(\"../../src/forces.jl\")\n",
    "include(\"../../src/neighbor.jl\")\n",
    "include(\"../../src/run_event.jl\")\n",
    "\n",
    "@make_struct_func Cubic"
   ]
  },
  {
   "cell_type": "markdown",
   "metadata": {},
   "source": [
    "# Add Data"
   ]
  },
  {
   "cell_type": "code",
   "execution_count": 7,
   "metadata": {},
   "outputs": [
    {
     "data": {
      "text/plain": [
       "Model(Cubic(0.1, 2.0, 3.0), Contractile(1.0e-7), Time(100000.0, 0.1), Neighbor(50, 12), Geometry(9.0, [0.0 0.0 0.0]), Simulation(200, \"Test.xyz\"))"
      ]
     },
     "execution_count": 7,
     "metadata": {},
     "output_type": "execute_result"
    }
   ],
   "source": [
    "parameters = Model(\n",
    "    Cubic(\n",
    "        μ₁       = 0.1,\n",
    "        rₘᵢₙ     = 2,\n",
    "        rₘₐₓ     = 3\n",
    "    ),\n",
    "    Contractile(\n",
    "        fₚ       = 0.0000001\n",
    "    ),\n",
    "    Time(\n",
    "        t_f      = 100000, \n",
    "        dt       = 0.1\n",
    "    ),\n",
    "    Neighbor(\n",
    "        n_knn    = 50,\n",
    "        nn       = 12\n",
    "    ),\n",
    "    Geometry(\n",
    "        R_agg    = 9,\n",
    "        position = [\n",
    "            0.0    0.0    0.0\n",
    "        ]\n",
    "    ),\n",
    "    Simulation(\n",
    "        n_text   = 200,\n",
    "        path     = \"Test.xyz\"\n",
    "    )\n",
    ")"
   ]
  },
  {
   "cell_type": "code",
   "execution_count": 8,
   "metadata": {},
   "outputs": [
    {
     "name": "stdout",
     "output_type": "stream",
     "text": [
      "Loading Data\n",
      "  0.774219 seconds (2.55 M CPU allocations: 148.087 MiB, 3.54% gc time) (1 GPU allocation: 6.305 KiB, 8.36% memmgmt time)\n",
      "\n",
      " Generating Struct\n",
      "  0.915642 seconds (2.30 M CPU allocations: 134.801 MiB, 3.08% gc time) (12 GPU allocations: 4.813 MiB, 0.01% memmgmt time)\n",
      "\n",
      " Loading Force Function\n",
      "  0.000024 seconds (24 CPU allocations: 1.634 KiB)\n",
      "\n",
      " Adding Aggregates from Position\n",
      " 14.415989 seconds (50.37 M CPU allocations: 2.842 GiB, 6.71% gc time) (20 GPU allocations: 4.850 MiB, 0.00% memmgmt time)\n",
      "\n",
      " Simulation\n"
     ]
    },
    {
     "name": "stderr",
     "output_type": "stream",
     "text": [
      "\u001b[32mProgress: 100%|█████████████████████████| Time: 0:03:35\u001b[39mm:25\u001b[39m\n"
     ]
    },
    {
     "name": "stdout",
     "output_type": "stream",
     "text": [
      "215.478274 seconds (759.66 M CPU allocations: 40.708 GiB, 5.26% gc time) (12.70 M GPU allocations: 1.363 TiB, 10.81% memmgmt time)\n"
     ]
    }
   ],
   "source": [
    "println(\"Loading Data\")\n",
    "CUDA.@time X = Float32.(readdlm(\"../../data/init/Sphere/$(Int(parameters.Geometry.R_agg)).xyz\")[3:end,2:end]) |> cu\n",
    "println(\"\\n Generating Struct\")\n",
    "CUDA.@time Agg = Aggregate(Neighbor(50, 12), PositionCell(X));\n",
    "\n",
    "## Var before func\n",
    "println(\"\\n Loading Force Function\")\n",
    "CUDA.@time force(r) =  force_func(parameters.Force::Cubic, r)\n",
    "\n",
    "## Adding Sum of Aggregates\n",
    "println(\"\\n Adding Aggregates from Position\")\n",
    "CUDA.@time SumAgg(Agg::Aggregate, parameters::Model)\n",
    "\n",
    "# Simulating\n",
    "println(\"\\n Simulation\")\n",
    "CUDA.@time simulate(true, parameters, Cubic(1.0, 2.0, 3.0), Agg)"
   ]
  }
 ],
 "metadata": {
  "kernelspec": {
   "display_name": "Julia 1.6.7",
   "language": "julia",
   "name": "julia-1.6"
  },
  "language_info": {
   "file_extension": ".jl",
   "mimetype": "application/julia",
   "name": "julia",
   "version": "1.6.7"
  },
  "orig_nbformat": 4,
  "vscode": {
   "interpreter": {
    "hash": "916dbcbb3f70747c44a77c7bcd40155683ae19c65e1c03b4aa3499c5328201f1"
   }
  }
 },
 "nbformat": 4,
 "nbformat_minor": 2
}
