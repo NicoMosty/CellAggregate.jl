{
 "cells": [
  {
   "cell_type": "markdown",
   "metadata": {},
   "source": [
    "# Add Dependences"
   ]
  },
  {
   "cell_type": "code",
   "execution_count": 1,
   "metadata": {},
   "outputs": [
    {
     "data": {
      "text/plain": [
       "ModelParameters"
      ]
     },
     "execution_count": 1,
     "metadata": {},
     "output_type": "execute_result"
    }
   ],
   "source": [
    "include(\"../../src/test.jl\")\n",
    "include(\"../../src/forces.jl\")\n",
    "include(\"../../src/neighbor.jl\")\n",
    "include(\"../../src/run_event.jl\")\n",
    "include(\"../../src/forces_func.jl\")\n",
    "include(\"../../src/struct_data.jl\")"
   ]
  },
  {
   "cell_type": "markdown",
   "metadata": {},
   "source": [
    "# Add Data"
   ]
  },
  {
   "cell_type": "code",
   "execution_count": 13,
   "metadata": {},
   "outputs": [],
   "source": [
    "parameters = ModelParameters(\n",
    "    Force = Dict(\n",
    "        \"μ\"      => 0.00003, \n",
    "        \"r_max\"  => 3.1,\n",
    "        \"r_min\"  => 2.0,\n",
    "    ),\n",
    "    Contractile = Dict(\n",
    "        \"f_p\"    => 0.00000001\n",
    "    ),\n",
    "    Time = Dict(\n",
    "        \"T_f\" => 100000,\n",
    "        \"dt\"  => 0.1\n",
    "    ),\n",
    "    Neighbor = Dict(\n",
    "        \"n_knn\" => 50,\n",
    "        \"nn\"    => 12\n",
    "    ),\n",
    "    Geometry = Dict(\n",
    "        \"R_agg\"   => 9,\n",
    "        \"num_agg\" => 2\n",
    "    ),\n",
    "    Simulation  = Dict(\n",
    "        \"n_text\" => 200\n",
    "    )\n",
    ");"
   ]
  },
  {
   "cell_type": "code",
   "execution_count": 14,
   "metadata": {},
   "outputs": [
    {
     "data": {
      "text/plain": [
       "force_func{Float64}(3.0e-5, 0.0, 3.1, 2.0, 0.0, 0.0, 0.0, 0.0, var\"#49#50\"())"
      ]
     },
     "execution_count": 14,
     "metadata": {},
     "output_type": "execute_result"
    }
   ],
   "source": [
    "R_agg = parameters.Geometry[\"R_agg\"]\n",
    "X = Float32.(readdlm(\"../../data/init/Sphere/$R_agg.xyz\")[3:end,2:end]) |> cu\n",
    "\n",
    "## Var before func\n",
    "force = force_type(Cubic(),parameters.Force[\"μ\"],parameters.Force[\"r_max\"],parameters.Force[\"r_min\"])"
   ]
  },
  {
   "cell_type": "markdown",
   "metadata": {},
   "source": [
    "## forces.jl -> cu_forces"
   ]
  },
  {
   "cell_type": "code",
   "execution_count": 15,
   "metadata": {},
   "outputs": [
    {
     "data": {
      "text/plain": [
       "cui_force (generic function with 1 method)"
      ]
     },
     "execution_count": 15,
     "metadata": {},
     "output_type": "execute_result"
    }
   ],
   "source": [
    "function cui_force(t, force, fp, nnn)\n",
    "    # Definig Variables for calculing dX\n",
    "    global X; global dX; global idx\n",
    "\n",
    "    # Calculating distance for random forces (contractile)\n",
    "    r_p = X - X[rand_idx[mod(t, size(X,1))+1, :], :]\n",
    "    # Finding Distances/Norm for random forces\n",
    "    dist_p = (sum(r_p .^ 2, dims=2).^ 0.5)\n",
    "\n",
    "    # Finding distances\n",
    "    r = reshape(repeat(X, inner=(nnn,1)), nnn, size(X)[1], 3) - X[getindex.(idx,1),:]\n",
    "\n",
    "    # Finding Distances(Norm)\n",
    "    dist = ((sum(r .^ 2, dims=3)) .^ 0.5)[:,:,1]\n",
    "\n",
    "    # Finding forces for each cell\n",
    "    F = force.f(dist) .* r ./ dist\n",
    "\n",
    "    # Calculating de dX   -> dX[i,:] +=  r/dist * F\n",
    "    dX = sum(F[2:end,:,:]; dims=1)[1,:,:] - fp .* (r_p ./ dist_p)\n",
    "    synchronize()\n",
    "end\n"
   ]
  },
  {
   "cell_type": "markdown",
   "metadata": {},
   "source": [
    "## run_event.jl -> simulate()"
   ]
  },
  {
   "cell_type": "code",
   "execution_count": 16,
   "metadata": {},
   "outputs": [
    {
     "data": {
      "text/plain": [
       "simulate (generic function with 1 method)"
      ]
     },
     "execution_count": 16,
     "metadata": {},
     "output_type": "execute_result"
    }
   ],
   "source": [
    "function simulate(PATH, SAVING, n_text,t_f, dt, force, fp, n_knn, nnn)\n",
    "    # Definig Variables for calculing initial variables\n",
    "    global X \n",
    "    X = X |> cu\n",
    "\n",
    "    # Inizializate Variables for kNN\n",
    "    global i_Cell = CuArray{Float32}(undef, (size(X, 1), size(X, 1), 3))\n",
    "    global Dist = CuArray{Float32}(undef, (size(X, 1), size(X, 1)))\n",
    "    global idx = hcat([[CartesianIndex(i,1) for i=1:nnn] for j=1:size(X,1)]...) |> cu\n",
    "\n",
    "\n",
    "    #Inizializate Variable for random force\n",
    "    global rand_idx = CuArray{Int32}(undef, n_knn, size(X,1))\n",
    "\n",
    "    # Inizializate Variables for Forces\n",
    "    global r = zeros(nnn,size(X)[1],3) |> cu\n",
    "    global r_p = zeros(size(X)) |> cu\n",
    "    global dist = zeros(nnn, size(X)[1]) |> cu\n",
    "    global dist_p = zeros(size(X,1)) |> cu\n",
    "    global F = zeros(nnn, size(X)[1],3) |> cu\n",
    "    global dX = zeros(size(X)[1],3) |> cu;\n",
    "\n",
    "    # Calculating position of every cell on the fusion\n",
    "    p = Progress(Int(t_f/dt),barlen=25)\n",
    "    for t in 0:Int(t_f/dt)\n",
    "\n",
    "        # Saving data in a given time (n_text)\n",
    "        if mod(t, Int(t_f/n_text/dt)) == 0 && SAVING\n",
    "            X_w = Matrix(X)\n",
    "            open(PATH, \"a\") do f\n",
    "                write(f, \"$(size(X, 1))\\n\")\n",
    "                write(f, \"t=$(t*dt)\\n\")\n",
    "                writedlm(f,X_w)\n",
    "                # writedlm(f,hcat(X_f, X_w), ' ')\n",
    "            end\n",
    "        end\n",
    "\n",
    "        ## LEAPFROG ALGORITHM\n",
    "        if mod(t,2) == 0\n",
    "            if mod(t, n_knn) == 0 \n",
    "                # Calculating kNN\n",
    "                cu_knn(nnn)\n",
    "            end\n",
    "\n",
    "            # Finding index for random forces in a given time (size(X,1))\n",
    "            if mod(t, 2*size(X,1)) == 0 \n",
    "                global rand_idx = getindex.(idx, 1)[getindex.(rand(2:nnn,2*size(X,1)) ,1),:]\n",
    "            end\n",
    "            # Calculating Forces\n",
    "            cui_force(t, force, fp, nnn)\n",
    "        else\n",
    "            global X = X + dX*dt\n",
    "        end\n",
    "\n",
    "        next!(p)\n",
    "    end\n",
    "end"
   ]
  },
  {
   "cell_type": "code",
   "execution_count": 17,
   "metadata": {},
   "outputs": [
    {
     "ename": "LoadError",
     "evalue": "UndefVarError: rₘₐₓ not defined",
     "output_type": "error",
     "traceback": [
      "UndefVarError: rₘₐₓ not defined",
      "",
      "Stacktrace:",
      " [1] (::var\"#49#50\")(r::CuArray{Float64, 2, CUDA.Mem.DeviceBuffer})",
      "   @ Main ~/Documentos/Maestria-GitHub/CellAggregate.jl/src/forces_func.jl:11",
      " [2] cui_force(t::Int64, force::force_func{Float64}, fp::Float64, nnn::Int64)",
      "   @ Main ./In[15]:17",
      " [3] simulate(PATH::String, SAVING::Bool, n_text::Int64, t_f::Int64, dt::Float64, force::force_func{Float64}, fp::Float64, n_knn::Int64, nnn::Int64)",
      "   @ Main ./In[16]:50",
      " [4] top-level scope",
      "   @ In[17]:5",
      " [5] eval",
      "   @ ./boot.jl:360 [inlined]",
      " [6] include_string(mapexpr::typeof(REPL.softscope), mod::Module, code::String, filename::String)",
      "   @ Base ./loading.jl:1116"
     ]
    }
   ],
   "source": [
    "time = [parameters.Time[i] for i in [\"T_f\",\"dt\"]]\n",
    "n_text = parameters.Simulation[\"n_text\"]\n",
    "fp = parameters.Contractile[\"f_p\"]\n",
    "neighbor = [parameters.Neighbor[i] for i in [\"n_knn\",\"nn\"]]\n",
    "simulate(\"AAA.xyz\", true, n_text,time..., force, fp, neighbor...)"
   ]
  }
 ],
 "metadata": {
  "kernelspec": {
   "display_name": "Julia 1.6.7",
   "language": "julia",
   "name": "julia-1.6"
  },
  "language_info": {
   "file_extension": ".jl",
   "mimetype": "application/julia",
   "name": "julia",
   "version": "1.6.7"
  },
  "orig_nbformat": 4,
  "vscode": {
   "interpreter": {
    "hash": "916dbcbb3f70747c44a77c7bcd40155683ae19c65e1c03b4aa3499c5328201f1"
   }
  }
 },
 "nbformat": 4,
 "nbformat_minor": 2
}
