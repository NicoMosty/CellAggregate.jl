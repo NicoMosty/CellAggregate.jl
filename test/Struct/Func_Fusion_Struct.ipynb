{
 "cells": [
  {
   "cell_type": "markdown",
   "metadata": {},
   "source": [
    "# Adding Dependeces"
   ]
  },
  {
   "cell_type": "code",
   "execution_count": 4,
   "metadata": {},
   "outputs": [
    {
     "data": {
      "text/plain": [
       "force_func (generic function with 1 method)"
      ]
     },
     "execution_count": 4,
     "metadata": {},
     "output_type": "execute_result"
    }
   ],
   "source": [
    "include(\"../../src/forces_func.jl\")\n",
    "include(\"../../src/struct_data.jl\")\n",
    "include(\"../../src/test.jl\")\n",
    "include(\"../../src/forces.jl\")\n",
    "include(\"../../src/neighbor.jl\")\n",
    "include(\"../../src/run_event.jl\")\n",
    "\n",
    "@make_struct_func Cubic"
   ]
  },
  {
   "cell_type": "code",
   "execution_count": 5,
   "metadata": {},
   "outputs": [
    {
     "data": {
      "text/plain": [
       "Model(Cubic{StepRangeLen{Float64, Base.TwicePrecision{Float64}, Base.TwicePrecision{Float64}}}(0.0001:0.0001:0.0001, 2.0:0.1:2.0, 3.0:0.1:3.0), Contractile{StepRangeLen{Float64, Base.TwicePrecision{Float64}, Base.TwicePrecision{Float64}}}(0.001:0.001:0.001), Time(100000.0, 0.1), Neighbor(100, 100), Geometry(9.0, [1.0 0.0 0.0; 0.0 1.0 0.0]), Simulation(200, \"../../results\", \"CHO\"))"
      ]
     },
     "execution_count": 5,
     "metadata": {},
     "output_type": "execute_result"
    }
   ],
   "source": [
    "parameters = Model(\n",
    "    Cubic(\n",
    "        μ₁        = 0.0001:0.0001:0.0001,\n",
    "        rₘᵢₙ      = 2.0:0.1:2.0,\n",
    "        rₘₐₓ      = 3.0:0.1:3.0\n",
    "    ),\n",
    "    Contractile(\n",
    "        fₚ        = 0.001:0.001:0.001\n",
    "    ),\n",
    "    Time(\n",
    "        t_f       = 100000, \n",
    "        dt        = 0.1\n",
    "    ),\n",
    "    Neighbor(\n",
    "        n_knn     = 100,\n",
    "        nn        = 100\n",
    "    ),\n",
    "    Geometry(\n",
    "        R_agg     = 9,\n",
    "        position  = [\n",
    "            1.0    0.0    0.0;\n",
    "            0.0    1.0    0.0\n",
    "        ]\n",
    "    ),\n",
    "    Simulation(\n",
    "        n_text    = 200,\n",
    "        path      = \"../../results\",\n",
    "        name_cell = \"CHO\"\n",
    "    )\n",
    ")"
   ]
  },
  {
   "cell_type": "markdown",
   "metadata": {},
   "source": [
    "## Initial Conditions"
   ]
  },
  {
   "cell_type": "code",
   "execution_count": 8,
   "metadata": {},
   "outputs": [
    {
     "ename": "LoadError",
     "evalue": "syntax: Global method definition around In[8]:12 needs to be placed at the top level, or use \"eval\".",
     "output_type": "error",
     "traceback": [
      "syntax: Global method definition around In[8]:12 needs to be placed at the top level, or use \"eval\".",
      "",
      "Stacktrace:",
      " [1] top-level scope",
      "   @ In[8]:1",
      " [2] eval",
      "   @ ./boot.jl:360 [inlined]",
      " [3] include_string(mapexpr::typeof(REPL.softscope), mod::Module, code::String, filename::String)",
      "   @ Base ./loading.jl:1116"
     ]
    }
   ],
   "source": [
    "function run_all(parameters)\n",
    "    # Testing all the conditions of the fusion\n",
    "    iter = vcat(\n",
    "        [eval(:(parameters.Contractile.$s)) for s in fieldnames(Contractile)],\n",
    "        [eval(:(parameters.Force.$s)) for s in fieldnames(typeof(parameters.Force))]\n",
    "    )\n",
    "    for k in Iterators.product(iter...)\n",
    "        # Iterated Parameters\n",
    "        it_contractile = Contractile(k[1])\n",
    "        it_force = Cubic(k[2:end]...)\n",
    "        # force(r) =  force_func(it_force::typeof(it_force), r)\n",
    "        force(r) =  force_func(it_force, r)\n",
    "        \n",
    "        # Initial Data\n",
    "        global Agg = (\n",
    "            Aggregate(\n",
    "                Neighbor(50, 12), \n",
    "                PositionCell(\n",
    "                    # Loading Data\n",
    "                    Float32.(readdlm(\"../../data/init/Sphere/$(Int(parameters.Geometry.R_agg)).xyz\")[3:end,2:end]) |> cu\n",
    "                )\n",
    "            )\n",
    "        )\n",
    "\n",
    "        # Generating the Path\n",
    "        if size(parameters.Geometry.position, 1) == 1\n",
    "            NumAgg = \"OneAgg\"\n",
    "        else\n",
    "            NumAgg = \"Fusion\"\n",
    "        end\n",
    "        name_force = [\"$(fieldnames(typeof(parameters.Force))[i])_$(eval(:($it_force.$(fieldnames(typeof(parameters.Force))[i]))))\" for i in 1:3]\n",
    "        name_contractile = [\"fₚ_$(it_contractile.fₚ)\"]\n",
    "        Path = join(\n",
    "            [\n",
    "                parameters.Simulation.path, \n",
    "                parameters.Simulation.name_cell, \n",
    "                NumAgg,\n",
    "                \"R_Agg_$(parameters.Geometry.R_agg)\",\n",
    "                \"T_$(parameters.Time.t_f)_dT_$(parameters.Time.dt)\",\n",
    "                \"nn_$(parameters.Neighbor.nn)_t_knn_$(parameters.Neighbor.n_knn)\",\n",
    "                join(name_force[end-1:end], \"_\"),\n",
    "                join(name_force[1:end-2], \"_\")\n",
    "            ], \n",
    "            \"/\"\n",
    "        )\n",
    "        File = join(\n",
    "            [\n",
    "                \"R_Agg_$(parameters.Geometry.R_agg)\",\n",
    "                \"T_$(parameters.Time.t_f)_dT_$(parameters.Time.dt)\",\n",
    "                \"nn_$(parameters.Neighbor.nn)_t_knn_$(parameters.Neighbor.n_knn)\",\n",
    "                join(name_force[end-1:end], \"_\"),\n",
    "                join([name_contractile[1], name_force[1:end-2][1]], \"_\")\n",
    "            ], \n",
    "            \"|\"\n",
    "        )*\".xyz\"\n",
    "        \n",
    "        for i in size(split(Path,\"/\"),1)-6:size(split(Path,\"/\"),1)\n",
    "            if !isdir(join(split(Path,\"/\")[1:i], \"/\"))\n",
    "                mkdir(join(split(Path,\"/\")[1:i], \"/\"))\n",
    "            end\n",
    "        end\n",
    "\n",
    "        # Calculating all above\n",
    "        println(\"---------------------------------------------------------------\")\n",
    "        println(\"Calculating \"*File*\"\\nfor $(size(parameters.Geometry.position, 1)) Aggregate(s)\")\n",
    "\n",
    "        # if File in readdir(Path)\n",
    "        #     if countlines(Path*\"/\"*File) < (2*size(Agg.Position.X,1)+2)*(parameters.Simulation.n_text+1)\n",
    "        #         println(\"Calculated with less data. Recalculating\")\n",
    "        #         rm(Path*\"/\"*File)\n",
    "        #         if size(parameters.Geometry.position, 1) == 1\n",
    "        #             one_aggregate(Path*\"/\"*File, true, parameters, it_contractile, Agg)\n",
    "        #         else\n",
    "        #             fusion(Path*\"/\"*File, true, parameters, it_contractile, Agg)\n",
    "        #         end\n",
    "        #     else\n",
    "        #         println(\"This is already calculated\")           \n",
    "        #     end\n",
    "        # else\n",
    "            if size(parameters.Geometry.position, 1) == 1\n",
    "                one_aggregate(Path*\"/\"*File, true, parameters, it_contractile, Agg)\n",
    "            else\n",
    "                fusion(Path*\"/\"*File, true, parameters, it_contractile, Agg)\n",
    "            end\n",
    "        # end\n",
    "        \n",
    "    end\n",
    "end\n",
    "run_all(parameters)"
   ]
  }
 ],
 "metadata": {
  "kernelspec": {
   "display_name": "Julia 1.6.7",
   "language": "julia",
   "name": "julia-1.6"
  },
  "language_info": {
   "file_extension": ".jl",
   "mimetype": "application/julia",
   "name": "julia",
   "version": "1.6.7"
  },
  "orig_nbformat": 4,
  "vscode": {
   "interpreter": {
    "hash": "916dbcbb3f70747c44a77c7bcd40155683ae19c65e1c03b4aa3499c5328201f1"
   }
  }
 },
 "nbformat": 4,
 "nbformat_minor": 2
}
