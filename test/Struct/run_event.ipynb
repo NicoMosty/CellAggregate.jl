{
 "cells": [
  {
   "cell_type": "markdown",
   "metadata": {},
   "source": [
    "# Add Dependences"
   ]
  },
  {
   "cell_type": "code",
   "execution_count": 31,
   "metadata": {},
   "outputs": [
    {
     "data": {
      "text/plain": [
       "force_func (generic function with 1 method)"
      ]
     },
     "execution_count": 31,
     "metadata": {},
     "output_type": "execute_result"
    }
   ],
   "source": [
    "include(\"../../src/forces_func.jl\")\n",
    "include(\"../../src/struct_data.jl\")\n",
    "include(\"../../src/test.jl\")\n",
    "include(\"../../src/forces.jl\")\n",
    "include(\"../../src/neighbor.jl\")\n",
    "include(\"../../src/run_event.jl\")\n",
    "\n",
    "@make_struct_func Cubic"
   ]
  },
  {
   "cell_type": "markdown",
   "metadata": {},
   "source": [
    "# Add Data"
   ]
  },
  {
   "cell_type": "code",
   "execution_count": 32,
   "metadata": {},
   "outputs": [
    {
     "name": "stdout",
     "output_type": "stream",
     "text": [
      "\n",
      " Loading Force Function\n",
      "  0.000026 seconds (17 CPU allocations: 1.237 KiB)\n"
     ]
    },
    {
     "data": {
      "text/plain": [
       "force (generic function with 1 method)"
      ]
     },
     "execution_count": 32,
     "metadata": {},
     "output_type": "execute_result"
    }
   ],
   "source": [
    "parameters = Model(\n",
    "    Cubic(\n",
    "        μ₁      = 0.05,\n",
    "        rₘᵢₙ    = 2,\n",
    "        rₘₐₓ    = 3\n",
    "    ),\n",
    "    Contractile(\n",
    "        fₚ       = 0.1\n",
    "    ),\n",
    "    Time(\n",
    "        t_f      = 100000, \n",
    "        dt       = 0.1\n",
    "    ),\n",
    "    Neighbor(\n",
    "        n_knn    = 100,\n",
    "        nn       = 100\n",
    "    ),\n",
    "    Geometry(\n",
    "        R_agg    = 9,\n",
    "        position = [\n",
    "            0.0    0.0    0.0;\n",
    "            0.0    0.0    0.0\n",
    "        ]\n",
    "    ),\n",
    "    Simulation(\n",
    "        n_text   = 200,\n",
    "        path     = \"Fusion.xyz\"\n",
    "    )\n",
    ")\n",
    "\n",
    "## Var before func\n",
    "println(\"\\n Loading Force Function\")\n",
    "CUDA.@time force(r) =  force_func(parameters.Force::Cubic, r)"
   ]
  },
  {
   "cell_type": "markdown",
   "metadata": {},
   "source": [
    "## Starting Data"
   ]
  },
  {
   "cell_type": "code",
   "execution_count": 33,
   "metadata": {},
   "outputs": [
    {
     "name": "stdout",
     "output_type": "stream",
     "text": [
      "  0.012318 seconds (8.06 k CPU allocations: 317.672 KiB) (1 GPU allocation: 6.305 KiB, 0.10% memmgmt time)\n"
     ]
    },
    {
     "data": {
      "text/plain": [
       "538×3 CuArray{Float32, 2, CUDA.Mem.DeviceBuffer}:\n",
       " -1.5  -4.62  -7.35\n",
       "  0.5  -4.62  -7.35\n",
       " -2.5  -2.89  -7.35\n",
       " -0.5  -2.89  -7.35\n",
       "  1.5  -2.89  -7.35\n",
       "  3.5  -2.89  -7.35\n",
       " -3.5  -1.15  -7.35\n",
       " -1.5  -1.15  -7.35\n",
       "  0.5  -1.15  -7.35\n",
       "  2.5  -1.15  -7.35\n",
       "  4.5  -1.15  -7.35\n",
       " -4.5   0.58  -7.35\n",
       " -2.5   0.58  -7.35\n",
       "  ⋮           \n",
       "  3.5  -0.58   7.35\n",
       " -3.5   1.15   7.35\n",
       " -1.5   1.15   7.35\n",
       "  0.5   1.15   7.35\n",
       "  2.5   1.15   7.35\n",
       "  4.5   1.15   7.35\n",
       " -2.5   2.89   7.35\n",
       " -0.5   2.89   7.35\n",
       "  1.5   2.89   7.35\n",
       "  3.5   2.89   7.35\n",
       " -1.5   4.62   7.35\n",
       "  0.5   4.62   7.35"
      ]
     },
     "execution_count": 33,
     "metadata": {},
     "output_type": "execute_result"
    }
   ],
   "source": [
    "# Loading Data\n",
    "# CUDA.@time X = Float32.(readdlm(\"$(Int(parameters.Geometry.R_agg)).xyz\")[3:end,2:end]) |> cu\n",
    "CUDA.@time  X = Float32.(readdlm(\"../../data/init/Sphere/$(Int(parameters.Geometry.R_agg)).xyz\")[3:end,2:end]) |> cu"
   ]
  },
  {
   "cell_type": "code",
   "execution_count": 34,
   "metadata": {},
   "outputs": [
    {
     "name": "stdout",
     "output_type": "stream",
     "text": [
      "  0.122834 seconds (345.18 k CPU allocations: 20.681 MiB) (12 GPU allocations: 4.813 MiB, 0.05% memmgmt time)\n"
     ]
    }
   ],
   "source": [
    "# Generating Struct\n",
    "CUDA.@time Agg = Aggregate(Neighbor(50, 12), PositionCell(X));"
   ]
  },
  {
   "cell_type": "markdown",
   "metadata": {},
   "source": [
    "## run_event -> one_aggregate"
   ]
  },
  {
   "cell_type": "code",
   "execution_count": 35,
   "metadata": {},
   "outputs": [],
   "source": [
    "# # Simulation One Aggregate\n",
    "# CUDA.@time one_aggregate(true, parameters, Cubic(1.0, 2.0, 3.0), Agg)"
   ]
  },
  {
   "cell_type": "markdown",
   "metadata": {},
   "source": [
    "## run_event -> fusion"
   ]
  },
  {
   "cell_type": "code",
   "execution_count": 36,
   "metadata": {},
   "outputs": [
    {
     "name": "stdout",
     "output_type": "stream",
     "text": [
      "Finding Equilibrium in one Aggregate\n"
     ]
    },
    {
     "name": "stderr",
     "output_type": "stream",
     "text": [
      "\u001b[32mProgress: 100%|█████████████████████████| Time: 0:02:52\u001b[39mm\n"
     ]
    },
    {
     "name": "stdout",
     "output_type": "stream",
     "text": [
      "Finding Equilibrium in two Aggregate\n"
     ]
    },
    {
     "name": "stderr",
     "output_type": "stream",
     "text": [
      "\u001b[32mProgress: 100%|█████████████████████████| Time: 0:09:49\u001b[39m\n"
     ]
    },
    {
     "name": "stdout",
     "output_type": "stream",
     "text": [
      "762.814998 seconds (1.42 G CPU allocations: 88.494 GiB, 2.82% gc time) (27.72 M GPU allocations: 11.676 TiB, 14.24% memmgmt time)\n"
     ]
    }
   ],
   "source": [
    "# Simulating Two Aggregate\n",
    "CUDA.@time fusion(true, parameters, Cubic(100, 2.0, 3.0), Agg)"
   ]
  }
 ],
 "metadata": {
  "kernelspec": {
   "display_name": "Julia 1.6.7",
   "language": "julia",
   "name": "julia-1.6"
  },
  "language_info": {
   "file_extension": ".jl",
   "mimetype": "application/julia",
   "name": "julia",
   "version": "1.6.7"
  },
  "orig_nbformat": 4,
  "vscode": {
   "interpreter": {
    "hash": "916dbcbb3f70747c44a77c7bcd40155683ae19c65e1c03b4aa3499c5328201f1"
   }
  }
 },
 "nbformat": 4,
 "nbformat_minor": 2
}
