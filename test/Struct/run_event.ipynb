{
 "cells": [
  {
   "cell_type": "markdown",
   "metadata": {},
   "source": [
    "# Add Dependences"
   ]
  },
  {
   "cell_type": "code",
   "execution_count": 1,
   "metadata": {},
   "outputs": [
    {
     "data": {
      "text/plain": [
       "force_func (generic function with 1 method)"
      ]
     },
     "execution_count": 1,
     "metadata": {},
     "output_type": "execute_result"
    }
   ],
   "source": [
    "include(\"../../src/forces_func.jl\")\n",
    "include(\"../../src/struct_data.jl\")\n",
    "include(\"../../src/test.jl\")\n",
    "include(\"../../src/forces.jl\")\n",
    "include(\"../../src/neighbor.jl\")\n",
    "include(\"../../src/run_event.jl\")\n",
    "\n",
    "@make_struct_func Cubic"
   ]
  },
  {
   "cell_type": "markdown",
   "metadata": {},
   "source": [
    "# Add Data"
   ]
  },
  {
   "cell_type": "code",
   "execution_count": 2,
   "metadata": {},
   "outputs": [
    {
     "name": "stdout",
     "output_type": "stream",
     "text": [
      "\n",
      " Loading Force Function\n",
      "  0.000051 seconds (26 CPU allocations: 1.714 KiB)\n"
     ]
    },
    {
     "data": {
      "text/plain": [
       "force (generic function with 1 method)"
      ]
     },
     "execution_count": 2,
     "metadata": {},
     "output_type": "execute_result"
    }
   ],
   "source": [
    "parameters = Model(\n",
    "    Cubic(\n",
    "        μ₁       = 0.1,\n",
    "        rₘᵢₙ     = 2,\n",
    "        rₘₐₓ     = 3\n",
    "    ),\n",
    "    Contractile(\n",
    "        fₚ       = 0.0000001\n",
    "    ),\n",
    "    Time(\n",
    "        t_f      = 100000, \n",
    "        dt       = 0.1\n",
    "    ),\n",
    "    Neighbor(\n",
    "        n_knn    = 50,\n",
    "        nn       = 12\n",
    "    ),\n",
    "    Geometry(\n",
    "        R_agg    = 9,\n",
    "        position = [\n",
    "            0.0    0.0    0.0\n",
    "        ]\n",
    "    ),\n",
    "    Simulation(\n",
    "        n_text   = 200,\n",
    "        path     = \"Test-fusion.xyz\"\n",
    "    )\n",
    ")\n",
    "\n",
    "## Var before func\n",
    "println(\"\\n Loading Force Function\")\n",
    "CUDA.@time force(r) =  force_func(parameters.Force::Cubic, r)"
   ]
  },
  {
   "cell_type": "markdown",
   "metadata": {},
   "source": [
    "## Starting Data"
   ]
  },
  {
   "cell_type": "code",
   "execution_count": 3,
   "metadata": {},
   "outputs": [
    {
     "name": "stdout",
     "output_type": "stream",
     "text": [
      "  1.725348 seconds (2.28 M CPU allocations: 132.495 MiB, 3.40% gc time) (1 GPU allocation: 6.305 KiB, 3.03% memmgmt time)\n",
      "  2.364483 seconds (2.30 M CPU allocations: 134.826 MiB, 2.33% gc time) (12 GPU allocations: 4.813 MiB, 0.05% memmgmt time)\n"
     ]
    }
   ],
   "source": [
    "# Loading Data\n",
    "CUDA.@time X = Float32.(readdlm(\"../../data/init/Sphere/$(Int(parameters.Geometry.R_agg)).xyz\")[3:end,2:end]) |> cu\n",
    "# Generating Struct\n",
    "CUDA.@time Agg = Aggregate(Neighbor(50, 12), PositionCell(X));"
   ]
  },
  {
   "cell_type": "markdown",
   "metadata": {},
   "source": [
    "## run_event -> one_aggregate"
   ]
  },
  {
   "cell_type": "code",
   "execution_count": 4,
   "metadata": {},
   "outputs": [],
   "source": [
    "# Simulation One Aggregate\n",
    "# CUDA.@time one_aggregate(true, parameters, Cubic(1.0, 2.0, 3.0), Agg)"
   ]
  },
  {
   "cell_type": "markdown",
   "metadata": {},
   "source": [
    "## run_event -> fusion"
   ]
  },
  {
   "cell_type": "code",
   "execution_count": 5,
   "metadata": {},
   "outputs": [
    {
     "name": "stdout",
     "output_type": "stream",
     "text": [
      "Finding Equilibrium in one Aggregate\n"
     ]
    },
    {
     "name": "stderr",
     "output_type": "stream",
     "text": [
      "\u001b[32mProgress:   1%|▍                        |  ETA: 2:16:30\u001b[39mm02\u001b[39mmerror in running finalizer: InterruptException()\n",
      "maybe_collect at /buildworker/worker/package_linux64/build/src/julia_threads.h:313 [inlined]\n",
      "jl_gc_pool_alloc at /buildworker/worker/package_linux64/build/src/gc.c:1204\n",
      "default_stream at /home/nicomosty/.julia/packages/CUDA/DfvRa/lib/cudadrv/stream.jl:32 [inlined]\n",
      "unsafe_finalize! at /home/nicomosty/.julia/packages/CUDA/DfvRa/src/array.jl:99\n",
      "_jl_invoke at /buildworker/worker/package_linux64/build/src/gf.c:2237 [inlined]\n",
      "jl_apply_generic at /buildworker/worker/package_linux64/build/src/gf.c:2419\n",
      "jl_apply at /buildworker/worker/package_linux64/build/src/julia.h:1703 [inlined]\n",
      "run_finalizer at /buildworker/worker/package_linux64/build/src/gc.c:278\n",
      "jl_gc_run_finalizers_in_list at /buildworker/worker/package_linux64/build/src/gc.c:365\n",
      "run_finalizers at /buildworker/worker/package_linux64/build/src/gc.c:394\n",
      "jl_gc_collect at /buildworker/worker/package_linux64/build/src/gc.c:3260\n",
      "gc at ./gcutils.jl:94 [inlined]\n",
      "macro expansion at /home/nicomosty/.julia/packages/CUDA/DfvRa/src/pool.jl:263 [inlined]\n",
      "macro expansion at ./timing.jl:287 [inlined]\n",
      "#_alloc#168 at /home/nicomosty/.julia/packages/CUDA/DfvRa/src/pool.jl:313 [inlined]\n",
      "_alloc##kw at /home/nicomosty/.julia/packages/CUDA/DfvRa/src/pool.jl:309\n",
      "#alloc#167 at /home/nicomosty/.julia/packages/CUDA/DfvRa/src/pool.jl:299 [inlined]\n",
      "alloc at /home/nicomosty/.julia/packages/CUDA/DfvRa/src/pool.jl:295 [inlined]\n",
      "CuArray at /home/nicomosty/.julia/packages/CUDA/DfvRa/src/array.jl:42\n",
      "similar at /home/nicomosty/.julia/packages/CUDA/DfvRa/src/array.jl:166 [inlined]\n",
      "repeat_inner at /home/nicomosty/.julia/packages/GPUArrays/fqD8z/src/host/base.jl:51\n",
      "repeat_inner at /home/nicomosty/.julia/packages/GPUArrays/fqD8z/src/host/base.jl:109 [inlined]\n",
      "repeat_inner_outer at ./abstractarraymath.jl:328 [inlined]\n",
      "#repeat#1 at ./abstractarraymath.jl:269\n",
      "repeat##kw at ./abstractarraymath.jl:267 [inlined]\n",
      "#repeat#190 at ./abstractarraymath.jl:261 [inlined]\n",
      "repeat##kw at ./abstractarraymath.jl:261\n",
      "unknown function (ip: 0x7fbcf1f6bf35)\n",
      "_jl_invoke at /buildworker/worker/package_linux64/build/src/gf.c:2237 [inlined]\n",
      "jl_apply_generic at /buildworker/worker/package_linux64/build/src/gf.c:2419\n",
      "cu_knn at /home/nicomosty/Documentos/Maestria-GitHub/CellAggregate.jl/src/neighbor.jl:19\n",
      "simulate at /home/nicomosty/Documentos/Maestria-GitHub/CellAggregate.jl/src/run_event.jl:42\n",
      "one_aggregate at /home/nicomosty/Documentos/Maestria-GitHub/CellAggregate.jl/src/run_event.jl:76\n",
      "fusion at /home/nicomosty/Documentos/Maestria-GitHub/CellAggregate.jl/src/run_event.jl:86\n",
      "unknown function (ip: 0x7fbd17da4642)\n",
      "_jl_invoke at /buildworker/worker/package_linux64/build/src/gf.c:2237 [inlined]\n",
      "jl_apply_generic at /buildworker/worker/package_linux64/build/src/gf.c:2419\n",
      "macro expansion at /home/nicomosty/.julia/packages/CUDA/DfvRa/src/utilities.jl:25 [inlined]\n",
      "top-level scope at /home/nicomosty/.julia/packages/CUDA/DfvRa/src/pool.jl:490 [inlined]\n",
      "top-level scope at ./In[5]:0\n",
      "jl_toplevel_eval_flex at /buildworker/worker/package_linux64/build/src/toplevel.c:871\n",
      "jl_toplevel_eval_flex at /buildworker/worker/package_linux64/build/src/toplevel.c:825\n",
      "jl_toplevel_eval_in at /buildworker/worker/package_linux64/build/src/toplevel.c:929\n",
      "eval at ./boot.jl:360 [inlined]\n",
      "include_string at ./loading.jl:1116\n",
      "softscope_include_string at /home/nicomosty/.julia/packages/SoftGlobalScope/u4UzH/src/SoftGlobalScope.jl:65\n",
      "_jl_invoke at /buildworker/worker/package_linux64/build/src/gf.c:2237 [inlined]\n",
      "jl_apply_generic at /buildworker/worker/package_linux64/build/src/gf.c:2419\n",
      "execute_request at /home/nicomosty/.julia/packages/IJulia/AQu2H/src/execute_request.jl:67\n",
      "_jl_invoke at /buildworker/worker/package_linux64/build/src/gf.c:2237 [inlined]\n",
      "jl_apply_generic at /buildworker/worker/package_linux64/build/src/gf.c:2419\n",
      "jl_apply at /buildworker/worker/package_linux64/build/src/julia.h:1703 [inlined]\n",
      "jl_f__call_latest at /buildworker/worker/package_linux64/build/src/builtins.c:719\n",
      "#invokelatest#2 at ./essentials.jl:708 [inlined]\n",
      "invokelatest at ./essentials.jl:706 [inlined]\n",
      "eventloop at /home/nicomosty/.julia/packages/IJulia/AQu2H/src/eventloop.jl:8\n",
      "#15 at ./task.jl:417\n",
      "unknown function (ip: 0x7fbd17d37c8c)\n",
      "_jl_invoke at /buildworker/worker/package_linux64/build/src/gf.c:2237 [inlined]\n",
      "jl_apply_generic at /buildworker/worker/package_linux64/build/src/gf.c:2419\n",
      "jl_apply at /buildworker/worker/package_linux64/build/src/julia.h:1703 [inlined]\n",
      "start_task at /buildworker/worker/package_linux64/build/src/task.c:834\n",
      "\u001b[32mProgress:   3%|▋                        |  ETA: 1:22:32\u001b[39m"
     ]
    }
   ],
   "source": [
    "# Simulating Two Aggregate\n",
    "CUDA.@time fusion(true, parameters, Cubic(1.0, 2.0, 3.0), Agg)"
   ]
  }
 ],
 "metadata": {
  "kernelspec": {
   "display_name": "Julia 1.6.7",
   "language": "julia",
   "name": "julia-1.6"
  },
  "language_info": {
   "file_extension": ".jl",
   "mimetype": "application/julia",
   "name": "julia",
   "version": "1.6.7"
  },
  "orig_nbformat": 4,
  "vscode": {
   "interpreter": {
    "hash": "916dbcbb3f70747c44a77c7bcd40155683ae19c65e1c03b4aa3499c5328201f1"
   }
  }
 },
 "nbformat": 4,
 "nbformat_minor": 2
}
