{
 "cells": [
  {
   "cell_type": "markdown",
   "metadata": {},
   "source": [
    "# Add Dependences"
   ]
  },
  {
   "cell_type": "code",
   "execution_count": 88,
   "metadata": {},
   "outputs": [
    {
     "data": {
      "text/plain": [
       "force_func (generic function with 1 method)"
      ]
     },
     "execution_count": 88,
     "metadata": {},
     "output_type": "execute_result"
    }
   ],
   "source": [
    "include(\"../../src/forces_func.jl\")\n",
    "include(\"../../src/struct_data.jl\")\n",
    "include(\"../../src/test.jl\")\n",
    "include(\"../../src/forces.jl\")\n",
    "include(\"../../src/neighbor.jl\")\n",
    "include(\"../../src/run_event.jl\")\n",
    "\n",
    "@make_struct_func Cubic"
   ]
  },
  {
   "cell_type": "markdown",
   "metadata": {},
   "source": [
    "# Add Data"
   ]
  },
  {
   "cell_type": "code",
   "execution_count": 89,
   "metadata": {},
   "outputs": [
    {
     "name": "stdout",
     "output_type": "stream",
     "text": [
      "\n",
      " Loading Force Function\n",
      "  0.000028 seconds (21 CPU allocations: 1.628 KiB)\n"
     ]
    },
    {
     "data": {
      "text/plain": [
       "force (generic function with 1 method)"
      ]
     },
     "execution_count": 89,
     "metadata": {},
     "output_type": "execute_result"
    }
   ],
   "source": [
    "parameters = Model(\n",
    "    Cubic(\n",
    "        μ₁      = 0.05,\n",
    "        rₘᵢₙ    = 2,\n",
    "        rₘₐₓ    = 3\n",
    "    ),\n",
    "    Contractile(\n",
    "        fₚ       = 0.1\n",
    "    ),\n",
    "    Time(\n",
    "        t_f      = 100000, \n",
    "        dt       = 0.1\n",
    "    ),\n",
    "    Neighbor(\n",
    "        n_knn    = 100,\n",
    "        nn       = 100\n",
    "    ),\n",
    "    Geometry(\n",
    "        R_agg    = 9,\n",
    "        position = [\n",
    "            0.0    0.0    0.0;\n",
    "            0.0    0.0    0.0\n",
    "        ]\n",
    "    ),\n",
    "    Simulation(\n",
    "        n_text   = 200,\n",
    "        path     = \"Fusion.xyz\"\n",
    "    )\n",
    ")\n",
    "\n",
    "## Var before func\n",
    "println(\"\\n Loading Force Function\")\n",
    "CUDA.@time force(r) =  force_func(parameters.Force::LennardJones, r)"
   ]
  },
  {
   "cell_type": "markdown",
   "metadata": {},
   "source": [
    "## Starting Data"
   ]
  },
  {
   "cell_type": "code",
   "execution_count": 90,
   "metadata": {},
   "outputs": [
    {
     "name": "stdout",
     "output_type": "stream",
     "text": [
      "  0.021998 seconds (8.06 k CPU allocations: 317.672 KiB) (1 GPU allocation: 6.305 KiB, 0.06% memmgmt time)\n"
     ]
    },
    {
     "data": {
      "text/plain": [
       "538×3 CuArray{Float32, 2, CUDA.Mem.DeviceBuffer}:\n",
       " -1.5  -4.62  -7.35\n",
       "  0.5  -4.62  -7.35\n",
       " -2.5  -2.89  -7.35\n",
       " -0.5  -2.89  -7.35\n",
       "  1.5  -2.89  -7.35\n",
       "  3.5  -2.89  -7.35\n",
       " -3.5  -1.15  -7.35\n",
       " -1.5  -1.15  -7.35\n",
       "  0.5  -1.15  -7.35\n",
       "  2.5  -1.15  -7.35\n",
       "  4.5  -1.15  -7.35\n",
       " -4.5   0.58  -7.35\n",
       " -2.5   0.58  -7.35\n",
       "  ⋮           \n",
       "  3.5  -0.58   7.35\n",
       " -3.5   1.15   7.35\n",
       " -1.5   1.15   7.35\n",
       "  0.5   1.15   7.35\n",
       "  2.5   1.15   7.35\n",
       "  4.5   1.15   7.35\n",
       " -2.5   2.89   7.35\n",
       " -0.5   2.89   7.35\n",
       "  1.5   2.89   7.35\n",
       "  3.5   2.89   7.35\n",
       " -1.5   4.62   7.35\n",
       "  0.5   4.62   7.35"
      ]
     },
     "execution_count": 90,
     "metadata": {},
     "output_type": "execute_result"
    }
   ],
   "source": [
    "# Loading Data\n",
    "# CUDA.@time X = Float32.(readdlm(\"$(Int(parameters.Geometry.R_agg)).xyz\")[3:end,2:end]) |> cu\n",
    "CUDA.@time  X = Float32.(readdlm(\"../../data/init/Sphere/$(Int(parameters.Geometry.R_agg)).xyz\")[3:end,2:end]) |> cu"
   ]
  },
  {
   "cell_type": "code",
   "execution_count": 91,
   "metadata": {},
   "outputs": [
    {
     "name": "stdout",
     "output_type": "stream",
     "text": [
      "  0.129822 seconds (345.44 k CPU allocations: 20.699 MiB) (12 GPU allocations: 4.813 MiB, 0.07% memmgmt time)\n"
     ]
    }
   ],
   "source": [
    "# Generating Struct\n",
    "CUDA.@time Agg = Aggregate(Neighbor(50, 12), PositionCell(X));"
   ]
  },
  {
   "cell_type": "markdown",
   "metadata": {},
   "source": [
    "## run_event -> one_aggregate"
   ]
  },
  {
   "cell_type": "code",
   "execution_count": 92,
   "metadata": {},
   "outputs": [],
   "source": [
    "# # Simulation One Aggregate\n",
    "# CUDA.@time one_aggregate(true, parameters, Cubic(1.0, 2.0, 3.0), Agg)"
   ]
  },
  {
   "cell_type": "markdown",
   "metadata": {},
   "source": [
    "## run_event -> fusion"
   ]
  },
  {
   "cell_type": "code",
   "execution_count": 93,
   "metadata": {},
   "outputs": [
    {
     "name": "stdout",
     "output_type": "stream",
     "text": [
      "Finding Equilibrium in two Aggregate\n"
     ]
    },
    {
     "name": "stderr",
     "output_type": "stream",
     "text": [
      "\u001b[32mProgress:  19%|████▋                    |  ETA: 0:03:16\u001b[39m9:41\u001b[39m"
     ]
    },
    {
     "ename": "LoadError",
     "evalue": "TaskFailedException\n\n\u001b[91m    nested task error: \u001b[39mInterruptException:\n    Stacktrace:\n     [1] \u001b[0m\u001b[1miolock_end\u001b[22m\n    \u001b[90m   @ \u001b[39m\u001b[90m./\u001b[39m\u001b[90;4mlibuv.jl:49\u001b[0m\u001b[90m [inlined]\u001b[39m\n     [2] \u001b[0m\u001b[1mclose\u001b[22m\n    \u001b[90m   @ \u001b[39m\u001b[90m./\u001b[39m\u001b[90;4masyncevent.jl:146\u001b[0m\u001b[90m [inlined]\u001b[39m\n     [3] \u001b[0m\u001b[1mmacro expansion\u001b[22m\n    \u001b[90m   @ \u001b[39m\u001b[90m~/.julia/packages/CUDA/DfvRa/lib/cudadrv/\u001b[39m\u001b[90;4mstream.jl:184\u001b[0m\u001b[90m [inlined]\u001b[39m\n     [4] \u001b[0m\u001b[1m(::CUDA.var\"#15#18\"{Timer, Base.Event})\u001b[22m\u001b[0m\u001b[1m(\u001b[22m\u001b[0m\u001b[1m)\u001b[22m\n    \u001b[90m   @ \u001b[39m\u001b[35mCUDA\u001b[39m \u001b[90m./\u001b[39m\u001b[90;4mthreadingconstructs.jl:169\u001b[0m",
     "output_type": "error",
     "traceback": [
      "TaskFailedException\n\n\u001b[91m    nested task error: \u001b[39mInterruptException:\n    Stacktrace:\n     [1] \u001b[0m\u001b[1miolock_end\u001b[22m\n    \u001b[90m   @ \u001b[39m\u001b[90m./\u001b[39m\u001b[90;4mlibuv.jl:49\u001b[0m\u001b[90m [inlined]\u001b[39m\n     [2] \u001b[0m\u001b[1mclose\u001b[22m\n    \u001b[90m   @ \u001b[39m\u001b[90m./\u001b[39m\u001b[90;4masyncevent.jl:146\u001b[0m\u001b[90m [inlined]\u001b[39m\n     [3] \u001b[0m\u001b[1mmacro expansion\u001b[22m\n    \u001b[90m   @ \u001b[39m\u001b[90m~/.julia/packages/CUDA/DfvRa/lib/cudadrv/\u001b[39m\u001b[90;4mstream.jl:184\u001b[0m\u001b[90m [inlined]\u001b[39m\n     [4] \u001b[0m\u001b[1m(::CUDA.var\"#15#18\"{Timer, Base.Event})\u001b[22m\u001b[0m\u001b[1m(\u001b[22m\u001b[0m\u001b[1m)\u001b[22m\n    \u001b[90m   @ \u001b[39m\u001b[35mCUDA\u001b[39m \u001b[90m./\u001b[39m\u001b[90;4mthreadingconstructs.jl:169\u001b[0m",
      "",
      "Stacktrace:",
      "  [1] sync_end(c::Channel{Any})",
      "    @ Base ./task.jl:369",
      "  [2] macro expansion",
      "    @ ./task.jl:388 [inlined]",
      "  [3] nonblocking_synchronize",
      "    @ ~/.julia/packages/CUDA/DfvRa/lib/cudadrv/stream.jl:164 [inlined]",
      "  [4] (::CUDA.var\"#183#184\"{CartesianIndex{2}, Vector{CartesianIndex{2}}, Int64, CuArray{CartesianIndex{2}, 1, CUDA.Mem.DeviceBuffer}, Int64, Int64})()",
      "    @ CUDA ~/.julia/packages/CUDA/DfvRa/src/array.jl:410",
      "  [5] #context!#63",
      "    @ ~/.julia/packages/CUDA/DfvRa/lib/cudadrv/state.jl:164 [inlined]",
      "  [6] context!",
      "    @ ~/.julia/packages/CUDA/DfvRa/lib/cudadrv/state.jl:161 [inlined]",
      "  [7] unsafe_copyto!(dest::Vector{CartesianIndex{2}}, doffs::Int64, src::CuArray{CartesianIndex{2}, 1, CUDA.Mem.DeviceBuffer}, soffs::Int64, n::Int64)",
      "    @ CUDA ~/.julia/packages/CUDA/DfvRa/src/array.jl:406",
      "  [8] copyto!",
      "    @ ~/.julia/packages/CUDA/DfvRa/src/array.jl:360 [inlined]",
      "  [9] copyto!",
      "    @ ~/.julia/packages/CUDA/DfvRa/src/array.jl:364 [inlined]",
      " [10] copyto_axcheck!",
      "    @ ./abstractarray.jl:1056 [inlined]",
      " [11] Vector{CartesianIndex{2}}(x::CuArray{CartesianIndex{2}, 1, CUDA.Mem.DeviceBuffer})",
      "    @ Base ./array.jl:540",
      " [12] Array",
      "    @ ./boot.jl:472 [inlined]",
      " [13] convert",
      "    @ ./array.jl:532 [inlined]",
      " [14] adapt_storage",
      "    @ ~/.julia/packages/CUDA/DfvRa/src/array.jl:652 [inlined]",
      " [15] adapt_structure",
      "    @ ~/.julia/packages/Adapt/LAQOx/src/Adapt.jl:57 [inlined]",
      " [16] adapt",
      "    @ ~/.julia/packages/Adapt/LAQOx/src/Adapt.jl:40 [inlined]",
      " [17] #194",
      "    @ ~/.julia/packages/CUDA/DfvRa/src/array.jl:659 [inlined]",
      " [18] map",
      "    @ ./tuple.jl:213 [inlined]",
      " [19] view",
      "    @ ~/.julia/packages/CUDA/DfvRa/src/array.jl:659 [inlined]",
      " [20] maybeview",
      "    @ ./views.jl:133 [inlined]",
      " [21] dotview(::CuArray{Float64, 2, CUDA.Mem.DeviceBuffer}, ::CuArray{CartesianIndex{2}, 1, CUDA.Mem.DeviceBuffer})",
      "    @ Base.Broadcast ./broadcast.jl:1212",
      " [22] cu_knn(Agg::Aggregate)",
      "    @ Main ~/Documentos/Maestria-UNAL/CellAggregate.jl/src/neighbor.jl:49",
      " [23] simulate(SAVING::Bool, m::Model, p::LennardJones, Agg::Aggregate)",
      "    @ Main ~/Documentos/Maestria-UNAL/CellAggregate.jl/src/run_event.jl:42",
      " [24] fusion(store::Bool, m::Model, p::LennardJones, Agg::Aggregate)",
      "    @ Main ~/Documentos/Maestria-UNAL/CellAggregate.jl/src/run_event.jl:109",
      " [25] macro expansion",
      "    @ ~/.julia/packages/CUDA/DfvRa/src/utilities.jl:25 [inlined]",
      " [26] top-level scope",
      "    @ ~/.julia/packages/CUDA/DfvRa/src/pool.jl:490 [inlined]",
      " [27] top-level scope",
      "    @ ./In[93]:0",
      " [28] eval",
      "    @ ./boot.jl:360 [inlined]",
      " [29] include_string(mapexpr::typeof(REPL.softscope), mod::Module, code::String, filename::String)",
      "    @ Base ./loading.jl:1116"
     ]
    }
   ],
   "source": [
    "# Simulating Two Aggregate\n",
    "CUDA.@time fusion(true, parameters, Cubic(100, 2.0, 3.0), Agg)"
   ]
  }
 ],
 "metadata": {
  "kernelspec": {
   "display_name": "Julia 1.6.7",
   "language": "julia",
   "name": "julia-1.6"
  },
  "language_info": {
   "file_extension": ".jl",
   "mimetype": "application/julia",
   "name": "julia",
   "version": "1.6.7"
  },
  "orig_nbformat": 4,
  "vscode": {
   "interpreter": {
    "hash": "916dbcbb3f70747c44a77c7bcd40155683ae19c65e1c03b4aa3499c5328201f1"
   }
  }
 },
 "nbformat": 4,
 "nbformat_minor": 2
}
