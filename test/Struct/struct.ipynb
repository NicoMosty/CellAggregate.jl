{
 "cells": [
  {
   "cell_type": "code",
   "execution_count": 5,
   "metadata": {},
   "outputs": [
    {
     "data": {
      "text/plain": [
       "ModelParameters"
      ]
     },
     "execution_count": 5,
     "metadata": {},
     "output_type": "execute_result"
    }
   ],
   "source": [
    "include(\"../../src/forces_func.jl\")\n",
    "include(\"../../src/struct_data.jl\")"
   ]
  },
  {
   "cell_type": "markdown",
   "metadata": {},
   "source": [
    "## Cubic"
   ]
  },
  {
   "cell_type": "code",
   "execution_count": 6,
   "metadata": {},
   "outputs": [
    {
     "name": "stdout",
     "output_type": "stream",
     "text": [
      "Cubic\n",
      "  μ₁: Float64 1.0\n",
      "  rₘᵢₙ: Float64 2.0\n",
      "  rₘₐₓ: Float64 3.0\n"
     ]
    }
   ],
   "source": [
    "@make_struct_func(Cubic)\n",
    "dump(Cubic(1,2,3))"
   ]
  },
  {
   "cell_type": "code",
   "execution_count": 7,
   "metadata": {},
   "outputs": [
    {
     "data": {
      "text/plain": [
       "true"
      ]
     },
     "execution_count": 7,
     "metadata": {},
     "output_type": "execute_result"
    }
   ],
   "source": [
    "Cubic <: ForceType"
   ]
  },
  {
   "cell_type": "code",
   "execution_count": 8,
   "metadata": {},
   "outputs": [
    {
     "data": {
      "text/plain": [
       "6-element Vector{Real}:\n",
       "  3.249\n",
       "  0.7839999999999999\n",
       " -0.08100000000000002\n",
       " -0.09600000000000002\n",
       "  0\n",
       "  0"
      ]
     },
     "execution_count": 8,
     "metadata": {},
     "output_type": "execute_result"
    }
   ],
   "source": [
    "force(r) = force_func(Cubic(1,2,3), r)\n",
    "force(1.1:0.5:4)"
   ]
  },
  {
   "cell_type": "markdown",
   "metadata": {},
   "source": [
    "## GLS"
   ]
  },
  {
   "cell_type": "code",
   "execution_count": 9,
   "metadata": {},
   "outputs": [
    {
     "name": "stdout",
     "output_type": "stream",
     "text": [
      "GLS\n",
      "  μ₁: Float64 1.0\n",
      "  rₘᵢₙ: Float64 2.0\n",
      "  rₘₐₓ: Float64 3.0\n",
      "  α: Float64 1.0\n"
     ]
    }
   ],
   "source": [
    "@make_struct_func(GLS)\n",
    "dump(GLS(1,2,3,1))"
   ]
  },
  {
   "cell_type": "code",
   "execution_count": 10,
   "metadata": {},
   "outputs": [
    {
     "data": {
      "text/plain": [
       "true"
      ]
     },
     "execution_count": 10,
     "metadata": {},
     "output_type": "execute_result"
    }
   ],
   "source": [
    "GLS <: ForceType"
   ]
  },
  {
   "cell_type": "code",
   "execution_count": 11,
   "metadata": {},
   "outputs": [
    {
     "data": {
      "text/plain": [
       "6-element Vector{Real}:\n",
       "  2.3025850929940455\n",
       "  0.5108256237659907\n",
       " -0.09048374180359596\n",
       " -0.3292869816564159\n",
       "  0\n",
       "  0"
      ]
     },
     "execution_count": 11,
     "metadata": {},
     "output_type": "execute_result"
    }
   ],
   "source": [
    "force(r) = force_func(GLS(1,2,3,1), r)\n",
    "force(1.1:0.5:4)"
   ]
  },
  {
   "cell_type": "markdown",
   "metadata": {},
   "source": [
    "## ERROR"
   ]
  },
  {
   "cell_type": "code",
   "execution_count": 12,
   "metadata": {},
   "outputs": [
    {
     "ename": "LoadError",
     "evalue": "LoadError: UNAVALABLE is not in the list\nin expression starting at In[12]:1",
     "output_type": "error",
     "traceback": [
      "LoadError: UNAVALABLE is not in the list\nin expression starting at In[12]:1",
      "",
      "Stacktrace:",
      " [1] error(s::String)",
      "   @ Base ./error.jl:33",
      " [2] list_force_type(name::Symbol)",
      "   @ Main ~/Documentos/Maestria-GitHub/CellAggregate.jl/src/forces_func.jl:42",
      " [3] var\"@make_struct_func\"(__source__::LineNumberNode, __module__::Module, name::Any)",
      "   @ Main ~/Documentos/Maestria-GitHub/CellAggregate.jl/src/struct_data.jl:4",
      " [4] eval",
      "   @ ./boot.jl:360 [inlined]",
      " [5] include_string(mapexpr::typeof(REPL.softscope), mod::Module, code::String, filename::String)",
      "   @ Base ./loading.jl:1116"
     ]
    }
   ],
   "source": [
    "@make_struct_func(UNAVALABLE)\n",
    "dump(UNAVALABLE)"
   ]
  }
 ],
 "metadata": {
  "kernelspec": {
   "display_name": "Julia 1.6.7",
   "language": "julia",
   "name": "julia-1.6"
  },
  "language_info": {
   "file_extension": ".jl",
   "mimetype": "application/julia",
   "name": "julia",
   "version": "1.6.7"
  },
  "orig_nbformat": 4,
  "vscode": {
   "interpreter": {
    "hash": "916dbcbb3f70747c44a77c7bcd40155683ae19c65e1c03b4aa3499c5328201f1"
   }
  }
 },
 "nbformat": 4,
 "nbformat_minor": 2
}
