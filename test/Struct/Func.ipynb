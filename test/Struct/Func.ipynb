{
 "cells": [
  {
   "cell_type": "code",
   "execution_count": 50,
   "metadata": {},
   "outputs": [
    {
     "data": {
      "text/plain": [
       "force_func (generic function with 2 methods)"
      ]
     },
     "execution_count": 50,
     "metadata": {},
     "output_type": "execute_result"
    }
   ],
   "source": [
    "using CUDA\n",
    "\n",
    "\n",
    "include(\"../../src/forces_func.jl\")\n",
    "include(\"../../src/struct_data.jl\")\n",
    "@make_struct_func Cubic"
   ]
  },
  {
   "cell_type": "code",
   "execution_count": 51,
   "metadata": {},
   "outputs": [
    {
     "data": {
      "text/plain": [
       "5×3 CuArray{Float32, 2, CUDA.Mem.DeviceBuffer}:\n",
       " 0.437381  0.354284   0.799408\n",
       " 0.634681  0.49248    0.607669\n",
       " 0.213216  0.413968   0.451693\n",
       " 0.299128  0.0963354  0.619442\n",
       " 0.51427   0.17301    0.735101"
      ]
     },
     "execution_count": 51,
     "metadata": {},
     "output_type": "execute_result"
    }
   ],
   "source": [
    "r = rand(5,3) |> cu"
   ]
  },
  {
   "cell_type": "code",
   "execution_count": 54,
   "metadata": {},
   "outputs": [
    {
     "data": {
      "text/plain": [
       "5×3 CuArray{Float64, 2, CUDA.Mem.DeviceBuffer}:\n",
       " 10.2617   11.5197    5.81399\n",
       "  7.6386    9.47877   7.96866\n",
       " 13.8765   10.6067   10.0545\n",
       " 12.4074   16.0503    7.82371\n",
       "  9.18011  14.6011    6.48864"
      ]
     },
     "execution_count": 54,
     "metadata": {},
     "output_type": "execute_result"
    }
   ],
   "source": [
    "force_func(Cubic(1,2,3), r)"
   ]
  }
 ],
 "metadata": {
  "kernelspec": {
   "display_name": "Julia 1.6.7",
   "language": "julia",
   "name": "julia-1.6"
  },
  "language_info": {
   "file_extension": ".jl",
   "mimetype": "application/julia",
   "name": "julia",
   "version": "1.6.7"
  },
  "orig_nbformat": 4,
  "vscode": {
   "interpreter": {
    "hash": "916dbcbb3f70747c44a77c7bcd40155683ae19c65e1c03b4aa3499c5328201f1"
   }
  }
 },
 "nbformat": 4,
 "nbformat_minor": 2
}
