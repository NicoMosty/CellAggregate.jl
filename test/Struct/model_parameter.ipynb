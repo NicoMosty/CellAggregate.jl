{
 "cells": [
  {
   "cell_type": "code",
   "execution_count": 2,
   "metadata": {},
   "outputs": [
    {
     "data": {
      "text/plain": [
       "SumAgg (generic function with 1 method)"
      ]
     },
     "execution_count": 2,
     "metadata": {},
     "output_type": "execute_result"
    }
   ],
   "source": [
    "using CUDA\n",
    "using DelimitedFiles\n",
    "include(\"../../src/forces_func.jl\")\n",
    "include(\"../../src/struct_data.jl\")"
   ]
  },
  {
   "cell_type": "code",
   "execution_count": 3,
   "metadata": {},
   "outputs": [
    {
     "data": {
      "text/plain": [
       "force_func (generic function with 1 method)"
      ]
     },
     "execution_count": 3,
     "metadata": {},
     "output_type": "execute_result"
    }
   ],
   "source": [
    "@make_struct_func Cubic"
   ]
  },
  {
   "cell_type": "markdown",
   "metadata": {},
   "source": [
    "## Add Data"
   ]
  },
  {
   "cell_type": "code",
   "execution_count": 4,
   "metadata": {},
   "outputs": [
    {
     "data": {
      "text/plain": [
       "Model(Cubic(0.1, 2.0, 3.0), Contractile(1.0e-7), Time(100000.0, 0.1), Neighbor(50, 12), Geometry(9.0, [1 0 0; 0 0 0]), Simulation(200, \"BBB.xyz\"))"
      ]
     },
     "execution_count": 4,
     "metadata": {},
     "output_type": "execute_result"
    }
   ],
   "source": [
    "parameters = Model(\n",
    "    Cubic(\n",
    "        μ₁      = 0.1,\n",
    "        rₘᵢₙ    = 2,\n",
    "        rₘₐₓ    = 3\n",
    "    ),\n",
    "    Contractile(\n",
    "        fₚ      = 0.0000001\n",
    "    ),\n",
    "    Time(\n",
    "        t_f     = 100000, \n",
    "        dt      = 0.1\n",
    "    ),\n",
    "    Neighbor(\n",
    "        n_knn   = 50,\n",
    "        nn      = 50\n",
    "    ),\n",
    "    Geometry(\n",
    "        R_agg   = 9,\n",
    "        position = [\n",
    "            1 0 0;\n",
    "            0 0 0\n",
    "        ]\n",
    "    ),\n",
    "    Simulation(\n",
    "        n_text  = 200,\n",
    "        path    = \"BBB.xyz\"\n",
    "    )\n",
    ")"
   ]
  },
  {
   "cell_type": "code",
   "execution_count": 5,
   "metadata": {},
   "outputs": [],
   "source": [
    "X = Float32.(readdlm(\"../../data/init/Sphere/$(Int(parameters.Geometry.R_agg)).xyz\")[3:end,2:end]) |> cu\n",
    "Agg = Aggregate(Neighbor(50, 12), PositionCell(X));"
   ]
  },
  {
   "cell_type": "code",
   "execution_count": 21,
   "metadata": {},
   "outputs": [
    {
     "data": {
      "text/plain": [
       "force (generic function with 1 method)"
      ]
     },
     "execution_count": 21,
     "metadata": {},
     "output_type": "execute_result"
    }
   ],
   "source": [
    "# Variables for iterator\n",
    "it_force = Cubic(\n",
    "    μ₁      = 0.1,\n",
    "    rₘᵢₙ    = 2,\n",
    "    rₘₐₓ    = 3\n",
    ")\n",
    "it_contractile = Contractile(\n",
    "    fₚ      = 0.0000001\n",
    ")\n",
    "\n",
    "## Var before Iterator\n",
    "force(r) =  force_func(it_force::Cubic, r)"
   ]
  },
  {
   "cell_type": "markdown",
   "metadata": {},
   "source": [
    "## neighbor.jl -> cu_knn()"
   ]
  },
  {
   "cell_type": "code",
   "execution_count": 10,
   "metadata": {},
   "outputs": [
    {
     "data": {
      "text/plain": [
       "cu_knn (generic function with 1 method)"
      ]
     },
     "execution_count": 10,
     "metadata": {},
     "output_type": "execute_result"
    }
   ],
   "source": [
    "function cu_knn(Agg::Aggregate)\n",
    "    # Definig Variables for calculing knn\n",
    "    global Agg\n",
    "    \n",
    "    # Defining Coordinates of each cell on the aggregates\n",
    "    Agg.Neighbor.i_Cell = reshape(\n",
    "                repeat(\n",
    "                    Agg.Position.X, \n",
    "                    size(Agg.Position.X ,1)\n",
    "                ), \n",
    "                size(Agg.Position.X ,1), \n",
    "                size(Agg.Position.X ,1), \n",
    "                3\n",
    "            ) - \n",
    "            reshape(\n",
    "                repeat(\n",
    "                    Agg.Position.X, \n",
    "                    inner=(size(Agg.Position.X ,1),1)\n",
    "                ), \n",
    "                size(Agg.Position.X ,1), \n",
    "                size(Agg.Position.X ,1), \n",
    "                3\n",
    "            )\n",
    "\n",
    "    # Calculating Norm on every cell on the aggregate\n",
    "    Agg.Neighbor.Dist = sqrt.(\n",
    "                Agg.Neighbor.i_Cell[:,:,1] .^ 2 + \n",
    "                Agg.Neighbor.i_Cell[:,:,2] .^ 2 + \n",
    "                Agg.Neighbor.i_Cell[:,:,3] .^ 2\n",
    "                )\n",
    "    # # i_Cell = nothing; GC.gc(true)\n",
    "\n",
    "    # Calculating index of knof each cell in the aggregate\n",
    "    for i = 1:Agg.ParNeighbor.nn\n",
    "        Agg.Neighbor.idx[i,:] = findmin(Agg.Neighbor.Dist; dims=1)[2]\n",
    "        Agg.Neighbor.Dist[Agg.Neighbor.idx[i,:]] .= Inf\n",
    "    end\n",
    "    synchronize()\n",
    "end"
   ]
  },
  {
   "cell_type": "code",
   "execution_count": 13,
   "metadata": {},
   "outputs": [
    {
     "name": "stdout",
     "output_type": "stream",
     "text": [
      "  0.011886 seconds (3.38 k CPU allocations: 270.250 KiB) (60 GPU allocations: 20.244 MiB, 13.14% memmgmt time)\n"
     ]
    },
    {
     "data": {
      "text/plain": [
       "12×538 CuArray{CartesianIndex{2}, 2, CUDA.Mem.DeviceBuffer}:\n",
       " CartesianIndex(1, 1)   CartesianIndex(2, 2)   …  CartesianIndex(538, 538)\n",
       " CartesianIndex(26, 1)  CartesianIndex(27, 2)     CartesianIndex(513, 538)\n",
       " CartesianIndex(3, 1)   CartesianIndex(4, 2)      CartesianIndex(534, 538)\n",
       " CartesianIndex(4, 1)   CartesianIndex(5, 2)      CartesianIndex(535, 538)\n",
       " CartesianIndex(30, 1)  CartesianIndex(31, 2)     CartesianIndex(507, 538)\n",
       " CartesianIndex(31, 1)  CartesianIndex(32, 2)  …  CartesianIndex(508, 538)\n",
       " CartesianIndex(2, 1)   CartesianIndex(1, 2)      CartesianIndex(537, 538)\n",
       " CartesianIndex(25, 1)  CartesianIndex(26, 2)     CartesianIndex(512, 538)\n",
       " CartesianIndex(27, 1)  CartesianIndex(28, 2)     CartesianIndex(514, 538)\n",
       " CartesianIndex(37, 1)  CartesianIndex(38, 2)     CartesianIndex(501, 538)\n",
       " CartesianIndex(77, 1)  CartesianIndex(78, 2)  …  CartesianIndex(461, 538)\n",
       " CartesianIndex(5, 1)   CartesianIndex(3, 2)      CartesianIndex(533, 538)"
      ]
     },
     "execution_count": 13,
     "metadata": {},
     "output_type": "execute_result"
    }
   ],
   "source": [
    "CUDA.@time cu_knn(Agg)\n",
    "Agg.Neighbor.idx"
   ]
  },
  {
   "cell_type": "markdown",
   "metadata": {},
   "source": [
    "## run_event.jl -> simulate() -> rand_idx"
   ]
  },
  {
   "cell_type": "code",
   "execution_count": 15,
   "metadata": {},
   "outputs": [
    {
     "data": {
      "text/plain": [
       "1076×538 CuArray{Int64, 2, CUDA.Mem.DeviceBuffer}:\n",
       " 26  27  30  31  32  33  43  44  45  46  …  496  506  507  508  509  512  513\n",
       " 26  27  30  31  32  33  43  44  45  46     496  506  507  508  509  512  513\n",
       "  4   5  36   2  38  40  12  13  14  15     527  499  538  501  503  534  535\n",
       " 30  31  37  37  39   5  13  14  15  16     531  500  500  502  535  506  507\n",
       "  4   5  36   2  38  40  12  13  14  15     527  499  538  501  503  534  535\n",
       " 30  31  37  37  39   5  13  14  15  16  …  531  500  500  502  535  506  507\n",
       "  5   3  84  32  46  28  91  36  37  38     488  453  508  495  514  535  533\n",
       "  5   3  84  32  46  28  91  36  37  38     488  453  508  495  514  535  533\n",
       " 30  31  37  37  39   5  13  14  15  16     531  500  500  502  535  506  507\n",
       " 25  26   8   5   9  32   3  37  38  39     489  529  535  530  508  511  512\n",
       " 26  27  30  31  32  33  43  44  45  46  …  496  506  507  508  509  512  513\n",
       " 31  32   4  38   4  10   8   7   8   9     503  534  501  534  531  507  508\n",
       " 25  26   8   5   9  32   3  37  38  39     489  529  535  530  508  511  512\n",
       "  ⋮                   ⋮                  ⋱                        ⋮       \n",
       "  3   4   1   1   2  39  44  45  46  47     497  537  537  538  502  533  534\n",
       "  4   5  36   2  38  40  12  13  14  15  …  527  499  538  501  503  534  535\n",
       " 31  32   4  38   4  10   8   7   8   9     503  534  501  534  531  507  508\n",
       " 37  38  31   9  31  47  35   4   5   6     504  507  530  507  496  500  501\n",
       " 37  38  31   9  31  47  35   4   5   6     504  507  530  507  496  500  501\n",
       " 27  28  29   8  10  34  50   3   4   5     502  505  529  531  510  513  514\n",
       " 25  26   8   5   9  32   3  37  38  39  …  489  529  535  530  508  511  512\n",
       "  4   5  36   2  38  40  12  13  14  15     527  499  538  501  503  534  535\n",
       "  4   5  36   2  38  40  12  13  14  15     527  499  538  501  503  534  535\n",
       " 27  28  29   8  10  34  50   3   4   5     502  505  529  531  510  513  514\n",
       " 37  38  31   9  31  47  35   4   5   6     504  507  530  507  496  500  501\n",
       " 25  26   8   5   9  32   3  37  38  39  …  489  529  535  530  508  511  512"
      ]
     },
     "execution_count": 15,
     "metadata": {},
     "output_type": "execute_result"
    }
   ],
   "source": [
    "Agg.Neighbor.rand_idx = getindex.(\n",
    "                            Agg.Neighbor.idx, 1\n",
    "                            )[getindex.(rand(\n",
    "                                    2:Agg.ParNeighbor.nn,\n",
    "                                    2*size(Agg.Position.X,1)\n",
    "                                ),1),:]"
   ]
  },
  {
   "cell_type": "markdown",
   "metadata": {},
   "source": [
    "## forces.jl -> cu_forces"
   ]
  },
  {
   "cell_type": "code",
   "execution_count": 22,
   "metadata": {},
   "outputs": [
    {
     "data": {
      "text/plain": [
       "cu_force (generic function with 1 method)"
      ]
     },
     "execution_count": 22,
     "metadata": {},
     "output_type": "execute_result"
    }
   ],
   "source": [
    "function cu_force(t::Time, f::Contractile, Agg::Aggregate)\n",
    "    # Definig Variables for calculing dX\n",
    "    global Agg\n",
    "\n",
    "    # Calculating distance for random forces (contractile)\n",
    "    Agg.Force.r_p = Agg.Position.X .- \n",
    "                        Agg.Position.X[\n",
    "                            Agg.Neighbor.rand_idx[\n",
    "                                Int.(mod(\n",
    "                                    Agg.t, size(Agg.Position.X, 1)\n",
    "                                ) .+ 1),\n",
    "                            :],\n",
    "                        :]\n",
    "    \n",
    "    # Finding Distances/Norm for random forces\n",
    "    Agg.Force.dist_p = sum(Agg.Force.r_p .^ 2, dims=2).^ 0.5\n",
    "\n",
    "    # Finding distances\n",
    "    Agg.Force.r = reshape(\n",
    "            repeat(Agg.Position.X, inner=(Agg.ParNeighbor.nn,1)), \n",
    "            Agg.ParNeighbor.nn, size(Agg.Position.X)[1], 3\n",
    "        ) .- \n",
    "        Agg.Position.X[getindex.(Agg.Neighbor.idx,1),:]\n",
    "\n",
    "    # Finding Distances(Norm)\n",
    "    Agg.Force.dist = ((sum(Agg.Force.r .^ 2, dims=3)) .^ 0.5)[:,:,1]\n",
    "\n",
    "    # # Finding forces for each cell\n",
    "    Agg.Force.F = force(Agg.Force.dist) .* Agg.Force.r ./ Agg.Force.dist\n",
    "\n",
    "    # # Calculating de dX   -> dX[i,:] +=  r/dist * F\n",
    "    Agg.Position.dX = sum(Agg.Force.F[2:end,:,:]; dims=1)[1,:,:] -                                       \n",
    "                        f.fₚ .* (Agg.Force.r_p ./ Agg.Force.dist_p)\n",
    "    synchronize()\n",
    "end"
   ]
  },
  {
   "cell_type": "code",
   "execution_count": 23,
   "metadata": {},
   "outputs": [
    {
     "data": {
      "text/plain": [
       "538×3 CuArray{Float64, 2, CUDA.Mem.DeviceBuffer}:\n",
       "  0.0          -0.000149285   0.00364663\n",
       "  0.0          -0.000149285   0.00364663\n",
       " -8.91946e-5    0.00149167    0.00364662\n",
       "  5.42101e-20  -0.000372395   0.0022224\n",
       "  8.91946e-5    0.00149167    0.00364662\n",
       "  0.0           0.00133737    0.00364662\n",
       "  0.000338466  -0.000998528   0.00364838\n",
       " -0.00171622   -0.000592169   0.0022497\n",
       " -0.00171622   -0.000592169   0.0022497\n",
       " -0.00171622   -0.000592169   0.0022497\n",
       " -0.000249384  -0.000844242   0.00364838\n",
       " -0.000178415  -0.000271155   0.00352155\n",
       " -0.00171622    0.000724223   0.00212288\n",
       "  ⋮                          \n",
       " -5.01141e-8    0.000271155  -0.00352155\n",
       "  0.000338466   0.000998528  -0.00364838\n",
       " -0.00171622    0.000592169  -0.0022497\n",
       " -0.00171622    0.000592169  -0.0022497\n",
       " -0.00171622    0.000592169  -0.0022497\n",
       " -0.000249384   0.000844242  -0.00364838\n",
       " -8.91946e-5   -0.00149167   -0.00364662\n",
       "  5.42101e-20   0.000372395  -0.0022224\n",
       "  8.91946e-5   -0.00149167   -0.00364662\n",
       "  0.0          -0.00133737   -0.00364662\n",
       "  0.0           0.000149285  -0.00364663\n",
       "  0.0           0.000149285  -0.00364663"
      ]
     },
     "execution_count": 23,
     "metadata": {},
     "output_type": "execute_result"
    }
   ],
   "source": [
    "cu_force(\n",
    "    Time(100000, 0.1),\n",
    "    it_contractile,\n",
    "    Agg\n",
    ")\n",
    "Agg.Position.dX"
   ]
  }
 ],
 "metadata": {
  "kernelspec": {
   "display_name": "Julia 1.6.7",
   "language": "julia",
   "name": "julia-1.6"
  },
  "language_info": {
   "file_extension": ".jl",
   "mimetype": "application/julia",
   "name": "julia",
   "version": "1.6.7"
  },
  "orig_nbformat": 4,
  "vscode": {
   "interpreter": {
    "hash": "916dbcbb3f70747c44a77c7bcd40155683ae19c65e1c03b4aa3499c5328201f1"
   }
  }
 },
 "nbformat": 4,
 "nbformat_minor": 2
}
