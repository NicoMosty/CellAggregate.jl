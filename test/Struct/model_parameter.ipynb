{
 "cells": [
  {
   "cell_type": "code",
   "execution_count": 8,
   "metadata": {},
   "outputs": [
    {
     "data": {
      "text/plain": [
       "Model"
      ]
     },
     "execution_count": 8,
     "metadata": {},
     "output_type": "execute_result"
    }
   ],
   "source": [
    "include(\"../../src/test.jl\")\n",
    "include(\"../../src/forces.jl\")\n",
    "include(\"../../src/neighbor.jl\")\n",
    "include(\"../../src/run_event.jl\")\n",
    "include(\"../../src/forces_func.jl\")\n",
    "include(\"../../src/struct_data.jl\")"
   ]
  },
  {
   "cell_type": "code",
   "execution_count": 9,
   "metadata": {},
   "outputs": [
    {
     "data": {
      "text/plain": [
       "force_func (generic function with 1 method)"
      ]
     },
     "execution_count": 9,
     "metadata": {},
     "output_type": "execute_result"
    }
   ],
   "source": [
    "@make_struct_func Cubic"
   ]
  },
  {
   "cell_type": "markdown",
   "metadata": {},
   "source": [
    "## Add Data"
   ]
  },
  {
   "cell_type": "code",
   "execution_count": 10,
   "metadata": {},
   "outputs": [
    {
     "data": {
      "text/plain": [
       "Model(Cubic(0.1, 2.0, 3.0), Contractile(1.0e-7), Time(100000.0, 0.1), Neighbor(50, 12), Geometry(9.0, 2), Simulation(200))"
      ]
     },
     "execution_count": 10,
     "metadata": {},
     "output_type": "execute_result"
    }
   ],
   "source": [
    "parameters = Model(\n",
    "    Cubic(0.1,2,3),\n",
    "    Contractile(0.0000001),\n",
    "    Time(100000, 0.1),\n",
    "    Neighbor(50,12),\n",
    "    Geometry(9,2),\n",
    "    Simulation(200)\n",
    ")"
   ]
  },
  {
   "cell_type": "code",
   "execution_count": 17,
   "metadata": {},
   "outputs": [
    {
     "data": {
      "text/plain": [
       "force (generic function with 1 method)"
      ]
     },
     "execution_count": 17,
     "metadata": {},
     "output_type": "execute_result"
    }
   ],
   "source": [
    "R_agg = Int(parameters.ParGeometry.R_agg)\n",
    "X = Float32.(readdlm(\"../../data/init/Sphere/$R_agg.xyz\")[3:end,2:end]) |> cu\n",
    "\n",
    "## Var before func\n",
    "force(r) =  force_func(parameters.Force::Cubic, r)"
   ]
  },
  {
   "cell_type": "markdown",
   "metadata": {},
   "source": [
    "## forces.jl -> cu_forces"
   ]
  },
  {
   "cell_type": "code",
   "execution_count": 19,
   "metadata": {},
   "outputs": [
    {
     "data": {
      "text/plain": [
       "cui_force (generic function with 1 method)"
      ]
     },
     "execution_count": 19,
     "metadata": {},
     "output_type": "execute_result"
    }
   ],
   "source": [
    "function cui_force(t::Time, f::Contractile, n::Neighbor)\n",
    "    # Definig Variables for calculing dX\n",
    "    global X; global dX; global idx\n",
    "\n",
    "    # Calculating distance for random forces (contractile)\n",
    "    r_p = X - X[rand_idx[mod(t.t_f, size(X,1))+1, :], :]\n",
    "    # Finding Distances/Norm for random forces\n",
    "    dist_p = (sum(r_p .^ 2, dims=2).^ 0.5)\n",
    "\n",
    "    # Finding distances\n",
    "    r = reshape(repeat(X, inner=(n.nn,1)), n.nn, size(X)[1], 3) - X[getindex.(idx,1),:]\n",
    "\n",
    "    # Finding Distances(Norm)\n",
    "    dist = ((sum(r .^ 2, dims=3)) .^ 0.5)[:,:,1]\n",
    "\n",
    "    # Finding forces for each cell\n",
    "    F = force(dist) .* r ./ dist\n",
    "\n",
    "    # Calculating de dX   -> dX[i,:] +=  r/dist * F\n",
    "    dX = sum(F[2:end,:,:]; dims=1)[1,:,:] - f.fₚ .* (r_p ./ dist_p)\n",
    "    synchronize()\n",
    "end"
   ]
  }
 ],
 "metadata": {
  "kernelspec": {
   "display_name": "Julia 1.6.7",
   "language": "julia",
   "name": "julia-1.6"
  },
  "language_info": {
   "file_extension": ".jl",
   "mimetype": "application/julia",
   "name": "julia",
   "version": "1.6.7"
  },
  "orig_nbformat": 4,
  "vscode": {
   "interpreter": {
    "hash": "916dbcbb3f70747c44a77c7bcd40155683ae19c65e1c03b4aa3499c5328201f1"
   }
  }
 },
 "nbformat": 4,
 "nbformat_minor": 2
}
