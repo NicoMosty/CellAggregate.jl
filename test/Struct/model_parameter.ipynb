{
 "cells": [
  {
   "cell_type": "code",
   "execution_count": 1,
   "metadata": {},
   "outputs": [
    {
     "data": {
      "text/plain": [
       "Aggregate"
      ]
     },
     "execution_count": 1,
     "metadata": {},
     "output_type": "execute_result"
    }
   ],
   "source": [
    "using CUDA\n",
    "using DelimitedFiles\n",
    "include(\"../../src/forces_func.jl\")\n",
    "include(\"../../src/struct_data.jl\")"
   ]
  },
  {
   "cell_type": "code",
   "execution_count": 2,
   "metadata": {},
   "outputs": [
    {
     "data": {
      "text/plain": [
       "force_func (generic function with 1 method)"
      ]
     },
     "execution_count": 2,
     "metadata": {},
     "output_type": "execute_result"
    }
   ],
   "source": [
    "@make_struct_func Cubic"
   ]
  },
  {
   "cell_type": "markdown",
   "metadata": {},
   "source": [
    "## Add Data"
   ]
  },
  {
   "cell_type": "code",
   "execution_count": 3,
   "metadata": {},
   "outputs": [
    {
     "data": {
      "text/plain": [
       "Model(Cubic(0.1, 2.0, 3.0), Contractile(1.0e-7), Time(100000.0, 0.1), Neighbor(50, 12), Geometry(9.0, 2), Simulation(200, \"BBB.xyz\"))"
      ]
     },
     "execution_count": 3,
     "metadata": {},
     "output_type": "execute_result"
    }
   ],
   "source": [
    "parameters = Model(\n",
    "    Cubic(\n",
    "        μ₁      = 0.1,\n",
    "        rₘᵢₙ    = 2,\n",
    "        rₘₐₓ    = 3\n",
    "    ),\n",
    "    Contractile(\n",
    "        fₚ      = 0.0000001\n",
    "    ),\n",
    "    Time(\n",
    "        t_f     = 100000, \n",
    "        dt      = 0.1\n",
    "    ),\n",
    "    Neighbor(\n",
    "        n_knn   = 50,\n",
    "        nn      = 12\n",
    "    ),\n",
    "    Geometry(\n",
    "        R_agg   = 9,\n",
    "        num_agg = 2\n",
    "    ),\n",
    "    Simulation(\n",
    "        n_text  = 200,\n",
    "        path    = \"BBB.xyz\"\n",
    "    )\n",
    ")"
   ]
  },
  {
   "cell_type": "code",
   "execution_count": 4,
   "metadata": {},
   "outputs": [],
   "source": [
    "X = Float32.(readdlm(\"../../data/init/Sphere/$(Int(parameters.Geometry.R_agg)).xyz\")[3:end,2:end]) |> cu\n",
    "Agg = Aggregate(Neighbor(50, 12), PositionCell(X));"
   ]
  },
  {
   "cell_type": "code",
   "execution_count": 5,
   "metadata": {},
   "outputs": [
    {
     "data": {
      "text/plain": [
       "force (generic function with 1 method)"
      ]
     },
     "execution_count": 5,
     "metadata": {},
     "output_type": "execute_result"
    }
   ],
   "source": [
    "## Var before func\n",
    "force(r) =  force_func(parameters.Force::Cubic, r)"
   ]
  },
  {
   "cell_type": "markdown",
   "metadata": {},
   "source": [
    "## neighbor.jl -> cu_knn()"
   ]
  },
  {
   "cell_type": "code",
   "execution_count": 6,
   "metadata": {},
   "outputs": [
    {
     "data": {
      "text/plain": [
       "cu_knn (generic function with 1 method)"
      ]
     },
     "execution_count": 6,
     "metadata": {},
     "output_type": "execute_result"
    }
   ],
   "source": [
    "function cu_knn(Agg::Aggregate)\n",
    "    # Definig Variables for calculing knn\n",
    "    global Agg\n",
    "    \n",
    "    # Defining Coordinates of each cell on the aggregates\n",
    "    Agg.Neighbor.i_Cell = reshape(\n",
    "                repeat(\n",
    "                    Agg.Position.X, \n",
    "                    size(Agg.Position.X ,1)\n",
    "                ), \n",
    "                size(Agg.Position.X ,1), \n",
    "                size(Agg.Position.X ,1), \n",
    "                3\n",
    "            ) - \n",
    "            reshape(\n",
    "                repeat(\n",
    "                    Agg.Position.X, \n",
    "                    inner=(size(Agg.Position.X ,1),1)\n",
    "                ), \n",
    "                size(Agg.Position.X ,1), \n",
    "                size(Agg.Position.X ,1), \n",
    "                3\n",
    "            )\n",
    "\n",
    "    # Calculating Norm on every cell on the aggregate\n",
    "    Agg.Neighbor.Dist = sqrt.(\n",
    "                Agg.Neighbor.i_Cell[:,:,1] .^ 2 + \n",
    "                Agg.Neighbor.i_Cell[:,:,2] .^ 2 + \n",
    "                Agg.Neighbor.i_Cell[:,:,3] .^ 2\n",
    "                )\n",
    "    # # i_Cell = nothing; GC.gc(true)\n",
    "\n",
    "    # Calculating index of knof each cell in the aggregate\n",
    "    for i = 1:Agg.ParNeighbor.nn\n",
    "        Agg.Neighbor.idx[i,:] = findmin(Agg.Neighbor.Dist; dims=1)[2]\n",
    "        Agg.Neighbor.Dist[Agg.Neighbor.idx[i,:]] .= Inf\n",
    "    end\n",
    "    synchronize()\n",
    "end"
   ]
  },
  {
   "cell_type": "code",
   "execution_count": 7,
   "metadata": {},
   "outputs": [
    {
     "ename": "LoadError",
     "evalue": "InterruptException:",
     "output_type": "error",
     "traceback": [
      "InterruptException:",
      "",
      "Stacktrace:",
      " [1] materialize",
      "   @ ./broadcast.jl:883 [inlined]",
      " [2] cu_knn(Agg::Aggregate)",
      "   @ Main ./In[6]:26",
      " [3] macro expansion",
      "   @ ~/.julia/packages/CUDA/DfvRa/src/utilities.jl:25 [inlined]",
      " [4] top-level scope",
      "   @ ~/.julia/packages/CUDA/DfvRa/src/pool.jl:490 [inlined]",
      " [5] top-level scope",
      "   @ ./In[7]:0",
      " [6] eval",
      "   @ ./boot.jl:360 [inlined]",
      " [7] include_string(mapexpr::typeof(REPL.softscope), mod::Module, code::String, filename::String)",
      "   @ Base ./loading.jl:1116"
     ]
    }
   ],
   "source": [
    "CUDA.@time cu_knn(Agg)\n",
    "Agg.Neighbor.idx"
   ]
  },
  {
   "cell_type": "markdown",
   "metadata": {},
   "source": [
    "## run_event.jl -> simulate() -> rand_idx"
   ]
  },
  {
   "cell_type": "code",
   "execution_count": null,
   "metadata": {},
   "outputs": [
    {
     "data": {
      "text/plain": [
       "1076×538 CuArray{Int64, 2, CUDA.Mem.DeviceBuffer}:\n",
       " 27  28  29   8  10  34  50   3   4   5  …  502  505  529  531  510  513  514\n",
       " 25  26   8   5   9  32   3  37  38  39     489  529  535  530  508  511  512\n",
       "  2   1   7   3   6  11  36   9  10  11     536  528  533  536  532  538  537\n",
       " 37  38  31   9  31  47  35   4   5   6     504  507  530  507  496  500  501\n",
       " 30  31  37  37  39   5  13  14  15  16     531  500  500  502  535  506  507\n",
       " 37  38  31   9  31  47  35   4   5   6  …  504  507  530  507  496  500  501\n",
       " 30  31  37  37  39   5  13  14  15  16     531  500  500  502  535  506  507\n",
       " 77  78  44  30  33  87  37  51  52  53     449  493  506  509  456  460  461\n",
       " 31  32   4  38   4  10   8   7   8   9     503  534  501  534  531  507  508\n",
       "  3   4   1   1   2  39  44  45  46  47     497  537  537  538  502  533  534\n",
       "  2   1   7   3   6  11  36   9  10  11  …  536  528  533  536  532  538  537\n",
       " 30  31  37  37  39   5  13  14  15  16     531  500  500  502  535  506  507\n",
       " 26  27  30  31  32  33  43  44  45  46     496  506  507  508  509  512  513\n",
       "  ⋮                   ⋮                  ⋱                        ⋮       \n",
       " 37  38  31   9  31  47  35   4   5   6     504  507  530  507  496  500  501\n",
       " 31  32   4  38   4  10   8   7   8   9  …  503  534  501  534  531  507  508\n",
       " 26  27  30  31  32  33  43  44  45  46     496  506  507  508  509  512  513\n",
       "  3   4   1   1   2  39  44  45  46  47     497  537  537  538  502  533  534\n",
       " 27  28  29   8  10  34  50   3   4   5     502  505  529  531  510  513  514\n",
       " 37  38  31   9  31  47  35   4   5   6     504  507  530  507  496  500  501\n",
       " 30  31  37  37  39   5  13  14  15  16  …  531  500  500  502  535  506  507\n",
       " 77  78  44  30  33  87  37  51  52  53     449  493  506  509  456  460  461\n",
       "  3   4   1   1   2  39  44  45  46  47     497  537  537  538  502  533  534\n",
       "  2   1   7   3   6  11  36   9  10  11     536  528  533  536  532  538  537\n",
       "  3   4   1   1   2  39  44  45  46  47     497  537  537  538  502  533  534\n",
       " 77  78  44  30  33  87  37  51  52  53  …  449  493  506  509  456  460  461"
      ]
     },
     "execution_count": 106,
     "metadata": {},
     "output_type": "execute_result"
    }
   ],
   "source": [
    "Agg.Neighbor.rand_idx = getindex.(\n",
    "                            Agg.Neighbor.idx, 1\n",
    "                            )[getindex.(rand(\n",
    "                                    2:Agg.ParNeighbor.nn,\n",
    "                                    2*size(Agg.Position.X,1)\n",
    "                                ),1),:]"
   ]
  },
  {
   "cell_type": "markdown",
   "metadata": {},
   "source": [
    "## forces.jl -> cu_forces"
   ]
  },
  {
   "cell_type": "code",
   "execution_count": null,
   "metadata": {},
   "outputs": [
    {
     "data": {
      "text/plain": [
       "cui_force (generic function with 1 method)"
      ]
     },
     "execution_count": 107,
     "metadata": {},
     "output_type": "execute_result"
    }
   ],
   "source": [
    "function cui_force(t::Time, f::Contractile, Agg::Aggregate)\n",
    "    # Definig Variables for calculing dX\n",
    "    global Agg\n",
    "\n",
    "    # Calculating distance for random forces (contractile)\n",
    "    Agg.Force.r_p = Agg.Position.X .- \n",
    "                        Agg.Position.X[\n",
    "                            Agg.Neighbor.rand_idx[\n",
    "                                Int.(mod(\n",
    "                                    Agg.t, size(Agg.Position.X, 1)\n",
    "                                ) .+ 1),\n",
    "                            :],\n",
    "                        :]\n",
    "    \n",
    "    # Finding Distances/Norm for random forces\n",
    "    Agg.Force.dist_p = sum(Agg.Force.r_p .^ 2, dims=2).^ 0.5\n",
    "\n",
    "    # Finding distances\n",
    "    Agg.Force.r = reshape(\n",
    "            repeat(Agg.Position.X, inner=(Agg.ParNeighbor.nn,1)), \n",
    "            Agg.ParNeighbor.nn, size(Agg.Position.X)[1], 3\n",
    "        ) .- \n",
    "        Agg.Position.X[getindex.(Agg.Neighbor.idx,1),:]\n",
    "\n",
    "    # Finding Distances(Norm)\n",
    "    Agg.Force.dist = ((sum(Agg.Force.r .^ 2, dims=3)) .^ 0.5)[:,:,1]\n",
    "\n",
    "    # # Finding forces for each cell\n",
    "    Agg.Force.F = force(Agg.Force.dist) .* Agg.Force.r ./ Agg.Force.dist\n",
    "\n",
    "    # # Calculating de dX   -> dX[i,:] +=  r/dist * F\n",
    "    Agg.Position.dX = sum(Agg.Force.F[2:end,:,:]; dims=1)[1,:,:] -                                       \n",
    "                        f.fₚ .* (Agg.Force.r_p ./ Agg.Force.dist_p)\n",
    "    synchronize()\n",
    "end"
   ]
  },
  {
   "cell_type": "code",
   "execution_count": null,
   "metadata": {},
   "outputs": [
    {
     "data": {
      "text/plain": [
       "538×3 CuArray{Float64, 2, CUDA.Mem.DeviceBuffer}:\n",
       "  1.41604e-5   -0.000157369   0.00365809\n",
       "  1.41604e-5   -0.000157369   0.00365809\n",
       " -0.000103355   0.00148359    0.00365808\n",
       " -9.96568e-6   -0.000354997   0.00222232\n",
       "  9.91603e-5    0.00150907    0.00364654\n",
       "  1.41604e-5    0.00132928    0.00365808\n",
       "  0.000338516  -0.000982239   0.00365986\n",
       " -0.00172613   -0.000609538   0.00224962\n",
       " -0.00172613   -0.000609538   0.00224962\n",
       " -0.00172613   -0.000609538   0.00224962\n",
       " -0.000263474  -0.000852472   0.00365982\n",
       " -0.000192505  -0.000279385   0.003533\n",
       " -0.00169617    0.000724194   0.0021228\n",
       "  ⋮                          \n",
       "  0.0           0.00028278   -0.00353777\n",
       "  0.000338516   0.000982239  -0.00365986\n",
       " -0.00172613    0.000609538  -0.00224962\n",
       " -0.00172613    0.000609538  -0.00224962\n",
       " -0.00172613    0.000609538  -0.00224962\n",
       " -0.000263474   0.000852472  -0.00365982\n",
       " -0.000103355  -0.00148359   -0.00365808\n",
       " -9.96568e-6    0.000354997  -0.00222232\n",
       "  9.91603e-5   -0.00150907   -0.00364654\n",
       "  1.41604e-5   -0.00132928   -0.00365808\n",
       "  1.41604e-5    0.000157369  -0.00365809\n",
       "  1.41604e-5    0.000157369  -0.00365809"
      ]
     },
     "execution_count": 108,
     "metadata": {},
     "output_type": "execute_result"
    }
   ],
   "source": [
    "cui_force(\n",
    "    Time(100000, 0.1),\n",
    "    Contractile(0.00002),\n",
    "    Agg\n",
    ")\n",
    "Agg.Position.dX"
   ]
  }
 ],
 "metadata": {
  "kernelspec": {
   "display_name": "Julia 1.6.7",
   "language": "julia",
   "name": "julia-1.6"
  },
  "language_info": {
   "file_extension": ".jl",
   "mimetype": "application/julia",
   "name": "julia",
   "version": "1.6.7"
  },
  "orig_nbformat": 4,
  "vscode": {
   "interpreter": {
    "hash": "916dbcbb3f70747c44a77c7bcd40155683ae19c65e1c03b4aa3499c5328201f1"
   }
  }
 },
 "nbformat": 4,
 "nbformat_minor": 2
}
