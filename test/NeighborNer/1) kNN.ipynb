{
 "cells": [
  {
   "cell_type": "markdown",
   "metadata": {},
   "source": [
    "# Dependences"
   ]
  },
  {
   "cell_type": "code",
   "execution_count": 10,
   "metadata": {},
   "outputs": [
    {
     "data": {
      "text/plain": [
       "nearest_neighbors"
      ]
     },
     "execution_count": 10,
     "metadata": {},
     "output_type": "execute_result"
    }
   ],
   "source": [
    "include(\"../../src/struct_data.jl\")\n",
    "include(\"../../src/neighbor.jl\")"
   ]
  },
  {
   "attachments": {},
   "cell_type": "markdown",
   "metadata": {},
   "source": [
    "# Input Data"
   ]
  },
  {
   "attachments": {},
   "cell_type": "markdown",
   "metadata": {},
   "source": [
    "## Model Parameter"
   ]
  },
  {
   "cell_type": "code",
   "execution_count": 11,
   "metadata": {},
   "outputs": [
    {
     "name": "stdout",
     "output_type": "stream",
     "text": [
      "  0.000000 seconds (4 allocations: 144 bytes)\n",
      "ModelSet\n",
      "  Time: TimeModel\n",
      "    tₛᵢₘ: Float64 10000.0\n",
      "    dt: Float64 0.5\n",
      "    nₖₙₙ: Int64 50\n",
      "    nₛₐᵥₑ: Int64 100\n",
      "  Input: InputModel\n",
      "    outer_ratio: Float64 0.8\n",
      "    path_input: String \"../../data/init/Sphere\"\n",
      "  Output: OutputModel\n",
      "    name_output: String \"Test_1\"\n",
      "    path_output: String \"\"\n"
     ]
    }
   ],
   "source": [
    "@time model = ModelSet(\n",
    "    TimeModel(\n",
    "        tₛᵢₘ  = 10000.0,\n",
    "        dt    = 0.5,\n",
    "        nₖₙₙ  = 50,\n",
    "        nₛₐᵥₑ = 100\n",
    "    ),\n",
    "    InputModel(\n",
    "        outer_ratio = 0.8,\n",
    "        path_input = \"../../data/init/Sphere\"\n",
    "    ),\n",
    "    OutputModel(\n",
    "        name_output = \"Test_1\",\n",
    "        path_output = \"\"\n",
    "    )\n",
    ")\n",
    "dump(model)"
   ]
  },
  {
   "attachments": {},
   "cell_type": "markdown",
   "metadata": {},
   "source": [
    "## Initial Aggregate"
   ]
  },
  {
   "cell_type": "code",
   "execution_count": 44,
   "metadata": {},
   "outputs": [
    {
     "name": "stdout",
     "output_type": "stream",
     "text": [
      "  0.119977 seconds (48.13 k allocations: 295.484 MiB, 15.05% gc time)\n"
     ]
    },
    {
     "data": {
      "text/plain": [
       "Aggregate(AggType[AggType(\"HEK\", InteractionPar(Cubic{Float64}(1.0, 2.0, 3.5), ContractilePar(0.01)), 15.27f0, Float32[-1.5 -4.62 -13.88; 0.5 -4.62 -13.88; … ; 0.5 4.62 13.88; 2.5 4.62 13.88], CuArray{Float32, 2, CUDA.Mem.DeviceBuffer})], AggIndex([1, 1, 1, 1, 1, 1, 1, 1, 1, 1  …  1, 1, 1, 1, 1, 1, 1, 1, 1, 1], [1, 1, 1, 1, 1, 1, 1, 1, 1, 1  …  2, 2, 2, 2, 2, 2, 2, 2, 2, 2], [\"HEK\", \"HEK\", \"HEK\", \"HEK\", \"HEK\", \"HEK\", \"HEK\", \"HEK\", \"HEK\", \"HEK\"  …  \"HEK\", \"HEK\", \"HEK\", \"HEK\", \"HEK\", \"HEK\", \"HEK\", \"HEK\", \"HEK\", \"HEK\"]), Float32[-16.77 -4.62 -13.88; -14.77 -4.62 -13.88; … ; 15.77 4.62 13.88; 17.77 4.62 13.88], AggGeometry(Float32[15.27, 15.27, 15.27, 15.27, 15.27, 15.27, 15.27, 15.27, 15.27, 15.27  …  15.27, 15.27, 15.27, 15.27, 15.27, 15.27, 15.27, 15.27, 15.27, 15.27], [1, 1, 1, 1, 1, 1, 1, 1, 1, 1  …  1, 1, 1, 1, 1, 1, 1, 1, 1, 1]), AggSimulation(AggParameter(Cubic{CuArray{Float32, 1, CUDA.Mem.DeviceBuffer}}(Float32[1.0, 1.0, 1.0, 1.0, 1.0, 1.0, 1.0, 1.0, 1.0, 1.0  …  1.0, 1.0, 1.0, 1.0, 1.0, 1.0, 1.0, 1.0, 1.0, 1.0], Float32[2.0, 2.0, 2.0, 2.0, 2.0, 2.0, 2.0, 2.0, 2.0, 2.0  …  2.0, 2.0, 2.0, 2.0, 2.0, 2.0, 2.0, 2.0, 2.0, 2.0], Float32[3.5, 3.5, 3.5, 3.5, 3.5, 3.5, 3.5, 3.5, 3.5, 3.5  …  3.5, 3.5, 3.5, 3.5, 3.5, 3.5, 3.5, 3.5, 3.5, 3.5]), ContractilePar(Float32[0.01, 0.01, 0.01, 0.01, 0.01, 0.01, 0.01, 0.01, 0.01, 0.01  …  0.01, 0.01, 0.01, 0.01, 0.01, 0.01, 0.01, 0.01, 0.01, 0.01]), Float32[15.27]), AggNeighbor(Int32[0 0 … 0 0; 0 0 … 0 0; … ; 0 0 … 0 0; 0 0 … 0 0], Int32[0 0 … 0 0; 0 0 … 0 0; … ; 0 0 … 0 0; 0 0 … 0 0], Int32[0 0 … 0 0], Int32[0 0 … 0 0; 0 0 … 0 0; … ; 0 0 … 0 0; 0 0 … 0 0]), AggForce(Float32[0.0 0.0 0.0; 0.0 0.0 0.0; … ; 0.0 0.0 0.0; 0.0 0.0 0.0], Float32[0.0 0.0 0.0; 0.0 0.0 0.0; … ; 0.0 0.0 0.0; 0.0 0.0 0.0])))"
      ]
     },
     "execution_count": 44,
     "metadata": {},
     "output_type": "execute_result"
    }
   ],
   "source": [
    "@time @start_agg agg = FusionAggregate(\n",
    "    [\n",
    "        AggType(\n",
    "            \"HEK\", \n",
    "            InteractionPar(\n",
    "                Cubic(1.0,2.0,3.5), \n",
    "                ContractilePar(0.01)\n",
    "            ),\n",
    "            Float64.(readdlm(\"../../data/init/Sphere/15.0.xyz\")[3:end,2:end]) |> cu\n",
    "        )\n",
    "    ], \n",
    "    model\n",
    ")"
   ]
  },
  {
   "attachments": {},
   "cell_type": "markdown",
   "metadata": {},
   "source": [
    "# Program"
   ]
  },
  {
   "cell_type": "code",
   "execution_count": 45,
   "metadata": {},
   "outputs": [],
   "source": [
    "points = agg.Position\n",
    "r_max  = agg.Simulation.Parameter.Force.rₘₐₓ\n",
    "\n",
    "idx    = agg.Simulation.Neighbor.idx_red\n",
    "idx_sum = agg.Simulation.Neighbor.idx_sum\n",
    "dist   = zeros(size(idx)) |> cu\n",
    "\n",
    "force    = agg.Simulation.Force.F\n",
    "ParForce = agg.Simulation.Parameter.Force\n",
    "ParCont  = agg.Simulation.Parameter.Contractile.fₚ\n",
    "outline  = agg.Geometry.outline\n",
    "random = zeros(size(force)) |> cu;"
   ]
  },
  {
   "cell_type": "code",
   "execution_count": 46,
   "metadata": {},
   "outputs": [
    {
     "data": {
      "text/plain": [
       "test_kernel! (generic function with 2 methods)"
      ]
     },
     "execution_count": 46,
     "metadata": {},
     "output_type": "execute_result"
    }
   ],
   "source": [
    "function test_kernel!(idx,idx_sum,dist,points,r_max)\n",
    "    i  = (blockIdx().x-1) * blockDim().x + threadIdx().x\n",
    "\n",
    "    if i <= size(idx,2)\n",
    "\n",
    "        # Cleaning index matrices\n",
    "        idx_sum[i] = 0\n",
    "        for m = 1:size(idx,1)\n",
    "            idx[m,i] = 0\n",
    "        end\n",
    "\n",
    "        for j = 1:size(points,1)\n",
    "            d = euclidean(points,i,j) \n",
    "            if d < r_max[i]\n",
    "                if i != j\n",
    "                    idx_sum[i] += 1\n",
    "                    idx[idx_sum[i],i] = j\n",
    "                    dist[idx_sum[i],i] = d\n",
    "                end\n",
    "            end\n",
    "        end\n",
    "\n",
    "    end\n",
    "    sync_threads()\n",
    "    return nothing\n",
    "end"
   ]
  },
  {
   "cell_type": "code",
   "execution_count": 55,
   "metadata": {},
   "outputs": [
    {
     "name": "stdout",
     "output_type": "stream",
     "text": [
      "  0.000064 seconds (35 allocations: 2.062 KiB)\n"
     ]
    },
    {
     "data": {
      "text/plain": [
       "1×5008 CuArray{Int32, 2, CUDA.Mem.DeviceBuffer}:\n",
       " 19  20  18  19  22  23  23  20  18  …  20  19  22  23  23  20  19  20  18"
      ]
     },
     "metadata": {},
     "output_type": "display_data"
    },
    {
     "data": {
      "text/plain": [
       "39×5008 CuArray{Int32, 2, CUDA.Mem.DeviceBuffer}:\n",
       "  2   1   2   1   1   1   1   2   4  …  4877  4878  4879  4887  4888  4889\n",
       "  4   3   6   5   2   2   2   3   5     4948  4949  4950  4956  4957  4958\n",
       "  5   5   7   9   4   3   3   7  10     4949  4950  4951  4957  4958  4959\n",
       "  6   6   8  10   6   5   6  12  15     4950  4951  4952  4958  4959  4960\n",
       "  7   7  13  11   9   7   8  13  16     4956  4957  4958  4963  4964  4965\n",
       " 11   8  32  15  10  10  11  14  40  …  4957  4958  4959  4964  4965  4966\n",
       " 30  12  33  34  11  11  12  19  41     4958  4959  4960  4965  4966  4967\n",
       " 31  31  37  35  12  12  13  38  48     4959  4960  4961  4966  4967  4968\n",
       " 35  32  38  40  16  13  14  39  49     4964  4965  4966  4971  4972  4973\n",
       " 36  36  39  41  35  17  18  44  50     4965  4966  4967  4972  4973  4974\n",
       " 37  37  43  42  36  36  37  45  56  …  4966  4967  4968  4973  4974  4975\n",
       " 41  38  44  48  41  37  38  46  57     4972  4973  4974  4976  4977  4978\n",
       " 42  42  45  49  42  42  43  52  58     4973  4974  4975  4977  4978  4979\n",
       "  ⋮                   ⋮              ⋱                       ⋮        \n",
       "  0   0   0   0   0   0   0   0   0        0     0     0     0     0     0\n",
       "  0   0   0   0   0   0   0   0   0        0     0     0     0     0     0\n",
       "  0   0   0   0   0   0   0   0   0        0     0     0     0     0     0\n",
       "  0   0   0   0   0   0   0   0   0  …     0     0     0     0     0     0\n",
       "  0   0   0   0   0   0   0   0   0        0     0     0     0     0     0\n",
       "  0   0   0   0   0   0   0   0   0        0     0     0     0     0     0\n",
       "  0   0   0   0   0   0   0   0   0        0     0     0     0     0     0\n",
       "  0   0   0   0   0   0   0   0   0        0     0     0     0     0     0\n",
       "  0   0   0   0   0   0   0   0   0  …     0     0     0     0     0     0\n",
       "  0   0   0   0   0   0   0   0   0        0     0     0     0     0     0\n",
       "  0   0   0   0   0   0   0   0   0        0     0     0     0     0     0\n",
       "  0   0   0   0   0   0   0   0   0        0     0     0     0     0     0"
      ]
     },
     "metadata": {},
     "output_type": "display_data"
    },
    {
     "data": {
      "text/plain": [
       "39×5008 CuArray{Float32, 2, CUDA.Mem.DeviceBuffer}:\n",
       " 2.0      2.0      2.0      3.46308  …  3.27     3.27     3.27     3.27\n",
       " 3.46308  2.0      3.46308  2.0         3.46309  3.46309  3.46309  3.46309\n",
       " 1.99822  3.46308  1.99822  2.00689     2.82719  2.82719  2.82719  2.82719\n",
       " 1.99822  1.99822  1.99822  2.00689     3.46309  3.46309  3.46309  3.46309\n",
       " 3.46308  1.99822  3.47     3.46808     3.46313  3.46313  3.46313  3.46313\n",
       " 3.47     3.46308  3.4654   3.47     …  1.99832  1.99832  1.99832  1.99832\n",
       " 3.4654   3.47     3.4654   3.45707     1.99832  1.99832  1.99832  1.99832\n",
       " 3.4654   3.4654   2.82478  3.45707     3.46313  3.46313  3.46313  3.46313\n",
       " 2.82478  3.4654   1.99484  2.82478     2.82478  2.82478  2.82478  2.82478\n",
       " 1.99484  2.82478  2.82478  1.99484     1.99484  1.99484  1.99484  1.99484\n",
       " 2.82478  1.99484  3.46313  2.82478  …  2.82478  2.82478  2.82478  2.82478\n",
       " 3.46313  2.82478  1.99832  3.46313     3.45707  3.4654   3.4654   3.4654\n",
       " 1.99832  3.46313  1.99832  1.99832     3.45707  3.4654   3.4654   3.4654\n",
       " ⋮                                   ⋱           ⋮                 \n",
       " 0.0      0.0      0.0      0.0         0.0      0.0      0.0      0.0\n",
       " 0.0      0.0      0.0      0.0         0.0      0.0      0.0      0.0\n",
       " 0.0      0.0      0.0      0.0         0.0      0.0      0.0      0.0\n",
       " 0.0      0.0      0.0      0.0      …  0.0      0.0      0.0      0.0\n",
       " 0.0      0.0      0.0      0.0         0.0      0.0      0.0      0.0\n",
       " 0.0      0.0      0.0      0.0         0.0      0.0      0.0      0.0\n",
       " 0.0      0.0      0.0      0.0         0.0      0.0      0.0      0.0\n",
       " 0.0      0.0      0.0      0.0         0.0      0.0      0.0      0.0\n",
       " 0.0      0.0      0.0      0.0      …  0.0      0.0      0.0      0.0\n",
       " 0.0      0.0      0.0      0.0         0.0      0.0      0.0      0.0\n",
       " 0.0      0.0      0.0      0.0         0.0      0.0      0.0      0.0\n",
       " 0.0      0.0      0.0      0.0         0.0      0.0      0.0      0.0"
      ]
     },
     "metadata": {},
     "output_type": "display_data"
    }
   ],
   "source": [
    "# Calculating Distance Matrix\n",
    "threads=(100)\n",
    "@time @cuda(\n",
    "    threads=threads,\n",
    "    blocks=cld.(size(points,1),threads),\n",
    "    test_kernel!(idx,idx_sum,dist,points,r_max)\n",
    ")\n",
    "\n",
    "display(idx_sum)\n",
    "display(idx)\n",
    "display(dist)"
   ]
  },
  {
   "cell_type": "code",
   "execution_count": 58,
   "metadata": {},
   "outputs": [
    {
     "data": {
      "text/plain": [
       "(38, CartesianIndex(1, 121))"
      ]
     },
     "execution_count": 58,
     "metadata": {},
     "output_type": "execute_result"
    }
   ],
   "source": [
    "findmax(idx_sum)"
   ]
  },
  {
   "cell_type": "code",
   "execution_count": 69,
   "metadata": {},
   "outputs": [
    {
     "data": {
      "text/plain": [
       "39-element CuArray{Float32, 1, CUDA.Mem.DeviceBuffer}:\n",
       " 3.4564288\n",
       " 2.8190248\n",
       " 3.4564288\n",
       " 1.9954449\n",
       " 1.9954449\n",
       " 3.4614737\n",
       " 2.000625\n",
       " 2.828869\n",
       " 3.4654005\n",
       " 3.46\n",
       " 3.4630766\n",
       " 1.9982243\n",
       " 1.9982243\n",
       " ⋮\n",
       " 3.466194\n",
       " 2.8346431\n",
       " 2.008781\n",
       " 2.8346431\n",
       " 3.4701154\n",
       " 3.4701154\n",
       " 3.2700005\n",
       " 0.0\n",
       " 0.0\n",
       " 0.0\n",
       " 0.0\n",
       " 0.0"
      ]
     },
     "execution_count": 69,
     "metadata": {},
     "output_type": "execute_result"
    }
   ],
   "source": [
    "dist[:,67]"
   ]
  },
  {
   "cell_type": "code",
   "execution_count": 67,
   "metadata": {},
   "outputs": [
    {
     "name": "stderr",
     "output_type": "stream",
     "text": [
      "┌ Warning: Performing scalar indexing on task Task (runnable) @0x00007f183872da50.\n",
      "│ Invocation of getindex resulted in scalar indexing of a GPU array.\n",
      "│ This is typically caused by calling an iterating implementation of a method.\n",
      "│ Such implementations *do not* execute on the GPU, but very slowly on the CPU,\n",
      "│ and therefore are only permitted from the REPL for prototyping purposes.\n",
      "│ If you did intend to index this array, annotate the caller with @allowscalar.\n",
      "└ @ GPUArraysCore /home/nicomosty/.julia/packages/GPUArraysCore/lojQM/src/GPUArraysCore.jl:90\n"
     ]
    },
    {
     "data": {
      "text/plain": [
       "2.0064898f0"
      ]
     },
     "execution_count": 67,
     "metadata": {},
     "output_type": "execute_result"
    }
   ],
   "source": [
    "euclidean(points,121,42)"
   ]
  },
  {
   "cell_type": "code",
   "execution_count": 66,
   "metadata": {},
   "outputs": [
    {
     "data": {
      "text/plain": [
       "1×3 adjoint(::CuArray{Float32, 1, CUDA.Mem.DeviceBuffer}) with eltype Float32:\n",
       " -16.77  -4.62  -10.61"
      ]
     },
     "metadata": {},
     "output_type": "display_data"
    },
    {
     "data": {
      "text/plain": [
       "1×3 adjoint(::CuArray{Float32, 1, CUDA.Mem.DeviceBuffer}) with eltype Float32:\n",
       " -17.77  -4.04  -12.25"
      ]
     },
     "metadata": {},
     "output_type": "display_data"
    }
   ],
   "source": [
    "display(points[121,:]')\n",
    "display(points[42,:]')"
   ]
  },
  {
   "attachments": {},
   "cell_type": "markdown",
   "metadata": {},
   "source": [
    "# Later"
   ]
  },
  {
   "cell_type": "code",
   "execution_count": 16,
   "metadata": {},
   "outputs": [],
   "source": [
    "# println(\"------------------------ SIZE ------------------------\")\n",
    "# println(\"r_max         = $(FusionAGG.Type[1].Interaction.Force.rₘₐₓ)\")\n",
    "# println(\"Size X        = $(size(FusionAGG.Position))\")\n",
    "# println(\"Size idx      = $(size(FusionAGG.Simulation.Neighbor.idx))\")\n",
    "# println(\"Size idx_real  = $(size(FusionAGG.Simulation.Neighbor.idx))\")\n",
    "# println(\"Size idx_sum   = $(size(FusionAGG.Simulation.Neighbor.idx_sum))\")\n",
    "# println(\"Size idx_red   = $(size(FusionAGG.Simulation.Neighbor.idx_red))\")\n",
    "# @time nearest_neighbors(FusionAGG)\n",
    "# println(\"------------------------ IDX -------------------------\")\n",
    "# println(\"idx\")\n",
    "# display(FusionAGG.Simulation.Neighbor.idx)\n",
    "# println(\"idx_red\")\n",
    "# display(FusionAGG.Simulation.Neighbor.idx_red)\n",
    "# println(\"idx_sum\")\n",
    "# display(FusionAGG.Simulation.Neighbor.idx_sum)\n",
    "# println(\"idx_cont\")\n",
    "# display(FusionAGG.Simulation.Neighbor.idx_cont)"
   ]
  },
  {
   "cell_type": "code",
   "execution_count": 17,
   "metadata": {},
   "outputs": [],
   "source": [
    "# function reduce_kernel_temp!(idx,idx_red,idx_sum)\n",
    "#     i  = (blockIdx().x-1) * blockDim().x + threadIdx().x\n",
    "\n",
    "#     if i <= size(idx,1)\n",
    "\n",
    "#         # Cleaning\n",
    "#         idx_sum[i] = 0\n",
    "#         for m = 1:size(idx_red,1)\n",
    "#             idx_red[m,i] = 0\n",
    "#         end\n",
    "\n",
    "#         for j = 1:size(idx,1)\n",
    "#             if idx[j,i] != 0\n",
    "#                 idx_sum[i] += 1\n",
    "#                 idx_red[idx_sum[i],i] = j\n",
    "#             end\n",
    "#         end\n",
    "\n",
    "#     end\n",
    "#     # sync_threads()\n",
    "#     return nothing\n",
    "# end"
   ]
  },
  {
   "cell_type": "code",
   "execution_count": 18,
   "metadata": {},
   "outputs": [],
   "source": [
    "# # Reducing Distance Matrix to Nearest Neighbors\n",
    "# threads = 64\n",
    "# @time @cuda(\n",
    "#     threads=threads,\n",
    "#     blocks=cld.(size(points,1),threads),\n",
    "#     reduce_kernel_temp!(idx,idx_red,idx_sum)\n",
    "# )\n",
    "\n",
    "# display(idx_sum)\n",
    "# display(idx_red)"
   ]
  }
 ],
 "metadata": {
  "kernelspec": {
   "display_name": "Julia 1.6.7",
   "language": "julia",
   "name": "julia-1.6"
  },
  "language_info": {
   "file_extension": ".jl",
   "mimetype": "application/julia",
   "name": "julia",
   "version": "1.6.7"
  }
 },
 "nbformat": 4,
 "nbformat_minor": 4
}
