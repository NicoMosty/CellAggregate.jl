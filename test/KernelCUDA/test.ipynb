{
 "cells": [
  {
   "cell_type": "code",
   "execution_count": 31,
   "metadata": {},
   "outputs": [
    {
     "data": {
      "text/plain": [
       "Sphere_HCP (generic function with 4 methods)"
      ]
     },
     "execution_count": 31,
     "metadata": {},
     "output_type": "execute_result"
    }
   ],
   "source": [
    "# HCP -> Hexagonal Close Packing\n",
    "function Sphere_HCP(R_agg, R_Cell, digit = 2)\n",
    "    \"\"\"\n",
    "    Parameters\n",
    "    R_agg = radius of \n",
    "    \"\"\"\n",
    "    k = vcat(repeat(Array{Int32}((1:2*R_agg)' .* ones(2*R_agg)), 2*R_agg)...) .- 1\n",
    "    j = vcat(repeat(1:2*R_agg, inner=(2*R_agg,2*R_agg))...) .- 1\n",
    "    i = vcat(repeat(1:2*R_agg, outer=(2*R_agg,2*R_agg))...) .- 1\n",
    "\n",
    "    x = 2 * i + (j + k) .% 2\n",
    "    y = sqrt(3) * (j + 1/3 * (k .% 2))\n",
    "    z = 2 * sqrt(6) / 3 * k\n",
    "\n",
    "    # Moving the center of the aggregate with the mass_center\n",
    "    x = round.(x .- sum(x)/size(x)[1]; digits = digit)\n",
    "    y = round.(y .- sum(y)/size(y)[1]; digits = digit)\n",
    "    z = round.(z .- sum(z)/size(z)[1]; digits = digit)\n",
    "\n",
    "    dist = []\n",
    "    i=1; while i <= length(x)\n",
    "        if norm(vcat(x[i],y[i],z[i])) > R_agg\n",
    "            splice!(x, i)\n",
    "            splice!(y, i)\n",
    "            splice!(z, i)\n",
    "        else \n",
    "            push!(dist, norm(vcat(x[i],y[i],z[i])))\n",
    "            i += 1\n",
    "        end\n",
    "    end\n",
    "    return [x y z round.(dist; digits = 3) fill(R_Cell, length(x))]\n",
    "end"
   ]
  },
  {
   "cell_type": "code",
   "execution_count": 32,
   "metadata": {},
   "outputs": [
    {
     "ename": "LoadError",
     "evalue": "UndefVarError: norm not defined",
     "output_type": "error",
     "traceback": [
      "UndefVarError: norm not defined",
      "",
      "Stacktrace:",
      " [1] Sphere_HCP(R_agg::Int64, R_Cell::Int64, digit::Int64)",
      "   @ Main ./In[31]:22",
      " [2] Sphere_HCP(R_agg::Int64, R_Cell::Int64)",
      "   @ Main ./In[31]:3",
      " [3] top-level scope",
      "   @ In[32]:1",
      " [4] eval",
      "   @ ./boot.jl:360 [inlined]",
      " [5] include_string(mapexpr::typeof(REPL.softscope), mod::Module, code::String, filename::String)",
      "   @ Base ./loading.jl:1116"
     ]
    }
   ],
   "source": [
    "Sphere_HCP(10, 1)"
   ]
  },
  {
   "cell_type": "code",
   "execution_count": 53,
   "metadata": {},
   "outputs": [
    {
     "data": {
      "text/plain": [
       "\"(0.0  0.0)\\n(0.5  0.86602540378443864676372317075294)\\n(1.0  0.0)\\n(0.5  -0.86602540378443864676372317075294)\\n(0.0  0.86602540378443864676372317075294)\\n(0.5  1.7320508075688772935274463415059)\\n(1.0  0.86602540378443864676372317075294)\\n(0.5  0.0)\\n(0.0  -0.86602540378443864676372317075294)\\n(0.5  -1.7320508075688772935274463415059)\\n(1.0  -0.86602540378443864676372317075294)\""
      ]
     },
     "execution_count": 53,
     "metadata": {},
     "output_type": "execute_result"
    }
   ],
   "source": [
    "A = \"(0.0  0.0)\n",
    "(0.5  0.86602540378443864676372317075294)\n",
    "(1.0  0.0)\n",
    "(0.5  -0.86602540378443864676372317075294)\n",
    "(0.0  0.86602540378443864676372317075294)\n",
    "(0.5  1.7320508075688772935274463415059)\n",
    "(1.0  0.86602540378443864676372317075294)\n",
    "(0.5  0.0)\n",
    "(0.0  -0.86602540378443864676372317075294)\n",
    "(0.5  -1.7320508075688772935274463415059)\n",
    "(1.0  -0.86602540378443864676372317075294)\""
   ]
  },
  {
   "cell_type": "code",
   "execution_count": 54,
   "metadata": {},
   "outputs": [
    {
     "data": {
      "text/plain": [
       "11-element Vector{SubString{String}}:\n",
       " \"0.0  0.0\"\n",
       " \"0.5  0.86602540378443864676372317075294\"\n",
       " \"1.0  0.0\"\n",
       " \"0.5  -0.86602540378443864676372317075294\"\n",
       " \"0.0  0.86602540378443864676372317075294\"\n",
       " \"0.5  1.7320508075688772935274463415059\"\n",
       " \"1.0  0.86602540378443864676372317075294\"\n",
       " \"0.5  0.0\"\n",
       " \"0.0  -0.86602540378443864676372317075294\"\n",
       " \"0.5  -1.7320508075688772935274463415059\"\n",
       " \"1.0  -0.86602540378443864676372317075294\""
      ]
     },
     "execution_count": 54,
     "metadata": {},
     "output_type": "execute_result"
    }
   ],
   "source": [
    "S = [strip(a,['(',')']) for a in split(A,\"\\n\")]"
   ]
  },
  {
   "cell_type": "code",
   "execution_count": 60,
   "metadata": {},
   "outputs": [
    {
     "ename": "LoadError",
     "evalue": "MethodError: no method matching AbstractFloat(::SubString{String})\n\u001b[0mClosest candidates are:\n\u001b[0m  (::Type{T})(\u001b[91m::AbstractChar\u001b[39m) where T<:Union{AbstractChar, Number} at char.jl:50\n\u001b[0m  (::Type{T})(\u001b[91m::Base.TwicePrecision\u001b[39m) where T<:Number at twiceprecision.jl:243\n\u001b[0m  (::Type{T})(\u001b[91m::Complex\u001b[39m) where T<:Real at complex.jl:37\n\u001b[0m  ...",
     "output_type": "error",
     "traceback": [
      "MethodError: no method matching AbstractFloat(::SubString{String})\n\u001b[0mClosest candidates are:\n\u001b[0m  (::Type{T})(\u001b[91m::AbstractChar\u001b[39m) where T<:Union{AbstractChar, Number} at char.jl:50\n\u001b[0m  (::Type{T})(\u001b[91m::Base.TwicePrecision\u001b[39m) where T<:Number at twiceprecision.jl:243\n\u001b[0m  (::Type{T})(\u001b[91m::Complex\u001b[39m) where T<:Real at complex.jl:37\n\u001b[0m  ...",
      "",
      "Stacktrace:",
      " [1] float(x::SubString{String})",
      "   @ Base ./float.jl:206",
      " [2] top-level scope",
      "   @ In[60]:1",
      " [3] eval",
      "   @ ./boot.jl:360 [inlined]",
      " [4] include_string(mapexpr::typeof(REPL.softscope), mod::Module, code::String, filename::String)",
      "   @ Base ./loading.jl:1116"
     ]
    }
   ],
   "source": [
    "parse.(float(strip(\"(0.0, 0.0)\",['(',')'])))"
   ]
  },
  {
   "cell_type": "code",
   "execution_count": 42,
   "metadata": {},
   "outputs": [
    {
     "data": {
      "text/plain": [
       "\"(0.0, 0.0)\\n(0.5, 0.86602540378443864676372317075294)\\n(1.0, 0.0)\\n(0.5, -0.86602540378443864676372317075294)\\n(0.0, 0.86602540378443864676372317075294)\\n(0.5, 1.7320508075688772935274463415059)\\n(1.0, 0.86602540378443864676372317075294)\\n(0.5, 0.0)\\n(0.0, -0.86602540378443864676372317075294)\\n(0.5, -1.7320508075688772935274463415059)\\n(1.0, -0.86602540378443864676372317075294)\""
      ]
     },
     "execution_count": 42,
     "metadata": {},
     "output_type": "execute_result"
    }
   ],
   "source": [
    "strip(A,['[',']'])"
   ]
  },
  {
   "cell_type": "code",
   "execution_count": 41,
   "metadata": {},
   "outputs": [
    {
     "ename": "LoadError",
     "evalue": "ArgumentError: invalid base 10 digit '(' in \"(0.0\"",
     "output_type": "error",
     "traceback": [
      "ArgumentError: invalid base 10 digit '(' in \"(0.0\"",
      "",
      "Stacktrace:",
      "  [1] tryparse_internal(#unused#::Type{Int64}, s::SubString{String}, startpos::Int64, endpos::Int64, base_::Int64, raise::Bool)",
      "    @ Base ./parse.jl:137",
      "  [2] parse(::Type{Int64}, s::SubString{String}; base::Nothing)",
      "    @ Base ./parse.jl:241",
      "  [3] parse",
      "    @ ./parse.jl:241 [inlined]",
      "  [4] _broadcast_getindex_evalf",
      "    @ ./broadcast.jl:648 [inlined]",
      "  [5] _broadcast_getindex",
      "    @ ./broadcast.jl:631 [inlined]",
      "  [6] getindex",
      "    @ ./broadcast.jl:575 [inlined]",
      "  [7] macro expansion",
      "    @ ./broadcast.jl:984 [inlined]",
      "  [8] macro expansion",
      "    @ ./simdloop.jl:77 [inlined]",
      "  [9] copyto!",
      "    @ ./broadcast.jl:983 [inlined]",
      " [10] copyto!",
      "    @ ./broadcast.jl:936 [inlined]",
      " [11] copy",
      "    @ ./broadcast.jl:908 [inlined]",
      " [12] materialize(bc::Base.Broadcast.Broadcasted{Base.Broadcast.DefaultArrayStyle{1}, Nothing, typeof(parse), Tuple{Base.RefValue{Type{Int64}}, Vector{SubString{String}}}})",
      "    @ Base.Broadcast ./broadcast.jl:883",
      " [13] top-level scope",
      "    @ In[41]:1",
      " [14] eval",
      "    @ ./boot.jl:360 [inlined]",
      " [15] include_string(mapexpr::typeof(REPL.softscope), mod::Module, code::String, filename::String)",
      "    @ Base ./loading.jl:1116"
     ]
    }
   ],
   "source": [
    "parse.(Int,split(strip(A,['[',']']), \",\"))"
   ]
  }
 ],
 "metadata": {
  "kernelspec": {
   "display_name": "Julia 1.6.7",
   "language": "julia",
   "name": "julia-1.6"
  },
  "language_info": {
   "file_extension": ".jl",
   "mimetype": "application/julia",
   "name": "julia",
   "version": "1.6.7"
  },
  "orig_nbformat": 4
 },
 "nbformat": 4,
 "nbformat_minor": 2
}
