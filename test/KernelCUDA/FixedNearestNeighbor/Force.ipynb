{
 "cells": [
  {
   "attachments": {},
   "cell_type": "markdown",
   "metadata": {},
   "source": [
    "# Dependences"
   ]
  },
  {
   "cell_type": "code",
   "execution_count": 30,
   "metadata": {},
   "outputs": [],
   "source": [
    "using CUDA\n",
    "using DelimitedFiles\n",
    "using Test\n",
    "using BenchmarkTools\n",
    "\n",
    "# initial data\n",
    "R_Agg = 13\n",
    "r_max = 3.0\n",
    "n_knn = 50\n",
    "idx_red_size =  r_max ≤ 2.80 ? 13 :\n",
    "            2.80 < r_max ≤ 3.45 ? 21 :\n",
    "            3.45 < r_max ≤ 3.80 ? 39 :\n",
    "            3.80 < r_max ≤ 4.00 ? 55 :\n",
    "            70\n",
    "X = Float64.(readdlm(\"../../../data/init/Sphere/$(R_Agg).xyz\")[3:end,2:end]) |> cu\n",
    "\n",
    "# kNN\n",
    "idx      = Int32.(zeros(size(X, 1), size(X, 1))) |> cu;\n",
    "idx_sum  = Int32.(zeros(1, size(idx, 1))) |> cu\n",
    "idx_red  = Int32.(zeros(idx_red_size, size(idx, 1))) |> cu\n",
    "idx_contractile =Int32.(zeros(n_knn,size(X,1))) |> cu\n",
    "\n",
    "# forces\n",
    "force = CUDA.zeros(size(X));"
   ]
  },
  {
   "attachments": {},
   "cell_type": "markdown",
   "metadata": {},
   "source": [
    "# Generic Functions"
   ]
  },
  {
   "cell_type": "code",
   "execution_count": 31,
   "metadata": {},
   "outputs": [
    {
     "data": {
      "text/plain": [
       "euclidean (generic function with 1 method)"
      ]
     },
     "execution_count": 31,
     "metadata": {},
     "output_type": "execute_result"
    }
   ],
   "source": [
    "# force_func\n",
    "cubic(A,r_max,r_min,dist) = - A * (dist-r_max)^2* (dist-r_min)\n",
    "\n",
    "# distances\n",
    "euclidean(points,i,j) = sqrt((points[i,1]-points[j,1])^2+(points[i,2]-points[j,2])^2+(points[i,3]-points[j,3])^2)"
   ]
  },
  {
   "attachments": {},
   "cell_type": "markdown",
   "metadata": {},
   "source": [
    "# idx"
   ]
  },
  {
   "attachments": {},
   "cell_type": "markdown",
   "metadata": {},
   "source": [
    "## functions"
   ]
  },
  {
   "cell_type": "code",
   "execution_count": 32,
   "metadata": {},
   "outputs": [
    {
     "data": {
      "text/plain": [
       "nearest_neighbors (generic function with 1 method)"
      ]
     },
     "execution_count": 32,
     "metadata": {},
     "output_type": "execute_result"
    }
   ],
   "source": [
    "function dist_kernel!(idx, points ,r_max)\n",
    "    # Defining Index for kernel\n",
    "    i = (blockIdx().x - 1) * blockDim().x + threadIdx().x\n",
    "    j = (blockIdx().y - 1) * blockDim().y + threadIdx().y\n",
    "    \n",
    "    # Limiting data inside matrix\n",
    "    if i <= size(points, 1) && j <= size(points, 1)\n",
    "        if euclidean(points,i,j) < r_max\n",
    "            idx[i, j] = i\n",
    "        else\n",
    "            idx[i, j] = 0\n",
    "        end \n",
    "    end\n",
    "    return nothing\n",
    "end\n",
    "\n",
    "function reduce_kernel(idx,idx_red,idx_sum)\n",
    "    # Defining Index for kernel\n",
    "    i  = (blockIdx().x-1) * blockDim().x + threadIdx().x\n",
    "\n",
    "    # Limiting data inside matrix\n",
    "    if i <= size(idx,1)\n",
    "        # Cleaning idx_sum\n",
    "        idx_sum[i] = 0\n",
    "        \n",
    "        # looping on each row for searching non-zero values\n",
    "        for j = 1:size(idx,1)\n",
    "            if idx[j,i] != 0\n",
    "                idx_sum[i] += 1\n",
    "                idx_red[idx_sum[i],i] = j\n",
    "            end\n",
    "        end\n",
    "    end\n",
    "    \n",
    "    return nothing\n",
    "end\n",
    "\n",
    "function index_contractile!(idx_contractile,idx_sum,idx_red)\n",
    "    # Defining Index for kernel\n",
    "    i = (blockIdx().x - 1) * blockDim().x + threadIdx().x\n",
    "    j = (blockIdx().y - 1) * blockDim().y + threadIdx().y\n",
    "\n",
    "    # Limiting data inside matrix\n",
    "    if i <= size(idx_contractile, 1) && j <= size(idx_contractile,2)\n",
    "        idx_contractile[i,j] = idx_red[rand(1:idx_sum[j]),j]\n",
    "    end\n",
    "    return nothing\n",
    "end\n",
    "\n",
    "function nearest_neighbors(idx, idx_red, idx_sum, idx_contractile, points ,r_max)\n",
    "    # Calculating Distance Matrix\n",
    "    threads =(32,32)\n",
    "    blocks  =cld.(size(points,1),threads)\n",
    "    @cuda threads=threads blocks=blocks dist_kernel!(idx, points ,r_max)\n",
    "\n",
    "    # Reducing Distance Matrix to Nearest Neighbors\n",
    "    threads=1024\n",
    "    blocks=cld.(size(idx,1),threads)\n",
    "    @cuda threads=threads blocks=blocks reduce_kernel(idx,idx_red,idx_sum)\n",
    "\n",
    "    # Finding index contractile\n",
    "    threads =(32,32)\n",
    "    blocks  =cld.(size(X,1),threads)\n",
    "    @cuda threads=threads blocks=blocks index_contractile!(idx_contractile,idx_sum,idx_red)\n",
    "end"
   ]
  },
  {
   "attachments": {},
   "cell_type": "markdown",
   "metadata": {},
   "source": [
    "## running"
   ]
  },
  {
   "cell_type": "code",
   "execution_count": 33,
   "metadata": {},
   "outputs": [
    {
     "name": "stdout",
     "output_type": "stream",
     "text": [
      "---------------------------------- VARIABLES ------------------------------------\n",
      "R_Agg = 13 | R_Max = 3.0 | col_size_idx = 21\n"
     ]
    },
    {
     "data": {
      "text/plain": [
       "1620×3 CuArray{Float32, 2, CUDA.Mem.DeviceBuffer}:\n",
       " -0.5  -4.04  -12.25\n",
       "  1.5  -4.04  -12.25\n",
       " -3.5  -2.31  -12.25\n",
       " -1.5  -2.31  -12.25\n",
       "  0.5  -2.31  -12.25\n",
       "  2.5  -2.31  -12.25\n",
       " -2.5  -0.58  -12.25\n",
       " -0.5  -0.58  -12.25\n",
       "  1.5  -0.58  -12.25\n",
       "  3.5  -0.58  -12.25\n",
       " -3.5   1.15  -12.25\n",
       " -1.5   1.15  -12.25\n",
       "  0.5   1.15  -12.25\n",
       "  ⋮           \n",
       "  0.5  -1.15   12.25\n",
       "  2.5  -1.15   12.25\n",
       " -2.5   0.58   12.25\n",
       " -0.5   0.58   12.25\n",
       "  1.5   0.58   12.25\n",
       "  3.5   0.58   12.25\n",
       " -3.5   2.31   12.25\n",
       " -1.5   2.31   12.25\n",
       "  0.5   2.31   12.25\n",
       "  2.5   2.31   12.25\n",
       " -0.5   4.04   12.25\n",
       "  1.5   4.04   12.25"
      ]
     },
     "metadata": {},
     "output_type": "display_data"
    },
    {
     "name": "stdout",
     "output_type": "stream",
     "text": [
      "------------------------------------ SIZES --------------------------------------\n",
      "Size → idx     = (1620, 1620)\n",
      "     → idx_sum = (1, 1620)\n",
      "     → idx_red = (21, 1620)\n",
      "------------------------------------ RESULTS ------------------------------------\n",
      "  13.349 μs (77 allocations: 4.03 KiB)\n",
      "----------------------------------- IDX RED -------------------------------------\n"
     ]
    },
    {
     "data": {
      "text/plain": [
       "21×1620 CuArray{Int32, 2, CUDA.Mem.DeviceBuffer}:\n",
       "  1   1   3   1   1   2   3   4   5  …  1580  1581  1582  1583  1589  1590\n",
       "  2   2   4   3   2   5   4   5   6     1581  1582  1583  1584  1590  1591\n",
       "  4   5   7   4   4   6   7   7   8     1582  1583  1584  1585  1591  1592\n",
       "  5   6  23   5   5   9   8   8   9     1588  1589  1590  1591  1596  1597\n",
       " 19  20  29   7   6  10  11   9  10     1589  1590  1591  1592  1597  1598\n",
       " 24  25  30   8   8  26  12  12  13  …  1595  1596  1597  1598  1601  1602\n",
       " 25  26  35  24   9  32  30  13  14     1611  1611  1612  1613  1616  1617\n",
       " 30  31  36  30  25  33  36  31  32     1615  1612  1613  1614  1617  1618\n",
       " 31  32  37  31  31  38  37  37  38     1616  1615  1616  1617  1619  1619\n",
       " 32  33   0  36  32  39  43  38  39        0  1616  1617  1618  1620  1620\n",
       "  0   0   0  37  37  40  44  44  45  …     0  1617  1618  1620     0     0\n",
       "  0   0   0  38  38   0  45  45  46        0  1619  1619     0     0     0\n",
       "  0   0   0   0  39   0   0  46  47        0     0  1620     0     0     0\n",
       "  0   0   0   0   0   0   0   0   0        0     0     0     0     0     0\n",
       "  0   0   0   0   0   0   0   0   0        0     0     0     0     0     0\n",
       "  0   0   0   0   0   0   0   0   0  …     0     0     0     0     0     0\n",
       "  0   0   0   0   0   0   0   0   0        0     0     0     0     0     0\n",
       "  0   0   0   0   0   0   0   0   0        0     0     0     0     0     0\n",
       "  0   0   0   0   0   0   0   0   0        0     0     0     0     0     0\n",
       "  0   0   0   0   0   0   0   0   0        0     0     0     0     0     0\n",
       "  0   0   0   0   0   0   0   0   0  …     0     0     0     0     0     0"
      ]
     },
     "metadata": {},
     "output_type": "display_data"
    },
    {
     "name": "stdout",
     "output_type": "stream",
     "text": [
      "----------------------------------- IDX SUM -------------------------------------\n"
     ]
    },
    {
     "data": {
      "text/plain": [
       "1×1620 CuArray{Int32, 2, CUDA.Mem.DeviceBuffer}:\n",
       " 10  10  9  12  13  11  12  13  13  10  …  13  13  10  9  12  13  11  10  10"
      ]
     },
     "metadata": {},
     "output_type": "display_data"
    },
    {
     "name": "stdout",
     "output_type": "stream",
     "text": [
      "------------------------------- IDX CONTRACTILE ---------------------------------\n"
     ]
    },
    {
     "data": {
      "text/plain": [
       "50×1620 CuArray{Int32, 2, CUDA.Mem.DeviceBuffer}:\n",
       "  2   6   3   1  31  40  36   9  32  …  1582  1619  1616  1583  1619  1598\n",
       " 19  20  35   1  38  40   8  46   5     1581  1582  1590  1585  1590  1619\n",
       "  2  32  30   7  38  38   3  38  38     1611  1612  1582  1583  1596  1598\n",
       " 24  20   7  24  38   5  44   9  10     1615  1582  1613  1613  1620  1602\n",
       " 30   2  30   5  39   5   8   5   5     1595  1611  1616  1598  1591  1617\n",
       " 19   6  36   4  31  33   8   5  14  …  1611  1619  1597  1614  1617  1620\n",
       "  1  25   4  38   6  10  12  44  32     1611  1583  1617  1592  1616  1620\n",
       "  2  33   3   3   6  39  11  31  13     1581  1596  1613  1613  1620  1597\n",
       " 19   6  29  30  38  10  11  44  38     1611  1582  1591  1618  1601  1598\n",
       " 31   1   3  37   8  40   4  13  32     1580  1596  1582  1598  1590  1597\n",
       "  4  33   4  38   6  38  43  13  46  …  1595  1619  1590  1614  1597  1618\n",
       "  1  26  36  31   8  32   7  38  32     1589  1590  1617  1583  1620  1592\n",
       "  2   1   7  24   2  26   3  12   6     1595  1619  1597  1591  1597  1598\n",
       "  ⋮                   ⋮              ⋱           ⋮                    \n",
       "  2   6   3  31  25  33  36  44   9     1616  1582  1616  1592  1590  1619\n",
       " 19  26  29   3   8  40  37  13  10     1589  1615  1597  1591  1591  1619\n",
       "  5  32  37  30  25   2  44  45  39  …  1611  1615  1582  1618  1619  1591\n",
       " 19  31  29  38  32  10   3  38   9     1580  1589  1616  1614  1590  1590\n",
       " 24  26  36   5  25   9   7  13  39     1611  1615  1617  1591  1617  1619\n",
       "  4  25  36  31  39   2  30  31   5     1595  1616  1618  1592  1597  1592\n",
       "  2  31  35  24   6  40   7   7  14     1595  1612  1591  1618  1617  1619\n",
       "  5  31  35   7   1  32  44   5  46  …  1581  1581  1618  1591  1617  1597\n",
       " 32   6   4   4   4  40  44  12  38     1580  1589  1583  1592  1597  1592\n",
       " 31   6  29   8  37   2   3  37  39     1611  1616  1616  1613  1596  1619\n",
       " 25  26  23  24  25   9   8  46   6     1595  1615  1583  1598  1596  1620\n",
       " 32  31  37  30  38  40  12  12  10     1611  1596  1597  1591  1596  1602"
      ]
     },
     "metadata": {},
     "output_type": "display_data"
    },
    {
     "name": "stdout",
     "output_type": "stream",
     "text": [
      "---------------------------------- Memory Used ----------------------------------\n",
      "Effective GPU memory usage: 22.89% (458.375 MiB/1.955 GiB)\n",
      "No memory pool is in use."
     ]
    }
   ],
   "source": [
    "println(\"---------------------------------- VARIABLES ------------------------------------\")\n",
    "println(\"R_Agg = $(R_Agg) | R_Max = $(r_max) | col_size_idx = $(idx_red_size)\")\n",
    "display(X)\n",
    "println(\"------------------------------------ SIZES --------------------------------------\")\n",
    "println(\"Size → idx     = $(size(idx))\")\n",
    "println(\"     → idx_sum = $(size(idx_sum))\")\n",
    "println(\"     → idx_red = $(size(idx_red))\")\n",
    "println(\"------------------------------------ RESULTS ------------------------------------\")\n",
    "@btime nearest_neighbors(idx, idx_red, idx_sum,idx_contractile, X ,r_max)\n",
    "println(\"----------------------------------- IDX RED -------------------------------------\")\n",
    "display(idx_red)\n",
    "println(\"----------------------------------- IDX SUM -------------------------------------\")\n",
    "display(idx_sum)\n",
    "println(\"------------------------------- IDX CONTRACTILE ---------------------------------\")\n",
    "display(idx_contractile)\n",
    "println(\"---------------------------------- Memory Used ----------------------------------\")\n",
    "CUDA.memory_status()  "
   ]
  },
  {
   "attachments": {},
   "cell_type": "markdown",
   "metadata": {},
   "source": [
    "# forces"
   ]
  },
  {
   "attachments": {},
   "cell_type": "markdown",
   "metadata": {},
   "source": [
    "## functions"
   ]
  },
  {
   "cell_type": "code",
   "execution_count": 34,
   "metadata": {},
   "outputs": [
    {
     "data": {
      "text/plain": [
       "sum_force! (generic function with 3 methods)"
      ]
     },
     "execution_count": 34,
     "metadata": {},
     "output_type": "execute_result"
    }
   ],
   "source": [
    "function sum_force!(idx,points,force, force_func,A,r_max,r_min)\n",
    "    # Defining Index for kernel\n",
    "    i = (blockIdx().x - 1) * blockDim().x + threadIdx().x\n",
    "    k = (blockIdx().y - 1) * blockDim().y + threadIdx().y\n",
    "\n",
    "    # Limiting data inside matrix\n",
    "    if i <= size(points, 1) && k <= size(points, 2)\n",
    "\n",
    "        # Cleaning idx_sum\n",
    "        force[i,k] = 0\n",
    "        dist = 0\n",
    "\n",
    "        # Iterate on each row\n",
    "        for j=1:size(idx,1)\n",
    "\n",
    "            # Finding forces\n",
    "            if idx[j,i] != i && idx[j,i] != 0\n",
    "                dist = euclidean(points,i,idx[j,i])\n",
    "                force[i,k] +=force_func(A,r_max,r_min,dist) * points[idx[j,i],k] / dist\n",
    "            end\n",
    "            \n",
    "        end\n",
    "\n",
    "        # Adding Contrractile Force\n",
    "        if idx_contractile[t_knn,i] != i && idx_contractile[t_knn,i] != 0\n",
    "            dist = euclidean(points,i,idx_contractile[t_knn,i])\n",
    "            force[i,k] = A_con*points[idx_contractile[t_knn,i],k]/dist\n",
    "        end\n",
    "        \n",
    "    end\n",
    "    return nothing\n",
    "end"
   ]
  },
  {
   "attachments": {},
   "cell_type": "markdown",
   "metadata": {},
   "source": [
    "## running"
   ]
  },
  {
   "cell_type": "code",
   "execution_count": 35,
   "metadata": {},
   "outputs": [
    {
     "data": {
      "text/plain": [
       "1"
      ]
     },
     "execution_count": 35,
     "metadata": {},
     "output_type": "execute_result"
    }
   ],
   "source": [
    "dt = 0.5\n",
    "A     = 1\n",
    "A_con = 0.1\n",
    "r_min = 2.0\n",
    "r_max = r_max\n",
    "\n",
    "t_knn = 1"
   ]
  },
  {
   "cell_type": "code",
   "execution_count": 36,
   "metadata": {},
   "outputs": [
    {
     "name": "stdout",
     "output_type": "stream",
     "text": [
      "  7.063 μs (48 allocations: 2.58 KiB)\n"
     ]
    },
    {
     "data": {
      "text/plain": [
       "1620×3 CuArray{Float32, 2, CUDA.Mem.DeviceBuffer}:\n",
       "  0.075      -0.202      -0.6125\n",
       "  0.125111   -0.115603   -0.613044\n",
       "  0.120219    0.0792914   0.360268\n",
       " -0.0250222  -0.20218    -0.613044\n",
       " -0.0249191  -0.144033   -0.528784\n",
       "  0.15875    -0.0405695  -0.374298\n",
       " -0.174684   -0.0573961  -0.529541\n",
       "  0.075      -0.029      -0.6125\n",
       "  0.052948   -0.102013   -0.374519\n",
       "  0.224593   -0.0573961  -0.529541\n",
       " -0.075       0.0575     -0.6125\n",
       " -0.124571    0.144004   -0.610398\n",
       " -0.0249548   0.0289476  -0.529541\n",
       "  ⋮                      \n",
       "  0.0747426  -0.144004    0.610398\n",
       "  0.0748644  -0.0289476   0.529541\n",
       "  0.0715554  -0.0139363  -0.297831\n",
       " -0.0881945  -0.0204611   0.374298\n",
       "  0.0250222  -0.0575511   0.613044\n",
       "  0.194028   -0.0204611   0.374298\n",
       " -0.0529167   0.0405695   0.374298\n",
       " -0.0250222   0.20218     0.613044\n",
       " -0.075       0.1155      0.6125\n",
       "  0.0176389   0.0405695   0.374298\n",
       "  0.0155762  -0.130495   -0.327601\n",
       "  0.124596    0.230253    0.528784"
      ]
     },
     "execution_count": 36,
     "metadata": {},
     "output_type": "execute_result"
    }
   ],
   "source": [
    "# GPU\n",
    "threads =(100,3)\n",
    "blocks  =cld.(size(X,1),threads)\n",
    "@btime @cuda threads=threads blocks=blocks sum_force!(idx_red,idx_contractile, X ,force, cubic,A,r_max,r_min,A_con,Int(t_knn))\n",
    "force"
   ]
  },
  {
   "attachments": {},
   "cell_type": "markdown",
   "metadata": {},
   "source": [
    "## Pending (Test with CPU)"
   ]
  },
  {
   "cell_type": "code",
   "execution_count": 39,
   "metadata": {},
   "outputs": [
    {
     "data": {
      "text/plain": [
       "1620×3 Matrix{Float64}:\n",
       " 0.0  0.0  0.0\n",
       " 0.0  0.0  0.0\n",
       " 0.0  0.0  0.0\n",
       " 0.0  0.0  0.0\n",
       " 0.0  0.0  0.0\n",
       " 0.0  0.0  0.0\n",
       " 0.0  0.0  0.0\n",
       " 0.0  0.0  0.0\n",
       " 0.0  0.0  0.0\n",
       " 0.0  0.0  0.0\n",
       " 0.0  0.0  0.0\n",
       " 0.0  0.0  0.0\n",
       " 0.0  0.0  0.0\n",
       " ⋮         \n",
       " 0.0  0.0  0.0\n",
       " 0.0  0.0  0.0\n",
       " 0.0  0.0  0.0\n",
       " 0.0  0.0  0.0\n",
       " 0.0  0.0  0.0\n",
       " 0.0  0.0  0.0\n",
       " 0.0  0.0  0.0\n",
       " 0.0  0.0  0.0\n",
       " 0.0  0.0  0.0\n",
       " 0.0  0.0  0.0\n",
       " 0.0  0.0  0.0\n",
       " 0.0  0.0  0.0"
      ]
     },
     "execution_count": 39,
     "metadata": {},
     "output_type": "execute_result"
    }
   ],
   "source": [
    "# CPU\n",
    "X_CPU = Matrix(X)\n",
    "idx_red_CPU = Matrix(idx_red)\n",
    "idx_contractile_CPU = Matrix(idx_contractile)\n",
    "force_CPU = zeros(size((X)))\n",
    "# @btime for j = 1:size(idx_red_CPU,1)\n",
    "#     for i =1:size(X,1)\n",
    "#         if idx_red_CPU[j,i] != 0 && idx_red_CPU[j,i] != i\n",
    "#             dist = euclidean(X_CPU,i,idx_red_CPU[j,i])\n",
    "#             force_CPU[i,:] += cubic.(A,r_max,r_min,dist) .* X_CPU[idx_red_CPU[j,i],:] ./ dist\n",
    "#         end\n",
    "#     end\n",
    "# end\n",
    "\n",
    "# testing\n",
    "# @test Matrix(force) ≈ force_CPU atol=0.01"
   ]
  }
 ],
 "metadata": {
  "kernelspec": {
   "display_name": "Julia 1.6.7",
   "language": "julia",
   "name": "julia-1.6"
  },
  "language_info": {
   "file_extension": ".jl",
   "mimetype": "application/julia",
   "name": "julia",
   "version": "1.6.7"
  },
  "orig_nbformat": 4
 },
 "nbformat": 4,
 "nbformat_minor": 2
}
