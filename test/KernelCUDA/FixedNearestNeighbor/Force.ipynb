{
 "cells": [
  {
   "attachments": {},
   "cell_type": "markdown",
   "metadata": {},
   "source": [
    "# Dependences"
   ]
  },
  {
   "cell_type": "code",
   "execution_count": 62,
   "metadata": {},
   "outputs": [],
   "source": [
    "using CUDA\n",
    "using DelimitedFiles"
   ]
  },
  {
   "attachments": {},
   "cell_type": "markdown",
   "metadata": {},
   "source": [
    "# idx"
   ]
  },
  {
   "attachments": {},
   "cell_type": "markdown",
   "metadata": {},
   "source": [
    "## functions"
   ]
  },
  {
   "cell_type": "code",
   "execution_count": 63,
   "metadata": {},
   "outputs": [
    {
     "data": {
      "text/plain": [
       "nearest_neighbors (generic function with 1 method)"
      ]
     },
     "execution_count": 63,
     "metadata": {},
     "output_type": "execute_result"
    }
   ],
   "source": [
    "euclidean(points,i,j) = sqrt((points[i,1]-points[j,1])^2+(points[i,2]-points[j,2])^2+(points[i,3]-points[j,3])^2)\n",
    "\n",
    "function dist_kernel!(idx, points ,r_max)\n",
    "    # Defining Index for kernel\n",
    "    i = (blockIdx().x - 1) * blockDim().x + threadIdx().x\n",
    "    j = (blockIdx().y - 1) * blockDim().y + threadIdx().y\n",
    "    \n",
    "    # Limiting data inside matrix\n",
    "    if i <= size(points, 1) && j <= size(points, 1)\n",
    "        if euclidean(points,i,j) < r_max\n",
    "            idx[i, j] = i\n",
    "        else\n",
    "            idx[i, j] = 0\n",
    "        end \n",
    "    end\n",
    "    return nothing\n",
    "end\n",
    "\n",
    "function reduce_kernel(idx,idx_red,idx_sum)\n",
    "    # Defining Index for kernel\n",
    "    i  = (blockIdx().x-1) * blockDim().x + threadIdx().x\n",
    "\n",
    "    # Limiting data inside matrix\n",
    "    if i <= size(idx,1)\n",
    "        # Cleaning idx_sum\n",
    "        idx_sum[i] = 0\n",
    "        \n",
    "        # looping on each row for searching non-zero values\n",
    "        for j = 1:size(idx,1)\n",
    "            if idx[j,i] != 0\n",
    "                idx_sum[i] += 1\n",
    "                idx_red[idx_sum[i],i] = j\n",
    "            end\n",
    "        end\n",
    "    end\n",
    "    \n",
    "    return nothing\n",
    "end\n",
    "\n",
    "function nearest_neighbors(idx, idx_red, idx_sum, points ,r_max)\n",
    "    # Calculating Distance Matrix\n",
    "    threads =(32,32)\n",
    "    blocks  =cld.(size(points,1),threads)\n",
    "    @cuda threads=threads blocks=blocks dist_kernel!(idx, points ,r_max)\n",
    "\n",
    "    # Reducing Distance Matrix to Nearest Neighbors\n",
    "    threads=1024\n",
    "    blocks=cld.(size(idx,1),threads)\n",
    "    @cuda threads=threads blocks=blocks reduce_kernel(idx,idx_red,idx_sum)\n",
    "end"
   ]
  },
  {
   "attachments": {},
   "cell_type": "markdown",
   "metadata": {},
   "source": [
    "## running"
   ]
  },
  {
   "cell_type": "code",
   "execution_count": 64,
   "metadata": {},
   "outputs": [
    {
     "name": "stdout",
     "output_type": "stream",
     "text": [
      "--------------------- VARIABLES ----------------------\n",
      "R_Agg = 15 | R_Max = 2.5 | col_size_idx = 13\n"
     ]
    },
    {
     "data": {
      "text/plain": [
       "2504×3 CuArray{Float32, 2, CUDA.Mem.DeviceBuffer}:\n",
       " -1.5  -4.62  -13.88\n",
       "  0.5  -4.62  -13.88\n",
       "  2.5  -4.62  -13.88\n",
       " -4.5  -2.89  -13.88\n",
       " -2.5  -2.89  -13.88\n",
       " -0.5  -2.89  -13.88\n",
       "  1.5  -2.89  -13.88\n",
       "  3.5  -2.89  -13.88\n",
       " -5.5  -1.15  -13.88\n",
       " -3.5  -1.15  -13.88\n",
       " -1.5  -1.15  -13.88\n",
       "  0.5  -1.15  -13.88\n",
       "  2.5  -1.15  -13.88\n",
       "  ⋮           \n",
       " -1.5   1.15   13.88\n",
       "  0.5   1.15   13.88\n",
       "  2.5   1.15   13.88\n",
       "  4.5   1.15   13.88\n",
       " -4.5   2.89   13.88\n",
       " -2.5   2.89   13.88\n",
       " -0.5   2.89   13.88\n",
       "  1.5   2.89   13.88\n",
       "  3.5   2.89   13.88\n",
       " -1.5   4.62   13.88\n",
       "  0.5   4.62   13.88\n",
       "  2.5   4.62   13.88"
      ]
     },
     "metadata": {},
     "output_type": "display_data"
    },
    {
     "name": "stdout",
     "output_type": "stream",
     "text": [
      "----------------------- SIZES ------------------------\n",
      "Size → idx     = (2504, 2504)\n",
      "     → idx_sum = (1, 2504)\n",
      "     → idx_red = (13, 2504)\n",
      "----------------------- RESULTS ----------------------\n",
      "  0.433378 seconds (228.66 k CPU allocations: 14.924 MiB)\n"
     ]
    },
    {
     "data": {
      "text/plain": [
       "13×2504 CuArray{Int32, 2, CUDA.Mem.DeviceBuffer}:\n",
       "  1   1   2   4   1   1   2   3   4  …  2453  2454  2455  2460  2461  2462\n",
       "  2   2   3   5   4   2   3   7   9     2454  2455  2456  2461  2462  2463\n",
       "  5   3   7   9   5   5   6   8  10     2461  2462  2463  2468  2469  2470\n",
       "  6   6   8  10   6   6   7  13  15     2493  2494  2495  2498  2499  2500\n",
       " 36   7  38  41  10   7   8  14  49     2494  2495  2496  2499  2500  2501\n",
       " 42  37  44  49  11  11  12  45  57  …  2498  2499  2500  2502  2502  2503\n",
       " 43  43  45  50  42  12  13  53  58     2499  2500  2501  2503  2503  2504\n",
       "  0  44   0   0  50  43  44  54   0     2500  2501  2504     0  2504     0\n",
       "  0   0   0   0  51  51  52   0   0     2502  2503     0     0     0     0\n",
       "  0   0   0   0   0  52  53   0   0     2503  2504     0     0     0     0\n",
       "  0   0   0   0   0   0   0   0   0  …     0     0     0     0     0     0\n",
       "  0   0   0   0   0   0   0   0   0        0     0     0     0     0     0\n",
       "  0   0   0   0   0   0   0   0   0        0     0     0     0     0     0"
      ]
     },
     "metadata": {},
     "output_type": "display_data"
    },
    {
     "name": "stdout",
     "output_type": "stream",
     "text": [
      "--------------------- Memory Used ---------------------\n",
      "Effective GPU memory usage: 7.48% (149.812 MiB/1.955 GiB)\n",
      "No memory pool is in use."
     ]
    }
   ],
   "source": [
    "R_Agg=15\n",
    "r_max = 2.5\n",
    "idx_red_size =  r_max ≤ 2.80 ? 13 :\n",
    "            2.80 < r_max ≤ 3.45 ? 21 :\n",
    "            3.45 < r_max ≤ 3.80 ? 39 :\n",
    "            3.80 < r_max ≤ 4.00 ? 55 :\n",
    "            70\n",
    "X = Float64.(readdlm(\"../../../data/init/Sphere/$(R_Agg).xyz\")[3:end,2:end]) |> cu\n",
    "idx      = Int32.(zeros(size(X, 1), size(X, 1))) |> cu;\n",
    "idx_sum  = Int32.(zeros(1, size(idx, 1))) |> cu\n",
    "idx_red  = Int32.(zeros(idx_red_size, size(idx, 1))) |> cu\n",
    "\n",
    "println(\"--------------------- VARIABLES ----------------------\")\n",
    "println(\"R_Agg = $(R_Agg) | R_Max = $(r_max) | col_size_idx = $(idx_red_size)\")\n",
    "display(X)\n",
    "println(\"----------------------- SIZES ------------------------\")\n",
    "println(\"Size → idx     = $(size(idx))\")\n",
    "println(\"     → idx_sum = $(size(idx_sum))\")\n",
    "println(\"     → idx_red = $(size(idx_red))\")\n",
    "println(\"----------------------- RESULTS ----------------------\")\n",
    "CUDA.@time nearest_neighbors(idx, idx_red, idx_sum, X ,r_max)\n",
    "display(idx_red)\n",
    "println(\"--------------------- Memory Used ---------------------\")\n",
    "CUDA.memory_status()  "
   ]
  },
  {
   "attachments": {},
   "cell_type": "markdown",
   "metadata": {},
   "source": [
    "# forces"
   ]
  },
  {
   "attachments": {},
   "cell_type": "markdown",
   "metadata": {},
   "source": [
    "## functions"
   ]
  },
  {
   "cell_type": "code",
   "execution_count": 149,
   "metadata": {},
   "outputs": [
    {
     "data": {
      "text/plain": [
       "sum_force! (generic function with 1 method)"
      ]
     },
     "execution_count": 149,
     "metadata": {},
     "output_type": "execute_result"
    }
   ],
   "source": [
    "function sum_force!(idx,points,force, force_func)\n",
    "    # Defining Index for kernel\n",
    "    i = (blockIdx().x - 1) * blockDim().x + threadIdx().x\n",
    "    k = (blockIdx().y - 1) * blockDim().y + threadIdx().y\n",
    "    dist = 0\n",
    "\n",
    "    # Iterate on each row\n",
    "    for j=1:size(idx,1)\n",
    "        # Limiting data inside matrix\n",
    "        if i <= size(points, 1) && k <= size(points, 2)\n",
    "            # Cleaning idx_sum\n",
    "            # force[i,k] = 0\n",
    "\n",
    "            # Finding forces\n",
    "            if idx[j,i] != i && idx[j,i] != 0\n",
    "                dist = euclidean(points,i,idx[j,i])\n",
    "                force[i,k] += force_func(dist)*points[idx[j,i],k]/dist\n",
    "            end\n",
    "            \n",
    "        end\n",
    "    end\n",
    "    return nothing\n",
    "end"
   ]
  },
  {
   "attachments": {},
   "cell_type": "markdown",
   "metadata": {},
   "source": [
    "## running"
   ]
  },
  {
   "cell_type": "code",
   "execution_count": 158,
   "metadata": {},
   "outputs": [
    {
     "name": "stdout",
     "output_type": "stream",
     "text": [
      "  0.302705 seconds (101.31 k CPU allocations: 6.577 MiB)\n"
     ]
    },
    {
     "data": {
      "text/plain": [
       "2504×3 CuArray{Float32, 2, CUDA.Mem.DeviceBuffer}:\n",
       "  -7.0  -24.25   -78.39\n",
       "   3.5  -28.87   -92.27\n",
       "  13.0  -24.25   -78.39\n",
       " -25.0  -13.85   -78.39\n",
       " -19.0  -21.36  -106.15\n",
       "  -4.5  -25.98  -120.03\n",
       "  13.5  -25.98  -120.03\n",
       "  21.5  -18.47   -92.27\n",
       " -29.0   -6.93   -78.39\n",
       " -31.5  -10.39  -120.03\n",
       " -13.5  -10.39  -120.03\n",
       "   4.5  -10.39  -120.03\n",
       "  22.5  -10.39  -120.03\n",
       "   ⋮            \n",
       " -13.5   10.39   120.03\n",
       "   4.5   10.39   120.03\n",
       "  22.5   10.39   120.03\n",
       "  28.5    6.35    92.27\n",
       " -25.0   13.85    78.39\n",
       " -19.0   21.36   106.15\n",
       "  -4.5   25.98   120.03\n",
       "  13.5   25.98   120.03\n",
       "  21.5   18.47    92.27\n",
       "  -7.0   24.25    78.39\n",
       "   3.5   28.87    92.27\n",
       "  13.0   24.25    78.39"
      ]
     },
     "execution_count": 158,
     "metadata": {},
     "output_type": "execute_result"
    }
   ],
   "source": [
    "force = CUDA.zeros(size(X))\n",
    "\n",
    "threads =(200,3)\n",
    "blocks  =cld.(size(X,1),threads)\n",
    "forco(dist) = 1*dist\n",
    "CUDA.@time @cuda threads=threads blocks=blocks sum_force!(idx_red, X ,force, forco)\n",
    "force"
   ]
  }
 ],
 "metadata": {
  "kernelspec": {
   "display_name": "Julia 1.6.7",
   "language": "julia",
   "name": "julia-1.6"
  },
  "language_info": {
   "file_extension": ".jl",
   "mimetype": "application/julia",
   "name": "julia",
   "version": "1.6.7"
  },
  "orig_nbformat": 4
 },
 "nbformat": 4,
 "nbformat_minor": 2
}
