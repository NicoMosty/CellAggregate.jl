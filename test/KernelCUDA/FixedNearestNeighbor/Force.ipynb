{
 "cells": [
  {
   "attachments": {},
   "cell_type": "markdown",
   "metadata": {},
   "source": [
    "# Dependences"
   ]
  },
  {
   "cell_type": "code",
   "execution_count": 32,
   "metadata": {},
   "outputs": [],
   "source": [
    "using CUDA\n",
    "using DelimitedFiles"
   ]
  },
  {
   "attachments": {},
   "cell_type": "markdown",
   "metadata": {},
   "source": [
    "# idx"
   ]
  },
  {
   "attachments": {},
   "cell_type": "markdown",
   "metadata": {},
   "source": [
    "## functions"
   ]
  },
  {
   "cell_type": "code",
   "execution_count": 33,
   "metadata": {},
   "outputs": [
    {
     "data": {
      "text/plain": [
       "nearest_neighbors (generic function with 1 method)"
      ]
     },
     "execution_count": 33,
     "metadata": {},
     "output_type": "execute_result"
    }
   ],
   "source": [
    "euclidean(points,i,j) = sqrt((points[i,1]-points[j,1])^2+(points[i,2]-points[j,2])^2+(points[i,3]-points[j,3])^2)\n",
    "\n",
    "function dist_kernel!(idx, points ,r_max)\n",
    "    # Defining Index for kernel\n",
    "    i = (blockIdx().x - 1) * blockDim().x + threadIdx().x\n",
    "    j = (blockIdx().y - 1) * blockDim().y + threadIdx().y\n",
    "    \n",
    "    # Limiting data inside matrix\n",
    "    if i <= size(points, 1) && j <= size(points, 1)\n",
    "        if euclidean(points,i,j) < r_max\n",
    "            idx[i, j] = i\n",
    "        else\n",
    "            idx[i, j] = 0\n",
    "        end \n",
    "    end\n",
    "    return nothing\n",
    "end\n",
    "\n",
    "function reduce_kernel(idx,idx_red,idx_sum)\n",
    "    # Defining Index for kernel\n",
    "    i  = (blockIdx().x-1) * blockDim().x + threadIdx().x\n",
    "\n",
    "    # Limiting data inside matrix\n",
    "    if i <= size(idx,1)\n",
    "        # Cleaning idx_sum\n",
    "        idx_sum[i] = 0\n",
    "        \n",
    "        # looping on each row for searching non-zero values\n",
    "        for j = 1:size(idx,1)\n",
    "            if idx[j,i] != 0\n",
    "                idx_sum[i] += 1\n",
    "                idx_red[idx_sum[i],i] = j\n",
    "            end\n",
    "        end\n",
    "    end\n",
    "    \n",
    "    return nothing\n",
    "end\n",
    "\n",
    "function nearest_neighbors(idx, idx_red, idx_sum, points ,r_max)\n",
    "    # Calculating Distance Matrix\n",
    "    threads =(32,32)\n",
    "    blocks  =cld.(size(points,1),threads)\n",
    "    @cuda threads=threads blocks=blocks dist_kernel!(idx, points ,r_max)\n",
    "\n",
    "    # Reducing Distance Matrix to Nearest Neighbors\n",
    "    threads=1024\n",
    "    blocks=cld.(size(idx,1),threads)\n",
    "    @cuda threads=threads blocks=blocks reduce_kernel(idx,idx_red,idx_sum)\n",
    "end"
   ]
  },
  {
   "attachments": {},
   "cell_type": "markdown",
   "metadata": {},
   "source": [
    "## running"
   ]
  },
  {
   "cell_type": "code",
   "execution_count": 34,
   "metadata": {},
   "outputs": [
    {
     "name": "stdout",
     "output_type": "stream",
     "text": [
      "--------------------- VARIABLES ----------------------\n",
      "R_Agg = 13 | R_Max = 3.5 | col_size_idx = 39\n"
     ]
    },
    {
     "data": {
      "text/plain": [
       "1620×3 CuArray{Float32, 2, CUDA.Mem.DeviceBuffer}:\n",
       " -0.5  -4.04  -12.25\n",
       "  1.5  -4.04  -12.25\n",
       " -3.5  -2.31  -12.25\n",
       " -1.5  -2.31  -12.25\n",
       "  0.5  -2.31  -12.25\n",
       "  2.5  -2.31  -12.25\n",
       " -2.5  -0.58  -12.25\n",
       " -0.5  -0.58  -12.25\n",
       "  1.5  -0.58  -12.25\n",
       "  3.5  -0.58  -12.25\n",
       " -3.5   1.15  -12.25\n",
       " -1.5   1.15  -12.25\n",
       "  0.5   1.15  -12.25\n",
       "  ⋮           \n",
       "  0.5  -1.15   12.25\n",
       "  2.5  -1.15   12.25\n",
       " -2.5   0.58   12.25\n",
       " -0.5   0.58   12.25\n",
       "  1.5   0.58   12.25\n",
       "  3.5   0.58   12.25\n",
       " -3.5   2.31   12.25\n",
       " -1.5   2.31   12.25\n",
       "  0.5   2.31   12.25\n",
       "  2.5   2.31   12.25\n",
       " -0.5   4.04   12.25\n",
       "  1.5   4.04   12.25"
      ]
     },
     "metadata": {},
     "output_type": "display_data"
    },
    {
     "name": "stdout",
     "output_type": "stream",
     "text": [
      "----------------------- SIZES ------------------------\n",
      "Size → idx     = (1620, 1620)\n",
      "     → idx_sum = (1, 1620)\n",
      "     → idx_red = (39, 1620)\n",
      "----------------------- RESULTS ----------------------\n",
      "  0.198271 seconds (221.19 k CPU allocations: 15.156 MiB)\n"
     ]
    },
    {
     "data": {
      "text/plain": [
       "39×1620 CuArray{Int32, 2, CUDA.Mem.DeviceBuffer}:\n",
       "  1   1   1   1   1   1   3   1   2  …  1525  1526  1527  1528  1535  1536\n",
       "  2   2   3   2   2   2   4   3   4     1574  1575  1576  1577  1582  1583\n",
       "  3   4   4   3   4   5   5   4   5     1575  1576  1577  1578  1583  1584\n",
       "  4   5   7   4   5   6   7   5   6     1580  1581  1582  1583  1589  1590\n",
       "  5   6   8   5   6   8   8   6   8     1581  1582  1583  1584  1590  1591\n",
       "  6   9  11   7   7   9  11   7   9  …  1582  1583  1584  1585  1591  1592\n",
       "  8  19  22   8   8  10  12   8  10     1587  1588  1589  1590  1595  1596\n",
       " 18  20  23   9   9  14  13   9  12     1588  1589  1590  1591  1596  1597\n",
       " 19  21  24  12  10  25  15  11  13     1589  1590  1591  1592  1597  1598\n",
       " 20  24  28  23  13  26  29  12  14     1590  1591  1592  1593  1598  1599\n",
       " 23  25  29  24  24  27  30  13  17  …  1594  1595  1596  1597  1600  1601\n",
       " 24  26  30  25  25  31  31  14  31     1595  1596  1597  1598  1601  1602\n",
       " 25  27  31  29  26  32  35  16  32     1596  1597  1598  1599  1602  1603\n",
       "  ⋮                   ⋮              ⋱           ⋮                    \n",
       "  0   0   0   0   0   0   0   0   0        0     0     0     0     0     0\n",
       "  0   0   0   0   0   0   0   0   0        0     0     0     0     0     0\n",
       "  0   0   0   0   0   0   0   0   0        0     0     0     0     0     0\n",
       "  0   0   0   0   0   0   0   0   0  …     0     0     0     0     0     0\n",
       "  0   0   0   0   0   0   0   0   0        0     0     0     0     0     0\n",
       "  0   0   0   0   0   0   0   0   0        0     0     0     0     0     0\n",
       "  0   0   0   0   0   0   0   0   0        0     0     0     0     0     0\n",
       "  0   0   0   0   0   0   0   0   0        0     0     0     0     0     0\n",
       "  0   0   0   0   0   0   0   0   0  …     0     0     0     0     0     0\n",
       "  0   0   0   0   0   0   0   0   0        0     0     0     0     0     0\n",
       "  0   0   0   0   0   0   0   0   0        0     0     0     0     0     0\n",
       "  0   0   0   0   0   0   0   0   0        0     0     0     0     0     0"
      ]
     },
     "metadata": {},
     "output_type": "display_data"
    },
    {
     "name": "stdout",
     "output_type": "stream",
     "text": [
      "--------------------- Memory Used ---------------------\n",
      "Effective GPU memory usage: 2.86% (345.062 MiB/11.763 GiB)\n",
      "Memory pool usage: 23.186 MiB (96.000 MiB reserved)"
     ]
    }
   ],
   "source": [
    "R_Agg=13\n",
    "r_max = 3.5\n",
    "idx_red_size =  r_max ≤ 2.80 ? 13 :\n",
    "            2.80 < r_max ≤ 3.45 ? 21 :\n",
    "            3.45 < r_max ≤ 3.80 ? 39 :\n",
    "            3.80 < r_max ≤ 4.00 ? 55 :\n",
    "            70\n",
    "X = Float64.(readdlm(\"../../../data/init/Sphere/$(R_Agg).xyz\")[3:end,2:end]) |> cu\n",
    "idx      = Int32.(zeros(size(X, 1), size(X, 1))) |> cu;\n",
    "idx_sum  = Int32.(zeros(1, size(idx, 1))) |> cu\n",
    "idx_red  = Int32.(zeros(idx_red_size, size(idx, 1))) |> cu\n",
    "\n",
    "println(\"--------------------- VARIABLES ----------------------\")\n",
    "println(\"R_Agg = $(R_Agg) | R_Max = $(r_max) | col_size_idx = $(idx_red_size)\")\n",
    "display(X)\n",
    "println(\"----------------------- SIZES ------------------------\")\n",
    "println(\"Size → idx     = $(size(idx))\")\n",
    "println(\"     → idx_sum = $(size(idx_sum))\")\n",
    "println(\"     → idx_red = $(size(idx_red))\")\n",
    "println(\"----------------------- RESULTS ----------------------\")\n",
    "CUDA.@time nearest_neighbors(idx, idx_red, idx_sum, X ,r_max)\n",
    "display(idx_red)\n",
    "println(\"--------------------- Memory Used ---------------------\")\n",
    "CUDA.memory_status()  "
   ]
  },
  {
   "attachments": {},
   "cell_type": "markdown",
   "metadata": {},
   "source": [
    "# forces"
   ]
  },
  {
   "attachments": {},
   "cell_type": "markdown",
   "metadata": {},
   "source": [
    "## functions"
   ]
  },
  {
   "cell_type": "code",
   "execution_count": 35,
   "metadata": {},
   "outputs": [
    {
     "data": {
      "text/plain": [
       "sum_force! (generic function with 1 method)"
      ]
     },
     "execution_count": 35,
     "metadata": {},
     "output_type": "execute_result"
    }
   ],
   "source": [
    "cubic(dist) = dist^2+2*dist+3\n",
    "function sum_force!(idx,points,force, force_func)\n",
    "    # Defining Index for kernel\n",
    "    i = (blockIdx().x - 1) * blockDim().x + threadIdx().x\n",
    "    k = (blockIdx().y - 1) * blockDim().y + threadIdx().y\n",
    "    dist = 0\n",
    "\n",
    "    # Iterate on each row\n",
    "    for j=1:size(idx,1)\n",
    "    # for j=1:2\n",
    "        # Limiting data inside matrix\n",
    "        if i <= size(points, 1) && k <= size(points, 2)\n",
    "            # Cleaning idx_sum\n",
    "            force[i,k] = 0\n",
    "\n",
    "            # Finding forces\n",
    "            if idx[j,i] != i && idx[j,i] != 0\n",
    "                dist = euclidean(points,i,idx[j,i])\n",
    "                force[i,k] +=force_func(dist) * points[idx[j,i],k] / dist\n",
    "            end\n",
    "            \n",
    "        end\n",
    "    end\n",
    "    return nothing\n",
    "end"
   ]
  },
  {
   "attachments": {},
   "cell_type": "markdown",
   "metadata": {},
   "source": [
    "## running"
   ]
  },
  {
   "cell_type": "code",
   "execution_count": 51,
   "metadata": {},
   "outputs": [
    {
     "name": "stdout",
     "output_type": "stream",
     "text": [
      "  0.000794 seconds (79 CPU allocations: 4.625 KiB)\n"
     ]
    },
    {
     "data": {
      "text/plain": [
       "1620×3 CuArray{Float32, 2, CUDA.Mem.DeviceBuffer}:\n",
       " 0.0  0.0  0.0\n",
       " 0.0  0.0  0.0\n",
       " 0.0  0.0  0.0\n",
       " 0.0  0.0  0.0\n",
       " 0.0  0.0  0.0\n",
       " 0.0  0.0  0.0\n",
       " 0.0  0.0  0.0\n",
       " 0.0  0.0  0.0\n",
       " 0.0  0.0  0.0\n",
       " 0.0  0.0  0.0\n",
       " 0.0  0.0  0.0\n",
       " 0.0  0.0  0.0\n",
       " 0.0  0.0  0.0\n",
       " ⋮         \n",
       " 0.0  0.0  0.0\n",
       " 0.0  0.0  0.0\n",
       " 0.0  0.0  0.0\n",
       " 0.0  0.0  0.0\n",
       " 0.0  0.0  0.0\n",
       " 0.0  0.0  0.0\n",
       " 0.0  0.0  0.0\n",
       " 0.0  0.0  0.0\n",
       " 0.0  0.0  0.0\n",
       " 0.0  0.0  0.0\n",
       " 0.0  0.0  0.0\n",
       " 0.0  0.0  0.0"
      ]
     },
     "execution_count": 51,
     "metadata": {},
     "output_type": "execute_result"
    }
   ],
   "source": [
    "force = CUDA.zeros(size(X))\n",
    "\n",
    "threads =(200,3)\n",
    "blocks  =cld.(size(X,1),threads)\n",
    "CUDA.@time @cuda threads=threads blocks=blocks sum_force!(idx_red, X ,force, cubic)\n",
    "force"
   ]
  }
 ],
 "metadata": {
  "kernelspec": {
   "display_name": "Julia 1.6.7",
   "language": "julia",
   "name": "julia-1.6"
  },
  "language_info": {
   "file_extension": ".jl",
   "mimetype": "application/julia",
   "name": "julia",
   "version": "1.6.7"
  },
  "orig_nbformat": 4
 },
 "nbformat": 4,
 "nbformat_minor": 2
}
