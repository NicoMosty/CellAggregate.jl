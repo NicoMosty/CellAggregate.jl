{
 "cells": [
  {
   "attachments": {},
   "cell_type": "markdown",
   "metadata": {},
   "source": [
    "# Dependences"
   ]
  },
  {
   "cell_type": "code",
   "execution_count": 1,
   "metadata": {},
   "outputs": [],
   "source": [
    "using CUDA\n",
    "using DelimitedFiles\n",
    "using Test\n",
    "using BenchmarkTools\n",
    "\n",
    "R_Agg = 13\n",
    "r_max = 4.0\n",
    "n_knn = 50\n",
    "\n",
    "idx_red_size =  r_max ≤ 2.80 ? 13 :\n",
    "            2.80 < r_max ≤ 3.45 ? 21 :\n",
    "            3.45 < r_max ≤ 3.80 ? 39 :\n",
    "            3.80 < r_max ≤ 4.00 ? 55 :\n",
    "            70\n",
    "X = Float64.(readdlm(\"../../../data/init/Sphere/$(R_Agg).xyz\")[3:end,2:end]) |> cu\n",
    "idx      = Int32.(zeros(size(X, 1), size(X, 1))) |> cu;\n",
    "idx_sum  = Int32.(zeros(1, size(idx, 1))) |> cu\n",
    "idx_red  = Int32.(zeros(idx_red_size, size(idx, 1))) |> cu\n",
    "force = CUDA.zeros(size(X));"
   ]
  },
  {
   "attachments": {},
   "cell_type": "markdown",
   "metadata": {},
   "source": [
    "# Generic Functions"
   ]
  },
  {
   "cell_type": "code",
   "execution_count": 2,
   "metadata": {},
   "outputs": [
    {
     "data": {
      "text/plain": [
       "euclidean (generic function with 1 method)"
      ]
     },
     "execution_count": 2,
     "metadata": {},
     "output_type": "execute_result"
    }
   ],
   "source": [
    "# force_func\n",
    "cubic(A,r_max,r_min,dist) = - A * (dist-r_max)^2* (dist-r_min)\n",
    "\n",
    "# distances\n",
    "euclidean(points,i,j) = sqrt((points[i,1]-points[j,1])^2+(points[i,2]-points[j,2])^2+(points[i,3]-points[j,3])^2)"
   ]
  },
  {
   "attachments": {},
   "cell_type": "markdown",
   "metadata": {},
   "source": [
    "# idx"
   ]
  },
  {
   "attachments": {},
   "cell_type": "markdown",
   "metadata": {},
   "source": [
    "## functions"
   ]
  },
  {
   "cell_type": "code",
   "execution_count": 3,
   "metadata": {},
   "outputs": [
    {
     "data": {
      "text/plain": [
       "nearest_neighbors (generic function with 1 method)"
      ]
     },
     "execution_count": 3,
     "metadata": {},
     "output_type": "execute_result"
    }
   ],
   "source": [
    "function dist_kernel!(idx, points ,r_max)\n",
    "    # Defining Index for kernel\n",
    "    i = (blockIdx().x - 1) * blockDim().x + threadIdx().x\n",
    "    j = (blockIdx().y - 1) * blockDim().y + threadIdx().y\n",
    "    \n",
    "    # Limiting data inside matrix\n",
    "    if i <= size(points, 1) && j <= size(points, 1)\n",
    "        if euclidean(points,i,j) < r_max\n",
    "            idx[i, j] = i\n",
    "        else\n",
    "            idx[i, j] = 0\n",
    "        end \n",
    "    end\n",
    "    return nothing\n",
    "end\n",
    "\n",
    "function reduce_kernel(idx,idx_red,idx_sum)\n",
    "    # Defining Index for kernel\n",
    "    i  = (blockIdx().x-1) * blockDim().x + threadIdx().x\n",
    "\n",
    "    # Limiting data inside matrix\n",
    "    if i <= size(idx,1)\n",
    "        # Cleaning idx_sum\n",
    "        idx_sum[i] = 0\n",
    "        \n",
    "        # looping on each row for searching non-zero values\n",
    "        for j = 1:size(idx,1)\n",
    "            if idx[j,i] != 0\n",
    "                idx_sum[i] += 1\n",
    "                idx_red[idx_sum[i],i] = j\n",
    "            end\n",
    "        end\n",
    "    end\n",
    "    \n",
    "    return nothing\n",
    "end\n",
    "\n",
    "function nearest_neighbors(idx, idx_red, idx_sum, points ,r_max)\n",
    "    # Calculating Distance Matrix\n",
    "    threads =(32,32)\n",
    "    blocks  =cld.(size(points,1),threads)\n",
    "    @cuda threads=threads blocks=blocks dist_kernel!(idx, points ,r_max)\n",
    "\n",
    "    # Reducing Distance Matrix to Nearest Neighbors\n",
    "    threads=1024\n",
    "    blocks=cld.(size(idx,1),threads)\n",
    "    @cuda threads=threads blocks=blocks reduce_kernel(idx,idx_red,idx_sum)\n",
    "end"
   ]
  },
  {
   "attachments": {},
   "cell_type": "markdown",
   "metadata": {},
   "source": [
    "## running"
   ]
  },
  {
   "cell_type": "code",
   "execution_count": 4,
   "metadata": {},
   "outputs": [
    {
     "name": "stdout",
     "output_type": "stream",
     "text": [
      "--------------------- VARIABLES ----------------------\n",
      "R_Agg = 13 | R_Max = 4.0 | col_size_idx = 55\n"
     ]
    },
    {
     "data": {
      "text/plain": [
       "1620×3 CuArray{Float32, 2, CUDA.Mem.DeviceBuffer}:\n",
       " -0.5  -4.04  -12.25\n",
       "  1.5  -4.04  -12.25\n",
       " -3.5  -2.31  -12.25\n",
       " -1.5  -2.31  -12.25\n",
       "  0.5  -2.31  -12.25\n",
       "  2.5  -2.31  -12.25\n",
       " -2.5  -0.58  -12.25\n",
       " -0.5  -0.58  -12.25\n",
       "  1.5  -0.58  -12.25\n",
       "  3.5  -0.58  -12.25\n",
       " -3.5   1.15  -12.25\n",
       " -1.5   1.15  -12.25\n",
       "  0.5   1.15  -12.25\n",
       "  ⋮           \n",
       "  0.5  -1.15   12.25\n",
       "  2.5  -1.15   12.25\n",
       " -2.5   0.58   12.25\n",
       " -0.5   0.58   12.25\n",
       "  1.5   0.58   12.25\n",
       "  3.5   0.58   12.25\n",
       " -3.5   2.31   12.25\n",
       " -1.5   2.31   12.25\n",
       "  0.5   2.31   12.25\n",
       "  2.5   2.31   12.25\n",
       " -0.5   4.04   12.25\n",
       "  1.5   4.04   12.25"
      ]
     },
     "metadata": {},
     "output_type": "display_data"
    },
    {
     "name": "stdout",
     "output_type": "stream",
     "text": [
      "----------------------- SIZES ------------------------\n",
      "Size → idx     = (1620, 1620)\n",
      "     → idx_sum = (1, 1620)\n",
      "     → idx_red = (55, 1620)\n",
      "----------------------- RESULTS ----------------------\n",
      " 20.253982 seconds (27.73 M CPU allocations: 1.576 GiB, 3.05% gc time)\n",
      "---------------------- IDX RED ------------------------\n"
     ]
    },
    {
     "data": {
      "text/plain": [
       "55×1620 CuArray{Int32, 2, CUDA.Mem.DeviceBuffer}:\n",
       "  1   1   1   1   1   1   1   1   1  …  1516  1517  1518  1519  1526  1527\n",
       "  2   2   3   2   2   2   3   2   2     1517  1518  1519  1520  1527  1528\n",
       "  3   4   4   3   4   5   4   3   4     1524  1525  1526  1527  1534  1535\n",
       "  4   5   7   4   5   6   5   4   5     1525  1526  1527  1528  1535  1536\n",
       "  5   6   8   5   6   8   7   5   6     1526  1527  1528  1529  1536  1537\n",
       "  6   8  11   7   7   9   8   6   8  …  1533  1534  1535  1536  1542  1543\n",
       "  7   9  12   8   8  10  11   7   9     1534  1535  1536  1537  1543  1544\n",
       "  8  10  22   9   9  13  12   8  10     1574  1575  1576  1577  1582  1583\n",
       "  9  19  23  11  10  14  13   9  12     1575  1576  1577  1578  1583  1584\n",
       " 18  20  24  12  12  25  15  11  13     1580  1581  1582  1583  1589  1590\n",
       " 19  21  28  13  13  26  29  12  14  …  1581  1582  1583  1584  1590  1591\n",
       " 20  24  29  23  14  27  30  13  17     1582  1583  1584  1585  1591  1592\n",
       " 23  25  30  24  24  31  31  14  31     1587  1588  1589  1590  1595  1596\n",
       "  ⋮                   ⋮              ⋱           ⋮                    \n",
       "  0   0   0   0   0   0   0   0   0        0     0     0     0     0     0\n",
       "  0   0   0   0   0   0   0   0   0        0     0     0     0     0     0\n",
       "  0   0   0   0   0   0   0   0   0  …     0     0     0     0     0     0\n",
       "  0   0   0   0   0   0   0   0   0        0     0     0     0     0     0\n",
       "  0   0   0   0   0   0   0   0   0        0     0     0     0     0     0\n",
       "  0   0   0   0   0   0   0   0   0        0     0     0     0     0     0\n",
       "  0   0   0   0   0   0   0   0   0        0     0     0     0     0     0\n",
       "  0   0   0   0   0   0   0   0   0  …     0     0     0     0     0     0\n",
       "  0   0   0   0   0   0   0   0   0        0     0     0     0     0     0\n",
       "  0   0   0   0   0   0   0   0   0        0     0     0     0     0     0\n",
       "  0   0   0   0   0   0   0   0   0        0     0     0     0     0     0\n",
       "  0   0   0   0   0   0   0   0   0        0     0     0     0     0     0"
      ]
     },
     "metadata": {},
     "output_type": "display_data"
    },
    {
     "name": "stdout",
     "output_type": "stream",
     "text": [
      "--------------------- Memory Used ---------------------\n",
      "Effective GPU memory usage: 20.88% (418.062 MiB/1.955 GiB)\n",
      "No memory pool is in use."
     ]
    }
   ],
   "source": [
    "println(\"--------------------- VARIABLES ----------------------\")\n",
    "println(\"R_Agg = $(R_Agg) | R_Max = $(r_max) | col_size_idx = $(idx_red_size)\")\n",
    "display(X)\n",
    "println(\"----------------------- SIZES ------------------------\")\n",
    "println(\"Size → idx     = $(size(idx))\")\n",
    "println(\"     → idx_sum = $(size(idx_sum))\")\n",
    "println(\"     → idx_red = $(size(idx_red))\")\n",
    "println(\"----------------------- RESULTS ----------------------\")\n",
    "CUDA.@time nearest_neighbors(idx, idx_red, idx_sum, X ,r_max)\n",
    "println(\"---------------------- IDX RED ------------------------\")\n",
    "display(idx_red)\n",
    "println(\"--------------------- Memory Used ---------------------\")\n",
    "CUDA.memory_status()  "
   ]
  },
  {
   "attachments": {},
   "cell_type": "markdown",
   "metadata": {},
   "source": [
    "# forces"
   ]
  },
  {
   "attachments": {},
   "cell_type": "markdown",
   "metadata": {},
   "source": [
    "## functions"
   ]
  },
  {
   "cell_type": "code",
   "execution_count": 5,
   "metadata": {},
   "outputs": [
    {
     "data": {
      "text/plain": [
       "sum_force! (generic function with 1 method)"
      ]
     },
     "execution_count": 5,
     "metadata": {},
     "output_type": "execute_result"
    }
   ],
   "source": [
    "function sum_force!(idx,points,force, force_func,A,r_max,r_min)\n",
    "    # Defining Index for kernel\n",
    "    i = (blockIdx().x - 1) * blockDim().x + threadIdx().x\n",
    "    k = (blockIdx().y - 1) * blockDim().y + threadIdx().y\n",
    "\n",
    "    # Limiting data inside matrix\n",
    "    if i <= size(points, 1) && k <= size(points, 2)\n",
    "\n",
    "        # Cleaning idx_sum\n",
    "        force[i,k] = 0\n",
    "        dist = 0\n",
    "\n",
    "        # Iterate on each row\n",
    "        for j=1:size(idx,1)\n",
    "\n",
    "            # Finding forces\n",
    "            if idx[j,i] != i && idx[j,i] != 0\n",
    "                dist = euclidean(points,i,idx[j,i])\n",
    "                force[i,k] +=force_func(A,r_max,r_min,dist) * points[idx[j,i],k] / dist\n",
    "            end\n",
    "            \n",
    "        end\n",
    "    end\n",
    "    return nothing\n",
    "end"
   ]
  },
  {
   "attachments": {},
   "cell_type": "markdown",
   "metadata": {},
   "source": [
    "## running"
   ]
  },
  {
   "cell_type": "code",
   "execution_count": 6,
   "metadata": {},
   "outputs": [
    {
     "name": "stdout",
     "output_type": "stream",
     "text": [
      "  1.507212 seconds (2.98 M allocations: 171.956 MiB, 3.13% gc time, 34.60% compilation time)\n",
      "  0.614533 seconds (2.43 M allocations: 111.519 MiB, 4.07% gc time, 56.04% compilation time)\n"
     ]
    },
    {
     "data": {
      "text/plain": [
       "\u001b[32m\u001b[1mTest Passed\u001b[22m\u001b[39m"
      ]
     },
     "execution_count": 6,
     "metadata": {},
     "output_type": "execute_result"
    }
   ],
   "source": [
    "A     = 1\n",
    "r_min = 2.0\n",
    "r_max = r_max\n",
    "\n",
    "# GPU\n",
    "threads =(200,3)\n",
    "blocks  =cld.(size(X,1),threads)\n",
    "@time @cuda threads=threads blocks=blocks sum_force!(idx_red, X ,force, cubic,A,r_max,r_min)\n",
    "\n",
    "# CPU\n",
    "X_CPU = Matrix(X)\n",
    "idx_red_CPU = Matrix(idx_red)\n",
    "force_CPU = zeros(size((X)))\n",
    "\n",
    "@time for j = 1:size(idx_red_CPU,1)\n",
    "    for i =1:size(X,1)\n",
    "        if idx_red_CPU[j,i] != 0 && idx_red_CPU[j,i] != i\n",
    "            dist = euclidean(X_CPU,i,idx_red_CPU[j,i])\n",
    "            force_CPU[i,:] += cubic.(A,r_max,r_min,dist) .* X_CPU[idx_red_CPU[j,i],:] ./ dist\n",
    "        end\n",
    "    end\n",
    "end\n",
    "\n",
    "# testing\n",
    "@test Matrix(force) ≈ force_CPU atol=0.01"
   ]
  },
  {
   "attachments": {},
   "cell_type": "markdown",
   "metadata": {},
   "source": [
    "# Contractile"
   ]
  },
  {
   "attachments": {},
   "cell_type": "markdown",
   "metadata": {},
   "source": [
    "## function"
   ]
  },
  {
   "cell_type": "code",
   "execution_count": 11,
   "metadata": {},
   "outputs": [
    {
     "data": {
      "text/plain": [
       "index_contractile! (generic function with 1 method)"
      ]
     },
     "execution_count": 11,
     "metadata": {},
     "output_type": "execute_result"
    }
   ],
   "source": [
    "function index_contractile!(idx_contractile,idx_sum)\n",
    "    # Defining Index for kernel\n",
    "    i = (blockIdx().x - 1) * blockDim().x + threadIdx().x\n",
    "    j = (blockIdx().y - 1) * blockDim().y + threadIdx().y\n",
    "\n",
    "    # Limiting data inside matrix\n",
    "    if i <= size(idx_contractile, 1) && j <= size(idx_contractile,2)\n",
    "        idx_contractile[i,j] = rand(1:idx_sum[j])\n",
    "    end\n",
    "    return nothing\n",
    "end"
   ]
  },
  {
   "attachments": {},
   "cell_type": "markdown",
   "metadata": {},
   "source": [
    "## running"
   ]
  },
  {
   "cell_type": "code",
   "execution_count": 8,
   "metadata": {},
   "outputs": [
    {
     "data": {
      "text/plain": [
       "55×1620 CuArray{Int32, 2, CUDA.Mem.DeviceBuffer}:\n",
       "  1   1   1   1   1   1   1   1   1  …  1516  1517  1518  1519  1526  1527\n",
       "  2   2   3   2   2   2   3   2   2     1517  1518  1519  1520  1527  1528\n",
       "  3   4   4   3   4   5   4   3   4     1524  1525  1526  1527  1534  1535\n",
       "  4   5   7   4   5   6   5   4   5     1525  1526  1527  1528  1535  1536\n",
       "  5   6   8   5   6   8   7   5   6     1526  1527  1528  1529  1536  1537\n",
       "  6   8  11   7   7   9   8   6   8  …  1533  1534  1535  1536  1542  1543\n",
       "  7   9  12   8   8  10  11   7   9     1534  1535  1536  1537  1543  1544\n",
       "  8  10  22   9   9  13  12   8  10     1574  1575  1576  1577  1582  1583\n",
       "  9  19  23  11  10  14  13   9  12     1575  1576  1577  1578  1583  1584\n",
       " 18  20  24  12  12  25  15  11  13     1580  1581  1582  1583  1589  1590\n",
       " 19  21  28  13  13  26  29  12  14  …  1581  1582  1583  1584  1590  1591\n",
       " 20  24  29  23  14  27  30  13  17     1582  1583  1584  1585  1591  1592\n",
       " 23  25  30  24  24  31  31  14  31     1587  1588  1589  1590  1595  1596\n",
       "  ⋮                   ⋮              ⋱           ⋮                    \n",
       "  0   0   0   0   0   0   0   0   0        0     0     0     0     0     0\n",
       "  0   0   0   0   0   0   0   0   0        0     0     0     0     0     0\n",
       "  0   0   0   0   0   0   0   0   0  …     0     0     0     0     0     0\n",
       "  0   0   0   0   0   0   0   0   0        0     0     0     0     0     0\n",
       "  0   0   0   0   0   0   0   0   0        0     0     0     0     0     0\n",
       "  0   0   0   0   0   0   0   0   0        0     0     0     0     0     0\n",
       "  0   0   0   0   0   0   0   0   0        0     0     0     0     0     0\n",
       "  0   0   0   0   0   0   0   0   0  …     0     0     0     0     0     0\n",
       "  0   0   0   0   0   0   0   0   0        0     0     0     0     0     0\n",
       "  0   0   0   0   0   0   0   0   0        0     0     0     0     0     0\n",
       "  0   0   0   0   0   0   0   0   0        0     0     0     0     0     0\n",
       "  0   0   0   0   0   0   0   0   0        0     0     0     0     0     0"
      ]
     },
     "metadata": {},
     "output_type": "display_data"
    },
    {
     "data": {
      "text/plain": [
       "1×1620 CuArray{Int32, 2, CUDA.Mem.DeviceBuffer}:\n",
       " 28  27  26  30  31  28  29  33  31  …  33  31  26  26  30  31  28  28  27"
      ]
     },
     "metadata": {},
     "output_type": "display_data"
    }
   ],
   "source": [
    "display(idx_red)\n",
    "display(idx_sum)"
   ]
  },
  {
   "cell_type": "code",
   "execution_count": 23,
   "metadata": {},
   "outputs": [
    {
     "name": "stdout",
     "output_type": "stream",
     "text": [
      "  0.000070 seconds (28 allocations: 1.500 KiB)\n"
     ]
    },
    {
     "data": {
      "text/plain": [
       "50×1620 CuArray{Int32, 2, CUDA.Mem.DeviceBuffer}:\n",
       "  9   9  18   1  19  23  21  21  28  …   1   4   1  15   6  29  14  20  14\n",
       "  2   2   3  18  30  24  18  33  30     10  16  15   6  14  15   8  11  25\n",
       " 11   2  17  16  24   1  23  28   8     14  23   8   6  20  17  22  17  16\n",
       " 19  14   5  29  21   6  27  18   2      8  26  17  13  24   3   8  14  21\n",
       "  4   9   8   3  14   5  23  24  23     23   1  18  22  18  28  18   3   3\n",
       "  4   2  16   2  18  19   9  15  15  …   8  23   7  24  18  16  11  27  24\n",
       " 11   6  14  21   4  19  24  12   3     23  12  16  21  21   8   3  10  24\n",
       "  7  11   6   7   9   8  13  14   9     28  31  17  18  24   1  25   5  27\n",
       " 11  19   6  17   3  12  23  18  19     30  18  24  12  23   4  22   6   7\n",
       " 23  21   8  28  21   2   3  28  17     32  27   3  23   3  28   1  23  21\n",
       " 26   6   1  24  21  24  17  16   3  …  27   7  23  22   8   9  13   5   8\n",
       " 24  27  22  23  10   6  17  18  26     28   8   7  19  20   1  21  23  24\n",
       " 25  10  18  11  31  28  27  18  30     13  23  11  16   2  12   5  24   6\n",
       "  ⋮                   ⋮              ⋱                   ⋮              \n",
       " 21  19  24  13   9  12  15  20  19     21   4  11  23  22   6  26  27  15\n",
       "  7   2  16  15   6   8  11  21   5     18  20  10  18  10   5  18  10  20\n",
       "  2  12  23  12  20  27   3  21  16  …  22  10  18   4  21  17   4  28  21\n",
       "  4  17  15  27   3  13   4  14  16     23  15   5   9  14   5   2  16  13\n",
       " 27  26   1  24  11   6   6  10  30     29  31  17   8   1  11  12   3  24\n",
       " 12   9  11  26  11  12  27   9  26      4   4  22  11  27   5  19  19  26\n",
       "  1   5  12  21   7   5  27   3  28     13  18   5  22  23   4   9  17  12\n",
       " 18  19  21   9  27  20   9  26  24  …  11  29  15  17  11  13  27  15   5\n",
       " 25   6   1  11  13   7  28  31  29     11  31  24  11  11   3  26   8  27\n",
       " 28   3  11  19   7  22   9  24  16     17   6  16  16  23  14  13   9  19\n",
       "  6  10   9   5  23  14  15  30   7     19  20   8  26  14  27  15  27  22\n",
       "  7  26   1  28   9   5  13   9  31     11  31   9   6  17  29   6  22  14"
      ]
     },
     "execution_count": 23,
     "metadata": {},
     "output_type": "execute_result"
    }
   ],
   "source": [
    "idx_contractile =Int32.(zeros(n_knn,size(X,1))) |> cu\n",
    "\n",
    "# GPU\n",
    "threads =(32,32)\n",
    "blocks  =cld.(size(X,1),threads)\n",
    "@time @cuda threads=threads blocks=blocks index_contractile!(idx_contractile,idx_sum)\n",
    "idx_contractile"
   ]
  }
 ],
 "metadata": {
  "kernelspec": {
   "display_name": "Julia 1.6.7",
   "language": "julia",
   "name": "julia-1.6"
  },
  "language_info": {
   "file_extension": ".jl",
   "mimetype": "application/julia",
   "name": "julia",
   "version": "1.6.7"
  },
  "orig_nbformat": 4
 },
 "nbformat": 4,
 "nbformat_minor": 2
}
