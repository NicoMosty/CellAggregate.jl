{
 "cells": [
  {
   "attachments": {},
   "cell_type": "markdown",
   "metadata": {},
   "source": [
    "# Dependences"
   ]
  },
  {
   "cell_type": "code",
   "execution_count": 49,
   "metadata": {},
   "outputs": [],
   "source": [
    "using CUDA\n",
    "using DelimitedFiles\n",
    "using Test\n",
    "using BenchmarkTools\n",
    "\n",
    "# initial data\n",
    "R_Agg = 13\n",
    "r_max = 3.0\n",
    "n_knn = 50\n",
    "idx_red_size =  r_max ≤ 2.80 ? 13 :\n",
    "            2.80 < r_max ≤ 3.45 ? 21 :\n",
    "            3.45 < r_max ≤ 3.80 ? 39 :\n",
    "            3.80 < r_max ≤ 4.00 ? 55 :\n",
    "            70\n",
    "X = Float64.(readdlm(\"../../../data/init/Sphere/$(R_Agg).xyz\")[3:end,2:end]) |> cu\n",
    "\n",
    "# kNN\n",
    "idx      = Int32.(zeros(size(X, 1), size(X, 1))) |> cu;\n",
    "idx_sum  = Int32.(zeros(1, size(idx, 1))) |> cu\n",
    "idx_red  = Int32.(zeros(idx_red_size, size(idx, 1))) |> cu\n",
    "idx_contractile =Int32.(zeros(n_knn,size(X,1))) |> cu\n",
    "\n",
    "# forces\n",
    "force = CUDA.zeros(size(X));"
   ]
  },
  {
   "attachments": {},
   "cell_type": "markdown",
   "metadata": {},
   "source": [
    "# Generic Functions"
   ]
  },
  {
   "cell_type": "code",
   "execution_count": 50,
   "metadata": {},
   "outputs": [
    {
     "data": {
      "text/plain": [
       "euclidean (generic function with 1 method)"
      ]
     },
     "execution_count": 50,
     "metadata": {},
     "output_type": "execute_result"
    }
   ],
   "source": [
    "# force_func\n",
    "cubic(A,r_max,r_min,dist) = - A * (dist-r_max)^2* (dist-r_min)\n",
    "\n",
    "# distances\n",
    "euclidean(points,i,j) = sqrt((points[i,1]-points[j,1])^2+(points[i,2]-points[j,2])^2+(points[i,3]-points[j,3])^2)"
   ]
  },
  {
   "attachments": {},
   "cell_type": "markdown",
   "metadata": {},
   "source": [
    "# idx"
   ]
  },
  {
   "attachments": {},
   "cell_type": "markdown",
   "metadata": {},
   "source": [
    "## functions"
   ]
  },
  {
   "cell_type": "code",
   "execution_count": 51,
   "metadata": {},
   "outputs": [
    {
     "data": {
      "text/plain": [
       "nearest_neighbors (generic function with 1 method)"
      ]
     },
     "execution_count": 51,
     "metadata": {},
     "output_type": "execute_result"
    }
   ],
   "source": [
    "function dist_kernel!(idx, points ,r_max)\n",
    "    # Defining Index for kernel\n",
    "    i = (blockIdx().x - 1) * blockDim().x + threadIdx().x\n",
    "    j = (blockIdx().y - 1) * blockDim().y + threadIdx().y\n",
    "    \n",
    "    # Limiting data inside matrix\n",
    "    if i <= size(points, 1) && j <= size(points, 1)\n",
    "        if euclidean(points,i,j) < r_max\n",
    "            idx[i, j] = i\n",
    "        else\n",
    "            idx[i, j] = 0\n",
    "        end \n",
    "    end\n",
    "    return nothing\n",
    "end\n",
    "\n",
    "function reduce_kernel(idx,idx_red,idx_sum)\n",
    "    # Defining Index for kernel\n",
    "    i  = (blockIdx().x-1) * blockDim().x + threadIdx().x\n",
    "\n",
    "    # Limiting data inside matrix\n",
    "    if i <= size(idx,1)\n",
    "        # Cleaning idx_sum\n",
    "        idx_sum[i] = 0\n",
    "        \n",
    "        # looping on each row for searching non-zero values\n",
    "        for j = 1:size(idx,1)\n",
    "            if idx[j,i] != 0\n",
    "                idx_sum[i] += 1\n",
    "                idx_red[idx_sum[i],i] = j\n",
    "            end\n",
    "        end\n",
    "    end\n",
    "    \n",
    "    return nothing\n",
    "end\n",
    "\n",
    "function index_contractile!(idx_contractile,idx_sum,idx_red)\n",
    "    # Defining Index for kernel\n",
    "    i = (blockIdx().x - 1) * blockDim().x + threadIdx().x\n",
    "    j = (blockIdx().y - 1) * blockDim().y + threadIdx().y\n",
    "\n",
    "    # Limiting data inside matrix\n",
    "    if i <= size(idx_contractile, 1) && j <= size(idx_contractile,2)\n",
    "        idx_contractile[i,j] = idx_red[rand(1:idx_sum[j]),j]\n",
    "    end\n",
    "    return nothing\n",
    "end\n",
    "\n",
    "function nearest_neighbors(idx, idx_red, idx_sum, idx_contractile, points ,r_max)\n",
    "    # Calculating Distance Matrix\n",
    "    threads =(32,32)\n",
    "    blocks  =cld.(size(points,1),threads)\n",
    "    @cuda threads=threads blocks=blocks dist_kernel!(idx, points ,r_max)\n",
    "\n",
    "    # Reducing Distance Matrix to Nearest Neighbors\n",
    "    threads=1024\n",
    "    blocks=cld.(size(idx,1),threads)\n",
    "    @cuda threads=threads blocks=blocks reduce_kernel(idx,idx_red,idx_sum)\n",
    "\n",
    "    # Finding index contractile\n",
    "    threads =(32,32)\n",
    "    blocks  =cld.(size(X,1),threads)\n",
    "    @cuda threads=threads blocks=blocks index_contractile!(idx_contractile,idx_sum,idx_red)\n",
    "end"
   ]
  },
  {
   "attachments": {},
   "cell_type": "markdown",
   "metadata": {},
   "source": [
    "## running"
   ]
  },
  {
   "cell_type": "code",
   "execution_count": 52,
   "metadata": {},
   "outputs": [
    {
     "name": "stdout",
     "output_type": "stream",
     "text": [
      "---------------------------------- VARIABLES ------------------------------------\n",
      "R_Agg = 13 | R_Max = 3.0 | col_size_idx = 21\n"
     ]
    },
    {
     "data": {
      "text/plain": [
       "1620×3 CuArray{Float32, 2, CUDA.Mem.DeviceBuffer}:\n",
       " -0.5  -4.04  -12.25\n",
       "  1.5  -4.04  -12.25\n",
       " -3.5  -2.31  -12.25\n",
       " -1.5  -2.31  -12.25\n",
       "  0.5  -2.31  -12.25\n",
       "  2.5  -2.31  -12.25\n",
       " -2.5  -0.58  -12.25\n",
       " -0.5  -0.58  -12.25\n",
       "  1.5  -0.58  -12.25\n",
       "  3.5  -0.58  -12.25\n",
       " -3.5   1.15  -12.25\n",
       " -1.5   1.15  -12.25\n",
       "  0.5   1.15  -12.25\n",
       "  ⋮           \n",
       "  0.5  -1.15   12.25\n",
       "  2.5  -1.15   12.25\n",
       " -2.5   0.58   12.25\n",
       " -0.5   0.58   12.25\n",
       "  1.5   0.58   12.25\n",
       "  3.5   0.58   12.25\n",
       " -3.5   2.31   12.25\n",
       " -1.5   2.31   12.25\n",
       "  0.5   2.31   12.25\n",
       "  2.5   2.31   12.25\n",
       " -0.5   4.04   12.25\n",
       "  1.5   4.04   12.25"
      ]
     },
     "metadata": {},
     "output_type": "display_data"
    },
    {
     "name": "stdout",
     "output_type": "stream",
     "text": [
      "------------------------------------ SIZES --------------------------------------\n",
      "Size → idx     = (1620, 1620)\n",
      "     → idx_sum = (1, 1620)\n",
      "     → idx_red = (21, 1620)\n",
      "------------------------------------ RESULTS ------------------------------------\n",
      "  10.520 μs (77 allocations: 3.98 KiB)\n",
      "----------------------------------- IDX RED -------------------------------------\n"
     ]
    },
    {
     "data": {
      "text/plain": [
       "21×1620 CuArray{Int32, 2, CUDA.Mem.DeviceBuffer}:\n",
       "  1   1   3   1   1   2   3   4   5  …  1580  1581  1582  1583  1589  1590\n",
       "  2   2   4   3   2   5   4   5   6     1581  1582  1583  1584  1590  1591\n",
       "  4   5   7   4   4   6   7   7   8     1582  1583  1584  1585  1591  1592\n",
       "  5   6  23   5   5   9   8   8   9     1588  1589  1590  1591  1596  1597\n",
       " 19  20  29   7   6  10  11   9  10     1589  1590  1591  1592  1597  1598\n",
       " 24  25  30   8   8  26  12  12  13  …  1595  1596  1597  1598  1601  1602\n",
       " 25  26  35  24   9  32  30  13  14     1611  1611  1612  1613  1616  1617\n",
       " 30  31  36  30  25  33  36  31  32     1615  1612  1613  1614  1617  1618\n",
       " 31  32  37  31  31  38  37  37  38     1616  1615  1616  1617  1619  1619\n",
       " 32  33   0  36  32  39  43  38  39        0  1616  1617  1618  1620  1620\n",
       "  0   0   0  37  37  40  44  44  45  …     0  1617  1618  1620     0     0\n",
       "  0   0   0  38  38   0  45  45  46        0  1619  1619     0     0     0\n",
       "  0   0   0   0  39   0   0  46  47        0     0  1620     0     0     0\n",
       "  0   0   0   0   0   0   0   0   0        0     0     0     0     0     0\n",
       "  0   0   0   0   0   0   0   0   0        0     0     0     0     0     0\n",
       "  0   0   0   0   0   0   0   0   0  …     0     0     0     0     0     0\n",
       "  0   0   0   0   0   0   0   0   0        0     0     0     0     0     0\n",
       "  0   0   0   0   0   0   0   0   0        0     0     0     0     0     0\n",
       "  0   0   0   0   0   0   0   0   0        0     0     0     0     0     0\n",
       "  0   0   0   0   0   0   0   0   0        0     0     0     0     0     0\n",
       "  0   0   0   0   0   0   0   0   0  …     0     0     0     0     0     0"
      ]
     },
     "metadata": {},
     "output_type": "display_data"
    },
    {
     "name": "stdout",
     "output_type": "stream",
     "text": [
      "----------------------------------- IDX SUM -------------------------------------\n"
     ]
    },
    {
     "data": {
      "text/plain": [
       "1×1620 CuArray{Int32, 2, CUDA.Mem.DeviceBuffer}:\n",
       " 10  10  9  12  13  11  12  13  13  10  …  13  13  10  9  12  13  11  10  10"
      ]
     },
     "metadata": {},
     "output_type": "display_data"
    },
    {
     "name": "stdout",
     "output_type": "stream",
     "text": [
      "------------------------------- IDX CONTRACTILE ---------------------------------\n"
     ]
    },
    {
     "data": {
      "text/plain": [
       "50×1620 CuArray{Int32, 2, CUDA.Mem.DeviceBuffer}:\n",
       " 19   5   3  30   5   9  45   7  45  …  1582  1611  1612  1584  1620  1618\n",
       " 31   5  30  37   2  33   7  44  13     1588  1611  1619  1584  1590  1590\n",
       " 30  33  35   3   2  33  37   9   8     1595  1612  1582  1584  1596  1598\n",
       " 30  32  23  36  32   2  37  12   5     1616  1611  1616  1620  1616  1592\n",
       " 32  32  37   7  38  26   3  45  46     1611  1589  1590  1614  1619  1597\n",
       "  4   2  29  31   8  32  45  31  10  …  1615  1619  1613  1591  1601  1590\n",
       " 24  26  29  24   8   5  12  31  39     1615  1590  1616  1613  1597  1618\n",
       "  2  33  30   4  25   2   8  12  32     1580  1590  1591  1598  1596  1602\n",
       " 25   6  36  38  38  40  37   9  13     1588  1617  1590  1591  1620  1617\n",
       "  1   2   7  24   8   2   3  13   8     1581  1615  1616  1614  1617  1617\n",
       " 24  20  29  24  37   5   8  45  32  …  1588  1615  1584  1617  1617  1590\n",
       "  1  33   3  31   5   5  37   4   6     1589  1590  1613  1592  1590  1619\n",
       " 19  33  37  24   4  40  43  31  47     1580  1596  1612  1591  1590  1598\n",
       "  ⋮                   ⋮              ⋱           ⋮                    \n",
       "  4  20   7  30   4  39  45   7  13     1581  1589  1613  1583  1597  1590\n",
       "  2  26  30  36  31   2  36  45   9     1581  1589  1617  1620  1620  1598\n",
       "  1  33   4   3  32  39  43   5   6  …  1611  1611  1583  1585  1620  1617\n",
       " 24  33   3   8  39  38   4   9   6     1581  1612  1617  1598  1619  1590\n",
       " 31   1  23   1  25  10  37   4  13     1581  1596  1584  1585  1590  1590\n",
       " 25  31  29   5  31   9  12   9  45     1589  1582  1619  1591  1616  1592\n",
       "  5  32  29   1   4   2  44   4   8     1580  1617  1613  1584  1620  1602\n",
       " 32   6  29  30  31  33  11  46  13  …  1595  1583  1612  1591  1590  1619\n",
       " 25   5   7  38   9   9  30  13  14     1581  1619  1618  1591  1597  1598\n",
       "  1  31   3   1  39  32  44  13   8     1616  1596  1591  1585  1601  1617\n",
       " 19  32   7  38   2   2   7   4  10     1588  1619  1582  1613  1601  1598\n",
       "  2   6  37  36  25  10  44  13  13     1611  1590  1584  1617  1620  1602"
      ]
     },
     "metadata": {},
     "output_type": "display_data"
    },
    {
     "name": "stdout",
     "output_type": "stream",
     "text": [
      "---------------------------------- Memory Used ----------------------------------\n",
      "Effective GPU memory usage: 2.35% (283.062 MiB/11.763 GiB)\n",
      "Memory pool usage: 11.328 MiB (32.000 MiB reserved)"
     ]
    }
   ],
   "source": [
    "println(\"---------------------------------- VARIABLES ------------------------------------\")\n",
    "println(\"R_Agg = $(R_Agg) | R_Max = $(r_max) | col_size_idx = $(idx_red_size)\")\n",
    "display(X)\n",
    "println(\"------------------------------------ SIZES --------------------------------------\")\n",
    "println(\"Size → idx     = $(size(idx))\")\n",
    "println(\"     → idx_sum = $(size(idx_sum))\")\n",
    "println(\"     → idx_red = $(size(idx_red))\")\n",
    "println(\"------------------------------------ RESULTS ------------------------------------\")\n",
    "@btime nearest_neighbors(idx, idx_red, idx_sum,idx_contractile, X ,r_max)\n",
    "println(\"----------------------------------- IDX RED -------------------------------------\")\n",
    "display(idx_red)\n",
    "println(\"----------------------------------- IDX SUM -------------------------------------\")\n",
    "display(idx_sum)\n",
    "println(\"------------------------------- IDX CONTRACTILE ---------------------------------\")\n",
    "display(idx_contractile)\n",
    "println(\"---------------------------------- Memory Used ----------------------------------\")\n",
    "CUDA.memory_status()  "
   ]
  },
  {
   "attachments": {},
   "cell_type": "markdown",
   "metadata": {},
   "source": [
    "# forces"
   ]
  },
  {
   "attachments": {},
   "cell_type": "markdown",
   "metadata": {},
   "source": [
    "## functions"
   ]
  },
  {
   "cell_type": "code",
   "execution_count": 53,
   "metadata": {},
   "outputs": [
    {
     "data": {
      "text/plain": [
       "sum_force! (generic function with 1 method)"
      ]
     },
     "execution_count": 53,
     "metadata": {},
     "output_type": "execute_result"
    }
   ],
   "source": [
    "function sum_force!(idx,points,force, force_func,A,r_max,r_min)\n",
    "    # Defining Index for kernel\n",
    "    i = (blockIdx().x - 1) * blockDim().x + threadIdx().x\n",
    "    k = (blockIdx().y - 1) * blockDim().y + threadIdx().y\n",
    "\n",
    "    # Limiting data inside matrix\n",
    "    if i <= size(points, 1) && k <= size(points, 2)\n",
    "\n",
    "        # Cleaning idx_sum\n",
    "        force[i,k] = 0\n",
    "        dist = 0\n",
    "\n",
    "        # Iterate on each row\n",
    "        for j=1:size(idx,1)\n",
    "\n",
    "            # Finding forces\n",
    "            if idx[j,i] != i && idx[j,i] != 0\n",
    "                dist = euclidean(points,i,idx[j,i])\n",
    "                force[i,k] +=force_func(A,r_max,r_min,dist) * points[idx[j,i],k] / dist\n",
    "            end\n",
    "            \n",
    "        end\n",
    "\n",
    "        # PENDING\n",
    "        # force[i,k] += idx[rand(1:idx_sum[k]),k]\n",
    "        \n",
    "    end\n",
    "    return nothing\n",
    "end"
   ]
  },
  {
   "attachments": {},
   "cell_type": "markdown",
   "metadata": {},
   "source": [
    "## running"
   ]
  },
  {
   "cell_type": "code",
   "execution_count": 54,
   "metadata": {},
   "outputs": [
    {
     "name": "stdout",
     "output_type": "stream",
     "text": [
      "  4.474 μs (41 allocations: 2.09 KiB)\n"
     ]
    },
    {
     "data": {
      "text/plain": [
       "\u001b[32m\u001b[1mTest Passed\u001b[22m\u001b[39m"
      ]
     },
     "execution_count": 54,
     "metadata": {},
     "output_type": "execute_result"
    }
   ],
   "source": [
    "A     = 1\n",
    "r_min = 2.0\n",
    "r_max = r_max\n",
    "\n",
    "# GPU\n",
    "threads =(200,3)\n",
    "blocks  =cld.(size(X,1),threads)\n",
    "@btime @cuda threads=threads blocks=blocks sum_force!(idx_red, X ,force, cubic,A,r_max,r_min)\n",
    "\n",
    "# CPU\n",
    "X_CPU = Matrix(X)\n",
    "idx_red_CPU = Matrix(idx_red)\n",
    "force_CPU = zeros(size((X)))\n",
    "\n",
    "for j = 1:size(idx_red_CPU,1)\n",
    "    for i =1:size(X,1)\n",
    "        if idx_red_CPU[j,i] != 0 && idx_red_CPU[j,i] != i\n",
    "            dist = euclidean(X_CPU,i,idx_red_CPU[j,i])\n",
    "            force_CPU[i,:] += cubic.(A,r_max,r_min,dist) .* X_CPU[idx_red_CPU[j,i],:] ./ dist\n",
    "        end\n",
    "    end\n",
    "end\n",
    "\n",
    "# testing\n",
    "@test Matrix(force) ≈ force_CPU atol=0.01"
   ]
  }
 ],
 "metadata": {
  "kernelspec": {
   "display_name": "Julia 1.6.7",
   "language": "julia",
   "name": "julia-1.6"
  },
  "language_info": {
   "file_extension": ".jl",
   "mimetype": "application/julia",
   "name": "julia",
   "version": "1.6.7"
  },
  "orig_nbformat": 4
 },
 "nbformat": 4,
 "nbformat_minor": 2
}
