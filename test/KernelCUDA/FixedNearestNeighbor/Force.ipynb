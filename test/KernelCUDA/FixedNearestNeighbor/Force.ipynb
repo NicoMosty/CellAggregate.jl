{
 "cells": [
  {
   "attachments": {},
   "cell_type": "markdown",
   "metadata": {},
   "source": [
    "# Dependences"
   ]
  },
  {
   "cell_type": "code",
   "execution_count": 98,
   "metadata": {},
   "outputs": [],
   "source": [
    "using CUDA\n",
    "using DelimitedFiles\n",
    "using Test\n",
    "using BenchmarkTools\n",
    "\n",
    "# initial data\n",
    "R_Agg = 13\n",
    "r_max = 3.0\n",
    "n_knn = 50\n",
    "idx_red_size =  r_max ≤ 2.80 ? 13 :\n",
    "            2.80 < r_max ≤ 3.45 ? 21 :\n",
    "            3.45 < r_max ≤ 3.80 ? 39 :\n",
    "            3.80 < r_max ≤ 4.00 ? 55 :\n",
    "            70\n",
    "X = Float64.(readdlm(\"../../../data/init/Sphere/$(R_Agg).xyz\")[3:end,2:end]) |> cu\n",
    "\n",
    "# kNN\n",
    "idx      = Int32.(zeros(size(X, 1), size(X, 1))) |> cu;\n",
    "idx_sum  = Int32.(zeros(1, size(idx, 1))) |> cu\n",
    "idx_red  = Int32.(zeros(idx_red_size, size(idx, 1))) |> cu\n",
    "idx_contractile =Int32.(zeros(n_knn,size(X,1))) |> cu\n",
    "\n",
    "# forces\n",
    "force = CUDA.zeros(size(X));"
   ]
  },
  {
   "attachments": {},
   "cell_type": "markdown",
   "metadata": {},
   "source": [
    "# Generic Functions"
   ]
  },
  {
   "cell_type": "code",
   "execution_count": 99,
   "metadata": {},
   "outputs": [
    {
     "data": {
      "text/plain": [
       "euclidean (generic function with 1 method)"
      ]
     },
     "execution_count": 99,
     "metadata": {},
     "output_type": "execute_result"
    }
   ],
   "source": [
    "# force_func\n",
    "cubic(A,r_max,r_min,dist) = - A * (dist-r_max)^2* (dist-r_min)\n",
    "\n",
    "# distances\n",
    "euclidean(points,i,j) = sqrt((points[i,1]-points[j,1])^2+(points[i,2]-points[j,2])^2+(points[i,3]-points[j,3])^2)"
   ]
  },
  {
   "attachments": {},
   "cell_type": "markdown",
   "metadata": {},
   "source": [
    "# idx"
   ]
  },
  {
   "attachments": {},
   "cell_type": "markdown",
   "metadata": {},
   "source": [
    "## functions"
   ]
  },
  {
   "cell_type": "code",
   "execution_count": 100,
   "metadata": {},
   "outputs": [
    {
     "data": {
      "text/plain": [
       "nearest_neighbors (generic function with 1 method)"
      ]
     },
     "execution_count": 100,
     "metadata": {},
     "output_type": "execute_result"
    }
   ],
   "source": [
    "function dist_kernel!(idx, points ,r_max)\n",
    "    # Defining Index for kernel\n",
    "    i = (blockIdx().x - 1) * blockDim().x + threadIdx().x\n",
    "    j = (blockIdx().y - 1) * blockDim().y + threadIdx().y\n",
    "    \n",
    "    # Limiting data inside matrix\n",
    "    if i <= size(points, 1) && j <= size(points, 1)\n",
    "        if euclidean(points,i,j) < r_max\n",
    "            idx[i, j] = i\n",
    "        else\n",
    "            idx[i, j] = 0\n",
    "        end \n",
    "    end\n",
    "    return nothing\n",
    "end\n",
    "\n",
    "function reduce_kernel(idx,idx_red,idx_sum)\n",
    "    # Defining Index for kernel\n",
    "    i  = (blockIdx().x-1) * blockDim().x + threadIdx().x\n",
    "\n",
    "    # Limiting data inside matrix\n",
    "    if i <= size(idx,1)\n",
    "        # Cleaning idx_sum\n",
    "        idx_sum[i] = 0\n",
    "        \n",
    "        # looping on each row for searching non-zero values\n",
    "        for j = 1:size(idx,1)\n",
    "            if idx[j,i] != 0\n",
    "                idx_sum[i] += 1\n",
    "                idx_red[idx_sum[i],i] = j\n",
    "            end\n",
    "        end\n",
    "    end\n",
    "    \n",
    "    return nothing\n",
    "end\n",
    "\n",
    "function index_contractile!(idx_contractile,idx_sum,idx_red)\n",
    "    # Defining Index for kernel\n",
    "    i = (blockIdx().x - 1) * blockDim().x + threadIdx().x\n",
    "    j = (blockIdx().y - 1) * blockDim().y + threadIdx().y\n",
    "\n",
    "    # Limiting data inside matrix\n",
    "    if i <= size(idx_contractile, 1) && j <= size(idx_contractile,2)\n",
    "        idx_contractile[i,j] = idx_red[rand(1:idx_sum[j]),j]\n",
    "    end\n",
    "    return nothing\n",
    "end\n",
    "\n",
    "function nearest_neighbors(idx, idx_red, idx_sum, idx_contractile, points ,r_max)\n",
    "    # Calculating Distance Matrix\n",
    "    threads =(32,32)\n",
    "    blocks  =cld.(size(points,1),threads)\n",
    "    @cuda threads=threads blocks=blocks dist_kernel!(idx, points ,r_max)\n",
    "\n",
    "    # Reducing Distance Matrix to Nearest Neighbors\n",
    "    threads=1024\n",
    "    blocks=cld.(size(idx,1),threads)\n",
    "    @cuda threads=threads blocks=blocks reduce_kernel(idx,idx_red,idx_sum)\n",
    "\n",
    "    # Finding index contractile\n",
    "    threads =(32,32)\n",
    "    blocks  =cld.(size(X,1),threads)\n",
    "    @cuda threads=threads blocks=blocks index_contractile!(idx_contractile,idx_sum,idx_red)\n",
    "end"
   ]
  },
  {
   "attachments": {},
   "cell_type": "markdown",
   "metadata": {},
   "source": [
    "## running"
   ]
  },
  {
   "cell_type": "code",
   "execution_count": 101,
   "metadata": {},
   "outputs": [
    {
     "name": "stdout",
     "output_type": "stream",
     "text": [
      "---------------------------------- VARIABLES ------------------------------------\n",
      "R_Agg = 13 | R_Max = 3.0 | col_size_idx = 21\n"
     ]
    },
    {
     "data": {
      "text/plain": [
       "1620×3 CuArray{Float32, 2, CUDA.Mem.DeviceBuffer}:\n",
       " -0.5  -4.04  -12.25\n",
       "  1.5  -4.04  -12.25\n",
       " -3.5  -2.31  -12.25\n",
       " -1.5  -2.31  -12.25\n",
       "  0.5  -2.31  -12.25\n",
       "  2.5  -2.31  -12.25\n",
       " -2.5  -0.58  -12.25\n",
       " -0.5  -0.58  -12.25\n",
       "  1.5  -0.58  -12.25\n",
       "  3.5  -0.58  -12.25\n",
       " -3.5   1.15  -12.25\n",
       " -1.5   1.15  -12.25\n",
       "  0.5   1.15  -12.25\n",
       "  ⋮           \n",
       "  0.5  -1.15   12.25\n",
       "  2.5  -1.15   12.25\n",
       " -2.5   0.58   12.25\n",
       " -0.5   0.58   12.25\n",
       "  1.5   0.58   12.25\n",
       "  3.5   0.58   12.25\n",
       " -3.5   2.31   12.25\n",
       " -1.5   2.31   12.25\n",
       "  0.5   2.31   12.25\n",
       "  2.5   2.31   12.25\n",
       " -0.5   4.04   12.25\n",
       "  1.5   4.04   12.25"
      ]
     },
     "metadata": {},
     "output_type": "display_data"
    },
    {
     "name": "stdout",
     "output_type": "stream",
     "text": [
      "------------------------------------ SIZES --------------------------------------\n",
      "Size → idx     = (1620, 1620)\n",
      "     → idx_sum = (1, 1620)\n",
      "     → idx_red = (21, 1620)\n",
      "------------------------------------ RESULTS ------------------------------------\n",
      "  13.273 μs (77 allocations: 4.03 KiB)\n",
      "----------------------------------- IDX RED -------------------------------------\n"
     ]
    },
    {
     "data": {
      "text/plain": [
       "21×1620 CuArray{Int32, 2, CUDA.Mem.DeviceBuffer}:\n",
       "  1   1   3   1   1   2   3   4   5  …  1580  1581  1582  1583  1589  1590\n",
       "  2   2   4   3   2   5   4   5   6     1581  1582  1583  1584  1590  1591\n",
       "  4   5   7   4   4   6   7   7   8     1582  1583  1584  1585  1591  1592\n",
       "  5   6  23   5   5   9   8   8   9     1588  1589  1590  1591  1596  1597\n",
       " 19  20  29   7   6  10  11   9  10     1589  1590  1591  1592  1597  1598\n",
       " 24  25  30   8   8  26  12  12  13  …  1595  1596  1597  1598  1601  1602\n",
       " 25  26  35  24   9  32  30  13  14     1611  1611  1612  1613  1616  1617\n",
       " 30  31  36  30  25  33  36  31  32     1615  1612  1613  1614  1617  1618\n",
       " 31  32  37  31  31  38  37  37  38     1616  1615  1616  1617  1619  1619\n",
       " 32  33   0  36  32  39  43  38  39        0  1616  1617  1618  1620  1620\n",
       "  0   0   0  37  37  40  44  44  45  …     0  1617  1618  1620     0     0\n",
       "  0   0   0  38  38   0  45  45  46        0  1619  1619     0     0     0\n",
       "  0   0   0   0  39   0   0  46  47        0     0  1620     0     0     0\n",
       "  0   0   0   0   0   0   0   0   0        0     0     0     0     0     0\n",
       "  0   0   0   0   0   0   0   0   0        0     0     0     0     0     0\n",
       "  0   0   0   0   0   0   0   0   0  …     0     0     0     0     0     0\n",
       "  0   0   0   0   0   0   0   0   0        0     0     0     0     0     0\n",
       "  0   0   0   0   0   0   0   0   0        0     0     0     0     0     0\n",
       "  0   0   0   0   0   0   0   0   0        0     0     0     0     0     0\n",
       "  0   0   0   0   0   0   0   0   0        0     0     0     0     0     0\n",
       "  0   0   0   0   0   0   0   0   0  …     0     0     0     0     0     0"
      ]
     },
     "metadata": {},
     "output_type": "display_data"
    },
    {
     "name": "stdout",
     "output_type": "stream",
     "text": [
      "----------------------------------- IDX SUM -------------------------------------\n"
     ]
    },
    {
     "data": {
      "text/plain": [
       "1×1620 CuArray{Int32, 2, CUDA.Mem.DeviceBuffer}:\n",
       " 10  10  9  12  13  11  12  13  13  10  …  13  13  10  9  12  13  11  10  10"
      ]
     },
     "metadata": {},
     "output_type": "display_data"
    },
    {
     "name": "stdout",
     "output_type": "stream",
     "text": [
      "------------------------------- IDX CONTRACTILE ---------------------------------\n"
     ]
    },
    {
     "data": {
      "text/plain": [
       "50×1620 CuArray{Int32, 2, CUDA.Mem.DeviceBuffer}:\n",
       "  5   1  23   4  37  32  11   7  13  …  1616  1611  1612  1583  1616  1619\n",
       "  5  26  23   7   5  40   7   8  13     1581  1617  1590  1583  1589  1620\n",
       " 30  20  23   8   5   2  11  38  10     1580  1581  1590  1614  1619  1590\n",
       "  2   6   7   1   1  39   3  37  47     1580  1611  1619  1613  1620  1602\n",
       "  5   2  30   5   2  40   7   7   8     1616  1617  1591  1591  1601  1598\n",
       " 31   6  36  24  37   9  36  31  45  …  1616  1583  1618  1617  1619  1590\n",
       "  5   6  36   5  38  40  30   7  14     1589  1589  1590  1585  1620  1618\n",
       " 30  32  23  37   9   6   7  46  38     1581  1581  1590  1613  1590  1591\n",
       "  2   2  29   1  39  32   3  31  10     1581  1611  1582  1618  1591  1619\n",
       " 24   5  29  31   9   9  30  13  39     1595  1583  1619  1583  1620  1620\n",
       " 24  32  23   1   2  39   3  37   6  …  1615  1615  1613  1585  1597  1591\n",
       " 30  31  36  24  31  32   3  44  10     1581  1616  1584  1620  1596  1591\n",
       "  1   6  29   3  32  39  36  37  46     1589  1612  1583  1598  1620  1592\n",
       "  ⋮                   ⋮              ⋱           ⋮                    \n",
       "  5   2  37  24   4   2  36  37  32     1615  1619  1617  1585  1619  1602\n",
       "  1   6  36  38   1  40  37   4   8     1580  1582  1590  1620  1590  1591\n",
       " 24   2  37  36   5   2  43  46  38  …  1611  1581  1582  1620  1616  1620\n",
       "  4  25   4  24  31   6  36   7  47     1615  1612  1616  1613  1601  1618\n",
       " 30   2  23  36  25   5   7  37   5     1611  1611  1616  1591  1619  1620\n",
       "  1   2   3  37  25   6   3   8  46     1588  1611  1617  1620  1616  1619\n",
       " 30   5  30  30   4  38  44  46  46     1611  1590  1591  1617  1596  1619\n",
       "  4   2  29  31  37  33  36   7  39  …  1615  1581  1591  1617  1596  1598\n",
       "  4  32  23   1  31  38  37  46  46     1595  1581  1619  1591  1596  1592\n",
       "  1  26   7   5  31  26   8   7  14     1611  1615  1591  1583  1589  1591\n",
       "  4  25  36  30  25   5  43   9  39     1580  1612  1613  1598  1620  1591\n",
       "  2  32  36  38  25  38   4   9  46     1588  1612  1612  1584  1620  1598"
      ]
     },
     "metadata": {},
     "output_type": "display_data"
    },
    {
     "name": "stdout",
     "output_type": "stream",
     "text": [
      "---------------------------------- Memory Used ----------------------------------\n",
      "Effective GPU memory usage: 11.22% (224.562 MiB/1.955 GiB)\n",
      "No memory pool is in use."
     ]
    }
   ],
   "source": [
    "println(\"---------------------------------- VARIABLES ------------------------------------\")\n",
    "println(\"R_Agg = $(R_Agg) | R_Max = $(r_max) | col_size_idx = $(idx_red_size)\")\n",
    "display(X)\n",
    "println(\"------------------------------------ SIZES --------------------------------------\")\n",
    "println(\"Size → idx     = $(size(idx))\")\n",
    "println(\"     → idx_sum = $(size(idx_sum))\")\n",
    "println(\"     → idx_red = $(size(idx_red))\")\n",
    "println(\"------------------------------------ RESULTS ------------------------------------\")\n",
    "@btime nearest_neighbors(idx, idx_red, idx_sum,idx_contractile, X ,r_max)\n",
    "println(\"----------------------------------- IDX RED -------------------------------------\")\n",
    "display(idx_red)\n",
    "println(\"----------------------------------- IDX SUM -------------------------------------\")\n",
    "display(idx_sum)\n",
    "println(\"------------------------------- IDX CONTRACTILE ---------------------------------\")\n",
    "display(idx_contractile)\n",
    "println(\"---------------------------------- Memory Used ----------------------------------\")\n",
    "CUDA.memory_status()  "
   ]
  },
  {
   "attachments": {},
   "cell_type": "markdown",
   "metadata": {},
   "source": [
    "# forces"
   ]
  },
  {
   "attachments": {},
   "cell_type": "markdown",
   "metadata": {},
   "source": [
    "## functions"
   ]
  },
  {
   "cell_type": "code",
   "execution_count": 102,
   "metadata": {},
   "outputs": [
    {
     "data": {
      "text/plain": [
       "sum_force! (generic function with 1 method)"
      ]
     },
     "execution_count": 102,
     "metadata": {},
     "output_type": "execute_result"
    }
   ],
   "source": [
    "function sum_force!(idx,idx_contractile,points,force, force_func,A,r_max,r_min,A_con,t_knn)\n",
    "    # Defining Index for kernel\n",
    "    i = (blockIdx().x - 1) * blockDim().x + threadIdx().x\n",
    "    k = (blockIdx().y - 1) * blockDim().y + threadIdx().y\n",
    "\n",
    "    # Limiting data inside matrix\n",
    "    if i <= size(points, 1) && k <= size(points, 2)\n",
    "\n",
    "        # Cleaning idx_sum\n",
    "        force[i,k] = 0\n",
    "        dist = 0\n",
    "\n",
    "        # Iterate on each row\n",
    "        for j=1:size(idx,1)\n",
    "\n",
    "            # Finding forces\n",
    "            if idx[j,i] != i && idx[j,i] != 0\n",
    "                dist = euclidean(points,i,idx[j,i])\n",
    "                force[i,k] +=force_func(A,r_max,r_min,dist) * points[idx[j,i],k] / dist\n",
    "            end\n",
    "            \n",
    "        end\n",
    "\n",
    "        # Adding Contrractile Force\n",
    "        if idx_contractile[t_knn,i] != i && idx_contractile[t_knn,i] != 0\n",
    "            dist = euclidean(points,i,idx_contractile[t_knn,i])\n",
    "            force[i,k] += A_con*points[idx_contractile[t_knn,i],k]/dist\n",
    "        end\n",
    "        \n",
    "    end\n",
    "    return nothing\n",
    "end"
   ]
  },
  {
   "attachments": {},
   "cell_type": "markdown",
   "metadata": {},
   "source": [
    "## running"
   ]
  },
  {
   "cell_type": "code",
   "execution_count": 103,
   "metadata": {},
   "outputs": [
    {
     "data": {
      "text/plain": [
       "1"
      ]
     },
     "execution_count": 103,
     "metadata": {},
     "output_type": "execute_result"
    }
   ],
   "source": [
    "dt = 0.5\n",
    "A     = 0.1\n",
    "A_con = 0.001\n",
    "r_min = 2.0\n",
    "r_max = r_max\n",
    "\n",
    "t_knn = 1"
   ]
  },
  {
   "cell_type": "code",
   "execution_count": 104,
   "metadata": {},
   "outputs": [
    {
     "data": {
      "text/plain": [
       "CUDA.HostKernel{typeof(sum_force!), Tuple{CuDeviceMatrix{Int32, 1}, CuDeviceMatrix{Int32, 1}, CuDeviceMatrix{Float32, 1}, CuDeviceMatrix{Float32, 1}, typeof(cubic), Float64, Float64, Float64, Float64, Int64}}(sum_force!, CuFunction(Ptr{CUDA.CUfunc_st} @0x0000000013cf13e0, CuModule(Ptr{CUDA.CUmod_st} @0x0000000013ddf8d0, CuContext(0x0000000004361960, instance 310f24a47c9247f0))), CUDA.KernelState(Ptr{Nothing} @0x0000000203400000))"
      ]
     },
     "execution_count": 104,
     "metadata": {},
     "output_type": "execute_result"
    }
   ],
   "source": [
    "# GPU\n",
    "threads =(100,3)\n",
    "blocks  =cld.(size(X,1),threads)\n",
    "@cuda threads=threads blocks=blocks sum_force!(idx_red,idx_contractile, X ,force, cubic,A,r_max,r_min,A_con,Int(t_knn))"
   ]
  },
  {
   "attachments": {},
   "cell_type": "markdown",
   "metadata": {},
   "source": [
    "## Pending (Test with CPU)"
   ]
  },
  {
   "cell_type": "code",
   "execution_count": 105,
   "metadata": {},
   "outputs": [],
   "source": [
    "# CPU\n",
    "X_CPU = Matrix(X)\n",
    "idx_red_CPU = Matrix(idx_red)\n",
    "idx_contractile_CPU = Matrix(idx_contractile)\n",
    "force_CPU = zeros(size((X)))\n",
    "\n",
    "\n",
    "for j = 1:size(idx_red_CPU,1)\n",
    "    for i =1:size(X,1)\n",
    "        if idx_red_CPU[j,i] != 0 && idx_red_CPU[j,i] != i\n",
    "            dist = euclidean(X_CPU,i,idx_red_CPU[j,i])\n",
    "            force_CPU[i,:] += cubic.(A,r_max,r_min,dist) .* X_CPU[idx_red_CPU[j,i],:] ./ dist\n",
    "        end\n",
    "    end\n",
    "end\n",
    "\n",
    "for i =1:size(X,1)\n",
    "    if idx_contractile_CPU[t_knn,i] != 0 && idx_contractile_CPU[t_knn,i] != i\n",
    "        dist = euclidean(X_CPU,i,idx_contractile_CPU[t_knn,i])\n",
    "        force_CPU[i,:] += A_con .* X_CPU[idx_contractile_CPU[t_knn,i],:] ./ dist\n",
    "    end\n",
    "end"
   ]
  },
  {
   "cell_type": "code",
   "execution_count": 106,
   "metadata": {},
   "outputs": [
    {
     "data": {
      "text/plain": [
       "\u001b[32m\u001b[1mTest Passed\u001b[22m\u001b[39m"
      ]
     },
     "execution_count": 106,
     "metadata": {},
     "output_type": "execute_result"
    }
   ],
   "source": [
    "# testing\n",
    "@test Matrix(force) ≈ force_CPU atol=0.01"
   ]
  },
  {
   "cell_type": "code",
   "execution_count": 107,
   "metadata": {},
   "outputs": [
    {
     "data": {
      "text/plain": [
       "1620×3 CuArray{Float32, 2, CUDA.Mem.DeviceBuffer}:\n",
       "  0.00180784    0.0118934     0.0266297\n",
       " -0.00492285    0.0110295     0.0266351\n",
       "  0.0107864     0.00629834    0.0322816\n",
       "  0.00493564    0.00751712    0.0338418\n",
       " -0.00210006    0.00675113    0.0290064\n",
       " -0.00741904    0.00607679    0.028554\n",
       "  0.00540399    0.00196914    0.0236526\n",
       "  0.000181109   0.00110363    0.0236581\n",
       " -0.0040431     0.00196914    0.0236526\n",
       " -0.0100704     0.00120708    0.0258431\n",
       "  0.0109036    -0.00520964    0.0318804\n",
       "  0.00444228   -0.00565993    0.0357698\n",
       " -0.00214581   -0.00450937    0.0349612\n",
       "  ⋮                          \n",
       " -0.0021469     0.00623967   -0.0349348\n",
       " -0.0075479     0.00526136   -0.030788\n",
       "  0.0064069    -0.000819668  -0.0244877\n",
       "  0.000549163  -0.00159824   -0.0260401\n",
       " -0.0040431    -0.00196914   -0.0236526\n",
       " -0.00907805   -0.00178581   -0.0266862\n",
       "  0.0112719    -0.00677414   -0.0299018\n",
       "  0.00368453   -0.00722686   -0.0277114\n",
       " -0.00182112   -0.00686657   -0.0266189\n",
       " -0.00799023   -0.00711142   -0.0300989\n",
       "  0.00080695   -0.0118934    -0.0266297\n",
       " -0.00492285   -0.0110295    -0.0266351"
      ]
     },
     "metadata": {},
     "output_type": "display_data"
    },
    {
     "data": {
      "text/plain": [
       "1620×3 Matrix{Float64}:\n",
       "  0.00180784    0.0118934     0.0266297\n",
       " -0.00492285    0.0110295     0.0266351\n",
       "  0.0107864     0.00629834    0.0322816\n",
       "  0.00493564    0.00751712    0.0338418\n",
       " -0.00210006    0.00675113    0.0290064\n",
       " -0.00741904    0.00607679    0.028554\n",
       "  0.00540399    0.00196914    0.0236527\n",
       "  0.000181109   0.00110363    0.0236581\n",
       " -0.0040431     0.00196914    0.0236527\n",
       " -0.0100704     0.00120708    0.025843\n",
       "  0.0109036    -0.00520964    0.0318805\n",
       "  0.00444228   -0.00565993    0.0357698\n",
       " -0.00214581   -0.00450937    0.0349612\n",
       "  ⋮                          \n",
       " -0.0021469     0.00623967   -0.0349348\n",
       " -0.0075479     0.00526136   -0.030788\n",
       "  0.0064069    -0.000819668  -0.0244877\n",
       "  0.000549164  -0.00159824   -0.0260401\n",
       " -0.0040431    -0.00196914   -0.0236527\n",
       " -0.00907805   -0.00178581   -0.0266862\n",
       "  0.0112719    -0.00677414   -0.0299018\n",
       "  0.00368453   -0.00722686   -0.0277114\n",
       " -0.00182112   -0.00686657   -0.0266189\n",
       " -0.00799022   -0.00711142   -0.0300989\n",
       "  0.00080695   -0.0118934    -0.0266297\n",
       " -0.00492285   -0.0110295    -0.0266351"
      ]
     },
     "metadata": {},
     "output_type": "display_data"
    }
   ],
   "source": [
    "display(force)\n",
    "display(force_CPU)"
   ]
  }
 ],
 "metadata": {
  "kernelspec": {
   "display_name": "Julia 1.6.7",
   "language": "julia",
   "name": "julia-1.6"
  },
  "language_info": {
   "file_extension": ".jl",
   "mimetype": "application/julia",
   "name": "julia",
   "version": "1.6.7"
  },
  "orig_nbformat": 4
 },
 "nbformat": 4,
 "nbformat_minor": 2
}
