{
 "cells": [
  {
   "cell_type": "markdown",
   "metadata": {},
   "source": [
    "# Dependences"
   ]
  },
  {
   "cell_type": "code",
   "execution_count": 2,
   "metadata": {},
   "outputs": [],
   "source": [
    "using CUDA\n",
    "using DelimitedFiles\n",
    "R_Agg = 15\n",
    "\n",
    "X = Float64.(readdlm(\"../../../data/init/Sphere/$(R_Agg).xyz\")[3:end,2:end]) |> cu\n",
    "idx = Int32.(zeros(size(X, 1), size(X, 1))) |> cu;"
   ]
  },
  {
   "attachments": {},
   "cell_type": "markdown",
   "metadata": {},
   "source": [
    "# Program"
   ]
  },
  {
   "attachments": {},
   "cell_type": "markdown",
   "metadata": {},
   "source": [
    "## Functions"
   ]
  },
  {
   "cell_type": "code",
   "execution_count": 31,
   "metadata": {},
   "outputs": [
    {
     "data": {
      "text/plain": [
       "reduce_kernel (generic function with 1 method)"
      ]
     },
     "execution_count": 31,
     "metadata": {},
     "output_type": "execute_result"
    },
    {
     "ename": "",
     "evalue": "",
     "output_type": "error",
     "traceback": [
      "\u001b[1;31mThe Kernel crashed while executing code in the the current cell or a previous cell. Please review the code in the cell(s) to identify a possible cause of the failure. Click <a href='https://aka.ms/vscodeJupyterKernelCrash'>here</a> for more info. View Jupyter <a href='command:jupyter.viewOutput'>log</a> for further details."
     ]
    }
   ],
   "source": [
    "euclidean(points,i,j) = sqrt((points[i,1]-points[j,1])^2+(points[i,2]-points[j,2])^2+(points[i,3]-points[j,3])^2)\n",
    "\n",
    "function dist_kernel!(idx, points ,r_max)\n",
    "    i = (blockIdx().x - 1) * blockDim().x + threadIdx().x\n",
    "    j = (blockIdx().y - 1) * blockDim().y + threadIdx().y\n",
    "    \n",
    "    if i <= size(points, 1) && j <= size(points, 1)\n",
    "        if euclidean(points,i,j) < r_max\n",
    "            idx[i, j] = i\n",
    "        else\n",
    "            idx[i, j] = 0\n",
    "        end \n",
    "    end\n",
    "    return nothing\n",
    "end\n",
    "\n",
    "function reduce_kernel(idx,idx_red,idx_sum)\n",
    "    i  = (blockIdx().x-1) * blockDim().x + threadIdx().x\n",
    "    # cache = @cuStaticSharedMem(Int32, blockDim().x)\n",
    "\n",
    "    if i <= size(idx,1)\n",
    "        for j = 1:size(idx,1)\n",
    "            if idx[j,i] != 0\n",
    "                idx_sum[i] += 1\n",
    "                idx_red[idx_sum[i],i] = j\n",
    "            end\n",
    "        end\n",
    "    end\n",
    "    \n",
    "    return nothing\n",
    "end"
   ]
  },
  {
   "attachments": {},
   "cell_type": "markdown",
   "metadata": {},
   "source": [
    "## Idx"
   ]
  },
  {
   "cell_type": "code",
   "execution_count": 4,
   "metadata": {},
   "outputs": [
    {
     "name": "stdout",
     "output_type": "stream",
     "text": [
      "------------------------ SIZE ------------------------\n",
      "r_max         = 2.3\n",
      "Size X        = (2504, 3)\n",
      "Size idx      = (2504, 2504)\n",
      "--------------------- SIZE CUDA ----------------------\n",
      "Threads = (32, 32)\n",
      "Blocks  = (79, 79)\n",
      "--------------------- CUDA SOLVER --------------------\n",
      " 21.928154 seconds (25.83 M CPU allocations: 1.473 GiB, 2.74% gc time)\n",
      "------------------------ IDX -------------------------\n"
     ]
    },
    {
     "data": {
      "text/plain": [
       "2504×2504 CuArray{Int32, 2, CUDA.Mem.DeviceBuffer}:\n",
       " 1  1  0   0   1   1   0   0   0   0  …     0     0     0     0     0     0\n",
       " 2  2  2   0   0   2   2   0   0   0        0     0     0     0     0     0\n",
       " 0  3  3   0   0   0   3   3   0   0        0     0     0     0     0     0\n",
       " 0  0  0   4   4   0   0   0   4   4        0     0     0     0     0     0\n",
       " 5  0  0   5   5   5   0   0   0   5        0     0     0     0     0     0\n",
       " 6  6  0   0   6   6   6   0   0   0  …     0     0     0     0     0     0\n",
       " 0  7  7   0   0   7   7   7   0   0        0     0     0     0     0     0\n",
       " 0  0  8   0   0   0   8   8   0   0        0     0     0     0     0     0\n",
       " 0  0  0   9   0   0   0   0   9   9        0     0     0     0     0     0\n",
       " 0  0  0  10  10   0   0   0  10  10        0     0     0     0     0     0\n",
       " 0  0  0   0  11  11   0   0   0  11  …     0     0     0     0     0     0\n",
       " 0  0  0   0   0  12  12   0   0   0        0     0     0     0     0     0\n",
       " 0  0  0   0   0   0  13  13   0   0        0     0     0     0     0     0\n",
       " ⋮                 ⋮                  ⋱                 ⋮              \n",
       " 0  0  0   0   0   0   0   0   0   0     2493     0     0     0     0     0\n",
       " 0  0  0   0   0   0   0   0   0   0     2494  2494     0     0     0     0\n",
       " 0  0  0   0   0   0   0   0   0   0        0  2495  2495     0     0     0\n",
       " 0  0  0   0   0   0   0   0   0   0  …     0     0  2496     0     0     0\n",
       " 0  0  0   0   0   0   0   0   0   0        0     0     0     0     0     0\n",
       " 0  0  0   0   0   0   0   0   0   0     2498     0     0  2498     0     0\n",
       " 0  0  0   0   0   0   0   0   0   0     2499  2499     0  2499  2499     0\n",
       " 0  0  0   0   0   0   0   0   0   0     2500  2500  2500     0  2500  2500\n",
       " 0  0  0   0   0   0   0   0   0   0  …     0  2501  2501     0     0  2501\n",
       " 0  0  0   0   0   0   0   0   0   0     2502     0     0  2502  2502     0\n",
       " 0  0  0   0   0   0   0   0   0   0     2503  2503     0  2503  2503  2503\n",
       " 0  0  0   0   0   0   0   0   0   0        0  2504  2504     0  2504  2504"
      ]
     },
     "metadata": {},
     "output_type": "display_data"
    }
   ],
   "source": [
    "println(\"------------------------ SIZE ------------------------\")\n",
    "println(\"r_max         = $(r_max)\")\n",
    "println(\"Size X        = $(size(X))\")\n",
    "println(\"Size idx      = $(size(idx))\")\n",
    "\n",
    "println(\"--------------------- SIZE CUDA ----------------------\")\n",
    "threads =(32,32)\n",
    "blocks  =cld.(size(X,1),threads)\n",
    "println(\"Threads = $(threads)\")\n",
    "println(\"Blocks  = $(blocks)\")\n",
    "println(\"--------------------- CUDA SOLVER --------------------\")\n",
    "CUDA.@time @cuda threads=threads blocks=blocks dist_kernel!(idx, X ,r_max)\n",
    "println(\"------------------------ IDX -------------------------\")\n",
    "idx_real = idx\n",
    "display(idx)\n"
   ]
  },
  {
   "attachments": {},
   "cell_type": "markdown",
   "metadata": {},
   "source": [
    "## reduce-test"
   ]
  },
  {
   "cell_type": "code",
   "execution_count": 5,
   "metadata": {
    "tags": []
   },
   "outputs": [
    {
     "name": "stdout",
     "output_type": "stream",
     "text": [
      "------------------------ SIZE ------------------------\n",
      "Size idx_test = (22, 22)\n",
      "Size idx_sum  = (1, 22)\n",
      "Size idx_red  = (60, 22)\n",
      "------------------------ IDX -------------------------\n"
     ]
    },
    {
     "data": {
      "text/plain": [
       "22×22 CuArray{Int64, 2, CUDA.Mem.DeviceBuffer}:\n",
       "  0   0   0   0   0   1   0   0   0  …   1   0   0   0   1   0   1   1   1\n",
       "  2   2   2   2   2   2   2   2   0      2   2   0   2   0   0   2   2   2\n",
       "  0   0   0   0   3   0   3   3   0      0   3   0   3   3   3   3   3   0\n",
       "  0   0   4   4   4   4   4   0   4      0   0   0   0   0   4   4   4   0\n",
       "  5   0   0   0   5   0   5   0   5      5   0   0   5   5   0   0   0   5\n",
       "  0   0   6   0   6   0   0   0   0  …   6   6   6   0   0   6   0   6   0\n",
       "  0   0   0   7   0   0   7   7   0      0   7   0   7   7   7   7   7   0\n",
       "  8   0   0   0   0   0   8   0   0      8   0   8   8   8   8   0   0   0\n",
       "  0   9   9   9   0   9   9   0   9      0   0   9   9   9   0   0   0   9\n",
       "  0   0  10  10  10  10   0   0   0      0  10  10  10  10   0   0   0  10\n",
       " 11  11  11  11   0   0   0   0   0  …  11   0   0  11  11   0  11   0  11\n",
       "  0  12  12   0   0  12  12  12  12      0  12  12  12  12  12  12  12   0\n",
       "  0   0   0  13  13  13  13   0   0     13   0   0  13   0   0  13   0   0\n",
       " 14   0   0   0   0   0   0   0  14      0   0  14  14  14  14   0  14  14\n",
       "  0  15  15  15   0   0  15   0  15      0   0   0   0   0  15   0   0  15\n",
       " 16  16   0   0   0   0  16   0   0  …   0   0  16   0   0  16  16  16   0\n",
       " 17   0  17   0   0   0  17   0  17     17   0   0  17  17  17   0  17   0\n",
       " 18  18  18  18  18  18   0  18   0      0   0   0  18  18  18  18   0  18\n",
       "  0  19  19  19   0   0   0  19  19      0   0   0  19  19  19   0  19  19\n",
       " 20   0   0  20   0   0   0   0   0      0   0   0   0  20  20   0   0  20\n",
       " 21   0  21   0   0   0   0  21   0  …   0   0  21   0  21   0  21   0   0\n",
       "  0  22   0   0  22  22  22  22   0      0   0  22  22   0   0   0   0   0"
      ]
     },
     "metadata": {},
     "output_type": "display_data"
    },
    {
     "name": "stdout",
     "output_type": "stream",
     "text": [
      "--------------------- SIZE CUDA ----------------------\n",
      "Threads = 1024\n",
      "Blocks  = 1\n",
      "--------------------- CUDA SOLVER --------------------\n",
      "  1.395057 seconds (2.62 M CPU allocations: 150.491 MiB, 4.80% gc time)\n",
      "------------------ REDUCED IDX -----------------------\n"
     ]
    },
    {
     "data": {
      "text/plain": [
       "60×22 CuArray{Int32, 2, CUDA.Mem.DeviceBuffer}:\n",
       "  2   2   2   2   2   1   2   2   4  …   1   2   6   2   1   3   1   1   1\n",
       "  5   9   4   4   3   2   3   3   5      2   3   8   3   3   4   2   2   2\n",
       "  8  11   6   7   4   4   4   7   9      5   6   9   5   5   6   3   3   5\n",
       " 11  12   9   9   5   9   5  12  12      6   7  10   7   7   7   4   4   9\n",
       " 14  15  10  10   6  10   7  18  14      8  10  12   8   8   8   7   6  10\n",
       " 16  16  11  11  10  12   8  19  15  …  11  12  14   9   9  12  11   7  11\n",
       " 17  18  12  13  13  13   9  21  17     13   0  16  10  10  14  12  12  14\n",
       " 18  19  15  15  18  18  12  22  19     17   0  21  11  11  15  13  14  15\n",
       " 20  22  17  18  22  22  13   0   0      0   0  22  12  12  16  16  16  18\n",
       " 21   0  18  19   0   0  15   0   0      0   0   0  13  14  17  18  17  19\n",
       "  0   0  19  20   0   0  16   0   0  …   0   0   0  14  17  18  21  19  20\n",
       "  0   0  21   0   0   0  17   0   0      0   0   0  17  18  19   0   0   0\n",
       "  0   0   0   0   0   0  22   0   0      0   0   0  18  19  20   0   0   0\n",
       "  ⋮                   ⋮              ⋱           ⋮                   ⋮  \n",
       "  0   0   0   0   0   0   0   0   0      0   0   0   0   0   0   0   0   0\n",
       "  0   0   0   0   0   0   0   0   0      0   0   0   0   0   0   0   0   0\n",
       "  0   0   0   0   0   0   0   0   0  …   0   0   0   0   0   0   0   0   0\n",
       "  0   0   0   0   0   0   0   0   0      0   0   0   0   0   0   0   0   0\n",
       "  0   0   0   0   0   0   0   0   0      0   0   0   0   0   0   0   0   0\n",
       "  0   0   0   0   0   0   0   0   0      0   0   0   0   0   0   0   0   0\n",
       "  0   0   0   0   0   0   0   0   0      0   0   0   0   0   0   0   0   0\n",
       "  0   0   0   0   0   0   0   0   0  …   0   0   0   0   0   0   0   0   0\n",
       "  0   0   0   0   0   0   0   0   0      0   0   0   0   0   0   0   0   0\n",
       "  0   0   0   0   0   0   0   0   0      0   0   0   0   0   0   0   0   0\n",
       "  0   0   0   0   0   0   0   0   0      0   0   0   0   0   0   0   0   0\n",
       "  0   0   0   0   0   0   0   0   0      0   0   0   0   0   0   0   0   0"
      ]
     },
     "metadata": {},
     "output_type": "display_data"
    },
    {
     "name": "stdout",
     "output_type": "stream",
     "text": [
      "------------------------- MAX VALUE(idx_red) ------------------------\n"
     ]
    },
    {
     "data": {
      "text/plain": [
       "1×22 CuArray{Int64, 2, CUDA.Mem.DeviceBuffer}:\n",
       " 10  9  12  11  9  9  13  8  8  6  15  9  10  8  6  9  15  15  13  11  11  11"
      ]
     },
     "metadata": {},
     "output_type": "display_data"
    },
    {
     "name": "stdout",
     "output_type": "stream",
     "text": [
      "Max_Value  = (15, CartesianIndex(1, 11))\n",
      "------------------------ MAX VALUE(idx_test) ------------------------\n"
     ]
    },
    {
     "data": {
      "text/plain": [
       "1×22 CuArray{Int64, 2, CUDA.Mem.DeviceBuffer}:\n",
       " 10  9  12  11  9  9  13  8  8  6  15  9  10  8  6  9  15  15  13  11  11  11"
      ]
     },
     "metadata": {},
     "output_type": "display_data"
    },
    {
     "name": "stdout",
     "output_type": "stream",
     "text": [
      "Max_Value  = (15, CartesianIndex(1, 11))\n"
     ]
    }
   ],
   "source": [
    "N = 22\n",
    "idx_test = repeat(collect(1:N), inner=(1,N)).*rand((0,1),N,N) |> cu\n",
    "idx_sum  = Int32.(fill(0,1,size(idx_test, 1))) |> cu\n",
    "idx_red  = Int32.(fill(0,max_row,size(idx_test, 1))) |> cu\n",
    "\n",
    "\n",
    "println(\"------------------------ SIZE ------------------------\")\n",
    "println(\"Size idx_test = $(size(idx_test))\")\n",
    "println(\"Size idx_sum  = $(size(idx_sum))\")\n",
    "println(\"Size idx_red  = $(size(idx_red))\")\n",
    "println(\"------------------------ IDX -------------------------\")\n",
    "display(idx_test)\n",
    "println(\"--------------------- SIZE CUDA ----------------------\")\n",
    "threads=1024\n",
    "blocks=cld.(size(idx_test,1),threads)\n",
    "println(\"Threads = $(threads)\")\n",
    "println(\"Blocks  = $(blocks)\")\n",
    "println(\"--------------------- CUDA SOLVER --------------------\")\n",
    "CUDA.@time @cuda threads=threads blocks=blocks reduce_kernel(idx_test,idx_red,idx_sum)\n",
    "println(\"------------------ REDUCED IDX -----------------------\")\n",
    "display(idx_red)\n",
    "println(\"------------------------- MAX VALUE(idx_red) ------------------------\")\n",
    "display(sum(idx_red .> 0, dims=1))\n",
    "println(\"Max_Value  = $(findmax(sum(idx_red .> 0, dims=1)))\")\n",
    "println(\"------------------------ MAX VALUE(idx_test) ------------------------\")\n",
    "display(sum(idx_test .> 0, dims=1))\n",
    "println(\"Max_Value  = $(findmax(sum(idx_test .> 0, dims=1)))\")"
   ]
  },
  {
   "attachments": {},
   "cell_type": "markdown",
   "metadata": {},
   "source": [
    "## reduce-real"
   ]
  },
  {
   "cell_type": "code",
   "execution_count": 6,
   "metadata": {
    "tags": []
   },
   "outputs": [
    {
     "name": "stdout",
     "output_type": "stream",
     "text": [
      "------------------------ SIZE ------------------------\n",
      "Size idx_real  = (2504, 2504)\n",
      "Size idx_sum   = (1, 2504)\n",
      "Size idx_red   = (60, 2504)\n",
      "------------------------ IDX -------------------------\n"
     ]
    },
    {
     "data": {
      "text/plain": [
       "2504×2504 CuArray{Int32, 2, CUDA.Mem.DeviceBuffer}:\n",
       " 1  1  0   0   1   1   0   0   0   0  …     0     0     0     0     0     0\n",
       " 2  2  2   0   0   2   2   0   0   0        0     0     0     0     0     0\n",
       " 0  3  3   0   0   0   3   3   0   0        0     0     0     0     0     0\n",
       " 0  0  0   4   4   0   0   0   4   4        0     0     0     0     0     0\n",
       " 5  0  0   5   5   5   0   0   0   5        0     0     0     0     0     0\n",
       " 6  6  0   0   6   6   6   0   0   0  …     0     0     0     0     0     0\n",
       " 0  7  7   0   0   7   7   7   0   0        0     0     0     0     0     0\n",
       " 0  0  8   0   0   0   8   8   0   0        0     0     0     0     0     0\n",
       " 0  0  0   9   0   0   0   0   9   9        0     0     0     0     0     0\n",
       " 0  0  0  10  10   0   0   0  10  10        0     0     0     0     0     0\n",
       " 0  0  0   0  11  11   0   0   0  11  …     0     0     0     0     0     0\n",
       " 0  0  0   0   0  12  12   0   0   0        0     0     0     0     0     0\n",
       " 0  0  0   0   0   0  13  13   0   0        0     0     0     0     0     0\n",
       " ⋮                 ⋮                  ⋱                 ⋮              \n",
       " 0  0  0   0   0   0   0   0   0   0     2493     0     0     0     0     0\n",
       " 0  0  0   0   0   0   0   0   0   0     2494  2494     0     0     0     0\n",
       " 0  0  0   0   0   0   0   0   0   0        0  2495  2495     0     0     0\n",
       " 0  0  0   0   0   0   0   0   0   0  …     0     0  2496     0     0     0\n",
       " 0  0  0   0   0   0   0   0   0   0        0     0     0     0     0     0\n",
       " 0  0  0   0   0   0   0   0   0   0     2498     0     0  2498     0     0\n",
       " 0  0  0   0   0   0   0   0   0   0     2499  2499     0  2499  2499     0\n",
       " 0  0  0   0   0   0   0   0   0   0     2500  2500  2500     0  2500  2500\n",
       " 0  0  0   0   0   0   0   0   0   0  …     0  2501  2501     0     0  2501\n",
       " 0  0  0   0   0   0   0   0   0   0     2502     0     0  2502  2502     0\n",
       " 0  0  0   0   0   0   0   0   0   0     2503  2503     0  2503  2503  2503\n",
       " 0  0  0   0   0   0   0   0   0   0        0  2504  2504     0  2504  2504"
      ]
     },
     "metadata": {},
     "output_type": "display_data"
    },
    {
     "name": "stdout",
     "output_type": "stream",
     "text": [
      "--------------------- SIZE CUDA ----------------------\n",
      "Threads = 1024\n",
      "Blocks  = 3\n",
      "--------------------- CUDA SOLVER --------------------\n",
      "  1.165164 seconds (2.29 M CPU allocations: 130.718 MiB, 3.19% gc time)\n"
     ]
    },
    {
     "data": {
      "text/plain": [
       "60×2504 CuArray{Int32, 2, CUDA.Mem.DeviceBuffer}:\n",
       "  1   1   2   4   1   1   2   3   4  …  2453  2454  2455  2460  2461  2462\n",
       "  2   2   3   5   4   2   3   7   9     2454  2455  2456  2461  2462  2463\n",
       "  5   3   7   9   5   5   6   8  10     2461  2462  2463  2468  2469  2470\n",
       "  6   6   8  10   6   6   7  13  15     2493  2494  2495  2498  2499  2500\n",
       " 36   7  38  41  10   7   8  14  49     2494  2495  2496  2499  2500  2501\n",
       " 42  37  44  49  11  11  12  45  57  …  2498  2499  2500  2502  2502  2503\n",
       " 43  43  45  50  42  12  13  53  58     2499  2500  2501  2503  2503  2504\n",
       "  0  44   0   0  50  43  44  54   0     2500  2501  2504     0  2504     0\n",
       "  0   0   0   0  51  51  52   0   0     2502  2503     0     0     0     0\n",
       "  0   0   0   0   0  52  53   0   0     2503  2504     0     0     0     0\n",
       "  0   0   0   0   0   0   0   0   0  …     0     0     0     0     0     0\n",
       "  0   0   0   0   0   0   0   0   0        0     0     0     0     0     0\n",
       "  0   0   0   0   0   0   0   0   0        0     0     0     0     0     0\n",
       "  ⋮                   ⋮              ⋱                 ⋮              \n",
       "  0   0   0   0   0   0   0   0   0        0     0     0     0     0     0\n",
       "  0   0   0   0   0   0   0   0   0        0     0     0     0     0     0\n",
       "  0   0   0   0   0   0   0   0   0  …     0     0     0     0     0     0\n",
       "  0   0   0   0   0   0   0   0   0        0     0     0     0     0     0\n",
       "  0   0   0   0   0   0   0   0   0        0     0     0     0     0     0\n",
       "  0   0   0   0   0   0   0   0   0        0     0     0     0     0     0\n",
       "  0   0   0   0   0   0   0   0   0        0     0     0     0     0     0\n",
       "  0   0   0   0   0   0   0   0   0  …     0     0     0     0     0     0\n",
       "  0   0   0   0   0   0   0   0   0        0     0     0     0     0     0\n",
       "  0   0   0   0   0   0   0   0   0        0     0     0     0     0     0\n",
       "  0   0   0   0   0   0   0   0   0        0     0     0     0     0     0\n",
       "  0   0   0   0   0   0   0   0   0        0     0     0     0     0     0"
      ]
     },
     "metadata": {},
     "output_type": "display_data"
    }
   ],
   "source": [
    "idx_sum = Int32.(zeros(1, size(idx_real, 1))) |> cu\n",
    "idx_red = Int32.(zeros(max_row, size(idx_real, 1))) |> cu\n",
    "\n",
    "println(\"------------------------ SIZE ------------------------\")\n",
    "println(\"Size idx_real  = $(size(idx_real))\")\n",
    "println(\"Size idx_sum   = $(size(idx_sum))\")\n",
    "println(\"Size idx_red   = $(size(idx_red))\")\n",
    "println(\"------------------------ IDX -------------------------\")\n",
    "display(idx)\n",
    "println(\"--------------------- SIZE CUDA ----------------------\")\n",
    "threads=1024\n",
    "blocks=cld.(size(idx_real,1),threads)\n",
    "println(\"Threads = $(threads)\")\n",
    "println(\"Blocks  = $(blocks)\")\n",
    "println(\"--------------------- CUDA SOLVER --------------------\")\n",
    "CUDA.@time @cuda threads=threads blocks=blocks reduce_kernel(idx_real,idx_red,idx_sum)\n",
    "display(idx_red)\n"
   ]
  },
  {
   "cell_type": "markdown",
   "metadata": {},
   "source": [
    "# test"
   ]
  },
  {
   "cell_type": "code",
   "execution_count": 28,
   "metadata": {},
   "outputs": [
    {
     "name": "stdout",
     "output_type": "stream",
     "text": [
      "------------------------------ r_max = 2.0-------------------------------------\n",
      "Max_Value2.0  = 11\n",
      "------------------------------ r_max = 2.05-------------------------------------\n",
      "Max_Value2.05  = 13\n",
      "------------------------------ r_max = 2.1-------------------------------------\n",
      "Max_Value2.1  = 13\n",
      "------------------------------ r_max = 2.15-------------------------------------\n",
      "Max_Value2.15  = 13\n",
      "------------------------------ r_max = 2.2-------------------------------------\n",
      "Max_Value2.2  = 13\n",
      "------------------------------ r_max = 2.25-------------------------------------\n",
      "Max_Value2.25  = 13\n",
      "------------------------------ r_max = 2.3-------------------------------------\n",
      "Max_Value2.3  = 13\n",
      "------------------------------ r_max = 2.35-------------------------------------\n",
      "Max_Value2.35  = 13\n",
      "------------------------------ r_max = 2.4-------------------------------------\n",
      "Max_Value2.4  = 13\n",
      "------------------------------ r_max = 2.45-------------------------------------\n",
      "Max_Value2.45  = 13\n",
      "------------------------------ r_max = 2.5-------------------------------------\n",
      "Max_Value2.5  = 13\n",
      "------------------------------ r_max = 2.55-------------------------------------\n",
      "Max_Value2.55  = 13\n",
      "------------------------------ r_max = 2.6-------------------------------------\n",
      "Max_Value2.6  = 13\n",
      "------------------------------ r_max = 2.65-------------------------------------\n",
      "Max_Value2.65  = 13\n",
      "------------------------------ r_max = 2.7-------------------------------------\n",
      "Max_Value2.7  = 13\n",
      "------------------------------ r_max = 2.75-------------------------------------\n",
      "Max_Value2.75  = 13\n",
      "------------------------------ r_max = 2.8-------------------------------------\n",
      "Max_Value2.8  = 13\n",
      "------------------------------ r_max = 2.85-------------------------------------\n",
      "Max_Value2.85  = 19\n",
      "------------------------------ r_max = 2.9-------------------------------------\n",
      "Max_Value2.9  = 19\n",
      "------------------------------ r_max = 2.95-------------------------------------\n",
      "Max_Value2.95  = 19\n",
      "------------------------------ r_max = 3.0-------------------------------------\n",
      "Max_Value3.0  = 19\n",
      "------------------------------ r_max = 3.05-------------------------------------\n",
      "Max_Value3.05  = 19\n",
      "------------------------------ r_max = 3.1-------------------------------------\n",
      "Max_Value3.1  = 19\n",
      "------------------------------ r_max = 3.15-------------------------------------\n",
      "Max_Value3.15  = 19\n",
      "------------------------------ r_max = 3.2-------------------------------------\n",
      "Max_Value3.2  = 19\n",
      "------------------------------ r_max = 3.25-------------------------------------\n",
      "Max_Value3.25  = 19\n",
      "------------------------------ r_max = 3.3-------------------------------------\n",
      "Max_Value3.3  = 21\n",
      "------------------------------ r_max = 3.35-------------------------------------\n",
      "Max_Value3.35  = 21\n",
      "------------------------------ r_max = 3.4-------------------------------------\n",
      "Max_Value3.4  = 21\n",
      "------------------------------ r_max = 3.45-------------------------------------\n",
      "Max_Value3.45  = 21\n",
      "------------------------------ r_max = 3.5-------------------------------------\n",
      "Max_Value3.5  = 39\n",
      "------------------------------ r_max = 3.55-------------------------------------\n",
      "Max_Value3.55  = 39\n",
      "------------------------------ r_max = 3.6-------------------------------------\n",
      "Max_Value3.6  = 39\n",
      "------------------------------ r_max = 3.65-------------------------------------\n",
      "Max_Value3.65  = 39\n",
      "------------------------------ r_max = 3.7-------------------------------------\n",
      "Max_Value3.7  = 39\n",
      "------------------------------ r_max = 3.75-------------------------------------\n",
      "Max_Value3.75  = 39\n",
      "------------------------------ r_max = 3.8-------------------------------------\n",
      "Max_Value3.8  = 39\n",
      "------------------------------ r_max = 3.85-------------------------------------\n",
      "Max_Value3.85  = 51\n",
      "------------------------------ r_max = 3.9-------------------------------------\n",
      "Max_Value3.9  = 51\n",
      "------------------------------ r_max = 3.95-------------------------------------\n",
      "Max_Value3.95  = 51\n",
      "------------------------------ r_max = 4.0-------------------------------------\n",
      "Max_Value4.0  = 55\n"
     ]
    }
   ],
   "source": [
    "R_Agg = 15\n",
    "\n",
    "for r_max=2.0:0.05:4.0\n",
    "\n",
    "    idx_red_size =  r_max ≤ 2.80 ? 13 :\n",
    "            2.80 < r_max ≤ 3.45 ? 21 :\n",
    "            3.45 < r_max ≤ 3.80 ? 39 :\n",
    "            3.80 < r_max ≤ 4.00 ? 55 :\n",
    "            70\n",
    "\n",
    "    println(\"------------------------------ r_max = $(r_max)-------------------------------------\")\n",
    "    X = Float64.(readdlm(\"../../../data/init/Sphere/$(R_Agg).xyz\")[3:end,2:end]) |> cu\n",
    "    idx_real = Int32.(zeros(size(X, 1), size(X, 1))) |> cu;\n",
    "\n",
    "    idx_sum = Int32.(zeros(1, size(idx_real, 1))) |> cu\n",
    "    idx_red  = Int32.(zeros(idx_red_size, size(idx_real, 1))) |> cu\n",
    "\n",
    "    threads =(32,32)\n",
    "    blocks  =cld.(size(X,1),threads)\n",
    "    @cuda threads=threads blocks=blocks dist_kernel!(idx_real, X ,r_max)\n",
    "    threads=1024\n",
    "    blocks=cld.(size(idx_real,1),threads)\n",
    "    @cuda threads=threads blocks=blocks reduce_kernel(idx_real,idx_red,idx_sum)\n",
    "    println(\"Max_Value$(r_max)  = $(findmax(sum(idx_red .> 0, dims=1))[1])\")\n",
    "end\n"
   ]
  },
  {
   "cell_type": "code",
   "execution_count": 29,
   "metadata": {},
   "outputs": [
    {
     "data": {
      "text/plain": [
       "55×2504 CuArray{Int32, 2, CUDA.Mem.DeviceBuffer}:\n",
       "  1   1   2   1   1   1   1   2   4  …  2362  2363  2364  2372  2373  2374\n",
       "  2   2   3   4   2   2   2   3   5     2363  2364  2365  2373  2374  2375\n",
       "  4   3   6   5   4   3   3   7   9     2372  2373  2374  2382  2383  2384\n",
       "  5   5   7   9   5   5   6   8  10     2373  2374  2375  2383  2384  2385\n",
       "  6   6   8  10   6   6   7  12  15     2374  2375  2376  2384  2385  2386\n",
       "  7   7  13  11   9   7   8  13  16  …  2383  2384  2385  2391  2392  2393\n",
       " 11   8  32  15  10  10  11  14  21     2384  2385  2386  2392  2393  2394\n",
       " 30  12  33  34  11  11  12  19  40     2444  2445  2446  2452  2453  2454\n",
       " 31  31  37  35  12  12  13  38  41     2445  2446  2447  2453  2454  2455\n",
       " 35  32  38  40  16  13  14  39  48     2446  2447  2448  2454  2455  2456\n",
       " 36  36  39  41  35  17  18  44  49  …  2452  2453  2454  2459  2460  2461\n",
       " 37  37  43  42  36  36  37  45  50     2453  2454  2455  2460  2461  2462\n",
       " 41  38  44  48  41  37  38  46  56     2454  2455  2456  2461  2462  2463\n",
       "  ⋮                   ⋮              ⋱                 ⋮              \n",
       "  0   0   0   0   0   0   0   0   0        0     0     0     0     0     0\n",
       "  0   0   0   0   0   0   0   0   0        0     0     0     0     0     0\n",
       "  0   0   0   0   0   0   0   0   0  …     0     0     0     0     0     0\n",
       "  0   0   0   0   0   0   0   0   0        0     0     0     0     0     0\n",
       "  0   0   0   0   0   0   0   0   0        0     0     0     0     0     0\n",
       "  0   0   0   0   0   0   0   0   0        0     0     0     0     0     0\n",
       "  0   0   0   0   0   0   0   0   0        0     0     0     0     0     0\n",
       "  0   0   0   0   0   0   0   0   0  …     0     0     0     0     0     0\n",
       "  0   0   0   0   0   0   0   0   0        0     0     0     0     0     0\n",
       "  0   0   0   0   0   0   0   0   0        0     0     0     0     0     0\n",
       "  0   0   0   0   0   0   0   0   0        0     0     0     0     0     0\n",
       "  0   0   0   0   0   0   0   0   0        0     0     0     0     0     0"
      ]
     },
     "execution_count": 29,
     "metadata": {},
     "output_type": "execute_result"
    }
   ],
   "source": [
    "idx_red"
   ]
  }
 ],
 "metadata": {
  "kernelspec": {
   "display_name": "Julia 1.6.7",
   "language": "julia",
   "name": "julia-1.6"
  },
  "language_info": {
   "file_extension": ".jl",
   "mimetype": "application/julia",
   "name": "julia",
   "version": "1.6.7"
  }
 },
 "nbformat": 4,
 "nbformat_minor": 4
}
