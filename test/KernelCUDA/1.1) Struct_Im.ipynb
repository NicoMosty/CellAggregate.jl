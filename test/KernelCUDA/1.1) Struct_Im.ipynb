{
 "cells": [
  {
   "attachments": {},
   "cell_type": "markdown",
   "metadata": {},
   "source": [
    "# Dependences"
   ]
  },
  {
   "cell_type": "code",
   "execution_count": 13,
   "metadata": {},
   "outputs": [
    {
     "data": {
      "text/plain": [
       "MoreAgg (generic function with 2 methods)"
      ]
     },
     "execution_count": 13,
     "metadata": {},
     "output_type": "execute_result"
    }
   ],
   "source": [
    "include(\"../../src/struct_data.jl\")"
   ]
  },
  {
   "attachments": {},
   "cell_type": "markdown",
   "metadata": {},
   "source": [
    "# Force Functions"
   ]
  },
  {
   "attachments": {},
   "cell_type": "markdown",
   "metadata": {},
   "source": [
    "## Cubic"
   ]
  },
  {
   "cell_type": "code",
   "execution_count": 14,
   "metadata": {},
   "outputs": [
    {
     "name": "stdout",
     "output_type": "stream",
     "text": [
      "UnionAll\n",
      "  var: TypeVar\n",
      "    name: Symbol T\n",
      "    lb: Union{}\n",
      "    ub: Any\n",
      "  body: Cubic{T} <: ForceType\n",
      "    μ₁::T\n",
      "    rₘᵢₙ::T\n",
      "    rₘₐₓ::T\n"
     ]
    }
   ],
   "source": [
    "@make_struct_func Cubic\n",
    "dump(Cubic)"
   ]
  },
  {
   "cell_type": "code",
   "execution_count": 15,
   "metadata": {},
   "outputs": [
    {
     "data": {
      "text/plain": [
       "3.0"
      ]
     },
     "execution_count": 15,
     "metadata": {},
     "output_type": "execute_result"
    }
   ],
   "source": [
    "# Parameters\n",
    "μ₁   = 1.0\n",
    "rₘₐₓ = 2.0\n",
    "rₘᵢₙ = 3.0"
   ]
  },
  {
   "cell_type": "code",
   "execution_count": 16,
   "metadata": {},
   "outputs": [
    {
     "data": {
      "text/plain": [
       "Cubic{Float64}(1.0, 2.0, 3.0)"
      ]
     },
     "execution_count": 16,
     "metadata": {},
     "output_type": "execute_result"
    }
   ],
   "source": [
    "Cubic(μ₁,rₘₐₓ,rₘᵢₙ)"
   ]
  },
  {
   "cell_type": "code",
   "execution_count": 17,
   "metadata": {},
   "outputs": [
    {
     "data": {
      "text/plain": [
       "4.0"
      ]
     },
     "execution_count": 17,
     "metadata": {},
     "output_type": "execute_result"
    }
   ],
   "source": [
    "# Show function on specific r value\n",
    "r = 1\n",
    "force_func(Cubic(μ₁,rₘₐₓ,rₘᵢₙ),r)"
   ]
  },
  {
   "attachments": {},
   "cell_type": "markdown",
   "metadata": {},
   "source": [
    "## LennardJones"
   ]
  },
  {
   "cell_type": "code",
   "execution_count": 18,
   "metadata": {},
   "outputs": [
    {
     "name": "stdout",
     "output_type": "stream",
     "text": [
      "UnionAll\n",
      "  var: TypeVar\n",
      "    name: Symbol T\n",
      "    lb: Union{}\n",
      "    ub: Any\n",
      "  body: LennardJones{T} <: ForceType\n",
      "    μ₁::T\n",
      "    rₘᵢₙ::T\n",
      "    rₘₐₓ::T\n"
     ]
    }
   ],
   "source": [
    "@make_struct_func LennardJones\n",
    "dump(LennardJones)"
   ]
  },
  {
   "cell_type": "code",
   "execution_count": 19,
   "metadata": {},
   "outputs": [
    {
     "data": {
      "text/plain": [
       "3.0"
      ]
     },
     "execution_count": 19,
     "metadata": {},
     "output_type": "execute_result"
    }
   ],
   "source": [
    "# Parameters\n",
    "μ₁   = 1.0\n",
    "rₘₐₓ = 2.0\n",
    "rₘᵢₙ = 3.0"
   ]
  },
  {
   "cell_type": "code",
   "execution_count": 20,
   "metadata": {},
   "outputs": [
    {
     "data": {
      "text/plain": [
       "LennardJones{Float64}(1.0, 2.0, 3.0)"
      ]
     },
     "execution_count": 20,
     "metadata": {},
     "output_type": "execute_result"
    }
   ],
   "source": [
    "LennardJones(μ₁,rₘₐₓ,rₘᵢₙ)"
   ]
  },
  {
   "cell_type": "code",
   "execution_count": 21,
   "metadata": {},
   "outputs": [
    {
     "data": {
      "text/plain": [
       "1.9609746568876094"
      ]
     },
     "execution_count": 21,
     "metadata": {},
     "output_type": "execute_result"
    }
   ],
   "source": [
    "# Show function on specific r value\n",
    "r = 1.9\n",
    "force_func(LennardJones(μ₁,rₘₐₓ,rₘᵢₙ),r)"
   ]
  },
  {
   "attachments": {},
   "cell_type": "markdown",
   "metadata": {},
   "source": [
    "# Aggregate"
   ]
  },
  {
   "attachments": {},
   "cell_type": "markdown",
   "metadata": {},
   "source": [
    "## Initial Data"
   ]
  },
  {
   "cell_type": "code",
   "execution_count": null,
   "metadata": {},
   "outputs": [],
   "source": [
    "X = Float64.(readdlm(\"../../data/init/Sphere/9.0.xyz\")[3:end,2:end])\n",
    "Y = Float64.(readdlm(\"../../data/init/Sphere/10.0.xyz\")[3:end,2:end])"
   ]
  },
  {
   "attachments": {},
   "cell_type": "markdown",
   "metadata": {},
   "source": [
    "## Inizializate (Model Parameter)"
   ]
  },
  {
   "cell_type": "code",
   "execution_count": 22,
   "metadata": {},
   "outputs": [
    {
     "data": {
      "text/plain": [
       "ModelPar(TimePar(10000.0, 0.5, 50, 100), GeometryPar(0.8), InputPar(\"../../data/init/Sphere\"))"
      ]
     },
     "execution_count": 22,
     "metadata": {},
     "output_type": "execute_result"
    }
   ],
   "source": [
    "Model = ModelPar(\n",
    "    TimePar(\n",
    "        t_f    = 10000.0,\n",
    "        dt     = 0.5,\n",
    "        n_knn  = 50,\n",
    "        n_text = 100\n",
    "    ),\n",
    "    GeometryPar(\n",
    "        outer_ratio = 0.8\n",
    "    ),\n",
    "    InputPar(\n",
    "        path_input = \"../../data/init/Sphere\"\n",
    "    )\n",
    ")"
   ]
  },
  {
   "attachments": {},
   "cell_type": "markdown",
   "metadata": {},
   "source": [
    "## Simple Aggregate"
   ]
  },
  {
   "cell_type": "code",
   "execution_count": 29,
   "metadata": {},
   "outputs": [
    {
     "name": "stdout",
     "output_type": "stream",
     "text": [
      "  0.177828 seconds (468.73 k allocations: 27.767 MiB, 97.19% compilation time)\n",
      "===================== AggType ======================\n"
     ]
    },
    {
     "data": {
      "text/plain": [
       "1×4 Matrix{Any}:\n",
       " 1  …  InteractionPar(Cubic{Float64}(1.0, 2.0, 3.0), ContractilePar{Float64}(0.01))"
      ]
     },
     "metadata": {},
     "output_type": "display_data"
    },
    {
     "name": "stdout",
     "output_type": "stream",
     "text": [
      "=================== AggTypeIdx =====================\n"
     ]
    },
    {
     "data": {
      "text/plain": [
       "1076×2 Matrix{Any}:\n",
       " 1  \"A\"\n",
       " 1  \"A\"\n",
       " 1  \"A\"\n",
       " 1  \"A\"\n",
       " 1  \"A\"\n",
       " 1  \"A\"\n",
       " 1  \"A\"\n",
       " 1  \"A\"\n",
       " 1  \"A\"\n",
       " 1  \"A\"\n",
       " 1  \"A\"\n",
       " 1  \"A\"\n",
       " 1  \"A\"\n",
       " ⋮  \n",
       " 1  \"A\"\n",
       " 1  \"A\"\n",
       " 1  \"A\"\n",
       " 1  \"A\"\n",
       " 1  \"A\"\n",
       " 1  \"A\"\n",
       " 1  \"A\"\n",
       " 1  \"A\"\n",
       " 1  \"A\"\n",
       " 1  \"A\"\n",
       " 1  \"A\"\n",
       " 1  \"A\""
      ]
     },
     "metadata": {},
     "output_type": "display_data"
    },
    {
     "name": "stdout",
     "output_type": "stream",
     "text": [
      "===================== AggIdx ======================\n"
     ]
    },
    {
     "data": {
      "text/plain": [
       "1076×2 Matrix{Any}:\n",
       " 1  \"A\"\n",
       " 1  \"A\"\n",
       " 1  \"A\"\n",
       " 1  \"A\"\n",
       " 1  \"A\"\n",
       " 1  \"A\"\n",
       " 1  \"A\"\n",
       " 1  \"A\"\n",
       " 1  \"A\"\n",
       " 1  \"A\"\n",
       " 1  \"A\"\n",
       " 1  \"A\"\n",
       " 1  \"A\"\n",
       " ⋮  \n",
       " 2  \"A\"\n",
       " 2  \"A\"\n",
       " 2  \"A\"\n",
       " 2  \"A\"\n",
       " 2  \"A\"\n",
       " 2  \"A\"\n",
       " 2  \"A\"\n",
       " 2  \"A\"\n",
       " 2  \"A\"\n",
       " 2  \"A\"\n",
       " 2  \"A\"\n",
       " 2  \"A\""
      ]
     },
     "metadata": {},
     "output_type": "display_data"
    },
    {
     "name": "stdout",
     "output_type": "stream",
     "text": [
      "===================== Position ======================\n"
     ]
    },
    {
     "data": {
      "text/plain": [
       "1076×3 Matrix{Float64}:\n",
       "  98.5   -4.62  -7.35\n",
       " 100.5   -4.62  -7.35\n",
       "  97.5   -2.89  -7.35\n",
       "  99.5   -2.89  -7.35\n",
       " 101.5   -2.89  -7.35\n",
       " 103.5   -2.89  -7.35\n",
       "  96.5   -1.15  -7.35\n",
       "  98.5   -1.15  -7.35\n",
       " 100.5   -1.15  -7.35\n",
       " 102.5   -1.15  -7.35\n",
       " 104.5   -1.15  -7.35\n",
       "  95.5    0.58  -7.35\n",
       "  97.5    0.58  -7.35\n",
       "   ⋮            \n",
       "   3.5   99.42   7.35\n",
       "  -3.5  101.15   7.35\n",
       "  -1.5  101.15   7.35\n",
       "   0.5  101.15   7.35\n",
       "   2.5  101.15   7.35\n",
       "   4.5  101.15   7.35\n",
       "  -2.5  102.89   7.35\n",
       "  -0.5  102.89   7.35\n",
       "   1.5  102.89   7.35\n",
       "   3.5  102.89   7.35\n",
       "  -1.5  104.62   7.35\n",
       "   0.5  104.62   7.35"
      ]
     },
     "metadata": {},
     "output_type": "display_data"
    },
    {
     "name": "stdout",
     "output_type": "stream",
     "text": [
      "===================== Outline ======================\n"
     ]
    },
    {
     "data": {
      "text/plain": [
       "1076-element Vector{Int64}:\n",
       " 1\n",
       " 1\n",
       " 1\n",
       " 1\n",
       " 1\n",
       " 1\n",
       " 1\n",
       " 1\n",
       " 1\n",
       " 1\n",
       " 1\n",
       " 1\n",
       " 1\n",
       " ⋮\n",
       " 1\n",
       " 1\n",
       " 1\n",
       " 1\n",
       " 1\n",
       " 1\n",
       " 1\n",
       " 1\n",
       " 1\n",
       " 1\n",
       " 1\n",
       " 1"
      ]
     },
     "metadata": {},
     "output_type": "display_data"
    },
    {
     "name": "stdout",
     "output_type": "stream",
     "text": [
      "Outer/Total = 0.5687732342007435\n"
     ]
    }
   ],
   "source": [
    "@time AllAggs = AllAggregates(\n",
    "    [Aggregate(\"A\", X, InteractionPar(Cubic(1.0,2.0,3.0), ContractilePar(0.01)), Model)]\n",
    "    ,\n",
    "    [\n",
    "        [\"A\",[100 ,0   ,0  ]],\n",
    "        [\"A\",[0   ,100 ,0  ]]\n",
    "    ]\n",
    ")\n",
    "show_all_aggregates(AllAggs)"
   ]
  },
  {
   "attachments": {},
   "cell_type": "markdown",
   "metadata": {},
   "source": [
    "## Complex Aggregate"
   ]
  },
  {
   "cell_type": "code",
   "execution_count": 28,
   "metadata": {},
   "outputs": [
    {
     "name": "stdout",
     "output_type": "stream",
     "text": [
      "  0.006418 seconds (49.14 k allocations: 3.486 MiB)\n",
      "===================== AggType ======================\n"
     ]
    },
    {
     "data": {
      "text/plain": [
       "4×4 Matrix{Any}:\n",
       " 1  …  InteractionPar(Cubic{Float64}(1.0, 2.0, 3.0), ContractilePar{Float64}(0.01))\n",
       " 2     InteractionPar(Cubic{Float64}(2.0, 2.0, 3.0), ContractilePar{Float64}(0.02))\n",
       " 3     InteractionPar(Cubic{Float64}(3.0, 2.0, 3.0), ContractilePar{Float64}(0.02))\n",
       " 4     InteractionPar(Cubic{Float64}(4.0, 2.0, 3.0), ContractilePar{Float64}(0.04))"
      ]
     },
     "metadata": {},
     "output_type": "display_data"
    },
    {
     "name": "stdout",
     "output_type": "stream",
     "text": [
      "=================== AggTypeIdx =====================\n"
     ]
    },
    {
     "data": {
      "text/plain": [
       "2568×2 Matrix{Any}:\n",
       " 1  \"A\"\n",
       " 1  \"A\"\n",
       " 1  \"A\"\n",
       " 1  \"A\"\n",
       " 1  \"A\"\n",
       " 1  \"A\"\n",
       " 1  \"A\"\n",
       " 1  \"A\"\n",
       " 1  \"A\"\n",
       " 1  \"A\"\n",
       " 1  \"A\"\n",
       " 1  \"A\"\n",
       " 1  \"A\"\n",
       " ⋮  \n",
       " 2  \"B\"\n",
       " 2  \"B\"\n",
       " 2  \"B\"\n",
       " 2  \"B\"\n",
       " 2  \"B\"\n",
       " 2  \"B\"\n",
       " 2  \"B\"\n",
       " 2  \"B\"\n",
       " 2  \"B\"\n",
       " 2  \"B\"\n",
       " 2  \"B\"\n",
       " 2  \"B\""
      ]
     },
     "metadata": {},
     "output_type": "display_data"
    },
    {
     "name": "stdout",
     "output_type": "stream",
     "text": [
      "===================== AggIdx ======================\n"
     ]
    },
    {
     "data": {
      "text/plain": [
       "2568×2 Matrix{Any}:\n",
       " 1  \"A\"\n",
       " 1  \"A\"\n",
       " 1  \"A\"\n",
       " 1  \"A\"\n",
       " 1  \"A\"\n",
       " 1  \"A\"\n",
       " 1  \"A\"\n",
       " 1  \"A\"\n",
       " 1  \"A\"\n",
       " 1  \"A\"\n",
       " 1  \"A\"\n",
       " 1  \"A\"\n",
       " 1  \"A\"\n",
       " ⋮  \n",
       " 4  \"B\"\n",
       " 4  \"B\"\n",
       " 4  \"B\"\n",
       " 4  \"B\"\n",
       " 4  \"B\"\n",
       " 4  \"B\"\n",
       " 4  \"B\"\n",
       " 4  \"B\"\n",
       " 4  \"B\"\n",
       " 4  \"B\"\n",
       " 4  \"B\"\n",
       " 4  \"B\""
      ]
     },
     "metadata": {},
     "output_type": "display_data"
    },
    {
     "name": "stdout",
     "output_type": "stream",
     "text": [
      "===================== Position ======================\n"
     ]
    },
    {
     "data": {
      "text/plain": [
       "2568×3 Matrix{Float64}:\n",
       "  98.5   -4.62  -7.35\n",
       " 100.5   -4.62  -7.35\n",
       "  97.5   -2.89  -7.35\n",
       "  99.5   -2.89  -7.35\n",
       " 101.5   -2.89  -7.35\n",
       " 103.5   -2.89  -7.35\n",
       "  96.5   -1.15  -7.35\n",
       "  98.5   -1.15  -7.35\n",
       " 100.5   -1.15  -7.35\n",
       " 102.5   -1.15  -7.35\n",
       " 104.5   -1.15  -7.35\n",
       "  95.5    0.58  -7.35\n",
       "  97.5    0.58  -7.35\n",
       "   ⋮            \n",
       "   3.5   97.69   8.98\n",
       "  -3.5   99.42   8.98\n",
       "  -1.5   99.42   8.98\n",
       "   0.5   99.42   8.98\n",
       "   2.5   99.42   8.98\n",
       "  -2.5  101.15   8.98\n",
       "  -0.5  101.15   8.98\n",
       "   1.5  101.15   8.98\n",
       "   3.5  101.15   8.98\n",
       "  -1.5  102.89   8.98\n",
       "   0.5  102.89   8.98\n",
       "   2.5  102.89   8.98"
      ]
     },
     "metadata": {},
     "output_type": "display_data"
    },
    {
     "name": "stdout",
     "output_type": "stream",
     "text": [
      "===================== Outline ======================\n"
     ]
    },
    {
     "data": {
      "text/plain": [
       "2568-element Vector{Int64}:\n",
       " 1\n",
       " 1\n",
       " 1\n",
       " 1\n",
       " 1\n",
       " 1\n",
       " 1\n",
       " 1\n",
       " 1\n",
       " 1\n",
       " 1\n",
       " 1\n",
       " 1\n",
       " ⋮\n",
       " 1\n",
       " 1\n",
       " 1\n",
       " 1\n",
       " 1\n",
       " 1\n",
       " 1\n",
       " 1\n",
       " 1\n",
       " 1\n",
       " 1\n",
       " 1"
      ]
     },
     "metadata": {},
     "output_type": "display_data"
    },
    {
     "name": "stdout",
     "output_type": "stream",
     "text": [
      "Outer/Total = 0.5311526479750779\n"
     ]
    }
   ],
   "source": [
    "@time AllAggs = AllAggregates(\n",
    "    [Aggregate(\"A\", X, InteractionPar(Cubic(1.0,2.0,3.0), ContractilePar(0.01)), Model),\n",
    "     Aggregate(\"B\", Y, InteractionPar(Cubic(2.0,2.0,3.0), ContractilePar(0.02)), Model),\n",
    "     Aggregate(\"C\", X, InteractionPar(Cubic(3.0,2.0,3.0), ContractilePar(0.02)), Model),\n",
    "     Aggregate(\"D\", Y, InteractionPar(Cubic(4.0,2.0,3.0), ContractilePar(0.04)), Model)\n",
    "    ],\n",
    "    [\n",
    "        [\"A\",[100 ,0   ,0  ]],\n",
    "        [\"C\",[0   ,100 ,0  ]],\n",
    "        [\"D\",[0   ,0   ,100]],\n",
    "        [\"B\",[0   ,100 ,0  ]]\n",
    "    ]\n",
    ")\n",
    "show_all_aggregates(AllAggs)"
   ]
  }
 ],
 "metadata": {
  "kernelspec": {
   "display_name": "Julia 1.6.7",
   "language": "julia",
   "name": "julia-1.6"
  },
  "language_info": {
   "file_extension": ".jl",
   "mimetype": "application/julia",
   "name": "julia",
   "version": "1.6.7"
  },
  "orig_nbformat": 4
 },
 "nbformat": 4,
 "nbformat_minor": 2
}
