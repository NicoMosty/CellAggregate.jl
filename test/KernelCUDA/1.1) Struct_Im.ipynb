{
 "cells": [
  {
   "attachments": {},
   "cell_type": "markdown",
   "metadata": {},
   "source": [
    "# Dependences"
   ]
  },
  {
   "cell_type": "code",
   "execution_count": 350,
   "metadata": {},
   "outputs": [
    {
     "data": {
      "text/plain": [
       "fusion_agg (generic function with 1 method)"
      ]
     },
     "execution_count": 350,
     "metadata": {},
     "output_type": "execute_result"
    }
   ],
   "source": [
    "include(\"../../src/struct_data.jl\")"
   ]
  },
  {
   "attachments": {},
   "cell_type": "markdown",
   "metadata": {},
   "source": [
    "# Input Data"
   ]
  },
  {
   "cell_type": "code",
   "execution_count": null,
   "metadata": {},
   "outputs": [],
   "source": [
    "X = Float64.(readdlm(\"../../data/init/Sphere/15.0.xyz\")[3:end,2:end])\n",
    "Y = Float64.(readdlm(\"../../data/init/Sphere/10.0.xyz\")[3:end,2:end])"
   ]
  },
  {
   "attachments": {},
   "cell_type": "markdown",
   "metadata": {},
   "source": [
    "# Force Functions"
   ]
  },
  {
   "attachments": {},
   "cell_type": "markdown",
   "metadata": {},
   "source": [
    "## Cubic"
   ]
  },
  {
   "cell_type": "code",
   "execution_count": 351,
   "metadata": {},
   "outputs": [
    {
     "name": "stdout",
     "output_type": "stream",
     "text": [
      "UnionAll\n",
      "  var: TypeVar\n",
      "    name: Symbol T\n",
      "    lb: Union{}\n",
      "    ub: Any\n",
      "  body: Cubic{T} <: ForceType\n",
      "    μ₁::T\n",
      "    rₘᵢₙ::T\n",
      "    rₘₐₓ::T\n"
     ]
    }
   ],
   "source": [
    "@make_struct_func Cubic\n",
    "dump(Cubic)"
   ]
  },
  {
   "cell_type": "code",
   "execution_count": 352,
   "metadata": {},
   "outputs": [
    {
     "data": {
      "text/plain": [
       "0.1"
      ]
     },
     "execution_count": 352,
     "metadata": {},
     "output_type": "execute_result"
    }
   ],
   "source": [
    "# Parameters\n",
    "μ₁   = 1.0\n",
    "rₘₐₓ = 2.0\n",
    "rₘᵢₙ = 3.0\n",
    "fₚ   = 0.1"
   ]
  },
  {
   "cell_type": "code",
   "execution_count": 353,
   "metadata": {},
   "outputs": [
    {
     "data": {
      "text/plain": [
       "Cubic{Float64}(1.0, 2.0, 3.0)"
      ]
     },
     "execution_count": 353,
     "metadata": {},
     "output_type": "execute_result"
    }
   ],
   "source": [
    "Cubic(μ₁,rₘₐₓ,rₘᵢₙ)"
   ]
  },
  {
   "cell_type": "code",
   "execution_count": 354,
   "metadata": {},
   "outputs": [
    {
     "data": {
      "text/plain": [
       "4.0"
      ]
     },
     "execution_count": 354,
     "metadata": {},
     "output_type": "execute_result"
    }
   ],
   "source": [
    "# Show function on specific r value\n",
    "r = 1\n",
    "force_func(Cubic(μ₁,rₘₐₓ,rₘᵢₙ),r)"
   ]
  },
  {
   "cell_type": "code",
   "execution_count": 355,
   "metadata": {},
   "outputs": [
    {
     "name": "stdout",
     "output_type": "stream",
     "text": [
      "InteractionPar\n",
      "  Force: Cubic{Float64}\n",
      "    μ₁: Float64 1.0\n",
      "    rₘᵢₙ: Float64 2.0\n",
      "    rₘₐₓ: Float64 3.0\n",
      "  Contractile: ContractilePar\n",
      "    fₚ: Float64 0.1\n"
     ]
    }
   ],
   "source": [
    "dump(\n",
    "        InteractionPar(\n",
    "        Cubic(μ₁,rₘₐₓ,rₘᵢₙ),\n",
    "        ContractilePar(fₚ)\n",
    "    )\n",
    ")"
   ]
  },
  {
   "attachments": {},
   "cell_type": "markdown",
   "metadata": {},
   "source": [
    "## LennardJones"
   ]
  },
  {
   "cell_type": "code",
   "execution_count": 356,
   "metadata": {},
   "outputs": [
    {
     "name": "stdout",
     "output_type": "stream",
     "text": [
      "UnionAll\n",
      "  var: TypeVar\n",
      "    name: Symbol T\n",
      "    lb: Union{}\n",
      "    ub: Any\n",
      "  body: LennardJones{T} <: ForceType\n",
      "    μ₁::T\n",
      "    rₘᵢₙ::T\n",
      "    rₘₐₓ::T\n"
     ]
    }
   ],
   "source": [
    "@make_struct_func LennardJones\n",
    "dump(LennardJones)"
   ]
  },
  {
   "cell_type": "code",
   "execution_count": 357,
   "metadata": {},
   "outputs": [
    {
     "data": {
      "text/plain": [
       "3.0"
      ]
     },
     "execution_count": 357,
     "metadata": {},
     "output_type": "execute_result"
    }
   ],
   "source": [
    "# Parameters\n",
    "μ₁   = 1.0\n",
    "rₘₐₓ = 2.0\n",
    "rₘᵢₙ = 3.0"
   ]
  },
  {
   "cell_type": "code",
   "execution_count": 358,
   "metadata": {},
   "outputs": [
    {
     "data": {
      "text/plain": [
       "LennardJones{Float64}(1.0, 2.0, 3.0)"
      ]
     },
     "execution_count": 358,
     "metadata": {},
     "output_type": "execute_result"
    }
   ],
   "source": [
    "LennardJones(μ₁,rₘₐₓ,rₘᵢₙ)"
   ]
  },
  {
   "cell_type": "code",
   "execution_count": 359,
   "metadata": {},
   "outputs": [
    {
     "data": {
      "text/plain": [
       "1.9609746568876094"
      ]
     },
     "execution_count": 359,
     "metadata": {},
     "output_type": "execute_result"
    }
   ],
   "source": [
    "# Show function on specific r value\n",
    "r = 1.9\n",
    "force_func(LennardJones(μ₁,rₘₐₓ,rₘᵢₙ),r)"
   ]
  },
  {
   "cell_type": "code",
   "execution_count": 360,
   "metadata": {},
   "outputs": [
    {
     "name": "stdout",
     "output_type": "stream",
     "text": [
      "InteractionPar\n",
      "  Force: LennardJones{Float64}\n",
      "    μ₁: Float64 1.0\n",
      "    rₘᵢₙ: Float64 2.0\n",
      "    rₘₐₓ: Float64 3.0\n",
      "  Contractile: ContractilePar\n",
      "    fₚ: Float64 0.1\n"
     ]
    }
   ],
   "source": [
    "dump(\n",
    "    InteractionPar(\n",
    "        LennardJones(μ₁,rₘₐₓ,rₘᵢₙ),\n",
    "        ContractilePar(fₚ)\n",
    "    )\n",
    ")"
   ]
  },
  {
   "attachments": {},
   "cell_type": "markdown",
   "metadata": {},
   "source": [
    "# Model Parameter"
   ]
  },
  {
   "cell_type": "code",
   "execution_count": 362,
   "metadata": {},
   "outputs": [
    {
     "name": "stdout",
     "output_type": "stream",
     "text": [
      "ModelSet\n",
      "  Time: TimeModel\n",
      "    tₛᵢₘ: Float64 10000.0\n",
      "    dt: Float64 0.5\n",
      "    nₖₙₙ: Int64 50\n",
      "    nₛₐᵥₑ: Int64 100\n",
      "  Input: InputModel\n",
      "    outer_ratio: Float64 0.8\n",
      "    path_input: String \"../../data/init/Sphere\"\n"
     ]
    }
   ],
   "source": [
    "Model = ModelSet(\n",
    "    TimeModel(\n",
    "        tₛᵢₘ  = 10000.0,\n",
    "        dt    = 0.5,\n",
    "        nₖₙₙ  = 50,\n",
    "        nₛₐᵥₑ = 100\n",
    "    ),\n",
    "    InputModel(\n",
    "        outer_ratio = 0.8,\n",
    "        path_input = \"../../data/init/Sphere\"\n",
    "    )\n",
    ")\n",
    "dump(Model)"
   ]
  },
  {
   "attachments": {},
   "cell_type": "markdown",
   "metadata": {},
   "source": [
    "# Aggregate"
   ]
  },
  {
   "attachments": {},
   "cell_type": "markdown",
   "metadata": {},
   "source": [
    "## Aggregate"
   ]
  },
  {
   "cell_type": "code",
   "execution_count": 363,
   "metadata": {},
   "outputs": [
    {
     "name": "stdout",
     "output_type": "stream",
     "text": [
      "Aggregate\n",
      "  Name: String \"A\"\n",
      "  Position: Array{Float64}((2504, 3)) [-1.5 -4.62 -13.88; 0.5 -4.62 -13.88; … ; 0.5 4.62 13.88; 2.5 4.62 13.88]\n",
      "  Interaction: InteractionPar\n",
      "    Force: Cubic{Float64}\n",
      "      μ₁: Float64 1.0\n",
      "      rₘᵢₙ: Float64 2.0\n",
      "      rₘₐₓ: Float64 3.0\n",
      "    Contractile: ContractilePar\n",
      "      fₚ: Float64 0.01\n",
      "  Radius: Float64 15.270000000000001\n",
      "  Outline: Array{Int64}((2504,)) [1, 1, 1, 1, 1, 1, 1, 1, 1, 1  …  1, 1, 1, 1, 1, 1, 1, 1, 1, 1]\n"
     ]
    }
   ],
   "source": [
    "dump(\n",
    "    Aggregate(\n",
    "        \"A\", \n",
    "        X, \n",
    "        InteractionPar(\n",
    "            Cubic(1.0,2.0,3.0), \n",
    "            ContractilePar(0.01)\n",
    "        ),\n",
    "        Model\n",
    "    )\n",
    ")"
   ]
  },
  {
   "attachments": {},
   "cell_type": "markdown",
   "metadata": {},
   "source": [
    "## Simple Aggregate"
   ]
  },
  {
   "cell_type": "code",
   "execution_count": 364,
   "metadata": {},
   "outputs": [
    {
     "name": "stdout",
     "output_type": "stream",
     "text": [
      "  0.515869 seconds (648.14 k allocations: 37.653 MiB, 2.91% gc time, 97.91% compilation time)\n",
      "AllAggregates\n",
      "  AggType: Array{Any}((1, 4))\n",
      "    1: Int64 1\n",
      "    2: String \"A\"\n",
      "    3: Float64 15.270000000000001\n",
      "    4: InteractionPar\n",
      "      Force: Cubic{Float64}\n",
      "        μ₁: Float64 1.0\n",
      "        rₘᵢₙ: Float64 2.0\n",
      "        rₘₐₓ: Float64 3.0\n",
      "      Contractile: ContractilePar\n",
      "        fₚ: Float64 0.01\n",
      "  AggTypeIdx: Array{Any}((5008, 2))\n",
      "    1: Int64 1\n",
      "    2: Int64 1\n",
      "    3: Int64 1\n",
      "    4: Int64 1\n",
      "    5: Int64 1\n",
      "    ...\n",
      "    10012: String \"A\"\n",
      "    10013: String \"A\"\n",
      "    10014: String \"A\"\n",
      "    10015: String \"A\"\n",
      "    10016: String \"A\"\n",
      "  AggIdx: Array{Any}((5008, 2))\n",
      "    1: Int64 1\n",
      "    2: Int64 1\n",
      "    3: Int64 1\n",
      "    4: Int64 1\n",
      "    5: Int64 1\n",
      "    ...\n",
      "    10012: String \"A\"\n",
      "    10013: String \"A\"\n",
      "    10014: String \"A\"\n",
      "    10015: String \"A\"\n",
      "    10016: String \"A\"\n",
      "  Position: Array{Float64}((5008, 3)) [98.5 -4.62 -13.88; 100.5 -4.62 -13.88; … ; 0.5 104.62 13.88; 2.5 104.62 13.88]\n",
      "  Outline: Array{Int64}((5008,)) [1, 1, 1, 1, 1, 1, 1, 1, 1, 1  …  1, 1, 1, 1, 1, 1, 1, 1, 1, 1]\n"
     ]
    }
   ],
   "source": [
    "@time AllAggs = AllAggregates(\n",
    "    [Aggregate(\"A\", X, InteractionPar(Cubic(1.0,2.0,3.0), ContractilePar(0.01)), Model)]\n",
    "    ,\n",
    "    [\n",
    "        [\"A\",[100 ,0   ,0  ]],\n",
    "        [\"A\",[0   ,100 ,0  ]]\n",
    "    ]\n",
    ")\n",
    "dump(AllAggs)"
   ]
  },
  {
   "cell_type": "code",
   "execution_count": 365,
   "metadata": {},
   "outputs": [
    {
     "name": "stdout",
     "output_type": "stream",
     "text": [
      "===================== AggType ======================\n"
     ]
    },
    {
     "data": {
      "text/plain": [
       "1×4 Matrix{Any}:\n",
       " 1  …  InteractionPar(Cubic{Float64}(1.0, 2.0, 3.0), ContractilePar(0.01))"
      ]
     },
     "metadata": {},
     "output_type": "display_data"
    },
    {
     "name": "stdout",
     "output_type": "stream",
     "text": [
      "=================== AggTypeIdx =====================\n"
     ]
    },
    {
     "data": {
      "text/plain": [
       "5008×2 Matrix{Any}:\n",
       " 1  \"A\"\n",
       " 1  \"A\"\n",
       " 1  \"A\"\n",
       " 1  \"A\"\n",
       " 1  \"A\"\n",
       " 1  \"A\"\n",
       " 1  \"A\"\n",
       " 1  \"A\"\n",
       " 1  \"A\"\n",
       " 1  \"A\"\n",
       " 1  \"A\"\n",
       " 1  \"A\"\n",
       " 1  \"A\"\n",
       " ⋮  \n",
       " 1  \"A\"\n",
       " 1  \"A\"\n",
       " 1  \"A\"\n",
       " 1  \"A\"\n",
       " 1  \"A\"\n",
       " 1  \"A\"\n",
       " 1  \"A\"\n",
       " 1  \"A\"\n",
       " 1  \"A\"\n",
       " 1  \"A\"\n",
       " 1  \"A\"\n",
       " 1  \"A\""
      ]
     },
     "metadata": {},
     "output_type": "display_data"
    },
    {
     "name": "stdout",
     "output_type": "stream",
     "text": [
      "===================== AggIdx ======================\n"
     ]
    },
    {
     "data": {
      "text/plain": [
       "5008×2 Matrix{Any}:\n",
       " 1  \"A\"\n",
       " 1  \"A\"\n",
       " 1  \"A\"\n",
       " 1  \"A\"\n",
       " 1  \"A\"\n",
       " 1  \"A\"\n",
       " 1  \"A\"\n",
       " 1  \"A\"\n",
       " 1  \"A\"\n",
       " 1  \"A\"\n",
       " 1  \"A\"\n",
       " 1  \"A\"\n",
       " 1  \"A\"\n",
       " ⋮  \n",
       " 2  \"A\"\n",
       " 2  \"A\"\n",
       " 2  \"A\"\n",
       " 2  \"A\"\n",
       " 2  \"A\"\n",
       " 2  \"A\"\n",
       " 2  \"A\"\n",
       " 2  \"A\"\n",
       " 2  \"A\"\n",
       " 2  \"A\"\n",
       " 2  \"A\"\n",
       " 2  \"A\""
      ]
     },
     "metadata": {},
     "output_type": "display_data"
    },
    {
     "name": "stdout",
     "output_type": "stream",
     "text": [
      "===================== Position ======================\n"
     ]
    },
    {
     "data": {
      "text/plain": [
       "5008×3 Matrix{Float64}:\n",
       "  98.5   -4.62  -13.88\n",
       " 100.5   -4.62  -13.88\n",
       " 102.5   -4.62  -13.88\n",
       "  95.5   -2.89  -13.88\n",
       "  97.5   -2.89  -13.88\n",
       "  99.5   -2.89  -13.88\n",
       " 101.5   -2.89  -13.88\n",
       " 103.5   -2.89  -13.88\n",
       "  94.5   -1.15  -13.88\n",
       "  96.5   -1.15  -13.88\n",
       "  98.5   -1.15  -13.88\n",
       " 100.5   -1.15  -13.88\n",
       " 102.5   -1.15  -13.88\n",
       "   ⋮            \n",
       "  -1.5  101.15   13.88\n",
       "   0.5  101.15   13.88\n",
       "   2.5  101.15   13.88\n",
       "   4.5  101.15   13.88\n",
       "  -4.5  102.89   13.88\n",
       "  -2.5  102.89   13.88\n",
       "  -0.5  102.89   13.88\n",
       "   1.5  102.89   13.88\n",
       "   3.5  102.89   13.88\n",
       "  -1.5  104.62   13.88\n",
       "   0.5  104.62   13.88\n",
       "   2.5  104.62   13.88"
      ]
     },
     "metadata": {},
     "output_type": "display_data"
    },
    {
     "name": "stdout",
     "output_type": "stream",
     "text": [
      "===================== Outline ======================\n"
     ]
    },
    {
     "data": {
      "text/plain": [
       "5008-element Vector{Int64}:\n",
       " 1\n",
       " 1\n",
       " 1\n",
       " 1\n",
       " 1\n",
       " 1\n",
       " 1\n",
       " 1\n",
       " 1\n",
       " 1\n",
       " 1\n",
       " 1\n",
       " 1\n",
       " ⋮\n",
       " 1\n",
       " 1\n",
       " 1\n",
       " 1\n",
       " 1\n",
       " 1\n",
       " 1\n",
       " 1\n",
       " 1\n",
       " 1\n",
       " 1\n",
       " 1"
      ]
     },
     "metadata": {},
     "output_type": "display_data"
    },
    {
     "name": "stdout",
     "output_type": "stream",
     "text": [
      "Outer/Total = 0.46325878594249204\n"
     ]
    }
   ],
   "source": [
    "show_all_aggregates(AllAggs)"
   ]
  },
  {
   "attachments": {},
   "cell_type": "markdown",
   "metadata": {},
   "source": [
    "## Complex Aggregate"
   ]
  },
  {
   "cell_type": "code",
   "execution_count": 366,
   "metadata": {},
   "outputs": [
    {
     "name": "stdout",
     "output_type": "stream",
     "text": [
      "  0.015129 seconds (123.88 k allocations: 8.943 MiB)\n",
      "AllAggregates\n",
      "  AggType: Array{Any}((4, 4))\n",
      "    1: Int64 1\n",
      "    2: Int64 2\n",
      "    3: Int64 3\n",
      "    4: Int64 4\n",
      "    5: String \"A\"\n",
      "    ...\n",
      "    12: Float64 10.430000000000001\n",
      "    13: InteractionPar\n",
      "      Force: Cubic{Float64}\n",
      "        μ₁: Float64 1.0\n",
      "        rₘᵢₙ: Float64 2.0\n",
      "        rₘₐₓ: Float64 3.0\n",
      "      Contractile: ContractilePar\n",
      "        fₚ: Float64 0.01\n",
      "    14: InteractionPar\n",
      "      Force: Cubic{Float64}\n",
      "        μ₁: Float64 2.0\n",
      "        rₘᵢₙ: Float64 2.0\n",
      "        rₘₐₓ: Float64 3.0\n",
      "      Contractile: ContractilePar\n",
      "        fₚ: Float64 0.02\n",
      "    15: InteractionPar\n",
      "      Force: Cubic{Float64}\n",
      "        μ₁: Float64 3.0\n",
      "        rₘᵢₙ: Float64 2.0\n",
      "        rₘₐₓ: Float64 3.0\n",
      "      Contractile: ContractilePar\n",
      "        fₚ: Float64 0.02\n",
      "    16: InteractionPar\n",
      "      Force: Cubic{Float64}\n",
      "        μ₁: Float64 4.0\n",
      "        rₘᵢₙ: Float64 2.0\n",
      "        rₘₐₓ: Float64 3.0\n",
      "      Contractile: ContractilePar\n",
      "        fₚ: Float64 0.04\n",
      "  AggTypeIdx: Array{Any}((6500, 2))\n",
      "    1: Int64 1\n",
      "    2: Int64 1\n",
      "    3: Int64 1\n",
      "    4: Int64 1\n",
      "    5: Int64 1\n",
      "    ...\n",
      "    12996: String \"B\"\n",
      "    12997: String \"B\"\n",
      "    12998: String \"B\"\n",
      "    12999: String \"B\"\n",
      "    13000: String \"B\"\n",
      "  AggIdx: Array{Any}((6500, 2))\n",
      "    1: Int64 1\n",
      "    2: Int64 1\n",
      "    3: Int64 1\n",
      "    4: Int64 1\n",
      "    5: Int64 1\n",
      "    ...\n",
      "    12996: String \"B\"\n",
      "    12997: String \"B\"\n",
      "    12998: String \"B\"\n",
      "    12999: String \"B\"\n",
      "    13000: String \"B\"\n",
      "  Position: Array{Float64}((6500, 3)) [98.5 -4.62 -13.88; 100.5 -4.62 -13.88; … ; 0.5 102.89 8.98; 2.5 102.89 8.98]\n",
      "  Outline: Array{Int64}((6500,)) [1, 1, 1, 1, 1, 1, 1, 1, 1, 1  …  1, 1, 1, 1, 1, 1, 1, 1, 1, 1]\n"
     ]
    }
   ],
   "source": [
    "@time AllAggs = AllAggregates(\n",
    "    [Aggregate(\"A\", X, InteractionPar(Cubic(1.0,2.0,3.0), ContractilePar(0.01)), Model),\n",
    "     Aggregate(\"B\", Y, InteractionPar(Cubic(2.0,2.0,3.0), ContractilePar(0.02)), Model),\n",
    "     Aggregate(\"C\", X, InteractionPar(Cubic(3.0,2.0,3.0), ContractilePar(0.02)), Model),\n",
    "     Aggregate(\"D\", Y, InteractionPar(Cubic(4.0,2.0,3.0), ContractilePar(0.04)), Model)\n",
    "    ],\n",
    "    [\n",
    "        [\"A\",[100 ,0   ,0  ]],\n",
    "        [\"C\",[0   ,100 ,0  ]],\n",
    "        [\"D\",[0   ,0   ,100]],\n",
    "        [\"B\",[0   ,100 ,0  ]]\n",
    "    ]\n",
    ")\n",
    "dump(AllAggs)"
   ]
  },
  {
   "cell_type": "code",
   "execution_count": 367,
   "metadata": {},
   "outputs": [
    {
     "name": "stdout",
     "output_type": "stream",
     "text": [
      "===================== AggType ======================\n"
     ]
    },
    {
     "data": {
      "text/plain": [
       "4×4 Matrix{Any}:\n",
       " 1  …  InteractionPar(Cubic{Float64}(1.0, 2.0, 3.0), ContractilePar(0.01))\n",
       " 2     InteractionPar(Cubic{Float64}(2.0, 2.0, 3.0), ContractilePar(0.02))\n",
       " 3     InteractionPar(Cubic{Float64}(3.0, 2.0, 3.0), ContractilePar(0.02))\n",
       " 4     InteractionPar(Cubic{Float64}(4.0, 2.0, 3.0), ContractilePar(0.04))"
      ]
     },
     "metadata": {},
     "output_type": "display_data"
    },
    {
     "name": "stdout",
     "output_type": "stream",
     "text": [
      "=================== AggTypeIdx =====================\n"
     ]
    },
    {
     "data": {
      "text/plain": [
       "6500×2 Matrix{Any}:\n",
       " 1  \"A\"\n",
       " 1  \"A\"\n",
       " 1  \"A\"\n",
       " 1  \"A\"\n",
       " 1  \"A\"\n",
       " 1  \"A\"\n",
       " 1  \"A\"\n",
       " 1  \"A\"\n",
       " 1  \"A\"\n",
       " 1  \"A\"\n",
       " 1  \"A\"\n",
       " 1  \"A\"\n",
       " 1  \"A\"\n",
       " ⋮  \n",
       " 2  \"B\"\n",
       " 2  \"B\"\n",
       " 2  \"B\"\n",
       " 2  \"B\"\n",
       " 2  \"B\"\n",
       " 2  \"B\"\n",
       " 2  \"B\"\n",
       " 2  \"B\"\n",
       " 2  \"B\"\n",
       " 2  \"B\"\n",
       " 2  \"B\"\n",
       " 2  \"B\""
      ]
     },
     "metadata": {},
     "output_type": "display_data"
    },
    {
     "name": "stdout",
     "output_type": "stream",
     "text": [
      "===================== AggIdx ======================\n"
     ]
    },
    {
     "data": {
      "text/plain": [
       "6500×2 Matrix{Any}:\n",
       " 1  \"A\"\n",
       " 1  \"A\"\n",
       " 1  \"A\"\n",
       " 1  \"A\"\n",
       " 1  \"A\"\n",
       " 1  \"A\"\n",
       " 1  \"A\"\n",
       " 1  \"A\"\n",
       " 1  \"A\"\n",
       " 1  \"A\"\n",
       " 1  \"A\"\n",
       " 1  \"A\"\n",
       " 1  \"A\"\n",
       " ⋮  \n",
       " 4  \"B\"\n",
       " 4  \"B\"\n",
       " 4  \"B\"\n",
       " 4  \"B\"\n",
       " 4  \"B\"\n",
       " 4  \"B\"\n",
       " 4  \"B\"\n",
       " 4  \"B\"\n",
       " 4  \"B\"\n",
       " 4  \"B\"\n",
       " 4  \"B\"\n",
       " 4  \"B\""
      ]
     },
     "metadata": {},
     "output_type": "display_data"
    },
    {
     "name": "stdout",
     "output_type": "stream",
     "text": [
      "===================== Position ======================\n"
     ]
    },
    {
     "data": {
      "text/plain": [
       "6500×3 Matrix{Float64}:\n",
       "  98.5   -4.62  -13.88\n",
       " 100.5   -4.62  -13.88\n",
       " 102.5   -4.62  -13.88\n",
       "  95.5   -2.89  -13.88\n",
       "  97.5   -2.89  -13.88\n",
       "  99.5   -2.89  -13.88\n",
       " 101.5   -2.89  -13.88\n",
       " 103.5   -2.89  -13.88\n",
       "  94.5   -1.15  -13.88\n",
       "  96.5   -1.15  -13.88\n",
       "  98.5   -1.15  -13.88\n",
       " 100.5   -1.15  -13.88\n",
       " 102.5   -1.15  -13.88\n",
       "   ⋮            \n",
       "   3.5   97.69    8.98\n",
       "  -3.5   99.42    8.98\n",
       "  -1.5   99.42    8.98\n",
       "   0.5   99.42    8.98\n",
       "   2.5   99.42    8.98\n",
       "  -2.5  101.15    8.98\n",
       "  -0.5  101.15    8.98\n",
       "   1.5  101.15    8.98\n",
       "   3.5  101.15    8.98\n",
       "  -1.5  102.89    8.98\n",
       "   0.5  102.89    8.98\n",
       "   2.5  102.89    8.98"
      ]
     },
     "metadata": {},
     "output_type": "display_data"
    },
    {
     "name": "stdout",
     "output_type": "stream",
     "text": [
      "===================== Outline ======================\n"
     ]
    },
    {
     "data": {
      "text/plain": [
       "6500-element Vector{Int64}:\n",
       " 1\n",
       " 1\n",
       " 1\n",
       " 1\n",
       " 1\n",
       " 1\n",
       " 1\n",
       " 1\n",
       " 1\n",
       " 1\n",
       " 1\n",
       " 1\n",
       " 1\n",
       " ⋮\n",
       " 1\n",
       " 1\n",
       " 1\n",
       " 1\n",
       " 1\n",
       " 1\n",
       " 1\n",
       " 1\n",
       " 1\n",
       " 1\n",
       " 1\n",
       " 1"
      ]
     },
     "metadata": {},
     "output_type": "display_data"
    },
    {
     "name": "stdout",
     "output_type": "stream",
     "text": [
      "Outer/Total = 0.4523076923076923\n"
     ]
    }
   ],
   "source": [
    "show_all_aggregates(AllAggs)"
   ]
  },
  {
   "attachments": {},
   "cell_type": "markdown",
   "metadata": {},
   "source": [
    "## Fusion Aggs"
   ]
  },
  {
   "attachments": {},
   "cell_type": "markdown",
   "metadata": {},
   "source": [
    "### First"
   ]
  },
  {
   "cell_type": "code",
   "execution_count": 368,
   "metadata": {},
   "outputs": [
    {
     "name": "stdout",
     "output_type": "stream",
     "text": [
      "=================== ONE Aggregate ===================\n",
      "Aggregate\n",
      "  Name: String \"HEK\"\n",
      "  Position: Array{Float64}((2504, 3)) [-1.5 -4.62 -13.88; 0.5 -4.62 -13.88; … ; 0.5 4.62 13.88; 2.5 4.62 13.88]\n",
      "  Interaction: InteractionPar\n",
      "    Force: Cubic{Float64}\n",
      "      μ₁: Float64 1.0\n",
      "      rₘᵢₙ: Float64 2.0\n",
      "      rₘₐₓ: Float64 3.0\n",
      "    Contractile: ContractilePar\n",
      "      fₚ: Float64 0.01\n",
      "  Radius: Float64 15.270000000000001\n",
      "  Outline: Array{Int64}((2504,)) [1, 1, 1, 1, 1, 1, 1, 1, 1, 1  …  1, 1, 1, 1, 1, 1, 1, 1, 1, 1]\n"
     ]
    },
    {
     "data": {
      "text/plain": [
       "nothing"
      ]
     },
     "metadata": {},
     "output_type": "display_data"
    },
    {
     "name": "stdout",
     "output_type": "stream",
     "text": [
      "================= Fusion Aggregate ==================\n",
      "===================== AggType ======================\n"
     ]
    },
    {
     "data": {
      "text/plain": [
       "1×4 Matrix{Any}:\n",
       " 1  …  InteractionPar(Cubic{Float64}(1.0, 2.0, 3.0), ContractilePar(0.01))"
      ]
     },
     "metadata": {},
     "output_type": "display_data"
    },
    {
     "name": "stdout",
     "output_type": "stream",
     "text": [
      "=================== AggTypeIdx =====================\n"
     ]
    },
    {
     "data": {
      "text/plain": [
       "5008×2 Matrix{Any}:\n",
       " 1  \"HEK\"\n",
       " 1  \"HEK\"\n",
       " 1  \"HEK\"\n",
       " 1  \"HEK\"\n",
       " 1  \"HEK\"\n",
       " 1  \"HEK\"\n",
       " 1  \"HEK\"\n",
       " 1  \"HEK\"\n",
       " 1  \"HEK\"\n",
       " 1  \"HEK\"\n",
       " 1  \"HEK\"\n",
       " 1  \"HEK\"\n",
       " 1  \"HEK\"\n",
       " ⋮  \n",
       " 1  \"HEK\"\n",
       " 1  \"HEK\"\n",
       " 1  \"HEK\"\n",
       " 1  \"HEK\"\n",
       " 1  \"HEK\"\n",
       " 1  \"HEK\"\n",
       " 1  \"HEK\"\n",
       " 1  \"HEK\"\n",
       " 1  \"HEK\"\n",
       " 1  \"HEK\"\n",
       " 1  \"HEK\"\n",
       " 1  \"HEK\""
      ]
     },
     "metadata": {},
     "output_type": "display_data"
    },
    {
     "name": "stdout",
     "output_type": "stream",
     "text": [
      "===================== AggIdx ======================\n"
     ]
    },
    {
     "data": {
      "text/plain": [
       "5008×2 Matrix{Any}:\n",
       " 1  \"HEK\"\n",
       " 1  \"HEK\"\n",
       " 1  \"HEK\"\n",
       " 1  \"HEK\"\n",
       " 1  \"HEK\"\n",
       " 1  \"HEK\"\n",
       " 1  \"HEK\"\n",
       " 1  \"HEK\"\n",
       " 1  \"HEK\"\n",
       " 1  \"HEK\"\n",
       " 1  \"HEK\"\n",
       " 1  \"HEK\"\n",
       " 1  \"HEK\"\n",
       " ⋮  \n",
       " 2  \"HEK\"\n",
       " 2  \"HEK\"\n",
       " 2  \"HEK\"\n",
       " 2  \"HEK\"\n",
       " 2  \"HEK\"\n",
       " 2  \"HEK\"\n",
       " 2  \"HEK\"\n",
       " 2  \"HEK\"\n",
       " 2  \"HEK\"\n",
       " 2  \"HEK\"\n",
       " 2  \"HEK\"\n",
       " 2  \"HEK\""
      ]
     },
     "metadata": {},
     "output_type": "display_data"
    },
    {
     "name": "stdout",
     "output_type": "stream",
     "text": [
      "===================== Position ======================\n"
     ]
    },
    {
     "data": {
      "text/plain": [
       "5008×3 Matrix{Float64}:\n",
       " -16.77  -4.62  -13.88\n",
       " -14.77  -4.62  -13.88\n",
       " -12.77  -4.62  -13.88\n",
       " -19.77  -2.89  -13.88\n",
       " -17.77  -2.89  -13.88\n",
       " -15.77  -2.89  -13.88\n",
       " -13.77  -2.89  -13.88\n",
       " -11.77  -2.89  -13.88\n",
       " -20.77  -1.15  -13.88\n",
       " -18.77  -1.15  -13.88\n",
       " -16.77  -1.15  -13.88\n",
       " -14.77  -1.15  -13.88\n",
       " -12.77  -1.15  -13.88\n",
       "   ⋮            \n",
       "  13.77   1.15   13.88\n",
       "  15.77   1.15   13.88\n",
       "  17.77   1.15   13.88\n",
       "  19.77   1.15   13.88\n",
       "  10.77   2.89   13.88\n",
       "  12.77   2.89   13.88\n",
       "  14.77   2.89   13.88\n",
       "  16.77   2.89   13.88\n",
       "  18.77   2.89   13.88\n",
       "  13.77   4.62   13.88\n",
       "  15.77   4.62   13.88\n",
       "  17.77   4.62   13.88"
      ]
     },
     "metadata": {},
     "output_type": "display_data"
    },
    {
     "name": "stdout",
     "output_type": "stream",
     "text": [
      "===================== Outline ======================\n"
     ]
    },
    {
     "data": {
      "text/plain": [
       "5008-element Vector{Int64}:\n",
       " 1\n",
       " 1\n",
       " 1\n",
       " 1\n",
       " 1\n",
       " 1\n",
       " 1\n",
       " 1\n",
       " 1\n",
       " 1\n",
       " 1\n",
       " 1\n",
       " 1\n",
       " ⋮\n",
       " 1\n",
       " 1\n",
       " 1\n",
       " 1\n",
       " 1\n",
       " 1\n",
       " 1\n",
       " 1\n",
       " 1\n",
       " 1\n",
       " 1\n",
       " 1"
      ]
     },
     "metadata": {},
     "output_type": "display_data"
    },
    {
     "name": "stdout",
     "output_type": "stream",
     "text": [
      "Outer/Total = 0.46325878594249204\n"
     ]
    }
   ],
   "source": [
    "AGG = Aggregate(\n",
    "    \"HEK\", \n",
    "    X, \n",
    "    InteractionPar(\n",
    "        Cubic(1.0,2.0,3.0), \n",
    "        ContractilePar(0.01)\n",
    "    ),\n",
    "    Model\n",
    ")\n",
    "println(\"=================== ONE Aggregate ===================\")\n",
    "display(dump(AGG))\n",
    "\n",
    "println(\"================= Fusion Aggregate ==================\")\n",
    "FusionAGG = fusion_agg(AGG)\n",
    "show_all_aggregates(FusionAGG)\n",
    "\n",
    "using DelimitedFiles\n",
    "\n",
    "TEXT = hcat(FusionAGG.Outline,FusionAGG.Position)\n",
    "\n",
    "open(\"tetero.xyz\", \"w\") do f\n",
    "    write(f, \"$(size(FusionAGG.Position, 1))\\n\")\n",
    "    write(f, \"t=$(0)\\n\")\n",
    "    writedlm(f,TEXT, ' ')\n",
    "end"
   ]
  },
  {
   "attachments": {},
   "cell_type": "markdown",
   "metadata": {},
   "source": [
    "### Second"
   ]
  },
  {
   "cell_type": "code",
   "execution_count": 369,
   "metadata": {},
   "outputs": [
    {
     "data": {
      "text/plain": [
       "Aggregate(\"HEK_2\", [-1.5 -2.89 -8.98; 0.5 -2.89 -8.98; … ; 0.5 2.89 8.98; 2.5 2.89 8.98], InteractionPar(Cubic{Float64}(1.0, 2.0, 3.0), ContractilePar(0.01)), 10.430000000000001, [1, 1, 1, 1, 1, 1, 1, 1, 1, 1  …  1, 1, 1, 1, 1, 1, 1, 1, 1, 1])"
      ]
     },
     "execution_count": 369,
     "metadata": {},
     "output_type": "execute_result"
    }
   ],
   "source": [
    "AGG_1 = Aggregate(\n",
    "    \"HEK_1\", \n",
    "    X, \n",
    "    InteractionPar(\n",
    "        Cubic(1.0,2.0,3.0), \n",
    "        ContractilePar(0.01)\n",
    "    ),\n",
    "    Model\n",
    ")\n",
    "AGG_2 = Aggregate(\n",
    "    \"HEK_2\", \n",
    "    Y, \n",
    "    InteractionPar(\n",
    "        Cubic(1.0,2.0,3.0), \n",
    "        ContractilePar(0.01)\n",
    "    ),\n",
    "    Model\n",
    ")"
   ]
  },
  {
   "cell_type": "code",
   "execution_count": 370,
   "metadata": {},
   "outputs": [
    {
     "name": "stdout",
     "output_type": "stream",
     "text": [
      "================= Fusion Aggregate ==================\n",
      "===================== AggType ======================\n"
     ]
    },
    {
     "data": {
      "text/plain": [
       "2×4 Matrix{Any}:\n",
       " 1  …  InteractionPar(Cubic{Float64}(1.0, 2.0, 3.0), ContractilePar(0.01))\n",
       " 2     InteractionPar(Cubic{Float64}(1.0, 2.0, 3.0), ContractilePar(0.01))"
      ]
     },
     "metadata": {},
     "output_type": "display_data"
    },
    {
     "name": "stdout",
     "output_type": "stream",
     "text": [
      "=================== AggTypeIdx =====================\n"
     ]
    },
    {
     "data": {
      "text/plain": [
       "3250×2 Matrix{Any}:\n",
       " 1  \"HEK_1\"\n",
       " 1  \"HEK_1\"\n",
       " 1  \"HEK_1\"\n",
       " 1  \"HEK_1\"\n",
       " 1  \"HEK_1\"\n",
       " 1  \"HEK_1\"\n",
       " 1  \"HEK_1\"\n",
       " 1  \"HEK_1\"\n",
       " 1  \"HEK_1\"\n",
       " 1  \"HEK_1\"\n",
       " 1  \"HEK_1\"\n",
       " 1  \"HEK_1\"\n",
       " 1  \"HEK_1\"\n",
       " ⋮  \n",
       " 2  \"HEK_2\"\n",
       " 2  \"HEK_2\"\n",
       " 2  \"HEK_2\"\n",
       " 2  \"HEK_2\"\n",
       " 2  \"HEK_2\"\n",
       " 2  \"HEK_2\"\n",
       " 2  \"HEK_2\"\n",
       " 2  \"HEK_2\"\n",
       " 2  \"HEK_2\"\n",
       " 2  \"HEK_2\"\n",
       " 2  \"HEK_2\"\n",
       " 2  \"HEK_2\""
      ]
     },
     "metadata": {},
     "output_type": "display_data"
    },
    {
     "name": "stdout",
     "output_type": "stream",
     "text": [
      "===================== AggIdx ======================\n"
     ]
    },
    {
     "data": {
      "text/plain": [
       "3250×2 Matrix{Any}:\n",
       " 1  \"HEK_1\"\n",
       " 1  \"HEK_1\"\n",
       " 1  \"HEK_1\"\n",
       " 1  \"HEK_1\"\n",
       " 1  \"HEK_1\"\n",
       " 1  \"HEK_1\"\n",
       " 1  \"HEK_1\"\n",
       " 1  \"HEK_1\"\n",
       " 1  \"HEK_1\"\n",
       " 1  \"HEK_1\"\n",
       " 1  \"HEK_1\"\n",
       " 1  \"HEK_1\"\n",
       " 1  \"HEK_1\"\n",
       " ⋮  \n",
       " 2  \"HEK_2\"\n",
       " 2  \"HEK_2\"\n",
       " 2  \"HEK_2\"\n",
       " 2  \"HEK_2\"\n",
       " 2  \"HEK_2\"\n",
       " 2  \"HEK_2\"\n",
       " 2  \"HEK_2\"\n",
       " 2  \"HEK_2\"\n",
       " 2  \"HEK_2\"\n",
       " 2  \"HEK_2\"\n",
       " 2  \"HEK_2\"\n",
       " 2  \"HEK_2\""
      ]
     },
     "metadata": {},
     "output_type": "display_data"
    },
    {
     "name": "stdout",
     "output_type": "stream",
     "text": [
      "===================== Position ======================\n"
     ]
    },
    {
     "data": {
      "text/plain": [
       "3250×3 Matrix{Float64}:\n",
       " -16.77  -4.62  -13.88\n",
       " -14.77  -4.62  -13.88\n",
       " -12.77  -4.62  -13.88\n",
       " -19.77  -2.89  -13.88\n",
       " -17.77  -2.89  -13.88\n",
       " -15.77  -2.89  -13.88\n",
       " -13.77  -2.89  -13.88\n",
       " -11.77  -2.89  -13.88\n",
       " -20.77  -1.15  -13.88\n",
       " -18.77  -1.15  -13.88\n",
       " -16.77  -1.15  -13.88\n",
       " -14.77  -1.15  -13.88\n",
       " -12.77  -1.15  -13.88\n",
       "   ⋮            \n",
       "  13.93  -2.31    8.98\n",
       "   6.93  -0.58    8.98\n",
       "   8.93  -0.58    8.98\n",
       "  10.93  -0.58    8.98\n",
       "  12.93  -0.58    8.98\n",
       "   7.93   1.15    8.98\n",
       "   9.93   1.15    8.98\n",
       "  11.93   1.15    8.98\n",
       "  13.93   1.15    8.98\n",
       "   8.93   2.89    8.98\n",
       "  10.93   2.89    8.98\n",
       "  12.93   2.89    8.98"
      ]
     },
     "metadata": {},
     "output_type": "display_data"
    },
    {
     "name": "stdout",
     "output_type": "stream",
     "text": [
      "===================== Outline ======================\n"
     ]
    },
    {
     "data": {
      "text/plain": [
       "3250-element Vector{Int64}:\n",
       " 1\n",
       " 1\n",
       " 1\n",
       " 1\n",
       " 1\n",
       " 1\n",
       " 1\n",
       " 1\n",
       " 1\n",
       " 1\n",
       " 1\n",
       " 1\n",
       " 1\n",
       " ⋮\n",
       " 1\n",
       " 1\n",
       " 1\n",
       " 1\n",
       " 1\n",
       " 1\n",
       " 1\n",
       " 1\n",
       " 1\n",
       " 1\n",
       " 1\n",
       " 1"
      ]
     },
     "metadata": {},
     "output_type": "display_data"
    },
    {
     "name": "stdout",
     "output_type": "stream",
     "text": [
      "Outer/Total = 0.4523076923076923\n"
     ]
    }
   ],
   "source": [
    "Fusion_AGG = AllAggregates(\n",
    "        [AGG_1, AGG_2],\n",
    "        [\n",
    "            [AGG_1.Name,[-AGG_1.Radius ,0 ,0]],\n",
    "            [AGG_2.Name,[ AGG_2.Radius ,0 ,0]]\n",
    "        ]\n",
    "    )\n",
    "\n",
    "using DelimitedFiles\n",
    "\n",
    "TEXT = hcat(Fusion_AGG.Outline,Fusion_AGG.Position)\n",
    "\n",
    "open(\"tetero_2.xyz\", \"w\") do f\n",
    "    write(f, \"$(size(Fusion_AGG.Position, 1))\\n\")\n",
    "    write(f, \"t=$(0)\\n\")\n",
    "    writedlm(f,TEXT, ' ')\n",
    "end"
   ]
  },
  {
   "attachments": {},
   "cell_type": "markdown",
   "metadata": {},
   "source": [
    "### Third"
   ]
  },
  {
   "cell_type": "code",
   "execution_count": null,
   "metadata": {},
   "outputs": [],
   "source": [
    "AGG_1 = Aggregate(\n",
    "    \"HEK_1\", \n",
    "    X, \n",
    "    InteractionPar(\n",
    "        Cubic(1.0,2.0,3.0), \n",
    "        ContractilePar(0.01)\n",
    "    ),\n",
    "    Model\n",
    ")\n",
    "AGG_2 = Aggregate(\n",
    "    \"HEK_2\", \n",
    "    Y, \n",
    "    InteractionPar(\n",
    "        Cubic(1.0,2.0,3.0), \n",
    "        ContractilePar(0.01)\n",
    "    ),\n",
    "    Model\n",
    ")"
   ]
  },
  {
   "cell_type": "code",
   "execution_count": 381,
   "metadata": {},
   "outputs": [],
   "source": [
    "Fusion_AGG_2 = AllAggregates(\n",
    "        [AGG_1, AGG_2],\n",
    "        [\n",
    "            [AGG_1.Name,[0                           , 0                           ,0]],\n",
    "            [AGG_2.Name,[AGG_2.Radius + AGG_1.Radius ,0                            ,0]],\n",
    "            [AGG_2.Name,[0                           ,AGG_2.Radius + AGG_1.Radius  ,0]]\n",
    "        ]\n",
    "    )\n",
    "\n",
    "using DelimitedFiles\n",
    "\n",
    "TEXT = hcat(Fusion_AGG_2.Outline,Fusion_AGG_2.Position)\n",
    "\n",
    "open(\"tetero_3.xyz\", \"w\") do f\n",
    "    write(f, \"$(size(Fusion_AGG_2.Position, 1))\\n\")\n",
    "    write(f, \"t=$(0)\\n\")\n",
    "    writedlm(f,TEXT, ' ')\n",
    "end"
   ]
  },
  {
   "attachments": {},
   "cell_type": "markdown",
   "metadata": {},
   "source": [
    "# Simulation Struct"
   ]
  },
  {
   "cell_type": "code",
   "execution_count": null,
   "metadata": {},
   "outputs": [],
   "source": []
  }
 ],
 "metadata": {
  "kernelspec": {
   "display_name": "Julia 1.6.7",
   "language": "julia",
   "name": "julia-1.6"
  },
  "language_info": {
   "file_extension": ".jl",
   "mimetype": "application/julia",
   "name": "julia",
   "version": "1.6.7"
  },
  "orig_nbformat": 4
 },
 "nbformat": 4,
 "nbformat_minor": 2
}
