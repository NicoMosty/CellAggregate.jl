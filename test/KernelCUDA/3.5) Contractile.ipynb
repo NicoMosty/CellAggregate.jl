{
 "cells": [
  {
   "attachments": {},
   "cell_type": "markdown",
   "metadata": {},
   "source": [
    "# Prev"
   ]
  },
  {
   "attachments": {},
   "cell_type": "markdown",
   "metadata": {},
   "source": [
    "## include"
   ]
  },
  {
   "cell_type": "code",
   "execution_count": 96,
   "metadata": {},
   "outputs": [
    {
     "data": {
      "text/plain": [
       "RunFusionAggregates (generic function with 1 method)"
      ]
     },
     "metadata": {},
     "output_type": "display_data"
    }
   ],
   "source": [
    "include(\"../../src/struct_data.jl\")\n",
    "include(\"../../src/neighbor.jl\")\n",
    "include(\"../../src/forces/forces.jl\")\n",
    "include(\"../../src/run_event.jl\")"
   ]
  },
  {
   "attachments": {},
   "cell_type": "markdown",
   "metadata": {},
   "source": [
    "## model"
   ]
  },
  {
   "cell_type": "code",
   "execution_count": 97,
   "metadata": {},
   "outputs": [
    {
     "name": "stdout",
     "output_type": "stream",
     "text": [
      "  0.000000 seconds (4 allocations: 144 bytes)\n",
      "ModelSet\n",
      "  Time: TimeModel\n",
      "    tₛᵢₘ: Float64 150000.0\n",
      "    dt: Float64 0.5\n",
      "    nₖₙₙ: Int64 100\n",
      "    nₛₐᵥₑ: Int64 50\n",
      "  Input: InputModel\n",
      "    outer_ratio: Float64 0.8\n",
      "    path_input: String \"../../data/init/Sphere\"\n",
      "  Output: OutputModel\n",
      "    name_output: String \"Test_1\"\n",
      "    path_output: String \"\"\n"
     ]
    }
   ],
   "source": [
    "@time model = ModelSet(\n",
    "    TimeModel(\n",
    "        tₛᵢₘ  = 150000.0,\n",
    "        dt    = 0.5,\n",
    "        nₖₙₙ  = 100,\n",
    "        nₛₐᵥₑ = 50\n",
    "    ),\n",
    "    InputModel(\n",
    "        outer_ratio = 0.8,\n",
    "        path_input  = \"../../data/init/Sphere\"\n",
    "    ),\n",
    "    OutputModel(\n",
    "        name_output = \"Test_1\",\n",
    "        path_output = \"\"\n",
    "    ) \n",
    ")\n",
    "\n",
    "Par1, Par2 = Cubic(0.0055,2.0,4.5), ContractilePar(0.164);\n",
    "\n",
    "dump(model)"
   ]
  },
  {
   "attachments": {},
   "cell_type": "markdown",
   "metadata": {},
   "source": [
    "## aggregate"
   ]
  },
  {
   "cell_type": "code",
   "execution_count": 98,
   "metadata": {},
   "outputs": [
    {
     "data": {
      "text/plain": [
       "Aggregate(AggType[AggType(\"HEK_1\", InteractionPar(Cubic{Float64}(0.0055, 2.0, 4.5), ContractilePar(0.164)), 12.189157f0, Float32[-5.8861017 -4.799863 -8.264273; 1.0154873 -5.753389 -9.426559; … ; 3.3784163 3.3059669 9.768439; 6.8377233 4.1324844 8.079775], CuArray{Float32, 2, CUDA.Mem.DeviceBuffer})], AggIndex([1, 1, 1, 1, 1, 1, 1, 1, 1, 1  …  1, 1, 1, 1, 1, 1, 1, 1, 1, 1], [1, 1, 1, 1, 1, 1, 1, 1, 1, 1  …  2, 2, 2, 2, 2, 2, 2, 2, 2, 2], [\"HEK_1\", \"HEK_1\", \"HEK_1\", \"HEK_1\", \"HEK_1\", \"HEK_1\", \"HEK_1\", \"HEK_1\", \"HEK_1\", \"HEK_1\"  …  \"HEK_1\", \"HEK_1\", \"HEK_1\", \"HEK_1\", \"HEK_1\", \"HEK_1\", \"HEK_1\", \"HEK_1\", \"HEK_1\", \"HEK_1\"]), Float32[-18.075258 -4.799863 -8.264273; -11.173669 -5.753389 -9.426559; … ; 15.567573 3.3059669 9.768439; 19.02688 4.1324844 8.079775], AggGeometry(Float32[12.189157, 12.189157, 12.189157, 12.189157, 12.189157, 12.189157, 12.189157, 12.189157, 12.189157, 12.189157  …  12.189157, 12.189157, 12.189157, 12.189157, 12.189157, 12.189157, 12.189157, 12.189157, 12.189157, 12.189157], [1, 1, 1, 1, 1, 1, 1, 1, 1, 1  …  1, 1, 1, 1, 1, 1, 1, 1, 1, 1]), AggSimulation(AggParameter(Cubic{CuArray{Float32, 1, CUDA.Mem.DeviceBuffer}}(Float32[0.0055, 0.0055, 0.0055, 0.0055, 0.0055, 0.0055, 0.0055, 0.0055, 0.0055, 0.0055  …  0.0055, 0.0055, 0.0055, 0.0055, 0.0055, 0.0055, 0.0055, 0.0055, 0.0055, 0.0055], Float32[2.0, 2.0, 2.0, 2.0, 2.0, 2.0, 2.0, 2.0, 2.0, 2.0  …  2.0, 2.0, 2.0, 2.0, 2.0, 2.0, 2.0, 2.0, 2.0, 2.0], Float32[4.5, 4.5, 4.5, 4.5, 4.5, 4.5, 4.5, 4.5, 4.5, 4.5  …  4.5, 4.5, 4.5, 4.5, 4.5, 4.5, 4.5, 4.5, 4.5, 4.5]), ContractilePar(Float32[0.164, 0.164, 0.164, 0.164, 0.164, 0.164, 0.164, 0.164, 0.164, 0.164  …  0.164, 0.164, 0.164, 0.164, 0.164, 0.164, 0.164, 0.164, 0.164, 0.164]), Float32[12.189157]), AggNeighbor(Int32[0 0 … 0 0; 0 0 … 0 0; … ; 0 0 … 0 0; 0 0 … 0 0], Int32[0 0 … 0 0; 0 0 … 0 0; … ; 0 0 … 0 0; 0 0 … 0 0], Int32[0 0 … 0 0], Int32[0 0 … 0 0; 0 0 … 0 0; … ; 0 0 … 0 0; 0 0 … 0 0]), AggForce(Float32[0.0 0.0 0.0; 0.0 0.0 0.0; … ; 0.0 0.0 0.0; 0.0 0.0 0.0], Float32[0.0 0.0 0.0; 0.0 0.0 0.0; … ; 0.0 0.0 0.0; 0.0 0.0 0.0], Float32[0.0 0.0 0.0; 0.0 0.0 0.0; … ; 0.0 0.0 0.0; 0.0 0.0 0.0])))"
      ]
     },
     "metadata": {},
     "output_type": "display_data"
    }
   ],
   "source": [
    "agg = nothing\n",
    "agg = Aggregate(\n",
    "    [AggType(\n",
    "        \"HEK_1\", \n",
    "        InteractionPar(Par1, Par2),\n",
    "        Float32.(readdlm(\"init_stable.xyz\")[3:end,2:end]) |> cu\n",
    "    )], \n",
    "    [AggLocation(\"HEK_1\",[0 0 0]),],\n",
    "    model\n",
    ")\n",
    "\n",
    "agg = FusionAggregate(\n",
    "    [AggType(\"HEK_1\", InteractionPar(Par1, Par2),agg.Position)], \n",
    "    model\n",
    ")"
   ]
  },
  {
   "attachments": {},
   "cell_type": "markdown",
   "metadata": {},
   "source": [
    "## kNN"
   ]
  },
  {
   "cell_type": "code",
   "execution_count": 99,
   "metadata": {},
   "outputs": [
    {
     "data": {
      "text/plain": [
       "1000×5008 CuArray{Int32, 2, CUDA.Mem.DeviceBuffer}:\n",
       " 109   33  19  128  59   43  18   13  …  4974  5007  4960  4790  5004  4969\n",
       "  42  210  70   34  10   30  30   36     5004  4966  4907  4781  4898  4753\n",
       " 110  121  13   35  30   59  59   25     4973  5003  4753  4977  4978  4993\n",
       "  49  241  62   10  41  111  52   43     5002  4974  4993  4675  4974  4881\n",
       "  34  112  53   49  51  122  43  112     4998  4999  4943  4910  4972  5005\n",
       " 205  101  45   41  58   36  13   19  …  4947  4958  5008  4979  5000  4975\n",
       " 213   47  24   65  34   44   5   45     4978  5000  5000  5002  4907  4968\n",
       " 129   31  54    5  12   52  12  228     5007  4998  4961  4895  5003  4861\n",
       "   0  219  18    0   7  130   6   44     4977  4992  4934  4888  4966  4907\n",
       "   0   37  64    0   4   51  60    0     4958  4950     0     0     0  4899\n",
       "   ⋮                      ⋮           ⋱                       ⋮        \n",
       "   0    0   0    0   0    0   0    0        0     0     0     0     0     0\n",
       "   0    0   0    0   0    0   0    0        0     0     0     0     0     0\n",
       "   0    0   0    0   0    0   0    0        0     0     0     0     0     0\n",
       "   0    0   0    0   0    0   0    0        0     0     0     0     0     0\n",
       "   0    0   0    0   0    0   0    0  …     0     0     0     0     0     0\n",
       "   0    0   0    0   0    0   0    0        0     0     0     0     0     0\n",
       "   0    0   0    0   0    0   0    0        0     0     0     0     0     0\n",
       "   0    0   0    0   0    0   0    0        0     0     0     0     0     0\n",
       "   0    0   0    0   0    0   0    0        0     0     0     0     0     0"
      ]
     },
     "metadata": {},
     "output_type": "display_data"
    }
   ],
   "source": [
    "dist = zeros(size(agg.Simulation.Neighbor.idx_red)) |> cu\n",
    "threads=(100)\n",
    "\n",
    "@cuda(\n",
    "    threads=threads,\n",
    "    blocks=cld.(size(agg.Position,1),threads),\n",
    "    dist_kernel!(agg.Simulation.Neighbor.idx_red,agg.Simulation.Neighbor.idx_cont,agg.Simulation.Neighbor.idx_sum,dist,agg.Position,agg.Simulation.Parameter.Force.rₘₐₓ)\n",
    ")\n",
    "agg.Simulation.Neighbor.idx_red"
   ]
  },
  {
   "attachments": {},
   "cell_type": "markdown",
   "metadata": {},
   "source": [
    "# Model"
   ]
  },
  {
   "attachments": {},
   "cell_type": "markdown",
   "metadata": {},
   "source": [
    "# Force Example"
   ]
  },
  {
   "cell_type": "code",
   "execution_count": 103,
   "metadata": {},
   "outputs": [
    {
     "data": {
      "text/plain": [
       "5008×3 CuArray{Float32, 2, CUDA.Mem.DeviceBuffer}:\n",
       " -18.0662  -4.83639   -8.30337\n",
       " -11.1579  -5.76953   -9.46928\n",
       " -12.7862  -0.85681  -11.0101\n",
       " -18.6382  -2.35764   -9.38494\n",
       " -16.7061  -2.42484  -10.0792\n",
       " -14.5669  -3.58609   -9.3752\n",
       " -15.0927  -2.39186  -10.8222\n",
       " -12.5598  -3.34598  -10.8949\n",
       " -17.6868   2.29098   -8.72435\n",
       " -17.6192  -1.23717   -9.92766\n",
       "   ⋮                 \n",
       "  16.7491   2.22767    9.45561\n",
       "  10.1317   1.62661   11.0536\n",
       "  12.9108   4.27913   10.3208\n",
       "  13.7966   2.97607   10.246\n",
       "  15.0328   2.0779    10.0443\n",
       "  18.2589   2.85604    8.79165\n",
       "  12.9274   5.14689    8.94455\n",
       "  15.5993   3.30731    9.83328\n",
       "  19.038    4.16284    8.13507"
      ]
     },
     "metadata": {},
     "output_type": "display_data"
    },
    {
     "data": {
      "text/plain": [
       "5008×3 CuArray{Float32, 2, CUDA.Mem.DeviceBuffer}:\n",
       "  0.0308286   0.861817   -0.506281\n",
       " -0.085355   -0.460537   -0.883527\n",
       " -0.590373   -0.297623    0.750254\n",
       " -0.167171   -0.299569    0.939315\n",
       " -0.219026    0.396102    0.891701\n",
       " -0.49781    -0.277086    0.821832\n",
       " -0.956028   -0.28958     0.0464196\n",
       "  0.386054    0.619752   -0.683279\n",
       "  0.720216   -0.633592   -0.28258\n",
       " -0.515107   -0.501574    0.695045\n",
       "  ⋮                      \n",
       "  0.365416    0.428555    0.826324\n",
       " -0.500224   -0.348656   -0.7926\n",
       " -0.505673   -0.861433   -0.0472\n",
       "  0.0652442   0.981216   -0.181547\n",
       " -0.0973992   0.530405    0.842131\n",
       "  0.866483   -0.471052    0.165281\n",
       "  0.986343    0.0638961   0.151805\n",
       " -0.454432   -0.791056   -0.40954\n",
       " -0.76933     0.34173    -0.539771"
      ]
     },
     "metadata": {},
     "output_type": "display_data"
    },
    {
     "name": "stdout",
     "output_type": "stream",
     "text": [
      "  0.000207 seconds (52 CPU allocations: 3.609 KiB)\n"
     ]
    }
   ],
   "source": [
    "threads=(16,3)\n",
    "t_nₖₙₙ = 1\n",
    "CUDA.@time @cuda(\n",
    "    threads=threads,\n",
    "    blocks=(cld.(size(agg.Position,1)+1,threads[1]),1),\n",
    "    sum_force!(agg.Simulation.Neighbor.idx_red,agg.Simulation.Neighbor.idx_cont,agg.Simulation.Neighbor.idx_sum,agg.Position,agg.Simulation.Force.F,agg.Simulation.Parameter.Force,agg.Simulation.Parameter.Contractile.fₚ,model.Time.dt,t_nₖₙₙ,agg.Simulation.Force.Pol)\n",
    ")\n",
    "\n",
    "display(agg.Position)\n",
    "display(agg.Simulation.Force.Pol)"
   ]
  },
  {
   "cell_type": "code",
   "execution_count": 104,
   "metadata": {},
   "outputs": [
    {
     "data": {
      "text/plain": [
       "5008×3 Matrix{Float32}:\n",
       "  0.0308286   0.861817   -0.506281\n",
       " -0.085355   -0.460537   -0.883527\n",
       " -0.590373   -0.297623    0.750254\n",
       " -0.167171   -0.299569    0.939315\n",
       " -0.219026    0.396102    0.891701\n",
       " -0.49781    -0.277086    0.821832\n",
       " -0.956028   -0.28958     0.0464196\n",
       "  0.386054    0.619752   -0.683279\n",
       "  0.720216   -0.633592   -0.28258\n",
       " -0.515107   -0.501574    0.695045\n",
       "  ⋮                      \n",
       "  0.365416    0.428555    0.826324\n",
       " -0.500224   -0.348656   -0.7926\n",
       " -0.505673   -0.861433   -0.0472\n",
       "  0.0652442   0.981216   -0.181547\n",
       " -0.0973992   0.530405    0.842131\n",
       "  0.866483   -0.471052    0.165281\n",
       "  0.986343    0.0638961   0.151805\n",
       " -0.454432   -0.791056   -0.40954\n",
       " -0.76933     0.34173    -0.539771"
      ]
     },
     "metadata": {},
     "output_type": "display_data"
    }
   ],
   "source": [
    "cpu_pol = Matrix(agg.Simulation.Force.Pol)"
   ]
  },
  {
   "attachments": {},
   "cell_type": "markdown",
   "metadata": {},
   "source": [
    "## CUDA functions (Contractile)"
   ]
  },
  {
   "cell_type": "code",
   "execution_count": 101,
   "metadata": {},
   "outputs": [],
   "source": [
    "# rand_mat = zeros(model.Time.nₖₙₙ,size(agg.Position,1),2) |> cu\n",
    "\n",
    "# function multirand!(matrix)\n",
    "#     i  = (blockIdx().x-1) * blockDim().x + threadIdx().x\n",
    "#     j  = (blockIdx().y-1) * blockDim().y + threadIdx().y\n",
    "\n",
    "#     if i <= size(matrix,1) && j <= size(matrix,2)\n",
    "#         matrix[i,j,1] = 2*rand()-1\n",
    "#         matrix[i,j,2] = sqrt(1-matrix[i,j,1]^2)*(2*rand()-1)\n",
    "#         # matrix[i,j,1] = rand()\n",
    "#         # matrix[i,j,2] = rand()\n",
    "#     end\n",
    "\n",
    "#     return nothing\n",
    "# end\n",
    "\n",
    "# threads = (16,16)\n",
    "# CUDA.@time @cuda(\n",
    "#     threads = threads,\n",
    "#     blocks  = (cld(size(rand_mat,1)+1,threads[1]),cld(size(rand_mat,2)+1,threads[2])),\n",
    "#     multirand!(rand_mat)\n",
    "# )\n",
    "\n",
    "# rand_mat\n"
   ]
  },
  {
   "cell_type": "code",
   "execution_count": 102,
   "metadata": {},
   "outputs": [],
   "source": [
    "# function unary_vector(pol_mat)\n",
    "#     i  = (blockIdx().x-1) * blockDim().x + threadIdx().x\n",
    "\n",
    "#     if i <= size(pol_mat,1)\n",
    "\n",
    "#         phi = 2*pi*(2*rand() - 1)\n",
    "\n",
    "#         pol_mat[i,3] = 2*rand() - 1\n",
    "#         pol_mat[i,1] = sqrt(1-pol_mat[i,3]^2)*cos(phi)\n",
    "#         pol_mat[i,2] = sqrt(1-pol_mat[i,3]^2)*sin(phi)\n",
    "\n",
    "#     end\n",
    "#     return nothing\n",
    "# end\n",
    "\n",
    "# # Calculating Polarization Vectors\n",
    "# threads=(16)\n",
    "# CUDA.@time @cuda(\n",
    "#     threads=threads,\n",
    "#     blocks=cld.(size(agg.Simulation.Force.Pol,1),threads),\n",
    "#     unary_vector(agg.Simulation.Force.Pol)\n",
    "# )\n",
    "\n",
    "\n",
    "# pol_mat = Matrix(agg.Simulation.Force.Pol)\n",
    "# open(\"unit_vec.xyz\", \"w\") do f\n",
    "#     write(f, \"$(size(pol_mat,1))\\n\")\n",
    "#     write(f, \"t=0\\n\")\n",
    "#     writedlm(f,hcat(repeat([1], size(pol_mat,1)),pol_mat), ' ')\n",
    "# end"
   ]
  }
 ],
 "metadata": {
  "kernelspec": {
   "display_name": "Julia 1.6.7",
   "language": "julia",
   "name": "julia-1.6"
  },
  "language_info": {
   "file_extension": ".jl",
   "mimetype": "application/julia",
   "name": "julia",
   "version": "1.6.7"
  },
  "orig_nbformat": 4
 },
 "nbformat": 4,
 "nbformat_minor": 2
}
