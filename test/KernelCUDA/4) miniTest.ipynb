{
 "cells": [
  {
   "attachments": {},
   "cell_type": "markdown",
   "metadata": {},
   "source": [
    "# Dependences"
   ]
  },
  {
   "cell_type": "code",
   "execution_count": 25,
   "metadata": {},
   "outputs": [
    {
     "data": {
      "text/plain": [
       "save_data"
      ]
     },
     "execution_count": 25,
     "metadata": {},
     "output_type": "execute_result"
    }
   ],
   "source": [
    "include(\"../../src/struct_data.jl\")"
   ]
  },
  {
   "attachments": {},
   "cell_type": "markdown",
   "metadata": {},
   "source": [
    "# Model"
   ]
  },
  {
   "cell_type": "code",
   "execution_count": 26,
   "metadata": {},
   "outputs": [
    {
     "name": "stdout",
     "output_type": "stream",
     "text": [
      "  0.000002 seconds (4 allocations: 144 bytes)\n",
      "ModelSet\n",
      "  Time: TimeModel\n",
      "    tₛᵢₘ: Float64 100000.0\n",
      "    dt: Float64 0.5\n",
      "    nₖₙₙ: Int64 100\n",
      "    nₛₐᵥₑ: Int64 50\n",
      "  Input: InputModel\n",
      "    outer_ratio: Float64 0.8\n",
      "    path_input: String \"../../data/init/Sphere\"\n",
      "  Output: OutputModel\n",
      "    name_output: String \"Test_4_MiniTest\"\n",
      "    path_output: String \"\"\n"
     ]
    }
   ],
   "source": [
    "@time model = ModelSet(\n",
    "    TimeModel(\n",
    "        tₛᵢₘ  = 100000.0,\n",
    "        dt    = 0.5,\n",
    "        nₖₙₙ  = 100,\n",
    "        nₛₐᵥₑ = 50\n",
    "    ),\n",
    "    InputModel(\n",
    "        outer_ratio = 0.8,\n",
    "        path_input  = \"../../data/init/Sphere\"\n",
    "    ),\n",
    "    OutputModel(\n",
    "        name_output = \"Test_4_MiniTest\",\n",
    "        path_output = \"\"\n",
    "    ) \n",
    ")\n",
    "\n",
    "dump(model)"
   ]
  },
  {
   "cell_type": "code",
   "execution_count": 27,
   "metadata": {},
   "outputs": [
    {
     "data": {
      "text/plain": [
       "15"
      ]
     },
     "execution_count": 27,
     "metadata": {},
     "output_type": "execute_result"
    }
   ],
   "source": [
    "# Par1 ,Par2 = Cubic(0.01,2.0,3.0), ContractilePar(0.06)\n",
    "Par1 ,Par2 = Cubic(0.01,2.0,3.0), ContractilePar(0.12)\n",
    "agg_size = 15"
   ]
  },
  {
   "attachments": {},
   "cell_type": "markdown",
   "metadata": {},
   "source": [
    "# Aggregate"
   ]
  },
  {
   "cell_type": "code",
   "execution_count": 28,
   "metadata": {},
   "outputs": [
    {
     "data": {
      "text/plain": [
       "Aggregate(AggType[AggType(\"HEK_1\", InteractionPar(Cubic{Float64}(0.01, 2.0, 3.0), ContractilePar(0.12)), 15.27f0, Float32[-1.5 -4.62 -13.88; 0.5 -4.62 -13.88; … ; 0.5 4.62 13.88; 2.5 4.62 13.88], CuArray{Float32, 2, CUDA.Mem.DeviceBuffer})], AggIndex([1, 1, 1, 1, 1, 1, 1, 1, 1, 1  …  1, 1, 1, 1, 1, 1, 1, 1, 1, 1], [1, 1, 1, 1, 1, 1, 1, 1, 1, 1  …  1, 1, 1, 1, 1, 1, 1, 1, 1, 1], [\"HEK_1\", \"HEK_1\", \"HEK_1\", \"HEK_1\", \"HEK_1\", \"HEK_1\", \"HEK_1\", \"HEK_1\", \"HEK_1\", \"HEK_1\"  …  \"HEK_1\", \"HEK_1\", \"HEK_1\", \"HEK_1\", \"HEK_1\", \"HEK_1\", \"HEK_1\", \"HEK_1\", \"HEK_1\", \"HEK_1\"]), Float32[-1.5 -4.62 -13.88; 0.5 -4.62 -13.88; … ; 0.5 4.62 13.88; 2.5 4.62 13.88], AggGeometry(Float32[15.27, 15.27, 15.27, 15.27, 15.27, 15.27, 15.27, 15.27, 15.27, 15.27  …  15.27, 15.27, 15.27, 15.27, 15.27, 15.27, 15.27, 15.27, 15.27, 15.27], [1, 1, 1, 1, 1, 1, 1, 1, 1, 1  …  1, 1, 1, 1, 1, 1, 1, 1, 1, 1]), AggSimulation(AggParameter(Cubic{CuArray{Float32, 1, CUDA.Mem.DeviceBuffer}}(Float32[0.01, 0.01, 0.01, 0.01, 0.01, 0.01, 0.01, 0.01, 0.01, 0.01  …  0.01, 0.01, 0.01, 0.01, 0.01, 0.01, 0.01, 0.01, 0.01, 0.01], Float32[2.0, 2.0, 2.0, 2.0, 2.0, 2.0, 2.0, 2.0, 2.0, 2.0  …  2.0, 2.0, 2.0, 2.0, 2.0, 2.0, 2.0, 2.0, 2.0, 2.0], Float32[3.0, 3.0, 3.0, 3.0, 3.0, 3.0, 3.0, 3.0, 3.0, 3.0  …  3.0, 3.0, 3.0, 3.0, 3.0, 3.0, 3.0, 3.0, 3.0, 3.0]), ContractilePar(Float32[0.12, 0.12, 0.12, 0.12, 0.12, 0.12, 0.12, 0.12, 0.12, 0.12  …  0.12, 0.12, 0.12, 0.12, 0.12, 0.12, 0.12, 0.12, 0.12, 0.12]), Float32[15.27]), AggNeighbor(Int32[0 0 … 0 0; 0 0 … 0 0; … ; 0 0 … 0 0; 0 0 … 0 0], Float32[0.0 0.0 … 0.0 0.0; 0.0 0.0 … 0.0 0.0; … ; 0.0 0.0 … 0.0 0.0; 0.0 0.0 … 0.0 0.0], Int32[0 0 … 0 0], Int32[0 0 … 0 0; 0 0 … 0 0; … ; 0 0 … 0 0; 0 0 … 0 0]), AggForce(Float32[0.0 0.0 0.0; 0.0 0.0 0.0; … ; 0.0 0.0 0.0; 0.0 0.0 0.0], Float32[0.0 0.0 … 0.0 0.0], Float32[0.0 0.0 0.0; 0.0 0.0 0.0; … ; 0.0 0.0 0.0; 0.0 0.0 0.0], Float32[0.0 0.0 0.0; 0.0 0.0 0.0; … ; 0.0 0.0 0.0; 0.0 0.0 0.0])))"
      ]
     },
     "execution_count": 28,
     "metadata": {},
     "output_type": "execute_result"
    }
   ],
   "source": [
    "# Run only one aggregate\n",
    "agg = nothing\n",
    "agg = Aggregate(\n",
    "    [AggType(\n",
    "        \"HEK_1\", \n",
    "        InteractionPar(Par1, Par2),\n",
    "        Float32.(readdlm(\"../../data/init/Sphere/$(agg_size).0.xyz\")[3:end,2:end]) |> cu\n",
    "    )], \n",
    "    [AggLocation(\"HEK_1\",[0 0 0]),],\n",
    "    model\n",
    ")"
   ]
  },
  {
   "cell_type": "code",
   "execution_count": 29,
   "metadata": {},
   "outputs": [],
   "source": [
    "# # Run fusion of two aggregates\n",
    "# agg = nothing\n",
    "# agg = FusionAggregate(\n",
    "#     [AggType(\n",
    "#         \"HEK_1\", \n",
    "#         InteractionPar(Par1, Par2),\n",
    "#         Float32.(readdlm(\"../../data/init/Sphere/$(agg_size).0.xyz\")[3:end,2:end]) |> cu\n",
    "#     )], \n",
    "#     model\n",
    "# )"
   ]
  },
  {
   "attachments": {},
   "cell_type": "markdown",
   "metadata": {},
   "source": [
    "# kNN"
   ]
  },
  {
   "cell_type": "code",
   "execution_count": 30,
   "metadata": {},
   "outputs": [
    {
     "data": {
      "text/plain": [
       "1000×2504 CuArray{Int32, 2, CUDA.Mem.DeviceBuffer}:\n",
       " 36  37  38  41  42  43  44  45  57  …  2461  2462  2463  2468  2469  2470\n",
       "  6   7   8  49   1   2   3   3  58     2502  2503  2504  2498  2499  2500\n",
       "  5   6   7  50  50   1   2  53  15     2503  2504  2455  2499  2500  2501\n",
       " 42  43  44   5  51  51  52  54  10     2454  2455  2456  2461  2462  2463\n",
       " 43  44  45  10   6  52  53   7  49     2453  2454  2500  2460  2461  2462\n",
       "  2   3   2   9   4   7   8  14   4  …  2498  2499  2495  2503  2502  2503\n",
       " 35   1  37  40  11   5   6  13  66     2500  2501  2496  2469  2504  2471\n",
       " 37  36  39  42  10  12  13  44  50     2493  2494  2462  2467  2468  2469\n",
       " 51  38  53  58  41  11  12  46  48     2494  2495  2464  2453  2470  2455\n",
       "  0  52   0   0  43  42  43  62   0     2460  2461  2447     0  2454     0\n",
       "  0   0   0   0  59  44  45   0   0  …  2462  2463     0     0     0     0\n",
       "  0   0   0   0   0  60  61   0   0     2445  2446     0     0     0     0\n",
       "  0   0   0   0   0   0   0   0   0        0     0     0     0     0     0\n",
       "  ⋮                   ⋮              ⋱                 ⋮              \n",
       "  0   0   0   0   0   0   0   0   0        0     0     0     0     0     0\n",
       "  0   0   0   0   0   0   0   0   0        0     0     0     0     0     0\n",
       "  0   0   0   0   0   0   0   0   0  …     0     0     0     0     0     0\n",
       "  0   0   0   0   0   0   0   0   0        0     0     0     0     0     0\n",
       "  0   0   0   0   0   0   0   0   0        0     0     0     0     0     0\n",
       "  0   0   0   0   0   0   0   0   0        0     0     0     0     0     0\n",
       "  0   0   0   0   0   0   0   0   0        0     0     0     0     0     0\n",
       "  0   0   0   0   0   0   0   0   0  …     0     0     0     0     0     0\n",
       "  0   0   0   0   0   0   0   0   0        0     0     0     0     0     0\n",
       "  0   0   0   0   0   0   0   0   0        0     0     0     0     0     0\n",
       "  0   0   0   0   0   0   0   0   0        0     0     0     0     0     0\n",
       "  0   0   0   0   0   0   0   0   0        0     0     0     0     0     0"
      ]
     },
     "metadata": {},
     "output_type": "display_data"
    }
   ],
   "source": [
    "include(\"../../src/neighbor.jl\")\n",
    "\n",
    "dist = zeros(size(agg.Simulation.Neighbor.idx_red)) |> cu\n",
    "threads=(100)\n",
    "@cuda(\n",
    "    threads=threads,\n",
    "    blocks=cld.(size(agg.Position,1),threads),\n",
    "    dist_kernel!(\n",
    "        agg.Simulation.Neighbor.idx_red,\n",
    "        agg.Simulation.Neighbor.idx_cont,\n",
    "        agg.Simulation.Neighbor.idx_sum,\n",
    "        agg.Simulation.Neighbor.dist,\n",
    "        agg.Position,\n",
    "        agg.Simulation.Parameter.Force.rₘₐₓ\n",
    "    )\n",
    ")   \n",
    "\n",
    "display(agg.Simulation.Neighbor.idx_red)"
   ]
  },
  {
   "attachments": {},
   "cell_type": "markdown",
   "metadata": {},
   "source": [
    "# Sum Forces"
   ]
  },
  {
   "cell_type": "code",
   "execution_count": 31,
   "metadata": {},
   "outputs": [
    {
     "name": "stdout",
     "output_type": "stream",
     "text": [
      "  0.627085 seconds (355.81 k CPU allocations: 21.010 MiB)\n"
     ]
    },
    {
     "data": {
      "text/plain": [
       "2504×3 CuArray{Float32, 2, CUDA.Mem.DeviceBuffer}:\n",
       "  7.13207f-12  -1.49224f-5    0.000364654\n",
       "  7.13207f-12  -1.49224f-5    0.000364654\n",
       "  0.00465229   -0.110124      0.213565\n",
       " -4.6549f-12    0.000133741   0.000364654\n",
       "  0.0865809     0.0584852    -0.0587886\n",
       " -4.6549f-12    0.000164602   0.000364654\n",
       " -4.6549f-12    0.000164602   0.000364654\n",
       " -0.112405     -0.032632     -0.0258759\n",
       "  0.043444      0.111392     -0.00900595\n",
       "  7.43841f-12  -0.000158756   0.000364828\n",
       "  7.43841f-12  -0.000158756   0.000364828\n",
       " -0.0172607     0.0287521     0.115544\n",
       "  0.0675495    -0.0900011     0.0423819\n",
       "  ⋮                          \n",
       " -7.43841f-12   0.000158756  -0.000364828\n",
       " -7.43841f-12   0.000158756  -0.000364828\n",
       " -0.0333073    -0.110201      0.0329732\n",
       " -3.38513f-5    9.98547f-5   -0.000364828\n",
       " -0.0135012    -0.116776      0.024379\n",
       "  0.0983187     0.0446582     0.0518272\n",
       " -0.0952958    -0.0694891    -0.0230104\n",
       " -4.6549f-12   -0.000164602  -0.000364654\n",
       "  8.91939f-6   -0.000149172  -0.000364654\n",
       " -7.13207f-12   1.49224f-5   -0.000364654\n",
       "  7.13207f-12   1.49224f-5   -0.000364654\n",
       " -7.13207f-12   1.49224f-5   -0.000364654"
      ]
     },
     "metadata": {},
     "output_type": "display_data"
    }
   ],
   "source": [
    "include(\"../../src/forces/forces.jl\")\n",
    "\n",
    "threads=(64,3)\n",
    "CUDA.@time @cuda(\n",
    "    threads = threads,\n",
    "    blocks = cld.(size(agg.Position,),threads),\n",
    "    shmem=prod(threads.+2)*sizeof(Float32),\n",
    "    sum_force!(\n",
    "        agg.Position,\n",
    "        agg.Simulation.Force.F,\n",
    "        agg.Simulation.Force.Pol,\n",
    "        agg.Simulation.Force.N_i,\n",
    "        agg.Simulation.Neighbor.idx_sum,\n",
    "        agg.Simulation.Neighbor.idx_red,\n",
    "        agg.Simulation.Parameter.Force,\n",
    "        agg.Simulation.Parameter.Contractile.fₚ,\n",
    "        atan(1),\n",
    "        pi/4,\n",
    "        model.Time.dt\n",
    "    )\n",
    ")\n",
    "\n",
    "display(agg.Simulation.Force.F)"
   ]
  },
  {
   "attachments": {},
   "cell_type": "markdown",
   "metadata": {},
   "source": [
    "# MiniTest"
   ]
  },
  {
   "cell_type": "code",
   "execution_count": 32,
   "metadata": {},
   "outputs": [
    {
     "name": "stderr",
     "output_type": "stream",
     "text": [
      "\u001b[32mmini Testing... 100%|████████████████████████████████████| Time: 0:02:33\u001b[39m\n"
     ]
    },
    {
     "data": {
      "text/plain": [
       "1×3 CuArray{Int64, 2, CUDA.Mem.DeviceBuffer}:\n",
       " 0  0  0"
      ]
     },
     "metadata": {},
     "output_type": "display_data"
    },
    {
     "data": {
      "text/plain": [
       "1×3 CuArray{Int64, 2, CUDA.Mem.DeviceBuffer}:\n",
       " 0  0  0"
      ]
     },
     "metadata": {},
     "output_type": "display_data"
    },
    {
     "data": {
      "text/plain": [
       "2504×3 CuArray{Float32, 2, CUDA.Mem.DeviceBuffer}:\n",
       " -0.00346653    0.00271958   -0.013833\n",
       "  0.00270668   -0.00729975   -0.0157528\n",
       "  0.0013952     0.00358732   -0.015256\n",
       " -0.00468904   -0.00275245    0.0043112\n",
       "  0.13163      -0.0231641    -0.0181851\n",
       "  0.00320982   -0.0046614    -0.0188008\n",
       "  0.199927      0.0787721    -0.108054\n",
       " -0.113613      0.0413568    -0.0551883\n",
       " -0.0385023     0.222468      0.0796731\n",
       "  0.0389753     0.238055     -0.0236828\n",
       " -0.0926488     0.0313485    -0.0958241\n",
       "  0.00606135    0.0069624    -0.0182373\n",
       "  0.00480723   -0.00288136   -0.00792073\n",
       "  ⋮                          \n",
       "  0.0186607     0.113381      0.0309219\n",
       "  0.000769117   0.00146554    0.0168214\n",
       "  0.0160925     0.10671      -0.0384187\n",
       "  0.00502785   -0.0114827     0.015602\n",
       " -0.00513367    0.0195587    -0.00628613\n",
       "  0.0143612    -0.122117      0.204068\n",
       "  0.0109652     0.00971699    0.005865\n",
       "  0.00947759    0.000612633   0.00527012\n",
       " -0.00831498   -0.00340752   -8.93387f-5\n",
       "  0.00100021    0.00416696    0.0138451\n",
       " -0.12189       0.00935115    0.0132707\n",
       " -0.0032581    -0.00369006   -0.0014248"
      ]
     },
     "metadata": {},
     "output_type": "display_data"
    },
    {
     "data": {
      "text/plain": [
       "2504×3 CuArray{Float32, 2, CUDA.Mem.DeviceBuffer}:\n",
       " -3.45564    -0.708483  -12.6441\n",
       "  0.0730225  -3.71005   -12.6065\n",
       "  3.84169    -2.42657   -10.5967\n",
       " -4.78849    -3.31037   -11.5569\n",
       " -1.89446    -3.51073   -12.3627\n",
       " -0.786246   -2.36406   -12.8012\n",
       "  2.29218    -2.58017   -11.0566\n",
       "  2.87928    -4.04789   -11.1488\n",
       " -5.22653    -0.26303   -12.6813\n",
       " -2.5699     -2.00025   -12.7315\n",
       " -1.53895    -0.74907   -12.7743\n",
       "  0.394198   -1.23276   -12.6088\n",
       "  2.12538    -1.45987   -12.4202\n",
       "  ⋮                     \n",
       " -1.06103     0.838748   10.4714\n",
       "  0.260457    1.12434    11.2455\n",
       "  0.852867   -0.579585   11.1876\n",
       "  2.47756    -1.48317    11.0559\n",
       " -5.00681     0.897559    8.2358\n",
       " -2.1821      3.25115    10.3984\n",
       " -1.36927     2.04124     9.42553\n",
       "  1.54922     0.852859   10.2458\n",
       "  4.96015     3.1585      7.45184\n",
       " -3.97551     1.2735      9.55231\n",
       "  1.67707     2.21512    10.7978\n",
       " -0.12338     2.87608     8.57301"
      ]
     },
     "metadata": {},
     "output_type": "display_data"
    }
   ],
   "source": [
    "include(\"../../src/run_event.jl\")\n",
    "\n",
    "run_test(agg, model, \"mini Testing\")\n",
    "display(sum(isnan.(agg.Simulation.Force.F), dims=1))\n",
    "display(sum(agg.Simulation.Force.F .> 50, dims=1))\n",
    "display(agg.Simulation.Force.F)\n",
    "display(agg.Position)"
   ]
  }
 ],
 "metadata": {
  "kernelspec": {
   "display_name": "Julia 1.9.1",
   "language": "julia",
   "name": "julia-1.9"
  },
  "language_info": {
   "file_extension": ".jl",
   "mimetype": "application/julia",
   "name": "julia",
   "version": "1.9.1"
  },
  "orig_nbformat": 4
 },
 "nbformat": 4,
 "nbformat_minor": 2
}
