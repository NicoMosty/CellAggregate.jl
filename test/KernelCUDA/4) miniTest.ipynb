{
 "cells": [
  {
   "attachments": {},
   "cell_type": "markdown",
   "metadata": {},
   "source": [
    "# Dependences"
   ]
  },
  {
   "cell_type": "code",
   "execution_count": 1,
   "metadata": {},
   "outputs": [
    {
     "data": {
      "text/plain": [
       "save_data"
      ]
     },
     "metadata": {},
     "output_type": "display_data"
    }
   ],
   "source": [
    "include(\"../../src/struct_data.jl\")"
   ]
  },
  {
   "attachments": {},
   "cell_type": "markdown",
   "metadata": {},
   "source": [
    "# Model"
   ]
  },
  {
   "cell_type": "code",
   "execution_count": 2,
   "metadata": {},
   "outputs": [
    {
     "name": "stdout",
     "output_type": "stream",
     "text": [
      "  0.000003 seconds (5 allocations: 208 bytes)\n"
     ]
    },
    {
     "name": "stdout",
     "output_type": "stream",
     "text": [
      "ModelSet\n",
      "  Time: TimeModel\n",
      "    tₛᵢₘ: Float64 100000.0\n",
      "    dt: Float64 0.5\n",
      "    nₖₙₙ: Int64 100\n",
      "    nₛₐᵥₑ: Int64 50\n",
      "  Input: InputModel\n",
      "    outer_ratio: Float64 0.8\n",
      "    path_input: String \"../../data/init/Sphere\"\n",
      "  Output: OutputModel\n",
      "    name_output: String \"Test_4_MiniTest\"\n",
      "    path_output: String \"\"\n"
     ]
    }
   ],
   "source": [
    "@time model = ModelSet(\n",
    "    TimeModel(\n",
    "        tₛᵢₘ  = 100000.0,\n",
    "        dt    = 0.5,\n",
    "        nₖₙₙ  = 100,\n",
    "        nₛₐᵥₑ = 50\n",
    "    ),\n",
    "    InputModel(\n",
    "        outer_ratio = 0.8,\n",
    "        path_input  = \"../../data/init/Sphere\"\n",
    "    ),\n",
    "    OutputModel(\n",
    "        name_output = \"Test_4_MiniTest\",\n",
    "        path_output = \"\"\n",
    "    ) \n",
    ")\n",
    "\n",
    "dump(model)"
   ]
  },
  {
   "cell_type": "code",
   "execution_count": 3,
   "metadata": {},
   "outputs": [
    {
     "data": {
      "text/plain": [
       "15"
      ]
     },
     "metadata": {},
     "output_type": "display_data"
    }
   ],
   "source": [
    "# Par1 ,Par2 = Cubic(0.01,2.0,3.0), ContractilePar(0.06)\n",
    "Par1 ,Par2 = Cubic(0.01,2.0,3.0), ContractilePar(0.12)\n",
    "agg_size = 15"
   ]
  },
  {
   "attachments": {},
   "cell_type": "markdown",
   "metadata": {},
   "source": [
    "# Aggregate"
   ]
  },
  {
   "cell_type": "code",
   "execution_count": 4,
   "metadata": {},
   "outputs": [
    {
     "data": {
      "text/plain": [
       "Aggregate(AggType[AggType(\"HEK_1\", InteractionPar(Cubic{Float64}(0.01, 2.0, 3.0), ContractilePar(0.12)), 15.27f0, Float32[-1.5 -4.62 -13.88; 0.5 -4.62 -13.88; … ; 0.5 4.62 13.88; 2.5 4.62 13.88], CuArray{Float32, 2, CUDA.Mem.DeviceBuffer})], AggIndex([1, 1, 1, 1, 1, 1, 1, 1, 1, 1  …  1, 1, 1, 1, 1, 1, 1, 1, 1, 1], [1, 1, 1, 1, 1, 1, 1, 1, 1, 1  …  1, 1, 1, 1, 1, 1, 1, 1, 1, 1], [\"HEK_1\", \"HEK_1\", \"HEK_1\", \"HEK_1\", \"HEK_1\", \"HEK_1\", \"HEK_1\", \"HEK_1\", \"HEK_1\", \"HEK_1\"  …  \"HEK_1\", \"HEK_1\", \"HEK_1\", \"HEK_1\", \"HEK_1\", \"HEK_1\", \"HEK_1\", \"HEK_1\", \"HEK_1\", \"HEK_1\"]), Float32[-1.5 -4.62 -13.88; 0.5 -4.62 -13.88; … ; 0.5 4.62 13.88; 2.5 4.62 13.88], AggGeometry(Float32[15.27, 15.27, 15.27, 15.27, 15.27, 15.27, 15.27, 15.27, 15.27, 15.27  …  15.27, 15.27, 15.27, 15.27, 15.27, 15.27, 15.27, 15.27, 15.27, 15.27], [1, 1, 1, 1, 1, 1, 1, 1, 1, 1  …  1, 1, 1, 1, 1, 1, 1, 1, 1, 1]), AggSimulation(AggParameter(Cubic{CuArray{Float32, 1, CUDA.Mem.DeviceBuffer}}(Float32[0.01, 0.01, 0.01, 0.01, 0.01, 0.01, 0.01, 0.01, 0.01, 0.01  …  0.01, 0.01, 0.01, 0.01, 0.01, 0.01, 0.01, 0.01, 0.01, 0.01], Float32[2.0, 2.0, 2.0, 2.0, 2.0, 2.0, 2.0, 2.0, 2.0, 2.0  …  2.0, 2.0, 2.0, 2.0, 2.0, 2.0, 2.0, 2.0, 2.0, 2.0], Float32[3.0, 3.0, 3.0, 3.0, 3.0, 3.0, 3.0, 3.0, 3.0, 3.0  …  3.0, 3.0, 3.0, 3.0, 3.0, 3.0, 3.0, 3.0, 3.0, 3.0]), ContractilePar(Float32[0.12, 0.12, 0.12, 0.12, 0.12, 0.12, 0.12, 0.12, 0.12, 0.12  …  0.12, 0.12, 0.12, 0.12, 0.12, 0.12, 0.12, 0.12, 0.12, 0.12]), Float32[15.27]), AggNeighbor(Int32[0 0 … 0 0; 0 0 … 0 0; … ; 0 0 … 0 0; 0 0 … 0 0], Float32[0.0 0.0 … 0.0 0.0; 0.0 0.0 … 0.0 0.0; … ; 0.0 0.0 … 0.0 0.0; 0.0 0.0 … 0.0 0.0], Int32[0 0 … 0 0], Int32[0 0 … 0 0; 0 0 … 0 0; … ; 0 0 … 0 0; 0 0 … 0 0]), AggForce(Float32[0.0 0.0 0.0; 0.0 0.0 0.0; … ; 0.0 0.0 0.0; 0.0 0.0 0.0], Float32[0.0 0.0 … 0.0 0.0], Float32[0.0 0.0 0.0; 0.0 0.0 0.0; … ; 0.0 0.0 0.0; 0.0 0.0 0.0], Float32[0.0 0.0 0.0; 0.0 0.0 0.0; … ; 0.0 0.0 0.0; 0.0 0.0 0.0])))"
      ]
     },
     "metadata": {},
     "output_type": "display_data"
    }
   ],
   "source": [
    "# Run only one aggregate\n",
    "agg = nothing\n",
    "agg = Aggregate(\n",
    "    [AggType(\n",
    "        \"HEK_1\", \n",
    "        InteractionPar(Par1, Par2),\n",
    "        Float32.(readdlm(\"../../data/init/Sphere/$(agg_size).0.xyz\")[3:end,2:end]) |> cu\n",
    "    )], \n",
    "    [AggLocation(\"HEK_1\",[0 0 0]),],\n",
    "    model\n",
    ")"
   ]
  },
  {
   "cell_type": "code",
   "execution_count": 5,
   "metadata": {},
   "outputs": [],
   "source": [
    "# # Run fusion of two aggregates\n",
    "# agg = nothing\n",
    "# agg = FusionAggregate(\n",
    "#     [AggType(\n",
    "#         \"HEK_1\", \n",
    "#         InteractionPar(Par1, Par2),\n",
    "#         Float32.(readdlm(\"../../data/init/Sphere/$(agg_size).0.xyz\")[3:end,2:end]) |> cu\n",
    "#     )], \n",
    "#     model\n",
    "# )"
   ]
  },
  {
   "attachments": {},
   "cell_type": "markdown",
   "metadata": {},
   "source": [
    "# kNN"
   ]
  },
  {
   "cell_type": "code",
   "execution_count": 6,
   "metadata": {},
   "outputs": [
    {
     "data": {
      "text/plain": [
       "1000×2504 CuArray{Int32, 2, CUDA.Mem.DeviceBuffer}:\n",
       " 36  37  38  41  42  43  44  45  57  …  2461  2462  2463  2468  2469  2470\n",
       "  6   7   8  49   1   2   3   3  58     2502  2503  2504  2498  2499  2500\n",
       "  5   6   7  50  50   1   2  53  15     2503  2504  2455  2499  2500  2501\n",
       " 42  43  44   5  51  51  52  54  10     2454  2455  2456  2461  2462  2463\n",
       " 43  44  45  10   6  52  53   7  49     2453  2454  2500  2460  2461  2462\n",
       "  2   3   2   9   4   7   8  14   4  …  2498  2499  2495  2503  2502  2503\n",
       " 35   1  37  40  11   5   6  13  66     2500  2501  2496  2469  2504  2471\n",
       " 37  36  39  42  10  12  13  44  50     2493  2494  2462  2467  2468  2469\n",
       " 51  38  53  58  41  11  12  46  48     2494  2495  2464  2453  2470  2455\n",
       "  0  52   0   0  43  42  43  62   0     2460  2461  2447     0  2454     0\n",
       "  ⋮                   ⋮              ⋱                 ⋮              \n",
       "  0   0   0   0   0   0   0   0   0        0     0     0     0     0     0\n",
       "  0   0   0   0   0   0   0   0   0        0     0     0     0     0     0\n",
       "  0   0   0   0   0   0   0   0   0        0     0     0     0     0     0\n",
       "  0   0   0   0   0   0   0   0   0        0     0     0     0     0     0\n",
       "  0   0   0   0   0   0   0   0   0  …     0     0     0     0     0     0\n",
       "  0   0   0   0   0   0   0   0   0        0     0     0     0     0     0\n",
       "  0   0   0   0   0   0   0   0   0        0     0     0     0     0     0\n",
       "  0   0   0   0   0   0   0   0   0        0     0     0     0     0     0\n",
       "  0   0   0   0   0   0   0   0   0        0     0     0     0     0     0"
      ]
     },
     "metadata": {},
     "output_type": "display_data"
    }
   ],
   "source": [
    "include(\"../../src/neighbor.jl\")\n",
    "threads=(100)\n",
    "@cuda(\n",
    "    threads=threads,\n",
    "    blocks=cld.(size(agg.Position,1),threads),\n",
    "    dist_kernel!(\n",
    "        agg.Simulation.Neighbor.idx_red,\n",
    "        agg.Simulation.Neighbor.idx_cont,\n",
    "        agg.Simulation.Neighbor.idx_sum,\n",
    "        agg.Simulation.Neighbor.dist,\n",
    "        agg.Position,\n",
    "        agg.Simulation.Parameter.Force.rₘₐₓ\n",
    "    )\n",
    ")   \n",
    "\n",
    "display(agg.Simulation.Neighbor.idx_red)"
   ]
  },
  {
   "attachments": {},
   "cell_type": "markdown",
   "metadata": {},
   "source": [
    "# Sum Forces"
   ]
  },
  {
   "cell_type": "code",
   "execution_count": 7,
   "metadata": {},
   "outputs": [
    {
     "name": "stdout",
     "output_type": "stream",
     "text": [
      "  0.712121 seconds (1.10 M CPU allocations: "
     ]
    },
    {
     "data": {
      "text/plain": [
       "2504×3 CuArray{Float32, 2, CUDA.Mem.DeviceBuffer}:\n",
       "  7.13207f-12  -1.49224f-5    0.000364654\n",
       "  0.0888629     0.0638758    -0.0488428\n",
       "  7.13207f-12  -1.49224f-5    0.000364654\n",
       "  0.0511999     0.0691472     0.0841245\n",
       " -8.91938f-6    0.000149172   0.000364654\n",
       "  0.0190545     0.105342     -0.0541754\n",
       " -4.6549f-12    0.000164602   0.000364654\n",
       "  0.00568408    0.0897711    -0.0792325\n",
       " -0.0469086    -0.210187      0.106451\n",
       "  7.43841f-12  -0.000158756   0.000364828\n",
       "  ⋮                          \n",
       " -3.38513f-5    9.98547f-5   -0.000364828\n",
       " -0.0658291     0.0586792    -0.0816516\n",
       " -8.91939f-6   -0.000149172  -0.000364654\n",
       "  0.108221      0.0494119     0.0148142\n",
       " -4.6549f-12   -0.000164602  -0.000364654\n",
       " -0.226155      0.0712024     0.0364979\n",
       "  0.105627      0.0556566     0.0117545\n",
       "  7.13207f-12   1.49224f-5   -0.000364654\n",
       " -7.13207f-12   1.49224f-5   -0.000364654"
      ]
     },
     "metadata": {},
     "output_type": "display_data"
    },
    {
     "name": "stdout",
     "output_type": "stream",
     "text": [
      "71.889 MiB, 3.02% gc time)\n"
     ]
    }
   ],
   "source": [
    "include(\"../../src/forces/forces.jl\")\n",
    "\n",
    "threads=(64,3)\n",
    "CUDA.@time @cuda(\n",
    "    threads = threads,\n",
    "    blocks = cld.(size(agg.Position,),threads),\n",
    "    sum_force!(\n",
    "        agg.Position,\n",
    "        agg.Simulation.Force.F,\n",
    "        agg.Simulation.Force.Pol,\n",
    "        agg.Simulation.Force.N_i,\n",
    "        agg.Simulation.Neighbor.idx_sum,\n",
    "        agg.Simulation.Neighbor.idx_red,\n",
    "        agg.Simulation.Parameter.Force,\n",
    "        agg.Simulation.Parameter.Contractile.fₚ,\n",
    "        atan(1),\n",
    "        pi/4,\n",
    "        model.Time.dt\n",
    "    )\n",
    ")\n",
    "\n",
    "display(agg.Simulation.Force.F)"
   ]
  },
  {
   "attachments": {},
   "cell_type": "markdown",
   "metadata": {},
   "source": [
    "# MiniTest"
   ]
  },
  {
   "cell_type": "code",
   "execution_count": 8,
   "metadata": {},
   "outputs": [
    {
     "name": "stderr",
     "output_type": "stream",
     "text": [
      "\r\u001b[32mmini Testing...   1%|▎                                   |  ETA: 0:00:14\u001b[39m\u001b[K"
     ]
    },
    {
     "name": "stderr",
     "output_type": "stream",
     "text": [
      "\r\u001b[32mmini Testing...   6%|██▏                                 |  ETA: 0:00:21\u001b[39m\u001b[K"
     ]
    },
    {
     "name": "stderr",
     "output_type": "stream",
     "text": [
      "\r\u001b[32mmini Testing...   7%|██▍                                 |  ETA: 0:00:20\u001b[39m\u001b[K"
     ]
    },
    {
     "name": "stderr",
     "output_type": "stream",
     "text": [
      "\r\u001b[32mmini Testing...   7%|██▌                                 |  ETA: 0:00:21\u001b[39m\u001b[K"
     ]
    },
    {
     "name": "stderr",
     "output_type": "stream",
     "text": [
      "\r\u001b[32mmini Testing...  10%|███▌                                |  ETA: 0:00:19\u001b[39m\u001b[K"
     ]
    },
    {
     "name": "stderr",
     "output_type": "stream",
     "text": [
      "\r\u001b[32mmini Testing...  10%|███▊                                |  ETA: 0:00:20\u001b[39m\u001b[K"
     ]
    },
    {
     "name": "stderr",
     "output_type": "stream",
     "text": [
      "\r\u001b[32mmini Testing...  13%|████▊                               |  ETA: 0:00:19\u001b[39m\u001b[K"
     ]
    },
    {
     "name": "stderr",
     "output_type": "stream",
     "text": [
      "\r\u001b[32mmini Testing...  15%|█████▎                              |  ETA: 0:00:18\u001b[39m\u001b[K"
     ]
    },
    {
     "name": "stderr",
     "output_type": "stream",
     "text": [
      "\r\u001b[32mmini Testing...  15%|█████▌                              |  ETA: 0:00:18\u001b[39m\u001b[K"
     ]
    },
    {
     "name": "stderr",
     "output_type": "stream",
     "text": [
      "\r\u001b[32mmini Testing...  17%|██████                              |  ETA: 0:00:17\u001b[39m\u001b[K"
     ]
    },
    {
     "name": "stderr",
     "output_type": "stream",
     "text": [
      "\r\u001b[32mmini Testing...  17%|██████▎                             |  ETA: 0:00:18\u001b[39m\u001b[K"
     ]
    },
    {
     "name": "stderr",
     "output_type": "stream",
     "text": [
      "\r\u001b[32mmini Testing...  18%|██████▋                             |  ETA: 0:00:17\u001b[39m\u001b[K"
     ]
    },
    {
     "name": "stderr",
     "output_type": "stream",
     "text": [
      "\r\u001b[32mmini Testing...  20%|███████                             |  ETA: 0:00:17\u001b[39m\u001b[K"
     ]
    },
    {
     "name": "stderr",
     "output_type": "stream",
     "text": [
      "\r\u001b[32mmini Testing...  20%|███████▎                            |  ETA: 0:00:17\u001b[39m\u001b[K"
     ]
    },
    {
     "name": "stderr",
     "output_type": "stream",
     "text": [
      "\r\u001b[32mmini Testing...  23%|████████▍                           |  ETA: 0:00:16\u001b[39m\u001b[K"
     ]
    },
    {
     "name": "stderr",
     "output_type": "stream",
     "text": [
      "\r\u001b[32mmini Testing...  24%|████████▋                           |  ETA: 0:00:16\u001b[39m\u001b[K"
     ]
    },
    {
     "name": "stderr",
     "output_type": "stream",
     "text": [
      "\r\u001b[32mmini Testing...  28%|██████████                          |  ETA: 0:00:15\u001b[39m\u001b[K"
     ]
    },
    {
     "name": "stderr",
     "output_type": "stream",
     "text": [
      "\r\u001b[32mmini Testing...  28%|██████████▏                         |  ETA: 0:00:15\u001b[39m\u001b[K"
     ]
    },
    {
     "name": "stderr",
     "output_type": "stream",
     "text": [
      "\r\u001b[32mmini Testing...  30%|██████████▊                         |  ETA: 0:00:15\u001b[39m\u001b[K"
     ]
    },
    {
     "name": "stderr",
     "output_type": "stream",
     "text": [
      "\r\u001b[32mmini Testing...  34%|████████████▍                       |  ETA: 0:00:14\u001b[39m\u001b[K"
     ]
    },
    {
     "name": "stderr",
     "output_type": "stream",
     "text": [
      "\r\u001b[32mmini Testing...  35%|████████████▋                       |  ETA: 0:00:14\u001b[39m\u001b[K"
     ]
    },
    {
     "name": "stderr",
     "output_type": "stream",
     "text": [
      "\r\u001b[32mmini Testing...  38%|█████████████▋                      |  ETA: 0:00:13\u001b[39m\u001b[K"
     ]
    },
    {
     "name": "stderr",
     "output_type": "stream",
     "text": [
      "\r\u001b[32mmini Testing...  39%|█████████████▉                      |  ETA: 0:00:13\u001b[39m\u001b[K"
     ]
    },
    {
     "name": "stderr",
     "output_type": "stream",
     "text": [
      "\r\u001b[32mmini Testing...  39%|██████████████                      |  ETA: 0:00:13\u001b[39m\u001b[K"
     ]
    },
    {
     "name": "stderr",
     "output_type": "stream",
     "text": [
      "\r\u001b[32mmini Testing...  42%|███████████████                     |  ETA: 0:00:12\u001b[39m\u001b[K"
     ]
    },
    {
     "name": "stderr",
     "output_type": "stream",
     "text": [
      "\r\u001b[32mmini Testing...  42%|███████████████▎                    |  ETA: 0:00:12\u001b[39m\u001b[K"
     ]
    },
    {
     "name": "stderr",
     "output_type": "stream",
     "text": [
      "\r\u001b[32mmini Testing...  45%|████████████████▍                   |  ETA: 0:00:11\u001b[39m\u001b[K"
     ]
    },
    {
     "name": "stderr",
     "output_type": "stream",
     "text": [
      "\r\u001b[32mmini Testing...  46%|████████████████▋                   |  ETA: 0:00:11\u001b[39m\u001b[K"
     ]
    },
    {
     "name": "stderr",
     "output_type": "stream",
     "text": [
      "\r\u001b[32mmini Testing...  49%|█████████████████▋                  |  ETA: 0:00:11\u001b[39m\u001b[K"
     ]
    },
    {
     "name": "stderr",
     "output_type": "stream",
     "text": [
      "\r\u001b[32mmini Testing...  50%|█████████████████▉                  |  ETA: 0:00:10\u001b[39m\u001b[K"
     ]
    },
    {
     "name": "stderr",
     "output_type": "stream",
     "text": [
      "\r\u001b[32mmini Testing...  50%|██████████████████                  |  ETA: 0:00:10\u001b[39m\u001b[K"
     ]
    },
    {
     "name": "stderr",
     "output_type": "stream",
     "text": [
      "\r\u001b[32mmini Testing...  53%|██████████████████▉                 |  ETA: 0:00:10\u001b[39m\u001b[K"
     ]
    },
    {
     "name": "stderr",
     "output_type": "stream",
     "text": [
      "\r\u001b[32mmini Testing...  53%|███████████████████▏                |  ETA: 0:00:10\u001b[39m\u001b[K"
     ]
    },
    {
     "name": "stderr",
     "output_type": "stream",
     "text": [
      "\r\u001b[32mmini Testing...  56%|████████████████████▎               |  ETA: 0:00:09\u001b[39m\u001b[K"
     ]
    },
    {
     "name": "stderr",
     "output_type": "stream",
     "text": [
      "\r\u001b[32mmini Testing...  59%|█████████████████████▎              |  ETA: 0:00:08\u001b[39m\u001b[K"
     ]
    },
    {
     "name": "stderr",
     "output_type": "stream",
     "text": [
      "\r\u001b[32mmini Testing...  61%|██████████████████████              |  ETA: 0:00:08\u001b[39m\u001b[K"
     ]
    },
    {
     "name": "stderr",
     "output_type": "stream",
     "text": [
      "\r\u001b[32mmini Testing...  65%|███████████████████████▍            |  ETA: 0:00:07\u001b[39m\u001b[K"
     ]
    },
    {
     "name": "stderr",
     "output_type": "stream",
     "text": [
      "\r\u001b[32mmini Testing...  70%|█████████████████████████▏          |  ETA: 0:00:06\u001b[39m\u001b[K"
     ]
    },
    {
     "name": "stderr",
     "output_type": "stream",
     "text": [
      "\r\u001b[32mmini Testing...  70%|█████████████████████████▍          |  ETA: 0:00:06\u001b[39m\u001b[K"
     ]
    },
    {
     "name": "stderr",
     "output_type": "stream",
     "text": [
      "\r\u001b[32mmini Testing...  71%|█████████████████████████▋          |  ETA: 0:00:06\u001b[39m\u001b[K"
     ]
    },
    {
     "name": "stderr",
     "output_type": "stream",
     "text": [
      "\r\u001b[32mmini Testing...  74%|██████████████████████████▊         |  ETA: 0:00:05\u001b[39m\u001b[K"
     ]
    },
    {
     "name": "stderr",
     "output_type": "stream",
     "text": [
      "\r\u001b[32mmini Testing...  75%|███████████████████████████         |  ETA: 0:00:05\u001b[39m\u001b[K"
     ]
    },
    {
     "name": "stderr",
     "output_type": "stream",
     "text": [
      "\r\u001b[32mmini Testing...  78%|████████████████████████████▏       |  ETA: 0:00:05\u001b[39m\u001b[K"
     ]
    },
    {
     "name": "stderr",
     "output_type": "stream",
     "text": [
      "\r\u001b[32mmini Testing...  83%|█████████████████████████████▉      |  ETA: 0:00:04\u001b[39m\u001b[K"
     ]
    },
    {
     "name": "stderr",
     "output_type": "stream",
     "text": [
      "\r\u001b[32mmini Testing...  84%|██████████████████████████████▏     |  ETA: 0:00:03\u001b[39m\u001b[K"
     ]
    },
    {
     "name": "stderr",
     "output_type": "stream",
     "text": [
      "\r\u001b[32mmini Testing...  84%|██████████████████████████████▎     |  ETA: 0:00:03\u001b[39m\u001b[K"
     ]
    },
    {
     "name": "stderr",
     "output_type": "stream",
     "text": [
      "\r\u001b[32mmini Testing...  87%|███████████████████████████████▎    |  ETA: 0:00:03\u001b[39m\u001b[K"
     ]
    },
    {
     "name": "stderr",
     "output_type": "stream",
     "text": [
      "\r\u001b[32mmini Testing...  87%|███████████████████████████████▌    |  ETA: 0:00:03\u001b[39m\u001b[K"
     ]
    },
    {
     "name": "stderr",
     "output_type": "stream",
     "text": [
      "\r\u001b[32mmini Testing...  88%|███████████████████████████████▊    |  ETA: 0:00:02\u001b[39m\u001b[K"
     ]
    },
    {
     "name": "stderr",
     "output_type": "stream",
     "text": [
      "\r\u001b[32mmini Testing...  90%|████████████████████████████████▎   |  ETA: 0:00:02\u001b[39m\u001b[K"
     ]
    },
    {
     "name": "stderr",
     "output_type": "stream",
     "text": [
      "\r\u001b[32mmini Testing...  90%|████████████████████████████████▌   |  ETA: 0:00:02\u001b[39m\u001b[K"
     ]
    },
    {
     "name": "stderr",
     "output_type": "stream",
     "text": [
      "\r\u001b[32mmini Testing...  93%|█████████████████████████████████▋  |  ETA: 0:00:01\u001b[39m\u001b[K"
     ]
    },
    {
     "name": "stderr",
     "output_type": "stream",
     "text": [
      "\r\u001b[32mmini Testing...  94%|█████████████████████████████████▉  |  ETA: 0:00:01\u001b[39m\u001b[K"
     ]
    },
    {
     "name": "stderr",
     "output_type": "stream",
     "text": [
      "\r\u001b[32mmini Testing...  95%|██████████████████████████████████▍ |  ETA: 0:00:01\u001b[39m\u001b[K"
     ]
    },
    {
     "name": "stderr",
     "output_type": "stream",
     "text": [
      "\r\u001b[32mmini Testing...  96%|██████████████████████████████████▋ |  ETA: 0:00:01\u001b[39m\u001b[K"
     ]
    },
    {
     "name": "stderr",
     "output_type": "stream",
     "text": [
      "\r\u001b[32mmini Testing...  99%|███████████████████████████████████▋|  ETA: 0:00:00\u001b[39m\u001b[K"
     ]
    },
    {
     "name": "stderr",
     "output_type": "stream",
     "text": [
      "\r\u001b[32mmini Testing... 100%|████████████████████████████████████| Time: 0:00:20\u001b[39m\u001b[K\n"
     ]
    },
    {
     "data": {
      "text/plain": [
       "1×3 CuArray{Int64, 2, CUDA.Mem.DeviceBuffer}:\n",
       " 0  0  0"
      ]
     },
     "metadata": {},
     "output_type": "display_data"
    },
    {
     "data": {
      "text/plain": [
       "1×3 CuArray{Int64, 2, CUDA.Mem.DeviceBuffer}:\n",
       " 0  0  0"
      ]
     },
     "metadata": {},
     "output_type": "display_data"
    },
    {
     "data": {
      "text/plain": [
       "2504×3 CuArray{Float32, 2, CUDA.Mem.DeviceBuffer}:\n",
       "  0.00450541   -0.00779202   -0.0128236\n",
       " -0.00244016   -0.00868553   -0.00349094\n",
       "  0.0768874    -0.0992956     0.0265485\n",
       "  0.022103     -0.0076704    -0.234569\n",
       " -0.0724413    -0.0734495    -0.0596485\n",
       "  0.00529977    0.0124755     0.00240333\n",
       "  0.00711772   -0.00318719   -0.00973332\n",
       " -0.169402     -0.184681      0.0126662\n",
       " -0.000828427  -0.00724518    0.00523606\n",
       " -0.00454155    0.00736318    0.00641771\n",
       "  ⋮                          \n",
       " -0.00268407    0.00989513    0.010222\n",
       " -0.00176133    0.00595436    0.0151148\n",
       "  0.00787016    0.00547755    0.112678\n",
       "  0.00344317   -0.000568822   0.00438036\n",
       "  0.00623379   -0.00773627    0.0103905\n",
       "  0.00495708   -0.0110539     0.00692341\n",
       "  0.00807525   -0.00018339    0.0159176\n",
       "  0.00531789   -0.00522861   -0.0986903\n",
       "  0.0416438    -0.0271247    -0.0979624"
      ]
     },
     "metadata": {},
     "output_type": "display_data"
    },
    {
     "data": {
      "text/plain": [
       "2504×3 CuArray{Float32, 2, CUDA.Mem.DeviceBuffer}:\n",
       " -5.42885   -3.95298   -10.8245\n",
       " -2.06694   -6.75211   -10.0897\n",
       "  1.13329   -3.13068   -11.6737\n",
       " -6.48616    2.64711    -8.70461\n",
       " -1.46616    1.57822   -12.8991\n",
       " -1.09535   -4.26488    -9.00377\n",
       " -0.04057   -1.94904   -11.3558\n",
       " -1.43784   -2.5504    -11.6221\n",
       " -2.46889    2.1472    -11.346\n",
       " -5.37039   -1.011     -10.2992\n",
       "  ⋮                    \n",
       "  5.35978    0.320962   11.0407\n",
       " -6.68367    4.16824     8.96516\n",
       " -1.87149    1.33888    10.3181\n",
       "  1.87407    3.01515    11.4886\n",
       "  6.4533     4.12187     8.35027\n",
       "  6.20955    3.2993      9.65895\n",
       " -0.984512   3.47173    10.8704\n",
       "  0.462783   4.27907    11.1077\n",
       "  2.27953    4.70238    11.1735"
      ]
     },
     "metadata": {},
     "output_type": "display_data"
    }
   ],
   "source": [
    "include(\"../../src/run_event.jl\")\n",
    "\n",
    "run_test(agg, model, \"mini Testing\")\n",
    "display(sum(isnan.(agg.Simulation.Force.F), dims=1))\n",
    "display(sum(agg.Simulation.Force.F .> 50, dims=1))\n",
    "display(agg.Simulation.Force.F)\n",
    "display(agg.Position)"
   ]
  }
 ],
 "metadata": {
  "kernelspec": {
   "display_name": "Julia 1.9.1",
   "language": "julia",
   "name": "julia-1.9"
  },
  "language_info": {
   "file_extension": ".jl",
   "mimetype": "application/julia",
   "name": "julia",
   "version": "1.9.1"
  },
  "orig_nbformat": 4
 },
 "nbformat": 4,
 "nbformat_minor": 2
}
