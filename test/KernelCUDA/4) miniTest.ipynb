{
 "cells": [
  {
   "attachments": {},
   "cell_type": "markdown",
   "metadata": {},
   "source": [
    "# Dependences"
   ]
  },
  {
   "cell_type": "code",
   "execution_count": 21,
   "metadata": {},
   "outputs": [
    {
     "data": {
      "text/plain": [
       "save_data"
      ]
     },
     "execution_count": 21,
     "metadata": {},
     "output_type": "execute_result"
    }
   ],
   "source": [
    "include(\"../../src/struct_data.jl\")"
   ]
  },
  {
   "attachments": {},
   "cell_type": "markdown",
   "metadata": {},
   "source": [
    "# Model"
   ]
  },
  {
   "cell_type": "code",
   "execution_count": 22,
   "metadata": {},
   "outputs": [
    {
     "name": "stdout",
     "output_type": "stream",
     "text": [
      "  0.000003 seconds (4 allocations: 144 bytes)\n",
      "ModelSet\n",
      "  Time: TimeModel\n",
      "    tₛᵢₘ: Float64 100000.0\n",
      "    dt: Float64 0.5\n",
      "    nₖₙₙ: Int64 100\n",
      "    nₛₐᵥₑ: Int64 50\n",
      "  Input: InputModel\n",
      "    outer_ratio: Float64 0.8\n",
      "    path_input: String \"../../data/init/Sphere\"\n",
      "  Output: OutputModel\n",
      "    name_output: String \"Test_4_MiniTest\"\n",
      "    path_output: String \"\"\n"
     ]
    }
   ],
   "source": [
    "@time model = ModelSet(\n",
    "    TimeModel(\n",
    "        tₛᵢₘ  = 100000.0,\n",
    "        dt    = 0.5,\n",
    "        nₖₙₙ  = 100,\n",
    "        nₛₐᵥₑ = 50\n",
    "    ),\n",
    "    InputModel(\n",
    "        outer_ratio = 0.8,\n",
    "        path_input  = \"../../data/init/Sphere\"\n",
    "    ),\n",
    "    OutputModel(\n",
    "        name_output = \"Test_4_MiniTest\",\n",
    "        path_output = \"\"\n",
    "    ) \n",
    ")\n",
    "\n",
    "dump(model)"
   ]
  },
  {
   "cell_type": "code",
   "execution_count": 23,
   "metadata": {},
   "outputs": [
    {
     "data": {
      "text/plain": [
       "15"
      ]
     },
     "execution_count": 23,
     "metadata": {},
     "output_type": "execute_result"
    }
   ],
   "source": [
    "# Par1 ,Par2 = Cubic(0.01,2.0,3.0), ContractilePar(0.06)\n",
    "Par1 ,Par2 = Cubic(0.01,2.0,3.0), ContractilePar(0.06)\n",
    "agg_size = 15"
   ]
  },
  {
   "attachments": {},
   "cell_type": "markdown",
   "metadata": {},
   "source": [
    "# Aggregate"
   ]
  },
  {
   "cell_type": "code",
   "execution_count": 24,
   "metadata": {},
   "outputs": [
    {
     "data": {
      "text/plain": [
       "Aggregate(AggType[AggType(\"HEK_1\", InteractionPar(Cubic{Float64}(0.01, 2.0, 3.0), ContractilePar(0.06)), 15.27f0, Float32[-1.5 -4.62 -13.88; 0.5 -4.62 -13.88; … ; 0.5 4.62 13.88; 2.5 4.62 13.88], CuArray{Float32, 2, CUDA.Mem.DeviceBuffer})], AggIndex([1, 1, 1, 1, 1, 1, 1, 1, 1, 1  …  1, 1, 1, 1, 1, 1, 1, 1, 1, 1], [1, 1, 1, 1, 1, 1, 1, 1, 1, 1  …  1, 1, 1, 1, 1, 1, 1, 1, 1, 1], [\"HEK_1\", \"HEK_1\", \"HEK_1\", \"HEK_1\", \"HEK_1\", \"HEK_1\", \"HEK_1\", \"HEK_1\", \"HEK_1\", \"HEK_1\"  …  \"HEK_1\", \"HEK_1\", \"HEK_1\", \"HEK_1\", \"HEK_1\", \"HEK_1\", \"HEK_1\", \"HEK_1\", \"HEK_1\", \"HEK_1\"]), Float32[-1.5 -4.62 -13.88; 0.5 -4.62 -13.88; … ; 0.5 4.62 13.88; 2.5 4.62 13.88], AggGeometry(Float32[15.27, 15.27, 15.27, 15.27, 15.27, 15.27, 15.27, 15.27, 15.27, 15.27  …  15.27, 15.27, 15.27, 15.27, 15.27, 15.27, 15.27, 15.27, 15.27, 15.27], [1, 1, 1, 1, 1, 1, 1, 1, 1, 1  …  1, 1, 1, 1, 1, 1, 1, 1, 1, 1]), AggSimulation(AggParameter(Cubic{CuArray{Float32, 1, CUDA.Mem.DeviceBuffer}}(Float32[0.01, 0.01, 0.01, 0.01, 0.01, 0.01, 0.01, 0.01, 0.01, 0.01  …  0.01, 0.01, 0.01, 0.01, 0.01, 0.01, 0.01, 0.01, 0.01, 0.01], Float32[2.0, 2.0, 2.0, 2.0, 2.0, 2.0, 2.0, 2.0, 2.0, 2.0  …  2.0, 2.0, 2.0, 2.0, 2.0, 2.0, 2.0, 2.0, 2.0, 2.0], Float32[3.0, 3.0, 3.0, 3.0, 3.0, 3.0, 3.0, 3.0, 3.0, 3.0  …  3.0, 3.0, 3.0, 3.0, 3.0, 3.0, 3.0, 3.0, 3.0, 3.0]), ContractilePar(Float32[0.06, 0.06, 0.06, 0.06, 0.06, 0.06, 0.06, 0.06, 0.06, 0.06  …  0.06, 0.06, 0.06, 0.06, 0.06, 0.06, 0.06, 0.06, 0.06, 0.06]), Float32[15.27]), AggNeighbor(Int32[0 0 … 0 0; 0 0 … 0 0; … ; 0 0 … 0 0; 0 0 … 0 0], Float32[0.0 0.0 … 0.0 0.0; 0.0 0.0 … 0.0 0.0; … ; 0.0 0.0 … 0.0 0.0; 0.0 0.0 … 0.0 0.0], Int32[0 0 … 0 0], Int32[0 0 … 0 0; 0 0 … 0 0; … ; 0 0 … 0 0; 0 0 … 0 0]), AggForce(Float32[0.0 0.0 0.0; 0.0 0.0 0.0; … ; 0.0 0.0 0.0; 0.0 0.0 0.0], Float32[0.0 0.0 … 0.0 0.0], Float32[0.0 0.0 0.0; 0.0 0.0 0.0; … ; 0.0 0.0 0.0; 0.0 0.0 0.0], Float32[0.0 0.0 0.0; 0.0 0.0 0.0; … ; 0.0 0.0 0.0; 0.0 0.0 0.0])))"
      ]
     },
     "execution_count": 24,
     "metadata": {},
     "output_type": "execute_result"
    }
   ],
   "source": [
    "# Run only one aggregate\n",
    "agg = nothing\n",
    "agg = Aggregate(\n",
    "    [AggType(\n",
    "        \"HEK_1\", \n",
    "        InteractionPar(Par1, Par2),\n",
    "        Float32.(readdlm(\"../../data/init/Sphere/$(agg_size).0.xyz\")[3:end,2:end]) |> cu\n",
    "    )], \n",
    "    [AggLocation(\"HEK_1\",[0 0 0]),],\n",
    "    model\n",
    ")"
   ]
  },
  {
   "cell_type": "code",
   "execution_count": 25,
   "metadata": {},
   "outputs": [],
   "source": [
    "# # Run fusion of two aggregates\n",
    "# agg = nothing\n",
    "# agg = FusionAggregate(\n",
    "#     [AggType(\n",
    "#         \"HEK_1\", \n",
    "#         InteractionPar(Par1, Par2),\n",
    "#         Float32.(readdlm(\"../../data/init/Sphere/$(agg_size).0.xyz\")[3:end,2:end]) |> cu\n",
    "#     )], \n",
    "#     model\n",
    "# )"
   ]
  },
  {
   "attachments": {},
   "cell_type": "markdown",
   "metadata": {},
   "source": [
    "# kNN"
   ]
  },
  {
   "cell_type": "code",
   "execution_count": 26,
   "metadata": {},
   "outputs": [
    {
     "data": {
      "text/plain": [
       "1000×2504 CuArray{Int32, 2, CUDA.Mem.DeviceBuffer}:\n",
       " 36  37  38  41  42  43  44  45  57  …  2461  2462  2463  2468  2469  2470\n",
       "  6   7   8  49   1   2   3   3  58     2502  2503  2504  2498  2499  2500\n",
       "  5   6   7  50  50   1   2  53  15     2503  2504  2455  2499  2500  2501\n",
       " 42  43  44   5  51  51  52  54  10     2454  2455  2456  2461  2462  2463\n",
       " 43  44  45  10   6  52  53   7  49     2453  2454  2500  2460  2461  2462\n",
       "  2   3   2   9   4   7   8  14   4  …  2498  2499  2495  2503  2502  2503\n",
       " 35   1  37  40  11   5   6  13  66     2500  2501  2496  2469  2504  2471\n",
       " 37  36  39  42  10  12  13  44  50     2493  2494  2462  2467  2468  2469\n",
       " 51  38  53  58  41  11  12  46  48     2494  2495  2464  2453  2470  2455\n",
       "  0  52   0   0  43  42  43  62   0     2460  2461  2447     0  2454     0\n",
       "  0   0   0   0  59  44  45   0   0  …  2462  2463     0     0     0     0\n",
       "  0   0   0   0   0  60  61   0   0     2445  2446     0     0     0     0\n",
       "  0   0   0   0   0   0   0   0   0        0     0     0     0     0     0\n",
       "  ⋮                   ⋮              ⋱                 ⋮              \n",
       "  0   0   0   0   0   0   0   0   0        0     0     0     0     0     0\n",
       "  0   0   0   0   0   0   0   0   0        0     0     0     0     0     0\n",
       "  0   0   0   0   0   0   0   0   0  …     0     0     0     0     0     0\n",
       "  0   0   0   0   0   0   0   0   0        0     0     0     0     0     0\n",
       "  0   0   0   0   0   0   0   0   0        0     0     0     0     0     0\n",
       "  0   0   0   0   0   0   0   0   0        0     0     0     0     0     0\n",
       "  0   0   0   0   0   0   0   0   0        0     0     0     0     0     0\n",
       "  0   0   0   0   0   0   0   0   0  …     0     0     0     0     0     0\n",
       "  0   0   0   0   0   0   0   0   0        0     0     0     0     0     0\n",
       "  0   0   0   0   0   0   0   0   0        0     0     0     0     0     0\n",
       "  0   0   0   0   0   0   0   0   0        0     0     0     0     0     0\n",
       "  0   0   0   0   0   0   0   0   0        0     0     0     0     0     0"
      ]
     },
     "metadata": {},
     "output_type": "display_data"
    }
   ],
   "source": [
    "include(\"../../src/neighbor.jl\")\n",
    "\n",
    "dist = zeros(size(agg.Simulation.Neighbor.idx_red)) |> cu\n",
    "threads=(100)\n",
    "@cuda(\n",
    "    threads=threads,\n",
    "    blocks=cld.(size(agg.Position,1),threads),\n",
    "    dist_kernel!(\n",
    "        agg.Simulation.Neighbor.idx_red,\n",
    "        agg.Simulation.Neighbor.idx_cont,\n",
    "        agg.Simulation.Neighbor.idx_sum,\n",
    "        agg.Simulation.Neighbor.dist,\n",
    "        agg.Position,\n",
    "        agg.Simulation.Parameter.Force.rₘₐₓ\n",
    "    )\n",
    ")   \n",
    "\n",
    "display(agg.Simulation.Neighbor.idx_red)"
   ]
  },
  {
   "attachments": {},
   "cell_type": "markdown",
   "metadata": {},
   "source": [
    "# Sum Forces"
   ]
  },
  {
   "cell_type": "code",
   "execution_count": 27,
   "metadata": {},
   "outputs": [
    {
     "name": "stdout",
     "output_type": "stream",
     "text": [
      "  0.669083 seconds (348.88 k CPU allocations: 20.681 MiB)\n"
     ]
    },
    {
     "data": {
      "text/plain": [
       "2504×3 CuArray{Float32, 2, CUDA.Mem.DeviceBuffer}:\n",
       "  0.043071     -0.0294104    -0.0293135\n",
       " -0.133309      0.115847      0.0350745\n",
       "  7.13207f-12  -1.49224f-5    0.000364654\n",
       " -4.6549f-12    0.000133741   0.000364654\n",
       "  0.0768459    -0.00681949    0.0922601\n",
       "  0.0465833    -0.0182006    -0.0326916\n",
       " -0.025562     -0.112096      0.03419\n",
       " -0.0279431     0.047044     -0.0245264\n",
       "  0.0107768     0.0558033    -0.0186341\n",
       "  0.12248      -0.0818346     0.10394\n",
       " -0.0281172     0.116157      0.134827\n",
       "  0.0473493     0.0493741     0.0988765\n",
       " -0.10265       0.0502115    -0.0360465\n",
       "  ⋮                          \n",
       " -0.0868456    -0.113108     -0.110039\n",
       " -0.011029     -0.112105      0.0405655\n",
       " -0.00998787    0.154583     -0.0923076\n",
       "  0.0210768    -0.0106786    -0.0554844\n",
       "  0.0243207     0.105448     -0.0519487\n",
       " -0.0847751    -0.0423247    -0.0740933\n",
       "  0.0270936     0.0533657     0.000297269\n",
       "  0.11316       0.0254341    -0.0310149\n",
       " -0.157235      0.00842559   -0.0875467\n",
       "  0.0764169    -0.124789     -0.105171\n",
       "  0.0151714     0.0457061    -0.173807\n",
       " -0.108227     -0.0497046     0.014296"
      ]
     },
     "metadata": {},
     "output_type": "display_data"
    }
   ],
   "source": [
    "include(\"../../src/forces/forces.jl\")\n",
    "\n",
    "threads=(64,3)\n",
    "CUDA.@time @cuda(\n",
    "    threads = threads,\n",
    "    blocks = cld.(size(agg.Position,),threads),\n",
    "    shmem=prod(threads.+2)*sizeof(Float32),\n",
    "    sum_force!(\n",
    "        agg.Position,\n",
    "        agg.Simulation.Force.F,\n",
    "        agg.Simulation.Force.Pol,\n",
    "        agg.Simulation.Force.N_i,\n",
    "        agg.Simulation.Neighbor.idx_sum,\n",
    "        agg.Simulation.Neighbor.idx_red,\n",
    "        agg.Simulation.Parameter.Force,\n",
    "        agg.Simulation.Parameter.Contractile.fₚ,\n",
    "        atan(1),\n",
    "        pi/4,\n",
    "        model.Time.dt\n",
    "    )\n",
    ")\n",
    "\n",
    "display(agg.Simulation.Force.F)"
   ]
  },
  {
   "attachments": {},
   "cell_type": "markdown",
   "metadata": {},
   "source": [
    "# MiniTest"
   ]
  },
  {
   "cell_type": "code",
   "execution_count": 28,
   "metadata": {},
   "outputs": [
    {
     "name": "stderr",
     "output_type": "stream",
     "text": [
      "\u001b[32mmini Testing... 100%|████████████████████████████████████| Time: 0:01:29\u001b[39m\n"
     ]
    },
    {
     "data": {
      "text/plain": [
       "1×3 CuArray{Int64, 2, CUDA.Mem.DeviceBuffer}:\n",
       " 0  0  0"
      ]
     },
     "metadata": {},
     "output_type": "display_data"
    },
    {
     "data": {
      "text/plain": [
       "1×3 CuArray{Int64, 2, CUDA.Mem.DeviceBuffer}:\n",
       " 0  0  0"
      ]
     },
     "metadata": {},
     "output_type": "display_data"
    },
    {
     "data": {
      "text/plain": [
       "2504×3 CuArray{Float32, 2, CUDA.Mem.DeviceBuffer}:\n",
       "  0.124231    -0.0179999   -0.0415326\n",
       "  0.00726705  -0.0606817   -0.0525248\n",
       " -0.0526137   -0.0736159    0.0584535\n",
       " -0.0439396    0.0378478   -0.0351567\n",
       "  0.045477    -0.00447639   0.0994545\n",
       "  0.00281543  -0.00540495  -0.0220775\n",
       " -0.120806     0.122272    -0.0154183\n",
       "  0.0523234    0.0429672   -0.0127826\n",
       "  0.00432141  -0.0564628   -0.0501972\n",
       "  0.034486    -0.0440945   -0.0437287\n",
       "  0.0459258   -0.0290485   -0.0566592\n",
       "  0.00417353  -0.0726629    0.0692204\n",
       " -0.0185805   -0.0427456   -0.0395422\n",
       "  ⋮                        \n",
       "  0.0832886   -0.0393252   -0.0494005\n",
       " -0.0631794    0.0669523   -0.0446904\n",
       " -0.00632308   0.00689699   0.0213604\n",
       "  0.0798737   -0.0151113    0.0249002\n",
       " -0.058244    -0.0396251   -0.0767344\n",
       " -0.0917219    0.0767286    0.0439196\n",
       "  0.0848986    0.123316    -0.0738111\n",
       " -0.0639895   -0.147726    -0.0531775\n",
       " -0.00544937   0.0522947    0.0556464\n",
       " -0.00890012  -0.0460745    0.0268725\n",
       " -0.0436816   -0.0689693   -0.0497022\n",
       "  0.00555779  -0.0345858   -0.0358038"
      ]
     },
     "metadata": {},
     "output_type": "display_data"
    },
    {
     "data": {
      "text/plain": [
       "2504×3 CuArray{Float32, 2, CUDA.Mem.DeviceBuffer}:\n",
       " -0.294962   -3.73715   -12.7061\n",
       "  1.55234    -0.771155  -12.7692\n",
       "  2.43138    -2.25629   -12.4982\n",
       " -4.31124    -3.40049   -11.3831\n",
       "  0.317371   -5.75777   -11.6569\n",
       "  0.772631   -2.27017   -12.8688\n",
       "  1.07247    -1.54744   -11.5062\n",
       "  3.89481    -2.28572   -12.6552\n",
       " -3.52708    -4.77349   -11.4064\n",
       " -2.32792    -2.41845   -12.6553\n",
       " -0.804733   -2.19639   -12.5321\n",
       "  0.0687602  -0.811087  -12.6471\n",
       "  3.17612    -0.824996  -12.6821\n",
       "  ⋮                     \n",
       "  0.673809   -0.00523     8.64402\n",
       "  2.13308     1.36743     7.15905\n",
       "  3.77264     0.711998    8.47094\n",
       "  5.09958     0.330191    8.32646\n",
       "  0.0275699   5.27001     7.85974\n",
       " -2.88413    -0.330659    8.24535\n",
       " -0.164698    1.62179     8.39735\n",
       "  2.28041     0.213101    8.38472\n",
       "  5.25824     1.46011     7.20266\n",
       " -1.21118     2.84297     8.77559\n",
       " -0.70162     6.59997     7.72015\n",
       "  0.745622    3.84975     7.52995"
      ]
     },
     "metadata": {},
     "output_type": "display_data"
    }
   ],
   "source": [
    "include(\"../../src/run_event.jl\")\n",
    "\n",
    "run_test(agg, model, \"mini Testing\")\n",
    "display(sum(isnan.(agg.Simulation.Force.F), dims=1))\n",
    "display(sum(agg.Simulation.Force.F .> 50, dims=1))\n",
    "display(agg.Simulation.Force.F)\n",
    "display(agg.Position)"
   ]
  }
 ],
 "metadata": {
  "kernelspec": {
   "display_name": "Julia 1.9.1",
   "language": "julia",
   "name": "julia-1.9"
  },
  "language_info": {
   "file_extension": ".jl",
   "mimetype": "application/julia",
   "name": "julia",
   "version": "1.9.1"
  },
  "orig_nbformat": 4
 },
 "nbformat": 4,
 "nbformat_minor": 2
}
