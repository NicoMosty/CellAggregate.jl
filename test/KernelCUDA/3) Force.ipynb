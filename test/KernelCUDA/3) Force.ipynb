{
 "cells": [
  {
   "attachments": {},
   "cell_type": "markdown",
   "metadata": {},
   "source": [
    "# Dependences"
   ]
  },
  {
   "cell_type": "code",
   "execution_count": null,
   "metadata": {},
   "outputs": [],
   "source": [
    "include(\"../../src/struct_data.jl\")"
   ]
  },
  {
   "attachments": {},
   "cell_type": "markdown",
   "metadata": {},
   "source": [
    "# Model"
   ]
  },
  {
   "cell_type": "code",
   "execution_count": null,
   "metadata": {},
   "outputs": [],
   "source": [
    "@time model = ModelSet(\n",
    "    TimeModel(\n",
    "        tₛᵢₘ  = 150000.0,\n",
    "        dt    = 0.5,\n",
    "        nₖₙₙ  = 100,\n",
    "        nₛₐᵥₑ = 50\n",
    "    ),\n",
    "    InputModel(\n",
    "        outer_ratio = 0.8,\n",
    "        path_input  = \"../../data/init/Sphere\"\n",
    "    ),\n",
    "    OutputModel(\n",
    "        name_output = \"Test_1\",\n",
    "        path_output = \"\"\n",
    "    ) \n",
    ")\n",
    "\n",
    "dump(model)"
   ]
  },
  {
   "attachments": {},
   "cell_type": "markdown",
   "metadata": {},
   "source": [
    "# Aggregate"
   ]
  },
  {
   "cell_type": "code",
   "execution_count": null,
   "metadata": {},
   "outputs": [],
   "source": [
    "Par1 ,Par2 = Cubic(0.01,2.0,3.0), ContractilePar(0.01)\n",
    "agg_size = 15"
   ]
  },
  {
   "cell_type": "code",
   "execution_count": null,
   "metadata": {},
   "outputs": [],
   "source": [
    "# Run only one aggregate\n",
    "agg = nothing\n",
    "agg = Aggregate(\n",
    "    [AggType(\n",
    "        \"HEK_1\", \n",
    "        InteractionPar(Par1, Par2),\n",
    "        Float32.(readdlm(\"../../data/init/Sphere/$(agg_size).0.xyz\")[3:end,2:end]) |> cu\n",
    "    )], \n",
    "    [AggLocation(\"HEK_1\",[0 0 0]),],\n",
    "    model\n",
    ")\n",
    "# show_aggregates(agg)"
   ]
  },
  {
   "attachments": {},
   "cell_type": "markdown",
   "metadata": {},
   "source": [
    "# kNN"
   ]
  },
  {
   "cell_type": "code",
   "execution_count": null,
   "metadata": {},
   "outputs": [],
   "source": [
    "include(\"../../src/neighbor.jl\")\n",
    "println(\"------------------------ SIZE ------------------------\")\n",
    "threads=(100)\n",
    "@cuda(\n",
    "    threads=threads,\n",
    "    blocks=cld.(size(agg.Position,1),threads),\n",
    "    dist_kernel!(\n",
    "        agg.Simulation.Neighbor.idx_red,\n",
    "        agg.Simulation.Neighbor.idx_cont,\n",
    "        agg.Simulation.Neighbor.idx_sum,\n",
    "        agg.Simulation.Neighbor.dist,\n",
    "        agg.Position,\n",
    "        agg.Simulation.Parameter.Force.rₘₐₓ\n",
    "    )\n",
    ")   \n",
    "\n",
    "println(\"------------------------ IDX -------------------------\")\n",
    "display(agg.Simulation.Neighbor.idx_red)"
   ]
  },
  {
   "attachments": {},
   "cell_type": "markdown",
   "metadata": {},
   "source": [
    "# Force"
   ]
  },
  {
   "cell_type": "code",
   "execution_count": null,
   "metadata": {},
   "outputs": [],
   "source": [
    "include(\"../../src/forces/forces.jl\")\n",
    "# test = zeros(size(agg.Position)) |> cu\n",
    "\n",
    "for i = 1:50\n",
    "    threads=(64,3)\n",
    "    @cuda(\n",
    "        threads = threads,\n",
    "        blocks = cld.(size(agg.Position,),threads),\n",
    "        sum_force!(\n",
    "            agg.Position,\n",
    "            agg.Simulation.Force.F,\n",
    "            agg.Simulation.Force.Pol,\n",
    "            agg.Simulation.Force.N_i,\n",
    "            agg.Simulation.Neighbor.idx_sum,\n",
    "            agg.Simulation.Neighbor.idx_red,\n",
    "            agg.Simulation.Parameter.Force,\n",
    "            agg.Simulation.Parameter.Contractile.fₚ,\n",
    "            atan(1),\n",
    "            pi/4,\n",
    "            model.Time.dt\n",
    "        )\n",
    "    )\n",
    "end\n",
    "\n",
    "display(agg.Position')\n",
    "display(agg.Simulation.Force.F')\n",
    "display(agg.Simulation.Force.Pol')\n",
    "display(agg.Simulation.Force.N_i)\n",
    "\n",
    "# using Plots\n",
    "\n",
    "# M = 0\n",
    "# FOMO = Matrix(test[:,1]')\n",
    "# for i=unique(FOMO)\n",
    "#     if i == 0\n",
    "#         global M = [i sum(FOMO .== i)]\n",
    "#     else\n",
    "#         global M = vcat(M, [i sum(FOMO .== i)])\n",
    "#     end \n",
    "# end\n",
    "\n",
    "# M = sortslices(M,dims=1,by=x->(x[1],-x[2]),rev=false)\n",
    "# plot(M[:,1],M[:,2])"
   ]
  },
  {
   "cell_type": "code",
   "execution_count": null,
   "metadata": {},
   "outputs": [],
   "source": [
    "# open(model.Output.name_output*\".xyz\", \"w\") do f\n",
    "#     write(f, \"$(size(agg.Position, 1))\\n\")\n",
    "#     write(f, \"t=0\\n\")\n",
    "#     writedlm(f,hcat(agg.Geometry.outline,Matrix(agg.Position)), ' ')\n",
    "# end\n",
    "\n",
    "# title = \"TEST\""
   ]
  },
  {
   "cell_type": "code",
   "execution_count": null,
   "metadata": {},
   "outputs": [],
   "source": [
    "# @showprogress \"$(title)...\" for t=0:Int(model.Time.tₛᵢₘ/model.Time.dt)\n",
    "#     # println(t)\n",
    "#     # CUDA.@time \n",
    "#     threads=(64,3)\n",
    "#     @cuda(\n",
    "#         threads = threads,\n",
    "#         blocks = cld.(size(agg.Position,),threads),\n",
    "#         sum_force!(\n",
    "#             agg.Position,\n",
    "#             agg.Simulation.Force.F,\n",
    "#             agg.Simulation.Force.Pol,\n",
    "#             agg.Simulation.Force.N_i,\n",
    "#             agg.Simulation.Neighbor.idx_sum,\n",
    "#             agg.Simulation.Neighbor.idx_red,\n",
    "#             agg.Simulation.Parameter.Force,\n",
    "#             agg.Simulation.Parameter.Contractile.fₚ,\n",
    "#             atan(1),\n",
    "#             pi/4,\n",
    "#             model.Time.dt\n",
    "#         )\n",
    "#     )\n",
    "\n",
    "#     if t%(model.Time.nₖₙₙ) == 0\n",
    "#         # println(\"▲ Neighbor\")\n",
    "#         threads=(100)\n",
    "#         @cuda(\n",
    "#             threads=threads,\n",
    "#             blocks=cld.(size(agg.Position,1),threads),\n",
    "#             dist_kernel!(\n",
    "#                 agg.Simulation.Neighbor.idx_red,\n",
    "#                 agg.Simulation.Neighbor.idx_cont,\n",
    "#                 agg.Simulation.Neighbor.idx_sum,\n",
    "#                 agg.Simulation.Neighbor.dist,\n",
    "#                 agg.Position,\n",
    "#                 agg.Simulation.Parameter.Force.rₘₐₓ\n",
    "#             )\n",
    "#         ) \n",
    "#     end\n",
    "\n",
    "#     if t%Int(model.Time.tₛᵢₘ/model.Time.nₛₐᵥₑ) == 0\n",
    "#         # println(\"▲ Save\")\n",
    "#         open(model.Output.name_output*\".xyz\", \"a\") do f\n",
    "#             write(f, \"$(size(agg.Position, 1))\\n\")\n",
    "#             write(f, \"t=$(t)\\n\")\n",
    "#             writedlm(f,hcat(agg.Geometry.outline,Matrix(agg.Position)), ' ')\n",
    "#         end\n",
    "#     end\n",
    "# end"
   ]
  },
  {
   "attachments": {},
   "cell_type": "markdown",
   "metadata": {},
   "source": [
    "## Function"
   ]
  },
  {
   "cell_type": "code",
   "execution_count": null,
   "metadata": {},
   "outputs": [],
   "source": [
    "# include(\"../../src/forces/forces.jl\")\n",
    "# test = zeros(1,size(agg.Position,1)) |> cu\n",
    "\n",
    "# threads=(64,3)\n",
    "# @cuda(\n",
    "#     threads = threads,\n",
    "#     blocks = cld.(size(agg.Position,),threads),\n",
    "#     sum_force!(\n",
    "#         agg.Position,\n",
    "#         agg.Simulation.Force.F,\n",
    "#         agg.Simulation.Force.Pol,\n",
    "#         agg.Simulation.Force.N_i,\n",
    "#         agg.Simulation.Neighbor.idx_sum,\n",
    "#         agg.Simulation.Neighbor.idx_red,\n",
    "#         agg.Simulation.Parameter.Force,\n",
    "#         agg.Simulation.Parameter.Contractile.fₚ,\n",
    "#         atan(1),\n",
    "#         pi/4,\n",
    "#         model.Time.dt,\n",
    "#         test\n",
    "#     )\n",
    "# )\n",
    "\n",
    "# # display(sum(agg.Simulation.Force.Pol.^2, dims=2)')\n",
    "# # display(sum(.!(0.0 .< agg.Simulation.Force.Pol .< 1.0),dims=1)')\n",
    "# # display(\"--------------------------------------------------------------------------------\")\n",
    "# display(agg.Position')\n",
    "# display(agg.Simulation.Force.F')\n",
    "# display(agg.Simulation.Force.Pol')\n",
    "# display(agg.Simulation.Force.N_i)\n",
    "# display(test)\n",
    "\n",
    "# # open(\"Pol.xyz\", \"w\") do f\n",
    "# #     write(f, \"$(size(agg.Simulation.Force.Pol, 1))\\n\")\n",
    "# #     write(f, \"t=0\\n\")\n",
    "# #     writedlm(f,hcat(agg.Geometry.outline,Matrix(agg.Simulation.Force.Pol)), ' ')\n",
    "# # end\n",
    "\n",
    "# # open(\"Force.xyz\", \"w\") do f\n",
    "# #     write(f, \"$(size(agg.Simulation.Force.F, 1))\\n\")\n",
    "# #     write(f, \"t=0\\n\")\n",
    "# #     writedlm(f,hcat(agg.Geometry.outline,Matrix(agg.Simulation.Force.F)), ' ')\n",
    "# # end\n",
    "\n",
    "\n",
    "# # using Plots\n",
    "\n",
    "# # M = 0\n",
    "# # FOMO = Matrix(agg.Simulation.Force.F)[:,1]\n",
    "# # for i=unique(FOMO)\n",
    "# #     if i == 0\n",
    "# #         global M = [i sum(FOMO .== i)]\n",
    "# #     else\n",
    "# #         global M = vcat(M, [i sum(FOMO .== i)])\n",
    "# #     end \n",
    "# # end\n",
    "\n",
    "# # plot(M[:,1],M[:,2])"
   ]
  }
 ],
 "metadata": {
  "kernelspec": {
   "display_name": "Julia 1.9.1",
   "language": "julia",
   "name": "julia-1.9"
  },
  "language_info": {
   "file_extension": ".jl",
   "mimetype": "application/julia",
   "name": "julia",
   "version": "1.9.1"
  },
  "orig_nbformat": 4
 },
 "nbformat": 4,
 "nbformat_minor": 2
}
