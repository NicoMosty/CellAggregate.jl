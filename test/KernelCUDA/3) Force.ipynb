{
 "cells": [
  {
   "attachments": {},
   "cell_type": "markdown",
   "metadata": {},
   "source": [
    "# Dependences"
   ]
  },
  {
   "cell_type": "code",
   "execution_count": 13,
   "metadata": {},
   "outputs": [
    {
     "data": {
      "text/plain": [
       "save_data"
      ]
     },
     "execution_count": 13,
     "metadata": {},
     "output_type": "execute_result"
    }
   ],
   "source": [
    "include(\"../../src/struct_data.jl\")"
   ]
  },
  {
   "attachments": {},
   "cell_type": "markdown",
   "metadata": {},
   "source": [
    "# Model"
   ]
  },
  {
   "cell_type": "code",
   "execution_count": 14,
   "metadata": {},
   "outputs": [
    {
     "name": "stdout",
     "output_type": "stream",
     "text": [
      "  0.000002 seconds (4 allocations: 144 bytes)\n",
      "ModelSet\n",
      "  Time: TimeModel\n",
      "    tₛᵢₘ: Float64 150000.0\n",
      "    dt: Float64 0.5\n",
      "    nₖₙₙ: Int64 100\n",
      "    nₛₐᵥₑ: Int64 50\n",
      "  Input: InputModel\n",
      "    outer_ratio: Float64 0.8\n",
      "    path_input: String \"../../data/init/Sphere\"\n",
      "  Output: OutputModel\n",
      "    name_output: String \"Test_1\"\n",
      "    path_output: String \"\"\n"
     ]
    }
   ],
   "source": [
    "@time model = ModelSet(\n",
    "    TimeModel(\n",
    "        tₛᵢₘ  = 150000.0,\n",
    "        dt    = 0.5,\n",
    "        nₖₙₙ  = 100,\n",
    "        nₛₐᵥₑ = 50\n",
    "    ),\n",
    "    InputModel(\n",
    "        outer_ratio = 0.8,\n",
    "        path_input  = \"../../data/init/Sphere\"\n",
    "    ),\n",
    "    OutputModel(\n",
    "        name_output = \"Test_1\",\n",
    "        path_output = \"\"\n",
    "    ) \n",
    ")\n",
    "\n",
    "dump(model)"
   ]
  },
  {
   "attachments": {},
   "cell_type": "markdown",
   "metadata": {},
   "source": [
    "# Aggregate"
   ]
  },
  {
   "cell_type": "code",
   "execution_count": 15,
   "metadata": {},
   "outputs": [
    {
     "ename": "LoadError",
     "evalue": "CUDA error: an illegal instruction was encountered (code 715, ERROR_ILLEGAL_INSTRUCTION)",
     "output_type": "error",
     "traceback": [
      "CUDA error: an illegal instruction was encountered (code 715, ERROR_ILLEGAL_INSTRUCTION)",
      "",
      "Stacktrace:",
      "  [1] throw_api_error(res::CUDA.cudaError_enum)",
      "    @ CUDA ~/.julia/packages/CUDA/pCcGc/lib/cudadrv/libcuda.jl:27",
      "  [2] check",
      "    @ ~/.julia/packages/CUDA/pCcGc/lib/cudadrv/libcuda.jl:34 [inlined]",
      "  [3] cuMemAlloc_v2",
      "    @ ~/.julia/packages/CUDA/pCcGc/lib/utils/call.jl:26 [inlined]",
      "  [4] alloc(::Type{CUDA.Mem.DeviceBuffer}, bytesize::Int64; async::Bool, stream::CuStream, pool::Nothing)",
      "    @ CUDA.Mem ~/.julia/packages/CUDA/pCcGc/lib/cudadrv/memory.jl:86",
      "  [5] alloc",
      "    @ ~/.julia/packages/CUDA/pCcGc/lib/cudadrv/memory.jl:71 [inlined]",
      "  [6] actual_alloc(bytes::Int64; async::Bool, stream::CuStream)",
      "    @ CUDA ~/.julia/packages/CUDA/pCcGc/src/pool.jl:65",
      "  [7] actual_alloc",
      "    @ ~/.julia/packages/CUDA/pCcGc/src/pool.jl:59 [inlined]",
      "  [8] #991",
      "    @ ~/.julia/packages/CUDA/pCcGc/src/pool.jl:421 [inlined]",
      "  [9] retry_reclaim(f::CUDA.var\"#991#993\"{CuStream, Int64}, isfailed::typeof(isnothing))",
      "    @ CUDA ~/.julia/packages/CUDA/pCcGc/src/pool.jl:337",
      " [10] macro expansion",
      "    @ ~/.julia/packages/CUDA/pCcGc/src/pool.jl:420 [inlined]",
      " [11] macro expansion",
      "    @ ./timing.jl:393 [inlined]",
      " [12] #_alloc#989",
      "    @ ~/.julia/packages/CUDA/pCcGc/src/pool.jl:413 [inlined]",
      " [13] _alloc",
      "    @ ~/.julia/packages/CUDA/pCcGc/src/pool.jl:408 [inlined]",
      " [14] #alloc#988",
      "    @ ~/.julia/packages/CUDA/pCcGc/src/pool.jl:398 [inlined]",
      " [15] alloc",
      "    @ ~/.julia/packages/CUDA/pCcGc/src/pool.jl:392 [inlined]",
      " [16] CuArray{Float32, 2, CUDA.Mem.DeviceBuffer}(#unused#::UndefInitializer, dims::Tuple{Int64, Int64})",
      "    @ CUDA ~/.julia/packages/CUDA/pCcGc/src/array.jl:93",
      " [17] CuArray",
      "    @ ~/.julia/packages/CUDA/pCcGc/src/array.jl:342 [inlined]",
      " [18] adapt_storage(#unused#::CUDA.CuArrayAdaptor{CUDA.Mem.DeviceBuffer}, xs::Matrix{Float64})",
      "    @ CUDA ~/.julia/packages/CUDA/pCcGc/src/array.jl:596",
      " [19] adapt_structure",
      "    @ ~/.julia/packages/Adapt/UtItS/src/Adapt.jl:57 [inlined]",
      " [20] adapt",
      "    @ ~/.julia/packages/Adapt/UtItS/src/Adapt.jl:40 [inlined]",
      " [21] #cu#1017",
      "    @ ~/.julia/packages/CUDA/pCcGc/src/array.jl:648 [inlined]",
      " [22] cu",
      "    @ ~/.julia/packages/CUDA/pCcGc/src/array.jl:648 [inlined]",
      " [23] |>(x::Matrix{Float64}, f::typeof(cu))",
      "    @ Base ./operators.jl:907",
      " [24] top-level scope",
      "    @ ./timing.jl:273 [inlined]",
      " [25] top-level scope",
      "    @ ./In[15]:0"
     ]
    }
   ],
   "source": [
    "agg = nothing\n",
    "# @time @start_agg FusionAGG = FusionAggregate(\n",
    "@time agg = FusionAggregate(\n",
    "    [\n",
    "        AggType(\n",
    "            \"HEK_1\", \n",
    "            InteractionPar(\n",
    "                Cubic(0.01,2.0,3.0), \n",
    "                ContractilePar(0.001)\n",
    "            ),\n",
    "            Float64.(readdlm(\"../../data/init/Sphere/15.0.xyz\")[3:end,2:end]) |> cu\n",
    "        ),\n",
    "        AggType(\n",
    "            \"HEK_2\", \n",
    "            InteractionPar(\n",
    "                Cubic(0.01,2.0,3.0), \n",
    "                ContractilePar(0.001)\n",
    "            ),\n",
    "            Float64.(readdlm(\"../../data/init/Sphere/15.0.xyz\")[3:end,2:end]) |> cu\n",
    "        )\n",
    "    ], \n",
    "    model\n",
    ")\n",
    "# show_aggregates(agg)"
   ]
  },
  {
   "attachments": {},
   "cell_type": "markdown",
   "metadata": {},
   "source": [
    "# kNN"
   ]
  },
  {
   "cell_type": "code",
   "execution_count": null,
   "metadata": {},
   "outputs": [],
   "source": [
    "include(\"../../src/neighbor.jl\")\n",
    "println(\"------------------------ SIZE ------------------------\")\n",
    "threads=(100)\n",
    "@cuda(\n",
    "    threads=threads,\n",
    "    blocks=cld.(size(agg.Position,1),threads),\n",
    "    shmem=prod(threads.+2)*sizeof(Float32),\n",
    "    dist_kernel!(\n",
    "        agg.Simulation.Neighbor.idx_red,\n",
    "        agg.Simulation.Neighbor.idx_cont,\n",
    "        agg.Simulation.Neighbor.idx_sum,\n",
    "        agg.Simulation.Neighbor.dist,\n",
    "        agg.Position,\n",
    "        agg.Simulation.Parameter.Force.rₘₐₓ\n",
    "    )\n",
    ")   \n",
    "\n",
    "println(\"------------------------ IDX -------------------------\")\n",
    "display(agg.Simulation.Neighbor.idx_red)"
   ]
  },
  {
   "attachments": {},
   "cell_type": "markdown",
   "metadata": {},
   "source": [
    "# Force"
   ]
  },
  {
   "attachments": {},
   "cell_type": "markdown",
   "metadata": {},
   "source": [
    "## Function"
   ]
  },
  {
   "cell_type": "code",
   "execution_count": null,
   "metadata": {},
   "outputs": [],
   "source": [
    "include(\"../../src/forces/forces.jl\")\n",
    "\n",
    "threads=(64,3)\n",
    "@cuda(\n",
    "    threads = threads,\n",
    "    blocks = cld.(size(agg.Position,),threads),\n",
    "    shmem=prod(threads.+6)*sizeof(Float32),\n",
    "    sum_force!(\n",
    "        agg.Position,\n",
    "        agg.Simulation.Force.F,\n",
    "        agg.Simulation.Force.Pol,\n",
    "        agg.Simulation.Neighbor.idx_sum,\n",
    "        agg.Simulation.Neighbor.idx_red,\n",
    "        agg.Simulation.Parameter.Force,\n",
    "        agg.Simulation.Parameter.Contractile.fₚ,\n",
    "        atan(1),\n",
    "        model.Time.dt\n",
    "    )\n",
    ")\n",
    "display(agg.Simulation.Force.F')\n",
    "# display(agg.Simulation.Force.Pol')"
   ]
  }
 ],
 "metadata": {
  "kernelspec": {
   "display_name": "Julia 1.9.1",
   "language": "julia",
   "name": "julia-1.9"
  },
  "language_info": {
   "file_extension": ".jl",
   "mimetype": "application/julia",
   "name": "julia",
   "version": "1.9.1"
  },
  "orig_nbformat": 4
 },
 "nbformat": 4,
 "nbformat_minor": 2
}
