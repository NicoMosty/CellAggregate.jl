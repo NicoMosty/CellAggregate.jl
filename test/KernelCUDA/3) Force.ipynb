{
 "cells": [
  {
   "attachments": {},
   "cell_type": "markdown",
   "metadata": {},
   "source": [
    "# Dependences"
   ]
  },
  {
   "cell_type": "code",
   "execution_count": 1,
   "metadata": {},
   "outputs": [
    {
     "data": {
      "text/plain": [
       "save_data"
      ]
     },
     "execution_count": 1,
     "metadata": {},
     "output_type": "execute_result"
    }
   ],
   "source": [
    "include(\"../../src/struct_data.jl\")"
   ]
  },
  {
   "attachments": {},
   "cell_type": "markdown",
   "metadata": {},
   "source": [
    "# Model"
   ]
  },
  {
   "cell_type": "code",
   "execution_count": 2,
   "metadata": {},
   "outputs": [
    {
     "name": "stdout",
     "output_type": "stream",
     "text": [
      "  0.000026 seconds (5 allocations: 208 bytes)\n",
      "ModelSet\n",
      "  Time: TimeModel\n",
      "    tₛᵢₘ: Float64 150000.0\n",
      "    dt: Float64 0.5\n",
      "    nₖₙₙ: Int64 100\n",
      "    nₛₐᵥₑ: Int64 50\n",
      "  Input: InputModel\n",
      "    outer_ratio: Float64 0.8\n",
      "    path_input: String \"../../data/init/Sphere\"\n",
      "  Output: OutputModel\n",
      "    name_output: String \"Test_1\"\n",
      "    path_output: String \"\"\n"
     ]
    }
   ],
   "source": [
    "@time model = ModelSet(\n",
    "    TimeModel(\n",
    "        tₛᵢₘ  = 150000.0,\n",
    "        dt    = 0.5,\n",
    "        nₖₙₙ  = 100,\n",
    "        nₛₐᵥₑ = 50\n",
    "    ),\n",
    "    InputModel(\n",
    "        outer_ratio = 0.8,\n",
    "        path_input  = \"../../data/init/Sphere\"\n",
    "    ),\n",
    "    OutputModel(\n",
    "        name_output = \"Test_1\",\n",
    "        path_output = \"\"\n",
    "    ) \n",
    ")\n",
    "\n",
    "dump(model)"
   ]
  },
  {
   "attachments": {},
   "cell_type": "markdown",
   "metadata": {},
   "source": [
    "# Aggregate"
   ]
  },
  {
   "cell_type": "code",
   "execution_count": 3,
   "metadata": {},
   "outputs": [
    {
     "name": "stdout",
     "output_type": "stream",
     "text": [
      "  5.845363 seconds (7.61 M allocations: 607.585 MiB, 4.21% gc time)\n"
     ]
    },
    {
     "data": {
      "text/plain": [
       "Aggregate(AggType[AggType(\"HEK_1\", InteractionPar(Cubic{Float64}(0.01, 2.0, 3.0), ContractilePar(0.001)), 15.27f0, Float32[-1.5 -4.62 -13.88; 0.5 -4.62 -13.88; … ; 0.5 4.62 13.88; 2.5 4.62 13.88], CuArray{Float32, 2, CUDA.Mem.DeviceBuffer}), AggType(\"HEK_2\", InteractionPar(Cubic{Float64}(0.01, 2.0, 3.0), ContractilePar(0.001)), 15.27f0, Float32[-1.5 -4.62 -13.88; 0.5 -4.62 -13.88; … ; 0.5 4.62 13.88; 2.5 4.62 13.88], CuArray{Float32, 2, CUDA.Mem.DeviceBuffer})], AggIndex([1, 1, 1, 1, 1, 1, 1, 1, 1, 1  …  2, 2, 2, 2, 2, 2, 2, 2, 2, 2], [1, 1, 1, 1, 1, 1, 1, 1, 1, 1  …  2, 2, 2, 2, 2, 2, 2, 2, 2, 2], [\"HEK_1\", \"HEK_1\", \"HEK_1\", \"HEK_1\", \"HEK_1\", \"HEK_1\", \"HEK_1\", \"HEK_1\", \"HEK_1\", \"HEK_1\"  …  \"HEK_2\", \"HEK_2\", \"HEK_2\", \"HEK_2\", \"HEK_2\", \"HEK_2\", \"HEK_2\", \"HEK_2\", \"HEK_2\", \"HEK_2\"]), Float32[-15.77 -4.62 -13.88; -13.77 -4.62 -13.88; … ; 14.77 4.62 13.88; 16.77 4.62 13.88], AggGeometry(Float32[15.27, 15.27, 15.27, 15.27, 15.27, 15.27, 15.27, 15.27, 15.27, 15.27  …  15.27, 15.27, 15.27, 15.27, 15.27, 15.27, 15.27, 15.27, 15.27, 15.27], [1, 1, 1, 1, 1, 1, 1, 1, 1, 1  …  1, 1, 1, 1, 1, 1, 1, 1, 1, 1]), AggSimulation(AggParameter(Cubic{CuArray{Float32, 1, CUDA.Mem.DeviceBuffer}}(Float32[0.01, 0.01, 0.01, 0.01, 0.01, 0.01, 0.01, 0.01, 0.01, 0.01  …  0.01, 0.01, 0.01, 0.01, 0.01, 0.01, 0.01, 0.01, 0.01, 0.01], Float32[2.0, 2.0, 2.0, 2.0, 2.0, 2.0, 2.0, 2.0, 2.0, 2.0  …  2.0, 2.0, 2.0, 2.0, 2.0, 2.0, 2.0, 2.0, 2.0, 2.0], Float32[3.0, 3.0, 3.0, 3.0, 3.0, 3.0, 3.0, 3.0, 3.0, 3.0  …  3.0, 3.0, 3.0, 3.0, 3.0, 3.0, 3.0, 3.0, 3.0, 3.0]), ContractilePar(Float32[0.001, 0.001, 0.001, 0.001, 0.001, 0.001, 0.001, 0.001, 0.001, 0.001  …  0.001, 0.001, 0.001, 0.001, 0.001, 0.001, 0.001, 0.001, 0.001, 0.001]), Float32[15.27, 15.27]), AggNeighbor(Int32[0 0 … 0 0; 0 0 … 0 0; … ; 0 0 … 0 0; 0 0 … 0 0], Float32[0.0 0.0 … 0.0 0.0; 0.0 0.0 … 0.0 0.0; … ; 0.0 0.0 … 0.0 0.0; 0.0 0.0 … 0.0 0.0], Int32[0 0 … 0 0], Int32[0 0 … 0 0; 0 0 … 0 0; … ; 0 0 … 0 0; 0 0 … 0 0]), AggForce(Float32[0.0 0.0 0.0; 0.0 0.0 0.0; … ; 0.0 0.0 0.0; 0.0 0.0 0.0], Float32[0.0 0.0 … 0.0 0.0], Float32[0.0 0.0 0.0; 0.0 0.0 0.0; … ; 0.0 0.0 0.0; 0.0 0.0 0.0], Float32[0.0 0.0 0.0; 0.0 0.0 0.0; … ; 0.0 0.0 0.0; 0.0 0.0 0.0])))"
      ]
     },
     "execution_count": 3,
     "metadata": {},
     "output_type": "execute_result"
    }
   ],
   "source": [
    "agg = nothing\n",
    "# @time @start_agg FusionAGG = FusionAggregate(\n",
    "@time agg = FusionAggregate(\n",
    "    [\n",
    "        AggType(\n",
    "            \"HEK_1\", \n",
    "            InteractionPar(\n",
    "                Cubic(0.01,2.0,3.0), \n",
    "                ContractilePar(0.001)\n",
    "            ),\n",
    "            Float64.(readdlm(\"../../data/init/Sphere/15.0.xyz\")[3:end,2:end]) |> cu\n",
    "        ),\n",
    "        AggType(\n",
    "            \"HEK_2\", \n",
    "            InteractionPar(\n",
    "                Cubic(0.01,2.0,3.0), \n",
    "                ContractilePar(0.001)\n",
    "            ),\n",
    "            Float64.(readdlm(\"../../data/init/Sphere/15.0.xyz\")[3:end,2:end]) |> cu\n",
    "        )\n",
    "    ], \n",
    "    model\n",
    ")\n",
    "# show_aggregates(agg)"
   ]
  },
  {
   "attachments": {},
   "cell_type": "markdown",
   "metadata": {},
   "source": [
    "# kNN"
   ]
  },
  {
   "cell_type": "code",
   "execution_count": 4,
   "metadata": {},
   "outputs": [
    {
     "name": "stdout",
     "output_type": "stream",
     "text": [
      "------------------------ SIZE ------------------------\n",
      "------------------------ IDX -------------------------\n"
     ]
    },
    {
     "data": {
      "text/plain": [
       "1000×5008 CuArray{Int32, 2, CUDA.Mem.DeviceBuffer}:\n",
       " 36  37  38  41  42  43  44  45  57  …  4965  4966  4967  4972  4973  4974\n",
       "  6   7   8  49   1   2   3   3  58     5006  5007  5008  5002  5003  5004\n",
       "  5   6   7  50  50   1   2  53  15     5007  5008  4959  5003  5004  5005\n",
       " 42  43  44   5  51  51  52  54  10     4958  4959  4960  4965  4966  4967\n",
       " 43  44  45  10   6  52  53   7  49     4957  4958  5004  4964  4965  4966\n",
       "  2   3   2   9   4   7   8  14   4  …  5002  5003  4999  5007  5006  5007\n",
       " 35   1  37  40  11   5   6  13  66     5004  5005  5000  4973  5008  4975\n",
       " 37  36  39  42  10  12  13  44  50     4997  4998  4966  4971  4972  4973\n",
       " 51  38  53  58  41  11  12  46  48     4998  4999  4968  4957  4974  4959\n",
       "  0  52   0   0  43  42  43  62   0     4964  4965  4951     0  4958     0\n",
       "  0   0   0   0  59  44  45   0   0  …  4966  4967     0     0     0     0\n",
       "  0   0   0   0   0  60  61   0   0     4949  4950     0     0     0     0\n",
       "  0   0   0   0   0   0   0   0   0        0     0     0     0     0     0\n",
       "  ⋮                   ⋮              ⋱                       ⋮        \n",
       "  0   0   0   0   0   0   0   0   0        0     0     0     0     0     0\n",
       "  0   0   0   0   0   0   0   0   0        0     0     0     0     0     0\n",
       "  0   0   0   0   0   0   0   0   0  …     0     0     0     0     0     0\n",
       "  0   0   0   0   0   0   0   0   0        0     0     0     0     0     0\n",
       "  0   0   0   0   0   0   0   0   0        0     0     0     0     0     0\n",
       "  0   0   0   0   0   0   0   0   0        0     0     0     0     0     0\n",
       "  0   0   0   0   0   0   0   0   0        0     0     0     0     0     0\n",
       "  0   0   0   0   0   0   0   0   0  …     0     0     0     0     0     0\n",
       "  0   0   0   0   0   0   0   0   0        0     0     0     0     0     0\n",
       "  0   0   0   0   0   0   0   0   0        0     0     0     0     0     0\n",
       "  0   0   0   0   0   0   0   0   0        0     0     0     0     0     0\n",
       "  0   0   0   0   0   0   0   0   0        0     0     0     0     0     0"
      ]
     },
     "metadata": {},
     "output_type": "display_data"
    }
   ],
   "source": [
    "include(\"../../src/neighbor.jl\")\n",
    "println(\"------------------------ SIZE ------------------------\")\n",
    "threads=(100)\n",
    "@cuda(\n",
    "    threads=threads,\n",
    "    blocks=cld.(size(agg.Position,1),threads),\n",
    "    dist_kernel!(\n",
    "        agg.Simulation.Neighbor.idx_red,\n",
    "        agg.Simulation.Neighbor.idx_cont,\n",
    "        agg.Simulation.Neighbor.idx_sum,\n",
    "        agg.Simulation.Neighbor.dist,\n",
    "        agg.Position,\n",
    "        agg.Simulation.Parameter.Force.rₘₐₓ\n",
    "    )\n",
    ")   \n",
    "\n",
    "println(\"------------------------ IDX -------------------------\")\n",
    "display(agg.Simulation.Neighbor.idx_red)"
   ]
  },
  {
   "attachments": {},
   "cell_type": "markdown",
   "metadata": {},
   "source": [
    "# Force"
   ]
  },
  {
   "attachments": {},
   "cell_type": "markdown",
   "metadata": {},
   "source": [
    "## Function"
   ]
  },
  {
   "cell_type": "code",
   "execution_count": 5,
   "metadata": {},
   "outputs": [],
   "source": [
    "# N_i = zeros(1,size(agg.Position,1)) |> cu"
   ]
  },
  {
   "cell_type": "code",
   "execution_count": 18,
   "metadata": {},
   "outputs": [
    {
     "data": {
      "image/png": "[encoded data removed]",
      "image/svg+xml": [
       "<?xml version=\"1.0\" encoding=\"utf-8\"?>\n",
       "<svg xmlns=\"http://www.w3.org/2000/svg\" xmlns:xlink=\"http://www.w3.org/1999/xlink\" width=\"600\" height=\"400\" viewBox=\"0 0 2400 1600\">\n",
       "<defs>\n",
       "  <clipPath id=\"clip520\">\n",
       "    <rect x=\"0\" y=\"0\" width=\"2400\" height=\"1600\"/>\n",
       "  </clipPath>\n",
       "</defs>\n",
       "<path clip-path=\"url(#clip520)\" d=\"M0 1600 L2400 1600 L2400 0 L0 0  Z\" fill=\"#ffffff\" fill-rule=\"evenodd\" fill-opacity=\"1\"/>\n",
       "<defs>\n",
       "  <clipPath id=\"clip521\">\n",
       "    <rect x=\"480\" y=\"0\" width=\"1681\" height=\"1600\"/>\n",
       "  </clipPath>\n",
       "</defs>\n",
       "<path clip-path=\"url(#clip520)\" d=\"M201.019 1486.45 L2352.76 1486.45 L2352.76 47.2441 L201.019 47.2441  Z\" fill=\"#ffffff\" fill-rule=\"evenodd\" fill-opacity=\"1\"/>\n",
       "<defs>\n",
       "  <clipPath id=\"clip522\">\n",
       "    <rect x=\"201\" y=\"47\" width=\"2153\" height=\"1440\"/>\n",
       "  </clipPath>\n",
       "</defs>\n",
       "<polyline clip-path=\"url(#clip522)\" style=\"stroke:#000000; stroke-linecap:round; stroke-linejoin:round; stroke-width:2; stroke-opacity:0.1; fill:none\" points=\"261.917,1486.45 261.917,47.2441 \"/>\n",
       "<polyline clip-path=\"url(#clip522)\" style=\"stroke:#000000; stroke-linecap:round; stroke-linejoin:round; stroke-width:2; stroke-opacity:0.1; fill:none\" points=\"841.9,1486.45 841.9,47.2441 \"/>\n",
       "<polyline clip-path=\"url(#clip522)\" style=\"stroke:#000000; stroke-linecap:round; stroke-linejoin:round; stroke-width:2; stroke-opacity:0.1; fill:none\" points=\"1421.88,1486.45 1421.88,47.2441 \"/>\n",
       "<polyline clip-path=\"url(#clip522)\" style=\"stroke:#000000; stroke-linecap:round; stroke-linejoin:round; stroke-width:2; stroke-opacity:0.1; fill:none\" points=\"2001.87,1486.45 2001.87,47.2441 \"/>\n",
       "<polyline clip-path=\"url(#clip520)\" style=\"stroke:#000000; stroke-linecap:round; stroke-linejoin:round; stroke-width:4; stroke-opacity:1; fill:none\" points=\"201.019,1486.45 2352.76,1486.45 \"/>\n",
       "<polyline clip-path=\"url(#clip520)\" style=\"stroke:#000000; stroke-linecap:round; stroke-linejoin:round; stroke-width:4; stroke-opacity:1; fill:none\" points=\"261.917,1486.45 261.917,1467.55 \"/>\n",
       "<polyline clip-path=\"url(#clip520)\" style=\"stroke:#000000; stroke-linecap:round; stroke-linejoin:round; stroke-width:4; stroke-opacity:1; fill:none\" points=\"841.9,1486.45 841.9,1467.55 \"/>\n",
       "<polyline clip-path=\"url(#clip520)\" style=\"stroke:#000000; stroke-linecap:round; stroke-linejoin:round; stroke-width:4; stroke-opacity:1; fill:none\" points=\"1421.88,1486.45 1421.88,1467.55 \"/>\n",
       "<polyline clip-path=\"url(#clip520)\" style=\"stroke:#000000; stroke-linecap:round; stroke-linejoin:round; stroke-width:4; stroke-opacity:1; fill:none\" points=\"2001.87,1486.45 2001.87,1467.55 \"/>\n",
       "<path clip-path=\"url(#clip520)\" d=\"M261.917 1517.37 Q258.306 1517.37 256.478 1520.93 Q254.672 1524.47 254.672 1531.6 Q254.672 1538.71 256.478 1542.27 Q258.306 1545.82 261.917 1545.82 Q265.552 1545.82 267.357 1542.27 Q269.186 1538.71 269.186 1531.6 Q269.186 1524.47 267.357 1520.93 Q265.552 1517.37 261.917 1517.37 M261.917 1513.66 Q267.728 1513.66 270.783 1518.27 Q273.862 1522.85 273.862 1531.6 Q273.862 1540.33 270.783 1544.94 Q267.728 1549.52 261.917 1549.52 Q256.107 1549.52 253.029 1544.94 Q249.973 1540.33 249.973 1531.6 Q249.973 1522.85 253.029 1518.27 Q256.107 1513.66 261.917 1513.66 Z\" fill=\"#000000\" fill-rule=\"nonzero\" fill-opacity=\"1\" /><path clip-path=\"url(#clip520)\" d=\"M836.553 1544.91 L852.873 1544.91 L852.873 1548.85 L830.928 1548.85 L830.928 1544.91 Q833.59 1542.16 838.174 1537.53 Q842.78 1532.88 843.961 1531.53 Q846.206 1529.01 847.086 1527.27 Q847.988 1525.51 847.988 1523.82 Q847.988 1521.07 846.044 1519.33 Q844.123 1517.6 841.021 1517.6 Q838.822 1517.6 836.368 1518.36 Q833.937 1519.13 831.16 1520.68 L831.16 1515.95 Q833.984 1514.82 836.437 1514.24 Q838.891 1513.66 840.928 1513.66 Q846.299 1513.66 849.493 1516.35 Q852.687 1519.03 852.687 1523.52 Q852.687 1525.65 851.877 1527.57 Q851.09 1529.47 848.984 1532.07 Q848.405 1532.74 845.303 1535.95 Q842.201 1539.15 836.553 1544.91 Z\" fill=\"#000000\" fill-rule=\"nonzero\" fill-opacity=\"1\" /><path clip-path=\"url(#clip520)\" d=\"M1424.89 1518.36 L1413.09 1536.81 L1424.89 1536.81 L1424.89 1518.36 M1423.67 1514.29 L1429.55 1514.29 L1429.55 1536.81 L1434.48 1536.81 L1434.48 1540.7 L1429.55 1540.7 L1429.55 1548.85 L1424.89 1548.85 L1424.89 1540.7 L1409.29 1540.7 L1409.29 1536.19 L1423.67 1514.29 Z\" fill=\"#000000\" fill-rule=\"nonzero\" fill-opacity=\"1\" /><path clip-path=\"url(#clip520)\" d=\"M2002.27 1529.7 Q1999.12 1529.7 1997.27 1531.86 Q1995.44 1534.01 1995.44 1537.76 Q1995.44 1541.49 1997.27 1543.66 Q1999.12 1545.82 2002.27 1545.82 Q2005.42 1545.82 2007.25 1543.66 Q2009.1 1541.49 2009.1 1537.76 Q2009.1 1534.01 2007.25 1531.86 Q2005.42 1529.7 2002.27 1529.7 M2011.55 1515.05 L2011.55 1519.31 Q2009.79 1518.48 2007.99 1518.04 Q2006.21 1517.6 2004.45 1517.6 Q1999.82 1517.6 1997.36 1520.72 Q1994.93 1523.85 1994.59 1530.17 Q1995.95 1528.15 1998.01 1527.09 Q2000.07 1526 2002.55 1526 Q2007.76 1526 2010.77 1529.17 Q2013.8 1532.32 2013.8 1537.76 Q2013.8 1543.08 2010.65 1546.3 Q2007.5 1549.52 2002.27 1549.52 Q1996.28 1549.52 1993.1 1544.94 Q1989.93 1540.33 1989.93 1531.6 Q1989.93 1523.41 1993.82 1518.55 Q1997.71 1513.66 2004.26 1513.66 Q2006.02 1513.66 2007.8 1514.01 Q2009.61 1514.36 2011.55 1515.05 Z\" fill=\"#000000\" fill-rule=\"nonzero\" fill-opacity=\"1\" /><polyline clip-path=\"url(#clip522)\" style=\"stroke:#000000; stroke-linecap:round; stroke-linejoin:round; stroke-width:2; stroke-opacity:0.1; fill:none\" points=\"201.019,1446.31 2352.76,1446.31 \"/>\n",
       "<polyline clip-path=\"url(#clip522)\" style=\"stroke:#000000; stroke-linecap:round; stroke-linejoin:round; stroke-width:2; stroke-opacity:0.1; fill:none\" points=\"201.019,1150.37 2352.76,1150.37 \"/>\n",
       "<polyline clip-path=\"url(#clip522)\" style=\"stroke:#000000; stroke-linecap:round; stroke-linejoin:round; stroke-width:2; stroke-opacity:0.1; fill:none\" points=\"201.019,854.442 2352.76,854.442 \"/>\n",
       "<polyline clip-path=\"url(#clip522)\" style=\"stroke:#000000; stroke-linecap:round; stroke-linejoin:round; stroke-width:2; stroke-opacity:0.1; fill:none\" points=\"201.019,558.509 2352.76,558.509 \"/>\n",
       "<polyline clip-path=\"url(#clip522)\" style=\"stroke:#000000; stroke-linecap:round; stroke-linejoin:round; stroke-width:2; stroke-opacity:0.1; fill:none\" points=\"201.019,262.577 2352.76,262.577 \"/>\n",
       "<polyline clip-path=\"url(#clip520)\" style=\"stroke:#000000; stroke-linecap:round; stroke-linejoin:round; stroke-width:4; stroke-opacity:1; fill:none\" points=\"201.019,1486.45 201.019,47.2441 \"/>\n",
       "<polyline clip-path=\"url(#clip520)\" style=\"stroke:#000000; stroke-linecap:round; stroke-linejoin:round; stroke-width:4; stroke-opacity:1; fill:none\" points=\"201.019,1446.31 219.917,1446.31 \"/>\n",
       "<polyline clip-path=\"url(#clip520)\" style=\"stroke:#000000; stroke-linecap:round; stroke-linejoin:round; stroke-width:4; stroke-opacity:1; fill:none\" points=\"201.019,1150.37 219.917,1150.37 \"/>\n",
       "<polyline clip-path=\"url(#clip520)\" style=\"stroke:#000000; stroke-linecap:round; stroke-linejoin:round; stroke-width:4; stroke-opacity:1; fill:none\" points=\"201.019,854.442 219.917,854.442 \"/>\n",
       "<polyline clip-path=\"url(#clip520)\" style=\"stroke:#000000; stroke-linecap:round; stroke-linejoin:round; stroke-width:4; stroke-opacity:1; fill:none\" points=\"201.019,558.509 219.917,558.509 \"/>\n",
       "<polyline clip-path=\"url(#clip520)\" style=\"stroke:#000000; stroke-linecap:round; stroke-linejoin:round; stroke-width:4; stroke-opacity:1; fill:none\" points=\"201.019,262.577 219.917,262.577 \"/>\n",
       "<path clip-path=\"url(#clip520)\" d=\"M153.075 1432.11 Q149.464 1432.11 147.635 1435.67 Q145.83 1439.21 145.83 1446.34 Q145.83 1453.45 147.635 1457.01 Q149.464 1460.56 153.075 1460.56 Q156.709 1460.56 158.515 1457.01 Q160.343 1453.45 160.343 1446.34 Q160.343 1439.21 158.515 1435.67 Q156.709 1432.11 153.075 1432.11 M153.075 1428.4 Q158.885 1428.4 161.941 1433.01 Q165.019 1437.59 165.019 1446.34 Q165.019 1455.07 161.941 1459.68 Q158.885 1464.26 153.075 1464.26 Q147.265 1464.26 144.186 1459.68 Q141.131 1455.07 141.131 1446.34 Q141.131 1437.59 144.186 1433.01 Q147.265 1428.4 153.075 1428.4 Z\" fill=\"#000000\" fill-rule=\"nonzero\" fill-opacity=\"1\" /><path clip-path=\"url(#clip520)\" d=\"M82.7975 1133.09 L101.154 1133.09 L101.154 1137.03 L87.0799 1137.03 L87.0799 1145.5 Q88.0984 1145.15 89.1169 1144.99 Q90.1354 1144.81 91.1539 1144.81 Q96.941 1144.81 100.321 1147.98 Q103.7 1151.15 103.7 1156.57 Q103.7 1162.15 100.228 1165.25 Q96.7558 1168.33 90.4364 1168.33 Q88.2604 1168.33 85.9919 1167.96 Q83.7466 1167.59 81.3392 1166.84 L81.3392 1162.15 Q83.4225 1163.28 85.6447 1163.84 Q87.8669 1164.39 90.3438 1164.39 Q94.3484 1164.39 96.6863 1162.28 Q99.0243 1160.18 99.0243 1156.57 Q99.0243 1152.96 96.6863 1150.85 Q94.3484 1148.74 90.3438 1148.74 Q88.4688 1148.74 86.5938 1149.16 Q84.7419 1149.58 82.7975 1150.46 L82.7975 1133.09 Z\" fill=\"#000000\" fill-rule=\"nonzero\" fill-opacity=\"1\" /><path clip-path=\"url(#clip520)\" d=\"M122.913 1136.17 Q119.302 1136.17 117.473 1139.74 Q115.668 1143.28 115.668 1150.41 Q115.668 1157.52 117.473 1161.08 Q119.302 1164.62 122.913 1164.62 Q126.547 1164.62 128.353 1161.08 Q130.182 1157.52 130.182 1150.41 Q130.182 1143.28 128.353 1139.74 Q126.547 1136.17 122.913 1136.17 M122.913 1132.47 Q128.723 1132.47 131.779 1137.08 Q134.857 1141.66 134.857 1150.41 Q134.857 1159.14 131.779 1163.74 Q128.723 1168.33 122.913 1168.33 Q117.103 1168.33 114.024 1163.74 Q110.969 1159.14 110.969 1150.41 Q110.969 1141.66 114.024 1137.08 Q117.103 1132.47 122.913 1132.47 Z\" fill=\"#000000\" fill-rule=\"nonzero\" fill-opacity=\"1\" /><path clip-path=\"url(#clip520)\" d=\"M153.075 1136.17 Q149.464 1136.17 147.635 1139.74 Q145.83 1143.28 145.83 1150.41 Q145.83 1157.52 147.635 1161.08 Q149.464 1164.62 153.075 1164.62 Q156.709 1164.62 158.515 1161.08 Q160.343 1157.52 160.343 1150.41 Q160.343 1143.28 158.515 1139.74 Q156.709 1136.17 153.075 1136.17 M153.075 1132.47 Q158.885 1132.47 161.941 1137.08 Q165.019 1141.66 165.019 1150.41 Q165.019 1159.14 161.941 1163.74 Q158.885 1168.33 153.075 1168.33 Q147.265 1168.33 144.186 1163.74 Q141.131 1159.14 141.131 1150.41 Q141.131 1141.66 144.186 1137.08 Q147.265 1132.47 153.075 1132.47 Z\" fill=\"#000000\" fill-rule=\"nonzero\" fill-opacity=\"1\" /><path clip-path=\"url(#clip520)\" d=\"M53.3995 867.787 L61.0384 867.787 L61.0384 841.421 L52.7282 843.088 L52.7282 838.829 L60.9921 837.162 L65.668 837.162 L65.668 867.787 L73.3068 867.787 L73.3068 871.722 L53.3995 871.722 L53.3995 867.787 Z\" fill=\"#000000\" fill-rule=\"nonzero\" fill-opacity=\"1\" /><path clip-path=\"url(#clip520)\" d=\"M92.7512 840.241 Q89.1401 840.241 87.3114 843.806 Q85.5058 847.347 85.5058 854.477 Q85.5058 861.583 87.3114 865.148 Q89.1401 868.69 92.7512 868.69 Q96.3854 868.69 98.1909 865.148 Q100.02 861.583 100.02 854.477 Q100.02 847.347 98.1909 843.806 Q96.3854 840.241 92.7512 840.241 M92.7512 836.537 Q98.5613 836.537 101.617 841.144 Q104.696 845.727 104.696 854.477 Q104.696 863.204 101.617 867.81 Q98.5613 872.393 92.7512 872.393 Q86.941 872.393 83.8623 867.81 Q80.8068 863.204 80.8068 854.477 Q80.8068 845.727 83.8623 841.144 Q86.941 836.537 92.7512 836.537 Z\" fill=\"#000000\" fill-rule=\"nonzero\" fill-opacity=\"1\" /><path clip-path=\"url(#clip520)\" d=\"M122.913 840.241 Q119.302 840.241 117.473 843.806 Q115.668 847.347 115.668 854.477 Q115.668 861.583 117.473 865.148 Q119.302 868.69 122.913 868.69 Q126.547 868.69 128.353 865.148 Q130.182 861.583 130.182 854.477 Q130.182 847.347 128.353 843.806 Q126.547 840.241 122.913 840.241 M122.913 836.537 Q128.723 836.537 131.779 841.144 Q134.857 845.727 134.857 854.477 Q134.857 863.204 131.779 867.81 Q128.723 872.393 122.913 872.393 Q117.103 872.393 114.024 867.81 Q110.969 863.204 110.969 854.477 Q110.969 845.727 114.024 841.144 Q117.103 836.537 122.913 836.537 Z\" fill=\"#000000\" fill-rule=\"nonzero\" fill-opacity=\"1\" /><path clip-path=\"url(#clip520)\" d=\"M153.075 840.241 Q149.464 840.241 147.635 843.806 Q145.83 847.347 145.83 854.477 Q145.83 861.583 147.635 865.148 Q149.464 868.69 153.075 868.69 Q156.709 868.69 158.515 865.148 Q160.343 861.583 160.343 854.477 Q160.343 847.347 158.515 843.806 Q156.709 840.241 153.075 840.241 M153.075 836.537 Q158.885 836.537 161.941 841.144 Q165.019 845.727 165.019 854.477 Q165.019 863.204 161.941 867.81 Q158.885 872.393 153.075 872.393 Q147.265 872.393 144.186 867.81 Q141.131 863.204 141.131 854.477 Q141.131 845.727 144.186 841.144 Q147.265 836.537 153.075 836.537 Z\" fill=\"#000000\" fill-rule=\"nonzero\" fill-opacity=\"1\" /><path clip-path=\"url(#clip520)\" d=\"M53.3995 571.854 L61.0384 571.854 L61.0384 545.489 L52.7282 547.155 L52.7282 542.896 L60.9921 541.229 L65.668 541.229 L65.668 571.854 L73.3068 571.854 L73.3068 575.789 L53.3995 575.789 L53.3995 571.854 Z\" fill=\"#000000\" fill-rule=\"nonzero\" fill-opacity=\"1\" /><path clip-path=\"url(#clip520)\" d=\"M82.7975 541.229 L101.154 541.229 L101.154 545.164 L87.0799 545.164 L87.0799 553.637 Q88.0984 553.289 89.1169 553.127 Q90.1354 552.942 91.1539 552.942 Q96.941 552.942 100.321 556.114 Q103.7 559.285 103.7 564.701 Q103.7 570.28 100.228 573.382 Q96.7558 576.461 90.4364 576.461 Q88.2604 576.461 85.9919 576.09 Q83.7466 575.72 81.3392 574.979 L81.3392 570.28 Q83.4225 571.414 85.6447 571.97 Q87.8669 572.525 90.3438 572.525 Q94.3484 572.525 96.6863 570.419 Q99.0243 568.313 99.0243 564.701 Q99.0243 561.09 96.6863 558.984 Q94.3484 556.877 90.3438 556.877 Q88.4688 556.877 86.5938 557.294 Q84.7419 557.711 82.7975 558.59 L82.7975 541.229 Z\" fill=\"#000000\" fill-rule=\"nonzero\" fill-opacity=\"1\" /><path clip-path=\"url(#clip520)\" d=\"M122.913 544.308 Q119.302 544.308 117.473 547.873 Q115.668 551.414 115.668 558.544 Q115.668 565.651 117.473 569.215 Q119.302 572.757 122.913 572.757 Q126.547 572.757 128.353 569.215 Q130.182 565.651 130.182 558.544 Q130.182 551.414 128.353 547.873 Q126.547 544.308 122.913 544.308 M122.913 540.604 Q128.723 540.604 131.779 545.211 Q134.857 549.794 134.857 558.544 Q134.857 567.271 131.779 571.877 Q128.723 576.461 122.913 576.461 Q117.103 576.461 114.024 571.877 Q110.969 567.271 110.969 558.544 Q110.969 549.794 114.024 545.211 Q117.103 540.604 122.913 540.604 Z\" fill=\"#000000\" fill-rule=\"nonzero\" fill-opacity=\"1\" /><path clip-path=\"url(#clip520)\" d=\"M153.075 544.308 Q149.464 544.308 147.635 547.873 Q145.83 551.414 145.83 558.544 Q145.83 565.651 147.635 569.215 Q149.464 572.757 153.075 572.757 Q156.709 572.757 158.515 569.215 Q160.343 565.651 160.343 558.544 Q160.343 551.414 158.515 547.873 Q156.709 544.308 153.075 544.308 M153.075 540.604 Q158.885 540.604 161.941 545.211 Q165.019 549.794 165.019 558.544 Q165.019 567.271 161.941 571.877 Q158.885 576.461 153.075 576.461 Q147.265 576.461 144.186 571.877 Q141.131 567.271 141.131 558.544 Q141.131 549.794 144.186 545.211 Q147.265 540.604 153.075 540.604 Z\" fill=\"#000000\" fill-rule=\"nonzero\" fill-opacity=\"1\" /><path clip-path=\"url(#clip520)\" d=\"M56.6171 275.921 L72.9365 275.921 L72.9365 279.857 L50.9921 279.857 L50.9921 275.921 Q53.6541 273.167 58.2375 268.537 Q62.8439 263.884 64.0245 262.542 Q66.2698 260.019 67.1494 258.283 Q68.0522 256.523 68.0522 254.834 Q68.0522 252.079 66.1078 250.343 Q64.1865 248.607 61.0847 248.607 Q58.8856 248.607 56.4319 249.371 Q54.0014 250.135 51.2236 251.685 L51.2236 246.963 Q54.0477 245.829 56.5014 245.25 Q58.955 244.672 60.9921 244.672 Q66.3624 244.672 69.5568 247.357 Q72.7513 250.042 72.7513 254.533 Q72.7513 256.662 71.9411 258.584 Q71.1541 260.482 69.0476 263.074 Q68.4689 263.746 65.367 266.963 Q62.2652 270.158 56.6171 275.921 Z\" fill=\"#000000\" fill-rule=\"nonzero\" fill-opacity=\"1\" /><path clip-path=\"url(#clip520)\" d=\"M92.7512 248.375 Q89.1401 248.375 87.3114 251.94 Q85.5058 255.482 85.5058 262.611 Q85.5058 269.718 87.3114 273.283 Q89.1401 276.824 92.7512 276.824 Q96.3854 276.824 98.1909 273.283 Q100.02 269.718 100.02 262.611 Q100.02 255.482 98.1909 251.94 Q96.3854 248.375 92.7512 248.375 M92.7512 244.672 Q98.5613 244.672 101.617 249.278 Q104.696 253.861 104.696 262.611 Q104.696 271.338 101.617 275.945 Q98.5613 280.528 92.7512 280.528 Q86.941 280.528 83.8623 275.945 Q80.8068 271.338 80.8068 262.611 Q80.8068 253.861 83.8623 249.278 Q86.941 244.672 92.7512 244.672 Z\" fill=\"#000000\" fill-rule=\"nonzero\" fill-opacity=\"1\" /><path clip-path=\"url(#clip520)\" d=\"M122.913 248.375 Q119.302 248.375 117.473 251.94 Q115.668 255.482 115.668 262.611 Q115.668 269.718 117.473 273.283 Q119.302 276.824 122.913 276.824 Q126.547 276.824 128.353 273.283 Q130.182 269.718 130.182 262.611 Q130.182 255.482 128.353 251.94 Q126.547 248.375 122.913 248.375 M122.913 244.672 Q128.723 244.672 131.779 249.278 Q134.857 253.861 134.857 262.611 Q134.857 271.338 131.779 275.945 Q128.723 280.528 122.913 280.528 Q117.103 280.528 114.024 275.945 Q110.969 271.338 110.969 262.611 Q110.969 253.861 114.024 249.278 Q117.103 244.672 122.913 244.672 Z\" fill=\"#000000\" fill-rule=\"nonzero\" fill-opacity=\"1\" /><path clip-path=\"url(#clip520)\" d=\"M153.075 248.375 Q149.464 248.375 147.635 251.94 Q145.83 255.482 145.83 262.611 Q145.83 269.718 147.635 273.283 Q149.464 276.824 153.075 276.824 Q156.709 276.824 158.515 273.283 Q160.343 269.718 160.343 262.611 Q160.343 255.482 158.515 251.94 Q156.709 248.375 153.075 248.375 M153.075 244.672 Q158.885 244.672 161.941 249.278 Q165.019 253.861 165.019 262.611 Q165.019 271.338 161.941 275.945 Q158.885 280.528 153.075 280.528 Q147.265 280.528 144.186 275.945 Q141.131 271.338 141.131 262.611 Q141.131 253.861 144.186 249.278 Q147.265 244.672 153.075 244.672 Z\" fill=\"#000000\" fill-rule=\"nonzero\" fill-opacity=\"1\" /><polyline clip-path=\"url(#clip522)\" style=\"stroke:#009af9; stroke-linecap:round; stroke-linejoin:round; stroke-width:4; stroke-opacity:1; fill:none\" points=\"261.917,87.9763 551.909,421.788 841.9,1051.53 1131.89,1311.36 1421.88,1406.65 1711.87,1435.65 2001.87,1445.72 2291.86,1445.72 \"/>\n",
       "<path clip-path=\"url(#clip520)\" d=\"M2013.43 198.898 L2281.03 198.898 L2281.03 95.2176 L2013.43 95.2176  Z\" fill=\"#ffffff\" fill-rule=\"evenodd\" fill-opacity=\"1\"/>\n",
       "<polyline clip-path=\"url(#clip520)\" style=\"stroke:#000000; stroke-linecap:round; stroke-linejoin:round; stroke-width:4; stroke-opacity:1; fill:none\" points=\"2013.43,198.898 2281.03,198.898 2281.03,95.2176 2013.43,95.2176 2013.43,198.898 \"/>\n",
       "<polyline clip-path=\"url(#clip520)\" style=\"stroke:#009af9; stroke-linecap:round; stroke-linejoin:round; stroke-width:4; stroke-opacity:1; fill:none\" points=\"2037.34,147.058 2180.78,147.058 \"/>\n",
       "<path clip-path=\"url(#clip520)\" d=\"M2218.54 166.745 Q2216.73 171.375 2215.02 172.787 Q2213.3 174.199 2210.43 174.199 L2207.03 174.199 L2207.03 170.634 L2209.53 170.634 Q2211.29 170.634 2212.26 169.8 Q2213.23 168.967 2214.42 165.865 L2215.18 163.921 L2204.69 138.412 L2209.21 138.412 L2217.31 158.689 L2225.41 138.412 L2229.92 138.412 L2218.54 166.745 Z\" fill=\"#000000\" fill-rule=\"nonzero\" fill-opacity=\"1\" /><path clip-path=\"url(#clip520)\" d=\"M2237.22 160.402 L2244.85 160.402 L2244.85 134.037 L2236.54 135.703 L2236.54 131.444 L2244.81 129.778 L2249.48 129.778 L2249.48 160.402 L2257.12 160.402 L2257.12 164.338 L2237.22 164.338 L2237.22 160.402 Z\" fill=\"#000000\" fill-rule=\"nonzero\" fill-opacity=\"1\" /></svg>\n"
      ],
      "text/html": [
       "<?xml version=\"1.0\" encoding=\"utf-8\"?>\n",
       "<svg xmlns=\"http://www.w3.org/2000/svg\" xmlns:xlink=\"http://www.w3.org/1999/xlink\" width=\"600\" height=\"400\" viewBox=\"0 0 2400 1600\">\n",
       "<defs>\n",
       "  <clipPath id=\"clip570\">\n",
       "    <rect x=\"0\" y=\"0\" width=\"2400\" height=\"1600\"/>\n",
       "  </clipPath>\n",
       "</defs>\n",
       "<path clip-path=\"url(#clip570)\" d=\"M0 1600 L2400 1600 L2400 0 L0 0  Z\" fill=\"#ffffff\" fill-rule=\"evenodd\" fill-opacity=\"1\"/>\n",
       "<defs>\n",
       "  <clipPath id=\"clip571\">\n",
       "    <rect x=\"480\" y=\"0\" width=\"1681\" height=\"1600\"/>\n",
       "  </clipPath>\n",
       "</defs>\n",
       "<path clip-path=\"url(#clip570)\" d=\"M201.019 1486.45 L2352.76 1486.45 L2352.76 47.2441 L201.019 47.2441  Z\" fill=\"#ffffff\" fill-rule=\"evenodd\" fill-opacity=\"1\"/>\n",
       "<defs>\n",
       "  <clipPath id=\"clip572\">\n",
       "    <rect x=\"201\" y=\"47\" width=\"2153\" height=\"1440\"/>\n",
       "  </clipPath>\n",
       "</defs>\n",
       "<polyline clip-path=\"url(#clip572)\" style=\"stroke:#000000; stroke-linecap:round; stroke-linejoin:round; stroke-width:2; stroke-opacity:0.1; fill:none\" points=\"261.917,1486.45 261.917,47.2441 \"/>\n",
       "<polyline clip-path=\"url(#clip572)\" style=\"stroke:#000000; stroke-linecap:round; stroke-linejoin:round; stroke-width:2; stroke-opacity:0.1; fill:none\" points=\"841.9,1486.45 841.9,47.2441 \"/>\n",
       "<polyline clip-path=\"url(#clip572)\" style=\"stroke:#000000; stroke-linecap:round; stroke-linejoin:round; stroke-width:2; stroke-opacity:0.1; fill:none\" points=\"1421.88,1486.45 1421.88,47.2441 \"/>\n",
       "<polyline clip-path=\"url(#clip572)\" style=\"stroke:#000000; stroke-linecap:round; stroke-linejoin:round; stroke-width:2; stroke-opacity:0.1; fill:none\" points=\"2001.87,1486.45 2001.87,47.2441 \"/>\n",
       "<polyline clip-path=\"url(#clip570)\" style=\"stroke:#000000; stroke-linecap:round; stroke-linejoin:round; stroke-width:4; stroke-opacity:1; fill:none\" points=\"201.019,1486.45 2352.76,1486.45 \"/>\n",
       "<polyline clip-path=\"url(#clip570)\" style=\"stroke:#000000; stroke-linecap:round; stroke-linejoin:round; stroke-width:4; stroke-opacity:1; fill:none\" points=\"261.917,1486.45 261.917,1467.55 \"/>\n",
       "<polyline clip-path=\"url(#clip570)\" style=\"stroke:#000000; stroke-linecap:round; stroke-linejoin:round; stroke-width:4; stroke-opacity:1; fill:none\" points=\"841.9,1486.45 841.9,1467.55 \"/>\n",
       "<polyline clip-path=\"url(#clip570)\" style=\"stroke:#000000; stroke-linecap:round; stroke-linejoin:round; stroke-width:4; stroke-opacity:1; fill:none\" points=\"1421.88,1486.45 1421.88,1467.55 \"/>\n",
       "<polyline clip-path=\"url(#clip570)\" style=\"stroke:#000000; stroke-linecap:round; stroke-linejoin:round; stroke-width:4; stroke-opacity:1; fill:none\" points=\"2001.87,1486.45 2001.87,1467.55 \"/>\n",
       "<path clip-path=\"url(#clip570)\" d=\"M261.917 1517.37 Q258.306 1517.37 256.478 1520.93 Q254.672 1524.47 254.672 1531.6 Q254.672 1538.71 256.478 1542.27 Q258.306 1545.82 261.917 1545.82 Q265.552 1545.82 267.357 1542.27 Q269.186 1538.71 269.186 1531.6 Q269.186 1524.47 267.357 1520.93 Q265.552 1517.37 261.917 1517.37 M261.917 1513.66 Q267.728 1513.66 270.783 1518.27 Q273.862 1522.85 273.862 1531.6 Q273.862 1540.33 270.783 1544.94 Q267.728 1549.52 261.917 1549.52 Q256.107 1549.52 253.029 1544.94 Q249.973 1540.33 249.973 1531.6 Q249.973 1522.85 253.029 1518.27 Q256.107 1513.66 261.917 1513.66 Z\" fill=\"#000000\" fill-rule=\"nonzero\" fill-opacity=\"1\" /><path clip-path=\"url(#clip570)\" d=\"M836.553 1544.91 L852.873 1544.91 L852.873 1548.85 L830.928 1548.85 L830.928 1544.91 Q833.59 1542.16 838.174 1537.53 Q842.78 1532.88 843.961 1531.53 Q846.206 1529.01 847.086 1527.27 Q847.988 1525.51 847.988 1523.82 Q847.988 1521.07 846.044 1519.33 Q844.123 1517.6 841.021 1517.6 Q838.822 1517.6 836.368 1518.36 Q833.937 1519.13 831.16 1520.68 L831.16 1515.95 Q833.984 1514.82 836.437 1514.24 Q838.891 1513.66 840.928 1513.66 Q846.299 1513.66 849.493 1516.35 Q852.687 1519.03 852.687 1523.52 Q852.687 1525.65 851.877 1527.57 Q851.09 1529.47 848.984 1532.07 Q848.405 1532.74 845.303 1535.95 Q842.201 1539.15 836.553 1544.91 Z\" fill=\"#000000\" fill-rule=\"nonzero\" fill-opacity=\"1\" /><path clip-path=\"url(#clip570)\" d=\"M1424.89 1518.36 L1413.09 1536.81 L1424.89 1536.81 L1424.89 1518.36 M1423.67 1514.29 L1429.55 1514.29 L1429.55 1536.81 L1434.48 1536.81 L1434.48 1540.7 L1429.55 1540.7 L1429.55 1548.85 L1424.89 1548.85 L1424.89 1540.7 L1409.29 1540.7 L1409.29 1536.19 L1423.67 1514.29 Z\" fill=\"#000000\" fill-rule=\"nonzero\" fill-opacity=\"1\" /><path clip-path=\"url(#clip570)\" d=\"M2002.27 1529.7 Q1999.12 1529.7 1997.27 1531.86 Q1995.44 1534.01 1995.44 1537.76 Q1995.44 1541.49 1997.27 1543.66 Q1999.12 1545.82 2002.27 1545.82 Q2005.42 1545.82 2007.25 1543.66 Q2009.1 1541.49 2009.1 1537.76 Q2009.1 1534.01 2007.25 1531.86 Q2005.42 1529.7 2002.27 1529.7 M2011.55 1515.05 L2011.55 1519.31 Q2009.79 1518.48 2007.99 1518.04 Q2006.21 1517.6 2004.45 1517.6 Q1999.82 1517.6 1997.36 1520.72 Q1994.93 1523.85 1994.59 1530.17 Q1995.95 1528.15 1998.01 1527.09 Q2000.07 1526 2002.55 1526 Q2007.76 1526 2010.77 1529.17 Q2013.8 1532.32 2013.8 1537.76 Q2013.8 1543.08 2010.65 1546.3 Q2007.5 1549.52 2002.27 1549.52 Q1996.28 1549.52 1993.1 1544.94 Q1989.93 1540.33 1989.93 1531.6 Q1989.93 1523.41 1993.82 1518.55 Q1997.71 1513.66 2004.26 1513.66 Q2006.02 1513.66 2007.8 1514.01 Q2009.61 1514.36 2011.55 1515.05 Z\" fill=\"#000000\" fill-rule=\"nonzero\" fill-opacity=\"1\" /><polyline clip-path=\"url(#clip572)\" style=\"stroke:#000000; stroke-linecap:round; stroke-linejoin:round; stroke-width:2; stroke-opacity:0.1; fill:none\" points=\"201.019,1446.31 2352.76,1446.31 \"/>\n",
       "<polyline clip-path=\"url(#clip572)\" style=\"stroke:#000000; stroke-linecap:round; stroke-linejoin:round; stroke-width:2; stroke-opacity:0.1; fill:none\" points=\"201.019,1150.37 2352.76,1150.37 \"/>\n",
       "<polyline clip-path=\"url(#clip572)\" style=\"stroke:#000000; stroke-linecap:round; stroke-linejoin:round; stroke-width:2; stroke-opacity:0.1; fill:none\" points=\"201.019,854.442 2352.76,854.442 \"/>\n",
       "<polyline clip-path=\"url(#clip572)\" style=\"stroke:#000000; stroke-linecap:round; stroke-linejoin:round; stroke-width:2; stroke-opacity:0.1; fill:none\" points=\"201.019,558.509 2352.76,558.509 \"/>\n",
       "<polyline clip-path=\"url(#clip572)\" style=\"stroke:#000000; stroke-linecap:round; stroke-linejoin:round; stroke-width:2; stroke-opacity:0.1; fill:none\" points=\"201.019,262.577 2352.76,262.577 \"/>\n",
       "<polyline clip-path=\"url(#clip570)\" style=\"stroke:#000000; stroke-linecap:round; stroke-linejoin:round; stroke-width:4; stroke-opacity:1; fill:none\" points=\"201.019,1486.45 201.019,47.2441 \"/>\n",
       "<polyline clip-path=\"url(#clip570)\" style=\"stroke:#000000; stroke-linecap:round; stroke-linejoin:round; stroke-width:4; stroke-opacity:1; fill:none\" points=\"201.019,1446.31 219.917,1446.31 \"/>\n",
       "<polyline clip-path=\"url(#clip570)\" style=\"stroke:#000000; stroke-linecap:round; stroke-linejoin:round; stroke-width:4; stroke-opacity:1; fill:none\" points=\"201.019,1150.37 219.917,1150.37 \"/>\n",
       "<polyline clip-path=\"url(#clip570)\" style=\"stroke:#000000; stroke-linecap:round; stroke-linejoin:round; stroke-width:4; stroke-opacity:1; fill:none\" points=\"201.019,854.442 219.917,854.442 \"/>\n",
       "<polyline clip-path=\"url(#clip570)\" style=\"stroke:#000000; stroke-linecap:round; stroke-linejoin:round; stroke-width:4; stroke-opacity:1; fill:none\" points=\"201.019,558.509 219.917,558.509 \"/>\n",
       "<polyline clip-path=\"url(#clip570)\" style=\"stroke:#000000; stroke-linecap:round; stroke-linejoin:round; stroke-width:4; stroke-opacity:1; fill:none\" points=\"201.019,262.577 219.917,262.577 \"/>\n",
       "<path clip-path=\"url(#clip570)\" d=\"M153.075 1432.11 Q149.464 1432.11 147.635 1435.67 Q145.83 1439.21 145.83 1446.34 Q145.83 1453.45 147.635 1457.01 Q149.464 1460.56 153.075 1460.56 Q156.709 1460.56 158.515 1457.01 Q160.343 1453.45 160.343 1446.34 Q160.343 1439.21 158.515 1435.67 Q156.709 1432.11 153.075 1432.11 M153.075 1428.4 Q158.885 1428.4 161.941 1433.01 Q165.019 1437.59 165.019 1446.34 Q165.019 1455.07 161.941 1459.68 Q158.885 1464.26 153.075 1464.26 Q147.265 1464.26 144.186 1459.68 Q141.131 1455.07 141.131 1446.34 Q141.131 1437.59 144.186 1433.01 Q147.265 1428.4 153.075 1428.4 Z\" fill=\"#000000\" fill-rule=\"nonzero\" fill-opacity=\"1\" /><path clip-path=\"url(#clip570)\" d=\"M82.7975 1133.09 L101.154 1133.09 L101.154 1137.03 L87.0799 1137.03 L87.0799 1145.5 Q88.0984 1145.15 89.1169 1144.99 Q90.1354 1144.81 91.1539 1144.81 Q96.941 1144.81 100.321 1147.98 Q103.7 1151.15 103.7 1156.57 Q103.7 1162.15 100.228 1165.25 Q96.7558 1168.33 90.4364 1168.33 Q88.2604 1168.33 85.9919 1167.96 Q83.7466 1167.59 81.3392 1166.84 L81.3392 1162.15 Q83.4225 1163.28 85.6447 1163.84 Q87.8669 1164.39 90.3438 1164.39 Q94.3484 1164.39 96.6863 1162.28 Q99.0243 1160.18 99.0243 1156.57 Q99.0243 1152.96 96.6863 1150.85 Q94.3484 1148.74 90.3438 1148.74 Q88.4688 1148.74 86.5938 1149.16 Q84.7419 1149.58 82.7975 1150.46 L82.7975 1133.09 Z\" fill=\"#000000\" fill-rule=\"nonzero\" fill-opacity=\"1\" /><path clip-path=\"url(#clip570)\" d=\"M122.913 1136.17 Q119.302 1136.17 117.473 1139.74 Q115.668 1143.28 115.668 1150.41 Q115.668 1157.52 117.473 1161.08 Q119.302 1164.62 122.913 1164.62 Q126.547 1164.62 128.353 1161.08 Q130.182 1157.52 130.182 1150.41 Q130.182 1143.28 128.353 1139.74 Q126.547 1136.17 122.913 1136.17 M122.913 1132.47 Q128.723 1132.47 131.779 1137.08 Q134.857 1141.66 134.857 1150.41 Q134.857 1159.14 131.779 1163.74 Q128.723 1168.33 122.913 1168.33 Q117.103 1168.33 114.024 1163.74 Q110.969 1159.14 110.969 1150.41 Q110.969 1141.66 114.024 1137.08 Q117.103 1132.47 122.913 1132.47 Z\" fill=\"#000000\" fill-rule=\"nonzero\" fill-opacity=\"1\" /><path clip-path=\"url(#clip570)\" d=\"M153.075 1136.17 Q149.464 1136.17 147.635 1139.74 Q145.83 1143.28 145.83 1150.41 Q145.83 1157.52 147.635 1161.08 Q149.464 1164.62 153.075 1164.62 Q156.709 1164.62 158.515 1161.08 Q160.343 1157.52 160.343 1150.41 Q160.343 1143.28 158.515 1139.74 Q156.709 1136.17 153.075 1136.17 M153.075 1132.47 Q158.885 1132.47 161.941 1137.08 Q165.019 1141.66 165.019 1150.41 Q165.019 1159.14 161.941 1163.74 Q158.885 1168.33 153.075 1168.33 Q147.265 1168.33 144.186 1163.74 Q141.131 1159.14 141.131 1150.41 Q141.131 1141.66 144.186 1137.08 Q147.265 1132.47 153.075 1132.47 Z\" fill=\"#000000\" fill-rule=\"nonzero\" fill-opacity=\"1\" /><path clip-path=\"url(#clip570)\" d=\"M53.3995 867.787 L61.0384 867.787 L61.0384 841.421 L52.7282 843.088 L52.7282 838.829 L60.9921 837.162 L65.668 837.162 L65.668 867.787 L73.3068 867.787 L73.3068 871.722 L53.3995 871.722 L53.3995 867.787 Z\" fill=\"#000000\" fill-rule=\"nonzero\" fill-opacity=\"1\" /><path clip-path=\"url(#clip570)\" d=\"M92.7512 840.241 Q89.1401 840.241 87.3114 843.806 Q85.5058 847.347 85.5058 854.477 Q85.5058 861.583 87.3114 865.148 Q89.1401 868.69 92.7512 868.69 Q96.3854 868.69 98.1909 865.148 Q100.02 861.583 100.02 854.477 Q100.02 847.347 98.1909 843.806 Q96.3854 840.241 92.7512 840.241 M92.7512 836.537 Q98.5613 836.537 101.617 841.144 Q104.696 845.727 104.696 854.477 Q104.696 863.204 101.617 867.81 Q98.5613 872.393 92.7512 872.393 Q86.941 872.393 83.8623 867.81 Q80.8068 863.204 80.8068 854.477 Q80.8068 845.727 83.8623 841.144 Q86.941 836.537 92.7512 836.537 Z\" fill=\"#000000\" fill-rule=\"nonzero\" fill-opacity=\"1\" /><path clip-path=\"url(#clip570)\" d=\"M122.913 840.241 Q119.302 840.241 117.473 843.806 Q115.668 847.347 115.668 854.477 Q115.668 861.583 117.473 865.148 Q119.302 868.69 122.913 868.69 Q126.547 868.69 128.353 865.148 Q130.182 861.583 130.182 854.477 Q130.182 847.347 128.353 843.806 Q126.547 840.241 122.913 840.241 M122.913 836.537 Q128.723 836.537 131.779 841.144 Q134.857 845.727 134.857 854.477 Q134.857 863.204 131.779 867.81 Q128.723 872.393 122.913 872.393 Q117.103 872.393 114.024 867.81 Q110.969 863.204 110.969 854.477 Q110.969 845.727 114.024 841.144 Q117.103 836.537 122.913 836.537 Z\" fill=\"#000000\" fill-rule=\"nonzero\" fill-opacity=\"1\" /><path clip-path=\"url(#clip570)\" d=\"M153.075 840.241 Q149.464 840.241 147.635 843.806 Q145.83 847.347 145.83 854.477 Q145.83 861.583 147.635 865.148 Q149.464 868.69 153.075 868.69 Q156.709 868.69 158.515 865.148 Q160.343 861.583 160.343 854.477 Q160.343 847.347 158.515 843.806 Q156.709 840.241 153.075 840.241 M153.075 836.537 Q158.885 836.537 161.941 841.144 Q165.019 845.727 165.019 854.477 Q165.019 863.204 161.941 867.81 Q158.885 872.393 153.075 872.393 Q147.265 872.393 144.186 867.81 Q141.131 863.204 141.131 854.477 Q141.131 845.727 144.186 841.144 Q147.265 836.537 153.075 836.537 Z\" fill=\"#000000\" fill-rule=\"nonzero\" fill-opacity=\"1\" /><path clip-path=\"url(#clip570)\" d=\"M53.3995 571.854 L61.0384 571.854 L61.0384 545.489 L52.7282 547.155 L52.7282 542.896 L60.9921 541.229 L65.668 541.229 L65.668 571.854 L73.3068 571.854 L73.3068 575.789 L53.3995 575.789 L53.3995 571.854 Z\" fill=\"#000000\" fill-rule=\"nonzero\" fill-opacity=\"1\" /><path clip-path=\"url(#clip570)\" d=\"M82.7975 541.229 L101.154 541.229 L101.154 545.164 L87.0799 545.164 L87.0799 553.637 Q88.0984 553.289 89.1169 553.127 Q90.1354 552.942 91.1539 552.942 Q96.941 552.942 100.321 556.114 Q103.7 559.285 103.7 564.701 Q103.7 570.28 100.228 573.382 Q96.7558 576.461 90.4364 576.461 Q88.2604 576.461 85.9919 576.09 Q83.7466 575.72 81.3392 574.979 L81.3392 570.28 Q83.4225 571.414 85.6447 571.97 Q87.8669 572.525 90.3438 572.525 Q94.3484 572.525 96.6863 570.419 Q99.0243 568.313 99.0243 564.701 Q99.0243 561.09 96.6863 558.984 Q94.3484 556.877 90.3438 556.877 Q88.4688 556.877 86.5938 557.294 Q84.7419 557.711 82.7975 558.59 L82.7975 541.229 Z\" fill=\"#000000\" fill-rule=\"nonzero\" fill-opacity=\"1\" /><path clip-path=\"url(#clip570)\" d=\"M122.913 544.308 Q119.302 544.308 117.473 547.873 Q115.668 551.414 115.668 558.544 Q115.668 565.651 117.473 569.215 Q119.302 572.757 122.913 572.757 Q126.547 572.757 128.353 569.215 Q130.182 565.651 130.182 558.544 Q130.182 551.414 128.353 547.873 Q126.547 544.308 122.913 544.308 M122.913 540.604 Q128.723 540.604 131.779 545.211 Q134.857 549.794 134.857 558.544 Q134.857 567.271 131.779 571.877 Q128.723 576.461 122.913 576.461 Q117.103 576.461 114.024 571.877 Q110.969 567.271 110.969 558.544 Q110.969 549.794 114.024 545.211 Q117.103 540.604 122.913 540.604 Z\" fill=\"#000000\" fill-rule=\"nonzero\" fill-opacity=\"1\" /><path clip-path=\"url(#clip570)\" d=\"M153.075 544.308 Q149.464 544.308 147.635 547.873 Q145.83 551.414 145.83 558.544 Q145.83 565.651 147.635 569.215 Q149.464 572.757 153.075 572.757 Q156.709 572.757 158.515 569.215 Q160.343 565.651 160.343 558.544 Q160.343 551.414 158.515 547.873 Q156.709 544.308 153.075 544.308 M153.075 540.604 Q158.885 540.604 161.941 545.211 Q165.019 549.794 165.019 558.544 Q165.019 567.271 161.941 571.877 Q158.885 576.461 153.075 576.461 Q147.265 576.461 144.186 571.877 Q141.131 567.271 141.131 558.544 Q141.131 549.794 144.186 545.211 Q147.265 540.604 153.075 540.604 Z\" fill=\"#000000\" fill-rule=\"nonzero\" fill-opacity=\"1\" /><path clip-path=\"url(#clip570)\" d=\"M56.6171 275.921 L72.9365 275.921 L72.9365 279.857 L50.9921 279.857 L50.9921 275.921 Q53.6541 273.167 58.2375 268.537 Q62.8439 263.884 64.0245 262.542 Q66.2698 260.019 67.1494 258.283 Q68.0522 256.523 68.0522 254.834 Q68.0522 252.079 66.1078 250.343 Q64.1865 248.607 61.0847 248.607 Q58.8856 248.607 56.4319 249.371 Q54.0014 250.135 51.2236 251.685 L51.2236 246.963 Q54.0477 245.829 56.5014 245.25 Q58.955 244.672 60.9921 244.672 Q66.3624 244.672 69.5568 247.357 Q72.7513 250.042 72.7513 254.533 Q72.7513 256.662 71.9411 258.584 Q71.1541 260.482 69.0476 263.074 Q68.4689 263.746 65.367 266.963 Q62.2652 270.158 56.6171 275.921 Z\" fill=\"#000000\" fill-rule=\"nonzero\" fill-opacity=\"1\" /><path clip-path=\"url(#clip570)\" d=\"M92.7512 248.375 Q89.1401 248.375 87.3114 251.94 Q85.5058 255.482 85.5058 262.611 Q85.5058 269.718 87.3114 273.283 Q89.1401 276.824 92.7512 276.824 Q96.3854 276.824 98.1909 273.283 Q100.02 269.718 100.02 262.611 Q100.02 255.482 98.1909 251.94 Q96.3854 248.375 92.7512 248.375 M92.7512 244.672 Q98.5613 244.672 101.617 249.278 Q104.696 253.861 104.696 262.611 Q104.696 271.338 101.617 275.945 Q98.5613 280.528 92.7512 280.528 Q86.941 280.528 83.8623 275.945 Q80.8068 271.338 80.8068 262.611 Q80.8068 253.861 83.8623 249.278 Q86.941 244.672 92.7512 244.672 Z\" fill=\"#000000\" fill-rule=\"nonzero\" fill-opacity=\"1\" /><path clip-path=\"url(#clip570)\" d=\"M122.913 248.375 Q119.302 248.375 117.473 251.94 Q115.668 255.482 115.668 262.611 Q115.668 269.718 117.473 273.283 Q119.302 276.824 122.913 276.824 Q126.547 276.824 128.353 273.283 Q130.182 269.718 130.182 262.611 Q130.182 255.482 128.353 251.94 Q126.547 248.375 122.913 248.375 M122.913 244.672 Q128.723 244.672 131.779 249.278 Q134.857 253.861 134.857 262.611 Q134.857 271.338 131.779 275.945 Q128.723 280.528 122.913 280.528 Q117.103 280.528 114.024 275.945 Q110.969 271.338 110.969 262.611 Q110.969 253.861 114.024 249.278 Q117.103 244.672 122.913 244.672 Z\" fill=\"#000000\" fill-rule=\"nonzero\" fill-opacity=\"1\" /><path clip-path=\"url(#clip570)\" d=\"M153.075 248.375 Q149.464 248.375 147.635 251.94 Q145.83 255.482 145.83 262.611 Q145.83 269.718 147.635 273.283 Q149.464 276.824 153.075 276.824 Q156.709 276.824 158.515 273.283 Q160.343 269.718 160.343 262.611 Q160.343 255.482 158.515 251.94 Q156.709 248.375 153.075 248.375 M153.075 244.672 Q158.885 244.672 161.941 249.278 Q165.019 253.861 165.019 262.611 Q165.019 271.338 161.941 275.945 Q158.885 280.528 153.075 280.528 Q147.265 280.528 144.186 275.945 Q141.131 271.338 141.131 262.611 Q141.131 253.861 144.186 249.278 Q147.265 244.672 153.075 244.672 Z\" fill=\"#000000\" fill-rule=\"nonzero\" fill-opacity=\"1\" /><polyline clip-path=\"url(#clip572)\" style=\"stroke:#009af9; stroke-linecap:round; stroke-linejoin:round; stroke-width:4; stroke-opacity:1; fill:none\" points=\"261.917,87.9763 551.909,421.788 841.9,1051.53 1131.89,1311.36 1421.88,1406.65 1711.87,1435.65 2001.87,1445.72 2291.86,1445.72 \"/>\n",
       "<path clip-path=\"url(#clip570)\" d=\"M2013.43 198.898 L2281.03 198.898 L2281.03 95.2176 L2013.43 95.2176  Z\" fill=\"#ffffff\" fill-rule=\"evenodd\" fill-opacity=\"1\"/>\n",
       "<polyline clip-path=\"url(#clip570)\" style=\"stroke:#000000; stroke-linecap:round; stroke-linejoin:round; stroke-width:4; stroke-opacity:1; fill:none\" points=\"2013.43,198.898 2281.03,198.898 2281.03,95.2176 2013.43,95.2176 2013.43,198.898 \"/>\n",
       "<polyline clip-path=\"url(#clip570)\" style=\"stroke:#009af9; stroke-linecap:round; stroke-linejoin:round; stroke-width:4; stroke-opacity:1; fill:none\" points=\"2037.34,147.058 2180.78,147.058 \"/>\n",
       "<path clip-path=\"url(#clip570)\" d=\"M2218.54 166.745 Q2216.73 171.375 2215.02 172.787 Q2213.3 174.199 2210.43 174.199 L2207.03 174.199 L2207.03 170.634 L2209.53 170.634 Q2211.29 170.634 2212.26 169.8 Q2213.23 168.967 2214.42 165.865 L2215.18 163.921 L2204.69 138.412 L2209.21 138.412 L2217.31 158.689 L2225.41 138.412 L2229.92 138.412 L2218.54 166.745 Z\" fill=\"#000000\" fill-rule=\"nonzero\" fill-opacity=\"1\" /><path clip-path=\"url(#clip570)\" d=\"M2237.22 160.402 L2244.85 160.402 L2244.85 134.037 L2236.54 135.703 L2236.54 131.444 L2244.81 129.778 L2249.48 129.778 L2249.48 160.402 L2257.12 160.402 L2257.12 164.338 L2237.22 164.338 L2237.22 160.402 Z\" fill=\"#000000\" fill-rule=\"nonzero\" fill-opacity=\"1\" /></svg>\n"
      ]
     },
     "execution_count": 18,
     "metadata": {},
     "output_type": "execute_result"
    }
   ],
   "source": [
    "include(\"../../src/forces/forces.jl\")\n",
    "\n",
    "threads=(64,3)\n",
    "@cuda(\n",
    "    threads = threads,\n",
    "    blocks = cld.(size(agg.Position,),threads),\n",
    "    shmem=prod(threads.+2)*sizeof(Float32),\n",
    "    sum_force!(\n",
    "        agg.Position,\n",
    "        agg.Simulation.Force.F,\n",
    "        agg.Simulation.Force.Pol,\n",
    "        agg.Simulation.Force.N_i,\n",
    "        agg.Simulation.Neighbor.idx_sum,\n",
    "        agg.Simulation.Neighbor.idx_red,\n",
    "        agg.Simulation.Parameter.Force,\n",
    "        agg.Simulation.Parameter.Contractile.fₚ,\n",
    "        atan(1),\n",
    "        pi/4,\n",
    "        model.Time.dt\n",
    "    )\n",
    ")\n",
    "\n",
    "# sum(agg.Simulation.Force.Pol.^2, dims=2)\n",
    "# # display(sum(.!(0.0 .< agg.Simulation.Force.Pol .< 1.0),dims=1))\n",
    "\n",
    "# # display(agg.Simulation.Force.F)\n",
    "# # display(agg.Position)\n",
    "# # display(agg.Position)\n",
    "\n",
    "open(\"Pol.xyz\", \"w\") do f\n",
    "    write(f, \"$(size(agg.Simulation.Force.Pol, 1))\\n\")\n",
    "    write(f, \"t=0\\n\")\n",
    "    writedlm(f,hcat(agg.Geometry.outline,Matrix(agg.Simulation.Force.Pol)), ' ')\n",
    "end\n",
    "\n",
    "open(\"Force.xyz\", \"w\") do f\n",
    "    write(f, \"$(size(agg.Simulation.Force.F, 1))\\n\")\n",
    "    write(f, \"t=0\\n\")\n",
    "    writedlm(f,hcat(agg.Geometry.outline,Matrix(agg.Simulation.Force.F)), ' ')\n",
    "end\n",
    "\n",
    "\n",
    "using Plots\n",
    "\n",
    "M = 0\n",
    "FOMO = Matrix(agg.Simulation.Force.F)[:,1]\n",
    "for i=unique(FOMO)\n",
    "    if i == 0\n",
    "        global M = [i sum(FOMO .== i)]\n",
    "    else\n",
    "        global M = vcat(M, [i sum(FOMO .== i)])\n",
    "    end \n",
    "end\n",
    "\n",
    "plot(M[:,1],M[:,2])"
   ]
  },
  {
   "cell_type": "code",
   "execution_count": 20,
   "metadata": {},
   "outputs": [
    {
     "data": {
      "text/plain": [
       "0.9887710779360422"
      ]
     },
     "execution_count": 20,
     "metadata": {},
     "output_type": "execute_result"
    }
   ],
   "source": [
    "cos(0.15)"
   ]
  },
  {
   "cell_type": "code",
   "execution_count": 19,
   "metadata": {},
   "outputs": [
    {
     "data": {
      "text/plain": [
       "8×2 Matrix{Float32}:\n",
       " 0.0  2295.0\n",
       " 1.0  1731.0\n",
       " 2.0   667.0\n",
       " 3.0   228.0\n",
       " 4.0    67.0\n",
       " 5.0    18.0\n",
       " 6.0     1.0\n",
       " 7.0     1.0"
      ]
     },
     "execution_count": 19,
     "metadata": {},
     "output_type": "execute_result"
    }
   ],
   "source": [
    "M"
   ]
  }
 ],
 "metadata": {
  "kernelspec": {
   "display_name": "Julia 1.9.1",
   "language": "julia",
   "name": "julia-1.9"
  },
  "language_info": {
   "file_extension": ".jl",
   "mimetype": "application/julia",
   "name": "julia",
   "version": "1.9.1"
  },
  "orig_nbformat": 4
 },
 "nbformat": 4,
 "nbformat_minor": 2
}
