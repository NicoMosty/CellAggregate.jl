{
 "cells": [
  {
   "attachments": {},
   "cell_type": "markdown",
   "metadata": {},
   "source": [
    "# Dependences"
   ]
  },
  {
   "cell_type": "code",
   "execution_count": 2,
   "metadata": {},
   "outputs": [
    {
     "data": {
      "text/plain": [
       "nearest_neighbors (generic function with 1 method)"
      ]
     },
     "execution_count": 2,
     "metadata": {},
     "output_type": "execute_result"
    }
   ],
   "source": [
    "include(\"../../src/struct_data.jl\")\n",
    "include(\"../../src/neighbor.jl\")"
   ]
  },
  {
   "attachments": {},
   "cell_type": "markdown",
   "metadata": {},
   "source": [
    "# Model"
   ]
  },
  {
   "cell_type": "code",
   "execution_count": 3,
   "metadata": {},
   "outputs": [
    {
     "name": "stdout",
     "output_type": "stream",
     "text": [
      "  0.443035 seconds (548.44 k allocations: 34.783 MiB, 2.83% gc time, 88.72% compilation time)\n",
      "ModelSet\n",
      "  Time: TimeModel\n",
      "    tₛᵢₘ: Float64 10000.0\n",
      "    dt: Float64 0.5\n",
      "    nₖₙₙ: Int64 50\n",
      "    nₛₐᵥₑ: Int64 100\n",
      "  Input: InputModel\n",
      "    outer_ratio: Float64 0.8\n",
      "    path_input: String \"../../data/init/Sphere\"\n",
      "  ForceType: Array{Any}((2, 2))\n",
      "    1: Int64 1\n",
      "    2: Int64 2\n",
      "    3: UnionAll\n",
      "      var: TypeVar\n",
      "        name: Symbol T\n",
      "        lb: Union{}\n",
      "        ub: Any\n",
      "      body: Cubic{T} <: ForceType\n",
      "        μ₁::T\n",
      "        rₘᵢₙ::T\n",
      "        rₘₐₓ::T\n",
      "    4: UnionAll\n",
      "      var: TypeVar\n",
      "        name: Symbol T\n",
      "        lb: Union{}\n",
      "        ub: Any\n",
      "      body: LennardJones{T} <: ForceType\n",
      "        μ₁::T\n",
      "        rₘᵢₙ::T\n",
      "        rₘₐₓ::T\n"
     ]
    }
   ],
   "source": [
    "@make_struct_func Cubic\n",
    "@make_struct_func LennardJones\n",
    "\n",
    "@time Model = ModelSet(\n",
    "    TimeModel(\n",
    "        tₛᵢₘ  = 10000.0,\n",
    "        dt    = 0.5,\n",
    "        nₖₙₙ  = 50,\n",
    "        nₛₐᵥₑ = 100\n",
    "    ),\n",
    "    InputModel(\n",
    "        outer_ratio = 0.8,\n",
    "        path_input = \"../../data/init/Sphere\"\n",
    "    )\n",
    ")\n",
    "dump(Model)"
   ]
  },
  {
   "attachments": {},
   "cell_type": "markdown",
   "metadata": {},
   "source": [
    "# Aggregate"
   ]
  },
  {
   "cell_type": "code",
   "execution_count": 4,
   "metadata": {},
   "outputs": [
    {
     "name": "stdout",
     "output_type": "stream",
     "text": [
      "  7.526430 seconds (15.44 M allocations: 1.270 GiB, 3.68% gc time, 4.47% compilation time)\n",
      "========================= Type =======================\n"
     ]
    },
    {
     "data": {
      "text/plain": [
       "2-element Vector{AggType}:\n",
       " AggType(\"HEK_1\", InteractionPar(Cubic{Float64}(1.0, 2.0, 3.0), ContractilePar(0.01)), 15.27f0, Float32[-1.5 -4.62 -13.88; 0.5 -4.62 -13.88; … ; 0.5 4.62 13.88; 2.5 4.62 13.88], CuArray{Float32, 2, CUDA.Mem.DeviceBuffer})\n",
       " AggType(\"HEK_2\", InteractionPar(Cubic{Float64}(1.0, 2.0, 3.5), ContractilePar(0.02)), 15.27f0, Float32[-1.5 -4.62 -13.88; 0.5 -4.62 -13.88; … ; 0.5 4.62 13.88; 2.5 4.62 13.88], CuArray{Float32, 2, CUDA.Mem.DeviceBuffer})"
      ]
     },
     "metadata": {},
     "output_type": "display_data"
    },
    {
     "name": "stdout",
     "output_type": "stream",
     "text": [
      "======================   Index =======================\n",
      "Index of List of Aggregates\n"
     ]
    },
    {
     "data": {
      "text/plain": [
       "1×5008 CuArray{Int64, 2, CUDA.Mem.DeviceBuffer}:\n",
       " 1  1  1  1  1  1  1  1  1  1  1  1  1  …  2  2  2  2  2  2  2  2  2  2  2  2"
      ]
     },
     "metadata": {},
     "output_type": "display_data"
    },
    {
     "name": "stdout",
     "output_type": "stream",
     "text": [
      "Index of Number of Aggregates\n"
     ]
    },
    {
     "data": {
      "text/plain": [
       "1×5008 CuArray{Int64, 2, CUDA.Mem.DeviceBuffer}:\n",
       " 1  1  1  1  1  1  1  1  1  1  1  1  1  …  2  2  2  2  2  2  2  2  2  2  2  2"
      ]
     },
     "metadata": {},
     "output_type": "display_data"
    },
    {
     "name": "stdout",
     "output_type": "stream",
     "text": [
      "Index of Name of Aggregates\n"
     ]
    },
    {
     "data": {
      "text/plain": [
       "1×5008 Matrix{String}:\n",
       " \"HEK_1\"  \"HEK_1\"  \"HEK_1\"  \"HEK_1\"  …  \"HEK_2\"  \"HEK_2\"  \"HEK_2\"  \"HEK_2\""
      ]
     },
     "metadata": {},
     "output_type": "display_data"
    },
    {
     "name": "stdout",
     "output_type": "stream",
     "text": [
      "Index of ForceType of Aggregates\n"
     ]
    },
    {
     "data": {
      "text/plain": [
       "1×5008 CuArray{Int64, 2, CUDA.Mem.DeviceBuffer}:\n",
       " 1  1  1  1  1  1  1  1  1  1  1  1  1  …  1  1  1  1  1  1  1  1  1  1  1  1"
      ]
     },
     "metadata": {},
     "output_type": "display_data"
    },
    {
     "name": "stdout",
     "output_type": "stream",
     "text": [
      "====================== Position =====================\n"
     ]
    },
    {
     "data": {
      "text/plain": [
       "5008×3 CuArray{Float32, 2, CUDA.Mem.DeviceBuffer}:\n",
       " -16.77  -4.62  -13.88\n",
       " -14.77  -4.62  -13.88\n",
       " -12.77  -4.62  -13.88\n",
       " -19.77  -2.89  -13.88\n",
       " -17.77  -2.89  -13.88\n",
       " -15.77  -2.89  -13.88\n",
       " -13.77  -2.89  -13.88\n",
       " -11.77  -2.89  -13.88\n",
       " -20.77  -1.15  -13.88\n",
       " -18.77  -1.15  -13.88\n",
       " -16.77  -1.15  -13.88\n",
       " -14.77  -1.15  -13.88\n",
       " -12.77  -1.15  -13.88\n",
       "   ⋮            \n",
       "  13.77   1.15   13.88\n",
       "  15.77   1.15   13.88\n",
       "  17.77   1.15   13.88\n",
       "  19.77   1.15   13.88\n",
       "  10.77   2.89   13.88\n",
       "  12.77   2.89   13.88\n",
       "  14.77   2.89   13.88\n",
       "  16.77   2.89   13.88\n",
       "  18.77   2.89   13.88\n",
       "  13.77   4.62   13.88\n",
       "  15.77   4.62   13.88\n",
       "  17.77   4.62   13.88"
      ]
     },
     "metadata": {},
     "output_type": "display_data"
    },
    {
     "name": "stdout",
     "output_type": "stream",
     "text": [
      "======================== Geometry ===================\n",
      "Radius_agg\n"
     ]
    },
    {
     "data": {
      "text/plain": [
       "1×5008 Matrix{Float32}:\n",
       " 15.27  15.27  15.27  15.27  15.27  …  15.27  15.27  15.27  15.27  15.27"
      ]
     },
     "metadata": {},
     "output_type": "display_data"
    },
    {
     "name": "stdout",
     "output_type": "stream",
     "text": [
      "Outline\n"
     ]
    },
    {
     "data": {
      "text/plain": [
       "1×5008 Matrix{Int64}:\n",
       " 1  1  1  1  1  1  1  1  1  1  1  1  1  …  1  1  1  1  1  1  1  1  1  1  1  1"
      ]
     },
     "metadata": {},
     "output_type": "display_data"
    },
    {
     "name": "stdout",
     "output_type": "stream",
     "text": [
      "Outer/Total = 0.46325878594249204\n",
      "====================== Simulation ===================\n",
      "---------------------- Parameter --------------------\n",
      "rₘₐₓ\n"
     ]
    },
    {
     "data": {
      "text/plain": [
       "2-element CuArray{Float32, 1, CUDA.Mem.DeviceBuffer}:\n",
       " 3.0\n",
       " 3.5"
      ]
     },
     "metadata": {},
     "output_type": "display_data"
    },
    {
     "name": "stdout",
     "output_type": "stream",
     "text": [
      "Force\n"
     ]
    },
    {
     "data": {
      "text/plain": [
       "2×3 CuArray{Float32, 2, CUDA.Mem.DeviceBuffer}:\n",
       " 1.0  2.0  3.0\n",
       " 1.0  2.0  3.5"
      ]
     },
     "metadata": {},
     "output_type": "display_data"
    },
    {
     "name": "stdout",
     "output_type": "stream",
     "text": [
      "Contractile\n"
     ]
    },
    {
     "data": {
      "text/plain": [
       "2×1 CuArray{Float32, 2, CUDA.Mem.DeviceBuffer}:\n",
       " 0.01\n",
       " 0.02"
      ]
     },
     "metadata": {},
     "output_type": "display_data"
    },
    {
     "name": "stdout",
     "output_type": "stream",
     "text": [
      "Radius\n"
     ]
    },
    {
     "data": {
      "text/plain": [
       "2-element CuArray{Float32, 1, CUDA.Mem.DeviceBuffer}:\n",
       " 15.27\n",
       " 15.27"
      ]
     },
     "metadata": {},
     "output_type": "display_data"
    },
    {
     "name": "stdout",
     "output_type": "stream",
     "text": [
      "------------------ Neighbors Size -------------------\n",
      "idx      = (5008, 5008)\n",
      "idx_red  = (39, 5008)\n",
      "idx_sum  = (1, 5008)\n",
      "idx_cont = (50, 5008)\n",
      "------------------- Forces Size ---------------------\n",
      "dX       = (5008, 3)\n",
      "F        = (5008, 3)\n"
     ]
    }
   ],
   "source": [
    "FusionAGG = Nothing\n",
    "@time FusionAGG = FusionAggregate(\n",
    "    [\n",
    "        AggType(\n",
    "            \"HEK_1\", \n",
    "            InteractionPar(\n",
    "                Cubic(1.0,2.0,3.0), \n",
    "                ContractilePar(0.01)\n",
    "            ),\n",
    "            Float64.(readdlm(\"../../data/init/Sphere/15.0.xyz\")[3:end,2:end]) |> cu\n",
    "        ),\n",
    "        AggType(\n",
    "            \"HEK_2\", \n",
    "            InteractionPar(\n",
    "                Cubic(1.0,2.0,3.5), \n",
    "                ContractilePar(0.02)\n",
    "            ),\n",
    "            Float64.(readdlm(\"../../data/init/Sphere/15.0.xyz\")[3:end,2:end]) |> cu\n",
    "        )\n",
    "    ], \n",
    "    Model\n",
    ")\n",
    "show_aggregates(FusionAGG)"
   ]
  },
  {
   "attachments": {},
   "cell_type": "markdown",
   "metadata": {},
   "source": [
    "# kNN"
   ]
  },
  {
   "cell_type": "code",
   "execution_count": 5,
   "metadata": {},
   "outputs": [
    {
     "name": "stdout",
     "output_type": "stream",
     "text": [
      "------------------------ SIZE ------------------------\n",
      "r_max         = 3.0\n",
      "Size X        = (5008, 3)\n",
      "Size idx      = (5008, 5008)\n",
      "Size idx_real  = (5008, 5008)\n",
      "Size idx_sum   = (1, 5008)\n",
      "Size idx_red   = (39, 5008)\n",
      "Threads = (32, 32) | Blocks  = (157, 157)\n",
      "Threads = 256 | Blocks  = 20\n",
      "Threads = (32, 32) | Blocks  = (157, 157)\n",
      " 20.874853 seconds (31.21 M allocations: 1.773 GiB, 2.94% gc time, 17.35% compilation time)\n",
      "------------------------ IDX -------------------------\n",
      "idx\n"
     ]
    },
    {
     "data": {
      "text/plain": [
       "5008×5008 CuArray{Int64, 2, CUDA.Mem.DeviceBuffer}:\n",
       " 1  1  0   0   1   1   0   0   0   0  …     0     0     0     0     0     0\n",
       " 2  2  2   0   0   2   2   0   0   0        0     0     0     0     0     0\n",
       " 0  3  3   0   0   0   3   3   0   0        0     0     0     0     0     0\n",
       " 0  0  0   4   4   0   0   0   4   4        0     0     0     0     0     0\n",
       " 5  0  0   5   5   5   0   0   0   5        0     0     0     0     0     0\n",
       " 6  6  0   0   6   6   6   0   0   0  …     0     0     0     0     0     0\n",
       " 0  7  7   0   0   7   7   7   0   0        0     0     0     0     0     0\n",
       " 0  0  8   0   0   0   8   8   0   0        0     0     0     0     0     0\n",
       " 0  0  0   9   0   0   0   0   9   9        0     0     0     0     0     0\n",
       " 0  0  0  10  10   0   0   0  10  10        0     0     0     0     0     0\n",
       " 0  0  0   0  11  11   0   0   0  11  …     0     0     0     0     0     0\n",
       " 0  0  0   0   0  12  12   0   0   0        0     0     0     0     0     0\n",
       " 0  0  0   0   0   0  13  13   0   0        0     0     0     0     0     0\n",
       " ⋮                 ⋮                  ⋱                       ⋮        \n",
       " 0  0  0   0   0   0   0   0   0   0     4997  4997     0  4997     0     0\n",
       " 0  0  0   0   0   0   0   0   0   0     4998  4998  4998     0  4998     0\n",
       " 0  0  0   0   0   0   0   0   0   0     4999  4999  4999     0     0  4999\n",
       " 0  0  0   0   0   0   0   0   0   0        0  5000  5000     0     0     0\n",
       " 0  0  0   0   0   0   0   0   0   0  …     0     0     0  5001     0     0\n",
       " 0  0  0   0   0   0   0   0   0   0     5002     0     0  5002  5002     0\n",
       " 0  0  0   0   0   0   0   0   0   0     5003  5003     0  5003  5003  5003\n",
       " 0  0  0   0   0   0   0   0   0   0     5004  5004  5004  5004  5004  5004\n",
       " 0  0  0   0   0   0   0   0   0   0        0  5005  5005     0  5005  5005\n",
       " 0  0  0   0   0   0   0   0   0   0  …  5006  5006     0  5006  5006     0\n",
       " 0  0  0   0   0   0   0   0   0   0     5007  5007  5007  5007  5007  5007\n",
       " 0  0  0   0   0   0   0   0   0   0     5008  5008  5008     0  5008  5008"
      ]
     },
     "metadata": {},
     "output_type": "display_data"
    },
    {
     "name": "stdout",
     "output_type": "stream",
     "text": [
      "idx_red\n"
     ]
    },
    {
     "data": {
      "text/plain": [
       "39×5008 CuArray{Int64, 2, CUDA.Mem.DeviceBuffer}:\n",
       "  1   1   2   4   1   1   2   3   4  …  4877  4878  4879  4887  4888  4889\n",
       "  2   2   3   5   4   2   3   7   9     4948  4949  4950  4956  4957  4958\n",
       "  5   3   7   9   5   5   6   8  10     4949  4950  4951  4957  4958  4959\n",
       "  6   6   8  10   6   6   7  13  15     4950  4951  4952  4958  4959  4960\n",
       " 35   7  37  40  10   7   8  14  48     4956  4957  4958  4963  4964  4965\n",
       " 36  36  38  41  11  11  12  44  49  …  4957  4958  4959  4964  4965  4966\n",
       " 37  37  39  42  41  12  13  45  50     4958  4959  4960  4965  4966  4967\n",
       " 42  38  44  49  42  42  43  46  57     4959  4960  4961  4966  4967  4968\n",
       " 43  43  45  50  43  43  44  53  58     4964  4965  4966  4971  4972  4973\n",
       " 51  44  53  58  50  44  45  54  66     4965  4966  4967  4972  4973  4974\n",
       "  0  52   0   0  51  51  52  62   0  …  4966  4967  4968  4973  4974  4975\n",
       "  0   0   0   0  59  52  53   0   0     4972  4973  4974  4976  4977  4978\n",
       "  0   0   0   0   0  60  61   0   0     4973  4974  4975  4977  4978  4979\n",
       "  ⋮                   ⋮              ⋱                       ⋮        \n",
       "  0   0   0   0   0   0   0   0   0        0     0     0     0     0     0\n",
       "  0   0   0   0   0   0   0   0   0        0     0     0     0     0     0\n",
       "  0   0   0   0   0   0   0   0   0        0     0     0     0     0     0\n",
       "  0   0   0   0   0   0   0   0   0  …     0     0     0     0     0     0\n",
       "  0   0   0   0   0   0   0   0   0        0     0     0     0     0     0\n",
       "  0   0   0   0   0   0   0   0   0        0     0     0     0     0     0\n",
       "  0   0   0   0   0   0   0   0   0        0     0     0     0     0     0\n",
       "  0   0   0   0   0   0   0   0   0        0     0     0     0     0     0\n",
       "  0   0   0   0   0   0   0   0   0  …     0     0     0     0     0     0\n",
       "  0   0   0   0   0   0   0   0   0        0     0     0     0     0     0\n",
       "  0   0   0   0   0   0   0   0   0        0     0     0     0     0     0\n",
       "  0   0   0   0   0   0   0   0   0        0     0     0     0     0     0"
      ]
     },
     "metadata": {},
     "output_type": "display_data"
    },
    {
     "name": "stdout",
     "output_type": "stream",
     "text": [
      "idx_sum\n"
     ]
    },
    {
     "data": {
      "text/plain": [
       "1×5008 CuArray{Int64, 2, CUDA.Mem.DeviceBuffer}:\n",
       " 10  11  10  10  12  13  13  11  10  …  21  20  23  24  24  21  20  21  19"
      ]
     },
     "metadata": {},
     "output_type": "display_data"
    },
    {
     "name": "stdout",
     "output_type": "stream",
     "text": [
      "idx_cont\n"
     ]
    },
    {
     "data": {
      "text/plain": [
       "50×5008 CuArray{Int64, 2, CUDA.Mem.DeviceBuffer}:\n",
       " 37  43  44  10  50   7   7  14   4  …  5004  5006  4961  4956  4967  4959\n",
       " 51   1   8  10  10   5  43  44  10     4949  5005  4958  4972  5002  4960\n",
       "  2  52  44  41   1   5  43  46  50     4997  5005  4999  5002  5003  4975\n",
       "  6  52   2  42   4  11  44   8   9     5002  4973  4950  4887  5007  4968\n",
       " 51   6  44  10  51  44  44  62  48     5003  4950  5005  4958  4974  4978\n",
       "  2  36  45  40  51  60  43  62  10  …  4877  4974  4975  5003  4958  4973\n",
       "  6  44   7  49  51   6  44  44  48     5003  4998  4968  4973  4967  4967\n",
       "  5   3   7   4  42  60  12   3  66     4964  4958  4967  5003  4972  4978\n",
       "  5  36  38  42  11  60  45   7  49     4959  4966  4974  4972  4973  4889\n",
       " 37  38   3   5  42  42   3   8  50     4958  5003  4967  5006  4964  4965\n",
       "  1  43  38  41  50  43  53  54  58  …  4999  4966  4999  4964  5008  4979\n",
       "  1   3  45   4  11  11  45   7  49     4958  5000  4961  4977  4957  4966\n",
       " 36  38  37  42   4  52  61   8  49     4973  5000  4879  4965  4964  4889\n",
       "  ⋮                   ⋮              ⋱                       ⋮        \n",
       " 43   7  37   4   4  60  45  44  10     4964  4966  4974  5002  5003  5005\n",
       " 35   2  39   4  11  44  52   3  57     4991  4999  4951  4971  4958  4967\n",
       " 43   3  53   4  10  12  43  14  15  …  4997  5003  5004  4957  4967  4973\n",
       " 35   7   2  49  43  52   3  14  57     5003  4967  5004  5001  4964  4965\n",
       "  5   1  45   5  10  42  52  44  49     4957  4960  4879  4977  4974  4966\n",
       " 37   2  45  40  51  12  53  46  58     5003  4999  4966  4956  4978  4999\n",
       "  1   6   8  10  59  52   7  13   9     4956  5003  4960  5001  5003  4979\n",
       " 37   3   2  41  50  52   7  45  66  …  4991  4965  4967  4971  5004  4960\n",
       " 35  37  44  58  10   7   3  46  48     4965  5006  4966  4963  5008  4958\n",
       " 42   3   3  42  43  44   2  46  57     4957  5008  4998  4958  4978  4978\n",
       " 42   7   3  41   1  52  52  53  50     4950  5006  4950  4956  4957  4974\n",
       "  5   3   7  50   6  52   7  44  49     5007  4965  4879  5004  4958  4979"
      ]
     },
     "metadata": {},
     "output_type": "display_data"
    }
   ],
   "source": [
    "println(\"------------------------ SIZE ------------------------\")\n",
    "println(\"r_max         = $(FusionAGG.Type[1].Interaction.Force.rₘₐₓ)\")\n",
    "println(\"Size X        = $(size(FusionAGG.Position))\")\n",
    "println(\"Size idx      = $(size(FusionAGG.Simulation.Neighbor.idx))\")\n",
    "println(\"Size idx_real  = $(size(FusionAGG.Simulation.Neighbor.idx))\")\n",
    "println(\"Size idx_sum   = $(size(FusionAGG.Simulation.Neighbor.idx_sum))\")\n",
    "println(\"Size idx_red   = $(size(FusionAGG.Simulation.Neighbor.idx_red))\")\n",
    "@time nearest_neighbors(FusionAGG)\n",
    "println(\"------------------------ IDX -------------------------\")\n",
    "println(\"idx\")\n",
    "display(FusionAGG.Simulation.Neighbor.idx)\n",
    "println(\"idx_red\")\n",
    "display(FusionAGG.Simulation.Neighbor.idx_red)\n",
    "println(\"idx_sum\")\n",
    "display(FusionAGG.Simulation.Neighbor.idx_sum)\n",
    "println(\"idx_cont\")\n",
    "display(FusionAGG.Simulation.Neighbor.idx_cont)"
   ]
  },
  {
   "attachments": {},
   "cell_type": "markdown",
   "metadata": {},
   "source": [
    "# Force"
   ]
  },
  {
   "cell_type": "code",
   "execution_count": 6,
   "metadata": {},
   "outputs": [
    {
     "name": "stdout",
     "output_type": "stream",
     "text": [
      "rₘₐₓ\n"
     ]
    },
    {
     "data": {
      "text/plain": [
       "2-element CuArray{Float32, 1, CUDA.Mem.DeviceBuffer}:\n",
       " 3.0\n",
       " 3.5"
      ]
     },
     "metadata": {},
     "output_type": "display_data"
    },
    {
     "name": "stdout",
     "output_type": "stream",
     "text": [
      "Force\n"
     ]
    },
    {
     "data": {
      "text/plain": [
       "2×3 CuArray{Float32, 2, CUDA.Mem.DeviceBuffer}:\n",
       " 1.0  2.0  3.0\n",
       " 1.0  2.0  3.5"
      ]
     },
     "metadata": {},
     "output_type": "display_data"
    },
    {
     "name": "stdout",
     "output_type": "stream",
     "text": [
      "Contractile\n"
     ]
    },
    {
     "data": {
      "text/plain": [
       "2×1 CuArray{Float32, 2, CUDA.Mem.DeviceBuffer}:\n",
       " 0.01\n",
       " 0.02"
      ]
     },
     "metadata": {},
     "output_type": "display_data"
    },
    {
     "name": "stdout",
     "output_type": "stream",
     "text": [
      "Radius\n"
     ]
    },
    {
     "data": {
      "text/plain": [
       "2-element CuArray{Float32, 1, CUDA.Mem.DeviceBuffer}:\n",
       " 15.27\n",
       " 15.27"
      ]
     },
     "metadata": {},
     "output_type": "display_data"
    }
   ],
   "source": [
    "println(\"rₘₐₓ\")\n",
    "display(FusionAGG.Simulation.Parameter.rₘₐₓ)\n",
    "println(\"Force\")\n",
    "display(FusionAGG.Simulation.Parameter.Force)\n",
    "println(\"Contractile\")\n",
    "display(FusionAGG.Simulation.Parameter.Contractile)\n",
    "println(\"Radius\")\n",
    "display(FusionAGG.Simulation.Parameter.Radius)"
   ]
  },
  {
   "cell_type": "code",
   "execution_count": 87,
   "metadata": {},
   "outputs": [
    {
     "data": {
      "text/plain": [
       "sum_force! (generic function with 3 methods)"
      ]
     },
     "execution_count": 87,
     "metadata": {},
     "output_type": "execute_result"
    }
   ],
   "source": [
    "forc_f(type, param, dist) = force_func(type(param...),dist)\n",
    "function sum_force!(idx,idx_contractile,points,force,force_idx,A_con,t_knn,Param)\n",
    "    # Defining Index for kernel\n",
    "    i = (blockIdx().x - 1) * blockDim().x + threadIdx().x\n",
    "    k = (blockIdx().y - 1) * blockDim().y + threadIdx().y\n",
    "\n",
    "    # Limiting data inside matrix\n",
    "    if i <= size(points, 1) && k <= size(points, 2)\n",
    "\n",
    "        # Cleaning idx_sum\n",
    "        force[i,k] = 0\n",
    "        # dist = 0\n",
    "\n",
    "        # Iterate on each row\n",
    "        for j=1:size(idx,1)\n",
    "\n",
    "            # Finding forces\n",
    "            if idx[j,i] != i && idx[j,i] != 0\n",
    "                dist = euclidean(points,i,idx[j,i])\n",
    "                # force[i,k] +=force_func(forcetype(force_idx,Param...),dist) * (points[i,k]-points[idx[j,i],k]) / dist\n",
    "                force[i,k] += force_func(Cubic(1.0,2.0,3.0),dist)\n",
    "                \n",
    "            end\n",
    "            \n",
    "        end\n",
    "\n",
    "        # # Adding Contrractile Force\n",
    "        # if idx_contractile[t_knn,i] != i && idx_contractile[t_knn,i] != 0\n",
    "        #     dist = euclidean(points,i,idx_contractile[t_knn,i])\n",
    "        #     force[i,k] += A_con*(points[i,k]-points[idx_contractile[t_knn,i],k])/dist\n",
    "        # end\n",
    "        \n",
    "    end\n",
    "    return nothing\n",
    "end"
   ]
  },
  {
   "cell_type": "code",
   "execution_count": 38,
   "metadata": {},
   "outputs": [
    {
     "data": {
      "text/plain": [
       "Cubic"
      ]
     },
     "execution_count": 38,
     "metadata": {},
     "output_type": "execute_result"
    }
   ],
   "source": [
    "Model.ForceType[1,2]"
   ]
  },
  {
   "cell_type": "code",
   "execution_count": 23,
   "metadata": {},
   "outputs": [
    {
     "data": {
      "text/plain": [
       "-0.125"
      ]
     },
     "execution_count": 23,
     "metadata": {},
     "output_type": "execute_result"
    }
   ],
   "source": [
    "force_func(Cubic(1.0,2.0,3.0),2.5)"
   ]
  },
  {
   "cell_type": "code",
   "execution_count": 81,
   "metadata": {},
   "outputs": [
    {
     "data": {
      "text/plain": [
       "-0.125"
      ]
     },
     "execution_count": 81,
     "metadata": {},
     "output_type": "execute_result"
    }
   ],
   "source": [
    "forc_f(Cubic, Param, 2.5)"
   ]
  },
  {
   "cell_type": "code",
   "execution_count": 25,
   "metadata": {},
   "outputs": [
    {
     "data": {
      "text/plain": [
       "1"
      ]
     },
     "execution_count": 25,
     "metadata": {},
     "output_type": "execute_result"
    }
   ],
   "source": [
    "idx_red         = FusionAGG.Simulation.Neighbor.idx_red\n",
    "idx_contractile = FusionAGG.Simulation.Neighbor.idx_cont\n",
    "points          = FusionAGG.Position\n",
    "force           = FusionAGG.Simulation.Force.F\n",
    "\n",
    "Param   = FusionAGG.Simulation.Parameter.Force[1,:]\n",
    "A_con   = FusionAGG.Simulation.Parameter.Contractile[1,:]\n",
    "t_knn = 1\n",
    "force_idx = FusionAGG.Index.ForceType[1]"
   ]
  },
  {
   "cell_type": "code",
   "execution_count": 93,
   "metadata": {},
   "outputs": [
    {
     "data": {
      "text/plain": [
       "3-element CuArray{Float32, 1, CUDA.Mem.DeviceBuffer}:\n",
       " 1.0\n",
       " 2.0\n",
       " 3.0"
      ]
     },
     "execution_count": 93,
     "metadata": {},
     "output_type": "execute_result"
    }
   ],
   "source": [
    "a,b,c = Param"
   ]
  },
  {
   "cell_type": "code",
   "execution_count": 96,
   "metadata": {},
   "outputs": [
    {
     "data": {
      "text/plain": [
       "3.0f0"
      ]
     },
     "execution_count": 96,
     "metadata": {},
     "output_type": "execute_result"
    }
   ],
   "source": [
    "c"
   ]
  },
  {
   "cell_type": "code",
   "execution_count": 79,
   "metadata": {},
   "outputs": [
    {
     "data": {
      "text/plain": [
       "Cubic{Float32}(1.0f0, 2.0f0, 3.0f0)"
      ]
     },
     "execution_count": 79,
     "metadata": {},
     "output_type": "execute_result"
    }
   ],
   "source": [
    "Cubic(Param...)"
   ]
  },
  {
   "cell_type": "code",
   "execution_count": 58,
   "metadata": {},
   "outputs": [
    {
     "data": {
      "text/plain": [
       "2-element Vector{Any}:\n",
       " Cubic\n",
       " LennardJones"
      ]
     },
     "execution_count": 58,
     "metadata": {},
     "output_type": "execute_result"
    }
   ],
   "source": [
    "force_type = Model.ForceType[:,2]"
   ]
  },
  {
   "cell_type": "code",
   "execution_count": 60,
   "metadata": {},
   "outputs": [
    {
     "data": {
      "text/plain": [
       "LennardJones"
      ]
     },
     "execution_count": 60,
     "metadata": {},
     "output_type": "execute_result"
    }
   ],
   "source": [
    "force_type[2]"
   ]
  },
  {
   "cell_type": "code",
   "execution_count": 88,
   "metadata": {},
   "outputs": [
    {
     "data": {
      "text/plain": [
       "5008×3 CuArray{Float32, 2, CUDA.Mem.DeviceBuffer}:\n",
       " -0.063209   -0.063209   -0.063209\n",
       " -0.063209   -0.063209   -0.063209\n",
       " -0.063209   -0.063209   -0.063209\n",
       " -0.0803607  -0.0803607  -0.0803607\n",
       " -0.0785784  -0.0785784  -0.0785784\n",
       " -0.0767962  -0.0767962  -0.0767962\n",
       " -0.0767962  -0.0767962  -0.0767962\n",
       " -0.0785784  -0.0785784  -0.0785784\n",
       " -0.0718151  -0.0718151  -0.0718151\n",
       " -0.0768267  -0.0768267  -0.0768267\n",
       " -0.0768267  -0.0768267  -0.0768267\n",
       " -0.0768267  -0.0768267  -0.0768267\n",
       " -0.0768267  -0.0768267  -0.0768267\n",
       "  ⋮                      \n",
       " -3.93797    -3.93797    -3.93797\n",
       " -3.93797    -3.93797    -3.93797\n",
       " -3.61631    -3.61631    -3.61631\n",
       " -2.97105    -2.97105    -2.97105\n",
       " -2.99705    -2.99705    -2.99705\n",
       " -3.31693    -3.31693    -3.31693\n",
       " -3.31515    -3.31515    -3.31515\n",
       " -3.31515    -3.31515    -3.31515\n",
       " -2.99527    -2.99527    -2.99527\n",
       " -2.998      -2.998      -2.998\n",
       " -2.998      -2.998      -2.998\n",
       " -2.68426    -2.68426    -2.68426"
      ]
     },
     "metadata": {},
     "output_type": "display_data"
    }
   ],
   "source": [
    "# GPU\n",
    "threads =(100,3)\n",
    "blocks  =(cld.(size(points,1)+1,threads[1]),1)\n",
    "\n",
    "@cuda threads=threads blocks=blocks sum_force!(idx_red,idx_contractile,points,force,force_idx,A_con,Int(t_knn),Param)\n",
    "display(force)"
   ]
  },
  {
   "attachments": {},
   "cell_type": "markdown",
   "metadata": {},
   "source": [
    "PENDING"
   ]
  },
  {
   "attachments": {},
   "cell_type": "markdown",
   "metadata": {},
   "source": [
    "# review"
   ]
  },
  {
   "attachments": {},
   "cell_type": "markdown",
   "metadata": {},
   "source": [
    "## force_func"
   ]
  },
  {
   "cell_type": "code",
   "execution_count": null,
   "metadata": {},
   "outputs": [],
   "source": [
    "# Param = [1.0,2.0,4.0]"
   ]
  },
  {
   "cell_type": "code",
   "execution_count": null,
   "metadata": {},
   "outputs": [],
   "source": [
    "# force_func(forcetype(1,Param...),3.0)"
   ]
  },
  {
   "cell_type": "code",
   "execution_count": null,
   "metadata": {},
   "outputs": [],
   "source": [
    "# force_func(forcetype(2,Param...),3.0)"
   ]
  }
 ],
 "metadata": {
  "kernelspec": {
   "display_name": "Julia 1.6.7",
   "language": "julia",
   "name": "julia-1.6"
  },
  "language_info": {
   "file_extension": ".jl",
   "mimetype": "application/julia",
   "name": "julia",
   "version": "1.6.7"
  },
  "orig_nbformat": 4
 },
 "nbformat": 4,
 "nbformat_minor": 2
}
