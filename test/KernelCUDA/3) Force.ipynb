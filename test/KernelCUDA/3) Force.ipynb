{
 "cells": [
  {
   "attachments": {},
   "cell_type": "markdown",
   "metadata": {},
   "source": [
    "# Dependences"
   ]
  },
  {
   "cell_type": "code",
   "execution_count": 1,
   "metadata": {},
   "outputs": [
    {
     "data": {
      "text/plain": [
       "cu_force"
      ]
     },
     "execution_count": 1,
     "metadata": {},
     "output_type": "execute_result"
    }
   ],
   "source": [
    "include(\"../../src/struct_data.jl\")\n",
    "include(\"../../src/neighbor.jl\")\n",
    "include(\"../../src/forces/forces.jl\")"
   ]
  },
  {
   "attachments": {},
   "cell_type": "markdown",
   "metadata": {},
   "source": [
    "# Model"
   ]
  },
  {
   "cell_type": "code",
   "execution_count": 2,
   "metadata": {},
   "outputs": [
    {
     "name": "stdout",
     "output_type": "stream",
     "text": [
      "  0.000001 seconds (3 allocations: 112 bytes)\n",
      "ModelSet\n",
      "  Time: TimeModel\n",
      "    tₛᵢₘ: Float64 10000.0\n",
      "    dt: Float64 0.5\n",
      "    nₖₙₙ: Int64 50\n",
      "    nₛₐᵥₑ: Int64 100\n",
      "  Input: InputModel\n",
      "    outer_ratio: Float64 0.8\n",
      "    path_input: String \"../../data/init/Sphere\"\n"
     ]
    }
   ],
   "source": [
    "@time Model = ModelSet(\n",
    "    TimeModel(\n",
    "        tₛᵢₘ  = 10000.0,\n",
    "        dt    = 0.5,\n",
    "        nₖₙₙ  = 50,\n",
    "        nₛₐᵥₑ = 100\n",
    "    ),\n",
    "    InputModel(\n",
    "        outer_ratio = 0.8,\n",
    "        path_input = \"../../data/init/Sphere\"\n",
    "    )\n",
    ")\n",
    "dump(Model)"
   ]
  },
  {
   "attachments": {},
   "cell_type": "markdown",
   "metadata": {},
   "source": [
    "# Aggregate"
   ]
  },
  {
   "cell_type": "code",
   "execution_count": 3,
   "metadata": {},
   "outputs": [
    {
     "name": "stdout",
     "output_type": "stream",
     "text": [
      "  8.946409 seconds (13.11 M allocations: 1.133 GiB, 3.59% gc time, 5.04% compilation time)\n",
      "========================= Type =======================\n"
     ]
    },
    {
     "data": {
      "text/plain": [
       "2-element Vector{AggType}:\n",
       " AggType(\"HEK_1\", InteractionPar(Cubic{Float64}(0.01, 2.0, 3.0), ContractilePar(0.001)), 15.27f0, Float32[-1.5 -4.62 -13.88; 0.5 -4.62 -13.88; … ; 0.5 4.62 13.88; 2.5 4.62 13.88], CuArray{Float32, 2, CUDA.Mem.DeviceBuffer})\n",
       " AggType(\"HEK_2\", InteractionPar(Cubic{Float64}(0.01, 2.0, 3.0), ContractilePar(0.001)), 15.27f0, Float32[-1.5 -4.62 -13.88; 0.5 -4.62 -13.88; … ; 0.5 4.62 13.88; 2.5 4.62 13.88], CuArray{Float32, 2, CUDA.Mem.DeviceBuffer})"
      ]
     },
     "metadata": {},
     "output_type": "display_data"
    },
    {
     "name": "stdout",
     "output_type": "stream",
     "text": [
      "======================   Index =======================\n",
      "Index of List of Aggregates\n"
     ]
    },
    {
     "data": {
      "text/plain": [
       "1×5008 CuArray{Int64, 2, CUDA.Mem.DeviceBuffer}:\n",
       " 1  1  1  1  1  1  1  1  1  1  1  1  1  …  2  2  2  2  2  2  2  2  2  2  2  2"
      ]
     },
     "metadata": {},
     "output_type": "display_data"
    },
    {
     "name": "stdout",
     "output_type": "stream",
     "text": [
      "Index of Number of Aggregates\n"
     ]
    },
    {
     "data": {
      "text/plain": [
       "1×5008 CuArray{Int64, 2, CUDA.Mem.DeviceBuffer}:\n",
       " 1  1  1  1  1  1  1  1  1  1  1  1  1  …  2  2  2  2  2  2  2  2  2  2  2  2"
      ]
     },
     "metadata": {},
     "output_type": "display_data"
    },
    {
     "name": "stdout",
     "output_type": "stream",
     "text": [
      "Index of Name of Aggregates\n"
     ]
    },
    {
     "data": {
      "text/plain": [
       "1×5008 Matrix{String}:\n",
       " \"HEK_1\"  \"HEK_1\"  \"HEK_1\"  \"HEK_1\"  …  \"HEK_2\"  \"HEK_2\"  \"HEK_2\"  \"HEK_2\""
      ]
     },
     "metadata": {},
     "output_type": "display_data"
    },
    {
     "name": "stdout",
     "output_type": "stream",
     "text": [
      "====================== Position =====================\n"
     ]
    },
    {
     "data": {
      "text/plain": [
       "5008×3 CuArray{Float32, 2, CUDA.Mem.DeviceBuffer}:\n",
       " -16.77  -4.62  -13.88\n",
       " -14.77  -4.62  -13.88\n",
       " -12.77  -4.62  -13.88\n",
       " -19.77  -2.89  -13.88\n",
       " -17.77  -2.89  -13.88\n",
       " -15.77  -2.89  -13.88\n",
       " -13.77  -2.89  -13.88\n",
       " -11.77  -2.89  -13.88\n",
       " -20.77  -1.15  -13.88\n",
       " -18.77  -1.15  -13.88\n",
       " -16.77  -1.15  -13.88\n",
       " -14.77  -1.15  -13.88\n",
       " -12.77  -1.15  -13.88\n",
       "   ⋮            \n",
       "  13.77   1.15   13.88\n",
       "  15.77   1.15   13.88\n",
       "  17.77   1.15   13.88\n",
       "  19.77   1.15   13.88\n",
       "  10.77   2.89   13.88\n",
       "  12.77   2.89   13.88\n",
       "  14.77   2.89   13.88\n",
       "  16.77   2.89   13.88\n",
       "  18.77   2.89   13.88\n",
       "  13.77   4.62   13.88\n",
       "  15.77   4.62   13.88\n",
       "  17.77   4.62   13.88"
      ]
     },
     "metadata": {},
     "output_type": "display_data"
    },
    {
     "name": "stdout",
     "output_type": "stream",
     "text": [
      "======================== Geometry ===================\n",
      "Radius_agg\n"
     ]
    },
    {
     "data": {
      "text/plain": [
       "1×5008 Matrix{Float32}:\n",
       " 15.27  15.27  15.27  15.27  15.27  …  15.27  15.27  15.27  15.27  15.27"
      ]
     },
     "metadata": {},
     "output_type": "display_data"
    },
    {
     "name": "stdout",
     "output_type": "stream",
     "text": [
      "Outline\n"
     ]
    },
    {
     "data": {
      "text/plain": [
       "1×5008 Matrix{Int64}:\n",
       " 1  1  1  1  1  1  1  1  1  1  1  1  1  …  1  1  1  1  1  1  1  1  1  1  1  1"
      ]
     },
     "metadata": {},
     "output_type": "display_data"
    },
    {
     "name": "stdout",
     "output_type": "stream",
     "text": [
      "Outer/Total = 0.46325878594249204\n",
      "====================== Simulation ===================\n",
      "---------------------- Parameter --------------------\n",
      "Force\n"
     ]
    },
    {
     "data": {
      "text/plain": [
       "Cubic{CuArray{Float32, 1, CUDA.Mem.DeviceBuffer}}(Float32[0.01, 0.01, 0.01, 0.01, 0.01, 0.01, 0.01, 0.01, 0.01, 0.01  …  0.01, 0.01, 0.01, 0.01, 0.01, 0.01, 0.01, 0.01, 0.01, 0.01], Float32[2.0, 2.0, 2.0, 2.0, 2.0, 2.0, 2.0, 2.0, 2.0, 2.0  …  2.0, 2.0, 2.0, 2.0, 2.0, 2.0, 2.0, 2.0, 2.0, 2.0], Float32[3.0, 3.0, 3.0, 3.0, 3.0, 3.0, 3.0, 3.0, 3.0, 3.0  …  3.0, 3.0, 3.0, 3.0, 3.0, 3.0, 3.0, 3.0, 3.0, 3.0])"
      ]
     },
     "metadata": {},
     "output_type": "display_data"
    },
    {
     "name": "stdout",
     "output_type": "stream",
     "text": [
      "Contractile\n"
     ]
    },
    {
     "data": {
      "text/plain": [
       "ContractilePar(Float32[0.001, 0.001, 0.001, 0.001, 0.001, 0.001, 0.001, 0.001, 0.001, 0.001  …  0.001, 0.001, 0.001, 0.001, 0.001, 0.001, 0.001, 0.001, 0.001, 0.001])"
      ]
     },
     "metadata": {},
     "output_type": "display_data"
    },
    {
     "name": "stdout",
     "output_type": "stream",
     "text": [
      "Radius\n"
     ]
    },
    {
     "data": {
      "text/plain": [
       "2-element CuArray{Float32, 1, CUDA.Mem.DeviceBuffer}:\n",
       " 15.27\n",
       " 15.27"
      ]
     },
     "metadata": {},
     "output_type": "display_data"
    },
    {
     "name": "stdout",
     "output_type": "stream",
     "text": [
      "------------------ Neighbors Size -------------------\n",
      "idx      = (5008, 5008)\n",
      "idx_red  = (21, 5008)\n",
      "idx_sum  = (1, 5008)\n",
      "idx_cont = (50, 5008)\n",
      "------------------- Forces Size ---------------------\n",
      "dX       = (5008, 3)\n",
      "F        = (5008, 3)\n"
     ]
    }
   ],
   "source": [
    "FusionAGG = nothing\n",
    "# @time @start_agg FusionAGG = FusionAggregate(\n",
    "@time FusionAGG = FusionAggregate(\n",
    "    [\n",
    "        AggType(\n",
    "            \"HEK_1\", \n",
    "            InteractionPar(\n",
    "                Cubic(0.01,2.0,3.0), \n",
    "                ContractilePar(0.001)\n",
    "            ),\n",
    "            Float64.(readdlm(\"../../data/init/Sphere/15.0.xyz\")[3:end,2:end]) |> cu\n",
    "        ),\n",
    "        AggType(\n",
    "            \"HEK_2\", \n",
    "            InteractionPar(\n",
    "                Cubic(0.01,2.0,3.0), \n",
    "                ContractilePar(0.001)\n",
    "            ),\n",
    "            Float64.(readdlm(\"../../data/init/Sphere/15.0.xyz\")[3:end,2:end]) |> cu\n",
    "        )\n",
    "    ], \n",
    "    Model\n",
    ")\n",
    "show_aggregates(FusionAGG)"
   ]
  },
  {
   "attachments": {},
   "cell_type": "markdown",
   "metadata": {},
   "source": [
    "# kNN"
   ]
  },
  {
   "cell_type": "code",
   "execution_count": 4,
   "metadata": {},
   "outputs": [
    {
     "name": "stdout",
     "output_type": "stream",
     "text": [
      "------------------------ SIZE ------------------------\n",
      "r_max         = 3.0\n",
      "Size X        = (5008, 3)\n",
      "Size idx      = (5008, 5008)\n",
      "Size idx_real  = (5008, 5008)\n",
      "Size idx_sum   = (1, 5008)\n",
      "Size idx_red   = (21, 5008)\n",
      "Threads = (32, 32) | Blocks  = (157, 157)\n",
      "Threads = 256 | Blocks  = 20\n",
      "Threads = (32, 32) | Blocks  = (157, 157)\n",
      " 24.542925 seconds (31.21 M allocations: 1.773 GiB, 2.92% gc time, 16.18% compilation time)\n",
      "------------------------ IDX -------------------------\n",
      "idx\n"
     ]
    },
    {
     "data": {
      "text/plain": [
       "5008×5008 CuArray{Int64, 2, CUDA.Mem.DeviceBuffer}:\n",
       " 1  1  0   0   1   1   0   0   0   0  …     0     0     0     0     0     0\n",
       " 2  2  2   0   0   2   2   0   0   0        0     0     0     0     0     0\n",
       " 0  3  3   0   0   0   3   3   0   0        0     0     0     0     0     0\n",
       " 0  0  0   4   4   0   0   0   4   4        0     0     0     0     0     0\n",
       " 5  0  0   5   5   5   0   0   0   5        0     0     0     0     0     0\n",
       " 6  6  0   0   6   6   6   0   0   0  …     0     0     0     0     0     0\n",
       " 0  7  7   0   0   7   7   7   0   0        0     0     0     0     0     0\n",
       " 0  0  8   0   0   0   8   8   0   0        0     0     0     0     0     0\n",
       " 0  0  0   9   0   0   0   0   9   9        0     0     0     0     0     0\n",
       " 0  0  0  10  10   0   0   0  10  10        0     0     0     0     0     0\n",
       " 0  0  0   0  11  11   0   0   0  11  …     0     0     0     0     0     0\n",
       " 0  0  0   0   0  12  12   0   0   0        0     0     0     0     0     0\n",
       " 0  0  0   0   0   0  13  13   0   0        0     0     0     0     0     0\n",
       " ⋮                 ⋮                  ⋱                       ⋮        \n",
       " 0  0  0   0   0   0   0   0   0   0     4997     0     0     0     0     0\n",
       " 0  0  0   0   0   0   0   0   0   0     4998  4998     0     0     0     0\n",
       " 0  0  0   0   0   0   0   0   0   0        0  4999  4999     0     0     0\n",
       " 0  0  0   0   0   0   0   0   0   0        0     0  5000     0     0     0\n",
       " 0  0  0   0   0   0   0   0   0   0  …     0     0     0     0     0     0\n",
       " 0  0  0   0   0   0   0   0   0   0     5002     0     0  5002     0     0\n",
       " 0  0  0   0   0   0   0   0   0   0     5003  5003     0  5003  5003     0\n",
       " 0  0  0   0   0   0   0   0   0   0     5004  5004  5004     0  5004  5004\n",
       " 0  0  0   0   0   0   0   0   0   0        0  5005  5005     0     0  5005\n",
       " 0  0  0   0   0   0   0   0   0   0  …  5006     0     0  5006  5006     0\n",
       " 0  0  0   0   0   0   0   0   0   0     5007  5007     0  5007  5007  5007\n",
       " 0  0  0   0   0   0   0   0   0   0        0  5008  5008     0  5008  5008"
      ]
     },
     "metadata": {},
     "output_type": "display_data"
    },
    {
     "name": "stdout",
     "output_type": "stream",
     "text": [
      "idx_red\n"
     ]
    },
    {
     "data": {
      "text/plain": [
       "21×5008 CuArray{Int64, 2, CUDA.Mem.DeviceBuffer}:\n",
       "  1   1   2   4   1   1   2   3   4  …  4949  4950  4951  4957  4958  4959\n",
       "  2   2   3   5   4   2   3   7   9     4957  4958  4959  4964  4965  4966\n",
       "  5   3   7   9   5   5   6   8  10     4958  4959  4960  4965  4966  4967\n",
       "  6   6   8  10   6   6   7  13  15     4964  4965  4966  4971  4972  4973\n",
       " 35   7  37  40  10   7   8  14  48     4965  4966  4967  4972  4973  4974\n",
       " 36  36  38  41  11  11  12  44  49  …  4966  4967  4968  4973  4974  4975\n",
       " 37  37  39  42  41  12  13  45  50     4997  4998  4999  5002  5003  5004\n",
       " 42  38  44  49  42  42  43  46  57     4998  4999  5000  5003  5004  5005\n",
       " 43  43  45  50  43  43  44  53  58     5002  5003  5004  5006  5006  5007\n",
       " 51  44  53  58  50  44  45  54  66     5003  5004  5005  5007  5007  5008\n",
       "  0  52   0   0  51  51  52  62   0  …  5004  5005  5008     0  5008     0\n",
       "  0   0   0   0  59  52  53   0   0     5006  5007     0     0     0     0\n",
       "  0   0   0   0   0  60  61   0   0     5007  5008     0     0     0     0\n",
       "  0   0   0   0   0   0   0   0   0        0     0     0     0     0     0\n",
       "  0   0   0   0   0   0   0   0   0        0     0     0     0     0     0\n",
       "  0   0   0   0   0   0   0   0   0  …     0     0     0     0     0     0\n",
       "  0   0   0   0   0   0   0   0   0        0     0     0     0     0     0\n",
       "  0   0   0   0   0   0   0   0   0        0     0     0     0     0     0\n",
       "  0   0   0   0   0   0   0   0   0        0     0     0     0     0     0\n",
       "  0   0   0   0   0   0   0   0   0        0     0     0     0     0     0\n",
       "  0   0   0   0   0   0   0   0   0  …     0     0     0     0     0     0"
      ]
     },
     "metadata": {},
     "output_type": "display_data"
    },
    {
     "name": "stdout",
     "output_type": "stream",
     "text": [
      "idx_sum\n"
     ]
    },
    {
     "data": {
      "text/plain": [
       "1×5008 CuArray{Int64, 2, CUDA.Mem.DeviceBuffer}:\n",
       " 10  11  10  10  12  13  13  11  10  …  11  10  12  13  13  11  10  11  10"
      ]
     },
     "metadata": {},
     "output_type": "display_data"
    },
    {
     "name": "stdout",
     "output_type": "stream",
     "text": [
      "idx_cont\n"
     ]
    },
    {
     "data": {
      "text/plain": [
       "50×5008 CuArray{Int64, 2, CUDA.Mem.DeviceBuffer}:\n",
       " 51  52  39  58  10  42   6   8  48  …  4966  4959  4967  4971  4966  4967\n",
       " 42  43  38   9  59  43   6  13  50     5002  4967  4959  4957  5008  4967\n",
       "  5   1   8   9   4  43   3  62  50     4964  5004  4966  4971  5003  5007\n",
       " 35  38   3   4  11  11  52  14  50     4998  5004  4967  5007  5006  5007\n",
       " 36   3  53   5   4   1  61   3   9     4997  4965  4951  4964  4972  4973\n",
       " 37   6  53  58  10  11   3   3  48  …  4965  5003  5004  5007  5003  4967\n",
       " 37  37   8   5  59  60  44   8  66     4957  4950  4999  5006  4966  5004\n",
       " 42  38  39  49  10  52   8   8  66     4964  4950  4959  4971  4965  5008\n",
       " 42   2   7  58  42  43   7   8  49     5002  5008  4960  5006  4958  4959\n",
       "  5   6  45   5  42  51  44  45  48     4965  4967  4959  5007  4965  5008\n",
       "  1   2   8  41   6   2  45  46   4  …  4997  4959  4959  5007  5008  4975\n",
       "  1  44  45   5   4  44  12  62  50     4966  4966  4967  4972  5003  5004\n",
       " 42   6   8  49  42   1   6  53  58     4998  5008  5000  4973  4972  4967\n",
       "  ⋮                   ⋮              ⋱                       ⋮        \n",
       " 51   1   2   5  59   2   7  62  10     5003  4959  5008  4965  4966  4959\n",
       " 36   6   8  50  10   7  13   7  50     4957  4965  4968  5002  5008  4973\n",
       "  1  36   8   5   1  52  53  14  58  …  5003  5005  5005  5007  4966  5005\n",
       "  6   3   7  50  11   1   7  44   9     4949  4959  4999  4957  4965  4975\n",
       " 43  43   2  58  41  12   3  45  50     5004  4999  4967  4965  5007  5008\n",
       "  1  43  44  41   5  51  53   8  15     4997  5008  4999  5002  5006  4975\n",
       " 51   6   2   5  41   6  52   3  50     4997  4959  5004  5006  4973  4959\n",
       "  5   2  38  42  50  42  45  46  49  …  5003  5008  4960  4957  5006  4974\n",
       "  2   6  44  50   4  12  52  54  49     5007  5008  5004  5003  4974  4959\n",
       "  1  36  39   5  50  44  61  14  10     5006  4965  5008  4971  5006  4975\n",
       " 51   3  44  42  50  51   7  53  15     4997  4965  5000  5002  4972  5004\n",
       " 51   6  45  42  51   1  45  46  49     5007  4967  5005  4971  5008  4966"
      ]
     },
     "metadata": {},
     "output_type": "display_data"
    }
   ],
   "source": [
    "println(\"------------------------ SIZE ------------------------\")\n",
    "println(\"r_max         = $(FusionAGG.Type[1].Interaction.Force.rₘₐₓ)\")\n",
    "println(\"Size X        = $(size(FusionAGG.Position))\")\n",
    "println(\"Size idx      = $(size(FusionAGG.Simulation.Neighbor.idx))\")\n",
    "println(\"Size idx_real  = $(size(FusionAGG.Simulation.Neighbor.idx))\")\n",
    "println(\"Size idx_sum   = $(size(FusionAGG.Simulation.Neighbor.idx_sum))\")\n",
    "println(\"Size idx_red   = $(size(FusionAGG.Simulation.Neighbor.idx_red))\")\n",
    "@time nearest_neighbors(FusionAGG)\n",
    "println(\"------------------------ IDX -------------------------\")\n",
    "println(\"idx\")\n",
    "display(FusionAGG.Simulation.Neighbor.idx)\n",
    "println(\"idx_red\")\n",
    "display(FusionAGG.Simulation.Neighbor.idx_red)\n",
    "println(\"idx_sum\")\n",
    "display(FusionAGG.Simulation.Neighbor.idx_sum)\n",
    "println(\"idx_cont\")\n",
    "display(FusionAGG.Simulation.Neighbor.idx_cont)"
   ]
  },
  {
   "attachments": {},
   "cell_type": "markdown",
   "metadata": {},
   "source": [
    "# Force"
   ]
  },
  {
   "attachments": {},
   "cell_type": "markdown",
   "metadata": {},
   "source": [
    "## GPU"
   ]
  },
  {
   "cell_type": "code",
   "execution_count": 5,
   "metadata": {},
   "outputs": [
    {
     "name": "stdout",
     "output_type": "stream",
     "text": [
      "Force Parameter\n"
     ]
    },
    {
     "data": {
      "text/plain": [
       "Cubic{CuArray{Float32, 1, CUDA.Mem.DeviceBuffer}}(Float32[0.01, 0.01, 0.01, 0.01, 0.01, 0.01, 0.01, 0.01, 0.01, 0.01  …  0.01, 0.01, 0.01, 0.01, 0.01, 0.01, 0.01, 0.01, 0.01, 0.01], Float32[2.0, 2.0, 2.0, 2.0, 2.0, 2.0, 2.0, 2.0, 2.0, 2.0  …  2.0, 2.0, 2.0, 2.0, 2.0, 2.0, 2.0, 2.0, 2.0, 2.0], Float32[3.0, 3.0, 3.0, 3.0, 3.0, 3.0, 3.0, 3.0, 3.0, 3.0  …  3.0, 3.0, 3.0, 3.0, 3.0, 3.0, 3.0, 3.0, 3.0, 3.0])"
      ]
     },
     "metadata": {},
     "output_type": "display_data"
    },
    {
     "name": "stdout",
     "output_type": "stream",
     "text": [
      "Contractile Parameter\n"
     ]
    },
    {
     "data": {
      "text/plain": [
       "1×5008 adjoint(::CuArray{Float32, 1, CUDA.Mem.DeviceBuffer}) with eltype Float32:\n",
       " 0.001  0.001  0.001  0.001  0.001  …  0.001  0.001  0.001  0.001  0.001"
      ]
     },
     "metadata": {},
     "output_type": "display_data"
    },
    {
     "name": "stdout",
     "output_type": "stream",
     "text": [
      "Running CUDA kernel\n",
      "  2.028967 seconds (2.96 M allocations: 169.473 MiB, 4.52% gc time, 32.44% compilation time)\n",
      "Force\n"
     ]
    },
    {
     "data": {
      "text/plain": [
       "5008×3 CuArray{Float32, 2, CUDA.Mem.DeviceBuffer}:\n",
       "  0.0          -0.000831988  -0.00021189\n",
       "  0.0          -0.000831988  -0.00021189\n",
       " -0.000708019   0.000392189  -0.000212381\n",
       "  0.0          -0.000683325  -0.00021189\n",
       "  0.000489364  -0.000717842   0.000364654\n",
       "  0.000708019   0.000571713  -0.000212382\n",
       "  0.001         0.000164602   0.000364654\n",
       "  8.91939f-6    0.000149172   0.000364654\n",
       "  0.000731929   0.000325632  -0.000211375\n",
       " -0.000500444  -0.00102452    0.000364828\n",
       "  0.001        -0.000158756   0.000364828\n",
       " -0.000706996   0.000251302  -0.000211375\n",
       "  0.0           0.000421063  -0.000449918\n",
       "  ⋮                          \n",
       " -0.000500444   0.00102452   -0.000364828\n",
       "  0.000498284  -0.000708258  -0.000364828\n",
       "  0.001         0.000158756  -0.000364828\n",
       " -0.000534993   0.000385505   0.000452033\n",
       " -0.001        -0.000133741  -0.000364654\n",
       "  0.000489364   0.000717842  -0.000364654\n",
       " -0.000708019  -0.000571713   0.000212382\n",
       " -0.000500419   0.000125641   0.00045103\n",
       "  8.91939f-6   -0.000725658   0.000452453\n",
       "  0.000708019  -0.000392189   0.000212381\n",
       " -0.000500419   0.000305165   0.000451029\n",
       " -0.000500419   0.000305165   0.000451029"
      ]
     },
     "metadata": {},
     "output_type": "display_data"
    }
   ],
   "source": [
    "println(\"Force Parameter\")\n",
    "display(FusionAGG.Simulation.Parameter.Force)\n",
    "println(\"Contractile Parameter\")\n",
    "display(FusionAGG.Simulation.Parameter.Contractile.fₚ')\n",
    "println(\"Running CUDA kernel\")\n",
    "@time cu_force(FusionAGG,1.0)\n",
    "println(\"Force\")\n",
    "display(FusionAGG.Simulation.Force.F)"
   ]
  },
  {
   "attachments": {},
   "cell_type": "markdown",
   "metadata": {},
   "source": [
    "## CPU"
   ]
  },
  {
   "cell_type": "code",
   "execution_count": 6,
   "metadata": {},
   "outputs": [
    {
     "name": "stderr",
     "output_type": "stream",
     "text": [
      "\u001b[33m\u001b[1m┌ \u001b[22m\u001b[39m\u001b[33m\u001b[1mWarning: \u001b[22m\u001b[39mPerforming scalar indexing on task Task (runnable) @0x00007f4c9d5624d0.\n",
      "\u001b[33m\u001b[1m│ \u001b[22m\u001b[39mInvocation of getindex resulted in scalar indexing of a GPU array.\n",
      "\u001b[33m\u001b[1m│ \u001b[22m\u001b[39mThis is typically caused by calling an iterating implementation of a method.\n",
      "\u001b[33m\u001b[1m│ \u001b[22m\u001b[39mSuch implementations *do not* execute on the GPU, but very slowly on the CPU,\n",
      "\u001b[33m\u001b[1m│ \u001b[22m\u001b[39mand therefore are only permitted from the REPL for prototyping purposes.\n",
      "\u001b[33m\u001b[1m│ \u001b[22m\u001b[39mIf you did intend to index this array, annotate the caller with @allowscalar.\n",
      "\u001b[33m\u001b[1m└ \u001b[22m\u001b[39m\u001b[90m@ GPUArraysCore ~/.julia/packages/GPUArraysCore/HaQcr/src/GPUArraysCore.jl:106\u001b[39m\n"
     ]
    },
    {
     "data": {
      "text/plain": [
       "1"
      ]
     },
     "execution_count": 6,
     "metadata": {},
     "output_type": "execute_result"
    }
   ],
   "source": [
    "X_CPU          = Matrix(FusionAGG.Position)\n",
    "idx_red_CPU    = Matrix(FusionAGG.Simulation.Neighbor.idx_red)\n",
    "idx_cont_CPU   = Matrix(FusionAGG.Simulation.Neighbor.idx_cont)\n",
    "force_CPU      = zeros(size(X_CPU))\n",
    "\n",
    "Param = vcat(\n",
    "        [\n",
    "            unique(\n",
    "                getfield(FusionAGG.Simulation.Parameter.Force, fieldnames(Cubic)[i])\n",
    "            ) for i=1:size(fieldnames(Cubic),1)\n",
    "    ]...)\n",
    "Param          = Cubic(Param...)\n",
    "A_con          = unique(FusionAGG.Simulation.Parameter.Contractile.fₚ)[1]\n",
    "\n",
    "t_knn = 1"
   ]
  },
  {
   "cell_type": "code",
   "execution_count": 7,
   "metadata": {},
   "outputs": [
    {
     "data": {
      "text/plain": [
       "5008×3 Matrix{Float64}:\n",
       "  0.0          -0.000831988  -0.00021189\n",
       "  0.0          -0.000831988  -0.00021189\n",
       " -0.000708019   0.000392189  -0.000212381\n",
       "  0.0          -0.000683325  -0.00021189\n",
       "  0.000489364  -0.000717842   0.000364654\n",
       "  0.000708019   0.000571713  -0.000212382\n",
       "  0.001         0.000164602   0.000364654\n",
       "  8.91939e-6    0.000149172   0.000364654\n",
       "  0.00073193    0.00032563   -0.000211373\n",
       " -0.000500444  -0.00102453    0.000364829\n",
       "  0.001        -0.000158757   0.000364829\n",
       " -0.000706996   0.0002513    -0.000211373\n",
       "  0.0           0.000421061  -0.000449916\n",
       "  ⋮                          \n",
       " -0.000500444   0.00102453   -0.000364829\n",
       "  0.000498284  -0.000708257  -0.000364829\n",
       "  0.001         0.000158757  -0.000364829\n",
       " -0.000534993   0.000385507   0.000452031\n",
       " -0.001        -0.000133741  -0.000364654\n",
       "  0.000489364   0.000717842  -0.000364654\n",
       " -0.000708019  -0.000571713   0.000212382\n",
       " -0.000500419   0.000125641   0.00045103\n",
       "  8.91939e-6   -0.000725658   0.000452453\n",
       "  0.000708019  -0.000392189   0.000212381\n",
       " -0.000500419   0.000305165   0.000451029\n",
       " -0.000500419   0.000305165   0.000451029"
      ]
     },
     "metadata": {},
     "output_type": "display_data"
    }
   ],
   "source": [
    "function runCPU()\n",
    "    for j = 1:size(idx_red_CPU,1)\n",
    "        for i =1:size(X_CPU,1)\n",
    "            if idx_red_CPU[j,i] != 0 && idx_red_CPU[j,i] != i\n",
    "                dist = euclidean(X_CPU,i,idx_red_CPU[j,i])\n",
    "                force_CPU[i,:] += force_func(Param,dist) .* (X_CPU[i,:] - X_CPU[idx_red_CPU[j,i],:]) ./ dist\n",
    "            end\n",
    "        end\n",
    "    end\n",
    "\n",
    "    for i =1:size(X_CPU,1)\n",
    "        if idx_cont_CPU[t_knn,i] != i\n",
    "            dist = euclidean(X_CPU,i,idx_cont_CPU[t_knn,i])\n",
    "            force_CPU[i,:] += A_con .* (X_CPU[i,:] - X_CPU[idx_cont_CPU[t_knn,i],:]) ./ dist\n",
    "        end\n",
    "    end\n",
    "end\n",
    "\n",
    "runCPU()\n",
    "display(force_CPU)"
   ]
  },
  {
   "attachments": {},
   "cell_type": "markdown",
   "metadata": {},
   "source": [
    "## GPU vs CPU"
   ]
  },
  {
   "cell_type": "code",
   "execution_count": 8,
   "metadata": {},
   "outputs": [
    {
     "data": {
      "text/plain": [
       "\u001b[32m\u001b[1mTest Passed\u001b[22m\u001b[39m"
      ]
     },
     "execution_count": 8,
     "metadata": {},
     "output_type": "execute_result"
    }
   ],
   "source": [
    "using Test\n",
    "@test Matrix(FusionAGG.Simulation.Force.F) ≈ force_CPU atol=0.01"
   ]
  }
 ],
 "metadata": {
  "kernelspec": {
   "display_name": "Julia 1.6.7",
   "language": "julia",
   "name": "julia-1.6"
  },
  "language_info": {
   "file_extension": ".jl",
   "mimetype": "application/julia",
   "name": "julia",
   "version": "1.6.7"
  },
  "orig_nbformat": 4
 },
 "nbformat": 4,
 "nbformat_minor": 2
}
