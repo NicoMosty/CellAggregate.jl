{
 "cells": [
  {
   "attachments": {},
   "cell_type": "markdown",
   "metadata": {},
   "source": [
    "# Dependences"
   ]
  },
  {
   "cell_type": "code",
   "execution_count": 1,
   "metadata": {},
   "outputs": [
    {
     "data": {
      "text/plain": [
       "cu_force (generic function with 1 method)"
      ]
     },
     "execution_count": 1,
     "metadata": {},
     "output_type": "execute_result"
    }
   ],
   "source": [
    "include(\"../../src/struct_data.jl\")\n",
    "include(\"../../src/neighbor.jl\")\n",
    "include(\"../../src/forces/forces.jl\")"
   ]
  },
  {
   "attachments": {},
   "cell_type": "markdown",
   "metadata": {},
   "source": [
    "# Model"
   ]
  },
  {
   "cell_type": "code",
   "execution_count": 2,
   "metadata": {},
   "outputs": [
    {
     "name": "stdout",
     "output_type": "stream",
     "text": [
      "  0.000001 seconds (3 allocations: 112 bytes)\n",
      "ModelSet\n",
      "  Time: TimeModel\n",
      "    tₛᵢₘ: Float64 10000.0\n",
      "    dt: Float64 0.5\n",
      "    nₖₙₙ: Int64 50\n",
      "    nₛₐᵥₑ: Int64 100\n",
      "  Input: InputModel\n",
      "    outer_ratio: Float64 0.8\n",
      "    path_input: String \"../../data/init/Sphere\"\n"
     ]
    }
   ],
   "source": [
    "@time Model = ModelSet(\n",
    "    TimeModel(\n",
    "        tₛᵢₘ  = 10000.0,\n",
    "        dt    = 0.5,\n",
    "        nₖₙₙ  = 50,\n",
    "        nₛₐᵥₑ = 100\n",
    "    ),\n",
    "    InputModel(\n",
    "        outer_ratio = 0.8,\n",
    "        path_input = \"../../data/init/Sphere\"\n",
    "    )\n",
    ")\n",
    "dump(Model)"
   ]
  },
  {
   "attachments": {},
   "cell_type": "markdown",
   "metadata": {},
   "source": [
    "# Aggregate"
   ]
  },
  {
   "cell_type": "code",
   "execution_count": 3,
   "metadata": {},
   "outputs": [
    {
     "name": "stdout",
     "output_type": "stream",
     "text": [
      "  7.393977 seconds (13.11 M allocations: 1.133 GiB, 3.66% gc time, 4.89% compilation time)\n",
      "========================= Type =======================\n"
     ]
    },
    {
     "data": {
      "text/plain": [
       "2-element Vector{AggType}:\n",
       " AggType(\"HEK_1\", InteractionPar(Cubic{Float64}(0.01, 2.0, 3.0), ContractilePar(0.001)), 15.27f0, Float32[-1.5 -4.62 -13.88; 0.5 -4.62 -13.88; … ; 0.5 4.62 13.88; 2.5 4.62 13.88], CuArray{Float32, 2, CUDA.Mem.DeviceBuffer})\n",
       " AggType(\"HEK_2\", InteractionPar(Cubic{Float64}(0.01, 2.0, 3.0), ContractilePar(0.001)), 15.27f0, Float32[-1.5 -4.62 -13.88; 0.5 -4.62 -13.88; … ; 0.5 4.62 13.88; 2.5 4.62 13.88], CuArray{Float32, 2, CUDA.Mem.DeviceBuffer})"
      ]
     },
     "metadata": {},
     "output_type": "display_data"
    },
    {
     "name": "stdout",
     "output_type": "stream",
     "text": [
      "======================   Index =======================\n",
      "Index of List of Aggregates\n"
     ]
    },
    {
     "data": {
      "text/plain": [
       "1×5008 CuArray{Int64, 2, CUDA.Mem.DeviceBuffer}:\n",
       " 1  1  1  1  1  1  1  1  1  1  1  1  1  …  2  2  2  2  2  2  2  2  2  2  2  2"
      ]
     },
     "metadata": {},
     "output_type": "display_data"
    },
    {
     "name": "stdout",
     "output_type": "stream",
     "text": [
      "Index of Number of Aggregates\n"
     ]
    },
    {
     "data": {
      "text/plain": [
       "1×5008 CuArray{Int64, 2, CUDA.Mem.DeviceBuffer}:\n",
       " 1  1  1  1  1  1  1  1  1  1  1  1  1  …  2  2  2  2  2  2  2  2  2  2  2  2"
      ]
     },
     "metadata": {},
     "output_type": "display_data"
    },
    {
     "name": "stdout",
     "output_type": "stream",
     "text": [
      "Index of Name of Aggregates\n"
     ]
    },
    {
     "data": {
      "text/plain": [
       "1×5008 Matrix{String}:\n",
       " \"HEK_1\"  \"HEK_1\"  \"HEK_1\"  \"HEK_1\"  …  \"HEK_2\"  \"HEK_2\"  \"HEK_2\"  \"HEK_2\""
      ]
     },
     "metadata": {},
     "output_type": "display_data"
    },
    {
     "name": "stdout",
     "output_type": "stream",
     "text": [
      "====================== Position =====================\n"
     ]
    },
    {
     "data": {
      "text/plain": [
       "5008×3 CuArray{Float32, 2, CUDA.Mem.DeviceBuffer}:\n",
       " -16.77  -4.62  -13.88\n",
       " -14.77  -4.62  -13.88\n",
       " -12.77  -4.62  -13.88\n",
       " -19.77  -2.89  -13.88\n",
       " -17.77  -2.89  -13.88\n",
       " -15.77  -2.89  -13.88\n",
       " -13.77  -2.89  -13.88\n",
       " -11.77  -2.89  -13.88\n",
       " -20.77  -1.15  -13.88\n",
       " -18.77  -1.15  -13.88\n",
       " -16.77  -1.15  -13.88\n",
       " -14.77  -1.15  -13.88\n",
       " -12.77  -1.15  -13.88\n",
       "   ⋮            \n",
       "  13.77   1.15   13.88\n",
       "  15.77   1.15   13.88\n",
       "  17.77   1.15   13.88\n",
       "  19.77   1.15   13.88\n",
       "  10.77   2.89   13.88\n",
       "  12.77   2.89   13.88\n",
       "  14.77   2.89   13.88\n",
       "  16.77   2.89   13.88\n",
       "  18.77   2.89   13.88\n",
       "  13.77   4.62   13.88\n",
       "  15.77   4.62   13.88\n",
       "  17.77   4.62   13.88"
      ]
     },
     "metadata": {},
     "output_type": "display_data"
    },
    {
     "name": "stdout",
     "output_type": "stream",
     "text": [
      "======================== Geometry ===================\n",
      "Radius_agg\n"
     ]
    },
    {
     "data": {
      "text/plain": [
       "1×5008 Matrix{Float32}:\n",
       " 15.27  15.27  15.27  15.27  15.27  …  15.27  15.27  15.27  15.27  15.27"
      ]
     },
     "metadata": {},
     "output_type": "display_data"
    },
    {
     "name": "stdout",
     "output_type": "stream",
     "text": [
      "Outline\n"
     ]
    },
    {
     "data": {
      "text/plain": [
       "1×5008 Matrix{Int64}:\n",
       " 1  1  1  1  1  1  1  1  1  1  1  1  1  …  1  1  1  1  1  1  1  1  1  1  1  1"
      ]
     },
     "metadata": {},
     "output_type": "display_data"
    },
    {
     "name": "stdout",
     "output_type": "stream",
     "text": [
      "Outer/Total = 0.46325878594249204\n",
      "====================== Simulation ===================\n",
      "---------------------- Parameter --------------------\n",
      "Force\n"
     ]
    },
    {
     "data": {
      "text/plain": [
       "Cubic{CuArray{Float32, 1, CUDA.Mem.DeviceBuffer}}(Float32[0.01, 0.01, 0.01, 0.01, 0.01, 0.01, 0.01, 0.01, 0.01, 0.01  …  0.01, 0.01, 0.01, 0.01, 0.01, 0.01, 0.01, 0.01, 0.01, 0.01], Float32[2.0, 2.0, 2.0, 2.0, 2.0, 2.0, 2.0, 2.0, 2.0, 2.0  …  2.0, 2.0, 2.0, 2.0, 2.0, 2.0, 2.0, 2.0, 2.0, 2.0], Float32[3.0, 3.0, 3.0, 3.0, 3.0, 3.0, 3.0, 3.0, 3.0, 3.0  …  3.0, 3.0, 3.0, 3.0, 3.0, 3.0, 3.0, 3.0, 3.0, 3.0])"
      ]
     },
     "metadata": {},
     "output_type": "display_data"
    },
    {
     "name": "stdout",
     "output_type": "stream",
     "text": [
      "Contractile\n"
     ]
    },
    {
     "data": {
      "text/plain": [
       "ContractilePar(Float32[0.001, 0.001, 0.001, 0.001, 0.001, 0.001, 0.001, 0.001, 0.001, 0.001  …  0.001, 0.001, 0.001, 0.001, 0.001, 0.001, 0.001, 0.001, 0.001, 0.001])"
      ]
     },
     "metadata": {},
     "output_type": "display_data"
    },
    {
     "name": "stdout",
     "output_type": "stream",
     "text": [
      "Radius\n"
     ]
    },
    {
     "data": {
      "text/plain": [
       "2-element CuArray{Float32, 1, CUDA.Mem.DeviceBuffer}:\n",
       " 15.27\n",
       " 15.27"
      ]
     },
     "metadata": {},
     "output_type": "display_data"
    },
    {
     "name": "stdout",
     "output_type": "stream",
     "text": [
      "------------------ Neighbors Size -------------------\n",
      "idx      = (5008, 5008)\n",
      "idx_red  = (21, 5008)\n",
      "idx_sum  = (1, 5008)\n",
      "idx_cont = (50, 5008)\n",
      "------------------- Forces Size ---------------------\n",
      "dX       = (5008, 3)\n",
      "F        = (5008, 3)\n"
     ]
    }
   ],
   "source": [
    "@time @start_agg FusionAGG = FusionAggregate(\n",
    "    [\n",
    "        AggType(\n",
    "            \"HEK_1\", \n",
    "            InteractionPar(\n",
    "                Cubic(0.01,2.0,3.0), \n",
    "                ContractilePar(0.001)\n",
    "            ),\n",
    "            Float64.(readdlm(\"../../data/init/Sphere/15.0.xyz\")[3:end,2:end]) |> cu\n",
    "        ),\n",
    "        AggType(\n",
    "            \"HEK_2\", \n",
    "            InteractionPar(\n",
    "                Cubic(0.01,2.0,3.0), \n",
    "                ContractilePar(0.001)\n",
    "            ),\n",
    "            Float64.(readdlm(\"../../data/init/Sphere/15.0.xyz\")[3:end,2:end]) |> cu\n",
    "        )\n",
    "    ], \n",
    "    Model\n",
    ")\n",
    "show_aggregates(FusionAGG)"
   ]
  },
  {
   "attachments": {},
   "cell_type": "markdown",
   "metadata": {},
   "source": [
    "# kNN"
   ]
  },
  {
   "cell_type": "code",
   "execution_count": 4,
   "metadata": {},
   "outputs": [
    {
     "name": "stdout",
     "output_type": "stream",
     "text": [
      "------------------------ SIZE ------------------------\n",
      "r_max         = 3.0\n",
      "Size X        = (5008, 3)\n",
      "Size idx      = (5008, 5008)\n",
      "Size idx_real  = (5008, 5008)\n",
      "Size idx_sum   = (1, 5008)\n",
      "Size idx_red   = (21, 5008)\n",
      "Threads = (32, 32) | Blocks  = (157, 157)\n",
      "Threads = 256 | Blocks  = 20\n",
      "Threads = (32, 32) | Blocks  = (157, 157)\n",
      " 19.878302 seconds (31.21 M allocations: 1.773 GiB, 3.23% gc time, 17.23% compilation time)\n",
      "------------------------ IDX -------------------------\n",
      "idx\n"
     ]
    },
    {
     "data": {
      "text/plain": [
       "5008×5008 CuArray{Int64, 2, CUDA.Mem.DeviceBuffer}:\n",
       " 1  1  0   0   1   1   0   0   0   0  …     0     0     0     0     0     0\n",
       " 2  2  2   0   0   2   2   0   0   0        0     0     0     0     0     0\n",
       " 0  3  3   0   0   0   3   3   0   0        0     0     0     0     0     0\n",
       " 0  0  0   4   4   0   0   0   4   4        0     0     0     0     0     0\n",
       " 5  0  0   5   5   5   0   0   0   5        0     0     0     0     0     0\n",
       " 6  6  0   0   6   6   6   0   0   0  …     0     0     0     0     0     0\n",
       " 0  7  7   0   0   7   7   7   0   0        0     0     0     0     0     0\n",
       " 0  0  8   0   0   0   8   8   0   0        0     0     0     0     0     0\n",
       " 0  0  0   9   0   0   0   0   9   9        0     0     0     0     0     0\n",
       " 0  0  0  10  10   0   0   0  10  10        0     0     0     0     0     0\n",
       " 0  0  0   0  11  11   0   0   0  11  …     0     0     0     0     0     0\n",
       " 0  0  0   0   0  12  12   0   0   0        0     0     0     0     0     0\n",
       " 0  0  0   0   0   0  13  13   0   0        0     0     0     0     0     0\n",
       " ⋮                 ⋮                  ⋱                       ⋮        \n",
       " 0  0  0   0   0   0   0   0   0   0     4997     0     0     0     0     0\n",
       " 0  0  0   0   0   0   0   0   0   0     4998  4998     0     0     0     0\n",
       " 0  0  0   0   0   0   0   0   0   0        0  4999  4999     0     0     0\n",
       " 0  0  0   0   0   0   0   0   0   0        0     0  5000     0     0     0\n",
       " 0  0  0   0   0   0   0   0   0   0  …     0     0     0     0     0     0\n",
       " 0  0  0   0   0   0   0   0   0   0     5002     0     0  5002     0     0\n",
       " 0  0  0   0   0   0   0   0   0   0     5003  5003     0  5003  5003     0\n",
       " 0  0  0   0   0   0   0   0   0   0     5004  5004  5004     0  5004  5004\n",
       " 0  0  0   0   0   0   0   0   0   0        0  5005  5005     0     0  5005\n",
       " 0  0  0   0   0   0   0   0   0   0  …  5006     0     0  5006  5006     0\n",
       " 0  0  0   0   0   0   0   0   0   0     5007  5007     0  5007  5007  5007\n",
       " 0  0  0   0   0   0   0   0   0   0        0  5008  5008     0  5008  5008"
      ]
     },
     "metadata": {},
     "output_type": "display_data"
    },
    {
     "name": "stdout",
     "output_type": "stream",
     "text": [
      "idx_red\n"
     ]
    },
    {
     "data": {
      "text/plain": [
       "21×5008 CuArray{Int64, 2, CUDA.Mem.DeviceBuffer}:\n",
       "  1   1   2   4   1   1   2   3   4  …  4949  4950  4951  4957  4958  4959\n",
       "  2   2   3   5   4   2   3   7   9     4957  4958  4959  4964  4965  4966\n",
       "  5   3   7   9   5   5   6   8  10     4958  4959  4960  4965  4966  4967\n",
       "  6   6   8  10   6   6   7  13  15     4964  4965  4966  4971  4972  4973\n",
       " 35   7  37  40  10   7   8  14  48     4965  4966  4967  4972  4973  4974\n",
       " 36  36  38  41  11  11  12  44  49  …  4966  4967  4968  4973  4974  4975\n",
       " 37  37  39  42  41  12  13  45  50     4997  4998  4999  5002  5003  5004\n",
       " 42  38  44  49  42  42  43  46  57     4998  4999  5000  5003  5004  5005\n",
       " 43  43  45  50  43  43  44  53  58     5002  5003  5004  5006  5006  5007\n",
       " 51  44  53  58  50  44  45  54  66     5003  5004  5005  5007  5007  5008\n",
       "  0  52   0   0  51  51  52  62   0  …  5004  5005  5008     0  5008     0\n",
       "  0   0   0   0  59  52  53   0   0     5006  5007     0     0     0     0\n",
       "  0   0   0   0   0  60  61   0   0     5007  5008     0     0     0     0\n",
       "  0   0   0   0   0   0   0   0   0        0     0     0     0     0     0\n",
       "  0   0   0   0   0   0   0   0   0        0     0     0     0     0     0\n",
       "  0   0   0   0   0   0   0   0   0  …     0     0     0     0     0     0\n",
       "  0   0   0   0   0   0   0   0   0        0     0     0     0     0     0\n",
       "  0   0   0   0   0   0   0   0   0        0     0     0     0     0     0\n",
       "  0   0   0   0   0   0   0   0   0        0     0     0     0     0     0\n",
       "  0   0   0   0   0   0   0   0   0        0     0     0     0     0     0\n",
       "  0   0   0   0   0   0   0   0   0  …     0     0     0     0     0     0"
      ]
     },
     "metadata": {},
     "output_type": "display_data"
    },
    {
     "name": "stdout",
     "output_type": "stream",
     "text": [
      "idx_sum\n"
     ]
    },
    {
     "data": {
      "text/plain": [
       "1×5008 CuArray{Int64, 2, CUDA.Mem.DeviceBuffer}:\n",
       " 10  11  10  10  12  13  13  11  10  …  11  10  12  13  13  11  10  11  10"
      ]
     },
     "metadata": {},
     "output_type": "display_data"
    },
    {
     "name": "stdout",
     "output_type": "stream",
     "text": [
      "idx_cont\n"
     ]
    },
    {
     "data": {
      "text/plain": [
       "50×5008 CuArray{Int64, 2, CUDA.Mem.DeviceBuffer}:\n",
       " 51  43   2  58  41   7   7  54  66  …  5002  5005  5008  5007  4966  5005\n",
       "  1   7  37  40  51   2   8  62  48     4965  5004  4960  5003  4973  4973\n",
       "  2  37   7  50  11  51  53  54  49     4997  4958  4951  5006  4958  5008\n",
       " 36   3  45  58   5  52   8  13  50     5002  4966  5000  4973  4966  4974\n",
       " 51   2   7  41   4   6   8  13  50     4964  5007  5005  4957  5008  4967\n",
       "  5   7   8   4  11  43  44  45  15  …  5004  4958  5008  5003  4965  4959\n",
       " 51   2  44   5  50  42  43  13  48     5006  4958  4999  4965  4966  4966\n",
       " 37  52  45  50   5   2  61  62  66     4957  5005  4959  4965  4974  4967\n",
       "  1  44   7  10  11   1  53  45  48     4957  4967  5008  5007  4965  4974\n",
       " 36  52  39  10  11  52  12  54  66     5004  4966  4968  4972  4974  4966\n",
       " 42   7  37  10  11   6   8  46  10  …  4964  4967  4968  5007  5003  5007\n",
       " 37  43   8   4  50   2  61  13  50     5003  5005  4959  5006  4972  4967\n",
       "  2   3   7  41  51  51  61  14  10     4958  4999  4959  5002  5008  5005\n",
       "  ⋮                   ⋮              ⋱                       ⋮        \n",
       " 37   2  39  10  11  44  44  44  58     4964  4950  5008  4957  4965  5008\n",
       " 42   7  37   9  41  44  43  54  57     4966  4959  4960  5006  5006  5008\n",
       "  2  37   2  50   5   2  43  45  49  …  5002  4999  4966  5006  4974  4973\n",
       "  1   2  53  58   5  51  43  44  50     4957  4966  4951  5002  4972  4973\n",
       " 51  36  37   9   5  60  44  14  66     4998  5005  5000  4964  5004  5007\n",
       "  1   7   3  40  43  42  53  13  10     4957  5008  4968  5003  4972  4973\n",
       " 43  37   2  42  43  44  53  44   9     4949  4965  4959  4964  5008  4973\n",
       " 36  37   3  40   4   5   2   8  49  …  5002  4950  4951  4965  4958  4967\n",
       "  5  52  37   4  50   1   6  14  49     4966  5004  4967  5003  4958  4973\n",
       "  5  43   8  10  43  60   6  44  10     5002  4958  5004  5002  4974  5007\n",
       "  2   1   7  41  51  12  43  62  15     5003  4959  5000  5006  5006  5004\n",
       " 51   3  53   5  59  52  12   3  15     4964  5008  5008  4971  4974  4967"
      ]
     },
     "metadata": {},
     "output_type": "display_data"
    }
   ],
   "source": [
    "println(\"------------------------ SIZE ------------------------\")\n",
    "println(\"r_max         = $(FusionAGG.Type[1].Interaction.Force.rₘₐₓ)\")\n",
    "println(\"Size X        = $(size(FusionAGG.Position))\")\n",
    "println(\"Size idx      = $(size(FusionAGG.Simulation.Neighbor.idx))\")\n",
    "println(\"Size idx_real  = $(size(FusionAGG.Simulation.Neighbor.idx))\")\n",
    "println(\"Size idx_sum   = $(size(FusionAGG.Simulation.Neighbor.idx_sum))\")\n",
    "println(\"Size idx_red   = $(size(FusionAGG.Simulation.Neighbor.idx_red))\")\n",
    "@time nearest_neighbors(FusionAGG)\n",
    "println(\"------------------------ IDX -------------------------\")\n",
    "println(\"idx\")\n",
    "display(FusionAGG.Simulation.Neighbor.idx)\n",
    "println(\"idx_red\")\n",
    "display(FusionAGG.Simulation.Neighbor.idx_red)\n",
    "println(\"idx_sum\")\n",
    "display(FusionAGG.Simulation.Neighbor.idx_sum)\n",
    "println(\"idx_cont\")\n",
    "display(FusionAGG.Simulation.Neighbor.idx_cont)"
   ]
  },
  {
   "attachments": {},
   "cell_type": "markdown",
   "metadata": {},
   "source": [
    "# Force"
   ]
  },
  {
   "attachments": {},
   "cell_type": "markdown",
   "metadata": {},
   "source": [
    "## GPU"
   ]
  },
  {
   "cell_type": "code",
   "execution_count": 6,
   "metadata": {},
   "outputs": [
    {
     "name": "stdout",
     "output_type": "stream",
     "text": [
      "Force Parameter\n"
     ]
    },
    {
     "data": {
      "text/plain": [
       "Cubic{CuArray{Float32, 1, CUDA.Mem.DeviceBuffer}}(Float32[0.01, 0.01, 0.01, 0.01, 0.01, 0.01, 0.01, 0.01, 0.01, 0.01  …  0.01, 0.01, 0.01, 0.01, 0.01, 0.01, 0.01, 0.01, 0.01, 0.01], Float32[2.0, 2.0, 2.0, 2.0, 2.0, 2.0, 2.0, 2.0, 2.0, 2.0  …  2.0, 2.0, 2.0, 2.0, 2.0, 2.0, 2.0, 2.0, 2.0, 2.0], Float32[3.0, 3.0, 3.0, 3.0, 3.0, 3.0, 3.0, 3.0, 3.0, 3.0  …  3.0, 3.0, 3.0, 3.0, 3.0, 3.0, 3.0, 3.0, 3.0, 3.0])"
      ]
     },
     "metadata": {},
     "output_type": "display_data"
    },
    {
     "name": "stdout",
     "output_type": "stream",
     "text": [
      "Contractile Parameter\n"
     ]
    },
    {
     "data": {
      "text/plain": [
       "1×5008 adjoint(::CuArray{Float32, 1, CUDA.Mem.DeviceBuffer}) with eltype Float32:\n",
       " 0.001  0.001  0.001  0.001  0.001  …  0.001  0.001  0.001  0.001  0.001"
      ]
     },
     "metadata": {},
     "output_type": "display_data"
    },
    {
     "name": "stdout",
     "output_type": "stream",
     "text": [
      "Running CUDA kernel\n",
      "  0.000119 seconds (48 allocations: 3.250 KiB)\n",
      "Force\n"
     ]
    },
    {
     "data": {
      "text/plain": [
       "5008×3 CuArray{Float32, 2, CUDA.Mem.DeviceBuffer}:\n",
       "  0.0          -0.000831988  -0.00021189\n",
       "  0.000500419  -0.000305165  -0.000451029\n",
       "  0.001        -1.49224f-5    0.000364654\n",
       "  0.0          -0.000683325  -0.00021189\n",
       "  0.0006991     0.000556282  -0.000212382\n",
       " -0.001         0.000164602   0.000364654\n",
       "  0.0           0.000164602   0.000364654\n",
       " -0.0004915    -0.000141072  -0.00045103\n",
       "  2.49331f-5   -0.000900311  -0.000213387\n",
       " -0.000498284   0.000708258   0.000364828\n",
       "  0.000706996   0.000251302  -0.000211375\n",
       " -0.000498284   0.000708258   0.000364828\n",
       "  0.000706996   0.000251302  -0.000211375\n",
       "  ⋮                          \n",
       "  0.000500444   0.00102452   -0.000364828\n",
       " -0.000498284  -0.000708258  -0.000364828\n",
       "  0.001         0.000158756  -0.000364828\n",
       "  0.000966149   9.98547f-5   -0.000364828\n",
       "  0.000500419   0.000156502   0.00045103\n",
       " -8.91939f-6   -0.000725658   0.000452453\n",
       "  0.001        -0.000164602  -0.000364654\n",
       " -0.001        -0.000164602  -0.000364654\n",
       "  0.000509364  -0.00101494   -0.000364654\n",
       " -0.001         1.49224f-5   -0.000364654\n",
       " -0.000500419   0.000305165   0.000451029\n",
       " -0.000500444   0.000880691  -0.000364654"
      ]
     },
     "metadata": {},
     "output_type": "display_data"
    }
   ],
   "source": [
    "println(\"Force Parameter\")\n",
    "display(FusionAGG.Simulation.Parameter.Force)\n",
    "println(\"Contractile Parameter\")\n",
    "display(FusionAGG.Simulation.Parameter.Contractile.fₚ')\n",
    "println(\"Running CUDA kernel\")\n",
    "@time cu_force(FusionAGG,1.0)\n",
    "println(\"Force\")\n",
    "display(FusionAGG.Simulation.Force.F)"
   ]
  },
  {
   "attachments": {},
   "cell_type": "markdown",
   "metadata": {},
   "source": [
    "## CPU"
   ]
  },
  {
   "cell_type": "code",
   "execution_count": 28,
   "metadata": {},
   "outputs": [
    {
     "data": {
      "text/plain": [
       "3"
      ]
     },
     "execution_count": 28,
     "metadata": {},
     "output_type": "execute_result"
    }
   ],
   "source": [
    "size(fieldnames(Cubic),1)"
   ]
  },
  {
   "cell_type": "code",
   "execution_count": 55,
   "metadata": {},
   "outputs": [
    {
     "data": {
      "text/plain": [
       "1"
      ]
     },
     "execution_count": 55,
     "metadata": {},
     "output_type": "execute_result"
    }
   ],
   "source": [
    "X_CPU          = Matrix(FusionAGG.Position)\n",
    "idx_red_CPU    = Matrix(FusionAGG.Simulation.Neighbor.idx_red)\n",
    "idx_cont_CPU   = Matrix(FusionAGG.Simulation.Neighbor.idx_cont)\n",
    "force_CPU      = zeros(size(X_CPU))\n",
    "\n",
    "Param = vcat(\n",
    "        [\n",
    "            unique(\n",
    "                getfield(FusionAGG.Simulation.Parameter.Force, fieldnames(Cubic)[i])\n",
    "            ) for i=1:size(fieldnames(Cubic),1)\n",
    "    ]...)\n",
    "Param          = Cubic(Param...)\n",
    "A_con          = unique(FusionAGG.Simulation.Parameter.Contractile.fₚ)[1]\n",
    "\n",
    "t_knn = 1"
   ]
  },
  {
   "cell_type": "code",
   "execution_count": 56,
   "metadata": {},
   "outputs": [
    {
     "data": {
      "text/plain": [
       "5008×3 Matrix{Float64}:\n",
       "  0.0          -0.000831988  -0.00021189\n",
       "  0.000500419  -0.000305165  -0.000451029\n",
       "  0.001        -1.49224e-5    0.000364654\n",
       "  0.0          -0.000683325  -0.00021189\n",
       "  0.0006991     0.000556282  -0.000212382\n",
       " -0.001         0.000164602   0.000364654\n",
       "  0.0           0.000164602   0.000364654\n",
       " -0.0004915    -0.000141072  -0.00045103\n",
       "  2.49332e-5   -0.000900313  -0.000213385\n",
       " -0.000498284   0.000708257   0.000364829\n",
       "  0.000706996   0.0002513    -0.000211373\n",
       " -0.000498284   0.000708257   0.000364829\n",
       "  0.000706996   0.0002513    -0.000211373\n",
       "  ⋮                          \n",
       "  0.000500444   0.00102453   -0.000364829\n",
       " -0.000498284  -0.000708257  -0.000364829\n",
       "  0.001         0.000158757  -0.000364829\n",
       "  0.000966149   9.98561e-5   -0.000364829\n",
       "  0.000500419   0.000156502   0.00045103\n",
       " -8.91939e-6   -0.000725658   0.000452453\n",
       "  0.001        -0.000164602  -0.000364654\n",
       " -0.001        -0.000164602  -0.000364654\n",
       "  0.000509364  -0.00101494   -0.000364654\n",
       " -0.001         1.49224e-5   -0.000364654\n",
       " -0.000500419   0.000305165   0.000451029\n",
       " -0.000500444   0.000880691  -0.000364654"
      ]
     },
     "metadata": {},
     "output_type": "display_data"
    }
   ],
   "source": [
    "function runCPU()\n",
    "    for j = 1:size(idx_red_CPU,1)\n",
    "        for i =1:size(X_CPU,1)\n",
    "            if idx_red_CPU[j,i] != 0 && idx_red_CPU[j,i] != i\n",
    "                dist = euclidean(X_CPU,i,idx_red_CPU[j,i])\n",
    "                force_CPU[i,:] += force_func(Param,dist) .* (X_CPU[i,:] - X_CPU[idx_red_CPU[j,i],:]) ./ dist\n",
    "            end\n",
    "        end\n",
    "    end\n",
    "\n",
    "    for i =1:size(X_CPU,1)\n",
    "        if idx_cont_CPU[t_knn,i] != i\n",
    "            dist = euclidean(X_CPU,i,idx_cont_CPU[t_knn,i])\n",
    "            force_CPU[i,:] += A_con .* (X_CPU[i,:] - X_CPU[idx_cont_CPU[t_knn,i],:]) ./ dist\n",
    "        end\n",
    "    end\n",
    "end\n",
    "\n",
    "runCPU()\n",
    "display(force_CPU)"
   ]
  },
  {
   "attachments": {},
   "cell_type": "markdown",
   "metadata": {},
   "source": [
    "## GPU vs CPU"
   ]
  },
  {
   "cell_type": "code",
   "execution_count": 62,
   "metadata": {},
   "outputs": [
    {
     "data": {
      "text/plain": [
       "\u001b[32m\u001b[1mTest Passed\u001b[22m\u001b[39m"
      ]
     },
     "execution_count": 62,
     "metadata": {},
     "output_type": "execute_result"
    }
   ],
   "source": [
    "using Test\n",
    "@test Matrix(FusionAGG.Simulation.Force.F) ≈ force_CPU atol=0.01"
   ]
  }
 ],
 "metadata": {
  "kernelspec": {
   "display_name": "Julia 1.6.7",
   "language": "julia",
   "name": "julia-1.6"
  },
  "language_info": {
   "file_extension": ".jl",
   "mimetype": "application/julia",
   "name": "julia",
   "version": "1.6.7"
  },
  "orig_nbformat": 4
 },
 "nbformat": 4,
 "nbformat_minor": 2
}
