{
 "cells": [
  {
   "attachments": {},
   "cell_type": "markdown",
   "metadata": {},
   "source": [
    "# Dependences"
   ]
  },
  {
   "cell_type": "code",
   "execution_count": 1,
   "metadata": {},
   "outputs": [
    {
     "data": {
      "text/plain": [
       "save_data"
      ]
     },
     "execution_count": 1,
     "metadata": {},
     "output_type": "execute_result"
    }
   ],
   "source": [
    "include(\"../../src/struct_data.jl\")"
   ]
  },
  {
   "attachments": {},
   "cell_type": "markdown",
   "metadata": {},
   "source": [
    "# Model"
   ]
  },
  {
   "cell_type": "code",
   "execution_count": 2,
   "metadata": {},
   "outputs": [
    {
     "name": "stdout",
     "output_type": "stream",
     "text": [
      "  0.000015 seconds (5 allocations: 208 bytes)\n",
      "ModelSet\n",
      "  Time: TimeModel\n",
      "    tₛᵢₘ: Float64 150000.0\n",
      "    dt: Float64 0.5\n",
      "    nₖₙₙ: Int64 100\n",
      "    nₛₐᵥₑ: Int64 50\n",
      "  Input: InputModel\n",
      "    outer_ratio: Float64 0.8\n",
      "    path_input: String \"../../data/init/Sphere\"\n",
      "  Output: OutputModel\n",
      "    name_output: String \"Test_1\"\n",
      "    path_output: String \"\"\n"
     ]
    }
   ],
   "source": [
    "@time model = ModelSet(\n",
    "    TimeModel(\n",
    "        tₛᵢₘ  = 150000.0,\n",
    "        dt    = 0.5,\n",
    "        nₖₙₙ  = 100,\n",
    "        nₛₐᵥₑ = 50\n",
    "    ),\n",
    "    InputModel(\n",
    "        outer_ratio = 0.8,\n",
    "        path_input  = \"../../data/init/Sphere\"\n",
    "    ),\n",
    "    OutputModel(\n",
    "        name_output = \"Test_1\",\n",
    "        path_output = \"\"\n",
    "    ) \n",
    ")\n",
    "\n",
    "dump(model)"
   ]
  },
  {
   "attachments": {},
   "cell_type": "markdown",
   "metadata": {},
   "source": [
    "# Aggregate"
   ]
  },
  {
   "cell_type": "code",
   "execution_count": 3,
   "metadata": {},
   "outputs": [
    {
     "name": "stdout",
     "output_type": "stream",
     "text": [
      "  7.245348 seconds (7.60 M allocations: 606.663 MiB, 4.64% gc time)\n"
     ]
    },
    {
     "data": {
      "text/plain": [
       "Aggregate(AggType[AggType(\"HEK_1\", InteractionPar(Cubic{Float64}(0.01, 2.0, 3.0), ContractilePar(0.001)), 15.27f0, Float32[-1.5 -4.62 -13.88; 0.5 -4.62 -13.88; … ; 0.5 4.62 13.88; 2.5 4.62 13.88], CuArray{Float32, 2, CUDA.Mem.DeviceBuffer}), AggType(\"HEK_2\", InteractionPar(Cubic{Float64}(0.01, 2.0, 3.0), ContractilePar(0.001)), 15.27f0, Float32[-1.5 -4.62 -13.88; 0.5 -4.62 -13.88; … ; 0.5 4.62 13.88; 2.5 4.62 13.88], CuArray{Float32, 2, CUDA.Mem.DeviceBuffer})], AggIndex([1, 1, 1, 1, 1, 1, 1, 1, 1, 1  …  2, 2, 2, 2, 2, 2, 2, 2, 2, 2], [1, 1, 1, 1, 1, 1, 1, 1, 1, 1  …  2, 2, 2, 2, 2, 2, 2, 2, 2, 2], [\"HEK_1\", \"HEK_1\", \"HEK_1\", \"HEK_1\", \"HEK_1\", \"HEK_1\", \"HEK_1\", \"HEK_1\", \"HEK_1\", \"HEK_1\"  …  \"HEK_2\", \"HEK_2\", \"HEK_2\", \"HEK_2\", \"HEK_2\", \"HEK_2\", \"HEK_2\", \"HEK_2\", \"HEK_2\", \"HEK_2\"]), Float32[-15.77 -4.62 -13.88; -13.77 -4.62 -13.88; … ; 14.77 4.62 13.88; 16.77 4.62 13.88], AggGeometry(Float32[15.27, 15.27, 15.27, 15.27, 15.27, 15.27, 15.27, 15.27, 15.27, 15.27  …  15.27, 15.27, 15.27, 15.27, 15.27, 15.27, 15.27, 15.27, 15.27, 15.27], [1, 1, 1, 1, 1, 1, 1, 1, 1, 1  …  1, 1, 1, 1, 1, 1, 1, 1, 1, 1]), AggSimulation(AggParameter(Cubic{CuArray{Float32, 1, CUDA.Mem.DeviceBuffer}}(Float32[0.01, 0.01, 0.01, 0.01, 0.01, 0.01, 0.01, 0.01, 0.01, 0.01  …  0.01, 0.01, 0.01, 0.01, 0.01, 0.01, 0.01, 0.01, 0.01, 0.01], Float32[2.0, 2.0, 2.0, 2.0, 2.0, 2.0, 2.0, 2.0, 2.0, 2.0  …  2.0, 2.0, 2.0, 2.0, 2.0, 2.0, 2.0, 2.0, 2.0, 2.0], Float32[3.0, 3.0, 3.0, 3.0, 3.0, 3.0, 3.0, 3.0, 3.0, 3.0  …  3.0, 3.0, 3.0, 3.0, 3.0, 3.0, 3.0, 3.0, 3.0, 3.0]), ContractilePar(Float32[0.001, 0.001, 0.001, 0.001, 0.001, 0.001, 0.001, 0.001, 0.001, 0.001  …  0.001, 0.001, 0.001, 0.001, 0.001, 0.001, 0.001, 0.001, 0.001, 0.001]), Float32[15.27, 15.27]), AggNeighbor(Int32[0 0 … 0 0; 0 0 … 0 0; … ; 0 0 … 0 0; 0 0 … 0 0], Float32[0.0 0.0 … 0.0 0.0; 0.0 0.0 … 0.0 0.0; … ; 0.0 0.0 … 0.0 0.0; 0.0 0.0 … 0.0 0.0], Int32[0 0 … 0 0], Int32[0 0 … 0 0; 0 0 … 0 0; … ; 0 0 … 0 0; 0 0 … 0 0]), AggForce(Float32[0.0 0.0 0.0; 0.0 0.0 0.0; … ; 0.0 0.0 0.0; 0.0 0.0 0.0], Float32[0.0 0.0 0.0; 0.0 0.0 0.0; … ; 0.0 0.0 0.0; 0.0 0.0 0.0], Float32[0.0 0.0 0.0; 0.0 0.0 0.0; … ; 0.0 0.0 0.0; 0.0 0.0 0.0])))"
      ]
     },
     "execution_count": 3,
     "metadata": {},
     "output_type": "execute_result"
    }
   ],
   "source": [
    "agg = nothing\n",
    "# @time @start_agg FusionAGG = FusionAggregate(\n",
    "@time agg = FusionAggregate(\n",
    "    [\n",
    "        AggType(\n",
    "            \"HEK_1\", \n",
    "            InteractionPar(\n",
    "                Cubic(0.01,2.0,3.0), \n",
    "                ContractilePar(0.001)\n",
    "            ),\n",
    "            Float64.(readdlm(\"../../data/init/Sphere/15.0.xyz\")[3:end,2:end]) |> cu\n",
    "        ),\n",
    "        AggType(\n",
    "            \"HEK_2\", \n",
    "            InteractionPar(\n",
    "                Cubic(0.01,2.0,3.0), \n",
    "                ContractilePar(0.001)\n",
    "            ),\n",
    "            Float64.(readdlm(\"../../data/init/Sphere/15.0.xyz\")[3:end,2:end]) |> cu\n",
    "        )\n",
    "    ], \n",
    "    model\n",
    ")\n",
    "# show_aggregates(agg)"
   ]
  },
  {
   "attachments": {},
   "cell_type": "markdown",
   "metadata": {},
   "source": [
    "# kNN"
   ]
  },
  {
   "cell_type": "code",
   "execution_count": 4,
   "metadata": {},
   "outputs": [
    {
     "name": "stdout",
     "output_type": "stream",
     "text": [
      "------------------------ SIZE ------------------------\n",
      "------------------------ IDX -------------------------\n"
     ]
    },
    {
     "data": {
      "text/plain": [
       "1000×5008 CuArray{Int32, 2, CUDA.Mem.DeviceBuffer}:\n",
       " 36  37  38  41  42  43  44  45  57  …  4965  4966  4967  4972  4973  4974\n",
       "  6   7   8  49   1   2   3   3  58     5006  5007  5008  5002  5003  5004\n",
       "  5   6   7  50  50   1   2  53  15     5007  5008  4959  5003  5004  5005\n",
       " 42  43  44   5  51  51  52  54  10     4958  4959  4960  4965  4966  4967\n",
       " 43  44  45  10   6  52  53   7  49     4957  4958  5004  4964  4965  4966\n",
       "  2   3   2   9   4   7   8  14   4  …  5002  5003  4999  5007  5006  5007\n",
       " 35   1  37  40  11   5   6  13  66     5004  5005  5000  4973  5008  4975\n",
       " 37  36  39  42  10  12  13  44  50     4997  4998  4966  4971  4972  4973\n",
       " 51  38  53  58  41  11  12  46  48     4998  4999  4968  4957  4974  4959\n",
       "  0  52   0   0  43  42  43  62   0     4964  4965  4951     0  4958     0\n",
       "  0   0   0   0  59  44  45   0   0  …  4966  4967     0     0     0     0\n",
       "  0   0   0   0   0  60  61   0   0     4949  4950     0     0     0     0\n",
       "  0   0   0   0   0   0   0   0   0        0     0     0     0     0     0\n",
       "  ⋮                   ⋮              ⋱                       ⋮        \n",
       "  0   0   0   0   0   0   0   0   0        0     0     0     0     0     0\n",
       "  0   0   0   0   0   0   0   0   0        0     0     0     0     0     0\n",
       "  0   0   0   0   0   0   0   0   0  …     0     0     0     0     0     0\n",
       "  0   0   0   0   0   0   0   0   0        0     0     0     0     0     0\n",
       "  0   0   0   0   0   0   0   0   0        0     0     0     0     0     0\n",
       "  0   0   0   0   0   0   0   0   0        0     0     0     0     0     0\n",
       "  0   0   0   0   0   0   0   0   0        0     0     0     0     0     0\n",
       "  0   0   0   0   0   0   0   0   0  …     0     0     0     0     0     0\n",
       "  0   0   0   0   0   0   0   0   0        0     0     0     0     0     0\n",
       "  0   0   0   0   0   0   0   0   0        0     0     0     0     0     0\n",
       "  0   0   0   0   0   0   0   0   0        0     0     0     0     0     0\n",
       "  0   0   0   0   0   0   0   0   0        0     0     0     0     0     0"
      ]
     },
     "metadata": {},
     "output_type": "display_data"
    }
   ],
   "source": [
    "include(\"../../src/neighbor.jl\")\n",
    "println(\"------------------------ SIZE ------------------------\")\n",
    "threads=(100)\n",
    "@cuda(\n",
    "    threads=threads,\n",
    "    blocks=cld.(size(agg.Position,1),threads),\n",
    "    shmem=prod(threads.+2)*sizeof(Float32),\n",
    "    dist_kernel!(\n",
    "        agg.Simulation.Neighbor.idx_red,\n",
    "        agg.Simulation.Neighbor.idx_cont,\n",
    "        agg.Simulation.Neighbor.idx_sum,\n",
    "        agg.Simulation.Neighbor.dist,\n",
    "        agg.Position,\n",
    "        agg.Simulation.Parameter.Force.rₘₐₓ\n",
    "    )\n",
    ")   \n",
    "\n",
    "println(\"------------------------ IDX -------------------------\")\n",
    "display(agg.Simulation.Neighbor.idx_red)"
   ]
  },
  {
   "attachments": {},
   "cell_type": "markdown",
   "metadata": {},
   "source": [
    "# Force"
   ]
  },
  {
   "attachments": {},
   "cell_type": "markdown",
   "metadata": {},
   "source": [
    "## Function"
   ]
  },
  {
   "cell_type": "code",
   "execution_count": 109,
   "metadata": {},
   "outputs": [
    {
     "name": "stdout",
     "output_type": "stream",
     "text": [
      "  0.664232 seconds (425.61 k CPU allocations: 21.675 MiB)\n"
     ]
    },
    {
     "data": {
      "text/plain": [
       "5008×3 CuArray{Float32, 2, CUDA.Mem.DeviceBuffer}:\n",
       "  0.000343683  -0.000804524   0.00217834\n",
       " -0.00192004    9.49909f-5    0.000496646\n",
       "  0.000857607  -0.000227333   0.000486911\n",
       "  7.94849f-5    9.09941f-5    0.000339867\n",
       "  0.000760225  -0.000894519   0.00073076\n",
       "  1.70067f-5    5.10882f-6    0.00027893\n",
       "  0.000131841  -0.00109986   -0.00024003\n",
       " -0.000173181   0.00122763    0.000779471\n",
       " -0.000792493  -0.0009112     0.00123763\n",
       " -0.0010657     0.0012037     0.00200908\n",
       "  0.0003555    -0.000951028  -0.000349401\n",
       " -0.000786957   0.000386862   0.00268051\n",
       " -0.000909325  -0.000665849  -0.00194618\n",
       "  ⋮                          \n",
       " -0.00205092    0.000663393  -0.000869943\n",
       "  0.00095276   -4.38057f-5   -0.000220083\n",
       "  0.000162065   9.10758f-5   -0.00028696\n",
       " -0.000114606   1.74376f-5   -0.000260867\n",
       "  0.000515796   0.00106938   -0.00152418\n",
       " -0.000117118  -0.000144619  -0.000328997\n",
       "  2.54273f-5    2.26527f-5   -0.000196898\n",
       " -0.000135551   0.0012455    -0.00303445\n",
       " -0.000697599   0.000796961  -0.0015551\n",
       " -0.00156849    0.00157201   -0.000652691\n",
       " -0.000831365   0.000964812  -0.00079236\n",
       "  0.000722019  -0.000662138  -0.000471303"
      ]
     },
     "metadata": {},
     "output_type": "display_data"
    },
    {
     "data": {
      "text/plain": [
       "5008×3 CuArray{Float32, 2, CUDA.Mem.DeviceBuffer}:\n",
       " -15.7754   -4.62317  -13.8639\n",
       " -13.7719   -4.62016  -13.8673\n",
       " -11.7638   -4.62089  -13.8644\n",
       " -18.7761   -2.8871   -13.8673\n",
       " -16.7688   -2.8886   -13.8659\n",
       " -14.77     -2.88894  -13.871\n",
       " -12.7683   -2.88944  -13.8709\n",
       " -10.7667   -2.88684  -13.867\n",
       " -19.7747   -1.1517   -13.8677\n",
       " -17.7693   -1.15297  -13.8675\n",
       " -15.7676   -1.15395  -13.8689\n",
       " -13.7726   -1.15325  -13.866\n",
       " -11.7698   -1.15183  -13.8722\n",
       "   ⋮                  \n",
       "  12.7705    1.15619   13.8681\n",
       "  14.7707    1.14985   13.8678\n",
       "  16.7683    1.15397   13.8701\n",
       "  18.7742    1.15392   13.8652\n",
       "   9.76678   2.8885    13.8657\n",
       "  11.77      2.88956   13.8703\n",
       "  13.7693    2.88693   13.866\n",
       "  15.7701    2.88633   13.8684\n",
       "  17.7722    2.89128   13.8688\n",
       "  12.7644    4.62204   13.8643\n",
       "  14.7701    4.62088   13.8687\n",
       "  16.7736    4.61851   13.8695"
      ]
     },
     "metadata": {},
     "output_type": "display_data"
    }
   ],
   "source": [
    "include(\"../../src/forces/forces.jl\")\n",
    "\n",
    "threads=(64,3)\n",
    "CUDA.@time @cuda(\n",
    "    threads = threads,\n",
    "    blocks = cld.(size(agg.Position,),threads),\n",
    "    shmem=prod(threads.+2)*sizeof(Float32),\n",
    "    sum_force!(\n",
    "        agg.Position,\n",
    "        agg.Simulation.Force.F,\n",
    "        agg.Simulation.Force.Pol,\n",
    "        agg.Simulation.Neighbor.idx_sum,\n",
    "        agg.Simulation.Neighbor.idx_red,\n",
    "        agg.Simulation.Parameter.Force,\n",
    "        agg.Simulation.Parameter.Contractile.fₚ,\n",
    "        atan(1),\n",
    "        cos(pi/3),\n",
    "        model.Time.dt\n",
    "    )\n",
    ")\n",
    "\n",
    "display(agg.Simulation.Force.F)\n",
    "display(agg.Position)"
   ]
  }
 ],
 "metadata": {
  "kernelspec": {
   "display_name": "Julia 1.9.1",
   "language": "julia",
   "name": "julia-1.9"
  },
  "language_info": {
   "file_extension": ".jl",
   "mimetype": "application/julia",
   "name": "julia",
   "version": "1.9.1"
  },
  "orig_nbformat": 4
 },
 "nbformat": 4,
 "nbformat_minor": 2
}
