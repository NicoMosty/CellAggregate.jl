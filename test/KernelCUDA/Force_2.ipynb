{
 "cells": [
  {
   "attachments": {},
   "cell_type": "markdown",
   "metadata": {},
   "source": [
    "# Dependences"
   ]
  },
  {
   "cell_type": "code",
   "execution_count": 1,
   "metadata": {},
   "outputs": [],
   "source": [
    "using CUDA\n",
    "using DelimitedFiles\n",
    "using Test\n",
    "using BenchmarkTools\n",
    "\n",
    "# initial data\n",
    "R_Agg = 13\n",
    "r_max = 3.0\n",
    "n_knn = 50\n",
    "idx_red_size =  r_max ≤ 2.80 ? 13 :\n",
    "            2.80 < r_max ≤ 3.45 ? 21 :\n",
    "            3.45 < r_max ≤ 3.80 ? 39 :\n",
    "            3.80 < r_max ≤ 4.00 ? 55 :\n",
    "            70\n",
    "X = Float64.(readdlm(\"../../../data/init/Sphere/$(R_Agg).xyz\")[3:end,2:end]) |> cu\n",
    "\n",
    "# kNN\n",
    "idx      = Int32.(zeros(size(X, 1), size(X, 1))) |> cu;\n",
    "idx_sum  = Int32.(zeros(1, size(idx, 1))) |> cu\n",
    "idx_red  = Int32.(zeros(idx_red_size, size(idx, 1))) |> cu\n",
    "idx_contractile =Int32.(zeros(n_knn,size(X,1))) |> cu\n",
    "\n",
    "# forces\n",
    "force = CUDA.zeros(size(X));"
   ]
  },
  {
   "attachments": {},
   "cell_type": "markdown",
   "metadata": {},
   "source": [
    "# Generic Functions"
   ]
  },
  {
   "cell_type": "code",
   "execution_count": 2,
   "metadata": {},
   "outputs": [
    {
     "data": {
      "text/plain": [
       "euclidean (generic function with 1 method)"
      ]
     },
     "execution_count": 2,
     "metadata": {},
     "output_type": "execute_result"
    }
   ],
   "source": [
    "# force_func\n",
    "cubic(A,r_max,r_min,dist) = - A * (dist-r_max)^2* (dist-r_min)\n",
    "\n",
    "# distances\n",
    "euclidean(points,i,j) = sqrt((points[i,1]-points[j,1])^2+(points[i,2]-points[j,2])^2+(points[i,3]-points[j,3])^2)"
   ]
  },
  {
   "attachments": {},
   "cell_type": "markdown",
   "metadata": {},
   "source": [
    "# idx"
   ]
  },
  {
   "attachments": {},
   "cell_type": "markdown",
   "metadata": {},
   "source": [
    "## functions"
   ]
  },
  {
   "cell_type": "code",
   "execution_count": 3,
   "metadata": {},
   "outputs": [
    {
     "data": {
      "text/plain": [
       "nearest_neighbors (generic function with 1 method)"
      ]
     },
     "execution_count": 3,
     "metadata": {},
     "output_type": "execute_result"
    }
   ],
   "source": [
    "function dist_kernel!(idx, points ,r_max)\n",
    "    # Defining Index for kernel\n",
    "    i = (blockIdx().x - 1) * blockDim().x + threadIdx().x\n",
    "    j = (blockIdx().y - 1) * blockDim().y + threadIdx().y\n",
    "    \n",
    "    # Limiting data inside matrix\n",
    "    if i <= size(points, 1) && j <= size(points, 1)\n",
    "        if euclidean(points,i,j) < r_max\n",
    "            idx[i, j] = i\n",
    "        else\n",
    "            idx[i, j] = 0\n",
    "        end \n",
    "    end\n",
    "    return nothing\n",
    "end\n",
    "\n",
    "function reduce_kernel(idx,idx_red,idx_sum)\n",
    "    # Defining Index for kernel\n",
    "    i  = (blockIdx().x-1) * blockDim().x + threadIdx().x\n",
    "\n",
    "    # Limiting data inside matrix\n",
    "    if i <= size(idx,1)\n",
    "        # Cleaning idx_sum\n",
    "        idx_sum[i] = 0\n",
    "        \n",
    "        # looping on each row for searching non-zero values\n",
    "        for j = 1:size(idx,1)\n",
    "            if idx[j,i] != 0\n",
    "                idx_sum[i] += 1\n",
    "                idx_red[idx_sum[i],i] = j\n",
    "            end\n",
    "        end\n",
    "    end\n",
    "    \n",
    "    return nothing\n",
    "end\n",
    "\n",
    "function index_contractile!(idx_contractile,idx_sum,idx_red)\n",
    "    # Defining Index for kernel\n",
    "    i = (blockIdx().x - 1) * blockDim().x + threadIdx().x\n",
    "    j = (blockIdx().y - 1) * blockDim().y + threadIdx().y\n",
    "\n",
    "    # Limiting data inside matrix\n",
    "    if i <= size(idx_contractile, 1) && j <= size(idx_contractile,2)\n",
    "        idx_contractile[i,j] = idx_red[rand(1:idx_sum[j]),j]\n",
    "    end\n",
    "    return nothing\n",
    "end\n",
    "\n",
    "function nearest_neighbors(idx, idx_red, idx_sum, idx_contractile, points ,r_max)\n",
    "    # Calculating Distance Matrix\n",
    "    threads =(32,32)\n",
    "    blocks  =cld.(size(points,1),threads)\n",
    "    @cuda threads=threads blocks=blocks dist_kernel!(idx, points ,r_max)\n",
    "\n",
    "    # Reducing Distance Matrix to Nearest Neighbors\n",
    "    threads=1024\n",
    "    blocks=cld.(size(idx,1),threads)\n",
    "    @cuda threads=threads blocks=blocks reduce_kernel(idx,idx_red,idx_sum)\n",
    "\n",
    "    # Finding index contractile\n",
    "    threads =(32,32)\n",
    "    blocks  =cld.(size(X,1),threads)\n",
    "    @cuda threads=threads blocks=blocks index_contractile!(idx_contractile,idx_sum,idx_red)\n",
    "end"
   ]
  },
  {
   "attachments": {},
   "cell_type": "markdown",
   "metadata": {},
   "source": [
    "## running"
   ]
  },
  {
   "cell_type": "code",
   "execution_count": 4,
   "metadata": {},
   "outputs": [
    {
     "name": "stdout",
     "output_type": "stream",
     "text": [
      "---------------------------------- VARIABLES ------------------------------------\n",
      "R_Agg = 13 | R_Max = 3.0 | col_size_idx = 21\n"
     ]
    },
    {
     "data": {
      "text/plain": [
       "1620×3 CuArray{Float32, 2, CUDA.Mem.DeviceBuffer}:\n",
       " -0.5  -4.04  -12.25\n",
       "  1.5  -4.04  -12.25\n",
       " -3.5  -2.31  -12.25\n",
       " -1.5  -2.31  -12.25\n",
       "  0.5  -2.31  -12.25\n",
       "  2.5  -2.31  -12.25\n",
       " -2.5  -0.58  -12.25\n",
       " -0.5  -0.58  -12.25\n",
       "  1.5  -0.58  -12.25\n",
       "  3.5  -0.58  -12.25\n",
       " -3.5   1.15  -12.25\n",
       " -1.5   1.15  -12.25\n",
       "  0.5   1.15  -12.25\n",
       "  ⋮           \n",
       "  0.5  -1.15   12.25\n",
       "  2.5  -1.15   12.25\n",
       " -2.5   0.58   12.25\n",
       " -0.5   0.58   12.25\n",
       "  1.5   0.58   12.25\n",
       "  3.5   0.58   12.25\n",
       " -3.5   2.31   12.25\n",
       " -1.5   2.31   12.25\n",
       "  0.5   2.31   12.25\n",
       "  2.5   2.31   12.25\n",
       " -0.5   4.04   12.25\n",
       "  1.5   4.04   12.25"
      ]
     },
     "metadata": {},
     "output_type": "display_data"
    },
    {
     "name": "stdout",
     "output_type": "stream",
     "text": [
      "------------------------------------ SIZES --------------------------------------\n",
      "Size → idx     = (1620, 1620)\n",
      "     → idx_sum = (1, 1620)\n",
      "     → idx_red = (21, 1620)\n",
      "------------------------------------ RESULTS ------------------------------------\n",
      "  12.990 μs (77 allocations: 4.03 KiB)\n",
      "----------------------------------- IDX RED -------------------------------------\n"
     ]
    },
    {
     "data": {
      "text/plain": [
       "21×1620 CuArray{Int32, 2, CUDA.Mem.DeviceBuffer}:\n",
       "  1   1   3   1   1   2   3   4   5  …  1580  1581  1582  1583  1589  1590\n",
       "  2   2   4   3   2   5   4   5   6     1581  1582  1583  1584  1590  1591\n",
       "  4   5   7   4   4   6   7   7   8     1582  1583  1584  1585  1591  1592\n",
       "  5   6  23   5   5   9   8   8   9     1588  1589  1590  1591  1596  1597\n",
       " 19  20  29   7   6  10  11   9  10     1589  1590  1591  1592  1597  1598\n",
       " 24  25  30   8   8  26  12  12  13  …  1595  1596  1597  1598  1601  1602\n",
       " 25  26  35  24   9  32  30  13  14     1611  1611  1612  1613  1616  1617\n",
       " 30  31  36  30  25  33  36  31  32     1615  1612  1613  1614  1617  1618\n",
       " 31  32  37  31  31  38  37  37  38     1616  1615  1616  1617  1619  1619\n",
       " 32  33   0  36  32  39  43  38  39        0  1616  1617  1618  1620  1620\n",
       "  0   0   0  37  37  40  44  44  45  …     0  1617  1618  1620     0     0\n",
       "  0   0   0  38  38   0  45  45  46        0  1619  1619     0     0     0\n",
       "  0   0   0   0  39   0   0  46  47        0     0  1620     0     0     0\n",
       "  0   0   0   0   0   0   0   0   0        0     0     0     0     0     0\n",
       "  0   0   0   0   0   0   0   0   0        0     0     0     0     0     0\n",
       "  0   0   0   0   0   0   0   0   0  …     0     0     0     0     0     0\n",
       "  0   0   0   0   0   0   0   0   0        0     0     0     0     0     0\n",
       "  0   0   0   0   0   0   0   0   0        0     0     0     0     0     0\n",
       "  0   0   0   0   0   0   0   0   0        0     0     0     0     0     0\n",
       "  0   0   0   0   0   0   0   0   0        0     0     0     0     0     0\n",
       "  0   0   0   0   0   0   0   0   0  …     0     0     0     0     0     0"
      ]
     },
     "metadata": {},
     "output_type": "display_data"
    },
    {
     "name": "stdout",
     "output_type": "stream",
     "text": [
      "----------------------------------- IDX SUM -------------------------------------\n"
     ]
    },
    {
     "data": {
      "text/plain": [
       "1×1620 CuArray{Int32, 2, CUDA.Mem.DeviceBuffer}:\n",
       " 10  10  9  12  13  11  12  13  13  10  …  13  13  10  9  12  13  11  10  10"
      ]
     },
     "metadata": {},
     "output_type": "display_data"
    },
    {
     "name": "stdout",
     "output_type": "stream",
     "text": [
      "------------------------------- IDX CONTRACTILE ---------------------------------\n"
     ]
    },
    {
     "data": {
      "text/plain": [
       "50×1620 CuArray{Int32, 2, CUDA.Mem.DeviceBuffer}:\n",
       " 30  31   3   1  39  10   7  38  47  …  1582  1582  1582  1620  1617  1590\n",
       " 30  32  23  24   9   2   3  46  46     1580  1583  1618  1598  1589  1619\n",
       " 25  32  29   1  32   5  30  38   5     1580  1611  1619  1613  1596  1598\n",
       " 32  32  36  30  38   5  30   9  32     1581  1583  1597  1598  1596  1592\n",
       "  4   2   3   3  37  10  44  38  38     1611  1589  1616  1614  1596  1592\n",
       " 30  32  35   4   8  40  36   5  45  …  1582  1590  1590  1584  1596  1591\n",
       "  1  26  37   8   4  39   8  13   6     1611  1619  1617  1585  1620  1602\n",
       " 19  31  36   7   8  38  37   7  47     1595  1619  1617  1617  1601  1592\n",
       " 30  20   3  37   1  10  11   9  45     1588  1582  1591  1585  1617  1591\n",
       " 19   6  35  38  32   9   4   8  39     1581  1611  1618  1598  1597  1597\n",
       " 31   1  37  37   5  26  36  13  10  …  1588  1581  1583  1617  1596  1618\n",
       " 19   2  37   5  31   2   3   4  46     1616  1617  1612  1585  1596  1602\n",
       " 31  20  29   8  25  40  11   9  32     1580  1581  1619  1585  1597  1620\n",
       "  ⋮                   ⋮              ⋱           ⋮                    \n",
       " 30   2   3   3  37   6  45   7  45     1611  1619  1619  1620  1590  1618\n",
       " 24  25  30  36   2  38  37  45  46     1580  1581  1612  1617  1616  1592\n",
       "  1  33  23   5  32  32  45   5  47  …  1595  1619  1618  1613  1597  1592\n",
       "  5  25  35  37  25  32   3  38  13     1588  1619  1584  1583  1619  1597\n",
       "  1  20   3  31  38  32   4   9   8     1616  1616  1584  1614  1601  1592\n",
       " 31   6  29  36   4   6  45   8  39     1589  1596  1591  1614  1620  1619\n",
       " 32  26   4   5  25  33  37  31   9     1595  1581  1590  1585  1616  1591\n",
       " 32  33  30  36   5   9   8  37  32  …  1611  1619  1582  1618  1616  1591\n",
       " 25  25  35   3  31  39  43   9  32     1580  1616  1620  1598  1597  1618\n",
       " 30  33   7  37   5  26   4   8  39     1589  1590  1616  1613  1597  1620\n",
       " 24  26  35  31   1   6  30   5  32     1589  1590  1619  1617  1620  1590\n",
       "  4  32  30  37  31   2  30  46  14     1616  1589  1618  1613  1591  1598"
      ]
     },
     "metadata": {},
     "output_type": "display_data"
    },
    {
     "name": "stdout",
     "output_type": "stream",
     "text": [
      "---------------------------------- Memory Used ----------------------------------\n",
      "Effective GPU memory usage: 30.49% (610.562 MiB/1.955 GiB)\n",
      "No memory pool is in use."
     ]
    }
   ],
   "source": [
    "println(\"---------------------------------- VARIABLES ------------------------------------\")\n",
    "println(\"R_Agg = $(R_Agg) | R_Max = $(r_max) | col_size_idx = $(idx_red_size)\")\n",
    "display(X)\n",
    "println(\"------------------------------------ SIZES --------------------------------------\")\n",
    "println(\"Size → idx     = $(size(idx))\")\n",
    "println(\"     → idx_sum = $(size(idx_sum))\")\n",
    "println(\"     → idx_red = $(size(idx_red))\")\n",
    "println(\"------------------------------------ RESULTS ------------------------------------\")\n",
    "@btime nearest_neighbors(idx, idx_red, idx_sum,idx_contractile, X ,r_max)\n",
    "println(\"----------------------------------- IDX RED -------------------------------------\")\n",
    "display(idx_red)\n",
    "println(\"----------------------------------- IDX SUM -------------------------------------\")\n",
    "display(idx_sum)\n",
    "println(\"------------------------------- IDX CONTRACTILE ---------------------------------\")\n",
    "display(idx_contractile)\n",
    "println(\"---------------------------------- Memory Used ----------------------------------\")\n",
    "CUDA.memory_status()  "
   ]
  },
  {
   "attachments": {},
   "cell_type": "markdown",
   "metadata": {},
   "source": [
    "# forces"
   ]
  },
  {
   "attachments": {},
   "cell_type": "markdown",
   "metadata": {},
   "source": [
    "## functions"
   ]
  },
  {
   "cell_type": "code",
   "execution_count": 5,
   "metadata": {},
   "outputs": [
    {
     "data": {
      "text/plain": [
       "sum_force! (generic function with 1 method)"
      ]
     },
     "execution_count": 5,
     "metadata": {},
     "output_type": "execute_result"
    }
   ],
   "source": [
    "function sum_force!(idx,idx_contractile,points,force, force_func,A,r_max,r_min,A_con,t_knn)\n",
    "    # Defining Index for kernel\n",
    "    i = (blockIdx().x - 1) * blockDim().x + threadIdx().x\n",
    "    k = (blockIdx().y - 1) * blockDim().y + threadIdx().y\n",
    "\n",
    "    # Limiting data inside matrix\n",
    "    if i <= size(points, 1) && k <= size(points, 2)\n",
    "\n",
    "        # Cleaning idx_sum\n",
    "        force[i,k] = 0\n",
    "        dist = 0\n",
    "\n",
    "        # Iterate on each row\n",
    "        for j=1:size(idx,1)\n",
    "\n",
    "            # Finding forces\n",
    "            if idx[j,i] != i && idx[j,i] != 0\n",
    "                dist = euclidean(points,i,idx[j,i])\n",
    "                force[i,k] +=force_func(A,r_max,r_min,dist) * (points[i,k]-points[idx[j,i],k]) / dist\n",
    "            end\n",
    "            \n",
    "        end\n",
    "\n",
    "        # Adding Contrractile Force\n",
    "        if idx_contractile[t_knn,i] != i && idx_contractile[t_knn,i] != 0\n",
    "            dist = euclidean(points,i,idx_contractile[t_knn,i])\n",
    "            force[i,k] += A_con*(points[i,k]-points[idx_contractile[t_knn,i],k])/dist\n",
    "        end\n",
    "        \n",
    "    end\n",
    "    return nothing\n",
    "end"
   ]
  },
  {
   "attachments": {},
   "cell_type": "markdown",
   "metadata": {},
   "source": [
    "## running"
   ]
  },
  {
   "cell_type": "code",
   "execution_count": 6,
   "metadata": {},
   "outputs": [
    {
     "data": {
      "text/plain": [
       "1"
      ]
     },
     "execution_count": 6,
     "metadata": {},
     "output_type": "execute_result"
    }
   ],
   "source": [
    "dt = 0.5\n",
    "A     = 0.1\n",
    "A_con = 0.001\n",
    "r_min = 2.0\n",
    "r_max = r_max\n",
    "\n",
    "t_knn = 1"
   ]
  },
  {
   "cell_type": "code",
   "execution_count": 13,
   "metadata": {},
   "outputs": [
    {
     "name": "stdout",
     "output_type": "stream",
     "text": [
      "  7.146 μs (52 allocations: 2.64 KiB)\n"
     ]
    },
    {
     "data": {
      "text/plain": [
       "1620×3 CuArray{Float32, 2, CUDA.Mem.DeviceBuffer}:\n",
       "  0.000706573  -0.000870194   0.00482211\n",
       "  0.000706573  -0.000870194   0.00482211\n",
       " -8.91818f-5   -5.35724f-5    0.00573757\n",
       " -0.000589626   0.000812196   0.00573757\n",
       " -0.000705556  -0.00030851    0.00515901\n",
       " -0.000411262  -0.000919341   0.00573757\n",
       " -2.89773f-11   0.000266457   0.00527907\n",
       " -0.000499096   0.000550942   0.00446055\n",
       " -0.000705556  -0.000142765   0.00470051\n",
       "  0.000178364   0.00108186    0.00470017\n",
       " -0.000251113   0.00170953    0.00540328\n",
       " -2.89773f-11   0.00240127    0.00482271\n",
       "  0.000705556   0.00117784    0.00482472\n",
       "  ⋮                          \n",
       " -3.21325f-11  -0.0010096    -0.00458687\n",
       " -0.00083761   -0.00128253   -0.00458476\n",
       " -2.48566f-11   0.000311007  -0.00446266\n",
       "  0.000500444   0.000599311  -0.00527907\n",
       " -0.000500444   0.000599311  -0.00527907\n",
       "  0.00117836   -0.000266457  -0.00527907\n",
       " -0.000794738   0.000462795  -0.00515901\n",
       " -8.91819f-5    0.000631037  -0.00492116\n",
       "  0.000705556   0.00030851   -0.00515901\n",
       "  0.000589626  -0.000812196  -0.00573757\n",
       " -0.000500444   0.00132968   -0.0054015\n",
       "  0.000706573   0.000870193  -0.00482211"
      ]
     },
     "metadata": {},
     "output_type": "display_data"
    }
   ],
   "source": [
    "# GPU\n",
    "threads =(100,3)\n",
    "blocks  =cld.(size(X,1),threads)\n",
    "@btime @cuda threads=threads blocks=blocks sum_force!(idx_red,idx_contractile, X ,force, cubic,A,r_max,r_min,A_con,Int(t_knn))\n",
    "display(force)"
   ]
  },
  {
   "attachments": {},
   "cell_type": "markdown",
   "metadata": {},
   "source": [
    "## Pending (Test with CPU)"
   ]
  },
  {
   "cell_type": "code",
   "execution_count": 17,
   "metadata": {},
   "outputs": [
    {
     "data": {
      "text/plain": [
       "1620×3 Matrix{Float64}:\n",
       "  0.000706573  -0.000870193   0.00482211\n",
       "  0.000706573  -0.000870193   0.00482211\n",
       " -8.91819e-5   -5.35725e-5    0.00573757\n",
       " -0.000589626   0.000812196   0.00573757\n",
       " -0.000705556  -0.00030851    0.00515901\n",
       " -0.000411262  -0.000919341   0.00573757\n",
       "  0.0           0.000266458   0.00527907\n",
       " -0.000499096   0.000550942   0.00446055\n",
       " -0.000705556  -0.000142765   0.00470051\n",
       "  0.000178364   0.00108186    0.00470017\n",
       " -0.000251113   0.00170953    0.00540328\n",
       "  0.0           0.00240127    0.00482271\n",
       "  0.000705556   0.00117784    0.00482472\n",
       "  ⋮                          \n",
       "  0.0          -0.0010096    -0.00458687\n",
       " -0.000837609  -0.00128253   -0.00458476\n",
       "  0.0           0.000311007  -0.00446266\n",
       "  0.000500444   0.000599311  -0.00527907\n",
       " -0.000500444   0.000599311  -0.00527907\n",
       "  0.00117836   -0.000266458  -0.00527907\n",
       " -0.000794738   0.000462795  -0.00515901\n",
       " -8.91819e-5    0.000631037  -0.00492116\n",
       "  0.000705556   0.00030851   -0.00515901\n",
       "  0.000589626  -0.000812196  -0.00573757\n",
       " -0.000500444   0.00132968   -0.0054015\n",
       "  0.000706573   0.000870193  -0.00482211"
      ]
     },
     "metadata": {},
     "output_type": "display_data"
    }
   ],
   "source": [
    "# CPU\n",
    "X_CPU = Matrix(X)\n",
    "idx_red_CPU = Matrix(idx_red)\n",
    "idx_contractile_CPU = Matrix(idx_contractile)\n",
    "force_CPU = zeros(size((X)))\n",
    "\n",
    "function runCPU()\n",
    "    for j = 1:size(idx_red_CPU,1)\n",
    "        for i =1:size(X,1)\n",
    "            if idx_red_CPU[j,i] != 0 && idx_red_CPU[j,i] != i\n",
    "                dist = euclidean(X_CPU,i,idx_red_CPU[j,i])\n",
    "                force_CPU[i,:] += cubic.(A,r_max,r_min,dist) .* (X_CPU[i,:] - X_CPU[idx_red_CPU[j,i],:]) ./ dist\n",
    "            end\n",
    "        end\n",
    "    end\n",
    "\n",
    "    for i =1:size(X,1)\n",
    "        if idx_contractile_CPU[t_knn,i] != i\n",
    "            dist = euclidean(X_CPU,i,idx_contractile_CPU[t_knn,i])\n",
    "            force_CPU[i,:] += A_con .* (X_CPU[i,:] - X_CPU[idx_contractile_CPU[t_knn,i],:]) ./ dist\n",
    "        end\n",
    "    end\n",
    "end\n",
    "\n",
    "runCPU()\n",
    "display(force_CPU)"
   ]
  },
  {
   "cell_type": "code",
   "execution_count": 19,
   "metadata": {},
   "outputs": [
    {
     "data": {
      "text/plain": [
       "\u001b[32m\u001b[1mTest Passed\u001b[22m\u001b[39m"
      ]
     },
     "execution_count": 19,
     "metadata": {},
     "output_type": "execute_result"
    }
   ],
   "source": [
    "# testing\n",
    "@test Matrix(force) ≈ force_CPU atol=0.01"
   ]
  }
 ],
 "metadata": {
  "kernelspec": {
   "display_name": "Julia 1.6.7",
   "language": "julia",
   "name": "julia-1.6"
  },
  "language_info": {
   "file_extension": ".jl",
   "mimetype": "application/julia",
   "name": "julia",
   "version": "1.6.7"
  },
  "orig_nbformat": 4
 },
 "nbformat": 4,
 "nbformat_minor": 2
}
