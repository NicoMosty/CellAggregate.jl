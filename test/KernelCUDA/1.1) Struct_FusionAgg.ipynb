{
 "cells": [
  {
   "attachments": {},
   "cell_type": "markdown",
   "metadata": {},
   "source": [
    "# Dependences"
   ]
  },
  {
   "cell_type": "code",
   "execution_count": 7,
   "metadata": {},
   "outputs": [
    {
     "data": {
      "text/plain": [
       "FusionAggregate (generic function with 1 method)"
      ]
     },
     "execution_count": 7,
     "metadata": {},
     "output_type": "execute_result"
    }
   ],
   "source": [
    "include(\"../../src/struct_data.jl\")"
   ]
  },
  {
   "attachments": {},
   "cell_type": "markdown",
   "metadata": {},
   "source": [
    "# Input Data"
   ]
  },
  {
   "attachments": {},
   "cell_type": "markdown",
   "metadata": {},
   "source": [
    "# Model Parameter"
   ]
  },
  {
   "cell_type": "code",
   "execution_count": 2,
   "metadata": {},
   "outputs": [
    {
     "name": "stdout",
     "output_type": "stream",
     "text": [
      "  0.000002 seconds (3 allocations: 112 bytes)\n",
      "ModelSet\n",
      "  Time: TimeModel\n",
      "    tₛᵢₘ: Float64 10000.0\n",
      "    dt: Float64 0.5\n",
      "    nₖₙₙ: Int64 50\n",
      "    nₛₐᵥₑ: Int64 100\n",
      "  Input: InputModel\n",
      "    outer_ratio: Float64 0.8\n",
      "    path_input: String \"../../data/init/Sphere\"\n"
     ]
    }
   ],
   "source": [
    "@make_struct_func Cubic\n",
    "@time Model = ModelSet(\n",
    "    TimeModel(\n",
    "        tₛᵢₘ  = 10000.0,\n",
    "        dt    = 0.5,\n",
    "        nₖₙₙ  = 50,\n",
    "        nₛₐᵥₑ = 100\n",
    "    ),\n",
    "    InputModel(\n",
    "        outer_ratio = 0.8,\n",
    "        path_input = \"../../data/init/Sphere\"\n",
    "    )\n",
    ")\n",
    "dump(Model)"
   ]
  },
  {
   "attachments": {},
   "cell_type": "markdown",
   "metadata": {},
   "source": [
    "# Aggregate"
   ]
  },
  {
   "attachments": {},
   "cell_type": "markdown",
   "metadata": {},
   "source": [
    "## Fusion Aggs"
   ]
  },
  {
   "attachments": {},
   "cell_type": "markdown",
   "metadata": {},
   "source": [
    "### First"
   ]
  },
  {
   "cell_type": "code",
   "execution_count": 3,
   "metadata": {},
   "outputs": [
    {
     "name": "stdout",
     "output_type": "stream",
     "text": [
      "  1.965642 seconds (1.82 M allocations: 105.449 MiB, 1.25% gc time, 20.70% compilation time)\n",
      "===================================== One Aggregate =====================================\n",
      "AggType\n",
      "  Name: String \"HEK\"\n",
      "  Interaction: InteractionPar\n",
      "    Force: Cubic{Float64}\n",
      "      μ₁: Float64 1.0\n",
      "      rₘᵢₙ: Float64 2.0\n",
      "      rₘₐₓ: Float64 3.0\n",
      "    Contractile: ContractilePar\n",
      "      fₚ: Float64 0.01\n",
      "  Radius: Float32 15.27f0\n",
      "  Position: Array{Float32}((2504, 3)) Float32[-1.5 -4.62 -13.88; 0.5 -4.62 -13.88; … ; 0.5 4.62 13.88; 2.5 4.62 13.88]\n",
      "  Type: CuArray{Float32, 2, CUDA.Mem.DeviceBuffer} <: GPUArraysCore.AbstractGPUMatrix{Float32}\n",
      "    storage::Union{Nothing, CUDA.ArrayStorage{CUDA.Mem.DeviceBuffer}}\n",
      "    maxsize::Int64\n",
      "    offset::Int64\n",
      "    dims::Tuple{Int64, Int64}\n"
     ]
    }
   ],
   "source": [
    "AGG = Nothing\n",
    "@time AGG = AggType(\n",
    "    \"HEK\", \n",
    "    InteractionPar(\n",
    "        Cubic(1.0,2.0,3.0), \n",
    "        ContractilePar(0.01)\n",
    "    ),\n",
    "    Float64.(readdlm(\"../../data/init/Sphere/15.0.xyz\")[3:end,2:end]) |> cu\n",
    ")\n",
    "println(\"===================================== One Aggregate =====================================\")\n",
    "dump(AGG)"
   ]
  },
  {
   "cell_type": "code",
   "execution_count": 9,
   "metadata": {},
   "outputs": [
    {
     "name": "stdout",
     "output_type": "stream",
     "text": [
      "=================================== Fusion Aggregate ====================================\n"
     ]
    },
    {
     "ename": "LoadError",
     "evalue": "UndefVarError: ExtractData not defined",
     "output_type": "error",
     "traceback": [
      "UndefVarError: ExtractData not defined",
      "",
      "Stacktrace:",
      " [1] (::var\"#95#101\"{Vector{AggType}})(i::Int64)",
      "   @ Main ./none:0",
      " [2] iterate",
      "   @ ./generator.jl:47 [inlined]",
      " [3] collect(itr::Base.Generator{UnitRange{Int64}, var\"#95#101\"{Vector{AggType}}})",
      "   @ Base ./array.jl:681",
      " [4] Aggregate(agg_type::Vector{AggType}, location::Vector{AggLocation}, model::ModelSet)",
      "   @ Main ~/Documentos/Maestria-GitHub/CellAggregate.jl/src/struct_data.jl:123",
      " [5] FusionAggregate(init_set::Vector{AggType}, model::ModelSet)",
      "   @ Main ~/Documentos/Maestria-GitHub/CellAggregate.jl/src/functions/aggregate_functions.jl:33",
      " [6] top-level scope",
      "   @ ./timing.jl:210 [inlined]",
      " [7] top-level scope",
      "   @ ./In[9]:0"
     ]
    }
   ],
   "source": [
    "println(\"=================================== Fusion Aggregate ====================================\")\n",
    "FusionAGG = Nothing\n",
    "@time FusionAGG = FusionAggregate([AGG], Model)\n",
    "show_aggregates(FusionAGG)\n",
    "\n",
    "# TEXT = hcat(FusionAGG.Geometry.outline,Matrix(FusionAGG.Position))\n",
    "# open(\"fusion_test.xyz\", \"w\") do f\n",
    "#     write(f, \"$(size(FusionAGG.Position, 1))\\n\")\n",
    "#     write(f, \"t=$(0)\\n\")\n",
    "#     writedlm(f,TEXT, ' ')\n",
    "# end"
   ]
  }
 ],
 "metadata": {
  "kernelspec": {
   "display_name": "Julia 1.6.7",
   "language": "julia",
   "name": "julia-1.6"
  },
  "language_info": {
   "file_extension": ".jl",
   "mimetype": "application/julia",
   "name": "julia",
   "version": "1.6.7"
  },
  "orig_nbformat": 4
 },
 "nbformat": 4,
 "nbformat_minor": 2
}
