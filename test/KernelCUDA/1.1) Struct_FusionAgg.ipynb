{
 "cells": [
  {
   "attachments": {},
   "cell_type": "markdown",
   "metadata": {},
   "source": [
    "# Dependences"
   ]
  },
  {
   "cell_type": "code",
   "execution_count": 1,
   "metadata": {},
   "outputs": [
    {
     "data": {
      "text/plain": [
       "FusionAggregate (generic function with 1 method)"
      ]
     },
     "execution_count": 1,
     "metadata": {},
     "output_type": "execute_result"
    }
   ],
   "source": [
    "include(\"../../src/struct_data.jl\")"
   ]
  },
  {
   "attachments": {},
   "cell_type": "markdown",
   "metadata": {},
   "source": [
    "# Input Data"
   ]
  },
  {
   "attachments": {},
   "cell_type": "markdown",
   "metadata": {},
   "source": [
    "# Model Parameter"
   ]
  },
  {
   "cell_type": "code",
   "execution_count": 2,
   "metadata": {},
   "outputs": [
    {
     "name": "stdout",
     "output_type": "stream",
     "text": [
      "  0.000001 seconds (3 allocations: 112 bytes)\n",
      "ModelSet\n",
      "  Time: TimeModel\n",
      "    tₛᵢₘ: Float64 10000.0\n",
      "    dt: Float64 0.5\n",
      "    nₖₙₙ: Int64 50\n",
      "    nₛₐᵥₑ: Int64 100\n",
      "  Input: InputModel\n",
      "    outer_ratio: Float64 0.8\n",
      "    path_input: String \"../../data/init/Sphere\"\n"
     ]
    }
   ],
   "source": [
    "@time Model = ModelSet(\n",
    "    TimeModel(\n",
    "        tₛᵢₘ  = 10000.0,\n",
    "        dt    = 0.5,\n",
    "        nₖₙₙ  = 50,\n",
    "        nₛₐᵥₑ = 100\n",
    "    ),\n",
    "    InputModel(\n",
    "        outer_ratio = 0.8,\n",
    "        path_input = \"../../data/init/Sphere\"\n",
    "    )\n",
    ")\n",
    "dump(Model)"
   ]
  },
  {
   "attachments": {},
   "cell_type": "markdown",
   "metadata": {},
   "source": [
    "# Aggregate"
   ]
  },
  {
   "attachments": {},
   "cell_type": "markdown",
   "metadata": {},
   "source": [
    "## Fusion Aggs"
   ]
  },
  {
   "attachments": {},
   "cell_type": "markdown",
   "metadata": {},
   "source": [
    "### First"
   ]
  },
  {
   "cell_type": "code",
   "execution_count": 3,
   "metadata": {},
   "outputs": [
    {
     "name": "stdout",
     "output_type": "stream",
     "text": [
      "  1.788433 seconds (1.82 M allocations: 105.449 MiB, 0.69% gc time, 22.36% compilation time)\n",
      "===================================== One Aggregate =====================================\n",
      "AggType\n",
      "  Name: String \"HEK\"\n",
      "  Interaction: InteractionPar\n",
      "    Force: Cubic{Float64}\n",
      "      μ₁: Float64 1.0\n",
      "      rₘᵢₙ: Float64 2.0\n",
      "      rₘₐₓ: Float64 3.0\n",
      "    Contractile: ContractilePar\n",
      "      fₚ: Float64 0.01\n",
      "  Radius: Float32 15.27f0\n",
      "  Position: Array{Float32}((2504, 3)) Float32[-1.5 -4.62 -13.88; 0.5 -4.62 -13.88; … ; 0.5 4.62 13.88; 2.5 4.62 13.88]\n",
      "  Type: CuArray{Float32, 2, CUDA.Mem.DeviceBuffer} <: GPUArraysCore.AbstractGPUMatrix{Float32}\n",
      "    storage::Union{Nothing, CUDA.ArrayStorage{CUDA.Mem.DeviceBuffer}}\n",
      "    maxsize::Int64\n",
      "    offset::Int64\n",
      "    dims::Tuple{Int64, Int64}\n"
     ]
    }
   ],
   "source": [
    "@time @start_agg AGG = AggType(\n",
    "    \"HEK\", \n",
    "    InteractionPar(\n",
    "        Cubic(1.0,2.0,3.0), \n",
    "        ContractilePar(0.01)\n",
    "    ),\n",
    "    Float64.(readdlm(\"../../data/init/Sphere/15.0.xyz\")[3:end,2:end]) |> cu\n",
    ")\n",
    "println(\"===================================== One Aggregate =====================================\")\n",
    "dump(AGG)"
   ]
  },
  {
   "cell_type": "code",
   "execution_count": 4,
   "metadata": {},
   "outputs": [
    {
     "name": "stdout",
     "output_type": "stream",
     "text": [
      "=================================== Fusion Aggregate ====================================\n",
      "  5.215819 seconds (9.55 M allocations: 958.037 MiB, 3.68% gc time, 44.47% compilation time)\n",
      "========================= Type =======================\n"
     ]
    },
    {
     "data": {
      "text/plain": [
       "1-element Vector{AggType}:\n",
       " AggType(\"HEK\", InteractionPar(Cubic{Float64}(1.0, 2.0, 3.0), ContractilePar(0.01)), 15.27f0, Float32[-1.5 -4.62 -13.88; 0.5 -4.62 -13.88; … ; 0.5 4.62 13.88; 2.5 4.62 13.88], CuArray{Float32, 2, CUDA.Mem.DeviceBuffer})"
      ]
     },
     "metadata": {},
     "output_type": "display_data"
    },
    {
     "name": "stdout",
     "output_type": "stream",
     "text": [
      "======================   Index =======================\n",
      "Index of List of Aggregates\n"
     ]
    },
    {
     "data": {
      "text/plain": [
       "1×5008 CuArray{Int64, 2, CUDA.Mem.DeviceBuffer}:\n",
       " 1  1  1  1  1  1  1  1  1  1  1  1  1  …  1  1  1  1  1  1  1  1  1  1  1  1"
      ]
     },
     "metadata": {},
     "output_type": "display_data"
    },
    {
     "name": "stdout",
     "output_type": "stream",
     "text": [
      "Index of Number of Aggregates\n"
     ]
    },
    {
     "data": {
      "text/plain": [
       "1×5008 CuArray{Int64, 2, CUDA.Mem.DeviceBuffer}:\n",
       " 1  1  1  1  1  1  1  1  1  1  1  1  1  …  2  2  2  2  2  2  2  2  2  2  2  2"
      ]
     },
     "metadata": {},
     "output_type": "display_data"
    },
    {
     "name": "stdout",
     "output_type": "stream",
     "text": [
      "Index of Name of Aggregates\n"
     ]
    },
    {
     "data": {
      "text/plain": [
       "1×5008 Matrix{String}:\n",
       " \"HEK\"  \"HEK\"  \"HEK\"  \"HEK\"  \"HEK\"  …  \"HEK\"  \"HEK\"  \"HEK\"  \"HEK\"  \"HEK\""
      ]
     },
     "metadata": {},
     "output_type": "display_data"
    },
    {
     "name": "stdout",
     "output_type": "stream",
     "text": [
      "====================== Position =====================\n"
     ]
    },
    {
     "data": {
      "text/plain": [
       "5008×3 CuArray{Float32, 2, CUDA.Mem.DeviceBuffer}:\n",
       " -16.77  -4.62  -13.88\n",
       " -14.77  -4.62  -13.88\n",
       " -12.77  -4.62  -13.88\n",
       " -19.77  -2.89  -13.88\n",
       " -17.77  -2.89  -13.88\n",
       " -15.77  -2.89  -13.88\n",
       " -13.77  -2.89  -13.88\n",
       " -11.77  -2.89  -13.88\n",
       " -20.77  -1.15  -13.88\n",
       " -18.77  -1.15  -13.88\n",
       " -16.77  -1.15  -13.88\n",
       " -14.77  -1.15  -13.88\n",
       " -12.77  -1.15  -13.88\n",
       "   ⋮            \n",
       "  13.77   1.15   13.88\n",
       "  15.77   1.15   13.88\n",
       "  17.77   1.15   13.88\n",
       "  19.77   1.15   13.88\n",
       "  10.77   2.89   13.88\n",
       "  12.77   2.89   13.88\n",
       "  14.77   2.89   13.88\n",
       "  16.77   2.89   13.88\n",
       "  18.77   2.89   13.88\n",
       "  13.77   4.62   13.88\n",
       "  15.77   4.62   13.88\n",
       "  17.77   4.62   13.88"
      ]
     },
     "metadata": {},
     "output_type": "display_data"
    },
    {
     "name": "stdout",
     "output_type": "stream",
     "text": [
      "======================== Geometry ===================\n",
      "Radius_agg\n"
     ]
    },
    {
     "data": {
      "text/plain": [
       "1×5008 Matrix{Float32}:\n",
       " 15.27  15.27  15.27  15.27  15.27  …  15.27  15.27  15.27  15.27  15.27"
      ]
     },
     "metadata": {},
     "output_type": "display_data"
    },
    {
     "name": "stdout",
     "output_type": "stream",
     "text": [
      "Outline\n"
     ]
    },
    {
     "data": {
      "text/plain": [
       "1×5008 Matrix{Int64}:\n",
       " 1  1  1  1  1  1  1  1  1  1  1  1  1  …  1  1  1  1  1  1  1  1  1  1  1  1"
      ]
     },
     "metadata": {},
     "output_type": "display_data"
    },
    {
     "name": "stdout",
     "output_type": "stream",
     "text": [
      "Outer/Total = 0.46325878594249204\n",
      "====================== Simulation ===================\n",
      "---------------------- Parameter --------------------\n",
      "Force\n"
     ]
    },
    {
     "data": {
      "text/plain": [
       "Cubic{CuArray{Float32, 1, CUDA.Mem.DeviceBuffer}}(Float32[1.0, 1.0, 1.0, 1.0, 1.0, 1.0, 1.0, 1.0, 1.0, 1.0  …  1.0, 1.0, 1.0, 1.0, 1.0, 1.0, 1.0, 1.0, 1.0, 1.0], Float32[2.0, 2.0, 2.0, 2.0, 2.0, 2.0, 2.0, 2.0, 2.0, 2.0  …  2.0, 2.0, 2.0, 2.0, 2.0, 2.0, 2.0, 2.0, 2.0, 2.0], Float32[3.0, 3.0, 3.0, 3.0, 3.0, 3.0, 3.0, 3.0, 3.0, 3.0  …  3.0, 3.0, 3.0, 3.0, 3.0, 3.0, 3.0, 3.0, 3.0, 3.0])"
      ]
     },
     "metadata": {},
     "output_type": "display_data"
    },
    {
     "name": "stdout",
     "output_type": "stream",
     "text": [
      "Contractile\n"
     ]
    },
    {
     "data": {
      "text/plain": [
       "ContractilePar(Float32[0.01, 0.01, 0.01, 0.01, 0.01, 0.01, 0.01, 0.01, 0.01, 0.01  …  0.01, 0.01, 0.01, 0.01, 0.01, 0.01, 0.01, 0.01, 0.01, 0.01])"
      ]
     },
     "metadata": {},
     "output_type": "display_data"
    },
    {
     "name": "stdout",
     "output_type": "stream",
     "text": [
      "Radius\n"
     ]
    },
    {
     "data": {
      "text/plain": [
       "1-element CuArray{Float32, 1, CUDA.Mem.DeviceBuffer}:\n",
       " 15.27"
      ]
     },
     "metadata": {},
     "output_type": "display_data"
    },
    {
     "name": "stdout",
     "output_type": "stream",
     "text": [
      "------------------ Neighbors Size -------------------\n",
      "idx      = (5008, 5008)\n",
      "idx_red  = (21, 5008)\n",
      "idx_sum  = (1, 5008)\n",
      "idx_cont = (50, 5008)\n",
      "------------------- Forces Size ---------------------\n",
      "dX       = (5008, 3)\n",
      "F        = (5008, 3)\n"
     ]
    }
   ],
   "source": [
    "println(\"=================================== Fusion Aggregate ====================================\")\n",
    "@time @start_agg  FusionAGG = FusionAggregate([AGG], Model)\n",
    "show_aggregates(FusionAGG)\n",
    "\n",
    "# TEXT = hcat(FusionAGG.Geometry.outline,Matrix(FusionAGG.Position))\n",
    "# open(\"fusion_test.xyz\", \"w\") do f\n",
    "#     write(f, \"$(size(FusionAGG.Position, 1))\\n\")\n",
    "#     write(f, \"t=$(0)\\n\")\n",
    "#     writedlm(f,TEXT, ' ')\n",
    "# end"
   ]
  }
 ],
 "metadata": {
  "kernelspec": {
   "display_name": "Julia 1.6.7",
   "language": "julia",
   "name": "julia-1.6"
  },
  "language_info": {
   "file_extension": ".jl",
   "mimetype": "application/julia",
   "name": "julia",
   "version": "1.6.7"
  },
  "orig_nbformat": 4
 },
 "nbformat": 4,
 "nbformat_minor": 2
}
