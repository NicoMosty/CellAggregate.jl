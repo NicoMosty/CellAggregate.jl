{
 "cells": [
  {
   "attachments": {},
   "cell_type": "markdown",
   "metadata": {},
   "source": [
    "# Dependences"
   ]
  },
  {
   "cell_type": "code",
   "execution_count": 16,
   "metadata": {},
   "outputs": [
    {
     "data": {
      "text/plain": [
       "fusion_agg (generic function with 1 method)"
      ]
     },
     "execution_count": 16,
     "metadata": {},
     "output_type": "execute_result"
    }
   ],
   "source": [
    "include(\"../../src/struct_data.jl\")"
   ]
  },
  {
   "attachments": {},
   "cell_type": "markdown",
   "metadata": {},
   "source": [
    "# Input Data"
   ]
  },
  {
   "attachments": {},
   "cell_type": "markdown",
   "metadata": {},
   "source": [
    "# Model Parameter"
   ]
  },
  {
   "cell_type": "code",
   "execution_count": 17,
   "metadata": {},
   "outputs": [
    {
     "name": "stdout",
     "output_type": "stream",
     "text": [
      "  0.000002 seconds (3 allocations: 112 bytes)\n",
      "ModelSet\n",
      "  Time: TimeModel\n",
      "    tₛᵢₘ: Float64 10000.0\n",
      "    dt: Float64 0.5\n",
      "    nₖₙₙ: Int64 50\n",
      "    nₛₐᵥₑ: Int64 100\n",
      "  Input: InputModel\n",
      "    outer_ratio: Float64 0.8\n",
      "    path_input: String \"../../data/init/Sphere\"\n"
     ]
    }
   ],
   "source": [
    "@make_struct_func Cubic\n",
    "@time Model = ModelSet(\n",
    "    TimeModel(\n",
    "        tₛᵢₘ  = 10000.0,\n",
    "        dt    = 0.5,\n",
    "        nₖₙₙ  = 50,\n",
    "        nₛₐᵥₑ = 100\n",
    "    ),\n",
    "    InputModel(\n",
    "        outer_ratio = 0.8,\n",
    "        path_input = \"../../data/init/Sphere\"\n",
    "    )\n",
    ")\n",
    "dump(Model)"
   ]
  },
  {
   "attachments": {},
   "cell_type": "markdown",
   "metadata": {},
   "source": [
    "# Aggregate"
   ]
  },
  {
   "attachments": {},
   "cell_type": "markdown",
   "metadata": {},
   "source": [
    "## Fusion Aggs"
   ]
  },
  {
   "attachments": {},
   "cell_type": "markdown",
   "metadata": {},
   "source": [
    "### First"
   ]
  },
  {
   "cell_type": "code",
   "execution_count": 18,
   "metadata": {},
   "outputs": [
    {
     "name": "stdout",
     "output_type": "stream",
     "text": [
      "  0.150615 seconds (326.62 k allocations: 18.137 MiB)\n",
      "===================================== One Aggregate =====================================\n",
      "------------------ Agg Properties -------------------\n",
      "Name    = HEK\n",
      "Radius  = 15.270000457763672\n",
      "InteractionPar\n",
      "  Force: Cubic{Float64}\n",
      "    μ₁: Float64 1.0\n",
      "    rₘᵢₙ: Float64 2.0\n",
      "    rₘₐₓ: Float64 3.0\n",
      "  Contractile: ContractilePar\n",
      "    fₚ: Float64 0.01\n",
      "--------------------- Position ----------------------\n"
     ]
    },
    {
     "data": {
      "text/plain": [
       "2504×3 CuArray{Float32, 2, CUDA.Mem.DeviceBuffer}:\n",
       " -1.5  -4.62  -13.88\n",
       "  0.5  -4.62  -13.88\n",
       "  2.5  -4.62  -13.88\n",
       " -4.5  -2.89  -13.88\n",
       " -2.5  -2.89  -13.88\n",
       " -0.5  -2.89  -13.88\n",
       "  1.5  -2.89  -13.88\n",
       "  3.5  -2.89  -13.88\n",
       " -5.5  -1.15  -13.88\n",
       " -3.5  -1.15  -13.88\n",
       " -1.5  -1.15  -13.88\n",
       "  0.5  -1.15  -13.88\n",
       "  2.5  -1.15  -13.88\n",
       "  ⋮           \n",
       " -1.5   1.15   13.88\n",
       "  0.5   1.15   13.88\n",
       "  2.5   1.15   13.88\n",
       "  4.5   1.15   13.88\n",
       " -4.5   2.89   13.88\n",
       " -2.5   2.89   13.88\n",
       " -0.5   2.89   13.88\n",
       "  1.5   2.89   13.88\n",
       "  3.5   2.89   13.88\n",
       " -1.5   4.62   13.88\n",
       "  0.5   4.62   13.88\n",
       "  2.5   4.62   13.88"
      ]
     },
     "metadata": {},
     "output_type": "display_data"
    },
    {
     "name": "stdout",
     "output_type": "stream",
     "text": [
      "--------------------- Outline -----------------------\n"
     ]
    },
    {
     "data": {
      "text/plain": [
       "1×2504 adjoint(::Vector{Int64}) with eltype Int64:\n",
       " 1  1  1  1  1  1  1  1  1  1  1  1  1  …  1  1  1  1  1  1  1  1  1  1  1  1"
      ]
     },
     "metadata": {},
     "output_type": "display_data"
    },
    {
     "name": "stdout",
     "output_type": "stream",
     "text": [
      "Outer/Total = 0.46325878594249204\n"
     ]
    }
   ],
   "source": [
    "AGG = Nothing\n",
    "@time AGG = Aggregate(\n",
    "    \"HEK\", \n",
    "    InteractionPar(\n",
    "        Cubic(1.0,2.0,3.0), \n",
    "        ContractilePar(0.01)\n",
    "    ),\n",
    "    Float64.(readdlm(\"../../data/init/Sphere/15.0.xyz\")[3:end,2:end]) |> cu, \n",
    "    Model\n",
    ")\n",
    "println(\"===================================== One Aggregate =====================================\")\n",
    "show_aggregates(AGG)"
   ]
  },
  {
   "cell_type": "code",
   "execution_count": 19,
   "metadata": {},
   "outputs": [
    {
     "name": "stdout",
     "output_type": "stream",
     "text": [
      "=================================== Fusion Aggregate ====================================\n",
      "  0.167029 seconds (192.95 k allocations: 11.151 MiB, 93.59% compilation time)\n",
      "---------------- Aggs Type List ---------------------\n"
     ]
    },
    {
     "data": {
      "text/plain": [
       "1×4 Matrix{Any}:\n",
       " 1  …  InteractionPar(Cubic{Float64}(1.0, 2.0, 3.0), ContractilePar(0.01))"
      ]
     },
     "metadata": {},
     "output_type": "display_data"
    },
    {
     "name": "stdout",
     "output_type": "stream",
     "text": [
      "------------------- Aggs Index ----------------------\n",
      "Index of List of Aggregates\n"
     ]
    },
    {
     "data": {
      "text/plain": [
       "1×5008 CuArray{Int64, 2, CUDA.Mem.DeviceBuffer}:\n",
       " 1  1  1  1  1  1  1  1  1  1  1  1  1  …  1  1  1  1  1  1  1  1  1  1  1  1"
      ]
     },
     "metadata": {},
     "output_type": "display_data"
    },
    {
     "name": "stdout",
     "output_type": "stream",
     "text": [
      "Index of Number of Aggregates\n"
     ]
    },
    {
     "data": {
      "text/plain": [
       "1×5008 CuArray{Int64, 2, CUDA.Mem.DeviceBuffer}:\n",
       " 1  1  1  1  1  1  1  1  1  1  1  1  1  …  2  2  2  2  2  2  2  2  2  2  2  2"
      ]
     },
     "metadata": {},
     "output_type": "display_data"
    },
    {
     "name": "stdout",
     "output_type": "stream",
     "text": [
      "Index of Name of Aggregates\n"
     ]
    },
    {
     "data": {
      "text/plain": [
       "1×5008 Matrix{String}:\n",
       " \"HEK\"  \"HEK\"  \"HEK\"  \"HEK\"  \"HEK\"  …  \"HEK\"  \"HEK\"  \"HEK\"  \"HEK\"  \"HEK\""
      ]
     },
     "metadata": {},
     "output_type": "display_data"
    },
    {
     "name": "stdout",
     "output_type": "stream",
     "text": [
      "--------------------- Position ----------------------\n"
     ]
    },
    {
     "data": {
      "text/plain": [
       "5008×3 CuArray{Float32, 2, CUDA.Mem.DeviceBuffer}:\n",
       " -16.77  -4.62  -13.88\n",
       " -14.77  -4.62  -13.88\n",
       " -12.77  -4.62  -13.88\n",
       " -19.77  -2.89  -13.88\n",
       " -17.77  -2.89  -13.88\n",
       " -15.77  -2.89  -13.88\n",
       " -13.77  -2.89  -13.88\n",
       " -11.77  -2.89  -13.88\n",
       " -20.77  -1.15  -13.88\n",
       " -18.77  -1.15  -13.88\n",
       " -16.77  -1.15  -13.88\n",
       " -14.77  -1.15  -13.88\n",
       " -12.77  -1.15  -13.88\n",
       "   ⋮            \n",
       "  13.77   1.15   13.88\n",
       "  15.77   1.15   13.88\n",
       "  17.77   1.15   13.88\n",
       "  19.77   1.15   13.88\n",
       "  10.77   2.89   13.88\n",
       "  12.77   2.89   13.88\n",
       "  14.77   2.89   13.88\n",
       "  16.77   2.89   13.88\n",
       "  18.77   2.89   13.88\n",
       "  13.77   4.62   13.88\n",
       "  15.77   4.62   13.88\n",
       "  17.77   4.62   13.88"
      ]
     },
     "metadata": {},
     "output_type": "display_data"
    },
    {
     "name": "stdout",
     "output_type": "stream",
     "text": [
      "--------------------- Outline -----------------------\n"
     ]
    },
    {
     "data": {
      "text/plain": [
       "1×5008 adjoint(::Vector{Int64}) with eltype Int64:\n",
       " 1  1  1  1  1  1  1  1  1  1  1  1  1  …  1  1  1  1  1  1  1  1  1  1  1  1"
      ]
     },
     "metadata": {},
     "output_type": "display_data"
    },
    {
     "name": "stdout",
     "output_type": "stream",
     "text": [
      "Outer/Total = 0.46325878594249204\n"
     ]
    }
   ],
   "source": [
    "println(\"=================================== Fusion Aggregate ====================================\")\n",
    "FusionAGG = Nothing\n",
    "@time FusionAGG = fusion_agg(AGG)\n",
    "show_aggregates(FusionAGG)\n",
    "\n",
    "TEXT = hcat(FusionAGG.Outline,Matrix(FusionAGG.Position))\n",
    "open(\"tetero.xyz\", \"w\") do f\n",
    "    write(f, \"$(size(FusionAGG.Position, 1))\\n\")\n",
    "    write(f, \"t=$(0)\\n\")\n",
    "    writedlm(f,TEXT, ' ')\n",
    "end"
   ]
  },
  {
   "attachments": {},
   "cell_type": "markdown",
   "metadata": {},
   "source": [
    "# Simulation Struct"
   ]
  },
  {
   "cell_type": "code",
   "execution_count": 20,
   "metadata": {},
   "outputs": [
    {
     "name": "stdout",
     "output_type": "stream",
     "text": [
      "  0.313857 seconds (53.11 k allocations: 294.650 MiB, 12.01% gc time, 17.96% compilation time)\n",
      "============== Type of Matrix =============\n",
      "CuArray{Float32, 2, CUDA.Mem.DeviceBuffer}\n",
      "========== Neighbors Matrix Size ==========\n",
      "idx      = (5008, 5008)\n",
      "idx_red  = (21, 5008)\n",
      "idx_sum  = (1, 5008)\n",
      "idx_cont = (50, 5008)\n",
      "============ Forces Matrix Size ===========\n",
      "dX       = (5008, 3)\n",
      "F       = (5008, 3)\n"
     ]
    }
   ],
   "source": [
    "Simulation = Nothing\n",
    "@time Simulation = SimulationSet(FusionAGG, Model)\n",
    "show_simulation_set(Simulation)"
   ]
  }
 ],
 "metadata": {
  "kernelspec": {
   "display_name": "Julia 1.6.7",
   "language": "julia",
   "name": "julia-1.6"
  },
  "language_info": {
   "file_extension": ".jl",
   "mimetype": "application/julia",
   "name": "julia",
   "version": "1.6.7"
  },
  "orig_nbformat": 4
 },
 "nbformat": 4,
 "nbformat_minor": 2
}
