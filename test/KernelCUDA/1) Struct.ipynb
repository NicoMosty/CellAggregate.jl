{
 "cells": [
  {
   "attachments": {},
   "cell_type": "markdown",
   "metadata": {},
   "source": [
    "# Dependences"
   ]
  },
  {
   "cell_type": "code",
   "execution_count": 3,
   "metadata": {},
   "outputs": [
    {
     "ename": "LoadError",
     "evalue": "LoadError: syntax: missing comma or ) in argument list\nin expression starting at /home/nicomosty/Documentos/Maestria-GitHub/CellAggregate.jl/src/struct_data.jl:314",
     "output_type": "error",
     "traceback": [
      "LoadError: syntax: missing comma or ) in argument list\nin expression starting at /home/nicomosty/Documentos/Maestria-GitHub/CellAggregate.jl/src/struct_data.jl:314",
      "",
      "Stacktrace:",
      " [1] top-level scope",
      "   @ ~/Documentos/Maestria-GitHub/CellAggregate.jl/src/struct_data.jl:314",
      " [2] include(fname::String)",
      "   @ Base.MainInclude ./client.jl:444",
      " [3] top-level scope",
      "   @ In[3]:1"
     ]
    }
   ],
   "source": [
    "include(\"../../src/struct_data.jl\")"
   ]
  },
  {
   "attachments": {},
   "cell_type": "markdown",
   "metadata": {},
   "source": [
    "# Force Functions"
   ]
  },
  {
   "attachments": {},
   "cell_type": "markdown",
   "metadata": {},
   "source": [
    "## Cubic"
   ]
  },
  {
   "cell_type": "code",
   "execution_count": null,
   "metadata": {},
   "outputs": [
    {
     "name": "stdout",
     "output_type": "stream",
     "text": [
      "UnionAll\n",
      "  var: TypeVar\n",
      "    name: Symbol T\n",
      "    lb: Union{}\n",
      "    ub: Any\n",
      "  body: Cubic{T} <: ForceType\n",
      "    μ₁::T\n",
      "    rₘᵢₙ::T\n",
      "    rₘₐₓ::T\n"
     ]
    }
   ],
   "source": [
    "@make_struct_func Cubic\n",
    "dump(Cubic)"
   ]
  },
  {
   "cell_type": "code",
   "execution_count": null,
   "metadata": {},
   "outputs": [
    {
     "data": {
      "text/plain": [
       "3.0"
      ]
     },
     "execution_count": 81,
     "metadata": {},
     "output_type": "execute_result"
    }
   ],
   "source": [
    "# Parameters\n",
    "μ₁   = 1.0\n",
    "rₘₐₓ = 2.0\n",
    "rₘᵢₙ = 3.0"
   ]
  },
  {
   "cell_type": "code",
   "execution_count": null,
   "metadata": {},
   "outputs": [
    {
     "data": {
      "text/plain": [
       "Cubic{Float64}(1.0, 2.0, 3.0)"
      ]
     },
     "execution_count": 82,
     "metadata": {},
     "output_type": "execute_result"
    }
   ],
   "source": [
    "Cubic(μ₁,rₘₐₓ,rₘᵢₙ)"
   ]
  },
  {
   "cell_type": "code",
   "execution_count": null,
   "metadata": {},
   "outputs": [
    {
     "data": {
      "text/plain": [
       "4.0"
      ]
     },
     "execution_count": 83,
     "metadata": {},
     "output_type": "execute_result"
    }
   ],
   "source": [
    "# Show function on specific r value\n",
    "r = 1\n",
    "force_func(Cubic(μ₁,rₘₐₓ,rₘᵢₙ),r)"
   ]
  },
  {
   "attachments": {},
   "cell_type": "markdown",
   "metadata": {},
   "source": [
    "## LennardJones"
   ]
  },
  {
   "cell_type": "code",
   "execution_count": null,
   "metadata": {},
   "outputs": [
    {
     "name": "stdout",
     "output_type": "stream",
     "text": [
      "UnionAll\n",
      "  var: TypeVar\n",
      "    name: Symbol T\n",
      "    lb: Union{}\n",
      "    ub: Any\n",
      "  body: LennardJones{T} <: ForceType\n",
      "    μ₁::T\n",
      "    rₘᵢₙ::T\n",
      "    rₘₐₓ::T\n"
     ]
    }
   ],
   "source": [
    "@make_struct_func LennardJones\n",
    "dump(LennardJones)"
   ]
  },
  {
   "cell_type": "code",
   "execution_count": null,
   "metadata": {},
   "outputs": [
    {
     "data": {
      "text/plain": [
       "3.0"
      ]
     },
     "execution_count": 85,
     "metadata": {},
     "output_type": "execute_result"
    }
   ],
   "source": [
    "# Parameters\n",
    "μ₁   = 1.0\n",
    "rₘₐₓ = 2.0\n",
    "rₘᵢₙ = 3.0"
   ]
  },
  {
   "cell_type": "code",
   "execution_count": null,
   "metadata": {},
   "outputs": [
    {
     "data": {
      "text/plain": [
       "LennardJones{Float64}(1.0, 2.0, 3.0)"
      ]
     },
     "execution_count": 86,
     "metadata": {},
     "output_type": "execute_result"
    }
   ],
   "source": [
    "LennardJones(μ₁,rₘₐₓ,rₘᵢₙ)"
   ]
  },
  {
   "cell_type": "code",
   "execution_count": null,
   "metadata": {},
   "outputs": [
    {
     "data": {
      "text/plain": [
       "1.9609746568876094"
      ]
     },
     "execution_count": 87,
     "metadata": {},
     "output_type": "execute_result"
    }
   ],
   "source": [
    "# Show function on specific r value\n",
    "r = 1.9\n",
    "force_func(LennardJones(μ₁,rₘₐₓ,rₘᵢₙ),r)"
   ]
  },
  {
   "attachments": {},
   "cell_type": "markdown",
   "metadata": {},
   "source": [
    "# Aggregate"
   ]
  },
  {
   "attachments": {},
   "cell_type": "markdown",
   "metadata": {},
   "source": [
    "## Inizializate (Model Parameter)"
   ]
  },
  {
   "cell_type": "code",
   "execution_count": null,
   "metadata": {},
   "outputs": [
    {
     "data": {
      "text/plain": [
       "ModelPar(TimePar(10000.0, 0.5), NeighborPar(50), GeometryPar(13.0, [0 0 0; 1 0 0], 0.7), SimulationPar(100, \"../../data/init/Sphere\", \"AAA\", \"Queso\"))"
      ]
     },
     "execution_count": 88,
     "metadata": {},
     "output_type": "execute_result"
    }
   ],
   "source": [
    "Model = ModelPar(\n",
    "    TimePar(\n",
    "        t_f      = 10000.0,\n",
    "        dt       = 0.5\n",
    "    ),\n",
    "    NeighborPar(n_knn = 50),\n",
    "    GeometryPar(\n",
    "        r_agg    = 13.0,\n",
    "        position = [0 0 0;\n",
    "                    1 0 0],\n",
    "        outer_ratio = 0.7\n",
    "    ),\n",
    "    SimulationPar(\n",
    "        n_text     = 100,\n",
    "        path_input = \"../../data/init/Sphere\",\n",
    "        path_ouput = \"AAA\",\n",
    "        name_cell  = \"Queso\"\n",
    "    )\n",
    ")"
   ]
  },
  {
   "attachments": {},
   "cell_type": "markdown",
   "metadata": {},
   "source": [
    "## One Agg"
   ]
  },
  {
   "cell_type": "code",
   "execution_count": null,
   "metadata": {},
   "outputs": [
    {
     "name": "stdout",
     "output_type": "stream",
     "text": [
      "  0.207682 seconds (279.06 k allocations: 16.261 MiB, 6.45% gc time)\n",
      "===== Agg Position Matrix ======\n"
     ]
    },
    {
     "data": {
      "text/plain": [
       "1620×3 CuArray{Float32, 2, CUDA.Mem.DeviceBuffer}:\n",
       " -0.5  -4.04  -12.25\n",
       "  1.5  -4.04  -12.25\n",
       " -3.5  -2.31  -12.25\n",
       " -1.5  -2.31  -12.25\n",
       "  0.5  -2.31  -12.25\n",
       "  2.5  -2.31  -12.25\n",
       " -2.5  -0.58  -12.25\n",
       " -0.5  -0.58  -12.25\n",
       "  1.5  -0.58  -12.25\n",
       "  3.5  -0.58  -12.25\n",
       " -3.5   1.15  -12.25\n",
       " -1.5   1.15  -12.25\n",
       "  0.5   1.15  -12.25\n",
       "  ⋮           \n",
       "  0.5  -1.15   12.25\n",
       "  2.5  -1.15   12.25\n",
       " -2.5   0.58   12.25\n",
       " -0.5   0.58   12.25\n",
       "  1.5   0.58   12.25\n",
       "  3.5   0.58   12.25\n",
       " -3.5   2.31   12.25\n",
       " -1.5   2.31   12.25\n",
       "  0.5   2.31   12.25\n",
       "  2.5   2.31   12.25\n",
       " -0.5   4.04   12.25\n",
       "  1.5   4.04   12.25"
      ]
     },
     "metadata": {},
     "output_type": "display_data"
    },
    {
     "name": "stdout",
     "output_type": "stream",
     "text": [
      "========== Agg Radius ==========\n",
      "r_agg      = 12.983333333333334\n",
      "====== Position of Aggregate =====\n"
     ]
    },
    {
     "data": {
      "text/plain": [
       "1×3 Matrix{Int64}:\n",
       " 0  0  0"
      ]
     },
     "metadata": {},
     "output_type": "display_data"
    },
    {
     "name": "stdout",
     "output_type": "stream",
     "text": [
      "===== Position Matrix Size =====\n",
      "X          = (1620, 3)\n",
      "dX         = (1620, 3)\n",
      "===== Neighbors Matrix Size ====\n",
      "idx        = (1620, 1620)\n",
      "idx_red    = (21, 1620)\n",
      "idx_sum    = (1, 1620)\n",
      "idx_cont   = (1, 1620)\n",
      "======= Force Matrix Size =======\n",
      "F          = (1620, 3)\n",
      "======= Index Aggregate =========\n"
     ]
    },
    {
     "data": {
      "text/plain": [
       "1×1620 adjoint(::Matrix{Int64}) with eltype Int64:\n",
       " 1  1  1  1  1  1  1  1  1  1  1  1  1  …  1  1  1  1  1  1  1  1  1  1  1  1"
      ]
     },
     "metadata": {},
     "output_type": "display_data"
    },
    {
     "name": "stdout",
     "output_type": "stream",
     "text": [
      "===== Outer vs Inner Cells =====\n"
     ]
    },
    {
     "data": {
      "text/plain": [
       "1×1620 adjoint(::Vector{Int64}) with eltype Int64:\n",
       " 1  1  1  1  1  1  1  1  1  1  1  1  1  …  1  1  1  1  1  1  1  1  1  1  1  1"
      ]
     },
     "metadata": {},
     "output_type": "display_data"
    },
    {
     "name": "stdout",
     "output_type": "stream",
     "text": [
      "Outer/Total = 0.6580246913580247\n"
     ]
    }
   ],
   "source": [
    "AGG = Nothing\n",
    "@time AGG = OneAgg(Model, Cubic(1,2,3), ContractilePar(1))\n",
    "show_agg(AGG)"
   ]
  },
  {
   "attachments": {},
   "cell_type": "markdown",
   "metadata": {},
   "source": [
    "## Two Aggs"
   ]
  },
  {
   "cell_type": "code",
   "execution_count": null,
   "metadata": {},
   "outputs": [],
   "source": [
    "# @time AGG = MoreAgg(AGG,Model, Cubic(1,2,3), ContractilePar(1))\n",
    "# show_agg(AGG)"
   ]
  },
  {
   "attachments": {},
   "cell_type": "markdown",
   "metadata": {},
   "source": [
    "## Fusion Agg"
   ]
  },
  {
   "cell_type": "code",
   "execution_count": null,
   "metadata": {},
   "outputs": [
    {
     "name": "stdout",
     "output_type": "stream",
     "text": [
      "  0.139296 seconds (202.67 k allocations: 12.429 MiB, 99.46% compilation time)\n",
      "===== Agg Position Matrix ======\n"
     ]
    },
    {
     "data": {
      "text/plain": [
       "3240×3 CuArray{Float32, 2, CUDA.Mem.DeviceBuffer}:\n",
       " -13.4833   -4.04  -12.25\n",
       " -11.4833   -4.04  -12.25\n",
       " -16.4833   -2.31  -12.25\n",
       " -14.4833   -2.31  -12.25\n",
       " -12.4833   -2.31  -12.25\n",
       " -10.4833   -2.31  -12.25\n",
       " -15.4833   -0.58  -12.25\n",
       " -13.4833   -0.58  -12.25\n",
       " -11.4833   -0.58  -12.25\n",
       "  -9.48333  -0.58  -12.25\n",
       " -16.4833    1.15  -12.25\n",
       " -14.4833    1.15  -12.25\n",
       " -12.4833    1.15  -12.25\n",
       "   ⋮               \n",
       "  13.4833   -1.15   12.25\n",
       "  15.4833   -1.15   12.25\n",
       "  10.4833    0.58   12.25\n",
       "  12.4833    0.58   12.25\n",
       "  14.4833    0.58   12.25\n",
       "  16.4833    0.58   12.25\n",
       "   9.48333   2.31   12.25\n",
       "  11.4833    2.31   12.25\n",
       "  13.4833    2.31   12.25\n",
       "  15.4833    2.31   12.25\n",
       "  12.4833    4.04   12.25\n",
       "  14.4833    4.04   12.25"
      ]
     },
     "metadata": {},
     "output_type": "display_data"
    },
    {
     "name": "stdout",
     "output_type": "stream",
     "text": [
      "========== Agg Radius ==========\n",
      "r_agg      = 12.983333587646484\n",
      "====== Position of Aggregate =====\n"
     ]
    },
    {
     "data": {
      "text/plain": [
       "2×3 Matrix{Float64}:\n",
       " -12.9833  0.0  0.0\n",
       "  12.9833  0.0  0.0"
      ]
     },
     "metadata": {},
     "output_type": "display_data"
    },
    {
     "name": "stdout",
     "output_type": "stream",
     "text": [
      "===== Position Matrix Size =====\n",
      "X          = (3240, 3)\n",
      "dX         = (3240, 3)\n",
      "===== Neighbors Matrix Size ====\n",
      "idx        = (3240, 3240)\n",
      "idx_red    = (21, 3240)\n",
      "idx_sum    = (1, 3240)\n",
      "idx_cont   = (1, 3240)\n",
      "======= Force Matrix Size =======\n",
      "F          = (3240, 3)\n",
      "======= Index Aggregate =========\n"
     ]
    },
    {
     "data": {
      "text/plain": [
       "1×3240 adjoint(::Matrix{Int64}) with eltype Int64:\n",
       " 1  1  1  1  1  1  1  1  1  1  1  1  1  …  2  2  2  2  2  2  2  2  2  2  2  2"
      ]
     },
     "metadata": {},
     "output_type": "display_data"
    },
    {
     "name": "stdout",
     "output_type": "stream",
     "text": [
      "===== Outer vs Inner Cells =====\n"
     ]
    },
    {
     "data": {
      "text/plain": [
       "1×3240 adjoint(::Vector{Int64}) with eltype Int64:\n",
       " 1  1  1  1  1  1  1  1  1  1  1  1  1  …  1  1  1  1  1  1  1  1  1  1  1  1"
      ]
     },
     "metadata": {},
     "output_type": "display_data"
    },
    {
     "name": "stdout",
     "output_type": "stream",
     "text": [
      "Outer/Total = 0.6580246913580247\n"
     ]
    }
   ],
   "source": [
    "@time AGG = FusionAgg(AGG,Model, Cubic(1,2,3), ContractilePar(1))\n",
    "show_agg(AGG)"
   ]
  }
 ],
 "metadata": {
  "kernelspec": {
   "display_name": "Julia 1.6.7",
   "language": "julia",
   "name": "julia-1.6"
  },
  "language_info": {
   "file_extension": ".jl",
   "mimetype": "application/julia",
   "name": "julia",
   "version": "1.6.7"
  },
  "orig_nbformat": 4
 },
 "nbformat": 4,
 "nbformat_minor": 2
}
