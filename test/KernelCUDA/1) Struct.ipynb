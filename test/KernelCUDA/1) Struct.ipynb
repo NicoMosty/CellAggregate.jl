{
 "cells": [
  {
   "attachments": {},
   "cell_type": "markdown",
   "metadata": {},
   "source": [
    "# Dependences"
   ]
  },
  {
   "cell_type": "code",
   "execution_count": 1,
   "metadata": {},
   "outputs": [
    {
     "data": {
      "text/plain": [
       "Aggregate"
      ]
     },
     "execution_count": 1,
     "metadata": {},
     "output_type": "execute_result"
    }
   ],
   "source": [
    "include(\"../../src/struct_data.jl\")"
   ]
  },
  {
   "attachments": {},
   "cell_type": "markdown",
   "metadata": {},
   "source": [
    "# Force Functions"
   ]
  },
  {
   "attachments": {},
   "cell_type": "markdown",
   "metadata": {},
   "source": [
    "## Cubic"
   ]
  },
  {
   "cell_type": "code",
   "execution_count": 2,
   "metadata": {},
   "outputs": [
    {
     "name": "stdout",
     "output_type": "stream",
     "text": [
      "UnionAll\n",
      "  var: TypeVar\n",
      "    name: Symbol T\n",
      "    lb: Union{}\n",
      "    ub: Any\n",
      "  body: Cubic{T} <: ForceType\n",
      "    μ₁::T\n",
      "    rₘᵢₙ::T\n",
      "    rₘₐₓ::T\n"
     ]
    }
   ],
   "source": [
    "@make_struct_func Cubic\n",
    "dump(Cubic)"
   ]
  },
  {
   "cell_type": "code",
   "execution_count": 3,
   "metadata": {},
   "outputs": [
    {
     "data": {
      "text/plain": [
       "3.0"
      ]
     },
     "execution_count": 3,
     "metadata": {},
     "output_type": "execute_result"
    }
   ],
   "source": [
    "# Parameters\n",
    "μ₁   = 1.0\n",
    "rₘₐₓ = 2.0\n",
    "rₘᵢₙ = 3.0"
   ]
  },
  {
   "cell_type": "code",
   "execution_count": 4,
   "metadata": {},
   "outputs": [
    {
     "data": {
      "text/plain": [
       "Cubic{Float64}(1.0, 2.0, 3.0)"
      ]
     },
     "execution_count": 4,
     "metadata": {},
     "output_type": "execute_result"
    }
   ],
   "source": [
    "Cubic(μ₁,rₘₐₓ,rₘᵢₙ)"
   ]
  },
  {
   "cell_type": "code",
   "execution_count": 5,
   "metadata": {},
   "outputs": [
    {
     "data": {
      "text/plain": [
       "4.0"
      ]
     },
     "execution_count": 5,
     "metadata": {},
     "output_type": "execute_result"
    }
   ],
   "source": [
    "# Show function on specific r value\n",
    "r = 1\n",
    "force_func(Cubic(μ₁,rₘₐₓ,rₘᵢₙ),r)"
   ]
  },
  {
   "attachments": {},
   "cell_type": "markdown",
   "metadata": {},
   "source": [
    "## LennardJones"
   ]
  },
  {
   "cell_type": "code",
   "execution_count": 6,
   "metadata": {},
   "outputs": [
    {
     "name": "stdout",
     "output_type": "stream",
     "text": [
      "UnionAll\n",
      "  var: TypeVar\n",
      "    name: Symbol T\n",
      "    lb: Union{}\n",
      "    ub: Any\n",
      "  body: LennardJones{T} <: ForceType\n",
      "    μ₁::T\n",
      "    rₘᵢₙ::T\n",
      "    rₘₐₓ::T\n"
     ]
    }
   ],
   "source": [
    "@make_struct_func LennardJones\n",
    "dump(LennardJones)"
   ]
  },
  {
   "cell_type": "code",
   "execution_count": 7,
   "metadata": {},
   "outputs": [
    {
     "data": {
      "text/plain": [
       "3.0"
      ]
     },
     "execution_count": 7,
     "metadata": {},
     "output_type": "execute_result"
    }
   ],
   "source": [
    "# Parameters\n",
    "μ₁   = 1.0\n",
    "rₘₐₓ = 2.0\n",
    "rₘᵢₙ = 3.0"
   ]
  },
  {
   "cell_type": "code",
   "execution_count": 8,
   "metadata": {},
   "outputs": [
    {
     "data": {
      "text/plain": [
       "LennardJones{Float64}(1.0, 2.0, 3.0)"
      ]
     },
     "execution_count": 8,
     "metadata": {},
     "output_type": "execute_result"
    }
   ],
   "source": [
    "LennardJones(μ₁,rₘₐₓ,rₘᵢₙ)"
   ]
  },
  {
   "cell_type": "code",
   "execution_count": 9,
   "metadata": {},
   "outputs": [
    {
     "data": {
      "text/plain": [
       "1.9609746568876094"
      ]
     },
     "execution_count": 9,
     "metadata": {},
     "output_type": "execute_result"
    }
   ],
   "source": [
    "# Show function on specific r value\n",
    "r = 1.9\n",
    "force_func(LennardJones(μ₁,rₘₐₓ,rₘᵢₙ),r)"
   ]
  },
  {
   "attachments": {},
   "cell_type": "markdown",
   "metadata": {},
   "source": [
    "# Model Parameter Struct"
   ]
  },
  {
   "cell_type": "code",
   "execution_count": 42,
   "metadata": {},
   "outputs": [
    {
     "data": {
      "text/plain": [
       "ModelPar(TimePar(10000.0, 0.5), NeighborPar(50), GeometryPar(15.0, [0 0 0; 100 0 0], 0.8), SimulationPar(100, \"AAA\", \"AAA\", \"Queso\"))"
      ]
     },
     "execution_count": 42,
     "metadata": {},
     "output_type": "execute_result"
    }
   ],
   "source": [
    "ModelPar(\n",
    "    TimePar(\n",
    "        t_f      = 10000.0,\n",
    "        dt       = 0.5\n",
    "    ),\n",
    "    NeighborPar(\n",
    "        n_knn    = 50\n",
    "    ),\n",
    "    GeometryPar(\n",
    "        r_agg       = 15,\n",
    "        position    = [0 0 0;\n",
    "                       100 0 0],\n",
    "        outer_ratio = 0.8\n",
    "    ),\n",
    "    SimulationPar(\n",
    "        n_text = 100,\n",
    "        path_input = \"AAA\",\n",
    "        path_ouput = \"AAA\",\n",
    "        name_cell = \"Queso\"\n",
    "    )\n",
    ")"
   ]
  },
  {
   "attachments": {},
   "cell_type": "markdown",
   "metadata": {},
   "source": [
    "# Aggregate"
   ]
  },
  {
   "cell_type": "code",
   "execution_count": 43,
   "metadata": {},
   "outputs": [
    {
     "name": "stdout",
     "output_type": "stream",
     "text": [
      "  0.000826 seconds (185 allocations: 50.188 KiB)\n",
      "===== Agg Position Matrix ======\n"
     ]
    },
    {
     "data": {
      "text/plain": [
       "12×3 CuArray{Float32, 2, CUDA.Mem.DeviceBuffer}:\n",
       " -1.5  -0.58  -0.82\n",
       "  0.5  -0.58  -0.82\n",
       " -0.5   1.15  -0.82\n",
       " -0.5  -1.15   0.82\n",
       " -1.5   0.58   0.82\n",
       "  0.5   0.58   0.82\n",
       " -2.5  -0.58  -0.82\n",
       " -0.5  -0.58  -0.82\n",
       " -1.5   1.15  -0.82\n",
       " -1.5  -1.15   0.82\n",
       " -2.5   0.58   0.82\n",
       " -0.5   0.58   0.82"
      ]
     },
     "metadata": {},
     "output_type": "display_data"
    },
    {
     "name": "stdout",
     "output_type": "stream",
     "text": [
      "===== Position Matrix Size =====\n",
      "X          = (12, 3)\n",
      "dX         = (12, 3)\n",
      "===== Neighbors Matrix Size ====\n",
      "idx        = (12, 12)\n",
      "idx_red    = (21, 12)\n",
      "idx_sum    = (1, 12)\n",
      "idx_cont   = (1, 12)\n",
      "======= Force Matrix Size =======\n",
      "F          = (12, 3)\n",
      "======= Index Aggregate =========\n"
     ]
    },
    {
     "data": {
      "text/plain": [
       "1×12 adjoint(::Matrix{Int64}) with eltype Int64:\n",
       " 1  1  1  1  1  1  2  2  2  2  2  2"
      ]
     },
     "metadata": {},
     "output_type": "display_data"
    },
    {
     "name": "stdout",
     "output_type": "stream",
     "text": [
      "===== Outer vs Inner Cells =====\n"
     ]
    },
    {
     "data": {
      "text/plain": [
       "1×12 adjoint(::Vector{Int64}) with eltype Int64:\n",
       " 1  0  1  1  1  0  1  0  1  1  1  0"
      ]
     },
     "metadata": {},
     "output_type": "display_data"
    },
    {
     "name": "stdout",
     "output_type": "stream",
     "text": [
      "Outer/Total = 0.6666666666666666\n"
     ]
    }
   ],
   "source": [
    "Model = ModelPar(\n",
    "    TimePar(\n",
    "        t_f      = 10000.0,\n",
    "        dt       = 0.5\n",
    "    ),\n",
    "    NeighborPar(n_knn = 50),\n",
    "    GeometryPar(\n",
    "        r_agg    = 2.0,\n",
    "        position = [0 0 0;\n",
    "                    -1 0 0],\n",
    "        outer_ratio = 0.7\n",
    "    ),\n",
    "    SimulationPar(\n",
    "        n_text     = 100,\n",
    "        path_input = \"../../data/init/Sphere\",\n",
    "        path_ouput = \"AAA\",\n",
    "        name_cell  = \"Queso\"\n",
    "    )\n",
    ")\n",
    "\n",
    "@time AGG = Aggregate(1.0, Model, Cubic(1,2,3), ContractilePar(1))\n",
    "println(\"===== Agg Position Matrix ======\")\n",
    "display(AGG.Position.X)\n",
    "println(\"===== Position Matrix Size =====\")\n",
    "println(\"X          = $(size(AGG.Position.X))\")\n",
    "println(\"dX         = $(size(AGG.Position.dX))\")\n",
    "println(\"===== Neighbors Matrix Size ====\")\n",
    "println(\"idx        = $(size(AGG.Neighbor.idx))\")\n",
    "println(\"idx_red    = $(size(AGG.Neighbor.idx_red))\")\n",
    "println(\"idx_sum    = $(size(AGG.Neighbor.idx_sum))\")\n",
    "println(\"idx_cont   = $(size(AGG.Neighbor.idx_sum))\")\n",
    "println(\"======= Force Matrix Size =======\")\n",
    "println(\"F          = $(size(AGG.Force.F))\")\n",
    "println(\"======= Index Aggregate =========\")\n",
    "display(AGG.Index.IdxAgg')\n",
    "println(\"===== Outer vs Inner Cells =====\")\n",
    "display(AGG.Index.Outline')\n",
    "println(\"Outer/Total = $(sum(AGG.Index.Outline)/size(AGG.Position.X,1))\")"
   ]
  }
 ],
 "metadata": {
  "kernelspec": {
   "display_name": "Julia 1.6.7",
   "language": "julia",
   "name": "julia-1.6"
  },
  "language_info": {
   "file_extension": ".jl",
   "mimetype": "application/julia",
   "name": "julia",
   "version": "1.6.7"
  },
  "orig_nbformat": 4
 },
 "nbformat": 4,
 "nbformat_minor": 2
}
