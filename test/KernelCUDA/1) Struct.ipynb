{
 "cells": [
  {
   "attachments": {},
   "cell_type": "markdown",
   "metadata": {},
   "source": [
    "# Dependences"
   ]
  },
  {
   "cell_type": "code",
   "execution_count": 307,
   "metadata": {},
   "outputs": [
    {
     "data": {
      "text/plain": [
       "fusion_agg (generic function with 1 method)"
      ]
     },
     "execution_count": 307,
     "metadata": {},
     "output_type": "execute_result"
    }
   ],
   "source": [
    "include(\"../../src/struct_data.jl\")"
   ]
  },
  {
   "attachments": {},
   "cell_type": "markdown",
   "metadata": {},
   "source": [
    "# Input Data"
   ]
  },
  {
   "cell_type": "code",
   "execution_count": 308,
   "metadata": {},
   "outputs": [],
   "source": [
    "# X = Float64.(readdlm(\"../../data/init/Sphere/15.0.xyz\")[3:end,2:end]) |> cu\n",
    "# Y = Float64.(readdlm(\"../../data/init/Sphere/10.0.xyz\")[3:end,2:end]) |> cu"
   ]
  },
  {
   "attachments": {},
   "cell_type": "markdown",
   "metadata": {},
   "source": [
    "# Force Functions"
   ]
  },
  {
   "attachments": {},
   "cell_type": "markdown",
   "metadata": {},
   "source": [
    "## Cubic"
   ]
  },
  {
   "cell_type": "code",
   "execution_count": 309,
   "metadata": {},
   "outputs": [
    {
     "name": "stdout",
     "output_type": "stream",
     "text": [
      "UnionAll\n",
      "  var: TypeVar\n",
      "    name: Symbol T\n",
      "    lb: Union{}\n",
      "    ub: Any\n",
      "  body: Cubic{T} <: ForceType\n",
      "    μ₁::T\n",
      "    rₘᵢₙ::T\n",
      "    rₘₐₓ::T\n"
     ]
    }
   ],
   "source": [
    "@make_struct_func Cubic\n",
    "dump(Cubic)"
   ]
  },
  {
   "cell_type": "code",
   "execution_count": 310,
   "metadata": {},
   "outputs": [
    {
     "data": {
      "text/plain": [
       "0.1"
      ]
     },
     "execution_count": 310,
     "metadata": {},
     "output_type": "execute_result"
    }
   ],
   "source": [
    "# Parameters\n",
    "μ₁   = 1.0\n",
    "rₘₐₓ = 2.0\n",
    "rₘᵢₙ = 3.0\n",
    "fₚ   = 0.1"
   ]
  },
  {
   "cell_type": "code",
   "execution_count": 311,
   "metadata": {},
   "outputs": [
    {
     "data": {
      "text/plain": [
       "Cubic{Float64}(1.0, 2.0, 3.0)"
      ]
     },
     "execution_count": 311,
     "metadata": {},
     "output_type": "execute_result"
    }
   ],
   "source": [
    "Cubic(μ₁,rₘₐₓ,rₘᵢₙ)"
   ]
  },
  {
   "cell_type": "code",
   "execution_count": 312,
   "metadata": {},
   "outputs": [
    {
     "data": {
      "text/plain": [
       "4.0"
      ]
     },
     "execution_count": 312,
     "metadata": {},
     "output_type": "execute_result"
    }
   ],
   "source": [
    "# Show function on specific r value\n",
    "r = 1\n",
    "force_func(Cubic(μ₁,rₘₐₓ,rₘᵢₙ),r)"
   ]
  },
  {
   "cell_type": "code",
   "execution_count": 313,
   "metadata": {},
   "outputs": [
    {
     "name": "stdout",
     "output_type": "stream",
     "text": [
      "InteractionPar\n",
      "  Force: Cubic{Float64}\n",
      "    μ₁: Float64 1.0\n",
      "    rₘᵢₙ: Float64 2.0\n",
      "    rₘₐₓ: Float64 3.0\n",
      "  Contractile: ContractilePar\n",
      "    fₚ: Float64 0.1\n"
     ]
    }
   ],
   "source": [
    "dump(\n",
    "        InteractionPar(\n",
    "        Cubic(μ₁,rₘₐₓ,rₘᵢₙ),\n",
    "        ContractilePar(fₚ)\n",
    "    )\n",
    ")"
   ]
  },
  {
   "attachments": {},
   "cell_type": "markdown",
   "metadata": {},
   "source": [
    "## LennardJones"
   ]
  },
  {
   "cell_type": "code",
   "execution_count": 314,
   "metadata": {},
   "outputs": [
    {
     "name": "stdout",
     "output_type": "stream",
     "text": [
      "UnionAll\n",
      "  var: TypeVar\n",
      "    name: Symbol T\n",
      "    lb: Union{}\n",
      "    ub: Any\n",
      "  body: LennardJones{T} <: ForceType\n",
      "    μ₁::T\n",
      "    rₘᵢₙ::T\n",
      "    rₘₐₓ::T\n"
     ]
    }
   ],
   "source": [
    "@make_struct_func LennardJones\n",
    "dump(LennardJones)"
   ]
  },
  {
   "cell_type": "code",
   "execution_count": 315,
   "metadata": {},
   "outputs": [
    {
     "data": {
      "text/plain": [
       "3.0"
      ]
     },
     "execution_count": 315,
     "metadata": {},
     "output_type": "execute_result"
    }
   ],
   "source": [
    "# Parameters\n",
    "μ₁   = 1.0\n",
    "rₘₐₓ = 2.0\n",
    "rₘᵢₙ = 3.0"
   ]
  },
  {
   "cell_type": "code",
   "execution_count": 316,
   "metadata": {},
   "outputs": [
    {
     "data": {
      "text/plain": [
       "LennardJones{Float64}(1.0, 2.0, 3.0)"
      ]
     },
     "execution_count": 316,
     "metadata": {},
     "output_type": "execute_result"
    }
   ],
   "source": [
    "LennardJones(μ₁,rₘₐₓ,rₘᵢₙ)"
   ]
  },
  {
   "cell_type": "code",
   "execution_count": 317,
   "metadata": {},
   "outputs": [
    {
     "data": {
      "text/plain": [
       "1.9609746568876094"
      ]
     },
     "execution_count": 317,
     "metadata": {},
     "output_type": "execute_result"
    }
   ],
   "source": [
    "# Show function on specific r value\n",
    "r = 1.9\n",
    "force_func(LennardJones(μ₁,rₘₐₓ,rₘᵢₙ),r)"
   ]
  },
  {
   "cell_type": "code",
   "execution_count": 318,
   "metadata": {},
   "outputs": [
    {
     "name": "stdout",
     "output_type": "stream",
     "text": [
      "InteractionPar\n",
      "  Force: LennardJones{Float64}\n",
      "    μ₁: Float64 1.0\n",
      "    rₘᵢₙ: Float64 2.0\n",
      "    rₘₐₓ: Float64 3.0\n",
      "  Contractile: ContractilePar\n",
      "    fₚ: Float64 0.1\n"
     ]
    }
   ],
   "source": [
    "dump(\n",
    "    InteractionPar(\n",
    "        LennardJones(μ₁,rₘₐₓ,rₘᵢₙ),\n",
    "        ContractilePar(fₚ)\n",
    "    )\n",
    ")"
   ]
  },
  {
   "attachments": {},
   "cell_type": "markdown",
   "metadata": {},
   "source": [
    "# Model Parameter"
   ]
  },
  {
   "cell_type": "code",
   "execution_count": 319,
   "metadata": {},
   "outputs": [
    {
     "name": "stdout",
     "output_type": "stream",
     "text": [
      "ModelSet\n",
      "  Time: TimeModel\n",
      "    tₛᵢₘ: Float64 10000.0\n",
      "    dt: Float64 0.5\n",
      "    nₖₙₙ: Int64 50\n",
      "    nₛₐᵥₑ: Int64 100\n",
      "  Input: InputModel\n",
      "    outer_ratio: Float64 0.8\n",
      "    path_input: String \"../../data/init/Sphere\"\n"
     ]
    }
   ],
   "source": [
    "Model = ModelSet(\n",
    "    TimeModel(\n",
    "        tₛᵢₘ  = 10000.0,\n",
    "        dt    = 0.5,\n",
    "        nₖₙₙ  = 50,\n",
    "        nₛₐᵥₑ = 100\n",
    "    ),\n",
    "    InputModel(\n",
    "        outer_ratio = 0.8,\n",
    "        path_input = \"../../data/init/Sphere\"\n",
    "    )\n",
    ")\n",
    "dump(Model)"
   ]
  },
  {
   "attachments": {},
   "cell_type": "markdown",
   "metadata": {},
   "source": [
    "# Aggregate"
   ]
  },
  {
   "attachments": {},
   "cell_type": "markdown",
   "metadata": {},
   "source": [
    "## Aggregate"
   ]
  },
  {
   "cell_type": "code",
   "execution_count": 320,
   "metadata": {},
   "outputs": [
    {
     "name": "stdout",
     "output_type": "stream",
     "text": [
      "------------------ Agg Properties -------------------\n",
      "Name    = A\n",
      "Radius  = 15.270000457763672\n",
      "InteractionPar\n",
      "  Force: Cubic{Float64}\n",
      "    μ₁: Float64 1.0\n",
      "    rₘᵢₙ: Float64 2.0\n",
      "    rₘₐₓ: Float64 3.0\n",
      "  Contractile: ContractilePar\n",
      "    fₚ: Float64 0.01\n",
      "--------------------- Position ----------------------\n"
     ]
    },
    {
     "data": {
      "text/plain": [
       "2504×3 CuArray{Float32, 2, CUDA.Mem.DeviceBuffer}:\n",
       " -1.5  -4.62  -13.88\n",
       "  0.5  -4.62  -13.88\n",
       "  2.5  -4.62  -13.88\n",
       " -4.5  -2.89  -13.88\n",
       " -2.5  -2.89  -13.88\n",
       " -0.5  -2.89  -13.88\n",
       "  1.5  -2.89  -13.88\n",
       "  3.5  -2.89  -13.88\n",
       " -5.5  -1.15  -13.88\n",
       " -3.5  -1.15  -13.88\n",
       " -1.5  -1.15  -13.88\n",
       "  0.5  -1.15  -13.88\n",
       "  2.5  -1.15  -13.88\n",
       "  ⋮           \n",
       " -1.5   1.15   13.88\n",
       "  0.5   1.15   13.88\n",
       "  2.5   1.15   13.88\n",
       "  4.5   1.15   13.88\n",
       " -4.5   2.89   13.88\n",
       " -2.5   2.89   13.88\n",
       " -0.5   2.89   13.88\n",
       "  1.5   2.89   13.88\n",
       "  3.5   2.89   13.88\n",
       " -1.5   4.62   13.88\n",
       "  0.5   4.62   13.88\n",
       "  2.5   4.62   13.88"
      ]
     },
     "metadata": {},
     "output_type": "display_data"
    },
    {
     "name": "stdout",
     "output_type": "stream",
     "text": [
      "--------------------- Outline -----------------------\n"
     ]
    },
    {
     "data": {
      "text/plain": [
       "1×2504 adjoint(::Vector{Int64}) with eltype Int64:\n",
       " 1  1  1  1  1  1  1  1  1  1  1  1  1  …  1  1  1  1  1  1  1  1  1  1  1  1"
      ]
     },
     "metadata": {},
     "output_type": "display_data"
    },
    {
     "name": "stdout",
     "output_type": "stream",
     "text": [
      "Outer/Total = 0.46325878594249204\n"
     ]
    }
   ],
   "source": [
    "Agg = Aggregate(\n",
    "    \"A\",\n",
    "    InteractionPar(\n",
    "        Cubic(1.0,2.0,3.0), \n",
    "        ContractilePar(0.01)\n",
    "    ),\n",
    "    X,Model\n",
    ")\n",
    "show_aggregates(Agg)"
   ]
  },
  {
   "attachments": {},
   "cell_type": "markdown",
   "metadata": {},
   "source": [
    "## Simple Aggregate"
   ]
  },
  {
   "cell_type": "code",
   "execution_count": 321,
   "metadata": {},
   "outputs": [
    {
     "name": "stdout",
     "output_type": "stream",
     "text": [
      "  0.391120 seconds (663.60 k allocations: 38.462 MiB, 97.74% compilation time)\n",
      "---------------- Aggs Type List ---------------------\n"
     ]
    },
    {
     "data": {
      "text/plain": [
       "1×4 Matrix{Any}:\n",
       " 1  …  InteractionPar(Cubic{Float64}(1.0, 2.0, 3.0), ContractilePar(0.01))"
      ]
     },
     "metadata": {},
     "output_type": "display_data"
    },
    {
     "name": "stdout",
     "output_type": "stream",
     "text": [
      "------------------- Aggs Index ----------------------\n",
      "Index of List of Aggregates\n"
     ]
    },
    {
     "data": {
      "text/plain": [
       "1×5008 CuArray{Int64, 2, CUDA.Mem.DeviceBuffer}:\n",
       " 1  1  1  1  1  1  1  1  1  1  1  1  1  …  1  1  1  1  1  1  1  1  1  1  1  1"
      ]
     },
     "metadata": {},
     "output_type": "display_data"
    },
    {
     "name": "stdout",
     "output_type": "stream",
     "text": [
      "Index of Number of Aggregates\n"
     ]
    },
    {
     "data": {
      "text/plain": [
       "1×5008 CuArray{Int64, 2, CUDA.Mem.DeviceBuffer}:\n",
       " 1  1  1  1  1  1  1  1  1  1  1  1  1  …  2  2  2  2  2  2  2  2  2  2  2  2"
      ]
     },
     "metadata": {},
     "output_type": "display_data"
    },
    {
     "name": "stdout",
     "output_type": "stream",
     "text": [
      "Index of Name of Aggregates\n"
     ]
    },
    {
     "data": {
      "text/plain": [
       "1×5008 Matrix{String}:\n",
       " \"A\"  \"A\"  \"A\"  \"A\"  \"A\"  \"A\"  \"A\"  \"A\"  …  \"A\"  \"A\"  \"A\"  \"A\"  \"A\"  \"A\"  \"A\""
      ]
     },
     "metadata": {},
     "output_type": "display_data"
    },
    {
     "name": "stdout",
     "output_type": "stream",
     "text": [
      "--------------------- Position ----------------------\n"
     ]
    },
    {
     "data": {
      "text/plain": [
       "5008×3 CuArray{Float32, 2, CUDA.Mem.DeviceBuffer}:\n",
       "  98.5   -4.62  -13.88\n",
       " 100.5   -4.62  -13.88\n",
       " 102.5   -4.62  -13.88\n",
       "  95.5   -2.89  -13.88\n",
       "  97.5   -2.89  -13.88\n",
       "  99.5   -2.89  -13.88\n",
       " 101.5   -2.89  -13.88\n",
       " 103.5   -2.89  -13.88\n",
       "  94.5   -1.15  -13.88\n",
       "  96.5   -1.15  -13.88\n",
       "  98.5   -1.15  -13.88\n",
       " 100.5   -1.15  -13.88\n",
       " 102.5   -1.15  -13.88\n",
       "   ⋮            \n",
       "  -1.5  101.15   13.88\n",
       "   0.5  101.15   13.88\n",
       "   2.5  101.15   13.88\n",
       "   4.5  101.15   13.88\n",
       "  -4.5  102.89   13.88\n",
       "  -2.5  102.89   13.88\n",
       "  -0.5  102.89   13.88\n",
       "   1.5  102.89   13.88\n",
       "   3.5  102.89   13.88\n",
       "  -1.5  104.62   13.88\n",
       "   0.5  104.62   13.88\n",
       "   2.5  104.62   13.88"
      ]
     },
     "metadata": {},
     "output_type": "display_data"
    },
    {
     "name": "stdout",
     "output_type": "stream",
     "text": [
      "--------------------- Outline -----------------------\n"
     ]
    },
    {
     "data": {
      "text/plain": [
       "1×5008 adjoint(::Vector{Int64}) with eltype Int64:\n",
       " 1  1  1  1  1  1  1  1  1  1  1  1  1  …  1  1  1  1  1  1  1  1  1  1  1  1"
      ]
     },
     "metadata": {},
     "output_type": "display_data"
    },
    {
     "name": "stdout",
     "output_type": "stream",
     "text": [
      "Outer/Total = 0.46325878594249204\n"
     ]
    }
   ],
   "source": [
    "@time AllAggs = AllAggregates(\n",
    "    [Aggregate(\"A\", InteractionPar(Cubic(1.0,2.0,3.0), ContractilePar(0.01)), X, Model)]\n",
    "    ,\n",
    "    [\n",
    "        [\"A\",[100 ,0   ,0  ]],\n",
    "        [\"A\",[0   ,100 ,0  ]]\n",
    "    ]\n",
    ")\n",
    "show_aggregates(AllAggs)"
   ]
  },
  {
   "attachments": {},
   "cell_type": "markdown",
   "metadata": {},
   "source": [
    "## Complex Aggregate"
   ]
  },
  {
   "cell_type": "code",
   "execution_count": 322,
   "metadata": {},
   "outputs": [
    {
     "name": "stdout",
     "output_type": "stream",
     "text": [
      "  0.013034 seconds (123.39 k allocations: 8.295 MiB)\n",
      "---------------- Aggs Type List ---------------------\n"
     ]
    },
    {
     "data": {
      "text/plain": [
       "4×4 Matrix{Any}:\n",
       " 1  …  InteractionPar(Cubic{Float64}(1.0, 2.0, 3.0), ContractilePar(0.01))\n",
       " 2     InteractionPar(Cubic{Float64}(2.0, 2.0, 3.0), ContractilePar(0.02))\n",
       " 3     InteractionPar(Cubic{Float64}(3.0, 2.0, 3.0), ContractilePar(0.02))\n",
       " 4     InteractionPar(Cubic{Float64}(4.0, 2.0, 3.0), ContractilePar(0.04))"
      ]
     },
     "metadata": {},
     "output_type": "display_data"
    },
    {
     "name": "stdout",
     "output_type": "stream",
     "text": [
      "------------------- Aggs Index ----------------------\n",
      "Index of List of Aggregates\n"
     ]
    },
    {
     "data": {
      "text/plain": [
       "1×6500 CuArray{Int64, 2, CUDA.Mem.DeviceBuffer}:\n",
       " 1  1  1  1  1  1  1  1  1  1  1  1  1  …  2  2  2  2  2  2  2  2  2  2  2  2"
      ]
     },
     "metadata": {},
     "output_type": "display_data"
    },
    {
     "name": "stdout",
     "output_type": "stream",
     "text": [
      "Index of Number of Aggregates\n"
     ]
    },
    {
     "data": {
      "text/plain": [
       "1×6500 CuArray{Int64, 2, CUDA.Mem.DeviceBuffer}:\n",
       " 1  1  1  1  1  1  1  1  1  1  1  1  1  …  4  4  4  4  4  4  4  4  4  4  4  4"
      ]
     },
     "metadata": {},
     "output_type": "display_data"
    },
    {
     "name": "stdout",
     "output_type": "stream",
     "text": [
      "Index of Name of Aggregates\n"
     ]
    },
    {
     "data": {
      "text/plain": [
       "1×6500 Matrix{String}:\n",
       " \"A\"  \"A\"  \"A\"  \"A\"  \"A\"  \"A\"  \"A\"  \"A\"  …  \"B\"  \"B\"  \"B\"  \"B\"  \"B\"  \"B\"  \"B\""
      ]
     },
     "metadata": {},
     "output_type": "display_data"
    },
    {
     "name": "stdout",
     "output_type": "stream",
     "text": [
      "--------------------- Position ----------------------\n"
     ]
    },
    {
     "data": {
      "text/plain": [
       "6500×3 CuArray{Float32, 2, CUDA.Mem.DeviceBuffer}:\n",
       "  98.5   -4.62  -13.88\n",
       " 100.5   -4.62  -13.88\n",
       " 102.5   -4.62  -13.88\n",
       "  95.5   -2.89  -13.88\n",
       "  97.5   -2.89  -13.88\n",
       "  99.5   -2.89  -13.88\n",
       " 101.5   -2.89  -13.88\n",
       " 103.5   -2.89  -13.88\n",
       "  94.5   -1.15  -13.88\n",
       "  96.5   -1.15  -13.88\n",
       "  98.5   -1.15  -13.88\n",
       " 100.5   -1.15  -13.88\n",
       " 102.5   -1.15  -13.88\n",
       "   ⋮            \n",
       "   3.5   97.69    8.98\n",
       "  -3.5   99.42    8.98\n",
       "  -1.5   99.42    8.98\n",
       "   0.5   99.42    8.98\n",
       "   2.5   99.42    8.98\n",
       "  -2.5  101.15    8.98\n",
       "  -0.5  101.15    8.98\n",
       "   1.5  101.15    8.98\n",
       "   3.5  101.15    8.98\n",
       "  -1.5  102.89    8.98\n",
       "   0.5  102.89    8.98\n",
       "   2.5  102.89    8.98"
      ]
     },
     "metadata": {},
     "output_type": "display_data"
    },
    {
     "name": "stdout",
     "output_type": "stream",
     "text": [
      "--------------------- Outline -----------------------\n"
     ]
    },
    {
     "data": {
      "text/plain": [
       "1×6500 adjoint(::Vector{Int64}) with eltype Int64:\n",
       " 1  1  1  1  1  1  1  1  1  1  1  1  1  …  1  1  1  1  1  1  1  1  1  1  1  1"
      ]
     },
     "metadata": {},
     "output_type": "display_data"
    },
    {
     "name": "stdout",
     "output_type": "stream",
     "text": [
      "Outer/Total = 0.4523076923076923\n"
     ]
    }
   ],
   "source": [
    "@time AllAggs = AllAggregates(\n",
    "    [Aggregate(\"A\", InteractionPar(Cubic(1.0,2.0,3.0), ContractilePar(0.01)), X, Model),\n",
    "     Aggregate(\"B\", InteractionPar(Cubic(2.0,2.0,3.0), ContractilePar(0.02)), Y, Model),\n",
    "     Aggregate(\"C\", InteractionPar(Cubic(3.0,2.0,3.0), ContractilePar(0.02)), X, Model),\n",
    "     Aggregate(\"D\", InteractionPar(Cubic(4.0,2.0,3.0), ContractilePar(0.04)), Y, Model)\n",
    "    ],\n",
    "    [\n",
    "        [\"A\",[100 ,0   ,0  ]],\n",
    "        [\"C\",[0   ,100 ,0  ]],\n",
    "        [\"D\",[0   ,0   ,100]],\n",
    "        [\"B\",[0   ,100 ,0  ]]\n",
    "    ]\n",
    ")\n",
    "show_aggregates(AllAggs)"
   ]
  },
  {
   "attachments": {},
   "cell_type": "markdown",
   "metadata": {},
   "source": [
    "## Fusion Aggs"
   ]
  },
  {
   "attachments": {},
   "cell_type": "markdown",
   "metadata": {},
   "source": [
    "### First"
   ]
  },
  {
   "cell_type": "code",
   "execution_count": 323,
   "metadata": {},
   "outputs": [
    {
     "name": "stdout",
     "output_type": "stream",
     "text": [
      "===================================== One Aggregate =====================================\n",
      "------------------ Agg Properties -------------------\n",
      "Name    = HEK\n",
      "Radius  = 15.270000457763672\n",
      "InteractionPar\n",
      "  Force: Cubic{Float64}\n",
      "    μ₁: Float64 1.0\n",
      "    rₘᵢₙ: Float64 2.0\n",
      "    rₘₐₓ: Float64 3.0\n",
      "  Contractile: ContractilePar\n",
      "    fₚ: Float64 0.01\n",
      "--------------------- Position ----------------------\n"
     ]
    },
    {
     "data": {
      "text/plain": [
       "2504×3 CuArray{Float32, 2, CUDA.Mem.DeviceBuffer}:\n",
       " -1.5  -4.62  -13.88\n",
       "  0.5  -4.62  -13.88\n",
       "  2.5  -4.62  -13.88\n",
       " -4.5  -2.89  -13.88\n",
       " -2.5  -2.89  -13.88\n",
       " -0.5  -2.89  -13.88\n",
       "  1.5  -2.89  -13.88\n",
       "  3.5  -2.89  -13.88\n",
       " -5.5  -1.15  -13.88\n",
       " -3.5  -1.15  -13.88\n",
       " -1.5  -1.15  -13.88\n",
       "  0.5  -1.15  -13.88\n",
       "  2.5  -1.15  -13.88\n",
       "  ⋮           \n",
       " -1.5   1.15   13.88\n",
       "  0.5   1.15   13.88\n",
       "  2.5   1.15   13.88\n",
       "  4.5   1.15   13.88\n",
       " -4.5   2.89   13.88\n",
       " -2.5   2.89   13.88\n",
       " -0.5   2.89   13.88\n",
       "  1.5   2.89   13.88\n",
       "  3.5   2.89   13.88\n",
       " -1.5   4.62   13.88\n",
       "  0.5   4.62   13.88\n",
       "  2.5   4.62   13.88"
      ]
     },
     "metadata": {},
     "output_type": "display_data"
    },
    {
     "name": "stdout",
     "output_type": "stream",
     "text": [
      "--------------------- Outline -----------------------\n"
     ]
    },
    {
     "data": {
      "text/plain": [
       "1×2504 adjoint(::Vector{Int64}) with eltype Int64:\n",
       " 1  1  1  1  1  1  1  1  1  1  1  1  1  …  1  1  1  1  1  1  1  1  1  1  1  1"
      ]
     },
     "metadata": {},
     "output_type": "display_data"
    },
    {
     "name": "stdout",
     "output_type": "stream",
     "text": [
      "Outer/Total = 0.46325878594249204\n"
     ]
    }
   ],
   "source": [
    "AGG = Aggregate(\n",
    "    \"HEK\", \n",
    "    InteractionPar(\n",
    "        Cubic(1.0,2.0,3.0), \n",
    "        ContractilePar(0.01)\n",
    "    ),\n",
    "    X, Model\n",
    ")\n",
    "println(\"===================================== One Aggregate =====================================\")\n",
    "show_aggregates(AGG)"
   ]
  },
  {
   "cell_type": "code",
   "execution_count": 324,
   "metadata": {},
   "outputs": [
    {
     "name": "stdout",
     "output_type": "stream",
     "text": [
      "=================================== Fusion Aggregate ====================================\n",
      "---------------- Aggs Type List ---------------------\n"
     ]
    },
    {
     "data": {
      "text/plain": [
       "1×4 Matrix{Any}:\n",
       " 1  …  InteractionPar(Cubic{Float64}(1.0, 2.0, 3.0), ContractilePar(0.01))"
      ]
     },
     "metadata": {},
     "output_type": "display_data"
    },
    {
     "name": "stdout",
     "output_type": "stream",
     "text": [
      "------------------- Aggs Index ----------------------\n",
      "Index of List of Aggregates\n"
     ]
    },
    {
     "data": {
      "text/plain": [
       "1×5008 CuArray{Int64, 2, CUDA.Mem.DeviceBuffer}:\n",
       " 1  1  1  1  1  1  1  1  1  1  1  1  1  …  1  1  1  1  1  1  1  1  1  1  1  1"
      ]
     },
     "metadata": {},
     "output_type": "display_data"
    },
    {
     "name": "stdout",
     "output_type": "stream",
     "text": [
      "Index of Number of Aggregates\n"
     ]
    },
    {
     "data": {
      "text/plain": [
       "1×5008 CuArray{Int64, 2, CUDA.Mem.DeviceBuffer}:\n",
       " 1  1  1  1  1  1  1  1  1  1  1  1  1  …  2  2  2  2  2  2  2  2  2  2  2  2"
      ]
     },
     "metadata": {},
     "output_type": "display_data"
    },
    {
     "name": "stdout",
     "output_type": "stream",
     "text": [
      "Index of Name of Aggregates\n"
     ]
    },
    {
     "data": {
      "text/plain": [
       "1×5008 Matrix{String}:\n",
       " \"HEK\"  \"HEK\"  \"HEK\"  \"HEK\"  \"HEK\"  …  \"HEK\"  \"HEK\"  \"HEK\"  \"HEK\"  \"HEK\""
      ]
     },
     "metadata": {},
     "output_type": "display_data"
    },
    {
     "name": "stdout",
     "output_type": "stream",
     "text": [
      "--------------------- Position ----------------------\n"
     ]
    },
    {
     "data": {
      "text/plain": [
       "5008×3 CuArray{Float32, 2, CUDA.Mem.DeviceBuffer}:\n",
       " -16.77  -4.62  -13.88\n",
       " -14.77  -4.62  -13.88\n",
       " -12.77  -4.62  -13.88\n",
       " -19.77  -2.89  -13.88\n",
       " -17.77  -2.89  -13.88\n",
       " -15.77  -2.89  -13.88\n",
       " -13.77  -2.89  -13.88\n",
       " -11.77  -2.89  -13.88\n",
       " -20.77  -1.15  -13.88\n",
       " -18.77  -1.15  -13.88\n",
       " -16.77  -1.15  -13.88\n",
       " -14.77  -1.15  -13.88\n",
       " -12.77  -1.15  -13.88\n",
       "   ⋮            \n",
       "  13.77   1.15   13.88\n",
       "  15.77   1.15   13.88\n",
       "  17.77   1.15   13.88\n",
       "  19.77   1.15   13.88\n",
       "  10.77   2.89   13.88\n",
       "  12.77   2.89   13.88\n",
       "  14.77   2.89   13.88\n",
       "  16.77   2.89   13.88\n",
       "  18.77   2.89   13.88\n",
       "  13.77   4.62   13.88\n",
       "  15.77   4.62   13.88\n",
       "  17.77   4.62   13.88"
      ]
     },
     "metadata": {},
     "output_type": "display_data"
    },
    {
     "name": "stdout",
     "output_type": "stream",
     "text": [
      "--------------------- Outline -----------------------\n"
     ]
    },
    {
     "data": {
      "text/plain": [
       "1×5008 adjoint(::Vector{Int64}) with eltype Int64:\n",
       " 1  1  1  1  1  1  1  1  1  1  1  1  1  …  1  1  1  1  1  1  1  1  1  1  1  1"
      ]
     },
     "metadata": {},
     "output_type": "display_data"
    },
    {
     "name": "stdout",
     "output_type": "stream",
     "text": [
      "Outer/Total = 0.46325878594249204\n"
     ]
    }
   ],
   "source": [
    "println(\"=================================== Fusion Aggregate ====================================\")\n",
    "FusionAGG = fusion_agg(AGG)\n",
    "show_aggregates(FusionAGG)\n",
    "\n",
    "TEXT = hcat(FusionAGG.Outline,Matrix(FusionAGG.Position))\n",
    "open(\"tetero.xyz\", \"w\") do f\n",
    "    write(f, \"$(size(FusionAGG.Position, 1))\\n\")\n",
    "    write(f, \"t=$(0)\\n\")\n",
    "    writedlm(f,TEXT, ' ')\n",
    "end"
   ]
  },
  {
   "attachments": {},
   "cell_type": "markdown",
   "metadata": {},
   "source": [
    "### Second"
   ]
  },
  {
   "cell_type": "code",
   "execution_count": 325,
   "metadata": {},
   "outputs": [
    {
     "name": "stdout",
     "output_type": "stream",
     "text": [
      "------------------ Agg Properties -------------------\n",
      "Name    = HEK_1\n",
      "Radius  = 15.270000457763672\n",
      "InteractionPar\n",
      "  Force: Cubic{Float64}\n",
      "    μ₁: Float64 1.0\n",
      "    rₘᵢₙ: Float64 2.0\n",
      "    rₘₐₓ: Float64 3.0\n",
      "  Contractile: ContractilePar\n",
      "    fₚ: Float64 0.01\n",
      "--------------------- Position ----------------------\n"
     ]
    },
    {
     "data": {
      "text/plain": [
       "2504×3 CuArray{Float32, 2, CUDA.Mem.DeviceBuffer}:\n",
       " -1.5  -4.62  -13.88\n",
       "  0.5  -4.62  -13.88\n",
       "  2.5  -4.62  -13.88\n",
       " -4.5  -2.89  -13.88\n",
       " -2.5  -2.89  -13.88\n",
       " -0.5  -2.89  -13.88\n",
       "  1.5  -2.89  -13.88\n",
       "  3.5  -2.89  -13.88\n",
       " -5.5  -1.15  -13.88\n",
       " -3.5  -1.15  -13.88\n",
       " -1.5  -1.15  -13.88\n",
       "  0.5  -1.15  -13.88\n",
       "  2.5  -1.15  -13.88\n",
       "  ⋮           \n",
       " -1.5   1.15   13.88\n",
       "  0.5   1.15   13.88\n",
       "  2.5   1.15   13.88\n",
       "  4.5   1.15   13.88\n",
       " -4.5   2.89   13.88\n",
       " -2.5   2.89   13.88\n",
       " -0.5   2.89   13.88\n",
       "  1.5   2.89   13.88\n",
       "  3.5   2.89   13.88\n",
       " -1.5   4.62   13.88\n",
       "  0.5   4.62   13.88\n",
       "  2.5   4.62   13.88"
      ]
     },
     "metadata": {},
     "output_type": "display_data"
    },
    {
     "name": "stdout",
     "output_type": "stream",
     "text": [
      "--------------------- Outline -----------------------\n"
     ]
    },
    {
     "data": {
      "text/plain": [
       "1×2504 adjoint(::Vector{Int64}) with eltype Int64:\n",
       " 1  1  1  1  1  1  1  1  1  1  1  1  1  …  1  1  1  1  1  1  1  1  1  1  1  1"
      ]
     },
     "metadata": {},
     "output_type": "display_data"
    },
    {
     "name": "stdout",
     "output_type": "stream",
     "text": [
      "Outer/Total = 0.46325878594249204\n"
     ]
    }
   ],
   "source": [
    "AGG_1 = Aggregate(\n",
    "    \"HEK_1\", \n",
    "    InteractionPar(\n",
    "        Cubic(1.0,2.0,3.0), \n",
    "        ContractilePar(0.01)\n",
    "    ),\n",
    "    X, Model\n",
    ")\n",
    "show_aggregates(AGG_1)"
   ]
  },
  {
   "cell_type": "code",
   "execution_count": 326,
   "metadata": {},
   "outputs": [
    {
     "name": "stdout",
     "output_type": "stream",
     "text": [
      "------------------ Agg Properties -------------------\n",
      "Name    = HEK_2\n",
      "Radius  = 10.430000305175781\n",
      "InteractionPar\n",
      "  Force: Cubic{Float64}\n",
      "    μ₁: Float64 1.0\n",
      "    rₘᵢₙ: Float64 2.0\n",
      "    rₘₐₓ: Float64 3.0\n",
      "  Contractile: ContractilePar\n",
      "    fₚ: Float64 0.01\n",
      "--------------------- Position ----------------------\n"
     ]
    },
    {
     "data": {
      "text/plain": [
       "746×3 CuArray{Float32, 2, CUDA.Mem.DeviceBuffer}:\n",
       " -1.5  -2.89  -8.98\n",
       "  0.5  -2.89  -8.98\n",
       "  2.5  -2.89  -8.98\n",
       " -2.5  -1.15  -8.98\n",
       " -0.5  -1.15  -8.98\n",
       "  1.5  -1.15  -8.98\n",
       "  3.5  -1.15  -8.98\n",
       " -3.5   0.58  -8.98\n",
       " -1.5   0.58  -8.98\n",
       "  0.5   0.58  -8.98\n",
       "  2.5   0.58  -8.98\n",
       " -2.5   2.31  -8.98\n",
       " -0.5   2.31  -8.98\n",
       "  ⋮           \n",
       "  3.5  -2.31   8.98\n",
       " -3.5  -0.58   8.98\n",
       " -1.5  -0.58   8.98\n",
       "  0.5  -0.58   8.98\n",
       "  2.5  -0.58   8.98\n",
       " -2.5   1.15   8.98\n",
       " -0.5   1.15   8.98\n",
       "  1.5   1.15   8.98\n",
       "  3.5   1.15   8.98\n",
       " -1.5   2.89   8.98\n",
       "  0.5   2.89   8.98\n",
       "  2.5   2.89   8.98"
      ]
     },
     "metadata": {},
     "output_type": "display_data"
    },
    {
     "name": "stdout",
     "output_type": "stream",
     "text": [
      "--------------------- Outline -----------------------\n"
     ]
    },
    {
     "data": {
      "text/plain": [
       "1×746 adjoint(::Vector{Int64}) with eltype Int64:\n",
       " 1  1  1  1  1  1  1  1  1  1  1  1  1  …  1  1  1  1  1  1  1  1  1  1  1  1"
      ]
     },
     "metadata": {},
     "output_type": "display_data"
    },
    {
     "name": "stdout",
     "output_type": "stream",
     "text": [
      "Outer/Total = 0.4155495978552279\n"
     ]
    }
   ],
   "source": [
    "AGG_2 = Aggregate(\n",
    "    \"HEK_2\", \n",
    "    InteractionPar(\n",
    "        Cubic(1.0,2.0,3.0), \n",
    "        ContractilePar(0.01)\n",
    "    ),\n",
    "    Y, Model\n",
    ")\n",
    "show_aggregates(AGG_2)"
   ]
  },
  {
   "cell_type": "code",
   "execution_count": 327,
   "metadata": {},
   "outputs": [],
   "source": [
    "Fusion_AGG = AllAggregates(\n",
    "        [AGG_1, AGG_2],\n",
    "        [\n",
    "            [AGG_1.Name,[-AGG_1.Radius ,0 ,0]],\n",
    "            [AGG_2.Name,[ AGG_2.Radius ,0 ,0]]\n",
    "        ]\n",
    "    )\n",
    "    \n",
    "TEXT = hcat(Fusion_AGG.Outline,Matrix(Fusion_AGG.Position))\n",
    "open(\"tetero_2.xyz\", \"w\") do f\n",
    "    write(f, \"$(size(Fusion_AGG.Position, 1))\\n\")\n",
    "    write(f, \"t=$(0)\\n\")\n",
    "    writedlm(f,TEXT, ' ')\n",
    "end"
   ]
  },
  {
   "attachments": {},
   "cell_type": "markdown",
   "metadata": {},
   "source": [
    "### Third"
   ]
  },
  {
   "cell_type": "code",
   "execution_count": 328,
   "metadata": {},
   "outputs": [
    {
     "name": "stdout",
     "output_type": "stream",
     "text": [
      "------------------ Agg Properties -------------------\n",
      "Name    = HEK_1\n",
      "Radius  = 15.270000457763672\n",
      "InteractionPar\n",
      "  Force: Cubic{Float64}\n",
      "    μ₁: Float64 1.0\n",
      "    rₘᵢₙ: Float64 2.0\n",
      "    rₘₐₓ: Float64 3.0\n",
      "  Contractile: ContractilePar\n",
      "    fₚ: Float64 0.01\n",
      "--------------------- Position ----------------------\n"
     ]
    },
    {
     "data": {
      "text/plain": [
       "2504×3 CuArray{Float32, 2, CUDA.Mem.DeviceBuffer}:\n",
       " -1.5  -4.62  -13.88\n",
       "  0.5  -4.62  -13.88\n",
       "  2.5  -4.62  -13.88\n",
       " -4.5  -2.89  -13.88\n",
       " -2.5  -2.89  -13.88\n",
       " -0.5  -2.89  -13.88\n",
       "  1.5  -2.89  -13.88\n",
       "  3.5  -2.89  -13.88\n",
       " -5.5  -1.15  -13.88\n",
       " -3.5  -1.15  -13.88\n",
       " -1.5  -1.15  -13.88\n",
       "  0.5  -1.15  -13.88\n",
       "  2.5  -1.15  -13.88\n",
       "  ⋮           \n",
       " -1.5   1.15   13.88\n",
       "  0.5   1.15   13.88\n",
       "  2.5   1.15   13.88\n",
       "  4.5   1.15   13.88\n",
       " -4.5   2.89   13.88\n",
       " -2.5   2.89   13.88\n",
       " -0.5   2.89   13.88\n",
       "  1.5   2.89   13.88\n",
       "  3.5   2.89   13.88\n",
       " -1.5   4.62   13.88\n",
       "  0.5   4.62   13.88\n",
       "  2.5   4.62   13.88"
      ]
     },
     "metadata": {},
     "output_type": "display_data"
    },
    {
     "name": "stdout",
     "output_type": "stream",
     "text": [
      "--------------------- Outline -----------------------\n"
     ]
    },
    {
     "data": {
      "text/plain": [
       "1×2504 adjoint(::Vector{Int64}) with eltype Int64:\n",
       " 1  1  1  1  1  1  1  1  1  1  1  1  1  …  1  1  1  1  1  1  1  1  1  1  1  1"
      ]
     },
     "metadata": {},
     "output_type": "display_data"
    },
    {
     "name": "stdout",
     "output_type": "stream",
     "text": [
      "Outer/Total = 0.46325878594249204\n"
     ]
    }
   ],
   "source": [
    "AGG_1 = Aggregate(\n",
    "    \"HEK_1\", \n",
    "    InteractionPar(\n",
    "        Cubic(1.0,2.0,3.0), \n",
    "        ContractilePar(0.01)\n",
    "    ),\n",
    "    X, Model\n",
    ")\n",
    "show_aggregates(AGG_1)"
   ]
  },
  {
   "cell_type": "code",
   "execution_count": 329,
   "metadata": {},
   "outputs": [
    {
     "name": "stdout",
     "output_type": "stream",
     "text": [
      "------------------ Agg Properties -------------------\n",
      "Name    = HEK_2\n",
      "Radius  = 10.430000305175781\n",
      "InteractionPar\n",
      "  Force: Cubic{Float64}\n",
      "    μ₁: Float64 1.0\n",
      "    rₘᵢₙ: Float64 2.0\n",
      "    rₘₐₓ: Float64 3.0\n",
      "  Contractile: ContractilePar\n",
      "    fₚ: Float64 0.01\n",
      "--------------------- Position ----------------------\n"
     ]
    },
    {
     "data": {
      "text/plain": [
       "746×3 CuArray{Float32, 2, CUDA.Mem.DeviceBuffer}:\n",
       " -1.5  -2.89  -8.98\n",
       "  0.5  -2.89  -8.98\n",
       "  2.5  -2.89  -8.98\n",
       " -2.5  -1.15  -8.98\n",
       " -0.5  -1.15  -8.98\n",
       "  1.5  -1.15  -8.98\n",
       "  3.5  -1.15  -8.98\n",
       " -3.5   0.58  -8.98\n",
       " -1.5   0.58  -8.98\n",
       "  0.5   0.58  -8.98\n",
       "  2.5   0.58  -8.98\n",
       " -2.5   2.31  -8.98\n",
       " -0.5   2.31  -8.98\n",
       "  ⋮           \n",
       "  3.5  -2.31   8.98\n",
       " -3.5  -0.58   8.98\n",
       " -1.5  -0.58   8.98\n",
       "  0.5  -0.58   8.98\n",
       "  2.5  -0.58   8.98\n",
       " -2.5   1.15   8.98\n",
       " -0.5   1.15   8.98\n",
       "  1.5   1.15   8.98\n",
       "  3.5   1.15   8.98\n",
       " -1.5   2.89   8.98\n",
       "  0.5   2.89   8.98\n",
       "  2.5   2.89   8.98"
      ]
     },
     "metadata": {},
     "output_type": "display_data"
    },
    {
     "name": "stdout",
     "output_type": "stream",
     "text": [
      "--------------------- Outline -----------------------\n"
     ]
    },
    {
     "data": {
      "text/plain": [
       "1×746 adjoint(::Vector{Int64}) with eltype Int64:\n",
       " 1  1  1  1  1  1  1  1  1  1  1  1  1  …  1  1  1  1  1  1  1  1  1  1  1  1"
      ]
     },
     "metadata": {},
     "output_type": "display_data"
    },
    {
     "name": "stdout",
     "output_type": "stream",
     "text": [
      "Outer/Total = 0.4155495978552279\n"
     ]
    }
   ],
   "source": [
    "AGG_2 = Aggregate(\n",
    "    \"HEK_2\", \n",
    "    InteractionPar(\n",
    "        Cubic(1.0,2.0,3.0), \n",
    "        ContractilePar(0.01)\n",
    "    ),\n",
    "    Y, Model\n",
    ")\n",
    "show_aggregates(AGG_2)"
   ]
  },
  {
   "cell_type": "code",
   "execution_count": 330,
   "metadata": {},
   "outputs": [],
   "source": [
    "Fusion_AGG_2 = AllAggregates(\n",
    "        [AGG_1, AGG_2],\n",
    "        [\n",
    "            [AGG_1.Name,[0                           , 0                           ,0]],\n",
    "            [AGG_2.Name,[AGG_2.Radius + AGG_1.Radius ,0                            ,0]],\n",
    "            [AGG_2.Name,[0                           ,AGG_2.Radius + AGG_1.Radius  ,0]]\n",
    "        ]\n",
    "    )\n",
    "\n",
    "TEXT = hcat(Fusion_AGG_2.Outline,Matrix(Fusion_AGG_2.Position))\n",
    "open(\"tetero_3.xyz\", \"w\") do f\n",
    "    write(f, \"$(size(Fusion_AGG_2.Position, 1))\\n\")\n",
    "    write(f, \"t=$(0)\\n\")\n",
    "    writedlm(f,TEXT, ' ')\n",
    "end"
   ]
  },
  {
   "attachments": {},
   "cell_type": "markdown",
   "metadata": {},
   "source": [
    "# Simulation Struct"
   ]
  },
  {
   "cell_type": "code",
   "execution_count": 331,
   "metadata": {},
   "outputs": [
    {
     "name": "stdout",
     "output_type": "stream",
     "text": [
      "============== Type of Matrix =============\n",
      "CuArray{Float32, 2, CUDA.Mem.DeviceBuffer}\n",
      "========== Neighbors Matrix Size ==========\n",
      "idx      = (3996, 3996)\n",
      "idx_red  = (21, 3996)\n",
      "idx_sum  = (1, 3996)\n",
      "idx_cont = (50, 3996)\n",
      "============ Forces Matrix Size ===========\n",
      "dX       = (3996, 3)\n",
      "F       = (3996, 3)\n"
     ]
    }
   ],
   "source": [
    "SSS = SimulationSet(Fusion_AGG_2, Model)\n",
    "show_simulation_set(SSS)"
   ]
  }
 ],
 "metadata": {
  "kernelspec": {
   "display_name": "Julia 1.6.7",
   "language": "julia",
   "name": "julia-1.6"
  },
  "language_info": {
   "file_extension": ".jl",
   "mimetype": "application/julia",
   "name": "julia",
   "version": "1.6.7"
  },
  "orig_nbformat": 4
 },
 "nbformat": 4,
 "nbformat_minor": 2
}
