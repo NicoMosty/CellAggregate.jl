{
 "cells": [
  {
   "attachments": {},
   "cell_type": "markdown",
   "metadata": {},
   "source": [
    "# Prev"
   ]
  },
  {
   "attachments": {},
   "cell_type": "markdown",
   "metadata": {},
   "source": [
    "## include"
   ]
  },
  {
   "cell_type": "code",
   "execution_count": 8,
   "metadata": {},
   "outputs": [
    {
     "data": {
      "text/plain": [
       "RunFusionAggregates (generic function with 1 method)"
      ]
     },
     "execution_count": 8,
     "metadata": {},
     "output_type": "execute_result"
    }
   ],
   "source": [
    "include(\"../../src/struct_data.jl\")\n",
    "include(\"../../src/neighbor.jl\")\n",
    "include(\"../../src/forces/forces.jl\")\n",
    "include(\"../../src/run_event.jl\")"
   ]
  },
  {
   "attachments": {},
   "cell_type": "markdown",
   "metadata": {},
   "source": [
    "## model"
   ]
  },
  {
   "cell_type": "code",
   "execution_count": 9,
   "metadata": {},
   "outputs": [
    {
     "name": "stdout",
     "output_type": "stream",
     "text": [
      "  0.000002 seconds (4 allocations: 144 bytes)\n"
     ]
    },
    {
     "data": {
      "text/plain": [
       "ModelSet(TimeModel(150000.0, 0.5, 100, 50), InputModel(0.8, \"../../data/init/Sphere\"), OutputModel(\"Test_1\", \"\"))"
      ]
     },
     "execution_count": 9,
     "metadata": {},
     "output_type": "execute_result"
    }
   ],
   "source": [
    "@time model = ModelSet(\n",
    "    TimeModel(\n",
    "        tₛᵢₘ  = 150000.0,\n",
    "        dt    = 0.5,\n",
    "        nₖₙₙ  = 100,\n",
    "        nₛₐᵥₑ = 50\n",
    "    ),\n",
    "    InputModel(\n",
    "        outer_ratio = 0.8,\n",
    "        path_input  = \"../../data/init/Sphere\"\n",
    "    ),\n",
    "    OutputModel(\n",
    "        name_output = \"Test_1\",\n",
    "        path_output = \"\"\n",
    "    ) \n",
    ")"
   ]
  },
  {
   "attachments": {},
   "cell_type": "markdown",
   "metadata": {},
   "source": [
    "# Run"
   ]
  },
  {
   "attachments": {},
   "cell_type": "markdown",
   "metadata": {},
   "source": [
    "## Some Founded Parameters"
   ]
  },
  {
   "attachments": {},
   "cell_type": "markdown",
   "metadata": {},
   "source": [
    "### Cubic"
   ]
  },
  {
   "cell_type": "code",
   "execution_count": 10,
   "metadata": {},
   "outputs": [],
   "source": [
    "# # Complete (Oriola Contractile Model) -> Normal Vectors of distance between cells without area\n",
    "# Par1, Par2 = Cubic(0.0055,2.0,4.5), ContractilePar(0.162);\n",
    "# Par1, Par2 = Cubic(0.0055,2.0,4.5), ContractilePar(0.166);\n",
    "# Par1, Par2 = Cubic(0.0055,2.0,4.5), ContractilePar(0.164);"
   ]
  },
  {
   "attachments": {},
   "cell_type": "markdown",
   "metadata": {},
   "source": [
    "## Fusion Agg"
   ]
  },
  {
   "cell_type": "code",
   "execution_count": 11,
   "metadata": {},
   "outputs": [
    {
     "data": {
      "text/plain": [
       "15"
      ]
     },
     "execution_count": 11,
     "metadata": {},
     "output_type": "execute_result"
    }
   ],
   "source": [
    "# Run Model\n",
    "Par1 ,Par2 = Cubic(0.01,2.0,3.0), ContractilePar(0.12)\n",
    "# ContractilePar(0.02);\n",
    "# RunFusionAggregates(model::ModelSet, Par1, Par2, 15)\n",
    "size_agg = 15"
   ]
  },
  {
   "cell_type": "code",
   "execution_count": 12,
   "metadata": {},
   "outputs": [
    {
     "name": "stderr",
     "output_type": "stream",
     "text": [
      "\u001b[32mRun One Aggregate     ... 100%|██████████████████████████| Time: 0:02:42\u001b[39m:54\u001b[39m\n"
     ]
    }
   ],
   "source": [
    "# Run only one aggregate\n",
    "agg = nothing\n",
    "agg = Aggregate(\n",
    "    [AggType(\n",
    "        \"HEK_1\", \n",
    "        InteractionPar(Par1, Par2),\n",
    "        Float32.(readdlm(\"../../data/init/Sphere/$(size_agg).0.xyz\")[3:end,2:end]) |> cu\n",
    "    )], \n",
    "    [AggLocation(\"HEK_1\",[0 0 0]),],\n",
    "    model\n",
    ")"
   ]
  },
  {
   "cell_type": "code",
   "execution_count": 13,
   "metadata": {},
   "outputs": [
    {
     "name": "stderr",
     "output_type": "stream",
     "text": [
      "\u001b[32mRun One Aggregate     ... 100%|██████████████████████████| Time: 0:02:42\u001b[39m\n"
     ]
    }
   ],
   "source": [
    "run_test(agg, model,\"Run One Aggregate     \")"
   ]
  },
  {
   "cell_type": "code",
   "execution_count": 14,
   "metadata": {},
   "outputs": [
    {
     "name": "stderr",
     "output_type": "stream",
     "text": [
      "\u001b[32mFusion of Two Aggregates... 100%|████████████████████████| Time: 0:05:45\u001b[39m\n"
     ]
    },
    {
     "data": {
      "text/plain": [
       "1×3 CuArray{Int64, 2, CUDA.Mem.DeviceBuffer}:\n",
       " 0  0  0"
      ]
     },
     "metadata": {},
     "output_type": "display_data"
    },
    {
     "data": {
      "text/plain": [
       "1×3 CuArray{Int64, 2, CUDA.Mem.DeviceBuffer}:\n",
       " 0  0  0"
      ]
     },
     "metadata": {},
     "output_type": "display_data"
    },
    {
     "data": {
      "text/plain": [
       "5008×3 CuArray{Float32, 2, CUDA.Mem.DeviceBuffer}:\n",
       "  0.0402544   -0.0794487   0.0688348\n",
       "  0.030842     0.0217593  -0.0991114\n",
       " -0.0120552   -0.0562472  -0.0353962\n",
       " -0.0342636   -0.082944    0.132142\n",
       "  0.167617     0.265117    0.13594\n",
       "  0.0408767   -0.122035   -0.00864512\n",
       "  0.225646    -0.099355   -0.0212969\n",
       "  0.108827    -0.0558468  -0.223999\n",
       " -0.0632429   -0.0834896  -0.0163379\n",
       " -0.0229806   -0.0272399   0.0385806\n",
       "  0.0128079    0.104823    0.0618913\n",
       " -0.117317    -0.0532653  -0.150272\n",
       "  0.0998449   -0.0120438   0.100937\n",
       "  ⋮                       \n",
       " -0.175849     0.123752   -0.112467\n",
       "  0.0843545   -0.305877   -0.0833149\n",
       " -0.0622022    0.0693202   0.0189047\n",
       "  0.0338598    0.159158   -0.15333\n",
       " -0.00112858  -0.0656132   0.365704\n",
       "  0.230988    -0.03882    -0.0844054\n",
       " -0.0753391   -0.185355    0.155496\n",
       "  0.0154158   -0.0253524   0.149143\n",
       "  0.0636786   -0.174231    0.161585\n",
       " -0.0168015   -0.0119065  -0.000515901\n",
       " -0.168425     0.169213    0.142679\n",
       "  0.0221374    0.112909   -0.0210697"
      ]
     },
     "metadata": {},
     "output_type": "display_data"
    },
    {
     "data": {
      "text/plain": [
       "5008×3 CuArray{Float32, 2, CUDA.Mem.DeviceBuffer}:\n",
       "  -6.75213    -3.08786    -7.26817\n",
       "  -9.35362    -6.54993   -14.5194\n",
       " -11.145      -5.63674    -9.15235\n",
       " -11.7996      4.60285   -11.9538\n",
       "  -2.50078    -1.94459    -6.09248\n",
       "  -0.844429   -5.99576    -7.05821\n",
       "  -3.03196    -9.42514    -9.58259\n",
       "   2.33449     2.59131   -12.3456\n",
       "  -9.58258    -5.51144   -15.1318\n",
       " -17.1362     -2.03378    -5.57148\n",
       "   0.50939     0.663519  -17.5924\n",
       "  -6.28448    -1.705     -16.2597\n",
       " -10.7489     -3.59949   -12.8119\n",
       "   ⋮                     \n",
       " -14.6829      2.84559   -12.3109\n",
       "   1.11389    -1.05094   -11.3391\n",
       "  -4.44213    -9.25932    -6.72667\n",
       "  -8.28064   -10.9193    -10.4528\n",
       "  10.1866      3.16917    -6.55711\n",
       "   1.77957     0.400614   -3.95176\n",
       "  -2.40036     4.2887     -3.02979\n",
       "  -4.12884    -0.562859  -16.4643\n",
       "  -1.75811    -8.7731    -13.7171\n",
       "  11.0477     -1.20158    -4.97205\n",
       "   5.87946     6.63956   -14.1216\n",
       "  -8.5056     -3.64359   -17.2102"
      ]
     },
     "metadata": {},
     "output_type": "display_data"
    }
   ],
   "source": [
    "position=agg.Position\n",
    "open(\"init_stable.xyz\", \"a\") do f\n",
    "    write(f, \"Initial Stable\\n\")\n",
    "    write(f, \"t=0\\n\")\n",
    "    writedlm(f,hcat(agg.Geometry.outline,Matrix(position)), ' ')\n",
    "end\n",
    "\n",
    "# Run fusion of two aggregates\n",
    "agg = nothing\n",
    "agg = FusionAggregate(\n",
    "    [AggType(\"HEK_1\", InteractionPar(Par1, Par2),position)], \n",
    "    model\n",
    ")\n",
    "run_test(agg, model, \"Fusion of Two Aggregates\")\n",
    "\n",
    "display(sum(isnan.(agg.Simulation.Force.F), dims=1))\n",
    "display(sum(agg.Simulation.Force.F .> 50, dims=1))\n",
    "display(agg.Simulation.Force.F)\n",
    "display(agg.Position)"
   ]
  }
 ],
 "metadata": {
  "kernelspec": {
   "display_name": "Julia 1.9.1",
   "language": "julia",
   "name": "julia-1.9"
  },
  "language_info": {
   "file_extension": ".jl",
   "mimetype": "application/julia",
   "name": "julia",
   "version": "1.9.1"
  },
  "orig_nbformat": 4
 },
 "nbformat": 4,
 "nbformat_minor": 2
}
