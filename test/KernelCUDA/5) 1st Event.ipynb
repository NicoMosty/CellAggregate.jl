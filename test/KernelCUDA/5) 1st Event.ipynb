{
 "cells": [
  {
   "attachments": {},
   "cell_type": "markdown",
   "metadata": {},
   "source": [
    "# Prev"
   ]
  },
  {
   "attachments": {},
   "cell_type": "markdown",
   "metadata": {},
   "source": [
    "## include"
   ]
  },
  {
   "cell_type": "code",
   "execution_count": 64,
   "metadata": {},
   "outputs": [
    {
     "data": {
      "text/plain": [
       "RunFusionAggregates (generic function with 1 method)"
      ]
     },
     "metadata": {},
     "output_type": "display_data"
    }
   ],
   "source": [
    "include(\"../../src/struct_data.jl\")\n",
    "include(\"../../src/neighbor.jl\")\n",
    "include(\"../../src/forces/forces.jl\")\n",
    "include(\"../../src/run_event.jl\")"
   ]
  },
  {
   "attachments": {},
   "cell_type": "markdown",
   "metadata": {},
   "source": [
    "## model"
   ]
  },
  {
   "cell_type": "code",
   "execution_count": 65,
   "metadata": {},
   "outputs": [
    {
     "name": "stdout",
     "output_type": "stream",
     "text": [
      "  0.000000 seconds (4 allocations: 144 bytes)\n"
     ]
    },
    {
     "data": {
      "text/plain": [
       "ModelSet(TimeModel(150000.0, 0.5, 100, 50), InputModel(0.8, \"../../data/init/Sphere\"), OutputModel(\"Test_1\", \"\"))"
      ]
     },
     "metadata": {},
     "output_type": "display_data"
    }
   ],
   "source": [
    "@time model = ModelSet(\n",
    "    TimeModel(\n",
    "        tₛᵢₘ  = 150000.0,\n",
    "        dt    = 0.5,\n",
    "        nₖₙₙ  = 100,\n",
    "        nₛₐᵥₑ = 50\n",
    "    ),\n",
    "    InputModel(\n",
    "        outer_ratio = 0.8,\n",
    "        path_input  = \"../../data/init/Sphere\"\n",
    "    ),\n",
    "    OutputModel(\n",
    "        name_output = \"Test_1\",\n",
    "        path_output = \"\"\n",
    "    ) \n",
    ")"
   ]
  },
  {
   "attachments": {},
   "cell_type": "markdown",
   "metadata": {},
   "source": [
    "# Run"
   ]
  },
  {
   "attachments": {},
   "cell_type": "markdown",
   "metadata": {},
   "source": [
    "## Some Founded Parameters"
   ]
  },
  {
   "attachments": {},
   "cell_type": "markdown",
   "metadata": {},
   "source": [
    "### Cubic"
   ]
  },
  {
   "cell_type": "code",
   "execution_count": 66,
   "metadata": {},
   "outputs": [],
   "source": [
    "# # Complete (Oriola Contractile Model) -> Normal Vectors of distance between cells without area\n",
    "# Par1, Par2 = Cubic(0.0055,2.0,4.5), ContractilePar(0.162);\n",
    "# Par1, Par2 = Cubic(0.0055,2.0,4.5), ContractilePar(0.166);\n",
    "# Par1, Par2 = Cubic(0.0055,2.0,4.5), ContractilePar(0.164);"
   ]
  },
  {
   "attachments": {},
   "cell_type": "markdown",
   "metadata": {},
   "source": [
    "## Fusion Agg"
   ]
  },
  {
   "cell_type": "code",
   "execution_count": 67,
   "metadata": {},
   "outputs": [
    {
     "data": {
      "text/plain": [
       "15"
      ]
     },
     "metadata": {},
     "output_type": "display_data"
    }
   ],
   "source": [
    "# Run Model\n",
    "Par1, Par2 = Cubic(0.1,2.0,3.0), ContractilePar(0.0);\n",
    "# ContractilePar(0.02);\n",
    "# RunFusionAggregates(model::ModelSet, Par1, Par2, 15)\n",
    "size_agg = 15"
   ]
  },
  {
   "cell_type": "code",
   "execution_count": 68,
   "metadata": {},
   "outputs": [
    {
     "ename": "GPUCompiler.InvalidIRError",
     "evalue": "InvalidIRError: compiling kernel #sum_force!(CuDeviceMatrix{Float32, 1}, CuDeviceMatrix{Float32, 1}, CuDeviceMatrix{Float32, 1}, CuDeviceMatrix{Int32, 1}, CuDeviceMatrix{Int32, 1}, Cubic{CuDeviceVector{Float32, 1}}, CuDeviceVector{Float32, 1}, Float64, Float64) resulted in invalid LLVM IR\nReason: unsupported call through a literal pointer (call to )\nStacktrace:\n [1] _string_n\n   @ ./strings/string.jl:74\n [2] StringVector\n   @ ./iobuffer.jl:31\n [3] #IOBuffer#361\n   @ ./iobuffer.jl:114\n [4] print_to_string\n   @ ./strings/io.jl:133\nReason: unsupported call through a literal pointer (call to )\nStacktrace:\n [1] unsafe_wrap\n   @ ./strings/string.jl:85\n [2] StringVector\n   @ ./iobuffer.jl:31\n [3] #IOBuffer#361\n   @ ./iobuffer.jl:114\n [4] print_to_string\n   @ ./strings/io.jl:133\nReason: unsupported call through a literal pointer (call to )\nStacktrace:\n [1] fill!\n   @ ./array.jl:406\n [2] #IOBuffer#361\n   @ ./iobuffer.jl:121\n [3] print_to_string\n   @ ./strings/io.jl:133\nReason: unsupported dynamic function invocation (call to var\"#sprint#385\"(context, sizehint::Integer, ::typeof(sprint), f::Function, args...) in Base at strings/io.jl:100)\nStacktrace:\n [1] #repr#386\n   @ ./strings/io.jl:219\n [2] limitrepr\n   @ ./strings/io.jl:221\n [3] to_index\n   @ ./indices.jl:300\n [4] to_index\n   @ ./indices.jl:277\n [5] to_indices\n   @ ./indices.jl:333\n [6] to_indices\n   @ ./indices.jl:324\n [7] getindex\n   @ ./abstractarray.jl:1170\n [8] sum_force!\n   @ ~/Documentos/Maestria-UNAL/CellAggregate.jl/src/forces/forces.jl:87\nReason: unsupported dynamic function invocation (call to print)\nStacktrace:\n [1] print_to_string\n   @ ./strings/io.jl:135\nReason: unsupported call through a literal pointer (call to )\nStacktrace:\n [1] _growend!\n   @ ./array.jl:888\n [2] resize!\n   @ ./array.jl:1108\n [3] print_to_string\n   @ ./strings/io.jl:137\nReason: unsupported call through a literal pointer (call to )\nStacktrace:\n [1] _deleteend!\n   @ ./array.jl:897\n [2] resize!\n   @ ./array.jl:1113\n [3] print_to_string\n   @ ./strings/io.jl:137\nReason: unsupported call through a literal pointer (call to )\nStacktrace:\n [1] String\n   @ ./strings/string.jl:53\n [2] print_to_string\n   @ ./strings/io.jl:137\nHint: catch this exception as `err` and call `code_typed(err; interactive = true)` to introspect the erronous code with Cthulhu.jl",
     "output_type": "error",
     "traceback": [
      "InvalidIRError: compiling kernel #sum_force!(CuDeviceMatrix{Float32, 1}, CuDeviceMatrix{Float32, 1}, CuDeviceMatrix{Float32, 1}, CuDeviceMatrix{Int32, 1}, CuDeviceMatrix{Int32, 1}, Cubic{CuDeviceVector{Float32, 1}}, CuDeviceVector{Float32, 1}, Float64, Float64) resulted in invalid LLVM IR\n",
      "Reason: unsupported call through a literal pointer (call to )\n",
      "Stacktrace:\n",
      " [1] _string_n\n",
      "   @ ./strings/string.jl:74\n",
      " [2] StringVector\n",
      "   @ ./iobuffer.jl:31\n",
      " [3] #IOBuffer#361\n",
      "   @ ./iobuffer.jl:114\n",
      " [4] print_to_string\n",
      "   @ ./strings/io.jl:133\n",
      "Reason: unsupported call through a literal pointer (call to )\n",
      "Stacktrace:\n",
      " [1] unsafe_wrap\n",
      "   @ ./strings/string.jl:85\n",
      " [2] StringVector\n",
      "   @ ./iobuffer.jl:31\n",
      " [3] #IOBuffer#361\n",
      "   @ ./iobuffer.jl:114\n",
      " [4] print_to_string\n",
      "   @ ./strings/io.jl:133\n",
      "Reason: unsupported call through a literal pointer (call to )\n",
      "Stacktrace:\n",
      " [1] fill!\n",
      "   @ ./array.jl:406\n",
      " [2] #IOBuffer#361\n",
      "   @ ./iobuffer.jl:121\n",
      " [3] print_to_string\n",
      "   @ ./strings/io.jl:133\n",
      "Reason: unsupported dynamic function invocation (call to var\"#sprint#385\"(context, sizehint::Integer, ::typeof(sprint), f::Function, args...) in Base at strings/io.jl:100)\n",
      "Stacktrace:\n",
      " [1] #repr#386\n",
      "   @ ./strings/io.jl:219\n",
      " [2] limitrepr\n",
      "   @ ./strings/io.jl:221\n",
      " [3] to_index\n",
      "   @ ./indices.jl:300\n",
      " [4] to_index\n",
      "   @ ./indices.jl:277\n",
      " [5] to_indices\n",
      "   @ ./indices.jl:333\n",
      " [6] to_indices\n",
      "   @ ./indices.jl:324\n",
      " [7] getindex\n",
      "   @ ./abstractarray.jl:1170\n",
      " [8] sum_force!\n",
      "   @ ~/Documentos/Maestria-UNAL/CellAggregate.jl/src/forces/forces.jl:87\n",
      "Reason: unsupported dynamic function invocation (call to print)\n",
      "Stacktrace:\n",
      " [1] print_to_string\n",
      "   @ ./strings/io.jl:135\n",
      "Reason: unsupported call through a literal pointer (call to )\n",
      "Stacktrace:\n",
      " [1] _growend!\n",
      "   @ ./array.jl:888\n",
      " [2] resize!\n",
      "   @ ./array.jl:1108\n",
      " [3] print_to_string\n",
      "   @ ./strings/io.jl:137\n",
      "Reason: unsupported call through a literal pointer (call to )\n",
      "Stacktrace:\n",
      " [1] _deleteend!\n",
      "   @ ./array.jl:897\n",
      " [2] resize!\n",
      "   @ ./array.jl:1113\n",
      " [3] print_to_string\n",
      "   @ ./strings/io.jl:137\n",
      "Reason: unsupported call through a literal pointer (call to )\n",
      "Stacktrace:\n",
      " [1] String\n",
      "   @ ./strings/string.jl:53\n",
      " [2] print_to_string\n",
      "   @ ./strings/io.jl:137\n",
      "Hint: catch this exception as `err` and call `code_typed(err; interactive = true)` to introspect the erronous code with Cthulhu.jl\n",
      "\n",
      "Stacktrace:\n",
      "  [1] check_ir(job::GPUCompiler.CompilerJob{GPUCompiler.PTXCompilerTarget, CUDA.CUDACompilerParams, GPUCompiler.FunctionSpec{typeof(sum_force!), Tuple{CuDeviceMatrix{Float32, 1}, CuDeviceMatrix{Float32, 1}, CuDeviceMatrix{Float32, 1}, CuDeviceMatrix{Int32, 1}, CuDeviceMatrix{Int32, 1}, Cubic{CuDeviceVector{Float32, 1}}, CuDeviceVector{Float32, 1}, Float64, Float64}}}, args::LLVM.Module)\n",
      "    @ GPUCompiler ~/.julia/packages/GPUCompiler/07qaN/src/validation.jl:141\n",
      "  [2] macro expansion\n",
      "    @ ~/.julia/packages/GPUCompiler/07qaN/src/driver.jl:418 [inlined]\n",
      "  [3] macro expansion\n",
      "    @ ~/.julia/packages/TimerOutputs/4yHI4/src/TimerOutput.jl:253 [inlined]\n",
      "  [4] macro expansion\n",
      "    @ ~/.julia/packages/GPUCompiler/07qaN/src/driver.jl:416 [inlined]\n",
      "  [5] emit_asm(job::GPUCompiler.CompilerJob, ir::LLVM.Module; strip::Bool, validate::Bool, format::LLVM.API.LLVMCodeGenFileType)\n",
      "    @ GPUCompiler ~/.julia/packages/GPUCompiler/07qaN/src/utils.jl:68\n",
      "  [6] cufunction_compile(job::GPUCompiler.CompilerJob, ctx::LLVM.Context)\n",
      "    @ CUDA ~/.julia/packages/CUDA/DfvRa/src/compiler/execution.jl:354\n",
      "  [7] #222\n",
      "    @ ~/.julia/packages/CUDA/DfvRa/src/compiler/execution.jl:347 [inlined]\n",
      "  [8] JuliaContext(f::CUDA.var\"#222#223\"{GPUCompiler.CompilerJob{GPUCompiler.PTXCompilerTarget, CUDA.CUDACompilerParams, GPUCompiler.FunctionSpec{typeof(sum_force!), Tuple{CuDeviceMatrix{Float32, 1}, CuDeviceMatrix{Float32, 1}, CuDeviceMatrix{Float32, 1}, CuDeviceMatrix{Int32, 1}, CuDeviceMatrix{Int32, 1}, Cubic{CuDeviceVector{Float32, 1}}, CuDeviceVector{Float32, 1}, Float64, Float64}}}})\n",
      "    @ GPUCompiler ~/.julia/packages/GPUCompiler/07qaN/src/driver.jl:76\n",
      "  [9] cufunction_compile(job::GPUCompiler.CompilerJob)\n",
      "    @ CUDA ~/.julia/packages/CUDA/DfvRa/src/compiler/execution.jl:346\n",
      " [10] cached_compilation(cache::Dict{UInt64, Any}, job::GPUCompiler.CompilerJob, compiler::typeof(CUDA.cufunction_compile), linker::typeof(CUDA.cufunction_link))\n",
      "    @ GPUCompiler ~/.julia/packages/GPUCompiler/07qaN/src/cache.jl:90\n",
      " [11] cufunction(f::typeof(sum_force!), tt::Type{Tuple{CuDeviceMatrix{Float32, 1}, CuDeviceMatrix{Float32, 1}, CuDeviceMatrix{Float32, 1}, CuDeviceMatrix{Int32, 1}, CuDeviceMatrix{Int32, 1}, Cubic{CuDeviceVector{Float32, 1}}, CuDeviceVector{Float32, 1}, Float64, Float64}}; name::Nothing, kwargs::Base.Iterators.Pairs{Union{}, Union{}, Tuple{}, NamedTuple{(), Tuple{}}})\n",
      "    @ CUDA ~/.julia/packages/CUDA/DfvRa/src/compiler/execution.jl:299\n",
      " [12] cufunction(f::typeof(sum_force!), tt::Type{Tuple{CuDeviceMatrix{Float32, 1}, CuDeviceMatrix{Float32, 1}, CuDeviceMatrix{Float32, 1}, CuDeviceMatrix{Int32, 1}, CuDeviceMatrix{Int32, 1}, Cubic{CuDeviceVector{Float32, 1}}, CuDeviceVector{Float32, 1}, Float64, Float64}})\n",
      "    @ CUDA ~/.julia/packages/CUDA/DfvRa/src/compiler/execution.jl:293\n",
      " [13] macro expansion\n",
      "    @ ~/.julia/packages/CUDA/DfvRa/src/compiler/execution.jl:102 [inlined]\n",
      " [14] macro expansion\n",
      "    @ ~/Documentos/Maestria-UNAL/CellAggregate.jl/src/run_event.jl:15 [inlined]\n",
      " [15] macro expansion\n",
      "    @ ~/.julia/packages/ProgressMeter/sN2xr/src/ProgressMeter.jl:938 [inlined]\n",
      " [16] run_test(agg::Aggregate, model::ModelSet, title::String)\n",
      "    @ Main ~/Documentos/Maestria-UNAL/CellAggregate.jl/src/run_event.jl:12\n",
      " [17] top-level scope\n",
      "    @ ~/Documentos/Maestria-UNAL/CellAggregate.jl/test/KernelCUDA/5) 1st Event.ipynb:13"
     ]
    }
   ],
   "source": [
    "# Run only one aggregate\n",
    "agg = nothing\n",
    "agg = Aggregate(\n",
    "    [AggType(\n",
    "        \"HEK_1\", \n",
    "        InteractionPar(Par1, Par2),\n",
    "        Float32.(readdlm(\"../../data/init/Sphere/$(size_agg).0.xyz\")[3:end,2:end]) |> cu\n",
    "    )], \n",
    "    [AggLocation(\"HEK_1\",[0 0 0]),],\n",
    "    model\n",
    ")\n",
    "\n",
    "run_test(agg, model,\"Run One Aggregate     \")"
   ]
  },
  {
   "cell_type": "code",
   "execution_count": 69,
   "metadata": {},
   "outputs": [],
   "source": [
    "# position=agg.Position\n",
    "# open(\"init_stable.xyz\", \"a\") do f\n",
    "#     write(f, \"Initial Stable\\n\")\n",
    "#     write(f, \"t=0\\n\")\n",
    "#     writedlm(f,hcat(agg.Geometry.outline,Matrix(position)), ' ')\n",
    "# end\n",
    "\n",
    "# # Run fusion of two aggregates\n",
    "# agg = nothing\n",
    "# agg = FusionAggregate(\n",
    "#     [AggType(\"HEK_1\", InteractionPar(Par1, Par2),position)], \n",
    "#     model\n",
    "# )\n",
    "# run_test(agg, model, \"Fusion of Two Aggregates\")\n",
    "\n",
    "# display(sum(isnan.(agg.Simulation.Force.F), dims=1))\n",
    "# display(sum(agg.Simulation.Force.F .> 50, dims=1))\n",
    "# display(agg.Simulation.Force.F)\n",
    "# display(agg.Position)"
   ]
  }
 ],
 "metadata": {
  "kernelspec": {
   "display_name": "Julia 1.6.7",
   "language": "julia",
   "name": "julia-1.6"
  },
  "language_info": {
   "file_extension": ".jl",
   "mimetype": "application/julia",
   "name": "julia",
   "version": "1.6.7"
  },
  "orig_nbformat": 4
 },
 "nbformat": 4,
 "nbformat_minor": 2
}
