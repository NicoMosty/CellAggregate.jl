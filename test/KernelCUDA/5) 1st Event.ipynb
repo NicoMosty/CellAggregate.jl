{
 "cells": [
  {
   "attachments": {},
   "cell_type": "markdown",
   "metadata": {},
   "source": [
    "# Prev"
   ]
  },
  {
   "attachments": {},
   "cell_type": "markdown",
   "metadata": {},
   "source": [
    "## include"
   ]
  },
  {
   "cell_type": "code",
   "execution_count": 1,
   "metadata": {},
   "outputs": [
    {
     "data": {
      "text/plain": [
       "RunFusionAggregates (generic function with 1 method)"
      ]
     },
     "execution_count": 1,
     "metadata": {},
     "output_type": "execute_result"
    }
   ],
   "source": [
    "include(\"../../src/struct_data.jl\")\n",
    "include(\"../../src/neighbor.jl\")\n",
    "include(\"../../src/forces/forces.jl\")\n",
    "include(\"../../src/run_event.jl\")"
   ]
  },
  {
   "attachments": {},
   "cell_type": "markdown",
   "metadata": {},
   "source": [
    "## model"
   ]
  },
  {
   "cell_type": "code",
   "execution_count": 2,
   "metadata": {},
   "outputs": [
    {
     "name": "stdout",
     "output_type": "stream",
     "text": [
      "  0.000008 seconds (5 allocations: 208 bytes)\n"
     ]
    },
    {
     "data": {
      "text/plain": [
       "ModelSet(TimeModel(150000.0, 0.5, 100, 50), InputModel(0.8, \"../../data/init/Sphere\"), OutputModel(\"Test_1\", \"\"))"
      ]
     },
     "execution_count": 2,
     "metadata": {},
     "output_type": "execute_result"
    }
   ],
   "source": [
    "@time model = ModelSet(\n",
    "    TimeModel(\n",
    "        tₛᵢₘ  = 150000.0,\n",
    "        dt    = 0.5,\n",
    "        nₖₙₙ  = 100,\n",
    "        nₛₐᵥₑ = 50\n",
    "    ),\n",
    "    InputModel(\n",
    "        outer_ratio = 0.8,\n",
    "        path_input  = \"../../data/init/Sphere\"\n",
    "    ),\n",
    "    OutputModel(\n",
    "        name_output = \"Test_1\",\n",
    "        path_output = \"\"\n",
    "    ) \n",
    ")"
   ]
  },
  {
   "attachments": {},
   "cell_type": "markdown",
   "metadata": {},
   "source": [
    "# Run"
   ]
  },
  {
   "attachments": {},
   "cell_type": "markdown",
   "metadata": {},
   "source": [
    "## Some Founded Parameters"
   ]
  },
  {
   "attachments": {},
   "cell_type": "markdown",
   "metadata": {},
   "source": [
    "### Cubic"
   ]
  },
  {
   "cell_type": "code",
   "execution_count": 3,
   "metadata": {},
   "outputs": [],
   "source": [
    "# # Complete (Oriola Contractile Model) -> Normal Vectors of distance between cells without area\n",
    "# Par1, Par2 = Cubic(0.0055,2.0,4.5), ContractilePar(0.162);\n",
    "# Par1, Par2 = Cubic(0.0055,2.0,4.5), ContractilePar(0.166);\n",
    "# Par1, Par2 = Cubic(0.0055,2.0,4.5), ContractilePar(0.164);"
   ]
  },
  {
   "attachments": {},
   "cell_type": "markdown",
   "metadata": {},
   "source": [
    "## Fusion Agg"
   ]
  },
  {
   "cell_type": "code",
   "execution_count": 4,
   "metadata": {},
   "outputs": [
    {
     "data": {
      "text/plain": [
       "15"
      ]
     },
     "execution_count": 4,
     "metadata": {},
     "output_type": "execute_result"
    }
   ],
   "source": [
    "# Run Model\n",
    "Par1, Par2 = Cubic(0.00,2.0,3.0), ContractilePar(0.005);\n",
    "# ContractilePar(0.02);\n",
    "# RunFusionAggregates(model::ModelSet, Par1, Par2, 15)\n",
    "size_agg = 15"
   ]
  },
  {
   "cell_type": "code",
   "execution_count": 5,
   "metadata": {},
   "outputs": [
    {
     "name": "stderr",
     "output_type": "stream",
     "text": [
      "\u001b[32mRun One Aggregate     ...   0%|                          |  ETA: 24.35 days\u001b[39m"
     ]
    },
    {
     "name": "stdout",
     "output_type": "stream",
     "text": [
      "ERROR: a exception was thrown during kernel execution.\n",
      "       Run Julia on debug level 2 for device stack traces.\n"
     ]
    },
    {
     "ename": "LoadError",
     "evalue": "CUDA error: an illegal instruction was encountered (code 715, ERROR_ILLEGAL_INSTRUCTION)",
     "output_type": "error",
     "traceback": [
      "CUDA error: an illegal instruction was encountered (code 715, ERROR_ILLEGAL_INSTRUCTION)",
      "",
      "Stacktrace:",
      "  [1] throw_api_error(res::CUDA.cudaError_enum)",
      "    @ CUDA ~/.julia/packages/CUDA/pCcGc/lib/cudadrv/libcuda.jl:27",
      "  [2] check",
      "    @ ~/.julia/packages/CUDA/pCcGc/lib/cudadrv/libcuda.jl:34 [inlined]",
      "  [3] cuLaunchKernel",
      "    @ ~/.julia/packages/CUDA/pCcGc/lib/utils/call.jl:26 [inlined]",
      "  [4] (::CUDA.var\"#863#864\"{Bool, Int64, CuStream, CuFunction, CuDim3, CuDim3})(kernelParams::Vector{Ptr{Nothing}})",
      "    @ CUDA ~/.julia/packages/CUDA/pCcGc/lib/cudadrv/execution.jl:69",
      "  [5] macro expansion",
      "    @ ~/.julia/packages/CUDA/pCcGc/lib/cudadrv/execution.jl:33 [inlined]",
      "  [6] macro expansion",
      "    @ ./none:0 [inlined]",
      "  [7] pack_arguments(::CUDA.var\"#863#864\"{Bool, Int64, CuStream, CuFunction, CuDim3, CuDim3}, ::CUDA.KernelState, ::CuDeviceMatrix{Float32, 1}, ::CuDeviceMatrix{Float32, 1}, ::CuDeviceMatrix{Float32, 1}, ::CuDeviceMatrix{Int32, 1}, ::CuDeviceMatrix{Int32, 1}, ::Cubic{CuDeviceVector{Float32, 1}}, ::CuDeviceVector{Float32, 1}, ::Float64, ::Float64, ::Float64)",
      "    @ CUDA ./none:0",
      "  [8] #launch#862",
      "    @ ~/.julia/packages/CUDA/pCcGc/lib/cudadrv/execution.jl:62 [inlined]",
      "  [9] #868",
      "    @ ~/.julia/packages/CUDA/pCcGc/lib/cudadrv/execution.jl:136 [inlined]",
      " [10] macro expansion",
      "    @ ~/.julia/packages/CUDA/pCcGc/lib/cudadrv/execution.jl:95 [inlined]",
      " [11] macro expansion",
      "    @ ./none:0 [inlined]",
      " [12] convert_arguments",
      "    @ ./none:0 [inlined]",
      " [13] #cudacall#867",
      "    @ ~/.julia/packages/CUDA/pCcGc/lib/cudadrv/execution.jl:135 [inlined]",
      " [14] cudacall",
      "    @ ~/.julia/packages/CUDA/pCcGc/lib/cudadrv/execution.jl:134 [inlined]",
      " [15] macro expansion",
      "    @ ~/.julia/packages/CUDA/pCcGc/src/compiler/execution.jl:219 [inlined]",
      " [16] macro expansion",
      "    @ ./none:0 [inlined]",
      " [17] call(::CUDA.HostKernel{typeof(sum_force!), Tuple{CuDeviceMatrix{Float32, 1}, CuDeviceMatrix{Float32, 1}, CuDeviceMatrix{Float32, 1}, CuDeviceMatrix{Int32, 1}, CuDeviceMatrix{Int32, 1}, Cubic{CuDeviceVector{Float32, 1}}, CuDeviceVector{Float32, 1}, Float64, Float64, Float64}}, ::CuDeviceMatrix{Float32, 1}, ::CuDeviceMatrix{Float32, 1}, ::CuDeviceMatrix{Float32, 1}, ::CuDeviceMatrix{Int32, 1}, ::CuDeviceMatrix{Int32, 1}, ::Cubic{CuDeviceVector{Float32, 1}}, ::CuDeviceVector{Float32, 1}, ::Float64, ::Float64, ::Float64; call_kwargs::Base.Pairs{Symbol, Any, Tuple{Symbol, Symbol, Symbol}, NamedTuple{(:threads, :blocks, :shmem), Tuple{Tuple{Int64, Int64}, Tuple{Int64, Int64}, Int64}}})",
      "    @ CUDA ./none:0",
      " [18] (::CUDA.HostKernel{typeof(sum_force!), Tuple{CuDeviceMatrix{Float32, 1}, CuDeviceMatrix{Float32, 1}, CuDeviceMatrix{Float32, 1}, CuDeviceMatrix{Int32, 1}, CuDeviceMatrix{Int32, 1}, Cubic{CuDeviceVector{Float32, 1}}, CuDeviceVector{Float32, 1}, Float64, Float64, Float64}})(::CuArray{Float32, 2, CUDA.Mem.DeviceBuffer}, ::Vararg{Any}; threads::Tuple{Int64, Int64}, blocks::Tuple{Int64, Int64}, kwargs::Base.Pairs{Symbol, Int64, Tuple{Symbol}, NamedTuple{(:shmem,), Tuple{Int64}}})",
      "    @ CUDA ~/.julia/packages/CUDA/pCcGc/src/compiler/execution.jl:340",
      " [19] macro expansion",
      "    @ ~/.julia/packages/CUDA/pCcGc/src/compiler/execution.jl:106 [inlined]",
      " [20] macro expansion",
      "    @ ~/Documentos/MaestriaUNAL/CellAggregate.jl/src/run_event.jl:15 [inlined]",
      " [21] macro expansion",
      "    @ ~/.julia/packages/ProgressMeter/sN2xr/src/ProgressMeter.jl:938 [inlined]",
      " [22] run_test(agg::Aggregate, model::ModelSet, title::String)",
      "    @ Main ~/Documentos/MaestriaUNAL/CellAggregate.jl/src/run_event.jl:11",
      " [23] top-level scope",
      "    @ In[5]:13"
     ]
    }
   ],
   "source": [
    "# Run only one aggregate\n",
    "agg = nothing\n",
    "agg = Aggregate(\n",
    "    [AggType(\n",
    "        \"HEK_1\", \n",
    "        InteractionPar(Par1, Par2),\n",
    "        Float32.(readdlm(\"../../data/init/Sphere/$(size_agg).0.xyz\")[3:end,2:end]) |> cu\n",
    "    )], \n",
    "    [AggLocation(\"HEK_1\",[0 0 0]),],\n",
    "    model\n",
    ")\n",
    "\n",
    "run_test(agg, model,\"Run One Aggregate     \")"
   ]
  },
  {
   "cell_type": "code",
   "execution_count": null,
   "metadata": {},
   "outputs": [
    {
     "data": {
      "text/plain": [
       "1×3 CuArray{Int64, 2, CUDA.Mem.DeviceBuffer}:\n",
       " 0  0  0"
      ]
     },
     "metadata": {},
     "output_type": "display_data"
    },
    {
     "data": {
      "text/plain": [
       "1×3 CuArray{Int64, 2, CUDA.Mem.DeviceBuffer}:\n",
       " 0  0  0"
      ]
     },
     "metadata": {},
     "output_type": "display_data"
    },
    {
     "data": {
      "text/plain": [
       "2504×3 CuArray{Float32, 2, CUDA.Mem.DeviceBuffer}:\n",
       " -0.00754677  -0.0109328     0.0155017\n",
       "  0.0145561    0.000775563   0.0145104\n",
       "  0.00466775  -0.0109228    -0.0162079\n",
       " -0.0122329    0.0150488     0.00137917\n",
       " -0.00939092   0.0139521     0.0065772\n",
       "  0.00464883  -0.0196339     0.000889229\n",
       " -0.0108412    0.00297765   -0.0158262\n",
       "  0.00817304   0.00804603    0.0169184\n",
       "  0.0089053   -0.0163785    -0.00749675\n",
       " -0.00813834  -0.00761652    0.0179165\n",
       " -0.0101483    0.00222923    0.0168669\n",
       "  0.00451972   0.0149799    -0.0155137\n",
       "  0.00757989   0.00994894    0.0148586\n",
       "  ⋮                         \n",
       "  0.0165459   -0.00625554    0.00109714\n",
       " -0.00919354   0.0149862    -0.00947685\n",
       " -0.00573339  -0.0160227     0.00647726\n",
       "  0.0107153   -0.016373     -0.00366959\n",
       "  0.0192991    0.00570937   -0.00123587\n",
       "  0.0101462    0.0127428    -0.0127152\n",
       "  0.0138104    0.015113     -0.00749557\n",
       "  0.0190368   -0.000481036   0.000697486\n",
       " -0.0138346    0.0128122     0.00196324\n",
       "  0.015493     0.0120841     0.00872584\n",
       "  0.0127641    0.0146284     0.00401286\n",
       "  0.0122463   -0.0147912    -0.00317237"
      ]
     },
     "metadata": {},
     "output_type": "display_data"
    },
    {
     "data": {
      "text/plain": [
       "2504×3 CuArray{Float32, 2, CUDA.Mem.DeviceBuffer}:\n",
       " -1.99829    -5.08042    -13.3494\n",
       "  0.0309798  -5.39805    -13.2906\n",
       "  2.18577    -5.3081     -13.3017\n",
       " -5.00129    -2.86012    -13.2496\n",
       " -3.00259    -3.22445    -13.1577\n",
       " -0.968686   -3.44879    -13.2099\n",
       "  0.998308   -3.70337    -13.2634\n",
       "  3.17346    -3.56661    -13.3628\n",
       " -5.79959    -1.00431    -13.2308\n",
       " -3.85856    -1.24683    -13.3202\n",
       " -1.94857    -1.54889    -13.3485\n",
       "  0.0414279  -1.78762    -13.2583\n",
       "  2.01535    -1.98281    -13.2795\n",
       "  ⋮                      \n",
       " -1.36326     1.01698     13.2142\n",
       "  0.534336    0.763028    13.1868\n",
       "  2.35922     0.380751    13.1239\n",
       "  4.26119     0.0712582   13.0311\n",
       " -4.34156     3.27968     13.209\n",
       " -2.37386     2.94051     13.2557\n",
       " -0.45656     2.68488     13.1146\n",
       "  1.56126     2.3885      13.1421\n",
       "  3.45335     2.10515     12.9919\n",
       " -1.37021     4.59056     13.0811\n",
       "  0.63275     4.34949     13.0875\n",
       "  2.64439     3.95858     13.126"
      ]
     },
     "metadata": {},
     "output_type": "display_data"
    }
   ],
   "source": [
    "# position=agg.Position\n",
    "# open(\"init_stable.xyz\", \"a\") do f\n",
    "#     write(f, \"Initial Stable\\n\")\n",
    "#     write(f, \"t=0\\n\")\n",
    "#     writedlm(f,hcat(agg.Geometry.outline,Matrix(position)), ' ')\n",
    "# end\n",
    "\n",
    "# # Run fusion of two aggregates\n",
    "# agg = nothing\n",
    "# agg = FusionAggregate(\n",
    "#     [AggType(\"HEK_1\", InteractionPar(Par1, Par2),position)], \n",
    "#     model\n",
    "# )\n",
    "# run_test(agg, model, \"Fusion of Two Aggregates\")\n",
    "\n",
    "display(sum(isnan.(agg.Simulation.Force.F), dims=1))\n",
    "display(sum(agg.Simulation.Force.F .> 50, dims=1))\n",
    "display(agg.Simulation.Force.F)\n",
    "display(agg.Position)"
   ]
  }
 ],
 "metadata": {
  "kernelspec": {
   "display_name": "Julia 1.9.1",
   "language": "julia",
   "name": "julia-1.9"
  },
  "language_info": {
   "file_extension": ".jl",
   "mimetype": "application/julia",
   "name": "julia",
   "version": "1.9.1"
  },
  "orig_nbformat": 4
 },
 "nbformat": 4,
 "nbformat_minor": 2
}
