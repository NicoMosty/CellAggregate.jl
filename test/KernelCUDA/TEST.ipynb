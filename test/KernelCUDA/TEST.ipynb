{
 "cells": [
  {
   "cell_type": "code",
   "execution_count": 9,
   "metadata": {},
   "outputs": [],
   "source": [
    "using CUDA"
   ]
  },
  {
   "cell_type": "code",
   "execution_count": 10,
   "metadata": {},
   "outputs": [
    {
     "data": {
      "text/plain": [
       "7-element CuArray{Int64, 1, CUDA.Mem.DeviceBuffer}:\n",
       " 1\n",
       " 2\n",
       " 3\n",
       " 4\n",
       " 3\n",
       " 2\n",
       " 1"
      ]
     },
     "execution_count": 10,
     "metadata": {},
     "output_type": "execute_result"
    }
   ],
   "source": [
    "sum = [1,2,3,4,3,2,1] |> cu"
   ]
  },
  {
   "cell_type": "code",
   "execution_count": 11,
   "metadata": {},
   "outputs": [
    {
     "data": {
      "text/plain": [
       "6×7 CuArray{Float32, 2, CUDA.Mem.DeviceBuffer}:\n",
       " 0.0  0.0  0.0  0.0  0.0  0.0  0.0\n",
       " 0.0  0.0  0.0  0.0  0.0  0.0  0.0\n",
       " 0.0  0.0  0.0  0.0  0.0  0.0  0.0\n",
       " 0.0  0.0  0.0  0.0  0.0  0.0  0.0\n",
       " 0.0  0.0  0.0  0.0  0.0  0.0  0.0\n",
       " 0.0  0.0  0.0  0.0  0.0  0.0  0.0"
      ]
     },
     "execution_count": 11,
     "metadata": {},
     "output_type": "execute_result"
    }
   ],
   "source": [
    "idx = zeros(6,size(sum,1)) |> cu"
   ]
  },
  {
   "cell_type": "code",
   "execution_count": 12,
   "metadata": {},
   "outputs": [
    {
     "data": {
      "text/plain": [
       "6×7 CuArray{Float32, 2, CUDA.Mem.DeviceBuffer}:\n",
       " 1.0  1.0  1.0  1.0  1.0  1.0  1.0\n",
       " 0.0  1.0  1.0  1.0  1.0  1.0  0.0\n",
       " 0.0  0.0  1.0  1.0  1.0  0.0  0.0\n",
       " 0.0  0.0  0.0  1.0  0.0  0.0  0.0\n",
       " 0.0  0.0  0.0  0.0  0.0  0.0  0.0\n",
       " 0.0  0.0  0.0  0.0  0.0  0.0  0.0"
      ]
     },
     "metadata": {},
     "output_type": "display_data"
    }
   ],
   "source": [
    "function testo!(idx,sum)\n",
    "    i  = (blockIdx().x-1) * blockDim().x + threadIdx().x\n",
    "\n",
    "    if i <=size(sum,1)\n",
    "\n",
    "        # Cleaning index matrices\n",
    "        for m = 1:sum[i]\n",
    "            idx[m,i] = 1\n",
    "        end\n",
    "    end\n",
    "end\n",
    "\n",
    "# Calculating Distance Matrix\n",
    "threads=(100)\n",
    "@cuda(\n",
    "    threads=threads,\n",
    "    blocks=cld.(size(idx,1),threads),\n",
    "    testo!(idx,sum)\n",
    ")\n",
    "\n",
    "display(idx)"
   ]
  },
  {
   "cell_type": "code",
   "execution_count": null,
   "metadata": {},
   "outputs": [],
   "source": [
    "        # First loop. Register all possible pairwise interactions based on\n",
    "        # extensive sweep of the nearby cubes.\n",
    "        for j = 1:size(points,1)\n",
    "            d = euclidean(points,i,j) \n",
    "            # if d < r_max[i] && i!=j\n",
    "            if d < 9.0 && i!=j\n",
    "                idx_sum[i] += 1\n",
    "                idx[idx_sum[i],i] = j\n",
    "                dist[idx_sum[i],i] = d\n",
    "            end\n",
    "\n",
    "            # For an efficient implementation of the Gabriel method we sort the list\n",
    "            # of possible interactions by distance\n",
    "            if 1<j \n",
    "                for n=idx_sum[i]:-1:2\n",
    "                    if dist[n,i]<dist[n-1,i]\n",
    "                        idx[n,i],idx[n-1,i]   = idx[n-1,i],idx[n,i]\n",
    "                        dist[n,i],dist[n-1,i] = dist[n-1,i],dist[n,i]\n",
    "                    end\n",
    "                end \n",
    "            end\n",
    "\n",
    "        end"
   ]
  },
  {
   "cell_type": "code",
   "execution_count": null,
   "metadata": {},
   "outputs": [],
   "source": [
    "# First loop. Register all possible pairwise interactions based on\n",
    "# extensive sweep of the nearby cubes.\n",
    "for j = 1:size(points,1)\n",
    "    d = euclidean(points,i,j) \n",
    "    # if d < r_max[i] && i!=j\n",
    "    if d < 5.0 && i!=j\n",
    "        idx_sum[i] += 1\n",
    "        idx[idx_sum[i],i] = j\n",
    "        dist[idx_sum[i],i] = d\n",
    "    end\n",
    "end"
   ]
  }
 ],
 "metadata": {
  "kernelspec": {
   "display_name": "Julia 1.6.7",
   "language": "julia",
   "name": "julia-1.6"
  },
  "language_info": {
   "file_extension": ".jl",
   "mimetype": "application/julia",
   "name": "julia",
   "version": "1.6.7"
  },
  "orig_nbformat": 4
 },
 "nbformat": 4,
 "nbformat_minor": 2
}
