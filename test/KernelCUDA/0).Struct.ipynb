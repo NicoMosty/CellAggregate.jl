{
 "cells": [
  {
   "cell_type": "code",
   "execution_count": 1,
   "metadata": {},
   "outputs": [
    {
     "data": {
      "text/html": [
       "# 6 methods for generic function <b>force_func</b> from \u001b[35mMain\u001b[39m:<ul><li> force_func(p::<b>Cubic</b>, value) in Main at none:1</li> <li> force_func(p::<b>Cubic</b>, i, r) in Main at <a href=\"https://github.com/NicoMosty/CellAggregate.jl/tree/34dea8bb15b727689dce1e749605c0b59fa519e7//src/forces/forces_func.jl#L31\" target=\"_blank\">/home/nicomosty/Documents/MaestriaUNAL/CellAggregate.jl/src/forces/forces_func.jl:31</a></li> <li> force_func(p::<b>LennardJones</b>, value) in Main at none:1</li> <li> force_func(p::<b>LennardJones</b>, i, r) in Main at <a href=\"https://github.com/NicoMosty/CellAggregate.jl/tree/34dea8bb15b727689dce1e749605c0b59fa519e7//src/forces/forces_func.jl#L44\" target=\"_blank\">/home/nicomosty/Documents/MaestriaUNAL/CellAggregate.jl/src/forces/forces_func.jl:44</a></li> <li> force_func(p::<b>Oriola</b>, value) in Main at none:1</li> <li> force_func(p::<b>Oriola</b>, i, r) in Main at <a href=\"https://github.com/NicoMosty/CellAggregate.jl/tree/34dea8bb15b727689dce1e749605c0b59fa519e7//src/forces/forces_func.jl#L57\" target=\"_blank\">/home/nicomosty/Documents/MaestriaUNAL/CellAggregate.jl/src/forces/forces_func.jl:57</a></li> </ul>"
      ],
      "text/plain": [
       "# 6 methods for generic function \"force_func\" from \u001b[35mMain\u001b[39m:\n",
       " [1] force_func(\u001b[90mp\u001b[39m::\u001b[1mCubic\u001b[22m, \u001b[90mvalue\u001b[39m)\n",
       "\u001b[90m     @\u001b[39m \u001b[90m\u001b[4mnone:1\u001b[24m\u001b[39m\n",
       " [2] force_func(\u001b[90mp\u001b[39m::\u001b[1mCubic\u001b[22m, \u001b[90mi\u001b[39m, \u001b[90mr\u001b[39m)\n",
       "\u001b[90m     @\u001b[39m \u001b[90m~/Documents/MaestriaUNAL/CellAggregate.jl/src/forces/\u001b[39m\u001b[90m\u001b[4mforces_func.jl:31\u001b[24m\u001b[39m\n",
       " [3] force_func(\u001b[90mp\u001b[39m::\u001b[1mLennardJones\u001b[22m, \u001b[90mvalue\u001b[39m)\n",
       "\u001b[90m     @\u001b[39m \u001b[90m\u001b[4mnone:1\u001b[24m\u001b[39m\n",
       " [4] force_func(\u001b[90mp\u001b[39m::\u001b[1mLennardJones\u001b[22m, \u001b[90mi\u001b[39m, \u001b[90mr\u001b[39m)\n",
       "\u001b[90m     @\u001b[39m \u001b[90m~/Documents/MaestriaUNAL/CellAggregate.jl/src/forces/\u001b[39m\u001b[90m\u001b[4mforces_func.jl:44\u001b[24m\u001b[39m\n",
       " [5] force_func(\u001b[90mp\u001b[39m::\u001b[1mOriola\u001b[22m, \u001b[90mvalue\u001b[39m)\n",
       "\u001b[90m     @\u001b[39m \u001b[90m\u001b[4mnone:1\u001b[24m\u001b[39m\n",
       " [6] force_func(\u001b[90mp\u001b[39m::\u001b[1mOriola\u001b[22m, \u001b[90mi\u001b[39m, \u001b[90mr\u001b[39m)\n",
       "\u001b[90m     @\u001b[39m \u001b[90m~/Documents/MaestriaUNAL/CellAggregate.jl/src/forces/\u001b[39m\u001b[90m\u001b[4mforces_func.jl:57\u001b[24m\u001b[39m"
      ]
     },
     "metadata": {},
     "output_type": "display_data"
    }
   ],
   "source": [
    "include(\"../../src/struct_data.jl\")\n",
    "methods(force_func)"
   ]
  },
  {
   "cell_type": "markdown",
   "metadata": {},
   "source": [
    "# Force"
   ]
  },
  {
   "cell_type": "code",
   "execution_count": 2,
   "metadata": {},
   "outputs": [
    {
     "name": "stdout",
     "output_type": "stream",
     "text": [
      "UnionAll\n",
      "  var: TypeVar\n",
      "    name: Symbol T\n",
      "    lb: Union{}\n",
      "    ub: Any\n",
      "  body: Cubic{T} <: ForceType\n",
      "    μ₁::T\n",
      "    rₘᵢₙ::T\n",
      "    rₘₐₓ::T\n"
     ]
    }
   ],
   "source": [
    "dump(Cubic)"
   ]
  },
  {
   "attachments": {},
   "cell_type": "markdown",
   "metadata": {},
   "source": [
    "# Model"
   ]
  },
  {
   "cell_type": "code",
   "execution_count": 3,
   "metadata": {},
   "outputs": [
    {
     "name": "stdout",
     "output_type": "stream",
     "text": [
      "ModelSet\n",
      "  Time: TimeModel\n",
      "    tₛᵢₘ: Float64 10000.0\n",
      "    dt: Float64 0.5\n",
      "    nₖₙₙ: Int64 50\n",
      "    nₛₐᵥₑ: Int64 100\n",
      "  Input: InputModel\n",
      "    outer_ratio: Float64 0.8\n",
      "    path_input: String "
     ]
    },
    {
     "name": "stdout",
     "output_type": "stream",
     "text": [
      "\"../../data/init/Sphere\"\n",
      "  Output: OutputModel\n",
      "    name_output: String \"Test_1\"\n",
      "    path_output: String \".results/cont_par(A)/force_par(B)/\"\n",
      "    d_saved: Float64 0.5\n"
     ]
    }
   ],
   "source": [
    "Model = ModelSet(\n",
    "    TimeModel(\n",
    "        tₛᵢₘ  = 10000.0,\n",
    "        dt    = 0.5,\n",
    "        nₖₙₙ  = 50,\n",
    "        nₛₐᵥₑ = 100\n",
    "    ),\n",
    "    InputModel(\n",
    "        outer_ratio = 0.8,\n",
    "        path_input  = \"../../data/init/Sphere\"\n",
    "    ),\n",
    "    OutputModel(\n",
    "        name_output = \"Test_1\",\n",
    "        path_output = \".results/cont_par(A)/force_par(B)/\",\n",
    "        d_saved = 0.5\n",
    "    ) \n",
    ")\n",
    "dump(Model)"
   ]
  },
  {
   "cell_type": "markdown",
   "metadata": {},
   "source": [
    "# Data"
   ]
  },
  {
   "cell_type": "code",
   "execution_count": 4,
   "metadata": {},
   "outputs": [
    {
     "data": {
      "text/plain": [
       "2504×3 CuArray{Float32, 2, CUDA.Mem.DeviceBuffer}:\n",
       " -1.5  -4.62  -13.88\n",
       "  0.5  -4.62  -13.88\n",
       "  2.5  -4.62  -13.88\n",
       " -4.5  -2.89  -13.88\n",
       " -2.5  -2.89  -13.88\n",
       " -0.5  -2.89  -13.88\n",
       "  1.5  -2.89  -13.88\n",
       "  3.5  -2.89  -13.88\n",
       " -5.5  -1.15  -13.88\n",
       " -3.5  -1.15  -13.88\n",
       "  ⋮           \n",
       "  4.5   1.15   13.88\n",
       " -4.5   2.89   13.88\n",
       " -2.5   2.89   13.88\n",
       " -0.5   2.89   13.88\n",
       "  1.5   2.89   13.88\n",
       "  3.5   2.89   13.88\n",
       " -1.5   4.62   13.88\n",
       "  0.5   4.62   13.88\n",
       "  2.5   4.62   13.88"
      ]
     },
     "metadata": {},
     "output_type": "display_data"
    }
   ],
   "source": [
    "X = Float64.(readdlm(\"../../data/init/Sphere/15.0.xyz\")[3:end,2:end]) |> cu"
   ]
  },
  {
   "attachments": {},
   "cell_type": "markdown",
   "metadata": {},
   "source": [
    "# Aggregate"
   ]
  },
  {
   "cell_type": "markdown",
   "metadata": {},
   "source": [
    "## One"
   ]
  },
  {
   "cell_type": "code",
   "execution_count": 5,
   "metadata": {},
   "outputs": [
    {
     "data": {
      "text/plain": [
       "1-element Vector{AggType}:\n",
       " AggType(\"HEK_1\", InteractionPar(Cubic{Float64}(1.0, 2.0, 3.0), ContractilePar{Float64}(0.01, 0.7853981633974483, 0.08, 1.0)), 15.27f0, Float32[-1.5 -4.62 -13.88; 0.5 -4.62 -13.88; … ; 0.5 4.62 13.88; 2.5 4.62 13.88], CuArray{Float32, 2, CUDA.Mem.DeviceBuffer})"
      ]
     },
     "metadata": {},
     "output_type": "display_data"
    },
    {
     "name": "stdout",
     "output_type": "stream",
     "text": [
      "========================= Type =======================\n"
     ]
    },
    {
     "data": {
      "text/plain": [
       "1×2504 CuArray{Int64, 2, CUDA.Mem.DeviceBuffer}:\n",
       " 1  1  1  1  1  1  1  1  1  1  1  1  1  …  1  1  1  1  1  1  1  1  1  1  1  1"
      ]
     },
     "metadata": {},
     "output_type": "display_data"
    },
    {
     "name": "stdout",
     "output_type": "stream",
     "text": [
      "======================   Index =======================\n",
      "Index of List of Aggregates\n"
     ]
    },
    {
     "data": {
      "text/plain": [
       "1×2504 CuArray{Int64, 2, CUDA.Mem.DeviceBuffer}:\n",
       " 1  1  1  1  1  1  1  1  1  1  1  1  1  …  1  1  1  1  1  1  1  1  1  1  1  1"
      ]
     },
     "metadata": {},
     "output_type": "display_data"
    },
    {
     "data": {
      "text/plain": [
       "1×2504 Matrix{String}:\n",
       " \"HEK_1\"  \"HEK_1\"  \"HEK_1\"  \"HEK_1\"  …  \"HEK_1\"  \"HEK_1\"  \"HEK_1\"  \"HEK_1\""
      ]
     },
     "metadata": {},
     "output_type": "display_data"
    },
    {
     "name": "stdout",
     "output_type": "stream",
     "text": [
      "Index of Number of Aggregates\n",
      "Index of Name of Aggregates\n"
     ]
    },
    {
     "data": {
      "text/plain": [
       "2504×3 CuArray{Float32, 2, CUDA.Mem.DeviceBuffer}:\n",
       " -1.5  -4.62  -13.88\n",
       "  0.5  -4.62  -13.88\n",
       "  2.5  -4.62  -13.88\n",
       " -4.5  -2.89  -13.88\n",
       " -2.5  -2.89  -13.88\n",
       " -0.5  -2.89  -13.88\n",
       "  1.5  -2.89  -13.88\n",
       "  3.5  -2.89  -13.88\n",
       " -5.5  -1.15  -13.88\n",
       " -3.5  -1.15  -13.88\n",
       "  ⋮           \n",
       "  4.5   1.15   13.88\n",
       " -4.5   2.89   13.88\n",
       " -2.5   2.89   13.88\n",
       " -0.5   2.89   13.88\n",
       "  1.5   2.89   13.88\n",
       "  3.5   2.89   13.88\n",
       " -1.5   4.62   13.88\n",
       "  0.5   4.62   13.88\n",
       "  2.5   4.62   13.88"
      ]
     },
     "metadata": {},
     "output_type": "display_data"
    },
    {
     "data": {
      "text/plain": [
       "1×2504 Matrix{Float32}:\n",
       " 15.27  15.27  15.27  15.27  15.27  …  15.27  15.27  15.27  15.27  15.27"
      ]
     },
     "metadata": {},
     "output_type": "display_data"
    },
    {
     "name": "stdout",
     "output_type": "stream",
     "text": [
      "====================== Position =====================\n",
      "======================== Geometry ===================\n",
      "Radius_agg\n"
     ]
    },
    {
     "data": {
      "text/plain": [
       "1×2504 Matrix{Int64}:\n",
       " 1  1  1  1  1  1  1  1  1  1  1  1  1  …  1  1  1  1  1  1  1  1  1  1  1  1"
      ]
     },
     "metadata": {},
     "output_type": "display_data"
    },
    {
     "name": "stdout",
     "output_type": "stream",
     "text": [
      "Outline\n"
     ]
    },
    {
     "data": {
      "text/plain": [
       "Cubic{CuArray{Float32, 1, CUDA.Mem.DeviceBuffer}}(Float32[1.0, 1.0, 1.0, 1.0, 1.0, 1.0, 1.0, 1.0, 1.0, 1.0  …  1.0, 1.0, 1.0, 1.0, 1.0, 1.0, 1.0, 1.0, 1.0, 1.0], Float32[2.0, 2.0, 2.0, 2.0, 2.0, 2.0, 2.0, 2.0, 2.0, 2.0  …  2.0, 2.0, 2.0, 2.0, 2.0, 2.0, 2.0, 2.0, 2.0, 2.0], Float32[3.0, 3.0, 3.0, 3.0, 3.0, 3.0, 3.0, 3.0, 3.0, 3.0  …  3.0, 3.0, 3.0, 3.0, 3.0, 3.0, 3.0, 3.0, 3.0, 3.0])"
      ]
     },
     "metadata": {},
     "output_type": "display_data"
    },
    {
     "name": "stdout",
     "output_type": "stream",
     "text": [
      "Outer/Total = 1.536741214057508\n",
      "====================== Simulation ===================\n",
      "---------------------- Parameter --------------------\n",
      "Force\n"
     ]
    },
    {
     "data": {
      "text/plain": [
       "ContractilePar{CuArray{Float32, 1, CUDA.Mem.DeviceBuffer}}(Float32[0.01, 0.01, 0.01, 0.01, 0.01, 0.01, 0.01, 0.01, 0.01, 0.01  …  0.01, 0.01, 0.01, 0.01, 0.01, 0.01, 0.01, 0.01, 0.01, 0.01], Float32[0.7853982, 0.7853982, 0.7853982, 0.7853982, 0.7853982, 0.7853982, 0.7853982, 0.7853982, 0.7853982, 0.7853982  …  0.7853982, 0.7853982, 0.7853982, 0.7853982, 0.7853982, 0.7853982, 0.7853982, 0.7853982, 0.7853982, 0.7853982], Float32[0.08, 0.08, 0.08, 0.08, 0.08, 0.08, 0.08, 0.08, 0.08, 0.08  …  0.08, 0.08, 0.08, 0.08, 0.08, 0.08, 0.08, 0.08, 0.08, 0.08], Float32[1.0, 1.0, 1.0, 1.0, 1.0, 1.0, 1.0, 1.0, 1.0, 1.0  …  1.0, 1.0, 1.0, 1.0, 1.0, 1.0, 1.0, 1.0, 1.0, 1.0])"
      ]
     },
     "metadata": {},
     "output_type": "display_data"
    },
    {
     "name": "stdout",
     "output_type": "stream",
     "text": [
      "Contractile\n"
     ]
    },
    {
     "data": {
      "text/plain": [
       "1-element CuArray{Float32, 1, CUDA.Mem.DeviceBuffer}:\n",
       " 15.27"
      ]
     },
     "metadata": {},
     "output_type": "display_data"
    },
    {
     "name": "stdout",
     "output_type": "stream",
     "text": [
      "Radius\n"
     ]
    },
    {
     "name": "stdout",
     "output_type": "stream",
     "text": [
      "------------------ Neighbors Size -------------------\n",
      "idx_red  = (1000, 2504)\n",
      "idx_sum  = (1, 2504)\n",
      "idx_cont = (50, 2504)\n",
      "------------------- Forces Size ---------------------\n",
      "dX       = (2504, 3)\n",
      "F        = (2504, 3)\n"
     ]
    }
   ],
   "source": [
    "agg = Aggregate(\n",
    "    [AggType(\"HEK_1\", InteractionPar(Cubic(1.0,2.0,3.0), ContractilePar(0.01,pi/4,0.08,1.0)),X)],\n",
    "    [AggLocation(\"HEK_1\",[0 0 0])],\n",
    "    Model\n",
    ")\n",
    "\n",
    "# dump(agg)\n",
    "show_aggregates(agg)\n",
    "clean_agg(agg)"
   ]
  },
  {
   "cell_type": "markdown",
   "metadata": {},
   "source": [
    "## Simple Agg"
   ]
  },
  {
   "cell_type": "code",
   "execution_count": 6,
   "metadata": {},
   "outputs": [
    {
     "data": {
      "text/plain": [
       "1-element Vector{AggType}:\n",
       " AggType(\"HEK_1\", InteractionPar(Cubic{Float64}(1.0, 2.0, 3.0), ContractilePar{Float64}(0.01, 0.7853981633974483, 0.08, 1.0)), 15.27f0, Float32[-1.5 -4.62 -13.88; 0.5 -4.62 -13.88; … ; 0.5 4.62 13.88; 2.5 4.62 13.88], CuArray{Float32, 2, CUDA.Mem.DeviceBuffer})"
      ]
     },
     "metadata": {},
     "output_type": "display_data"
    },
    {
     "data": {
      "text/plain": [
       "1×5008 CuArray{Int64, 2, CUDA.Mem.DeviceBuffer}:\n",
       " 1  1  1  1  1  1  1  1  1  1  1  1  1  …  1  1  1  1  1  1  1  1  1  1  1  1"
      ]
     },
     "metadata": {},
     "output_type": "display_data"
    },
    {
     "data": {
      "text/plain": [
       "1×5008 CuArray{Int64, 2, CUDA.Mem.DeviceBuffer}:\n",
       " 1  1  1  1  1  1  1  1  1  1  1  1  1  …  2  2  2  2  2  2  2  2  2  2  2  2"
      ]
     },
     "metadata": {},
     "output_type": "display_data"
    },
    {
     "data": {
      "text/plain": [
       "1×5008 Matrix{String}:\n",
       " \"HEK_1\"  \"HEK_1\"  \"HEK_1\"  \"HEK_1\"  …  \"HEK_1\"  \"HEK_1\"  \"HEK_1\"  \"HEK_1\""
      ]
     },
     "metadata": {},
     "output_type": "display_data"
    },
    {
     "data": {
      "text/plain": [
       "5008×3 CuArray{Float32, 2, CUDA.Mem.DeviceBuffer}:\n",
       "  98.5   -4.62  -13.88\n",
       " 100.5   -4.62  -13.88\n",
       " 102.5   -4.62  -13.88\n",
       "  95.5   -2.89  -13.88\n",
       "  97.5   -2.89  -13.88\n",
       "  99.5   -2.89  -13.88\n",
       " 101.5   -2.89  -13.88\n",
       " 103.5   -2.89  -13.88\n",
       "  94.5   -1.15  -13.88\n",
       "  96.5   -1.15  -13.88\n",
       "   ⋮            \n",
       "   4.5  101.15   13.88\n",
       "  -4.5  102.89   13.88\n",
       "  -2.5  102.89   13.88\n",
       "  -0.5  102.89   13.88\n",
       "   1.5  102.89   13.88\n",
       "   3.5  102.89   13.88\n",
       "  -1.5  104.62   13.88\n",
       "   0.5  104.62   13.88\n",
       "   2.5  104.62   13.88"
      ]
     },
     "metadata": {},
     "output_type": "display_data"
    },
    {
     "data": {
      "text/plain": [
       "1×5008 Matrix{Float32}:\n",
       " 15.27  15.27  15.27  15.27  15.27  …  15.27  15.27  15.27  15.27  15.27"
      ]
     },
     "metadata": {},
     "output_type": "display_data"
    },
    {
     "data": {
      "text/plain": [
       "1×5008 Matrix{Int64}:\n",
       " 1  1  1  1  1  1  1  1  1  1  1  1  1  …  1  1  1  1  1  1  1  1  1  1  1  1"
      ]
     },
     "metadata": {},
     "output_type": "display_data"
    },
    {
     "data": {
      "text/plain": [
       "Cubic{CuArray{Float32, 1, CUDA.Mem.DeviceBuffer}}(Float32[1.0, 1.0, 1.0, 1.0, 1.0, 1.0, 1.0, 1.0, 1.0, 1.0  …  1.0, 1.0, 1.0, 1.0, 1.0, 1.0, 1.0, 1.0, 1.0, 1.0], Float32[2.0, 2.0, 2.0, 2.0, 2.0, 2.0, 2.0, 2.0, 2.0, 2.0  …  2.0, 2.0, 2.0, 2.0, 2.0, 2.0, 2.0, 2.0, 2.0, 2.0], Float32[3.0, 3.0, 3.0, 3.0, 3.0, 3.0, 3.0, 3.0, 3.0, 3.0  …  3.0, 3.0, 3.0, 3.0, 3.0, 3.0, 3.0, 3.0, 3.0, 3.0])"
      ]
     },
     "metadata": {},
     "output_type": "display_data"
    },
    {
     "data": {
      "text/plain": [
       "ContractilePar{CuArray{Float32, 1, CUDA.Mem.DeviceBuffer}}(Float32[0.01, 0.01, 0.01, 0.01, 0.01, 0.01, 0.01, 0.01, 0.01, 0.01  …  0.01, 0.01, 0.01, 0.01, 0.01, 0.01, 0.01, 0.01, 0.01, 0.01], Float32[0.7853982, 0.7853982, 0.7853982, 0.7853982, 0.7853982, 0.7853982, 0.7853982, 0.7853982, 0.7853982, 0.7853982  …  0.7853982, 0.7853982, 0.7853982, 0.7853982, 0.7853982, 0.7853982, 0.7853982, 0.7853982, 0.7853982, 0.7853982], Float32[0.08, 0.08, 0.08, 0.08, 0.08, 0.08, 0.08, 0.08, 0.08, 0.08  …  0.08, 0.08, 0.08, 0.08, 0.08, 0.08, 0.08, 0.08, 0.08, 0.08], Float32[1.0, 1.0, 1.0, 1.0, 1.0, 1.0, 1.0, 1.0, 1.0, 1.0  …  1.0, 1.0, 1.0, 1.0, 1.0, 1.0, 1.0, 1.0, 1.0, 1.0])"
      ]
     },
     "metadata": {},
     "output_type": "display_data"
    },
    {
     "data": {
      "text/plain": [
       "1-element CuArray{Float32, 1, CUDA.Mem.DeviceBuffer}:\n",
       " 15.27"
      ]
     },
     "metadata": {},
     "output_type": "display_data"
    },
    {
     "name": "stdout",
     "output_type": "stream",
     "text": [
      "========================= Type =======================\n",
      "======================   Index =======================\n",
      "Index of List of Aggregates\n",
      "Index of Number of Aggregates\n",
      "Index of Name of Aggregates\n",
      "====================== Position =====================\n",
      "======================== Geometry ===================\n",
      "Radius_agg\n",
      "Outline\n",
      "Outer/Total = 1.0\n",
      "====================== Simulation ===================\n",
      "---------------------- Parameter --------------------\n",
      "Force\n",
      "Contractile\n",
      "Radius\n",
      "------------------ Neighbors Size -------------------\n",
      "idx_red  = (1000, 5008)\n",
      "idx_sum  = (1, 5008)\n",
      "idx_cont = (50, 5008)\n",
      "------------------- Forces Size ---------------------\n",
      "dX       = (5008, 3)\n",
      "F        = (5008, 3)\n"
     ]
    }
   ],
   "source": [
    "@start_agg Simple = Aggregate(\n",
    "    [AggType(\"HEK_1\", InteractionPar(Cubic(1.0,2.0,3.0), ContractilePar(0.01,pi/4,0.08,1.0)),X)],\n",
    "    [\n",
    "        AggLocation(\"HEK_1\",[100 0   0]),\n",
    "        AggLocation(\"HEK_1\",[0   100 0])\n",
    "    ],\n",
    "    Model\n",
    ")\n",
    "show_aggregates(Simple)\n",
    "clean_agg(Simple)"
   ]
  },
  {
   "cell_type": "markdown",
   "metadata": {},
   "source": [
    "## Complex"
   ]
  },
  {
   "cell_type": "code",
   "execution_count": 7,
   "metadata": {},
   "outputs": [
    {
     "name": "stdout",
     "output_type": "stream",
     "text": [
      "================================== Aggregate ====================================\n"
     ]
    },
    {
     "data": {
      "text/plain": [
       "4-element Vector{AggType}:\n",
       " AggType(\"A\", InteractionPar(Cubic{Float64}(1.0, 2.0, 3.0), ContractilePar{Float64}(0.01, 0.7853981633974483, 0.08, 1.0)), 15.27f0, Float32[-1.5 -4.62 -13.88; 0.5 -4.62 -13.88; … ; 0.5 4.62 13.88; 2.5 4.62 13.88], CuArray{Float32, 2, CUDA.Mem.DeviceBuffer})\n",
       " AggType(\"B\", InteractionPar(Cubic{Float64}(2.0, 2.0, 3.0), ContractilePar{Float64}(0.02, 0.7853981633974483, 0.08, 1.0)), 10.43f0, Float32[-1.5 -2.89 -8.98; 0.5 -2.89 -8.98; … ; 0.5 2.89 8.98; 2.5 2.89 8.98], CuArray{Float32, 2, CUDA.Mem.DeviceBuffer})\n",
       " AggType(\"C\", InteractionPar(Cubic{Float64}(3.0, 2.0, 3.0), ContractilePar{Float64}(0.03, 0.7853981633974483, 0.08, 1.0)), 15.27f0, Float32[-1.5 -4.62 -13.88; 0.5 -4.62 -13.88; … ; 0.5 4.62 13.88; 2.5 4.62 13.88], CuArray{Float32, 2, CUDA.Mem.DeviceBuffer})\n",
       " AggType(\"D\", InteractionPar(Cubic{Float64}(4.0, 2.0, 3.0), ContractilePar{Float64}(0.04, 0.7853981633974483, 0.08, 1.0)), 10.43f0, Float32[-1.5 -2.89 -8.98; 0.5 -2.89 -8.98; … ; 0.5 2.89 8.98; 2.5 2.89 8.98], CuArray{Float32, 2, CUDA.Mem.DeviceBuffer})"
      ]
     },
     "metadata": {},
     "output_type": "display_data"
    },
    {
     "data": {
      "text/plain": [
       "1×6500 CuArray{Int64, 2, CUDA.Mem.DeviceBuffer}:\n",
       " 1  1  1  1  1  1  1  1  1  1  1  1  1  …  2  2  2  2  2  2  2  2  2  2  2  2"
      ]
     },
     "metadata": {},
     "output_type": "display_data"
    },
    {
     "data": {
      "text/plain": [
       "1×6500 CuArray{Int64, 2, CUDA.Mem.DeviceBuffer}:\n",
       " 1  1  1  1  1  1  1  1  1  1  1  1  1  …  4  4  4  4  4  4  4  4  4  4  4  4"
      ]
     },
     "metadata": {},
     "output_type": "display_data"
    },
    {
     "data": {
      "text/plain": [
       "1×6500 Matrix{String}:\n",
       " \"A\"  \"A\"  \"A\"  \"A\"  \"A\"  \"A\"  \"A\"  \"A\"  …  \"B\"  \"B\"  \"B\"  \"B\"  \"B\"  \"B\"  \"B\""
      ]
     },
     "metadata": {},
     "output_type": "display_data"
    },
    {
     "data": {
      "text/plain": [
       "6500×3 CuArray{Float32, 2, CUDA.Mem.DeviceBuffer}:\n",
       "  98.5   -4.62  -13.88\n",
       " 100.5   -4.62  -13.88\n",
       " 102.5   -4.62  -13.88\n",
       "  95.5   -2.89  -13.88\n",
       "  97.5   -2.89  -13.88\n",
       "  99.5   -2.89  -13.88\n",
       " 101.5   -2.89  -13.88\n",
       " 103.5   -2.89  -13.88\n",
       "  94.5   -1.15  -13.88\n",
       "  96.5   -1.15  -13.88\n",
       "   ⋮            \n",
       "   0.5   99.42    8.98\n",
       "   2.5   99.42    8.98\n",
       "  -2.5  101.15    8.98\n",
       "  -0.5  101.15    8.98\n",
       "   1.5  101.15    8.98\n",
       "   3.5  101.15    8.98\n",
       "  -1.5  102.89    8.98\n",
       "   0.5  102.89    8.98\n",
       "   2.5  102.89    8.98"
      ]
     },
     "metadata": {},
     "output_type": "display_data"
    },
    {
     "data": {
      "text/plain": [
       "1×6500 Matrix{Float32}:\n",
       " 15.27  15.27  15.27  15.27  15.27  …  10.43  10.43  10.43  10.43  10.43"
      ]
     },
     "metadata": {},
     "output_type": "display_data"
    },
    {
     "data": {
      "text/plain": [
       "1×6500 Matrix{Int64}:\n",
       " 1  1  1  1  1  1  1  1  1  1  1  1  1  …  1  1  1  1  1  1  1  1  1  1  1  1"
      ]
     },
     "metadata": {},
     "output_type": "display_data"
    },
    {
     "data": {
      "text/plain": [
       "Cubic{CuArray{Float32, 1, CUDA.Mem.DeviceBuffer}}(Float32[1.0, 1.0, 1.0, 1.0, 1.0, 1.0, 1.0, 1.0, 1.0, 1.0  …  2.0, 2.0, 2.0, 2.0, 2.0, 2.0, 2.0, 2.0, 2.0, 2.0], Float32[2.0, 2.0, 2.0, 2.0, 2.0, 2.0, 2.0, 2.0, 2.0, 2.0  …  2.0, 2.0, 2.0, 2.0, 2.0, 2.0, 2.0, 2.0, 2.0, 2.0], Float32[3.0, 3.0, 3.0, 3.0, 3.0, 3.0, 3.0, 3.0, 3.0, 3.0  …  3.0, 3.0, 3.0, 3.0, 3.0, 3.0, 3.0, 3.0, 3.0, 3.0])"
      ]
     },
     "metadata": {},
     "output_type": "display_data"
    },
    {
     "data": {
      "text/plain": [
       "ContractilePar{CuArray{Float32, 1, CUDA.Mem.DeviceBuffer}}(Float32[0.01, 0.01, 0.01, 0.01, 0.01, 0.01, 0.01, 0.01, 0.01, 0.01  …  0.02, 0.02, 0.02, 0.02, 0.02, 0.02, 0.02, 0.02, 0.02, 0.02], Float32[0.7853982, 0.7853982, 0.7853982, 0.7853982, 0.7853982, 0.7853982, 0.7853982, 0.7853982, 0.7853982, 0.7853982  …  0.7853982, 0.7853982, 0.7853982, 0.7853982, 0.7853982, 0.7853982, 0.7853982, 0.7853982, 0.7853982, 0.7853982], Float32[0.08, 0.08, 0.08, 0.08, 0.08, 0.08, 0.08, 0.08, 0.08, 0.08  …  0.08, 0.08, 0.08, 0.08, 0.08, 0.08, 0.08, 0.08, 0.08, 0.08], Float32[1.0, 1.0, 1.0, 1.0, 1.0, 1.0, 1.0, 1.0, 1.0, 1.0  …  1.0, 1.0, 1.0, 1.0, 1.0, 1.0, 1.0, 1.0, 1.0, 1.0])"
      ]
     },
     "metadata": {},
     "output_type": "display_data"
    },
    {
     "data": {
      "text/plain": [
       "4-element CuArray{Float32, 1, CUDA.Mem.DeviceBuffer}:\n",
       " 15.27\n",
       " 10.43\n",
       " 15.27\n",
       " 10.43"
      ]
     },
     "metadata": {},
     "output_type": "display_data"
    },
    {
     "name": "stdout",
     "output_type": "stream",
     "text": [
      "========================= Type =======================\n",
      "======================   Index =======================\n",
      "Index of List of Aggregates\n",
      "Index of Number of Aggregates\n",
      "Index of Name of Aggregates\n",
      "====================== Position =====================\n",
      "======================== Geometry ===================\n",
      "Radius_agg\n",
      "Outline\n",
      "Outer/Total = 1.0\n",
      "====================== Simulation ===================\n",
      "---------------------- Parameter --------------------\n",
      "Force\n",
      "Contractile\n",
      "Radius\n",
      "------------------ Neighbors Size -------------------\n",
      "idx_red  = (1000, 6500)\n",
      "idx_sum  = (1, 6500)\n",
      "idx_cont = (50, 6500)\n",
      "------------------- Forces Size ---------------------\n",
      "dX       = (6500, 3)\n",
      "F        = (6500, 3)\n"
     ]
    }
   ],
   "source": [
    "println(\"================================== Aggregate ====================================\")\n",
    "X = Float64.(readdlm(\"../../data/init/Sphere/15.0.xyz\")[3:end,2:end]) |> cu\n",
    "Y = Float64.(readdlm(\"../../data/init/Sphere/10.0.xyz\")[3:end,2:end]) |> cu\n",
    "\n",
    "@start_agg Complex = Aggregate(\n",
    "    [\n",
    "        AggType(\"A\", InteractionPar(Cubic(1.0,2.0,3.0), ContractilePar(0.01,pi/4,0.08,1.0)),X),\n",
    "        AggType(\"B\", InteractionPar(Cubic(2.0,2.0,3.0), ContractilePar(0.02,pi/4,0.08,1.0)),Y),\n",
    "        AggType(\"C\", InteractionPar(Cubic(3.0,2.0,3.0), ContractilePar(0.03,pi/4,0.08,1.0)),X),\n",
    "        AggType(\"D\", InteractionPar(Cubic(4.0,2.0,3.0), ContractilePar(0.04,pi/4,0.08,1.0)),Y),\n",
    "    ],\n",
    "    [\n",
    "        AggLocation(\"A\",[100 0   0  ]),\n",
    "        AggLocation(\"C\",[0   100 0  ]),\n",
    "        AggLocation(\"D\",[0   100 100]),\n",
    "        AggLocation(\"B\",[0   100 0  ])\n",
    "    ],\n",
    "    Model\n",
    ")\n",
    "show_aggregates(Complex)\n",
    "clean_agg(Complex)"
   ]
  }
 ],
 "metadata": {
  "kernelspec": {
   "display_name": "Julia 1.9.2",
   "language": "julia",
   "name": "julia-1.9"
  },
  "language_info": {
   "file_extension": ".jl",
   "mimetype": "application/julia",
   "name": "julia",
   "version": "1.9.2"
  },
  "orig_nbformat": 4
 },
 "nbformat": 4,
 "nbformat_minor": 2
}
