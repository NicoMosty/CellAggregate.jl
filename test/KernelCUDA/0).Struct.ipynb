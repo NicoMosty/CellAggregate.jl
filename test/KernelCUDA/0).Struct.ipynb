{
 "cells": [
  {
   "cell_type": "code",
   "execution_count": 46,
   "metadata": {},
   "outputs": [
    {
     "data": {
      "text/plain": [
       "FusionAggregate (generic function with 1 method)"
      ]
     },
     "execution_count": 46,
     "metadata": {},
     "output_type": "execute_result"
    }
   ],
   "source": [
    "include(\"../../src/struct_data.jl\")"
   ]
  },
  {
   "cell_type": "code",
   "execution_count": 2,
   "metadata": {},
   "outputs": [
    {
     "name": "stdout",
     "output_type": "stream",
     "text": [
      "ModelSet\n",
      "  Time: TimeModel\n",
      "    tₛᵢₘ: Float64 10000.0\n",
      "    dt: Float64 0.5\n",
      "    nₖₙₙ: Int64 50\n",
      "    nₛₐᵥₑ: Int64 100\n",
      "  Input: InputModel\n",
      "    outer_ratio: Float64 0.8\n",
      "    path_input: String \"../../data/init/Sphere\"\n"
     ]
    }
   ],
   "source": [
    "Model = ModelSet(\n",
    "    TimeModel(\n",
    "        tₛᵢₘ  = 10000.0,\n",
    "        dt    = 0.5,\n",
    "        nₖₙₙ  = 50,\n",
    "        nₛₐᵥₑ = 100\n",
    "    ),\n",
    "    InputModel(\n",
    "        outer_ratio = 0.8,\n",
    "        path_input = \"../../data/init/Sphere\"\n",
    "    )\n",
    ")\n",
    "dump(Model)"
   ]
  },
  {
   "cell_type": "code",
   "execution_count": 47,
   "metadata": {},
   "outputs": [
    {
     "name": "stdout",
     "output_type": "stream",
     "text": [
      "========================= Type =======================\n"
     ]
    },
    {
     "data": {
      "text/plain": [
       "4-element Vector{AggType}:\n",
       " AggType(\"A\", InteractionPar(Cubic{Float64}(1.0, 2.0, 3.0), ContractilePar(0.01)), 15.27f0, Float32[-1.5 -4.62 -13.88; 0.5 -4.62 -13.88; … ; 0.5 4.62 13.88; 2.5 4.62 13.88], CuArray{Float32, 2, CUDA.Mem.DeviceBuffer})\n",
       " AggType(\"B\", InteractionPar(Cubic{Float64}(2.0, 2.0, 3.0), ContractilePar(0.02)), 10.43f0, Float32[-1.5 -2.89 -8.98; 0.5 -2.89 -8.98; … ; 0.5 2.89 8.98; 2.5 2.89 8.98], CuArray{Float32, 2, CUDA.Mem.DeviceBuffer})\n",
       " AggType(\"C\", InteractionPar(Cubic{Float64}(3.0, 2.0, 3.0), ContractilePar(0.03)), 15.27f0, Float32[-1.5 -4.62 -13.88; 0.5 -4.62 -13.88; … ; 0.5 4.62 13.88; 2.5 4.62 13.88], CuArray{Float32, 2, CUDA.Mem.DeviceBuffer})\n",
       " AggType(\"D\", InteractionPar(Cubic{Float64}(4.0, 2.0, 3.0), ContractilePar(0.04)), 10.43f0, Float32[-1.5 -2.89 -8.98; 0.5 -2.89 -8.98; … ; 0.5 2.89 8.98; 2.5 2.89 8.98], CuArray{Float32, 2, CUDA.Mem.DeviceBuffer})"
      ]
     },
     "metadata": {},
     "output_type": "display_data"
    },
    {
     "name": "stdout",
     "output_type": "stream",
     "text": [
      "======================   Index =======================\n",
      "Index of List of Aggregates\n"
     ]
    },
    {
     "data": {
      "text/plain": [
       "1×6500 CuArray{Int64, 2, CUDA.Mem.DeviceBuffer}:\n",
       " 1  1  1  1  1  1  1  1  1  1  1  1  1  …  2  2  2  2  2  2  2  2  2  2  2  2"
      ]
     },
     "metadata": {},
     "output_type": "display_data"
    },
    {
     "name": "stdout",
     "output_type": "stream",
     "text": [
      "Index of Number of Aggregates\n"
     ]
    },
    {
     "data": {
      "text/plain": [
       "1×6500 CuArray{Int64, 2, CUDA.Mem.DeviceBuffer}:\n",
       " 1  1  1  1  1  1  1  1  1  1  1  1  1  …  4  4  4  4  4  4  4  4  4  4  4  4"
      ]
     },
     "metadata": {},
     "output_type": "display_data"
    },
    {
     "name": "stdout",
     "output_type": "stream",
     "text": [
      "Index of Name of Aggregates\n"
     ]
    },
    {
     "data": {
      "text/plain": [
       "1×6500 Matrix{String}:\n",
       " \"A\"  \"A\"  \"A\"  \"A\"  \"A\"  \"A\"  \"A\"  \"A\"  …  \"B\"  \"B\"  \"B\"  \"B\"  \"B\"  \"B\"  \"B\""
      ]
     },
     "metadata": {},
     "output_type": "display_data"
    },
    {
     "name": "stdout",
     "output_type": "stream",
     "text": [
      "====================== Position =====================\n"
     ]
    },
    {
     "data": {
      "text/plain": [
       "6500×3 CuArray{Float32, 2, CUDA.Mem.DeviceBuffer}:\n",
       "  98.5   -4.62  -13.88\n",
       " 100.5   -4.62  -13.88\n",
       " 102.5   -4.62  -13.88\n",
       "  95.5   -2.89  -13.88\n",
       "  97.5   -2.89  -13.88\n",
       "  99.5   -2.89  -13.88\n",
       " 101.5   -2.89  -13.88\n",
       " 103.5   -2.89  -13.88\n",
       "  94.5   -1.15  -13.88\n",
       "  96.5   -1.15  -13.88\n",
       "  98.5   -1.15  -13.88\n",
       " 100.5   -1.15  -13.88\n",
       " 102.5   -1.15  -13.88\n",
       "   ⋮            \n",
       "   3.5   97.69    8.98\n",
       "  -3.5   99.42    8.98\n",
       "  -1.5   99.42    8.98\n",
       "   0.5   99.42    8.98\n",
       "   2.5   99.42    8.98\n",
       "  -2.5  101.15    8.98\n",
       "  -0.5  101.15    8.98\n",
       "   1.5  101.15    8.98\n",
       "   3.5  101.15    8.98\n",
       "  -1.5  102.89    8.98\n",
       "   0.5  102.89    8.98\n",
       "   2.5  102.89    8.98"
      ]
     },
     "metadata": {},
     "output_type": "display_data"
    },
    {
     "name": "stdout",
     "output_type": "stream",
     "text": [
      "======================== Geometry ===================\n",
      "Radius_agg\n"
     ]
    },
    {
     "data": {
      "text/plain": [
       "1×6500 Matrix{Float32}:\n",
       " 15.27  15.27  15.27  15.27  15.27  …  10.43  10.43  10.43  10.43  10.43"
      ]
     },
     "metadata": {},
     "output_type": "display_data"
    },
    {
     "name": "stdout",
     "output_type": "stream",
     "text": [
      "Outline\n"
     ]
    },
    {
     "data": {
      "text/plain": [
       "1×6500 Matrix{Int64}:\n",
       " 1  1  1  1  1  1  1  1  1  1  1  1  1  …  1  1  1  1  1  1  1  1  1  1  1  1"
      ]
     },
     "metadata": {},
     "output_type": "display_data"
    },
    {
     "name": "stdout",
     "output_type": "stream",
     "text": [
      "Outer/Total = 0.4523076923076923\n",
      "====================== Simulation ===================\n",
      "---------------------- Parameter --------------------\n",
      "Force\n"
     ]
    },
    {
     "data": {
      "text/plain": [
       "Cubic{CuArray{Float32, 1, CUDA.Mem.DeviceBuffer}}(Float32[1.0, 1.0, 1.0, 1.0, 1.0, 1.0, 1.0, 1.0, 1.0, 1.0  …  2.0, 2.0, 2.0, 2.0, 2.0, 2.0, 2.0, 2.0, 2.0, 2.0], Float32[2.0, 2.0, 2.0, 2.0, 2.0, 2.0, 2.0, 2.0, 2.0, 2.0  …  2.0, 2.0, 2.0, 2.0, 2.0, 2.0, 2.0, 2.0, 2.0, 2.0], Float32[3.0, 3.0, 3.0, 3.0, 3.0, 3.0, 3.0, 3.0, 3.0, 3.0  …  3.0, 3.0, 3.0, 3.0, 3.0, 3.0, 3.0, 3.0, 3.0, 3.0])"
      ]
     },
     "metadata": {},
     "output_type": "display_data"
    },
    {
     "name": "stdout",
     "output_type": "stream",
     "text": [
      "Contractile\n"
     ]
    },
    {
     "data": {
      "text/plain": [
       "ContractilePar(Float32[0.01, 0.01, 0.01, 0.01, 0.01, 0.01, 0.01, 0.01, 0.01, 0.01  …  0.02, 0.02, 0.02, 0.02, 0.02, 0.02, 0.02, 0.02, 0.02, 0.02])"
      ]
     },
     "metadata": {},
     "output_type": "display_data"
    },
    {
     "name": "stdout",
     "output_type": "stream",
     "text": [
      "Radius\n"
     ]
    },
    {
     "data": {
      "text/plain": [
       "4-element CuArray{Float32, 1, CUDA.Mem.DeviceBuffer}:\n",
       " 15.27\n",
       " 10.43\n",
       " 15.27\n",
       " 10.43"
      ]
     },
     "metadata": {},
     "output_type": "display_data"
    },
    {
     "name": "stdout",
     "output_type": "stream",
     "text": [
      "------------------ Neighbors Size -------------------\n",
      "idx      = (6500, 6500)\n",
      "idx_red  = (21, 6500)\n",
      "idx_sum  = (1, 6500)\n",
      "idx_cont = (50, 6500)\n",
      "------------------- Forces Size ---------------------\n",
      "dX       = (6500, 3)\n",
      "F        = (6500, 3)\n"
     ]
    }
   ],
   "source": [
    "X = Float64.(readdlm(\"../../data/init/Sphere/15.0.xyz\")[3:end,2:end]) |> cu\n",
    "Y = Float64.(readdlm(\"../../data/init/Sphere/10.0.xyz\")[3:end,2:end]) |> cu\n",
    "\n",
    "Complex = Nothing\n",
    "Complex = Aggregate(\n",
    "    [\n",
    "        AggType(\"A\", InteractionPar(Cubic(1.0,2.0,3.0), ContractilePar(0.01)),X),\n",
    "        AggType(\"B\", InteractionPar(Cubic(2.0,2.0,3.0), ContractilePar(0.02)),Y),\n",
    "        AggType(\"C\", InteractionPar(Cubic(3.0,2.0,3.0), ContractilePar(0.03)),X),\n",
    "        AggType(\"D\", InteractionPar(Cubic(4.0,2.0,3.0), ContractilePar(0.04)),Y),\n",
    "    ],\n",
    "    [\n",
    "        AggLocation(\"A\",[100 0   0  ]),\n",
    "        AggLocation(\"C\",[0   100 0  ]),\n",
    "        AggLocation(\"D\",[0   100 100]),\n",
    "        AggLocation(\"B\",[0   100 0  ])\n",
    "    ],\n",
    "    Model\n",
    ")\n",
    "show_aggregates(Complex)"
   ]
  },
  {
   "cell_type": "code",
   "execution_count": 50,
   "metadata": {},
   "outputs": [
    {
     "data": {
      "text/plain": [
       "6500-element CuArray{Float32, 1, CUDA.Mem.DeviceBuffer}:\n",
       " 1.0\n",
       " 1.0\n",
       " 1.0\n",
       " 1.0\n",
       " 1.0\n",
       " 1.0\n",
       " 1.0\n",
       " 1.0\n",
       " 1.0\n",
       " 1.0\n",
       " 1.0\n",
       " 1.0\n",
       " 1.0\n",
       " ⋮\n",
       " 2.0\n",
       " 2.0\n",
       " 2.0\n",
       " 2.0\n",
       " 2.0\n",
       " 2.0\n",
       " 2.0\n",
       " 2.0\n",
       " 2.0\n",
       " 2.0\n",
       " 2.0\n",
       " 2.0"
      ]
     },
     "execution_count": 50,
     "metadata": {},
     "output_type": "execute_result"
    }
   ],
   "source": [
    "Complex.Simulation.Parameter.Force.μ₁"
   ]
  }
 ],
 "metadata": {
  "kernelspec": {
   "display_name": "Julia 1.6.7",
   "language": "julia",
   "name": "julia-1.6"
  },
  "language_info": {
   "file_extension": ".jl",
   "mimetype": "application/julia",
   "name": "julia",
   "version": "1.6.7"
  },
  "orig_nbformat": 4
 },
 "nbformat": 4,
 "nbformat_minor": 2
}
