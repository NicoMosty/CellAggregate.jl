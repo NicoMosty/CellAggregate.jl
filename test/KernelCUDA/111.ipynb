{
 "cells": [
  {
   "cell_type": "code",
   "execution_count": null,
   "metadata": {},
   "outputs": [],
   "source": [
    "include(\"../../src/struct_data.jl\")\n",
    "include(\"../../src/neighbor.jl\")\n",
    "include(\"../../src/forces/forces.jl\")"
   ]
  },
  {
   "cell_type": "code",
   "execution_count": null,
   "metadata": {},
   "outputs": [],
   "source": [
    "@time Model = ModelSet(\n",
    "    TimeModel(\n",
    "        tₛᵢₘ  = 100000.0,\n",
    "        dt    = 0.5,\n",
    "        nₖₙₙ  = 50000,\n",
    "        nₛₐᵥₑ = 1\n",
    "    ),\n",
    "    InputModel(\n",
    "        outer_ratio = 0.8,\n",
    "        path_input  = \"../../data/init/Sphere\"\n",
    "    ),\n",
    "    OutputModel(\n",
    "        name_output = \"Test_1\",\n",
    "        path_output = \"\"\n",
    "    )\n",
    ")"
   ]
  },
  {
   "cell_type": "code",
   "execution_count": null,
   "metadata": {},
   "outputs": [],
   "source": [
    "Par1, Par2 = (0.5,2.0,3.3), 0.05\n",
    "\n",
    "FusionAGG = nothing\n",
    "# @time @start_agg FusionAGG = FusionAggregate(\n",
    "@time FusionAGG = FusionAggregate(\n",
    "    [\n",
    "        AggType(\n",
    "            \"HEK_1\", \n",
    "            InteractionPar(\n",
    "                Cubic(Par1...), \n",
    "                ContractilePar(Par2)\n",
    "            ),\n",
    "            Float64.(readdlm(\"../../data/init/Sphere/9.0.xyz\")[3:end,2:end]) |> cu\n",
    "        )\n",
    "    ], \n",
    "    Model\n",
    ")"
   ]
  },
  {
   "cell_type": "code",
   "execution_count": null,
   "metadata": {},
   "outputs": [],
   "source": [
    "points = FusionAGG.Position\n",
    "idx    = FusionAGG.Simulation.Neighbor.idx\n",
    "r_max  = FusionAGG.Simulation.Parameter.Force.rₘₐₓ\n",
    "\n",
    "# Calculating Distance Matrix\n",
    "threads=(8,8)\n",
    "@cuda(\n",
    "    threads=threads,\n",
    "    blocks=cld.(size(points,1),threads),\n",
    "    dist_kernel!(idx, points,r_max)\n",
    ")\n",
    "\n",
    "display(idx)"
   ]
  },
  {
   "cell_type": "code",
   "execution_count": null,
   "metadata": {},
   "outputs": [],
   "source": [
    "idx_red = FusionAGG.Simulation.Neighbor.idx_red\n",
    "idx_sum = FusionAGG.Simulation.Neighbor.idx_sum\n",
    "\n",
    "# Reducing Distance Matrix to Nearest Neighbors\n",
    "threads = 64\n",
    "@cuda(\n",
    "    threads=threads,\n",
    "    blocks=cld.(size(points,1),threads),\n",
    "    reduce_kernel!(idx,idx_red,idx_sum)\n",
    ")\n",
    "\n",
    "display(idx_red)\n",
    "display(idx_sum)"
   ]
  },
  {
   "cell_type": "code",
   "execution_count": null,
   "metadata": {},
   "outputs": [],
   "source": [
    "display(points)"
   ]
  },
  {
   "cell_type": "code",
   "execution_count": null,
   "metadata": {},
   "outputs": [],
   "source": [
    "force = FusionAGG.Simulation.Force.F\n",
    "ParForce = FusionAGG.Simulation.Parameter.Force\n",
    "ParCont = FusionAGG.Simulation.Parameter.Contractile.fₚ\n",
    "outline = FusionAGG.Geometry.outline\n",
    "\n",
    "tₛᵢₘ  = Model.Time.tₛᵢₘ\n",
    "nₛₐᵥₑ = Model.Time.nₛₐᵥₑ\n",
    "nₖₙₙ  = Model.Time.nₖₙₙ\n",
    "dt = Model.Time.dt\n",
    "\n",
    "threads=(16,3)\n",
    "@cuda(\n",
    "    threads=threads,\n",
    "    blocks=(cld.(size(points,1)+1,threads[1]),1),\n",
    "    sum_force!(idx_red, points, force, ParForce, dt)\n",
    ")\n",
    "display(points)\n",
    "display(force)"
   ]
  },
  {
   "attachments": {},
   "cell_type": "markdown",
   "metadata": {},
   "source": [
    "# Later"
   ]
  },
  {
   "cell_type": "code",
   "execution_count": null,
   "metadata": {},
   "outputs": [],
   "source": [
    "# force = FusionAGG.Simulation.Force.F\n",
    "# ParForce = FusionAGG.Simulation.Parameter.Force\n",
    "# ParCont = FusionAGG.Simulation.Parameter.Contractile.fₚ\n",
    "# outline = FusionAGG.Geometry.outline\n",
    "\n",
    "# tₛᵢₘ  = 100.0\n",
    "# nₛₐᵥₑ = Model.Time.nₛₐᵥₑ\n",
    "# nₖₙₙ  = Model.Time.nₖₙₙ\n",
    "# dt = Model.Time.dt\n",
    "\n",
    "# # Calculating position of every cell on the fusion\n",
    "# run(`rm Test.xyz `)\n",
    "# using ProgressMeter\n",
    "# @showprogress \"Forces...\" for step::Int=0:tₛᵢₘ/dt\n",
    "\n",
    "#     # Saving data in a given time (nₛₐᵥₑ)\n",
    "#     # if (step % Int(tₛᵢₘ/nₛₐᵥₑ)) == 1\n",
    "#         open(\"Test.xyz\", \"a\") do f\n",
    "#             write(f, \"$(size(points, 1))\\n\")\n",
    "#             write(f, \"t=$(step*dt)\\n\")\n",
    "#             writedlm(f,hcat(outline,Matrix(points)), ' ')\n",
    "#         end\n",
    "#     # end\n",
    "\n",
    "#     # # Calculating the kNN for the aggregate\n",
    "#     # t_nₖₙₙ = step % nₖₙₙ+1\n",
    "#     # if t_nₖₙₙ == 1\n",
    "        \n",
    "#         # # Calculating Distance Matrix\n",
    "#         # threads=(8,8)\n",
    "#         # @cuda(\n",
    "#         #     threads=threads,\n",
    "#         #     blocks=cld.(size(points,1),threads),\n",
    "#         #     dist_kernel!(idx, points,r_max)\n",
    "#         # )\n",
    "\n",
    "#         # # Reducing Distance Matrix to Nearest Neighbors\n",
    "#         # threads = 64\n",
    "#         # @cuda(\n",
    "#         #     threads=threads,\n",
    "#         #     blocks=cld.(size(points,1),threads),\n",
    "#         #     reduce_kernel!(idx,idx_red,idx_sum)\n",
    "#         # )\n",
    "\n",
    "#     # #     # Finding index contractile\n",
    "#     # #     # Finding index contractile\n",
    "#     # #     threads = (8,8)\n",
    "#     # #     blocks  =cld.(size(points,1),threads)\n",
    "#     # #     @cuda threads=threads blocks=blocks index_contractile!(idx_contractile,idx_sum,idx_red)\n",
    "    \n",
    "#     # end\n",
    "\n",
    "#     # Compute the forces between each pair of particles in `agg` and their displacement.\n",
    "#     threads=(16,3)\n",
    "#     @cuda(\n",
    "#         threads=threads,\n",
    "#         blocks=(cld.(size(points,1)+1,threads[1]),1),\n",
    "#         sum_force!(idx_red, points, force, ParForce, dt)\n",
    "#     )\n",
    "# end\n",
    "# display(points)"
   ]
  },
  {
   "cell_type": "code",
   "execution_count": null,
   "metadata": {},
   "outputs": [],
   "source": [
    "# idx_contractile = FusionAGG.Simulation.Neighbor.idx_cont\n",
    "\n",
    "# # Finding index contractile\n",
    "# threads = (8,8)\n",
    "# @cuda(\n",
    "#     threads=threads,\n",
    "#     blocks=cld.(size(points,1),threads),\n",
    "#     index_contractile!(idx_contractile,idx_sum,idx_red)\n",
    "# )\n",
    "\n",
    "# display(idx_contractile)"
   ]
  }
 ],
 "metadata": {
  "kernelspec": {
   "display_name": "Julia 1.6.7",
   "language": "julia",
   "name": "julia-1.6"
  },
  "language_info": {
   "file_extension": ".jl",
   "mimetype": "application/julia",
   "name": "julia",
   "version": "1.6.7"
  },
  "orig_nbformat": 4
 },
 "nbformat": 4,
 "nbformat_minor": 2
}
