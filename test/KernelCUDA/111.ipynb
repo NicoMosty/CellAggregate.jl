{
 "cells": [
  {
   "cell_type": "code",
   "execution_count": 1,
   "metadata": {},
   "outputs": [
    {
     "data": {
      "text/plain": [
       "cu_force"
      ]
     },
     "execution_count": 1,
     "metadata": {},
     "output_type": "execute_result"
    }
   ],
   "source": [
    "include(\"../../src/struct_data.jl\")\n",
    "include(\"../../src/neighbor.jl\")\n",
    "include(\"../../src/forces/forces.jl\")"
   ]
  },
  {
   "cell_type": "code",
   "execution_count": 2,
   "metadata": {},
   "outputs": [
    {
     "name": "stdout",
     "output_type": "stream",
     "text": [
      "  0.000000 seconds (4 allocations: 144 bytes)\n"
     ]
    },
    {
     "data": {
      "text/plain": [
       "ModelSet(TimeModel(100000.0, 0.5, 50000, 1), InputModel(0.8, \"../../data/init/Sphere\"), OutputModel(\"Test_1\", \"\"))"
      ]
     },
     "execution_count": 2,
     "metadata": {},
     "output_type": "execute_result"
    }
   ],
   "source": [
    "@time Model = ModelSet(\n",
    "    TimeModel(\n",
    "        tₛᵢₘ  = 100000.0,\n",
    "        dt    = 0.5,\n",
    "        nₖₙₙ  = 50000,\n",
    "        nₛₐᵥₑ = 1\n",
    "    ),\n",
    "    InputModel(\n",
    "        outer_ratio = 0.8,\n",
    "        path_input  = \"../../data/init/Sphere\"\n",
    "    ),\n",
    "    OutputModel(\n",
    "        name_output = \"Test_1\",\n",
    "        path_output = \"\"\n",
    "    )\n",
    ")"
   ]
  },
  {
   "cell_type": "code",
   "execution_count": 3,
   "metadata": {},
   "outputs": [
    {
     "name": "stdout",
     "output_type": "stream",
     "text": [
      "  4.368155 seconds (13.28 M allocations: 1.381 GiB, 4.11% gc time, 4.44% compilation time)\n"
     ]
    },
    {
     "data": {
      "text/plain": [
       "Aggregate(AggType[AggType(\"HEK_1\", InteractionPar(Cubic{Float64}(0.5, 2.0, 3.3), ContractilePar(0.05)), 8.976667f0, Float32[-1.5 -4.62 -7.35; 0.5 -4.62 -7.35; … ; -1.5 4.62 7.35; 0.5 4.62 7.35], CuArray{Float32, 2, CUDA.Mem.DeviceBuffer})], AggIndex([1, 1, 1, 1, 1, 1, 1, 1, 1, 1  …  1, 1, 1, 1, 1, 1, 1, 1, 1, 1], [1, 1, 1, 1, 1, 1, 1, 1, 1, 1  …  2, 2, 2, 2, 2, 2, 2, 2, 2, 2], [\"HEK_1\", \"HEK_1\", \"HEK_1\", \"HEK_1\", \"HEK_1\", \"HEK_1\", \"HEK_1\", \"HEK_1\", \"HEK_1\", \"HEK_1\"  …  \"HEK_1\", \"HEK_1\", \"HEK_1\", \"HEK_1\", \"HEK_1\", \"HEK_1\", \"HEK_1\", \"HEK_1\", \"HEK_1\", \"HEK_1\"]), Float32[-10.476667 -4.62 -7.35; -8.476667 -4.62 -7.35; … ; 7.4766674 4.62 7.35; 9.476667 4.62 7.35], AggGeometry(Float32[8.976667, 8.976667, 8.976667, 8.976667, 8.976667, 8.976667, 8.976667, 8.976667, 8.976667, 8.976667  …  8.976667, 8.976667, 8.976667, 8.976667, 8.976667, 8.976667, 8.976667, 8.976667, 8.976667, 8.976667], [1, 1, 1, 1, 1, 1, 1, 1, 1, 1  …  1, 1, 1, 1, 1, 1, 1, 1, 1, 1]), AggSimulation(AggParameter(Cubic{CuArray{Float32, 1, CUDA.Mem.DeviceBuffer}}(Float32[0.5, 0.5, 0.5, 0.5, 0.5, 0.5, 0.5, 0.5, 0.5, 0.5  …  0.5, 0.5, 0.5, 0.5, 0.5, 0.5, 0.5, 0.5, 0.5, 0.5], Float32[2.0, 2.0, 2.0, 2.0, 2.0, 2.0, 2.0, 2.0, 2.0, 2.0  …  2.0, 2.0, 2.0, 2.0, 2.0, 2.0, 2.0, 2.0, 2.0, 2.0], Float32[3.3, 3.3, 3.3, 3.3, 3.3, 3.3, 3.3, 3.3, 3.3, 3.3  …  3.3, 3.3, 3.3, 3.3, 3.3, 3.3, 3.3, 3.3, 3.3, 3.3]), ContractilePar(Float32[0.05, 0.05, 0.05, 0.05, 0.05, 0.05, 0.05, 0.05, 0.05, 0.05  …  0.05, 0.05, 0.05, 0.05, 0.05, 0.05, 0.05, 0.05, 0.05, 0.05]), Float32[8.976667]), AggNeighbor(Int32[0 0 … 0 0; 0 0 … 0 0; … ; 0 0 … 0 0; 0 0 … 0 0], Int32[0 0 … 0 0; 0 0 … 0 0; … ; 0 0 … 0 0; 0 0 … 0 0], Int32[0 0 … 0 0], Int32[0 0 … 0 0; 0 0 … 0 0; … ; 0 0 … 0 0; 0 0 … 0 0]), AggForce(Float32[0.0 0.0 0.0; 0.0 0.0 0.0; … ; 0.0 0.0 0.0; 0.0 0.0 0.0], Float32[0.0 0.0 0.0; 0.0 0.0 0.0; … ; 0.0 0.0 0.0; 0.0 0.0 0.0])))"
      ]
     },
     "execution_count": 3,
     "metadata": {},
     "output_type": "execute_result"
    }
   ],
   "source": [
    "Par1, Par2 = (0.5,2.0,3.3), 0.05\n",
    "\n",
    "FusionAGG = nothing\n",
    "# @time @start_agg FusionAGG = FusionAggregate(\n",
    "@time FusionAGG = FusionAggregate(\n",
    "    [\n",
    "        AggType(\n",
    "            \"HEK_1\", \n",
    "            InteractionPar(\n",
    "                Cubic(Par1...), \n",
    "                ContractilePar(Par2)\n",
    "            ),\n",
    "            Float64.(readdlm(\"../../data/init/Sphere/9.0.xyz\")[3:end,2:end]) |> cu\n",
    "        )\n",
    "    ], \n",
    "    Model\n",
    ")"
   ]
  },
  {
   "cell_type": "code",
   "execution_count": 4,
   "metadata": {},
   "outputs": [
    {
     "data": {
      "text/plain": [
       "1076×1076 CuArray{Int32, 2, CUDA.Mem.DeviceBuffer}:\n",
       " 1  1  1  1   0   0   0   0   0   0  …     0     0     0     0     0     0\n",
       " 2  2  0  2   2   0   0   0   0   0        0     0     0     0     0     0\n",
       " 3  0  3  3   0   0   3   3   0   0        0     0     0     0     0     0\n",
       " 4  4  4  4   4   0   0   4   4   0        0     0     0     0     0     0\n",
       " 0  5  0  5   5   5   0   0   5   5        0     0     0     0     0     0\n",
       " 0  0  0  0   6   6   0   0   0   6  …     0     0     0     0     0     0\n",
       " 0  0  7  0   0   0   7   7   0   0        0     0     0     0     0     0\n",
       " 0  0  8  8   0   0   8   8   8   0        0     0     0     0     0     0\n",
       " 0  0  0  9   9   0   0   9   9   9        0     0     0     0     0     0\n",
       " 0  0  0  0  10  10   0   0  10  10        0     0     0     0     0     0\n",
       " 0  0  0  0   0  11   0   0   0  11  …     0     0     0     0     0     0\n",
       " 0  0  0  0   0   0  12   0   0   0        0     0     0     0     0     0\n",
       " 0  0  0  0   0   0  13  13   0   0        0     0     0     0     0     0\n",
       " ⋮                ⋮                  ⋱     ⋮                             ⋮\n",
       " 0  0  0  0   0   0   0   0   0   0        0     0     0     0     0     0\n",
       " 0  0  0  0   0   0   0   0   0   0  …  1066     0     0     0     0     0\n",
       " 0  0  0  0   0   0   0   0   0   0     1067  1067     0     0     0     0\n",
       " 0  0  0  0   0   0   0   0   0   0        0  1068  1068     0     0     0\n",
       " 0  0  0  0   0   0   0   0   0   0        0     0  1069  1069     0     0\n",
       " 0  0  0  0   0   0   0   0   0   0        0     0     0  1070     0     0\n",
       " 0  0  0  0   0   0   0   0   0   0  …  1071  1071     0     0  1071     0\n",
       " 0  0  0  0   0   0   0   0   0   0     1072  1072  1072     0  1072  1072\n",
       " 0  0  0  0   0   0   0   0   0   0        0  1073  1073  1073     0  1073\n",
       " 0  0  0  0   0   0   0   0   0   0        0     0  1074  1074     0     0\n",
       " 0  0  0  0   0   0   0   0   0   0     1075  1075     0     0  1075  1075\n",
       " 0  0  0  0   0   0   0   0   0   0  …     0  1076  1076     0  1076  1076"
      ]
     },
     "metadata": {},
     "output_type": "display_data"
    }
   ],
   "source": [
    "points = FusionAGG.Position\n",
    "idx    = FusionAGG.Simulation.Neighbor.idx\n",
    "r_max  = FusionAGG.Simulation.Parameter.Force.rₘₐₓ\n",
    "\n",
    "# Calculating Distance Matrix\n",
    "threads=(8,8)\n",
    "@cuda(\n",
    "    threads=threads,\n",
    "    blocks=cld.(size(points,1),threads),\n",
    "    dist_kernel!(idx, points,r_max)\n",
    ")\n",
    "\n",
    "display(idx)"
   ]
  },
  {
   "cell_type": "code",
   "execution_count": 5,
   "metadata": {},
   "outputs": [
    {
     "data": {
      "text/plain": [
       "21×1076 CuArray{Int32, 2, CUDA.Mem.DeviceBuffer}:\n",
       "  1   1   1   1   2   5   3   3   4  …   991   992   993   994   998   999\n",
       "  2   2   3   2   4   6   7   4   5     1031  1032  1033  1034  1038  1039\n",
       "  3   4   4   3   5  10   8   7   8     1037  1038  1039  1040  1044  1045\n",
       "  4   5   7   4   6  11  12   8   9     1038  1039  1040  1041  1045  1046\n",
       " 25  26   8   5   9  32  13   9  10     1043  1044  1045  1046  1049  1050\n",
       " 26  27  29   8  10  33  35  13  14  …  1044  1045  1046  1047  1050  1051\n",
       " 27  28  30   9  31  34  36  14  15     1045  1046  1047  1048  1051  1052\n",
       " 30  31  31  30  32  39  37  36  37     1066  1067  1068  1069  1071  1072\n",
       " 31  32  36  31  33  40  43  37  38     1067  1068  1069  1070  1072  1073\n",
       " 37  38  37  32  38  47  44  38  39     1071  1071  1072  1073  1075  1075\n",
       " 77  78  44  37  39  87  50  44  45  …  1072  1072  1073  1074  1076  1076\n",
       "  0   0  84  38  46   0  91  45  46     1075  1073  1074     0     0     0\n",
       "  0   0   0  45  86   0   0  51  52        0  1075  1076     0     0     0\n",
       "  0   0   0  85   0   0   0  92  93        0  1076     0     0     0     0\n",
       "  0   0   0   0   0   0   0   0   0        0     0     0     0     0     0\n",
       "  0   0   0   0   0   0   0   0   0  …     0     0     0     0     0     0\n",
       "  0   0   0   0   0   0   0   0   0        0     0     0     0     0     0\n",
       "  0   0   0   0   0   0   0   0   0        0     0     0     0     0     0\n",
       "  0   0   0   0   0   0   0   0   0        0     0     0     0     0     0\n",
       "  0   0   0   0   0   0   0   0   0        0     0     0     0     0     0\n",
       "  0   0   0   0   0   0   0   0   0  …     0     0     0     0     0     0"
      ]
     },
     "metadata": {},
     "output_type": "display_data"
    },
    {
     "data": {
      "text/plain": [
       "1×1076 CuArray{Int32, 2, CUDA.Mem.DeviceBuffer}:\n",
       " 11  11  12  14  13  11  12  14  14  …  14  14  11  12  14  13  11  11  11"
      ]
     },
     "metadata": {},
     "output_type": "display_data"
    }
   ],
   "source": [
    "idx_red = FusionAGG.Simulation.Neighbor.idx_red\n",
    "idx_sum = FusionAGG.Simulation.Neighbor.idx_sum\n",
    "\n",
    "# Reducing Distance Matrix to Nearest Neighbors\n",
    "threads = 64\n",
    "@cuda(\n",
    "    threads=threads,\n",
    "    blocks=cld.(size(points,1),threads),\n",
    "    reduce_kernel!(idx,idx_red,idx_sum)\n",
    ")\n",
    "\n",
    "display(idx_red)\n",
    "display(idx_sum)"
   ]
  },
  {
   "cell_type": "code",
   "execution_count": 6,
   "metadata": {},
   "outputs": [
    {
     "name": "stdout",
     "output_type": "stream",
     "text": [
      "false\n"
     ]
    },
    {
     "data": {
      "text/plain": [
       "1076×3 CuArray{Float32, 2, CUDA.Mem.DeviceBuffer}:\n",
       " -10.5173   -4.32582   -7.01111\n",
       "  -8.49381  -4.4636    -6.98038\n",
       " -11.534    -2.79309   -7.17613\n",
       "  -9.49771  -2.7593    -7.10447\n",
       "  -7.50113  -2.70434   -7.05847\n",
       "  -5.50596  -2.74958   -7.01596\n",
       " -12.5271   -1.01105   -7.00969\n",
       " -10.5199   -1.08563   -7.08825\n",
       "  -8.47777  -1.10253   -7.11651\n",
       "  -6.42778  -1.072     -7.04929\n",
       "  -4.40262  -1.03715   -6.98367\n",
       " -13.4527    0.81058   -6.8634\n",
       " -11.4794    0.760521  -6.87804\n",
       "   ⋮                   \n",
       "  12.6311   -0.332354   6.67515\n",
       "   5.47054   1.09335    6.9151\n",
       "   7.51468   1.12855    7.05033\n",
       "   9.54621   1.20321    7.04047\n",
       "  11.5661    1.30431    6.76553\n",
       "  13.5798    1.3922     6.79593\n",
       "   6.43379   2.778      6.87658\n",
       "   8.44333   2.82893    6.94557\n",
       "  10.507     2.94945    7.02627\n",
       "  12.5126    3.06981    6.6772\n",
       "   7.35868   4.50602    6.75566\n",
       "   9.36009   4.55749    6.81895"
      ]
     },
     "metadata": {},
     "output_type": "display_data"
    },
    {
     "name": "stdout",
     "output_type": "stream",
     "text": [
      "true\n"
     ]
    },
    {
     "data": {
      "text/plain": [
       "1076×3 CuArray{Float32, 2, CUDA.Mem.DeviceBuffer}:\n",
       " -10.5195   -4.29948   -6.98234\n",
       "  -8.49737  -4.44531   -6.96142\n",
       " -11.5362   -2.78885   -7.1619\n",
       "  -9.49113  -2.7503    -7.08839\n",
       "  -7.49577  -2.69046   -7.04503\n",
       "  -5.49992  -2.73272   -7.00922\n",
       " -12.5302   -0.98677   -6.98984\n",
       " -10.521    -1.07633   -7.07601\n",
       "  -8.47261  -1.09246   -7.10542\n",
       "  -6.41689  -1.0598    -7.03266\n",
       "  -4.39628  -1.01523   -6.96855\n",
       " -13.4473    0.829423  -6.83651\n",
       " -11.4774    0.777619  -6.86162\n",
       "   ⋮                   \n",
       "  12.6304   -0.307902   6.55836\n",
       "   5.47917   1.08804    6.87886\n",
       "   7.52569   1.1218     7.02219\n",
       "   9.55949   1.20082    7.00041\n",
       "  11.5768    1.32284    6.68886\n",
       "  13.606     1.3929     6.79422\n",
       "   6.44325   2.76681    6.83777\n",
       "   8.44908   2.82349    6.91399\n",
       "  10.5096    2.95199    7.01169\n",
       "  12.5117    3.07873    6.62388\n",
       "   7.35553   4.49899    6.72217\n",
       "   9.3568    4.55763    6.78716"
      ]
     },
     "metadata": {},
     "output_type": "display_data"
    }
   ],
   "source": [
    "force = FusionAGG.Simulation.Force.F\n",
    "ParForce = FusionAGG.Simulation.Parameter.Force\n",
    "ParCont = FusionAGG.Simulation.Parameter.Contractile.fₚ\n",
    "outline = FusionAGG.Geometry.outline\n",
    "\n",
    "tₛᵢₘ  = Model.Time.tₛᵢₘ\n",
    "nₛₐᵥₑ = Model.Time.nₛₐᵥₑ\n",
    "nₖₙₙ  = Model.Time.nₖₙₙ\n",
    "dt = Model.Time.dt\n",
    "\n",
    "while true\n",
    "    global points_ant\n",
    "    \n",
    "    points_ant = copy(points)\n",
    "    # println(any(isnan.(points_ant)) & any(.!isfinite.(points_ant))) \n",
    "    # display(points_ant)\n",
    "\n",
    "    threads=(16,3)\n",
    "    @cuda(\n",
    "        threads=threads,\n",
    "        blocks=(cld.(size(points,1)+1,threads[1]),1),\n",
    "        sum_force!(idx_red, points, force, ParForce, dt)\n",
    "    )\n",
    "\n",
    "    # println(any(isnan.(points)) & any(.!isfinite.(points)))\n",
    "    # display(points)\n",
    "    if any(isnan.(points)) & any(.!isfinite.(points)) == true\n",
    "        break\n",
    "    end\n",
    "end\n",
    "\n",
    "println(any(isnan.(points_ant)) & any(.!isfinite.(points_ant))) \n",
    "display(points_ant)\n",
    "\n",
    "println(any(isnan.(points)) & any(.!isfinite.(points)))\n",
    "display(points)"
   ]
  },
  {
   "cell_type": "code",
   "execution_count": 12,
   "metadata": {},
   "outputs": [
    {
     "data": {
      "text/plain": [
       "1×3 CuArray{Float32, 2, CUDA.Mem.DeviceBuffer}:\n",
       " 215.607  63.9938  52.2656"
      ]
     },
     "execution_count": 12,
     "metadata": {},
     "output_type": "execute_result"
    }
   ],
   "source": [
    "sum(points_ant, dims=1)"
   ]
  },
  {
   "cell_type": "code",
   "execution_count": 13,
   "metadata": {},
   "outputs": [
    {
     "data": {
      "text/plain": [
       "1076×1 CuArray{Float32, 2, CUDA.Mem.DeviceBuffer}:\n",
       " -21.854229\n",
       " -19.937786\n",
       " -21.5032\n",
       " -19.361479\n",
       " -17.263945\n",
       " -15.271494\n",
       " -20.547842\n",
       " -18.69378\n",
       " -16.69681\n",
       " -14.54908\n",
       " -12.423439\n",
       " -19.505548\n",
       " -17.596962\n",
       "   ⋮\n",
       "  18.973862\n",
       "  13.478987\n",
       "  15.693559\n",
       "  17.78989\n",
       "  19.635986\n",
       "  21.767883\n",
       "  16.088375\n",
       "  18.217829\n",
       "  20.482727\n",
       "  22.259584\n",
       "  18.620352\n",
       "  20.73653"
      ]
     },
     "execution_count": 13,
     "metadata": {},
     "output_type": "execute_result"
    }
   ],
   "source": [
    "sum(points_ant, dims=2)"
   ]
  },
  {
   "attachments": {},
   "cell_type": "markdown",
   "metadata": {},
   "source": [
    "# Later"
   ]
  },
  {
   "cell_type": "code",
   "execution_count": 7,
   "metadata": {},
   "outputs": [],
   "source": [
    "# force = FusionAGG.Simulation.Force.F\n",
    "# ParForce = FusionAGG.Simulation.Parameter.Force\n",
    "# ParCont = FusionAGG.Simulation.Parameter.Contractile.fₚ\n",
    "# outline = FusionAGG.Geometry.outline\n",
    "\n",
    "# tₛᵢₘ  = 100.0\n",
    "# nₛₐᵥₑ = Model.Time.nₛₐᵥₑ\n",
    "# nₖₙₙ  = Model.Time.nₖₙₙ\n",
    "# dt = Model.Time.dt\n",
    "\n",
    "# # Calculating position of every cell on the fusion\n",
    "# run(`rm Test.xyz `)\n",
    "# using ProgressMeter\n",
    "# @showprogress \"Forces...\" for step::Int=0:tₛᵢₘ/dt\n",
    "\n",
    "#     # Saving data in a given time (nₛₐᵥₑ)\n",
    "#     # if (step % Int(tₛᵢₘ/nₛₐᵥₑ)) == 1\n",
    "#         open(\"Test.xyz\", \"a\") do f\n",
    "#             write(f, \"$(size(points, 1))\\n\")\n",
    "#             write(f, \"t=$(step*dt)\\n\")\n",
    "#             writedlm(f,hcat(outline,Matrix(points)), ' ')\n",
    "#         end\n",
    "#     # end\n",
    "\n",
    "#     # # Calculating the kNN for the aggregate\n",
    "#     # t_nₖₙₙ = step % nₖₙₙ+1\n",
    "#     # if t_nₖₙₙ == 1\n",
    "        \n",
    "#         # # Calculating Distance Matrix\n",
    "#         # threads=(8,8)\n",
    "#         # @cuda(\n",
    "#         #     threads=threads,\n",
    "#         #     blocks=cld.(size(points,1),threads),\n",
    "#         #     dist_kernel!(idx, points,r_max)\n",
    "#         # )\n",
    "\n",
    "#         # # Reducing Distance Matrix to Nearest Neighbors\n",
    "#         # threads = 64\n",
    "#         # @cuda(\n",
    "#         #     threads=threads,\n",
    "#         #     blocks=cld.(size(points,1),threads),\n",
    "#         #     reduce_kernel!(idx,idx_red,idx_sum)\n",
    "#         # )\n",
    "\n",
    "#     # #     # Finding index contractile\n",
    "#     # #     # Finding index contractile\n",
    "#     # #     threads = (8,8)\n",
    "#     # #     blocks  =cld.(size(points,1),threads)\n",
    "#     # #     @cuda threads=threads blocks=blocks index_contractile!(idx_contractile,idx_sum,idx_red)\n",
    "    \n",
    "#     # end\n",
    "\n",
    "#     # Compute the forces between each pair of particles in `agg` and their displacement.\n",
    "#     threads=(16,3)\n",
    "#     @cuda(\n",
    "#         threads=threads,\n",
    "#         blocks=(cld.(size(points,1)+1,threads[1]),1),\n",
    "#         sum_force!(idx_red, points, force, ParForce, dt)\n",
    "#     )\n",
    "# end\n",
    "# display(points)"
   ]
  },
  {
   "cell_type": "code",
   "execution_count": 8,
   "metadata": {},
   "outputs": [],
   "source": [
    "# idx_contractile = FusionAGG.Simulation.Neighbor.idx_cont\n",
    "\n",
    "# # Finding index contractile\n",
    "# threads = (8,8)\n",
    "# @cuda(\n",
    "#     threads=threads,\n",
    "#     blocks=cld.(size(points,1),threads),\n",
    "#     index_contractile!(idx_contractile,idx_sum,idx_red)\n",
    "# )\n",
    "\n",
    "# display(idx_contractile)"
   ]
  }
 ],
 "metadata": {
  "kernelspec": {
   "display_name": "Julia 1.6.7",
   "language": "julia",
   "name": "julia-1.6"
  },
  "language_info": {
   "file_extension": ".jl",
   "mimetype": "application/julia",
   "name": "julia",
   "version": "1.6.7"
  },
  "orig_nbformat": 4
 },
 "nbformat": 4,
 "nbformat_minor": 2
}
