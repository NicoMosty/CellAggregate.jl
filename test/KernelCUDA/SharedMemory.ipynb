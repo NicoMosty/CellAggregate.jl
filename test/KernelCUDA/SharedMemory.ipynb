{
 "cells": [
  {
   "cell_type": "code",
   "execution_count": 1,
   "metadata": {},
   "outputs": [],
   "source": [
    "using CUDA"
   ]
  },
  {
   "cell_type": "code",
   "execution_count": 5,
   "metadata": {},
   "outputs": [
    {
     "data": {
      "text/plain": [
       "31×3 CuArray{Float32, 2, CUDA.Mem.DeviceBuffer}:\n",
       " 0.323591    0.519328   0.288089\n",
       " 0.163718    0.387013   0.322694\n",
       " 0.347982    0.76562    0.21254\n",
       " 0.770782    0.991324   0.03531\n",
       " 0.466748    0.604893   0.244846\n",
       " 0.901701    0.525085   0.754386\n",
       " 0.721079    0.0815532  0.78039\n",
       " 0.569114    0.121778   0.451746\n",
       " 0.00017292  0.972944   0.0841276\n",
       " 0.913255    0.901709   0.480179\n",
       " ⋮                      \n",
       " 0.682397    0.605486   0.835493\n",
       " 0.36678     0.602152   0.438748\n",
       " 0.151793    0.9244     0.65088\n",
       " 0.973446    0.0836412  0.434435\n",
       " 0.550676    0.0152327  0.1563\n",
       " 0.117456    0.588559   0.988195\n",
       " 0.266266    0.940621   0.763749\n",
       " 0.0295066   0.39672    0.557986\n",
       " 0.479053    0.164226   0.279505"
      ]
     },
     "metadata": {},
     "output_type": "display_data"
    },
    {
     "data": {
      "text/plain": [
       "31×3 CuArray{Float32, 2, CUDA.Mem.DeviceBuffer}:\n",
       " 0.647181     1.03866    0.576177\n",
       " 0.327435     0.774026   0.645388\n",
       " 0.695965     1.53124    0.425079\n",
       " 1.54156      1.98265    0.0706201\n",
       " 0.933495     1.20979    0.489692\n",
       " 1.8034       1.05017    1.50877\n",
       " 1.44216      0.163106   1.56078\n",
       " 1.13823      0.243556   0.903491\n",
       " 0.000345839  1.94589    0.168255\n",
       " 1.82651      1.80342    0.960358\n",
       " ⋮                       \n",
       " 1.36479      1.21097    1.67099\n",
       " 0.73356      1.2043     0.877495\n",
       " 0.303586     1.8488     1.30176\n",
       " 1.94689      0.167282   0.86887\n",
       " 1.10135      0.0304655  0.312599\n",
       " 0.234912     1.17712    1.97639\n",
       " 0.532532     1.88124    1.5275\n",
       " 0.0590132    0.79344    1.11597\n",
       " 0.958106     0.328452   0.55901"
      ]
     },
     "metadata": {},
     "output_type": "display_data"
    }
   ],
   "source": [
    "A = rand(31,3) |> cu\n",
    "B = similar(A) |> cu\n",
    "\n",
    "function test!(A,B)\n",
    "\n",
    "    i = (blockIdx().x - 1) * blockDim().x + threadIdx().x \n",
    "    k = (blockIdx().y - 1) * blockDim().y + threadIdx().y \n",
    "\n",
    "    norm = @cuDynamicSharedMem(Float32,(i,k))\n",
    "\n",
    "    if i <= size(A,1) && k <= size(A,2)\n",
    "        norm[i,k] = A[i,k]\n",
    "        B[i,k] = 2*norm[i,k]\n",
    "    end\n",
    "\n",
    "    return nothing\n",
    "end\n",
    "\n",
    "threads = (32,3)\n",
    "blocks = cld.(size(A),threads)\n",
    "@cuda(\n",
    "    threads = threads,\n",
    "    blocks = blocks,\n",
    "    shmem=prod(threads.+2)*sizeof(Float32),\n",
    "    test!(A,B)\n",
    ")\n",
    "display(A)\n",
    "display(B)"
   ]
  }
 ],
 "metadata": {
  "kernelspec": {
   "display_name": "Julia 1.6.7",
   "language": "julia",
   "name": "julia-1.6"
  },
  "language_info": {
   "file_extension": ".jl",
   "mimetype": "application/julia",
   "name": "julia",
   "version": "1.6.7"
  },
  "orig_nbformat": 4
 },
 "nbformat": 4,
 "nbformat_minor": 2
}
