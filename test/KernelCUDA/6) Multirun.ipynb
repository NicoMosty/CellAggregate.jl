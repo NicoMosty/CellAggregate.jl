{
 "cells": [
  {
   "attachments": {},
   "cell_type": "markdown",
   "metadata": {},
   "source": [
    "# Prev"
   ]
  },
  {
   "attachments": {},
   "cell_type": "markdown",
   "metadata": {},
   "source": [
    "## include"
   ]
  },
  {
   "cell_type": "code",
   "execution_count": null,
   "metadata": {},
   "outputs": [],
   "source": [
    "include(\"../../src/struct_data.jl\")\n",
    "include(\"../../src/neighbor.jl\")\n",
    "include(\"../../src/forces/forces.jl\")\n",
    "include(\"../../src/run_event.jl\")"
   ]
  },
  {
   "attachments": {},
   "cell_type": "markdown",
   "metadata": {},
   "source": [
    "## functions"
   ]
  },
  {
   "cell_type": "code",
   "execution_count": null,
   "metadata": {
    "vscode": {
     "languageId": "julia"
    }
   },
   "outputs": [],
   "source": [
    "function create_dir(name)\n",
    "    path = split(name,\"/\")\n",
    "    \n",
    "    if !(path[size(path,1)] in readdir(join(path[1:size(path,1)-1],\"/\")))\n",
    "        mkdir(name)\n",
    "    end\n",
    "end"
   ]
  },
  {
   "attachments": {},
   "cell_type": "markdown",
   "metadata": {},
   "source": [
    "# Multi-Ruin"
   ]
  },
  {
   "cell_type": "code",
   "execution_count": null,
   "metadata": {
    "vscode": {
     "languageId": "julia"
    }
   },
   "outputs": [],
   "source": [
    "if !(\".results\" in readdir()) mkdir(\".results\") end\n",
    "\n",
    "for cont_par = [0.05, 0.1]\n",
    "    println(\"================ Running = cont_par = $(cont_par) ===========================\")\n",
    "    create_dir(\".results/cont_par($(cont_par))\")\n",
    "\n",
    "    # # for 2\n",
    "    # for force_par = [0.0005, 0.005, 0.05, 0.1]\n",
    "    for force_par = [0.0005, 0.005, 0.05, 0.1]\n",
    "        println(\"---- Running = force_par = $(force_par) ----\")\n",
    "        create_dir(\".results/cont_par($(cont_par))/force_par($(force_par))\")\n",
    "\n",
    "        model = ModelSet(\n",
    "            TimeModel(\n",
    "                tₛᵢₘ  = 150000.0,\n",
    "                dt    = 0.5,\n",
    "                nₖₙₙ  = 100,\n",
    "                nₛₐᵥₑ = 50\n",
    "            ),\n",
    "            InputModel(\n",
    "                outer_ratio = 0.8,\n",
    "                path_input  = \"../../data/init/Sphere\"\n",
    "            ),\n",
    "            OutputModel(\n",
    "                name_output = \"Test_1\",\n",
    "                path_output = \".results/cont_par($(cont_par))/force_par($(force_par))/\",\n",
    "                d_saved = 0.5\n",
    "            ) \n",
    "        )\n",
    "\n",
    "        # Run Model\n",
    "        Par1 ,Par2 = Cubic(force_par,2.0,3.0), ContractilePar(cont_par,pi/4,0.08,1.0)\n",
    "        # Par1 ,Par2 = Cubic(4.2,2.0,3.0), ContractilePar(0.267,pi/4,0.08,1.0)\n",
    "\n",
    "        # ContractilePar(0.02);\n",
    "        # RunFusionAggregates(model::ModelSet, Par1, Par2, 15)\n",
    "        size_agg = 15\n",
    "\n",
    "        # Run only one aggregate\n",
    "        agg = nothing\n",
    "        agg = Aggregate(\n",
    "            [AggType(\n",
    "                \"HEK_1\", \n",
    "                InteractionPar(Par1, Par2),\n",
    "                Float32.(readdlm(\"../../data/init/Sphere/$(size_agg).0.xyz\")[3:end,2:end]) |> cu\n",
    "            )], \n",
    "            [AggLocation(\"HEK_1\",[0 0 0]),],\n",
    "            model\n",
    "        )\n",
    "\n",
    "        println(\"One Agg\")\n",
    "        @time run_test(agg, model,\"Run One Aggregate\", false, false)\n",
    "\n",
    "        if agg.Simulation.Limit.break_sim == CuArray([false])\n",
    "            position=agg.Position\n",
    "            open(\"init_stable.xyz\", \"a\") do f\n",
    "                write(f, \"Initial Stable\\n\")\n",
    "                write(f, \"t=0\\n\")\n",
    "                writedlm(f,hcat(agg.Geometry.outline,Matrix(position)), ' ')\n",
    "            end\n",
    "        \n",
    "            # Run fusion of two aggregates\n",
    "            agg = nothing\n",
    "            agg = FusionAggregate(\n",
    "                [AggType(\"HEK_1\", InteractionPar(Par1, Par2),position)], \n",
    "                model\n",
    "            )\n",
    "            println(\"Two Aggs\")\n",
    "            @time run_test(agg, model, \"Fusion of Two Aggregates\", true, true)\n",
    "        elseif agg.Simulation.Limit.break_sim == CuArray([true])\n",
    "            println(\"Breaking the Simulation (NaN Value or Bigger Values)\")\n",
    "        end\n",
    "    end\n",
    "end"
   ]
  }
 ],
 "metadata": {
  "language_info": {
   "name": "python"
  },
  "orig_nbformat": 4
 },
 "nbformat": 4,
 "nbformat_minor": 2
}
