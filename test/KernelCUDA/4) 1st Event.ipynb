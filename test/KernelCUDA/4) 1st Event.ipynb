{
 "cells": [
  {
   "attachments": {},
   "cell_type": "markdown",
   "metadata": {},
   "source": [
    "# Prev"
   ]
  },
  {
   "attachments": {},
   "cell_type": "markdown",
   "metadata": {},
   "source": [
    "## include"
   ]
  },
  {
   "cell_type": "code",
   "execution_count": 108,
   "metadata": {},
   "outputs": [
    {
     "data": {
      "text/plain": [
       "RunFusionAggregates (generic function with 1 method)"
      ]
     },
     "execution_count": 108,
     "metadata": {},
     "output_type": "execute_result"
    }
   ],
   "source": [
    "include(\"../../src/struct_data.jl\")\n",
    "include(\"../../src/neighbor.jl\")\n",
    "include(\"../../src/forces/forces.jl\")\n",
    "include(\"../../src/run_event.jl\")"
   ]
  },
  {
   "attachments": {},
   "cell_type": "markdown",
   "metadata": {},
   "source": [
    "## model"
   ]
  },
  {
   "cell_type": "code",
   "execution_count": 109,
   "metadata": {},
   "outputs": [
    {
     "name": "stdout",
     "output_type": "stream",
     "text": [
      "  0.000000 seconds (4 allocations: 144 bytes)\n"
     ]
    }
   ],
   "source": [
    "@time model = ModelSet(\n",
    "    TimeModel(\n",
    "        tₛᵢₘ  = 150000.0,\n",
    "        dt    = 0.5,\n",
    "        nₖₙₙ  = 100,\n",
    "        nₛₐᵥₑ = 50\n",
    "    ),\n",
    "    InputModel(\n",
    "        outer_ratio = 0.8,\n",
    "        path_input  = \"../../data/init/Sphere\"\n",
    "    ),\n",
    "    OutputModel(\n",
    "        name_output = \"Test_1\",\n",
    "        path_output = \"\"\n",
    "    ) \n",
    ")\n",
    "\n",
    "# Checking temp data for store\n",
    "check_data(\"Test.xyz\")\n",
    "check_data(\"ErrorInit.xyz\")"
   ]
  },
  {
   "attachments": {},
   "cell_type": "markdown",
   "metadata": {},
   "source": [
    "# Run"
   ]
  },
  {
   "cell_type": "code",
   "execution_count": 110,
   "metadata": {},
   "outputs": [],
   "source": [
    "# # Almost Complete\n",
    "# Par1, Par2 = Cubic(0.0055,2.0,4.5), ContractilePar(0.162);\n",
    "# Par1, Par2 = Cubic(0.0055,2.0,4.5), ContractilePar(0.166);\n",
    "\n",
    "# # Complete\n"
   ]
  },
  {
   "cell_type": "code",
   "execution_count": 111,
   "metadata": {},
   "outputs": [
    {
     "name": "stderr",
     "output_type": "stream",
     "text": [
      "\u001b[32mRun One Aggregate... 100%|███████████████████████████████| Time: 0:01:18\u001b[39mm\n",
      "\u001b[32mFusion of Two Aggregates... 100%|████████████████████████| Time: 0:02:17\u001b[39m\n"
     ]
    },
    {
     "data": {
      "text/plain": [
       "1×5008 CuArray{Int32, 2, CUDA.Mem.DeviceBuffer}:\n",
       " 12  8  10  9  9  13  10  10  8  13  …  9  13  14  12  8  12  9  12  9  13"
      ]
     },
     "metadata": {},
     "output_type": "display_data"
    },
    {
     "data": {
      "text/plain": [
       "1000×5008 CuArray{Int32, 2, CUDA.Mem.DeviceBuffer}:\n",
       " 171  533  53  18   12  122   12   45  …  4990  4977  4872  4979  4972  4967\n",
       "  35  114  18  52    1  143   43   19     4964  4947  4918  4523  4974  4978\n",
       " 247  241  21  24  214  340   10   25     4973  5008  4988  4475  4934  4993\n",
       " 213  211  58  59  109  112   59   47     4938  4972  4941  4755  4951  5004\n",
       "   5  106  60   7   34   36   18  143     4971  4974  4925  4807  4966  4869\n",
       " 109  243  64  30  129  113   41  277  …  4999  4910  4933  4895  5004  4910\n",
       "  10  335   4  43  213  208    4   13     5002  4896  4932  4675  4999  4889\n",
       " 127    0  52   3  171  226  128   36     4998  4978  4983  4644  4898  4890\n",
       "  51    0  45   0  118   30   11   24        0  5007  4828  4655  4977  4972\n",
       " 129    0  61  45    0  111  171  251        0  4897     0  4976     0  4783\n",
       "  12   55   0   0    0   13    0    0  …     0  4967     0  4788     0  4977\n",
       "  75    0   0   0    0   24    0    0        0  4889     0  4791     0  4900\n",
       "   0    0   0   0    0  110    0    0        0     0     0     0     0  4897\n",
       "   ⋮                      ⋮            ⋱                       ⋮        \n",
       "   0    0   0   0    0    0    0    0        0     0     0     0     0     0\n",
       "   0    0   0   0    0    0    0    0        0     0     0     0     0     0\n",
       "   0    0   0   0    0    0    0    0  …     0     0     0     0     0     0\n",
       "   0    0   0   0    0    0    0    0        0     0     0     0     0     0\n",
       "   0    0   0   0    0    0    0    0        0     0     0     0     0     0\n",
       "   0    0   0   0    0    0    0    0        0     0     0     0     0     0\n",
       "   0    0   0   0    0    0    0    0        0     0     0     0     0     0\n",
       "   0    0   0   0    0    0    0    0  …     0     0     0     0     0     0\n",
       "   0    0   0   0    0    0    0    0        0     0     0     0     0     0\n",
       "   0    0   0   0    0    0    0    0        0     0     0     0     0     0\n",
       "   0    0   0   0    0    0    0    0        0     0     0     0     0     0\n",
       "   0    0   0   0    0    0    0    0        0     0     0     0     0     0"
      ]
     },
     "metadata": {},
     "output_type": "display_data"
    },
    {
     "data": {
      "text/plain": [
       "(17, CartesianIndex(1, 173))"
      ]
     },
     "metadata": {},
     "output_type": "display_data"
    }
   ],
   "source": [
    "Par1, Par2 = Cubic(0.0055,2.0,4.5), ContractilePar(0.164);\n",
    "\n",
    "# Run Model\n",
    "RunFusionAggregates(model::ModelSet, Par1, Par2, 15)"
   ]
  },
  {
   "attachments": {},
   "cell_type": "markdown",
   "metadata": {},
   "source": [
    "# review"
   ]
  },
  {
   "attachments": {},
   "cell_type": "markdown",
   "metadata": {},
   "source": [
    "## mini test"
   ]
  },
  {
   "cell_type": "code",
   "execution_count": 112,
   "metadata": {},
   "outputs": [],
   "source": [
    "# J , I = 10 , 5\n",
    "# Neigbor = true\n",
    "\n",
    "# check_data(\"miniTest.xyz\")\n",
    "# open(\"miniTest.xyz\", \"a\") do f\n",
    "#     write(f, \"$(size(points, 1))\\n\")\n",
    "#     write(f, \"t=0\\n\")\n",
    "#     writedlm(f,hcat(outline,Matrix(points)), ' ')\n",
    "# end\n",
    "\n",
    "# for j =1:J\n",
    "#     for i = 1:I\n",
    "#         # Compute the forces between each pair of particles in `agg` and their displacement.\n",
    "#         threads=(16,3)\n",
    "#         @cuda(\n",
    "#             threads=threads,\n",
    "#             blocks=(cld.(size(points,1)+1,threads[1]),1),\n",
    "#             sum_force!(idx,random,idx_sum,points,force,ParForce,ParCont,dt,1)\n",
    "#         )\n",
    "\n",
    "#     end\n",
    "\n",
    "#     if Neigbor == true\n",
    "#         # Calculating Distance Matrix\n",
    "#         threads=(64)\n",
    "#         @cuda(\n",
    "#             threads=threads,\n",
    "#             blocks=cld.(size(points,1),threads),\n",
    "#             dist_kernel!(idx,idx_cont,idx_sum,dist,points,r_max)\n",
    "#         )\n",
    "#     end\n",
    "\n",
    "#     if j%200 == 1\n",
    "#         prev_points = copy(points)\n",
    "#         open(\"miniTest.xyz\", \"a\") do f\n",
    "#             write(f, \"$(size(points, 1))\\n\")\n",
    "#             write(f, \"t=$(j*J)\\n\")\n",
    "#             writedlm(f,hcat(outline,Matrix(points)), ' ')\n",
    "#         end\n",
    "#     end\n",
    "# end\n",
    "\n",
    "# val = 50\n",
    "# println(\"BIG Val        = $(val)\")\n",
    "# println(\"Any BIG value? = $(any(points .> val))\")\n",
    "# println(\"Any Nan Value? = $(any(isnan.(points)))\")\n",
    "# display(points)\n",
    "# display(force)"
   ]
  }
 ],
 "metadata": {
  "kernelspec": {
   "display_name": "Julia 1.6.7",
   "language": "julia",
   "name": "julia-1.6"
  },
  "language_info": {
   "file_extension": ".jl",
   "mimetype": "application/julia",
   "name": "julia",
   "version": "1.6.7"
  },
  "orig_nbformat": 4
 },
 "nbformat": 4,
 "nbformat_minor": 2
}
