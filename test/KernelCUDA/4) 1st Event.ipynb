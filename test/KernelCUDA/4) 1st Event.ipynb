{
 "cells": [
  {
   "attachments": {},
   "cell_type": "markdown",
   "metadata": {},
   "source": [
    "# Prev"
   ]
  },
  {
   "attachments": {},
   "cell_type": "markdown",
   "metadata": {},
   "source": [
    "## include"
   ]
  },
  {
   "cell_type": "code",
   "execution_count": 23,
   "metadata": {},
   "outputs": [
    {
     "data": {
      "text/plain": [
       "RunFusionAggregates (generic function with 1 method)"
      ]
     },
     "execution_count": 23,
     "metadata": {},
     "output_type": "execute_result"
    }
   ],
   "source": [
    "include(\"../../src/struct_data.jl\")\n",
    "include(\"../../src/neighbor.jl\")\n",
    "include(\"../../src/forces/forces.jl\")\n",
    "include(\"../../src/run_event.jl\")"
   ]
  },
  {
   "attachments": {},
   "cell_type": "markdown",
   "metadata": {},
   "source": [
    "## model"
   ]
  },
  {
   "cell_type": "code",
   "execution_count": 24,
   "metadata": {},
   "outputs": [
    {
     "name": "stdout",
     "output_type": "stream",
     "text": [
      "  0.000000 seconds (4 allocations: 144 bytes)\n"
     ]
    }
   ],
   "source": [
    "@time model = ModelSet(\n",
    "    TimeModel(\n",
    "        tₛᵢₘ  = 150000.0,\n",
    "        dt    = 0.5,\n",
    "        nₖₙₙ  = 100,\n",
    "        nₛₐᵥₑ = 50\n",
    "    ),\n",
    "    InputModel(\n",
    "        outer_ratio = 0.8,\n",
    "        path_input  = \"../../data/init/Sphere\"\n",
    "    ),\n",
    "    OutputModel(\n",
    "        name_output = \"Test_1\",\n",
    "        path_output = \"\"\n",
    "    ) \n",
    ")\n",
    "\n",
    "# Checking temp data for store\n",
    "check_data(\"Test.xyz\")\n",
    "check_data(\"ErrorInit.xyz\")"
   ]
  },
  {
   "attachments": {},
   "cell_type": "markdown",
   "metadata": {},
   "source": [
    "# Run"
   ]
  },
  {
   "cell_type": "code",
   "execution_count": 25,
   "metadata": {},
   "outputs": [],
   "source": [
    "# # Almost Complete\n",
    "# Par1, Par2 = Cubic(0.005,2.0,4.5), ContractilePar(0.15);\n",
    "# Par1, Par2 = Cubic(0.007,2.0,4.5), ContractilePar(0.2);"
   ]
  },
  {
   "cell_type": "code",
   "execution_count": 28,
   "metadata": {},
   "outputs": [
    {
     "name": "stderr",
     "output_type": "stream",
     "text": [
      "\u001b[32mRun One Aggregate       ... 100%|████████████████████████| Time: 0:01:03\u001b[39m\n",
      "\u001b[32mFusion of Two Aggregates   ... 100%|█████████████████████| Time: 0:01:14\u001b[39m\n"
     ]
    },
    {
     "data": {
      "text/plain": [
       "1×2552 CuArray{Int32, 2, CUDA.Mem.DeviceBuffer}:\n",
       " 10  10  9  9  14  8  12  8  8  14  8  …  10  15  13  10  7  14  14  13  13"
      ]
     },
     "metadata": {},
     "output_type": "display_data"
    },
    {
     "data": {
      "text/plain": [
       "1000×2552 CuArray{Int32, 2, CUDA.Mem.DeviceBuffer}:\n",
       "  47  181  43   39  295  121  1798  97  …  2544  2368  2458  2376  2510  2509\n",
       " 104   97  17   32   95   12    38  30      725   747  2542  2436  2511  2368\n",
       "  48   96  44  184  307   88    15   2     2360  2517  2512  2370  2509  2545\n",
       "  49    8  37   86  195   13   136  48     2533   983  2456  2271  2447  2517\n",
       " 113   30  15   37  111   73    19   1     2545  2360  2511  2362  2546  2456\n",
       " 276  268   7   99  284   17     3  92  …  2500  2494  2552  2515  2455  2549\n",
       "  30  167  36   93  205   36    44  31      983  2520  2545  2454  2518  2455\n",
       "   8   91  51   92  197   55    51  41     2502     0  2495  2453  2522  2551\n",
       "  35   41  31   98  103    0    17   0     2514     0  2503  2261  2516  2360\n",
       "  40    0   0    0  112    0    45   0     2539     0  2536  2461  2552  2511\n",
       "   0   92   0    0  296    0    80   0  …     0     0  2544  2369  2456  2518\n",
       "   0    0   0    0  196    0    52   0        0     0  2509  2340  2523  2494\n",
       "   0    0   0    0   40    0     0   0        0     0  2360  2445  2371  2542\n",
       "   ⋮                       ⋮            ⋱                             ⋮  \n",
       "   0    0   0    0    0    0     0   0        0     0     0     0     0     0\n",
       "   0    0   0    0    0    0     0   0        0     0     0     0     0     0\n",
       "   0    0   0    0    0    0     0   0  …     0     0     0     0     0     0\n",
       "   0    0   0    0    0    0     0   0        0     0     0     0     0     0\n",
       "   0    0   0    0    0    0     0   0        0     0     0     0     0     0\n",
       "   0    0   0    0    0    0     0   0        0     0     0     0     0     0\n",
       "   0    0   0    0    0    0     0   0        0     0     0     0     0     0\n",
       "   0    0   0    0    0    0     0   0  …     0     0     0     0     0     0\n",
       "   0    0   0    0    0    0     0   0        0     0     0     0     0     0\n",
       "   0    0   0    0    0    0     0   0        0     0     0     0     0     0\n",
       "   0    0   0    0    0    0     0   0        0     0     0     0     0     0\n",
       "   0    0   0    0    0    0     0   0        0     0     0     0     0     0"
      ]
     },
     "metadata": {},
     "output_type": "display_data"
    },
    {
     "data": {
      "text/plain": [
       "(16, CartesianIndex(1, 41))"
      ]
     },
     "metadata": {},
     "output_type": "display_data"
    }
   ],
   "source": [
    "Par1, Par2 = Cubic(0.005,2.0,4.5), ContractilePar(0.15);\n",
    "\n",
    "# Run Model\n",
    "RunFusionAggregates(model::ModelSet, Par1, Par2, 12)"
   ]
  },
  {
   "attachments": {},
   "cell_type": "markdown",
   "metadata": {},
   "source": [
    "# review"
   ]
  },
  {
   "attachments": {},
   "cell_type": "markdown",
   "metadata": {},
   "source": [
    "## mini test"
   ]
  },
  {
   "cell_type": "code",
   "execution_count": 27,
   "metadata": {},
   "outputs": [],
   "source": [
    "# J , I = 10 , 5\n",
    "# Neigbor = true\n",
    "\n",
    "# check_data(\"miniTest.xyz\")\n",
    "# open(\"miniTest.xyz\", \"a\") do f\n",
    "#     write(f, \"$(size(points, 1))\\n\")\n",
    "#     write(f, \"t=0\\n\")\n",
    "#     writedlm(f,hcat(outline,Matrix(points)), ' ')\n",
    "# end\n",
    "\n",
    "# for j =1:J\n",
    "#     for i = 1:I\n",
    "#         # Compute the forces between each pair of particles in `agg` and their displacement.\n",
    "#         threads=(16,3)\n",
    "#         @cuda(\n",
    "#             threads=threads,\n",
    "#             blocks=(cld.(size(points,1)+1,threads[1]),1),\n",
    "#             sum_force!(idx,random,idx_sum,points,force,ParForce,ParCont,dt,1)\n",
    "#         )\n",
    "\n",
    "#     end\n",
    "\n",
    "#     if Neigbor == true\n",
    "#         # Calculating Distance Matrix\n",
    "#         threads=(64)\n",
    "#         @cuda(\n",
    "#             threads=threads,\n",
    "#             blocks=cld.(size(points,1),threads),\n",
    "#             dist_kernel!(idx,idx_cont,idx_sum,dist,points,r_max)\n",
    "#         )\n",
    "#     end\n",
    "\n",
    "#     if j%200 == 1\n",
    "#         prev_points = copy(points)\n",
    "#         open(\"miniTest.xyz\", \"a\") do f\n",
    "#             write(f, \"$(size(points, 1))\\n\")\n",
    "#             write(f, \"t=$(j*J)\\n\")\n",
    "#             writedlm(f,hcat(outline,Matrix(points)), ' ')\n",
    "#         end\n",
    "#     end\n",
    "# end\n",
    "\n",
    "# val = 50\n",
    "# println(\"BIG Val        = $(val)\")\n",
    "# println(\"Any BIG value? = $(any(points .> val))\")\n",
    "# println(\"Any Nan Value? = $(any(isnan.(points)))\")\n",
    "# display(points)\n",
    "# display(force)"
   ]
  }
 ],
 "metadata": {
  "kernelspec": {
   "display_name": "Julia 1.6.7",
   "language": "julia",
   "name": "julia-1.6"
  },
  "language_info": {
   "file_extension": ".jl",
   "mimetype": "application/julia",
   "name": "julia",
   "version": "1.6.7"
  },
  "orig_nbformat": 4
 },
 "nbformat": 4,
 "nbformat_minor": 2
}
