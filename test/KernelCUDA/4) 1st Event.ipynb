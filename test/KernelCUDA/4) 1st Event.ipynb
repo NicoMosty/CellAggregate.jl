{
 "cells": [
  {
   "attachments": {},
   "cell_type": "markdown",
   "metadata": {},
   "source": [
    "# Prev"
   ]
  },
  {
   "attachments": {},
   "cell_type": "markdown",
   "metadata": {},
   "source": [
    "## include"
   ]
  },
  {
   "cell_type": "code",
   "execution_count": 78,
   "metadata": {},
   "outputs": [
    {
     "data": {
      "text/plain": [
       "RunFusionAggregates (generic function with 1 method)"
      ]
     },
     "execution_count": 78,
     "metadata": {},
     "output_type": "execute_result"
    }
   ],
   "source": [
    "include(\"../../src/struct_data.jl\")\n",
    "include(\"../../src/neighbor.jl\")\n",
    "include(\"../../src/forces/forces.jl\")\n",
    "include(\"../../src/run_event.jl\")"
   ]
  },
  {
   "attachments": {},
   "cell_type": "markdown",
   "metadata": {},
   "source": [
    "## model"
   ]
  },
  {
   "cell_type": "code",
   "execution_count": 79,
   "metadata": {},
   "outputs": [
    {
     "name": "stdout",
     "output_type": "stream",
     "text": [
      "  0.000000 seconds (4 allocations: 144 bytes)\n"
     ]
    }
   ],
   "source": [
    "@time model = ModelSet(\n",
    "    TimeModel(\n",
    "        tₛᵢₘ  = 150000.0,\n",
    "        dt    = 0.5,\n",
    "        nₖₙₙ  = 100,\n",
    "        nₛₐᵥₑ = 50\n",
    "    ),\n",
    "    InputModel(\n",
    "        outer_ratio = 0.8,\n",
    "        path_input  = \"../../data/init/Sphere\"\n",
    "    ),\n",
    "    OutputModel(\n",
    "        name_output = \"Test_1\",\n",
    "        path_output = \"\"\n",
    "    ) \n",
    ")\n",
    "\n",
    "# Checking temp data for store\n",
    "check_data(\"Test.xyz\")\n",
    "check_data(\"ErrorInit.xyz\")"
   ]
  },
  {
   "attachments": {},
   "cell_type": "markdown",
   "metadata": {},
   "source": [
    "# Run"
   ]
  },
  {
   "cell_type": "code",
   "execution_count": 80,
   "metadata": {},
   "outputs": [],
   "source": [
    "# # Almost Complete\n",
    "# Par1, Par2 = Cubic(0.0055,2.0,4.5), ContractilePar(0.162);"
   ]
  },
  {
   "cell_type": "code",
   "execution_count": 81,
   "metadata": {},
   "outputs": [
    {
     "name": "stderr",
     "output_type": "stream",
     "text": [
      "\u001b[32mRun One Aggregate... 100%|███████████████████████████████| Time: 0:01:17\u001b[39mm\n",
      "\u001b[32mFusion of Two Aggregates... 100%|████████████████████████| Time: 0:02:16\u001b[39m\n"
     ]
    },
    {
     "data": {
      "text/plain": [
       "1×5008 CuArray{Int32, 2, CUDA.Mem.DeviceBuffer}:\n",
       " 14  8  13  9  10  8  14  14  12  10  10  …  9  14  13  10  10  8  10  14  14"
      ]
     },
     "metadata": {},
     "output_type": "display_data"
    },
    {
     "data": {
      "text/plain": [
       "1000×5008 CuArray{Int32, 2, CUDA.Mem.DeviceBuffer}:\n",
       " 106   40  145  303   17   55   11  …  5002  4940  4994  4995  4966  4963\n",
       "  31  222  125   74   69   44   39     5008  4951  4820  4945  4772  4875\n",
       " 101  510   33   67   60   46   62     4990  4992  5000  4971  4784  5003\n",
       " 227  224  242   75   11   72   53     5006  4900  4943  4996  4773  4885\n",
       " 122  214  124   66   13  107   69     4971  4934  4847  5003  4877  4971\n",
       " 120  223  253   57   68  116   45  …  4996  4950  4880  4910  4968  4903\n",
       " 228  205  390    9   16  366   54     4888  4998  4838  4954  4785  4965\n",
       " 238   30   32  171   10  404   60     4963  4941  4765  5002  4878  5001\n",
       "  50    0  134   76  121    0   13     5001  4988     0  4956  4974  5002\n",
       " 104    0  115    0   51    0  143        0  4999     0  4963  4879  4977\n",
       " 215    0   55    0    0    0    8  …     0     0     0     0  4891  4957\n",
       " 216    0  366    0    0    0   12     4910     0     0     0  4876  4888\n",
       " 103    0   72    0    0    0   61        0     0     0     0  4783  4865\n",
       "   ⋮                        ⋮       ⋱                       ⋮        \n",
       "   0    0    0    0    0    0    0        0     0     0     0     0     0\n",
       "   0    0    0    0    0    0    0        0     0     0     0     0     0\n",
       "   0    0    0    0    0    0    0  …     0     0     0     0     0     0\n",
       "   0    0    0    0    0    0    0        0     0     0     0     0     0\n",
       "   0    0    0    0    0    0    0        0     0     0     0     0     0\n",
       "   0    0    0    0    0    0    0        0     0     0     0     0     0\n",
       "   0    0    0    0    0    0    0        0     0     0     0     0     0\n",
       "   0    0    0    0    0    0    0  …     0     0     0     0     0     0\n",
       "   0    0    0    0    0    0    0        0     0     0     0     0     0\n",
       "   0    0    0    0    0    0    0        0     0     0     0     0     0\n",
       "   0    0    0    0    0    0    0        0     0     0     0     0     0\n",
       "   0    0    0    0    0    0    0        0     0     0     0     0     0"
      ]
     },
     "metadata": {},
     "output_type": "display_data"
    },
    {
     "data": {
      "text/plain": [
       "(17, CartesianIndex(1, 339))"
      ]
     },
     "metadata": {},
     "output_type": "display_data"
    }
   ],
   "source": [
    "Par1, Par2 = Cubic(0.0055,2.0,4.5), ContractilePar(0.162);\n",
    "\n",
    "# Run Model\n",
    "RunFusionAggregates(model::ModelSet, Par1, Par2, 15)"
   ]
  },
  {
   "attachments": {},
   "cell_type": "markdown",
   "metadata": {},
   "source": [
    "# review"
   ]
  },
  {
   "attachments": {},
   "cell_type": "markdown",
   "metadata": {},
   "source": [
    "## mini test"
   ]
  },
  {
   "cell_type": "code",
   "execution_count": 82,
   "metadata": {},
   "outputs": [],
   "source": [
    "# J , I = 10 , 5\n",
    "# Neigbor = true\n",
    "\n",
    "# check_data(\"miniTest.xyz\")\n",
    "# open(\"miniTest.xyz\", \"a\") do f\n",
    "#     write(f, \"$(size(points, 1))\\n\")\n",
    "#     write(f, \"t=0\\n\")\n",
    "#     writedlm(f,hcat(outline,Matrix(points)), ' ')\n",
    "# end\n",
    "\n",
    "# for j =1:J\n",
    "#     for i = 1:I\n",
    "#         # Compute the forces between each pair of particles in `agg` and their displacement.\n",
    "#         threads=(16,3)\n",
    "#         @cuda(\n",
    "#             threads=threads,\n",
    "#             blocks=(cld.(size(points,1)+1,threads[1]),1),\n",
    "#             sum_force!(idx,random,idx_sum,points,force,ParForce,ParCont,dt,1)\n",
    "#         )\n",
    "\n",
    "#     end\n",
    "\n",
    "#     if Neigbor == true\n",
    "#         # Calculating Distance Matrix\n",
    "#         threads=(64)\n",
    "#         @cuda(\n",
    "#             threads=threads,\n",
    "#             blocks=cld.(size(points,1),threads),\n",
    "#             dist_kernel!(idx,idx_cont,idx_sum,dist,points,r_max)\n",
    "#         )\n",
    "#     end\n",
    "\n",
    "#     if j%200 == 1\n",
    "#         prev_points = copy(points)\n",
    "#         open(\"miniTest.xyz\", \"a\") do f\n",
    "#             write(f, \"$(size(points, 1))\\n\")\n",
    "#             write(f, \"t=$(j*J)\\n\")\n",
    "#             writedlm(f,hcat(outline,Matrix(points)), ' ')\n",
    "#         end\n",
    "#     end\n",
    "# end\n",
    "\n",
    "# val = 50\n",
    "# println(\"BIG Val        = $(val)\")\n",
    "# println(\"Any BIG value? = $(any(points .> val))\")\n",
    "# println(\"Any Nan Value? = $(any(isnan.(points)))\")\n",
    "# display(points)\n",
    "# display(force)"
   ]
  }
 ],
 "metadata": {
  "kernelspec": {
   "display_name": "Julia 1.6.7",
   "language": "julia",
   "name": "julia-1.6"
  },
  "language_info": {
   "file_extension": ".jl",
   "mimetype": "application/julia",
   "name": "julia",
   "version": "1.6.7"
  },
  "orig_nbformat": 4
 },
 "nbformat": 4,
 "nbformat_minor": 2
}
