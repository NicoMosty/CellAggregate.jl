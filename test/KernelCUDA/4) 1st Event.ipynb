{
 "cells": [
  {
   "attachments": {},
   "cell_type": "markdown",
   "metadata": {},
   "source": [
    "# Prev"
   ]
  },
  {
   "attachments": {},
   "cell_type": "markdown",
   "metadata": {},
   "source": [
    "## include"
   ]
  },
  {
   "cell_type": "code",
   "execution_count": 124,
   "metadata": {},
   "outputs": [
    {
     "data": {
      "text/plain": [
       "sum_force!"
      ]
     },
     "execution_count": 124,
     "metadata": {},
     "output_type": "execute_result"
    }
   ],
   "source": [
    "include(\"../../src/struct_data.jl\")\n",
    "include(\"../../src/neighbor.jl\")\n",
    "include(\"../../src/forces/forces.jl\")"
   ]
  },
  {
   "attachments": {},
   "cell_type": "markdown",
   "metadata": {},
   "source": [
    "## model"
   ]
  },
  {
   "cell_type": "code",
   "execution_count": 125,
   "metadata": {},
   "outputs": [
    {
     "name": "stdout",
     "output_type": "stream",
     "text": [
      "  0.000000 seconds (4 allocations: 144 bytes)\n"
     ]
    },
    {
     "data": {
      "text/plain": [
       "15"
      ]
     },
     "execution_count": 125,
     "metadata": {},
     "output_type": "execute_result"
    }
   ],
   "source": [
    "@time model = ModelSet(\n",
    "    TimeModel(\n",
    "        tₛᵢₘ  = 100000.0,\n",
    "        dt    = 0.5,\n",
    "        nₖₙₙ  = 100,\n",
    "        nₛₐᵥₑ = 1000\n",
    "    ),\n",
    "    InputModel(\n",
    "        outer_ratio = 0.8,\n",
    "        path_input  = \"../../data/init/Sphere\"\n",
    "    ),\n",
    "    OutputModel(\n",
    "        name_output = \"Test_1\",\n",
    "        path_output = \"\"\n",
    "    ) \n",
    ")\n",
    "\n",
    "Par1, Par2 = (0.95e-1,2.0,4.5), 0.95e-1;\n",
    "# Par1, Par2 = (1e-2,2.0,3.8), 1e-2;\n",
    "type = \"two\"\n",
    "value=15"
   ]
  },
  {
   "attachments": {},
   "cell_type": "markdown",
   "metadata": {},
   "source": [
    "## review parameters"
   ]
  },
  {
   "cell_type": "code",
   "execution_count": 126,
   "metadata": {},
   "outputs": [],
   "source": [
    "# Almost\n",
    "# Par1, Par2 = (9e-2,2.1,5.0), 1e-1;\n",
    "# Par1, Par2 = (5e-3,2.1,5.0), 5e-2;"
   ]
  },
  {
   "attachments": {},
   "cell_type": "markdown",
   "metadata": {},
   "source": [
    "## aggregate struct"
   ]
  },
  {
   "cell_type": "code",
   "execution_count": 127,
   "metadata": {},
   "outputs": [
    {
     "name": "stdout",
     "output_type": "stream",
     "text": [
      "  0.913694 seconds (1.96 M allocations: 463.841 MiB, 3.86% gc time, 0.88% compilation time)\n"
     ]
    },
    {
     "data": {
      "text/plain": [
       "Aggregate(AggType[AggType(\"HEK_1\", InteractionPar(Cubic{Float64}(0.095, 2.0, 4.5), ContractilePar(0.095)), 15.806249f0, Float32[-4.0206532 -3.3273787 -19.216244; -4.555479 -5.0831895 -18.712723; … ; -0.6608513 0.4537038 8.2605505; 2.7400308 -0.20740333 8.037631], CuArray{Float32, 2, CUDA.Mem.DeviceBuffer})], AggIndex([1, 1, 1, 1, 1, 1, 1, 1, 1, 1  …  1, 1, 1, 1, 1, 1, 1, 1, 1, 1], [1, 1, 1, 1, 1, 1, 1, 1, 1, 1  …  2, 2, 2, 2, 2, 2, 2, 2, 2, 2], [\"HEK_1\", \"HEK_1\", \"HEK_1\", \"HEK_1\", \"HEK_1\", \"HEK_1\", \"HEK_1\", \"HEK_1\", \"HEK_1\", \"HEK_1\"  …  \"HEK_1\", \"HEK_1\", \"HEK_1\", \"HEK_1\", \"HEK_1\", \"HEK_1\", \"HEK_1\", \"HEK_1\", \"HEK_1\", \"HEK_1\"]), Float32[-19.826902 -3.3273787 -19.216244; -20.361729 -5.0831895 -18.712723; … ; 15.145397 0.4537038 8.2605505; 18.54628 -0.20740333 8.037631], AggGeometry(Float32[15.806249, 15.806249, 15.806249, 15.806249, 15.806249, 15.806249, 15.806249, 15.806249, 15.806249, 15.806249  …  15.806249, 15.806249, 15.806249, 15.806249, 15.806249, 15.806249, 15.806249, 15.806249, 15.806249, 15.806249], [1, 1, 1, 1, 1, 1, 1, 1, 1, 1  …  2, 2, 2, 2, 2, 2, 2, 2, 2, 2]), AggSimulation(AggParameter(Cubic{CuArray{Float32, 1, CUDA.Mem.DeviceBuffer}}(Float32[0.095, 0.095, 0.095, 0.095, 0.095, 0.095, 0.095, 0.095, 0.095, 0.095  …  0.095, 0.095, 0.095, 0.095, 0.095, 0.095, 0.095, 0.095, 0.095, 0.095], Float32[2.0, 2.0, 2.0, 2.0, 2.0, 2.0, 2.0, 2.0, 2.0, 2.0  …  2.0, 2.0, 2.0, 2.0, 2.0, 2.0, 2.0, 2.0, 2.0, 2.0], Float32[4.5, 4.5, 4.5, 4.5, 4.5, 4.5, 4.5, 4.5, 4.5, 4.5  …  4.5, 4.5, 4.5, 4.5, 4.5, 4.5, 4.5, 4.5, 4.5, 4.5]), ContractilePar(Float32[0.095, 0.095, 0.095, 0.095, 0.095, 0.095, 0.095, 0.095, 0.095, 0.095  …  0.095, 0.095, 0.095, 0.095, 0.095, 0.095, 0.095, 0.095, 0.095, 0.095]), Float32[15.806249]), AggNeighbor(Int32[0 0 … 0 0; 0 0 … 0 0; … ; 0 0 … 0 0; 0 0 … 0 0], Int32[0 0 … 0 0; 0 0 … 0 0; … ; 0 0 … 0 0; 0 0 … 0 0], Int32[0 0 … 0 0], Int32[0 0 … 0 0; 0 0 … 0 0; … ; 0 0 … 0 0; 0 0 … 0 0]), AggForce(Float32[0.0 0.0 0.0; 0.0 0.0 0.0; … ; 0.0 0.0 0.0; 0.0 0.0 0.0], Float32[0.0 0.0 0.0; 0.0 0.0 0.0; … ; 0.0 0.0 0.0; 0.0 0.0 0.0])))"
      ]
     },
     "execution_count": 127,
     "metadata": {},
     "output_type": "execute_result"
    }
   ],
   "source": [
    "if type == \"one\"\n",
    "    agg = nothing\n",
    "    # @time @start_agg FusionAGG = FusionAggregate(\n",
    "    @time agg = Aggregate(\n",
    "        [\n",
    "            AggType(\n",
    "                \"HEK_1\", \n",
    "                InteractionPar(\n",
    "                    Cubic(Par1...), \n",
    "                    ContractilePar(Par2)\n",
    "                ),\n",
    "                # Float32.(readdlm(\"../../data/init/Sphere/15.0.xyz\")[3:end,2:end]) |> cu\n",
    "                # Float32.(readdlm(\"init.xyz\")[3:end,2:end]) |> cu\n",
    "                Float32.(readdlm(\"../../data/init/Sphere/$(value).0.xyz\")[3:end,2:end]) |> cu\n",
    "            )\n",
    "        ], \n",
    "        [\n",
    "            AggLocation(\"HEK_1\",[0 0 0]),\n",
    "        ],\n",
    "        model\n",
    "    )\n",
    "elseif type == \"two\"\n",
    "    agg = nothing\n",
    "    # @time @start_agg FusionAGG = FusionAggregate(\n",
    "    @time agg = FusionAggregate(\n",
    "        [\n",
    "            AggType(\n",
    "                \"HEK_1\", \n",
    "                InteractionPar(\n",
    "                    Cubic(Par1...), \n",
    "                    ContractilePar(Par2)\n",
    "                ),\n",
    "                Float32.(readdlm(\"init.xyz\")[3:end,2:end]) |> cu\n",
    "                # Float32.(readdlm(\"../../data/init/Sphere/$(value).0.xyz\")[3:end,2:end]) |> cu\n",
    "                # Float32.(readdlm(\"../../data/init/Sphere/15.0.xyz\")[3:end,2:end]) |> cu\n",
    "\n",
    "            )\n",
    "        ], \n",
    "        model\n",
    "    )\n",
    "end"
   ]
  },
  {
   "attachments": {},
   "cell_type": "markdown",
   "metadata": {},
   "source": [
    "## PreSet"
   ]
  },
  {
   "cell_type": "code",
   "execution_count": 128,
   "metadata": {},
   "outputs": [],
   "source": [
    "points = agg.Position\n",
    "# points = points[collect(size(points,1):-1:1),:]\n",
    "\n",
    "r_max  = agg.Simulation.Parameter.Force.rₘₐₓ\n",
    "idx    = agg.Simulation.Neighbor.idx_red\n",
    "idx_cont = agg.Simulation.Neighbor.idx_cont\n",
    "idx_sum = agg.Simulation.Neighbor.idx_sum\n",
    "dist   = zeros(size(idx)) |> cu\n",
    "\n",
    "force    = agg.Simulation.Force.F\n",
    "ParForce = agg.Simulation.Parameter.Force\n",
    "ParCont  = agg.Simulation.Parameter.Contractile.fₚ\n",
    "outline  = agg.Geometry.outline\n",
    "random = similar(force) |> cu\n",
    "\n",
    "tₛᵢₘ  = model.Time.tₛᵢₘ\n",
    "nₛₐᵥₑ = model.Time.nₛₐᵥₑ\n",
    "nₖₙₙ  = model.Time.nₖₙₙ\n",
    "dt = model.Time.dt\n",
    "\n",
    "# Calculating position of every cell on the fusion\n",
    "check_data(\"Test.xyz\")\n",
    "check_data(\"ErrorInit.xyz\")"
   ]
  },
  {
   "cell_type": "code",
   "execution_count": 129,
   "metadata": {},
   "outputs": [
    {
     "name": "stdout",
     "output_type": "stream",
     "text": [
      "  0.392377 seconds (434.33 k CPU allocations: 23.555 MiB)\n"
     ]
    },
    {
     "data": {
      "text/plain": [
       "1×5008 CuArray{Int32, 2, CUDA.Mem.DeviceBuffer}:\n",
       " 9  9  9  10  14  12  8  12  6  10  8  …  13  9  13  12  9  8  10  9  11  9"
      ]
     },
     "metadata": {},
     "output_type": "display_data"
    },
    {
     "data": {
      "text/plain": [
       "1000×5008 CuArray{Int32, 2, CUDA.Mem.DeviceBuffer}:\n",
       " 43   45   39  121   44    4  44  219  …  5004  5003  4796  4972  5003  4966\n",
       "  2   33  134    6  141   43   5  106     4966  4949  4961  4973  4997  4889\n",
       "  7  362   19  140   43   84   1  115     5007  4999  4867  5002  4866  5004\n",
       " 45    1   45   51    7   37  13  122     4866  4966  4612  4958  4865  4772\n",
       " 44   32   62   30   69  121  70  125     4997  5008  4974  4887  4966  4877\n",
       " 37  107    2   42   70    7  53   38  …  4949  4877  4898  4889  4958  4974\n",
       "  3   39    1   84  143  141   6  211     4877  4878  4967  5007  5002  4967\n",
       " 33    3   38    0   84    5  43   39     4991  4998  5000  4966  5006  4999\n",
       "  6   37   44   49    6   13   0  212     4998     0  5008  4772  4996  5005\n",
       "  0    0    0   10   12   51   0  107        0     0  4999     0  4877     0\n",
       "  0    0    0    9   17   10   0  362  …     0     0     0     0  4636     0\n",
       "  0    0    0    0   53    1   0  101        0     0     0     0     0     0\n",
       "  0    0    0    0   13    0   0    0        0     0     0     0     0     0\n",
       "  ⋮                        ⋮           ⋱                       ⋮        \n",
       "  0    0    0    0    0    0   0    0        0     0     0     0     0     0\n",
       "  0    0    0    0    0    0   0    0        0     0     0     0     0     0\n",
       "  0    0    0    0    0    0   0    0  …     0     0     0     0     0     0\n",
       "  0    0    0    0    0    0   0    0        0     0     0     0     0     0\n",
       "  0    0    0    0    0    0   0    0        0     0     0     0     0     0\n",
       "  0    0    0    0    0    0   0    0        0     0     0     0     0     0\n",
       "  0    0    0    0    0    0   0    0        0     0     0     0     0     0\n",
       "  0    0    0    0    0    0   0    0  …     0     0     0     0     0     0\n",
       "  0    0    0    0    0    0   0    0        0     0     0     0     0     0\n",
       "  0    0    0    0    0    0   0    0        0     0     0     0     0     0\n",
       "  0    0    0    0    0    0   0    0        0     0     0     0     0     0\n",
       "  0    0    0    0    0    0   0    0        0     0     0     0     0     0"
      ]
     },
     "metadata": {},
     "output_type": "display_data"
    },
    {
     "data": {
      "text/plain": [
       "1000×5008 CuArray{Float32, 2, CUDA.Mem.DeviceBuffer}:\n",
       " 1.90252  1.68068  1.7887   1.48638  …  1.37247  1.79264  1.81016  1.72631\n",
       " 1.90327  1.73303  1.80451  1.65271     1.8939   1.87473  1.81887  1.99\n",
       " 1.96492  1.87105  1.9021   1.91355     2.07097  1.93586  1.85127  1.99404\n",
       " 1.98599  1.90327  1.95129  1.9329      2.07361  2.11837  1.85632  2.01755\n",
       " 2.00407  1.95543  2.14129  1.95212     2.29475  2.16033  1.9603   2.07062\n",
       " 2.11025  2.08931  2.17032  2.10316  …  2.3765   2.25133  2.11626  2.12342\n",
       " 2.18809  2.093    2.18809  2.20381     2.43745  2.25446  2.11672  2.14111\n",
       " 2.26638  2.17032  2.21044  0.0         2.55638  2.26517  2.25446  2.41218\n",
       " 2.43911  2.69069  2.48545  2.24073     2.56074  2.69782  2.31013  2.56074\n",
       " 0.0      0.0      0.0      2.26829     2.60758  0.0      2.5043   0.0\n",
       " 0.0      0.0      0.0      2.36242  …  0.0      0.0      2.51087  0.0\n",
       " 0.0      0.0      0.0      0.0         0.0      0.0      0.0      0.0\n",
       " 0.0      0.0      0.0      0.0         0.0      0.0      0.0      0.0\n",
       " ⋮                                   ⋱           ⋮                 \n",
       " 0.0      0.0      0.0      0.0         0.0      0.0      0.0      0.0\n",
       " 0.0      0.0      0.0      0.0         0.0      0.0      0.0      0.0\n",
       " 0.0      0.0      0.0      0.0      …  0.0      0.0      0.0      0.0\n",
       " 0.0      0.0      0.0      0.0         0.0      0.0      0.0      0.0\n",
       " 0.0      0.0      0.0      0.0         0.0      0.0      0.0      0.0\n",
       " 0.0      0.0      0.0      0.0         0.0      0.0      0.0      0.0\n",
       " 0.0      0.0      0.0      0.0         0.0      0.0      0.0      0.0\n",
       " 0.0      0.0      0.0      0.0      …  0.0      0.0      0.0      0.0\n",
       " 0.0      0.0      0.0      0.0         0.0      0.0      0.0      0.0\n",
       " 0.0      0.0      0.0      0.0         0.0      0.0      0.0      0.0\n",
       " 0.0      0.0      0.0      0.0         0.0      0.0      0.0      0.0\n",
       " 0.0      0.0      0.0      0.0         0.0      0.0      0.0      0.0"
      ]
     },
     "metadata": {},
     "output_type": "display_data"
    }
   ],
   "source": [
    "test = similar(idx_sum) |> cu\n",
    "\n",
    "# Calculating Distance Matrix\n",
    "threads=(64)\n",
    "CUDA.@time @cuda(\n",
    "    threads=threads,\n",
    "    blocks=cld.(size(points,1),threads),\n",
    "    dist_kernel!(idx,idx_cont,idx_sum,dist,points,r_max)\n",
    ")\n",
    "\n",
    "display(idx_sum)\n",
    "display(idx)\n",
    "display(dist)"
   ]
  },
  {
   "cell_type": "code",
   "execution_count": 130,
   "metadata": {},
   "outputs": [],
   "source": [
    "# t_knn = 20\n",
    "# random = Int.(zeros(size(idx_sum))) |> cu\n",
    "# function sumo_force!(idx,idx_cont,idx_sum,points,force,force_par,cont_par,dt,t_knn)\n",
    "#     # Defining Index for kernel\n",
    "#     i = (blockIdx().x - 1) * blockDim().x + threadIdx().x\n",
    "#     k = (blockIdx().y - 1) * blockDim().y + threadIdx().y\n",
    "\n",
    "#     # Limiting data inside matrix\n",
    "#     if i <= size(points, 1) && k <= size(points, 2)\n",
    "\n",
    "#         if idx_cont[t_knn,i] != i && idx_cont[t_knn,i] != 0\n",
    "#             dist = euclidean(points,i,idx_cont[t_knn,i])\n",
    "#             # force[i,k] += cont_par[i]*(points[i,k]-points[idx_cont[t_knn,i],k])/dist\n",
    "#             force[i,k] = cont_par[i]*(points[i,k]-points[idx_cont[t_knn,i],k])/dist\n",
    "#         end\n",
    "\n",
    "#     end\n",
    "#     return nothing\n",
    "# end\n",
    "\n",
    "# global prev_position = copy(points)\n",
    "# # Compute the forces between each pair of particles in `agg` and their displacement.\n",
    "# threads=(16,3)\n",
    "# @cuda(\n",
    "#     threads=threads,\n",
    "#     blocks=(cld.(size(points,1)+1,threads[1]),1),\n",
    "#     sumo_force!(idx,idx_cont,idx_sum,points,force,ParForce,ParCont,dt,t_knn)\n",
    "# )\n",
    "\n",
    "# display(random)\n",
    "# display(force)"
   ]
  },
  {
   "cell_type": "code",
   "execution_count": 131,
   "metadata": {},
   "outputs": [
    {
     "data": {
      "text/plain": [
       "1.9032719f0"
      ]
     },
     "execution_count": 131,
     "metadata": {},
     "output_type": "execute_result"
    }
   ],
   "source": [
    "euclidean(points,1,2)"
   ]
  },
  {
   "cell_type": "code",
   "execution_count": 132,
   "metadata": {},
   "outputs": [
    {
     "data": {
      "text/plain": [
       "1×5008 CuArray{Int64, 2, CUDA.Mem.DeviceBuffer}:\n",
       " 44  32  45  140  7  84  13  219  140  …  5007  5008  5008  4958  4997  5004"
      ]
     },
     "metadata": {},
     "output_type": "display_data"
    }
   ],
   "source": [
    "output = Int.(zeros(size(idx_sum))) |> cu\n",
    "\n",
    "function TESTO!(idx,idx_sum,output)    \n",
    "    i  = (blockIdx().x-1) * blockDim().x + threadIdx().x\n",
    "\n",
    "    if i <= size(idx_sum,2)\n",
    "        random = idx[rand(1:idx_sum[i]),i]\n",
    "        output[i] = random\n",
    "    end\n",
    "    return nothing\n",
    "\n",
    "end\n",
    "\n",
    "threads=(100)\n",
    "@cuda(\n",
    "    threads=threads,\n",
    "    blocks=cld.(size(idx_sum,2),threads),\n",
    "    TESTO!(idx,idx_sum,output)  \n",
    ")\n",
    "\n",
    "display(output)"
   ]
  },
  {
   "cell_type": "code",
   "execution_count": 133,
   "metadata": {},
   "outputs": [],
   "source": [
    "# Par = (1e-2,1.0,2.0)\n",
    "\n",
    "# A = collect(0:0.1:2.1) |> cu\n",
    "# out = zeros(size(A)) |> cu\n",
    "# ForPar  = LennardJones([repeat([Par[i]],size(A,1)) for i=1:size(Par,1)]...) |> cu\n",
    "\n",
    "# function TESTO!(A,out,ForPar)\n",
    "#     i  = (blockIdx().x-1) * blockDim().x + threadIdx().x\n",
    "\n",
    "#     if i <= size(A,1)\n",
    "#         out[i] = force_func(ForPar,i,A[i])\n",
    "#     end\n",
    "#     return nothing\n",
    "# end\n",
    "\n",
    "# # Calculating Distance Matrix\n",
    "# threads=(64)\n",
    "# CUDA.@time @cuda(\n",
    "#     threads=threads,\n",
    "#     blocks=cld.(size(A,1),threads),\n",
    "#     TESTO!(A,out,ForPar)\n",
    "# )\n",
    "# display(out)\n"
   ]
  },
  {
   "attachments": {},
   "cell_type": "markdown",
   "metadata": {},
   "source": [
    "# Run"
   ]
  },
  {
   "attachments": {},
   "cell_type": "markdown",
   "metadata": {},
   "source": [
    "## mini test"
   ]
  },
  {
   "cell_type": "code",
   "execution_count": 134,
   "metadata": {},
   "outputs": [],
   "source": [
    "# J , I = 10 , 5\n",
    "# Neigbor = true\n",
    "\n",
    "# check_data(\"miniTest.xyz\")\n",
    "# open(\"miniTest.xyz\", \"a\") do f\n",
    "#     write(f, \"$(size(points, 1))\\n\")\n",
    "#     write(f, \"t=0\\n\")\n",
    "#     writedlm(f,hcat(outline,Matrix(points)), ' ')\n",
    "# end\n",
    "\n",
    "# for j =1:J\n",
    "#     for i = 1:I\n",
    "#         # Compute the forces between each pair of particles in `agg` and their displacement.\n",
    "#         threads=(16,3)\n",
    "#         @cuda(\n",
    "#             threads=threads,\n",
    "#             blocks=(cld.(size(points,1)+1,threads[1]),1),\n",
    "#             sum_force!(idx,random,idx_sum,points,force,ParForce,ParCont,dt,1)\n",
    "#         )\n",
    "\n",
    "#     end\n",
    "\n",
    "#     if Neigbor == true\n",
    "#         # Calculating Distance Matrix\n",
    "#         threads=(64)\n",
    "#         @cuda(\n",
    "#             threads=threads,\n",
    "#             blocks=cld.(size(points,1),threads),\n",
    "#             dist_kernel!(idx,idx_cont,idx_sum,dist,points,r_max)\n",
    "#         )\n",
    "#     end\n",
    "\n",
    "#     if j%200 == 1\n",
    "#         prev_points = copy(points)\n",
    "#         open(\"miniTest.xyz\", \"a\") do f\n",
    "#             write(f, \"$(size(points, 1))\\n\")\n",
    "#             write(f, \"t=$(j*J)\\n\")\n",
    "#             writedlm(f,hcat(outline,Matrix(points)), ' ')\n",
    "#         end\n",
    "#     end\n",
    "# end\n",
    "\n",
    "# val = 50\n",
    "# println(\"BIG Val        = $(val)\")\n",
    "# println(\"Any BIG value? = $(any(points .> val))\")\n",
    "# println(\"Any Nan Value? = $(any(isnan.(points)))\")\n",
    "# display(points)\n",
    "# display(force)"
   ]
  },
  {
   "attachments": {},
   "cell_type": "markdown",
   "metadata": {},
   "source": [
    "## test"
   ]
  },
  {
   "cell_type": "code",
   "execution_count": 135,
   "metadata": {},
   "outputs": [
    {
     "name": "stderr",
     "output_type": "stream",
     "text": [
      "\u001b[32mForces... 100%|██████████████████████████████████████████| Time: 0:03:55\u001b[39m\n"
     ]
    },
    {
     "data": {
      "text/plain": [
       "1×5008 CuArray{Int32, 2, CUDA.Mem.DeviceBuffer}:\n",
       " 14  13  9  8  13  8  10  7  11  14  …  10  11  13  7  14  13  13  7  12  8"
      ]
     },
     "metadata": {},
     "output_type": "display_data"
    },
    {
     "data": {
      "text/plain": [
       "1000×5008 CuArray{Int32, 2, CUDA.Mem.DeviceBuffer}:\n",
       "  62   43   32   37  304   70   33  …  4941  4940  5000  5007  4958  5005\n",
       "  38   62  219   33   58   53   43     4455  4991  4960  4966  4966  5000\n",
       "   2    1  123   31   10   69    2     4772  4997  4961  4972  4996  4966\n",
       "  44    7  242   13   15   37   37        0  4998  4761  4889  5006  4801\n",
       "  43   33   46   30  121    5  123     4866  4951  4796  4958  5002  5003\n",
       " 263   32   39  121   70  132   32  …  4897  4949  4967  5002  4865  4889\n",
       "  52  123    2    7   84   15    4     4877  4844  5008  4635  4866  4999\n",
       "  33   44   19   49   13   13   31     5000  4999  4959     0  4957  4877\n",
       "   0   38    7    0    9    0  132     4999  4866  5003     0  4972     0\n",
       "  45   47    0    0   69    0    3     5005  4938  4877     0  4997     0\n",
       "   0   19    0    0   37    0    0  …  5008  4992     0     0  4955     0\n",
       "  84    3    0    0   18    0    0     4958  4878  4612     0  4948     0\n",
       " 130  219    0    0    6    0    0     4966     0  4801     0     0     0\n",
       "   ⋮                        ⋮       ⋱                       ⋮        \n",
       "   0    0    0    0    0    0    0        0     0     0     0     0     0\n",
       "   0    0    0    0    0    0    0        0     0     0     0     0     0\n",
       "   0    0    0    0    0    0    0  …     0     0     0     0     0     0\n",
       "   0    0    0    0    0    0    0        0     0     0     0     0     0\n",
       "   0    0    0    0    0    0    0        0     0     0     0     0     0\n",
       "   0    0    0    0    0    0    0        0     0     0     0     0     0\n",
       "   0    0    0    0    0    0    0        0     0     0     0     0     0\n",
       "   0    0    0    0    0    0    0  …     0     0     0     0     0     0\n",
       "   0    0    0    0    0    0    0        0     0     0     0     0     0\n",
       "   0    0    0    0    0    0    0        0     0     0     0     0     0\n",
       "   0    0    0    0    0    0    0        0     0     0     0     0     0\n",
       "   0    0    0    0    0    0    0        0     0     0     0     0     0"
      ]
     },
     "metadata": {},
     "output_type": "display_data"
    },
    {
     "data": {
      "text/plain": [
       "(17, CartesianIndex(1, 585))"
      ]
     },
     "metadata": {},
     "output_type": "display_data"
    }
   ],
   "source": [
    "function run_test()\n",
    "    @showprogress \"Forces...\"  for step::Int=0:tₛᵢₘ/dt\n",
    "\n",
    "        # Saving data in a given time (nₛₐᵥₑ)\n",
    "        if (step % trunc(Int,tₛᵢₘ/nₛₐᵥₑ/dt)) == 1\n",
    "            open(\"Test.xyz\", \"a\") do f\n",
    "                write(f, \"$(size(points, 1))\\n\")\n",
    "                write(f, \"t=$(step*dt)\\n\")\n",
    "                writedlm(f,hcat(outline,Matrix(points)), ' ')\n",
    "            end\n",
    "        end\n",
    "\n",
    "        # Calculating the kNN for the aggregate\n",
    "        t_nₖₙₙ = step % nₖₙₙ+1\n",
    "        if t_nₖₙₙ == 1\n",
    "            \n",
    "            # Calculating Distance Matrix\n",
    "            threads=(100)\n",
    "            @cuda(\n",
    "                threads=threads,\n",
    "                blocks=cld.(size(points,1),threads),\n",
    "                dist_kernel!(idx,idx_cont,idx_sum,dist,points,r_max)\n",
    "            )\n",
    "\n",
    "        end\n",
    "\n",
    "        global prev_position = copy(points)\n",
    "        # Compute the forces between each pair of particles in `agg` and their displacement.\n",
    "        threads=(16,3)\n",
    "        @cuda(\n",
    "            threads=threads,\n",
    "            blocks=(cld.(size(points,1)+1,threads[1]),1),\n",
    "            sum_force!(idx,idx_cont,idx_sum,points,force,ParForce,ParCont,dt,t_nₖₙₙ)\n",
    "        )\n",
    "\n",
    "        # <------------------------------------------ THIS\n",
    "        if any(isnan.(points)) == true \n",
    "        # || any(points .> 1e4) == true\n",
    "            println(\"ERROR t = $(step*dt)\")\n",
    "            println(\"NaN?    = $(any(isnan.(points)))\")\n",
    "            println(\"Big?    = $(any(points .> 1e4))\")\n",
    "            open(\"ErrorInit.xyz\", \"a\") do f\n",
    "                write(f, \"$(Int(size(prev_position, 1)/2))\\n\")\n",
    "                write(f, \"t=$(step * dt)\\n\")\n",
    "                writedlm(f,hcat(outline[1:Int(size(points,1)/2),:],Matrix(points[1:Int(size(points,1)/2),:])), ' ')\n",
    "            end\n",
    "            break\n",
    "        end\n",
    "        # <------------------------------------------ THIS\n",
    "\n",
    "    end \n",
    "\n",
    "end\n",
    "\n",
    "run_test()\n",
    "\n",
    "display(idx_sum)\n",
    "display(idx)\n",
    "display(findmax(idx_sum))"
   ]
  }
 ],
 "metadata": {
  "kernelspec": {
   "display_name": "Julia 1.6.7",
   "language": "julia",
   "name": "julia-1.6"
  },
  "language_info": {
   "file_extension": ".jl",
   "mimetype": "application/julia",
   "name": "julia",
   "version": "1.6.7"
  },
  "orig_nbformat": 4
 },
 "nbformat": 4,
 "nbformat_minor": 2
}
