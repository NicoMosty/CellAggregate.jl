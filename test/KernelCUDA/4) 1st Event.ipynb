{
 "cells": [
  {
   "attachments": {},
   "cell_type": "markdown",
   "metadata": {},
   "source": [
    "# Prev"
   ]
  },
  {
   "attachments": {},
   "cell_type": "markdown",
   "metadata": {},
   "source": [
    "## include"
   ]
  },
  {
   "cell_type": "code",
   "execution_count": 111,
   "metadata": {},
   "outputs": [
    {
     "data": {
      "text/plain": [
       "RunFusionAggregates (generic function with 1 method)"
      ]
     },
     "metadata": {},
     "output_type": "display_data"
    }
   ],
   "source": [
    "include(\"../../src/struct_data.jl\")\n",
    "include(\"../../src/neighbor.jl\")\n",
    "include(\"../../src/forces/forces.jl\")\n",
    "include(\"../../src/run_event.jl\")"
   ]
  },
  {
   "attachments": {},
   "cell_type": "markdown",
   "metadata": {},
   "source": [
    "## model"
   ]
  },
  {
   "cell_type": "code",
   "execution_count": 112,
   "metadata": {},
   "outputs": [
    {
     "data": {
      "text/plain": [
       "ModelSet(TimeModel(150000.0, 0.5, 100, 50), InputModel(0.8, \"../../data/init/Sphere\"), OutputModel(\"Test_1\", \"\"))"
      ]
     },
     "metadata": {},
     "output_type": "display_data"
    }
   ],
   "source": [
    "@time model = ModelSet(\n",
    "    TimeModel(\n",
    "        tₛᵢₘ  = 150000.0,\n",
    "        dt    = 0.5,\n",
    "        nₖₙₙ  = 100,\n",
    "        nₛₐᵥₑ = 50\n",
    "    ),\n",
    "    InputModel(\n",
    "        outer_ratio = 0.8,\n",
    "        path_input  = \"../../data/init/Sphere\"\n",
    "    ),\n",
    "    OutputModel(\n",
    "        name_output = \"Test_1\",\n",
    "        path_output = \"\"\n",
    "    ) \n",
    ")"
   ]
  },
  {
   "attachments": {},
   "cell_type": "markdown",
   "metadata": {},
   "source": [
    "# Run"
   ]
  },
  {
   "attachments": {},
   "cell_type": "markdown",
   "metadata": {},
   "source": [
    "## Some Founded Parameters"
   ]
  },
  {
   "attachments": {},
   "cell_type": "markdown",
   "metadata": {},
   "source": [
    "### Cubic"
   ]
  },
  {
   "cell_type": "code",
   "execution_count": 113,
   "metadata": {},
   "outputs": [],
   "source": [
    "# # Complete (Oriola Contractile Model) -> Normal Vectors of distance between cells without area\n",
    "# Par1, Par2 = Cubic(0.0055,2.0,4.5), ContractilePar(0.162);\n",
    "# Par1, Par2 = Cubic(0.0055,2.0,4.5), ContractilePar(0.166);\n",
    "# Par1, Par2 = Cubic(0.0055,2.0,4.5), ContractilePar(0.164);\n",
    "\n",
    "# # Complete (My model similar to Oriol -> Random Vector without area\n",
    "Par1, Par2 = Cubic(0.02,2.0,4.0), ContractilePar(0.271);\n"
   ]
  },
  {
   "attachments": {},
   "cell_type": "markdown",
   "metadata": {},
   "source": [
    "## Fusion Agg"
   ]
  },
  {
   "cell_type": "code",
   "execution_count": 114,
   "metadata": {},
   "outputs": [
    {
     "data": {
      "text/plain": [
       "1×5008 CuArray{Int32, 2, CUDA.Mem.DeviceBuffer}:\n",
       " 14  14  14  16  9  17  10  16  15  15  …  14  14  14  9  12  11  12  14  14"
      ]
     },
     "metadata": {},
     "output_type": "display_data"
    },
    {
     "data": {
      "text/plain": [
       "1000×5008 CuArray{Int32, 2, CUDA.Mem.DeviceBuffer}:\n",
       " 1393   772  1312  3165   462  1510  …  2434  4932  3986  4998  2832  3920\n",
       "  449  1409   285  1037    31   259     1177  3311  4501  4900  4432  4202\n",
       " 1445  1218   496   680   641   825     4768  4353  4366  3507  3025  3605\n",
       "  274   248   675  1047  1420   281     2094  4967  4084  4669  3214  4849\n",
       "   84   828  2133   389   162    47     1693  4587  4979  4989  4361  4518\n",
       "  806   197   148    85   213  1281  …  2086  4239  3709  4290  3678  4929\n",
       "  469  3862   185   853    24  1237     4286  4397  4252  4786  3191  4978\n",
       " 1573  1404    72  3950   596    11     1953  4499  4880  3089  4477  3720\n",
       " 2762  3547   488   628     0   811     2391  3666  4151  4598  4369  4322\n",
       " 1652  1641   710  2789     0   303        0  3604  4208  4096  4613  3698\n",
       "    ⋮                             ⋮  ⋱                       ⋮        \n",
       "    0     0     0     0     0     0        0     0     0     0     0     0\n",
       "    0     0     0     0     0     0        0     0     0     0     0     0\n",
       "    0     0     0     0     0     0        0     0     0     0     0     0\n",
       "    0     0     0     0     0     0        0     0     0     0     0     0\n",
       "    0     0     0     0     0     0  …     0     0     0     0     0     0\n",
       "    0     0     0     0     0     0        0     0     0     0     0     0\n",
       "    0     0     0     0     0     0        0     0     0     0     0     0\n",
       "    0     0     0     0     0     0        0     0     0     0     0     0\n",
       "    0     0     0     0     0     0        0     0     0     0     0     0"
      ]
     },
     "metadata": {},
     "output_type": "display_data"
    },
    {
     "data": {
      "text/plain": [
       "(19, CartesianIndex(1, 41))"
      ]
     },
     "metadata": {},
     "output_type": "display_data"
    }
   ],
   "source": [
    "# Checking temp data for store\n",
    "check_data(\"Test.xyz\")\n",
    "check_data(\"ErrorInit.xyz\")\n",
    "\n",
    "# Run Model\n",
    "Par1, Par2 = Cubic(0.02,2.0,4.0), ContractilePar(0.271);\n",
    "RunFusionAggregates(model::ModelSet, Par1, Par2, 15)"
   ]
  },
  {
   "attachments": {},
   "cell_type": "markdown",
   "metadata": {},
   "source": [
    "# review"
   ]
  },
  {
   "attachments": {},
   "cell_type": "markdown",
   "metadata": {},
   "source": [
    "## mini test"
   ]
  },
  {
   "cell_type": "code",
   "execution_count": 115,
   "metadata": {},
   "outputs": [],
   "source": [
    "# J , I = 10 , 5\n",
    "# Neigbor = true\n",
    "\n",
    "# check_data(\"miniTest.xyz\")\n",
    "# open(\"miniTest.xyz\", \"a\") do f\n",
    "#     write(f, \"$(size(points, 1))\\n\")\n",
    "#     write(f, \"t=0\\n\")\n",
    "#     writedlm(f,hcat(outline,Matrix(points)), ' ')\n",
    "# end\n",
    "\n",
    "# for j =1:J\n",
    "#     for i = 1:I\n",
    "#         # Compute the forces between each pair of particles in `agg` and their displacement.\n",
    "#         threads=(16,3)\n",
    "#         @cuda(\n",
    "#             threads=threads,\n",
    "#             blocks=(cld.(size(points,1)+1,threads[1]),1),\n",
    "#             sum_force!(idx,random,idx_sum,points,force,ParForce,ParCont,dt,1)\n",
    "#         )\n",
    "\n",
    "#     end\n",
    "\n",
    "#     if Neigbor == true\n",
    "#         # Calculating Distance Matrix\n",
    "#         threads=(64)\n",
    "#         @cuda(\n",
    "#             threads=threads,\n",
    "#             blocks=cld.(size(points,1),threads),\n",
    "#             dist_kernel!(idx,idx_cont,idx_sum,dist,points,r_max)\n",
    "#         )\n",
    "#     end\n",
    "\n",
    "#     if j%200 == 1\n",
    "#         prev_points = copy(points)\n",
    "#         open(\"miniTest.xyz\", \"a\") do f\n",
    "#             write(f, \"$(size(points, 1))\\n\")\n",
    "#             write(f, \"t=$(j*J)\\n\")\n",
    "#             writedlm(f,hcat(outline,Matrix(points)), ' ')\n",
    "#         end\n",
    "#     end\n",
    "# end\n",
    "\n",
    "# val = 50\n",
    "# println(\"BIG Val        = $(val)\")\n",
    "# println(\"Any BIG value? = $(any(points .> val))\")\n",
    "# println(\"Any Nan Value? = $(any(isnan.(points)))\")\n",
    "# display(points)\n",
    "# display(force)"
   ]
  }
 ],
 "metadata": {
  "kernelspec": {
   "display_name": "Julia 1.6.7",
   "language": "julia",
   "name": "julia-1.6"
  },
  "language_info": {
   "file_extension": ".jl",
   "mimetype": "application/julia",
   "name": "julia",
   "version": "1.6.7"
  },
  "orig_nbformat": 4
 },
 "nbformat": 4,
 "nbformat_minor": 2
}
