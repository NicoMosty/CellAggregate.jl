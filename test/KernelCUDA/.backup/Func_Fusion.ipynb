{
 "cells": [
  {
   "cell_type": "markdown",
   "metadata": {},
   "source": [
    "# Adding Dependeces"
   ]
  },
  {
   "cell_type": "code",
   "execution_count": 322,
   "metadata": {},
   "outputs": [
    {
     "data": {
      "text/plain": [
       "fusion (generic function with 2 methods)"
      ]
     },
     "execution_count": 322,
     "metadata": {},
     "output_type": "execute_result"
    }
   ],
   "source": [
    "include(\"../../src/test.jl\")\n",
    "include(\"../../src/forces.jl\")\n",
    "include(\"../../src/neighbor.jl\")\n",
    "include(\"../../src/run_event.jl\")"
   ]
  },
  {
   "cell_type": "markdown",
   "metadata": {},
   "source": [
    "# Initial Conditions"
   ]
  },
  {
   "cell_type": "code",
   "execution_count": 323,
   "metadata": {},
   "outputs": [
    {
     "data": {
      "text/plain": [
       "1"
      ]
     },
     "execution_count": 323,
     "metadata": {},
     "output_type": "execute_result"
    }
   ],
   "source": [
    "# Running fusion of the two aggregates\n",
    "# Physical Conditions\n",
    "# q = 4\n",
    "# R_agg = \"Cube($(q))\"\n",
    "R_agg = 10\n",
    "\n",
    "# Time model Conditions\n",
    "T_f = 100000\n",
    "dt = 0.1\n",
    "\n",
    "# Neighbor Conditions\n",
    "n_knn = 50\n",
    "nn = 12\n",
    "\n",
    "# Forces Conditions\n",
    "R_Max = 3.0\n",
    "Fp = 0.000005\n",
    "K_array = 0.05\n",
    "s = 2.0\n",
    "\n",
    "# Coding C0nditions\n",
    "n_text = 200\n",
    "num_agg = 1"
   ]
  },
  {
   "cell_type": "code",
   "execution_count": 324,
   "metadata": {},
   "outputs": [],
   "source": [
    "# X = hcat(\n",
    "#     reshape(repeat(collect(1.0:2.0:2*q)', outer=q^2),1,q^3)',\n",
    "#     repeat(\n",
    "#         vcat(\n",
    "#             reshape(repeat(collect(1.0:2.0:2*q)', outer=q),1,q^2),\n",
    "#             reshape(repeat(collect(1.0:2.0:2*q)', outer=q)',1,q^2)\n",
    "#         )',q\n",
    "#     )\n",
    "# ) |> cu"
   ]
  },
  {
   "cell_type": "code",
   "execution_count": 325,
   "metadata": {},
   "outputs": [
    {
     "name": "stdout",
     "output_type": "stream",
     "text": [
      "---------------------------------------------------------------\n",
      "Calculating T_Final=100000 | R_Max = 3.0 | fp = 5.0e-6 | k = 0.05 \n",
      " for 1 Aggregate\n",
      "Finding Equilibrium in one Aggregate\n"
     ]
    },
    {
     "name": "stderr",
     "output_type": "stream",
     "text": [
      "\u001b[32mProgress: 100%|█████████████████████████| Time: 0:04:19\u001b[39m\n"
     ]
    }
   ],
   "source": [
    "# Testing all the conditions of the fusion\n",
    "for t_f in T_f\n",
    "    for r_max in R_Max\n",
    "        for fp in Fp\n",
    "            for K in K_array\n",
    "                # Initial Data\n",
    "                X = Float32.(readdlm(\"../../data/init/Sphere/$R_agg.xyz\")[3:end,2:end]) |> cu\n",
    "\n",
    "                # Generating the Path\n",
    "                if num_agg == 1\n",
    "                    Path = \"../../results/OneAgg/R_Agg($(R_agg))/T_$(t_f)/fp_($(fp))/K_($(K))\"\n",
    "                else\n",
    "                    Path = \"../../results/TwoAgg/R_Agg($(R_agg))/T_$(t_f)/fp_($(fp))/K_($(K))\"\n",
    "                end\n",
    "                File = \"tf_($(t_f))|s=($(s))|fp_($(fp))|K_($(K))|rmax_$(r_max)|_GPU.xyz\"\n",
    "\n",
    "                for p in 4:8 # p is the position every folder on the path\n",
    "                    if !isdir(join(split(Path, \"/\")[1:p],\"/\")) \n",
    "                        mkdir(join(split(Path, \"/\")[1:p],\"/\")) \n",
    "                    end\n",
    "                end\n",
    "\n",
    "                # # Calculating all above\n",
    "                println(\"---------------------------------------------------------------\")\n",
    "                if num_agg == 1\n",
    "                    println(\"Calculating T_Final=$(t_f) | R_Max = $(r_max) | fp = $(fp) | k = $(K) \\n for $(num_agg) Aggregate\")\n",
    "                else\n",
    "                    println(\"Calculating T_Final=$(t_f) | R_Max = $(r_max) | fp = $(fp) | k = $(K) \\n for $(num_agg) Aggregates\")\n",
    "                end\n",
    "                if File in readdir(Path)\n",
    "                    if countlines(Path*\"/\"*File) < (2*size(X,1)+2)*(n_text+1)\n",
    "                        println(\"Calculated with less data. Recalculating\")\n",
    "                        rm(Path*\"/\"*File)\n",
    "                        if num_agg == 1\n",
    "                            one_aggregate(Path*\"/\"*File,true,n_text,t_f, r_max, fp, K, R_agg)\n",
    "                        else\n",
    "                            fusion(Path*\"/\"*File,n_text,true,t_f, r_max, fp, K, R_agg)\n",
    "                        end\n",
    "                    else\n",
    "                        println(\"This is already calculated\")           \n",
    "                    end\n",
    "                else\n",
    "                    if num_agg == 1\n",
    "                        one_aggregate(Path*\"/\"*File,true,n_text,t_f, r_max, fp, K, R_agg)\n",
    "                    else\n",
    "                        fusion(Path*\"/\"*File,true,n_text,t_f, r_max, fp, K, R_agg)\n",
    "                    end\n",
    "                end\n",
    "            end\n",
    "        end\n",
    "    end\n",
    "end"
   ]
  },
  {
   "cell_type": "code",
   "execution_count": 326,
   "metadata": {},
   "outputs": [
    {
     "data": {
      "text/plain": [
       "3-element Vector{Float64}:\n",
       " 2.6\n",
       " 2.8\n",
       " 3.0"
      ]
     },
     "execution_count": 326,
     "metadata": {},
     "output_type": "execute_result"
    }
   ],
   "source": [
    "f = collect(0.0:0.03:0.1)\n",
    "ka = collect(0.005:0.006:0.032)\n",
    "collect(2.6:0.2:3.0)\n",
    "# rmex = "
   ]
  }
 ],
 "metadata": {
  "kernelspec": {
   "display_name": "Julia 1.6.7",
   "language": "julia",
   "name": "julia-1.6"
  },
  "language_info": {
   "file_extension": ".jl",
   "mimetype": "application/julia",
   "name": "julia",
   "version": "1.6.7"
  },
  "orig_nbformat": 4,
  "vscode": {
   "interpreter": {
    "hash": "916dbcbb3f70747c44a77c7bcd40155683ae19c65e1c03b4aa3499c5328201f1"
   }
  }
 },
 "nbformat": 4,
 "nbformat_minor": 2
}
