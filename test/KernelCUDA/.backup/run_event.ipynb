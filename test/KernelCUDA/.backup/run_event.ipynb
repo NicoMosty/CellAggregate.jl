{
 "cells": [
  {
   "cell_type": "markdown",
   "metadata": {},
   "source": [
    "# Add Dependences"
   ]
  },
  {
   "cell_type": "code",
   "execution_count": 10,
   "metadata": {},
   "outputs": [
    {
     "data": {
      "text/plain": [
       "force_func (generic function with 1 method)"
      ]
     },
     "execution_count": 10,
     "metadata": {},
     "output_type": "execute_result"
    }
   ],
   "source": [
    "include(\"../../src/forces_func.jl\")\n",
    "include(\"../../src/struct_data.jl\")\n",
    "include(\"../../src/test.jl\")\n",
    "include(\"../../src/forces.jl\")\n",
    "include(\"../../src/neighbor.jl\")\n",
    "include(\"../../src/run_event.jl\")\n",
    "\n",
    "@make_struct_func Cubic"
   ]
  },
  {
   "cell_type": "markdown",
   "metadata": {},
   "source": [
    "# Add Data"
   ]
  },
  {
   "cell_type": "code",
   "execution_count": 11,
   "metadata": {},
   "outputs": [
    {
     "data": {
      "text/plain": [
       "Model(Cubic(0.0005, 2.0, 3.0), Contractile(0.001), Time(100000.0, 0.1), Neighbor(100, 100), Geometry(9.0, [1.0 0.0 0.0; 0.0 1.0 0.0]), Simulation(200, \"Fusion.xyz\"))"
      ]
     },
     "execution_count": 11,
     "metadata": {},
     "output_type": "execute_result"
    }
   ],
   "source": [
    "parameters = Model(\n",
    "    Cubic(\n",
    "        μ₁      = 0.0005,\n",
    "        rₘᵢₙ    = 2,\n",
    "        rₘₐₓ    = 3\n",
    "    ),\n",
    "    Contractile(\n",
    "        fₚ       = 0.001\n",
    "    ),\n",
    "    Time(\n",
    "        t_f      = 100000, \n",
    "        dt       = 0.1\n",
    "    ),\n",
    "    Neighbor(\n",
    "        n_knn    = 100,\n",
    "        nn       = 100\n",
    "    ),\n",
    "    Geometry(\n",
    "        R_agg    = 9,\n",
    "        position = [\n",
    "            1.0    0.0    0.0;\n",
    "            0.0    1.0    0.0\n",
    "        ]\n",
    "    ),\n",
    "    Simulation(\n",
    "        n_text   = 200,\n",
    "        path     = \"Fusion.xyz\"\n",
    "    )\n",
    ")"
   ]
  },
  {
   "cell_type": "code",
   "execution_count": 12,
   "metadata": {},
   "outputs": [
    {
     "name": "stdout",
     "output_type": "stream",
     "text": [
      "\n",
      " Loading Force Function\n",
      "  0.000049 seconds (17 CPU allocations: 1.227 KiB)\n"
     ]
    },
    {
     "data": {
      "text/plain": [
       "force (generic function with 1 method)"
      ]
     },
     "execution_count": 12,
     "metadata": {},
     "output_type": "execute_result"
    }
   ],
   "source": [
    "# Variables for iterator\n",
    "it_force = Cubic(\n",
    "    μ₁      = 0.1,\n",
    "    rₘᵢₙ    = 2,\n",
    "    rₘₐₓ    = 3\n",
    ")\n",
    "it_contractile = Contractile(\n",
    "    fₚ      = 0.0000001\n",
    ")\n",
    "\n",
    "## Var before Iterator\n",
    "println(\"\\n Loading Force Function\")\n",
    "CUDA.@time force(r) =  force_func(it_force::Cubic, r)"
   ]
  },
  {
   "cell_type": "markdown",
   "metadata": {},
   "source": [
    "## Starting Data"
   ]
  },
  {
   "cell_type": "code",
   "execution_count": 14,
   "metadata": {},
   "outputs": [
    {
     "name": "stdout",
     "output_type": "stream",
     "text": [
      "  0.009002 seconds (8.06 k CPU allocations: 317.703 KiB) (1 GPU allocation: 6.305 KiB, 0.33% memmgmt time)\n",
      "  0.280172 seconds (353.68 k CPU allocations: 21.009 MiB) (13 GPU allocations: 4.819 MiB, 0.13% memmgmt time)\n"
     ]
    }
   ],
   "source": [
    "# Generating Struct\n",
    "CUDA.@time Agg = (\n",
    "    Aggregate(\n",
    "        Neighbor(50, 12), \n",
    "        PositionCell(\n",
    "            # Loading Data\n",
    "            CUDA.@time  X = Float32.(readdlm(\"../../data/init/Sphere/$(Int(parameters.Geometry.R_agg)).xyz\")[3:end,2:end]) |> cu\n",
    "        )\n",
    "    )\n",
    ");"
   ]
  },
  {
   "cell_type": "markdown",
   "metadata": {},
   "source": [
    "## run_event -> one_aggregate"
   ]
  },
  {
   "cell_type": "code",
   "execution_count": 15,
   "metadata": {},
   "outputs": [],
   "source": [
    "# # Simulation One Aggregate\n",
    "# CUDA.@time one_aggregate(Path*\"/\"*File, true, parameters, it_contractile, Agg)"
   ]
  },
  {
   "cell_type": "markdown",
   "metadata": {},
   "source": [
    "## run_event -> fusion"
   ]
  },
  {
   "cell_type": "code",
   "execution_count": 16,
   "metadata": {},
   "outputs": [
    {
     "name": "stdout",
     "output_type": "stream",
     "text": [
      "Finding Equilibrium in one Aggregate\n"
     ]
    },
    {
     "name": "stderr",
     "output_type": "stream",
     "text": [
      "\u001b[32mProgress:   2%|▋                        |  ETA: 1:19:16\u001b[39mm46\u001b[39mm"
     ]
    },
    {
     "ename": "LoadError",
     "evalue": "InterruptException:",
     "output_type": "error",
     "traceback": [
      "InterruptException:",
      "",
      "Stacktrace:",
      "  [1] nonblocking_synchronize",
      "    @ ~/.julia/packages/CUDA/DfvRa/lib/cudadrv/stream.jl:148 [inlined]",
      "  [2] (::CUDA.var\"#183#184\"{CartesianIndex{2}, Vector{CartesianIndex{2}}, Int64, CuArray{CartesianIndex{2}, 1, CUDA.Mem.DeviceBuffer}, Int64, Int64})()",
      "    @ CUDA ~/.julia/packages/CUDA/DfvRa/src/array.jl:410",
      "  [3] #context!#63",
      "    @ ~/.julia/packages/CUDA/DfvRa/lib/cudadrv/state.jl:164 [inlined]",
      "  [4] context!",
      "    @ ~/.julia/packages/CUDA/DfvRa/lib/cudadrv/state.jl:161 [inlined]",
      "  [5] unsafe_copyto!(dest::Vector{CartesianIndex{2}}, doffs::Int64, src::CuArray{CartesianIndex{2}, 1, CUDA.Mem.DeviceBuffer}, soffs::Int64, n::Int64)",
      "    @ CUDA ~/.julia/packages/CUDA/DfvRa/src/array.jl:406",
      "  [6] copyto!",
      "    @ ~/.julia/packages/CUDA/DfvRa/src/array.jl:360 [inlined]",
      "  [7] copyto!",
      "    @ ~/.julia/packages/CUDA/DfvRa/src/array.jl:364 [inlined]",
      "  [8] copyto_axcheck!",
      "    @ ./abstractarray.jl:1056 [inlined]",
      "  [9] Vector{CartesianIndex{2}}(x::CuArray{CartesianIndex{2}, 1, CUDA.Mem.DeviceBuffer})",
      "    @ Base ./array.jl:540",
      " [10] Array",
      "    @ ./boot.jl:472 [inlined]",
      " [11] convert",
      "    @ ./array.jl:532 [inlined]",
      " [12] adapt_storage",
      "    @ ~/.julia/packages/CUDA/DfvRa/src/array.jl:652 [inlined]",
      " [13] adapt_structure",
      "    @ ~/.julia/packages/Adapt/LAQOx/src/Adapt.jl:57 [inlined]",
      " [14] adapt",
      "    @ ~/.julia/packages/Adapt/LAQOx/src/Adapt.jl:40 [inlined]",
      " [15] #194",
      "    @ ~/.julia/packages/CUDA/DfvRa/src/array.jl:659 [inlined]",
      " [16] map",
      "    @ ./tuple.jl:213 [inlined]",
      " [17] view",
      "    @ ~/.julia/packages/CUDA/DfvRa/src/array.jl:659 [inlined]",
      " [18] maybeview",
      "    @ ./views.jl:133 [inlined]",
      " [19] dotview(::CuArray{Float64, 2, CUDA.Mem.DeviceBuffer}, ::CuArray{CartesianIndex{2}, 1, CUDA.Mem.DeviceBuffer})",
      "    @ Base.Broadcast ./broadcast.jl:1212",
      " [20] cu_knn(Agg::Aggregate)",
      "    @ Main ~/Documentos/Maestria-GitHub/CellAggregate.jl/src/neighbor.jl:49",
      " [21] simulate(SAVING::Bool, m::Model, c::Contractile, Agg::Aggregate)",
      "    @ Main ~/Documentos/Maestria-GitHub/CellAggregate.jl/src/run_event.jl:42",
      " [22] fusion(SAVING::Bool, m::Model, c::Contractile, Agg::Aggregate)",
      "    @ Main ~/Documentos/Maestria-GitHub/CellAggregate.jl/src/run_event.jl:87",
      " [23] macro expansion",
      "    @ ~/.julia/packages/CUDA/DfvRa/src/utilities.jl:25 [inlined]",
      " [24] top-level scope",
      "    @ ~/.julia/packages/CUDA/DfvRa/src/pool.jl:490 [inlined]",
      " [25] top-level scope",
      "    @ ./In[16]:0",
      " [26] eval",
      "    @ ./boot.jl:360 [inlined]",
      " [27] include_string(mapexpr::typeof(REPL.softscope), mod::Module, code::String, filename::String)",
      "    @ Base ./loading.jl:1116"
     ]
    }
   ],
   "source": [
    "# Simulating Two Aggregate\n",
    "CUDA.@time fusion(Path*\"/\"*File, true, parameters, it_contractile, Agg)"
   ]
  }
 ],
 "metadata": {
  "kernelspec": {
   "display_name": "Julia 1.6.7",
   "language": "julia",
   "name": "julia-1.6"
  },
  "language_info": {
   "file_extension": ".jl",
   "mimetype": "application/julia",
   "name": "julia",
   "version": "1.6.7"
  },
  "orig_nbformat": 4,
  "vscode": {
   "interpreter": {
    "hash": "916dbcbb3f70747c44a77c7bcd40155683ae19c65e1c03b4aa3499c5328201f1"
   }
  }
 },
 "nbformat": 4,
 "nbformat_minor": 2
}
