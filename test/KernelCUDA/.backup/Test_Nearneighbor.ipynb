{
 "cells": [
  {
   "cell_type": "markdown",
   "metadata": {},
   "source": [
    "# Installing Dependencies"
   ]
  },
  {
   "cell_type": "code",
   "execution_count": 24,
   "metadata": {},
   "outputs": [],
   "source": [
    "using DelimitedFiles\n",
    "using NearestNeighbors: knn, KDTree, BruteTree, BallTree\n",
    "using LinearAlgebra: norm\n",
    "using CUDA"
   ]
  },
  {
   "cell_type": "markdown",
   "metadata": {},
   "source": [
    "# Initial Conditions"
   ]
  },
  {
   "cell_type": "code",
   "execution_count": 25,
   "metadata": {},
   "outputs": [
    {
     "name": "stdout",
     "output_type": "stream",
     "text": [
      "  0.024195 seconds (565.10 k allocations: 15.185 MiB, 32.50% gc time)\n"
     ]
    }
   ],
   "source": [
    "R_Agg = 16\n",
    "t, t_knn = 0, 10\n",
    "\n",
    "@time X = readdlm(\"../data/Init/Two_Sphere/$R_Agg.csv\", ',', Float64, header=true)[1][:, 1:3];"
   ]
  },
  {
   "cell_type": "markdown",
   "metadata": {},
   "source": [
    "# kNN"
   ]
  },
  {
   "cell_type": "code",
   "execution_count": 58,
   "metadata": {},
   "outputs": [
    {
     "name": "stdout",
     "output_type": "stream",
     "text": [
      "Generating Trees\n",
      "  0.000092 seconds (7 allocations: 142.281 KiB)\n",
      "  0.000924 seconds (29 allocations: 399.188 KiB)\n",
      "  0.001466 seconds (28 allocations: 418.047 KiB)\n",
      "Generating One index array\n",
      "  0.000091 seconds (7 allocations: 544 bytes)\n",
      "  0.000020 seconds (7 allocations: 544 bytes)\n",
      "  0.000035 seconds (7 allocations: 544 bytes)\n"
     ]
    }
   ],
   "source": [
    "println(\"Generating Trees\")\n",
    "@time brutetree = BruteTree(X')\n",
    "@time kdtree = KDTree(X')\n",
    "@time balltree = BallTree(X')\n",
    "\n",
    "i=1\n",
    "println(\"Generating One index array\")\n",
    "@time idxs, _ = knn(brutetree, X[i,:], 14, true)\n",
    "@time idxs, _ = knn(kdtree, X[i,:], 14, true)\n",
    "@time idxs, _ = knn(balltree, X[i,:], 14, true);"
   ]
  },
  {
   "cell_type": "code",
   "execution_count": 60,
   "metadata": {},
   "outputs": [
    {
     "name": "stdout",
     "output_type": "stream",
     "text": [
      "  0.000075 seconds (29 allocations: 2.390 KiB)\n",
      "  0.000029 seconds (29 allocations: 2.401 KiB)\n",
      "  0.000021 seconds (29 allocations: 2.403 KiB)\n"
     ]
    },
    {
     "data": {
      "text/plain": [
       "NearNeighbor_Ball (generic function with 1 method)"
      ]
     },
     "metadata": {},
     "output_type": "display_data"
    }
   ],
   "source": [
    "@time function NearNeighbor_Brute(X, t, t_knn)\n",
    "    # Using kNN for Nearest Neighbors\n",
    "    if t%t_knn | t == 0\n",
    "        global brutetree = BruteTree(X')\n",
    "    end \n",
    "\n",
    "    # Loop over all cells to compute displacements\n",
    "    index, _ = knn(brutetree, X[1,:], 14, true)\n",
    "    for i in 2:size(X)[1]\n",
    "        # Scan neighbours\n",
    "        global idxs, _ = knn(brutetree, X[i,:], 14, true)\n",
    "        index = hcat(index, idxs)\n",
    "\n",
    "    end\n",
    "    return index\n",
    "end\n",
    "\n",
    "@time function NearNeighbor_KD(X, t, t_knn)\n",
    "    # Using kNN for Nearest Neighbors\n",
    "    if t%t_knn | t == 0\n",
    "        global kdtree = KDTree(X')\n",
    "    end \n",
    "\n",
    "    # Loop over all cells to compute displacements\n",
    "    index, _ = knn(kdtree, X[1,:], 14, true)\n",
    "    for i in 2:size(X)[1]\n",
    "        # Scan neighbours\n",
    "        global idxs, _ = knn(kdtree, X[i,:], 14, true)\n",
    "        index = hcat(index, idxs)\n",
    "\n",
    "    end\n",
    "    return index\n",
    "end\n",
    "\n",
    "@time function NearNeighbor_Ball(X, t, t_knn)\n",
    "    # Using kNN for Nearest Neighbors\n",
    "    if t%t_knn | t == 0\n",
    "        global balltree = BallTree(X')\n",
    "    end \n",
    "\n",
    "    # Loop over all cells to compute displacements\n",
    "    index, _ = knn(balltree, X[1,:], 14, true)\n",
    "    for i in 2:size(X)[1]\n",
    "        # Scan neighbours\n",
    "        global idxs, _ = knn(balltree, X[i,:], 14, true)\n",
    "        index = hcat(index, idxs)\n",
    "\n",
    "    end\n",
    "    return index\n",
    "end"
   ]
  },
  {
   "cell_type": "code",
   "execution_count": 76,
   "metadata": {},
   "outputs": [
    {
     "name": "stdout",
     "output_type": "stream",
     "text": [
      "  0.706148 seconds (36.24 k allocations: 1.921 GiB, 2.62% gc time)\n"
     ]
    },
    {
     "data": {
      "text/plain": [
       "14×6064 Matrix{Int64}:\n",
       "   1    2    3    4    5    6    7  …  6059  6060  6061  6062  6063  6064\n",
       "  25   26   27   41   42   42   44     6024  6024  6025  6038  6039  6040\n",
       "  32   33   35   40   41   43   43     6023  6025  6026  6030  6031  6033\n",
       "  33   34   34    9   10   10   11     6055  6056  6057  6031  6032  6032\n",
       "   2    3    2    8    9   11    6     6056  6057  6060  6063  6064  6063\n",
       "   5    1    7    5    4    7   35  …  6060  6059  6033  6059  6062  6061\n",
       "   4    5    6   32    6    5    3     6058  6061  6064  6058  6060  6060\n",
       "  26    6   28    1   33   34   51     6031  6032  6017  6037  6059  6039\n",
       "  24   27   26   48    2    3   36     6062  6063  6032  6039  6040  6041\n",
       "  41   25   43   33    1    2   34     6063  6064  6034  6023  6038  6025\n",
       " 102   42  104   31   49   50  114  …  6015  6016  5954  5962  6024  5964\n",
       "  19  103   21  111   34   33   50     6032  6031  6018  6045  5963  6047\n",
       "  20   20   22   49   32   35   52     6030  6033  6016  6044  6046  6046\n",
       "  40   21   42   47  112  113   45     5952  5953  6027  6022  6045  6024"
      ]
     },
     "metadata": {},
     "output_type": "display_data"
    }
   ],
   "source": [
    "@time idx = NearNeighbor_Brute(X, t, t_knn)"
   ]
  },
  {
   "cell_type": "code",
   "execution_count": 78,
   "metadata": {},
   "outputs": [
    {
     "name": "stdout",
     "output_type": "stream",
     "text": [
      "  0.226111 seconds (36.27 k allocations: 1.922 GiB, 9.37% gc time)\n"
     ]
    },
    {
     "data": {
      "text/plain": [
       "14×6064 Matrix{Int64}:\n",
       "   1    2    3    4    5    6    7  …  6059  6060  6061  6062  6063  6064\n",
       "  25   26   27   40   42   43   44     6024  6025  6026  6038  6039  6040\n",
       "  33   33   35   41   41   42   43     6023  6024  6025  6030  6031  6033\n",
       "  32   34   34    9    9   10   11     6055  6057  6057  6031  6032  6032\n",
       "   2    3    2    8   10   11    6     6056  6056  6060  6063  6064  6063\n",
       "   4    1    6    5    4    5   35  …  6058  6061  6033  6059  6062  6061\n",
       "   5    6    7   32    6    7    3     6060  6059  6064  6058  6060  6060\n",
       "  24    5   26    1   33   34   51     6031  6032  6017  6037  6059  6039\n",
       "  26   25   28   48    2    3   34     6062  6063  6034  6039  6038  6041\n",
       "  41   27   43   33    1    2   36     6063  6064  6032  6023  6040  6025\n",
       " 102   42  104   31   49   50  114  …  6015  6016  5954  5962  6024  5964\n",
       "  20  103   22  111   34   35   52     6030  6033  6018  6045  5963  6047\n",
       "  19   20   21   47   32   33   50     6032  6031  6016  6044  6045  6046\n",
       "  42   21   44   49  112  113   42     5952  5953  6027  6024  6046  6026"
      ]
     },
     "metadata": {},
     "output_type": "display_data"
    }
   ],
   "source": [
    "@time idx = NearNeighbor_KD(X, t, t_knn)"
   ]
  },
  {
   "cell_type": "code",
   "execution_count": 80,
   "metadata": {},
   "outputs": [
    {
     "name": "stdout",
     "output_type": "stream",
     "text": [
      "  0.247762 seconds (36.27 k allocations: 1.922 GiB, 7.34% gc time)\n"
     ]
    },
    {
     "data": {
      "text/plain": [
       "14×6064 Matrix{Int64}:\n",
       "   1    2    3    4    5    6    7  …  6059  6060  6061  6062  6063  6064\n",
       "  25   26   27   41   42   43   44     6024  6025  6026  6038  6039  6040\n",
       "  33   33   35   40   41   42   43     6023  6024  6025  6031  6032  6033\n",
       "  32   34   34    8    9   11   11     6056  6056  6057  6030  6031  6032\n",
       "   2    3    2    9   10   10    6     6055  6057  6060  6063  6062  6063\n",
       "   5    1    6    5    4    7   35  …  6058  6059  6033  6058  6064  6061\n",
       "   4    5    7   32    6    5    3     6060  6061  6064  6059  6060  6060\n",
       "  26    6   28    1   33   34   51     6031  6032  6017  6039  6059  6039\n",
       "  24   27   26   48    2    3   36     6062  6063  6034  6037  6038  6041\n",
       "  41   25   43   31    1    2   34     6063  6064  6032  6023  6040  6025\n",
       " 102   42  104   33   49   50  114  …  6015  6016  5954  5962  6024  5964\n",
       "  20  103   22  111   34   35   52     6030  6033  6018  6045  5963  6047\n",
       "  19   21   21   49   32   33   50     6032  6031  6016  6044  6045  6046\n",
       "  42   20   44   47  112  113   42     5952  5953  6027  6024  6046  6026"
      ]
     },
     "metadata": {},
     "output_type": "display_data"
    }
   ],
   "source": [
    "@time idx = NearNeighbor_Ball(X, t, t_knn)"
   ]
  }
 ],
 "metadata": {
  "kernelspec": {
   "display_name": "Julia 1.7.3",
   "language": "julia",
   "name": "julia-1.7"
  },
  "language_info": {
   "file_extension": ".jl",
   "mimetype": "application/julia",
   "name": "julia",
   "version": "1.7.3"
  },
  "orig_nbformat": 4,
  "vscode": {
   "interpreter": {
    "hash": "916dbcbb3f70747c44a77c7bcd40155683ae19c65e1c03b4aa3499c5328201f1"
   }
  }
 },
 "nbformat": 4,
 "nbformat_minor": 2
}
