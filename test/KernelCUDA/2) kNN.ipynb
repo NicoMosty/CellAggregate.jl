{
 "cells": [
  {
   "cell_type": "markdown",
   "metadata": {},
   "source": [
    "# Dependences"
   ]
  },
  {
   "cell_type": "code",
   "execution_count": 9,
   "metadata": {},
   "outputs": [
    {
     "data": {
      "text/plain": [
       "nearest_neighbors (generic function with 1 method)"
      ]
     },
     "execution_count": 9,
     "metadata": {},
     "output_type": "execute_result"
    }
   ],
   "source": [
    "include(\"../../src/struct_data.jl\")\n",
    "include(\"../../src/neighbor.jl\")"
   ]
  },
  {
   "attachments": {},
   "cell_type": "markdown",
   "metadata": {},
   "source": [
    "# Input Data"
   ]
  },
  {
   "attachments": {},
   "cell_type": "markdown",
   "metadata": {},
   "source": [
    "## Model Parameter"
   ]
  },
  {
   "cell_type": "code",
   "execution_count": 10,
   "metadata": {},
   "outputs": [
    {
     "name": "stdout",
     "output_type": "stream",
     "text": [
      "  0.000001 seconds (3 allocations: 112 bytes)\n",
      "ModelSet\n",
      "  Time: TimeModel\n",
      "    tₛᵢₘ: Float64 10000.0\n",
      "    dt: Float64 0.5\n",
      "    nₖₙₙ: Int64 50\n",
      "    nₛₐᵥₑ: Int64 100\n",
      "  Input: InputModel\n",
      "    outer_ratio: Float64 0.8\n",
      "    path_input: String \"../../data/init/Sphere\"\n"
     ]
    }
   ],
   "source": [
    "@make_struct_func Cubic\n",
    "@time Model = ModelSet(\n",
    "    TimeModel(\n",
    "        tₛᵢₘ  = 10000.0,\n",
    "        dt    = 0.5,\n",
    "        nₖₙₙ  = 50,\n",
    "        nₛₐᵥₑ = 100\n",
    "    ),\n",
    "    InputModel(\n",
    "        outer_ratio = 0.8,\n",
    "        path_input = \"../../data/init/Sphere\"\n",
    "    )\n",
    ")\n",
    "dump(Model)"
   ]
  },
  {
   "attachments": {},
   "cell_type": "markdown",
   "metadata": {},
   "source": [
    "## Initial Aggregate"
   ]
  },
  {
   "cell_type": "code",
   "execution_count": 43,
   "metadata": {},
   "outputs": [
    {
     "name": "stdout",
     "output_type": "stream",
     "text": [
      "  0.278509 seconds (48.00 k allocations: 294.083 MiB, 12.30% gc time)\n",
      "========================= Type =======================\n"
     ]
    },
    {
     "data": {
      "text/plain": [
       "1-element Vector{AggType}:\n",
       " AggType(\"HEK\", InteractionPar(Cubic{Float64}(1.0, 2.0, 3.0), ContractilePar(0.01)), 15.27f0, Float32[-1.5 -4.62 -13.88; 0.5 -4.62 -13.88; … ; 0.5 4.62 13.88; 2.5 4.62 13.88], CuArray{Float32, 2, CUDA.Mem.DeviceBuffer})"
      ]
     },
     "metadata": {},
     "output_type": "display_data"
    },
    {
     "name": "stdout",
     "output_type": "stream",
     "text": [
      "======================= Matrix ======================\n",
      "Type\n"
     ]
    },
    {
     "data": {
      "text/plain": [
       "1×5 CuArray{Float32, 2, CUDA.Mem.DeviceBuffer}:\n",
       " 1.0  2.0  3.0  0.01  15.27"
      ]
     },
     "metadata": {},
     "output_type": "display_data"
    },
    {
     "name": "stdout",
     "output_type": "stream",
     "text": [
      "Property\n"
     ]
    },
    {
     "data": {
      "text/plain": [
       "5-element Vector{Symbol}:\n",
       " :μ₁\n",
       " :rₘᵢₙ\n",
       " :rₘₐₓ\n",
       " :fₚ\n",
       " :Radius"
      ]
     },
     "metadata": {},
     "output_type": "display_data"
    },
    {
     "name": "stdout",
     "output_type": "stream",
     "text": [
      "rₘₐₓ_position\n"
     ]
    },
    {
     "data": {
      "text/plain": [
       "1-element CuArray{Float32, 1, CUDA.Mem.DeviceBuffer}:\n",
       " 3.0"
      ]
     },
     "metadata": {},
     "output_type": "display_data"
    },
    {
     "name": "stdout",
     "output_type": "stream",
     "text": [
      "======================   Index =======================\n",
      "Index of List of Aggregates\n"
     ]
    },
    {
     "data": {
      "text/plain": [
       "1×5008 CuArray{Int64, 2, CUDA.Mem.DeviceBuffer}:\n",
       " 1  1  1  1  1  1  1  1  1  1  1  1  1  …  1  1  1  1  1  1  1  1  1  1  1  1"
      ]
     },
     "metadata": {},
     "output_type": "display_data"
    },
    {
     "name": "stdout",
     "output_type": "stream",
     "text": [
      "Index of Number of Aggregates\n"
     ]
    },
    {
     "data": {
      "text/plain": [
       "1×5008 CuArray{Int64, 2, CUDA.Mem.DeviceBuffer}:\n",
       " 1  1  1  1  1  1  1  1  1  1  1  1  1  …  2  2  2  2  2  2  2  2  2  2  2  2"
      ]
     },
     "metadata": {},
     "output_type": "display_data"
    },
    {
     "name": "stdout",
     "output_type": "stream",
     "text": [
      "Index of Name of Aggregates\n"
     ]
    },
    {
     "data": {
      "text/plain": [
       "1×5008 Matrix{String}:\n",
       " \"HEK\"  \"HEK\"  \"HEK\"  \"HEK\"  \"HEK\"  …  \"HEK\"  \"HEK\"  \"HEK\"  \"HEK\"  \"HEK\""
      ]
     },
     "metadata": {},
     "output_type": "display_data"
    },
    {
     "name": "stdout",
     "output_type": "stream",
     "text": [
      "====================== Position =====================\n"
     ]
    },
    {
     "data": {
      "text/plain": [
       "5008×3 CuArray{Float32, 2, CUDA.Mem.DeviceBuffer}:\n",
       " -16.77  -4.62  -13.88\n",
       " -14.77  -4.62  -13.88\n",
       " -12.77  -4.62  -13.88\n",
       " -19.77  -2.89  -13.88\n",
       " -17.77  -2.89  -13.88\n",
       " -15.77  -2.89  -13.88\n",
       " -13.77  -2.89  -13.88\n",
       " -11.77  -2.89  -13.88\n",
       " -20.77  -1.15  -13.88\n",
       " -18.77  -1.15  -13.88\n",
       " -16.77  -1.15  -13.88\n",
       " -14.77  -1.15  -13.88\n",
       " -12.77  -1.15  -13.88\n",
       "   ⋮            \n",
       "  13.77   1.15   13.88\n",
       "  15.77   1.15   13.88\n",
       "  17.77   1.15   13.88\n",
       "  19.77   1.15   13.88\n",
       "  10.77   2.89   13.88\n",
       "  12.77   2.89   13.88\n",
       "  14.77   2.89   13.88\n",
       "  16.77   2.89   13.88\n",
       "  18.77   2.89   13.88\n",
       "  13.77   4.62   13.88\n",
       "  15.77   4.62   13.88\n",
       "  17.77   4.62   13.88"
      ]
     },
     "metadata": {},
     "output_type": "display_data"
    },
    {
     "name": "stdout",
     "output_type": "stream",
     "text": [
      "======================== Geometry ===================\n",
      "Radius_agg\n"
     ]
    },
    {
     "data": {
      "text/plain": [
       "1×5008 Matrix{Float32}:\n",
       " 15.27  15.27  15.27  15.27  15.27  …  15.27  15.27  15.27  15.27  15.27"
      ]
     },
     "metadata": {},
     "output_type": "display_data"
    },
    {
     "name": "stdout",
     "output_type": "stream",
     "text": [
      "Outline\n"
     ]
    },
    {
     "data": {
      "text/plain": [
       "1×5008 Matrix{Int64}:\n",
       " 1  1  1  1  1  1  1  1  1  1  1  1  1  …  1  1  1  1  1  1  1  1  1  1  1  1"
      ]
     },
     "metadata": {},
     "output_type": "display_data"
    },
    {
     "name": "stdout",
     "output_type": "stream",
     "text": [
      "Outer/Total = 0.46325878594249204\n",
      "====================== Simulation ===================\n",
      "------------------ Neighbors Size -------------------\n",
      "idx      = (5008, 5008)\n",
      "idx_red  = (21, 5008)\n",
      "idx_sum  = (1, 5008)\n",
      "idx_cont = (50, 5008)\n",
      "------------------- Forces Size ---------------------\n",
      "dX       = (5008, 3)\n",
      "F        = (5008, 3)\n"
     ]
    }
   ],
   "source": [
    "FusionAGG = Nothing\n",
    "@time FusionAGG = FusionAggregate(\n",
    "    [\n",
    "        AggType(\n",
    "            \"HEK\", \n",
    "            InteractionPar(\n",
    "                Cubic(1.0,2.0,3.0), \n",
    "                ContractilePar(0.01)\n",
    "            ),\n",
    "            Float64.(readdlm(\"../../data/init/Sphere/15.0.xyz\")[3:end,2:end]) |> cu\n",
    "        )\n",
    "    ], \n",
    "    Model\n",
    ")\n",
    "show_aggregates(FusionAGG)"
   ]
  },
  {
   "attachments": {},
   "cell_type": "markdown",
   "metadata": {},
   "source": [
    "# Program"
   ]
  },
  {
   "cell_type": "code",
   "execution_count": 48,
   "metadata": {},
   "outputs": [
    {
     "name": "stdout",
     "output_type": "stream",
     "text": [
      "------------------------ SIZE ------------------------\n",
      "r_max         = 3.0\n",
      "Size X        = (5008, 3)\n",
      "Size idx      = (5008, 5008)\n",
      "Size idx_real  = (5008, 5008)\n",
      "Size idx_sum   = (1, 5008)\n",
      "Size idx_red   = (21, 5008)\n",
      "Threads = (32, 32) | Blocks  = (157, 157)\n",
      "Threads = 256 | Blocks  = 20\n",
      "Threads = (32, 32) | Blocks  = (157, 157)\n",
      "  0.000287 seconds (228 allocations: 10.109 KiB)\n",
      "------------------------ IDX -------------------------\n",
      "idx\n"
     ]
    },
    {
     "data": {
      "text/plain": [
       "5008×5008 CuArray{Float32, 2, CUDA.Mem.DeviceBuffer}:\n",
       " 1.0  1.0  0.0   0.0   1.0   1.0   0.0  …     0.0     0.0     0.0     0.0\n",
       " 2.0  2.0  2.0   0.0   0.0   2.0   2.0        0.0     0.0     0.0     0.0\n",
       " 0.0  3.0  3.0   0.0   0.0   0.0   3.0        0.0     0.0     0.0     0.0\n",
       " 0.0  0.0  0.0   4.0   4.0   0.0   0.0        0.0     0.0     0.0     0.0\n",
       " 5.0  0.0  0.0   5.0   5.0   5.0   0.0        0.0     0.0     0.0     0.0\n",
       " 6.0  6.0  0.0   0.0   6.0   6.0   6.0  …     0.0     0.0     0.0     0.0\n",
       " 0.0  7.0  7.0   0.0   0.0   7.0   7.0        0.0     0.0     0.0     0.0\n",
       " 0.0  0.0  8.0   0.0   0.0   0.0   8.0        0.0     0.0     0.0     0.0\n",
       " 0.0  0.0  0.0   9.0   0.0   0.0   0.0        0.0     0.0     0.0     0.0\n",
       " 0.0  0.0  0.0  10.0  10.0   0.0   0.0        0.0     0.0     0.0     0.0\n",
       " 0.0  0.0  0.0   0.0  11.0  11.0   0.0  …     0.0     0.0     0.0     0.0\n",
       " 0.0  0.0  0.0   0.0   0.0  12.0  12.0        0.0     0.0     0.0     0.0\n",
       " 0.0  0.0  0.0   0.0   0.0   0.0  13.0        0.0     0.0     0.0     0.0\n",
       " ⋮                           ⋮          ⋱             ⋮            \n",
       " 0.0  0.0  0.0   0.0   0.0   0.0   0.0        0.0     0.0     0.0     0.0\n",
       " 0.0  0.0  0.0   0.0   0.0   0.0   0.0        0.0     0.0     0.0     0.0\n",
       " 0.0  0.0  0.0   0.0   0.0   0.0   0.0     4999.0     0.0     0.0     0.0\n",
       " 0.0  0.0  0.0   0.0   0.0   0.0   0.0     5000.0     0.0     0.0     0.0\n",
       " 0.0  0.0  0.0   0.0   0.0   0.0   0.0  …     0.0     0.0     0.0     0.0\n",
       " 0.0  0.0  0.0   0.0   0.0   0.0   0.0        0.0  5002.0     0.0     0.0\n",
       " 0.0  0.0  0.0   0.0   0.0   0.0   0.0        0.0  5003.0  5003.0     0.0\n",
       " 0.0  0.0  0.0   0.0   0.0   0.0   0.0     5004.0     0.0  5004.0  5004.0\n",
       " 0.0  0.0  0.0   0.0   0.0   0.0   0.0     5005.0     0.0     0.0  5005.0\n",
       " 0.0  0.0  0.0   0.0   0.0   0.0   0.0  …     0.0  5006.0  5006.0     0.0\n",
       " 0.0  0.0  0.0   0.0   0.0   0.0   0.0        0.0  5007.0  5007.0  5007.0\n",
       " 0.0  0.0  0.0   0.0   0.0   0.0   0.0     5008.0     0.0  5008.0  5008.0"
      ]
     },
     "metadata": {},
     "output_type": "display_data"
    },
    {
     "name": "stdout",
     "output_type": "stream",
     "text": [
      "idx_red\n"
     ]
    },
    {
     "data": {
      "text/plain": [
       "21×5008 CuArray{Float32, 2, CUDA.Mem.DeviceBuffer}:\n",
       "  1.0   1.0   2.0   4.0   1.0   1.0   2.0  …  4951.0  4957.0  4958.0  4959.0\n",
       "  2.0   2.0   3.0   5.0   4.0   2.0   3.0     4959.0  4964.0  4965.0  4966.0\n",
       "  5.0   3.0   7.0   9.0   5.0   5.0   6.0     4960.0  4965.0  4966.0  4967.0\n",
       "  6.0   6.0   8.0  10.0   6.0   6.0   7.0     4966.0  4971.0  4972.0  4973.0\n",
       " 35.0   7.0  37.0  40.0  10.0   7.0   8.0     4967.0  4972.0  4973.0  4974.0\n",
       " 36.0  36.0  38.0  41.0  11.0  11.0  12.0  …  4968.0  4973.0  4974.0  4975.0\n",
       " 37.0  37.0  39.0  42.0  41.0  12.0  13.0     4999.0  5002.0  5003.0  5004.0\n",
       " 42.0  38.0  44.0  49.0  42.0  42.0  43.0     5000.0  5003.0  5004.0  5005.0\n",
       " 43.0  43.0  45.0  50.0  43.0  43.0  44.0     5004.0  5006.0  5006.0  5007.0\n",
       " 51.0  44.0  53.0  58.0  50.0  44.0  45.0     5005.0  5007.0  5007.0  5008.0\n",
       "  0.0  52.0   0.0   0.0  51.0  51.0  52.0  …  5008.0     0.0  5008.0     0.0\n",
       "  0.0   0.0   0.0   0.0  59.0  52.0  53.0        0.0     0.0     0.0     0.0\n",
       "  0.0   0.0   0.0   0.0   0.0  60.0  61.0        0.0     0.0     0.0     0.0\n",
       "  0.0   0.0   0.0   0.0   0.0   0.0   0.0        0.0     0.0     0.0     0.0\n",
       "  0.0   0.0   0.0   0.0   0.0   0.0   0.0        0.0     0.0     0.0     0.0\n",
       "  0.0   0.0   0.0   0.0   0.0   0.0   0.0  …     0.0     0.0     0.0     0.0\n",
       "  0.0   0.0   0.0   0.0   0.0   0.0   0.0        0.0     0.0     0.0     0.0\n",
       "  0.0   0.0   0.0   0.0   0.0   0.0   0.0        0.0     0.0     0.0     0.0\n",
       "  0.0   0.0   0.0   0.0   0.0   0.0   0.0        0.0     0.0     0.0     0.0\n",
       "  0.0   0.0   0.0   0.0   0.0   0.0   0.0        0.0     0.0     0.0     0.0\n",
       "  0.0   0.0   0.0   0.0   0.0   0.0   0.0  …     0.0     0.0     0.0     0.0"
      ]
     },
     "metadata": {},
     "output_type": "display_data"
    },
    {
     "name": "stdout",
     "output_type": "stream",
     "text": [
      "idx_sum\n"
     ]
    },
    {
     "data": {
      "text/plain": [
       "1×5008 CuArray{Int64, 2, CUDA.Mem.DeviceBuffer}:\n",
       " 10  11  10  10  12  13  13  11  10  …  11  10  12  13  13  11  10  11  10"
      ]
     },
     "metadata": {},
     "output_type": "display_data"
    },
    {
     "name": "stdout",
     "output_type": "stream",
     "text": [
      "idx_cont\n"
     ]
    },
    {
     "data": {
      "text/plain": [
       "50×5008 CuArray{Float32, 2, CUDA.Mem.DeviceBuffer}:\n",
       " 51.0  52.0   3.0  40.0   5.0   1.0   3.0  …  4960.0  5002.0  5003.0  4975.0\n",
       "  5.0  43.0   3.0  10.0  11.0   5.0  45.0     4959.0  4973.0  4958.0  4973.0\n",
       "  6.0  43.0   7.0  41.0  42.0  60.0   2.0     4999.0  4971.0  4965.0  4975.0\n",
       " 35.0   3.0  39.0  49.0   1.0  42.0  13.0     5008.0  4957.0  5003.0  4973.0\n",
       " 42.0   1.0   2.0  58.0   1.0  44.0  13.0     4999.0  4973.0  4965.0  4975.0\n",
       "  1.0  38.0   3.0  49.0   4.0  43.0  13.0  …  4966.0  5003.0  4966.0  5005.0\n",
       "  6.0  43.0  38.0  41.0  50.0  51.0   3.0     4951.0  4965.0  5007.0  5005.0\n",
       " 42.0  52.0  37.0   4.0  41.0  51.0   8.0     4968.0  4971.0  4972.0  4967.0\n",
       " 36.0  44.0  45.0  40.0  41.0  60.0   3.0     4968.0  4957.0  5004.0  4975.0\n",
       "  5.0  52.0  45.0  10.0   1.0   2.0  44.0     4959.0  4971.0  4965.0  5004.0\n",
       " 37.0  43.0  45.0  40.0  41.0   6.0   6.0  …  4967.0  4971.0  4972.0  5004.0\n",
       " 42.0  37.0  44.0  49.0  59.0   6.0  52.0     4967.0  4971.0  5006.0  4966.0\n",
       " 51.0   7.0  53.0   4.0  41.0   1.0  52.0     4967.0  4972.0  4958.0  5007.0\n",
       "  ⋮                             ⋮          ⋱             ⋮            \n",
       " 37.0   3.0   8.0  58.0   6.0   6.0   2.0     5004.0  5007.0  5004.0  4959.0\n",
       "  2.0  44.0  37.0   9.0   4.0   7.0  45.0     5008.0  5007.0  4965.0  5005.0\n",
       " 42.0   6.0  44.0   4.0  42.0  60.0  13.0  …  4999.0  4972.0  4972.0  4974.0\n",
       "  2.0  44.0   3.0   9.0  42.0  42.0  44.0     5005.0  4965.0  5003.0  4974.0\n",
       " 43.0  44.0  44.0  58.0   5.0  42.0   3.0     4967.0  5007.0  5007.0  4973.0\n",
       " 42.0  52.0   8.0  58.0  59.0  12.0  53.0     4968.0  5003.0  4965.0  4974.0\n",
       "  6.0   2.0  44.0  41.0  43.0   1.0  45.0     5000.0  4972.0  5008.0  5008.0\n",
       " 35.0  37.0  38.0   4.0   4.0   5.0   7.0  …  4968.0  5007.0  4965.0  4973.0\n",
       "  1.0   2.0  38.0   4.0  11.0  44.0   2.0     5004.0  4971.0  5003.0  5004.0\n",
       "  1.0  52.0  39.0  41.0  41.0  52.0  44.0     4966.0  4971.0  4972.0  5007.0\n",
       "  5.0  52.0   8.0   4.0  41.0  11.0   8.0     4960.0  4971.0  4958.0  4974.0\n",
       " 43.0  38.0  39.0  41.0   4.0  43.0  45.0     4967.0  4965.0  5003.0  5008.0"
      ]
     },
     "metadata": {},
     "output_type": "display_data"
    }
   ],
   "source": [
    "println(\"------------------------ SIZE ------------------------\")\n",
    "println(\"r_max         = $(FusionAGG.Type[1].Interaction.Force.rₘₐₓ)\")\n",
    "println(\"Size X        = $(size(FusionAGG.Position))\")\n",
    "println(\"Size idx      = $(size(FusionAGG.Simulation.Neighbor.idx))\")\n",
    "println(\"Size idx_real  = $(size(FusionAGG.Simulation.Neighbor.idx))\")\n",
    "println(\"Size idx_sum   = $(size(FusionAGG.Simulation.Neighbor.idx_sum))\")\n",
    "println(\"Size idx_red   = $(size(FusionAGG.Simulation.Neighbor.idx_red))\")\n",
    "@time nearest_neighbors(FusionAGG)\n",
    "println(\"------------------------ IDX -------------------------\")\n",
    "println(\"idx\")\n",
    "display(FusionAGG.Simulation.Neighbor.idx)\n",
    "println(\"idx_red\")\n",
    "display(FusionAGG.Simulation.Neighbor.idx_red)\n",
    "println(\"idx_sum\")\n",
    "display(FusionAGG.Simulation.Neighbor.idx_sum)\n",
    "println(\"idx_cont\")\n",
    "display(FusionAGG.Simulation.Neighbor.idx_cont)"
   ]
  }
 ],
 "metadata": {
  "kernelspec": {
   "display_name": "Julia 1.6.7",
   "language": "julia",
   "name": "julia-1.6"
  },
  "language_info": {
   "file_extension": ".jl",
   "mimetype": "application/julia",
   "name": "julia",
   "version": "1.6.7"
  }
 },
 "nbformat": 4,
 "nbformat_minor": 4
}
