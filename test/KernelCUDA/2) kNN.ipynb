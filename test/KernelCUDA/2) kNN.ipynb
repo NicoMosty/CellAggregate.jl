{
 "cells": [
  {
   "cell_type": "markdown",
   "metadata": {},
   "source": [
    "# Dependences"
   ]
  },
  {
   "cell_type": "code",
   "execution_count": 16,
   "metadata": {},
   "outputs": [
    {
     "data": {
      "text/plain": [
       "nearest_neighbors (generic function with 1 method)"
      ]
     },
     "execution_count": 16,
     "metadata": {},
     "output_type": "execute_result"
    }
   ],
   "source": [
    "include(\"../../src/struct_data.jl\")\n",
    "include(\"../../src/neighbor.jl\")"
   ]
  },
  {
   "attachments": {},
   "cell_type": "markdown",
   "metadata": {},
   "source": [
    "# Initial Data"
   ]
  },
  {
   "cell_type": "code",
   "execution_count": 17,
   "metadata": {},
   "outputs": [
    {
     "data": {
      "text/plain": [
       "ModelPar(TimePar(10000.0, 0.5), NeighborPar(50), GeometryPar(10.0, [0 0 0], 0.8), SimulationPar(100, \"../../data/init/Sphere\", \"AAA\", \"Queso\"))"
      ]
     },
     "execution_count": 17,
     "metadata": {},
     "output_type": "execute_result"
    }
   ],
   "source": [
    "@make_struct_func Cubic\n",
    "\n",
    "Model = ModelPar(\n",
    "    TimePar(\n",
    "        t_f      = 10000.0,\n",
    "        dt       = 0.5\n",
    "    ),\n",
    "    NeighborPar(n_knn = 50),\n",
    "    GeometryPar(\n",
    "        r_agg       = 10.0,\n",
    "        position    = [0 0 0],\n",
    "        outer_ratio = 0.8\n",
    "    ),\n",
    "    SimulationPar(\n",
    "        n_text = 100,\n",
    "        path_input = \"../../data/init/Sphere\",\n",
    "        path_ouput = \"AAA\",\n",
    "        name_cell = \"Queso\"\n",
    "    )\n",
    ")"
   ]
  },
  {
   "cell_type": "code",
   "execution_count": 18,
   "metadata": {},
   "outputs": [
    {
     "name": "stdout",
     "output_type": "stream",
     "text": [
      "  0.100202 seconds (79.66 k allocations: 4.556 MiB)\n"
     ]
    },
    {
     "data": {
      "text/plain": [
       "Aggregate(0.0, ModelPar(TimePar(10000.0, 0.5), NeighborPar(50), GeometryPar(10.0, [0 0 0], 0.8), SimulationPar(100, \"../../data/init/Sphere\", \"AAA\", \"Queso\")), Cubic{Float64}(1.0, 2.0, 3.0), ContractilePar{Int64}(1), PositionAgg(Float32[-1.5 -2.89 -8.98; 0.5 -2.89 -8.98; … ; 0.5 2.89 8.98; 2.5 2.89 8.98], Float32[0.0 0.0 0.0; 0.0 0.0 0.0; … ; 0.0 0.0 0.0; 0.0 0.0 0.0]), IndexCell{Int64}([1; 1; … ; 1; 1], [1, 1, 1, 1, 1, 1, 1, 1, 1, 1  …  1, 1, 1, 1, 1, 1, 1, 1, 1, 1]), NeighborAgg(Float32[0.0 0.0 … 0.0 0.0; 0.0 0.0 … 0.0 0.0; … ; 0.0 0.0 … 0.0 0.0; 0.0 0.0 … 0.0 0.0], Float32[0.0 0.0 … 0.0 0.0; 0.0 0.0 … 0.0 0.0; … ; 0.0 0.0 … 0.0 0.0; 0.0 0.0 … 0.0 0.0], Float32[0.0 0.0 … 0.0 0.0], Float32[0.0 0.0 … 0.0 0.0; 0.0 0.0 … 0.0 0.0; … ; 0.0 0.0 … 0.0 0.0; 0.0 0.0 … 0.0 0.0]), ForceAgg(Float32[0.0 0.0 0.0; 0.0 0.0 0.0; … ; 0.0 0.0 0.0; 0.0 0.0 0.0]))"
      ]
     },
     "execution_count": 18,
     "metadata": {},
     "output_type": "execute_result"
    }
   ],
   "source": [
    "@time AGG = Aggregate(1.0, Model, Cubic(1.0,2.0,3.0), ContractilePar(1))"
   ]
  },
  {
   "attachments": {},
   "cell_type": "markdown",
   "metadata": {},
   "source": [
    "# Program"
   ]
  },
  {
   "attachments": {},
   "cell_type": "markdown",
   "metadata": {},
   "source": [
    "## Idx"
   ]
  },
  {
   "cell_type": "code",
   "execution_count": 19,
   "metadata": {},
   "outputs": [
    {
     "name": "stdout",
     "output_type": "stream",
     "text": [
      "------------------------ SIZE ------------------------\n",
      "r_max         = 3.0\n",
      "Size X        = (746, 3)\n",
      "Size idx      = (746, 746)\n",
      "--------------------- SIZE CUDA ----------------------\n",
      "Threads = (32, 32)\n",
      "Blocks  = (24, 24)\n",
      "--------------------- CUDA SOLVER --------------------\n",
      "  0.279528 seconds (70.46 k CPU allocations: 4.896 MiB)\n",
      "------------------------ IDX -------------------------\n"
     ]
    },
    {
     "data": {
      "text/plain": [
       "746×746 CuArray{Float32, 2, CUDA.Mem.DeviceBuffer}:\n",
       " 1.0  1.0  0.0  1.0   1.0   0.0   0.0  …    0.0    0.0    0.0    0.0    0.0\n",
       " 2.0  2.0  2.0  0.0   2.0   2.0   0.0       0.0    0.0    0.0    0.0    0.0\n",
       " 0.0  3.0  3.0  0.0   0.0   3.0   3.0       0.0    0.0    0.0    0.0    0.0\n",
       " 4.0  0.0  0.0  4.0   4.0   0.0   0.0       0.0    0.0    0.0    0.0    0.0\n",
       " 5.0  5.0  0.0  5.0   5.0   5.0   0.0       0.0    0.0    0.0    0.0    0.0\n",
       " 0.0  6.0  6.0  0.0   6.0   6.0   6.0  …    0.0    0.0    0.0    0.0    0.0\n",
       " 0.0  0.0  7.0  0.0   0.0   7.0   7.0       0.0    0.0    0.0    0.0    0.0\n",
       " 0.0  0.0  0.0  8.0   0.0   0.0   0.0       0.0    0.0    0.0    0.0    0.0\n",
       " 0.0  0.0  0.0  9.0   9.0   0.0   0.0       0.0    0.0    0.0    0.0    0.0\n",
       " 0.0  0.0  0.0  0.0  10.0  10.0   0.0       0.0    0.0    0.0    0.0    0.0\n",
       " 0.0  0.0  0.0  0.0   0.0  11.0  11.0  …    0.0    0.0    0.0    0.0    0.0\n",
       " 0.0  0.0  0.0  0.0   0.0   0.0   0.0       0.0    0.0    0.0    0.0    0.0\n",
       " 0.0  0.0  0.0  0.0   0.0   0.0   0.0       0.0    0.0    0.0    0.0    0.0\n",
       " ⋮                          ⋮          ⋱                                ⋮\n",
       " 0.0  0.0  0.0  0.0   0.0   0.0   0.0       0.0    0.0    0.0    0.0    0.0\n",
       " 0.0  0.0  0.0  0.0   0.0   0.0   0.0  …    0.0    0.0    0.0    0.0    0.0\n",
       " 0.0  0.0  0.0  0.0   0.0   0.0   0.0       0.0    0.0    0.0    0.0    0.0\n",
       " 0.0  0.0  0.0  0.0   0.0   0.0   0.0     738.0    0.0    0.0    0.0    0.0\n",
       " 0.0  0.0  0.0  0.0   0.0   0.0   0.0     739.0  739.0    0.0    0.0    0.0\n",
       " 0.0  0.0  0.0  0.0   0.0   0.0   0.0       0.0    0.0  740.0    0.0    0.0\n",
       " 0.0  0.0  0.0  0.0   0.0   0.0   0.0  …  741.0    0.0  741.0  741.0    0.0\n",
       " 0.0  0.0  0.0  0.0   0.0   0.0   0.0     742.0  742.0    0.0  742.0  742.0\n",
       " 0.0  0.0  0.0  0.0   0.0   0.0   0.0     743.0  743.0    0.0    0.0  743.0\n",
       " 0.0  0.0  0.0  0.0   0.0   0.0   0.0       0.0    0.0  744.0  744.0    0.0\n",
       " 0.0  0.0  0.0  0.0   0.0   0.0   0.0     745.0    0.0  745.0  745.0  745.0\n",
       " 0.0  0.0  0.0  0.0   0.0   0.0   0.0  …  746.0  746.0    0.0  746.0  746.0"
      ]
     },
     "metadata": {},
     "output_type": "display_data"
    }
   ],
   "source": [
    "println(\"------------------------ SIZE ------------------------\")\n",
    "println(\"r_max         = $(AGG.ForcePar.rₘₐₓ)\")\n",
    "println(\"Size X        = $(size(AGG.Position.X))\")\n",
    "println(\"Size idx      = $(size(AGG.Neighbor.idx))\")\n",
    "\n",
    "println(\"--------------------- SIZE CUDA ----------------------\")\n",
    "threads =(32,32)\n",
    "blocks  =cld.(size(AGG.Position.X,1),threads)\n",
    "println(\"Threads = $(threads)\")\n",
    "println(\"Blocks  = $(blocks)\")\n",
    "println(\"--------------------- CUDA SOLVER --------------------\")\n",
    "CUDA.@time @cuda threads=threads blocks=blocks dist_kernel!(AGG.Neighbor.idx, AGG.Position.X ,AGG.ForcePar.rₘₐₓ)\n",
    "println(\"------------------------ IDX -------------------------\")\n",
    "idx_real = AGG.Neighbor.idx\n",
    "display(AGG.Neighbor.idx)\n"
   ]
  },
  {
   "attachments": {},
   "cell_type": "markdown",
   "metadata": {},
   "source": [
    "# reduce"
   ]
  },
  {
   "cell_type": "code",
   "execution_count": 37,
   "metadata": {
    "tags": []
   },
   "outputs": [
    {
     "name": "stdout",
     "output_type": "stream",
     "text": [
      "------------------------ SIZE ------------------------\n",
      "Size idx_real  = (746, 746)\n",
      "Size idx_sum   = (1, 746)\n",
      "Size idx_red   = (21, 746)\n",
      "------------------------ IDX -------------------------\n"
     ]
    },
    {
     "data": {
      "text/plain": [
       "746×746 CuArray{Float32, 2, CUDA.Mem.DeviceBuffer}:\n",
       " 1.0  1.0  0.0  1.0   1.0   0.0   0.0  …    0.0    0.0    0.0    0.0    0.0\n",
       " 2.0  2.0  2.0  0.0   2.0   2.0   0.0       0.0    0.0    0.0    0.0    0.0\n",
       " 0.0  3.0  3.0  0.0   0.0   3.0   3.0       0.0    0.0    0.0    0.0    0.0\n",
       " 4.0  0.0  0.0  4.0   4.0   0.0   0.0       0.0    0.0    0.0    0.0    0.0\n",
       " 5.0  5.0  0.0  5.0   5.0   5.0   0.0       0.0    0.0    0.0    0.0    0.0\n",
       " 0.0  6.0  6.0  0.0   6.0   6.0   6.0  …    0.0    0.0    0.0    0.0    0.0\n",
       " 0.0  0.0  7.0  0.0   0.0   7.0   7.0       0.0    0.0    0.0    0.0    0.0\n",
       " 0.0  0.0  0.0  8.0   0.0   0.0   0.0       0.0    0.0    0.0    0.0    0.0\n",
       " 0.0  0.0  0.0  9.0   9.0   0.0   0.0       0.0    0.0    0.0    0.0    0.0\n",
       " 0.0  0.0  0.0  0.0  10.0  10.0   0.0       0.0    0.0    0.0    0.0    0.0\n",
       " 0.0  0.0  0.0  0.0   0.0  11.0  11.0  …    0.0    0.0    0.0    0.0    0.0\n",
       " 0.0  0.0  0.0  0.0   0.0   0.0   0.0       0.0    0.0    0.0    0.0    0.0\n",
       " 0.0  0.0  0.0  0.0   0.0   0.0   0.0       0.0    0.0    0.0    0.0    0.0\n",
       " ⋮                          ⋮          ⋱                                ⋮\n",
       " 0.0  0.0  0.0  0.0   0.0   0.0   0.0       0.0    0.0    0.0    0.0    0.0\n",
       " 0.0  0.0  0.0  0.0   0.0   0.0   0.0  …    0.0    0.0    0.0    0.0    0.0\n",
       " 0.0  0.0  0.0  0.0   0.0   0.0   0.0       0.0    0.0    0.0    0.0    0.0\n",
       " 0.0  0.0  0.0  0.0   0.0   0.0   0.0     738.0    0.0    0.0    0.0    0.0\n",
       " 0.0  0.0  0.0  0.0   0.0   0.0   0.0     739.0  739.0    0.0    0.0    0.0\n",
       " 0.0  0.0  0.0  0.0   0.0   0.0   0.0       0.0    0.0  740.0    0.0    0.0\n",
       " 0.0  0.0  0.0  0.0   0.0   0.0   0.0  …  741.0    0.0  741.0  741.0    0.0\n",
       " 0.0  0.0  0.0  0.0   0.0   0.0   0.0     742.0  742.0    0.0  742.0  742.0\n",
       " 0.0  0.0  0.0  0.0   0.0   0.0   0.0     743.0  743.0    0.0    0.0  743.0\n",
       " 0.0  0.0  0.0  0.0   0.0   0.0   0.0       0.0    0.0  744.0  744.0    0.0\n",
       " 0.0  0.0  0.0  0.0   0.0   0.0   0.0     745.0    0.0  745.0  745.0  745.0\n",
       " 0.0  0.0  0.0  0.0   0.0   0.0   0.0  …  746.0  746.0    0.0  746.0  746.0"
      ]
     },
     "metadata": {},
     "output_type": "display_data"
    },
    {
     "name": "stdout",
     "output_type": "stream",
     "text": [
      "--------------------- SIZE CUDA ----------------------\n",
      "Threads = 1024\n",
      "Blocks  = 1\n",
      "--------------------- CUDA SOLVER --------------------\n"
     ]
    },
    {
     "ename": "LoadError",
     "evalue": "InvalidIRError: compiling kernel #reduce_kernel(CuDeviceMatrix{Float32, 1}, CuDeviceMatrix{Float32, 1}, CuDeviceMatrix{Float32, 1}) resulted in invalid LLVM IR\n\u001b[31mReason: unsupported dynamic function invocation\u001b[39m\u001b[31m (call to var\"#sprint#385\"(context, sizehint::Integer, ::typeof(sprint), f::Function, args...) in Base at strings/io.jl:100)\u001b[39m\nStacktrace:\n [1] \u001b[0m\u001b[1m#repr#386\u001b[22m\n\u001b[90m   @ \u001b[39m\u001b[90m./strings/\u001b[39m\u001b[90;4mio.jl:219\u001b[0m\n [2] \u001b[0m\u001b[1mlimitrepr\u001b[22m\n\u001b[90m   @ \u001b[39m\u001b[90m./strings/\u001b[39m\u001b[90;4mio.jl:221\u001b[0m\n [3] \u001b[0m\u001b[1mto_index\u001b[22m\n\u001b[90m   @ \u001b[39m\u001b[90m./\u001b[39m\u001b[90;4mindices.jl:300\u001b[0m\n [4] \u001b[0m\u001b[1mto_index\u001b[22m\n\u001b[90m   @ \u001b[39m\u001b[90m./\u001b[39m\u001b[90;4mindices.jl:277\u001b[0m\n [5] \u001b[0m\u001b[1mto_indices\u001b[22m\n\u001b[90m   @ \u001b[39m\u001b[90m./\u001b[39m\u001b[90;4mindices.jl:333\u001b[0m\n [6] \u001b[0m\u001b[1mto_indices\u001b[22m\n\u001b[90m   @ \u001b[39m\u001b[90m./\u001b[39m\u001b[90;4mindices.jl:324\u001b[0m\n [7] \u001b[0m\u001b[1msetindex!\u001b[22m\n\u001b[90m   @ \u001b[39m\u001b[90m./\u001b[39m\u001b[90;4mabstractarray.jl:1267\u001b[0m\n [8] \u001b[0m\u001b[1mreduce_kernel\u001b[22m\n\u001b[90m   @ \u001b[39m\u001b[90m~/Documentos/Maestria-GitHub/CellAggregate.jl/src/\u001b[39m\u001b[90;4mneighbor.jl:79\u001b[0m\n\u001b[31mReason: unsupported call through a literal pointer\u001b[39m\u001b[31m (call to )\u001b[39m\nStacktrace:\n [1] \u001b[0m\u001b[1m_string_n\u001b[22m\n\u001b[90m   @ \u001b[39m\u001b[90m./strings/\u001b[39m\u001b[90;4mstring.jl:74\u001b[0m\n [2] \u001b[0m\u001b[1mStringVector\u001b[22m\n\u001b[90m   @ \u001b[39m\u001b[90m./\u001b[39m\u001b[90;4miobuffer.jl:31\u001b[0m\n [3] \u001b[0m\u001b[1m#IOBuffer#361\u001b[22m\n\u001b[90m   @ \u001b[39m\u001b[90m./\u001b[39m\u001b[90;4miobuffer.jl:114\u001b[0m\n [4] \u001b[0m\u001b[1mprint_to_string\u001b[22m\n\u001b[90m   @ \u001b[39m\u001b[90m./strings/\u001b[39m\u001b[90;4mio.jl:133\u001b[0m\n\u001b[31mReason: unsupported call through a literal pointer\u001b[39m\u001b[31m (call to )\u001b[39m\nStacktrace:\n [1] \u001b[0m\u001b[1munsafe_wrap\u001b[22m\n\u001b[90m   @ \u001b[39m\u001b[90m./strings/\u001b[39m\u001b[90;4mstring.jl:85\u001b[0m\n [2] \u001b[0m\u001b[1mStringVector\u001b[22m\n\u001b[90m   @ \u001b[39m\u001b[90m./\u001b[39m\u001b[90;4miobuffer.jl:31\u001b[0m\n [3] \u001b[0m\u001b[1m#IOBuffer#361\u001b[22m\n\u001b[90m   @ \u001b[39m\u001b[90m./\u001b[39m\u001b[90;4miobuffer.jl:114\u001b[0m\n [4] \u001b[0m\u001b[1mprint_to_string\u001b[22m\n\u001b[90m   @ \u001b[39m\u001b[90m./strings/\u001b[39m\u001b[90;4mio.jl:133\u001b[0m\n\u001b[31mReason: unsupported call through a literal pointer\u001b[39m\u001b[31m (call to )\u001b[39m\nStacktrace:\n [1] \u001b[0m\u001b[1mfill!\u001b[22m\n\u001b[90m   @ \u001b[39m\u001b[90m./\u001b[39m\u001b[90;4marray.jl:406\u001b[0m\n [2] \u001b[0m\u001b[1m#IOBuffer#361\u001b[22m\n\u001b[90m   @ \u001b[39m\u001b[90m./\u001b[39m\u001b[90;4miobuffer.jl:121\u001b[0m\n [3] \u001b[0m\u001b[1mprint_to_string\u001b[22m\n\u001b[90m   @ \u001b[39m\u001b[90m./strings/\u001b[39m\u001b[90;4mio.jl:133\u001b[0m\n\u001b[31mReason: unsupported dynamic function invocation\u001b[39m\u001b[31m (call to print)\u001b[39m\nStacktrace:\n [1] \u001b[0m\u001b[1mprint_to_string\u001b[22m\n\u001b[90m   @ \u001b[39m\u001b[90m./strings/\u001b[39m\u001b[90;4mio.jl:135\u001b[0m\n\u001b[31mReason: unsupported call through a literal pointer\u001b[39m\u001b[31m (call to )\u001b[39m\nStacktrace:\n [1] \u001b[0m\u001b[1m_growend!\u001b[22m\n\u001b[90m   @ \u001b[39m\u001b[90m./\u001b[39m\u001b[90;4marray.jl:888\u001b[0m\n [2] \u001b[0m\u001b[1mresize!\u001b[22m\n\u001b[90m   @ \u001b[39m\u001b[90m./\u001b[39m\u001b[90;4marray.jl:1108\u001b[0m\n [3] \u001b[0m\u001b[1mprint_to_string\u001b[22m\n\u001b[90m   @ \u001b[39m\u001b[90m./strings/\u001b[39m\u001b[90;4mio.jl:137\u001b[0m\n\u001b[31mReason: unsupported call through a literal pointer\u001b[39m\u001b[31m (call to )\u001b[39m\nStacktrace:\n [1] \u001b[0m\u001b[1m_deleteend!\u001b[22m\n\u001b[90m   @ \u001b[39m\u001b[90m./\u001b[39m\u001b[90;4marray.jl:897\u001b[0m\n [2] \u001b[0m\u001b[1mresize!\u001b[22m\n\u001b[90m   @ \u001b[39m\u001b[90m./\u001b[39m\u001b[90;4marray.jl:1113\u001b[0m\n [3] \u001b[0m\u001b[1mprint_to_string\u001b[22m\n\u001b[90m   @ \u001b[39m\u001b[90m./strings/\u001b[39m\u001b[90;4mio.jl:137\u001b[0m\n\u001b[31mReason: unsupported call through a literal pointer\u001b[39m\u001b[31m (call to )\u001b[39m\nStacktrace:\n [1] \u001b[0m\u001b[1mString\u001b[22m\n\u001b[90m   @ \u001b[39m\u001b[90m./strings/\u001b[39m\u001b[90;4mstring.jl:53\u001b[0m\n [2] \u001b[0m\u001b[1mprint_to_string\u001b[22m\n\u001b[90m   @ \u001b[39m\u001b[90m./strings/\u001b[39m\u001b[90;4mio.jl:137\u001b[0m\n\u001b[36m\u001b[1mHint\u001b[22m\u001b[39m\u001b[36m: catch this exception as `err` and call `code_typed(err; interactive = true)` to introspect the erronous code with Cthulhu.jl\u001b[39m",
     "output_type": "error",
     "traceback": [
      "InvalidIRError: compiling kernel #reduce_kernel(CuDeviceMatrix{Float32, 1}, CuDeviceMatrix{Float32, 1}, CuDeviceMatrix{Float32, 1}) resulted in invalid LLVM IR\n\u001b[31mReason: unsupported dynamic function invocation\u001b[39m\u001b[31m (call to var\"#sprint#385\"(context, sizehint::Integer, ::typeof(sprint), f::Function, args...) in Base at strings/io.jl:100)\u001b[39m\nStacktrace:\n [1] \u001b[0m\u001b[1m#repr#386\u001b[22m\n\u001b[90m   @ \u001b[39m\u001b[90m./strings/\u001b[39m\u001b[90;4mio.jl:219\u001b[0m\n [2] \u001b[0m\u001b[1mlimitrepr\u001b[22m\n\u001b[90m   @ \u001b[39m\u001b[90m./strings/\u001b[39m\u001b[90;4mio.jl:221\u001b[0m\n [3] \u001b[0m\u001b[1mto_index\u001b[22m\n\u001b[90m   @ \u001b[39m\u001b[90m./\u001b[39m\u001b[90;4mindices.jl:300\u001b[0m\n [4] \u001b[0m\u001b[1mto_index\u001b[22m\n\u001b[90m   @ \u001b[39m\u001b[90m./\u001b[39m\u001b[90;4mindices.jl:277\u001b[0m\n [5] \u001b[0m\u001b[1mto_indices\u001b[22m\n\u001b[90m   @ \u001b[39m\u001b[90m./\u001b[39m\u001b[90;4mindices.jl:333\u001b[0m\n [6] \u001b[0m\u001b[1mto_indices\u001b[22m\n\u001b[90m   @ \u001b[39m\u001b[90m./\u001b[39m\u001b[90;4mindices.jl:324\u001b[0m\n [7] \u001b[0m\u001b[1msetindex!\u001b[22m\n\u001b[90m   @ \u001b[39m\u001b[90m./\u001b[39m\u001b[90;4mabstractarray.jl:1267\u001b[0m\n [8] \u001b[0m\u001b[1mreduce_kernel\u001b[22m\n\u001b[90m   @ \u001b[39m\u001b[90m~/Documentos/Maestria-GitHub/CellAggregate.jl/src/\u001b[39m\u001b[90;4mneighbor.jl:79\u001b[0m\n\u001b[31mReason: unsupported call through a literal pointer\u001b[39m\u001b[31m (call to )\u001b[39m\nStacktrace:\n [1] \u001b[0m\u001b[1m_string_n\u001b[22m\n\u001b[90m   @ \u001b[39m\u001b[90m./strings/\u001b[39m\u001b[90;4mstring.jl:74\u001b[0m\n [2] \u001b[0m\u001b[1mStringVector\u001b[22m\n\u001b[90m   @ \u001b[39m\u001b[90m./\u001b[39m\u001b[90;4miobuffer.jl:31\u001b[0m\n [3] \u001b[0m\u001b[1m#IOBuffer#361\u001b[22m\n\u001b[90m   @ \u001b[39m\u001b[90m./\u001b[39m\u001b[90;4miobuffer.jl:114\u001b[0m\n [4] \u001b[0m\u001b[1mprint_to_string\u001b[22m\n\u001b[90m   @ \u001b[39m\u001b[90m./strings/\u001b[39m\u001b[90;4mio.jl:133\u001b[0m\n\u001b[31mReason: unsupported call through a literal pointer\u001b[39m\u001b[31m (call to )\u001b[39m\nStacktrace:\n [1] \u001b[0m\u001b[1munsafe_wrap\u001b[22m\n\u001b[90m   @ \u001b[39m\u001b[90m./strings/\u001b[39m\u001b[90;4mstring.jl:85\u001b[0m\n [2] \u001b[0m\u001b[1mStringVector\u001b[22m\n\u001b[90m   @ \u001b[39m\u001b[90m./\u001b[39m\u001b[90;4miobuffer.jl:31\u001b[0m\n [3] \u001b[0m\u001b[1m#IOBuffer#361\u001b[22m\n\u001b[90m   @ \u001b[39m\u001b[90m./\u001b[39m\u001b[90;4miobuffer.jl:114\u001b[0m\n [4] \u001b[0m\u001b[1mprint_to_string\u001b[22m\n\u001b[90m   @ \u001b[39m\u001b[90m./strings/\u001b[39m\u001b[90;4mio.jl:133\u001b[0m\n\u001b[31mReason: unsupported call through a literal pointer\u001b[39m\u001b[31m (call to )\u001b[39m\nStacktrace:\n [1] \u001b[0m\u001b[1mfill!\u001b[22m\n\u001b[90m   @ \u001b[39m\u001b[90m./\u001b[39m\u001b[90;4marray.jl:406\u001b[0m\n [2] \u001b[0m\u001b[1m#IOBuffer#361\u001b[22m\n\u001b[90m   @ \u001b[39m\u001b[90m./\u001b[39m\u001b[90;4miobuffer.jl:121\u001b[0m\n [3] \u001b[0m\u001b[1mprint_to_string\u001b[22m\n\u001b[90m   @ \u001b[39m\u001b[90m./strings/\u001b[39m\u001b[90;4mio.jl:133\u001b[0m\n\u001b[31mReason: unsupported dynamic function invocation\u001b[39m\u001b[31m (call to print)\u001b[39m\nStacktrace:\n [1] \u001b[0m\u001b[1mprint_to_string\u001b[22m\n\u001b[90m   @ \u001b[39m\u001b[90m./strings/\u001b[39m\u001b[90;4mio.jl:135\u001b[0m\n\u001b[31mReason: unsupported call through a literal pointer\u001b[39m\u001b[31m (call to )\u001b[39m\nStacktrace:\n [1] \u001b[0m\u001b[1m_growend!\u001b[22m\n\u001b[90m   @ \u001b[39m\u001b[90m./\u001b[39m\u001b[90;4marray.jl:888\u001b[0m\n [2] \u001b[0m\u001b[1mresize!\u001b[22m\n\u001b[90m   @ \u001b[39m\u001b[90m./\u001b[39m\u001b[90;4marray.jl:1108\u001b[0m\n [3] \u001b[0m\u001b[1mprint_to_string\u001b[22m\n\u001b[90m   @ \u001b[39m\u001b[90m./strings/\u001b[39m\u001b[90;4mio.jl:137\u001b[0m\n\u001b[31mReason: unsupported call through a literal pointer\u001b[39m\u001b[31m (call to )\u001b[39m\nStacktrace:\n [1] \u001b[0m\u001b[1m_deleteend!\u001b[22m\n\u001b[90m   @ \u001b[39m\u001b[90m./\u001b[39m\u001b[90;4marray.jl:897\u001b[0m\n [2] \u001b[0m\u001b[1mresize!\u001b[22m\n\u001b[90m   @ \u001b[39m\u001b[90m./\u001b[39m\u001b[90;4marray.jl:1113\u001b[0m\n [3] \u001b[0m\u001b[1mprint_to_string\u001b[22m\n\u001b[90m   @ \u001b[39m\u001b[90m./strings/\u001b[39m\u001b[90;4mio.jl:137\u001b[0m\n\u001b[31mReason: unsupported call through a literal pointer\u001b[39m\u001b[31m (call to )\u001b[39m\nStacktrace:\n [1] \u001b[0m\u001b[1mString\u001b[22m\n\u001b[90m   @ \u001b[39m\u001b[90m./strings/\u001b[39m\u001b[90;4mstring.jl:53\u001b[0m\n [2] \u001b[0m\u001b[1mprint_to_string\u001b[22m\n\u001b[90m   @ \u001b[39m\u001b[90m./strings/\u001b[39m\u001b[90;4mio.jl:137\u001b[0m\n\u001b[36m\u001b[1mHint\u001b[22m\u001b[39m\u001b[36m: catch this exception as `err` and call `code_typed(err; interactive = true)` to introspect the erronous code with Cthulhu.jl\u001b[39m",
      "",
      "Stacktrace:",
      "  [1] check_ir(job::GPUCompiler.CompilerJob{GPUCompiler.PTXCompilerTarget, CUDA.CUDACompilerParams, GPUCompiler.FunctionSpec{typeof(reduce_kernel), Tuple{CuDeviceMatrix{Float32, 1}, CuDeviceMatrix{Float32, 1}, CuDeviceMatrix{Float32, 1}}}}, args::LLVM.Module)",
      "    @ GPUCompiler ~/.julia/packages/GPUCompiler/kb6yJ/src/validation.jl:141",
      "  [2] macro expansion",
      "    @ ~/.julia/packages/GPUCompiler/kb6yJ/src/driver.jl:418 [inlined]",
      "  [3] macro expansion",
      "    @ ~/.julia/packages/TimerOutputs/LHjFw/src/TimerOutput.jl:253 [inlined]",
      "  [4] macro expansion",
      "    @ ~/.julia/packages/GPUCompiler/kb6yJ/src/driver.jl:416 [inlined]",
      "  [5] emit_asm(job::GPUCompiler.CompilerJob, ir::LLVM.Module; strip::Bool, validate::Bool, format::LLVM.API.LLVMCodeGenFileType)",
      "    @ GPUCompiler ~/.julia/packages/GPUCompiler/kb6yJ/src/utils.jl:83",
      "  [6] cufunction_compile(job::GPUCompiler.CompilerJob, ctx::LLVM.Context)",
      "    @ CUDA ~/.julia/packages/CUDA/ZdCxS/src/compiler/execution.jl:361",
      "  [7] #219",
      "    @ ~/.julia/packages/CUDA/ZdCxS/src/compiler/execution.jl:354 [inlined]",
      "  [8] JuliaContext(f::CUDA.var\"#219#220\"{GPUCompiler.CompilerJob{GPUCompiler.PTXCompilerTarget, CUDA.CUDACompilerParams, GPUCompiler.FunctionSpec{typeof(reduce_kernel), Tuple{CuDeviceMatrix{Float32, 1}, CuDeviceMatrix{Float32, 1}, CuDeviceMatrix{Float32, 1}}}}})",
      "    @ GPUCompiler ~/.julia/packages/GPUCompiler/kb6yJ/src/driver.jl:76",
      "  [9] cufunction_compile(job::GPUCompiler.CompilerJob)",
      "    @ CUDA ~/.julia/packages/CUDA/ZdCxS/src/compiler/execution.jl:353",
      " [10] cached_compilation(cache::Dict{UInt64, Any}, job::GPUCompiler.CompilerJob, compiler::typeof(CUDA.cufunction_compile), linker::typeof(CUDA.cufunction_link))",
      "    @ GPUCompiler ~/.julia/packages/GPUCompiler/kb6yJ/src/cache.jl:90",
      " [11] cufunction(f::typeof(reduce_kernel), tt::Type{Tuple{CuDeviceMatrix{Float32, 1}, CuDeviceMatrix{Float32, 1}, CuDeviceMatrix{Float32, 1}}}; name::Nothing, always_inline::Bool, kwargs::Base.Iterators.Pairs{Union{}, Union{}, Tuple{}, NamedTuple{(), Tuple{}}})",
      "    @ CUDA ~/.julia/packages/CUDA/ZdCxS/src/compiler/execution.jl:306",
      " [12] cufunction(f::typeof(reduce_kernel), tt::Type{Tuple{CuDeviceMatrix{Float32, 1}, CuDeviceMatrix{Float32, 1}, CuDeviceMatrix{Float32, 1}}})",
      "    @ CUDA ~/.julia/packages/CUDA/ZdCxS/src/compiler/execution.jl:300",
      " [13] top-level scope",
      "    @ ~/.julia/packages/CUDA/ZdCxS/src/compiler/execution.jl:102"
     ]
    }
   ],
   "source": [
    "println(\"------------------------ SIZE ------------------------\")\n",
    "println(\"Size idx_real  = $(size(AGG.Neighbor.idx))\")\n",
    "println(\"Size idx_sum   = $(size(AGG.Neighbor.idx_sum))\")\n",
    "println(\"Size idx_red   = $(size(AGG.Neighbor.idx_red))\")\n",
    "println(\"------------------------ IDX -------------------------\")\n",
    "display(AGG.Neighbor.idx)\n",
    "println(\"--------------------- SIZE CUDA ----------------------\")\n",
    "threads=1024\n",
    "blocks=cld.(size(AGG.Neighbor.idx,1),threads)\n",
    "println(\"Threads = $(threads)\")\n",
    "println(\"Blocks  = $(blocks)\")\n",
    "A = AGG.Neighbor.idx\n",
    "B = AGG.Neighbor.idx_red\n",
    "C = AGG.Neighbor.idx_sum\n",
    "println(\"--------------------- CUDA SOLVER --------------------\")\n",
    "@cuda threads=threads blocks=blocks reduce_kernel(A,B,C)\n",
    "display(AGG.Neighbor.idx_red)\n",
    "display(AGG.Neighbor.idx_sum)"
   ]
  },
  {
   "cell_type": "code",
   "execution_count": 28,
   "metadata": {},
   "outputs": [
    {
     "data": {
      "text/plain": [
       "1×746 CuArray{Float32, 2, CUDA.Mem.DeviceBuffer}:\n",
       " 0.0  0.0  0.0  0.0  0.0  0.0  0.0  0.0  …  0.0  0.0  0.0  0.0  0.0  0.0  0.0"
      ]
     },
     "execution_count": 28,
     "metadata": {},
     "output_type": "execute_result"
    }
   ],
   "source": [
    "AGG.Neighbor.idx_sum"
   ]
  }
 ],
 "metadata": {
  "kernelspec": {
   "display_name": "Julia 1.6.7",
   "language": "julia",
   "name": "julia-1.6"
  },
  "language_info": {
   "file_extension": ".jl",
   "mimetype": "application/julia",
   "name": "julia",
   "version": "1.6.7"
  }
 },
 "nbformat": 4,
 "nbformat_minor": 4
}
