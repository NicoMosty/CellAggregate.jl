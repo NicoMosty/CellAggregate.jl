{
 "cells": [
  {
   "attachments": {},
   "cell_type": "markdown",
   "metadata": {},
   "source": [
    "# Dependences"
   ]
  },
  {
   "cell_type": "code",
   "execution_count": null,
   "metadata": {},
   "outputs": [],
   "source": [
    "include(\"../../src/struct_data.jl\")\n",
    "include(\"../../src/neighbor.jl\")\n",
    "include(\"../../src/forces/forces.jl\")"
   ]
  },
  {
   "attachments": {},
   "cell_type": "markdown",
   "metadata": {},
   "source": [
    "# Model & Aggregate"
   ]
  },
  {
   "cell_type": "code",
   "execution_count": null,
   "metadata": {},
   "outputs": [],
   "source": [
    "@time Model = ModelSet(\n",
    "    TimeModel(\n",
    "        tₛᵢₘ  = 100000.0,\n",
    "        dt    = 0.5,\n",
    "        nₖₙₙ  = 101,\n",
    "        nₛₐᵥₑ = 500\n",
    "    ),\n",
    "    InputModel(\n",
    "        outer_ratio = 0.8,\n",
    "        path_input  = \"../../data/init/Sphere\"\n",
    "    ),\n",
    "    OutputModel(\n",
    "        name_output = \"Test_1\",\n",
    "        path_output = \"\"\n",
    "    )\n",
    ")\n",
    "dump(Model)"
   ]
  },
  {
   "cell_type": "code",
   "execution_count": null,
   "metadata": {},
   "outputs": [],
   "source": [
    "Par1, Par2 = (0.9,2.0,4.0), 0.1\n",
    "\n",
    "FusionAGG = nothing\n",
    "# @time @start_agg FusionAGG = FusionAggregate(\n",
    "@time FusionAGG = FusionAggregate(\n",
    "    [\n",
    "        AggType(\n",
    "            \"HEK_1\", \n",
    "            InteractionPar(\n",
    "                Cubic(Par1...), \n",
    "                ContractilePar(Par2)\n",
    "            ),\n",
    "            Float64.(readdlm(\"../../data/init/Sphere/10.0.xyz\")[3:end,2:end]) |> cu\n",
    "        )\n",
    "    ], \n",
    "    Model\n",
    ")"
   ]
  },
  {
   "attachments": {},
   "cell_type": "markdown",
   "metadata": {},
   "source": [
    "# kNN & Force"
   ]
  },
  {
   "cell_type": "code",
   "execution_count": null,
   "metadata": {},
   "outputs": [],
   "source": [
    "println(\"--------------------------------- Running CUDA kNN ---------------------------------\")\n",
    "@time nearest_neighbors(FusionAGG)\n",
    "display(FusionAGG.Simulation.Neighbor.idx_red)"
   ]
  },
  {
   "cell_type": "code",
   "execution_count": null,
   "metadata": {},
   "outputs": [],
   "source": [
    "println(\"-------------------------------- Running CUDA Force --------------------------------\")\n",
    "@time cu_force(FusionAGG,Model,1.0)\n",
    "display(FusionAGG.Position)"
   ]
  },
  {
   "cell_type": "code",
   "execution_count": null,
   "metadata": {},
   "outputs": [],
   "source": [
    "model = Model\n",
    "agg = FusionAGG\n",
    "\n",
    "t = 0.0\n",
    "for t = 0.0:model.Time.dt:model.Time.tₛᵢₘ\n",
    "    global position_ant\n",
    "    \n",
    "    position_ant = copy(agg.Position)\n",
    "\n",
    "    # # Saving data in a given time (nₛₐᵥₑ)\n",
    "    if (Int(t/model.Time.dt) % model.Time.nₛₐᵥₑ+1) == 1\n",
    "        pos = Matrix(agg.Position)\n",
    "        open(full_path(model.Output.path_output,model.Output.name_output)*\".xyz\", \"a\") do f\n",
    "            write(f, \"$(size(agg.Position, 1))\\n\")\n",
    "            write(f, \"t=$(t)\\n\")\n",
    "            writedlm(f,hcat(agg.Geometry.outline,pos), ' ')\n",
    "        end\n",
    "    end\n",
    "\n",
    "    # # Calculating the kNN for the aggregate\n",
    "    # if (step % model.Time.nₖₙₙ+1) == 1\n",
    "    #     nearest_neighbors(agg)\n",
    "    # end\n",
    "\n",
    "    # # Compute the forces between each pair of particles in `agg` and their displacement.\n",
    "    t_nₖₙₙ = Int(t/model.Time.dt) % model.Time.nₖₙₙ+1\n",
    "    cu_force(agg,model,t_nₖₙₙ)\n",
    "\n",
    "\n",
    "    if any(isnan.(agg.Position)) & any(.!isfinite.(agg.Position)) == true\n",
    "        break\n",
    "    end\n",
    "end\n",
    "\n",
    "println(\"t = $(t) | step = $(Int(t/model.Time.dt))\")\n",
    "\n",
    "println(any(isnan.(position_ant)) & any(.!isfinite.(position_ant))) \n",
    "display(position_ant)\n",
    "\n",
    "println(any(isnan.(agg.Position)) & any(.!isfinite.(agg.Position)))\n",
    "display(agg.Position)"
   ]
  },
  {
   "cell_type": "code",
   "execution_count": null,
   "metadata": {},
   "outputs": [],
   "source": [
    "Points = position_ant\n",
    "Idx_red = FusionAGG.Simulation.Neighbor.idx_red\n",
    "\n",
    "threads =(16,3)\n",
    "blocks  =(cld.(size(Points,1)+1,threads[1]),1)\n",
    "\n",
    "# Running GPU for calculing force\n",
    "@cuda threads=threads blocks=blocks sum_force!(\n",
    "    Idx_red,\n",
    "    Points,\n",
    "    FusionAGG.Simulation.Force.F,\n",
    "    FusionAGG.Simulation.Parameter.Force,\n",
    "    model.Time.dt\n",
    ")\n",
    "\n",
    "Points"
   ]
  },
  {
   "attachments": {},
   "cell_type": "markdown",
   "metadata": {},
   "source": [
    "# later"
   ]
  },
  {
   "cell_type": "code",
   "execution_count": null,
   "metadata": {},
   "outputs": [],
   "source": [
    "# using ProgressMeter\n",
    "\n",
    "# # function simulate(agg::Aggregate, model::ModelSet, saving::Bool)\n",
    "# model = Model\n",
    "# agg = FusionAGG\n",
    "\n",
    "# # Calculating position of every cell on the fusion\n",
    "# @showprogress \"Simulating Aggregate...\" for step::Int = 0:1:(model.Time.tₛᵢₘ/model.Time.dt)\n",
    "    \n",
    "#     # # Saving data in a given time (nₛₐᵥₑ)\n",
    "#     # if (step % model.Time.nₛₐᵥₑ+1) == 1\n",
    "#         pos = Matrix(agg.Position)\n",
    "#         open(full_path(model.Output.path_output,model.Output.name_output)*\".xyz\", \"a\") do f\n",
    "#             write(f, \"$(size(agg.Position, 1))\\n\")\n",
    "#             write(f, \"t=$(step*model.Time.dt)\\n\")\n",
    "#             writedlm(f,hcat(agg.Geometry.outline,pos), ' ')\n",
    "#         end\n",
    "#     # end\n",
    "\n",
    "#     # # Calculating the kNN for the aggregate\n",
    "#     # if (step % model.Time.nₖₙₙ+1) == 1\n",
    "#     #     nearest_neighbors(agg)\n",
    "#     # end\n",
    "\n",
    "#     # # Compute the forces between each pair of particles in `agg` and their displacement.\n",
    "#     t_nₖₙₙ = step % model.Time.nₖₙₙ+1\n",
    "#     cu_force(agg,model,t_nₖₙₙ)\n",
    "# end"
   ]
  }
 ],
 "metadata": {
  "kernelspec": {
   "display_name": "Julia 1.6.7",
   "language": "julia",
   "name": "julia-1.6"
  },
  "language_info": {
   "file_extension": ".jl",
   "mimetype": "application/julia",
   "name": "julia",
   "version": "1.6.7"
  },
  "orig_nbformat": 4
 },
 "nbformat": 4,
 "nbformat_minor": 2
}
