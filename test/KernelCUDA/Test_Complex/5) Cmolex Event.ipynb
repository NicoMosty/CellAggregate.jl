{
 "cells": [
  {
   "attachments": {},
   "cell_type": "markdown",
   "metadata": {},
   "source": [
    "# Prev"
   ]
  },
  {
   "attachments": {},
   "cell_type": "markdown",
   "metadata": {},
   "source": [
    "## include"
   ]
  },
  {
   "cell_type": "code",
   "execution_count": 3,
   "metadata": {},
   "outputs": [
    {
     "data": {
      "text/plain": [
       "RunFusionAggregates (generic function with 1 method)"
      ]
     },
     "execution_count": 3,
     "metadata": {},
     "output_type": "execute_result"
    }
   ],
   "source": [
    "include(\"../../../src/struct_data.jl\")\n",
    "include(\"../../../src/neighbor.jl\")\n",
    "include(\"../../../src/forces/forces.jl\")\n",
    "include(\"../../../src/run_event.jl\")"
   ]
  },
  {
   "attachments": {},
   "cell_type": "markdown",
   "metadata": {},
   "source": [
    "## model"
   ]
  },
  {
   "cell_type": "code",
   "execution_count": 4,
   "metadata": {},
   "outputs": [
    {
     "name": "stdout",
     "output_type": "stream",
     "text": [
      "  0.000000 seconds (4 allocations: 144 bytes)\n"
     ]
    }
   ],
   "source": [
    "@time model = ModelSet(\n",
    "    TimeModel(\n",
    "        tₛᵢₘ  = 150000.0,\n",
    "        dt    = 0.5,\n",
    "        nₖₙₙ  = 100,\n",
    "        nₛₐᵥₑ = 50\n",
    "    ),\n",
    "    InputModel(\n",
    "        outer_ratio = 0.8,\n",
    "        path_input  = \"../../data/init/Sphere\"\n",
    "    ),\n",
    "    OutputModel(\n",
    "        name_output = \"Test_1\",\n",
    "        path_output = \"\"\n",
    "    ) \n",
    ")\n",
    "\n",
    "check_data(\"Test.xyz\")"
   ]
  },
  {
   "attachments": {},
   "cell_type": "markdown",
   "metadata": {},
   "source": [
    "# Run"
   ]
  },
  {
   "cell_type": "code",
   "execution_count": 5,
   "metadata": {},
   "outputs": [
    {
     "data": {
      "image/svg+xml": [
       "<?xml version=\"1.0\" encoding=\"utf-8\"?>\n",
       "<svg xmlns=\"http://www.w3.org/2000/svg\" xmlns:xlink=\"http://www.w3.org/1999/xlink\" width=\"500\" height=\"500\" viewBox=\"0 0 2000 2000\">\n",
       "<defs>\n",
       "  <clipPath id=\"clip680\">\n",
       "    <rect x=\"0\" y=\"0\" width=\"2000\" height=\"2000\"/>\n",
       "  </clipPath>\n",
       "</defs>\n",
       "<path clip-path=\"url(#clip680)\" d=\"M0 2000 L2000 2000 L2000 0 L0 0  Z\" fill=\"#ffffff\" fill-rule=\"evenodd\" fill-opacity=\"1\"/>\n",
       "<defs>\n",
       "  <clipPath id=\"clip681\">\n",
       "    <rect x=\"400\" y=\"200\" width=\"1401\" height=\"1401\"/>\n",
       "  </clipPath>\n",
       "</defs>\n",
       "<path clip-path=\"url(#clip680)\" d=\"M174.867 1865.17 L1952.76 1865.17 L1952.76 47.2441 L174.867 47.2441  Z\" fill=\"#ffffff\" fill-rule=\"evenodd\" fill-opacity=\"1\"/>\n",
       "<defs>\n",
       "  <clipPath id=\"clip682\">\n",
       "    <rect x=\"174\" y=\"47\" width=\"1779\" height=\"1819\"/>\n",
       "  </clipPath>\n",
       "</defs>\n",
       "<polyline clip-path=\"url(#clip682)\" style=\"stroke:#000000; stroke-linecap:round; stroke-linejoin:round; stroke-width:2; stroke-opacity:0.1; fill:none\" points=\"375.801,1865.17 375.801,47.2441 \"/>\n",
       "<polyline clip-path=\"url(#clip682)\" style=\"stroke:#000000; stroke-linecap:round; stroke-linejoin:round; stroke-width:2; stroke-opacity:0.1; fill:none\" points=\"719.806,1865.17 719.806,47.2441 \"/>\n",
       "<polyline clip-path=\"url(#clip682)\" style=\"stroke:#000000; stroke-linecap:round; stroke-linejoin:round; stroke-width:2; stroke-opacity:0.1; fill:none\" points=\"1063.81,1865.17 1063.81,47.2441 \"/>\n",
       "<polyline clip-path=\"url(#clip682)\" style=\"stroke:#000000; stroke-linecap:round; stroke-linejoin:round; stroke-width:2; stroke-opacity:0.1; fill:none\" points=\"1407.82,1865.17 1407.82,47.2441 \"/>\n",
       "<polyline clip-path=\"url(#clip682)\" style=\"stroke:#000000; stroke-linecap:round; stroke-linejoin:round; stroke-width:2; stroke-opacity:0.1; fill:none\" points=\"1751.82,1865.17 1751.82,47.2441 \"/>\n",
       "<polyline clip-path=\"url(#clip680)\" style=\"stroke:#000000; stroke-linecap:round; stroke-linejoin:round; stroke-width:4; stroke-opacity:1; fill:none\" points=\"174.867,1865.17 1952.76,1865.17 \"/>\n",
       "<polyline clip-path=\"url(#clip680)\" style=\"stroke:#000000; stroke-linecap:round; stroke-linejoin:round; stroke-width:4; stroke-opacity:1; fill:none\" points=\"375.801,1865.17 375.801,1846.27 \"/>\n",
       "<polyline clip-path=\"url(#clip680)\" style=\"stroke:#000000; stroke-linecap:round; stroke-linejoin:round; stroke-width:4; stroke-opacity:1; fill:none\" points=\"719.806,1865.17 719.806,1846.27 \"/>\n",
       "<polyline clip-path=\"url(#clip680)\" style=\"stroke:#000000; stroke-linecap:round; stroke-linejoin:round; stroke-width:4; stroke-opacity:1; fill:none\" points=\"1063.81,1865.17 1063.81,1846.27 \"/>\n",
       "<polyline clip-path=\"url(#clip680)\" style=\"stroke:#000000; stroke-linecap:round; stroke-linejoin:round; stroke-width:4; stroke-opacity:1; fill:none\" points=\"1407.82,1865.17 1407.82,1846.27 \"/>\n",
       "<polyline clip-path=\"url(#clip680)\" style=\"stroke:#000000; stroke-linecap:round; stroke-linejoin:round; stroke-width:4; stroke-opacity:1; fill:none\" points=\"1751.82,1865.17 1751.82,1846.27 \"/>\n",
       "<path clip-path=\"url(#clip680)\" d=\"M329.863 1907.54 L359.539 1907.54 L359.539 1911.47 L329.863 1911.47 L329.863 1907.54 Z\" fill=\"#000000\" fill-rule=\"nonzero\" fill-opacity=\"1\" /><path clip-path=\"url(#clip680)\" d=\"M373.659 1920.43 L389.979 1920.43 L389.979 1924.37 L368.034 1924.37 L368.034 1920.43 Q370.696 1917.68 375.28 1913.05 Q379.886 1908.4 381.067 1907.05 Q383.312 1904.53 384.192 1902.79 Q385.094 1901.03 385.094 1899.34 Q385.094 1896.59 383.15 1894.85 Q381.229 1893.12 378.127 1893.12 Q375.928 1893.12 373.474 1893.88 Q371.044 1894.65 368.266 1896.2 L368.266 1891.47 Q371.09 1890.34 373.544 1889.76 Q375.997 1889.18 378.034 1889.18 Q383.405 1889.18 386.599 1891.87 Q389.794 1894.55 389.794 1899.04 Q389.794 1901.17 388.983 1903.09 Q388.196 1904.99 386.09 1907.59 Q385.511 1908.26 382.409 1911.47 Q379.307 1914.67 373.659 1920.43 Z\" fill=\"#000000\" fill-rule=\"nonzero\" fill-opacity=\"1\" /><path clip-path=\"url(#clip680)\" d=\"M409.793 1892.89 Q406.182 1892.89 404.354 1896.45 Q402.548 1899.99 402.548 1907.12 Q402.548 1914.23 404.354 1917.79 Q406.182 1921.34 409.793 1921.34 Q413.428 1921.34 415.233 1917.79 Q417.062 1914.23 417.062 1907.12 Q417.062 1899.99 415.233 1896.45 Q413.428 1892.89 409.793 1892.89 M409.793 1889.18 Q415.604 1889.18 418.659 1893.79 Q421.738 1898.37 421.738 1907.12 Q421.738 1915.85 418.659 1920.46 Q415.604 1925.04 409.793 1925.04 Q403.983 1925.04 400.905 1920.46 Q397.849 1915.85 397.849 1907.12 Q397.849 1898.37 400.905 1893.79 Q403.983 1889.18 409.793 1889.18 Z\" fill=\"#000000\" fill-rule=\"nonzero\" fill-opacity=\"1\" /><path clip-path=\"url(#clip680)\" d=\"M673.869 1907.54 L703.544 1907.54 L703.544 1911.47 L673.869 1911.47 L673.869 1907.54 Z\" fill=\"#000000\" fill-rule=\"nonzero\" fill-opacity=\"1\" /><path clip-path=\"url(#clip680)\" d=\"M714.447 1920.43 L722.086 1920.43 L722.086 1894.07 L713.776 1895.73 L713.776 1891.47 L722.04 1889.81 L726.716 1889.81 L726.716 1920.43 L734.354 1920.43 L734.354 1924.37 L714.447 1924.37 L714.447 1920.43 Z\" fill=\"#000000\" fill-rule=\"nonzero\" fill-opacity=\"1\" /><path clip-path=\"url(#clip680)\" d=\"M753.799 1892.89 Q750.188 1892.89 748.359 1896.45 Q746.553 1899.99 746.553 1907.12 Q746.553 1914.23 748.359 1917.79 Q750.188 1921.34 753.799 1921.34 Q757.433 1921.34 759.239 1917.79 Q761.067 1914.23 761.067 1907.12 Q761.067 1899.99 759.239 1896.45 Q757.433 1892.89 753.799 1892.89 M753.799 1889.18 Q759.609 1889.18 762.664 1893.79 Q765.743 1898.37 765.743 1907.12 Q765.743 1915.85 762.664 1920.46 Q759.609 1925.04 753.799 1925.04 Q747.989 1925.04 744.91 1920.46 Q741.854 1915.85 741.854 1907.12 Q741.854 1898.37 744.91 1893.79 Q747.989 1889.18 753.799 1889.18 Z\" fill=\"#000000\" fill-rule=\"nonzero\" fill-opacity=\"1\" /><path clip-path=\"url(#clip680)\" d=\"M1063.81 1892.89 Q1060.2 1892.89 1058.37 1896.45 Q1056.57 1899.99 1056.57 1907.12 Q1056.57 1914.23 1058.37 1917.79 Q1060.2 1921.34 1063.81 1921.34 Q1067.45 1921.34 1069.25 1917.79 Q1071.08 1914.23 1071.08 1907.12 Q1071.08 1899.99 1069.25 1896.45 Q1067.45 1892.89 1063.81 1892.89 M1063.81 1889.18 Q1069.62 1889.18 1072.68 1893.79 Q1075.76 1898.37 1075.76 1907.12 Q1075.76 1915.85 1072.68 1920.46 Q1069.62 1925.04 1063.81 1925.04 Q1058 1925.04 1054.92 1920.46 Q1051.87 1915.85 1051.87 1907.12 Q1051.87 1898.37 1054.92 1893.79 Q1058 1889.18 1063.81 1889.18 Z\" fill=\"#000000\" fill-rule=\"nonzero\" fill-opacity=\"1\" /><path clip-path=\"url(#clip680)\" d=\"M1382.5 1920.43 L1390.14 1920.43 L1390.14 1894.07 L1381.83 1895.73 L1381.83 1891.47 L1390.1 1889.81 L1394.77 1889.81 L1394.77 1920.43 L1402.41 1920.43 L1402.41 1924.37 L1382.5 1924.37 L1382.5 1920.43 Z\" fill=\"#000000\" fill-rule=\"nonzero\" fill-opacity=\"1\" /><path clip-path=\"url(#clip680)\" d=\"M1421.86 1892.89 Q1418.24 1892.89 1416.42 1896.45 Q1414.61 1899.99 1414.61 1907.12 Q1414.61 1914.23 1416.42 1917.79 Q1418.24 1921.34 1421.86 1921.34 Q1425.49 1921.34 1427.3 1917.79 Q1429.12 1914.23 1429.12 1907.12 Q1429.12 1899.99 1427.3 1896.45 Q1425.49 1892.89 1421.86 1892.89 M1421.86 1889.18 Q1427.67 1889.18 1430.72 1893.79 Q1433.8 1898.37 1433.8 1907.12 Q1433.8 1915.85 1430.72 1920.46 Q1427.67 1925.04 1421.86 1925.04 Q1416.05 1925.04 1412.97 1920.46 Q1409.91 1915.85 1409.91 1907.12 Q1409.91 1898.37 1412.97 1893.79 Q1416.05 1889.18 1421.86 1889.18 Z\" fill=\"#000000\" fill-rule=\"nonzero\" fill-opacity=\"1\" /><path clip-path=\"url(#clip680)\" d=\"M1730.6 1920.43 L1746.91 1920.43 L1746.91 1924.37 L1724.97 1924.37 L1724.97 1920.43 Q1727.63 1917.68 1732.22 1913.05 Q1736.82 1908.4 1738 1907.05 Q1740.25 1904.53 1741.13 1902.79 Q1742.03 1901.03 1742.03 1899.34 Q1742.03 1896.59 1740.09 1894.85 Q1738.16 1893.12 1735.06 1893.12 Q1732.86 1893.12 1730.41 1893.88 Q1727.98 1894.65 1725.2 1896.2 L1725.2 1891.47 Q1728.03 1890.34 1730.48 1889.76 Q1732.93 1889.18 1734.97 1889.18 Q1740.34 1889.18 1743.53 1891.87 Q1746.73 1894.55 1746.73 1899.04 Q1746.73 1901.17 1745.92 1903.09 Q1745.13 1904.99 1743.03 1907.59 Q1742.45 1908.26 1739.35 1911.47 Q1736.24 1914.67 1730.6 1920.43 Z\" fill=\"#000000\" fill-rule=\"nonzero\" fill-opacity=\"1\" /><path clip-path=\"url(#clip680)\" d=\"M1766.73 1892.89 Q1763.12 1892.89 1761.29 1896.45 Q1759.48 1899.99 1759.48 1907.12 Q1759.48 1914.23 1761.29 1917.79 Q1763.12 1921.34 1766.73 1921.34 Q1770.36 1921.34 1772.17 1917.79 Q1774 1914.23 1774 1907.12 Q1774 1899.99 1772.17 1896.45 Q1770.36 1892.89 1766.73 1892.89 M1766.73 1889.18 Q1772.54 1889.18 1775.59 1893.79 Q1778.67 1898.37 1778.67 1907.12 Q1778.67 1915.85 1775.59 1920.46 Q1772.54 1925.04 1766.73 1925.04 Q1760.92 1925.04 1757.84 1920.46 Q1754.78 1915.85 1754.78 1907.12 Q1754.78 1898.37 1757.84 1893.79 Q1760.92 1889.18 1766.73 1889.18 Z\" fill=\"#000000\" fill-rule=\"nonzero\" fill-opacity=\"1\" /><polyline clip-path=\"url(#clip682)\" style=\"stroke:#000000; stroke-linecap:round; stroke-linejoin:round; stroke-width:2; stroke-opacity:0.1; fill:none\" points=\"174.867,1768.54 1952.76,1768.54 \"/>\n",
       "<polyline clip-path=\"url(#clip682)\" style=\"stroke:#000000; stroke-linecap:round; stroke-linejoin:round; stroke-width:2; stroke-opacity:0.1; fill:none\" points=\"174.867,1362.37 1952.76,1362.37 \"/>\n",
       "<polyline clip-path=\"url(#clip682)\" style=\"stroke:#000000; stroke-linecap:round; stroke-linejoin:round; stroke-width:2; stroke-opacity:0.1; fill:none\" points=\"174.867,956.206 1952.76,956.206 \"/>\n",
       "<polyline clip-path=\"url(#clip682)\" style=\"stroke:#000000; stroke-linecap:round; stroke-linejoin:round; stroke-width:2; stroke-opacity:0.1; fill:none\" points=\"174.867,550.038 1952.76,550.038 \"/>\n",
       "<polyline clip-path=\"url(#clip682)\" style=\"stroke:#000000; stroke-linecap:round; stroke-linejoin:round; stroke-width:2; stroke-opacity:0.1; fill:none\" points=\"174.867,143.87 1952.76,143.87 \"/>\n",
       "<polyline clip-path=\"url(#clip680)\" style=\"stroke:#000000; stroke-linecap:round; stroke-linejoin:round; stroke-width:4; stroke-opacity:1; fill:none\" points=\"174.867,1865.17 174.867,47.2441 \"/>\n",
       "<polyline clip-path=\"url(#clip680)\" style=\"stroke:#000000; stroke-linecap:round; stroke-linejoin:round; stroke-width:4; stroke-opacity:1; fill:none\" points=\"174.867,1768.54 193.764,1768.54 \"/>\n",
       "<polyline clip-path=\"url(#clip680)\" style=\"stroke:#000000; stroke-linecap:round; stroke-linejoin:round; stroke-width:4; stroke-opacity:1; fill:none\" points=\"174.867,1362.37 193.764,1362.37 \"/>\n",
       "<polyline clip-path=\"url(#clip680)\" style=\"stroke:#000000; stroke-linecap:round; stroke-linejoin:round; stroke-width:4; stroke-opacity:1; fill:none\" points=\"174.867,956.206 193.764,956.206 \"/>\n",
       "<polyline clip-path=\"url(#clip680)\" style=\"stroke:#000000; stroke-linecap:round; stroke-linejoin:round; stroke-width:4; stroke-opacity:1; fill:none\" points=\"174.867,550.038 193.764,550.038 \"/>\n",
       "<polyline clip-path=\"url(#clip680)\" style=\"stroke:#000000; stroke-linecap:round; stroke-linejoin:round; stroke-width:4; stroke-opacity:1; fill:none\" points=\"174.867,143.87 193.764,143.87 \"/>\n",
       "<path clip-path=\"url(#clip680)\" d=\"M52.9921 1768.99 L82.6679 1768.99 L82.6679 1772.93 L52.9921 1772.93 L52.9921 1768.99 Z\" fill=\"#000000\" fill-rule=\"nonzero\" fill-opacity=\"1\" /><path clip-path=\"url(#clip680)\" d=\"M96.7882 1781.89 L113.108 1781.89 L113.108 1785.82 L91.1632 1785.82 L91.1632 1781.89 Q93.8252 1779.13 98.4085 1774.5 Q103.015 1769.85 104.196 1768.51 Q106.441 1765.98 107.321 1764.25 Q108.223 1762.49 108.223 1760.8 Q108.223 1758.04 106.279 1756.31 Q104.358 1754.57 101.256 1754.57 Q99.0567 1754.57 96.603 1755.34 Q94.1725 1756.1 91.3947 1757.65 L91.3947 1752.93 Q94.2188 1751.79 96.6724 1751.22 Q99.1261 1750.64 101.163 1750.64 Q106.534 1750.64 109.728 1753.32 Q112.922 1756.01 112.922 1760.5 Q112.922 1762.63 112.112 1764.55 Q111.325 1766.45 109.219 1769.04 Q108.64 1769.71 105.538 1772.93 Q102.436 1776.12 96.7882 1781.89 Z\" fill=\"#000000\" fill-rule=\"nonzero\" fill-opacity=\"1\" /><path clip-path=\"url(#clip680)\" d=\"M132.922 1754.34 Q129.311 1754.34 127.482 1757.91 Q125.677 1761.45 125.677 1768.58 Q125.677 1775.68 127.482 1779.25 Q129.311 1782.79 132.922 1782.79 Q136.556 1782.79 138.362 1779.25 Q140.191 1775.68 140.191 1768.58 Q140.191 1761.45 138.362 1757.91 Q136.556 1754.34 132.922 1754.34 M132.922 1750.64 Q138.732 1750.64 141.788 1755.24 Q144.867 1759.83 144.867 1768.58 Q144.867 1777.3 141.788 1781.91 Q138.732 1786.49 132.922 1786.49 Q127.112 1786.49 124.033 1781.91 Q120.978 1777.3 120.978 1768.58 Q120.978 1759.83 124.033 1755.24 Q127.112 1750.64 132.922 1750.64 Z\" fill=\"#000000\" fill-rule=\"nonzero\" fill-opacity=\"1\" /><path clip-path=\"url(#clip680)\" d=\"M52.9921 1362.83 L82.6679 1362.83 L82.6679 1366.76 L52.9921 1366.76 L52.9921 1362.83 Z\" fill=\"#000000\" fill-rule=\"nonzero\" fill-opacity=\"1\" /><path clip-path=\"url(#clip680)\" d=\"M93.5706 1375.72 L101.209 1375.72 L101.209 1349.35 L92.8993 1351.02 L92.8993 1346.76 L101.163 1345.09 L105.839 1345.09 L105.839 1375.72 L113.478 1375.72 L113.478 1379.65 L93.5706 1379.65 L93.5706 1375.72 Z\" fill=\"#000000\" fill-rule=\"nonzero\" fill-opacity=\"1\" /><path clip-path=\"url(#clip680)\" d=\"M132.922 1348.17 Q129.311 1348.17 127.482 1351.74 Q125.677 1355.28 125.677 1362.41 Q125.677 1369.51 127.482 1373.08 Q129.311 1376.62 132.922 1376.62 Q136.556 1376.62 138.362 1373.08 Q140.191 1369.51 140.191 1362.41 Q140.191 1355.28 138.362 1351.74 Q136.556 1348.17 132.922 1348.17 M132.922 1344.47 Q138.732 1344.47 141.788 1349.08 Q144.867 1353.66 144.867 1362.41 Q144.867 1371.14 141.788 1375.74 Q138.732 1380.33 132.922 1380.33 Q127.112 1380.33 124.033 1375.74 Q120.978 1371.14 120.978 1362.41 Q120.978 1353.66 124.033 1349.08 Q127.112 1344.47 132.922 1344.47 Z\" fill=\"#000000\" fill-rule=\"nonzero\" fill-opacity=\"1\" /><path clip-path=\"url(#clip680)\" d=\"M132.922 942.005 Q129.311 942.005 127.482 945.569 Q125.677 949.111 125.677 956.241 Q125.677 963.347 127.482 966.912 Q129.311 970.454 132.922 970.454 Q136.556 970.454 138.362 966.912 Q140.191 963.347 140.191 956.241 Q140.191 949.111 138.362 945.569 Q136.556 942.005 132.922 942.005 M132.922 938.301 Q138.732 938.301 141.788 942.907 Q144.867 947.491 144.867 956.241 Q144.867 964.968 141.788 969.574 Q138.732 974.157 132.922 974.157 Q127.112 974.157 124.033 969.574 Q120.978 964.968 120.978 956.241 Q120.978 947.491 124.033 942.907 Q127.112 938.301 132.922 938.301 Z\" fill=\"#000000\" fill-rule=\"nonzero\" fill-opacity=\"1\" /><path clip-path=\"url(#clip680)\" d=\"M93.5706 563.383 L101.209 563.383 L101.209 537.017 L92.8993 538.684 L92.8993 534.425 L101.163 532.758 L105.839 532.758 L105.839 563.383 L113.478 563.383 L113.478 567.318 L93.5706 567.318 L93.5706 563.383 Z\" fill=\"#000000\" fill-rule=\"nonzero\" fill-opacity=\"1\" /><path clip-path=\"url(#clip680)\" d=\"M132.922 535.837 Q129.311 535.837 127.482 539.402 Q125.677 542.943 125.677 550.073 Q125.677 557.179 127.482 560.744 Q129.311 564.286 132.922 564.286 Q136.556 564.286 138.362 560.744 Q140.191 557.179 140.191 550.073 Q140.191 542.943 138.362 539.402 Q136.556 535.837 132.922 535.837 M132.922 532.133 Q138.732 532.133 141.788 536.74 Q144.867 541.323 144.867 550.073 Q144.867 558.8 141.788 563.406 Q138.732 567.989 132.922 567.989 Q127.112 567.989 124.033 563.406 Q120.978 558.8 120.978 550.073 Q120.978 541.323 124.033 536.74 Q127.112 532.133 132.922 532.133 Z\" fill=\"#000000\" fill-rule=\"nonzero\" fill-opacity=\"1\" /><path clip-path=\"url(#clip680)\" d=\"M96.7882 157.215 L113.108 157.215 L113.108 161.15 L91.1632 161.15 L91.1632 157.215 Q93.8252 154.461 98.4085 149.831 Q103.015 145.178 104.196 143.836 Q106.441 141.312 107.321 139.576 Q108.223 137.817 108.223 136.127 Q108.223 133.373 106.279 131.637 Q104.358 129.9 101.256 129.9 Q99.0567 129.9 96.603 130.664 Q94.1725 131.428 91.3947 132.979 L91.3947 128.257 Q94.2188 127.123 96.6724 126.544 Q99.1261 125.965 101.163 125.965 Q106.534 125.965 109.728 128.65 Q112.922 131.336 112.922 135.826 Q112.922 137.956 112.112 139.877 Q111.325 141.775 109.219 144.368 Q108.64 145.039 105.538 148.257 Q102.436 151.451 96.7882 157.215 Z\" fill=\"#000000\" fill-rule=\"nonzero\" fill-opacity=\"1\" /><path clip-path=\"url(#clip680)\" d=\"M132.922 129.669 Q129.311 129.669 127.482 133.234 Q125.677 136.775 125.677 143.905 Q125.677 151.011 127.482 154.576 Q129.311 158.118 132.922 158.118 Q136.556 158.118 138.362 154.576 Q140.191 151.011 140.191 143.905 Q140.191 136.775 138.362 133.234 Q136.556 129.669 132.922 129.669 M132.922 125.965 Q138.732 125.965 141.788 130.572 Q144.867 135.155 144.867 143.905 Q144.867 152.632 141.788 157.238 Q138.732 161.822 132.922 161.822 Q127.112 161.822 124.033 157.238 Q120.978 152.632 120.978 143.905 Q120.978 135.155 124.033 130.572 Q127.112 125.965 132.922 125.965 Z\" fill=\"#000000\" fill-rule=\"nonzero\" fill-opacity=\"1\" /><polyline clip-path=\"url(#clip682)\" style=\"stroke:#009af9; stroke-linecap:round; stroke-linejoin:round; stroke-width:4; stroke-opacity:1; fill:none\" points=\"1902.44,956.206 1483.12,98.6948 644.498,98.6948 225.184,956.206 644.498,1813.72 1483.12,1813.72 1902.44,956.206 \"/>\n",
       "<path clip-path=\"url(#clip680)\" d=\"M1663.27 211.522 L1893.49 211.522 L1893.49 107.842 L1663.27 107.842  Z\" fill=\"#ffffff\" fill-rule=\"evenodd\" fill-opacity=\"1\"/>\n",
       "<polyline clip-path=\"url(#clip680)\" style=\"stroke:#000000; stroke-linecap:round; stroke-linejoin:round; stroke-width:4; stroke-opacity:1; fill:none\" points=\"1663.27,211.522 1893.49,211.522 1893.49,107.842 1663.27,107.842 1663.27,211.522 \"/>\n",
       "<polyline clip-path=\"url(#clip680)\" style=\"stroke:#009af9; stroke-linecap:round; stroke-linejoin:round; stroke-width:4; stroke-opacity:1; fill:none\" points=\"1683.03,159.682 1801.55,159.682 \"/>\n",
       "<path clip-path=\"url(#clip680)\" d=\"M1835.15 179.369 Q1833.35 183.999 1831.63 185.411 Q1829.92 186.823 1827.05 186.823 L1823.65 186.823 L1823.65 183.258 L1826.15 183.258 Q1827.91 183.258 1828.88 182.424 Q1829.85 181.591 1831.03 178.489 L1831.79 176.545 L1821.31 151.036 L1825.82 151.036 L1833.92 171.313 L1842.03 151.036 L1846.54 151.036 L1835.15 179.369 Z\" fill=\"#000000\" fill-rule=\"nonzero\" fill-opacity=\"1\" /><path clip-path=\"url(#clip680)\" d=\"M1853.83 173.026 L1861.47 173.026 L1861.47 146.661 L1853.16 148.327 L1853.16 144.068 L1861.42 142.402 L1866.1 142.402 L1866.1 173.026 L1873.74 173.026 L1873.74 176.962 L1853.83 176.962 L1853.83 173.026 Z\" fill=\"#000000\" fill-rule=\"nonzero\" fill-opacity=\"1\" /></svg>\n"
      ]
     },
     "execution_count": 5,
     "metadata": {},
     "output_type": "execute_result"
    }
   ],
   "source": [
    "using Plots\n",
    "init = Float32.(readdlm(\"init_stable.xyz\")[3:end,2:end]) \n",
    "\n",
    "r = find_radius(init)\n",
    "pos = vcat([[2r*cos(i) 2r*sin(i)] for i=collect(0:60:360)*pi/180]...)\n",
    "plot(pos[:,1],pos[:,2],size = (500,500))"
   ]
  },
  {
   "cell_type": "code",
   "execution_count": 6,
   "metadata": {},
   "outputs": [
    {
     "data": {
      "text/plain": [
       "Aggregate(AggType[AggType(\"HEK_1\", InteractionPar(Cubic{Float64}(0.0055, 2.0, 4.5), ContractilePar(0.164)), 12.189157f0, Float32[-5.8861017 -4.799863 -8.264273; 1.0154873 -5.753389 -9.426559; … ; 3.3784163 3.3059669 9.768439; 6.8377233 4.1324844 8.079775], CuArray{Float32, 2, CUDA.Mem.DeviceBuffer})], AggIndex([1, 1, 1, 1, 1, 1, 1, 1, 1, 1  …  1, 1, 1, 1, 1, 1, 1, 1, 1, 1], [1, 1, 1, 1, 1, 1, 1, 1, 1, 1  …  7, 7, 7, 7, 7, 7, 7, 7, 7, 7], [\"HEK_1\", \"HEK_1\", \"HEK_1\", \"HEK_1\", \"HEK_1\", \"HEK_1\", \"HEK_1\", \"HEK_1\", \"HEK_1\", \"HEK_1\"  …  \"HEK_1\", \"HEK_1\", \"HEK_1\", \"HEK_1\", \"HEK_1\", \"HEK_1\", \"HEK_1\", \"HEK_1\", \"HEK_1\", \"HEK_1\"]), Float32[18.49221 -4.799863 -8.264273; 25.3938 -5.753389 -9.426559; … ; 27.75673 3.3059669 9.768439; 31.216036 4.1324844 8.079775], AggGeometry(Float32[12.189157, 12.189157, 12.189157, 12.189157, 12.189157, 12.189157, 12.189157, 12.189157, 12.189157, 12.189157  …  12.189157, 12.189157, 12.189157, 12.189157, 12.189157, 12.189157, 12.189157, 12.189157, 12.189157, 12.189157], [1, 1, 1, 1, 1, 1, 1, 1, 1, 1  …  1, 1, 1, 1, 1, 1, 1, 1, 1, 1]), AggSimulation(AggParameter(Cubic{CuArray{Float32, 1, CUDA.Mem.DeviceBuffer}}(Float32[0.0055, 0.0055, 0.0055, 0.0055, 0.0055, 0.0055, 0.0055, 0.0055, 0.0055, 0.0055  …  0.0055, 0.0055, 0.0055, 0.0055, 0.0055, 0.0055, 0.0055, 0.0055, 0.0055, 0.0055], Float32[2.0, 2.0, 2.0, 2.0, 2.0, 2.0, 2.0, 2.0, 2.0, 2.0  …  2.0, 2.0, 2.0, 2.0, 2.0, 2.0, 2.0, 2.0, 2.0, 2.0], Float32[4.5, 4.5, 4.5, 4.5, 4.5, 4.5, 4.5, 4.5, 4.5, 4.5  …  4.5, 4.5, 4.5, 4.5, 4.5, 4.5, 4.5, 4.5, 4.5, 4.5]), ContractilePar(Float32[0.164, 0.164, 0.164, 0.164, 0.164, 0.164, 0.164, 0.164, 0.164, 0.164  …  0.164, 0.164, 0.164, 0.164, 0.164, 0.164, 0.164, 0.164, 0.164, 0.164]), Float32[12.189157]), AggNeighbor(Int32[0 0 … 0 0; 0 0 … 0 0; … ; 0 0 … 0 0; 0 0 … 0 0], Int32[0 0 … 0 0; 0 0 … 0 0; … ; 0 0 … 0 0; 0 0 … 0 0], Int32[0 0 … 0 0], Int32[0 0 … 0 0; 0 0 … 0 0; … ; 0 0 … 0 0; 0 0 … 0 0]), AggForce(Float32[0.0 0.0 0.0; 0.0 0.0 0.0; … ; 0.0 0.0 0.0; 0.0 0.0 0.0], Float32[0.0 0.0 0.0; 0.0 0.0 0.0; … ; 0.0 0.0 0.0; 0.0 0.0 0.0])))"
      ]
     },
     "execution_count": 6,
     "metadata": {},
     "output_type": "execute_result"
    }
   ],
   "source": [
    "Par1, Par2 = Cubic(0.0055,2.0,4.5), ContractilePar(0.164);\n",
    "\n",
    "agg = nothing\n",
    "agg = Aggregate(\n",
    "    [AggType(\n",
    "        \"HEK_1\", \n",
    "        InteractionPar(Par1, Par2),\n",
    "        init |> cu\n",
    "    )], \n",
    "    [AggLocation(\"HEK_1\",vcat(pos[i,:],0)') for i=1:size(pos,1)],\n",
    "    model\n",
    ")"
   ]
  },
  {
   "cell_type": "code",
   "execution_count": 9,
   "metadata": {},
   "outputs": [
    {
     "name": "stderr",
     "output_type": "stream",
     "text": [
      "\u001b[32mRun Complex Aggregate... 100%|███████████████████████████| Time: 0:08:54\u001b[39m39m\n"
     ]
    }
   ],
   "source": [
    "run_test(agg, model,\"Run Complex Aggregate\")"
   ]
  },
  {
   "cell_type": "code",
   "execution_count": null,
   "metadata": {},
   "outputs": [],
   "source": [
    "# open(\"Toto.xyz\", \"a\") do f\n",
    "#     write(f, \"TEST\\n\")\n",
    "#     write(f, \"t=1\\n\")\n",
    "#     writedlm(f,hcat(agg.Geometry.outline,agg.Position), ' ')\n",
    "# end"
   ]
  }
 ],
 "metadata": {
  "kernelspec": {
   "display_name": "Julia 1.6.7",
   "language": "julia",
   "name": "julia-1.6"
  },
  "language_info": {
   "file_extension": ".jl",
   "mimetype": "application/julia",
   "name": "julia",
   "version": "1.6.7"
  },
  "orig_nbformat": 4
 },
 "nbformat": 4,
 "nbformat_minor": 2
}
