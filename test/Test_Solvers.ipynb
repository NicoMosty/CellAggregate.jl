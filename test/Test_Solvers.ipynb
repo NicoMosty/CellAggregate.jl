{
 "cells": [
  {
   "cell_type": "markdown",
   "metadata": {},
   "source": [
    "# Installing Dependencies"
   ]
  },
  {
   "cell_type": "code",
   "execution_count": 2,
   "metadata": {},
   "outputs": [
    {
     "data": {
      "text/plain": [
       "euler (generic function with 1 method)"
      ]
     },
     "execution_count": 2,
     "metadata": {},
     "output_type": "execute_result"
    }
   ],
   "source": [
    "using DelimitedFiles\n",
    "include(\"../init/solvers.jl\")"
   ]
  },
  {
   "cell_type": "code",
   "execution_count": 4,
   "metadata": {},
   "outputs": [
    {
     "data": {
      "text/plain": [
       "0.5"
      ]
     },
     "execution_count": 4,
     "metadata": {},
     "output_type": "execute_result"
    }
   ],
   "source": [
    "R_Agg = 16\n",
    "\n",
    "X = readdlm(\"../data/Init/Two_Sphere/$R_Agg.csv\", ',', Float64, header=true)[1][:, 1:3]\n",
    "r_max, s = 2, 1\n",
    "K = 10\n",
    "t, t_knn = 0, 10\n",
    "dt = 0.5"
   ]
  },
  {
   "cell_type": "code",
   "execution_count": 10,
   "metadata": {},
   "outputs": [
    {
     "name": "stdout",
     "output_type": "stream",
     "text": [
      "  0.202419 seconds (1.73 M allocations: 65.836 MiB, 4.25% gc time)\n"
     ]
    },
    {
     "data": {
      "text/plain": [
       "6064×3 Array{Float64,2}:\n",
       " -17.98    -2.89  -15.51\n",
       " -15.98    -2.89  -15.51\n",
       " -13.98    -2.89  -15.51\n",
       " -18.98    -1.15  -15.51\n",
       " -16.98    -1.15  -15.51\n",
       " -14.98    -1.15  -15.51\n",
       " -12.98    -1.15  -15.51\n",
       " -19.9799   0.58  -15.51\n",
       " -17.98     0.58  -15.51\n",
       " -15.98     0.58  -15.51\n",
       " -13.98     0.58  -15.51\n",
       " -18.98     2.31  -15.51\n",
       " -16.98     2.31  -15.51\n",
       "   ⋮              \n",
       "  17.98    -2.31   15.51\n",
       "  12.9801  -0.58   15.51\n",
       "  14.98    -0.58   15.51\n",
       "  16.98    -0.58   15.51\n",
       "  18.98    -0.58   15.51\n",
       "  13.98     1.15   15.51\n",
       "  15.98     1.15   15.51\n",
       "  17.98     1.15   15.51\n",
       "  19.98     1.15   15.51\n",
       "  14.98     2.89   15.51\n",
       "  16.98     2.89   15.51\n",
       "  18.98     2.89   15.51"
      ]
     },
     "execution_count": 10,
     "metadata": {},
     "output_type": "execute_result"
    }
   ],
   "source": [
    "@time S = euler(X, dt, t, t_knn, r_max, s, K )"
   ]
  }
 ],
 "metadata": {
  "kernelspec": {
   "display_name": "Julia 1.4.1",
   "language": "julia",
   "name": "julia-1.4"
  },
  "language_info": {
   "file_extension": ".jl",
   "mimetype": "application/julia",
   "name": "julia",
   "version": "1.4.1"
  },
  "orig_nbformat": 4,
  "vscode": {
   "interpreter": {
    "hash": "916dbcbb3f70747c44a77c7bcd40155683ae19c65e1c03b4aa3499c5328201f1"
   }
  }
 },
 "nbformat": 4,
 "nbformat_minor": 2
}
