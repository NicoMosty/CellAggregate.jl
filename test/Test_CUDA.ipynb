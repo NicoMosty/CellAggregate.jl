{
 "cells": [
  {
   "cell_type": "code",
   "execution_count": 2,
   "metadata": {},
   "outputs": [
    {
     "name": "stdout",
     "output_type": "stream",
     "text": [
      "  0.000134 seconds (127 allocations: 11.359 KiB)\n",
      "  0.000187 seconds (208 allocations: 21.656 KiB)\n",
      "  0.000189 seconds (127 allocations: 11.375 KiB)\n",
      "  0.000172 seconds (208 allocations: 21.656 KiB)\n"
     ]
    }
   ],
   "source": [
    "@time using CUDA\n",
    "@time using DelimitedFiles\n",
    "@time using NearestNeighbors: KDTree, knn\n",
    "@time using LinearAlgebra: norm"
   ]
  },
  {
   "cell_type": "code",
   "execution_count": 4,
   "metadata": {},
   "outputs": [
    {
     "data": {
      "text/plain": [
       "force (generic function with 1 method)"
      ]
     },
     "metadata": {},
     "output_type": "display_data"
    }
   ],
   "source": [
    "function NearNeighbor(X, t, t_knn)\n",
    "    # Using kNN for Nearest Neighbors\n",
    "    if t%t_knn | t == 0\n",
    "        global kdtree = KDTree(X[:,1:3]')\n",
    "    end \n",
    "\n",
    "    # Loop over all cells to compute displacements\n",
    "    index, _ = knn(kdtree, X[1,1:3], 14, true)\n",
    "    for i in 2:size(X)[1]\n",
    "        # Scan neighbours\n",
    "        global idxs, _ = knn(kdtree, X[i,1:3], 14, true)\n",
    "        index = hcat(index, idxs)\n",
    "    end\n",
    "    return index\n",
    "end\n",
    "\n",
    "function force(X, r_max, s, K, NN)\n",
    "    # Initialise displacement array\n",
    "    global dX = zeros(Float64, size(X)[1], 3)\n",
    "\n",
    "    # Loop over all cells to compute displacements\n",
    "    for i in 1:size(X)[1]\n",
    "        # Scan neighbours\n",
    "        global idxs = NN[:,i]\n",
    "        # Initialise variables\n",
    "        global Xi = X[i,1:3]\n",
    "        for j in idxs\n",
    "            if i != j\n",
    "                global r = Xi - X[j,1:3]\n",
    "                global dist = norm(r)\n",
    "                # Calculate attraction/repulsion force differential here\n",
    "                if dist < r_max\n",
    "                    global F = - K*(dist-r_max)*(dist-r_max)*(dist - s)\n",
    "                    dX[i,:] +=  r/dist * F\n",
    "                end\n",
    "            end\n",
    "        end\n",
    "    end\n",
    "    return dX\n",
    "end"
   ]
  },
  {
   "cell_type": "code",
   "execution_count": 5,
   "metadata": {},
   "outputs": [],
   "source": [
    "R_Agg = 16\n",
    "t, t_knn = 0,10\n",
    "# r_max, s = 2, 1\n",
    "# K = 10\n",
    "# dt = 0.5;"
   ]
  },
  {
   "cell_type": "code",
   "execution_count": 27,
   "metadata": {},
   "outputs": [
    {
     "name": "stdout",
     "output_type": "stream",
     "text": [
      "  0.036387 seconds (565.10 k allocations: 15.185 MiB)\n",
      "  0.000089 seconds (8 allocations: 71.297 KiB)\n"
     ]
    },
    {
     "data": {
      "text/plain": [
       "6064×3 CuArray{Float32, 2, CUDA.Mem.DeviceBuffer}:\n",
       " -17.98  -2.89  -15.51\n",
       " -15.98  -2.89  -15.51\n",
       " -13.98  -2.89  -15.51\n",
       " -18.98  -1.15  -15.51\n",
       " -16.98  -1.15  -15.51\n",
       " -14.98  -1.15  -15.51\n",
       " -12.98  -1.15  -15.51\n",
       " -19.98   0.58  -15.51\n",
       " -17.98   0.58  -15.51\n",
       " -15.98   0.58  -15.51\n",
       "   ⋮            \n",
       "  16.98  -0.58   15.51\n",
       "  18.98  -0.58   15.51\n",
       "  13.98   1.15   15.51\n",
       "  15.98   1.15   15.51\n",
       "  17.98   1.15   15.51\n",
       "  19.98   1.15   15.51\n",
       "  14.98   2.89   15.51\n",
       "  16.98   2.89   15.51\n",
       "  18.98   2.89   15.51"
      ]
     },
     "metadata": {},
     "output_type": "display_data"
    }
   ],
   "source": [
    "@time X = readdlm(\"../data/Init/Two_Sphere/$R_Agg.csv\", ',', Float64, header=true)[1][:, 1:3]\n",
    "@time X_Cu = CuArray{Float32}(X)"
   ]
  },
  {
   "cell_type": "code",
   "execution_count": 14,
   "metadata": {},
   "outputs": [
    {
     "name": "stdout",
     "output_type": "stream",
     "text": [
      "  0.331976 seconds (36.27 k allocations: 1.922 GiB, 16.60% gc time)\n",
      "  0.000299 seconds (6 allocations: 192 bytes)\n"
     ]
    }
   ],
   "source": [
    "@time NN = NearNeighbor(X, t, t_knn)\n",
    "@time idx_Cu = CuArray{Int}(NN);"
   ]
  },
  {
   "cell_type": "code",
   "execution_count": 23,
   "metadata": {},
   "outputs": [
    {
     "name": "stdout",
     "output_type": "stream",
     "text": [
      "  0.000001 seconds\n"
     ]
    },
    {
     "data": {
      "text/plain": [
       "6064×3 CuArray{Float32, 2, CUDA.Mem.DeviceBuffer}:\n",
       " -17.98  -2.89  -15.51\n",
       " -15.98  -2.89  -15.51\n",
       " -13.98  -2.89  -15.51\n",
       " -18.98  -1.15  -15.51\n",
       " -16.98  -1.15  -15.51\n",
       " -14.98  -1.15  -15.51\n",
       " -12.98  -1.15  -15.51\n",
       " -19.98   0.58  -15.51\n",
       " -17.98   0.58  -15.51\n",
       " -15.98   0.58  -15.51\n",
       "   ⋮            \n",
       "  16.98  -0.58   15.51\n",
       "  18.98  -0.58   15.51\n",
       "  13.98   1.15   15.51\n",
       "  15.98   1.15   15.51\n",
       "  17.98   1.15   15.51\n",
       "  19.98   1.15   15.51\n",
       "  14.98   2.89   15.51\n",
       "  16.98   2.89   15.51\n",
       "  18.98   2.89   15.51"
      ]
     },
     "metadata": {},
     "output_type": "display_data"
    }
   ],
   "source": [
    "@time X_Cu"
   ]
  }
 ],
 "metadata": {
  "kernelspec": {
   "display_name": "Julia 1.7.3",
   "language": "julia",
   "name": "julia-1.7"
  },
  "language_info": {
   "file_extension": ".jl",
   "mimetype": "application/julia",
   "name": "julia",
   "version": "1.7.3"
  },
  "orig_nbformat": 4
 },
 "nbformat": 4,
 "nbformat_minor": 2
}
