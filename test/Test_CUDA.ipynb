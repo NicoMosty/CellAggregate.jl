{
 "cells": [
  {
   "cell_type": "code",
   "execution_count": 1,
   "metadata": {},
   "outputs": [
    {
     "name": "stdout",
     "output_type": "stream",
     "text": [
      "  5.486148 seconds (7.51 M allocations: 428.747 MiB, 4.18% gc time)\n",
      "  0.869987 seconds (1.44 M allocations: 67.602 MiB, 1.66% gc time)\n",
      "  1.541602 seconds (3.67 M allocations: 273.195 MiB)\n",
      "  0.756727 seconds (1.24 M allocations: 58.533 MiB, 1.95% gc time)\n"
     ]
    }
   ],
   "source": [
    "@time using CUDA\n",
    "@time using DelimitedFiles\n",
    "@time using NearestNeighbors: KDTree, knn\n",
    "@time using LinearAlgebra: norm"
   ]
  },
  {
   "cell_type": "code",
   "execution_count": 2,
   "metadata": {},
   "outputs": [
    {
     "data": {
      "text/plain": [
       "force (generic function with 1 method)"
      ]
     },
     "execution_count": 2,
     "metadata": {},
     "output_type": "execute_result"
    }
   ],
   "source": [
    "function NearNeighbor(X, t, t_knn)\n",
    "    # Using kNN for Nearest Neighbors\n",
    "    if t%t_knn | t == 0\n",
    "        global kdtree = KDTree(X[:,1:3]')\n",
    "    end \n",
    "\n",
    "    # Loop over all cells to compute displacements\n",
    "    index, _ = knn(kdtree, X[1,1:3], 14, true)\n",
    "    for i in 2:size(X)[1]\n",
    "        # Scan neighbours\n",
    "        global idxs, _ = knn(kdtree, X[i,1:3], 14, true)\n",
    "        index = hcat(index, idxs)\n",
    "    end\n",
    "    return index\n",
    "end\n",
    "\n",
    "function force(X, r_max, s, K, NN)\n",
    "    # Initialise displacement array\n",
    "    global dX = zeros(Float64, size(X)[1], 3)\n",
    "\n",
    "    # Loop over all cells to compute displacements\n",
    "    for i in 1:size(X)[1]\n",
    "        # Scan neighbours\n",
    "        global idxs = NN[:,i]\n",
    "        # Initialise variables\n",
    "        global Xi = X[i,1:3]\n",
    "        for j in idxs\n",
    "            if i != j\n",
    "                global r = Xi - X[j,1:3]\n",
    "                global dist = norm(r)\n",
    "                # Calculate attraction/repulsion force differential here\n",
    "                if dist < r_max\n",
    "                    global F = - K*(dist-r_max)*(dist-r_max)*(dist - s)\n",
    "                    dX[i,:] +=  r/dist * F\n",
    "                end\n",
    "            end\n",
    "        end\n",
    "    end\n",
    "    return dX\n",
    "end"
   ]
  },
  {
   "cell_type": "code",
   "execution_count": 18,
   "metadata": {},
   "outputs": [],
   "source": [
    "R_Agg = 16\n",
    "t, t_knn = 0,10\n",
    "# r_max, s = 2, 1\n",
    "# K = 10\n",
    "# dt = 0.5;"
   ]
  },
  {
   "cell_type": "code",
   "execution_count": 78,
   "metadata": {},
   "outputs": [
    {
     "name": "stdout",
     "output_type": "stream",
     "text": [
      "  0.009433 seconds (88.36 k allocations: 3.057 MiB)\n",
      "  0.000099 seconds (9 allocations: 71.312 KiB)\n"
     ]
    },
    {
     "data": {
      "text/plain": [
       "6064×3 CuArray{Float32,2,Nothing}:\n",
       " -17.98  -2.89  -15.51\n",
       " -15.98  -2.89  -15.51\n",
       " -13.98  -2.89  -15.51\n",
       " -18.98  -1.15  -15.51\n",
       " -16.98  -1.15  -15.51\n",
       " -14.98  -1.15  -15.51\n",
       " -12.98  -1.15  -15.51\n",
       " -19.98   0.58  -15.51\n",
       " -17.98   0.58  -15.51\n",
       " -15.98   0.58  -15.51\n",
       " -13.98   0.58  -15.51\n",
       " -18.98   2.31  -15.51\n",
       " -16.98   2.31  -15.51\n",
       "   ⋮            \n",
       "  17.98  -2.31   15.51\n",
       "  12.98  -0.58   15.51\n",
       "  14.98  -0.58   15.51\n",
       "  16.98  -0.58   15.51\n",
       "  18.98  -0.58   15.51\n",
       "  13.98   1.15   15.51\n",
       "  15.98   1.15   15.51\n",
       "  17.98   1.15   15.51\n",
       "  19.98   1.15   15.51\n",
       "  14.98   2.89   15.51\n",
       "  16.98   2.89   15.51\n",
       "  18.98   2.89   15.51"
      ]
     },
     "execution_count": 78,
     "metadata": {},
     "output_type": "execute_result"
    }
   ],
   "source": [
    "@time X = readdlm(\"../data/Init/Two_Sphere/$R_Agg.csv\", ',', Float64, header=true)[1][:, 1:3]\n",
    "@time X_Cu = CuArray{Float32}(X)"
   ]
  },
  {
   "cell_type": "code",
   "execution_count": 82,
   "metadata": {},
   "outputs": [
    {
     "name": "stdout",
     "output_type": "stream",
     "text": [
      "  0.325026 seconds (42.34 k allocations: 1.922 GiB, 21.08% gc time)\n",
      "  0.000286 seconds (7 allocations: 176 bytes)\n"
     ]
    }
   ],
   "source": [
    "@time NN = NearNeighbor(X, t, t_knn)\n",
    "@time idx_Cu = CuArray{Int}(NN);"
   ]
  },
  {
   "cell_type": "code",
   "execution_count": 96,
   "metadata": {},
   "outputs": [
    {
     "name": "stdout",
     "output_type": "stream",
     "text": [
      "  0.000000 seconds\n"
     ]
    },
    {
     "data": {
      "text/plain": [
       "6064×3 CuArray{Float32,2,Nothing}:\n",
       " -17.98  -2.89  -15.51\n",
       " -15.98  -2.89  -15.51\n",
       " -13.98  -2.89  -15.51\n",
       " -18.98  -1.15  -15.51\n",
       " -16.98  -1.15  -15.51\n",
       " -14.98  -1.15  -15.51\n",
       " -12.98  -1.15  -15.51\n",
       " -19.98   0.58  -15.51\n",
       " -17.98   0.58  -15.51\n",
       " -15.98   0.58  -15.51\n",
       " -13.98   0.58  -15.51\n",
       " -18.98   2.31  -15.51\n",
       " -16.98   2.31  -15.51\n",
       "   ⋮            \n",
       "  17.98  -2.31   15.51\n",
       "  12.98  -0.58   15.51\n",
       "  14.98  -0.58   15.51\n",
       "  16.98  -0.58   15.51\n",
       "  18.98  -0.58   15.51\n",
       "  13.98   1.15   15.51\n",
       "  15.98   1.15   15.51\n",
       "  17.98   1.15   15.51\n",
       "  19.98   1.15   15.51\n",
       "  14.98   2.89   15.51\n",
       "  16.98   2.89   15.51\n",
       "  18.98   2.89   15.51"
      ]
     },
     "execution_count": 96,
     "metadata": {},
     "output_type": "execute_result"
    }
   ],
   "source": [
    "@time X_Cu"
   ]
  },
  {
   "cell_type": "code",
   "execution_count": 106,
   "metadata": {},
   "outputs": [
    {
     "name": "stdout",
     "output_type": "stream",
     "text": [
      "  0.000080 seconds (13 allocations: 40.172 KiB)\n"
     ]
    }
   ],
   "source": [
    "@time A = rand(1000,3) |> cu;"
   ]
  },
  {
   "cell_type": "code",
   "execution_count": 108,
   "metadata": {},
   "outputs": [
    {
     "ename": "LLVM.LLVMException",
     "evalue": "\u001b[91mLLVM error: Cannot cast between two non-generic address spaces\u001b[39m",
     "output_type": "error",
     "traceback": [
      "\u001b[91mLLVM error: Cannot cast between two non-generic address spaces\u001b[39m",
      "",
      "Stacktrace:",
      " [1] handle_error(::Cstring) at /home/nicomosty/.julia/packages/LLVM/KITdB/src/core/context.jl:103",
      " [2] macro expansion at /home/nicomosty/.julia/packages/LLVM/KITdB/src/util.jl:114 [inlined]",
      " [3] LLVMTargetMachineEmitToMemoryBuffer(::Ptr{LLVM.API.LLVMOpaqueTargetMachine}, ::Ptr{LLVM.API.LLVMOpaqueModule}, ::LLVM.API.LLVMCodeGenFileType, ::Base.RefValue{Cstring}, ::Base.RefValue{Ptr{LLVM.API.LLVMOpaqueMemoryBuffer}}) at /home/nicomosty/.julia/packages/LLVM/KITdB/lib/libLLVM_h.jl:3512",
      " [4] emit(::LLVM.TargetMachine, ::LLVM.Module, ::LLVM.API.LLVMCodeGenFileType) at /home/nicomosty/.julia/packages/LLVM/KITdB/src/targetmachine.jl:42",
      " [5] mcgen at /home/nicomosty/.julia/packages/GPUCompiler/lqbF2/src/mcgen.jl:73 [inlined]",
      " [6] macro expansion at /home/nicomosty/.julia/packages/TimerOutputs/jgSVI/src/TimerOutput.jl:252 [inlined]",
      " [7] macro expansion at /home/nicomosty/.julia/packages/GPUCompiler/lqbF2/src/driver.jl:204 [inlined]",
      " [8] macro expansion at /home/nicomosty/.julia/packages/TimerOutputs/jgSVI/src/TimerOutput.jl:252 [inlined]",
      " [9] codegen(::Symbol, ::GPUCompiler.CompilerJob{GPUCompiler.PTXCompilerTarget,CUDA.CUDACompilerParams}; libraries::Bool, deferred_codegen::Bool, optimize::Bool, strip::Bool, strict::Bool) at /home/nicomosty/.julia/packages/GPUCompiler/lqbF2/src/driver.jl:200",
      " [10] compile(::Symbol, ::GPUCompiler.CompilerJob{GPUCompiler.PTXCompilerTarget,CUDA.CUDACompilerParams}; libraries::Bool, deferred_codegen::Bool, optimize::Bool, strip::Bool, strict::Bool) at /home/nicomosty/.julia/packages/GPUCompiler/lqbF2/src/driver.jl:36",
      " [11] _cufunction(::GPUCompiler.FunctionSpec{GPUArrays.var\"#20#21\",Tuple{CUDA.CuKernelContext,CuDeviceArray{Float32,2,CUDA.AS.Global},Base.Broadcast.Broadcasted{Nothing,Tuple{Base.OneTo{Int64},Base.OneTo{Int64}},typeof(+),Tuple{Base.Broadcast.Extruded{CuDeviceArray{Float32,2,CUDA.AS.Global},Tuple{Bool,Bool},Tuple{Int64,Int64}},Int64}}}}; kwargs::Base.Iterators.Pairs{Union{},Union{},Tuple{},NamedTuple{(),Tuple{}}}) at /home/nicomosty/.julia/packages/CUDA/5t6R9/src/compiler/execution.jl:308",
      " [12] _cufunction at /home/nicomosty/.julia/packages/CUDA/5t6R9/src/compiler/execution.jl:302 [inlined]",
      " [13] #75 at /home/nicomosty/.julia/packages/GPUCompiler/lqbF2/src/cache.jl:21 [inlined]",
      " [14] get!(::GPUCompiler.var\"#75#76\"{Base.Iterators.Pairs{Union{},Union{},Tuple{},NamedTuple{(),Tuple{}}},typeof(CUDA._cufunction),GPUCompiler.FunctionSpec{GPUArrays.var\"#20#21\",Tuple{CUDA.CuKernelContext,CuDeviceArray{Float32,2,CUDA.AS.Global},Base.Broadcast.Broadcasted{Nothing,Tuple{Base.OneTo{Int64},Base.OneTo{Int64}},typeof(+),Tuple{Base.Broadcast.Extruded{CuDeviceArray{Float32,2,CUDA.AS.Global},Tuple{Bool,Bool},Tuple{Int64,Int64}},Int64}}}}}, ::Dict{UInt64,Any}, ::UInt64) at ./dict.jl:452",
      " [15] macro expansion at ./lock.jl:183 [inlined]",
      " [16] check_cache(::typeof(CUDA._cufunction), ::GPUCompiler.FunctionSpec{GPUArrays.var\"#20#21\",Tuple{CUDA.CuKernelContext,CuDeviceArray{Float32,2,CUDA.AS.Global},Base.Broadcast.Broadcasted{Nothing,Tuple{Base.OneTo{Int64},Base.OneTo{Int64}},typeof(+),Tuple{Base.Broadcast.Extruded{CuDeviceArray{Float32,2,CUDA.AS.Global},Tuple{Bool,Bool},Tuple{Int64,Int64}},Int64}}}}, ::UInt64; kwargs::Base.Iterators.Pairs{Union{},Union{},Tuple{},NamedTuple{(),Tuple{}}}) at /home/nicomosty/.julia/packages/GPUCompiler/lqbF2/src/cache.jl:19",
      " [17] + at ./int.jl:53 [inlined]",
      " [18] hash_64_64 at ./hashing.jl:35 [inlined]",
      " [19] hash_uint64 at ./hashing.jl:62 [inlined]",
      " [20] hx at ./float.jl:568 [inlined]",
      " [21] hash at ./float.jl:571 [inlined]",
      " [22] cached_compilation(::typeof(CUDA._cufunction), ::GPUCompiler.FunctionSpec{GPUArrays.var\"#20#21\",Tuple{CUDA.CuKernelContext,CuDeviceArray{Float32,2,CUDA.AS.Global},Base.Broadcast.Broadcasted{Nothing,Tuple{Base.OneTo{Int64},Base.OneTo{Int64}},typeof(+),Tuple{Base.Broadcast.Extruded{CuDeviceArray{Float32,2,CUDA.AS.Global},Tuple{Bool,Bool},Tuple{Int64,Int64}},Int64}}}}, ::UInt64; kwargs::Base.Iterators.Pairs{Union{},Union{},Tuple{},NamedTuple{(),Tuple{}}}) at /home/nicomosty/.julia/packages/GPUCompiler/lqbF2/src/cache.jl:0",
      " [23] cached_compilation(::Function, ::GPUCompiler.FunctionSpec{GPUArrays.var\"#20#21\",Tuple{CUDA.CuKernelContext,CuDeviceArray{Float32,2,CUDA.AS.Global},Base.Broadcast.Broadcasted{Nothing,Tuple{Base.OneTo{Int64},Base.OneTo{Int64}},typeof(+),Tuple{Base.Broadcast.Extruded{CuDeviceArray{Float32,2,CUDA.AS.Global},Tuple{Bool,Bool},Tuple{Int64,Int64}},Int64}}}}, ::UInt64) at /home/nicomosty/.julia/packages/GPUCompiler/lqbF2/src/cache.jl:37",
      " [24] cufunction(::Function, ::Type; name::String, kwargs::Base.Iterators.Pairs{Union{},Union{},Tuple{},NamedTuple{(),Tuple{}}}) at /home/nicomosty/.julia/packages/CUDA/5t6R9/src/compiler/execution.jl:296",
      " [25] macro expansion at /home/nicomosty/.julia/packages/CUDA/5t6R9/src/compiler/execution.jl:108 [inlined]",
      " [26] gpu_call(::CUDA.CuArrayBackend, ::Function, ::Tuple{CuArray{Float32,2,Nothing},Base.Broadcast.Broadcasted{Nothing,Tuple{Base.OneTo{Int64},Base.OneTo{Int64}},typeof(+),Tuple{Base.Broadcast.Extruded{CuArray{Float32,2,Nothing},Tuple{Bool,Bool},Tuple{Int64,Int64}},Int64}}}, ::Int64; name::String) at /home/nicomosty/.julia/packages/CUDA/5t6R9/src/gpuarrays.jl:32",
      " [27] #gpu_call#1 at /home/nicomosty/.julia/packages/GPUArrays/JqOUg/src/device/execution.jl:61 [inlined]",
      " [28] copyto! at /home/nicomosty/.julia/packages/GPUArrays/JqOUg/src/host/broadcast.jl:56 [inlined]",
      " [29] copyto! at ./broadcast.jl:864 [inlined]",
      " [30] copy at ./broadcast.jl:840 [inlined]",
      " [31] materialize(::Base.Broadcast.Broadcasted{CUDA.CuArrayStyle{2},Nothing,typeof(+),Tuple{CuArray{Float32,2,Nothing},Int64}}) at ./broadcast.jl:820",
      " [32] top-level scope at In[108]:1"
     ]
    }
   ],
   "source": [
    "A .+ 2"
   ]
  }
 ],
 "metadata": {
  "kernelspec": {
   "display_name": "Julia 1.4.1",
   "language": "julia",
   "name": "julia-1.4"
  },
  "language_info": {
   "name": "julia"
  },
  "orig_nbformat": 4
 },
 "nbformat": 4,
 "nbformat_minor": 2
}
