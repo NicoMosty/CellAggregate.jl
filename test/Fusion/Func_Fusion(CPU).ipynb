{
 "cells": [
  {
   "cell_type": "markdown",
   "metadata": {},
   "source": [
    "# Adding Dependeces"
   ]
  },
  {
   "cell_type": "code",
   "execution_count": 55,
   "metadata": {},
   "outputs": [
    {
     "data": {
      "text/plain": [
       "knn_cu (generic function with 1 method)"
      ]
     },
     "execution_count": 55,
     "metadata": {},
     "output_type": "execute_result"
    }
   ],
   "source": [
    "using DelimitedFiles\n",
    "using ProgressMeter\n",
    "using NearestNeighbors\n",
    "include(\"../../src/forces.jl\")\n",
    "include(\"../../src/Neighbor.jl\")"
   ]
  },
  {
   "cell_type": "markdown",
   "metadata": {},
   "source": [
    "# Initial Conditions"
   ]
  },
  {
   "cell_type": "code",
   "execution_count": 56,
   "metadata": {},
   "outputs": [
    {
     "data": {
      "text/plain": [
       "0.5"
      ]
     },
     "execution_count": 56,
     "metadata": {},
     "output_type": "execute_result"
    }
   ],
   "source": [
    "# Running fusion of the two aggregates\n",
    "# Physical Conditions\n",
    "R_agg = 10\n",
    "\n",
    "# Time model Conditions\n",
    "t_f = 10000\n",
    "dt = 0.1\n",
    "\n",
    "# Neighbor Conditions\n",
    "n_knn = 50\n",
    "nn = 16\n",
    "\n",
    "# Forces Conditions\n",
    "r_max = 3.5\n",
    "s = 1.9\n",
    "K = 0.5"
   ]
  },
  {
   "cell_type": "markdown",
   "metadata": {},
   "source": [
    "# Init Data"
   ]
  },
  {
   "cell_type": "code",
   "execution_count": 57,
   "metadata": {},
   "outputs": [],
   "source": [
    "# Initial Data\n",
    "X = Float32.(readdlm(\"../../data/init/Sphere/$R_agg.xyz\")[3:end,2:end])\n",
    "\n",
    "X_f = zeros(size(X,1))\n",
    "for i in 1:size(X_f,1)\n",
    "    A = sqrt(X[i,1]^2+X[i,2]^2+X[i,3]^2)\n",
    "    if A > 0.8*R_agg\n",
    "        X_f[i] = 1\n",
    "    else\n",
    "        X_f[i] = 2\n",
    "    end\n",
    "end\n",
    "X_f_2 = Int.(vcat(X_f,X_f));"
   ]
  },
  {
   "cell_type": "markdown",
   "metadata": {},
   "source": [
    "# Fusioning tho Spheres"
   ]
  },
  {
   "cell_type": "code",
   "execution_count": 58,
   "metadata": {},
   "outputs": [],
   "source": [
    "Size = Float32((findmax(X[:,1])[1] - findmin(X[:,1])[1])/2 + 1)\n",
    "X_2 = vcat(X,X)\n",
    "X_2[1:size(X,1),1] = X_2[1:size(X,1),1] .- (Size)\n",
    "X_2[size(X,1):end,1] = X_2[size(X,1):end,1] .+ Size\n",
    "\n",
    "open(\"Test_Initial.xyz\"; write=true) do f\n",
    "    write(f, \"$(size(X_2, 1))\\n\")\n",
    "    write(f, \"Initial Data ($(R_agg))\\n\")\n",
    "    writedlm(f,hcat(X_f_2, X_2), ' ')\n",
    "end\n",
    "\n",
    "X = X_2;"
   ]
  },
  {
   "cell_type": "markdown",
   "metadata": {},
   "source": [
    "# Forces"
   ]
  },
  {
   "cell_type": "code",
   "execution_count": 59,
   "metadata": {},
   "outputs": [
    {
     "name": "stderr",
     "output_type": "stream",
     "text": [
      "\u001b[32mProgress:   1%|▏                        |  ETA: 0:35:31\u001b[39mm"
     ]
    },
    {
     "ename": "LoadError",
     "evalue": "InterruptException:",
     "output_type": "error",
     "traceback": [
      "InterruptException:",
      "",
      "Stacktrace:",
      "  [1] Array",
      "    @ ./boot.jl:448 [inlined]",
      "  [2] Array",
      "    @ ./boot.jl:457 [inlined]",
      "  [3] Array",
      "    @ ./boot.jl:465 [inlined]",
      "  [4] similar",
      "    @ ./abstractarray.jl:785 [inlined]",
      "  [5] similar",
      "    @ ./abstractarray.jl:784 [inlined]",
      "  [6] similar",
      "    @ ./broadcast.jl:197 [inlined]",
      "  [7] similar",
      "    @ ./broadcast.jl:196 [inlined]",
      "  [8] copy",
      "    @ ./broadcast.jl:908 [inlined]",
      "  [9] materialize",
      "    @ ./broadcast.jl:883 [inlined]",
      " [10] broadcast_preserving_zero_d",
      "    @ ./broadcast.jl:872 [inlined]",
      " [11] *(A::Vector{Float64}, B::Float64)",
      "    @ Base ./arraymath.jl:55",
      " [12] force(X::Matrix{Float64}, idxs::Matrix{Int64}, r_max::Float64, s::Float64, K::Float64)",
      "    @ Main ~/Documentos/Maestria-UNAL/CellAggregate.jl/src/forces.jl:19",
      " [13] top-level scope",
      "    @ ./In[59]:19",
      " [14] eval",
      "    @ ./boot.jl:360 [inlined]",
      " [15] include_string(mapexpr::typeof(REPL.softscope), mod::Module, code::String, filename::String)",
      "    @ Base ./loading.jl:1116"
     ]
    }
   ],
   "source": [
    "# Calculating position of every cell on the fusion\n",
    "p = Progress(Int(t_f/dt),barlen=25)\n",
    "for i in 0:Int(t_f/dt)\n",
    "\n",
    "    if mod(i, n_knn) == 0\n",
    "        # Calculating kNN\n",
    "        kdtree = KDTree(X')\n",
    "        idxs = Int.(zeros(14,size(X,1)))\n",
    "        for i in 1:size(X)[1]\n",
    "            # Scan neighbours\n",
    "            idxs[:,i], _ = knn(kdtree, X[i,1:3], 14, true)\n",
    "            # println(knn(kdtree, X[i,1:3], 14, true)[1])\n",
    "            # println(idxs[:,i],)\n",
    "        end\n",
    "        idxs = Matrix(idxs)\n",
    "    end\n",
    "\n",
    "    # Calculating Forces\n",
    "    dX = force(X, idxs, r_max, s, K)\n",
    "\n",
    "    global X = X + dX*dt\n",
    "    next!(p)\n",
    "end"
   ]
  },
  {
   "cell_type": "markdown",
   "metadata": {},
   "source": [
    "# Saving Data"
   ]
  },
  {
   "cell_type": "code",
   "execution_count": null,
   "metadata": {},
   "outputs": [],
   "source": [
    "    # Saving final Data\n",
    "    open(\"Test_Final[CPU].xyz\"; write=true) do f\n",
    "        write(f, \"$(size(X, 1))\\n\")\n",
    "        write(f, \"Initial Data ($(R_agg))\\n\")\n",
    "        writedlm(f,hcat(X_f_2, X), ' ')\n",
    "    end"
   ]
  }
 ],
 "metadata": {
  "kernelspec": {
   "display_name": "Julia 1.6.7",
   "language": "julia",
   "name": "julia-1.6"
  },
  "language_info": {
   "file_extension": ".jl",
   "mimetype": "application/julia",
   "name": "julia",
   "version": "1.6.7"
  },
  "orig_nbformat": 4,
  "vscode": {
   "interpreter": {
    "hash": "916dbcbb3f70747c44a77c7bcd40155683ae19c65e1c03b4aa3499c5328201f1"
   }
  }
 },
 "nbformat": 4,
 "nbformat_minor": 2
}
