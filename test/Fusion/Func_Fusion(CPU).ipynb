{
 "cells": [
  {
   "cell_type": "markdown",
   "metadata": {},
   "source": [
    "# Adding Dependeces"
   ]
  },
  {
   "cell_type": "code",
   "execution_count": 6,
   "metadata": {},
   "outputs": [
    {
     "data": {
      "text/plain": [
       "knn_cu (generic function with 1 method)"
      ]
     },
     "execution_count": 6,
     "metadata": {},
     "output_type": "execute_result"
    }
   ],
   "source": [
    "using DelimitedFiles\n",
    "using ProgressMeter\n",
    "using NearestNeighbors\n",
    "include(\"../../src/forces.jl\")\n",
    "include(\"../../src/Neighbor.jl\")"
   ]
  },
  {
   "cell_type": "markdown",
   "metadata": {},
   "source": [
    "# Initial Conditions"
   ]
  },
  {
   "cell_type": "code",
   "execution_count": 7,
   "metadata": {},
   "outputs": [
    {
     "data": {
      "text/plain": [
       "4"
      ]
     },
     "execution_count": 7,
     "metadata": {},
     "output_type": "execute_result"
    }
   ],
   "source": [
    "# Running fusion of the two aggregates\n",
    "# Physical Conditions\n",
    "R_agg = 10\n",
    "\n",
    "# Time model Conditions\n",
    "t_f = 100000\n",
    "dt = 0.1\n",
    "\n",
    "# Neighbor Conditions\n",
    "n_knn = 50\n",
    "nn = 16\n",
    "\n",
    "# Forces Conditions\n",
    "r_max = 3.5\n",
    "s = 2\n",
    "K = 1\n",
    "\n",
    "# Coding COnditions\n",
    "n_text = 4"
   ]
  },
  {
   "cell_type": "markdown",
   "metadata": {},
   "source": [
    "# Init Data"
   ]
  },
  {
   "cell_type": "code",
   "execution_count": 8,
   "metadata": {},
   "outputs": [],
   "source": [
    "# Initial Data\n",
    "X = Float32.(readdlm(\"../../data/init/Sphere/$R_agg.xyz\")[3:end,2:end])\n",
    "\n",
    "X_f = zeros(size(X,1))\n",
    "for i in 1:size(X_f,1)\n",
    "    A = sqrt(X[i,1]^2+X[i,2]^2+X[i,3]^2)\n",
    "    if A > 0.8*R_agg\n",
    "        X_f[i] = 1\n",
    "    else\n",
    "        X_f[i] = 2\n",
    "    end\n",
    "end\n",
    "X_f_2 = Int.(vcat(X_f,X_f));"
   ]
  },
  {
   "cell_type": "markdown",
   "metadata": {},
   "source": [
    "# Fusioning tho Spheres"
   ]
  },
  {
   "cell_type": "code",
   "execution_count": 9,
   "metadata": {},
   "outputs": [],
   "source": [
    "Size = Float32((findmax(X[:,1])[1] - findmin(X[:,1])[1])/2 + 1)\n",
    "X_2 = vcat(X,X)\n",
    "X_2[1:size(X,1),1] = X_2[1:size(X,1),1] .- (Size)\n",
    "X_2[size(X,1):end,1] = X_2[size(X,1):end,1] .+ Size\n",
    "\n",
    "X = X_2;"
   ]
  },
  {
   "cell_type": "markdown",
   "metadata": {},
   "source": [
    "# Forces (CPU)"
   ]
  },
  {
   "cell_type": "code",
   "execution_count": 10,
   "metadata": {},
   "outputs": [],
   "source": [
    "# # Calculating position of every cell on the fusion\n",
    "# p = Progress(Int(t_f/dt),barlen=25)\n",
    "# for i in 0:Int(t_f/dt)\n",
    "#     if mod(i, t_f/n_text/dt) == 0\n",
    "#         open(\"CPU/tf_($(t_f))|dt_($(dt))|rm_($(r_max))|s=($(s))|K_($(K))_CPU.xyz\", \"a\") do f\n",
    "#             write(f, \"$(size(X, 1))\\n\")\n",
    "#             write(f, \"t=$(i*dt)\\n\")\n",
    "#             writedlm(f,hcat(X_f_2, X), ' ')\n",
    "#         end\n",
    "#     end\n",
    "\n",
    "#     if mod(i, n_knn) == 0 || i != 0\n",
    "#         # Calculating kNN\n",
    "#         kdtree = KDTree(X')\n",
    "#         idxs = Int.(zeros(14,size(X,1)))\n",
    "#         for i in 1:size(X)[1]\n",
    "#             # Scan neighbours\n",
    "#             idxs[:,i], _ = knn(kdtree, X[i,1:3], 14, true)\n",
    "#             # println(knn(kdtree, X[i,1:3], 14, true)[1])\n",
    "#             # println(idxs[:,i],)\n",
    "#         end\n",
    "#         idxs = Matrix(idxs)\n",
    "#     end\n",
    "\n",
    "#     # Calculating Forces\n",
    "#     dX = force(X, idxs, r_max, s, K)\n",
    "\n",
    "#     global X = X + dX*dt\n",
    "    \n",
    "#     next!(p)\n",
    "# end"
   ]
  },
  {
   "cell_type": "markdown",
   "metadata": {},
   "source": [
    "# Forces (GPU)"
   ]
  },
  {
   "cell_type": "code",
   "execution_count": 11,
   "metadata": {},
   "outputs": [
    {
     "name": "stderr",
     "output_type": "stream",
     "text": [
      "\u001b[32mProgress:   1%|▏                        |  ETA: 4:19:26\u001b[39mm39\u001b[39mm"
     ]
    },
    {
     "ename": "LoadError",
     "evalue": "TaskFailedException\n\n\u001b[91m    nested task error: \u001b[39mInterruptException:\n    Stacktrace:\n     [1] \u001b[0m\u001b[1mpoptask\u001b[22m\u001b[0m\u001b[1m(\u001b[22m\u001b[90mW\u001b[39m::\u001b[0mBase.InvasiveLinkedListSynchronized\u001b[90m{Task}\u001b[39m\u001b[0m\u001b[1m)\u001b[22m\n    \u001b[90m   @ \u001b[39m\u001b[90mBase\u001b[39m \u001b[90m./\u001b[39m\u001b[90;4mtask.jl:795\u001b[0m\n     [2] \u001b[0m\u001b[1mwait\u001b[22m\u001b[0m\u001b[1m(\u001b[22m\u001b[0m\u001b[1m)\u001b[22m\n    \u001b[90m   @ \u001b[39m\u001b[90mBase\u001b[39m \u001b[90m./\u001b[39m\u001b[90;4mtask.jl:804\u001b[0m\n     [3] \u001b[0m\u001b[1mwait\u001b[22m\u001b[0m\u001b[1m(\u001b[22m\u001b[90mc\u001b[39m::\u001b[0mBase.GenericCondition\u001b[90m{Base.Threads.SpinLock}\u001b[39m\u001b[0m\u001b[1m)\u001b[22m\n    \u001b[90m   @ \u001b[39m\u001b[90mBase\u001b[39m \u001b[90m./\u001b[39m\u001b[90;4mcondition.jl:106\u001b[0m\n     [4] \u001b[0m\u001b[1m_trywait\u001b[22m\u001b[0m\u001b[1m(\u001b[22m\u001b[90mt\u001b[39m::\u001b[0mTimer\u001b[0m\u001b[1m)\u001b[22m\n    \u001b[90m   @ \u001b[39m\u001b[90mBase\u001b[39m \u001b[90m./\u001b[39m\u001b[90;4masyncevent.jl:115\u001b[0m\n     [5] \u001b[0m\u001b[1mwait\u001b[22m\n    \u001b[90m   @ \u001b[39m\u001b[90m./\u001b[39m\u001b[90;4masyncevent.jl:133\u001b[0m\u001b[90m [inlined]\u001b[39m\n     [6] \u001b[0m\u001b[1mmacro expansion\u001b[22m\n    \u001b[90m   @ \u001b[39m\u001b[90m~/.julia/packages/CUDA/DfvRa/lib/cudadrv/\u001b[39m\u001b[90;4mstream.jl:169\u001b[0m\u001b[90m [inlined]\u001b[39m\n     [7] \u001b[0m\u001b[1m(::CUDA.var\"#14#17\"{CuStream, Timer, CuDevice, Base.Event})\u001b[22m\u001b[0m\u001b[1m(\u001b[22m\u001b[0m\u001b[1m)\u001b[22m\n    \u001b[90m   @ \u001b[39m\u001b[35mCUDA\u001b[39m \u001b[90m./\u001b[39m\u001b[90;4mthreadingconstructs.jl:169\u001b[0m",
     "output_type": "error",
     "traceback": [
      "TaskFailedException\n\n\u001b[91m    nested task error: \u001b[39mInterruptException:\n    Stacktrace:\n     [1] \u001b[0m\u001b[1mpoptask\u001b[22m\u001b[0m\u001b[1m(\u001b[22m\u001b[90mW\u001b[39m::\u001b[0mBase.InvasiveLinkedListSynchronized\u001b[90m{Task}\u001b[39m\u001b[0m\u001b[1m)\u001b[22m\n    \u001b[90m   @ \u001b[39m\u001b[90mBase\u001b[39m \u001b[90m./\u001b[39m\u001b[90;4mtask.jl:795\u001b[0m\n     [2] \u001b[0m\u001b[1mwait\u001b[22m\u001b[0m\u001b[1m(\u001b[22m\u001b[0m\u001b[1m)\u001b[22m\n    \u001b[90m   @ \u001b[39m\u001b[90mBase\u001b[39m \u001b[90m./\u001b[39m\u001b[90;4mtask.jl:804\u001b[0m\n     [3] \u001b[0m\u001b[1mwait\u001b[22m\u001b[0m\u001b[1m(\u001b[22m\u001b[90mc\u001b[39m::\u001b[0mBase.GenericCondition\u001b[90m{Base.Threads.SpinLock}\u001b[39m\u001b[0m\u001b[1m)\u001b[22m\n    \u001b[90m   @ \u001b[39m\u001b[90mBase\u001b[39m \u001b[90m./\u001b[39m\u001b[90;4mcondition.jl:106\u001b[0m\n     [4] \u001b[0m\u001b[1m_trywait\u001b[22m\u001b[0m\u001b[1m(\u001b[22m\u001b[90mt\u001b[39m::\u001b[0mTimer\u001b[0m\u001b[1m)\u001b[22m\n    \u001b[90m   @ \u001b[39m\u001b[90mBase\u001b[39m \u001b[90m./\u001b[39m\u001b[90;4masyncevent.jl:115\u001b[0m\n     [5] \u001b[0m\u001b[1mwait\u001b[22m\n    \u001b[90m   @ \u001b[39m\u001b[90m./\u001b[39m\u001b[90;4masyncevent.jl:133\u001b[0m\u001b[90m [inlined]\u001b[39m\n     [6] \u001b[0m\u001b[1mmacro expansion\u001b[22m\n    \u001b[90m   @ \u001b[39m\u001b[90m~/.julia/packages/CUDA/DfvRa/lib/cudadrv/\u001b[39m\u001b[90;4mstream.jl:169\u001b[0m\u001b[90m [inlined]\u001b[39m\n     [7] \u001b[0m\u001b[1m(::CUDA.var\"#14#17\"{CuStream, Timer, CuDevice, Base.Event})\u001b[22m\u001b[0m\u001b[1m(\u001b[22m\u001b[0m\u001b[1m)\u001b[22m\n    \u001b[90m   @ \u001b[39m\u001b[35mCUDA\u001b[39m \u001b[90m./\u001b[39m\u001b[90;4mthreadingconstructs.jl:169\u001b[0m",
      "",
      "Stacktrace:",
      "  [1] sync_end(c::Channel{Any})",
      "    @ Base ./task.jl:369",
      "  [2] macro expansion",
      "    @ ./task.jl:388 [inlined]",
      "  [3] nonblocking_synchronize",
      "    @ ~/.julia/packages/CUDA/DfvRa/lib/cudadrv/stream.jl:164 [inlined]",
      "  [4] (::CUDA.var\"#183#184\"{CartesianIndex{2}, Vector{CartesianIndex{2}}, Int64, CuArray{CartesianIndex{2}, 1, CUDA.Mem.DeviceBuffer}, Int64, Int64})()",
      "    @ CUDA ~/.julia/packages/CUDA/DfvRa/src/array.jl:410",
      "  [5] #context!#63",
      "    @ ~/.julia/packages/CUDA/DfvRa/lib/cudadrv/state.jl:164 [inlined]",
      "  [6] context!",
      "    @ ~/.julia/packages/CUDA/DfvRa/lib/cudadrv/state.jl:161 [inlined]",
      "  [7] unsafe_copyto!(dest::Vector{CartesianIndex{2}}, doffs::Int64, src::CuArray{CartesianIndex{2}, 1, CUDA.Mem.DeviceBuffer}, soffs::Int64, n::Int64)",
      "    @ CUDA ~/.julia/packages/CUDA/DfvRa/src/array.jl:406",
      "  [8] copyto!",
      "    @ ~/.julia/packages/CUDA/DfvRa/src/array.jl:360 [inlined]",
      "  [9] copyto!",
      "    @ ~/.julia/packages/CUDA/DfvRa/src/array.jl:364 [inlined]",
      " [10] copyto_axcheck!",
      "    @ ./abstractarray.jl:1056 [inlined]",
      " [11] Vector{CartesianIndex{2}}(x::CuArray{CartesianIndex{2}, 1, CUDA.Mem.DeviceBuffer})",
      "    @ Base ./array.jl:540",
      " [12] Array",
      "    @ ./boot.jl:472 [inlined]",
      " [13] convert",
      "    @ ./array.jl:532 [inlined]",
      " [14] adapt_storage",
      "    @ ~/.julia/packages/CUDA/DfvRa/src/array.jl:652 [inlined]",
      " [15] adapt_structure",
      "    @ ~/.julia/packages/Adapt/LAQOx/src/Adapt.jl:57 [inlined]",
      " [16] adapt",
      "    @ ~/.julia/packages/Adapt/LAQOx/src/Adapt.jl:40 [inlined]",
      " [17] #194",
      "    @ ~/.julia/packages/CUDA/DfvRa/src/array.jl:659 [inlined]",
      " [18] map",
      "    @ ./tuple.jl:213 [inlined]",
      " [19] view",
      "    @ ~/.julia/packages/CUDA/DfvRa/src/array.jl:659 [inlined]",
      " [20] maybeview",
      "    @ ./views.jl:133 [inlined]",
      " [21] dotview(::CuArray{Float64, 2, CUDA.Mem.DeviceBuffer}, ::CuArray{CartesianIndex{2}, 1, CUDA.Mem.DeviceBuffer})",
      "    @ Base.Broadcast ./broadcast.jl:1212",
      " [22] knn_cu()",
      "    @ Main ~/Documentos/Maestria-UNAL/CellAggregate.jl/src/Neighbor.jl:17",
      " [23] top-level scope",
      "    @ In[11]:29",
      " [24] eval",
      "    @ ./boot.jl:360 [inlined]",
      " [25] include_string(mapexpr::typeof(REPL.softscope), mod::Module, code::String, filename::String)",
      "    @ Base ./loading.jl:1116"
     ]
    }
   ],
   "source": [
    "# Inizializate Variables for kNN\n",
    "X = X |> cu\n",
    "\n",
    "i_Cell = CuArray{Float32}(undef, (size(X, 1), size(X, 1), 3))\n",
    "Dist = CuArray{Float32}(undef, (size(X, 1), size(X, 1)))\n",
    "idx = hcat([[CartesianIndex(i,1) for i=1:nn] for j=1:size(X,1)]...) |> cu\n",
    "\n",
    "# Inizializate Variables for Forces\n",
    "r = zeros(nn,size(X)[1],3) |> cu\n",
    "dist = zeros(nn, size(X)[1]) |> cu\n",
    "F = zeros(nn, size(X)[1],3) |> cu\n",
    "dX = zeros(size(X)[1],3) |> cu\n",
    "\n",
    "\n",
    "# Calculating position of every cell on the fusion\n",
    "p = Progress(Int(t_f/dt),barlen=25)\n",
    "for i in 0:Int(t_f/dt)\n",
    "    if mod(i, Int(t_f/n_text/dt)) == 0\n",
    "        X_w = Matrix(X)\n",
    "        open(\"GPU/tf_($(t_f))|dt_($(dt))|rm_($(r_max))|s=($(s))|K_($(K))_GPU.xyz\", \"a\") do f\n",
    "            write(f, \"$(size(X, 1))\\n\")\n",
    "            write(f, \"t=$(i*dt)\\n\")\n",
    "            writedlm(f,hcat(X_f_2, X_w), ' ')\n",
    "        end\n",
    "    end\n",
    "\n",
    "    if mod(i, n_knn) == 0 || i != 0\n",
    "        # Calculating kNN\n",
    "        knn_cu()\n",
    "    end\n",
    "\n",
    "    # Calculating Forces\n",
    "    forces_cu(r_max, s, K)\n",
    "\n",
    "    global X = X + dX*dt\n",
    "    next!(p)\n",
    "end"
   ]
  }
 ],
 "metadata": {
  "kernelspec": {
   "display_name": "Julia 1.6.7",
   "language": "julia",
   "name": "julia-1.6"
  },
  "language_info": {
   "file_extension": ".jl",
   "mimetype": "application/julia",
   "name": "julia",
   "version": "1.6.7"
  },
  "orig_nbformat": 4,
  "vscode": {
   "interpreter": {
    "hash": "916dbcbb3f70747c44a77c7bcd40155683ae19c65e1c03b4aa3499c5328201f1"
   }
  }
 },
 "nbformat": 4,
 "nbformat_minor": 2
}
