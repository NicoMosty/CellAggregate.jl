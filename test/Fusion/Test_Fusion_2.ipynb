{
 "cells": [
  {
   "cell_type": "markdown",
   "metadata": {},
   "source": [
    "# Adding Dependeces"
   ]
  },
  {
   "cell_type": "code",
   "execution_count": 2,
   "metadata": {},
   "outputs": [
    {
     "data": {
      "text/plain": [
       "knn_cu (generic function with 1 method)"
      ]
     },
     "execution_count": 2,
     "metadata": {},
     "output_type": "execute_result"
    }
   ],
   "source": [
    "using DelimitedFiles\n",
    "using CUDA\n",
    "using ProgressMeter\n",
    "include(\"../../src/forces.jl\")\n",
    "include(\"../../src/Neighbor.jl\")"
   ]
  },
  {
   "cell_type": "markdown",
   "metadata": {},
   "source": [
    "# Initial Parameters"
   ]
  },
  {
   "cell_type": "markdown",
   "metadata": {},
   "source": [
    "# Functions"
   ]
  },
  {
   "cell_type": "code",
   "execution_count": 4,
   "metadata": {},
   "outputs": [
    {
     "data": {
      "text/plain": [
       "main (generic function with 1 method)"
      ]
     },
     "execution_count": 4,
     "metadata": {},
     "output_type": "execute_result"
    }
   ],
   "source": [
    "function init()\n",
    "    # Definig Variables for calculing initial variables\n",
    "    global X\n",
    "\n",
    "    # Inizializate Variables for kNN\n",
    "    global i_Cell = CuArray{Float32}(undef, (size(X, 1), size(X, 1), 3))\n",
    "    global Dist = CuArray{Float32}(undef, (size(X, 1), size(X, 1)))\n",
    "    global idx = hcat([[CartesianIndex(i,1) for i=1:nn] for j=1:size(X,1)]...) |> cu\n",
    "\n",
    "    # Inizializate Variables for Forces\n",
    "    global r = zeros(nn,size(X)[1],3) |> cu\n",
    "    global dist = zeros(nn, size(X)[1]) |> cu\n",
    "    global F = zeros(nn, size(X)[1],3) |> cu\n",
    "    global dX = zeros(size(X)[1],3) |> cu;\n",
    "end\n",
    "\n",
    "function calc(n_knn, t_f, r_max, s, K)\n",
    "    init()\n",
    "\n",
    "    p = Progress(Int(t_f/dt),barlen=25)\n",
    "    for i in 0:Int(t_f/dt)\n",
    "\n",
    "        if mod(i, n_knn) == 0\n",
    "            # Calculating kNN\n",
    "            knn_cu()\n",
    "        end\n",
    "\n",
    "        # Calculating Forces\n",
    "        forces_cu(r_max, s, K)\n",
    "\n",
    "        global X = X + dX*dt\n",
    "        next!(p)\n",
    "    end\n",
    "end\n",
    "\n",
    "function main(t_f, r_max, s, K)\n",
    "    # Initial Coordinates of Aggregates\n",
    "    global X = Float32.(readdlm(\"../../../../../data/init/Sphere/$R_agg.xyz\")[3:end,2:end]) |> cu\n",
    "\n",
    "    X = Matrix(X)\n",
    "    X_f = zeros(size(X,1))\n",
    "    for i in 1:size(X_f,1)\n",
    "        A = sqrt(X[i,1]^2+X[i,2]^2+X[i,3]^2)\n",
    "        if A > 0.8*R_agg\n",
    "            X_f[i] = 1\n",
    "        else\n",
    "            X_f[i] = 2\n",
    "        end\n",
    "    end\n",
    "\n",
    "    X_f_2 = Int.(vcat(X_f,X_f));\n",
    "\n",
    "    # Fusioning two Spheres\n",
    "    Size = Float32((findmax(X[:,1])[1] - findmin(X[:,1])[1])/2 + 1)\n",
    "    X_2 = vcat(X,X) |> cu\n",
    "    X_2[1:size(X,1),1] = X_2[1:size(X,1),1] .- (Size)\n",
    "    X_2[size(X,1):end,1] = X_2[size(X,1):end,1] .+ Size\n",
    "\n",
    "    open(\"Test_Initial.xyz\"; write=true) do f\n",
    "        write(f, \"$(size(X_2, 1))\\n\")\n",
    "        write(f, \"Initial Data ($(R_agg))\\n\")\n",
    "        writedlm(f,hcat(X_f_2, X_2), ' ')\n",
    "    end\n",
    "\n",
    "    X = X_2 |> cu\n",
    "\n",
    "    # Running Forces Function\n",
    "    calc(n_knn, t_f, r_max, s, K)\n",
    "\n",
    "    X = Matrix(X)\n",
    "    open(\"Test_Final.xyz\"; write=true) do f\n",
    "        write(f, \"$(size(X, 1))\\n\")\n",
    "        write(f, \"Initial Data ($(R_agg))\\n\")\n",
    "        writedlm(f,hcat(X_f_2, X), ' ')\n",
    "    end\n",
    "\n",
    "    # run(`paraview Test_Initial.xyz Test_Final.xyz`)\n",
    "end"
   ]
  },
  {
   "cell_type": "markdown",
   "metadata": {},
   "source": [
    "# Stabilizing One Sphere"
   ]
  },
  {
   "cell_type": "code",
   "execution_count": 3,
   "metadata": {},
   "outputs": [],
   "source": [
    "# X = X |> cu\n",
    "# main(n_knn)\n",
    "\n",
    "# X = Matrix(X)\n",
    "# @time open(\"Test_Zero.xyz\"; write=true) do f\n",
    "#     write(f, \"$(size(X, 1))\\n\")\n",
    "#     write(f, \"Initial Data ($(R_agg))\\n\")\n",
    "#     writedlm(f,hcat(X_f, X), ' ')\n",
    "# end\n",
    "# X = X |> cu\n",
    "\n",
    "# run(`paraview Test_Zero.xyz`)"
   ]
  },
  {
   "cell_type": "markdown",
   "metadata": {},
   "source": [
    "# Fusioning tho Spheres"
   ]
  },
  {
   "cell_type": "code",
   "execution_count": 7,
   "metadata": {},
   "outputs": [
    {
     "name": "stdout",
     "output_type": "stream",
     "text": [
      "Calculating T_Final=150000 | R_Max = 3.5 | s = 1.9 | k = 0.005\n",
      "  0.534251 seconds (791.03 k allocations: 46.136 MiB, 2.03% gc time, 94.58% compilation time)\n"
     ]
    },
    {
     "name": "stderr",
     "output_type": "stream",
     "text": [
      "┌ Warning: Performing scalar indexing on task Task (runnable) @0x00007f8640f2c2b0.\n",
      "│ Invocation of getindex resulted in scalar indexing of a GPU array.\n",
      "│ This is typically caused by calling an iterating implementation of a method.\n",
      "│ Such implementations *do not* execute on the GPU, but very slowly on the CPU,\n",
      "│ and therefore are only permitted from the REPL for prototyping purposes.\n",
      "│ If you did intend to index this array, annotate the caller with @allowscalar.\n",
      "└ @ GPUArraysCore /home/nicomosty/.julia/packages/GPUArraysCore/lojQM/src/GPUArraysCore.jl:90\n"
     ]
    },
    {
     "name": "stdout",
     "output_type": "stream",
     "text": [
      "------------Init()-----------\n"
     ]
    },
    {
     "name": "stderr",
     "output_type": "stream",
     "text": [
      "\u001b[32mProgress: 100%|█████████████████████████| Time: 0:14:34\u001b[39mm12\u001b[39mm\n"
     ]
    },
    {
     "name": "stdout",
     "output_type": "stream",
     "text": [
      "  0.110928 seconds (287.09 k allocations: 19.412 MiB, 93.85% compilation time)\n"
     ]
    }
   ],
   "source": [
    "# Physical Conditions\n",
    "R_agg = 10\n",
    "\n",
    "# Time model Conditions\n",
    "dt = 0.1\n",
    "n_knn = 50\n",
    "nn = 16\n",
    "\n",
    "# --------------------------------\n",
    "\n",
    "T_f = 150000\n",
    "R_Max = 3.5\n",
    "S = 1.9\n",
    "K_array = [0.005]  \n",
    "\n",
    "for t_f in T_f\n",
    "    for r_max in R_Max\n",
    "        for s in S\n",
    "            for K in K_array\n",
    "                #Generating the path\n",
    "                if !isdir(\"T_$(t_f)\") mkdir(\"T_$(t_f)\") end\n",
    "                if !isdir(\"T_$(t_f)/rmax_$(r_max)_s_$(s)\") mkdir(\"T_$(t_f)/rmax_$(r_max)_s_$(s)\") end\n",
    "                if !isdir(\"T_$(t_f)/rmax_$(r_max)_s_$(s)/k_$(K)\") mkdir(\"T_$(t_f)/rmax_$(r_max)_s_$(s)/k_$(K)\")  end\n",
    "                \n",
    "                \n",
    "                # Calculating all above\n",
    "                if size(readdir(\"T_$(T_f)/rmax_$(R_Max)_s_$(S)/k_$(K)\"))[1] == 0\n",
    "                    cd(\"T_$(t_f)/rmax_$(r_max)_s_$(s)/k_$(K)\")\n",
    "                    println(\"Calculating T_Final=$(t_f) | R_Max = $(r_max) | s = $(s) | k = $(K)\")\n",
    "                    main(t_f, r_max, s, K)\n",
    "                    cd(\"../../..\")\n",
    "                else\n",
    "                    println(\"This is already calculated\")\n",
    "                end\n",
    "            end\n",
    "        end\n",
    "    end\n",
    "end"
   ]
  }
 ],
 "metadata": {
  "kernelspec": {
   "display_name": "Julia 1.6.7",
   "language": "julia",
   "name": "julia-1.6"
  },
  "language_info": {
   "file_extension": ".jl",
   "mimetype": "application/julia",
   "name": "julia",
   "version": "1.6.7"
  },
  "orig_nbformat": 4,
  "vscode": {
   "interpreter": {
    "hash": "916dbcbb3f70747c44a77c7bcd40155683ae19c65e1c03b4aa3499c5328201f1"
   }
  }
 },
 "nbformat": 4,
 "nbformat_minor": 2
}
