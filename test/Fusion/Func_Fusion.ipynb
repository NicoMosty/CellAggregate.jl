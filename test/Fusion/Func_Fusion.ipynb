{
 "cells": [
  {
   "cell_type": "markdown",
   "metadata": {},
   "source": [
    "# Adding Dependeces"
   ]
  },
  {
   "cell_type": "code",
   "execution_count": 11,
   "metadata": {},
   "outputs": [
    {
     "data": {
      "text/plain": [
       "knn_cu (generic function with 1 method)"
      ]
     },
     "execution_count": 11,
     "metadata": {},
     "output_type": "execute_result"
    }
   ],
   "source": [
    "using DelimitedFiles\n",
    "using CUDA\n",
    "using ProgressMeter\n",
    "include(\"../../src/forces.jl\")\n",
    "include(\"../../src/Neighbor.jl\")"
   ]
  },
  {
   "cell_type": "markdown",
   "metadata": {},
   "source": [
    "# Initial Conditions"
   ]
  },
  {
   "cell_type": "code",
   "execution_count": 12,
   "metadata": {},
   "outputs": [
    {
     "data": {
      "text/plain": [
       "0.09"
      ]
     },
     "execution_count": 12,
     "metadata": {},
     "output_type": "execute_result"
    }
   ],
   "source": [
    "# Running fusion of the two aggregates\n",
    "# Physical Conditions\n",
    "R_agg = 10\n",
    "\n",
    "# Time model Conditions\n",
    "T_f = 150000\n",
    "dt = 0.1\n",
    "\n",
    "# Neighbor Conditions\n",
    "n_knn = 50\n",
    "nn = 16\n",
    "\n",
    "# Forces Conditions\n",
    "R_Max = 3.5\n",
    "S = 1.9\n",
    "K_array = 0.09"
   ]
  },
  {
   "cell_type": "code",
   "execution_count": 13,
   "metadata": {},
   "outputs": [],
   "source": [
    "# Initial Data\n",
    "X = Float32.(readdlm(\"../../data/init/Sphere/$R_agg.xyz\")[3:end,2:end]) |> cu;"
   ]
  },
  {
   "cell_type": "markdown",
   "metadata": {},
   "source": [
    "# Running Fusion"
   ]
  },
  {
   "cell_type": "code",
   "execution_count": 14,
   "metadata": {},
   "outputs": [
    {
     "name": "stdout",
     "output_type": "stream",
     "text": [
      "Calculating T_Final=150000 | R_Max = 3.5 | s = 1.9 | k = 0.09\n"
     ]
    },
    {
     "name": "stderr",
     "output_type": "stream",
     "text": [
      "\u001b[32mProgress:   3%|▋                        |  ETA: 1:52:04\u001b[39merror in running finalizer: InterruptException()\n",
      "maybe_collect at /buildworker/worker/package_linux64/build/src/julia_threads.h:313 [inlined]\n",
      "jl_gc_pool_alloc at /buildworker/worker/package_linux64/build/src/gc.c:1204\n",
      "default_stream at /home/nicomosty/.julia/packages/CUDA/DfvRa/lib/cudadrv/stream.jl:32 [inlined]\n",
      "unsafe_finalize! at /home/nicomosty/.julia/packages/CUDA/DfvRa/src/array.jl:99\n",
      "_jl_invoke at /buildworker/worker/package_linux64/build/src/gf.c:2237 [inlined]\n",
      "jl_apply_generic at /buildworker/worker/package_linux64/build/src/gf.c:2419\n",
      "jl_apply at /buildworker/worker/package_linux64/build/src/julia.h:1703 [inlined]\n",
      "run_finalizer at /buildworker/worker/package_linux64/build/src/gc.c:278\n",
      "jl_gc_run_finalizers_in_list at /buildworker/worker/package_linux64/build/src/gc.c:365\n",
      "run_finalizers at /buildworker/worker/package_linux64/build/src/gc.c:394\n",
      "jl_gc_collect at /buildworker/worker/package_linux64/build/src/gc.c:3260\n",
      "gc at ./gcutils.jl:94 [inlined]\n",
      "macro expansion at /home/nicomosty/.julia/packages/CUDA/DfvRa/src/pool.jl:263 [inlined]\n",
      "macro expansion at ./timing.jl:287 [inlined]\n",
      "#_alloc#168 at /home/nicomosty/.julia/packages/CUDA/DfvRa/src/pool.jl:313 [inlined]\n",
      "_alloc##kw at /home/nicomosty/.julia/packages/CUDA/DfvRa/src/pool.jl:309\n",
      "#alloc#167 at /home/nicomosty/.julia/packages/CUDA/DfvRa/src/pool.jl:299 [inlined]\n",
      "alloc at /home/nicomosty/.julia/packages/CUDA/DfvRa/src/pool.jl:295 [inlined]\n",
      "CuArray at /home/nicomosty/.julia/packages/CUDA/DfvRa/src/array.jl:42\n",
      "CuArray at /home/nicomosty/.julia/packages/CUDA/DfvRa/src/array.jl:125 [inlined]\n",
      "CuArray at /home/nicomosty/.julia/packages/CUDA/DfvRa/src/array.jl:136 [inlined]\n",
      "similar at ./abstractarray.jl:785 [inlined]\n",
      "similar at ./abstractarray.jl:784 [inlined]\n",
      "similar at /home/nicomosty/.julia/packages/CUDA/DfvRa/src/broadcast.jl:11 [inlined]\n",
      "copy at /home/nicomosty/.julia/packages/GPUArrays/fqD8z/src/host/broadcast.jl:37 [inlined]\n",
      "materialize at ./broadcast.jl:883\n",
      "unknown function (ip: 0x7f9493186c51)\n",
      "_jl_invoke at /buildworker/worker/package_linux64/build/src/gf.c:2237 [inlined]\n",
      "jl_apply_generic at /buildworker/worker/package_linux64/build/src/gf.c:2419\n",
      "knn_cu at /home/nicomosty/Documentos/Maestria-GitHub/CellAggregate.jl/src/Neighbor.jl:11\n",
      "diff_forces at /home/nicomosty/Documentos/Maestria-GitHub/CellAggregate.jl/src/forces.jl:82\n",
      "unknown function (ip: 0x7f94931fcde4)\n",
      "_jl_invoke at /buildworker/worker/package_linux64/build/src/gf.c:2237 [inlined]\n",
      "jl_apply_generic at /buildworker/worker/package_linux64/build/src/gf.c:2419\n",
      "fusion at /home/nicomosty/Documentos/Maestria-GitHub/CellAggregate.jl/src/forces.jl:127\n",
      "unknown function (ip: 0x7f94931fa331)\n",
      "_jl_invoke at /buildworker/worker/package_linux64/build/src/gf.c:2237 [inlined]\n",
      "jl_apply_generic at /buildworker/worker/package_linux64/build/src/gf.c:2419\n",
      "top-level scope at ./In[14]:14\n",
      "jl_toplevel_eval_flex at /buildworker/worker/package_linux64/build/src/toplevel.c:871\n",
      "jl_toplevel_eval_flex at /buildworker/worker/package_linux64/build/src/toplevel.c:825\n",
      "jl_toplevel_eval_in at /buildworker/worker/package_linux64/build/src/toplevel.c:929\n",
      "eval at ./boot.jl:360 [inlined]\n",
      "include_string at ./loading.jl:1116\n",
      "softscope_include_string at /home/nicomosty/.julia/packages/SoftGlobalScope/u4UzH/src/SoftGlobalScope.jl:65\n",
      "_jl_invoke at /buildworker/worker/package_linux64/build/src/gf.c:2237 [inlined]\n",
      "jl_apply_generic at /buildworker/worker/package_linux64/build/src/gf.c:2419\n",
      "execute_request at /home/nicomosty/.julia/packages/IJulia/AQu2H/src/execute_request.jl:67\n",
      "_jl_invoke at /buildworker/worker/package_linux64/build/src/gf.c:2237 [inlined]\n",
      "jl_apply_generic at /buildworker/worker/package_linux64/build/src/gf.c:2419\n",
      "jl_apply at /buildworker/worker/package_linux64/build/src/julia.h:1703 [inlined]\n",
      "jl_f__call_latest at /buildworker/worker/package_linux64/build/src/builtins.c:719\n",
      "#invokelatest#2 at ./essentials.jl:708 [inlined]\n",
      "invokelatest at ./essentials.jl:706 [inlined]\n",
      "eventloop at /home/nicomosty/.julia/packages/IJulia/AQu2H/src/eventloop.jl:8\n",
      "#15 at ./task.jl:417\n",
      "unknown function (ip: 0x7f94c8f37c9c)\n",
      "_jl_invoke at /buildworker/worker/package_linux64/build/src/gf.c:2237 [inlined]\n",
      "jl_apply_generic at /buildworker/worker/package_linux64/build/src/gf.c:2419\n",
      "jl_apply at /buildworker/worker/package_linux64/build/src/julia.h:1703 [inlined]\n",
      "start_task at /buildworker/worker/package_linux64/build/src/task.c:834\n",
      "\u001b[32mProgress:   3%|▊                        |  ETA: 1:52:01\u001b[39m"
     ]
    }
   ],
   "source": [
    "# Testing all the conditions of the fusion\n",
    "for t_f in T_f\n",
    "    for r_max in R_Max\n",
    "        for s in S\n",
    "            for K in K_array\n",
    "                #Generating the path\n",
    "                if !isdir(\"../../results/fusion/T_$(t_f)\") mkdir(\"../../results/fusion/T_$(t_f)\") end\n",
    "                if !isdir(\"../../results/fusion/T_$(t_f)/rmax_$(r_max)_s_$(s)\") mkdir(\"../../results/fusion/T_$(t_f)/rmax_$(r_max)_s_$(s)\") end\n",
    "                if !isdir(\"../../results/fusion/T_$(t_f)/rmax_$(r_max)_s_$(s)/k_$(K)\") mkdir(\"../../results/fusion/T_$(t_f)/rmax_$(r_max)_s_$(s)/k_$(K)\")  end\n",
    "                \n",
    "                # Calculating all above\n",
    "                if size(readdir(\"../../results/fusion/T_$(T_f)/rmax_$(R_Max)_s_$(S)/k_$(K)\"))[1] < 2\n",
    "                    println(\"Calculating T_Final=$(t_f) | R_Max = $(r_max) | s = $(s) | k = $(K)\")\n",
    "                    fusion(\"../../results/fusion/T_$(T_f)/rmax_$(R_Max)_s_$(S)/k_$(K)\",t_f, r_max, s, K)\n",
    "                else\n",
    "                    println(\"This is already calculated\")\n",
    "                end\n",
    "            end\n",
    "        end\n",
    "    end\n",
    "end"
   ]
  },
  {
   "cell_type": "code",
   "execution_count": null,
   "metadata": {},
   "outputs": [
    {
     "ename": "LoadError",
     "evalue": "UndefVarError: K not defined",
     "output_type": "error",
     "traceback": [
      "UndefVarError: K not defined",
      "",
      "Stacktrace:",
      " [1] top-level scope",
      "   @ In[6]:1",
      " [2] eval",
      "   @ ./boot.jl:360 [inlined]",
      " [3] include_string(mapexpr::typeof(REPL.softscope), mod::Module, code::String, filename::String)",
      "   @ Base ./loading.jl:1116"
     ]
    }
   ],
   "source": [
    "# run(`paraview Test_Initial.xyz Test_Final.xyz`)"
   ]
  }
 ],
 "metadata": {
  "kernelspec": {
   "display_name": "Julia 1.6.7",
   "language": "julia",
   "name": "julia-1.6"
  },
  "language_info": {
   "file_extension": ".jl",
   "mimetype": "application/julia",
   "name": "julia",
   "version": "1.6.7"
  },
  "orig_nbformat": 4,
  "vscode": {
   "interpreter": {
    "hash": "916dbcbb3f70747c44a77c7bcd40155683ae19c65e1c03b4aa3499c5328201f1"
   }
  }
 },
 "nbformat": 4,
 "nbformat_minor": 2
}
