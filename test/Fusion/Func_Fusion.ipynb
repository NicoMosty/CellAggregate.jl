{
 "cells": [
  {
   "cell_type": "markdown",
   "metadata": {},
   "source": [
    "# Adding Dependeces"
   ]
  },
  {
   "cell_type": "code",
   "execution_count": 17,
   "metadata": {},
   "outputs": [
    {
     "data": {
      "text/plain": [
       "knn_cu (generic function with 1 method)"
      ]
     },
     "execution_count": 17,
     "metadata": {},
     "output_type": "execute_result"
    }
   ],
   "source": [
    "using DelimitedFiles\n",
    "using CUDA\n",
    "using ProgressMeter\n",
    "include(\"../../src/forces.jl\")\n",
    "include(\"../../src/Neighbor.jl\")"
   ]
  },
  {
   "cell_type": "markdown",
   "metadata": {},
   "source": [
    "# Initial Conditions"
   ]
  },
  {
   "cell_type": "code",
   "execution_count": 18,
   "metadata": {},
   "outputs": [
    {
     "data": {
      "text/plain": [
       "50"
      ]
     },
     "execution_count": 18,
     "metadata": {},
     "output_type": "execute_result"
    }
   ],
   "source": [
    "# Running fusion of the two aggregates\n",
    "# Physical Conditions\n",
    "R_agg = 10\n",
    "\n",
    "# Time model Conditions\n",
    "T_f = 150000\n",
    "dt = 0.1\n",
    "\n",
    "# Neighbor Conditions\n",
    "n_knn = 50\n",
    "nn = 16\n",
    "\n",
    "# Forces Conditions\n",
    "R_Max = [3.0 3.2 3.5]\n",
    "S = 2.0\n",
    "K_array = [1 0.5 0.1 0.05 0.01 0.005]\n",
    "\n",
    "# Coding C0nditions\n",
    "n_text = 50"
   ]
  },
  {
   "cell_type": "markdown",
   "metadata": {},
   "source": [
    "# Running Fusion"
   ]
  },
  {
   "cell_type": "code",
   "execution_count": 19,
   "metadata": {},
   "outputs": [],
   "source": [
    "# Testing all the conditions of the fusion\n",
    "for t_f in T_f\n",
    "    for r_max in R_Max\n",
    "        for s in S\n",
    "            for K in K_array\n",
    "                # Initial Data\n",
    "                X = Float32.(readdlm(\"../../data/init/Sphere/$R_agg.xyz\")[3:end,2:end]) |> cu\n",
    "                \n",
    "                #Generating the path\n",
    "                if !isdir(\"../../results/Fusion/T_$(t_f)\") mkdir(\"../../results/Fusion/T_$(t_f)\") end\n",
    "                if !isdir(\"../../results/Fusion/T_$(t_f)/rmax_$(r_max)_s_$(s)\") mkdir(\"../../results/Fusion/T_$(t_f)/rmax_$(r_max)_s_$(s)\") end\n",
    "                # if !isdir(\"../../results/Fusion/T_$(t_f)/rmax_$(r_max)_s_$(s)/k_$(K)\") mkdir(\"../../results/Fusion/T_$(t_f)/rmax_$(r_max)_s_$(s)/k_$(K)\")  end\n",
    "                \n",
    "                # # Calculating all above\n",
    "                Folder = readdir(\"../../results/Fusion/T_$(t_f)/rmax_$(r_max)_s_$(s)\")\n",
    "                File = \"tf_($(t_f))|dt_($(dt))|rm_($(r_max))|s=($(s))|K_($(K))_GPU.xyz\"\n",
    "                if !(File in Folder)\n",
    "                    println(\"Calculating T_Final=$(t_f) | R_Max = $(r_max) | s = $(s) | k = $(K)\")\n",
    "                    fusion(\"../../results/Fusion/T_$(t_f)/rmax_$(r_max)_s_$(s)/\",n_text,t_f, r_max, s, K)\n",
    "                else\n",
    "                    println(\"This is already calculated\")\n",
    "                end\n",
    "            end\n",
    "        end\n",
    "    end\n",
    "end"
   ]
  },
  {
   "cell_type": "code",
   "execution_count": null,
   "metadata": {},
   "outputs": [
    {
     "data": {
      "text/plain": [
       "3"
      ]
     },
     "execution_count": 16,
     "metadata": {},
     "output_type": "execute_result"
    }
   ],
   "source": [
    "# X = Float32.(readdlm(\"../../data/init/Sphere/$R_agg.xyz\")[3:end,2:end]) |> cu\n",
    "# println(\"Calculating T_Final=$(T_f) | R_Max = $(R_Max) | s = $(S) | k = $(K_array)\")\n",
    "# fusion(\"\",n_text,T_f, R_Max, S, K_array)\n",
    "3"
   ]
  }
 ],
 "metadata": {
  "kernelspec": {
   "display_name": "Julia 1.6.7",
   "language": "julia",
   "name": "julia-1.6"
  },
  "language_info": {
   "file_extension": ".jl",
   "mimetype": "application/julia",
   "name": "julia",
   "version": "1.6.7"
  },
  "orig_nbformat": 4,
  "vscode": {
   "interpreter": {
    "hash": "916dbcbb3f70747c44a77c7bcd40155683ae19c65e1c03b4aa3499c5328201f1"
   }
  }
 },
 "nbformat": 4,
 "nbformat_minor": 2
}
