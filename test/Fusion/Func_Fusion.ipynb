{
 "cells": [
  {
   "cell_type": "markdown",
   "metadata": {},
   "source": [
    "# Adding Dependeces"
   ]
  },
  {
   "cell_type": "code",
   "execution_count": 1,
   "metadata": {},
   "outputs": [
    {
     "data": {
      "text/plain": [
       "fusion (generic function with 1 method)"
      ]
     },
     "execution_count": 1,
     "metadata": {},
     "output_type": "execute_result"
    }
   ],
   "source": [
    "include(\"../../src/test.jl\")\n",
    "include(\"../../src/forces.jl\")\n",
    "include(\"../../src/neighbor.jl\")\n",
    "include(\"../../src/run_event.jl\")"
   ]
  },
  {
   "cell_type": "markdown",
   "metadata": {},
   "source": [
    "# Initial Conditions"
   ]
  },
  {
   "cell_type": "code",
   "execution_count": 2,
   "metadata": {},
   "outputs": [
    {
     "data": {
      "text/plain": [
       "2"
      ]
     },
     "execution_count": 2,
     "metadata": {},
     "output_type": "execute_result"
    }
   ],
   "source": [
    "# Running fusion of the two aggregates\n",
    "# Physical Conditions\n",
    "# q = 4\n",
    "# R_agg = \"Cube($(q))\"\n",
    "R_agg = 10\n",
    "\n",
    "# Time model Conditions\n",
    "T_f = 100000\n",
    "dt = 0.1\n",
    "\n",
    "# Neighbor Conditions\n",
    "n_knn = 50\n",
    "nn = 12\n",
    "\n",
    "# Forces Conditions\n",
    "R_Max = 3.0\n",
    "Fp = 0.01\n",
    "K_array = 0.00000000001\n",
    "s = 2.0\n",
    "\n",
    "# Coding C0nditions\n",
    "n_text = 200\n",
    "num_agg = 2"
   ]
  },
  {
   "cell_type": "code",
   "execution_count": 3,
   "metadata": {},
   "outputs": [],
   "source": [
    "# X = hcat(\n",
    "#     reshape(repeat(collect(1.0:2.0:2*q)', outer=q^2),1,q^3)',\n",
    "#     repeat(\n",
    "#         vcat(\n",
    "#             reshape(repeat(collect(1.0:2.0:2*q)', outer=q),1,q^2),\n",
    "#             reshape(repeat(collect(1.0:2.0:2*q)', outer=q)',1,q^2)\n",
    "#         )',q\n",
    "#     )\n",
    "# ) |> cu"
   ]
  },
  {
   "cell_type": "code",
   "execution_count": 4,
   "metadata": {},
   "outputs": [
    {
     "name": "stdout",
     "output_type": "stream",
     "text": [
      "---------------------------------------------------------------\n",
      "Calculating T_Final=100000 | R_Max = 3.0 | fp = 0.01 | k = 1.0e-11 \n",
      " for 2 Aggregates\n",
      "Finding Equilibrium in one Aggregate\n"
     ]
    },
    {
     "ename": "LoadError",
     "evalue": "InterruptException:",
     "output_type": "error",
     "traceback": [
      "InterruptException:",
      "",
      "Stacktrace:",
      "  [1] emit_llvm(job::GPUCompiler.CompilerJob, method_instance::Any; libraries::Bool, deferred_codegen::Bool, optimize::Bool, cleanup::Bool, only_entry::Bool, ctx::LLVM.Context)",
      "    @ GPUCompiler ~/.julia/packages/GPUCompiler/07qaN/src/utils.jl:73",
      "  [2] cufunction_compile(job::GPUCompiler.CompilerJob, ctx::LLVM.Context)",
      "    @ CUDA ~/.julia/packages/CUDA/DfvRa/src/compiler/execution.jl:353",
      "  [3] #222",
      "    @ ~/.julia/packages/CUDA/DfvRa/src/compiler/execution.jl:347 [inlined]",
      "  [4] JuliaContext(f::CUDA.var\"#222#223\"{GPUCompiler.CompilerJob{GPUCompiler.PTXCompilerTarget, CUDA.CUDACompilerParams, GPUCompiler.FunctionSpec{GPUArrays.var\"#broadcast_kernel#17\", Tuple{CUDA.CuKernelContext, CuDeviceMatrix{Int64, 1}, Base.Broadcast.Broadcasted{CUDA.CuArrayStyle{2}, Tuple{Base.OneTo{Int64}, Base.OneTo{Int64}}, typeof(getindex), Tuple{Base.Broadcast.Extruded{CuDeviceMatrix{CartesianIndex{2}, 1}, Tuple{Bool, Bool}, Tuple{Int64, Int64}}, Int64}}, Int64}}}})",
      "    @ GPUCompiler ~/.julia/packages/GPUCompiler/07qaN/src/driver.jl:76",
      "  [5] cufunction_compile(job::GPUCompiler.CompilerJob)",
      "    @ CUDA ~/.julia/packages/CUDA/DfvRa/src/compiler/execution.jl:346",
      "  [6] cached_compilation(cache::Dict{UInt64, Any}, job::GPUCompiler.CompilerJob, compiler::typeof(CUDA.cufunction_compile), linker::typeof(CUDA.cufunction_link))",
      "    @ GPUCompiler ~/.julia/packages/GPUCompiler/07qaN/src/cache.jl:90",
      "  [7] cufunction(f::GPUArrays.var\"#broadcast_kernel#17\", tt::Type{Tuple{CUDA.CuKernelContext, CuDeviceMatrix{Int64, 1}, Base.Broadcast.Broadcasted{CUDA.CuArrayStyle{2}, Tuple{Base.OneTo{Int64}, Base.OneTo{Int64}}, typeof(getindex), Tuple{Base.Broadcast.Extruded{CuDeviceMatrix{CartesianIndex{2}, 1}, Tuple{Bool, Bool}, Tuple{Int64, Int64}}, Int64}}, Int64}}; name::Nothing, kwargs::Base.Iterators.Pairs{Union{}, Union{}, Tuple{}, NamedTuple{(), Tuple{}}})",
      "    @ CUDA ~/.julia/packages/CUDA/DfvRa/src/compiler/execution.jl:299",
      "  [8] cufunction",
      "    @ ~/.julia/packages/CUDA/DfvRa/src/compiler/execution.jl:293 [inlined]",
      "  [9] macro expansion",
      "    @ ~/.julia/packages/CUDA/DfvRa/src/compiler/execution.jl:102 [inlined]",
      " [10] #launch_heuristic#246",
      "    @ ~/.julia/packages/CUDA/DfvRa/src/gpuarrays.jl:17 [inlined]",
      " [11] _copyto!",
      "    @ ~/.julia/packages/GPUArrays/fqD8z/src/host/broadcast.jl:63 [inlined]",
      " [12] copyto!",
      "    @ ~/.julia/packages/GPUArrays/fqD8z/src/host/broadcast.jl:46 [inlined]",
      " [13] copy",
      "    @ ~/.julia/packages/GPUArrays/fqD8z/src/host/broadcast.jl:37 [inlined]",
      " [14] materialize(bc::Base.Broadcast.Broadcasted{CUDA.CuArrayStyle{2}, Nothing, typeof(getindex), Tuple{CuArray{CartesianIndex{2}, 2, CUDA.Mem.DeviceBuffer}, Int64}})",
      "    @ Base.Broadcast ./broadcast.jl:883",
      " [15] simulate(PATH::String, SAVING::Bool, n_text::Int64, n_knn::Int64, t_f::Float64, r_max::Float64, fp::Float64, K::Float64, R_agg::Int64)",
      "    @ Main ~/Documentos/Maestria-GitHub/CellAggregate.jl/src/run_event.jl:65",
      " [16] one_aggregate(PATH::String, STORE::Bool, n_text::Int64, t_f::Float64, r_max::Float64, fp::Float64, K::Float64, R_agg::Int64)",
      "    @ Main ~/Documentos/Maestria-GitHub/CellAggregate.jl/src/run_event.jl:100",
      " [17] fusion(PATH::String, STORE::Bool, n_text::Int64, t_f::Int64, r_max::Float64, fp::Float64, K::Float64, R_agg::Int64)",
      "    @ Main ~/Documentos/Maestria-GitHub/CellAggregate.jl/src/run_event.jl:110",
      " [18] top-level scope",
      "    @ ./In[4]:46",
      " [19] eval",
      "    @ ./boot.jl:360 [inlined]",
      " [20] include_string(mapexpr::typeof(REPL.softscope), mod::Module, code::String, filename::String)",
      "    @ Base ./loading.jl:1116"
     ]
    }
   ],
   "source": [
    "# Testing all the conditions of the fusion\n",
    "for t_f in T_f\n",
    "    for r_max in R_Max\n",
    "        for fp in Fp\n",
    "            for K in K_array\n",
    "                # Initial Data\n",
    "                X = Float32.(readdlm(\"../../data/init/Sphere/$R_agg.xyz\")[3:end,2:end]) |> cu\n",
    "\n",
    "                # Generating the Path\n",
    "                if num_agg == 1\n",
    "                    Path = \"../../results/OneAgg/R_Agg($(R_agg))/T_$(t_f)/fp_($(fp))/K_($(K))\"\n",
    "                else\n",
    "                    Path = \"../../results/TwoAgg/R_Agg($(R_agg))/T_$(t_f)/fp_($(fp))/K_($(K))\"\n",
    "                end\n",
    "                File = \"tf_($(t_f))|s=($(s))|fp_($(fp))|K_($(K))|rmax_$(r_max)|_GPU.xyz\"\n",
    "\n",
    "                for p in 4:8 # p is the position every folder on the path\n",
    "                    if !isdir(join(split(Path, \"/\")[1:p],\"/\")) \n",
    "                        mkdir(join(split(Path, \"/\")[1:p],\"/\")) \n",
    "                    end\n",
    "                end\n",
    "\n",
    "                # Calculating all above\n",
    "                println(\"---------------------------------------------------------------\")\n",
    "                if num_agg == 1\n",
    "                    println(\"Calculating T_Final=$(t_f) | R_Max = $(r_max) | fp = $(fp) | k = $(K) \\n for $(num_agg) Aggregate\")\n",
    "                else\n",
    "                    println(\"Calculating T_Final=$(t_f) | R_Max = $(r_max) | fp = $(fp) | k = $(K) \\n for $(num_agg) Aggregates\")\n",
    "                end\n",
    "                if File in readdir(Path)\n",
    "                    if countlines(Path*\"/\"*File) < (2*size(X,1)+2)*(n_text+1)\n",
    "                        println(\"Calculated with less data. Recalculating\")\n",
    "                        rm(Path*\"/\"*File)\n",
    "                        if num_agg == 1\n",
    "                            one_aggregate(Path*\"/\"*File,true,n_text,t_f, r_max, fp, K, R_agg)\n",
    "                        else\n",
    "                            fusion(Path*\"/\"*File,n_text,true,t_f, r_max, fp, K, R_agg)\n",
    "                        end\n",
    "                    else\n",
    "                        println(\"This is already calculated\")           \n",
    "                    end\n",
    "                else\n",
    "                    if num_agg == 1\n",
    "                        one_aggregate(Path*\"/\"*File,true,n_text,t_f, r_max, fp, K, R_agg)\n",
    "                    else\n",
    "                        fusion(Path*\"/\"*File,true,n_text,t_f, r_max, fp, K, R_agg)\n",
    "                    end\n",
    "                end\n",
    "            end\n",
    "        end\n",
    "    end\n",
    "end"
   ]
  },
  {
   "cell_type": "code",
   "execution_count": null,
   "metadata": {},
   "outputs": [
    {
     "data": {
      "text/plain": [
       "4-element Vector{Float64}:\n",
       " 0.0\n",
       " 0.03\n",
       " 0.06\n",
       " 0.09"
      ]
     },
     "execution_count": 213,
     "metadata": {},
     "output_type": "execute_result"
    }
   ],
   "source": [
    "f = collect(0.0:0.03:0.1)\n",
    "ka = collect(0.005:0.006:0.032)\n",
    "collect(2.6:0.2:3.0)\n",
    "# rmex = "
   ]
  }
 ],
 "metadata": {
  "kernelspec": {
   "display_name": "Julia 1.6.7",
   "language": "julia",
   "name": "julia-1.6"
  },
  "language_info": {
   "file_extension": ".jl",
   "mimetype": "application/julia",
   "name": "julia",
   "version": "1.6.7"
  },
  "orig_nbformat": 4,
  "vscode": {
   "interpreter": {
    "hash": "916dbcbb3f70747c44a77c7bcd40155683ae19c65e1c03b4aa3499c5328201f1"
   }
  }
 },
 "nbformat": 4,
 "nbformat_minor": 2
}
