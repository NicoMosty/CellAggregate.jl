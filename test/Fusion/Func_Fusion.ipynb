{
 "cells": [
  {
   "cell_type": "markdown",
   "metadata": {},
   "source": [
    "# Adding Dependeces"
   ]
  },
  {
   "cell_type": "code",
   "execution_count": 1,
   "metadata": {},
   "outputs": [
    {
     "data": {
      "text/plain": [
       "knn_cu (generic function with 1 method)"
      ]
     },
     "execution_count": 1,
     "metadata": {},
     "output_type": "execute_result"
    }
   ],
   "source": [
    "using DelimitedFiles\n",
    "using CUDA\n",
    "using ProgressMeter\n",
    "include(\"../../src/forces.jl\")\n",
    "include(\"../../src/Neighbor.jl\")"
   ]
  },
  {
   "cell_type": "markdown",
   "metadata": {},
   "source": [
    "# Initial Conditions"
   ]
  },
  {
   "cell_type": "code",
   "execution_count": null,
   "metadata": {},
   "outputs": [],
   "source": [
    "# Running fusion of the two aggregates\n",
    "# Physical Conditions\n",
    "R_agg = 10\n",
    "\n",
    "# Time model Conditions\n",
    "T_f = 150000\n",
    "dt = 0.1\n",
    "\n",
    "# Neighbor Conditions\n",
    "n_knn = 50\n",
    "nn = 16\n",
    "\n",
    "# Forces Conditions\n",
    "R_Max = 3.5\n",
    "S = 1.9\n",
    "K_array = 0.005"
   ]
  },
  {
   "cell_type": "markdown",
   "metadata": {},
   "source": [
    "# Running Fusion"
   ]
  },
  {
   "cell_type": "code",
   "execution_count": null,
   "metadata": {},
   "outputs": [],
   "source": [
    "# Initial Data\n",
    "X = Float32.(readdlm(\"../../../../../data/init/Sphere/$R_agg.xyz\")[3:end,2:end]) |> cu\n",
    "\n",
    "# Testing all the conditions of the fusion\n",
    "for t_f in T_f\n",
    "    for r_max in R_Max\n",
    "        for s in S\n",
    "            for K in K_array\n",
    "                #Generating the path\n",
    "                if !isdir(\"../results/T_$(t_f)\") mkdir(\"T_$(t_f)\") end\n",
    "                if !isdir(\"../results/T_$(t_f)/rmax_$(r_max)_s_$(s)\") mkdir(\"../results/T_$(t_f)/rmax_$(r_max)_s_$(s)\") end\n",
    "                if !isdir(\"../results/T_$(t_f)/rmax_$(r_max)_s_$(s)/k_$(K)\") mkdir(\"../results/T_$(t_f)/rmax_$(r_max)_s_$(s)/k_$(K)\")  end\n",
    "                \n",
    "                \n",
    "                # Calculating all above\n",
    "                if size(readdir(\"../results/T_$(T_f)/rmax_$(R_Max)_s_$(S)/k_$(K)\"))[1] == 0\n",
    "                    cd(\"../results/T_$(t_f)/rmax_$(r_max)_s_$(s)/k_$(K)\")\n",
    "                    println(\"Calculating T_Final=$(t_f) | R_Max = $(r_max) | s = $(s) | k = $(K)\")\n",
    "                    main(t_f, r_max, s, K)\n",
    "                    X = Matrix(X)\n",
    "                        open(\"Test_Final.xyz\"; write=true) do f\n",
    "                            write(f, \"$(size(X, 1))\\n\")\n",
    "                            write(f, \"Initial Data ($(R_agg))\\n\")\n",
    "                            writedlm(f,hcat(X_f_2, X), ' ')\n",
    "                        end\n",
    "                    cd(\"../../..\")\n",
    "                else\n",
    "                    println(\"This is already calculated\")\n",
    "                end\n",
    "            end\n",
    "        end\n",
    "    end\n",
    "end"
   ]
  },
  {
   "cell_type": "code",
   "execution_count": null,
   "metadata": {},
   "outputs": [],
   "source": [
    "# run(`paraview Test_Initial.xyz Test_Final.xyz`)"
   ]
  }
 ],
 "metadata": {
  "kernelspec": {
   "display_name": "Julia 1.6.7",
   "language": "julia",
   "name": "julia-1.6"
  },
  "language_info": {
   "file_extension": ".jl",
   "mimetype": "application/julia",
   "name": "julia",
   "version": "1.6.7"
  },
  "orig_nbformat": 4,
  "vscode": {
   "interpreter": {
    "hash": "916dbcbb3f70747c44a77c7bcd40155683ae19c65e1c03b4aa3499c5328201f1"
   }
  }
 },
 "nbformat": 4,
 "nbformat_minor": 2
}
