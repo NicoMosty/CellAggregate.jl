{
 "cells": [
  {
   "cell_type": "markdown",
   "metadata": {},
   "source": [
    "# Adding Dependeces"
   ]
  },
  {
   "cell_type": "code",
   "execution_count": 13,
   "metadata": {},
   "outputs": [
    {
     "data": {
      "text/plain": [
       "fusion (generic function with 1 method)"
      ]
     },
     "execution_count": 13,
     "metadata": {},
     "output_type": "execute_result"
    }
   ],
   "source": [
    "using DelimitedFiles\n",
    "include(\"../../src/forces.jl\")\n",
    "include(\"../../src/Neighbor.jl\")\n",
    "include(\"../../src/solvers.jl\")"
   ]
  },
  {
   "cell_type": "markdown",
   "metadata": {},
   "source": [
    "# Initial Conditions"
   ]
  },
  {
   "cell_type": "code",
   "execution_count": 14,
   "metadata": {},
   "outputs": [
    {
     "data": {
      "text/plain": [
       "2"
      ]
     },
     "execution_count": 14,
     "metadata": {},
     "output_type": "execute_result"
    }
   ],
   "source": [
    "# Running fusion of the two aggregates\n",
    "# Physical Conditions\n",
    "R_agg = 11\n",
    "\n",
    "# Time model Conditions\n",
    "T_f = 100000\n",
    "dt = 0.1\n",
    "\n",
    "# Neighbor Conditions\n",
    "n_knn = 50\n",
    "nn = 12\n",
    "\n",
    "# Forces Conditions\n",
    "R_Max = 2.85\n",
    "S = 1.95\n",
    "K_array = 3.0\n",
    "\n",
    "# Coding C0nditions\n",
    "n_text = 50\n",
    "num_agg = 2"
   ]
  },
  {
   "cell_type": "markdown",
   "metadata": {},
   "source": [
    "# Running Fusion"
   ]
  },
  {
   "cell_type": "code",
   "execution_count": 15,
   "metadata": {},
   "outputs": [
    {
     "name": "stdout",
     "output_type": "stream",
     "text": [
      "---------------------------------------------------------------\n",
      "Calculating T_Final=100000 | R_Max = 2.85 | s = 1.95 | k = 3.0 \n",
      " for 2 Aggregates\n",
      "Finding Equilibrium in one Aggregate\n",
      "Running Forces Function\n"
     ]
    },
    {
     "name": "stderr",
     "output_type": "stream",
     "text": [
      "\u001b[32mProgress: 100%|█████████████████████████| Time: 0:00:12\u001b[39m\n"
     ]
    },
    {
     "name": "stdout",
     "output_type": "stream",
     "text": [
      "Running Forces Function\n"
     ]
    },
    {
     "name": "stderr",
     "output_type": "stream",
     "text": [
      "\u001b[32mProgress:   5%|█▏                       |  ETA: 0:07:25\u001b[39m"
     ]
    },
    {
     "ename": "LoadError",
     "evalue": "TaskFailedException\n\n\u001b[91m    nested task error: \u001b[39mInterruptException:\n    Stacktrace:\n     [1] \u001b[0m\u001b[1mpoptask\u001b[22m\u001b[0m\u001b[1m(\u001b[22m\u001b[90mW\u001b[39m::\u001b[0mBase.InvasiveLinkedListSynchronized\u001b[90m{Task}\u001b[39m\u001b[0m\u001b[1m)\u001b[22m\n    \u001b[90m   @ \u001b[39m\u001b[90mBase\u001b[39m \u001b[90m./\u001b[39m\u001b[90;4mtask.jl:795\u001b[0m\n     [2] \u001b[0m\u001b[1mwait\u001b[22m\u001b[0m\u001b[1m(\u001b[22m\u001b[0m\u001b[1m)\u001b[22m\n    \u001b[90m   @ \u001b[39m\u001b[90mBase\u001b[39m \u001b[90m./\u001b[39m\u001b[90;4mtask.jl:804\u001b[0m\n     [3] \u001b[0m\u001b[1mwait\u001b[22m\u001b[0m\u001b[1m(\u001b[22m\u001b[90mc\u001b[39m::\u001b[0mBase.GenericCondition\u001b[90m{Base.Threads.SpinLock}\u001b[39m\u001b[0m\u001b[1m)\u001b[22m\n    \u001b[90m   @ \u001b[39m\u001b[90mBase\u001b[39m \u001b[90m./\u001b[39m\u001b[90;4mcondition.jl:106\u001b[0m\n     [4] \u001b[0m\u001b[1m_trywait\u001b[22m\u001b[0m\u001b[1m(\u001b[22m\u001b[90mt\u001b[39m::\u001b[0mTimer\u001b[0m\u001b[1m)\u001b[22m\n    \u001b[90m   @ \u001b[39m\u001b[90mBase\u001b[39m \u001b[90m./\u001b[39m\u001b[90;4masyncevent.jl:115\u001b[0m\n     [5] \u001b[0m\u001b[1mwait\u001b[22m\n    \u001b[90m   @ \u001b[39m\u001b[90m./\u001b[39m\u001b[90;4masyncevent.jl:133\u001b[0m\u001b[90m [inlined]\u001b[39m\n     [6] \u001b[0m\u001b[1mmacro expansion\u001b[22m\n    \u001b[90m   @ \u001b[39m\u001b[90m~/.julia/packages/CUDA/DfvRa/lib/cudadrv/\u001b[39m\u001b[90;4mstream.jl:169\u001b[0m\u001b[90m [inlined]\u001b[39m\n     [7] \u001b[0m\u001b[1m(::CUDA.var\"#14#17\"{CuStream, Timer, CuDevice, Base.Event})\u001b[22m\u001b[0m\u001b[1m(\u001b[22m\u001b[0m\u001b[1m)\u001b[22m\n    \u001b[90m   @ \u001b[39m\u001b[35mCUDA\u001b[39m \u001b[90m./\u001b[39m\u001b[90;4mthreadingconstructs.jl:169\u001b[0m",
     "output_type": "error",
     "traceback": [
      "TaskFailedException\n\n\u001b[91m    nested task error: \u001b[39mInterruptException:\n    Stacktrace:\n     [1] \u001b[0m\u001b[1mpoptask\u001b[22m\u001b[0m\u001b[1m(\u001b[22m\u001b[90mW\u001b[39m::\u001b[0mBase.InvasiveLinkedListSynchronized\u001b[90m{Task}\u001b[39m\u001b[0m\u001b[1m)\u001b[22m\n    \u001b[90m   @ \u001b[39m\u001b[90mBase\u001b[39m \u001b[90m./\u001b[39m\u001b[90;4mtask.jl:795\u001b[0m\n     [2] \u001b[0m\u001b[1mwait\u001b[22m\u001b[0m\u001b[1m(\u001b[22m\u001b[0m\u001b[1m)\u001b[22m\n    \u001b[90m   @ \u001b[39m\u001b[90mBase\u001b[39m \u001b[90m./\u001b[39m\u001b[90;4mtask.jl:804\u001b[0m\n     [3] \u001b[0m\u001b[1mwait\u001b[22m\u001b[0m\u001b[1m(\u001b[22m\u001b[90mc\u001b[39m::\u001b[0mBase.GenericCondition\u001b[90m{Base.Threads.SpinLock}\u001b[39m\u001b[0m\u001b[1m)\u001b[22m\n    \u001b[90m   @ \u001b[39m\u001b[90mBase\u001b[39m \u001b[90m./\u001b[39m\u001b[90;4mcondition.jl:106\u001b[0m\n     [4] \u001b[0m\u001b[1m_trywait\u001b[22m\u001b[0m\u001b[1m(\u001b[22m\u001b[90mt\u001b[39m::\u001b[0mTimer\u001b[0m\u001b[1m)\u001b[22m\n    \u001b[90m   @ \u001b[39m\u001b[90mBase\u001b[39m \u001b[90m./\u001b[39m\u001b[90;4masyncevent.jl:115\u001b[0m\n     [5] \u001b[0m\u001b[1mwait\u001b[22m\n    \u001b[90m   @ \u001b[39m\u001b[90m./\u001b[39m\u001b[90;4masyncevent.jl:133\u001b[0m\u001b[90m [inlined]\u001b[39m\n     [6] \u001b[0m\u001b[1mmacro expansion\u001b[22m\n    \u001b[90m   @ \u001b[39m\u001b[90m~/.julia/packages/CUDA/DfvRa/lib/cudadrv/\u001b[39m\u001b[90;4mstream.jl:169\u001b[0m\u001b[90m [inlined]\u001b[39m\n     [7] \u001b[0m\u001b[1m(::CUDA.var\"#14#17\"{CuStream, Timer, CuDevice, Base.Event})\u001b[22m\u001b[0m\u001b[1m(\u001b[22m\u001b[0m\u001b[1m)\u001b[22m\n    \u001b[90m   @ \u001b[39m\u001b[35mCUDA\u001b[39m \u001b[90m./\u001b[39m\u001b[90;4mthreadingconstructs.jl:169\u001b[0m",
      "",
      "Stacktrace:",
      "  [1] sync_end(c::Channel{Any})",
      "    @ Base ./task.jl:369",
      "  [2] macro expansion",
      "    @ ./task.jl:388 [inlined]",
      "  [3] nonblocking_synchronize",
      "    @ ~/.julia/packages/CUDA/DfvRa/lib/cudadrv/stream.jl:164 [inlined]",
      "  [4] (::CUDA.var\"#183#184\"{CartesianIndex{2}, Vector{CartesianIndex{2}}, Int64, CuArray{CartesianIndex{2}, 1, CUDA.Mem.DeviceBuffer}, Int64, Int64})()",
      "    @ CUDA ~/.julia/packages/CUDA/DfvRa/src/array.jl:410",
      "  [5] #context!#63",
      "    @ ~/.julia/packages/CUDA/DfvRa/lib/cudadrv/state.jl:164 [inlined]",
      "  [6] context!",
      "    @ ~/.julia/packages/CUDA/DfvRa/lib/cudadrv/state.jl:161 [inlined]",
      "  [7] unsafe_copyto!(dest::Vector{CartesianIndex{2}}, doffs::Int64, src::CuArray{CartesianIndex{2}, 1, CUDA.Mem.DeviceBuffer}, soffs::Int64, n::Int64)",
      "    @ CUDA ~/.julia/packages/CUDA/DfvRa/src/array.jl:406",
      "  [8] copyto!",
      "    @ ~/.julia/packages/CUDA/DfvRa/src/array.jl:360 [inlined]",
      "  [9] copyto!",
      "    @ ~/.julia/packages/CUDA/DfvRa/src/array.jl:364 [inlined]",
      " [10] copyto_axcheck!",
      "    @ ./abstractarray.jl:1056 [inlined]",
      " [11] Vector{CartesianIndex{2}}(x::CuArray{CartesianIndex{2}, 1, CUDA.Mem.DeviceBuffer})",
      "    @ Base ./array.jl:540",
      " [12] Array",
      "    @ ./boot.jl:472 [inlined]",
      " [13] convert",
      "    @ ./array.jl:532 [inlined]",
      " [14] adapt_storage",
      "    @ ~/.julia/packages/CUDA/DfvRa/src/array.jl:652 [inlined]",
      " [15] adapt_structure",
      "    @ ~/.julia/packages/Adapt/LAQOx/src/Adapt.jl:57 [inlined]",
      " [16] adapt",
      "    @ ~/.julia/packages/Adapt/LAQOx/src/Adapt.jl:40 [inlined]",
      " [17] #194",
      "    @ ~/.julia/packages/CUDA/DfvRa/src/array.jl:659 [inlined]",
      " [18] map",
      "    @ ./tuple.jl:213 [inlined]",
      " [19] view",
      "    @ ~/.julia/packages/CUDA/DfvRa/src/array.jl:659 [inlined]",
      " [20] maybeview",
      "    @ ./views.jl:133 [inlined]",
      " [21] dotview(::CuArray{Float64, 2, CUDA.Mem.DeviceBuffer}, ::CuArray{CartesianIndex{2}, 1, CUDA.Mem.DeviceBuffer})",
      "    @ Base.Broadcast ./broadcast.jl:1212",
      " [22] cu_knn()",
      "    @ Main ~/Documentos/Maestria-UNAL/CellAggregate.jl/src/Neighbor.jl:28",
      " [23] diff_forces(PATH::String, SAVING::Bool, n_text::Int64, n_knn::Int64, t_f::Int64, r_max::Float64, s::Float64, K::Float64)",
      "    @ Main ~/Documentos/Maestria-UNAL/CellAggregate.jl/src/solvers.jl:52",
      " [24] fusion(PATH::String, n_text::Int64, t_f::Int64, r_max::Float64, s::Float64, K::Float64)",
      "    @ Main ~/Documentos/Maestria-UNAL/CellAggregate.jl/src/solvers.jl:113",
      " [25] top-level scope",
      "    @ ./In[15]:46",
      " [26] eval",
      "    @ ./boot.jl:360 [inlined]",
      " [27] include_string(mapexpr::typeof(REPL.softscope), mod::Module, code::String, filename::String)",
      "    @ Base ./loading.jl:1116"
     ]
    }
   ],
   "source": [
    "# Testing all the conditions of the fusion\n",
    "for t_f in T_f\n",
    "    for r_max in R_Max\n",
    "        for s in S\n",
    "            for K in K_array\n",
    "                # Initial Data\n",
    "                X = Float32.(readdlm(\"../../data/init/Sphere/$R_agg.xyz\")[3:end,2:end]) |> cu\n",
    "\n",
    "                # Generating the Path\n",
    "                if num_agg == 1\n",
    "                    Path = \"../../results/OneAgg/T_$(t_f)/rmax_$(r_max)_s_$(s)\"\n",
    "                else\n",
    "                    Path = \"../../results/TwoAgg/T_$(t_f)/rmax_$(r_max)_s_$(s)\"\n",
    "                end\n",
    "                File = \"tf_($(t_f))|dt_($(dt))|rm_($(r_max))|s=($(s))|K_($(K))_GPU.xyz\"\n",
    "\n",
    "                for p in 4:6 # p is the position every folder on the path\n",
    "                    if !isdir(join(split(Path, \"/\")[1:p],\"/\")) \n",
    "                        mkdir(join(split(Path, \"/\")[1:p],\"/\")) \n",
    "                    end\n",
    "                end\n",
    "                \n",
    "                # # Calculating all above\n",
    "                println(\"---------------------------------------------------------------\")\n",
    "                if num_agg == 1\n",
    "                    println(\"Calculating T_Final=$(t_f) | R_Max = $(r_max) | s = $(s) | k = $(K) \\n for $(num_agg) Aggregate\")\n",
    "                else\n",
    "                    println(\"Calculating T_Final=$(t_f) | R_Max = $(r_max) | s = $(s) | k = $(K) \\n for $(num_agg) Aggregates\")\n",
    "                end\n",
    "                if File in readdir(Path)\n",
    "                    if countlines(Path*\"/\"*File) < (2*size(X,1)+2)*(n_text+1)\n",
    "                        println(\"Calculated with less data. Recalculating\")\n",
    "                        rm(Path*\"/\"*File)\n",
    "                        if num_agg == 1\n",
    "                            one_aggregate(Path*\"/\",true,n_text,t_f, r_max, s, K)\n",
    "                        else\n",
    "                            fusion(Path*\"/\",n_text,t_f, r_max, s, K)\n",
    "                        end\n",
    "                    else\n",
    "                        println(\"This is already calculated\")           \n",
    "                    end\n",
    "                else\n",
    "                    if num_agg == 1\n",
    "                        one_aggregate(Path*\"/\",true,n_text,t_f, r_max, s, K)\n",
    "                    else\n",
    "                        fusion(Path*\"/\",n_text,t_f, r_max, s, K)\n",
    "                    end\n",
    "                end\n",
    "            end\n",
    "        end\n",
    "    end\n",
    "end"
   ]
  }
 ],
 "metadata": {
  "kernelspec": {
   "display_name": "Julia 1.6.7",
   "language": "julia",
   "name": "julia-1.6"
  },
  "language_info": {
   "file_extension": ".jl",
   "mimetype": "application/julia",
   "name": "julia",
   "version": "1.6.7"
  },
  "orig_nbformat": 4,
  "vscode": {
   "interpreter": {
    "hash": "916dbcbb3f70747c44a77c7bcd40155683ae19c65e1c03b4aa3499c5328201f1"
   }
  }
 },
 "nbformat": 4,
 "nbformat_minor": 2
}
