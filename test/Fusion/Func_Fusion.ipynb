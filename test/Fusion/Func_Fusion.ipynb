{
 "cells": [
  {
   "cell_type": "markdown",
   "metadata": {},
   "source": [
    "# Adding Dependeces"
   ]
  },
  {
   "cell_type": "code",
   "execution_count": 1,
   "metadata": {},
   "outputs": [
    {
     "data": {
      "text/plain": [
       "knn_cu (generic function with 1 method)"
      ]
     },
     "execution_count": 1,
     "metadata": {},
     "output_type": "execute_result"
    }
   ],
   "source": [
    "using DelimitedFiles\n",
    "using CUDA\n",
    "using ProgressMeter\n",
    "include(\"../../src/forces.jl\")\n",
    "include(\"../../src/Neighbor.jl\")"
   ]
  },
  {
   "cell_type": "markdown",
   "metadata": {},
   "source": [
    "# Initial Conditions"
   ]
  },
  {
   "cell_type": "code",
   "execution_count": 2,
   "metadata": {},
   "outputs": [
    {
     "data": {
      "text/plain": [
       "1×10 Matrix{Float64}:\n",
       " 0.0001  0.0005  0.001  0.005  0.01  0.05  0.1  0.5  1.0  5.0"
      ]
     },
     "execution_count": 2,
     "metadata": {},
     "output_type": "execute_result"
    }
   ],
   "source": [
    "# Running fusion of the two aggregates\n",
    "# Physical Conditions\n",
    "R_agg = 10\n",
    "\n",
    "# Time model Conditions\n",
    "T_f = 150000\n",
    "dt = 0.1\n",
    "\n",
    "# Neighbor Conditions\n",
    "n_knn = 50\n",
    "nn = 16\n",
    "\n",
    "# Forces Conditions\n",
    "R_Max = [2.5 3 3.5]\n",
    "S = 1.9\n",
    "K_array = [0.0001 0.0005 0.001 0.005 0.01 0.05 0.1 0.5 1 5]"
   ]
  },
  {
   "cell_type": "markdown",
   "metadata": {},
   "source": [
    "# Running Fusion"
   ]
  },
  {
   "cell_type": "code",
   "execution_count": 3,
   "metadata": {},
   "outputs": [
    {
     "name": "stdout",
     "output_type": "stream",
     "text": [
      "This is already calculated\n",
      "This is already calculated\n",
      "This is already calculated\n",
      "This is already calculated\n",
      "This is already calculated\n",
      "This is already calculated\n",
      "This is already calculated\n",
      "This is already calculated\n",
      "This is already calculated\n",
      "This is already calculated\n",
      "This is already calculated\n",
      "This is already calculated\n",
      "This is already calculated\n",
      "This is already calculated\n",
      "This is already calculated\n",
      "This is already calculated\n",
      "This is already calculated\n",
      "This is already calculated\n",
      "Calculating T_Final=150000 | R_Max = 3.0 | s = 1.9 | k = 1.0\n"
     ]
    },
    {
     "name": "stderr",
     "output_type": "stream",
     "text": [
      "┌ Warning: Performing scalar indexing on task Task (runnable) @0x00007f988e32c2b0.\n",
      "│ Invocation of getindex resulted in scalar indexing of a GPU array.\n",
      "│ This is typically caused by calling an iterating implementation of a method.\n",
      "│ Such implementations *do not* execute on the GPU, but very slowly on the CPU,\n",
      "│ and therefore are only permitted from the REPL for prototyping purposes.\n",
      "│ If you did intend to index this array, annotate the caller with @allowscalar.\n",
      "└ @ GPUArraysCore /home/nicomosty/.julia/packages/GPUArraysCore/lojQM/src/GPUArraysCore.jl:90\n",
      "\u001b[32mProgress: 100%|█████████████████████████| Time: 0:15:44\u001b[39mm43\u001b[39mm\n"
     ]
    },
    {
     "name": "stdout",
     "output_type": "stream",
     "text": [
      "Calculating T_Final=150000 | R_Max = 3.0 | s = 1.9 | k = 5.0\n"
     ]
    },
    {
     "name": "stderr",
     "output_type": "stream",
     "text": [
      "\u001b[32mProgress: 100%|█████████████████████████| Time: 0:22:23\u001b[39m\n"
     ]
    },
    {
     "name": "stdout",
     "output_type": "stream",
     "text": [
      "This is already calculated\n",
      "This is already calculated\n",
      "This is already calculated\n",
      "This is already calculated\n",
      "This is already calculated\n",
      "This is already calculated\n",
      "This is already calculated\n",
      "This is already calculated\n",
      "This is already calculated\n",
      "This is already calculated\n"
     ]
    }
   ],
   "source": [
    "# Testing all the conditions of the fusion\n",
    "for t_f in T_f\n",
    "    for r_max in R_Max\n",
    "        for s in S\n",
    "            for K in K_array\n",
    "                # Initial Data\n",
    "                X = Float32.(readdlm(\"../../data/init/Sphere/$R_agg.xyz\")[3:end,2:end]) |> cu\n",
    "                \n",
    "                #Generating the path\n",
    "                if !isdir(\"../../results/fusion/T_$(t_f)\") mkdir(\"../../results/fusion/T_$(t_f)\") end\n",
    "                if !isdir(\"../../results/fusion/T_$(t_f)/rmax_$(r_max)_s_$(s)\") mkdir(\"../../results/fusion/T_$(t_f)/rmax_$(r_max)_s_$(s)\") end\n",
    "                if !isdir(\"../../results/fusion/T_$(t_f)/rmax_$(r_max)_s_$(s)/k_$(K)\") mkdir(\"../../results/fusion/T_$(t_f)/rmax_$(r_max)_s_$(s)/k_$(K)\")  end\n",
    "                \n",
    "                # Calculating all above\n",
    "                if size(readdir(\"../../results/fusion/T_$(T_f)/rmax_$(r_max)_s_$(s)/k_$(K)\"))[1] < 2\n",
    "                    println(\"Calculating T_Final=$(t_f) | R_Max = $(r_max) | s = $(s) | k = $(K)\")\n",
    "                    fusion(\"../../results/fusion/T_$(T_f)/rmax_$(r_max)_s_$(s)/k_$(K)\",t_f, r_max, s, K)\n",
    "                else\n",
    "                    println(\"This is already calculated\")\n",
    "                end\n",
    "            end\n",
    "        end\n",
    "    end\n",
    "end"
   ]
  }
 ],
 "metadata": {
  "kernelspec": {
   "display_name": "Julia 1.6.7",
   "language": "julia",
   "name": "julia-1.6"
  },
  "language_info": {
   "file_extension": ".jl",
   "mimetype": "application/julia",
   "name": "julia",
   "version": "1.6.7"
  },
  "orig_nbformat": 4,
  "vscode": {
   "interpreter": {
    "hash": "916dbcbb3f70747c44a77c7bcd40155683ae19c65e1c03b4aa3499c5328201f1"
   }
  }
 },
 "nbformat": 4,
 "nbformat_minor": 2
}
