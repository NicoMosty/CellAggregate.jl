{
 "cells": [
  {
   "cell_type": "markdown",
   "metadata": {},
   "source": [
    "# Adding Dependeces"
   ]
  },
  {
   "cell_type": "code",
   "execution_count": 284,
   "metadata": {},
   "outputs": [
    {
     "data": {
      "text/plain": [
       "fusion (generic function with 2 methods)"
      ]
     },
     "execution_count": 284,
     "metadata": {},
     "output_type": "execute_result"
    }
   ],
   "source": [
    "include(\"../../src/test.jl\")\n",
    "include(\"../../src/forces.jl\")\n",
    "include(\"../../src/neighbor.jl\")\n",
    "include(\"../../src/run_event.jl\")"
   ]
  },
  {
   "cell_type": "markdown",
   "metadata": {},
   "source": [
    "# Initial Conditions"
   ]
  },
  {
   "cell_type": "code",
   "execution_count": 285,
   "metadata": {},
   "outputs": [
    {
     "data": {
      "text/plain": [
       "1"
      ]
     },
     "execution_count": 285,
     "metadata": {},
     "output_type": "execute_result"
    }
   ],
   "source": [
    "# Running fusion of the two aggregates\n",
    "# Physical Conditions\n",
    "# q = 4\n",
    "# R_agg = \"Cube($(q))\"\n",
    "R_agg = 10\n",
    "\n",
    "# Time model Conditions\n",
    "T_f = 100000\n",
    "dt = 0.1\n",
    "\n",
    "# Neighbor Conditions\n",
    "n_knn = 50\n",
    "nn = 12\n",
    "\n",
    "# Forces Conditions\n",
    "R_Max = 3.0\n",
    "Fp = 0.01\n",
    "K_array = 0.00000000001\n",
    "s = 2.0\n",
    "\n",
    "# Coding C0nditions\n",
    "n_text = 200\n",
    "num_agg = 2"
   ]
  },
  {
   "cell_type": "code",
   "execution_count": 286,
   "metadata": {},
   "outputs": [],
   "source": [
    "# X = hcat(\n",
    "#     reshape(repeat(collect(1.0:2.0:2*q)', outer=q^2),1,q^3)',\n",
    "#     repeat(\n",
    "#         vcat(\n",
    "#             reshape(repeat(collect(1.0:2.0:2*q)', outer=q),1,q^2),\n",
    "#             reshape(repeat(collect(1.0:2.0:2*q)', outer=q)',1,q^2)\n",
    "#         )',q\n",
    "#     )\n",
    "# ) |> cu"
   ]
  },
  {
   "cell_type": "code",
   "execution_count": 287,
   "metadata": {},
   "outputs": [
    {
     "name": "stdout",
     "output_type": "stream",
     "text": [
      "---------------------------------------------------------------\n",
      "Calculating T_Final=100000 | R_Max = 3.0 | fp = 0.01 | k = 1.0e-11 \n",
      " for 1 Aggregate\n",
      "Calculated with less data. Recalculating\n",
      "CI\n",
      "Finding Equilibrium in one Aggregate\n"
     ]
    },
    {
     "name": "stderr",
     "output_type": "stream",
     "text": [
      "\u001b[32mProgress:  42%|██████████▌              |  ETA: 0:02:19\u001b[39m"
     ]
    },
    {
     "ename": "LoadError",
     "evalue": "InterruptException:",
     "output_type": "error",
     "traceback": [
      "InterruptException:",
      "",
      "Stacktrace:",
      "  [1] launch_configuration(fun::CuFunction; shmem::ComposedFunction{CUDA.var\"#compute_shmem#296\"{Float64, Bool}, CUDA.var\"#compute_threads#295\"{Int64, Bool, CuDevice}}, max_threads::Int64)",
      "    @ CUDA ~/.julia/packages/CUDA/DfvRa/lib/cudadrv/occupancy.jl:62",
      "  [2] mapreducedim!(f::typeof(identity), op::typeof(Base.add_sum), R::CuArray{Float64, 3, CUDA.Mem.DeviceBuffer}, A::Base.Broadcast.Broadcasted{CUDA.CuArrayStyle{3}, Tuple{Base.OneTo{Int64}, Base.OneTo{Int64}, Base.OneTo{Int64}}, typeof(identity), Tuple{CuArray{Float64, 3, CUDA.Mem.DeviceBuffer}}}; init::Float64)",
      "    @ CUDA ~/.julia/packages/CUDA/DfvRa/src/mapreduce.jl:236",
      "  [3] #_mapreduce#22",
      "    @ ~/.julia/packages/GPUArrays/fqD8z/src/host/mapreduce.jl:69 [inlined]",
      "  [4] #mapreduce#20",
      "    @ ~/.julia/packages/GPUArrays/fqD8z/src/host/mapreduce.jl:31 [inlined]",
      "  [5] #_sum#708",
      "    @ ./reducedim.jl:900 [inlined]",
      "  [6] _sum",
      "    @ ./reducedim.jl:900 [inlined]",
      "  [7] #_sum#707",
      "    @ ./reducedim.jl:899 [inlined]",
      "  [8] _sum",
      "    @ ./reducedim.jl:899 [inlined]",
      "  [9] #sum#685",
      "    @ ./reducedim.jl:873 [inlined]",
      " [10] cu_forces(t::Int64, r_max::Float64, fp::Float64, K::Float64)",
      "    @ Main ~/Documentos/Maestria-UNAL/CellAggregate.jl/src/forces.jl:40",
      " [11] simulate(PATH::String, SAVING::Bool, n_text::Int64, n_knn::Int64, t_f::Int64, r_max::Float64, fp::Float64, K::Float64, R_agg::Int64)",
      "    @ Main ~/Documentos/Maestria-UNAL/CellAggregate.jl/src/run_event.jl:68",
      " [12] one_aggregate(PATH::String, STORE::Bool, n_text::Int64, t_f::Int64, r_max::Float64, fp::Float64, K::Float64, R_agg::Int64)",
      "    @ Main ~/Documentos/Maestria-UNAL/CellAggregate.jl/src/run_event.jl:101",
      " [13] top-level scope",
      "    @ ./In[287]:35",
      " [14] eval",
      "    @ ./boot.jl:360 [inlined]",
      " [15] include_string(mapexpr::typeof(REPL.softscope), mod::Module, code::String, filename::String)",
      "    @ Base ./loading.jl:1116"
     ]
    }
   ],
   "source": [
    "# Testing all the conditions of the fusion\n",
    "for t_f in T_f\n",
    "    for r_max in R_Max\n",
    "        for fp in Fp\n",
    "            for K in K_array\n",
    "                # Initial Data\n",
    "                X = Float32.(readdlm(\"../../data/init/Sphere/$R_agg.xyz\")[3:end,2:end]) |> cu\n",
    "\n",
    "                # Generating the Path\n",
    "                if num_agg == 1\n",
    "                    Path = \"../../results/OneAgg/R_Agg($(R_agg))/T_$(t_f)/fp_($(fp))/K_($(K))\"\n",
    "                else\n",
    "                    Path = \"../../results/TwoAgg/R_Agg($(R_agg))/T_$(t_f)/fp_($(fp))/K_($(K))\"\n",
    "                end\n",
    "                File = \"tf_($(t_f))|s=($(s))|fp_($(fp))|K_($(K))|rmax_$(r_max)|_GPU.xyz\"\n",
    "\n",
    "                for p in 4:8 # p is the position every folder on the path\n",
    "                    if !isdir(join(split(Path, \"/\")[1:p],\"/\")) \n",
    "                        mkdir(join(split(Path, \"/\")[1:p],\"/\")) \n",
    "                    end\n",
    "                end\n",
    "\n",
    "                # # Calculating all above\n",
    "                println(\"---------------------------------------------------------------\")\n",
    "                if num_agg == 1\n",
    "                    println(\"Calculating T_Final=$(t_f) | R_Max = $(r_max) | fp = $(fp) | k = $(K) \\n for $(num_agg) Aggregate\")\n",
    "                else\n",
    "                    println(\"Calculating T_Final=$(t_f) | R_Max = $(r_max) | fp = $(fp) | k = $(K) \\n for $(num_agg) Aggregates\")\n",
    "                end\n",
    "                if File in readdir(Path)\n",
    "                    if countlines(Path*\"/\"*File) < (2*size(X,1)+2)*(n_text+1)\n",
    "                        println(\"Calculated with less data. Recalculating\")\n",
    "                        rm(Path*\"/\"*File)\n",
    "                        if num_agg == 1\n",
    "                            one_aggregate(Path*\"/\"*File,true,n_text,t_f, r_max, fp, K, R_agg)\n",
    "                        else\n",
    "                            fusion(Path*\"/\"*File,n_text,true,t_f, r_max, fp, K, R_agg)\n",
    "                        end\n",
    "                    else\n",
    "                        println(\"This is already calculated\")           \n",
    "                    end\n",
    "                else\n",
    "                    if num_agg == 1\n",
    "                        one_aggregate(Path*\"/\"*File,true,n_text,t_f, r_max, fp, K, R_agg)\n",
    "                    else\n",
    "                        fusion(Path*\"/\"*File,true,n_text,t_f, r_max, fp, K, R_agg)\n",
    "                    end\n",
    "                end\n",
    "            end\n",
    "        end\n",
    "    end\n",
    "end"
   ]
  },
  {
   "cell_type": "code",
   "execution_count": null,
   "metadata": {},
   "outputs": [
    {
     "data": {
      "text/plain": [
       "4-element Vector{Float64}:\n",
       " 0.0\n",
       " 0.03\n",
       " 0.06\n",
       " 0.09"
      ]
     },
     "execution_count": 213,
     "metadata": {},
     "output_type": "execute_result"
    }
   ],
   "source": [
    "f = collect(0.0:0.03:0.1)\n",
    "ka = collect(0.005:0.006:0.032)\n",
    "collect(2.6:0.2:3.0)\n",
    "# rmex = "
   ]
  }
 ],
 "metadata": {
  "kernelspec": {
   "display_name": "Julia 1.6.7",
   "language": "julia",
   "name": "julia-1.6"
  },
  "language_info": {
   "file_extension": ".jl",
   "mimetype": "application/julia",
   "name": "julia",
   "version": "1.6.7"
  },
  "orig_nbformat": 4,
  "vscode": {
   "interpreter": {
    "hash": "916dbcbb3f70747c44a77c7bcd40155683ae19c65e1c03b4aa3499c5328201f1"
   }
  }
 },
 "nbformat": 4,
 "nbformat_minor": 2
}
