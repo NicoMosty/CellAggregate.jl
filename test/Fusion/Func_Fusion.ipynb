{
 "cells": [
  {
   "cell_type": "markdown",
   "metadata": {},
   "source": [
    "# Adding Dependeces"
   ]
  },
  {
   "cell_type": "code",
   "execution_count": 28,
   "metadata": {},
   "outputs": [
    {
     "data": {
      "text/plain": [
       "knn_cu (generic function with 1 method)"
      ]
     },
     "execution_count": 28,
     "metadata": {},
     "output_type": "execute_result"
    }
   ],
   "source": [
    "using DelimitedFiles\n",
    "using CUDA\n",
    "using ProgressMeter\n",
    "include(\"../../src/forces.jl\")\n",
    "include(\"../../src/Neighbor.jl\")"
   ]
  },
  {
   "cell_type": "markdown",
   "metadata": {},
   "source": [
    "# Initial Conditions"
   ]
  },
  {
   "cell_type": "code",
   "execution_count": 29,
   "metadata": {},
   "outputs": [
    {
     "data": {
      "text/plain": [
       "50"
      ]
     },
     "execution_count": 29,
     "metadata": {},
     "output_type": "execute_result"
    }
   ],
   "source": [
    "# Running fusion of the two aggregates\n",
    "# Physical Conditions\n",
    "R_agg = 10\n",
    "\n",
    "# Time model Conditions\n",
    "T_f = 100000\n",
    "dt = 0.1\n",
    "\n",
    "# Neighbor Conditions\n",
    "n_knn = 50\n",
    "nn = 16\n",
    "\n",
    "# Forces Conditions\n",
    "R_Max = 4.0\n",
    "S = 2.0\n",
    "K_array = [0.0022 0.0024 0.0026]\n",
    "\n",
    "# Coding C0nditions\n",
    "n_text = 50"
   ]
  },
  {
   "cell_type": "markdown",
   "metadata": {},
   "source": [
    "# Running Fusion"
   ]
  },
  {
   "cell_type": "code",
   "execution_count": 30,
   "metadata": {},
   "outputs": [
    {
     "name": "stdout",
     "output_type": "stream",
     "text": [
      "----------------------------------------------------------------------\n",
      "Calculating T_Final=100000 | R_Max = 4.0 | s = 2.0 | k = 0.0022\n",
      "This is already calculated\n",
      "----------------------------------------------------------------------\n",
      "Calculating T_Final=100000 | R_Max = 4.0 | s = 2.0 | k = 0.0024\n",
      "Calculated with less data. Recalculating\n",
      "Finding Equilibrium in one Aggregate\n"
     ]
    },
    {
     "ename": "LoadError",
     "evalue": "InterruptException:",
     "output_type": "error",
     "traceback": [
      "InterruptException:",
      "",
      "Stacktrace:",
      "  [1] emit_llvm(job::GPUCompiler.CompilerJob, method_instance::Any; libraries::Bool, deferred_codegen::Bool, optimize::Bool, cleanup::Bool, only_entry::Bool, ctx::LLVM.Context)",
      "    @ GPUCompiler ~/.julia/packages/GPUCompiler/07qaN/src/utils.jl:73",
      "  [2] cufunction_compile(job::GPUCompiler.CompilerJob, ctx::LLVM.Context)",
      "    @ CUDA ~/.julia/packages/CUDA/DfvRa/src/compiler/execution.jl:353",
      "  [3] #222",
      "    @ ~/.julia/packages/CUDA/DfvRa/src/compiler/execution.jl:347 [inlined]",
      "  [4] JuliaContext(f::CUDA.var\"#222#223\"{GPUCompiler.CompilerJob{GPUCompiler.PTXCompilerTarget, CUDA.CUDACompilerParams, GPUCompiler.FunctionSpec{GPUArrays.var\"#broadcast_kernel#17\", Tuple{CUDA.CuKernelContext, CuDeviceArray{Float64, 3, 1}, Base.Broadcast.Broadcasted{CUDA.CuArrayStyle{3}, Tuple{Base.OneTo{Int64}, Base.OneTo{Int64}, Base.OneTo{Int64}}, typeof(-), Tuple{Base.Broadcast.Extruded{CuDeviceArray{Float64, 3, 1}, Tuple{Bool, Bool, Bool}, Tuple{Int64, Int64, Int64}}, Base.Broadcast.Extruded{CuDeviceArray{Float64, 3, 1}, Tuple{Bool, Bool, Bool}, Tuple{Int64, Int64, Int64}}}}, Int64}}}})",
      "    @ GPUCompiler ~/.julia/packages/GPUCompiler/07qaN/src/driver.jl:76",
      "  [5] cufunction_compile(job::GPUCompiler.CompilerJob)",
      "    @ CUDA ~/.julia/packages/CUDA/DfvRa/src/compiler/execution.jl:346",
      "  [6] cached_compilation(cache::Dict{UInt64, Any}, job::GPUCompiler.CompilerJob, compiler::typeof(CUDA.cufunction_compile), linker::typeof(CUDA.cufunction_link))",
      "    @ GPUCompiler ~/.julia/packages/GPUCompiler/07qaN/src/cache.jl:90",
      "  [7] cufunction(f::GPUArrays.var\"#broadcast_kernel#17\", tt::Type{Tuple{CUDA.CuKernelContext, CuDeviceArray{Float64, 3, 1}, Base.Broadcast.Broadcasted{CUDA.CuArrayStyle{3}, Tuple{Base.OneTo{Int64}, Base.OneTo{Int64}, Base.OneTo{Int64}}, typeof(-), Tuple{Base.Broadcast.Extruded{CuDeviceArray{Float64, 3, 1}, Tuple{Bool, Bool, Bool}, Tuple{Int64, Int64, Int64}}, Base.Broadcast.Extruded{CuDeviceArray{Float64, 3, 1}, Tuple{Bool, Bool, Bool}, Tuple{Int64, Int64, Int64}}}}, Int64}}; name::Nothing, kwargs::Base.Iterators.Pairs{Union{}, Union{}, Tuple{}, NamedTuple{(), Tuple{}}})",
      "    @ CUDA ~/.julia/packages/CUDA/DfvRa/src/compiler/execution.jl:299",
      "  [8] cufunction",
      "    @ ~/.julia/packages/CUDA/DfvRa/src/compiler/execution.jl:293 [inlined]",
      "  [9] macro expansion",
      "    @ ~/.julia/packages/CUDA/DfvRa/src/compiler/execution.jl:102 [inlined]",
      " [10] #launch_heuristic#246",
      "    @ ~/.julia/packages/CUDA/DfvRa/src/gpuarrays.jl:17 [inlined]",
      " [11] _copyto!",
      "    @ ~/.julia/packages/GPUArrays/fqD8z/src/host/broadcast.jl:63 [inlined]",
      " [12] copyto!",
      "    @ ~/.julia/packages/GPUArrays/fqD8z/src/host/broadcast.jl:46 [inlined]",
      " [13] copy",
      "    @ ~/.julia/packages/GPUArrays/fqD8z/src/host/broadcast.jl:37 [inlined]",
      " [14] materialize",
      "    @ ./broadcast.jl:883 [inlined]",
      " [15] broadcast_preserving_zero_d",
      "    @ ./broadcast.jl:872 [inlined]",
      " [16] -(A::CuArray{Float64, 3, CUDA.Mem.DeviceBuffer}, B::CuArray{Float64, 3, CUDA.Mem.DeviceBuffer})",
      "    @ Base ./arraymath.jl:39",
      " [17] forces_cu(r_max::Float64, s::Float64, K::Float64)",
      "    @ Main ~/Documentos/Maestria-UNAL/CellAggregate.jl/src/forces.jl:32",
      " [18] diff_forces(PATH::String, SAVING::Bool, n_text::Int64, n_knn::Int64, t_f::Int64, r_max::Float64, s::Float64, K::Float64)",
      "    @ Main ~/Documentos/Maestria-UNAL/CellAggregate.jl/src/forces.jl:91",
      " [19] fusion(PATH::String, n_text::Int64, t_f::Int64, r_max::Float64, s::Float64, K::Float64)",
      "    @ Main ~/Documentos/Maestria-UNAL/CellAggregate.jl/src/forces.jl:119",
      " [20] top-level scope",
      "    @ ./In[30]:26",
      " [21] eval",
      "    @ ./boot.jl:360 [inlined]",
      " [22] include_string(mapexpr::typeof(REPL.softscope), mod::Module, code::String, filename::String)",
      "    @ Base ./loading.jl:1116"
     ]
    }
   ],
   "source": [
    "# Testing all the conditions of the fusion\n",
    "for t_f in T_f\n",
    "    for r_max in R_Max\n",
    "        for s in S\n",
    "            for K in K_array\n",
    "                # Initial Data\n",
    "                X = Float32.(readdlm(\"../../data/init/Sphere/$R_agg.xyz\")[3:end,2:end]) |> cu\n",
    "\n",
    "                # Generating the Path\n",
    "                Path = \"../../results/Fusion/T_$(t_f)/rmax_$(r_max)_s_$(s)\"\n",
    "                File = \"tf_($(t_f))|dt_($(dt))|rm_($(r_max))|s=($(s))|K_($(K))_GPU.xyz\"\n",
    "\n",
    "                for p in 5:6 # p is the position every folder on the path\n",
    "                    if !isdir(join(split(Path, \"/\")[1:5],\"/\")) \n",
    "                        mkdir(join(split(Path, \"/\")[1:4],\"/\")) \n",
    "                    end\n",
    "                end\n",
    "                \n",
    "                # # Calculating all above\n",
    "                println(\"----------------------------------------------------------------------\")\n",
    "                println(\"Calculating T_Final=$(t_f) | R_Max = $(r_max) | s = $(s) | k = $(K)\")\n",
    "                if File in readdir(Path)\n",
    "                    if countlines(Path*\"/\"*File) < (2*size(X,1)+2)*(n_text+1)\n",
    "                        println(\"Calculated with less data. Recalculating\")\n",
    "                        fusion(Path*\"/\",n_text,t_f, r_max, s, K)\n",
    "                    else\n",
    "                        println(\"This is already calculated\")           \n",
    "                    end\n",
    "                else\n",
    "                    fusion(Path*\"/\",n_text,t_f, r_max, s, K)\n",
    "                end\n",
    "            end\n",
    "        end\n",
    "    end\n",
    "end"
   ]
  }
 ],
 "metadata": {
  "kernelspec": {
   "display_name": "Julia 1.6.7",
   "language": "julia",
   "name": "julia-1.6"
  },
  "language_info": {
   "file_extension": ".jl",
   "mimetype": "application/julia",
   "name": "julia",
   "version": "1.6.7"
  },
  "orig_nbformat": 4,
  "vscode": {
   "interpreter": {
    "hash": "916dbcbb3f70747c44a77c7bcd40155683ae19c65e1c03b4aa3499c5328201f1"
   }
  }
 },
 "nbformat": 4,
 "nbformat_minor": 2
}
