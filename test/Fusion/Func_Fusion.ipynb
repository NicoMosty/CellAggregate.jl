{
 "cells": [
  {
   "cell_type": "markdown",
   "metadata": {},
   "source": [
    "# Adding Dependeces"
   ]
  },
  {
   "cell_type": "code",
   "execution_count": 18,
   "metadata": {},
   "outputs": [
    {
     "data": {
      "text/plain": [
       "knn_cu (generic function with 1 method)"
      ]
     },
     "execution_count": 18,
     "metadata": {},
     "output_type": "execute_result"
    }
   ],
   "source": [
    "using DelimitedFiles\n",
    "using CUDA\n",
    "using ProgressMeter\n",
    "include(\"../../src/forces.jl\")\n",
    "include(\"../../src/Neighbor.jl\")"
   ]
  },
  {
   "cell_type": "markdown",
   "metadata": {},
   "source": [
    "# Initial Conditions"
   ]
  },
  {
   "cell_type": "code",
   "execution_count": 19,
   "metadata": {},
   "outputs": [
    {
     "data": {
      "text/plain": [
       "4"
      ]
     },
     "execution_count": 19,
     "metadata": {},
     "output_type": "execute_result"
    }
   ],
   "source": [
    "# Running fusion of the two aggregates\n",
    "# Physical Conditions\n",
    "R_agg = 10\n",
    "\n",
    "# Time model Conditions\n",
    "T_f = 150000\n",
    "dt = 0.1\n",
    "\n",
    "# Neighbor Conditions\n",
    "n_knn = 50\n",
    "nn = 16\n",
    "\n",
    "# Forces Conditions\n",
    "R_Max = 3.4\n",
    "S = 1.9\n",
    "K_array = 0.05\n",
    "\n",
    "# Coding C0nditions\n",
    "n_text = 50"
   ]
  },
  {
   "cell_type": "markdown",
   "metadata": {},
   "source": [
    "# Running Fusion"
   ]
  },
  {
   "cell_type": "code",
   "execution_count": 20,
   "metadata": {},
   "outputs": [],
   "source": [
    "# # Testing all the conditions of the fusion\n",
    "# for t_f in T_f\n",
    "#     for r_max in R_Max\n",
    "#         for s in S\n",
    "#             for K in K_array\n",
    "#                 # Initial Data\n",
    "#                 X = Float32.(readdlm(\"../../data/init/Sphere/$R_agg.xyz\")[3:end,2:end]) |> cu\n",
    "                \n",
    "#                 #Generating the path\n",
    "#                 if !isdir(\"../../results/fusion/T_$(t_f)\") mkdir(\"../../results/fusion/T_$(t_f)\") end\n",
    "#                 if !isdir(\"../../results/fusion/T_$(t_f)/rmax_$(r_max)_s_$(s)\") mkdir(\"../../results/fusion/T_$(t_f)/rmax_$(r_max)_s_$(s)\") end\n",
    "#                 if !isdir(\"../../results/fusion/T_$(t_f)/rmax_$(r_max)_s_$(s)/k_$(K)\") mkdir(\"../../results/fusion/T_$(t_f)/rmax_$(r_max)_s_$(s)/k_$(K)\")  end\n",
    "                \n",
    "#                 # Calculating all above\n",
    "#                 if size(readdir(\"../../results/fusion/T_$(T_f)/rmax_$(r_max)_s_$(s)/k_$(K)\"))[1] < 2\n",
    "#                     println(\"Calculating T_Final=$(t_f) | R_Max = $(r_max) | s = $(s) | k = $(K)\")\n",
    "#                     fusion(\"../../results/fusion/T_$(T_f)/rmax_$(r_max)_s_$(s)/k_$(K)\",n_text,t_f, r_max, s, K)\n",
    "#                 else\n",
    "#                     println(\"This is already calculated\")\n",
    "#                 end\n",
    "#             end\n",
    "#         end\n",
    "#     end\n",
    "# end"
   ]
  },
  {
   "cell_type": "code",
   "execution_count": 21,
   "metadata": {},
   "outputs": [
    {
     "name": "stdout",
     "output_type": "stream",
     "text": [
      "Calculating T_Final=150000 | R_Max = 3.4 | s = 1.9 | k = 0.5\n"
     ]
    },
    {
     "name": "stderr",
     "output_type": "stream",
     "text": [
      "\u001b[32mProgress:  38%|█████████▌               |  ETA: 0:09:37\u001b[39mm41\u001b[39mm"
     ]
    },
    {
     "ename": "LoadError",
     "evalue": "InterruptException:",
     "output_type": "error",
     "traceback": [
      "InterruptException:",
      "",
      "Stacktrace:",
      " [1] _getindex(::CuArray{Float64, 3, CUDA.Mem.DeviceBuffer}, ::Base.Slice{Base.OneTo{Int64}}, ::Vararg{Any, N} where N)",
      "   @ GPUArrays ~/.julia/packages/GPUArrays/fqD8z/src/host/indexing.jl:48",
      " [2] getindex(::CuArray{Float64, 3, CUDA.Mem.DeviceBuffer}, ::Function, ::Function, ::Int64)",
      "   @ GPUArrays ~/.julia/packages/GPUArrays/fqD8z/src/host/indexing.jl:38",
      " [3] forces_cu(r_max::Float64, s::Float64, K::Float64)",
      "   @ Main ~/Documentos/Maestria-UNAL/CellAggregate.jl/src/forces.jl:35",
      " [4] diff_forces(PATH::String, n_text::Int64, n_knn::Int64, t_f::Int64, r_max::Float64, s::Float64, K::Float64)",
      "   @ Main ~/Documentos/Maestria-UNAL/CellAggregate.jl/src/forces.jl:90",
      " [5] fusion(PATH::String, n_text::Int64, t_f::Int64, r_max::Float64, s::Float64, K::Float64)",
      "   @ Main ~/Documentos/Maestria-UNAL/CellAggregate.jl/src/forces.jl:125",
      " [6] top-level scope",
      "   @ In[21]:3",
      " [7] eval",
      "   @ ./boot.jl:360 [inlined]",
      " [8] include_string(mapexpr::typeof(REPL.softscope), mod::Module, code::String, filename::String)",
      "   @ Base ./loading.jl:1116"
     ]
    }
   ],
   "source": [
    "X = Float32.(readdlm(\"../../data/init/Sphere/$R_agg.xyz\")[3:end,2:end]) |> cu\n",
    "println(\"Calculating T_Final=$(T_f) | R_Max = $(R_Max) | s = $(S) | k = $(K_array)\")\n",
    "fusion(\"\",n_text,T_f, R_Max, S, K_array)"
   ]
  }
 ],
 "metadata": {
  "kernelspec": {
   "display_name": "Julia 1.6.7",
   "language": "julia",
   "name": "julia-1.6"
  },
  "language_info": {
   "file_extension": ".jl",
   "mimetype": "application/julia",
   "name": "julia",
   "version": "1.6.7"
  },
  "orig_nbformat": 4,
  "vscode": {
   "interpreter": {
    "hash": "916dbcbb3f70747c44a77c7bcd40155683ae19c65e1c03b4aa3499c5328201f1"
   }
  }
 },
 "nbformat": 4,
 "nbformat_minor": 2
}
