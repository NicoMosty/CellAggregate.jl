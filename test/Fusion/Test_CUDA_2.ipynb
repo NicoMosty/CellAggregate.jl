{
 "cells": [
  {
   "cell_type": "markdown",
   "metadata": {},
   "source": [
    "# Installing Dependencies"
   ]
  },
  {
   "cell_type": "code",
   "execution_count": 1,
   "metadata": {},
   "outputs": [],
   "source": [
    "using DelimitedFiles\n",
    "using CUDA\n",
    "using ProgressMeter"
   ]
  },
  {
   "cell_type": "markdown",
   "metadata": {},
   "source": [
    "# Initial Conditions"
   ]
  },
  {
   "cell_type": "markdown",
   "metadata": {},
   "source": [
    "## Initial Variables"
   ]
  },
  {
   "cell_type": "code",
   "execution_count": 2,
   "metadata": {},
   "outputs": [
    {
     "data": {
      "text/plain": [
       "init (generic function with 1 method)"
      ]
     },
     "metadata": {},
     "output_type": "display_data"
    }
   ],
   "source": [
    "# Physical Conditions\n",
    "const R_Agg = 13\n",
    "const t_f = 100000\n",
    "\n",
    "# Time model Conditions\n",
    "dt = 0.5\n",
    "n_knn = 1\n",
    "\n",
    "# Constants for Force Model\n",
    "r_max, s = 2.8, 1.99\n",
    "K = 0.001\n",
    "nn = 16\n",
    "\n",
    "function init()\n",
    "    # Initial Coordinates of Aggregates\n",
    "    global X = readdlm(\"../data/CSV/Init/Two_Sphere/$R_Agg.csv\", ',', Float32, header=true)[1][:, 1:3] |> cu\n",
    "\n",
    "\n",
    "    # Inizializate Variables for kNN\n",
    "    global i_Cell = CuArray{Float32}(undef, (size(X, 1), size(X, 1), 3))\n",
    "    global Dist = CuArray{Float32}(undef, (size(X, 1), size(X, 1)))\n",
    "    global idx = hcat([[CartesianIndex(i,1) for i=1:nn] for j=1:size(X,1)]...) |> cu\n",
    "\n",
    "    # Inizializate Variables for Forces\n",
    "    global r = zeros(nn,size(X)[1],3) |> cu\n",
    "    global dist = zeros(nn, size(X)[1]) |> cu\n",
    "    global F = zeros(nn, size(X)[1],3) |> cu\n",
    "    global dX = zeros(size(X)[1],3) |> cu;\n",
    "end"
   ]
  },
  {
   "cell_type": "markdown",
   "metadata": {},
   "source": [
    "## Function for knn in CUDA"
   ]
  },
  {
   "cell_type": "code",
   "execution_count": 3,
   "metadata": {},
   "outputs": [
    {
     "data": {
      "text/plain": [
       "knn_cu (generic function with 1 method)"
      ]
     },
     "metadata": {},
     "output_type": "display_data"
    }
   ],
   "source": [
    "function knn_cu()\n",
    "    # Definig Variables for calculing knn\n",
    "    global i_Cell; global Dist; global idx\n",
    "    \n",
    "    # Defining Coordinates of each cell on the aggregates\n",
    "    i_Cell = reshape(repeat(X, size(X ,1)), size(X ,1), size(X ,1), 3) - reshape(repeat(X, inner=(size(X ,1),1)), size(X ,1), size(X ,1), 3)\n",
    "\n",
    "    # Calculating Norm on every cell on the aggregate\n",
    "    Dist = sqrt.(i_Cell[:,:,1] .^ 2 + i_Cell[:,:,2] .^ 2 + i_Cell[:,:,3] .^ 2)\n",
    "    # i_Cell = nothing; GC.gc(true)\n",
    "\n",
    "    # Calculating index of knof each cell in the aggregate\n",
    "    for i = 1:nn\n",
    "        idx[i,:] = findmin(Dist; dims=1)[2]\n",
    "        Dist[idx[i,:]] .= Inf\n",
    "    end\n",
    "    # Dist = nothing; GC.gc(true)\n",
    "\n",
    "    synchronize()\n",
    "end"
   ]
  },
  {
   "cell_type": "markdown",
   "metadata": {},
   "source": [
    "## Function for forces in CUDA"
   ]
  },
  {
   "cell_type": "code",
   "execution_count": 4,
   "metadata": {},
   "outputs": [
    {
     "data": {
      "text/plain": [
       "forces (generic function with 1 method)"
      ]
     },
     "metadata": {},
     "output_type": "display_data"
    }
   ],
   "source": [
    "function forces()\n",
    "\n",
    "    # Definig Variables for calculing dX\n",
    "    global X; global dX; global idx\n",
    "\n",
    "    # Finding Distances\n",
    "    r = reshape(repeat(X, inner=(nn,1)), nn, size(X)[1], 3) - X[getindex.(idx,1),:]\n",
    "\n",
    "    # Finding Distances/Norm\n",
    "    dist = (r[:,:,1] .^ 2 + r[:,:,2] .^ 2 + r[:,:,3] .^ 2) .^ (0.5)\n",
    "    dist = reshape(repeat((dist), outer=(1,3)) ,nn ,size(X)[1], 3)\n",
    "    \n",
    "    # Normalizationg Distances\n",
    "    r = r ./ dist\n",
    "\n",
    "    # dX[i,:] +=  r/dist * F\n",
    "    F = -K.*((dist .- r_max).^2) .* (dist .- s) .* r\n",
    "\n",
    "    # Deleting Forces greater than R_Max\n",
    "    F[dist .>  r_max] .= 0\n",
    "\n",
    "    # Calculating de dX\n",
    "    dX[:,1] = sum(F[:,:,1][2:end,:]; dims=1)\n",
    "    dX[:,2] = sum(F[:,:,2][2:end,:]; dims=1)\n",
    "    dX[:,3] = sum(F[:,:,3][2:end,:]; dims=1)\n",
    "\n",
    "    synchronize()\n",
    "end"
   ]
  },
  {
   "cell_type": "markdown",
   "metadata": {},
   "source": [
    "# Starting Functions"
   ]
  },
  {
   "cell_type": "code",
   "execution_count": 8,
   "metadata": {},
   "outputs": [
    {
     "data": {
      "text/plain": [
       "200000"
      ]
     },
     "metadata": {},
     "output_type": "display_data"
    }
   ],
   "source": [
    "Int(t_f/dt)"
   ]
  },
  {
   "cell_type": "code",
   "execution_count": 5,
   "metadata": {},
   "outputs": [
    {
     "data": {
      "text/plain": [
       "main (generic function with 1 method)"
      ]
     },
     "metadata": {},
     "output_type": "display_data"
    }
   ],
   "source": [
    "function main(n_knn)\n",
    "    println(\"------------Init()-----------\")\n",
    "    CUDA.@time init()\n",
    "\n",
    "    p = Progress(Int(t_f/dt),barlen=25)\n",
    "    for i in 0:Int(t_f/dt)\n",
    "        # println(\"------------t= $(i*dt) -----------\")\n",
    "        if mod(i, n_knn) == 0\n",
    "            # println(\"----------Calculating kNN---------\")\n",
    "            knn_cu()\n",
    "        end\n",
    "        # println(\"--------Calculating Forces--------\")\n",
    "        forces()\n",
    "        global X = X + dX*dt\n",
    "        next!(p)\n",
    "    end\n",
    "end"
   ]
  },
  {
   "cell_type": "code",
   "execution_count": 6,
   "metadata": {},
   "outputs": [
    {
     "name": "stdout",
     "output_type": "stream",
     "text": [
      "Calculating 20 \n",
      "\n"
     ]
    },
    {
     "name": "stdout",
     "output_type": "stream",
     "text": [
      "------------Init()-----------\n"
     ]
    },
    {
     "name": "stdout",
     "output_type": "stream",
     "text": [
      "  5.425430 seconds (1.52 M CPU allocations: "
     ]
    },
    {
     "name": "stdout",
     "output_type": "stream",
     "text": [
      "79.456 MiB, 0.20% gc time) (8 GPU allocations: 162.430 MiB, 0.96% memmgmt time)\n"
     ]
    },
    {
     "ename": "CompositeException",
     "evalue": "TaskFailedException\n\n    nested task error: InterruptException:\n    Stacktrace:\n     [1] wait\n       @ ./asyncevent.jl:147 [inlined]\n     [2] macro expansion\n       @ ~/.julia/packages/CUDA/DfvRa/lib/cudadrv/stream.jl:169 [inlined]\n     [3] (::CUDA.var\"#14#17\"{CuStream, Timer, CuDevice, Base.Event})()\n       @ CUDA ./threadingconstructs.jl:178",
     "output_type": "error",
     "traceback": [
      "TaskFailedException\n",
      "\n",
      "    nested task error: InterruptException:\n",
      "    Stacktrace:\n",
      "     [1] wait\n",
      "       @ ./asyncevent.jl:147 [inlined]\n",
      "     [2] macro expansion\n",
      "       @ ~/.julia/packages/CUDA/DfvRa/lib/cudadrv/stream.jl:169 [inlined]\n",
      "     [3] (::CUDA.var\"#14#17\"{CuStream, Timer, CuDevice, Base.Event})()\n",
      "       @ CUDA ./threadingconstructs.jl:178\n",
      "\n",
      "Stacktrace:\n",
      "  [1] sync_end(c::Channel{Any})\n",
      "    @ Base ./task.jl:381\n",
      "  [2] macro expansion\n",
      "    @ ./task.jl:400 [inlined]\n",
      "  [3] nonblocking_synchronize\n",
      "    @ ~/.julia/packages/CUDA/DfvRa/lib/cudadrv/stream.jl:164 [inlined]\n",
      "  [4] (::CUDA.var\"#185#186\"{CartesianIndex{2}, Vector{CartesianIndex{2}}, Int64, CuArray{CartesianIndex{2}, 1, CUDA.Mem.DeviceBuffer}, Int64, Int64})()\n",
      "    @ CUDA ~/.julia/packages/CUDA/DfvRa/src/array.jl:410\n",
      "  [5] #context!#63\n",
      "    @ ~/.julia/packages/CUDA/DfvRa/lib/cudadrv/state.jl:164 [inlined]\n",
      "  [6] context!\n",
      "    @ ~/.julia/packages/CUDA/DfvRa/lib/cudadrv/state.jl:161 [inlined]\n",
      "  [7] unsafe_copyto!(dest::Vector{CartesianIndex{2}}, doffs::Int64, src::CuArray{CartesianIndex{2}, 1, CUDA.Mem.DeviceBuffer}, soffs::Int64, n::Int64)\n",
      "    @ CUDA ~/.julia/packages/CUDA/DfvRa/src/array.jl:406\n",
      "  [8] copyto!\n",
      "    @ ~/.julia/packages/CUDA/DfvRa/src/array.jl:360 [inlined]\n",
      "  [9] copyto!\n",
      "    @ ~/.julia/packages/CUDA/DfvRa/src/array.jl:364 [inlined]\n",
      " [10] copyto_axcheck!\n",
      "    @ ./abstractarray.jl:1104 [inlined]\n",
      " [11] Vector{CartesianIndex{2}}(x::CuArray{CartesianIndex{2}, 1, CUDA.Mem.DeviceBuffer})\n",
      "    @ Base ./array.jl:563\n",
      " [12] Array\n",
      "    @ ./boot.jl:481 [inlined]\n",
      " [13] convert\n",
      "    @ ./array.jl:554 [inlined]\n",
      " [14] adapt_storage\n",
      "    @ ~/.julia/packages/CUDA/DfvRa/src/array.jl:652 [inlined]\n",
      " [15] adapt_structure\n",
      "    @ ~/.julia/packages/Adapt/LAQOx/src/Adapt.jl:57 [inlined]\n",
      " [16] adapt\n",
      "    @ ~/.julia/packages/Adapt/LAQOx/src/Adapt.jl:40 [inlined]\n",
      " [17] #196\n",
      "    @ ~/.julia/packages/CUDA/DfvRa/src/array.jl:659 [inlined]\n",
      " [18] map\n",
      "    @ ./tuple.jl:221 [inlined]\n",
      " [19] view\n",
      "    @ ~/.julia/packages/CUDA/DfvRa/src/array.jl:659 [inlined]\n",
      " [20] maybeview\n",
      "    @ ./views.jl:146 [inlined]\n",
      " [21] dotview(::CuArray{Float64, 2, CUDA.Mem.DeviceBuffer}, ::CuArray{CartesianIndex{2}, 1, CUDA.Mem.DeviceBuffer})\n",
      "    @ Base.Broadcast ./broadcast.jl:1200\n",
      " [22] knn_cu()\n",
      "    @ Main ~/Documentos/Maestria-GitHub/Centre-Julia/test/Test_CUDA_2.ipynb:15\n",
      " [23] main(n_knn::Int64)\n",
      "    @ Main ~/Documentos/Maestria-GitHub/Centre-Julia/test/Test_CUDA_2.ipynb:9\n",
      " [24] top-level scope\n",
      "    @ ~/Documentos/Maestria-GitHub/Centre-Julia/test/Test_CUDA_2.ipynb:5"
     ]
    }
   ],
   "source": [
    "Num_knn = [20]\n",
    "\n",
    "for n_knn in Num_knn\n",
    "    println(\"Calculating $(n_knn) \\n\")\n",
    "    main(n_knn)\n",
    "    X_save = round.(Array(X), digits=2)\n",
    "\n",
    "    open(\"kNN_Test/$(n_knn).vtk\"; write=true) do f\n",
    "        write(f, \"# vtk DataFile Version 3.0\\n\")\n",
    "        write(f, \"vtk output\\n\")\n",
    "        write(f, \"ASCII\\n\")\n",
    "        write(f, \"DATASET POLYDATA\\n\")\n",
    "        write(f, \"POINTS $(size(X)[1]) float\\n\\n\")\n",
    "        writedlm(f, X_save)\n",
    "    end\n",
    "end"
   ]
  }
 ],
 "metadata": {
  "kernelspec": {
   "display_name": "Julia 1.7.3",
   "language": "julia",
   "name": "julia-1.7"
  },
  "language_info": {
   "file_extension": ".jl",
   "mimetype": "application/julia",
   "name": "julia",
   "version": "1.7.3"
  },
  "orig_nbformat": 4
 },
 "nbformat": 4,
 "nbformat_minor": 2
}
