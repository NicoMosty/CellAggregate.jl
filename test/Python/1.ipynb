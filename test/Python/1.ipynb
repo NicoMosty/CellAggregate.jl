{
 "cells": [
  {
   "attachments": {},
   "cell_type": "markdown",
   "metadata": {},
   "source": [
    "# Dependences"
   ]
  },
  {
   "cell_type": "code",
   "execution_count": 14,
   "metadata": {},
   "outputs": [],
   "source": [
    "from numba import cuda\n",
    "import numpy as np\n",
    "import math\n",
    "import time"
   ]
  },
  {
   "attachments": {},
   "cell_type": "markdown",
   "metadata": {},
   "source": [
    "# Functions"
   ]
  },
  {
   "cell_type": "code",
   "execution_count": 15,
   "metadata": {},
   "outputs": [],
   "source": [
    "def euclidean(p1,p2): \n",
    "    return (p1[0]-p2[0])**2 + (p1[1]-p2[1])**2 + (p1[2]-p2[2])**2 "
   ]
  },
  {
   "attachments": {},
   "cell_type": "markdown",
   "metadata": {},
   "source": [
    "# First Data"
   ]
  },
  {
   "cell_type": "code",
   "execution_count": 16,
   "metadata": {},
   "outputs": [
    {
     "data": {
      "text/plain": [
       "0.14320987654320988"
      ]
     },
     "execution_count": 16,
     "metadata": {},
     "output_type": "execute_result"
    }
   ],
   "source": [
    "position = np.genfromtxt(\"init.xyz\",skip_header=2,usecols = range(1,4))\n",
    "radius = max([np.sqrt(sum(position[i]**2)) for i in range(0,position.shape[0])])\n",
    "\n",
    "outline = np.array(\n",
    "    [1 if euclidean(position[i],[0,0,0]) > (0.95*radius)**2 else 0\n",
    "        for i in range(0,position.shape[0])\n",
    "    ]\n",
    ")\n",
    "sum(outline)/outline.shape[0]"
   ]
  },
  {
   "cell_type": "code",
   "execution_count": 17,
   "metadata": {},
   "outputs": [
    {
     "data": {
      "text/plain": [
       "(3240, 3)"
      ]
     },
     "execution_count": 17,
     "metadata": {},
     "output_type": "execute_result"
    }
   ],
   "source": [
    "position=np.concatenate((position+radius, position-radius), axis=0)\n",
    "position_cu = cuda.to_device(position)\n",
    "position_cu.shape"
   ]
  },
  {
   "attachments": {},
   "cell_type": "markdown",
   "metadata": {},
   "source": [
    "# last"
   ]
  },
  {
   "cell_type": "code",
   "execution_count": 18,
   "metadata": {},
   "outputs": [],
   "source": [
    "@cuda.jit\n",
    "def euclidean(p1,p2): \n",
    "    return (p1[0]-p2[0])**2 + (p1[1]-p2[1])**2 + (p1[2]-p2[2])**2 \n",
    "@cuda.jit\n",
    "def dist_kernel(position,idx,r_max):\n",
    "    x,y = cuda.grid(2)   \n",
    "\n",
    "    d = euclidean(position[y],position[x])\n",
    "    if d < r_max**2:\n",
    "        idx[y,x] = y\n",
    "    else:\n",
    "        idx[y,x] = 0"
   ]
  },
  {
   "cell_type": "code",
   "execution_count": 19,
   "metadata": {},
   "outputs": [
    {
     "data": {
      "text/plain": [
       "(3240, 3240)"
      ]
     },
     "execution_count": 19,
     "metadata": {},
     "output_type": "execute_result"
    }
   ],
   "source": [
    "idx = cuda.to_device(np.empty(shape=(position_cu.shape[0],position_cu.shape[0]), dtype=np.int32))\n",
    "idx.shape"
   ]
  },
  {
   "cell_type": "code",
   "execution_count": 20,
   "metadata": {},
   "outputs": [
    {
     "data": {
      "text/plain": [
       "(1, 3240)"
      ]
     },
     "execution_count": 20,
     "metadata": {},
     "output_type": "execute_result"
    }
   ],
   "source": [
    "idx_sum = cuda.to_device(np.zeros((1,position_cu.shape[0]),dtype=np.int32))\n",
    "idx_sum.shape"
   ]
  },
  {
   "cell_type": "code",
   "execution_count": 21,
   "metadata": {},
   "outputs": [],
   "source": [
    "threads = (8,8)\n",
    "blocks = (math.ceil(position.shape[0]/threads[0]),math.ceil(position.shape[0]/threads[1]))\n",
    "# dist_kernel[threads,blocks](position_cu,idx,3.0)"
   ]
  },
  {
   "cell_type": "code",
   "execution_count": 22,
   "metadata": {},
   "outputs": [
    {
     "data": {
      "text/plain": [
       "CUDADispatcher(<function dist_kernel at 0x7f31298c4940>)"
      ]
     },
     "execution_count": 22,
     "metadata": {},
     "output_type": "execute_result"
    }
   ],
   "source": [
    "dist_kernel"
   ]
  },
  {
   "cell_type": "code",
   "execution_count": 26,
   "metadata": {},
   "outputs": [
    {
     "name": "stderr",
     "output_type": "stream",
     "text": [
      "/home/nicomosty/.local/lib/python3.10/site-packages/numba/cuda/compiler.py:279: NumbaInvalidConfigWarning: \u001b[1mdebug=True with opt=True (the default) is not supported by CUDA. This may result in a crash - set debug=False or opt=False.\u001b[0m\n",
      "  warn(NumbaInvalidConfigWarning(msg))\n"
     ]
    },
    {
     "ename": "TypeError",
     "evalue": "invalid signature: array([[ 12.4859193,   8.9459193,   0.7359193],\n       [ 14.4859193,   8.9459193,   0.7359193],\n       [  9.4859193,  10.6759193,   0.7359193],\n       ...,\n       [-10.4859193, -10.6759193,  -0.7359193],\n       [-13.4859193,  -8.9459193,  -0.7359193],\n       [-11.4859193,  -8.9459193,  -0.7359193]]) (type: 'ndarray') evaluates to 'ndarray' instead of tuple or Signature",
     "output_type": "error",
     "traceback": [
      "\u001b[0;31m---------------------------------------------------------------------------\u001b[0m",
      "\u001b[0;31mTypeError\u001b[0m                                 Traceback (most recent call last)",
      "\u001b[1;32m/home/nicomosty/Documentos/Maestria-UNAL/CellAggregate.jl/test/Python/1.ipynb Cell 14\u001b[0m in \u001b[0;36m1\n\u001b[0;32m----> <a href='vscode-notebook-cell://ssh-remote%2B10.147.17.210/home/nicomosty/Documentos/Maestria-UNAL/CellAggregate.jl/test/Python/1.ipynb#Y130sdnNjb2RlLXJlbW90ZQ%3D%3D?line=0'>1</a>\u001b[0m cuda\u001b[39m.\u001b[39mcompile_ptx(dist_kernel,position,idx,\u001b[39m3.0\u001b[39m)\n",
      "File \u001b[0;32m~/.local/lib/python3.10/site-packages/numba/core/compiler_lock.py:35\u001b[0m, in \u001b[0;36m_CompilerLock.__call__.<locals>._acquire_compile_lock\u001b[0;34m(*args, **kwargs)\u001b[0m\n\u001b[1;32m     32\u001b[0m \u001b[39m@functools\u001b[39m\u001b[39m.\u001b[39mwraps(func)\n\u001b[1;32m     33\u001b[0m \u001b[39mdef\u001b[39;00m \u001b[39m_acquire_compile_lock\u001b[39m(\u001b[39m*\u001b[39margs, \u001b[39m*\u001b[39m\u001b[39m*\u001b[39mkwargs):\n\u001b[1;32m     34\u001b[0m     \u001b[39mwith\u001b[39;00m \u001b[39mself\u001b[39m:\n\u001b[0;32m---> 35\u001b[0m         \u001b[39mreturn\u001b[39;00m func(\u001b[39m*\u001b[39;49margs, \u001b[39m*\u001b[39;49m\u001b[39m*\u001b[39;49mkwargs)\n",
      "File \u001b[0;32m~/.local/lib/python3.10/site-packages/numba/cuda/compiler.py:286\u001b[0m, in \u001b[0;36mcompile_ptx\u001b[0;34m(pyfunc, sig, debug, lineinfo, device, fastmath, cc, opt)\u001b[0m\n\u001b[1;32m    279\u001b[0m     warn(NumbaInvalidConfigWarning(msg))\n\u001b[1;32m    281\u001b[0m nvvm_options \u001b[39m=\u001b[39m {\n\u001b[1;32m    282\u001b[0m     \u001b[39m'\u001b[39m\u001b[39mfastmath\u001b[39m\u001b[39m'\u001b[39m: fastmath,\n\u001b[1;32m    283\u001b[0m     \u001b[39m'\u001b[39m\u001b[39mopt\u001b[39m\u001b[39m'\u001b[39m: \u001b[39m3\u001b[39m \u001b[39mif\u001b[39;00m opt \u001b[39melse\u001b[39;00m \u001b[39m0\u001b[39m\n\u001b[1;32m    284\u001b[0m }\n\u001b[0;32m--> 286\u001b[0m args, return_type \u001b[39m=\u001b[39m sigutils\u001b[39m.\u001b[39;49mnormalize_signature(sig)\n\u001b[1;32m    288\u001b[0m cc \u001b[39m=\u001b[39m cc \u001b[39mor\u001b[39;00m config\u001b[39m.\u001b[39mCUDA_DEFAULT_PTX_CC\n\u001b[1;32m    289\u001b[0m cres \u001b[39m=\u001b[39m compile_cuda(pyfunc, return_type, args, debug\u001b[39m=\u001b[39mdebug,\n\u001b[1;32m    290\u001b[0m                     lineinfo\u001b[39m=\u001b[39mlineinfo, fastmath\u001b[39m=\u001b[39mfastmath,\n\u001b[1;32m    291\u001b[0m                     nvvm_options\u001b[39m=\u001b[39mnvvm_options, cc\u001b[39m=\u001b[39mcc)\n",
      "File \u001b[0;32m~/.local/lib/python3.10/site-packages/numba/core/sigutils.py:37\u001b[0m, in \u001b[0;36mnormalize_signature\u001b[0;34m(sig)\u001b[0m\n\u001b[1;32m     35\u001b[0m     args, return_type \u001b[39m=\u001b[39m parsed\u001b[39m.\u001b[39margs, parsed\u001b[39m.\u001b[39mreturn_type\n\u001b[1;32m     36\u001b[0m \u001b[39melse\u001b[39;00m:\n\u001b[0;32m---> 37\u001b[0m     \u001b[39mraise\u001b[39;00m \u001b[39mTypeError\u001b[39;00m(\u001b[39m\"\u001b[39m\u001b[39minvalid signature: \u001b[39m\u001b[39m%r\u001b[39;00m\u001b[39m (type: \u001b[39m\u001b[39m%r\u001b[39;00m\u001b[39m) evaluates to \u001b[39m\u001b[39m%r\u001b[39;00m\u001b[39m \u001b[39m\u001b[39m\"\u001b[39m\n\u001b[1;32m     38\u001b[0m                     \u001b[39m\"\u001b[39m\u001b[39minstead of tuple or Signature\u001b[39m\u001b[39m\"\u001b[39m \u001b[39m%\u001b[39m (\n\u001b[1;32m     39\u001b[0m                         sig, sig\u001b[39m.\u001b[39m\u001b[39m__class__\u001b[39m\u001b[39m.\u001b[39m\u001b[39m__name__\u001b[39m,\n\u001b[1;32m     40\u001b[0m                         parsed\u001b[39m.\u001b[39m\u001b[39m__class__\u001b[39m\u001b[39m.\u001b[39m\u001b[39m__name__\u001b[39m\n\u001b[1;32m     41\u001b[0m                     ))\n\u001b[1;32m     43\u001b[0m \u001b[39mdef\u001b[39;00m \u001b[39mcheck_type\u001b[39m(ty):\n\u001b[1;32m     44\u001b[0m     \u001b[39mif\u001b[39;00m \u001b[39mnot\u001b[39;00m \u001b[39misinstance\u001b[39m(ty, types\u001b[39m.\u001b[39mType):\n",
      "\u001b[0;31mTypeError\u001b[0m: invalid signature: array([[ 12.4859193,   8.9459193,   0.7359193],\n       [ 14.4859193,   8.9459193,   0.7359193],\n       [  9.4859193,  10.6759193,   0.7359193],\n       ...,\n       [-10.4859193, -10.6759193,  -0.7359193],\n       [-13.4859193,  -8.9459193,  -0.7359193],\n       [-11.4859193,  -8.9459193,  -0.7359193]]) (type: 'ndarray') evaluates to 'ndarray' instead of tuple or Signature"
     ]
    }
   ],
   "source": [
    "cuda.compile_ptx(dist_kernel,position,idx,3.0)"
   ]
  }
 ],
 "metadata": {
  "kernelspec": {
   "display_name": "Python 3",
   "language": "python",
   "name": "python3"
  },
  "language_info": {
   "codemirror_mode": {
    "name": "ipython",
    "version": 3
   },
   "file_extension": ".py",
   "mimetype": "text/x-python",
   "name": "python",
   "nbconvert_exporter": "python",
   "pygments_lexer": "ipython3",
   "version": "3.10.6"
  },
  "orig_nbformat": 4
 },
 "nbformat": 4,
 "nbformat_minor": 2
}
