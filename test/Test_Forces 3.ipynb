{
 "cells": [
  {
   "cell_type": "markdown",
   "metadata": {},
   "source": [
    "# Installing Dependencies"
   ]
  },
  {
   "cell_type": "code",
   "execution_count": 4,
   "metadata": {},
   "outputs": [],
   "source": [
    "using DelimitedFiles\n",
    "using NearestNeighbors: KDTree, knn\n",
    "using LinearAlgebra: norm"
   ]
  },
  {
   "cell_type": "markdown",
   "metadata": {},
   "source": [
    "## Using General Arrays"
   ]
  },
  {
   "cell_type": "markdown",
   "metadata": {},
   "source": [
    "## Using kNN"
   ]
  },
  {
   "cell_type": "code",
   "execution_count": 5,
   "metadata": {},
   "outputs": [
    {
     "data": {
      "text/plain": [
       "force (generic function with 1 method)"
      ]
     },
     "metadata": {},
     "output_type": "display_data"
    }
   ],
   "source": [
    "function NearNeighbor(X, t, t_knn)\n",
    "    # Using kNN for Nearest Neighbors\n",
    "    if t%t_knn | t == 0\n",
    "        global kdtree = KDTree(X')\n",
    "    end \n",
    "\n",
    "    # Loop over all cells to compute displacements\n",
    "    index, _ = knn(kdtree, X[1,:], 14, true)\n",
    "    for i in 2:size(X)[1]\n",
    "        # Scan neighbours\n",
    "        global idxs, _ = knn(kdtree, X[i,:], 14, true)\n",
    "        index = hcat(index, idxs)\n",
    "    end\n",
    "    return index\n",
    "end\n",
    "\n",
    "function force(X, r_max, s, K, NN)\n",
    "    # Initialise displacement array\n",
    "    global dX = zeros(Float64, size(X)[1], 3)\n",
    "\n",
    "    # Loop over all cells to compute displacements\n",
    "    for i in 1:size(X)[1]\n",
    "        # Scan neighbours\n",
    "        global idxs = NN[:,i]\n",
    "        # Initialise variables\n",
    "        global Xi = X[i,1:3]\n",
    "        for j in idxs\n",
    "            if i != j\n",
    "                global r = Xi - X[j,1:3]\n",
    "                global dist = norm(r)\n",
    "                # Calculate attraction/repulsion force differential here\n",
    "                if dist < r_max\n",
    "                    global F = - K*(dist-r_max)*(dist-r_max)*(dist - s)\n",
    "                    dX[i,:] +=  r/dist * F\n",
    "                end\n",
    "            end\n",
    "        end\n",
    "    end\n",
    "    return dX\n",
    "end"
   ]
  },
  {
   "cell_type": "code",
   "execution_count": 8,
   "metadata": {},
   "outputs": [
    {
     "name": "stdout",
     "output_type": "stream",
     "text": [
      "  0.045041 seconds (565.10 k allocations: 15.185 MiB)\n"
     ]
    },
    {
     "data": {
      "text/plain": [
       "0.5"
      ]
     },
     "metadata": {},
     "output_type": "display_data"
    }
   ],
   "source": [
    "R_Agg = 16\n",
    "\n",
    "@time X = readdlm(\"../data/Init/Two_Sphere/$R_Agg.csv\", ',', Float64, header=true)[1][:, 1:3]\n",
    "r_max, s = 2, 1\n",
    "K = 10\n",
    "t, t_knn = 0, 10\n",
    "dt = 0.5"
   ]
  },
  {
   "cell_type": "code",
   "execution_count": 15,
   "metadata": {},
   "outputs": [
    {
     "name": "stdout",
     "output_type": "stream",
     "text": [
      "  0.321361 seconds (36.27 k allocations: 1.922 GiB, 10.57% gc time)\n"
     ]
    },
    {
     "data": {
      "text/plain": [
       "14×6064 Matrix{Int64}:\n",
       "   1    2    3    4    5    6    7  …  6059  6060  6061  6062  6063  6064\n",
       "  25   26   27   40   42   43   44     6024  6025  6026  6038  6039  6040\n",
       "  33   33   35   41   41   42   43     6023  6024  6025  6030  6031  6033\n",
       "  32   34   34    9    9   10   11     6055  6057  6057  6031  6032  6032\n",
       "   2    3    2    8   10   11    6     6056  6056  6060  6063  6064  6063\n",
       "   4    1    6    5    4    5   35  …  6058  6061  6033  6059  6062  6061\n",
       "   5    6    7   32    6    7    3     6060  6059  6064  6058  6060  6060\n",
       "  24    5   26    1   33   34   51     6031  6032  6017  6037  6059  6039\n",
       "  26   25   28   48    2    3   34     6062  6063  6034  6039  6038  6041\n",
       "  41   27   43   33    1    2   36     6063  6064  6032  6023  6040  6025\n",
       " 102   42  104   31   49   50  114  …  6015  6016  5954  5962  6024  5964\n",
       "  20  103   22  111   34   35   52     6030  6033  6018  6045  5963  6047\n",
       "  19   20   21   47   32   33   50     6032  6031  6016  6044  6045  6046\n",
       "  42   21   44   49  112  113   42     5952  5953  6027  6024  6046  6026"
      ]
     },
     "metadata": {},
     "output_type": "display_data"
    }
   ],
   "source": [
    "@time NN = NearNeighbor(X, t, t_knn)"
   ]
  },
  {
   "cell_type": "code",
   "execution_count": 30,
   "metadata": {},
   "outputs": [
    {
     "name": "stdout",
     "output_type": "stream",
     "text": [
      "  0.071805 seconds (79.70 k allocations: 6.375 MiB, 92.69% compilation time)\n"
     ]
    },
    {
     "data": {
      "text/plain": [
       "6064-element Vector{Matrix{Float64}}:\n",
       " [-17.98 -2.89 -15.51; -17.98 -4.04 -13.88; … ; -18.98 -5.77 -13.88; -15.98 -0.58 -13.88]\n",
       " [-15.98 -2.89 -15.51; -15.98 -4.04 -13.88; … ; -16.98 -5.77 -13.88; -14.98 -5.77 -13.88]\n",
       " [-13.98 -2.89 -15.51; -13.98 -4.04 -13.88; … ; -14.98 -5.77 -13.88; -11.98 -0.58 -13.88]\n",
       " [-18.98 -1.15 -15.51; -19.98 -0.58 -13.88; … ; -20.98 1.15 -13.88; -16.98 1.15 -13.88]\n",
       " [-16.98 -1.15 -15.51; -15.98 -0.58 -13.88; … ; -18.98 -2.31 -13.88; -16.98 -1.15 -12.25]\n",
       " [-14.98 -1.15 -15.51; -13.98 -0.58 -13.88; … ; -16.98 -2.31 -13.88; -14.98 -1.15 -12.25]\n",
       " [-12.98 -1.15 -15.51; -11.98 -0.58 -13.88; … ; -14.98 1.15 -13.88; -15.98 -0.58 -13.88]\n",
       " [-19.98 0.58 -15.51; -18.98 1.15 -13.88; … ; -16.98 1.15 -13.88; -16.98 -1.15 -15.51]\n",
       " [-17.98 0.58 -15.51; -18.98 1.15 -13.88; … ; -15.98 -0.58 -13.88; -17.98 0.58 -12.25]\n",
       " [-15.98 0.58 -15.51; -14.98 1.15 -13.88; … ; -13.98 -0.58 -13.88; -15.98 0.58 -12.25]\n",
       " ⋮\n",
       " [16.98 -0.58 15.51; 15.98 -1.15 13.88; … ; 18.98 0.58 13.88; 16.98 -0.58 12.25]\n",
       " [18.98 -0.58 15.51; 19.98 -1.15 13.88; … ; 15.98 -1.15 13.88; 21.98 -1.15 13.88]\n",
       " [13.98 1.15 15.51; 14.98 0.58 13.88; … ; 11.98 -1.15 13.88; 15.98 -1.15 13.88]\n",
       " [15.98 1.15 15.51; 16.98 0.58 13.88; … ; 17.98 2.31 13.88; 15.98 1.15 12.25]\n",
       " [17.98 1.15 15.51; 18.98 0.58 13.88; … ; 15.98 2.31 13.88; 17.98 1.15 12.25]\n",
       " [19.98 1.15 15.51; 20.98 0.58 13.88; … ; 17.98 -1.15 13.88; 22.98 0.58 13.88]\n",
       " [14.98 2.89 15.51; 14.98 4.04 13.88; … ; 13.98 5.77 13.88; 16.98 0.58 13.88]\n",
       " [16.98 2.89 15.51; 16.98 4.04 13.88; … ; 15.98 5.77 13.88; 17.98 5.77 13.88]\n",
       " [18.98 2.89 15.51; 18.98 4.04 13.88; … ; 17.98 5.77 13.88; 20.98 0.58 13.88]"
      ]
     },
     "metadata": {},
     "output_type": "display_data"
    }
   ],
   "source": [
    "@time X_NN = [X[NN[:,i],:] for i in 1:1:size(X)[1]]"
   ]
  },
  {
   "cell_type": "code",
   "execution_count": null,
   "metadata": {},
   "outputs": [],
   "source": [
    "function force_2(X, r_max, s, K, NN)\n",
    "    # Initialise displacement array\n",
    "    global dX = zeros(Float64, size(X)[1], 3)\n",
    "\n",
    "    # Loop over all cells to compute displacements\n",
    "    X_NN = [[X[NN[:,i],:]] for i in 1:1:size(X)[1]][m,:]\n",
    "    # Scan neighbours\n",
    "    # Initialise variables\n",
    "    global Xi = X[i,:]\n",
    "    for j in idxs\n",
    "        global r = Xi - X[j,1:3]\n",
    "        global dist = norm(r)\n",
    "        # Calculate attraction/repulsion force differential here\n",
    "        if dist < r_max\n",
    "            global F = - K*(dist-r_max)*(dist-r_max)*(dist - s)\n",
    "            dX[i,:] +=  r/dist * F\n",
    "        end\n",
    "    end\n",
    "end"
   ]
  }
 ],
 "metadata": {
  "kernelspec": {
   "display_name": "Julia 1.7.3",
   "language": "julia",
   "name": "julia-1.7"
  },
  "language_info": {
   "file_extension": ".jl",
   "mimetype": "application/julia",
   "name": "julia",
   "version": "1.7.3"
  },
  "orig_nbformat": 4,
  "vscode": {
   "interpreter": {
    "hash": "916dbcbb3f70747c44a77c7bcd40155683ae19c65e1c03b4aa3499c5328201f1"
   }
  }
 },
 "nbformat": 4,
 "nbformat_minor": 2
}
