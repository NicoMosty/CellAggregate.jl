{
 "cells": [
  {
   "cell_type": "markdown",
   "metadata": {},
   "source": [
    "# Adding All"
   ]
  },
  {
   "cell_type": "code",
   "execution_count": 213,
   "metadata": {},
   "outputs": [
    {
     "data": {
      "text/plain": [
       "@select_force (macro with 1 method)"
      ]
     },
     "execution_count": 213,
     "metadata": {},
     "output_type": "execute_result"
    }
   ],
   "source": [
    "macro select_force(type)\n",
    "    # Parameters\n",
    "    μ = (:μ)\n",
    "    r_max = (:r_max)\n",
    "    r_min = (:r_min)\n",
    "    α = (:α)\n",
    "\n",
    "    # List of forces functions\n",
    "    if type == (:cubic)\n",
    "        struct_select = quote\n",
    "            Base.@kwdef struct $type\n",
    "                μ::Float64\n",
    "                r_max::Float64\n",
    "                r_min::Float64\n",
    "                f::Function = r -> ifelse.(\n",
    "                    r.<=$r_max, \n",
    "                    $μ .* (r .- r_max).^2 .* (r .- r_min), \n",
    "                    0.0\n",
    "                )\n",
    "            end\n",
    "        end\n",
    "    elseif type == (:GLS)\n",
    "        struct_select = quote\n",
    "            Base.@kwdef struct $type\n",
    "                μ::Float64\n",
    "                r_max::Float64\n",
    "                r_min::Float64\n",
    "                α :: Float64\n",
    "                f::Function = r -> ifelse.(\n",
    "                    r.<=$r_min,  \n",
    "                    $μ .* log(1 .+ r .- $r_min),\n",
    "                    ifelse.(\n",
    "                        r.<=$r_max,\n",
    "                        $μ .* (r .- $r_min) .* exp.(-α .* (r .- r_min)),\n",
    "                        0 \n",
    "                    )\n",
    "                )\n",
    "            end\n",
    "        end\n",
    "    else\n",
    "        struct_select = quote\n",
    "            println(\"FORCE FUNCTION NOT FOUNDED\")\n",
    "        end\n",
    "    end\n",
    "    return esc(:($struct_select))\n",
    "end"
   ]
  },
  {
   "cell_type": "markdown",
   "metadata": {},
   "source": [
    "## ERROR"
   ]
  },
  {
   "cell_type": "code",
   "execution_count": 214,
   "metadata": {},
   "outputs": [
    {
     "name": "stdout",
     "output_type": "stream",
     "text": [
      "FORCE FUNCTION NOT FOUNDED\n"
     ]
    }
   ],
   "source": [
    "@select_force ESTE_NO"
   ]
  },
  {
   "cell_type": "markdown",
   "metadata": {},
   "source": [
    "## Cubic"
   ]
  },
  {
   "cell_type": "code",
   "execution_count": 215,
   "metadata": {},
   "outputs": [
    {
     "name": "stdout",
     "output_type": "stream",
     "text": [
      "cubic\n",
      "  μ: Float64 1.0\n",
      "  r_max: Float64 2.0\n",
      "  r_min: Float64 1.0\n",
      "  f: #186 (function of type var\"#186#188\"{Int64, Int64, Int64})\n",
      "    μ: Int64 1\n",
      "    r_max: Int64 2\n",
      "    r_min: Int64 1\n"
     ]
    }
   ],
   "source": [
    "@select_force cubic\n",
    "force = cubic(μ = 1, r_max = 2, r_min = 1)\n",
    "dump(force)"
   ]
  },
  {
   "cell_type": "code",
   "execution_count": 216,
   "metadata": {},
   "outputs": [
    {
     "data": {
      "text/plain": [
       "0.128"
      ]
     },
     "execution_count": 216,
     "metadata": {},
     "output_type": "execute_result"
    }
   ],
   "source": [
    "force.f(1.2)"
   ]
  },
  {
   "cell_type": "code",
   "execution_count": 217,
   "metadata": {},
   "outputs": [
    {
     "data": {
      "text/plain": [
       "3×3 Matrix{Float64}:\n",
       " 0.0747417  0.0209309  0.111782\n",
       " 0.0        0.0        0.00420164\n",
       " 0.0        0.0        0.0324015"
      ]
     },
     "execution_count": 217,
     "metadata": {},
     "output_type": "execute_result"
    }
   ],
   "source": [
    "force.f(2 .* rand(3,3) .+ 1)"
   ]
  },
  {
   "cell_type": "markdown",
   "metadata": {},
   "source": [
    "## GLS"
   ]
  },
  {
   "cell_type": "code",
   "execution_count": 218,
   "metadata": {},
   "outputs": [
    {
     "name": "stdout",
     "output_type": "stream",
     "text": [
      "GLS\n",
      "  μ: Float64 1.0\n",
      "  r_max: Float64 2.0\n",
      "  r_min: Float64 1.0\n",
      "  α: Float64 2.0\n",
      "  f: #191 (function of type var\"#191#193\"{Int64, Int64, Int64, Int64})\n",
      "    μ: Int64 1\n",
      "    r_max: Int64 2\n",
      "    r_min: Int64 1\n",
      "    α: Int64 2\n"
     ]
    }
   ],
   "source": [
    "@select_force GLS\n",
    "force = GLS(μ = 1, r_max = 2, r_min = 1, α = 2)\n",
    "dump(force)"
   ]
  },
  {
   "cell_type": "code",
   "execution_count": 219,
   "metadata": {},
   "outputs": [
    {
     "data": {
      "text/plain": [
       "0.13406400920712783"
      ]
     },
     "execution_count": 219,
     "metadata": {},
     "output_type": "execute_result"
    }
   ],
   "source": [
    "force.f(1.2)"
   ]
  },
  {
   "cell_type": "code",
   "execution_count": 220,
   "metadata": {},
   "outputs": [
    {
     "data": {
      "text/plain": [
       "3×3 Matrix{Real}:\n",
       " 0  0.183515  0\n",
       " 0  0         0.173453\n",
       " 0  0.119121  0.145331"
      ]
     },
     "execution_count": 220,
     "metadata": {},
     "output_type": "execute_result"
    }
   ],
   "source": [
    "force.f(2 .* rand(3,3) .+ 1)"
   ]
  }
 ],
 "metadata": {
  "kernelspec": {
   "display_name": "Julia 1.6.7",
   "language": "julia",
   "name": "julia-1.6"
  },
  "language_info": {
   "file_extension": ".jl",
   "mimetype": "application/julia",
   "name": "julia",
   "version": "1.6.7"
  },
  "orig_nbformat": 4
 },
 "nbformat": 4,
 "nbformat_minor": 2
}
