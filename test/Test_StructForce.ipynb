{
 "cells": [
  {
   "cell_type": "markdown",
   "metadata": {},
   "source": [
    "# Adding All"
   ]
  },
  {
   "cell_type": "code",
   "execution_count": 1,
   "metadata": {},
   "outputs": [
    {
     "data": {
      "text/plain": [
       "@select_force (macro with 1 method)"
      ]
     },
     "execution_count": 1,
     "metadata": {},
     "output_type": "execute_result"
    }
   ],
   "source": [
    "macro select_force(type)\n",
    "    # Parameters\n",
    "    μ = (:μ)\n",
    "    r_max = (:r_max)\n",
    "    r_min = (:r_min)\n",
    "    α = (:α)\n",
    "\n",
    "    # List of forces functions\n",
    "    if type == (:cubic)\n",
    "        struct_select = quote\n",
    "            Base.@kwdef struct $type\n",
    "                μ::Float64\n",
    "                r_max::Float64\n",
    "                r_min::Float64\n",
    "                f::Function = r -> ifelse.(\n",
    "                    r.<=$r_max, \n",
    "                    -$μ .* (r .- r_max).^2 .* (r .- r_min), \n",
    "                    0.0\n",
    "                )\n",
    "            end\n",
    "        end\n",
    "    elseif type == (:GLS)\n",
    "        struct_select = quote\n",
    "            Base.@kwdef struct $type\n",
    "                μ::Float64\n",
    "                r_max::Float64\n",
    "                r_min::Float64\n",
    "                α :: Float64\n",
    "                f::Function = r -> ifelse.(\n",
    "                    r.<=$r_min,  \n",
    "                    -$μ .* log(1 .+ r .- $r_min),\n",
    "                    ifelse.(\n",
    "                        r.<=$r_max,\n",
    "                        -$μ .* (r .- $r_min) .* exp.(-α .* (r .- r_min)),\n",
    "                        0 \n",
    "                    )\n",
    "                )\n",
    "            end\n",
    "        end\n",
    "    else\n",
    "        struct_select = quote\n",
    "            println(\"FORCE FUNCTION NOT FOUNDED\")\n",
    "        end\n",
    "    end\n",
    "    return esc(:($struct_select))\n",
    "end"
   ]
  },
  {
   "cell_type": "markdown",
   "metadata": {},
   "source": [
    "## ERROR"
   ]
  },
  {
   "cell_type": "code",
   "execution_count": 2,
   "metadata": {},
   "outputs": [
    {
     "name": "stdout",
     "output_type": "stream",
     "text": [
      "FORCE FUNCTION NOT FOUNDED\n"
     ]
    }
   ],
   "source": [
    "@select_force ESTE_NO"
   ]
  },
  {
   "cell_type": "markdown",
   "metadata": {},
   "source": [
    "## Cubic"
   ]
  },
  {
   "cell_type": "code",
   "execution_count": 3,
   "metadata": {},
   "outputs": [
    {
     "name": "stdout",
     "output_type": "stream",
     "text": [
      "cubic\n",
      "  μ: Float64 1.0\n",
      "  r_max: Float64 2.0\n",
      "  r_min: Float64 2.0\n",
      "  f: #3 (function of type var\"#3#5\"{Int64, Int64, Int64})\n",
      "    μ: Int64 1\n",
      "    r_max: Int64 2\n",
      "    r_min: Int64 2\n"
     ]
    }
   ],
   "source": [
    "@select_force cubic\n",
    "force = cubic(μ = 1, r_max = 2, r_min = 1)\n",
    "force = cubic(μ = 1, r_max = 2, r_min = 2)\n",
    "dump(force)"
   ]
  },
  {
   "cell_type": "code",
   "execution_count": 4,
   "metadata": {},
   "outputs": [
    {
     "data": {
      "text/plain": [
       "0.5120000000000001"
      ]
     },
     "execution_count": 4,
     "metadata": {},
     "output_type": "execute_result"
    }
   ],
   "source": [
    "force.f(1.2)"
   ]
  },
  {
   "cell_type": "code",
   "execution_count": 5,
   "metadata": {},
   "outputs": [
    {
     "data": {
      "text/plain": [
       "3×3 Matrix{Float64}:\n",
       " 0.258034   0.00955375  0.0\n",
       " 0.0        0.566878    0.0\n",
       " 0.0744524  0.0         0.0"
      ]
     },
     "execution_count": 5,
     "metadata": {},
     "output_type": "execute_result"
    }
   ],
   "source": [
    "force.f(2 .* rand(3,3) .+ 1)"
   ]
  },
  {
   "cell_type": "markdown",
   "metadata": {},
   "source": [
    "## GLS"
   ]
  },
  {
   "cell_type": "code",
   "execution_count": 6,
   "metadata": {},
   "outputs": [
    {
     "name": "stdout",
     "output_type": "stream",
     "text": [
      "GLS\n",
      "  μ: Float64 1.0\n",
      "  r_max: Float64 2.0\n",
      "  r_min: Float64 1.0\n",
      "  α: Float64 2.0\n",
      "  f: #8 (function of type var\"#8#10\"{Int64, Int64, Int64, Int64})\n",
      "    μ: Int64 1\n",
      "    r_max: Int64 2\n",
      "    r_min: Int64 1\n",
      "    α: Int64 2\n"
     ]
    }
   ],
   "source": [
    "@select_force GLS\n",
    "force = GLS(μ = 1, r_max = 2, r_min = 1, α = 2)\n",
    "dump(force)"
   ]
  },
  {
   "cell_type": "code",
   "execution_count": 7,
   "metadata": {},
   "outputs": [
    {
     "data": {
      "text/plain": [
       "-0.13406400920712783"
      ]
     },
     "execution_count": 7,
     "metadata": {},
     "output_type": "execute_result"
    }
   ],
   "source": [
    "force.f(1.2)"
   ]
  },
  {
   "cell_type": "code",
   "execution_count": 8,
   "metadata": {},
   "outputs": [
    {
     "data": {
      "text/plain": [
       "3×3 Matrix{Real}:\n",
       " -0.158939  -0.176221  -0.107928\n",
       " -0.15565    0          0\n",
       "  0          0          0"
      ]
     },
     "execution_count": 8,
     "metadata": {},
     "output_type": "execute_result"
    }
   ],
   "source": [
    "force.f(2 .* rand(3,3) .+ 1)"
   ]
  },
  {
   "cell_type": "markdown",
   "metadata": {},
   "source": [
    "## Iterator"
   ]
  },
  {
   "cell_type": "code",
   "execution_count": 9,
   "metadata": {},
   "outputs": [
    {
     "data": {
      "text/plain": [
       "ModelParameters"
      ]
     },
     "execution_count": 9,
     "metadata": {},
     "output_type": "execute_result"
    }
   ],
   "source": [
    "Base.@kwdef struct ModelParameters\n",
    "    Force::Dict\n",
    "    Time::Dict\n",
    "    Neighbor::Dict\n",
    "    Geometry::Dict\n",
    "    Coding::Dict\n",
    "end"
   ]
  },
  {
   "cell_type": "code",
   "execution_count": 10,
   "metadata": {},
   "outputs": [],
   "source": [
    "Conditions = ModelParameters(\n",
    "    Force = Dict(\n",
    "        \"μ\"      => 1:2, \n",
    "        \"r_max\"  => 2:3,\n",
    "        \"r_min\"  => 3,\n",
    "        \"f_p\"    => 4:5\n",
    "    ),\n",
    "    Time = Dict(\n",
    "        \"T_f\" => 100000,\n",
    "        \"dt\"  => 0.1\n",
    "    ),\n",
    "    Neighbor = Dict(\n",
    "        \"n_knn\" => 50,\n",
    "        \"nn\"    => 12\n",
    "    ),\n",
    "    Geometry = Dict(\n",
    "        \"R_agg\"   => 10,\n",
    "        \"num_agg\" => 2\n",
    "    ),\n",
    "    Coding  = Dict(\n",
    "        \"n_text\" => 200\n",
    "    )\n",
    ");"
   ]
  },
  {
   "cell_type": "code",
   "execution_count": 11,
   "metadata": {},
   "outputs": [
    {
     "ename": "LoadError",
     "evalue": "UndefVarError: readdlm not defined",
     "output_type": "error",
     "traceback": [
      "UndefVarError: readdlm not defined",
      "",
      "Stacktrace:",
      " [1] top-level scope",
      "   @ ./In[11]:8",
      " [2] eval",
      "   @ ./boot.jl:360 [inlined]",
      " [3] include_string(mapexpr::typeof(REPL.softscope), mod::Module, code::String, filename::String)",
      "   @ Base ./loading.jl:1116"
     ]
    }
   ],
   "source": [
    "# Testing all the conditions of the fusion\n",
    "Iter_Time = Conditions.Time[\"T_f\"]\n",
    "Iter_Forc = [Conditions.Force[i] for i in [\"r_max\",\"f_p\",\"μ\"]]\n",
    "for k in Iterators.product(Iter_Time, Iter_Forc...)\n",
    "    # Initial Data\n",
    "    R_agg = Conditions.Geometry[\"R_agg\"]\n",
    "    r_min = Conditions.Force[\"r_min\"]\n",
    "    X = Float32.(readdlm(\"../../data/init/Sphere/$R_agg.xyz\")[3:end,2:end]) |> cu\n",
    "    \n",
    "    # Generating the Path\n",
    "    if num_agg == 1\n",
    "        Path = \"../../results/OneAgg/R_Agg($(R_agg))/T_$(k[1])/fp_($(k[3]))/K_($(k[4]))\"\n",
    "    else\n",
    "        Path = \"../../results/TwoAgg/R_Agg($(R_agg))/T_$(k[1])/fp_($(k[3]))/K_($(k[4]))\"\n",
    "    end\n",
    "    File = \"tf_($(k[1]))|s=($r_min)|fp_($(k[3]))|K_($(k[4]))|rmax_$(k[2])|_GPU.xyz\"\n",
    "\n",
    "    for p in 4:8 # p is the position every folder on the path\n",
    "        if !isdir(join(split(Path, \"/\")[1:p],\"/\")) \n",
    "            mkdir(join(split(Path, \"/\")[1:p],\"/\")) \n",
    "        end\n",
    "    end\n",
    "\n",
    "    # Calculating all above\n",
    "    println(\"---------------------------------------------------------------\")\n",
    "    if num_agg == 1\n",
    "        println(\"Calculating T_Final=$(k[1]) | R_Max = $(k[2])) | fp = $(k[3])) | k = $(k[4]) \\n for $(Conditions.Geometry[\"num_agg\"]) Aggregate\")\n",
    "    else\n",
    "        println(\"Calculating T_Final=$(k[1]) | R_Max = $(k[2])) | fp = $(k[3])) | k = $(k[4]) \\n for $(Conditions.Geometry[\"num_agg\"]) Aggregates\")\n",
    "    end\n",
    "\n",
    "    if File in readdir(Path)\n",
    "        if countlines(Path*\"/\"*File) < (2*size(X,1)+2)*(Conditions.Coding[\"n_text\"]+1)\n",
    "            println(\"Calculated with less data. Recalculating\")\n",
    "            rm(Path*\"/\"*File)\n",
    "            if num_agg == 1\n",
    "                one_aggregate(\n",
    "                    Path*\"/\"*File,\n",
    "                    true,\n",
    "                    Conditions.Coding[\"n_text\"],\n",
    "                    k[1], k[2], k[3], k[4], \n",
    "                    R_agg\n",
    "                )\n",
    "            else\n",
    "                fusion(\n",
    "                    Path*\"/\"*File,\n",
    "                    Conditions.Coding[\"n_text\"],\n",
    "                    true,\n",
    "                    k[1], k[2], k[3], k[4], \n",
    "                    R_agg\n",
    "                )\n",
    "            end\n",
    "        else\n",
    "            println(\"This is already calculated\")           \n",
    "        end\n",
    "    else\n",
    "        if num_agg == 1\n",
    "            one_aggregate(\n",
    "                Path*\"/\"*File,\n",
    "                true,\n",
    "                Conditions.Coding[\"n_text\"],\n",
    "                k[1], k[2], k[3], k[4], \n",
    "                R_agg\n",
    "            )\n",
    "        else\n",
    "            fusion(\n",
    "                Path*\"/\"*File,\n",
    "                true,\n",
    "                Conditions.Coding[\"n_text\"],\n",
    "                k[1], k[2], k[3], k[4], \n",
    "                R_agg\n",
    "            )\n",
    "        end\n",
    "    end\n",
    "end"
   ]
  }
 ],
 "metadata": {
  "kernelspec": {
   "display_name": "Julia 1.6.7",
   "language": "julia",
   "name": "julia-1.6"
  },
  "language_info": {
   "file_extension": ".jl",
   "mimetype": "application/julia",
   "name": "julia",
   "version": "1.6.7"
  },
  "orig_nbformat": 4
 },
 "nbformat": 4,
 "nbformat_minor": 2
}
