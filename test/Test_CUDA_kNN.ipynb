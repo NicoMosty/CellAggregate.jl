{
 "cells": [
  {
   "cell_type": "markdown",
   "metadata": {},
   "source": [
    "# Installing Dependencies"
   ]
  },
  {
   "cell_type": "code",
   "execution_count": 190,
   "metadata": {},
   "outputs": [],
   "source": [
    "using DelimitedFiles\n",
    "using CUDA"
   ]
  },
  {
   "cell_type": "markdown",
   "metadata": {},
   "source": [
    "# Initial Conditions"
   ]
  },
  {
   "cell_type": "code",
   "execution_count": 204,
   "metadata": {},
   "outputs": [
    {
     "name": "stdout",
     "output_type": "stream",
     "text": [
      "  0.007685 seconds (295.47 k CPU allocations: 7.882 MiB) (1 GPU allocation: 37.969 KiB, 0.13% memmgmt time)\n",
      "Inizializate Variables\n",
      "  0.000006 seconds (8 CPU allocations: 256 bytes) (1 GPU allocation: 120.135 MiB, 41.48% memmgmt time)\n",
      "  0.000003 seconds (8 CPU allocations: 240 bytes) (1 GPU allocation: 40.045 MiB, 64.58% memmgmt time)\n",
      "  0.030170 seconds (115.17 k CPU allocations: 7.980 MiB) (1 GPU allocation: 708.750 KiB, 0.05% memmgmt time)\n"
     ]
    },
    {
     "data": {
      "text/plain": [
       "14×3240 CuArray{CartesianIndex{2}, 2, CUDA.Mem.DeviceBuffer}:\n",
       " CartesianIndex(1, 1)   CartesianIndex(1, 1)   …  CartesianIndex(1, 1)\n",
       " CartesianIndex(2, 1)   CartesianIndex(2, 1)      CartesianIndex(2, 1)\n",
       " CartesianIndex(3, 1)   CartesianIndex(3, 1)      CartesianIndex(3, 1)\n",
       " CartesianIndex(4, 1)   CartesianIndex(4, 1)      CartesianIndex(4, 1)\n",
       " CartesianIndex(5, 1)   CartesianIndex(5, 1)      CartesianIndex(5, 1)\n",
       " CartesianIndex(6, 1)   CartesianIndex(6, 1)   …  CartesianIndex(6, 1)\n",
       " CartesianIndex(7, 1)   CartesianIndex(7, 1)      CartesianIndex(7, 1)\n",
       " CartesianIndex(8, 1)   CartesianIndex(8, 1)      CartesianIndex(8, 1)\n",
       " CartesianIndex(9, 1)   CartesianIndex(9, 1)      CartesianIndex(9, 1)\n",
       " CartesianIndex(10, 1)  CartesianIndex(10, 1)     CartesianIndex(10, 1)\n",
       " CartesianIndex(11, 1)  CartesianIndex(11, 1)  …  CartesianIndex(11, 1)\n",
       " CartesianIndex(12, 1)  CartesianIndex(12, 1)     CartesianIndex(12, 1)\n",
       " CartesianIndex(13, 1)  CartesianIndex(13, 1)     CartesianIndex(13, 1)\n",
       " CartesianIndex(14, 1)  CartesianIndex(14, 1)     CartesianIndex(14, 1)"
      ]
     },
     "metadata": {},
     "output_type": "display_data"
    }
   ],
   "source": [
    "function init()\n",
    "    R_Agg = 13\n",
    "    CUDA.@time global X = readdlm(\"../data/Init/Two_Sphere/$R_Agg.csv\", ',', Float32, header=true)[1][:, 1:3] |> cu\n",
    "\n",
    "    # Inizializate Variables\n",
    "    println(\"Inizializate Variables\")\n",
    "    CUDA.@time global i_Cell = CuArray{Float32}(undef, (size(X, 1), size(X, 1), 3))\n",
    "    CUDA.@time global Dist = CuArray{Float32}(undef, (size(X, 1), size(X, 1)))\n",
    "    CUDA.@time global idx = hcat([[CartesianIndex(i,1) for i=1:14] for j=1:size(X,1)]...) |> cu\n",
    "end\n",
    "init()"
   ]
  },
  {
   "cell_type": "markdown",
   "metadata": {},
   "source": [
    "# CUDA kNN"
   ]
  },
  {
   "cell_type": "code",
   "execution_count": 205,
   "metadata": {},
   "outputs": [
    {
     "data": {
      "text/plain": [
       "knn_cu (generic function with 1 method)"
      ]
     },
     "metadata": {},
     "output_type": "display_data"
    }
   ],
   "source": [
    "function knn_cu()\n",
    "\n",
    "    # Definig Variables for calculing knn\n",
    "    global i_Cell; global Dist; \n",
    "    global idx\n",
    "    \n",
    "    # Defining Coordinates of each cell on the aggregates\n",
    "    println(\"Defining Coordinates of each cell on the aggregates\")\n",
    "    CUDA.@time i_Cell = reshape(repeat(X, size(X ,1)), size(X ,1), size(X ,1), 3) - reshape(repeat(X, inner=(size(X ,1),1)), size(X ,1), size(X ,1), 3)\n",
    "\n",
    "    # Calculating Norm on every cell on the aggregate\n",
    "    println(\"Calculating distances on every cell on the aggregate\")\n",
    "    CUDA.@time Dist = sqrt.(i_Cell[:,:,1] .^ 2 + i_Cell[:,:,2] .^ 2 + i_Cell[:,:,3] .^ 2)\n",
    "\n",
    "    # Calculating index of knof each cell in the aggregate\n",
    "    println(\"Calculating index of knn on each cell in the aggregate\")\n",
    "    CUDA.@time for i = 1:14\n",
    "        idx[i,:] = findmin(Dist; dims=1)[2]\n",
    "        Dist[idx[i,:]] .= Inf\n",
    "    end\n",
    "end"
   ]
  },
  {
   "cell_type": "code",
   "execution_count": 215,
   "metadata": {},
   "outputs": [
    {
     "name": "stdout",
     "output_type": "stream",
     "text": [
      "___________________________________ \n",
      "\n",
      "Defining Coordinates of each cell on the aggregates\n",
      "  0.003174 seconds (109 CPU allocations: 5.531 KiB) (3 GPU allocations: 360.406 MiB, 0.55% memmgmt time)\n",
      "Calculating distances on every cell on the aggregate\n",
      "  0.002891 seconds (227 CPU allocations: 10.719 KiB) (9 GPU allocations: 360.406 MiB, 1.02% memmgmt time)\n",
      "Calculating index of knn on each cell in the aggregate\n",
      "  0.010136 seconds (2.35 k CPU allocations: 821.500 KiB) (56 GPU allocations: 2.596 MiB, 1.21% memmgmt time)\n",
      "___________________________________ \n",
      "\n",
      "Defining Coordinates of each cell on the aggregates\n",
      "  0.002998 seconds (110 CPU allocations: 5.594 KiB) (3 GPU allocations: 360.406 MiB, 0.43% memmgmt time)\n",
      "Calculating distances on every cell on the aggregate\n",
      "  0.003476 seconds (226 CPU allocations: 10.422 KiB) (9 GPU allocations: 360.406 MiB, 0.56% memmgmt time)\n",
      "Calculating index of knn on each cell in the aggregate\n",
      "  0.009204 seconds (2.30 k CPU allocations: 818.266 KiB) (56 GPU allocations: 2.596 MiB, 1.14% memmgmt time)\n",
      "___________________________________ \n",
      "\n",
      "Defining Coordinates of each cell on the aggregates\n",
      "  0.011561 seconds (2.46 k CPU allocations: 78.406 KiB, 48.12% gc time) (3 GPU allocations: 360.406 MiB, 85.80% memmgmt time)\n",
      "Calculating distances on every cell on the aggregate\n",
      "  0.002918 seconds (225 CPU allocations: 10.359 KiB) (9 GPU allocations: 360.406 MiB, 1.07% memmgmt time)\n",
      "Calculating index of knn on each cell in the aggregate\n",
      "  0.009571 seconds (2.30 k CPU allocations: 818.562 KiB) (56 GPU allocations: 2.596 MiB, 0.81% memmgmt time)\n",
      "___________________________________ \n",
      "\n",
      "Defining Coordinates of each cell on the aggregates\n",
      "  0.002908 seconds (110 CPU allocations: 5.594 KiB) (3 GPU allocations: 360.406 MiB, 0.44% memmgmt time)\n",
      "Calculating distances on every cell on the aggregate\n",
      "  0.003720 seconds (226 CPU allocations: 10.422 KiB) (9 GPU allocations: 360.406 MiB, 1.17% memmgmt time)\n",
      "Calculating index of knn on each cell in the aggregate\n",
      "  0.009405 seconds (2.25 k CPU allocations: 815.641 KiB) (56 GPU allocations: 2.596 MiB, 1.78% memmgmt time)\n",
      "___________________________________ \n",
      "\n",
      "Defining Coordinates of each cell on the aggregates\n",
      "  0.002930 seconds (110 CPU allocations: 5.594 KiB) (3 GPU allocations: 360.406 MiB, 0.42% memmgmt time)\n",
      "Calculating distances on every cell on the aggregate\n",
      "  0.003427 seconds (227 CPU allocations: 10.719 KiB) (9 GPU allocations: 360.406 MiB, 0.52% memmgmt time)\n",
      "Calculating index of knn on each cell in the aggregate\n",
      "  0.009682 seconds (2.30 k CPU allocations: 818.562 KiB) (56 GPU allocations: 2.596 MiB, 1.05% memmgmt time)\n"
     ]
    }
   ],
   "source": [
    "for i=1:5\n",
    "    println(\"___________________________________ \\n\")\n",
    "    knn_cu()\n",
    "end"
   ]
  }
 ],
 "metadata": {
  "kernelspec": {
   "display_name": "Julia 1.7.3",
   "language": "julia",
   "name": "julia-1.7"
  },
  "language_info": {
   "file_extension": ".jl",
   "mimetype": "application/julia",
   "name": "julia",
   "version": "1.7.3"
  },
  "orig_nbformat": 4,
  "vscode": {
   "interpreter": {
    "hash": "916dbcbb3f70747c44a77c7bcd40155683ae19c65e1c03b4aa3499c5328201f1"
   }
  }
 },
 "nbformat": 4,
 "nbformat_minor": 2
}
