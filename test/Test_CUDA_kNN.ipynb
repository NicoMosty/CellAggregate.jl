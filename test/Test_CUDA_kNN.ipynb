{
 "cells": [
  {
   "cell_type": "markdown",
   "metadata": {},
   "source": [
    "# Installing Dependencies"
   ]
  },
  {
   "cell_type": "code",
   "execution_count": 1,
   "metadata": {},
   "outputs": [],
   "source": [
    "using DelimitedFiles\n",
    "using CUDA"
   ]
  },
  {
   "cell_type": "markdown",
   "metadata": {},
   "source": [
    "# Initial Conditions"
   ]
  },
  {
   "cell_type": "code",
   "execution_count": 2,
   "metadata": {},
   "outputs": [
    {
     "name": "stdout",
     "output_type": "stream",
     "text": [
      "  0.472864 seconds (994.41 k CPU allocations: "
     ]
    },
    {
     "name": "stdout",
     "output_type": "stream",
     "text": [
      "45.484 MiB, 2.16% gc time) (1 GPU allocation: "
     ]
    },
    {
     "name": "stdout",
     "output_type": "stream",
     "text": [
      "37.969 KiB, 11.66% memmgmt time)\n",
      "Inizializate Variables\n",
      "  0.003541 seconds (1.41 k CPU allocations: 80.974 KiB) (1 GPU allocation: 120.135 MiB, 12.95% memmgmt time)\n",
      "  0.000229 seconds (8 CPU allocations: 240 bytes) (1 GPU allocation: 40.045 MiB, 97.68% memmgmt time)\n"
     ]
    },
    {
     "name": "stdout",
     "output_type": "stream",
     "text": [
      "  5.237972 seconds (795.78 k CPU allocations: 44.407 MiB, 0.16% gc time) (1 GPU allocation: 708.750 KiB, 0.00% memmgmt time)\n"
     ]
    },
    {
     "data": {
      "text/plain": [
       "14×3240 CuArray{CartesianIndex{2}, 2, CUDA.Mem.DeviceBuffer}:\n",
       " CartesianIndex(1, 1)   CartesianIndex(1, 1)   …  CartesianIndex(1, 1)\n",
       " CartesianIndex(2, 1)   CartesianIndex(2, 1)      CartesianIndex(2, 1)\n",
       " CartesianIndex(3, 1)   CartesianIndex(3, 1)      CartesianIndex(3, 1)\n",
       " CartesianIndex(4, 1)   CartesianIndex(4, 1)      CartesianIndex(4, 1)\n",
       " CartesianIndex(5, 1)   CartesianIndex(5, 1)      CartesianIndex(5, 1)\n",
       " CartesianIndex(6, 1)   CartesianIndex(6, 1)   …  CartesianIndex(6, 1)\n",
       " CartesianIndex(7, 1)   CartesianIndex(7, 1)      CartesianIndex(7, 1)\n",
       " CartesianIndex(8, 1)   CartesianIndex(8, 1)      CartesianIndex(8, 1)\n",
       " CartesianIndex(9, 1)   CartesianIndex(9, 1)      CartesianIndex(9, 1)\n",
       " CartesianIndex(10, 1)  CartesianIndex(10, 1)     CartesianIndex(10, 1)\n",
       " CartesianIndex(11, 1)  CartesianIndex(11, 1)  …  CartesianIndex(11, 1)\n",
       " CartesianIndex(12, 1)  CartesianIndex(12, 1)     CartesianIndex(12, 1)\n",
       " CartesianIndex(13, 1)  CartesianIndex(13, 1)     CartesianIndex(13, 1)\n",
       " CartesianIndex(14, 1)  CartesianIndex(14, 1)     CartesianIndex(14, 1)"
      ]
     },
     "metadata": {},
     "output_type": "display_data"
    }
   ],
   "source": [
    "function init()\n",
    "    R_Agg = 13\n",
    "    CUDA.@time global X = readdlm(\"../data/Init/Two_Sphere/$R_Agg.csv\", ',', Float32, header=true)[1][:, 1:3] |> cu\n",
    "\n",
    "    # Inizializate Variables\n",
    "    println(\"Inizializate Variables\")\n",
    "    CUDA.@time global i_Cell = CuArray{Float32}(undef, (size(X, 1), size(X, 1), 3))\n",
    "    CUDA.@time global Dist = CuArray{Float32}(undef, (size(X, 1), size(X, 1)))\n",
    "    CUDA.@time global idx = hcat([[CartesianIndex(i,1) for i=1:14] for j=1:size(X,1)]...) |> cu\n",
    "end\n",
    "init()"
   ]
  },
  {
   "cell_type": "markdown",
   "metadata": {},
   "source": [
    "# CUDA kNN"
   ]
  },
  {
   "cell_type": "code",
   "execution_count": 3,
   "metadata": {},
   "outputs": [
    {
     "data": {
      "text/plain": [
       "knn_cu (generic function with 1 method)"
      ]
     },
     "metadata": {},
     "output_type": "display_data"
    }
   ],
   "source": [
    "function knn_cu()\n",
    "\n",
    "    # Definig Variables for calculing knn\n",
    "    global i_Cell; global Dist; \n",
    "    global idx\n",
    "    \n",
    "    # Defining Coordinates of each cell on the aggregates\n",
    "    println(\"Defining Coordinates of each cell on the aggregates\")\n",
    "    CUDA.@time i_Cell = reshape(repeat(X, size(X ,1)), size(X ,1), size(X ,1), 3) - reshape(repeat(X, inner=(size(X ,1),1)), size(X ,1), size(X ,1), 3)\n",
    "\n",
    "    # Calculating Norm on every cell on the aggregate\n",
    "    println(\"Calculating distances on every cell on the aggregate\")\n",
    "    CUDA.@time Dist = sqrt.(i_Cell[:,:,1] .^ 2 + i_Cell[:,:,2] .^ 2 + i_Cell[:,:,3] .^ 2)\n",
    "\n",
    "    # Calculating index of knof each cell in the aggregate\n",
    "    println(\"Calculating index of knn on each cell in the aggregate\")\n",
    "    CUDA.@time for i = 1:14\n",
    "        idx[i,:] = findmin(Dist; dims=1)[2]\n",
    "        Dist[idx[i,:]] .= Inf\n",
    "    end\n",
    "end"
   ]
  },
  {
   "cell_type": "code",
   "execution_count": 5,
   "metadata": {},
   "outputs": [
    {
     "name": "stdout",
     "output_type": "stream",
     "text": [
      "___________________________________ \n",
      "\n",
      "Defining Coordinates of each cell on the aggregates\n",
      "  0.002947 seconds (109 CPU allocations: 5.531 KiB) (3 GPU allocations: 360.406 MiB, 22.64% memmgmt time)\n",
      "Calculating distances on every cell on the aggregate\n",
      "  0.002991 seconds (226 CPU allocations: 10.422 KiB) (9 GPU allocations: 360.406 MiB, 24.29% memmgmt time)\n",
      "Calculating index of knn on each cell in the aggregate\n",
      "  0.009656 seconds (2.30 k CPU allocations: 818.266 KiB) (56 GPU allocations: 2.596 MiB, 1.25% memmgmt time)\n",
      "___________________________________ \n",
      "\n",
      "Defining Coordinates of each cell on the aggregates\n",
      "  0.002925 seconds (110 CPU allocations: 5.594 KiB) (3 GPU allocations: 360.406 MiB, 35.68% memmgmt time)\n",
      "Calculating distances on every cell on the aggregate\n",
      "  0.003537 seconds (226 CPU allocations: 10.422 KiB) (9 GPU allocations: 360.406 MiB, 25.53% memmgmt time)\n",
      "Calculating index of knn on each cell in the aggregate\n",
      "  0.009811 seconds (2.30 k CPU allocations: 818.562 KiB) (56 GPU allocations: 2.596 MiB, 0.83% memmgmt time)\n",
      "___________________________________ \n",
      "\n",
      "Defining Coordinates of each cell on the aggregates\n",
      "  0.002855 seconds (111 CPU allocations: 5.891 KiB) (3 GPU allocations: 360.406 MiB, 29.96% memmgmt time)\n",
      "Calculating distances on every cell on the aggregate\n",
      "  0.003505 seconds (226 CPU allocations: 10.422 KiB) (9 GPU allocations: 360.406 MiB, 31.05% memmgmt time)\n",
      "Calculating index of knn on each cell in the aggregate\n",
      "  0.009398 seconds (2.16 k CPU allocations: 809.500 KiB) (56 GPU allocations: 2.596 MiB, 1.59% memmgmt time)\n",
      "___________________________________ \n",
      "\n",
      "Defining Coordinates of each cell on the aggregates\n",
      "  0.003004 seconds (110 CPU allocations: 5.594 KiB) (3 GPU allocations: 360.406 MiB, 42.89% memmgmt time)\n",
      "Calculating distances on every cell on the aggregate\n",
      "  0.002920 seconds (226 CPU allocations: 10.422 KiB) (9 GPU allocations: 360.406 MiB, 25.89% memmgmt time)\n",
      "Calculating index of knn on each cell in the aggregate\n",
      "  0.010362 seconds (2.30 k CPU allocations: 818.562 KiB) (56 GPU allocations: 2.596 MiB, 1.08% memmgmt time)\n",
      "___________________________________ \n",
      "\n",
      "Defining Coordinates of each cell on the aggregates\n",
      "  0.002979 seconds (110 CPU allocations: 5.594 KiB) (3 GPU allocations: 360.406 MiB, 36.64% memmgmt time)\n",
      "Calculating distances on every cell on the aggregate\n",
      "  0.002990 seconds (226 CPU allocations: 10.422 KiB) (9 GPU allocations: 360.406 MiB, 26.79% memmgmt time)\n",
      "Calculating index of knn on each cell in the aggregate\n"
     ]
    },
    {
     "name": "stdout",
     "output_type": "stream",
     "text": [
      "  0.009289 seconds (2.35 k CPU allocations: 833.672 KiB) (56 GPU allocations: 2.596 MiB, 1.10% memmgmt time)\n"
     ]
    }
   ],
   "source": [
    "for i=1:5\n",
    "    println(\"___________________________________ \\n\")\n",
    "    knn_cu()\n",
    "end"
   ]
  },
  {
   "cell_type": "code",
   "execution_count": 23,
   "metadata": {},
   "outputs": [
    {
     "data": {
      "text/plain": [
       "14×3240×3 CuArray{Float32, 3, CUDA.Mem.DeviceBuffer}:\n",
       "[:, :, 1] =\n",
       " -13.89  -11.89  -16.89  -14.89  -12.89  …  11.89  13.89  15.89  12.89  14.89\n",
       " -14.89  -12.89  -15.89  -13.89  -13.89     10.89  12.89  16.89  11.89  13.89\n",
       " -12.89  -10.89  -14.89  -15.89  -11.89     12.89  14.89  14.89  13.89  15.89\n",
       " -11.89  -13.89  -15.89  -13.89  -13.89     12.89  12.89  14.89  14.89  12.89\n",
       " -13.89  -11.89  -17.89  -16.89  -11.89      9.89  14.89  13.89  12.89  14.89\n",
       " -14.89  -12.89  -16.89  -12.89  -14.89  …  13.89  11.89  16.89  11.89  13.89\n",
       " -12.89  -10.89  -16.89  -15.89  -10.89     10.89  15.89  14.89  13.89  15.89\n",
       " -15.89  -13.89  -14.89  -13.89  -13.89     12.89  12.89  15.89  10.89  16.89\n",
       " -11.89   -9.89  -18.89  -14.89  -11.89     11.89  14.89  15.89  14.89  12.89\n",
       " -13.89  -11.89  -16.89  -14.89  -12.89     11.89  13.89  17.89  12.89  14.89\n",
       " -13.89  -11.89  -16.89  -16.89  -12.89  …   9.89  13.89  13.89  12.89  14.89\n",
       " -13.89  -11.89  -13.89  -12.89  -14.89     13.89  11.89  15.89  12.89  14.89\n",
       " -16.89  -14.89  -13.89  -14.89  -10.89     11.89  15.89  15.89   9.89  11.89\n",
       " -10.89  -13.89  -14.89  -14.89  -12.89     11.89  13.89  12.89  15.89  16.89\n",
       "\n",
       "[:, :, 2] =\n",
       " -4.04  -4.04  -2.31  -2.31  -2.31  -2.31  …   2.31  2.31   2.31  4.04  4.04\n",
       " -2.31  -2.31  -0.58  -4.04  -4.04  -4.04      0.58  0.58   0.58  2.31  2.31\n",
       " -2.31  -2.31  -2.31  -0.58  -4.04  -0.58      0.58  0.58   0.58  2.31  2.31\n",
       " -4.04  -4.04  -2.89  -0.58  -0.58  -0.58      4.04  4.04   4.04  4.04  4.04\n",
       " -2.89  -2.89  -2.89  -2.31  -0.58  -2.31      2.31  4.04   2.31  2.89  2.89\n",
       " -4.62  -4.62  -1.15  -2.31  -2.31  -2.89  …   2.31  2.31   2.89  4.62  4.62\n",
       " -4.62  -4.62  -4.62  -2.89  -2.31  -2.89      2.89  2.31   2.89  4.62  4.62\n",
       " -2.89  -2.89  -1.15  -2.89  -2.89  -1.15      2.89  2.89   1.15  2.89  2.89\n",
       " -2.89  -2.89  -1.15  -1.15  -2.89  -4.62      1.15  2.89   4.62  2.89  2.89\n",
       " -6.35  -6.35  -2.31  -4.62  -1.15  -1.15      4.62  1.15   1.15  6.35  6.35\n",
       " -4.04  -4.04   1.15  -1.15  -4.62  -1.15  …   1.15  4.62   1.15  4.04  4.04\n",
       " -0.58  -0.58  -4.04  -1.15  -1.15  -2.31      1.15  1.15   2.31  0.58  0.58\n",
       " -2.31  -2.31  -0.58  -2.31  -1.15   1.15      2.31  1.15  -1.15  2.31  2.31\n",
       " -2.31  -6.35  -4.62   1.15  -2.31  -4.04     -1.15  2.31   0.58  2.31  6.35\n",
       "\n",
       "[:, :, 3] =\n",
       " -12.25  -12.25  -12.25  -12.25  -12.25  …  12.25  12.25  12.25  12.25  12.25\n",
       " -12.25  -12.25  -12.25  -12.25  -12.25     12.25  12.25  12.25  12.25  12.25\n",
       " -12.25  -12.25  -12.25  -12.25  -12.25     12.25  12.25  12.25  12.25  12.25\n",
       " -12.25  -12.25  -10.61  -12.25  -12.25     12.25  12.25  12.25  12.25  12.25\n",
       " -10.61  -10.61  -10.61  -12.25  -12.25     12.25  12.25  12.25  10.61  10.61\n",
       " -10.61  -10.61  -10.61  -12.25  -12.25  …  12.25  12.25  10.61  10.61  10.61\n",
       " -10.61  -10.61  -10.61  -10.61  -12.25     10.61  12.25  10.61  10.61  10.61\n",
       " -10.61  -10.61  -10.61  -10.61  -10.61     10.61  10.61  10.61  10.61  10.61\n",
       " -10.61  -10.61  -10.61  -10.61  -10.61     10.61  10.61  10.61  10.61  10.61\n",
       " -10.61  -10.61   -8.98  -10.61  -10.61     10.61  10.61  10.61  10.61  10.61\n",
       "  -8.98   -8.98  -12.25  -10.61  -10.61  …  10.61  10.61  10.61   8.98   8.98\n",
       " -12.25  -12.25  -12.25  -10.61  -10.61     10.61  10.61   8.98  12.25  12.25\n",
       " -12.25  -12.25  -12.25   -8.98  -10.61      8.98  10.61  12.25  12.25  12.25\n",
       " -12.25  -10.61  -10.61  -12.25   -8.98     12.25   8.98  12.25  12.25  10.61"
      ]
     },
     "metadata": {},
     "output_type": "display_data"
    }
   ],
   "source": [
    "X[getindex.(idx,1),:]"
   ]
  }
 ],
 "metadata": {
  "kernelspec": {
   "display_name": "Julia 1.7.3",
   "language": "julia",
   "name": "julia-1.7"
  },
  "language_info": {
   "file_extension": ".jl",
   "mimetype": "application/julia",
   "name": "julia",
   "version": "1.7.3"
  },
  "orig_nbformat": 4,
  "vscode": {
   "interpreter": {
    "hash": "916dbcbb3f70747c44a77c7bcd40155683ae19c65e1c03b4aa3499c5328201f1"
   }
  }
 },
 "nbformat": 4,
 "nbformat_minor": 2
}
