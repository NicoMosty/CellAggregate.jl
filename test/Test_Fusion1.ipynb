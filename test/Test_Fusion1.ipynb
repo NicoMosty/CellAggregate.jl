{
 "cells": [
  {
   "cell_type": "markdown",
   "metadata": {},
   "source": [
    "# Adding Dependeces"
   ]
  },
  {
   "cell_type": "code",
   "execution_count": 69,
   "metadata": {},
   "outputs": [
    {
     "data": {
      "text/plain": [
       "knn_cu (generic function with 1 method)"
      ]
     },
     "execution_count": 69,
     "metadata": {},
     "output_type": "execute_result"
    }
   ],
   "source": [
    "using DelimitedFiles\n",
    "using CUDA\n",
    "using ProgressMeter\n",
    "include(\"../init/forces.jl\")\n",
    "include(\"../init/Neighbor_CUDA.jl\")"
   ]
  },
  {
   "cell_type": "markdown",
   "metadata": {},
   "source": [
    "# Initial Parameters"
   ]
  },
  {
   "cell_type": "code",
   "execution_count": 70,
   "metadata": {},
   "outputs": [
    {
     "data": {
      "text/plain": [
       "746×3 CuArray{Float32, 2, CUDA.Mem.DeviceBuffer}:\n",
       " -1.5  -2.89  -8.98\n",
       "  0.5  -2.89  -8.98\n",
       "  2.5  -2.89  -8.98\n",
       " -2.5  -1.15  -8.98\n",
       " -0.5  -1.15  -8.98\n",
       "  1.5  -1.15  -8.98\n",
       "  3.5  -1.15  -8.98\n",
       " -3.5   0.58  -8.98\n",
       " -1.5   0.58  -8.98\n",
       "  0.5   0.58  -8.98\n",
       "  2.5   0.58  -8.98\n",
       " -2.5   2.31  -8.98\n",
       " -0.5   2.31  -8.98\n",
       "  ⋮           \n",
       "  3.5  -2.31   8.98\n",
       " -3.5  -0.58   8.98\n",
       " -1.5  -0.58   8.98\n",
       "  0.5  -0.58   8.98\n",
       "  2.5  -0.58   8.98\n",
       " -2.5   1.15   8.98\n",
       " -0.5   1.15   8.98\n",
       "  1.5   1.15   8.98\n",
       "  3.5   1.15   8.98\n",
       " -1.5   2.89   8.98\n",
       "  0.5   2.89   8.98\n",
       "  2.5   2.89   8.98"
      ]
     },
     "execution_count": 70,
     "metadata": {},
     "output_type": "execute_result"
    }
   ],
   "source": [
    "# Physical Conditions\n",
    "const R_agg = 10\n",
    "const t_f = 10000\n",
    "\n",
    "# Time model Conditions\n",
    "dt = 0.1\n",
    "n_knn = 2\n",
    "\n",
    "# Constants for Force Model\n",
    "r_max, s = 3, 1.9\n",
    "K = 1\n",
    "nn = 16\n",
    "\n",
    "# Initial Coordinates of Aggregates\n",
    "global X = Float32.(readdlm(\"../data/Initial/XYZ/Init/Sphere/$R_agg.xyz\")[3:end,2:end]) |> cu"
   ]
  },
  {
   "cell_type": "code",
   "execution_count": 71,
   "metadata": {},
   "outputs": [
    {
     "name": "stdout",
     "output_type": "stream",
     "text": [
      "  0.038437 seconds (88.25 k allocations: 6.229 MiB, 98.11% compilation time)\n"
     ]
    },
    {
     "data": {
      "text/plain": [
       "Process(`\u001b[4mparaview\u001b[24m \u001b[4mTest_Zero.xyz\u001b[24m`, ProcessExited(0))"
      ]
     },
     "execution_count": 71,
     "metadata": {},
     "output_type": "execute_result"
    }
   ],
   "source": [
    "X = Matrix(X)\n",
    "X_f = zeros(size(X,1))\n",
    "for i in 1:size(X_f,1)\n",
    "    A = sqrt(X[i,1]^2+X[i,2]^2+X[i,3]^2)\n",
    "    if A > 0.8*R_agg\n",
    "        X_f[i] = 1\n",
    "    else\n",
    "        X_f[i] = 2\n",
    "    end\n",
    "end\n",
    "\n",
    "X_f_2 = Int.(vcat(X_f,X_f))"
   ]
  },
  {
   "cell_type": "markdown",
   "metadata": {},
   "source": [
    "# Functions"
   ]
  },
  {
   "cell_type": "code",
   "execution_count": 72,
   "metadata": {},
   "outputs": [
    {
     "data": {
      "text/plain": [
       "init (generic function with 1 method)"
      ]
     },
     "execution_count": 72,
     "metadata": {},
     "output_type": "execute_result"
    }
   ],
   "source": [
    "function init()\n",
    "    # Definig Variables for calculing initial variables\n",
    "    global X\n",
    "\n",
    "    # Inizializate Variables for kNN\n",
    "    global i_Cell = CuArray{Float32}(undef, (size(X, 1), size(X, 1), 3))\n",
    "    global Dist = CuArray{Float32}(undef, (size(X, 1), size(X, 1)))\n",
    "    global idx = hcat([[CartesianIndex(i,1) for i=1:nn] for j=1:size(X,1)]...) |> cu\n",
    "\n",
    "    # Inizializate Variables for Forces\n",
    "    global r = zeros(nn,size(X)[1],3) |> cu\n",
    "    global dist = zeros(nn, size(X)[1]) |> cu\n",
    "    global F = zeros(nn, size(X)[1],3) |> cu\n",
    "    global dX = zeros(size(X)[1],3) |> cu;\n",
    "end"
   ]
  },
  {
   "cell_type": "code",
   "execution_count": 73,
   "metadata": {},
   "outputs": [
    {
     "data": {
      "text/plain": [
       "main (generic function with 1 method)"
      ]
     },
     "execution_count": 73,
     "metadata": {},
     "output_type": "execute_result"
    }
   ],
   "source": [
    "function main(n_knn)\n",
    "    println(\"------------Init()-----------\")\n",
    "    init()\n",
    "\n",
    "    p = Progress(Int(t_f/dt),barlen=25)\n",
    "    for i in 0:Int(t_f/dt)\n",
    "\n",
    "        if mod(i, n_knn) == 0\n",
    "            # Calculating kNN\n",
    "            knn_cu()\n",
    "        end\n",
    "\n",
    "        # Calculating Forces\n",
    "        forces_cu()\n",
    "\n",
    "        global X = X + dX*dt\n",
    "        next!(p)\n",
    "    end\n",
    "end"
   ]
  },
  {
   "cell_type": "code",
   "execution_count": 75,
   "metadata": {},
   "outputs": [],
   "source": [
    "main(n_knn)\n",
    "\n",
    "@time open(\"Test_Zero.xyz\"; write=true) do f\n",
    "    write(f, \"$(size(X, 1))\\n\")\n",
    "    write(f, \"Initial Data ($(R_agg))\\n\")\n",
    "    writedlm(f,hcat(X_f, X), ' ')\n",
    "end\n",
    "\n",
    "X = X |> cu\n",
    "run(`paraview Test_Zero.xyz`)"
   ]
  },
  {
   "cell_type": "markdown",
   "metadata": {},
   "source": [
    "# Fusioning tho Spheres"
   ]
  },
  {
   "cell_type": "code",
   "execution_count": 76,
   "metadata": {},
   "outputs": [
    {
     "data": {
      "text/plain": [
       "747-element CuArray{Float32, 1, CUDA.Mem.DeviceBuffer}:\n",
       "  2.5\n",
       "  9.0\n",
       " 11.0\n",
       " 13.0\n",
       "  8.0\n",
       " 10.0\n",
       " 12.0\n",
       " 14.0\n",
       "  7.0\n",
       "  9.0\n",
       " 11.0\n",
       " 13.0\n",
       "  8.0\n",
       "  ⋮\n",
       " 14.0\n",
       "  7.0\n",
       "  9.0\n",
       " 11.0\n",
       " 13.0\n",
       "  8.0\n",
       " 10.0\n",
       " 12.0\n",
       " 14.0\n",
       "  9.0\n",
       " 11.0\n",
       " 13.0"
      ]
     },
     "execution_count": 76,
     "metadata": {},
     "output_type": "execute_result"
    }
   ],
   "source": [
    "Size = Float32((findmax(X[:,1])[1] - findmin(X[:,1])[1])/2 + 1)\n",
    "X_2 = vcat(X,X) |> cu\n",
    "X_2[1:size(X,1),1] = X_2[1:size(X,1),1] .- (Size)\n",
    "X_2[size(X,1):end,1] = X_2[size(X,1):end,1] .+ Size"
   ]
  },
  {
   "cell_type": "code",
   "execution_count": 77,
   "metadata": {},
   "outputs": [
    {
     "name": "stdout",
     "output_type": "stream",
     "text": [
      "  0.084529 seconds (107.65 k allocations: 7.974 MiB, 62.84% compilation time)\n"
     ]
    },
    {
     "data": {
      "text/plain": [
       "Process(`\u001b[4mparaview\u001b[24m \u001b[4mTest_Initial.xyz\u001b[24m`, ProcessExited(0))"
      ]
     },
     "execution_count": 77,
     "metadata": {},
     "output_type": "execute_result"
    }
   ],
   "source": [
    "@time open(\"Test_Initial.xyz\"; write=true) do f\n",
    "    write(f, \"$(size(X_2, 1))\\n\")\n",
    "    write(f, \"Initial Data ($(R_agg))\\n\")\n",
    "    writedlm(f,hcat(X_f_2, X_2), ' ')\n",
    "end\n",
    "\n",
    "X = X_2 |> cu\n",
    "\n",
    "run(`paraview Test_Initial.xyz`)"
   ]
  },
  {
   "cell_type": "markdown",
   "metadata": {},
   "source": [
    "# Running with Two"
   ]
  },
  {
   "cell_type": "code",
   "execution_count": 78,
   "metadata": {},
   "outputs": [],
   "source": [
    "# main(n_knn)"
   ]
  },
  {
   "cell_type": "markdown",
   "metadata": {},
   "source": [
    "# Storing Data"
   ]
  },
  {
   "cell_type": "code",
   "execution_count": 79,
   "metadata": {},
   "outputs": [],
   "source": [
    "# @time open(\"Test_Final.xyz\"; write=true) do f\n",
    "#     write(f, \"$(size(X, 1))\\n\")\n",
    "#     write(f, \"Initial Data ($(R_agg))\\n\")\n",
    "#     writedlm(f,hcat(X_f, X), ' ')\n",
    "# end"
   ]
  },
  {
   "cell_type": "code",
   "execution_count": 80,
   "metadata": {},
   "outputs": [],
   "source": [
    "# run(`paraview Test_Init.xyz Test_Final.xyz`)"
   ]
  }
 ],
 "metadata": {
  "kernelspec": {
   "display_name": "Julia 1.6.7",
   "language": "julia",
   "name": "julia-1.6"
  },
  "language_info": {
   "file_extension": ".jl",
   "mimetype": "application/julia",
   "name": "julia",
   "version": "1.6.7"
  },
  "orig_nbformat": 4,
  "vscode": {
   "interpreter": {
    "hash": "916dbcbb3f70747c44a77c7bcd40155683ae19c65e1c03b4aa3499c5328201f1"
   }
  }
 },
 "nbformat": 4,
 "nbformat_minor": 2
}
