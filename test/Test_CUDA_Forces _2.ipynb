{
 "cells": [
  {
   "cell_type": "markdown",
   "metadata": {},
   "source": [
    "# Installing Dependencies"
   ]
  },
  {
   "cell_type": "code",
   "execution_count": 3,
   "metadata": {},
   "outputs": [],
   "source": [
    "using DelimitedFiles\n",
    "using NearestNeighbors: KDTree, knn\n",
    "using LinearAlgebra: norm\n",
    "using CUDA\n",
    "using BenchmarkTools: @btime"
   ]
  },
  {
   "cell_type": "markdown",
   "metadata": {},
   "source": [
    "# Using kNN"
   ]
  },
  {
   "cell_type": "code",
   "execution_count": 4,
   "metadata": {},
   "outputs": [
    {
     "name": "stdout",
     "output_type": "stream",
     "text": [
      "  0.002953 seconds (996 allocations: 64.106 KiB, 52.80% compilation time)\n"
     ]
    },
    {
     "data": {
      "text/plain": [
       "NearNeighbor (generic function with 1 method)"
      ]
     },
     "metadata": {},
     "output_type": "display_data"
    }
   ],
   "source": [
    "@time function NearNeighbor(X, t, t_knn)\n",
    "    # Using kNN for Nearest Neighbors\n",
    "    if t%t_knn | t == 0\n",
    "        kdtree = KDTree(X')\n",
    "    end \n",
    "\n",
    "    # Loop over all cells to compute displacements\n",
    "    index, _ = knn(kdtree, X[1,:], 14, true)\n",
    "    for i in 2:size(X)[1]\n",
    "        # Scan neighbours\n",
    "        global idxs, _ = knn(kdtree, X[i,:], 14, true)\n",
    "        index = hcat(index, idxs)\n",
    "\n",
    "    end\n",
    "    return index\n",
    "end"
   ]
  },
  {
   "cell_type": "markdown",
   "metadata": {},
   "source": [
    "# Initial Conditions"
   ]
  },
  {
   "cell_type": "code",
   "execution_count": 354,
   "metadata": {},
   "outputs": [
    {
     "data": {
      "text/plain": [
       "14×6064 Matrix{Int64}:\n",
       "   1    2    3    4    5    6    7  …  6059  6060  6061  6062  6063  6064\n",
       "  25   26   27   40   42   43   44     6024  6025  6026  6038  6039  6040\n",
       "  33   33   35   41   41   42   43     6023  6024  6025  6030  6031  6033\n",
       "  32   34   34    9    9   10   11     6055  6057  6057  6031  6032  6032\n",
       "   2    3    2    8   10   11    6     6056  6056  6060  6063  6064  6063\n",
       "   4    1    6    5    4    5   35  …  6058  6061  6033  6059  6062  6061\n",
       "   5    6    7   32    6    7    3     6060  6059  6064  6058  6060  6060\n",
       "  24    5   26    1   33   34   51     6031  6032  6017  6037  6059  6039\n",
       "  26   25   28   48    2    3   34     6062  6063  6034  6039  6038  6041\n",
       "  41   27   43   33    1    2   36     6063  6064  6032  6023  6040  6025\n",
       " 102   42  104   31   49   50  114  …  6015  6016  5954  5962  6024  5964\n",
       "  20  103   22  111   34   35   52     6030  6033  6018  6045  5963  6047\n",
       "  19   20   21   47   32   33   50     6032  6031  6016  6044  6045  6046\n",
       "  42   21   44   49  112  113   42     5952  5953  6027  6024  6046  6026"
      ]
     },
     "metadata": {},
     "output_type": "display_data"
    }
   ],
   "source": [
    "R_Agg = 16\n",
    "t, t_knn = 0, 10\n",
    "r_max, s = 4, 1\n",
    "K = 1\n",
    "\n",
    "@time X = readdlm(\"../data/Init/Two_Sphere/$R_Agg.csv\", ',', Float64, header=true)[1][:, 1:3]\n",
    "@time idx = NearNeighbor(X, t, t_knn)"
   ]
  },
  {
   "cell_type": "markdown",
   "metadata": {},
   "source": [
    "# CUDA Forces"
   ]
  },
  {
   "cell_type": "markdown",
   "metadata": {},
   "source": [
    "## Define Variables for CUDA"
   ]
  },
  {
   "cell_type": "code",
   "execution_count": 363,
   "metadata": {},
   "outputs": [],
   "source": [
    "@time X_Cu = X |> cu\n",
    "@time dX_Cu = zeros(size(X)[1],3) |> cu\n",
    "@time idx_Cu = idx |> cu\n",
    "@time r = zeros(14,size(X)[1],3) |> cu\n",
    "@time dist = zeros(14, size(X)[1]) |> cu\n",
    "@time F = zeros(14, size(X)[1],3) |> cu;"
   ]
  },
  {
   "cell_type": "markdown",
   "metadata": {},
   "source": [
    "# Joining the Function"
   ]
  },
  {
   "cell_type": "code",
   "execution_count": 251,
   "metadata": {},
   "outputs": [
    {
     "data": {
      "text/plain": [
       "main (generic function with 1 method)"
      ]
     },
     "metadata": {},
     "output_type": "display_data"
    }
   ],
   "source": [
    "function main()\n",
    "    global X_Cu\n",
    "    global dX_Cu\n",
    "    global idx_Cu\n",
    "    global r \n",
    "    global dist\n",
    "\n",
    "    # Finding Distances\n",
    "    println(\"Finding Distances\")\n",
    "    @time r = reshape(repeat(X_Cu, inner=(14,1)), 14, size(X_Cu)[1], 3) - X_Cu[idx_Cu,:]\n",
    "\n",
    "    # Finding Distances/Norm\n",
    "    println(\"Finding Distances/Norm\")\n",
    "    @time dist = (r[:,:,1] .^ 2 + r[:,:,2] .^ 2 + r[:,:,3] .^ 2) .^ (0.5)\n",
    "    @time dist = reshape(repeat((dist), outer=(1,3)) ,14 ,size(X_Cu)[1], 3)\n",
    "\n",
    "    # Deleting Distances greater than R_Max\n",
    "    println(\"Deleting Distances greater than R_Max\")\n",
    "    r[dist .>  r_max] .= 0\n",
    "    \n",
    "    # Normalizationg Distances\n",
    "    println(\"Normalizationg Distances\")\n",
    "    r = r ./ dist\n",
    "\n",
    "    # dX[i,:] +=  r/dist * F\n",
    "    println(\"Calculationg Forces\")\n",
    "    @time F = (-K.*(dist .- r_max).^2) .* (dist .- s) .* r\n",
    "\n",
    "    # Calculating de dX\n",
    "    println(\"Calculationg dX\")\n",
    "    @time dX_Cu[:,1] = sum(F[:,:,1][2:end,:]; dims=1)\n",
    "    @time dX_Cu[:,2] = sum(F[:,:,2][2:end,:]; dims=1)\n",
    "    @time dX_Cu[:,3] = sum(F[:,:,3][2:end,:]; dims=1)\n",
    "\n",
    "    # Euler Step for all Cells\n",
    "    X_Cu = X_Cu + dX_Cu\n",
    "end"
   ]
  },
  {
   "cell_type": "code",
   "execution_count": 366,
   "metadata": {},
   "outputs": [
    {
     "data": {
      "text/plain": [
       "14×6064×3 CuArray{Float64, 3, CUDA.Mem.DeviceBuffer}:\n",
       "[:, :, 1] =\n",
       " NaN        NaN        NaN        …  NaN        NaN        NaN\n",
       "  -0.0       -0.0       -0.0          -0.0       -0.0       -0.0\n",
       "   2.00167   -2.00167    2.00167      -2.00167   -2.00167    2.00167\n",
       "  -2.00167    2.00167   -2.00167       2.00167    2.00167   -2.00167\n",
       "   4.0        4.0       -4.0           4.0        4.0       -4.0\n",
       "  -1.99306   -4.0       -1.99306  …    1.99306   -4.0        1.99306\n",
       "   1.99306    1.99306    1.99306      -1.99306    1.99306   -1.99306\n",
       "  -1.7844    -1.99306   -1.7844       -1.7844    -1.99306   -1.7844\n",
       "   1.7844    -1.7844     1.7844        1.7844    -1.7844     1.7844\n",
       "  -0.0        1.7844    -0.0          -0.0        1.7844    -0.0\n",
       "  -0.0       -0.0       -0.0      …   -0.0       -0.0       -0.0\n",
       "   0.20951   -0.0        0.20951       0.20951   -0.0        0.20951\n",
       "  -0.20951   -0.20951   -0.20951      -0.20951   -0.20951   -0.20951\n",
       "   0.41006    0.20951    0.41006       0.41006    0.20951    0.41006\n",
       "\n",
       "[:, :, 2] =\n",
       " NaN         NaN         NaN         …  NaN         NaN         NaN\n",
       "  -2.3059     -2.3059     -2.3059         2.3059      2.3059      2.3059\n",
       "   1.16097     1.16097     1.16097       -1.16097    -1.16097    -1.16097\n",
       "   1.16097     1.16097     1.16097       -1.16097    -1.16097    -1.16097\n",
       "  -0.0        -0.0        -0.0           -0.0        -0.0        -0.0\n",
       "   3.46793    -0.0         3.46793   …   -3.46793    -0.0        -3.46793\n",
       "   3.46793     3.46793     3.46793       -3.46793    -3.46793    -3.46793\n",
       "  -1.02603     3.46793    -1.02603        1.02603    -3.46793     1.02603\n",
       "  -1.02603    -1.02603    -1.02603        1.02603     1.02603     1.02603\n",
       "   2.05351    -1.02603     2.05351       -2.05351     1.02603    -2.05351\n",
       "  -0.0         2.05351    -0.0       …   -0.0        -2.05351    -0.0\n",
       "  -0.603388   -0.0        -0.603388       0.603388   -0.0         0.603388\n",
       "  -0.603388   -0.603388   -0.603388       0.603388    0.603388    0.603388\n",
       "   0.473619   -0.603388    0.473619      -0.473619    0.603388   -0.473619\n",
       "\n",
       "[:, :, 3] =\n",
       " NaN         NaN         NaN         …  NaN         NaN         NaN\n",
       "   3.26836     3.26836     3.26836       -3.26836    -3.26836    -3.26836\n",
       "   3.26273     3.26273     3.26273       -3.26273    -3.26273    -3.26273\n",
       "   3.26273     3.26273     3.26273       -3.26273    -3.26273    -3.26273\n",
       "  -0.0        -0.0        -0.0           -0.0        -0.0        -0.0\n",
       "  -0.0        -0.0        -0.0       …   -0.0        -0.0        -0.0\n",
       "  -0.0        -0.0        -0.0           -0.0        -0.0        -0.0\n",
       "   1.45429    -0.0         1.45429       -1.45429    -0.0        -1.45429\n",
       "   1.45429     1.45429     1.45429       -1.45429    -1.45429    -1.45429\n",
       "   1.44901     1.45429     1.44901       -1.44901    -1.45429    -1.44901\n",
       "   1.23758     1.44901     1.23758   …   -1.23758    -1.44901    -1.23758\n",
       "   0.341501    1.23758     0.341501      -0.341501   -1.23758    -0.341501\n",
       "   0.341501    0.341501    0.341501      -0.341501   -0.341501   -0.341501\n",
       "   0.334199    0.341501    0.334199      -0.334199   -0.341501   -0.334199"
      ]
     },
     "metadata": {},
     "output_type": "display_data"
    }
   ],
   "source": [
    "F = (-K.*(dist .- r_max).^2) .* (dist .- s) .* r"
   ]
  },
  {
   "cell_type": "code",
   "execution_count": 193,
   "metadata": {},
   "outputs": [
    {
     "name": "stdout",
     "output_type": "stream",
     "text": [
      "Finding Distances\n",
      "  0.000171 seconds (54 allocations: 2.438 KiB)\n",
      "Finding Distances/Norm\n",
      "  0.000191 seconds (176 allocations: 7.422 KiB)\n",
      "Deleting Distances greater than R_Max\n",
      "  0.000390 seconds (276 allocations: 12.609 KiB)\n",
      "  0.000172 seconds (276 allocations: 12.609 KiB)\n",
      "  0.000155 seconds (276 allocations: 12.609 KiB)\n",
      "Calculationg Forces\n",
      "  0.000075 seconds (79 allocations: 7.562 KiB)\n",
      "  0.000018 seconds (22 allocations: 928 bytes)\n",
      "  0.000012 seconds (22 allocations: 928 bytes)\n",
      "  0.000011 seconds (22 allocations: 928 bytes)\n",
      "Calculationg dX\n",
      "  0.000062 seconds (72 allocations: 3.125 KiB)\n",
      "  0.000039 seconds (72 allocations: 3.125 KiB)\n",
      "  0.000038 seconds (72 allocations: 3.125 KiB)\n"
     ]
    },
    {
     "data": {
      "text/plain": [
       "6064×3 CuArray{Float32, 2, CUDA.Mem.DeviceBuffer}:\n",
       "  0.0087109    -7.22115f-5    0.0120923\n",
       " -0.000293967  -0.000382664   0.133869\n",
       " -0.00891659   -8.64309f-5    0.0125406\n",
       " -0.0402018     0.0248049     0.101925\n",
       "  0.0475429     0.0189104     0.060228\n",
       " -0.0451324     0.0214268     0.0590496\n",
       "  0.0861331     0.0550231     0.192301\n",
       " -0.993242     -0.241977      1.71085\n",
       "  0.0914344     0.114845      0.106358\n",
       " -0.0955197     0.110076      0.108197\n",
       "  ⋮                          \n",
       " -0.0957145    -0.110304     -0.108505\n",
       " -0.00817682   -0.00811106    4.5375f-5\n",
       " -0.0400234    -0.0246999    -0.101558\n",
       "  0.047544     -0.018914     -0.0602371\n",
       " -0.0451159    -0.0214247    -0.0590313\n",
       "  0.0864135    -0.0552018    -0.1928\n",
       "  0.00857394    7.05692f-5   -0.0118797\n",
       " -0.000224217   0.000384661  -0.133939\n",
       " -0.00903928    8.85646f-5   -0.0127302"
      ]
     },
     "metadata": {},
     "output_type": "display_data"
    }
   ],
   "source": [
    "main()\n",
    "dX_Cu"
   ]
  }
 ],
 "metadata": {
  "kernelspec": {
   "display_name": "Julia 1.7.3",
   "language": "julia",
   "name": "julia-1.7"
  },
  "language_info": {
   "file_extension": ".jl",
   "mimetype": "application/julia",
   "name": "julia",
   "version": "1.7.3"
  },
  "orig_nbformat": 4,
  "vscode": {
   "interpreter": {
    "hash": "916dbcbb3f70747c44a77c7bcd40155683ae19c65e1c03b4aa3499c5328201f1"
   }
  }
 },
 "nbformat": 4,
 "nbformat_minor": 2
}
