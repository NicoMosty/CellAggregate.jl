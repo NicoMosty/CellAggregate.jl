{
 "cells": [
  {
   "cell_type": "markdown",
   "metadata": {},
   "source": [
    "# Adding Dependeces"
   ]
  },
  {
   "cell_type": "code",
   "execution_count": 76,
   "metadata": {},
   "outputs": [
    {
     "data": {
      "text/plain": [
       "fusion (generic function with 2 methods)"
      ]
     },
     "execution_count": 76,
     "metadata": {},
     "output_type": "execute_result"
    }
   ],
   "source": [
    "include(\"../../src/test.jl\")\n",
    "include(\"../../src/forces.jl\")\n",
    "include(\"../../src/neighbor.jl\")\n",
    "include(\"../../src/run_event.jl\")"
   ]
  },
  {
   "cell_type": "markdown",
   "metadata": {},
   "source": [
    "# Initial Conditions"
   ]
  },
  {
   "cell_type": "code",
   "execution_count": 77,
   "metadata": {},
   "outputs": [
    {
     "data": {
      "text/plain": [
       "ModelParameters"
      ]
     },
     "execution_count": 77,
     "metadata": {},
     "output_type": "execute_result"
    }
   ],
   "source": [
    "Base.@kwdef struct ModelParameters\n",
    "    Force::Dict\n",
    "    Time::Dict\n",
    "    Neighbor::Dict\n",
    "    Geometry::Dict\n",
    "    Coding::Dict\n",
    "end"
   ]
  },
  {
   "cell_type": "code",
   "execution_count": 78,
   "metadata": {},
   "outputs": [],
   "source": [
    "Conditions = ModelParameters(\n",
    "    Force = Dict(\n",
    "        \"μ\"      => 0.00003, \n",
    "        \"r_max\"  => 3.0,\n",
    "        \"r_min\"  => 2.0,\n",
    "        \"f_p\"    => 0.00000001\n",
    "    ),\n",
    "    Time = Dict(\n",
    "        \"T_f\" => 100000,\n",
    "        \"dt\"  => 0.1\n",
    "    ),\n",
    "    Neighbor = Dict(\n",
    "        \"n_knn\" => 50,\n",
    "        \"nn\"    => 12\n",
    "    ),\n",
    "    Geometry = Dict(\n",
    "        \"R_agg\"   => 9,\n",
    "        \"num_agg\" => 2\n",
    "    ),\n",
    "    Coding  = Dict(\n",
    "        \"n_text\" => 200\n",
    "    )\n",
    ");"
   ]
  },
  {
   "cell_type": "code",
   "execution_count": 80,
   "metadata": {},
   "outputs": [
    {
     "data": {
      "text/plain": [
       "run_all (generic function with 1 method)"
      ]
     },
     "execution_count": 80,
     "metadata": {},
     "output_type": "execute_result"
    }
   ],
   "source": [
    "function run_all(parameters)\n",
    "    # Testing all the conditions of the fusion\n",
    "    Iter_Time = parameters.Time[\"T_f\"]\n",
    "    Iter_Forc = [parameters.Force[i] for i in [\"r_max\",\"f_p\",\"μ\"]]\n",
    "    for k in Iterators.product(Iter_Time, Iter_Forc...)\n",
    "        # Initial Data\n",
    "        X = Float32.(readdlm(\"../../data/init/Sphere/$R_agg.xyz\")[3:end,2:end]) |> cu\n",
    "        \n",
    "        # Generating the Path\n",
    "        if parameters.Geometry[\"num_agg\"] == 1\n",
    "            Path = \"../../results/OneAgg/R_Agg($(R_agg))/T_$(k[1])/fp_($(k[3]))/K_($(k[4]))\"\n",
    "        else\n",
    "            Path = \"../../results/TwoAgg/R_Agg($(R_agg))/T_$(k[1])/fp_($(k[3]))/K_($(k[4]))\"\n",
    "        end\n",
    "        File = \"tf_($(k[1]))|s=($r_min)|fp_($(k[3]))|K_($(k[4]))|rmax_$(k[2])|_GPU.xyz\"\n",
    "\n",
    "        for p in 4:8 # p is the position every folder on the path\n",
    "            if !isdir(join(split(Path, \"/\")[1:p],\"/\")) \n",
    "                mkdir(join(split(Path, \"/\")[1:p],\"/\")) \n",
    "            end\n",
    "        end\n",
    "\n",
    "        # if parameters.Geometry[\"num_agg\"] == 1\n",
    "        #     one_aggregate(\n",
    "        #         Path*\"/\"*File,\n",
    "        #         true,\n",
    "        #         parameters.Coding[\"n_text\"],\n",
    "        #         k..., \n",
    "        #         R_agg, \n",
    "        #         n_knn\n",
    "        #         )\n",
    "        # else\n",
    "        #     fusion(Path*\"/\"*File,true,parameters.Coding[\"n_text\"],k[1], k[2], k[3], k[4], R_agg, n_knn)\n",
    "        # end\n",
    "\n",
    "        # # Calculating all above\n",
    "        # println(\"---------------------------------------------------------------\")\n",
    "        # println(\"Calculating T_Final=$(k[1]) | R_Max = $(k[2])) | fp = $(k[3])) | k = $(k[4]) \\n for $(parameters.Geometry[\"num_agg\"]) Aggregate\")\n",
    "        # if File in readdir(Path)\n",
    "        #     if countlines(Path*\"/\"*File) < (2*size(X,1)+2)*(parameters.Coding[\"n_text\"]+1)\n",
    "        #         println(\"Calculated with less data. Recalculating\")\n",
    "        #         rm(Path*\"/\"*File)\n",
    "        #         if parameters.Geometry[\"num_agg\"] == 1\n",
    "        #             one_aggregate(Path*\"/\"*File,true,parameters.Coding[\"n_text\"],k[1], k[2], k[3], k[4], R_agg, n_knn)\n",
    "        #         else\n",
    "        #             fusion(Path*\"/\"*File,parameters.Coding[\"n_text\"],true,k[1], k[2], k[3], k[4], R_agg, n_knn)\n",
    "        #         end\n",
    "        #     else\n",
    "        #         println(\"This is already calculated\")           \n",
    "        #     end\n",
    "        # else\n",
    "        #     if parameters.Geometry[\"num_agg\"] == 1\n",
    "        #         one_aggregate(Path*\"/\"*File,true,parameters.Coding[\"n_text\"],k[1], k[2], k[3], k[4], R_agg, n_knn)\n",
    "        #     else\n",
    "        #         fusion(Path*\"/\"*File,true,parameters.Coding[\"n_text\"],k[1], k[2], k[3], k[4], R_agg, n_knn)\n",
    "        #     end\n",
    "        # end\n",
    "    end\n",
    "end"
   ]
  },
  {
   "cell_type": "code",
   "execution_count": 81,
   "metadata": {},
   "outputs": [
    {
     "name": "stdout",
     "output_type": "stream",
     "text": [
      "Finding Equilibrium in one Aggregate\n"
     ]
    },
    {
     "ename": "LoadError",
     "evalue": "MethodError: no method matching (::Colon)(::Int64, ::typeof(nn))\n\u001b[0mClosest candidates are:\n\u001b[0m  (::Colon)(::T, ::Any, \u001b[91m::T\u001b[39m) where T<:Real at range.jl:41\n\u001b[0m  (::Colon)(::A, ::Any, \u001b[91m::C\u001b[39m) where {A<:Real, C<:Real} at range.jl:10\n\u001b[0m  (::Colon)(::T, ::Any, \u001b[91m::T\u001b[39m) where T at range.jl:40\n\u001b[0m  ...",
     "output_type": "error",
     "traceback": [
      "MethodError: no method matching (::Colon)(::Int64, ::typeof(nn))\n\u001b[0mClosest candidates are:\n\u001b[0m  (::Colon)(::T, ::Any, \u001b[91m::T\u001b[39m) where T<:Real at range.jl:41\n\u001b[0m  (::Colon)(::A, ::Any, \u001b[91m::C\u001b[39m) where {A<:Real, C<:Real} at range.jl:10\n\u001b[0m  (::Colon)(::T, ::Any, \u001b[91m::T\u001b[39m) where T at range.jl:40\n\u001b[0m  ...",
      "",
      "Stacktrace:",
      "  [1] (::var\"#140#143\")(j::Int64)",
      "    @ Main ./none:0",
      "  [2] iterate",
      "    @ ./generator.jl:47 [inlined]",
      "  [3] collect(itr::Base.Generator{UnitRange{Int64}, var\"#140#143\"})",
      "    @ Base ./array.jl:681",
      "  [4] simulate(PATH::String, SAVING::Bool, n_text::Int64, n_knn::Int64, t_f::Float64, r_max::Float64, fp::Float64, K::Float64, R_agg::Int64)",
      "    @ Main ~/Documentos/Maestria-GitHub/CellAggregate.jl/src/run_event.jl:28",
      "  [5] one_aggregate(PATH::String, STORE::Bool, n_text::Int64, t_f::Float64, r_max::Float64, fp::Float64, K::Float64, R_agg::Int64, n_knn::Int64)",
      "    @ Main ~/Documentos/Maestria-GitHub/CellAggregate.jl/src/run_event.jl:100",
      "  [6] fusion(PATH::String, STORE::Bool, n_text::Int64, t_f::Int64, r_max::Float64, fp::Float64, K::Float64, R_agg::Int64, n_knn::Int64)",
      "    @ Main ~/Documentos/Maestria-GitHub/CellAggregate.jl/src/run_event.jl:110",
      "  [7] run_all(Conditions::ModelParameters)",
      "    @ Main ./In[80]:42",
      "  [8] top-level scope",
      "    @ In[81]:1",
      "  [9] eval",
      "    @ ./boot.jl:360 [inlined]",
      " [10] include_string(mapexpr::typeof(REPL.softscope), mod::Module, code::String, filename::String)",
      "    @ Base ./loading.jl:1116"
     ]
    }
   ],
   "source": [
    "run_all(Conditions)"
   ]
  },
  {
   "cell_type": "code",
   "execution_count": null,
   "metadata": {},
   "outputs": [
    {
     "data": {
      "text/plain": [
       "4-element Vector{Float64}:\n",
       " 0.0\n",
       " 0.03\n",
       " 0.06\n",
       " 0.09"
      ]
     },
     "execution_count": 213,
     "metadata": {},
     "output_type": "execute_result"
    }
   ],
   "source": [
    "# f = collect(0.0:0.03:0.1)\n",
    "# ka = collect(0.005:0.006:0.032)\n",
    "# rmex = collect(2.6:0.2:3.0)"
   ]
  }
 ],
 "metadata": {
  "kernelspec": {
   "display_name": "Julia 1.6.7",
   "language": "julia",
   "name": "julia-1.6"
  },
  "language_info": {
   "file_extension": ".jl",
   "mimetype": "application/julia",
   "name": "julia",
   "version": "3.10.6"
  },
  "orig_nbformat": 4,
  "vscode": {
   "interpreter": {
    "hash": "916dbcbb3f70747c44a77c7bcd40155683ae19c65e1c03b4aa3499c5328201f1"
   }
  }
 },
 "nbformat": 4,
 "nbformat_minor": 2
}
