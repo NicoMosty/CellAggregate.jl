{
 "cells": [
  {
   "cell_type": "markdown",
   "metadata": {},
   "source": [
    "# Installing Dependencies"
   ]
  },
  {
   "cell_type": "code",
   "execution_count": 19,
   "metadata": {},
   "outputs": [],
   "source": [
    "using DelimitedFiles\n",
    "using NearestNeighbors: KDTree, knn\n",
    "using LinearAlgebra: norm\n",
    "using CUDA\n",
    "using BenchmarkTools: @btime"
   ]
  },
  {
   "cell_type": "markdown",
   "metadata": {},
   "source": [
    "# Using kNN"
   ]
  },
  {
   "cell_type": "code",
   "execution_count": 20,
   "metadata": {},
   "outputs": [
    {
     "name": "stdout",
     "output_type": "stream",
     "text": [
      "  0.000123 seconds (33 allocations: 2.627 KiB)\n"
     ]
    },
    {
     "data": {
      "text/plain": [
       "force (generic function with 1 method)"
      ]
     },
     "execution_count": 20,
     "metadata": {},
     "output_type": "execute_result"
    }
   ],
   "source": [
    "@time function NearNeighbor(X, t, t_knn, nn)\n",
    "    # Using kNN for Nearest Neighbors\n",
    "    if t%t_knn | t == 0\n",
    "        kdtree = KDTree(X')\n",
    "    end \n",
    "\n",
    "    # Loop over all cells to compute displacements\n",
    "    index, _ = knn(kdtree, X[1,:], nn, true)\n",
    "    for i in 2:size(X)[1]\n",
    "        # Scan neighbours\n",
    "        global idxs, _ = knn(kdtree, X[i,:], nn, true)\n",
    "        index = hcat(index, idxs)\n",
    "\n",
    "    end\n",
    "    return index\n",
    "end\n",
    "\n",
    "function force(X, idxs, r_max, s, K )\n",
    "    # Initialise displacement array\n",
    "    global dX = zeros(Float64, size(X)[1], 3)\n",
    "\n",
    "    for i in 1:size(X)[1]\n",
    "        # Initialise variables\n",
    "        global Xi = X[i,1:3]\n",
    "        for j in idxs[:,i]\n",
    "            if i != j\n",
    "                global r = Xi - X[j,:]\n",
    "                global dist = norm(r)\n",
    "                # Calculate attraction/repulsion force differential here\n",
    "                if dist < r_max\n",
    "                    global F = - K*(dist-r_max)*(dist-r_max)*(dist - s)\n",
    "                    dX[i,:] =  dX[i,:] + r/dist * F\n",
    "                end \n",
    "            end\n",
    "        end\n",
    "    end\n",
    "    return dX\n",
    "end"
   ]
  },
  {
   "cell_type": "markdown",
   "metadata": {},
   "source": [
    "# Initial Conditions"
   ]
  },
  {
   "cell_type": "code",
   "execution_count": 21,
   "metadata": {},
   "outputs": [
    {
     "name": "stdout",
     "output_type": "stream",
     "text": [
      "  0.011175 seconds (12.02 k allocations: 406.750 KiB)\n",
      "  0.148520 seconds (398.42 k allocations: 66.668 MiB, 15.17% gc time, 86.71% compilation time)\n"
     ]
    },
    {
     "data": {
      "text/plain": [
       "20×746 Matrix{Int64}:\n",
       "  1   2   3   4   5   6   7   8   9  10  …  740  741  742  743  744  745  746\n",
       " 23  24  25  35  35  36  38  41  42  44     710  710  712  713  722  723  724\n",
       " 29  29  31  34  36  37  37  42  43  43     709  711  711  712  717  717  719\n",
       " 28  30  30   9  10  11  11  12   4   6     736  737  738  739  716  718  718\n",
       "  2   1   2   8   9  10   6   4  12  13     737  738  739  742  745  746  745\n",
       "  4   3   6   5   4   5  31   9   5   5  …  741  740  743  719  740  744  742\n",
       "  5   5   7  28   6   7   3  34  13  14     716  742  741  746  741  742  743\n",
       " 22   6  26   1  29  30  45  48  10  11     744  717  718  706  721  741  725\n",
       " 24  23  24  42   2   3  32  35   8   9     703  745  745  718  723  722  723\n",
       " 35  25  37  29   1   2  30  33  35  36     717  744  746  720  710  724  712\n",
       " 76  36  78  27  43  44  86  91  49  50  …  715  704  705  664  670  711  672\n",
       " 18  77  21  83  28  31  46  40  34  35     661  718  719  707  727  671  728\n",
       " 19  20  20  41  30  29  44  43  36  37     702  716  717  705  726  727  729\n",
       " 36  19  36  43  84  85  15   5  92  93     704  662  663  735  711  728  713\n",
       " 34  37  38  12  44  45  39  13  16  17     732  703  706  714  709  710  711\n",
       " 30  35  32  33  42  43  36  47  44  42  …  711  705  704  711  715  712  717\n",
       " 27  28  29  36  13  14  10  49  41  45     708  733  734  738  718  716  720\n",
       "  6  31   5  10  34  38  26  28   6   7     738  709  710  725  742  719  741\n",
       "  9   4  11  22  37  35  25  27  14  12     722  712  713  724  737  743  739\n",
       " 68   7  70  23   8   9   2  99  50  15     721  739  737  745  678  740  680"
      ]
     },
     "execution_count": 21,
     "metadata": {},
     "output_type": "execute_result"
    }
   ],
   "source": [
    "R_agg = 10\n",
    "t, t_knn = 0, 10\n",
    "r_max, s = 2.5, 2\n",
    "K = 10\n",
    "\n",
    "nn = 20\n",
    "\n",
    "@time X = Float32.(readdlm(\"../../data/init/Sphere/$R_agg.xyz\")[3:end,2:end]) |> cu\n",
    "@time idx = NearNeighbor(Matrix(X), t, t_knn, nn)"
   ]
  },
  {
   "cell_type": "markdown",
   "metadata": {},
   "source": [
    "# CUDA Forces"
   ]
  },
  {
   "cell_type": "markdown",
   "metadata": {},
   "source": [
    "## Define Variables for CUDA"
   ]
  },
  {
   "cell_type": "code",
   "execution_count": 22,
   "metadata": {},
   "outputs": [
    {
     "name": "stdout",
     "output_type": "stream",
     "text": [
      "  0.000003 seconds\n",
      "  0.000065 seconds (11 allocations: 26.688 KiB)\n",
      "  0.000063 seconds (6 allocations: 192 bytes)\n",
      "  0.000204 seconds (12 allocations: 367.656 KiB)\n",
      "  0.000088 seconds (12 allocations: 122.828 KiB)\n",
      "  0.000092 seconds (12 allocations: 367.656 KiB)\n"
     ]
    }
   ],
   "source": [
    "@time X_Cu = X |> cu\n",
    "@time dX_Cu = zeros(size(X)[1],3) |> cu\n",
    "@time idx_Cu = idx |> cu\n",
    "@time r = zeros(14,size(X)[1],3) |> cu\n",
    "@time dist = zeros(14, size(X)[1]) |> cu\n",
    "@time F = zeros(14, size(X)[1],3) |> cu;"
   ]
  },
  {
   "cell_type": "markdown",
   "metadata": {},
   "source": [
    "## Generating Forces"
   ]
  },
  {
   "cell_type": "code",
   "execution_count": 23,
   "metadata": {},
   "outputs": [
    {
     "name": "stdout",
     "output_type": "stream",
     "text": [
      "Finding Distances\n"
     ]
    },
    {
     "data": {
      "text/plain": [
       "20×746×3 CuArray{Float32, 3, CUDA.Mem.DeviceBuffer}:\n",
       "[:, :, 1] =\n",
       "  0.0   0.0   0.0   0.0   0.0   0.0  …   0.0   0.0   0.0   0.0   0.0   0.0\n",
       "  0.0   0.0   0.0  -1.0   1.0   1.0      1.0  -1.0  -1.0   0.0   0.0   0.0\n",
       " -1.0   1.0  -1.0   1.0  -1.0  -1.0     -1.0   1.0   1.0  -1.0   1.0  -1.0\n",
       "  1.0  -1.0   1.0  -1.0  -1.0  -1.0      1.0   1.0   1.0   1.0  -1.0   1.0\n",
       " -2.0   2.0   2.0   1.0   1.0   1.0     -1.0  -1.0   2.0  -2.0  -2.0   2.0\n",
       "  1.0  -2.0   1.0  -2.0   2.0   2.0  …   2.0  -2.0   0.0   1.0   2.0   1.0\n",
       " -1.0   1.0  -1.0   0.0  -2.0  -2.0     -2.0   2.0   1.0  -1.0  -1.0  -1.0\n",
       "  2.0  -1.0  -2.0  -1.0   0.0   0.0      0.0   0.0   0.0   2.0   1.0  -2.0\n",
       " -2.0   2.0   2.0   0.0  -1.0  -1.0     -1.0   1.0   2.0  -2.0   2.0   2.0\n",
       "  0.0  -2.0   0.0  -2.0   1.0   1.0      1.0  -1.0  -2.0   0.0  -2.0   0.0\n",
       "  0.0   0.0   0.0   2.0   0.0   0.0  …   0.0   0.0   0.0   0.0   0.0   0.0\n",
       "  1.0   0.0  -1.0   0.0   2.0  -2.0     -2.0  -2.0  -2.0  -1.0   0.0   1.0\n",
       " -1.0  -1.0   1.0   2.0  -2.0   2.0      2.0   2.0   2.0   1.0   1.0  -1.0\n",
       " -2.0   1.0   2.0  -2.0   0.0   0.0      0.0   0.0   0.0  -2.0  -1.0  -2.0\n",
       "  2.0  -2.0  -2.0   0.0  -2.0  -2.0      2.0  -2.0  -3.0   2.0   2.0   2.0\n",
       " -3.0   2.0  -3.0   3.0   2.0   2.0  …  -2.0   2.0   3.0   3.0  -2.0   3.0\n",
       "  3.0   3.0   3.0  -3.0   0.0   0.0      0.0   0.0   3.0  -3.0   3.0  -3.0\n",
       " -3.0  -3.0   3.0  -3.0   3.0  -3.0      3.0   3.0  -1.0  -3.0  -3.0   3.0\n",
       "  0.0   3.0   0.0   1.0  -3.0   3.0     -3.0  -3.0   1.0   0.0  -3.0   0.0\n",
       "  1.0  -3.0   1.0  -1.0   3.0   3.0     -3.0   3.0   3.0  -1.0   3.0  -1.0\n",
       "\n",
       "[:, :, 2] =\n",
       "  0.0    0.0    0.0    0.0    0.0   …   0.0    0.0    0.0    0.0    0.0\n",
       "  1.15   1.15   1.15  -0.57  -0.57      0.57   0.57  -1.15  -1.15  -1.15\n",
       " -0.58  -0.58  -0.58  -0.57  -0.57      0.57   0.57   0.58   0.58   0.58\n",
       " -0.58  -0.58  -0.58  -1.73  -1.73      1.73   1.73   0.58   0.58   0.58\n",
       "  0.0    0.0    0.0   -1.73  -1.73      1.73   0.0    0.0    0.0    0.0\n",
       " -1.74   0.0   -1.74   0.0    0.0   …   0.0   -1.16   1.74   0.0    1.74\n",
       " -1.74  -1.74  -1.74   1.16   0.0       0.0   -1.74   1.74   1.74   1.74\n",
       "  1.15  -1.74   1.15   1.74   1.16     -1.16   2.3   -1.15   1.74  -1.15\n",
       "  1.15   1.15   1.15  -2.3    1.74     -1.74  -1.16  -1.15  -1.15  -1.15\n",
       " -2.31   1.15  -2.31   1.16   1.74     -1.74  -1.16   2.31  -1.15   2.31\n",
       "  0.0   -2.31   0.0    1.16  -2.3   …   2.3    0.0    0.0    2.31   0.0\n",
       "  2.88   0.0    2.88   0.0    1.16     -1.16   2.3   -2.88   0.0   -2.88\n",
       "  2.88   2.88   2.88  -2.3    1.16     -1.16   2.3   -2.88  -2.88  -2.88\n",
       " -2.31   2.88  -2.31  -2.3    0.0       0.0    3.46   2.31  -2.88   2.31\n",
       " -2.31  -2.31  -2.31  -3.46  -2.3       2.3    0.57   2.31   2.31   2.31\n",
       " -0.58  -2.31  -0.58  -0.57  -2.3   …   2.3    0.57   0.58   2.31   0.58\n",
       " -0.58  -0.58  -0.58  -0.57  -3.46      3.46   1.73   0.58   0.58   0.58\n",
       " -1.74  -0.58  -1.74  -1.73  -0.57      0.57  -2.89   1.74   0.58   1.74\n",
       " -3.47  -1.74  -3.47   2.89  -0.57      0.57  -2.89   3.47   1.74   3.47\n",
       "  1.73  -1.74   1.73   2.89  -1.73      1.73  -1.74  -1.73   1.74  -1.73\n",
       "\n",
       "[:, :, 3] =\n",
       "  0.0    0.0    0.0    0.0    0.0   …  0.0   0.0   0.0   0.0   0.0   0.0\n",
       " -1.63  -1.63  -1.63  -1.63  -1.63     1.63  1.63  1.63  1.63  1.63  1.63\n",
       " -1.63  -1.63  -1.63  -1.63  -1.63     1.63  1.63  1.63  1.63  1.63  1.63\n",
       " -1.63  -1.63  -1.63   0.0    0.0      0.0   0.0   0.0   1.63  1.63  1.63\n",
       "  0.0    0.0    0.0    0.0    0.0      0.0   0.0   0.0   0.0   0.0   0.0\n",
       "  0.0    0.0    0.0    0.0    0.0   …  0.0   0.0   1.63  0.0   0.0   0.0\n",
       "  0.0    0.0    0.0   -1.63   0.0      0.0   0.0   0.0   0.0   0.0   0.0\n",
       " -1.63   0.0   -1.63   0.0   -1.63     1.63  1.63  1.63  1.63  0.0   1.63\n",
       " -1.63  -1.63  -1.63  -1.63   0.0      0.0   0.0   1.63  1.63  1.63  1.63\n",
       " -1.63  -1.63  -1.63  -1.63   0.0      0.0   0.0   1.63  1.63  1.63  1.63\n",
       " -3.26  -1.63  -3.26  -1.63  -1.63  …  1.63  1.63  3.26  3.26  1.63  3.26\n",
       " -1.63  -3.26  -1.63  -3.26  -1.63     1.63  1.63  1.63  1.63  3.26  1.63\n",
       " -1.63  -1.63  -1.63  -1.63  -1.63     1.63  1.63  1.63  1.63  1.63  1.63\n",
       " -1.63  -1.63  -1.63  -1.63  -3.26     3.26  3.26  0.0   1.63  1.63  1.63\n",
       " -1.63  -1.63  -1.63   0.0   -1.63     1.63  1.63  1.63  1.63  1.63  1.63\n",
       " -1.63  -1.63  -1.63  -1.63  -1.63  …  1.63  1.63  1.63  1.63  1.63  1.63\n",
       " -1.63  -1.63  -1.63  -1.63   0.0      0.0   0.0   0.0   1.63  1.63  1.63\n",
       "  0.0   -1.63   0.0    0.0   -1.63     1.63  1.63  1.63  0.0   1.63  0.0\n",
       "  0.0    0.0    0.0   -1.63  -1.63     1.63  1.63  1.63  0.0   0.0   0.0\n",
       " -3.26   0.0   -3.26  -1.63   0.0      0.0   0.0   0.0   3.26  0.0   3.26"
      ]
     },
     "execution_count": 23,
     "metadata": {},
     "output_type": "execute_result"
    }
   ],
   "source": [
    "# Finding Distances\n",
    "println(\"Finding Distances\")\n",
    "r = reshape(repeat(X, inner=(nn,1)), nn, size(X)[1], 3) - X[getindex.(idx,1),:]"
   ]
  },
  {
   "cell_type": "code",
   "execution_count": 92,
   "metadata": {},
   "outputs": [
    {
     "data": {
      "text/plain": [
       "746×3 CuArray{Float32, 2, CUDA.Mem.DeviceBuffer}:\n",
       "  0.5  -4.04  -7.35\n",
       " -1.5  -4.04  -7.35\n",
       "  0.5  -4.04  -7.35\n",
       " -2.5   1.15  -7.35\n",
       "  0.5  -2.89  -8.98\n",
       "  2.5  -2.89  -8.98\n",
       "  5.5  -2.31  -7.35\n",
       " -1.5  -0.58  -7.35\n",
       " -3.5   0.58  -8.98\n",
       " -1.5   0.58  -8.98\n",
       "  2.5  -0.58  -7.35\n",
       " -2.5   4.62  -7.35\n",
       " -2.5   2.31  -8.98\n",
       "  ⋮           \n",
       "  1.5  -1.15   7.35\n",
       " -1.5   0.58   7.35\n",
       "  0.5  -0.58   8.98\n",
       "  2.5  -0.58   8.98\n",
       "  2.5   0.58   7.35\n",
       " -2.5  -1.15   7.35\n",
       "  0.5   2.89   8.98\n",
       "  0.5   2.89   8.98\n",
       "  1.5   2.31   7.35\n",
       "  0.5   4.04   7.35\n",
       " -1.5   4.04   7.35\n",
       "  0.5   4.04   7.35"
      ]
     },
     "execution_count": 92,
     "metadata": {},
     "output_type": "execute_result"
    },
    {
     "ename": "",
     "evalue": "",
     "output_type": "error",
     "traceback": [
      "\u001b[1;31mEl Kernel se bloqueó al ejecutar código en la celda actual o en una celda anterior. Revise el código de las celdas para identificar una posible causa del error. Haga clic <a href='https://aka.ms/vscodeJupyterKernelCrash'>aquí</a> para obtener más información. Vea el [registro] de Jupyter (command:jupyter.viewOutput) para obtener más detalles."
     ]
    }
   ],
   "source": [
    "X[idx[getindex.(rand(2:nn,size(X,1)) ,1),:][1,:], :]"
   ]
  },
  {
   "cell_type": "code",
   "execution_count": 52,
   "metadata": {},
   "outputs": [
    {
     "name": "stdout",
     "output_type": "stream",
     "text": [
      "  0.000186 seconds (68 allocations: 26.375 KiB)\n"
     ]
    },
    {
     "data": {
      "text/plain": [
       "746×3 CuArray{Float32, 2, CUDA.Mem.DeviceBuffer}:\n",
       " -1.5   0.58  -8.98\n",
       " -1.5  -2.89  -8.98\n",
       "  1.5  -4.62  -5.72\n",
       " -1.5  -2.89  -8.98\n",
       "  2.5  -0.58  -7.35\n",
       "  3.5  -2.31  -7.35\n",
       "  1.5   1.15  -7.35\n",
       " -1.5   0.58  -8.98\n",
       " -1.5   0.58  -5.72\n",
       " -0.5  -1.15  -8.98\n",
       "  0.5   0.58  -8.98\n",
       " -2.5  -1.15  -8.98\n",
       " -3.5   0.58  -8.98\n",
       "  ⋮           \n",
       "  2.5  -4.04   5.72\n",
       " -2.5  -2.31   8.98\n",
       " -2.5   1.15   8.98\n",
       " -1.5  -0.58   8.98\n",
       "  0.5  -2.89   7.35\n",
       " -1.5  -0.58   8.98\n",
       "  2.5  -0.58   8.98\n",
       "  3.5  -1.15   7.35\n",
       "  2.5  -0.58   8.98\n",
       " -0.5   2.31   7.35\n",
       "  1.5   2.31   7.35\n",
       " -0.5   2.31   7.35"
      ]
     },
     "execution_count": 52,
     "metadata": {},
     "output_type": "execute_result"
    }
   ],
   "source": [
    "@time r_p = X[idx[CartesianIndex.(rand(2:nn,size(X,1)),1:size(X,1)')],:] |> cu"
   ]
  },
  {
   "cell_type": "code",
   "execution_count": 8,
   "metadata": {},
   "outputs": [
    {
     "data": {
      "text/plain": [
       "746×1 CuArray{Float64, 2, CUDA.Mem.DeviceBuffer}:\n",
       " 3.4630911091852\n",
       " 3.4630911091852\n",
       " 2.0068882102377086\n",
       " 3.4614734105575717\n",
       " 1.9954444740042827\n",
       " 3.4564285701267115\n",
       " 2.819024380949584\n",
       " 2.00062455915871\n",
       " 2.0\n",
       " 3.4600000769554526\n",
       " 2.8288687892351927\n",
       " 1.9983240496515502\n",
       " 2.0\n",
       " ⋮\n",
       " 3.463076651579395\n",
       " 2.827189422468466\n",
       " 3.2599998102012533\n",
       " 2.827189422468466\n",
       " 1.9982242449567402\n",
       " 2.0\n",
       " 1.9954444740042827\n",
       " 2.00062455915871\n",
       " 3.2599998102012533\n",
       " 3.4680830855663065\n",
       " 1.9948429137603378\n",
       " 3.4631342062615205"
      ]
     },
     "execution_count": 8,
     "metadata": {},
     "output_type": "execute_result"
    }
   ],
   "source": [
    "dist_p = (sum(r_p .^ 2, dims=2).^ 0.5)"
   ]
  },
  {
   "cell_type": "code",
   "execution_count": 9,
   "metadata": {},
   "outputs": [
    {
     "data": {
      "text/plain": [
       "746×3 CuArray{Float64, 2, CUDA.Mem.DeviceBuffer}:\n",
       " -0.577519  -0.667034  -0.470678\n",
       "  0.577519  -0.667034  -0.470678\n",
       " -0.498284  -0.867014   0.0\n",
       "  0.866683  -0.16467   -0.470898\n",
       "  0.501141  -0.285651  -0.81686\n",
       "  0.578632  -0.665427  -0.471585\n",
       "  0.0       -0.815885  -0.578214\n",
       "  0.0        0.579819  -0.814745\n",
       "  1.0        0.0        0.0\n",
       "  0.0       -1.0        0.0\n",
       "  0.706996   0.410058  -0.576202\n",
       " -0.500419  -0.290243  -0.815683\n",
       " -1.0        0.0        0.0\n",
       "  ⋮                    \n",
       "  0.866282   0.499556   0.0\n",
       "  0.0        0.817066   0.576544\n",
       "  0.0        0.0        1.0\n",
       "  0.0        0.817066   0.576544\n",
       " -0.500444  -0.865769   0.0\n",
       " -1.0        0.0        0.0\n",
       "  0.501141   0.285651   0.81686\n",
       "  0.0       -0.579819   0.814745\n",
       "  0.0        0.0        1.0\n",
       " -0.865031   0.501718   0.0\n",
       "  0.0       -0.576486   0.817107\n",
       "  0.866267   0.167478   0.470672"
      ]
     },
     "execution_count": 9,
     "metadata": {},
     "output_type": "execute_result"
    }
   ],
   "source": [
    "r_p ./ dist_p"
   ]
  },
  {
   "cell_type": "code",
   "execution_count": 14,
   "metadata": {},
   "outputs": [
    {
     "name": "stdout",
     "output_type": "stream",
     "text": [
      "Calculationg Forces\n",
      "  0.000222 seconds (106 allocations: 11.750 KiB)\n"
     ]
    },
    {
     "ename": "LoadError",
     "evalue": "BoundsError: attempt to access 20×746×3 CuArray{Float64, 3, CUDA.Mem.DeviceBuffer} at index [CartesianIndex{2}[CartesianIndex(8, 1), CartesianIndex(9, 1), CartesianIndex(10, 1), CartesianIndex(11, 1), CartesianIndex(12, 1), CartesianIndex(13, 1), CartesianIndex(14, 1), CartesianIndex(15, 1), CartesianIndex(16, 1), CartesianIndex(17, 1)  …  CartesianIndex(11, 746), CartesianIndex(12, 746), CartesianIndex(13, 746), CartesianIndex(14, 746), CartesianIndex(15, 746), CartesianIndex(16, 746), CartesianIndex(17, 746), CartesianIndex(18, 746), CartesianIndex(19, 746), CartesianIndex(20, 746)]]",
     "output_type": "error",
     "traceback": [
      "BoundsError: attempt to access 20×746×3 CuArray{Float64, 3, CUDA.Mem.DeviceBuffer} at index [CartesianIndex{2}[CartesianIndex(8, 1), CartesianIndex(9, 1), CartesianIndex(10, 1), CartesianIndex(11, 1), CartesianIndex(12, 1), CartesianIndex(13, 1), CartesianIndex(14, 1), CartesianIndex(15, 1), CartesianIndex(16, 1), CartesianIndex(17, 1)  …  CartesianIndex(11, 746), CartesianIndex(12, 746), CartesianIndex(13, 746), CartesianIndex(14, 746), CartesianIndex(15, 746), CartesianIndex(16, 746), CartesianIndex(17, 746), CartesianIndex(18, 746), CartesianIndex(19, 746), CartesianIndex(20, 746)]]",
      "",
      "Stacktrace:",
      " [1] throw_boundserror(A::CuArray{Float64, 3, CUDA.Mem.DeviceBuffer}, I::Tuple{Vector{CartesianIndex{2}}})",
      "   @ Base ./abstractarray.jl:651",
      " [2] checkbounds",
      "   @ ./abstractarray.jl:616 [inlined]",
      " [3] view",
      "   @ ~/.julia/packages/CUDA/DfvRa/src/array.jl:660 [inlined]",
      " [4] maybeview",
      "   @ ./views.jl:133 [inlined]",
      " [5] dotview(::CuArray{Float64, 3, CUDA.Mem.DeviceBuffer}, ::CuArray{Bool, 2, CUDA.Mem.DeviceBuffer})",
      "   @ Base.Broadcast ./broadcast.jl:1212",
      " [6] top-level scope",
      "   @ In[14]:4",
      " [7] eval",
      "   @ ./boot.jl:360 [inlined]",
      " [8] include_string(mapexpr::typeof(REPL.softscope), mod::Module, code::String, filename::String)",
      "   @ Base ./loading.jl:1116"
     ]
    }
   ],
   "source": [
    "# dX[i,:] +=  r/dist * F\n",
    "println(\"Calculationg Forces\")\n",
    "@time F = -K.*((dist .- r_max).^2) .* (dist .- s) .* r ./ dist\n",
    "F[dist .>  r_max] .= 0"
   ]
  },
  {
   "cell_type": "code",
   "execution_count": 11,
   "metadata": {},
   "outputs": [
    {
     "data": {
      "text/plain": [
       "1×746×3 CuArray{Float64, 3, CUDA.Mem.DeviceBuffer}:\n",
       "[:, :, 1] =\n",
       " 3.54506  -1.77636e-15  -20.2583  11.764  …  20.2583  -1.77636e-15  -3.54506\n",
       "\n",
       "[:, :, 2] =\n",
       " 6.74017  14.2688  6.74017  19.5501  42.3152  …  -6.74017  -14.2688  -6.74017\n",
       "\n",
       "[:, :, 3] =\n",
       " 74.1541  46.9115  74.1541  46.9127  34.0647  …  -74.1541  -46.9115  -74.1541"
      ]
     },
     "execution_count": 11,
     "metadata": {},
     "output_type": "execute_result"
    }
   ],
   "source": [
    "sum(F[2:end,:,:]; dims=1)"
   ]
  },
  {
   "cell_type": "code",
   "execution_count": 15,
   "metadata": {},
   "outputs": [
    {
     "data": {
      "text/plain": [
       "746×3 CuArray{Float64, 2, CUDA.Mem.DeviceBuffer}:\n",
       "   3.54506        6.74017    74.1541\n",
       "  -1.77636e-15   14.2688     46.9115\n",
       " -20.2583         6.74017    74.1541\n",
       "  11.764         19.5501     46.9127\n",
       " -11.7557        42.3152     34.0647\n",
       " -11.7557        42.3152     34.0647\n",
       " -23.6635        12.6511     46.9127\n",
       "  31.8635        14.2121     74.3932\n",
       "  31.3488        26.9379     27.9151\n",
       "  11.7557        24.6648     21.5277\n",
       " -27.4525        11.1449     40.7266\n",
       "  27.4502        -2.20572    40.791\n",
       " -11.7574        -6.65113    27.9789\n",
       "   ⋮                       \n",
       " -34.7473        10.4639   -116.167\n",
       "  31.8635       -14.2121    -74.3932\n",
       "  15.674        -26.9379    -27.9151\n",
       " -11.7557       -24.6648    -21.5277\n",
       " -19.5703       -11.1449    -40.7266\n",
       "  11.764        -19.5501    -46.9127\n",
       "  11.7557       -42.3152    -34.0647\n",
       " -11.7557       -42.3152    -34.0647\n",
       " -23.6635       -12.6511    -46.9127\n",
       "  20.2583        -6.74017   -74.1541\n",
       "  -1.77636e-15  -14.2688    -46.9115\n",
       "  -3.54506       -6.74017   -74.1541"
      ]
     },
     "execution_count": 15,
     "metadata": {},
     "output_type": "execute_result"
    }
   ],
   "source": [
    "dX = sum(F[2:end,:,:]; dims=1)[1,:,:]"
   ]
  },
  {
   "cell_type": "code",
   "execution_count": 18,
   "metadata": {},
   "outputs": [
    {
     "data": {
      "text/plain": [
       "746×3 CuArray{Float64, 2, CUDA.Mem.DeviceBuffer}:\n",
       "   3.54621        6.7415     74.155\n",
       "  -0.00115504    14.2702     46.9125\n",
       " -20.2573         6.7419     74.1541\n",
       "  11.7623        19.5505     46.9137\n",
       " -11.7567        42.3158     34.0664\n",
       " -11.7568        42.3165     34.0657\n",
       " -23.6635        12.6527     46.9139\n",
       "  31.8635        14.2109     74.3948\n",
       "  31.3468        26.9379     27.9151\n",
       "  11.7557        24.6668     21.5277\n",
       " -27.4539        11.1441     40.7278\n",
       "  27.4512        -2.20514    40.7927\n",
       " -11.7554        -6.65113    27.9789\n",
       "   ⋮                       \n",
       " -34.749         10.4629   -116.167\n",
       "  31.8635       -14.2137    -74.3943\n",
       "  15.674        -26.9379    -27.9171\n",
       " -11.7557       -24.6664    -21.5288\n",
       " -19.5693       -11.1432    -40.7266\n",
       "  11.766        -19.5501    -46.9127\n",
       "  11.7547       -42.3158    -34.0664\n",
       " -11.7557       -42.314     -34.0664\n",
       " -23.6635       -12.6511    -46.9147\n",
       "  20.26          -6.74117   -74.1541\n",
       "  -1.77636e-15  -14.2677    -46.9132\n",
       "  -3.54679       -6.7405    -74.155"
      ]
     },
     "execution_count": 18,
     "metadata": {},
     "output_type": "execute_result"
    }
   ],
   "source": [
    "fp = 0.001\n",
    "dX = dX - fp .* (r_p ./ dist_p)"
   ]
  },
  {
   "cell_type": "code",
   "execution_count": null,
   "metadata": {},
   "outputs": [
    {
     "name": "stdout",
     "output_type": "stream",
     "text": [
      "  0.054837 seconds (226.18 k allocations: 10.674 MiB, 9.36% gc time, 78.12% compilation time)\n"
     ]
    },
    {
     "data": {
      "text/plain": [
       "746×3 Matrix{Float64}:\n",
       "  0.0          0.0341817    -0.0176344\n",
       "  0.0          0.0341817    -0.0176344\n",
       "  0.0          0.0341817    -0.0176344\n",
       "  0.00834585  -0.029792     -0.0176773\n",
       "  0.0         -0.0443138    -0.0176773\n",
       "  0.0         -0.0443138    -0.0176773\n",
       " -0.00610839  -0.0259212    -0.0176773\n",
       " -0.00447492  -0.00752866   -0.0176773\n",
       "  0.0         -0.00752866   -0.0176773\n",
       "  0.0         -0.00752866   -0.0176773\n",
       "  0.0         -0.00752866   -0.0176773\n",
       " -0.00223746   0.000519076  -0.00561201\n",
       "  0.0         -0.00335173   -0.00561201\n",
       "  ⋮                         \n",
       "  0.00223746  -0.000519076   0.00561201\n",
       " -0.00447492   0.00752866    0.0176773\n",
       "  0.0          0.00752866    0.0176773\n",
       "  0.0          0.00752866    0.0176773\n",
       "  0.0          0.00752866    0.0176773\n",
       "  0.00834585   0.029792      0.0176773\n",
       "  0.0          0.0443138     0.0176773\n",
       "  0.0          0.0443138     0.0176773\n",
       " -0.00610839   0.0259212     0.0176773\n",
       "  0.0         -0.0341817     0.0176344\n",
       "  0.0         -0.0341817     0.0176344\n",
       "  0.0         -0.0341817     0.0176344"
      ]
     },
     "execution_count": 47,
     "metadata": {},
     "output_type": "execute_result"
    }
   ],
   "source": [
    "# @time force(Matrix(X), Matrix(idx), r_max, s, K )"
   ]
  }
 ],
 "metadata": {
  "kernelspec": {
   "display_name": "Julia 1.6.7",
   "language": "julia",
   "name": "julia-1.6"
  },
  "language_info": {
   "file_extension": ".jl",
   "mimetype": "application/julia",
   "name": "julia",
   "version": "1.6.7"
  },
  "orig_nbformat": 4,
  "vscode": {
   "interpreter": {
    "hash": "916dbcbb3f70747c44a77c7bcd40155683ae19c65e1c03b4aa3499c5328201f1"
   }
  }
 },
 "nbformat": 4,
 "nbformat_minor": 2
}
