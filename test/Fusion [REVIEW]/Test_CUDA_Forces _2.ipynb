{
 "cells": [
  {
   "cell_type": "markdown",
   "metadata": {},
   "source": [
    "# Installing Dependencies"
   ]
  },
  {
   "cell_type": "code",
   "execution_count": 4,
   "metadata": {},
   "outputs": [],
   "source": [
    "using DelimitedFiles\n",
    "using NearestNeighbors: KDTree, knn\n",
    "using CUDA"
   ]
  },
  {
   "cell_type": "markdown",
   "metadata": {},
   "source": [
    "# Using kNN"
   ]
  },
  {
   "cell_type": "code",
   "execution_count": 6,
   "metadata": {},
   "outputs": [
    {
     "name": "stdout",
     "output_type": "stream",
     "text": [
      "  0.000049 seconds (30 allocations: 2.450 KiB)\n"
     ]
    },
    {
     "data": {
      "text/plain": [
       "NearNeighbor (generic function with 1 method)"
      ]
     },
     "metadata": {},
     "output_type": "display_data"
    }
   ],
   "source": [
    "@time function NearNeighbor(X, t, t_knn)\n",
    "    # Using kNN for Nearest Neighbors\n",
    "    if t%t_knn | t == 0\n",
    "        kdtree = KDTree(X')\n",
    "    end \n",
    "\n",
    "    # Loop over all cells to compute displacements\n",
    "    index, _ = knn(kdtree, X[1,:], 14, true)\n",
    "    for i in 2:size(X)[1]\n",
    "        # Scan neighbours\n",
    "        global idxs, _ = knn(kdtree, X[i,:], 14, true)\n",
    "        index = hcat(index, idxs)\n",
    "\n",
    "    end\n",
    "    return index\n",
    "end"
   ]
  },
  {
   "cell_type": "markdown",
   "metadata": {},
   "source": [
    "# Initial Conditions"
   ]
  },
  {
   "cell_type": "code",
   "execution_count": 7,
   "metadata": {},
   "outputs": [
    {
     "name": "stdout",
     "output_type": "stream",
     "text": [
      "  0.453860 seconds (2.09 M allocations: 96.446 MiB, 4.98% gc time, 96.39% compilation time)\n"
     ]
    },
    {
     "name": "stdout",
     "output_type": "stream",
     "text": [
      "  1.009674 seconds (4.73 M allocations: 2.172 GiB, 7.19% gc time, 77.75% compilation time)\n"
     ]
    },
    {
     "data": {
      "text/plain": [
       "14×6064 Matrix{Int64}:\n",
       "   1    2    3    4    5    6    7  …  6059  6060  6061  6062  6063  6064\n",
       "  25   26   27   40   42   43   44     6024  6025  6026  6038  6039  6040\n",
       "  33   33   35   41   41   42   43     6023  6024  6025  6030  6031  6033\n",
       "  32   34   34    9    9   10   11     6055  6057  6057  6031  6032  6032\n",
       "   2    3    2    8   10   11    6     6056  6056  6060  6063  6064  6063\n",
       "   4    1    6    5    4    5   35  …  6058  6061  6033  6059  6062  6061\n",
       "   5    6    7   32    6    7    3     6060  6059  6064  6058  6060  6060\n",
       "  24    5   26    1   33   34   51     6031  6032  6017  6037  6059  6039\n",
       "  26   25   28   48    2    3   34     6062  6063  6034  6039  6038  6041\n",
       "  41   27   43   33    1    2   36     6063  6064  6032  6023  6040  6025\n",
       " 102   42  104   31   49   50  114  …  6015  6016  5954  5962  6024  5964\n",
       "  20  103   22  111   34   35   52     6030  6033  6018  6045  5963  6047\n",
       "  19   20   21   47   32   33   50     6032  6031  6016  6044  6045  6046\n",
       "  42   21   44   49  112  113   42     5952  5953  6027  6024  6046  6026"
      ]
     },
     "metadata": {},
     "output_type": "display_data"
    }
   ],
   "source": [
    "R_Agg = 16\n",
    "t, t_knn = 0, 10\n",
    "r_max, s = 3, 1\n",
    "K = 1\n",
    "\n",
    "@time X = readdlm(\"../data/Init/Two_Sphere/$R_Agg.csv\", ',', Float64, header=true)[1][:, 1:3]\n",
    "@time idx = NearNeighbor(X, t, t_knn)"
   ]
  },
  {
   "cell_type": "markdown",
   "metadata": {},
   "source": [
    "# CUDA Forces"
   ]
  },
  {
   "cell_type": "markdown",
   "metadata": {},
   "source": [
    "## Define Variables for CUDA"
   ]
  },
  {
   "cell_type": "code",
   "execution_count": 8,
   "metadata": {},
   "outputs": [],
   "source": [
    "@time X_Cu = X |> cu\n",
    "@time dX_Cu = zeros(size(X)[1],3) |> cu\n",
    "@time idx_Cu = idx |> cu\n",
    "@time r = zeros(14,size(X)[1],3) |> cu\n",
    "@time dist = zeros(14, size(X)[1]) |> cu\n",
    "@time F = zeros(14, size(X)[1],3) |> cu;"
   ]
  },
  {
   "cell_type": "markdown",
   "metadata": {},
   "source": [
    "# Joining the Function"
   ]
  },
  {
   "cell_type": "code",
   "execution_count": 158,
   "metadata": {},
   "outputs": [
    {
     "data": {
      "text/plain": [
       "main (generic function with 1 method)"
      ]
     },
     "metadata": {},
     "output_type": "display_data"
    }
   ],
   "source": [
    "function main()\n",
    "\n",
    "    # Definig Variables for calculing dX\n",
    "    global X_Cu; global dX_Cu; global idx_Cu\n",
    "\n",
    "    # Finding Distances\n",
    "    println(\"Finding Distances\")\n",
    "    CUDA.@time r = reshape(repeat(X_Cu, inner=(14,1)), 14, size(X_Cu)[1], 3) - X_Cu[idx_Cu,:]\n",
    "\n",
    "    # Finding Distances/Norm\n",
    "    println(\"Finding Distances/Norm\")\n",
    "    CUDA.@time dist = (r[:,:,1] .^ 2 + r[:,:,2] .^ 2 + r[:,:,3] .^ 2) .^ (0.5)\n",
    "    CUDA.@time dist = reshape(repeat((dist), outer=(1,3)) ,14 ,size(X_Cu)[1], 3)\n",
    "    \n",
    "    # Normalizationg Distances\n",
    "    println(\"Normalizationg Distances\")\n",
    "    CUDA.@time r = r ./ dist\n",
    "\n",
    "    # dX[i,:] +=  r/dist * F\n",
    "    println(\"Calculationg Forces\")\n",
    "    CUDA.@time F = -K.*((dist .- r_max).^2) .* (dist .- s) .* r\n",
    "\n",
    "    # Deleting Forces greater than R_Max\n",
    "    println(\"Deleting Forces greater than R_Max\")\n",
    "    CUDA.@time F[dist .>  r_max] .= 0\n",
    "\n",
    "    # Calculating de dX\n",
    "    println(\"Calculationg dX\")\n",
    "    CUDA.@time dX_Cu[:,1] = sum(F[:,:,1][2:end,:]; dims=1)\n",
    "    CUDA.@time dX_Cu[:,2] = sum(F[:,:,2][2:end,:]; dims=1)\n",
    "    CUDA.@time dX_Cu[:,3] = sum(F[:,:,3][2:end,:]; dims=1)\n",
    "\n",
    "    # Euler Step for all Cells\n",
    "    dX_Cu\n",
    "end"
   ]
  },
  {
   "cell_type": "code",
   "execution_count": 156,
   "metadata": {},
   "outputs": [
    {
     "name": "stdout",
     "output_type": "stream",
     "text": [
      "Finding Distances\n",
      "  0.011464 seconds (54 CPU allocations: 2.438 KiB) (3 GPU allocations: 2.915 MiB, 0.42% memmgmt time)\n",
      "Finding Distances/Norm\n",
      "  0.000752 seconds (225 CPU allocations: 10.422 KiB) (9 GPU allocations: 3.239 MiB, 2.10% memmgmt time)\n",
      "  0.000133 seconds (21 CPU allocations: 960 bytes) (1 GPU allocation: 1.943 MiB, 3.23% memmgmt time)\n",
      "Normalizationg Distances\n",
      "  0.000475 seconds (67 CPU allocations: 3.812 KiB) (1 GPU allocation: 1.943 MiB, 0.53% memmgmt time)\n",
      "Calculationg Forces\n",
      "  0.000432 seconds (140 CPU allocations: 12.391 KiB) (1 GPU allocation: 1.943 MiB, 1.07% memmgmt time)\n",
      "Deleting Forces greater than R_Max\n",
      "  0.001237 seconds (318 CPU allocations: 215.562 KiB) (4 GPU allocations: 2.385 MiB, 1.60% memmgmt time)\n",
      "Calculationg dX\n",
      "  0.000089 seconds (73 CPU allocations: 3.188 KiB) (3 GPU allocations: 1.295 MiB, 9.10% memmgmt time)\n",
      "  0.000064 seconds (73 CPU allocations: 3.188 KiB) (3 GPU allocations: 1.295 MiB, 8.89% memmgmt time)\n",
      "  0.000060 seconds (73 CPU allocations: 3.188 KiB) (3 GPU allocations: 1.295 MiB, 8.97% memmgmt time)\n"
     ]
    },
    {
     "data": {
      "text/plain": [
       "6064×3 CuArray{Float32, 2, CUDA.Mem.DeviceBuffer}:\n",
       "  1.0           1.72299      2.55151\n",
       " -1.38778f-17   1.72299      2.55151\n",
       " -1.0           1.72299      2.55151\n",
       "  1.49483       0.872724     2.55154\n",
       "  0.0           0.0117228    2.55154\n",
       "  0.0           0.0117228    2.55154\n",
       " -1.99616       0.00542035   2.55154\n",
       "  2.00266      -0.00490577   2.54855\n",
       "  0.0          -0.00490577   2.54855\n",
       "  0.0          -0.00490577   2.54855\n",
       "  ⋮                         \n",
       "  0.0           0.00490577  -2.54855\n",
       " -1.50133       0.872209    -2.54855\n",
       "  1.49483      -0.872724    -2.55154\n",
       "  0.0          -0.0117228   -2.55154\n",
       "  0.0          -0.0117228   -2.55154\n",
       " -1.99616      -0.00542035  -2.55154\n",
       "  1.0          -1.72299     -2.55151\n",
       " -1.38778f-17  -1.72299     -2.55151\n",
       " -1.0          -1.72299     -2.55151"
      ]
     },
     "metadata": {},
     "output_type": "display_data"
    }
   ],
   "source": [
    "main()"
   ]
  }
 ],
 "metadata": {
  "kernelspec": {
   "display_name": "Julia 1.7.3",
   "language": "julia",
   "name": "julia-1.7"
  },
  "language_info": {
   "file_extension": ".jl",
   "mimetype": "application/julia",
   "name": "julia",
   "version": "1.7.3"
  },
  "orig_nbformat": 4,
  "vscode": {
   "interpreter": {
    "hash": "916dbcbb3f70747c44a77c7bcd40155683ae19c65e1c03b4aa3499c5328201f1"
   }
  }
 },
 "nbformat": 4,
 "nbformat_minor": 2
}
