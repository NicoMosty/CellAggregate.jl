{
 "cells": [
  {
   "cell_type": "markdown",
   "metadata": {},
   "source": [
    "# Installing Dependencies"
   ]
  },
  {
   "cell_type": "code",
   "execution_count": 1,
   "metadata": {},
   "outputs": [],
   "source": [
    "using DelimitedFiles"
   ]
  },
  {
   "cell_type": "markdown",
   "metadata": {},
   "source": [
    "# Use this for vtk calling"
   ]
  },
  {
   "cell_type": "code",
   "execution_count": 9,
   "metadata": {},
   "outputs": [],
   "source": [
    "X = readdlm(\"B.vtk\")[6:end,1:3];"
   ]
  },
  {
   "cell_type": "markdown",
   "metadata": {},
   "source": [
    "# Move to Two_Sphere"
   ]
  },
  {
   "cell_type": "code",
   "execution_count": 22,
   "metadata": {},
   "outputs": [
    {
     "name": "stdout",
     "output_type": "stream",
     "text": [
      "  0.016163 seconds (8.42 k allocations: 437.097 KiB, 98.38% compilation time)\n",
      "  0.000121 seconds (312 allocations: 24.734 KiB)\n",
      "  0.000108 seconds (600 allocations: 45.781 KiB)\n",
      "  0.000083 seconds (1.20 k allocations: 93.625 KiB)\n",
      "  0.000116 seconds (1.92 k allocations: 154.750 KiB)\n",
      "  0.000233 seconds (3.12 k allocations: 242.453 KiB)\n",
      "  0.000430 seconds (4.61 k allocations: 376.828 KiB)\n",
      "  0.000545 seconds (6.51 k allocations: 515.750 KiB)\n",
      "  0.000391 seconds (9.01 k allocations: 696.641 KiB)\n",
      "  0.001127 seconds (11.82 k allocations: 903.609 KiB)\n",
      "  0.000602 seconds (15.37 k allocations: 1.136 MiB)\n"
     ]
    },
    {
     "name": "stdout",
     "output_type": "stream",
     "text": [
      "  0.000756 seconds (19.50 k allocations: 1.432 MiB)\n",
      "  0.001102 seconds (24.47 k allocations: 1.787 MiB)\n",
      "  0.001769 seconds (30.11 k allocations: 2.190 MiB)\n",
      "  0.001481 seconds (36.45 k allocations: 2.644 MiB)\n",
      "  0.001682 seconds (43.75 k allocations: 3.166 MiB)\n"
     ]
    }
   ],
   "source": [
    "for R_agg=2:17\n",
    "    X = readdlm(\"../data/Init/Two_Sphere/$(R_agg).csv\", ',', Float32, header=true)[1][:, 1:3]\n",
    "\n",
    "    @time open(\"VTK/Init/Two_Sphere/$(R_agg).vtk\"; write=true) do f\n",
    "        write(f, \"# vtk DataFile Version 3.0\\n\")\n",
    "        write(f, \"vtk output\\n\")\n",
    "        write(f, \"ASCII\\n\")\n",
    "        write(f, \"DATASET POLYDATA\\n\")\n",
    "        write(f, \"POINTS $(size(X)[1]) float\\n\\n\")\n",
    "        writedlm(f, X)\n",
    "    end\n",
    "end"
   ]
  },
  {
   "cell_type": "markdown",
   "metadata": {},
   "source": [
    "# Move to Sphere"
   ]
  },
  {
   "cell_type": "code",
   "execution_count": 23,
   "metadata": {},
   "outputs": [
    {
     "name": "stdout",
     "output_type": "stream",
     "text": [
      "  0.012706 seconds (8.38 k allocations: 433.706 KiB, 98.62% compilation time)\n",
      "  0.000070 seconds (179 allocations: 13.000 KiB)\n",
      "  0.000051 seconds (324 allocations: 25.469 KiB)\n",
      "  0.000064 seconds (624 allocations: 47.438 KiB)\n",
      "  0.000079 seconds (985 allocations: 77.656 KiB)\n",
      "  0.000131 seconds (1.58 k allocations: 121.406 KiB)\n",
      "  0.000141 seconds (2.33 k allocations: 184.156 KiB)\n",
      "  0.000181 seconds (3.28 k allocations: 253.203 KiB)\n",
      "  0.000245 seconds (4.53 k allocations: 369.703 KiB)\n",
      "  0.000296 seconds (5.93 k allocations: 471.984 KiB)\n",
      "  0.000376 seconds (7.71 k allocations: 601.672 KiB)\n",
      "  0.000436 seconds (9.77 k allocations: 752.172 KiB)\n",
      "  0.000522 seconds (12.26 k allocations: 933.391 KiB)\n",
      "  0.000759 seconds (15.08 k allocations: 1.113 MiB)\n"
     ]
    },
    {
     "name": "stdout",
     "output_type": "stream",
     "text": [
      "  0.000852 seconds (18.25 k allocations: 1.338 MiB)\n",
      "  0.000962 seconds (21.90 k allocations: 1.599 MiB)\n"
     ]
    }
   ],
   "source": [
    "for R_agg=2:17\n",
    "    X = readdlm(\"../data/Init/Sphere/$(R_agg).csv\", ',', Float32, header=true)[1][:, 1:3]\n",
    "\n",
    "    @time open(\"VTK/Init/Sphere/$(R_agg).vtk\"; write=true) do f\n",
    "        write(f, \"# vtk DataFile Version 3.0\\n\")\n",
    "        write(f, \"vtk output\\n\")\n",
    "        write(f, \"ASCII\\n\")\n",
    "        write(f, \"DATASET POLYDATA\\n\")\n",
    "        write(f, \"POINTS $(size(X)[1]) float\\n\\n\")\n",
    "        writedlm(f, X)\n",
    "    end\n",
    "end"
   ]
  }
 ],
 "metadata": {
  "kernelspec": {
   "display_name": "Julia 1.7.3",
   "language": "julia",
   "name": "julia-1.7"
  },
  "language_info": {
   "file_extension": ".jl",
   "mimetype": "application/julia",
   "name": "julia",
   "version": "1.7.3"
  },
  "orig_nbformat": 4,
  "vscode": {
   "interpreter": {
    "hash": "916dbcbb3f70747c44a77c7bcd40155683ae19c65e1c03b4aa3499c5328201f1"
   }
  }
 },
 "nbformat": 4,
 "nbformat_minor": 2
}
